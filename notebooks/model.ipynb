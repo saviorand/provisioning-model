{
 "cells": [
  {
   "cell_type": "code",
   "execution_count": null,
   "outputs": [],
   "source": [
    "import erdantic as erd\n",
    "from model import initial_conditions\n",
    "from model.transformation.commodity_production import CommodityProduction"
   ],
   "metadata": {
    "collapsed": false
   },
   "id": "233b8422078d9008"
  },
  {
   "cell_type": "code",
   "execution_count": null,
   "outputs": [],
   "source": [
    "initial_conditions_diagram = erd.create(initial_conditions.InitialConditions)\n",
    "commodity_production_diagram = erd.create(CommodityProduction)\n",
    "commodity_production_diagram"
   ],
   "metadata": {
    "collapsed": false
   },
   "id": "48e559be81e1132d"
  },
  {
   "cell_type": "code",
   "execution_count": null,
   "outputs": [],
   "source": [],
   "metadata": {
    "collapsed": false
   },
   "id": "b382240df015bf28"
  }
 ],
 "metadata": {
  "kernelspec": {
   "display_name": "Python 3",
   "language": "python",
   "name": "python3"
  },
  "language_info": {
   "codemirror_mode": {
    "name": "ipython",
    "version": 2
   },
   "file_extension": ".py",
   "mimetype": "text/x-python",
   "name": "python",
   "nbconvert_exporter": "python",
   "pygments_lexer": "ipython2",
   "version": "2.7.6"
  }
 },
 "nbformat": 4,
 "nbformat_minor": 5
}
