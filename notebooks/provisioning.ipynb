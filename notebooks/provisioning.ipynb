{
 "cells": [
  {
   "cell_type": "code",
   "execution_count": null,
   "metadata": {},
   "outputs": [],
   "source": [
    "import pandas as pd\n",
    "import numpy as np\n",
    "import seaborn as sns"
   ]
  },
  {
   "cell_type": "markdown",
   "source": [
    "### Load data, set initial configuration"
   ],
   "metadata": {
    "collapsed": false
   }
  },
  {
   "cell_type": "code",
   "execution_count": null,
   "outputs": [],
   "source": [
    "all_in_one = pd.read_csv('../data/all_in_one.csv')"
   ],
   "metadata": {
    "collapsed": false
   }
  },
  {
   "cell_type": "code",
   "execution_count": null,
   "outputs": [],
   "source": [
    "all_in_one_no_id = all_in_one.drop(columns=['Unnamed: 0'])\n",
    "all_in_one_no_id_no_inf = all_in_one_no_id.replace([np.inf, -np.inf], np.nan)\n",
    "all_countries = all_in_one_no_id_no_inf['Country.Name'].unique()\n",
    "all_variables = all_in_one_no_id_no_inf.columns[4:]"
   ],
   "metadata": {
    "collapsed": false
   }
  },
  {
   "cell_type": "markdown",
   "source": [
    "### Apply styles"
   ],
   "metadata": {
    "collapsed": false
   }
  },
  {
   "cell_type": "code",
   "execution_count": null,
   "outputs": [],
   "source": [
    "# Prepare a color palette for all unique countries in the dataset\n",
    "sns.set_theme(style=\"dark\")\n",
    "palette = dict(zip(all_countries, sns.color_palette(\"husl\", len(all_countries))))"
   ],
   "metadata": {
    "collapsed": false
   }
  },
  {
   "cell_type": "markdown",
   "metadata": {},
   "source": [
    "### Create panel data set for each outcome variable"
   ]
  },
  {
   "cell_type": "code",
   "execution_count": null,
   "metadata": {},
   "outputs": [],
   "source": [
    "from functions.create_panel_dataset import remove_cols_with_few_observations, create_outcome_df_with_metadata, \\\n",
    "    remove_outliers_iqr"
   ]
  },
  {
   "cell_type": "markdown",
   "metadata": {},
   "source": [
    "Start with year 1995 where ecirank data is available, end with 2015, the last year for which energy data is available. \n",
    "Only keep observations where energy use data is available.\n",
    "Remove selected columns (selection process?)"
   ]
  },
  {
   "cell_type": "code",
   "execution_count": null,
   "metadata": {},
   "outputs": [],
   "source": [
    "all_in_one_filtered = all_in_one_no_id_no_inf.loc[all_in_one_no_id_no_inf['Year'].between(1995, 2015)]\n",
    "all_in_one_filtered_with_energy_only = all_in_one_filtered[all_in_one_filtered[['energy']].notnull().all(1)]\n",
    "all_in_one_filtered_selected_cols = all_in_one_filtered_with_energy_only.drop(\n",
    "    columns=['netmigration', 'wealth', 'patents', 'concentration', 'selfemployed', 'grosscapital', 'gdppercap',\n",
    "             'gnipercap'])\n",
    "# for cross-sectional filter the data frame by year 2012\n",
    "all_in_one_filtered_selected_cols_2012 = all_in_one_filtered_selected_cols.loc[\n",
    "    all_in_one_filtered_selected_cols['Year'] == 2012]"
   ]
  },
  {
   "cell_type": "markdown",
   "metadata": {},
   "source": [
    "Create separate data frames containing observations with data available for each outcome variable. \n",
    "\n",
    "After subsetting is done, create final data frames and utility variables. \n",
    "\n",
    "Remove columns with few observations."
   ]
  },
  {
   "cell_type": "code",
   "execution_count": null,
   "metadata": {},
   "outputs": [],
   "source": [
    "outcome_variables = ['lifeexpectancy_over_energy', 'nutrition_over_energy', 'education_over_energy',\n",
    "                     'sanitation_over_energy']\n",
    "outcome_dfs_with_metadata = []\n",
    "for outcome in outcome_variables:\n",
    "    outcome_df = all_in_one_filtered_selected_cols.dropna(subset=[outcome])\n",
    "    outcome_df_no_outliers = remove_outliers_iqr(outcome_df)\n",
    "    outcome_df_no_outliers_no_few_obs = remove_cols_with_few_observations(outcome_df_no_outliers)\n",
    "\n",
    "    outcome_df_with_metadata = create_outcome_df_with_metadata(\n",
    "        outcome_df_no_outliers_no_few_obs, outcome, 3, 17\n",
    "    )\n",
    "    outcome_dfs_with_metadata.append(outcome_df_with_metadata)\n",
    "\n",
    "outcome_lifeexp_over_energy, outcome_nutrition_over_energy, outcome_education_over_energy, outcome_sanitation_over_energy = outcome_dfs_with_metadata"
   ]
  },
  {
   "cell_type": "markdown",
   "metadata": {},
   "source": [
    "## Exploratory analysis"
   ]
  },
  {
   "cell_type": "code",
   "execution_count": null,
   "metadata": {},
   "outputs": [],
   "source": [
    "from functions.exploratory_analysis import create_summary_df, plot_summary_variable, plot_outliers, \\\n",
    "    plot_correlation_matrix, \\\n",
    "    plot_histograms"
   ]
  },
  {
   "cell_type": "code",
   "execution_count": null,
   "outputs": [],
   "source": [
    "outcome_lifeexp_over_energy_summary_df = create_summary_df(outcome_lifeexp_over_energy[\"lifeexpectancy_over_energy_df\"],\n",
    "                                                           outcome_lifeexp_over_energy[\n",
    "                                                               \"lifeexpectancy_over_energy_countries\"],\n",
    "                                                           outcome_lifeexp_over_energy[\n",
    "                                                               \"lifeexpectancy_over_energy_variables\"])"
   ],
   "metadata": {
    "collapsed": false
   }
  },
  {
   "cell_type": "code",
   "execution_count": null,
   "metadata": {},
   "outputs": [],
   "source": [
    "plot_summary_variable(outcome_lifeexp_over_energy_summary_df, 'observations')\n",
    "# plot_summary_variable(all_lifeexp_over_energy_summary_df, 'num_countries')\n",
    "# plot_summary_variable(all_lifeexp_over_energy_summary_df, 'num_years')"
   ]
  },
  {
   "cell_type": "markdown",
   "metadata": {},
   "source": [
    "## Cross-validation: Best subset, Lasso, PCA"
   ]
  },
  {
   "cell_type": "code",
   "execution_count": null,
   "metadata": {},
   "outputs": [],
   "source": [
    "from sklearn.linear_model import Lasso\n",
    "from sklearn.impute import KNNImputer\n",
    "# from sklearn.feature_selection import SelectFromModel\n",
    "from sklearn.decomposition import PCA\n",
    "from sklearn.pipeline import Pipeline\n",
    "from sklearn.preprocessing import StandardScaler\n",
    "from abess import LinearRegression\n",
    "from functions.cross_validation import panel_cross_validation, plot_cross_validation_results"
   ]
  },
  {
   "cell_type": "code",
   "execution_count": null,
   "metadata": {},
   "outputs": [],
   "source": [
    "# Initialize the models\n",
    "best_subset_model = LinearRegression()\n",
    "lasso_model = Lasso(max_iter=10000)\n",
    "pca_model = PCA()\n",
    "\n",
    "# Combine these into a list\n",
    "models = [best_subset_model, lasso_model, pca_model]\n",
    "model_names = ['Best Subset', 'Lasso', 'PCA']"
   ]
  },
  {
   "cell_type": "code",
   "execution_count": null,
   "metadata": {},
   "outputs": [],
   "source": [
    "lifeexp_model, lifeexp_cv_results = panel_cross_validation(models, model_names,\n",
    "                                                           indicators_lifeexp_over_energy_with_energy_no_outliers,\n",
    "                                                           outcome_lifeexp_over_energy)"
   ]
  },
  {
   "cell_type": "markdown",
   "metadata": {},
   "source": [
    "### Anaylzing cross-validation results"
   ]
  },
  {
   "cell_type": "code",
   "execution_count": null,
   "metadata": {},
   "outputs": [],
   "source": [
    "from functions.cross_validation import filter_and_find_best_model"
   ]
  },
  {
   "cell_type": "code",
   "execution_count": null,
   "metadata": {},
   "outputs": [],
   "source": [
    "# plot_model_results(lifeexp_cv_results)\n",
    "# best_model_no_zero_coef = filter_and_find_best_model(lifeexp_cv_results)\n",
    "# print(best_model_no_zero_coef)"
   ]
  },
  {
   "cell_type": "markdown",
   "metadata": {},
   "source": [
    "### Best model?\n",
    "Lasso with alpha 0.59 and n_splits 5. \n",
    "! Lasso with alpha 1 has better MSE but all coefficients are 0."
   ]
  },
  {
   "cell_type": "markdown",
   "metadata": {},
   "source": [
    "Try removing \"selfemployed\" column because it's collinear with \"wageworker\" and \"concentration\" as an outlier"
   ]
  },
  {
   "cell_type": "code",
   "execution_count": null,
   "metadata": {},
   "outputs": [],
   "source": [
    "lifeexp_lasso = Pipeline([('imputer', KNNImputer(n_neighbors=5)), ('scaler', StandardScaler()),\n",
    "                          ('model', Lasso(max_iter=10000, alpha=0.59))])\n",
    "\n",
    "lifeexp_lasso.fit(indicators_lifeexp_over_energy_with_energy_no_outliers, outcome_lifeexp_over_energy)\n",
    "lifeexp_lasso_coef = lifeexp_lasso.named_steps['model'].coef_\n",
    "\n",
    "important_features = []\n",
    "for i, coef in enumerate(lifeexp_lasso_coef):\n",
    "    if\n",
    "coef != 0:\n",
    "important_features.append((i, coef))\n",
    "\n",
    "print(\"Important features:\", important_features)\n",
    "print(lifeexp_lasso.named_steps['model'].intercept_)\n",
    "indicators_lifeexp_over_energy_important = indicators_lifeexp_over_energy_with_energy_no_outliers.iloc[:,\n",
    "                                           [i for i, coef in important_features]]\n",
    "indicators_lifeexp_over_energy_important_2012 = indicators_lifeexp_over_energy_with_energy_2012_no_outliers.iloc[:,\n",
    "                                                [i for i, coef in important_features]]\n",
    "print(len(indicators_lifeexp_over_energy_important.columns), len(indicators_lifeexp_over_energy.columns))"
   ]
  },
  {
   "cell_type": "markdown",
   "metadata": {},
   "source": [
    "## Panel regression with cross-validation"
   ]
  },
  {
   "cell_type": "code",
   "execution_count": null,
   "metadata": {},
   "outputs": [],
   "source": [
    "# simple linear regression\n",
    "from sklearn.linear_model import LinearRegression\n",
    "\n",
    "lifeexp_lasso_linear = Pipeline([('imputer', KNNImputer(n_neighbors=5)), ('model', LinearRegression())])\n",
    "lifeexp_lasso_linear.fit(indicators_lifeexp_over_energy_important, outcome_lifeexp_over_energy)\n",
    "lifeexp_lasso_linear_coef = lifeexp_lasso_linear.named_steps['model'].coef_\n",
    "print(\"Linear regression coefficients:\", lifeexp_lasso_linear_coef)\n",
    "print(\"Adjusted r squared\",\n",
    "      lifeexp_lasso_linear.score(indicators_lifeexp_over_energy_important, outcome_lifeexp_over_energy))"
   ]
  },
  {
   "cell_type": "code",
   "execution_count": null,
   "metadata": {},
   "outputs": [],
   "source": [
    "# try the same regression only for year 2012\n",
    "lifeexp_lasso_linear_2012 = Pipeline([('imputer', KNNImputer(n_neighbors=5)), ('model', LinearRegression())])\n",
    "lifeexp_lasso_linear_2012.fit(indicators_lifeexp_over_energy_important_2012, outcome_lifeexp_over_energy_2012)\n",
    "lifeexp_lasso_linear_coef_2012 = lifeexp_lasso_linear_2012.named_steps['model'].coef_\n",
    "print(\"Linear regression coefficients:\", lifeexp_lasso_linear_coef_2012)\n",
    "print(\"Adjusted r squared\",\n",
    "      lifeexp_lasso_linear_2012.score(indicators_lifeexp_over_energy_important_2012, outcome_lifeexp_over_energy_2012))"
   ]
  },
  {
   "cell_type": "code",
   "execution_count": null,
   "metadata": {},
   "outputs": [],
   "source": [
    "from matplotlib import pyplot as plt\n",
    "\n",
    "# Extract the feature names from your DataFrame (change this line if your feature names are stored differently)\n",
    "indicators_lifeexp_over_energy_names = indicators_lifeexp_over_energy_important.columns\n",
    "\n",
    "# Create a list of (coefficient, feature_name) tuples and sort them based on the coefficients\n",
    "indicators_lifeexp_over_energy_names_sorted = sorted(\n",
    "    zip(lifeexp_lasso_linear_coef, indicators_lifeexp_over_energy_names))\n",
    "\n",
    "# Separate the tuples into two lists\n",
    "lifeexp_lasso_coef_sorted, lifeexp_over_energy_names_sorted = zip(*indicators_lifeexp_over_energy_names_sorted)\n",
    "\n",
    "# Create a bar plot\n",
    "plt.figure(figsize=(10, 8))\n",
    "plt.barh(range(len(lifeexp_lasso_coef_sorted)), lifeexp_lasso_coef_sorted, align='center')\n",
    "plt.yticks(range(len(lifeexp_lasso_coef_sorted)), lifeexp_over_energy_names_sorted)\n",
    "plt.xlabel('Coefficient Value')\n",
    "plt.ylabel('Feature Names')\n",
    "plt.title('Feature Importances')\n",
    "plt.show()"
   ]
  }
 ],
 "metadata": {
  "kernelspec": {
   "display_name": "Python 3",
   "language": "python",
   "name": "python3"
  },
  "language_info": {
   "codemirror_mode": {
    "name": "ipython",
    "version": 3
   },
   "file_extension": ".py",
   "mimetype": "text/x-python",
   "name": "python",
   "nbconvert_exporter": "python",
   "pygments_lexer": "ipython3",
   "version": "3.11.3"
  },
  "orig_nbformat": 4
 },
 "nbformat": 4,
 "nbformat_minor": 2
}
