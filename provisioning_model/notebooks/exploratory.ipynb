{
 "cells": [
  {
   "cell_type": "code",
   "execution_count": 408,
   "outputs": [],
   "source": [
    "import pandas as pd\n",
    "import numpy as np\n",
    "from matplotlib import pyplot as plt\n",
    "from matplotlib import gridspec\n",
    "import matplotlib.patches as patches"
   ],
   "metadata": {
    "collapsed": false,
    "ExecuteTime": {
     "end_time": "2023-11-18T10:46:16.015977Z",
     "start_time": "2023-11-18T10:46:15.964502Z"
    }
   },
   "id": "a92d9925d82b22db"
  },
  {
   "cell_type": "code",
   "execution_count": 409,
   "outputs": [],
   "source": [
    "from provisioning_model.functions.resource_flow import get_country_data, draw_arrow"
   ],
   "metadata": {
    "collapsed": false,
    "ExecuteTime": {
     "end_time": "2023-11-18T10:46:16.020597Z",
     "start_time": "2023-11-18T10:46:15.967571Z"
    }
   },
   "id": "fb59067a1a22f03c"
  },
  {
   "cell_type": "code",
   "execution_count": 410,
   "outputs": [],
   "source": [
    "all_in_one = pd.read_csv('../data/all_in_one.csv', index_col=0)\n",
    "all_in_one_no_inf = all_in_one.replace([np.inf, -np.inf], np.nan)\n",
    "wdi_outcomes = pd.read_csv('../data/wdi_outcomes.csv')\n",
    "wdi_outcomes_no_inf = wdi_outcomes.replace([np.inf, -np.inf], np.nan)\n",
    "wdi_realms = pd.read_csv('../data/wdi_realms.csv')\n",
    "wdi_realms_no_inf = wdi_realms.replace([np.inf, -np.inf], np.nan)\n",
    "un_mat_flows = pd.read_csv(\"../data/un_mat_flows.csv\")"
   ],
   "metadata": {
    "collapsed": false,
    "ExecuteTime": {
     "end_time": "2023-11-18T10:46:16.078415Z",
     "start_time": "2023-11-18T10:46:15.974832Z"
    }
   },
   "id": "f215cbbd92cbe24"
  },
  {
   "cell_type": "markdown",
   "source": [
    "## Prepare data"
   ],
   "metadata": {
    "collapsed": false
   },
   "id": "63087382e9b869af"
  },
  {
   "cell_type": "code",
   "execution_count": 411,
   "outputs": [],
   "source": [
    "# Arrays to define the structure (update as needed)\n",
    "all_x_coords = [[0.125, 0.375, 0.625, 0.875], [0.125, 0.375, 0.625, 0.875], [0.25, 0.5, 0.75],\n",
    "                [0.125, 0.375, 0.625, 0.875],\n",
    "                [0.125, 0.375, 0.625, 0.875]\n",
    "                ]\n",
    "side_y_coords = [0.2, 0.5, 0.8]  # Vertical positions for circles in the side subplot\n",
    "all_x_axis_ticks = [['Worker', 'Capital', 'Energy', 'Resource'], ['State', 'Market', 'Household', 'Commons'],\n",
    "                    ['Agriculture', 'Industry', 'Services'], ['Core', 'Foundational', 'Overlooked', 'Competitive'],\n",
    "                    ['Accumulation', 'Needs', 'HDI', 'Waste']\n",
    "                    ]\n",
    "all_y_axis_ticks = [['extraction'], ['realms'], ['industry'], ['foundational'], ['dissipation']]\n",
    "all_side_ticks = ['Ineq', 'Voice', 'Gender']"
   ],
   "metadata": {
    "collapsed": false,
    "ExecuteTime": {
     "end_time": "2023-11-18T10:46:16.082469Z",
     "start_time": "2023-11-18T10:46:16.080808Z"
    }
   },
   "id": "89ae947192b6deeb"
  },
  {
   "cell_type": "code",
   "execution_count": 412,
   "outputs": [],
   "source": [
    "def get_data_by_year(country, year):\n",
    "    result = get_country_data(all_in_one_no_inf, wdi_outcomes_no_inf, wdi_realms_no_inf, un_mat_flows, country, year)\n",
    "    return result.values()"
   ],
   "metadata": {
    "collapsed": false,
    "ExecuteTime": {
     "end_time": "2023-11-18T10:46:16.086281Z",
     "start_time": "2023-11-18T10:46:16.083440Z"
    }
   },
   "id": "d12bb6549972053d"
  },
  {
   "cell_type": "code",
   "execution_count": 413,
   "outputs": [
    {
     "data": {
      "text/plain": "dict_values([-0.6921296640890301, 0.14446673990198503, 0.8101800797845345, 0.1482818164916889, 0.041099766842131416, 1.3652388297876723, -0.571696342452766, -2.05286362054632, 0.908606199711027, 1.2323618623528552, 0.928790784029867, 0.39198798465638984, 0.2589860734901562, -0.3344324302518402, 0.35740579806337175, 1.3092302185618463])"
     },
     "execution_count": 413,
     "metadata": {},
     "output_type": "execute_result"
    }
   ],
   "source": [
    "get_data_by_year(\"Canada\", 2015)"
   ],
   "metadata": {
    "collapsed": false,
    "ExecuteTime": {
     "end_time": "2023-11-18T10:46:16.097845Z",
     "start_time": "2023-11-18T10:46:16.086363Z"
    }
   },
   "id": "e67920b0cb2aee5e"
  },
  {
   "cell_type": "markdown",
   "source": [
    "## Prepare plot"
   ],
   "metadata": {
    "collapsed": false
   },
   "id": "11b5fedb1bacd2c8"
  },
  {
   "cell_type": "code",
   "execution_count": 414,
   "outputs": [],
   "source": [
    "color_transformations = {\n",
    "    (0, 0): lambda color: 'green' if color == 'red' else 'red',  # Reverse color for the first circle in the first axis\n",
    "    (0, 2): lambda color: 'green' if color == 'red' else 'red',\n",
    "    (4, 3): lambda color: 'green' if color == 'red' else 'red',\n",
    "    # (2, 2): lambda color: 'blue'  # Change to blue for the third circle in the third axis\n",
    "    # Add more transformations as needed\n",
    "}\n",
    "side_color_transformations = {\n",
    "    0: lambda color: 'green' if color == 'red' else 'red',\n",
    "    1: lambda color: 'green' if color == 'red' else 'red',\n",
    "}"
   ],
   "metadata": {
    "collapsed": false,
    "ExecuteTime": {
     "end_time": "2023-11-18T10:46:16.125016Z",
     "start_time": "2023-11-18T10:46:16.098706Z"
    }
   },
   "id": "4b46d4a0af647587"
  },
  {
   "cell_type": "code",
   "execution_count": 415,
   "outputs": [],
   "source": [
    "def init_plot():\n",
    "    # Create a figure with a defined gridspec\n",
    "    fig = plt.figure(figsize=(14, 9))\n",
    "    gs = gridspec.GridSpec(3, 2, width_ratios=[3, 1], height_ratios=[1, 2, 1])\n",
    "\n",
    "    # Creating the first and the third main subplot\n",
    "    ax1 = plt.subplot(gs[0, 0])\n",
    "    ax2 = plt.subplot(gs[2, 0])\n",
    "\n",
    "    # Creating a nested gridspec for the second main subplot\n",
    "    gs_nested = gridspec.GridSpecFromSubplotSpec(1, 3, subplot_spec=gs[1, 0])\n",
    "\n",
    "    # Creating the three smaller subplots within the second main subplot\n",
    "    ax3 = plt.subplot(gs_nested[0])\n",
    "    ax4 = plt.subplot(gs_nested[1])\n",
    "    ax5 = plt.subplot(gs_nested[2])\n",
    "\n",
    "    # Adjust the spacing of the subplots\n",
    "\n",
    "    # Creating the additional subplot in the second column\n",
    "    ax_side = plt.subplot(gs[:, 1])  # Spanning all rows\n",
    "\n",
    "    all_axes = [ax1, ax3, ax4, ax5, ax2]  # Reordered to match the structure\n",
    "\n",
    "    return fig, all_axes, ax_side"
   ],
   "metadata": {
    "collapsed": false,
    "ExecuteTime": {
     "end_time": "2023-11-18T10:46:16.131921Z",
     "start_time": "2023-11-18T10:46:16.103863Z"
    }
   },
   "id": "b09b800717272b9a"
  },
  {
   "cell_type": "markdown",
   "source": [
    "## Draw the plot"
   ],
   "metadata": {
    "collapsed": false
   },
   "id": "38bbe500c6770242"
  },
  {
   "cell_type": "code",
   "execution_count": 416,
   "outputs": [],
   "source": [
    "def calculate_circle_properties(size):\n",
    "    \"\"\" Calculate color, alpha, and radius based on the size. \"\"\"\n",
    "    color = 'red' if size < 0 else 'green'\n",
    "    if np.isnan(size):\n",
    "        color = 'grey'\n",
    "        alpha = 0.2\n",
    "        radius = 0.02\n",
    "    else:\n",
    "        alpha = min(max(abs(size) / 5, 0.4), 1.0)\n",
    "        radius = abs(size) / 15\n",
    "    return color, alpha, radius\n",
    "\n",
    "\n",
    "def set_axis_properties(ax, xcoords, xaxisticks, yaxisticks):\n",
    "    \"\"\" Set properties for main axes. \"\"\"\n",
    "    ax.set_ylim(0.3, 0.7)\n",
    "    ax.set_aspect('equal', 'box')\n",
    "    ax.set_xticks(xcoords)\n",
    "    ax.set_xticklabels(xaxisticks)\n",
    "    ax.set_yticks([0.5])\n",
    "    ax.set_yticklabels(yaxisticks)\n",
    "\n",
    "\n",
    "def set_side_axis_properties(axside, sideycoords, allsideticks):\n",
    "    \"\"\" Set properties for the side axis. \"\"\"\n",
    "    axside.set_xlim(0.3, 0.7)\n",
    "    axside.set_aspect('equal', 'box')\n",
    "    axside.set_xticks([0.5])\n",
    "    axside.set_xticklabels(['Decision-Making'])\n",
    "    axside.set_yticks(sideycoords)\n",
    "    axside.set_yticklabels(allsideticks)"
   ],
   "metadata": {
    "collapsed": false,
    "ExecuteTime": {
     "end_time": "2023-11-18T10:46:16.132349Z",
     "start_time": "2023-11-18T10:46:16.109216Z"
    }
   },
   "id": "108c8c62175a174e"
  },
  {
   "cell_type": "code",
   "execution_count": 417,
   "outputs": [],
   "source": [
    "def draw_plot(country, year_number, all_axes, ax_side):\n",
    "    # Clear current data from all axes\n",
    "    # for ax in all_axes:\n",
    "    #     ax.clear()\n",
    "    # ax_side.clear()\n",
    "\n",
    "    data_values = get_data_by_year(country, year_number)\n",
    "    if not data_values:\n",
    "        print(\"No data available for the specified country and year.\")\n",
    "        return\n",
    "\n",
    "    # Unpacking the data\n",
    "    (agriculture, industry, services, grosscapital, unemployed, wealth, gini, voice,\n",
    "     femaleminister, lifeexpectancy, education, govconsum, marketcap, houseconsum,\n",
    "     energy, mfootprint) = data_values\n",
    "\n",
    "    all_sizes = [[unemployed, wealth, energy, 0.1], [govconsum, marketcap, houseconsum, 0.1],\n",
    "                 [agriculture, industry, services],\n",
    "                 [0.1, 0.1, 0.1, 0.1],\n",
    "                 [grosscapital, lifeexpectancy, education, mfootprint]]\n",
    "    side_sizes = [gini, voice, femaleminister]\n",
    "\n",
    "    # Drawing circles in main axes\n",
    "    for ax_index, ax in enumerate(all_axes):\n",
    "        for circle_index, (x, size) in enumerate(zip(all_x_coords[ax_index], all_sizes[ax_index])):\n",
    "            color, alpha, radius = calculate_circle_properties(size)\n",
    "            circle = plt.Circle((x, 0.5), radius=radius, color=color, alpha=alpha)\n",
    "            ax.add_patch(circle)\n",
    "            set_axis_properties(ax, all_x_coords[ax_index], all_x_axis_ticks[ax_index], all_y_axis_ticks[ax_index])\n",
    "\n",
    "    # Drawing circles in side axis\n",
    "    for circle_index, (y, size) in enumerate(zip(side_y_coords, side_sizes)):\n",
    "        color, alpha, radius = calculate_circle_properties(size)\n",
    "        circle = plt.Circle((0.5, y), radius=radius, color=color, alpha=alpha)\n",
    "        ax_side.add_patch(circle)\n",
    "\n",
    "    draw_arrow(all_axes[0], 0.5, all_axes[2], 0.5, linewidth=1, y1=0.3, y2=0.7)\n",
    "    draw_arrow(all_axes[0], 0.5, all_axes[3], 0, linewidth=1, y1=0.3, y2=0.7, connectionstyle=\"arc3,rad=0.05\")\n",
    "    draw_arrow(all_axes[0], 0.5, all_axes[1], 1, linewidth=1, y1=0.3, y2=0.7, connectionstyle=\"arc3,rad=-0.05\")\n",
    "\n",
    "    draw_arrow(all_axes[1], 1, all_axes[4], 0.5, linewidth=1, y1=0.3, y2=0.7, connectionstyle=\"arc3,rad=-0.1\")\n",
    "    draw_arrow(all_axes[3], 0, all_axes[4], 0.5, linewidth=1, y1=0.3, y2=0.7, connectionstyle=\"arc3,rad=0.1\")\n",
    "    draw_arrow(all_axes[2], 0.5, all_axes[4], 0.5, linewidth=1, y1=0.3, y2=0.7)\n",
    "\n",
    "    set_side_axis_properties(ax_side, side_y_coords, all_side_ticks)"
   ],
   "metadata": {
    "collapsed": false,
    "ExecuteTime": {
     "end_time": "2023-11-18T10:46:16.132484Z",
     "start_time": "2023-11-18T10:46:16.116706Z"
    }
   },
   "id": "e314cd4105d30d69"
  },
  {
   "cell_type": "code",
   "execution_count": 418,
   "outputs": [
    {
     "data": {
      "text/plain": "<Figure size 1400x900 with 6 Axes>",
      "image/png": "[encoded data removed]"
     },
     "metadata": {},
     "output_type": "display_data"
    }
   ],
   "source": [
    "fig, all_axes, ax_side = init_plot()\n",
    "draw_plot(\"Canada\", 2015, all_axes, ax_side)\n",
    "plt.show()  # Call plt.show() after setting up the plot"
   ],
   "metadata": {
    "collapsed": false,
    "ExecuteTime": {
     "end_time": "2023-11-18T10:46:16.301201Z",
     "start_time": "2023-11-18T10:46:16.128221Z"
    }
   },
   "id": "2b41ce77e68696c2"
  },
  {
   "cell_type": "markdown",
   "source": [
    "## Try with Plotly"
   ],
   "metadata": {
    "collapsed": false
   },
   "id": "187a69a90f4ca509"
  },
  {
   "cell_type": "code",
   "execution_count": 419,
   "outputs": [],
   "source": [
    "import plotly.graph_objs as go\n",
    "from plotly.subplots import make_subplots\n",
    "\n",
    "\n",
    "def calculate_circle_properties(size):\n",
    "    color = 'red' if size < 0 else 'green'\n",
    "    if size is None or np.isnan(size):\n",
    "        color = 'grey'\n",
    "        alpha = 0.2\n",
    "        radius = 0.02\n",
    "    else:\n",
    "        alpha = min(max(abs(size) / 5, 0.4), 1.0)\n",
    "        radius = abs(size) / 15\n",
    "    return color, alpha, radius\n",
    "\n",
    "\n",
    "def determine_plotly_row_col(ax_index):\n",
    "    if ax_index == 0:\n",
    "        return 1, 2  # First subplot in the first column\n",
    "    elif 1 <= ax_index <= 3:\n",
    "        return 2, ax_index  # Second row, columns 1, 2, and 3 of the first column\n",
    "    elif ax_index == 4:\n",
    "        return 3, 2  # Third row, first column\n",
    "    else:\n",
    "        return 1, 4  # Spanning subplot in the second column\n",
    "\n",
    "\n",
    "def set_axis_properties(fig, row, col, xcoords, xaxisticks, yaxisticks):\n",
    "    # Update axes properties only if the subplot exists\n",
    "    if col == 1 or col == 2 or col == 3:\n",
    "        fig.update_yaxes(range=[0.3, 0.7], row=row, col=col)\n",
    "        fig.update_xaxes(tickvals=xcoords, ticktext=xaxisticks, row=row, col=col)\n",
    "        fig.update_yaxes(tickvals=[0.5], ticktext=yaxisticks, row=row, col=col)\n",
    "\n",
    "\n",
    "def set_side_axis_properties(fig, row, col, sideycoords, allsideticks):\n",
    "    # Update side axis properties only for the first row in the second column\n",
    "    if col == 4 and row == 1:\n",
    "        fig.update_xaxes(range=[0.3, 0.7], tickvals=[0.5], ticktext=['Decision-Making'], row=row, col=col)\n",
    "        fig.update_yaxes(tickvals=sideycoords, ticktext=allsideticks, row=row, col=col)"
   ],
   "metadata": {
    "collapsed": false,
    "ExecuteTime": {
     "end_time": "2023-11-18T10:46:16.308054Z",
     "start_time": "2023-11-18T10:46:16.306561Z"
    }
   },
   "id": "ee13967ac8abf840"
  },
  {
   "cell_type": "code",
   "execution_count": 420,
   "outputs": [
    {
     "data": {
      "application/vnd.plotly.v1+json": {
       "data": [
        {
         "marker": {
          "color": "green",
          "opacity": 0.4,
          "size": 4.993167003532953
         },
         "mode": "markers",
         "x": [
          0.125
         ],
         "y": [
          0.5
         ],
         "type": "scatter",
         "xaxis": "x",
         "yaxis": "y"
        },
        {
         "marker": {
          "color": "green",
          "opacity": 0.4,
          "size": 23.82041547937066
         },
         "mode": "markers",
         "x": [
          0.375
         ],
         "y": [
          0.5
         ],
         "type": "scatter",
         "xaxis": "x",
         "yaxis": "y"
        },
        {
         "marker": {
          "color": "green",
          "opacity": 0.4,
          "size": 9.248462292331691
         },
         "mode": "markers",
         "x": [
          0.625
         ],
         "y": [
          0.5
         ],
         "type": "scatter",
         "xaxis": "x",
         "yaxis": "y"
        },
        {
         "marker": {
          "color": "green",
          "opacity": 0.4,
          "size": 2.3333333333333335
         },
         "mode": "markers",
         "x": [
          0.875
         ],
         "y": [
          0.5
         ],
         "type": "scatter",
         "xaxis": "x",
         "yaxis": "y"
        },
        {
         "marker": {
          "color": "green",
          "opacity": 0.4,
          "size": 10.740545555383028
         },
         "mode": "markers",
         "x": [
          0.125
         ],
         "y": [
          0.5
         ],
         "type": "scatter",
         "xaxis": "x3",
         "yaxis": "y3"
        },
        {
         "marker": {
          "color": "green",
          "opacity": 0.4,
          "size": 11.666700535544477
         },
         "mode": "markers",
         "x": [
          0.375
         ],
         "y": [
          0.5
         ],
         "type": "scatter",
         "xaxis": "x3",
         "yaxis": "y3"
        },
        {
         "marker": {
          "color": "red",
          "opacity": 0.4,
          "size": 8.85168198105662
         },
         "mode": "markers",
         "x": [
          0.625
         ],
         "y": [
          0.5
         ],
         "type": "scatter",
         "xaxis": "x3",
         "yaxis": "y3"
        },
        {
         "marker": {
          "color": "green",
          "opacity": 0.4,
          "size": 2.3333333333333335
         },
         "mode": "markers",
         "x": [
          0.875
         ],
         "y": [
          0.5
         ],
         "type": "scatter",
         "xaxis": "x3",
         "yaxis": "y3"
        },
        {
         "marker": {
          "color": "red",
          "opacity": 0.4,
          "size": 19.863812097024404
         },
         "mode": "markers",
         "x": [
          0.25
         ],
         "y": [
          0.5
         ],
         "type": "scatter",
         "xaxis": "x4",
         "yaxis": "y4"
        },
        {
         "marker": {
          "color": "green",
          "opacity": 0.4,
          "size": 7.029033583485987
         },
         "mode": "markers",
         "x": [
          0.5
         ],
         "y": [
          0.5
         ],
         "type": "scatter",
         "xaxis": "x4",
         "yaxis": "y4"
        },
        {
         "marker": {
          "color": "green",
          "opacity": 0.4,
          "size": 17.048355682511247
         },
         "mode": "markers",
         "x": [
          0.75
         ],
         "y": [
          0.5
         ],
         "type": "scatter",
         "xaxis": "x4",
         "yaxis": "y4"
        },
        {
         "marker": {
          "color": "green",
          "opacity": 0.4,
          "size": 2.3333333333333335
         },
         "mode": "markers",
         "x": [
          0.125
         ],
         "y": [
          0.5
         ],
         "type": "scatter",
         "xaxis": "x5",
         "yaxis": "y5"
        },
        {
         "marker": {
          "color": "green",
          "opacity": 0.4,
          "size": 2.3333333333333335
         },
         "mode": "markers",
         "x": [
          0.375
         ],
         "y": [
          0.5
         ],
         "type": "scatter",
         "xaxis": "x5",
         "yaxis": "y5"
        },
        {
         "marker": {
          "color": "green",
          "opacity": 0.4,
          "size": 2.3333333333333335
         },
         "mode": "markers",
         "x": [
          0.625
         ],
         "y": [
          0.5
         ],
         "type": "scatter",
         "xaxis": "x5",
         "yaxis": "y5"
        },
        {
         "marker": {
          "color": "green",
          "opacity": 0.4,
          "size": 2.3333333333333335
         },
         "mode": "markers",
         "x": [
          0.875
         ],
         "y": [
          0.5
         ],
         "type": "scatter",
         "xaxis": "x5",
         "yaxis": "y5"
        },
        {
         "marker": {
          "color": "green",
          "opacity": 0.4,
          "size": 2.533024125683532
         },
         "mode": "markers",
         "x": [
          0.125
         ],
         "y": [
          0.5
         ],
         "type": "scatter",
         "xaxis": "x6",
         "yaxis": "y6"
        },
        {
         "marker": {
          "color": "green",
          "opacity": 0.4,
          "size": 27.338017998830647
         },
         "mode": "markers",
         "x": [
          0.375
         ],
         "y": [
          0.5
         ],
         "type": "scatter",
         "xaxis": "x6",
         "yaxis": "y6"
        },
        {
         "marker": {
          "color": "green",
          "opacity": 0.4,
          "size": 13.710155639106137
         },
         "mode": "markers",
         "x": [
          0.625
         ],
         "y": [
          0.5
         ],
         "type": "scatter",
         "xaxis": "x6",
         "yaxis": "y6"
        },
        {
         "marker": {
          "color": "green",
          "opacity": 0.4,
          "size": 30.707653281211318
         },
         "mode": "markers",
         "x": [
          0.875
         ],
         "y": [
          0.5
         ],
         "type": "scatter",
         "xaxis": "x6",
         "yaxis": "y6"
        },
        {
         "marker": {
          "color": "red",
          "opacity": 0.4,
          "size": 13.532908589461616
         },
         "mode": "markers",
         "x": [
          0.5
         ],
         "y": [
          0.2
         ],
         "type": "scatter",
         "xaxis": "x2",
         "yaxis": "y2"
        },
        {
         "marker": {
          "color": "red",
          "opacity": 0.4,
          "size": 39.39351622988501
         },
         "mode": "markers",
         "x": [
          0.5
         ],
         "y": [
          0.5
         ],
         "type": "scatter",
         "xaxis": "x2",
         "yaxis": "y2"
        },
        {
         "marker": {
          "color": "green",
          "opacity": 0.4,
          "size": 19.971932553112847
         },
         "mode": "markers",
         "x": [
          0.5
         ],
         "y": [
          0.8
         ],
         "type": "scatter",
         "xaxis": "x2",
         "yaxis": "y2"
        }
       ],
       "layout": {
        "template": {
         "data": {
          "histogram2dcontour": [
           {
            "type": "histogram2dcontour",
            "colorbar": {
             "outlinewidth": 0,
             "ticks": ""
            },
            "colorscale": [
             [
              0.0,
              "#0d0887"
             ],
             [
              0.1111111111111111,
              "#46039f"
             ],
             [
              0.2222222222222222,
              "#7201a8"
             ],
             [
              0.3333333333333333,
              "#9c179e"
             ],
             [
              0.4444444444444444,
              "#bd3786"
             ],
             [
              0.5555555555555556,
              "#d8576b"
             ],
             [
              0.6666666666666666,
              "#ed7953"
             ],
             [
              0.7777777777777778,
              "#fb9f3a"
             ],
             [
              0.8888888888888888,
              "#fdca26"
             ],
             [
              1.0,
              "#f0f921"
             ]
            ]
           }
          ],
          "choropleth": [
           {
            "type": "choropleth",
            "colorbar": {
             "outlinewidth": 0,
             "ticks": ""
            }
           }
          ],
          "histogram2d": [
           {
            "type": "histogram2d",
            "colorbar": {
             "outlinewidth": 0,
             "ticks": ""
            },
            "colorscale": [
             [
              0.0,
              "#0d0887"
             ],
             [
              0.1111111111111111,
              "#46039f"
             ],
             [
              0.2222222222222222,
              "#7201a8"
             ],
             [
              0.3333333333333333,
              "#9c179e"
             ],
             [
              0.4444444444444444,
              "#bd3786"
             ],
             [
              0.5555555555555556,
              "#d8576b"
             ],
             [
              0.6666666666666666,
              "#ed7953"
             ],
             [
              0.7777777777777778,
              "#fb9f3a"
             ],
             [
              0.8888888888888888,
              "#fdca26"
             ],
             [
              1.0,
              "#f0f921"
             ]
            ]
           }
          ],
          "heatmap": [
           {
            "type": "heatmap",
            "colorbar": {
             "outlinewidth": 0,
             "ticks": ""
            },
            "colorscale": [
             [
              0.0,
              "#0d0887"
             ],
             [
              0.1111111111111111,
              "#46039f"
             ],
             [
              0.2222222222222222,
              "#7201a8"
             ],
             [
              0.3333333333333333,
              "#9c179e"
             ],
             [
              0.4444444444444444,
              "#bd3786"
             ],
             [
              0.5555555555555556,
              "#d8576b"
             ],
             [
              0.6666666666666666,
              "#ed7953"
             ],
             [
              0.7777777777777778,
              "#fb9f3a"
             ],
             [
              0.8888888888888888,
              "#fdca26"
             ],
             [
              1.0,
              "#f0f921"
             ]
            ]
           }
          ],
          "heatmapgl": [
           {
            "type": "heatmapgl",
            "colorbar": {
             "outlinewidth": 0,
             "ticks": ""
            },
            "colorscale": [
             [
              0.0,
              "#0d0887"
             ],
             [
              0.1111111111111111,
              "#46039f"
             ],
             [
              0.2222222222222222,
              "#7201a8"
             ],
             [
              0.3333333333333333,
              "#9c179e"
             ],
             [
              0.4444444444444444,
              "#bd3786"
             ],
             [
              0.5555555555555556,
              "#d8576b"
             ],
             [
              0.6666666666666666,
              "#ed7953"
             ],
             [
              0.7777777777777778,
              "#fb9f3a"
             ],
             [
              0.8888888888888888,
              "#fdca26"
             ],
             [
              1.0,
              "#f0f921"
             ]
            ]
           }
          ],
          "contourcarpet": [
           {
            "type": "contourcarpet",
            "colorbar": {
             "outlinewidth": 0,
             "ticks": ""
            }
           }
          ],
          "contour": [
           {
            "type": "contour",
            "colorbar": {
             "outlinewidth": 0,
             "ticks": ""
            },
            "colorscale": [
             [
              0.0,
              "#0d0887"
             ],
             [
              0.1111111111111111,
              "#46039f"
             ],
             [
              0.2222222222222222,
              "#7201a8"
             ],
             [
              0.3333333333333333,
              "#9c179e"
             ],
             [
              0.4444444444444444,
              "#bd3786"
             ],
             [
              0.5555555555555556,
              "#d8576b"
             ],
             [
              0.6666666666666666,
              "#ed7953"
             ],
             [
              0.7777777777777778,
              "#fb9f3a"
             ],
             [
              0.8888888888888888,
              "#fdca26"
             ],
             [
              1.0,
              "#f0f921"
             ]
            ]
           }
          ],
          "surface": [
           {
            "type": "surface",
            "colorbar": {
             "outlinewidth": 0,
             "ticks": ""
            },
            "colorscale": [
             [
              0.0,
              "#0d0887"
             ],
             [
              0.1111111111111111,
              "#46039f"
             ],
             [
              0.2222222222222222,
              "#7201a8"
             ],
             [
              0.3333333333333333,
              "#9c179e"
             ],
             [
              0.4444444444444444,
              "#bd3786"
             ],
             [
              0.5555555555555556,
              "#d8576b"
             ],
             [
              0.6666666666666666,
              "#ed7953"
             ],
             [
              0.7777777777777778,
              "#fb9f3a"
             ],
             [
              0.8888888888888888,
              "#fdca26"
             ],
             [
              1.0,
              "#f0f921"
             ]
            ]
           }
          ],
          "mesh3d": [
           {
            "type": "mesh3d",
            "colorbar": {
             "outlinewidth": 0,
             "ticks": ""
            }
           }
          ],
          "scatter": [
           {
            "fillpattern": {
             "fillmode": "overlay",
             "size": 10,
             "solidity": 0.2
            },
            "type": "scatter"
           }
          ],
          "parcoords": [
           {
            "type": "parcoords",
            "line": {
             "colorbar": {
              "outlinewidth": 0,
              "ticks": ""
             }
            }
           }
          ],
          "scatterpolargl": [
           {
            "type": "scatterpolargl",
            "marker": {
             "colorbar": {
              "outlinewidth": 0,
              "ticks": ""
             }
            }
           }
          ],
          "bar": [
           {
            "error_x": {
             "color": "#2a3f5f"
            },
            "error_y": {
             "color": "#2a3f5f"
            },
            "marker": {
             "line": {
              "color": "#E5ECF6",
              "width": 0.5
             },
             "pattern": {
              "fillmode": "overlay",
              "size": 10,
              "solidity": 0.2
             }
            },
            "type": "bar"
           }
          ],
          "scattergeo": [
           {
            "type": "scattergeo",
            "marker": {
             "colorbar": {
              "outlinewidth": 0,
              "ticks": ""
             }
            }
           }
          ],
          "scatterpolar": [
           {
            "type": "scatterpolar",
            "marker": {
             "colorbar": {
              "outlinewidth": 0,
              "ticks": ""
             }
            }
           }
          ],
          "histogram": [
           {
            "marker": {
             "pattern": {
              "fillmode": "overlay",
              "size": 10,
              "solidity": 0.2
             }
            },
            "type": "histogram"
           }
          ],
          "scattergl": [
           {
            "type": "scattergl",
            "marker": {
             "colorbar": {
              "outlinewidth": 0,
              "ticks": ""
             }
            }
           }
          ],
          "scatter3d": [
           {
            "type": "scatter3d",
            "line": {
             "colorbar": {
              "outlinewidth": 0,
              "ticks": ""
             }
            },
            "marker": {
             "colorbar": {
              "outlinewidth": 0,
              "ticks": ""
             }
            }
           }
          ],
          "scattermapbox": [
           {
            "type": "scattermapbox",
            "marker": {
             "colorbar": {
              "outlinewidth": 0,
              "ticks": ""
             }
            }
           }
          ],
          "scatterternary": [
           {
            "type": "scatterternary",
            "marker": {
             "colorbar": {
              "outlinewidth": 0,
              "ticks": ""
             }
            }
           }
          ],
          "scattercarpet": [
           {
            "type": "scattercarpet",
            "marker": {
             "colorbar": {
              "outlinewidth": 0,
              "ticks": ""
             }
            }
           }
          ],
          "carpet": [
           {
            "aaxis": {
             "endlinecolor": "#2a3f5f",
             "gridcolor": "white",
             "linecolor": "white",
             "minorgridcolor": "white",
             "startlinecolor": "#2a3f5f"
            },
            "baxis": {
             "endlinecolor": "#2a3f5f",
             "gridcolor": "white",
             "linecolor": "white",
             "minorgridcolor": "white",
             "startlinecolor": "#2a3f5f"
            },
            "type": "carpet"
           }
          ],
          "table": [
           {
            "cells": {
             "fill": {
              "color": "#EBF0F8"
             },
             "line": {
              "color": "white"
             }
            },
            "header": {
             "fill": {
              "color": "#C8D4E3"
             },
             "line": {
              "color": "white"
             }
            },
            "type": "table"
           }
          ],
          "barpolar": [
           {
            "marker": {
             "line": {
              "color": "#E5ECF6",
              "width": 0.5
             },
             "pattern": {
              "fillmode": "overlay",
              "size": 10,
              "solidity": 0.2
             }
            },
            "type": "barpolar"
           }
          ],
          "pie": [
           {
            "automargin": true,
            "type": "pie"
           }
          ]
         },
         "layout": {
          "autotypenumbers": "strict",
          "colorway": [
           "#636efa",
           "#EF553B",
           "#00cc96",
           "#ab63fa",
           "#FFA15A",
           "#19d3f3",
           "#FF6692",
           "#B6E880",
           "#FF97FF",
           "#FECB52"
          ],
          "font": {
           "color": "#2a3f5f"
          },
          "hovermode": "closest",
          "hoverlabel": {
           "align": "left"
          },
          "paper_bgcolor": "white",
          "plot_bgcolor": "#E5ECF6",
          "polar": {
           "bgcolor": "#E5ECF6",
           "angularaxis": {
            "gridcolor": "white",
            "linecolor": "white",
            "ticks": ""
           },
           "radialaxis": {
            "gridcolor": "white",
            "linecolor": "white",
            "ticks": ""
           }
          },
          "ternary": {
           "bgcolor": "#E5ECF6",
           "aaxis": {
            "gridcolor": "white",
            "linecolor": "white",
            "ticks": ""
           },
           "baxis": {
            "gridcolor": "white",
            "linecolor": "white",
            "ticks": ""
           },
           "caxis": {
            "gridcolor": "white",
            "linecolor": "white",
            "ticks": ""
           }
          },
          "coloraxis": {
           "colorbar": {
            "outlinewidth": 0,
            "ticks": ""
           }
          },
          "colorscale": {
           "sequential": [
            [
             0.0,
             "#0d0887"
            ],
            [
             0.1111111111111111,
             "#46039f"
            ],
            [
             0.2222222222222222,
             "#7201a8"
            ],
            [
             0.3333333333333333,
             "#9c179e"
            ],
            [
             0.4444444444444444,
             "#bd3786"
            ],
            [
             0.5555555555555556,
             "#d8576b"
            ],
            [
             0.6666666666666666,
             "#ed7953"
            ],
            [
             0.7777777777777778,
             "#fb9f3a"
            ],
            [
             0.8888888888888888,
             "#fdca26"
            ],
            [
             1.0,
             "#f0f921"
            ]
           ],
           "sequentialminus": [
            [
             0.0,
             "#0d0887"
            ],
            [
             0.1111111111111111,
             "#46039f"
            ],
            [
             0.2222222222222222,
             "#7201a8"
            ],
            [
             0.3333333333333333,
             "#9c179e"
            ],
            [
             0.4444444444444444,
             "#bd3786"
            ],
            [
             0.5555555555555556,
             "#d8576b"
            ],
            [
             0.6666666666666666,
             "#ed7953"
            ],
            [
             0.7777777777777778,
             "#fb9f3a"
            ],
            [
             0.8888888888888888,
             "#fdca26"
            ],
            [
             1.0,
             "#f0f921"
            ]
           ],
           "diverging": [
            [
             0,
             "#8e0152"
            ],
            [
             0.1,
             "#c51b7d"
            ],
            [
             0.2,
             "#de77ae"
            ],
            [
             0.3,
             "#f1b6da"
            ],
            [
             0.4,
             "#fde0ef"
            ],
            [
             0.5,
             "#f7f7f7"
            ],
            [
             0.6,
             "#e6f5d0"
            ],
            [
             0.7,
             "#b8e186"
            ],
            [
             0.8,
             "#7fbc41"
            ],
            [
             0.9,
             "#4d9221"
            ],
            [
             1,
             "#276419"
            ]
           ]
          },
          "xaxis": {
           "gridcolor": "white",
           "linecolor": "white",
           "ticks": "",
           "title": {
            "standoff": 15
           },
           "zerolinecolor": "white",
           "automargin": true,
           "zerolinewidth": 2
          },
          "yaxis": {
           "gridcolor": "white",
           "linecolor": "white",
           "ticks": "",
           "title": {
            "standoff": 15
           },
           "zerolinecolor": "white",
           "automargin": true,
           "zerolinewidth": 2
          },
          "scene": {
           "xaxis": {
            "backgroundcolor": "#E5ECF6",
            "gridcolor": "white",
            "linecolor": "white",
            "showbackground": true,
            "ticks": "",
            "zerolinecolor": "white",
            "gridwidth": 2
           },
           "yaxis": {
            "backgroundcolor": "#E5ECF6",
            "gridcolor": "white",
            "linecolor": "white",
            "showbackground": true,
            "ticks": "",
            "zerolinecolor": "white",
            "gridwidth": 2
           },
           "zaxis": {
            "backgroundcolor": "#E5ECF6",
            "gridcolor": "white",
            "linecolor": "white",
            "showbackground": true,
            "ticks": "",
            "zerolinecolor": "white",
            "gridwidth": 2
           }
          },
          "shapedefaults": {
           "line": {
            "color": "#2a3f5f"
           }
          },
          "annotationdefaults": {
           "arrowcolor": "#2a3f5f",
           "arrowhead": 0,
           "arrowwidth": 1
          },
          "geo": {
           "bgcolor": "white",
           "landcolor": "#E5ECF6",
           "subunitcolor": "white",
           "showland": true,
           "showlakes": true,
           "lakecolor": "white"
          },
          "title": {
           "x": 0.05
          },
          "mapbox": {
           "style": "light"
          }
         }
        },
        "xaxis": {
         "anchor": "y",
         "domain": [
          0.29647058823529415,
          0.5729411764705883
         ],
         "tickvals": [
          0.125,
          0.375,
          0.625,
          0.875
         ],
         "ticktext": [
          "Worker",
          "Capital",
          "Energy",
          "Resource"
         ]
        },
        "yaxis": {
         "anchor": "x",
         "domain": [
          0.7333333333333333,
          1.0
         ],
         "range": [
          0.3,
          0.7
         ],
         "tickvals": [
          0.5
         ],
         "ticktext": [
          "extraction"
         ]
        },
        "xaxis2": {
         "anchor": "y2",
         "domain": [
          0.8894117647058823,
          1.0
         ],
         "range": [
          0.3,
          0.7
         ],
         "tickvals": [
          0.5
         ],
         "ticktext": [
          "Decision-Making"
         ]
        },
        "yaxis2": {
         "anchor": "x2",
         "domain": [
          0.0,
          1.0
         ],
         "tickvals": [
          0.2,
          0.5,
          0.8
         ],
         "ticktext": [
          "Ineq",
          "Voice",
          "Gender"
         ]
        },
        "xaxis3": {
         "anchor": "y3",
         "domain": [
          0.0,
          0.27647058823529413
         ],
         "tickvals": [
          0.125,
          0.375,
          0.625,
          0.875
         ],
         "ticktext": [
          "State",
          "Market",
          "Household",
          "Commons"
         ]
        },
        "yaxis3": {
         "anchor": "x3",
         "domain": [
          0.36666666666666664,
          0.6333333333333333
         ],
         "range": [
          0.3,
          0.7
         ],
         "tickvals": [
          0.5
         ],
         "ticktext": [
          "realms"
         ]
        },
        "xaxis4": {
         "anchor": "y4",
         "domain": [
          0.29647058823529415,
          0.5729411764705883
         ],
         "tickvals": [
          0.25,
          0.5,
          0.75
         ],
         "ticktext": [
          "Agriculture",
          "Industry",
          "Services"
         ]
        },
        "yaxis4": {
         "anchor": "x4",
         "domain": [
          0.36666666666666664,
          0.6333333333333333
         ],
         "range": [
          0.3,
          0.7
         ],
         "tickvals": [
          0.5
         ],
         "ticktext": [
          "industry"
         ]
        },
        "xaxis5": {
         "anchor": "y5",
         "domain": [
          0.5929411764705883,
          0.8694117647058824
         ],
         "tickvals": [
          0.125,
          0.375,
          0.625,
          0.875
         ],
         "ticktext": [
          "Core",
          "Foundational",
          "Overlooked",
          "Competitive"
         ]
        },
        "yaxis5": {
         "anchor": "x5",
         "domain": [
          0.36666666666666664,
          0.6333333333333333
         ],
         "range": [
          0.3,
          0.7
         ],
         "tickvals": [
          0.5
         ],
         "ticktext": [
          "foundational"
         ]
        },
        "xaxis6": {
         "anchor": "y6",
         "domain": [
          0.29647058823529415,
          0.5729411764705883
         ],
         "tickvals": [
          0.125,
          0.375,
          0.625,
          0.875
         ],
         "ticktext": [
          "Accumulation",
          "Needs",
          "HDI",
          "Waste"
         ]
        },
        "yaxis6": {
         "anchor": "x6",
         "domain": [
          0.0,
          0.26666666666666666
         ],
         "range": [
          0.3,
          0.7
         ],
         "tickvals": [
          0.5
         ],
         "ticktext": [
          "dissipation"
         ]
        },
        "annotations": [
         {
          "font": {
           "size": 20
          },
          "showarrow": false,
          "text": "Year: 2010",
          "x": 0.05,
          "xref": "paper",
          "y": 0.95,
          "yref": "paper"
         }
        ],
        "updatemenus": [
         {
          "buttons": [
           {
            "args": [
             null,
             {
              "frame": {
               "duration": 1000
              }
             }
            ],
            "label": "Play",
            "method": "animate"
           },
           {
            "args": [
             [
              null
             ],
             {
              "frame": {
               "duration": 0,
               "redraw": false
              }
             }
            ],
            "label": "Pause",
            "method": "animate"
           }
          ],
          "showactive": false,
          "type": "buttons"
         }
        ],
        "showlegend": false
       },
       "frames": [
        {
         "data": [
          {
           "marker": {
            "color": "green",
            "opacity": 0.4,
            "size": 3.141014554801713
           },
           "mode": "markers",
           "x": [
            0.125
           ],
           "xaxis": "x",
           "y": [
            0.5
           ],
           "yaxis": "y",
           "type": "scatter"
          },
          {
           "marker": {
            "color": "green",
            "opacity": 0.4,
            "size": 24.33997664811432
           },
           "mode": "markers",
           "x": [
            0.375
           ],
           "xaxis": "x",
           "y": [
            0.5
           ],
           "yaxis": "y",
           "type": "scatter"
          },
          {
           "marker": {
            "color": "green",
            "opacity": 0.4,
            "size": 9.312424595361884
           },
           "mode": "markers",
           "x": [
            0.625
           ],
           "xaxis": "x",
           "y": [
            0.5
           ],
           "yaxis": "y",
           "type": "scatter"
          },
          {
           "marker": {
            "color": "green",
            "opacity": 0.4,
            "size": 2.3333333333333335
           },
           "mode": "markers",
           "x": [
            0.875
           ],
           "xaxis": "x",
           "y": [
            0.5
           ],
           "yaxis": "y",
           "type": "scatter"
          },
          {
           "marker": {
            "color": "green",
            "opacity": 0.4,
            "size": 9.861376419839562
           },
           "mode": "markers",
           "x": [
            0.125
           ],
           "xaxis": "x3",
           "y": [
            0.5
           ],
           "yaxis": "y3",
           "type": "scatter"
          },
          {
           "marker": {
            "color": "green",
            "opacity": 0.4,
            "size": 6.800970676627546
           },
           "mode": "markers",
           "x": [
            0.375
           ],
           "xaxis": "x3",
           "y": [
            0.5
           ],
           "yaxis": "y3",
           "type": "scatter"
          },
          {
           "marker": {
            "color": "red",
            "opacity": 0.4,
            "size": 10.268515507371406
           },
           "mode": "markers",
           "x": [
            0.625
           ],
           "xaxis": "x3",
           "y": [
            0.5
           ],
           "yaxis": "y3",
           "type": "scatter"
          },
          {
           "marker": {
            "color": "green",
            "opacity": 0.4,
            "size": 2.3333333333333335
           },
           "mode": "markers",
           "x": [
            0.875
           ],
           "xaxis": "x3",
           "y": [
            0.5
           ],
           "yaxis": "y3",
           "type": "scatter"
          },
          {
           "marker": {
            "color": "red",
            "opacity": 0.4,
            "size": 17.09634385807589
           },
           "mode": "markers",
           "x": [
            0.25
           ],
           "xaxis": "x4",
           "y": [
            0.5
           ],
           "yaxis": "y4",
           "type": "scatter"
          },
          {
           "marker": {
            "color": "green",
            "opacity": 0.4,
            "size": 8.442363274786247
           },
           "mode": "markers",
           "x": [
            0.5
           ],
           "xaxis": "x4",
           "y": [
            0.5
           ],
           "yaxis": "y4",
           "type": "scatter"
          },
          {
           "marker": {
            "color": "green",
            "opacity": 0.4,
            "size": 15.6560339052391
           },
           "mode": "markers",
           "x": [
            0.75
           ],
           "xaxis": "x4",
           "y": [
            0.5
           ],
           "yaxis": "y4",
           "type": "scatter"
          },
          {
           "marker": {
            "color": "green",
            "opacity": 0.4,
            "size": 2.3333333333333335
           },
           "mode": "markers",
           "x": [
            0.125
           ],
           "xaxis": "x5",
           "y": [
            0.5
           ],
           "yaxis": "y5",
           "type": "scatter"
          },
          {
           "marker": {
            "color": "green",
            "opacity": 0.4,
            "size": 2.3333333333333335
           },
           "mode": "markers",
           "x": [
            0.375
           ],
           "xaxis": "x5",
           "y": [
            0.5
           ],
           "yaxis": "y5",
           "type": "scatter"
          },
          {
           "marker": {
            "color": "green",
            "opacity": 0.4,
            "size": 2.3333333333333335
           },
           "mode": "markers",
           "x": [
            0.625
           ],
           "xaxis": "x5",
           "y": [
            0.5
           ],
           "yaxis": "y5",
           "type": "scatter"
          },
          {
           "marker": {
            "color": "green",
            "opacity": 0.4,
            "size": 2.3333333333333335
           },
           "mode": "markers",
           "x": [
            0.875
           ],
           "xaxis": "x5",
           "y": [
            0.5
           ],
           "yaxis": "y5",
           "type": "scatter"
          },
          {
           "marker": {
            "color": "green",
            "opacity": 0.4,
            "size": 4.347675252161578
           },
           "mode": "markers",
           "x": [
            0.125
           ],
           "xaxis": "x6",
           "y": [
            0.5
           ],
           "yaxis": "y6",
           "type": "scatter"
          },
          {
           "marker": {
            "color": "green",
            "opacity": 0.4,
            "size": 27.79894069619123
           },
           "mode": "markers",
           "x": [
            0.375
           ],
           "xaxis": "x6",
           "y": [
            0.5
           ],
           "yaxis": "y6",
           "type": "scatter"
          },
          {
           "marker": {
            "color": "green",
            "opacity": 0.4,
            "size": 13.981687128710004
           },
           "mode": "markers",
           "x": [
            0.625
           ],
           "xaxis": "x6",
           "y": [
            0.5
           ],
           "yaxis": "y6",
           "type": "scatter"
          },
          {
           "marker": {
            "color": "green",
            "opacity": 0.4,
            "size": 34.415580919002345
           },
           "mode": "markers",
           "x": [
            0.875
           ],
           "xaxis": "x6",
           "y": [
            0.5
           ],
           "yaxis": "y6",
           "type": "scatter"
          },
          {
           "marker": {
            "color": "red",
            "opacity": 0.4,
            "size": 15.27285397953525
           },
           "mode": "markers",
           "x": [
            0.5
           ],
           "xaxis": "x2",
           "y": [
            0.2
           ],
           "yaxis": "y2",
           "type": "scatter"
          },
          {
           "marker": {
            "color": "red",
            "opacity": 0.4,
            "size": 41.270869216351194
           },
           "mode": "markers",
           "x": [
            0.5
           ],
           "xaxis": "x2",
           "y": [
            0.5
           ],
           "yaxis": "y2",
           "type": "scatter"
          },
          {
           "marker": {
            "color": "grey",
            "opacity": 0.2,
            "size": 7.0
           },
           "mode": "markers",
           "x": [
            0.5
           ],
           "xaxis": "x2",
           "y": [
            0.8
           ],
           "yaxis": "y2",
           "type": "scatter"
          }
         ],
         "layout": {
          "annotations": [
           {
            "font": {
             "size": 20
            },
            "showarrow": false,
            "text": "Year: 2011",
            "x": 0.05,
            "xref": "paper",
            "y": 0.95,
            "yref": "paper"
           }
          ]
         },
         "name": "2011"
        },
        {
         "data": [
          {
           "marker": {
            "color": "green",
            "opacity": 0.4,
            "size": 2.3618756816080384
           },
           "mode": "markers",
           "x": [
            0.125
           ],
           "xaxis": "x",
           "y": [
            0.5
           ],
           "yaxis": "y",
           "type": "scatter"
          },
          {
           "marker": {
            "color": "green",
            "opacity": 0.4,
            "size": 24.707424300291986
           },
           "mode": "markers",
           "x": [
            0.375
           ],
           "xaxis": "x",
           "y": [
            0.5
           ],
           "yaxis": "y",
           "type": "scatter"
          },
          {
           "marker": {
            "color": "green",
            "opacity": 0.4,
            "size": 8.891031885474234
           },
           "mode": "markers",
           "x": [
            0.625
           ],
           "xaxis": "x",
           "y": [
            0.5
           ],
           "yaxis": "y",
           "type": "scatter"
          },
          {
           "marker": {
            "color": "green",
            "opacity": 0.4,
            "size": 2.3333333333333335
           },
           "mode": "markers",
           "x": [
            0.875
           ],
           "xaxis": "x",
           "y": [
            0.5
           ],
           "yaxis": "y",
           "type": "scatter"
          },
          {
           "marker": {
            "color": "green",
            "opacity": 0.4,
            "size": 9.626582266969018
           },
           "mode": "markers",
           "x": [
            0.125
           ],
           "xaxis": "x3",
           "y": [
            0.5
           ],
           "yaxis": "y3",
           "type": "scatter"
          },
          {
           "marker": {
            "color": "green",
            "opacity": 0.4,
            "size": 7.859797888374861
           },
           "mode": "markers",
           "x": [
            0.375
           ],
           "xaxis": "x3",
           "y": [
            0.5
           ],
           "yaxis": "y3",
           "type": "scatter"
          },
          {
           "marker": {
            "color": "red",
            "opacity": 0.4,
            "size": 10.116481832510994
           },
           "mode": "markers",
           "x": [
            0.625
           ],
           "xaxis": "x3",
           "y": [
            0.5
           ],
           "yaxis": "y3",
           "type": "scatter"
          },
          {
           "marker": {
            "color": "green",
            "opacity": 0.4,
            "size": 2.3333333333333335
           },
           "mode": "markers",
           "x": [
            0.875
           ],
           "xaxis": "x3",
           "y": [
            0.5
           ],
           "yaxis": "y3",
           "type": "scatter"
          },
          {
           "marker": {
            "color": "red",
            "opacity": 0.4,
            "size": 16.674522704465318
           },
           "mode": "markers",
           "x": [
            0.25
           ],
           "xaxis": "x4",
           "y": [
            0.5
           ],
           "yaxis": "y4",
           "type": "scatter"
          },
          {
           "marker": {
            "color": "green",
            "opacity": 0.4,
            "size": 7.542249652851288
           },
           "mode": "markers",
           "x": [
            0.5
           ],
           "xaxis": "x4",
           "y": [
            0.5
           ],
           "yaxis": "y4",
           "type": "scatter"
          },
          {
           "marker": {
            "color": "green",
            "opacity": 0.4,
            "size": 16.20186526786672
           },
           "mode": "markers",
           "x": [
            0.75
           ],
           "xaxis": "x4",
           "y": [
            0.5
           ],
           "yaxis": "y4",
           "type": "scatter"
          },
          {
           "marker": {
            "color": "green",
            "opacity": 0.4,
            "size": 2.3333333333333335
           },
           "mode": "markers",
           "x": [
            0.125
           ],
           "xaxis": "x5",
           "y": [
            0.5
           ],
           "yaxis": "y5",
           "type": "scatter"
          },
          {
           "marker": {
            "color": "green",
            "opacity": 0.4,
            "size": 2.3333333333333335
           },
           "mode": "markers",
           "x": [
            0.375
           ],
           "xaxis": "x5",
           "y": [
            0.5
           ],
           "yaxis": "y5",
           "type": "scatter"
          },
          {
           "marker": {
            "color": "green",
            "opacity": 0.4,
            "size": 2.3333333333333335
           },
           "mode": "markers",
           "x": [
            0.625
           ],
           "xaxis": "x5",
           "y": [
            0.5
           ],
           "yaxis": "y5",
           "type": "scatter"
          },
          {
           "marker": {
            "color": "green",
            "opacity": 0.4,
            "size": 2.3333333333333335
           },
           "mode": "markers",
           "x": [
            0.875
           ],
           "xaxis": "x5",
           "y": [
            0.5
           ],
           "yaxis": "y5",
           "type": "scatter"
          },
          {
           "marker": {
            "color": "green",
            "opacity": 0.4,
            "size": 6.23390013445956
           },
           "mode": "markers",
           "x": [
            0.125
           ],
           "xaxis": "x6",
           "y": [
            0.5
           ],
           "yaxis": "y6",
           "type": "scatter"
          },
          {
           "marker": {
            "color": "green",
            "opacity": 0.4,
            "size": 28.31870458895939
           },
           "mode": "markers",
           "x": [
            0.375
           ],
           "xaxis": "x6",
           "y": [
            0.5
           ],
           "yaxis": "y6",
           "type": "scatter"
          },
          {
           "marker": {
            "color": "green",
            "opacity": 0.4,
            "size": 20.803699309951817
           },
           "mode": "markers",
           "x": [
            0.625
           ],
           "xaxis": "x6",
           "y": [
            0.5
           ],
           "yaxis": "y6",
           "type": "scatter"
          },
          {
           "marker": {
            "color": "green",
            "opacity": 0.4,
            "size": 31.20634915392103
           },
           "mode": "markers",
           "x": [
            0.875
           ],
           "xaxis": "x6",
           "y": [
            0.5
           ],
           "yaxis": "y6",
           "type": "scatter"
          },
          {
           "marker": {
            "color": "red",
            "opacity": 0.4,
            "size": 13.726235855025354
           },
           "mode": "markers",
           "x": [
            0.5
           ],
           "xaxis": "x2",
           "y": [
            0.2
           ],
           "yaxis": "y2",
           "type": "scatter"
          },
          {
           "marker": {
            "color": "red",
            "opacity": 0.4,
            "size": 45.51111219057653
           },
           "mode": "markers",
           "x": [
            0.5
           ],
           "xaxis": "x2",
           "y": [
            0.5
           ],
           "yaxis": "y2",
           "type": "scatter"
          },
          {
           "marker": {
            "color": "green",
            "opacity": 0.4,
            "size": 16.625977325882506
           },
           "mode": "markers",
           "x": [
            0.5
           ],
           "xaxis": "x2",
           "y": [
            0.8
           ],
           "yaxis": "y2",
           "type": "scatter"
          }
         ],
         "layout": {
          "annotations": [
           {
            "font": {
             "size": 20
            },
            "showarrow": false,
            "text": "Year: 2012",
            "x": 0.05,
            "xref": "paper",
            "y": 0.95,
            "yref": "paper"
           }
          ]
         },
         "name": "2012"
        },
        {
         "data": [
          {
           "marker": {
            "color": "green",
            "opacity": 0.4,
            "size": 1.5588597916780924
           },
           "mode": "markers",
           "x": [
            0.125
           ],
           "xaxis": "x",
           "y": [
            0.5
           ],
           "yaxis": "y",
           "type": "scatter"
          },
          {
           "marker": {
            "color": "green",
            "opacity": 0.4,
            "size": 26.73639155101155
           },
           "mode": "markers",
           "x": [
            0.375
           ],
           "xaxis": "x",
           "y": [
            0.5
           ],
           "yaxis": "y",
           "type": "scatter"
          },
          {
           "marker": {
            "color": "green",
            "opacity": 0.4,
            "size": 8.770118267860122
           },
           "mode": "markers",
           "x": [
            0.625
           ],
           "xaxis": "x",
           "y": [
            0.5
           ],
           "yaxis": "y",
           "type": "scatter"
          },
          {
           "marker": {
            "color": "green",
            "opacity": 0.4,
            "size": 2.3333333333333335
           },
           "mode": "markers",
           "x": [
            0.875
           ],
           "xaxis": "x",
           "y": [
            0.5
           ],
           "yaxis": "y",
           "type": "scatter"
          },
          {
           "marker": {
            "color": "green",
            "opacity": 0.4,
            "size": 8.683607885053439
           },
           "mode": "markers",
           "x": [
            0.125
           ],
           "xaxis": "x3",
           "y": [
            0.5
           ],
           "yaxis": "y3",
           "type": "scatter"
          },
          {
           "marker": {
            "color": "green",
            "opacity": 0.4,
            "size": 8.178036910839342
           },
           "mode": "markers",
           "x": [
            0.375
           ],
           "xaxis": "x3",
           "y": [
            0.5
           ],
           "yaxis": "y3",
           "type": "scatter"
          },
          {
           "marker": {
            "color": "red",
            "opacity": 0.4,
            "size": 10.193361501259815
           },
           "mode": "markers",
           "x": [
            0.625
           ],
           "xaxis": "x3",
           "y": [
            0.5
           ],
           "yaxis": "y3",
           "type": "scatter"
          },
          {
           "marker": {
            "color": "green",
            "opacity": 0.4,
            "size": 2.3333333333333335
           },
           "mode": "markers",
           "x": [
            0.875
           ],
           "xaxis": "x3",
           "y": [
            0.5
           ],
           "yaxis": "y3",
           "type": "scatter"
          },
          {
           "marker": {
            "color": "red",
            "opacity": 0.4,
            "size": 15.935626865121279
           },
           "mode": "markers",
           "x": [
            0.25
           ],
           "xaxis": "x4",
           "y": [
            0.5
           ],
           "yaxis": "y4",
           "type": "scatter"
          },
          {
           "marker": {
            "color": "green",
            "opacity": 0.4,
            "size": 7.503644877618235
           },
           "mode": "markers",
           "x": [
            0.5
           ],
           "xaxis": "x4",
           "y": [
            0.5
           ],
           "yaxis": "y4",
           "type": "scatter"
          },
          {
           "marker": {
            "color": "green",
            "opacity": 0.4,
            "size": 16.208127881810277
           },
           "mode": "markers",
           "x": [
            0.75
           ],
           "xaxis": "x4",
           "y": [
            0.5
           ],
           "yaxis": "y4",
           "type": "scatter"
          },
          {
           "marker": {
            "color": "green",
            "opacity": 0.4,
            "size": 2.3333333333333335
           },
           "mode": "markers",
           "x": [
            0.125
           ],
           "xaxis": "x5",
           "y": [
            0.5
           ],
           "yaxis": "y5",
           "type": "scatter"
          },
          {
           "marker": {
            "color": "green",
            "opacity": 0.4,
            "size": 2.3333333333333335
           },
           "mode": "markers",
           "x": [
            0.375
           ],
           "xaxis": "x5",
           "y": [
            0.5
           ],
           "yaxis": "y5",
           "type": "scatter"
          },
          {
           "marker": {
            "color": "green",
            "opacity": 0.4,
            "size": 2.3333333333333335
           },
           "mode": "markers",
           "x": [
            0.625
           ],
           "xaxis": "x5",
           "y": [
            0.5
           ],
           "yaxis": "y5",
           "type": "scatter"
          },
          {
           "marker": {
            "color": "green",
            "opacity": 0.4,
            "size": 2.3333333333333335
           },
           "mode": "markers",
           "x": [
            0.875
           ],
           "xaxis": "x5",
           "y": [
            0.5
           ],
           "yaxis": "y5",
           "type": "scatter"
          },
          {
           "marker": {
            "color": "green",
            "opacity": 0.4,
            "size": 6.337995488970615
           },
           "mode": "markers",
           "x": [
            0.125
           ],
           "xaxis": "x6",
           "y": [
            0.5
           ],
           "yaxis": "y6",
           "type": "scatter"
          },
          {
           "marker": {
            "color": "green",
            "opacity": 0.4,
            "size": 28.551967899325643
           },
           "mode": "markers",
           "x": [
            0.375
           ],
           "xaxis": "x6",
           "y": [
            0.5
           ],
           "yaxis": "y6",
           "type": "scatter"
          },
          {
           "marker": {
            "color": "green",
            "opacity": 0.4,
            "size": 21.325045178344514
           },
           "mode": "markers",
           "x": [
            0.625
           ],
           "xaxis": "x6",
           "y": [
            0.5
           ],
           "yaxis": "y6",
           "type": "scatter"
          },
          {
           "marker": {
            "color": "green",
            "opacity": 0.4,
            "size": 31.481028445056495
           },
           "mode": "markers",
           "x": [
            0.875
           ],
           "xaxis": "x6",
           "y": [
            0.5
           ],
           "yaxis": "y6",
           "type": "scatter"
          },
          {
           "marker": {
            "color": "red",
            "opacity": 0.4,
            "size": 13.146254058334147
           },
           "mode": "markers",
           "x": [
            0.5
           ],
           "xaxis": "x2",
           "y": [
            0.2
           ],
           "yaxis": "y2",
           "type": "scatter"
          },
          {
           "marker": {
            "color": "red",
            "opacity": 0.40097773548222737,
            "size": 46.78073580625986
           },
           "mode": "markers",
           "x": [
            0.5
           ],
           "xaxis": "x2",
           "y": [
            0.5
           ],
           "yaxis": "y2",
           "type": "scatter"
          },
          {
           "marker": {
            "color": "grey",
            "opacity": 0.2,
            "size": 7.0
           },
           "mode": "markers",
           "x": [
            0.5
           ],
           "xaxis": "x2",
           "y": [
            0.8
           ],
           "yaxis": "y2",
           "type": "scatter"
          }
         ],
         "layout": {
          "annotations": [
           {
            "font": {
             "size": 20
            },
            "showarrow": false,
            "text": "Year: 2013",
            "x": 0.05,
            "xref": "paper",
            "y": 0.95,
            "yref": "paper"
           }
          ]
         },
         "name": "2013"
        },
        {
         "data": [
          {
           "marker": {
            "color": "green",
            "opacity": 0.4,
            "size": 0.9589945596497331
           },
           "mode": "markers",
           "x": [
            0.125
           ],
           "xaxis": "x",
           "y": [
            0.5
           ],
           "yaxis": "y",
           "type": "scatter"
          },
          {
           "marker": {
            "color": "green",
            "opacity": 0.4,
            "size": 29.515018286611866
           },
           "mode": "markers",
           "x": [
            0.375
           ],
           "xaxis": "x",
           "y": [
            0.5
           ],
           "yaxis": "y",
           "type": "scatter"
          },
          {
           "marker": {
            "color": "green",
            "opacity": 0.4,
            "size": 8.887455615965548
           },
           "mode": "markers",
           "x": [
            0.625
           ],
           "xaxis": "x",
           "y": [
            0.5
           ],
           "yaxis": "y",
           "type": "scatter"
          },
          {
           "marker": {
            "color": "green",
            "opacity": 0.4,
            "size": 2.3333333333333335
           },
           "mode": "markers",
           "x": [
            0.875
           ],
           "xaxis": "x",
           "y": [
            0.5
           ],
           "yaxis": "y",
           "type": "scatter"
          },
          {
           "marker": {
            "color": "green",
            "opacity": 0.4,
            "size": 7.515862500989305
           },
           "mode": "markers",
           "x": [
            0.125
           ],
           "xaxis": "x3",
           "y": [
            0.5
           ],
           "yaxis": "y3",
           "type": "scatter"
          },
          {
           "marker": {
            "color": "green",
            "opacity": 0.4,
            "size": 8.455107496069894
           },
           "mode": "markers",
           "x": [
            0.375
           ],
           "xaxis": "x3",
           "y": [
            0.5
           ],
           "yaxis": "y3",
           "type": "scatter"
          },
          {
           "marker": {
            "color": "red",
            "opacity": 0.4,
            "size": 10.40615617756138
           },
           "mode": "markers",
           "x": [
            0.625
           ],
           "xaxis": "x3",
           "y": [
            0.5
           ],
           "yaxis": "y3",
           "type": "scatter"
          },
          {
           "marker": {
            "color": "green",
            "opacity": 0.4,
            "size": 2.3333333333333335
           },
           "mode": "markers",
           "x": [
            0.875
           ],
           "xaxis": "x3",
           "y": [
            0.5
           ],
           "yaxis": "y3",
           "type": "scatter"
          },
          {
           "marker": {
            "color": "red",
            "opacity": 0.4,
            "size": 18.86280576345516
           },
           "mode": "markers",
           "x": [
            0.25
           ],
           "xaxis": "x4",
           "y": [
            0.5
           ],
           "yaxis": "y4",
           "type": "scatter"
          },
          {
           "marker": {
            "color": "green",
            "opacity": 0.4,
            "size": 8.439892802621024
           },
           "mode": "markers",
           "x": [
            0.5
           ],
           "xaxis": "x4",
           "y": [
            0.5
           ],
           "yaxis": "y4",
           "type": "scatter"
          },
          {
           "marker": {
            "color": "green",
            "opacity": 0.4,
            "size": 15.811543708613314
           },
           "mode": "markers",
           "x": [
            0.75
           ],
           "xaxis": "x4",
           "y": [
            0.5
           ],
           "yaxis": "y4",
           "type": "scatter"
          },
          {
           "marker": {
            "color": "green",
            "opacity": 0.4,
            "size": 2.3333333333333335
           },
           "mode": "markers",
           "x": [
            0.125
           ],
           "xaxis": "x5",
           "y": [
            0.5
           ],
           "yaxis": "y5",
           "type": "scatter"
          },
          {
           "marker": {
            "color": "green",
            "opacity": 0.4,
            "size": 2.3333333333333335
           },
           "mode": "markers",
           "x": [
            0.375
           ],
           "xaxis": "x5",
           "y": [
            0.5
           ],
           "yaxis": "y5",
           "type": "scatter"
          },
          {
           "marker": {
            "color": "green",
            "opacity": 0.4,
            "size": 2.3333333333333335
           },
           "mode": "markers",
           "x": [
            0.625
           ],
           "xaxis": "x5",
           "y": [
            0.5
           ],
           "yaxis": "y5",
           "type": "scatter"
          },
          {
           "marker": {
            "color": "green",
            "opacity": 0.4,
            "size": 2.3333333333333335
           },
           "mode": "markers",
           "x": [
            0.875
           ],
           "xaxis": "x5",
           "y": [
            0.5
           ],
           "yaxis": "y5",
           "type": "scatter"
          },
          {
           "marker": {
            "color": "green",
            "opacity": 0.4,
            "size": 6.24211323204087
           },
           "mode": "markers",
           "x": [
            0.125
           ],
           "xaxis": "x6",
           "y": [
            0.5
           ],
           "yaxis": "y6",
           "type": "scatter"
          },
          {
           "marker": {
            "color": "green",
            "opacity": 0.4,
            "size": 28.66544734761205
           },
           "mode": "markers",
           "x": [
            0.375
           ],
           "xaxis": "x6",
           "y": [
            0.5
           ],
           "yaxis": "y6",
           "type": "scatter"
          },
          {
           "marker": {
            "color": "green",
            "opacity": 0.4,
            "size": 21.608880669955855
           },
           "mode": "markers",
           "x": [
            0.625
           ],
           "xaxis": "x6",
           "y": [
            0.5
           ],
           "yaxis": "y6",
           "type": "scatter"
          },
          {
           "marker": {
            "color": "green",
            "opacity": 0.4,
            "size": 29.578667980286195
           },
           "mode": "markers",
           "x": [
            0.875
           ],
           "xaxis": "x6",
           "y": [
            0.5
           ],
           "yaxis": "y6",
           "type": "scatter"
          },
          {
           "marker": {
            "color": "red",
            "opacity": 0.4,
            "size": 14.306217651716564
           },
           "mode": "markers",
           "x": [
            0.5
           ],
           "xaxis": "x2",
           "y": [
            0.2
           ],
           "yaxis": "y2",
           "type": "scatter"
          },
          {
           "marker": {
            "color": "red",
            "opacity": 0.4,
            "size": 43.59666535770617
           },
           "mode": "markers",
           "x": [
            0.5
           ],
           "xaxis": "x2",
           "y": [
            0.5
           ],
           "yaxis": "y2",
           "type": "scatter"
          },
          {
           "marker": {
            "color": "green",
            "opacity": 0.4,
            "size": 22.492323004130984
           },
           "mode": "markers",
           "x": [
            0.5
           ],
           "xaxis": "x2",
           "y": [
            0.8
           ],
           "yaxis": "y2",
           "type": "scatter"
          }
         ],
         "layout": {
          "annotations": [
           {
            "font": {
             "size": 20
            },
            "showarrow": false,
            "text": "Year: 2014",
            "x": 0.05,
            "xref": "paper",
            "y": 0.95,
            "yref": "paper"
           }
          ]
         },
         "name": "2014"
        },
        {
         "data": [
          {
           "marker": {
            "color": "green",
            "opacity": 0.4,
            "size": 0.9589945596497331
           },
           "mode": "markers",
           "x": [
            0.125
           ],
           "xaxis": "x",
           "y": [
            0.5
           ],
           "yaxis": "y",
           "type": "scatter"
          },
          {
           "marker": {
            "color": "green",
            "opacity": 0.4,
            "size": 31.855572695045687
           },
           "mode": "markers",
           "x": [
            0.375
           ],
           "xaxis": "x",
           "y": [
            0.5
           ],
           "yaxis": "y",
           "type": "scatter"
          },
          {
           "marker": {
            "color": "green",
            "opacity": 0.4,
            "size": 8.339468621478675
           },
           "mode": "markers",
           "x": [
            0.625
           ],
           "xaxis": "x",
           "y": [
            0.5
           ],
           "yaxis": "y",
           "type": "scatter"
          },
          {
           "marker": {
            "color": "green",
            "opacity": 0.4,
            "size": 2.3333333333333335
           },
           "mode": "markers",
           "x": [
            0.875
           ],
           "xaxis": "x",
           "y": [
            0.5
           ],
           "yaxis": "y",
           "type": "scatter"
          },
          {
           "marker": {
            "color": "green",
            "opacity": 0.4,
            "size": 9.146386308649097
           },
           "mode": "markers",
           "x": [
            0.125
           ],
           "xaxis": "x3",
           "y": [
            0.5
           ],
           "yaxis": "y3",
           "type": "scatter"
          },
          {
           "marker": {
            "color": "green",
            "opacity": 0.4,
            "size": 6.0430083814369775
           },
           "mode": "markers",
           "x": [
            0.375
           ],
           "xaxis": "x3",
           "y": [
            0.5
           ],
           "yaxis": "y3",
           "type": "scatter"
          },
          {
           "marker": {
            "color": "red",
            "opacity": 0.4,
            "size": 7.803423372542939
           },
           "mode": "markers",
           "x": [
            0.625
           ],
           "xaxis": "x3",
           "y": [
            0.5
           ],
           "yaxis": "y3",
           "type": "scatter"
          },
          {
           "marker": {
            "color": "green",
            "opacity": 0.4,
            "size": 2.3333333333333335
           },
           "mode": "markers",
           "x": [
            0.875
           ],
           "xaxis": "x3",
           "y": [
            0.5
           ],
           "yaxis": "y3",
           "type": "scatter"
          },
          {
           "marker": {
            "color": "red",
            "opacity": 0.4,
            "size": 16.14969216207737
           },
           "mode": "markers",
           "x": [
            0.25
           ],
           "xaxis": "x4",
           "y": [
            0.5
           ],
           "yaxis": "y4",
           "type": "scatter"
          },
          {
           "marker": {
            "color": "green",
            "opacity": 0.4,
            "size": 3.3708905977129837
           },
           "mode": "markers",
           "x": [
            0.5
           ],
           "xaxis": "x4",
           "y": [
            0.5
           ],
           "yaxis": "y4",
           "type": "scatter"
          },
          {
           "marker": {
            "color": "green",
            "opacity": 0.4,
            "size": 18.90420186163914
           },
           "mode": "markers",
           "x": [
            0.75
           ],
           "xaxis": "x4",
           "y": [
            0.5
           ],
           "yaxis": "y4",
           "type": "scatter"
          },
          {
           "marker": {
            "color": "green",
            "opacity": 0.4,
            "size": 2.3333333333333335
           },
           "mode": "markers",
           "x": [
            0.125
           ],
           "xaxis": "x5",
           "y": [
            0.5
           ],
           "yaxis": "y5",
           "type": "scatter"
          },
          {
           "marker": {
            "color": "green",
            "opacity": 0.4,
            "size": 2.3333333333333335
           },
           "mode": "markers",
           "x": [
            0.375
           ],
           "xaxis": "x5",
           "y": [
            0.5
           ],
           "yaxis": "y5",
           "type": "scatter"
          },
          {
           "marker": {
            "color": "green",
            "opacity": 0.4,
            "size": 2.3333333333333335
           },
           "mode": "markers",
           "x": [
            0.625
           ],
           "xaxis": "x5",
           "y": [
            0.5
           ],
           "yaxis": "y5",
           "type": "scatter"
          },
          {
           "marker": {
            "color": "green",
            "opacity": 0.4,
            "size": 2.3333333333333335
           },
           "mode": "markers",
           "x": [
            0.875
           ],
           "xaxis": "x5",
           "y": [
            0.5
           ],
           "yaxis": "y5",
           "type": "scatter"
          },
          {
           "marker": {
            "color": "green",
            "opacity": 0.4,
            "size": 3.4599090514727413
           },
           "mode": "markers",
           "x": [
            0.125
           ],
           "xaxis": "x6",
           "y": [
            0.5
           ],
           "yaxis": "y6",
           "type": "scatter"
          },
          {
           "marker": {
            "color": "green",
            "opacity": 0.4,
            "size": 28.755110121566624
           },
           "mode": "markers",
           "x": [
            0.375
           ],
           "xaxis": "x6",
           "y": [
            0.5
           ],
           "yaxis": "y6",
           "type": "scatter"
          },
          {
           "marker": {
            "color": "green",
            "opacity": 0.4,
            "size": 21.671784960696897
           },
           "mode": "markers",
           "x": [
            0.625
           ],
           "xaxis": "x6",
           "y": [
            0.5
           ],
           "yaxis": "y6",
           "type": "scatter"
          },
          {
           "marker": {
            "color": "green",
            "opacity": 0.4,
            "size": 30.548705099776413
           },
           "mode": "markers",
           "x": [
            0.875
           ],
           "xaxis": "x6",
           "y": [
            0.5
           ],
           "yaxis": "y6",
           "type": "scatter"
          },
          {
           "marker": {
            "color": "red",
            "opacity": 0.4,
            "size": 13.339581323897875
           },
           "mode": "markers",
           "x": [
            0.5
           ],
           "xaxis": "x2",
           "y": [
            0.2
           ],
           "yaxis": "y2",
           "type": "scatter"
          },
          {
           "marker": {
            "color": "red",
            "opacity": 0.410572724109264,
            "size": 47.900151146080795
           },
           "mode": "markers",
           "x": [
            0.5
           ],
           "xaxis": "x2",
           "y": [
            0.5
           ],
           "yaxis": "y2",
           "type": "scatter"
          },
          {
           "marker": {
            "color": "green",
            "opacity": 0.4,
            "size": 21.200811326590628
           },
           "mode": "markers",
           "x": [
            0.5
           ],
           "xaxis": "x2",
           "y": [
            0.8
           ],
           "yaxis": "y2",
           "type": "scatter"
          }
         ],
         "layout": {
          "annotations": [
           {
            "font": {
             "size": 20
            },
            "showarrow": false,
            "text": "Year: 2015",
            "x": 0.05,
            "xref": "paper",
            "y": 0.95,
            "yref": "paper"
           }
          ]
         },
         "name": "2015"
        }
       ],
       "config": {
        "plotlyServerURL": "https://plot.ly"
       }
      },
      "text/html": "<div>                            <div id=\"b91ca038-6571-4d3e-9346-d5e9525cc1cf\" class=\"plotly-graph-div\" style=\"height:525px; width:100%;\"></div>            <script type=\"text/javascript\">                require([\"plotly\"], function(Plotly) {                    window.PLOTLYENV=window.PLOTLYENV || {};                                    if (document.getElementById(\"b91ca038-6571-4d3e-9346-d5e9525cc1cf\")) {                    Plotly.newPlot(                        \"b91ca038-6571-4d3e-9346-d5e9525cc1cf\",                        [{\"marker\":{\"color\":\"green\",\"opacity\":0.4,\"size\":4.993167003532953},\"mode\":\"markers\",\"x\":[0.125],\"y\":[0.5],\"type\":\"scatter\",\"xaxis\":\"x\",\"yaxis\":\"y\"},{\"marker\":{\"color\":\"green\",\"opacity\":0.4,\"size\":23.82041547937066},\"mode\":\"markers\",\"x\":[0.375],\"y\":[0.5],\"type\":\"scatter\",\"xaxis\":\"x\",\"yaxis\":\"y\"},{\"marker\":{\"color\":\"green\",\"opacity\":0.4,\"size\":9.248462292331691},\"mode\":\"markers\",\"x\":[0.625],\"y\":[0.5],\"type\":\"scatter\",\"xaxis\":\"x\",\"yaxis\":\"y\"},{\"marker\":{\"color\":\"green\",\"opacity\":0.4,\"size\":2.3333333333333335},\"mode\":\"markers\",\"x\":[0.875],\"y\":[0.5],\"type\":\"scatter\",\"xaxis\":\"x\",\"yaxis\":\"y\"},{\"marker\":{\"color\":\"green\",\"opacity\":0.4,\"size\":10.740545555383028},\"mode\":\"markers\",\"x\":[0.125],\"y\":[0.5],\"type\":\"scatter\",\"xaxis\":\"x3\",\"yaxis\":\"y3\"},{\"marker\":{\"color\":\"green\",\"opacity\":0.4,\"size\":11.666700535544477},\"mode\":\"markers\",\"x\":[0.375],\"y\":[0.5],\"type\":\"scatter\",\"xaxis\":\"x3\",\"yaxis\":\"y3\"},{\"marker\":{\"color\":\"red\",\"opacity\":0.4,\"size\":8.85168198105662},\"mode\":\"markers\",\"x\":[0.625],\"y\":[0.5],\"type\":\"scatter\",\"xaxis\":\"x3\",\"yaxis\":\"y3\"},{\"marker\":{\"color\":\"green\",\"opacity\":0.4,\"size\":2.3333333333333335},\"mode\":\"markers\",\"x\":[0.875],\"y\":[0.5],\"type\":\"scatter\",\"xaxis\":\"x3\",\"yaxis\":\"y3\"},{\"marker\":{\"color\":\"red\",\"opacity\":0.4,\"size\":19.863812097024404},\"mode\":\"markers\",\"x\":[0.25],\"y\":[0.5],\"type\":\"scatter\",\"xaxis\":\"x4\",\"yaxis\":\"y4\"},{\"marker\":{\"color\":\"green\",\"opacity\":0.4,\"size\":7.029033583485987},\"mode\":\"markers\",\"x\":[0.5],\"y\":[0.5],\"type\":\"scatter\",\"xaxis\":\"x4\",\"yaxis\":\"y4\"},{\"marker\":{\"color\":\"green\",\"opacity\":0.4,\"size\":17.048355682511247},\"mode\":\"markers\",\"x\":[0.75],\"y\":[0.5],\"type\":\"scatter\",\"xaxis\":\"x4\",\"yaxis\":\"y4\"},{\"marker\":{\"color\":\"green\",\"opacity\":0.4,\"size\":2.3333333333333335},\"mode\":\"markers\",\"x\":[0.125],\"y\":[0.5],\"type\":\"scatter\",\"xaxis\":\"x5\",\"yaxis\":\"y5\"},{\"marker\":{\"color\":\"green\",\"opacity\":0.4,\"size\":2.3333333333333335},\"mode\":\"markers\",\"x\":[0.375],\"y\":[0.5],\"type\":\"scatter\",\"xaxis\":\"x5\",\"yaxis\":\"y5\"},{\"marker\":{\"color\":\"green\",\"opacity\":0.4,\"size\":2.3333333333333335},\"mode\":\"markers\",\"x\":[0.625],\"y\":[0.5],\"type\":\"scatter\",\"xaxis\":\"x5\",\"yaxis\":\"y5\"},{\"marker\":{\"color\":\"green\",\"opacity\":0.4,\"size\":2.3333333333333335},\"mode\":\"markers\",\"x\":[0.875],\"y\":[0.5],\"type\":\"scatter\",\"xaxis\":\"x5\",\"yaxis\":\"y5\"},{\"marker\":{\"color\":\"green\",\"opacity\":0.4,\"size\":2.533024125683532},\"mode\":\"markers\",\"x\":[0.125],\"y\":[0.5],\"type\":\"scatter\",\"xaxis\":\"x6\",\"yaxis\":\"y6\"},{\"marker\":{\"color\":\"green\",\"opacity\":0.4,\"size\":27.338017998830647},\"mode\":\"markers\",\"x\":[0.375],\"y\":[0.5],\"type\":\"scatter\",\"xaxis\":\"x6\",\"yaxis\":\"y6\"},{\"marker\":{\"color\":\"green\",\"opacity\":0.4,\"size\":13.710155639106137},\"mode\":\"markers\",\"x\":[0.625],\"y\":[0.5],\"type\":\"scatter\",\"xaxis\":\"x6\",\"yaxis\":\"y6\"},{\"marker\":{\"color\":\"green\",\"opacity\":0.4,\"size\":30.707653281211318},\"mode\":\"markers\",\"x\":[0.875],\"y\":[0.5],\"type\":\"scatter\",\"xaxis\":\"x6\",\"yaxis\":\"y6\"},{\"marker\":{\"color\":\"red\",\"opacity\":0.4,\"size\":13.532908589461616},\"mode\":\"markers\",\"x\":[0.5],\"y\":[0.2],\"type\":\"scatter\",\"xaxis\":\"x2\",\"yaxis\":\"y2\"},{\"marker\":{\"color\":\"red\",\"opacity\":0.4,\"size\":39.39351622988501},\"mode\":\"markers\",\"x\":[0.5],\"y\":[0.5],\"type\":\"scatter\",\"xaxis\":\"x2\",\"yaxis\":\"y2\"},{\"marker\":{\"color\":\"green\",\"opacity\":0.4,\"size\":19.971932553112847},\"mode\":\"markers\",\"x\":[0.5],\"y\":[0.8],\"type\":\"scatter\",\"xaxis\":\"x2\",\"yaxis\":\"y2\"}],                        {\"template\":{\"data\":{\"histogram2dcontour\":[{\"type\":\"histogram2dcontour\",\"colorbar\":{\"outlinewidth\":0,\"ticks\":\"\"},\"colorscale\":[[0.0,\"#0d0887\"],[0.1111111111111111,\"#46039f\"],[0.2222222222222222,\"#7201a8\"],[0.3333333333333333,\"#9c179e\"],[0.4444444444444444,\"#bd3786\"],[0.5555555555555556,\"#d8576b\"],[0.6666666666666666,\"#ed7953\"],[0.7777777777777778,\"#fb9f3a\"],[0.8888888888888888,\"#fdca26\"],[1.0,\"#f0f921\"]]}],\"choropleth\":[{\"type\":\"choropleth\",\"colorbar\":{\"outlinewidth\":0,\"ticks\":\"\"}}],\"histogram2d\":[{\"type\":\"histogram2d\",\"colorbar\":{\"outlinewidth\":0,\"ticks\":\"\"},\"colorscale\":[[0.0,\"#0d0887\"],[0.1111111111111111,\"#46039f\"],[0.2222222222222222,\"#7201a8\"],[0.3333333333333333,\"#9c179e\"],[0.4444444444444444,\"#bd3786\"],[0.5555555555555556,\"#d8576b\"],[0.6666666666666666,\"#ed7953\"],[0.7777777777777778,\"#fb9f3a\"],[0.8888888888888888,\"#fdca26\"],[1.0,\"#f0f921\"]]}],\"heatmap\":[{\"type\":\"heatmap\",\"colorbar\":{\"outlinewidth\":0,\"ticks\":\"\"},\"colorscale\":[[0.0,\"#0d0887\"],[0.1111111111111111,\"#46039f\"],[0.2222222222222222,\"#7201a8\"],[0.3333333333333333,\"#9c179e\"],[0.4444444444444444,\"#bd3786\"],[0.5555555555555556,\"#d8576b\"],[0.6666666666666666,\"#ed7953\"],[0.7777777777777778,\"#fb9f3a\"],[0.8888888888888888,\"#fdca26\"],[1.0,\"#f0f921\"]]}],\"heatmapgl\":[{\"type\":\"heatmapgl\",\"colorbar\":{\"outlinewidth\":0,\"ticks\":\"\"},\"colorscale\":[[0.0,\"#0d0887\"],[0.1111111111111111,\"#46039f\"],[0.2222222222222222,\"#7201a8\"],[0.3333333333333333,\"#9c179e\"],[0.4444444444444444,\"#bd3786\"],[0.5555555555555556,\"#d8576b\"],[0.6666666666666666,\"#ed7953\"],[0.7777777777777778,\"#fb9f3a\"],[0.8888888888888888,\"#fdca26\"],[1.0,\"#f0f921\"]]}],\"contourcarpet\":[{\"type\":\"contourcarpet\",\"colorbar\":{\"outlinewidth\":0,\"ticks\":\"\"}}],\"contour\":[{\"type\":\"contour\",\"colorbar\":{\"outlinewidth\":0,\"ticks\":\"\"},\"colorscale\":[[0.0,\"#0d0887\"],[0.1111111111111111,\"#46039f\"],[0.2222222222222222,\"#7201a8\"],[0.3333333333333333,\"#9c179e\"],[0.4444444444444444,\"#bd3786\"],[0.5555555555555556,\"#d8576b\"],[0.6666666666666666,\"#ed7953\"],[0.7777777777777778,\"#fb9f3a\"],[0.8888888888888888,\"#fdca26\"],[1.0,\"#f0f921\"]]}],\"surface\":[{\"type\":\"surface\",\"colorbar\":{\"outlinewidth\":0,\"ticks\":\"\"},\"colorscale\":[[0.0,\"#0d0887\"],[0.1111111111111111,\"#46039f\"],[0.2222222222222222,\"#7201a8\"],[0.3333333333333333,\"#9c179e\"],[0.4444444444444444,\"#bd3786\"],[0.5555555555555556,\"#d8576b\"],[0.6666666666666666,\"#ed7953\"],[0.7777777777777778,\"#fb9f3a\"],[0.8888888888888888,\"#fdca26\"],[1.0,\"#f0f921\"]]}],\"mesh3d\":[{\"type\":\"mesh3d\",\"colorbar\":{\"outlinewidth\":0,\"ticks\":\"\"}}],\"scatter\":[{\"fillpattern\":{\"fillmode\":\"overlay\",\"size\":10,\"solidity\":0.2},\"type\":\"scatter\"}],\"parcoords\":[{\"type\":\"parcoords\",\"line\":{\"colorbar\":{\"outlinewidth\":0,\"ticks\":\"\"}}}],\"scatterpolargl\":[{\"type\":\"scatterpolargl\",\"marker\":{\"colorbar\":{\"outlinewidth\":0,\"ticks\":\"\"}}}],\"bar\":[{\"error_x\":{\"color\":\"#2a3f5f\"},\"error_y\":{\"color\":\"#2a3f5f\"},\"marker\":{\"line\":{\"color\":\"#E5ECF6\",\"width\":0.5},\"pattern\":{\"fillmode\":\"overlay\",\"size\":10,\"solidity\":0.2}},\"type\":\"bar\"}],\"scattergeo\":[{\"type\":\"scattergeo\",\"marker\":{\"colorbar\":{\"outlinewidth\":0,\"ticks\":\"\"}}}],\"scatterpolar\":[{\"type\":\"scatterpolar\",\"marker\":{\"colorbar\":{\"outlinewidth\":0,\"ticks\":\"\"}}}],\"histogram\":[{\"marker\":{\"pattern\":{\"fillmode\":\"overlay\",\"size\":10,\"solidity\":0.2}},\"type\":\"histogram\"}],\"scattergl\":[{\"type\":\"scattergl\",\"marker\":{\"colorbar\":{\"outlinewidth\":0,\"ticks\":\"\"}}}],\"scatter3d\":[{\"type\":\"scatter3d\",\"line\":{\"colorbar\":{\"outlinewidth\":0,\"ticks\":\"\"}},\"marker\":{\"colorbar\":{\"outlinewidth\":0,\"ticks\":\"\"}}}],\"scattermapbox\":[{\"type\":\"scattermapbox\",\"marker\":{\"colorbar\":{\"outlinewidth\":0,\"ticks\":\"\"}}}],\"scatterternary\":[{\"type\":\"scatterternary\",\"marker\":{\"colorbar\":{\"outlinewidth\":0,\"ticks\":\"\"}}}],\"scattercarpet\":[{\"type\":\"scattercarpet\",\"marker\":{\"colorbar\":{\"outlinewidth\":0,\"ticks\":\"\"}}}],\"carpet\":[{\"aaxis\":{\"endlinecolor\":\"#2a3f5f\",\"gridcolor\":\"white\",\"linecolor\":\"white\",\"minorgridcolor\":\"white\",\"startlinecolor\":\"#2a3f5f\"},\"baxis\":{\"endlinecolor\":\"#2a3f5f\",\"gridcolor\":\"white\",\"linecolor\":\"white\",\"minorgridcolor\":\"white\",\"startlinecolor\":\"#2a3f5f\"},\"type\":\"carpet\"}],\"table\":[{\"cells\":{\"fill\":{\"color\":\"#EBF0F8\"},\"line\":{\"color\":\"white\"}},\"header\":{\"fill\":{\"color\":\"#C8D4E3\"},\"line\":{\"color\":\"white\"}},\"type\":\"table\"}],\"barpolar\":[{\"marker\":{\"line\":{\"color\":\"#E5ECF6\",\"width\":0.5},\"pattern\":{\"fillmode\":\"overlay\",\"size\":10,\"solidity\":0.2}},\"type\":\"barpolar\"}],\"pie\":[{\"automargin\":true,\"type\":\"pie\"}]},\"layout\":{\"autotypenumbers\":\"strict\",\"colorway\":[\"#636efa\",\"#EF553B\",\"#00cc96\",\"#ab63fa\",\"#FFA15A\",\"#19d3f3\",\"#FF6692\",\"#B6E880\",\"#FF97FF\",\"#FECB52\"],\"font\":{\"color\":\"#2a3f5f\"},\"hovermode\":\"closest\",\"hoverlabel\":{\"align\":\"left\"},\"paper_bgcolor\":\"white\",\"plot_bgcolor\":\"#E5ECF6\",\"polar\":{\"bgcolor\":\"#E5ECF6\",\"angularaxis\":{\"gridcolor\":\"white\",\"linecolor\":\"white\",\"ticks\":\"\"},\"radialaxis\":{\"gridcolor\":\"white\",\"linecolor\":\"white\",\"ticks\":\"\"}},\"ternary\":{\"bgcolor\":\"#E5ECF6\",\"aaxis\":{\"gridcolor\":\"white\",\"linecolor\":\"white\",\"ticks\":\"\"},\"baxis\":{\"gridcolor\":\"white\",\"linecolor\":\"white\",\"ticks\":\"\"},\"caxis\":{\"gridcolor\":\"white\",\"linecolor\":\"white\",\"ticks\":\"\"}},\"coloraxis\":{\"colorbar\":{\"outlinewidth\":0,\"ticks\":\"\"}},\"colorscale\":{\"sequential\":[[0.0,\"#0d0887\"],[0.1111111111111111,\"#46039f\"],[0.2222222222222222,\"#7201a8\"],[0.3333333333333333,\"#9c179e\"],[0.4444444444444444,\"#bd3786\"],[0.5555555555555556,\"#d8576b\"],[0.6666666666666666,\"#ed7953\"],[0.7777777777777778,\"#fb9f3a\"],[0.8888888888888888,\"#fdca26\"],[1.0,\"#f0f921\"]],\"sequentialminus\":[[0.0,\"#0d0887\"],[0.1111111111111111,\"#46039f\"],[0.2222222222222222,\"#7201a8\"],[0.3333333333333333,\"#9c179e\"],[0.4444444444444444,\"#bd3786\"],[0.5555555555555556,\"#d8576b\"],[0.6666666666666666,\"#ed7953\"],[0.7777777777777778,\"#fb9f3a\"],[0.8888888888888888,\"#fdca26\"],[1.0,\"#f0f921\"]],\"diverging\":[[0,\"#8e0152\"],[0.1,\"#c51b7d\"],[0.2,\"#de77ae\"],[0.3,\"#f1b6da\"],[0.4,\"#fde0ef\"],[0.5,\"#f7f7f7\"],[0.6,\"#e6f5d0\"],[0.7,\"#b8e186\"],[0.8,\"#7fbc41\"],[0.9,\"#4d9221\"],[1,\"#276419\"]]},\"xaxis\":{\"gridcolor\":\"white\",\"linecolor\":\"white\",\"ticks\":\"\",\"title\":{\"standoff\":15},\"zerolinecolor\":\"white\",\"automargin\":true,\"zerolinewidth\":2},\"yaxis\":{\"gridcolor\":\"white\",\"linecolor\":\"white\",\"ticks\":\"\",\"title\":{\"standoff\":15},\"zerolinecolor\":\"white\",\"automargin\":true,\"zerolinewidth\":2},\"scene\":{\"xaxis\":{\"backgroundcolor\":\"#E5ECF6\",\"gridcolor\":\"white\",\"linecolor\":\"white\",\"showbackground\":true,\"ticks\":\"\",\"zerolinecolor\":\"white\",\"gridwidth\":2},\"yaxis\":{\"backgroundcolor\":\"#E5ECF6\",\"gridcolor\":\"white\",\"linecolor\":\"white\",\"showbackground\":true,\"ticks\":\"\",\"zerolinecolor\":\"white\",\"gridwidth\":2},\"zaxis\":{\"backgroundcolor\":\"#E5ECF6\",\"gridcolor\":\"white\",\"linecolor\":\"white\",\"showbackground\":true,\"ticks\":\"\",\"zerolinecolor\":\"white\",\"gridwidth\":2}},\"shapedefaults\":{\"line\":{\"color\":\"#2a3f5f\"}},\"annotationdefaults\":{\"arrowcolor\":\"#2a3f5f\",\"arrowhead\":0,\"arrowwidth\":1},\"geo\":{\"bgcolor\":\"white\",\"landcolor\":\"#E5ECF6\",\"subunitcolor\":\"white\",\"showland\":true,\"showlakes\":true,\"lakecolor\":\"white\"},\"title\":{\"x\":0.05},\"mapbox\":{\"style\":\"light\"}}},\"xaxis\":{\"anchor\":\"y\",\"domain\":[0.29647058823529415,0.5729411764705883],\"tickvals\":[0.125,0.375,0.625,0.875],\"ticktext\":[\"Worker\",\"Capital\",\"Energy\",\"Resource\"]},\"yaxis\":{\"anchor\":\"x\",\"domain\":[0.7333333333333333,1.0],\"range\":[0.3,0.7],\"tickvals\":[0.5],\"ticktext\":[\"extraction\"]},\"xaxis2\":{\"anchor\":\"y2\",\"domain\":[0.8894117647058823,1.0],\"range\":[0.3,0.7],\"tickvals\":[0.5],\"ticktext\":[\"Decision-Making\"]},\"yaxis2\":{\"anchor\":\"x2\",\"domain\":[0.0,1.0],\"tickvals\":[0.2,0.5,0.8],\"ticktext\":[\"Ineq\",\"Voice\",\"Gender\"]},\"xaxis3\":{\"anchor\":\"y3\",\"domain\":[0.0,0.27647058823529413],\"tickvals\":[0.125,0.375,0.625,0.875],\"ticktext\":[\"State\",\"Market\",\"Household\",\"Commons\"]},\"yaxis3\":{\"anchor\":\"x3\",\"domain\":[0.36666666666666664,0.6333333333333333],\"range\":[0.3,0.7],\"tickvals\":[0.5],\"ticktext\":[\"realms\"]},\"xaxis4\":{\"anchor\":\"y4\",\"domain\":[0.29647058823529415,0.5729411764705883],\"tickvals\":[0.25,0.5,0.75],\"ticktext\":[\"Agriculture\",\"Industry\",\"Services\"]},\"yaxis4\":{\"anchor\":\"x4\",\"domain\":[0.36666666666666664,0.6333333333333333],\"range\":[0.3,0.7],\"tickvals\":[0.5],\"ticktext\":[\"industry\"]},\"xaxis5\":{\"anchor\":\"y5\",\"domain\":[0.5929411764705883,0.8694117647058824],\"tickvals\":[0.125,0.375,0.625,0.875],\"ticktext\":[\"Core\",\"Foundational\",\"Overlooked\",\"Competitive\"]},\"yaxis5\":{\"anchor\":\"x5\",\"domain\":[0.36666666666666664,0.6333333333333333],\"range\":[0.3,0.7],\"tickvals\":[0.5],\"ticktext\":[\"foundational\"]},\"xaxis6\":{\"anchor\":\"y6\",\"domain\":[0.29647058823529415,0.5729411764705883],\"tickvals\":[0.125,0.375,0.625,0.875],\"ticktext\":[\"Accumulation\",\"Needs\",\"HDI\",\"Waste\"]},\"yaxis6\":{\"anchor\":\"x6\",\"domain\":[0.0,0.26666666666666666],\"range\":[0.3,0.7],\"tickvals\":[0.5],\"ticktext\":[\"dissipation\"]},\"annotations\":[{\"font\":{\"size\":20},\"showarrow\":false,\"text\":\"Year: 2010\",\"x\":0.05,\"xref\":\"paper\",\"y\":0.95,\"yref\":\"paper\"}],\"updatemenus\":[{\"buttons\":[{\"args\":[null,{\"frame\":{\"duration\":1000}}],\"label\":\"Play\",\"method\":\"animate\"},{\"args\":[[null],{\"frame\":{\"duration\":0,\"redraw\":false}}],\"label\":\"Pause\",\"method\":\"animate\"}],\"showactive\":false,\"type\":\"buttons\"}],\"showlegend\":false},                        {\"responsive\": true}                    ).then(function(){\n                            Plotly.addFrames('b91ca038-6571-4d3e-9346-d5e9525cc1cf', [{\"data\":[{\"marker\":{\"color\":\"green\",\"opacity\":0.4,\"size\":3.141014554801713},\"mode\":\"markers\",\"x\":[0.125],\"xaxis\":\"x\",\"y\":[0.5],\"yaxis\":\"y\",\"type\":\"scatter\"},{\"marker\":{\"color\":\"green\",\"opacity\":0.4,\"size\":24.33997664811432},\"mode\":\"markers\",\"x\":[0.375],\"xaxis\":\"x\",\"y\":[0.5],\"yaxis\":\"y\",\"type\":\"scatter\"},{\"marker\":{\"color\":\"green\",\"opacity\":0.4,\"size\":9.312424595361884},\"mode\":\"markers\",\"x\":[0.625],\"xaxis\":\"x\",\"y\":[0.5],\"yaxis\":\"y\",\"type\":\"scatter\"},{\"marker\":{\"color\":\"green\",\"opacity\":0.4,\"size\":2.3333333333333335},\"mode\":\"markers\",\"x\":[0.875],\"xaxis\":\"x\",\"y\":[0.5],\"yaxis\":\"y\",\"type\":\"scatter\"},{\"marker\":{\"color\":\"green\",\"opacity\":0.4,\"size\":9.861376419839562},\"mode\":\"markers\",\"x\":[0.125],\"xaxis\":\"x3\",\"y\":[0.5],\"yaxis\":\"y3\",\"type\":\"scatter\"},{\"marker\":{\"color\":\"green\",\"opacity\":0.4,\"size\":6.800970676627546},\"mode\":\"markers\",\"x\":[0.375],\"xaxis\":\"x3\",\"y\":[0.5],\"yaxis\":\"y3\",\"type\":\"scatter\"},{\"marker\":{\"color\":\"red\",\"opacity\":0.4,\"size\":10.268515507371406},\"mode\":\"markers\",\"x\":[0.625],\"xaxis\":\"x3\",\"y\":[0.5],\"yaxis\":\"y3\",\"type\":\"scatter\"},{\"marker\":{\"color\":\"green\",\"opacity\":0.4,\"size\":2.3333333333333335},\"mode\":\"markers\",\"x\":[0.875],\"xaxis\":\"x3\",\"y\":[0.5],\"yaxis\":\"y3\",\"type\":\"scatter\"},{\"marker\":{\"color\":\"red\",\"opacity\":0.4,\"size\":17.09634385807589},\"mode\":\"markers\",\"x\":[0.25],\"xaxis\":\"x4\",\"y\":[0.5],\"yaxis\":\"y4\",\"type\":\"scatter\"},{\"marker\":{\"color\":\"green\",\"opacity\":0.4,\"size\":8.442363274786247},\"mode\":\"markers\",\"x\":[0.5],\"xaxis\":\"x4\",\"y\":[0.5],\"yaxis\":\"y4\",\"type\":\"scatter\"},{\"marker\":{\"color\":\"green\",\"opacity\":0.4,\"size\":15.6560339052391},\"mode\":\"markers\",\"x\":[0.75],\"xaxis\":\"x4\",\"y\":[0.5],\"yaxis\":\"y4\",\"type\":\"scatter\"},{\"marker\":{\"color\":\"green\",\"opacity\":0.4,\"size\":2.3333333333333335},\"mode\":\"markers\",\"x\":[0.125],\"xaxis\":\"x5\",\"y\":[0.5],\"yaxis\":\"y5\",\"type\":\"scatter\"},{\"marker\":{\"color\":\"green\",\"opacity\":0.4,\"size\":2.3333333333333335},\"mode\":\"markers\",\"x\":[0.375],\"xaxis\":\"x5\",\"y\":[0.5],\"yaxis\":\"y5\",\"type\":\"scatter\"},{\"marker\":{\"color\":\"green\",\"opacity\":0.4,\"size\":2.3333333333333335},\"mode\":\"markers\",\"x\":[0.625],\"xaxis\":\"x5\",\"y\":[0.5],\"yaxis\":\"y5\",\"type\":\"scatter\"},{\"marker\":{\"color\":\"green\",\"opacity\":0.4,\"size\":2.3333333333333335},\"mode\":\"markers\",\"x\":[0.875],\"xaxis\":\"x5\",\"y\":[0.5],\"yaxis\":\"y5\",\"type\":\"scatter\"},{\"marker\":{\"color\":\"green\",\"opacity\":0.4,\"size\":4.347675252161578},\"mode\":\"markers\",\"x\":[0.125],\"xaxis\":\"x6\",\"y\":[0.5],\"yaxis\":\"y6\",\"type\":\"scatter\"},{\"marker\":{\"color\":\"green\",\"opacity\":0.4,\"size\":27.79894069619123},\"mode\":\"markers\",\"x\":[0.375],\"xaxis\":\"x6\",\"y\":[0.5],\"yaxis\":\"y6\",\"type\":\"scatter\"},{\"marker\":{\"color\":\"green\",\"opacity\":0.4,\"size\":13.981687128710004},\"mode\":\"markers\",\"x\":[0.625],\"xaxis\":\"x6\",\"y\":[0.5],\"yaxis\":\"y6\",\"type\":\"scatter\"},{\"marker\":{\"color\":\"green\",\"opacity\":0.4,\"size\":34.415580919002345},\"mode\":\"markers\",\"x\":[0.875],\"xaxis\":\"x6\",\"y\":[0.5],\"yaxis\":\"y6\",\"type\":\"scatter\"},{\"marker\":{\"color\":\"red\",\"opacity\":0.4,\"size\":15.27285397953525},\"mode\":\"markers\",\"x\":[0.5],\"xaxis\":\"x2\",\"y\":[0.2],\"yaxis\":\"y2\",\"type\":\"scatter\"},{\"marker\":{\"color\":\"red\",\"opacity\":0.4,\"size\":41.270869216351194},\"mode\":\"markers\",\"x\":[0.5],\"xaxis\":\"x2\",\"y\":[0.5],\"yaxis\":\"y2\",\"type\":\"scatter\"},{\"marker\":{\"color\":\"grey\",\"opacity\":0.2,\"size\":7.0},\"mode\":\"markers\",\"x\":[0.5],\"xaxis\":\"x2\",\"y\":[0.8],\"yaxis\":\"y2\",\"type\":\"scatter\"}],\"layout\":{\"annotations\":[{\"font\":{\"size\":20},\"showarrow\":false,\"text\":\"Year: 2011\",\"x\":0.05,\"xref\":\"paper\",\"y\":0.95,\"yref\":\"paper\"}]},\"name\":\"2011\"},{\"data\":[{\"marker\":{\"color\":\"green\",\"opacity\":0.4,\"size\":2.3618756816080384},\"mode\":\"markers\",\"x\":[0.125],\"xaxis\":\"x\",\"y\":[0.5],\"yaxis\":\"y\",\"type\":\"scatter\"},{\"marker\":{\"color\":\"green\",\"opacity\":0.4,\"size\":24.707424300291986},\"mode\":\"markers\",\"x\":[0.375],\"xaxis\":\"x\",\"y\":[0.5],\"yaxis\":\"y\",\"type\":\"scatter\"},{\"marker\":{\"color\":\"green\",\"opacity\":0.4,\"size\":8.891031885474234},\"mode\":\"markers\",\"x\":[0.625],\"xaxis\":\"x\",\"y\":[0.5],\"yaxis\":\"y\",\"type\":\"scatter\"},{\"marker\":{\"color\":\"green\",\"opacity\":0.4,\"size\":2.3333333333333335},\"mode\":\"markers\",\"x\":[0.875],\"xaxis\":\"x\",\"y\":[0.5],\"yaxis\":\"y\",\"type\":\"scatter\"},{\"marker\":{\"color\":\"green\",\"opacity\":0.4,\"size\":9.626582266969018},\"mode\":\"markers\",\"x\":[0.125],\"xaxis\":\"x3\",\"y\":[0.5],\"yaxis\":\"y3\",\"type\":\"scatter\"},{\"marker\":{\"color\":\"green\",\"opacity\":0.4,\"size\":7.859797888374861},\"mode\":\"markers\",\"x\":[0.375],\"xaxis\":\"x3\",\"y\":[0.5],\"yaxis\":\"y3\",\"type\":\"scatter\"},{\"marker\":{\"color\":\"red\",\"opacity\":0.4,\"size\":10.116481832510994},\"mode\":\"markers\",\"x\":[0.625],\"xaxis\":\"x3\",\"y\":[0.5],\"yaxis\":\"y3\",\"type\":\"scatter\"},{\"marker\":{\"color\":\"green\",\"opacity\":0.4,\"size\":2.3333333333333335},\"mode\":\"markers\",\"x\":[0.875],\"xaxis\":\"x3\",\"y\":[0.5],\"yaxis\":\"y3\",\"type\":\"scatter\"},{\"marker\":{\"color\":\"red\",\"opacity\":0.4,\"size\":16.674522704465318},\"mode\":\"markers\",\"x\":[0.25],\"xaxis\":\"x4\",\"y\":[0.5],\"yaxis\":\"y4\",\"type\":\"scatter\"},{\"marker\":{\"color\":\"green\",\"opacity\":0.4,\"size\":7.542249652851288},\"mode\":\"markers\",\"x\":[0.5],\"xaxis\":\"x4\",\"y\":[0.5],\"yaxis\":\"y4\",\"type\":\"scatter\"},{\"marker\":{\"color\":\"green\",\"opacity\":0.4,\"size\":16.20186526786672},\"mode\":\"markers\",\"x\":[0.75],\"xaxis\":\"x4\",\"y\":[0.5],\"yaxis\":\"y4\",\"type\":\"scatter\"},{\"marker\":{\"color\":\"green\",\"opacity\":0.4,\"size\":2.3333333333333335},\"mode\":\"markers\",\"x\":[0.125],\"xaxis\":\"x5\",\"y\":[0.5],\"yaxis\":\"y5\",\"type\":\"scatter\"},{\"marker\":{\"color\":\"green\",\"opacity\":0.4,\"size\":2.3333333333333335},\"mode\":\"markers\",\"x\":[0.375],\"xaxis\":\"x5\",\"y\":[0.5],\"yaxis\":\"y5\",\"type\":\"scatter\"},{\"marker\":{\"color\":\"green\",\"opacity\":0.4,\"size\":2.3333333333333335},\"mode\":\"markers\",\"x\":[0.625],\"xaxis\":\"x5\",\"y\":[0.5],\"yaxis\":\"y5\",\"type\":\"scatter\"},{\"marker\":{\"color\":\"green\",\"opacity\":0.4,\"size\":2.3333333333333335},\"mode\":\"markers\",\"x\":[0.875],\"xaxis\":\"x5\",\"y\":[0.5],\"yaxis\":\"y5\",\"type\":\"scatter\"},{\"marker\":{\"color\":\"green\",\"opacity\":0.4,\"size\":6.23390013445956},\"mode\":\"markers\",\"x\":[0.125],\"xaxis\":\"x6\",\"y\":[0.5],\"yaxis\":\"y6\",\"type\":\"scatter\"},{\"marker\":{\"color\":\"green\",\"opacity\":0.4,\"size\":28.31870458895939},\"mode\":\"markers\",\"x\":[0.375],\"xaxis\":\"x6\",\"y\":[0.5],\"yaxis\":\"y6\",\"type\":\"scatter\"},{\"marker\":{\"color\":\"green\",\"opacity\":0.4,\"size\":20.803699309951817},\"mode\":\"markers\",\"x\":[0.625],\"xaxis\":\"x6\",\"y\":[0.5],\"yaxis\":\"y6\",\"type\":\"scatter\"},{\"marker\":{\"color\":\"green\",\"opacity\":0.4,\"size\":31.20634915392103},\"mode\":\"markers\",\"x\":[0.875],\"xaxis\":\"x6\",\"y\":[0.5],\"yaxis\":\"y6\",\"type\":\"scatter\"},{\"marker\":{\"color\":\"red\",\"opacity\":0.4,\"size\":13.726235855025354},\"mode\":\"markers\",\"x\":[0.5],\"xaxis\":\"x2\",\"y\":[0.2],\"yaxis\":\"y2\",\"type\":\"scatter\"},{\"marker\":{\"color\":\"red\",\"opacity\":0.4,\"size\":45.51111219057653},\"mode\":\"markers\",\"x\":[0.5],\"xaxis\":\"x2\",\"y\":[0.5],\"yaxis\":\"y2\",\"type\":\"scatter\"},{\"marker\":{\"color\":\"green\",\"opacity\":0.4,\"size\":16.625977325882506},\"mode\":\"markers\",\"x\":[0.5],\"xaxis\":\"x2\",\"y\":[0.8],\"yaxis\":\"y2\",\"type\":\"scatter\"}],\"layout\":{\"annotations\":[{\"font\":{\"size\":20},\"showarrow\":false,\"text\":\"Year: 2012\",\"x\":0.05,\"xref\":\"paper\",\"y\":0.95,\"yref\":\"paper\"}]},\"name\":\"2012\"},{\"data\":[{\"marker\":{\"color\":\"green\",\"opacity\":0.4,\"size\":1.5588597916780924},\"mode\":\"markers\",\"x\":[0.125],\"xaxis\":\"x\",\"y\":[0.5],\"yaxis\":\"y\",\"type\":\"scatter\"},{\"marker\":{\"color\":\"green\",\"opacity\":0.4,\"size\":26.73639155101155},\"mode\":\"markers\",\"x\":[0.375],\"xaxis\":\"x\",\"y\":[0.5],\"yaxis\":\"y\",\"type\":\"scatter\"},{\"marker\":{\"color\":\"green\",\"opacity\":0.4,\"size\":8.770118267860122},\"mode\":\"markers\",\"x\":[0.625],\"xaxis\":\"x\",\"y\":[0.5],\"yaxis\":\"y\",\"type\":\"scatter\"},{\"marker\":{\"color\":\"green\",\"opacity\":0.4,\"size\":2.3333333333333335},\"mode\":\"markers\",\"x\":[0.875],\"xaxis\":\"x\",\"y\":[0.5],\"yaxis\":\"y\",\"type\":\"scatter\"},{\"marker\":{\"color\":\"green\",\"opacity\":0.4,\"size\":8.683607885053439},\"mode\":\"markers\",\"x\":[0.125],\"xaxis\":\"x3\",\"y\":[0.5],\"yaxis\":\"y3\",\"type\":\"scatter\"},{\"marker\":{\"color\":\"green\",\"opacity\":0.4,\"size\":8.178036910839342},\"mode\":\"markers\",\"x\":[0.375],\"xaxis\":\"x3\",\"y\":[0.5],\"yaxis\":\"y3\",\"type\":\"scatter\"},{\"marker\":{\"color\":\"red\",\"opacity\":0.4,\"size\":10.193361501259815},\"mode\":\"markers\",\"x\":[0.625],\"xaxis\":\"x3\",\"y\":[0.5],\"yaxis\":\"y3\",\"type\":\"scatter\"},{\"marker\":{\"color\":\"green\",\"opacity\":0.4,\"size\":2.3333333333333335},\"mode\":\"markers\",\"x\":[0.875],\"xaxis\":\"x3\",\"y\":[0.5],\"yaxis\":\"y3\",\"type\":\"scatter\"},{\"marker\":{\"color\":\"red\",\"opacity\":0.4,\"size\":15.935626865121279},\"mode\":\"markers\",\"x\":[0.25],\"xaxis\":\"x4\",\"y\":[0.5],\"yaxis\":\"y4\",\"type\":\"scatter\"},{\"marker\":{\"color\":\"green\",\"opacity\":0.4,\"size\":7.503644877618235},\"mode\":\"markers\",\"x\":[0.5],\"xaxis\":\"x4\",\"y\":[0.5],\"yaxis\":\"y4\",\"type\":\"scatter\"},{\"marker\":{\"color\":\"green\",\"opacity\":0.4,\"size\":16.208127881810277},\"mode\":\"markers\",\"x\":[0.75],\"xaxis\":\"x4\",\"y\":[0.5],\"yaxis\":\"y4\",\"type\":\"scatter\"},{\"marker\":{\"color\":\"green\",\"opacity\":0.4,\"size\":2.3333333333333335},\"mode\":\"markers\",\"x\":[0.125],\"xaxis\":\"x5\",\"y\":[0.5],\"yaxis\":\"y5\",\"type\":\"scatter\"},{\"marker\":{\"color\":\"green\",\"opacity\":0.4,\"size\":2.3333333333333335},\"mode\":\"markers\",\"x\":[0.375],\"xaxis\":\"x5\",\"y\":[0.5],\"yaxis\":\"y5\",\"type\":\"scatter\"},{\"marker\":{\"color\":\"green\",\"opacity\":0.4,\"size\":2.3333333333333335},\"mode\":\"markers\",\"x\":[0.625],\"xaxis\":\"x5\",\"y\":[0.5],\"yaxis\":\"y5\",\"type\":\"scatter\"},{\"marker\":{\"color\":\"green\",\"opacity\":0.4,\"size\":2.3333333333333335},\"mode\":\"markers\",\"x\":[0.875],\"xaxis\":\"x5\",\"y\":[0.5],\"yaxis\":\"y5\",\"type\":\"scatter\"},{\"marker\":{\"color\":\"green\",\"opacity\":0.4,\"size\":6.337995488970615},\"mode\":\"markers\",\"x\":[0.125],\"xaxis\":\"x6\",\"y\":[0.5],\"yaxis\":\"y6\",\"type\":\"scatter\"},{\"marker\":{\"color\":\"green\",\"opacity\":0.4,\"size\":28.551967899325643},\"mode\":\"markers\",\"x\":[0.375],\"xaxis\":\"x6\",\"y\":[0.5],\"yaxis\":\"y6\",\"type\":\"scatter\"},{\"marker\":{\"color\":\"green\",\"opacity\":0.4,\"size\":21.325045178344514},\"mode\":\"markers\",\"x\":[0.625],\"xaxis\":\"x6\",\"y\":[0.5],\"yaxis\":\"y6\",\"type\":\"scatter\"},{\"marker\":{\"color\":\"green\",\"opacity\":0.4,\"size\":31.481028445056495},\"mode\":\"markers\",\"x\":[0.875],\"xaxis\":\"x6\",\"y\":[0.5],\"yaxis\":\"y6\",\"type\":\"scatter\"},{\"marker\":{\"color\":\"red\",\"opacity\":0.4,\"size\":13.146254058334147},\"mode\":\"markers\",\"x\":[0.5],\"xaxis\":\"x2\",\"y\":[0.2],\"yaxis\":\"y2\",\"type\":\"scatter\"},{\"marker\":{\"color\":\"red\",\"opacity\":0.40097773548222737,\"size\":46.78073580625986},\"mode\":\"markers\",\"x\":[0.5],\"xaxis\":\"x2\",\"y\":[0.5],\"yaxis\":\"y2\",\"type\":\"scatter\"},{\"marker\":{\"color\":\"grey\",\"opacity\":0.2,\"size\":7.0},\"mode\":\"markers\",\"x\":[0.5],\"xaxis\":\"x2\",\"y\":[0.8],\"yaxis\":\"y2\",\"type\":\"scatter\"}],\"layout\":{\"annotations\":[{\"font\":{\"size\":20},\"showarrow\":false,\"text\":\"Year: 2013\",\"x\":0.05,\"xref\":\"paper\",\"y\":0.95,\"yref\":\"paper\"}]},\"name\":\"2013\"},{\"data\":[{\"marker\":{\"color\":\"green\",\"opacity\":0.4,\"size\":0.9589945596497331},\"mode\":\"markers\",\"x\":[0.125],\"xaxis\":\"x\",\"y\":[0.5],\"yaxis\":\"y\",\"type\":\"scatter\"},{\"marker\":{\"color\":\"green\",\"opacity\":0.4,\"size\":29.515018286611866},\"mode\":\"markers\",\"x\":[0.375],\"xaxis\":\"x\",\"y\":[0.5],\"yaxis\":\"y\",\"type\":\"scatter\"},{\"marker\":{\"color\":\"green\",\"opacity\":0.4,\"size\":8.887455615965548},\"mode\":\"markers\",\"x\":[0.625],\"xaxis\":\"x\",\"y\":[0.5],\"yaxis\":\"y\",\"type\":\"scatter\"},{\"marker\":{\"color\":\"green\",\"opacity\":0.4,\"size\":2.3333333333333335},\"mode\":\"markers\",\"x\":[0.875],\"xaxis\":\"x\",\"y\":[0.5],\"yaxis\":\"y\",\"type\":\"scatter\"},{\"marker\":{\"color\":\"green\",\"opacity\":0.4,\"size\":7.515862500989305},\"mode\":\"markers\",\"x\":[0.125],\"xaxis\":\"x3\",\"y\":[0.5],\"yaxis\":\"y3\",\"type\":\"scatter\"},{\"marker\":{\"color\":\"green\",\"opacity\":0.4,\"size\":8.455107496069894},\"mode\":\"markers\",\"x\":[0.375],\"xaxis\":\"x3\",\"y\":[0.5],\"yaxis\":\"y3\",\"type\":\"scatter\"},{\"marker\":{\"color\":\"red\",\"opacity\":0.4,\"size\":10.40615617756138},\"mode\":\"markers\",\"x\":[0.625],\"xaxis\":\"x3\",\"y\":[0.5],\"yaxis\":\"y3\",\"type\":\"scatter\"},{\"marker\":{\"color\":\"green\",\"opacity\":0.4,\"size\":2.3333333333333335},\"mode\":\"markers\",\"x\":[0.875],\"xaxis\":\"x3\",\"y\":[0.5],\"yaxis\":\"y3\",\"type\":\"scatter\"},{\"marker\":{\"color\":\"red\",\"opacity\":0.4,\"size\":18.86280576345516},\"mode\":\"markers\",\"x\":[0.25],\"xaxis\":\"x4\",\"y\":[0.5],\"yaxis\":\"y4\",\"type\":\"scatter\"},{\"marker\":{\"color\":\"green\",\"opacity\":0.4,\"size\":8.439892802621024},\"mode\":\"markers\",\"x\":[0.5],\"xaxis\":\"x4\",\"y\":[0.5],\"yaxis\":\"y4\",\"type\":\"scatter\"},{\"marker\":{\"color\":\"green\",\"opacity\":0.4,\"size\":15.811543708613314},\"mode\":\"markers\",\"x\":[0.75],\"xaxis\":\"x4\",\"y\":[0.5],\"yaxis\":\"y4\",\"type\":\"scatter\"},{\"marker\":{\"color\":\"green\",\"opacity\":0.4,\"size\":2.3333333333333335},\"mode\":\"markers\",\"x\":[0.125],\"xaxis\":\"x5\",\"y\":[0.5],\"yaxis\":\"y5\",\"type\":\"scatter\"},{\"marker\":{\"color\":\"green\",\"opacity\":0.4,\"size\":2.3333333333333335},\"mode\":\"markers\",\"x\":[0.375],\"xaxis\":\"x5\",\"y\":[0.5],\"yaxis\":\"y5\",\"type\":\"scatter\"},{\"marker\":{\"color\":\"green\",\"opacity\":0.4,\"size\":2.3333333333333335},\"mode\":\"markers\",\"x\":[0.625],\"xaxis\":\"x5\",\"y\":[0.5],\"yaxis\":\"y5\",\"type\":\"scatter\"},{\"marker\":{\"color\":\"green\",\"opacity\":0.4,\"size\":2.3333333333333335},\"mode\":\"markers\",\"x\":[0.875],\"xaxis\":\"x5\",\"y\":[0.5],\"yaxis\":\"y5\",\"type\":\"scatter\"},{\"marker\":{\"color\":\"green\",\"opacity\":0.4,\"size\":6.24211323204087},\"mode\":\"markers\",\"x\":[0.125],\"xaxis\":\"x6\",\"y\":[0.5],\"yaxis\":\"y6\",\"type\":\"scatter\"},{\"marker\":{\"color\":\"green\",\"opacity\":0.4,\"size\":28.66544734761205},\"mode\":\"markers\",\"x\":[0.375],\"xaxis\":\"x6\",\"y\":[0.5],\"yaxis\":\"y6\",\"type\":\"scatter\"},{\"marker\":{\"color\":\"green\",\"opacity\":0.4,\"size\":21.608880669955855},\"mode\":\"markers\",\"x\":[0.625],\"xaxis\":\"x6\",\"y\":[0.5],\"yaxis\":\"y6\",\"type\":\"scatter\"},{\"marker\":{\"color\":\"green\",\"opacity\":0.4,\"size\":29.578667980286195},\"mode\":\"markers\",\"x\":[0.875],\"xaxis\":\"x6\",\"y\":[0.5],\"yaxis\":\"y6\",\"type\":\"scatter\"},{\"marker\":{\"color\":\"red\",\"opacity\":0.4,\"size\":14.306217651716564},\"mode\":\"markers\",\"x\":[0.5],\"xaxis\":\"x2\",\"y\":[0.2],\"yaxis\":\"y2\",\"type\":\"scatter\"},{\"marker\":{\"color\":\"red\",\"opacity\":0.4,\"size\":43.59666535770617},\"mode\":\"markers\",\"x\":[0.5],\"xaxis\":\"x2\",\"y\":[0.5],\"yaxis\":\"y2\",\"type\":\"scatter\"},{\"marker\":{\"color\":\"green\",\"opacity\":0.4,\"size\":22.492323004130984},\"mode\":\"markers\",\"x\":[0.5],\"xaxis\":\"x2\",\"y\":[0.8],\"yaxis\":\"y2\",\"type\":\"scatter\"}],\"layout\":{\"annotations\":[{\"font\":{\"size\":20},\"showarrow\":false,\"text\":\"Year: 2014\",\"x\":0.05,\"xref\":\"paper\",\"y\":0.95,\"yref\":\"paper\"}]},\"name\":\"2014\"},{\"data\":[{\"marker\":{\"color\":\"green\",\"opacity\":0.4,\"size\":0.9589945596497331},\"mode\":\"markers\",\"x\":[0.125],\"xaxis\":\"x\",\"y\":[0.5],\"yaxis\":\"y\",\"type\":\"scatter\"},{\"marker\":{\"color\":\"green\",\"opacity\":0.4,\"size\":31.855572695045687},\"mode\":\"markers\",\"x\":[0.375],\"xaxis\":\"x\",\"y\":[0.5],\"yaxis\":\"y\",\"type\":\"scatter\"},{\"marker\":{\"color\":\"green\",\"opacity\":0.4,\"size\":8.339468621478675},\"mode\":\"markers\",\"x\":[0.625],\"xaxis\":\"x\",\"y\":[0.5],\"yaxis\":\"y\",\"type\":\"scatter\"},{\"marker\":{\"color\":\"green\",\"opacity\":0.4,\"size\":2.3333333333333335},\"mode\":\"markers\",\"x\":[0.875],\"xaxis\":\"x\",\"y\":[0.5],\"yaxis\":\"y\",\"type\":\"scatter\"},{\"marker\":{\"color\":\"green\",\"opacity\":0.4,\"size\":9.146386308649097},\"mode\":\"markers\",\"x\":[0.125],\"xaxis\":\"x3\",\"y\":[0.5],\"yaxis\":\"y3\",\"type\":\"scatter\"},{\"marker\":{\"color\":\"green\",\"opacity\":0.4,\"size\":6.0430083814369775},\"mode\":\"markers\",\"x\":[0.375],\"xaxis\":\"x3\",\"y\":[0.5],\"yaxis\":\"y3\",\"type\":\"scatter\"},{\"marker\":{\"color\":\"red\",\"opacity\":0.4,\"size\":7.803423372542939},\"mode\":\"markers\",\"x\":[0.625],\"xaxis\":\"x3\",\"y\":[0.5],\"yaxis\":\"y3\",\"type\":\"scatter\"},{\"marker\":{\"color\":\"green\",\"opacity\":0.4,\"size\":2.3333333333333335},\"mode\":\"markers\",\"x\":[0.875],\"xaxis\":\"x3\",\"y\":[0.5],\"yaxis\":\"y3\",\"type\":\"scatter\"},{\"marker\":{\"color\":\"red\",\"opacity\":0.4,\"size\":16.14969216207737},\"mode\":\"markers\",\"x\":[0.25],\"xaxis\":\"x4\",\"y\":[0.5],\"yaxis\":\"y4\",\"type\":\"scatter\"},{\"marker\":{\"color\":\"green\",\"opacity\":0.4,\"size\":3.3708905977129837},\"mode\":\"markers\",\"x\":[0.5],\"xaxis\":\"x4\",\"y\":[0.5],\"yaxis\":\"y4\",\"type\":\"scatter\"},{\"marker\":{\"color\":\"green\",\"opacity\":0.4,\"size\":18.90420186163914},\"mode\":\"markers\",\"x\":[0.75],\"xaxis\":\"x4\",\"y\":[0.5],\"yaxis\":\"y4\",\"type\":\"scatter\"},{\"marker\":{\"color\":\"green\",\"opacity\":0.4,\"size\":2.3333333333333335},\"mode\":\"markers\",\"x\":[0.125],\"xaxis\":\"x5\",\"y\":[0.5],\"yaxis\":\"y5\",\"type\":\"scatter\"},{\"marker\":{\"color\":\"green\",\"opacity\":0.4,\"size\":2.3333333333333335},\"mode\":\"markers\",\"x\":[0.375],\"xaxis\":\"x5\",\"y\":[0.5],\"yaxis\":\"y5\",\"type\":\"scatter\"},{\"marker\":{\"color\":\"green\",\"opacity\":0.4,\"size\":2.3333333333333335},\"mode\":\"markers\",\"x\":[0.625],\"xaxis\":\"x5\",\"y\":[0.5],\"yaxis\":\"y5\",\"type\":\"scatter\"},{\"marker\":{\"color\":\"green\",\"opacity\":0.4,\"size\":2.3333333333333335},\"mode\":\"markers\",\"x\":[0.875],\"xaxis\":\"x5\",\"y\":[0.5],\"yaxis\":\"y5\",\"type\":\"scatter\"},{\"marker\":{\"color\":\"green\",\"opacity\":0.4,\"size\":3.4599090514727413},\"mode\":\"markers\",\"x\":[0.125],\"xaxis\":\"x6\",\"y\":[0.5],\"yaxis\":\"y6\",\"type\":\"scatter\"},{\"marker\":{\"color\":\"green\",\"opacity\":0.4,\"size\":28.755110121566624},\"mode\":\"markers\",\"x\":[0.375],\"xaxis\":\"x6\",\"y\":[0.5],\"yaxis\":\"y6\",\"type\":\"scatter\"},{\"marker\":{\"color\":\"green\",\"opacity\":0.4,\"size\":21.671784960696897},\"mode\":\"markers\",\"x\":[0.625],\"xaxis\":\"x6\",\"y\":[0.5],\"yaxis\":\"y6\",\"type\":\"scatter\"},{\"marker\":{\"color\":\"green\",\"opacity\":0.4,\"size\":30.548705099776413},\"mode\":\"markers\",\"x\":[0.875],\"xaxis\":\"x6\",\"y\":[0.5],\"yaxis\":\"y6\",\"type\":\"scatter\"},{\"marker\":{\"color\":\"red\",\"opacity\":0.4,\"size\":13.339581323897875},\"mode\":\"markers\",\"x\":[0.5],\"xaxis\":\"x2\",\"y\":[0.2],\"yaxis\":\"y2\",\"type\":\"scatter\"},{\"marker\":{\"color\":\"red\",\"opacity\":0.410572724109264,\"size\":47.900151146080795},\"mode\":\"markers\",\"x\":[0.5],\"xaxis\":\"x2\",\"y\":[0.5],\"yaxis\":\"y2\",\"type\":\"scatter\"},{\"marker\":{\"color\":\"green\",\"opacity\":0.4,\"size\":21.200811326590628},\"mode\":\"markers\",\"x\":[0.5],\"xaxis\":\"x2\",\"y\":[0.8],\"yaxis\":\"y2\",\"type\":\"scatter\"}],\"layout\":{\"annotations\":[{\"font\":{\"size\":20},\"showarrow\":false,\"text\":\"Year: 2015\",\"x\":0.05,\"xref\":\"paper\",\"y\":0.95,\"yref\":\"paper\"}]},\"name\":\"2015\"}]);\n                        }).then(function(){\n                            \nvar gd = document.getElementById('b91ca038-6571-4d3e-9346-d5e9525cc1cf');\nvar x = new MutationObserver(function (mutations, observer) {{\n        var display = window.getComputedStyle(gd).display;\n        if (!display || display === 'none') {{\n            console.log([gd, 'removed!']);\n            Plotly.purge(gd);\n            observer.disconnect();\n        }}\n}});\n\n// Listen for the removal of the full notebook cells\nvar notebookContainer = gd.closest('#notebook-container');\nif (notebookContainer) {{\n    x.observe(notebookContainer, {childList: true});\n}}\n\n// Listen for the clearing of the current output cell\nvar outputEl = gd.closest('.output');\nif (outputEl) {{\n    x.observe(outputEl, {childList: true});\n}}\n\n                        })                };                });            </script>        </div>"
     },
     "metadata": {},
     "output_type": "display_data"
    }
   ],
   "source": [
    "def draw_plot(country, year_number, fig):\n",
    "    data_values = get_data_by_year(country, year_number)\n",
    "    if not data_values:\n",
    "        print(\"No data available for the specified country and year.\")\n",
    "        return\n",
    "\n",
    "    # Unpacking the data\n",
    "    (agriculture, industry, services, grosscapital, unemployed, wealth, gini, voice,\n",
    "     femaleminister, lifeexpectancy, education, govconsum, marketcap, houseconsum,\n",
    "     energy, mfootprint) = data_values\n",
    "\n",
    "    all_sizes = [[unemployed, wealth, energy, 0.1], [govconsum, marketcap, houseconsum, 0.1],\n",
    "                 [agriculture, industry, services],\n",
    "                 [0.1, 0.1, 0.1, 0.1],\n",
    "                 [grosscapital, lifeexpectancy, education, mfootprint]]\n",
    "    side_sizes = [gini, voice, femaleminister]\n",
    "\n",
    "    # Scaling factor for circle sizes\n",
    "    scaling_factor = 350\n",
    "\n",
    "    # Draw circles in main axes\n",
    "    for ax_index, sizes in enumerate(all_sizes):\n",
    "        row, col = determine_plotly_row_col(ax_index)\n",
    "        for x, size in zip(all_x_coords[ax_index], sizes):\n",
    "            color, alpha, radius = calculate_circle_properties(size)\n",
    "            fig.add_trace(\n",
    "                go.Scatter(\n",
    "                    x=[x], y=[0.5], mode='markers',\n",
    "                    marker=dict(color=color, size=radius * scaling_factor, opacity=alpha),\n",
    "                ),\n",
    "                row=row, col=col\n",
    "            )\n",
    "        # Set axis properties\n",
    "        if col != 4:  # Check if it's not the side axis\n",
    "            set_axis_properties(fig, row, col, all_x_coords[ax_index], all_x_axis_ticks[ax_index],\n",
    "                                all_y_axis_ticks[ax_index])\n",
    "\n",
    "    # Draw circles in side axis\n",
    "    for y, size in zip(side_y_coords, side_sizes):\n",
    "        color, alpha, radius = calculate_circle_properties(size)\n",
    "        fig.add_trace(\n",
    "            go.Scatter(\n",
    "                x=[0.5],  # Constant x-coordinate for all circles in the side plot\n",
    "                y=[y],  # Variable y-coordinate from side_y_coords\n",
    "                mode='markers',\n",
    "                marker=dict(color=color, size=radius * scaling_factor, opacity=alpha),\n",
    "            ),\n",
    "            row=1, col=4  # Spanning subplot in the fourth column\n",
    "        )\n",
    "\n",
    "    # Set side axis properties\n",
    "    set_side_axis_properties(fig, 1, 4, side_y_coords,\n",
    "                             all_side_ticks)  # Corrected for the spanning subplot in the second column\n",
    "\n",
    "    return fig\n",
    "\n",
    "\n",
    "fig = make_subplots(\n",
    "    rows=3, cols=4,\n",
    "    column_widths=[0.25, 0.25, 0.25, 0.1],  # Adjust these widths as needed\n",
    "    specs=[\n",
    "        [None, {\"type\": \"scatter\"}, None, {\"type\": \"scatter\", \"rowspan\": 3}],\n",
    "        [{\"type\": \"scatter\"}, {\"type\": \"scatter\"}, {\"type\": \"scatter\"}, None],\n",
    "        [None, {\"type\": \"scatter\"}, None, None]\n",
    "    ],\n",
    "    horizontal_spacing=0.02  # Adjust spacing between columns if needed\n",
    ")\n",
    "\n",
    "fig.add_annotation(\n",
    "    dict(\n",
    "        xref='paper',  # Position reference relative to the whole figure\n",
    "        yref='paper',\n",
    "        x=0.05,  # Adjust the position as needed\n",
    "        y=0.95,  # Adjust the position as needed\n",
    "        text='Year: 2010',  # Initial year\n",
    "        showarrow=False,\n",
    "        font=dict(size=20)  # Adjust font size as needed\n",
    "    )\n",
    ")\n",
    "\n",
    "country_to_plot = 'Canada'  # Change to the country you want to plot\n",
    "\n",
    "# Initialize the figure with the data for the first year\n",
    "draw_plot(country_to_plot, 2010, fig)\n",
    "\n",
    "# Create frames for each year from 2011 to 2015\n",
    "frames = []\n",
    "for year in range(2011, 2016):\n",
    "    # Clear the existing data from the figure\n",
    "    temp_fig = make_subplots(\n",
    "        rows=3, cols=4,\n",
    "        column_widths=[0.25, 0.25, 0.25, 0.1],  # Adjust these widths as needed\n",
    "        specs=[\n",
    "            [None, {\"type\": \"scatter\"}, None, {\"type\": \"scatter\", \"rowspan\": 3}],\n",
    "            [{\"type\": \"scatter\"}, {\"type\": \"scatter\"}, {\"type\": \"scatter\"}, None],\n",
    "            [None, {\"type\": \"scatter\"}, None, None]\n",
    "        ],\n",
    "        horizontal_spacing=0.02  # Adjust spacing between columns if needed\n",
    "    )\n",
    "\n",
    "    # Update temp_fig with the new data for the current year\n",
    "    draw_plot(country_to_plot, year, temp_fig)\n",
    "\n",
    "    # Create a new frame with the updated figure data\n",
    "    frame = go.Frame(\n",
    "        data=temp_fig.data,\n",
    "        name=str(year),\n",
    "        layout=dict(\n",
    "            annotations=[\n",
    "                dict(\n",
    "                    xref='paper',\n",
    "                    yref='paper',\n",
    "                    x=0.05,  # Same position as initial annotation\n",
    "                    y=0.95,  # Same position as initial annotation\n",
    "                    text=f'Year: {year}',  # Update text with current year\n",
    "                    showarrow=False,\n",
    "                    font=dict(size=20)\n",
    "                )\n",
    "            ]\n",
    "        )\n",
    "    )\n",
    "    frames.append(frame)\n",
    "\n",
    "# Add frames to the figure\n",
    "fig.frames = frames\n",
    "\n",
    "# Add play and pause button\n",
    "fig.update_layout(\n",
    "    updatemenus=[\n",
    "        dict(\n",
    "            type=\"buttons\",\n",
    "            showactive=False,\n",
    "            buttons=[\n",
    "                dict(label=\"Play\", method=\"animate\", args=[None, {\"frame\": {\"duration\": 1000}}]),\n",
    "                dict(label=\"Pause\", method=\"animate\", args=[[None], {\"frame\": {\"duration\": 0, \"redraw\": False}}])\n",
    "            ]\n",
    "        )\n",
    "    ]\n",
    ")\n",
    "\n",
    "# Show the figure\n",
    "fig.update_layout(showlegend=False)\n",
    "fig.show()"
   ],
   "metadata": {
    "collapsed": false,
    "ExecuteTime": {
     "end_time": "2023-11-18T10:46:16.616889Z",
     "start_time": "2023-11-18T10:46:16.344993Z"
    }
   },
   "id": "8120a435432c02c6"
  },
  {
   "cell_type": "code",
   "execution_count": 421,
   "outputs": [
    {
     "name": "stdout",
     "output_type": "stream",
     "text": [
      "This is the format of your plot grid:\n",
      "    (empty)      [ (1,2) x,y   ]      (empty)      ⎡ (1,4) x2,y2 ⎤\n",
      "[ (2,1) x3,y3 ]  [ (2,2) x4,y4 ]  [ (2,3) x5,y5 ]  ⎢      :      ⎟\n",
      "    (empty)      [ (3,2) x6,y6 ]      (empty)      ⎣      :      ⎦\n"
     ]
    }
   ],
   "source": [
    "fig.print_grid()"
   ],
   "metadata": {
    "collapsed": false,
    "ExecuteTime": {
     "end_time": "2023-11-18T10:46:16.619936Z",
     "start_time": "2023-11-18T10:46:16.616632Z"
    }
   },
   "id": "4a7b8eace34c940e"
  },
  {
   "cell_type": "markdown",
   "source": [],
   "metadata": {
    "collapsed": false
   },
   "id": "64611dd257313294"
  }
 ],
 "metadata": {
  "kernelspec": {
   "display_name": "Python 3",
   "language": "python",
   "name": "python3"
  },
  "language_info": {
   "codemirror_mode": {
    "name": "ipython",
    "version": 2
   },
   "file_extension": ".py",
   "mimetype": "text/x-python",
   "name": "python",
   "nbconvert_exporter": "python",
   "pygments_lexer": "ipython2",
   "version": "2.7.6"
  }
 },
 "nbformat": 4,
 "nbformat_minor": 5
}
