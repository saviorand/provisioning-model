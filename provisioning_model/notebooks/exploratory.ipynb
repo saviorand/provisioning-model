{
 "cells": [
  {
   "cell_type": "code",
   "execution_count": 77,
   "outputs": [],
   "source": [
    "import pandas as pd\n",
    "import numpy as np\n",
    "from matplotlib import pyplot as plt\n",
    "from matplotlib import gridspec\n",
    "import matplotlib.patches as patches"
   ],
   "metadata": {
    "collapsed": false,
    "ExecuteTime": {
     "end_time": "2023-11-18T20:06:43.572548Z",
     "start_time": "2023-11-18T20:06:43.499546Z"
    }
   },
   "id": "a92d9925d82b22db"
  },
  {
   "cell_type": "code",
   "execution_count": 78,
   "outputs": [],
   "source": [
    "from provisioning_model.functions.resource_flow import get_country_data, draw_arrow"
   ],
   "metadata": {
    "collapsed": false,
    "ExecuteTime": {
     "end_time": "2023-11-18T20:06:43.573704Z",
     "start_time": "2023-11-18T20:06:43.506949Z"
    }
   },
   "id": "fb59067a1a22f03c"
  },
  {
   "cell_type": "code",
   "execution_count": 79,
   "outputs": [],
   "source": [
    "all_in_one = pd.read_csv('../data/all_in_one.csv', index_col=0)\n",
    "all_in_one_no_inf = all_in_one.replace([np.inf, -np.inf], np.nan)\n",
    "wdi_outcomes = pd.read_csv('../data/wdi_outcomes.csv')\n",
    "wdi_outcomes_no_inf = wdi_outcomes.replace([np.inf, -np.inf], np.nan)\n",
    "wdi_realms = pd.read_csv('../data/wdi_realms.csv')\n",
    "wdi_realms_no_inf = wdi_realms.replace([np.inf, -np.inf], np.nan)\n",
    "un_mat_flows = pd.read_csv(\"../data/un_mat_flows.csv\")"
   ],
   "metadata": {
    "collapsed": false,
    "ExecuteTime": {
     "end_time": "2023-11-18T20:06:43.606112Z",
     "start_time": "2023-11-18T20:06:43.510306Z"
    }
   },
   "id": "f215cbbd92cbe24"
  },
  {
   "cell_type": "markdown",
   "source": [
    "## Prepare data"
   ],
   "metadata": {
    "collapsed": false
   },
   "id": "63087382e9b869af"
  },
  {
   "cell_type": "code",
   "execution_count": 80,
   "outputs": [],
   "source": [
    "# Arrays to define the structure (update as needed)\n",
    "all_x_coords = [[0.125, 0.375, 0.625, 0.875], [0.125, 0.375, 0.625, 0.875], [0.25, 0.5, 0.75],\n",
    "                [0.125, 0.375, 0.625, 0.875],\n",
    "                [0.125, 0.375, 0.625, 0.875]\n",
    "                ]\n",
    "side_y_coords = [0.2, 0.5, 0.8]  # Vertical positions for circles in the side subplot\n",
    "all_x_axis_ticks = [['Worker', 'Capital', 'Energy', 'Resource'], ['State', 'Market', 'Household', 'Commons'],\n",
    "                    ['Agriculture', 'Industry', 'Services'],\n",
    "                    ['Complexity', 'Exports', 'ResourceRents', 'Concentration'],\n",
    "                    # ['Core', 'Foundational', 'Overlooked', 'Competitive'],\n",
    "                    ['Accumulation', 'Needs', 'HDI', 'Waste']\n",
    "                    ]\n",
    "all_y_axis_ticks = [['extraction'], ['realms'], ['industry'], ['foundational'], ['dissipation']]\n",
    "all_side_ticks = ['Ineq', 'Voice', 'Gender']"
   ],
   "metadata": {
    "collapsed": false,
    "ExecuteTime": {
     "end_time": "2023-11-18T20:06:43.611008Z",
     "start_time": "2023-11-18T20:06:43.607921Z"
    }
   },
   "id": "89ae947192b6deeb"
  },
  {
   "cell_type": "code",
   "execution_count": 81,
   "outputs": [],
   "source": [
    "def get_data_by_year(country, year):\n",
    "    result = get_country_data(all_in_one_no_inf, wdi_outcomes_no_inf, wdi_realms_no_inf, un_mat_flows, country, year)\n",
    "    return result.values()"
   ],
   "metadata": {
    "collapsed": false,
    "ExecuteTime": {
     "end_time": "2023-11-18T20:06:43.617652Z",
     "start_time": "2023-11-18T20:06:43.610939Z"
    }
   },
   "id": "d12bb6549972053d"
  },
  {
   "cell_type": "code",
   "execution_count": 82,
   "outputs": [
    {
     "data": {
      "text/plain": "dict_values([-0.6921296640890301, 0.14446673990198503, 0.8101800797845345, 0.1482818164916889, 0.041099766842131416, 1.3652388297876723, -0.571696342452766, -2.05286362054632, 0.908606199711027, 1.2323618623528552, 0.928790784029867, 0.39198798465638984, 0.2589860734901562, -0.3344324302518402, 0.35740579806337175, 1.3092302185618463, 0.5642695483917598, -0.13506107503488338, -0.6279587655395149, 2.6296093797064866])"
     },
     "execution_count": 82,
     "metadata": {},
     "output_type": "execute_result"
    }
   ],
   "source": [
    "get_data_by_year(\"Canada\", 2015)"
   ],
   "metadata": {
    "collapsed": false,
    "ExecuteTime": {
     "end_time": "2023-11-18T20:06:43.633101Z",
     "start_time": "2023-11-18T20:06:43.614213Z"
    }
   },
   "id": "e67920b0cb2aee5e"
  },
  {
   "cell_type": "markdown",
   "source": [
    "## Draw plots"
   ],
   "metadata": {
    "collapsed": false
   },
   "id": "11b5fedb1bacd2c8"
  },
  {
   "cell_type": "code",
   "execution_count": 92,
   "outputs": [
    {
     "data": {
      "application/vnd.plotly.v1+json": {
       "data": [
        {
         "hovertemplate": "unemployed: nan",
         "marker": {
          "color": "grey",
          "opacity": 0.2,
          "size": 7.0
         },
         "mode": "markers",
         "x": [
          0.125
         ],
         "y": [
          0.5
         ],
         "type": "scatter",
         "xaxis": "x",
         "yaxis": "y"
        },
        {
         "hovertemplate": "wealth: nan",
         "marker": {
          "color": "grey",
          "opacity": 0.2,
          "size": 7.0
         },
         "mode": "markers",
         "x": [
          0.375
         ],
         "y": [
          0.5
         ],
         "type": "scatter",
         "xaxis": "x",
         "yaxis": "y"
        },
        {
         "hovertemplate": "energy: nan",
         "marker": {
          "color": "grey",
          "opacity": 0.2,
          "size": 7.0
         },
         "mode": "markers",
         "x": [
          0.625
         ],
         "y": [
          0.5
         ],
         "type": "scatter",
         "xaxis": "x",
         "yaxis": "y"
        },
        {
         "hovertemplate": "placeholder: 0.1",
         "marker": {
          "color": "green",
          "opacity": 0.4,
          "size": 2.3333333333333335
         },
         "mode": "markers",
         "x": [
          0.875
         ],
         "y": [
          0.5
         ],
         "type": "scatter",
         "xaxis": "x",
         "yaxis": "y"
        },
        {
         "hovertemplate": "govconsum: -0.78",
         "marker": {
          "color": "red",
          "opacity": 0.4,
          "size": 18.225237664069198
         },
         "mode": "markers",
         "x": [
          0.125
         ],
         "y": [
          0.5
         ],
         "type": "scatter",
         "xaxis": "x3",
         "yaxis": "y3"
        },
        {
         "hovertemplate": "marketcap: -0.46",
         "marker": {
          "color": "red",
          "opacity": 0.4,
          "size": 10.732861349216712
         },
         "mode": "markers",
         "x": [
          0.375
         ],
         "y": [
          0.5
         ],
         "type": "scatter",
         "xaxis": "x3",
         "yaxis": "y3"
        },
        {
         "hovertemplate": "houseconsum: -0.44",
         "marker": {
          "color": "red",
          "opacity": 0.4,
          "size": 10.212646603798346
         },
         "mode": "markers",
         "x": [
          0.625
         ],
         "y": [
          0.5
         ],
         "type": "scatter",
         "xaxis": "x3",
         "yaxis": "y3"
        },
        {
         "hovertemplate": "placeholder: 0.1",
         "marker": {
          "color": "green",
          "opacity": 0.4,
          "size": 2.3333333333333335
         },
         "mode": "markers",
         "x": [
          0.875
         ],
         "y": [
          0.5
         ],
         "type": "scatter",
         "xaxis": "x3",
         "yaxis": "y3"
        },
        {
         "hovertemplate": "agriculture: 0.61",
         "marker": {
          "color": "green",
          "opacity": 0.4,
          "size": 14.208588209825812
         },
         "mode": "markers",
         "x": [
          0.25
         ],
         "y": [
          0.5
         ],
         "type": "scatter",
         "xaxis": "x4",
         "yaxis": "y4"
        },
        {
         "hovertemplate": "industry: 0.82",
         "marker": {
          "color": "green",
          "opacity": 0.4,
          "size": 19.173486343833243
         },
         "mode": "markers",
         "x": [
          0.5
         ],
         "y": [
          0.5
         ],
         "type": "scatter",
         "xaxis": "x4",
         "yaxis": "y4"
        },
        {
         "hovertemplate": "services: -0.92",
         "marker": {
          "color": "red",
          "opacity": 0.4,
          "size": 21.488662177886408
         },
         "mode": "markers",
         "x": [
          0.75
         ],
         "y": [
          0.5
         ],
         "type": "scatter",
         "xaxis": "x4",
         "yaxis": "y4"
        },
        {
         "hovertemplate": "eci: nan",
         "marker": {
          "color": "grey",
          "opacity": 0.2,
          "size": 7.0
         },
         "mode": "markers",
         "x": [
          0.125
         ],
         "y": [
          0.5
         ],
         "type": "scatter",
         "xaxis": "x5",
         "yaxis": "y5"
        },
        {
         "hovertemplate": "exports: -0.39",
         "marker": {
          "color": "red",
          "opacity": 0.4,
          "size": 9.001974505589121
         },
         "mode": "markers",
         "x": [
          0.375
         ],
         "y": [
          0.5
         ],
         "type": "scatter",
         "xaxis": "x5",
         "yaxis": "y5"
        },
        {
         "hovertemplate": "resourcerents: -0.74",
         "marker": {
          "color": "red",
          "opacity": 0.4,
          "size": 17.273418907268177
         },
         "mode": "markers",
         "x": [
          0.625
         ],
         "y": [
          0.5
         ],
         "type": "scatter",
         "xaxis": "x5",
         "yaxis": "y5"
        },
        {
         "hovertemplate": "concentration: nan",
         "marker": {
          "color": "grey",
          "opacity": 0.2,
          "size": 7.0
         },
         "mode": "markers",
         "x": [
          0.875
         ],
         "y": [
          0.5
         ],
         "type": "scatter",
         "xaxis": "x5",
         "yaxis": "y5"
        },
        {
         "hovertemplate": "grosscapital: 0.99",
         "marker": {
          "color": "green",
          "opacity": 0.4,
          "size": 23.055370266675975
         },
         "mode": "markers",
         "x": [
          0.125
         ],
         "y": [
          0.5
         ],
         "type": "scatter",
         "xaxis": "x6",
         "yaxis": "y6"
        },
        {
         "hovertemplate": "lifeexpectancy: -0.37",
         "marker": {
          "color": "red",
          "opacity": 0.4,
          "size": 8.639870540879173
         },
         "mode": "markers",
         "x": [
          0.375
         ],
         "y": [
          0.5
         ],
         "type": "scatter",
         "xaxis": "x6",
         "yaxis": "y6"
        },
        {
         "hovertemplate": "education: 0.02",
         "marker": {
          "color": "green",
          "opacity": 0.4,
          "size": 0.3619939140991745
         },
         "mode": "markers",
         "x": [
          0.625
         ],
         "y": [
          0.5
         ],
         "type": "scatter",
         "xaxis": "x6",
         "yaxis": "y6"
        },
        {
         "hovertemplate": "mfootprint: -0.41",
         "marker": {
          "color": "red",
          "opacity": 0.4,
          "size": 9.586681882688346
         },
         "mode": "markers",
         "x": [
          0.875
         ],
         "y": [
          0.5
         ],
         "type": "scatter",
         "xaxis": "x6",
         "yaxis": "y6"
        },
        {
         "hovertemplate": "gini: nan",
         "marker": {
          "color": "grey",
          "opacity": 0.2,
          "size": 7.0
         },
         "mode": "markers",
         "x": [
          0.5
         ],
         "y": [
          0.2
         ],
         "type": "scatter",
         "xaxis": "x2",
         "yaxis": "y2"
        },
        {
         "hovertemplate": "voice: nan",
         "marker": {
          "color": "grey",
          "opacity": 0.2,
          "size": 7.0
         },
         "mode": "markers",
         "x": [
          0.5
         ],
         "y": [
          0.5
         ],
         "type": "scatter",
         "xaxis": "x2",
         "yaxis": "y2"
        },
        {
         "hovertemplate": "femaleminister: nan",
         "marker": {
          "color": "grey",
          "opacity": 0.2,
          "size": 7.0
         },
         "mode": "markers",
         "x": [
          0.5
         ],
         "y": [
          0.8
         ],
         "type": "scatter",
         "xaxis": "x2",
         "yaxis": "y2"
        }
       ],
       "layout": {
        "template": {
         "data": {
          "histogram2dcontour": [
           {
            "type": "histogram2dcontour",
            "colorbar": {
             "outlinewidth": 0,
             "ticks": ""
            },
            "colorscale": [
             [
              0.0,
              "#0d0887"
             ],
             [
              0.1111111111111111,
              "#46039f"
             ],
             [
              0.2222222222222222,
              "#7201a8"
             ],
             [
              0.3333333333333333,
              "#9c179e"
             ],
             [
              0.4444444444444444,
              "#bd3786"
             ],
             [
              0.5555555555555556,
              "#d8576b"
             ],
             [
              0.6666666666666666,
              "#ed7953"
             ],
             [
              0.7777777777777778,
              "#fb9f3a"
             ],
             [
              0.8888888888888888,
              "#fdca26"
             ],
             [
              1.0,
              "#f0f921"
             ]
            ]
           }
          ],
          "choropleth": [
           {
            "type": "choropleth",
            "colorbar": {
             "outlinewidth": 0,
             "ticks": ""
            }
           }
          ],
          "histogram2d": [
           {
            "type": "histogram2d",
            "colorbar": {
             "outlinewidth": 0,
             "ticks": ""
            },
            "colorscale": [
             [
              0.0,
              "#0d0887"
             ],
             [
              0.1111111111111111,
              "#46039f"
             ],
             [
              0.2222222222222222,
              "#7201a8"
             ],
             [
              0.3333333333333333,
              "#9c179e"
             ],
             [
              0.4444444444444444,
              "#bd3786"
             ],
             [
              0.5555555555555556,
              "#d8576b"
             ],
             [
              0.6666666666666666,
              "#ed7953"
             ],
             [
              0.7777777777777778,
              "#fb9f3a"
             ],
             [
              0.8888888888888888,
              "#fdca26"
             ],
             [
              1.0,
              "#f0f921"
             ]
            ]
           }
          ],
          "heatmap": [
           {
            "type": "heatmap",
            "colorbar": {
             "outlinewidth": 0,
             "ticks": ""
            },
            "colorscale": [
             [
              0.0,
              "#0d0887"
             ],
             [
              0.1111111111111111,
              "#46039f"
             ],
             [
              0.2222222222222222,
              "#7201a8"
             ],
             [
              0.3333333333333333,
              "#9c179e"
             ],
             [
              0.4444444444444444,
              "#bd3786"
             ],
             [
              0.5555555555555556,
              "#d8576b"
             ],
             [
              0.6666666666666666,
              "#ed7953"
             ],
             [
              0.7777777777777778,
              "#fb9f3a"
             ],
             [
              0.8888888888888888,
              "#fdca26"
             ],
             [
              1.0,
              "#f0f921"
             ]
            ]
           }
          ],
          "heatmapgl": [
           {
            "type": "heatmapgl",
            "colorbar": {
             "outlinewidth": 0,
             "ticks": ""
            },
            "colorscale": [
             [
              0.0,
              "#0d0887"
             ],
             [
              0.1111111111111111,
              "#46039f"
             ],
             [
              0.2222222222222222,
              "#7201a8"
             ],
             [
              0.3333333333333333,
              "#9c179e"
             ],
             [
              0.4444444444444444,
              "#bd3786"
             ],
             [
              0.5555555555555556,
              "#d8576b"
             ],
             [
              0.6666666666666666,
              "#ed7953"
             ],
             [
              0.7777777777777778,
              "#fb9f3a"
             ],
             [
              0.8888888888888888,
              "#fdca26"
             ],
             [
              1.0,
              "#f0f921"
             ]
            ]
           }
          ],
          "contourcarpet": [
           {
            "type": "contourcarpet",
            "colorbar": {
             "outlinewidth": 0,
             "ticks": ""
            }
           }
          ],
          "contour": [
           {
            "type": "contour",
            "colorbar": {
             "outlinewidth": 0,
             "ticks": ""
            },
            "colorscale": [
             [
              0.0,
              "#0d0887"
             ],
             [
              0.1111111111111111,
              "#46039f"
             ],
             [
              0.2222222222222222,
              "#7201a8"
             ],
             [
              0.3333333333333333,
              "#9c179e"
             ],
             [
              0.4444444444444444,
              "#bd3786"
             ],
             [
              0.5555555555555556,
              "#d8576b"
             ],
             [
              0.6666666666666666,
              "#ed7953"
             ],
             [
              0.7777777777777778,
              "#fb9f3a"
             ],
             [
              0.8888888888888888,
              "#fdca26"
             ],
             [
              1.0,
              "#f0f921"
             ]
            ]
           }
          ],
          "surface": [
           {
            "type": "surface",
            "colorbar": {
             "outlinewidth": 0,
             "ticks": ""
            },
            "colorscale": [
             [
              0.0,
              "#0d0887"
             ],
             [
              0.1111111111111111,
              "#46039f"
             ],
             [
              0.2222222222222222,
              "#7201a8"
             ],
             [
              0.3333333333333333,
              "#9c179e"
             ],
             [
              0.4444444444444444,
              "#bd3786"
             ],
             [
              0.5555555555555556,
              "#d8576b"
             ],
             [
              0.6666666666666666,
              "#ed7953"
             ],
             [
              0.7777777777777778,
              "#fb9f3a"
             ],
             [
              0.8888888888888888,
              "#fdca26"
             ],
             [
              1.0,
              "#f0f921"
             ]
            ]
           }
          ],
          "mesh3d": [
           {
            "type": "mesh3d",
            "colorbar": {
             "outlinewidth": 0,
             "ticks": ""
            }
           }
          ],
          "scatter": [
           {
            "marker": {
             "line": {
              "color": "#283442"
             }
            },
            "type": "scatter"
           }
          ],
          "parcoords": [
           {
            "type": "parcoords",
            "line": {
             "colorbar": {
              "outlinewidth": 0,
              "ticks": ""
             }
            }
           }
          ],
          "scatterpolargl": [
           {
            "type": "scatterpolargl",
            "marker": {
             "colorbar": {
              "outlinewidth": 0,
              "ticks": ""
             }
            }
           }
          ],
          "bar": [
           {
            "error_x": {
             "color": "#f2f5fa"
            },
            "error_y": {
             "color": "#f2f5fa"
            },
            "marker": {
             "line": {
              "color": "rgb(17,17,17)",
              "width": 0.5
             },
             "pattern": {
              "fillmode": "overlay",
              "size": 10,
              "solidity": 0.2
             }
            },
            "type": "bar"
           }
          ],
          "scattergeo": [
           {
            "type": "scattergeo",
            "marker": {
             "colorbar": {
              "outlinewidth": 0,
              "ticks": ""
             }
            }
           }
          ],
          "scatterpolar": [
           {
            "type": "scatterpolar",
            "marker": {
             "colorbar": {
              "outlinewidth": 0,
              "ticks": ""
             }
            }
           }
          ],
          "histogram": [
           {
            "marker": {
             "pattern": {
              "fillmode": "overlay",
              "size": 10,
              "solidity": 0.2
             }
            },
            "type": "histogram"
           }
          ],
          "scattergl": [
           {
            "marker": {
             "line": {
              "color": "#283442"
             }
            },
            "type": "scattergl"
           }
          ],
          "scatter3d": [
           {
            "type": "scatter3d",
            "line": {
             "colorbar": {
              "outlinewidth": 0,
              "ticks": ""
             }
            },
            "marker": {
             "colorbar": {
              "outlinewidth": 0,
              "ticks": ""
             }
            }
           }
          ],
          "scattermapbox": [
           {
            "type": "scattermapbox",
            "marker": {
             "colorbar": {
              "outlinewidth": 0,
              "ticks": ""
             }
            }
           }
          ],
          "scatterternary": [
           {
            "type": "scatterternary",
            "marker": {
             "colorbar": {
              "outlinewidth": 0,
              "ticks": ""
             }
            }
           }
          ],
          "scattercarpet": [
           {
            "type": "scattercarpet",
            "marker": {
             "colorbar": {
              "outlinewidth": 0,
              "ticks": ""
             }
            }
           }
          ],
          "carpet": [
           {
            "aaxis": {
             "endlinecolor": "#A2B1C6",
             "gridcolor": "#506784",
             "linecolor": "#506784",
             "minorgridcolor": "#506784",
             "startlinecolor": "#A2B1C6"
            },
            "baxis": {
             "endlinecolor": "#A2B1C6",
             "gridcolor": "#506784",
             "linecolor": "#506784",
             "minorgridcolor": "#506784",
             "startlinecolor": "#A2B1C6"
            },
            "type": "carpet"
           }
          ],
          "table": [
           {
            "cells": {
             "fill": {
              "color": "#506784"
             },
             "line": {
              "color": "rgb(17,17,17)"
             }
            },
            "header": {
             "fill": {
              "color": "#2a3f5f"
             },
             "line": {
              "color": "rgb(17,17,17)"
             }
            },
            "type": "table"
           }
          ],
          "barpolar": [
           {
            "marker": {
             "line": {
              "color": "rgb(17,17,17)",
              "width": 0.5
             },
             "pattern": {
              "fillmode": "overlay",
              "size": 10,
              "solidity": 0.2
             }
            },
            "type": "barpolar"
           }
          ],
          "pie": [
           {
            "automargin": true,
            "type": "pie"
           }
          ]
         },
         "layout": {
          "autotypenumbers": "strict",
          "colorway": [
           "#636efa",
           "#EF553B",
           "#00cc96",
           "#ab63fa",
           "#FFA15A",
           "#19d3f3",
           "#FF6692",
           "#B6E880",
           "#FF97FF",
           "#FECB52"
          ],
          "font": {
           "color": "#f2f5fa"
          },
          "hovermode": "closest",
          "hoverlabel": {
           "align": "left"
          },
          "paper_bgcolor": "rgb(17,17,17)",
          "plot_bgcolor": "rgb(17,17,17)",
          "polar": {
           "bgcolor": "rgb(17,17,17)",
           "angularaxis": {
            "gridcolor": "#506784",
            "linecolor": "#506784",
            "ticks": ""
           },
           "radialaxis": {
            "gridcolor": "#506784",
            "linecolor": "#506784",
            "ticks": ""
           }
          },
          "ternary": {
           "bgcolor": "rgb(17,17,17)",
           "aaxis": {
            "gridcolor": "#506784",
            "linecolor": "#506784",
            "ticks": ""
           },
           "baxis": {
            "gridcolor": "#506784",
            "linecolor": "#506784",
            "ticks": ""
           },
           "caxis": {
            "gridcolor": "#506784",
            "linecolor": "#506784",
            "ticks": ""
           }
          },
          "coloraxis": {
           "colorbar": {
            "outlinewidth": 0,
            "ticks": ""
           }
          },
          "colorscale": {
           "sequential": [
            [
             0.0,
             "#0d0887"
            ],
            [
             0.1111111111111111,
             "#46039f"
            ],
            [
             0.2222222222222222,
             "#7201a8"
            ],
            [
             0.3333333333333333,
             "#9c179e"
            ],
            [
             0.4444444444444444,
             "#bd3786"
            ],
            [
             0.5555555555555556,
             "#d8576b"
            ],
            [
             0.6666666666666666,
             "#ed7953"
            ],
            [
             0.7777777777777778,
             "#fb9f3a"
            ],
            [
             0.8888888888888888,
             "#fdca26"
            ],
            [
             1.0,
             "#f0f921"
            ]
           ],
           "sequentialminus": [
            [
             0.0,
             "#0d0887"
            ],
            [
             0.1111111111111111,
             "#46039f"
            ],
            [
             0.2222222222222222,
             "#7201a8"
            ],
            [
             0.3333333333333333,
             "#9c179e"
            ],
            [
             0.4444444444444444,
             "#bd3786"
            ],
            [
             0.5555555555555556,
             "#d8576b"
            ],
            [
             0.6666666666666666,
             "#ed7953"
            ],
            [
             0.7777777777777778,
             "#fb9f3a"
            ],
            [
             0.8888888888888888,
             "#fdca26"
            ],
            [
             1.0,
             "#f0f921"
            ]
           ],
           "diverging": [
            [
             0,
             "#8e0152"
            ],
            [
             0.1,
             "#c51b7d"
            ],
            [
             0.2,
             "#de77ae"
            ],
            [
             0.3,
             "#f1b6da"
            ],
            [
             0.4,
             "#fde0ef"
            ],
            [
             0.5,
             "#f7f7f7"
            ],
            [
             0.6,
             "#e6f5d0"
            ],
            [
             0.7,
             "#b8e186"
            ],
            [
             0.8,
             "#7fbc41"
            ],
            [
             0.9,
             "#4d9221"
            ],
            [
             1,
             "#276419"
            ]
           ]
          },
          "xaxis": {
           "gridcolor": "#283442",
           "linecolor": "#506784",
           "ticks": "",
           "title": {
            "standoff": 15
           },
           "zerolinecolor": "#283442",
           "automargin": true,
           "zerolinewidth": 2
          },
          "yaxis": {
           "gridcolor": "#283442",
           "linecolor": "#506784",
           "ticks": "",
           "title": {
            "standoff": 15
           },
           "zerolinecolor": "#283442",
           "automargin": true,
           "zerolinewidth": 2
          },
          "scene": {
           "xaxis": {
            "backgroundcolor": "rgb(17,17,17)",
            "gridcolor": "#506784",
            "linecolor": "#506784",
            "showbackground": true,
            "ticks": "",
            "zerolinecolor": "#C8D4E3",
            "gridwidth": 2
           },
           "yaxis": {
            "backgroundcolor": "rgb(17,17,17)",
            "gridcolor": "#506784",
            "linecolor": "#506784",
            "showbackground": true,
            "ticks": "",
            "zerolinecolor": "#C8D4E3",
            "gridwidth": 2
           },
           "zaxis": {
            "backgroundcolor": "rgb(17,17,17)",
            "gridcolor": "#506784",
            "linecolor": "#506784",
            "showbackground": true,
            "ticks": "",
            "zerolinecolor": "#C8D4E3",
            "gridwidth": 2
           }
          },
          "shapedefaults": {
           "line": {
            "color": "#f2f5fa"
           }
          },
          "annotationdefaults": {
           "arrowcolor": "#f2f5fa",
           "arrowhead": 0,
           "arrowwidth": 1
          },
          "geo": {
           "bgcolor": "rgb(17,17,17)",
           "landcolor": "rgb(17,17,17)",
           "subunitcolor": "#506784",
           "showland": true,
           "showlakes": true,
           "lakecolor": "rgb(17,17,17)"
          },
          "title": {
           "x": 0.05
          },
          "updatemenudefaults": {
           "bgcolor": "#506784",
           "borderwidth": 0
          },
          "sliderdefaults": {
           "bgcolor": "#C8D4E3",
           "borderwidth": 1,
           "bordercolor": "rgb(17,17,17)",
           "tickwidth": 0
          },
          "mapbox": {
           "style": "dark"
          }
         }
        },
        "xaxis": {
         "anchor": "y",
         "domain": [
          0.29647058823529415,
          0.5729411764705883
         ],
         "tickvals": [
          0.125,
          0.375,
          0.625,
          0.875
         ],
         "ticktext": [
          "Worker",
          "Capital",
          "Energy",
          "Resource"
         ]
        },
        "yaxis": {
         "anchor": "x",
         "domain": [
          0.7333333333333333,
          1.0
         ],
         "range": [
          0.3,
          0.7
         ],
         "tickvals": [
          0.5
         ],
         "ticktext": [
          "extraction"
         ]
        },
        "xaxis2": {
         "anchor": "y2",
         "domain": [
          0.8894117647058823,
          1.0
         ],
         "range": [
          0.3,
          0.7
         ],
         "tickvals": [
          0.5
         ],
         "ticktext": [
          "Decision-Making"
         ]
        },
        "yaxis2": {
         "anchor": "x2",
         "domain": [
          0.0,
          1.0
         ],
         "tickvals": [
          0.2,
          0.5,
          0.8
         ],
         "ticktext": [
          "Ineq",
          "Voice",
          "Gender"
         ]
        },
        "xaxis3": {
         "anchor": "y3",
         "domain": [
          0.0,
          0.27647058823529413
         ],
         "tickvals": [
          0.125,
          0.375,
          0.625,
          0.875
         ],
         "ticktext": [
          "State",
          "Market",
          "Household",
          "Commons"
         ]
        },
        "yaxis3": {
         "anchor": "x3",
         "domain": [
          0.36666666666666664,
          0.6333333333333333
         ],
         "range": [
          0.3,
          0.7
         ],
         "tickvals": [
          0.5
         ],
         "ticktext": [
          "realms"
         ]
        },
        "xaxis4": {
         "anchor": "y4",
         "domain": [
          0.29647058823529415,
          0.5729411764705883
         ],
         "tickvals": [
          0.25,
          0.5,
          0.75
         ],
         "ticktext": [
          "Agriculture",
          "Industry",
          "Services"
         ]
        },
        "yaxis4": {
         "anchor": "x4",
         "domain": [
          0.36666666666666664,
          0.6333333333333333
         ],
         "range": [
          0.3,
          0.7
         ],
         "tickvals": [
          0.5
         ],
         "ticktext": [
          "industry"
         ]
        },
        "xaxis5": {
         "anchor": "y5",
         "domain": [
          0.5929411764705883,
          0.8694117647058824
         ],
         "tickvals": [
          0.125,
          0.375,
          0.625,
          0.875
         ],
         "ticktext": [
          "Complexity",
          "Exports",
          "ResourceRents",
          "Concentration"
         ]
        },
        "yaxis5": {
         "anchor": "x5",
         "domain": [
          0.36666666666666664,
          0.6333333333333333
         ],
         "range": [
          0.3,
          0.7
         ],
         "tickvals": [
          0.5
         ],
         "ticktext": [
          "foundational"
         ]
        },
        "xaxis6": {
         "anchor": "y6",
         "domain": [
          0.29647058823529415,
          0.5729411764705883
         ],
         "tickvals": [
          0.125,
          0.375,
          0.625,
          0.875
         ],
         "ticktext": [
          "Accumulation",
          "Needs",
          "HDI",
          "Waste"
         ]
        },
        "yaxis6": {
         "anchor": "x6",
         "domain": [
          0.0,
          0.26666666666666666
         ],
         "range": [
          0.3,
          0.7
         ],
         "tickvals": [
          0.5
         ],
         "ticktext": [
          "dissipation"
         ]
        },
        "annotations": [
         {
          "font": {
           "size": 18
          },
          "showarrow": false,
          "text": "Year: 1985",
          "x": 0,
          "xref": "paper",
          "y": 0.95,
          "yref": "paper"
         },
         {
          "font": {
           "size": 18
          },
          "showarrow": false,
          "text": "Country: Korea, Rep.",
          "x": 0,
          "xref": "paper",
          "y": 0.85,
          "yref": "paper"
         }
        ],
        "updatemenus": [
         {
          "buttons": [
           {
            "args": [
             null,
             {
              "frame": {
               "duration": 1000
              }
             }
            ],
            "label": "Play",
            "method": "animate"
           },
           {
            "args": [
             [
              null
             ],
             {
              "frame": {
               "duration": 0,
               "redraw": false
              }
             }
            ],
            "label": "Pause",
            "method": "animate"
           }
          ],
          "showactive": false,
          "type": "buttons"
         }
        ],
        "showlegend": false
       },
       "frames": [
        {
         "data": [
          {
           "hovertemplate": "unemployed: nan",
           "marker": {
            "color": "grey",
            "opacity": 0.2,
            "size": 7.0
           },
           "mode": "markers",
           "x": [
            0.125
           ],
           "xaxis": "x",
           "y": [
            0.5
           ],
           "yaxis": "y",
           "type": "scatter"
          },
          {
           "hovertemplate": "wealth: nan",
           "marker": {
            "color": "grey",
            "opacity": 0.2,
            "size": 7.0
           },
           "mode": "markers",
           "x": [
            0.375
           ],
           "xaxis": "x",
           "y": [
            0.5
           ],
           "yaxis": "y",
           "type": "scatter"
          },
          {
           "hovertemplate": "energy: nan",
           "marker": {
            "color": "grey",
            "opacity": 0.2,
            "size": 7.0
           },
           "mode": "markers",
           "x": [
            0.625
           ],
           "xaxis": "x",
           "y": [
            0.5
           ],
           "yaxis": "y",
           "type": "scatter"
          },
          {
           "hovertemplate": "placeholder: 0.1",
           "marker": {
            "color": "green",
            "opacity": 0.4,
            "size": 2.3333333333333335
           },
           "mode": "markers",
           "x": [
            0.875
           ],
           "xaxis": "x",
           "y": [
            0.5
           ],
           "yaxis": "y",
           "type": "scatter"
          },
          {
           "hovertemplate": "govconsum: -0.78",
           "marker": {
            "color": "red",
            "opacity": 0.4,
            "size": 18.225237664069198
           },
           "mode": "markers",
           "x": [
            0.125
           ],
           "xaxis": "x3",
           "y": [
            0.5
           ],
           "yaxis": "y3",
           "type": "scatter"
          },
          {
           "hovertemplate": "marketcap: -0.46",
           "marker": {
            "color": "red",
            "opacity": 0.4,
            "size": 10.732861349216712
           },
           "mode": "markers",
           "x": [
            0.375
           ],
           "xaxis": "x3",
           "y": [
            0.5
           ],
           "yaxis": "y3",
           "type": "scatter"
          },
          {
           "hovertemplate": "houseconsum: -0.44",
           "marker": {
            "color": "red",
            "opacity": 0.4,
            "size": 10.212646603798346
           },
           "mode": "markers",
           "x": [
            0.625
           ],
           "xaxis": "x3",
           "y": [
            0.5
           ],
           "yaxis": "y3",
           "type": "scatter"
          },
          {
           "hovertemplate": "placeholder: 0.1",
           "marker": {
            "color": "green",
            "opacity": 0.4,
            "size": 2.3333333333333335
           },
           "mode": "markers",
           "x": [
            0.875
           ],
           "xaxis": "x3",
           "y": [
            0.5
           ],
           "yaxis": "y3",
           "type": "scatter"
          },
          {
           "hovertemplate": "agriculture: 0.61",
           "marker": {
            "color": "green",
            "opacity": 0.4,
            "size": 14.208588209825812
           },
           "mode": "markers",
           "x": [
            0.25
           ],
           "xaxis": "x4",
           "y": [
            0.5
           ],
           "yaxis": "y4",
           "type": "scatter"
          },
          {
           "hovertemplate": "industry: 0.82",
           "marker": {
            "color": "green",
            "opacity": 0.4,
            "size": 19.173486343833243
           },
           "mode": "markers",
           "x": [
            0.5
           ],
           "xaxis": "x4",
           "y": [
            0.5
           ],
           "yaxis": "y4",
           "type": "scatter"
          },
          {
           "hovertemplate": "services: -0.92",
           "marker": {
            "color": "red",
            "opacity": 0.4,
            "size": 21.488662177886408
           },
           "mode": "markers",
           "x": [
            0.75
           ],
           "xaxis": "x4",
           "y": [
            0.5
           ],
           "yaxis": "y4",
           "type": "scatter"
          },
          {
           "hovertemplate": "eci: nan",
           "marker": {
            "color": "grey",
            "opacity": 0.2,
            "size": 7.0
           },
           "mode": "markers",
           "x": [
            0.125
           ],
           "xaxis": "x5",
           "y": [
            0.5
           ],
           "yaxis": "y5",
           "type": "scatter"
          },
          {
           "hovertemplate": "exports: -0.39",
           "marker": {
            "color": "red",
            "opacity": 0.4,
            "size": 9.001974505589121
           },
           "mode": "markers",
           "x": [
            0.375
           ],
           "xaxis": "x5",
           "y": [
            0.5
           ],
           "yaxis": "y5",
           "type": "scatter"
          },
          {
           "hovertemplate": "resourcerents: -0.74",
           "marker": {
            "color": "red",
            "opacity": 0.4,
            "size": 17.273418907268177
           },
           "mode": "markers",
           "x": [
            0.625
           ],
           "xaxis": "x5",
           "y": [
            0.5
           ],
           "yaxis": "y5",
           "type": "scatter"
          },
          {
           "hovertemplate": "concentration: nan",
           "marker": {
            "color": "grey",
            "opacity": 0.2,
            "size": 7.0
           },
           "mode": "markers",
           "x": [
            0.875
           ],
           "xaxis": "x5",
           "y": [
            0.5
           ],
           "yaxis": "y5",
           "type": "scatter"
          },
          {
           "hovertemplate": "grosscapital: 0.99",
           "marker": {
            "color": "green",
            "opacity": 0.4,
            "size": 23.055370266675975
           },
           "mode": "markers",
           "x": [
            0.125
           ],
           "xaxis": "x6",
           "y": [
            0.5
           ],
           "yaxis": "y6",
           "type": "scatter"
          },
          {
           "hovertemplate": "lifeexpectancy: -0.37",
           "marker": {
            "color": "red",
            "opacity": 0.4,
            "size": 8.639870540879173
           },
           "mode": "markers",
           "x": [
            0.375
           ],
           "xaxis": "x6",
           "y": [
            0.5
           ],
           "yaxis": "y6",
           "type": "scatter"
          },
          {
           "hovertemplate": "education: 0.02",
           "marker": {
            "color": "green",
            "opacity": 0.4,
            "size": 0.3619939140991745
           },
           "mode": "markers",
           "x": [
            0.625
           ],
           "xaxis": "x6",
           "y": [
            0.5
           ],
           "yaxis": "y6",
           "type": "scatter"
          },
          {
           "hovertemplate": "mfootprint: -0.41",
           "marker": {
            "color": "red",
            "opacity": 0.4,
            "size": 9.586681882688346
           },
           "mode": "markers",
           "x": [
            0.875
           ],
           "xaxis": "x6",
           "y": [
            0.5
           ],
           "yaxis": "y6",
           "type": "scatter"
          },
          {
           "hovertemplate": "gini: nan",
           "marker": {
            "color": "grey",
            "opacity": 0.2,
            "size": 7.0
           },
           "mode": "markers",
           "x": [
            0.5
           ],
           "xaxis": "x2",
           "y": [
            0.2
           ],
           "yaxis": "y2",
           "type": "scatter"
          },
          {
           "hovertemplate": "voice: nan",
           "marker": {
            "color": "grey",
            "opacity": 0.2,
            "size": 7.0
           },
           "mode": "markers",
           "x": [
            0.5
           ],
           "xaxis": "x2",
           "y": [
            0.5
           ],
           "yaxis": "y2",
           "type": "scatter"
          },
          {
           "hovertemplate": "femaleminister: nan",
           "marker": {
            "color": "grey",
            "opacity": 0.2,
            "size": 7.0
           },
           "mode": "markers",
           "x": [
            0.5
           ],
           "xaxis": "x2",
           "y": [
            0.8
           ],
           "yaxis": "y2",
           "type": "scatter"
          }
         ],
         "layout": {
          "annotations": [
           {
            "font": {
             "size": 18
            },
            "showarrow": false,
            "text": "Year: 1985",
            "x": 0,
            "xref": "paper",
            "y": 0.95,
            "yref": "paper"
           },
           {
            "font": {
             "size": 18
            },
            "showarrow": false,
            "text": "Country: Korea, Rep.",
            "x": 0,
            "xref": "paper",
            "y": 0.85,
            "yref": "paper"
           }
          ]
         },
         "name": "1985"
        },
        {
         "data": [
          {
           "hovertemplate": "unemployed: nan",
           "marker": {
            "color": "grey",
            "opacity": 0.2,
            "size": 7.0
           },
           "mode": "markers",
           "x": [
            0.125
           ],
           "xaxis": "x",
           "y": [
            0.5
           ],
           "yaxis": "y",
           "type": "scatter"
          },
          {
           "hovertemplate": "wealth: nan",
           "marker": {
            "color": "grey",
            "opacity": 0.2,
            "size": 7.0
           },
           "mode": "markers",
           "x": [
            0.375
           ],
           "xaxis": "x",
           "y": [
            0.5
           ],
           "yaxis": "y",
           "type": "scatter"
          },
          {
           "hovertemplate": "energy: nan",
           "marker": {
            "color": "grey",
            "opacity": 0.2,
            "size": 7.0
           },
           "mode": "markers",
           "x": [
            0.625
           ],
           "xaxis": "x",
           "y": [
            0.5
           ],
           "yaxis": "y",
           "type": "scatter"
          },
          {
           "hovertemplate": "placeholder: 0.1",
           "marker": {
            "color": "green",
            "opacity": 0.4,
            "size": 2.3333333333333335
           },
           "mode": "markers",
           "x": [
            0.875
           ],
           "xaxis": "x",
           "y": [
            0.5
           ],
           "yaxis": "y",
           "type": "scatter"
          },
          {
           "hovertemplate": "govconsum: -0.82",
           "marker": {
            "color": "red",
            "opacity": 0.4,
            "size": 19.16493301940729
           },
           "mode": "markers",
           "x": [
            0.125
           ],
           "xaxis": "x3",
           "y": [
            0.5
           ],
           "yaxis": "y3",
           "type": "scatter"
          },
          {
           "hovertemplate": "marketcap: -0.42",
           "marker": {
            "color": "red",
            "opacity": 0.4,
            "size": 9.915767123918789
           },
           "mode": "markers",
           "x": [
            0.375
           ],
           "xaxis": "x3",
           "y": [
            0.5
           ],
           "yaxis": "y3",
           "type": "scatter"
          },
          {
           "hovertemplate": "houseconsum: -0.59",
           "marker": {
            "color": "red",
            "opacity": 0.4,
            "size": 13.70244762124676
           },
           "mode": "markers",
           "x": [
            0.625
           ],
           "xaxis": "x3",
           "y": [
            0.5
           ],
           "yaxis": "y3",
           "type": "scatter"
          },
          {
           "hovertemplate": "placeholder: 0.1",
           "marker": {
            "color": "green",
            "opacity": 0.4,
            "size": 2.3333333333333335
           },
           "mode": "markers",
           "x": [
            0.875
           ],
           "xaxis": "x3",
           "y": [
            0.5
           ],
           "yaxis": "y3",
           "type": "scatter"
          },
          {
           "hovertemplate": "agriculture: 0.52",
           "marker": {
            "color": "green",
            "opacity": 0.4,
            "size": 12.232649640855607
           },
           "mode": "markers",
           "x": [
            0.25
           ],
           "xaxis": "x4",
           "y": [
            0.5
           ],
           "yaxis": "y4",
           "type": "scatter"
          },
          {
           "hovertemplate": "industry: 0.88",
           "marker": {
            "color": "green",
            "opacity": 0.4,
            "size": 20.468095165894837
           },
           "mode": "markers",
           "x": [
            0.5
           ],
           "xaxis": "x4",
           "y": [
            0.5
           ],
           "yaxis": "y4",
           "type": "scatter"
          },
          {
           "hovertemplate": "services: -0.87",
           "marker": {
            "color": "red",
            "opacity": 0.4,
            "size": 20.19103317750581
           },
           "mode": "markers",
           "x": [
            0.75
           ],
           "xaxis": "x4",
           "y": [
            0.5
           ],
           "yaxis": "y4",
           "type": "scatter"
          },
          {
           "hovertemplate": "eci: nan",
           "marker": {
            "color": "grey",
            "opacity": 0.2,
            "size": 7.0
           },
           "mode": "markers",
           "x": [
            0.125
           ],
           "xaxis": "x5",
           "y": [
            0.5
           ],
           "yaxis": "y5",
           "type": "scatter"
          },
          {
           "hovertemplate": "exports: -0.13",
           "marker": {
            "color": "red",
            "opacity": 0.4,
            "size": 3.024403202758537
           },
           "mode": "markers",
           "x": [
            0.375
           ],
           "xaxis": "x5",
           "y": [
            0.5
           ],
           "yaxis": "y5",
           "type": "scatter"
          },
          {
           "hovertemplate": "resourcerents: -0.95",
           "marker": {
            "color": "red",
            "opacity": 0.4,
            "size": 22.16920579609652
           },
           "mode": "markers",
           "x": [
            0.625
           ],
           "xaxis": "x5",
           "y": [
            0.5
           ],
           "yaxis": "y5",
           "type": "scatter"
          },
          {
           "hovertemplate": "concentration: nan",
           "marker": {
            "color": "grey",
            "opacity": 0.2,
            "size": 7.0
           },
           "mode": "markers",
           "x": [
            0.875
           ],
           "xaxis": "x5",
           "y": [
            0.5
           ],
           "yaxis": "y5",
           "type": "scatter"
          },
          {
           "hovertemplate": "grosscapital: 1.02",
           "marker": {
            "color": "green",
            "opacity": 0.4,
            "size": 23.739804732619177
           },
           "mode": "markers",
           "x": [
            0.125
           ],
           "xaxis": "x6",
           "y": [
            0.5
           ],
           "yaxis": "y6",
           "type": "scatter"
          },
          {
           "hovertemplate": "lifeexpectancy: -0.29",
           "marker": {
            "color": "red",
            "opacity": 0.4,
            "size": 6.769561115419743
           },
           "mode": "markers",
           "x": [
            0.375
           ],
           "xaxis": "x6",
           "y": [
            0.5
           ],
           "yaxis": "y6",
           "type": "scatter"
          },
          {
           "hovertemplate": "education: 0.04",
           "marker": {
            "color": "green",
            "opacity": 0.4,
            "size": 0.9643684927251004
           },
           "mode": "markers",
           "x": [
            0.625
           ],
           "xaxis": "x6",
           "y": [
            0.5
           ],
           "yaxis": "y6",
           "type": "scatter"
          },
          {
           "hovertemplate": "mfootprint: -0.38",
           "marker": {
            "color": "red",
            "opacity": 0.4,
            "size": 8.875623470220386
           },
           "mode": "markers",
           "x": [
            0.875
           ],
           "xaxis": "x6",
           "y": [
            0.5
           ],
           "yaxis": "y6",
           "type": "scatter"
          },
          {
           "hovertemplate": "gini: nan",
           "marker": {
            "color": "grey",
            "opacity": 0.2,
            "size": 7.0
           },
           "mode": "markers",
           "x": [
            0.5
           ],
           "xaxis": "x2",
           "y": [
            0.2
           ],
           "yaxis": "y2",
           "type": "scatter"
          },
          {
           "hovertemplate": "voice: nan",
           "marker": {
            "color": "grey",
            "opacity": 0.2,
            "size": 7.0
           },
           "mode": "markers",
           "x": [
            0.5
           ],
           "xaxis": "x2",
           "y": [
            0.5
           ],
           "yaxis": "y2",
           "type": "scatter"
          },
          {
           "hovertemplate": "femaleminister: nan",
           "marker": {
            "color": "grey",
            "opacity": 0.2,
            "size": 7.0
           },
           "mode": "markers",
           "x": [
            0.5
           ],
           "xaxis": "x2",
           "y": [
            0.8
           ],
           "yaxis": "y2",
           "type": "scatter"
          }
         ],
         "layout": {
          "annotations": [
           {
            "font": {
             "size": 18
            },
            "showarrow": false,
            "text": "Year: 1986",
            "x": 0,
            "xref": "paper",
            "y": 0.95,
            "yref": "paper"
           },
           {
            "font": {
             "size": 18
            },
            "showarrow": false,
            "text": "Country: Korea, Rep.",
            "x": 0,
            "xref": "paper",
            "y": 0.85,
            "yref": "paper"
           }
          ]
         },
         "name": "1986"
        },
        {
         "data": [
          {
           "hovertemplate": "unemployed: nan",
           "marker": {
            "color": "grey",
            "opacity": 0.2,
            "size": 7.0
           },
           "mode": "markers",
           "x": [
            0.125
           ],
           "xaxis": "x",
           "y": [
            0.5
           ],
           "yaxis": "y",
           "type": "scatter"
          },
          {
           "hovertemplate": "wealth: nan",
           "marker": {
            "color": "grey",
            "opacity": 0.2,
            "size": 7.0
           },
           "mode": "markers",
           "x": [
            0.375
           ],
           "xaxis": "x",
           "y": [
            0.5
           ],
           "yaxis": "y",
           "type": "scatter"
          },
          {
           "hovertemplate": "energy: nan",
           "marker": {
            "color": "grey",
            "opacity": 0.2,
            "size": 7.0
           },
           "mode": "markers",
           "x": [
            0.625
           ],
           "xaxis": "x",
           "y": [
            0.5
           ],
           "yaxis": "y",
           "type": "scatter"
          },
          {
           "hovertemplate": "placeholder: 0.1",
           "marker": {
            "color": "green",
            "opacity": 0.4,
            "size": 2.3333333333333335
           },
           "mode": "markers",
           "x": [
            0.875
           ],
           "xaxis": "x",
           "y": [
            0.5
           ],
           "yaxis": "y",
           "type": "scatter"
          },
          {
           "hovertemplate": "govconsum: -0.85",
           "marker": {
            "color": "red",
            "opacity": 0.4,
            "size": 19.910043676377207
           },
           "mode": "markers",
           "x": [
            0.125
           ],
           "xaxis": "x3",
           "y": [
            0.5
           ],
           "yaxis": "y3",
           "type": "scatter"
          },
          {
           "hovertemplate": "marketcap: -0.35",
           "marker": {
            "color": "red",
            "opacity": 0.4,
            "size": 8.079114450724102
           },
           "mode": "markers",
           "x": [
            0.375
           ],
           "xaxis": "x3",
           "y": [
            0.5
           ],
           "yaxis": "y3",
           "type": "scatter"
          },
          {
           "hovertemplate": "houseconsum: -0.73",
           "marker": {
            "color": "red",
            "opacity": 0.4,
            "size": 16.916915147410485
           },
           "mode": "markers",
           "x": [
            0.625
           ],
           "xaxis": "x3",
           "y": [
            0.5
           ],
           "yaxis": "y3",
           "type": "scatter"
          },
          {
           "hovertemplate": "placeholder: 0.1",
           "marker": {
            "color": "green",
            "opacity": 0.4,
            "size": 2.3333333333333335
           },
           "mode": "markers",
           "x": [
            0.875
           ],
           "xaxis": "x3",
           "y": [
            0.5
           ],
           "yaxis": "y3",
           "type": "scatter"
          },
          {
           "hovertemplate": "agriculture: 0.44",
           "marker": {
            "color": "green",
            "opacity": 0.4,
            "size": 10.358076687429937
           },
           "mode": "markers",
           "x": [
            0.25
           ],
           "xaxis": "x4",
           "y": [
            0.5
           ],
           "yaxis": "y4",
           "type": "scatter"
          },
          {
           "hovertemplate": "industry: 0.94",
           "marker": {
            "color": "green",
            "opacity": 0.4,
            "size": 21.921139913148156
           },
           "mode": "markers",
           "x": [
            0.5
           ],
           "xaxis": "x4",
           "y": [
            0.5
           ],
           "yaxis": "y4",
           "type": "scatter"
          },
          {
           "hovertemplate": "services: -0.85",
           "marker": {
            "color": "red",
            "opacity": 0.4,
            "size": 19.722331470506813
           },
           "mode": "markers",
           "x": [
            0.75
           ],
           "xaxis": "x4",
           "y": [
            0.5
           ],
           "yaxis": "y4",
           "type": "scatter"
          },
          {
           "hovertemplate": "eci: nan",
           "marker": {
            "color": "grey",
            "opacity": 0.2,
            "size": 7.0
           },
           "mode": "markers",
           "x": [
            0.125
           ],
           "xaxis": "x5",
           "y": [
            0.5
           ],
           "yaxis": "y5",
           "type": "scatter"
          },
          {
           "hovertemplate": "exports: -0.0",
           "marker": {
            "color": "red",
            "opacity": 0.4,
            "size": 0.08717940670471286
           },
           "mode": "markers",
           "x": [
            0.375
           ],
           "xaxis": "x5",
           "y": [
            0.5
           ],
           "yaxis": "y5",
           "type": "scatter"
          },
          {
           "hovertemplate": "resourcerents: -1.19",
           "marker": {
            "color": "red",
            "opacity": 0.4,
            "size": 27.860439190273258
           },
           "mode": "markers",
           "x": [
            0.625
           ],
           "xaxis": "x5",
           "y": [
            0.5
           ],
           "yaxis": "y5",
           "type": "scatter"
          },
          {
           "hovertemplate": "concentration: nan",
           "marker": {
            "color": "grey",
            "opacity": 0.2,
            "size": 7.0
           },
           "mode": "markers",
           "x": [
            0.875
           ],
           "xaxis": "x5",
           "y": [
            0.5
           ],
           "yaxis": "y5",
           "type": "scatter"
          },
          {
           "hovertemplate": "grosscapital: 1.02",
           "marker": {
            "color": "green",
            "opacity": 0.4,
            "size": 23.683449924459048
           },
           "mode": "markers",
           "x": [
            0.125
           ],
           "xaxis": "x6",
           "y": [
            0.5
           ],
           "yaxis": "y6",
           "type": "scatter"
          },
          {
           "hovertemplate": "lifeexpectancy: -0.22",
           "marker": {
            "color": "red",
            "opacity": 0.4,
            "size": 5.18645276278338
           },
           "mode": "markers",
           "x": [
            0.375
           ],
           "xaxis": "x6",
           "y": [
            0.5
           ],
           "yaxis": "y6",
           "type": "scatter"
          },
          {
           "hovertemplate": "education: 0.12",
           "marker": {
            "color": "green",
            "opacity": 0.4,
            "size": 2.807419141841016
           },
           "mode": "markers",
           "x": [
            0.625
           ],
           "xaxis": "x6",
           "y": [
            0.5
           ],
           "yaxis": "y6",
           "type": "scatter"
          },
          {
           "hovertemplate": "mfootprint: -0.35",
           "marker": {
            "color": "red",
            "opacity": 0.4,
            "size": 8.11357862480742
           },
           "mode": "markers",
           "x": [
            0.875
           ],
           "xaxis": "x6",
           "y": [
            0.5
           ],
           "yaxis": "y6",
           "type": "scatter"
          },
          {
           "hovertemplate": "gini: nan",
           "marker": {
            "color": "grey",
            "opacity": 0.2,
            "size": 7.0
           },
           "mode": "markers",
           "x": [
            0.5
           ],
           "xaxis": "x2",
           "y": [
            0.2
           ],
           "yaxis": "y2",
           "type": "scatter"
          },
          {
           "hovertemplate": "voice: nan",
           "marker": {
            "color": "grey",
            "opacity": 0.2,
            "size": 7.0
           },
           "mode": "markers",
           "x": [
            0.5
           ],
           "xaxis": "x2",
           "y": [
            0.5
           ],
           "yaxis": "y2",
           "type": "scatter"
          },
          {
           "hovertemplate": "femaleminister: nan",
           "marker": {
            "color": "grey",
            "opacity": 0.2,
            "size": 7.0
           },
           "mode": "markers",
           "x": [
            0.5
           ],
           "xaxis": "x2",
           "y": [
            0.8
           ],
           "yaxis": "y2",
           "type": "scatter"
          }
         ],
         "layout": {
          "annotations": [
           {
            "font": {
             "size": 18
            },
            "showarrow": false,
            "text": "Year: 1987",
            "x": 0,
            "xref": "paper",
            "y": 0.95,
            "yref": "paper"
           },
           {
            "font": {
             "size": 18
            },
            "showarrow": false,
            "text": "Country: Korea, Rep.",
            "x": 0,
            "xref": "paper",
            "y": 0.85,
            "yref": "paper"
           }
          ]
         },
         "name": "1987"
        },
        {
         "data": [
          {
           "hovertemplate": "unemployed: nan",
           "marker": {
            "color": "grey",
            "opacity": 0.2,
            "size": 7.0
           },
           "mode": "markers",
           "x": [
            0.125
           ],
           "xaxis": "x",
           "y": [
            0.5
           ],
           "yaxis": "y",
           "type": "scatter"
          },
          {
           "hovertemplate": "wealth: nan",
           "marker": {
            "color": "grey",
            "opacity": 0.2,
            "size": 7.0
           },
           "mode": "markers",
           "x": [
            0.375
           ],
           "xaxis": "x",
           "y": [
            0.5
           ],
           "yaxis": "y",
           "type": "scatter"
          },
          {
           "hovertemplate": "energy: nan",
           "marker": {
            "color": "grey",
            "opacity": 0.2,
            "size": 7.0
           },
           "mode": "markers",
           "x": [
            0.625
           ],
           "xaxis": "x",
           "y": [
            0.5
           ],
           "yaxis": "y",
           "type": "scatter"
          },
          {
           "hovertemplate": "placeholder: 0.1",
           "marker": {
            "color": "green",
            "opacity": 0.4,
            "size": 2.3333333333333335
           },
           "mode": "markers",
           "x": [
            0.875
           ],
           "xaxis": "x",
           "y": [
            0.5
           ],
           "yaxis": "y",
           "type": "scatter"
          },
          {
           "hovertemplate": "govconsum: -0.86",
           "marker": {
            "color": "red",
            "opacity": 0.4,
            "size": 20.09626174954053
           },
           "mode": "markers",
           "x": [
            0.125
           ],
           "xaxis": "x3",
           "y": [
            0.5
           ],
           "yaxis": "y3",
           "type": "scatter"
          },
          {
           "hovertemplate": "marketcap: -0.16",
           "marker": {
            "color": "red",
            "opacity": 0.4,
            "size": 3.6782909457074693
           },
           "mode": "markers",
           "x": [
            0.375
           ],
           "xaxis": "x3",
           "y": [
            0.5
           ],
           "yaxis": "y3",
           "type": "scatter"
          },
          {
           "hovertemplate": "houseconsum: -0.83",
           "marker": {
            "color": "red",
            "opacity": 0.4,
            "size": 19.3502309824263
           },
           "mode": "markers",
           "x": [
            0.625
           ],
           "xaxis": "x3",
           "y": [
            0.5
           ],
           "yaxis": "y3",
           "type": "scatter"
          },
          {
           "hovertemplate": "placeholder: 0.1",
           "marker": {
            "color": "green",
            "opacity": 0.4,
            "size": 2.3333333333333335
           },
           "mode": "markers",
           "x": [
            0.875
           ],
           "xaxis": "x3",
           "y": [
            0.5
           ],
           "yaxis": "y3",
           "type": "scatter"
          },
          {
           "hovertemplate": "agriculture: 0.44",
           "marker": {
            "color": "green",
            "opacity": 0.4,
            "size": 10.200890287655653
           },
           "mode": "markers",
           "x": [
            0.25
           ],
           "xaxis": "x4",
           "y": [
            0.5
           ],
           "yaxis": "y4",
           "type": "scatter"
          },
          {
           "hovertemplate": "industry: 0.98",
           "marker": {
            "color": "green",
            "opacity": 0.4,
            "size": 22.770646567811756
           },
           "mode": "markers",
           "x": [
            0.5
           ],
           "xaxis": "x4",
           "y": [
            0.5
           ],
           "yaxis": "y4",
           "type": "scatter"
          },
          {
           "hovertemplate": "services: -0.87",
           "marker": {
            "color": "red",
            "opacity": 0.4,
            "size": 20.27148983708352
           },
           "mode": "markers",
           "x": [
            0.75
           ],
           "xaxis": "x4",
           "y": [
            0.5
           ],
           "yaxis": "y4",
           "type": "scatter"
          },
          {
           "hovertemplate": "eci: nan",
           "marker": {
            "color": "grey",
            "opacity": 0.2,
            "size": 7.0
           },
           "mode": "markers",
           "x": [
            0.125
           ],
           "xaxis": "x5",
           "y": [
            0.5
           ],
           "yaxis": "y5",
           "type": "scatter"
          },
          {
           "hovertemplate": "exports: -0.11",
           "marker": {
            "color": "red",
            "opacity": 0.4,
            "size": 2.4673370488133965
           },
           "mode": "markers",
           "x": [
            0.375
           ],
           "xaxis": "x5",
           "y": [
            0.5
           ],
           "yaxis": "y5",
           "type": "scatter"
          },
          {
           "hovertemplate": "resourcerents: -1.02",
           "marker": {
            "color": "red",
            "opacity": 0.4,
            "size": 23.84828458983994
           },
           "mode": "markers",
           "x": [
            0.625
           ],
           "xaxis": "x5",
           "y": [
            0.5
           ],
           "yaxis": "y5",
           "type": "scatter"
          },
          {
           "hovertemplate": "concentration: 2.26",
           "marker": {
            "color": "green",
            "opacity": 0.4520153609373597,
            "size": 52.735125442691974
           },
           "mode": "markers",
           "x": [
            0.875
           ],
           "xaxis": "x5",
           "y": [
            0.5
           ],
           "yaxis": "y5",
           "type": "scatter"
          },
          {
           "hovertemplate": "grosscapital: 1.2",
           "marker": {
            "color": "green",
            "opacity": 0.4,
            "size": 27.956978132795754
           },
           "mode": "markers",
           "x": [
            0.125
           ],
           "xaxis": "x6",
           "y": [
            0.5
           ],
           "yaxis": "y6",
           "type": "scatter"
          },
          {
           "hovertemplate": "lifeexpectancy: -0.15",
           "marker": {
            "color": "red",
            "opacity": 0.4,
            "size": 3.603344410147301
           },
           "mode": "markers",
           "x": [
            0.375
           ],
           "xaxis": "x6",
           "y": [
            0.5
           ],
           "yaxis": "y6",
           "type": "scatter"
          },
          {
           "hovertemplate": "education: 0.11",
           "marker": {
            "color": "green",
            "opacity": 0.4,
            "size": 2.677090722886485
           },
           "mode": "markers",
           "x": [
            0.625
           ],
           "xaxis": "x6",
           "y": [
            0.5
           ],
           "yaxis": "y6",
           "type": "scatter"
          },
          {
           "hovertemplate": "mfootprint: -0.31",
           "marker": {
            "color": "red",
            "opacity": 0.4,
            "size": 7.205534533310664
           },
           "mode": "markers",
           "x": [
            0.875
           ],
           "xaxis": "x6",
           "y": [
            0.5
           ],
           "yaxis": "y6",
           "type": "scatter"
          },
          {
           "hovertemplate": "gini: nan",
           "marker": {
            "color": "grey",
            "opacity": 0.2,
            "size": 7.0
           },
           "mode": "markers",
           "x": [
            0.5
           ],
           "xaxis": "x2",
           "y": [
            0.2
           ],
           "yaxis": "y2",
           "type": "scatter"
          },
          {
           "hovertemplate": "voice: nan",
           "marker": {
            "color": "grey",
            "opacity": 0.2,
            "size": 7.0
           },
           "mode": "markers",
           "x": [
            0.5
           ],
           "xaxis": "x2",
           "y": [
            0.5
           ],
           "yaxis": "y2",
           "type": "scatter"
          },
          {
           "hovertemplate": "femaleminister: nan",
           "marker": {
            "color": "grey",
            "opacity": 0.2,
            "size": 7.0
           },
           "mode": "markers",
           "x": [
            0.5
           ],
           "xaxis": "x2",
           "y": [
            0.8
           ],
           "yaxis": "y2",
           "type": "scatter"
          }
         ],
         "layout": {
          "annotations": [
           {
            "font": {
             "size": 18
            },
            "showarrow": false,
            "text": "Year: 1988",
            "x": 0,
            "xref": "paper",
            "y": 0.95,
            "yref": "paper"
           },
           {
            "font": {
             "size": 18
            },
            "showarrow": false,
            "text": "Country: Korea, Rep.",
            "x": 0,
            "xref": "paper",
            "y": 0.85,
            "yref": "paper"
           }
          ]
         },
         "name": "1988"
        },
        {
         "data": [
          {
           "hovertemplate": "unemployed: nan",
           "marker": {
            "color": "grey",
            "opacity": 0.2,
            "size": 7.0
           },
           "mode": "markers",
           "x": [
            0.125
           ],
           "xaxis": "x",
           "y": [
            0.5
           ],
           "yaxis": "y",
           "type": "scatter"
          },
          {
           "hovertemplate": "wealth: nan",
           "marker": {
            "color": "grey",
            "opacity": 0.2,
            "size": 7.0
           },
           "mode": "markers",
           "x": [
            0.375
           ],
           "xaxis": "x",
           "y": [
            0.5
           ],
           "yaxis": "y",
           "type": "scatter"
          },
          {
           "hovertemplate": "energy: nan",
           "marker": {
            "color": "grey",
            "opacity": 0.2,
            "size": 7.0
           },
           "mode": "markers",
           "x": [
            0.625
           ],
           "xaxis": "x",
           "y": [
            0.5
           ],
           "yaxis": "y",
           "type": "scatter"
          },
          {
           "hovertemplate": "placeholder: 0.1",
           "marker": {
            "color": "green",
            "opacity": 0.4,
            "size": 2.3333333333333335
           },
           "mode": "markers",
           "x": [
            0.875
           ],
           "xaxis": "x",
           "y": [
            0.5
           ],
           "yaxis": "y",
           "type": "scatter"
          },
          {
           "hovertemplate": "govconsum: -0.77",
           "marker": {
            "color": "red",
            "opacity": 0.4,
            "size": 17.854030078852766
           },
           "mode": "markers",
           "x": [
            0.125
           ],
           "xaxis": "x3",
           "y": [
            0.5
           ],
           "yaxis": "y3",
           "type": "scatter"
          },
          {
           "hovertemplate": "marketcap: -0.08",
           "marker": {
            "color": "red",
            "opacity": 0.4,
            "size": 1.9802533559416091
           },
           "mode": "markers",
           "x": [
            0.375
           ],
           "xaxis": "x3",
           "y": [
            0.5
           ],
           "yaxis": "y3",
           "type": "scatter"
          },
          {
           "hovertemplate": "houseconsum: -0.73",
           "marker": {
            "color": "red",
            "opacity": 0.4,
            "size": 17.123068909063832
           },
           "mode": "markers",
           "x": [
            0.625
           ],
           "xaxis": "x3",
           "y": [
            0.5
           ],
           "yaxis": "y3",
           "type": "scatter"
          },
          {
           "hovertemplate": "placeholder: 0.1",
           "marker": {
            "color": "green",
            "opacity": 0.4,
            "size": 2.3333333333333335
           },
           "mode": "markers",
           "x": [
            0.875
           ],
           "xaxis": "x3",
           "y": [
            0.5
           ],
           "yaxis": "y3",
           "type": "scatter"
          },
          {
           "hovertemplate": "agriculture: 0.38",
           "marker": {
            "color": "green",
            "opacity": 0.4,
            "size": 8.936793250244888
           },
           "mode": "markers",
           "x": [
            0.25
           ],
           "xaxis": "x4",
           "y": [
            0.5
           ],
           "yaxis": "y4",
           "type": "scatter"
          },
          {
           "hovertemplate": "industry: 0.95",
           "marker": {
            "color": "green",
            "opacity": 0.4,
            "size": 22.221513653826488
           },
           "mode": "markers",
           "x": [
            0.5
           ],
           "xaxis": "x4",
           "y": [
            0.5
           ],
           "yaxis": "y4",
           "type": "scatter"
          },
          {
           "hovertemplate": "services: -0.73",
           "marker": {
            "color": "red",
            "opacity": 0.4,
            "size": 16.98878143337512
           },
           "mode": "markers",
           "x": [
            0.75
           ],
           "xaxis": "x4",
           "y": [
            0.5
           ],
           "yaxis": "y4",
           "type": "scatter"
          },
          {
           "hovertemplate": "eci: nan",
           "marker": {
            "color": "grey",
            "opacity": 0.2,
            "size": 7.0
           },
           "mode": "markers",
           "x": [
            0.125
           ],
           "xaxis": "x5",
           "y": [
            0.5
           ],
           "yaxis": "y5",
           "type": "scatter"
          },
          {
           "hovertemplate": "exports: -0.36",
           "marker": {
            "color": "red",
            "opacity": 0.4,
            "size": 8.383815625581477
           },
           "mode": "markers",
           "x": [
            0.375
           ],
           "xaxis": "x5",
           "y": [
            0.5
           ],
           "yaxis": "y5",
           "type": "scatter"
          },
          {
           "hovertemplate": "resourcerents: -1.05",
           "marker": {
            "color": "red",
            "opacity": 0.4,
            "size": 24.386159846018984
           },
           "mode": "markers",
           "x": [
            0.625
           ],
           "xaxis": "x5",
           "y": [
            0.5
           ],
           "yaxis": "y5",
           "type": "scatter"
          },
          {
           "hovertemplate": "concentration: 0.95",
           "marker": {
            "color": "green",
            "opacity": 0.4,
            "size": 22.25966688922516
           },
           "mode": "markers",
           "x": [
            0.875
           ],
           "xaxis": "x5",
           "y": [
            0.5
           ],
           "yaxis": "y5",
           "type": "scatter"
          },
          {
           "hovertemplate": "grosscapital: 1.35",
           "marker": {
            "color": "green",
            "opacity": 0.4,
            "size": 31.387785304174095
           },
           "mode": "markers",
           "x": [
            0.125
           ],
           "xaxis": "x6",
           "y": [
            0.5
           ],
           "yaxis": "y6",
           "type": "scatter"
          },
          {
           "hovertemplate": "lifeexpectancy: -0.09",
           "marker": {
            "color": "red",
            "opacity": 0.4,
            "size": 2.1673390460304582
           },
           "mode": "markers",
           "x": [
            0.375
           ],
           "xaxis": "x6",
           "y": [
            0.5
           ],
           "yaxis": "y6",
           "type": "scatter"
          },
          {
           "hovertemplate": "education: 0.17",
           "marker": {
            "color": "green",
            "opacity": 0.4,
            "size": 3.9248684753301166
           },
           "mode": "markers",
           "x": [
            0.625
           ],
           "xaxis": "x6",
           "y": [
            0.5
           ],
           "yaxis": "y6",
           "type": "scatter"
          },
          {
           "hovertemplate": "mfootprint: -0.28",
           "marker": {
            "color": "red",
            "opacity": 0.4,
            "size": 6.45384883617859
           },
           "mode": "markers",
           "x": [
            0.875
           ],
           "xaxis": "x6",
           "y": [
            0.5
           ],
           "yaxis": "y6",
           "type": "scatter"
          },
          {
           "hovertemplate": "gini: nan",
           "marker": {
            "color": "grey",
            "opacity": 0.2,
            "size": 7.0
           },
           "mode": "markers",
           "x": [
            0.5
           ],
           "xaxis": "x2",
           "y": [
            0.2
           ],
           "yaxis": "y2",
           "type": "scatter"
          },
          {
           "hovertemplate": "voice: nan",
           "marker": {
            "color": "grey",
            "opacity": 0.2,
            "size": 7.0
           },
           "mode": "markers",
           "x": [
            0.5
           ],
           "xaxis": "x2",
           "y": [
            0.5
           ],
           "yaxis": "y2",
           "type": "scatter"
          },
          {
           "hovertemplate": "femaleminister: nan",
           "marker": {
            "color": "grey",
            "opacity": 0.2,
            "size": 7.0
           },
           "mode": "markers",
           "x": [
            0.5
           ],
           "xaxis": "x2",
           "y": [
            0.8
           ],
           "yaxis": "y2",
           "type": "scatter"
          }
         ],
         "layout": {
          "annotations": [
           {
            "font": {
             "size": 18
            },
            "showarrow": false,
            "text": "Year: 1989",
            "x": 0,
            "xref": "paper",
            "y": 0.95,
            "yref": "paper"
           },
           {
            "font": {
             "size": 18
            },
            "showarrow": false,
            "text": "Country: Korea, Rep.",
            "x": 0,
            "xref": "paper",
            "y": 0.85,
            "yref": "paper"
           }
          ]
         },
         "name": "1989"
        },
        {
         "data": [
          {
           "hovertemplate": "unemployed: nan",
           "marker": {
            "color": "grey",
            "opacity": 0.2,
            "size": 7.0
           },
           "mode": "markers",
           "x": [
            0.125
           ],
           "xaxis": "x",
           "y": [
            0.5
           ],
           "yaxis": "y",
           "type": "scatter"
          },
          {
           "hovertemplate": "wealth: nan",
           "marker": {
            "color": "grey",
            "opacity": 0.2,
            "size": 7.0
           },
           "mode": "markers",
           "x": [
            0.375
           ],
           "xaxis": "x",
           "y": [
            0.5
           ],
           "yaxis": "y",
           "type": "scatter"
          },
          {
           "hovertemplate": "energy: nan",
           "marker": {
            "color": "grey",
            "opacity": 0.2,
            "size": 7.0
           },
           "mode": "markers",
           "x": [
            0.625
           ],
           "xaxis": "x",
           "y": [
            0.5
           ],
           "yaxis": "y",
           "type": "scatter"
          },
          {
           "hovertemplate": "placeholder: 0.1",
           "marker": {
            "color": "green",
            "opacity": 0.4,
            "size": 2.3333333333333335
           },
           "mode": "markers",
           "x": [
            0.875
           ],
           "xaxis": "x",
           "y": [
            0.5
           ],
           "yaxis": "y",
           "type": "scatter"
          },
          {
           "hovertemplate": "govconsum: -0.74",
           "marker": {
            "color": "red",
            "opacity": 0.4,
            "size": 17.27276659954458
           },
           "mode": "markers",
           "x": [
            0.125
           ],
           "xaxis": "x3",
           "y": [
            0.5
           ],
           "yaxis": "y3",
           "type": "scatter"
          },
          {
           "hovertemplate": "marketcap: -0.22",
           "marker": {
            "color": "red",
            "opacity": 0.4,
            "size": 5.1507594003921175
           },
           "mode": "markers",
           "x": [
            0.375
           ],
           "xaxis": "x3",
           "y": [
            0.5
           ],
           "yaxis": "y3",
           "type": "scatter"
          },
          {
           "hovertemplate": "houseconsum: -0.75",
           "marker": {
            "color": "red",
            "opacity": 0.4,
            "size": 17.60563612834991
           },
           "mode": "markers",
           "x": [
            0.625
           ],
           "xaxis": "x3",
           "y": [
            0.5
           ],
           "yaxis": "y3",
           "type": "scatter"
          },
          {
           "hovertemplate": "placeholder: 0.1",
           "marker": {
            "color": "green",
            "opacity": 0.4,
            "size": 2.3333333333333335
           },
           "mode": "markers",
           "x": [
            0.875
           ],
           "xaxis": "x3",
           "y": [
            0.5
           ],
           "yaxis": "y3",
           "type": "scatter"
          },
          {
           "hovertemplate": "agriculture: 0.3",
           "marker": {
            "color": "green",
            "opacity": 0.4,
            "size": 7.022194420701978
           },
           "mode": "markers",
           "x": [
            0.25
           ],
           "xaxis": "x4",
           "y": [
            0.5
           ],
           "yaxis": "y4",
           "type": "scatter"
          },
          {
           "hovertemplate": "industry: 0.96",
           "marker": {
            "color": "green",
            "opacity": 0.4,
            "size": 22.41760783834451
           },
           "mode": "markers",
           "x": [
            0.5
           ],
           "xaxis": "x4",
           "y": [
            0.5
           ],
           "yaxis": "y4",
           "type": "scatter"
          },
          {
           "hovertemplate": "services: -0.71",
           "marker": {
            "color": "red",
            "opacity": 0.4,
            "size": 16.613789129713084
           },
           "mode": "markers",
           "x": [
            0.75
           ],
           "xaxis": "x4",
           "y": [
            0.5
           ],
           "yaxis": "y4",
           "type": "scatter"
          },
          {
           "hovertemplate": "eci: nan",
           "marker": {
            "color": "grey",
            "opacity": 0.2,
            "size": 7.0
           },
           "mode": "markers",
           "x": [
            0.125
           ],
           "xaxis": "x5",
           "y": [
            0.5
           ],
           "yaxis": "y5",
           "type": "scatter"
          },
          {
           "hovertemplate": "exports: -0.49",
           "marker": {
            "color": "red",
            "opacity": 0.4,
            "size": 11.494904815473536
           },
           "mode": "markers",
           "x": [
            0.375
           ],
           "xaxis": "x5",
           "y": [
            0.5
           ],
           "yaxis": "y5",
           "type": "scatter"
          },
          {
           "hovertemplate": "resourcerents: -1.18",
           "marker": {
            "color": "red",
            "opacity": 0.4,
            "size": 27.582324199584615
           },
           "mode": "markers",
           "x": [
            0.625
           ],
           "xaxis": "x5",
           "y": [
            0.5
           ],
           "yaxis": "y5",
           "type": "scatter"
          },
          {
           "hovertemplate": "concentration: 0.49",
           "marker": {
            "color": "green",
            "opacity": 0.4,
            "size": 11.455869734873827
           },
           "mode": "markers",
           "x": [
            0.875
           ],
           "xaxis": "x5",
           "y": [
            0.5
           ],
           "yaxis": "y5",
           "type": "scatter"
          },
          {
           "hovertemplate": "grosscapital: 1.55",
           "marker": {
            "color": "green",
            "opacity": 0.4,
            "size": 36.19250633833859
           },
           "mode": "markers",
           "x": [
            0.125
           ],
           "xaxis": "x6",
           "y": [
            0.5
           ],
           "yaxis": "y6",
           "type": "scatter"
          },
          {
           "hovertemplate": "lifeexpectancy: -0.03",
           "marker": {
            "color": "red",
            "opacity": 0.4,
            "size": 0.5912355976094966
           },
           "mode": "markers",
           "x": [
            0.375
           ],
           "xaxis": "x6",
           "y": [
            0.5
           ],
           "yaxis": "y6",
           "type": "scatter"
          },
          {
           "hovertemplate": "education: 0.18",
           "marker": {
            "color": "green",
            "opacity": 0.4,
            "size": 4.166724849680852
           },
           "mode": "markers",
           "x": [
            0.625
           ],
           "xaxis": "x6",
           "y": [
            0.5
           ],
           "yaxis": "y6",
           "type": "scatter"
          },
          {
           "hovertemplate": "mfootprint: -0.2",
           "marker": {
            "color": "red",
            "opacity": 0.4,
            "size": 4.7034765000919725
           },
           "mode": "markers",
           "x": [
            0.875
           ],
           "xaxis": "x6",
           "y": [
            0.5
           ],
           "yaxis": "y6",
           "type": "scatter"
          },
          {
           "hovertemplate": "gini: nan",
           "marker": {
            "color": "grey",
            "opacity": 0.2,
            "size": 7.0
           },
           "mode": "markers",
           "x": [
            0.5
           ],
           "xaxis": "x2",
           "y": [
            0.2
           ],
           "yaxis": "y2",
           "type": "scatter"
          },
          {
           "hovertemplate": "voice: nan",
           "marker": {
            "color": "grey",
            "opacity": 0.2,
            "size": 7.0
           },
           "mode": "markers",
           "x": [
            0.5
           ],
           "xaxis": "x2",
           "y": [
            0.5
           ],
           "yaxis": "y2",
           "type": "scatter"
          },
          {
           "hovertemplate": "femaleminister: nan",
           "marker": {
            "color": "grey",
            "opacity": 0.2,
            "size": 7.0
           },
           "mode": "markers",
           "x": [
            0.5
           ],
           "xaxis": "x2",
           "y": [
            0.8
           ],
           "yaxis": "y2",
           "type": "scatter"
          }
         ],
         "layout": {
          "annotations": [
           {
            "font": {
             "size": 18
            },
            "showarrow": false,
            "text": "Year: 1990",
            "x": 0,
            "xref": "paper",
            "y": 0.95,
            "yref": "paper"
           },
           {
            "font": {
             "size": 18
            },
            "showarrow": false,
            "text": "Country: Korea, Rep.",
            "x": 0,
            "xref": "paper",
            "y": 0.85,
            "yref": "paper"
           }
          ]
         },
         "name": "1990"
        },
        {
         "data": [
          {
           "hovertemplate": "unemployed: -1.14",
           "marker": {
            "color": "green",
            "opacity": 0.4,
            "size": 26.644348896362022
           },
           "mode": "markers",
           "x": [
            0.125
           ],
           "xaxis": "x",
           "y": [
            0.5
           ],
           "yaxis": "y",
           "type": "scatter"
          },
          {
           "hovertemplate": "wealth: nan",
           "marker": {
            "color": "grey",
            "opacity": 0.2,
            "size": 7.0
           },
           "mode": "markers",
           "x": [
            0.375
           ],
           "xaxis": "x",
           "y": [
            0.5
           ],
           "yaxis": "y",
           "type": "scatter"
          },
          {
           "hovertemplate": "energy: nan",
           "marker": {
            "color": "grey",
            "opacity": 0.2,
            "size": 7.0
           },
           "mode": "markers",
           "x": [
            0.625
           ],
           "xaxis": "x",
           "y": [
            0.5
           ],
           "yaxis": "y",
           "type": "scatter"
          },
          {
           "hovertemplate": "placeholder: 0.1",
           "marker": {
            "color": "green",
            "opacity": 0.4,
            "size": 2.3333333333333335
           },
           "mode": "markers",
           "x": [
            0.875
           ],
           "xaxis": "x",
           "y": [
            0.5
           ],
           "yaxis": "y",
           "type": "scatter"
          },
          {
           "hovertemplate": "govconsum: -0.77",
           "marker": {
            "color": "red",
            "opacity": 0.4,
            "size": 17.86170308675055
           },
           "mode": "markers",
           "x": [
            0.125
           ],
           "xaxis": "x3",
           "y": [
            0.5
           ],
           "yaxis": "y3",
           "type": "scatter"
          },
          {
           "hovertemplate": "marketcap: -0.29",
           "marker": {
            "color": "red",
            "opacity": 0.4,
            "size": 6.871031168632777
           },
           "mode": "markers",
           "x": [
            0.375
           ],
           "xaxis": "x3",
           "y": [
            0.5
           ],
           "yaxis": "y3",
           "type": "scatter"
          },
          {
           "hovertemplate": "houseconsum: -0.75",
           "marker": {
            "color": "red",
            "opacity": 0.4,
            "size": 17.472992806044342
           },
           "mode": "markers",
           "x": [
            0.625
           ],
           "xaxis": "x3",
           "y": [
            0.5
           ],
           "yaxis": "y3",
           "type": "scatter"
          },
          {
           "hovertemplate": "placeholder: 0.1",
           "marker": {
            "color": "green",
            "opacity": 0.4,
            "size": 2.3333333333333335
           },
           "mode": "markers",
           "x": [
            0.875
           ],
           "xaxis": "x3",
           "y": [
            0.5
           ],
           "yaxis": "y3",
           "type": "scatter"
          },
          {
           "hovertemplate": "agriculture: 0.22",
           "marker": {
            "color": "green",
            "opacity": 0.4,
            "size": 5.230655710485774
           },
           "mode": "markers",
           "x": [
            0.25
           ],
           "xaxis": "x4",
           "y": [
            0.5
           ],
           "yaxis": "y4",
           "type": "scatter"
          },
          {
           "hovertemplate": "industry: 1.01",
           "marker": {
            "color": "green",
            "opacity": 0.4,
            "size": 23.495750669662044
           },
           "mode": "markers",
           "x": [
            0.5
           ],
           "xaxis": "x4",
           "y": [
            0.5
           ],
           "yaxis": "y4",
           "type": "scatter"
          },
          {
           "hovertemplate": "services: -0.65",
           "marker": {
            "color": "red",
            "opacity": 0.4,
            "size": 15.239649840177034
           },
           "mode": "markers",
           "x": [
            0.75
           ],
           "xaxis": "x4",
           "y": [
            0.5
           ],
           "yaxis": "y4",
           "type": "scatter"
          },
          {
           "hovertemplate": "eci: nan",
           "marker": {
            "color": "grey",
            "opacity": 0.2,
            "size": 7.0
           },
           "mode": "markers",
           "x": [
            0.125
           ],
           "xaxis": "x5",
           "y": [
            0.5
           ],
           "yaxis": "y5",
           "type": "scatter"
          },
          {
           "hovertemplate": "exports: -0.57",
           "marker": {
            "color": "red",
            "opacity": 0.4,
            "size": 13.214244099436486
           },
           "mode": "markers",
           "x": [
            0.375
           ],
           "xaxis": "x5",
           "y": [
            0.5
           ],
           "yaxis": "y5",
           "type": "scatter"
          },
          {
           "hovertemplate": "resourcerents: -1.33",
           "marker": {
            "color": "red",
            "opacity": 0.4,
            "size": 31.010038528832812
           },
           "mode": "markers",
           "x": [
            0.625
           ],
           "xaxis": "x5",
           "y": [
            0.5
           ],
           "yaxis": "y5",
           "type": "scatter"
          },
          {
           "hovertemplate": "concentration: 0.36",
           "marker": {
            "color": "green",
            "opacity": 0.4,
            "size": 8.329732926196384
           },
           "mode": "markers",
           "x": [
            0.875
           ],
           "xaxis": "x5",
           "y": [
            0.5
           ],
           "yaxis": "y5",
           "type": "scatter"
          },
          {
           "hovertemplate": "grosscapital: 1.67",
           "marker": {
            "color": "green",
            "opacity": 0.4,
            "size": 38.879327565180766
           },
           "mode": "markers",
           "x": [
            0.125
           ],
           "xaxis": "x6",
           "y": [
            0.5
           ],
           "yaxis": "y6",
           "type": "scatter"
          },
          {
           "hovertemplate": "lifeexpectancy: 0.03",
           "marker": {
            "color": "green",
            "opacity": 0.4,
            "size": 0.6976667779878675
           },
           "mode": "markers",
           "x": [
            0.375
           ],
           "xaxis": "x6",
           "y": [
            0.5
           ],
           "yaxis": "y6",
           "type": "scatter"
          },
          {
           "hovertemplate": "education: 0.18",
           "marker": {
            "color": "green",
            "opacity": 0.4,
            "size": 4.150306636641911
           },
           "mode": "markers",
           "x": [
            0.625
           ],
           "xaxis": "x6",
           "y": [
            0.5
           ],
           "yaxis": "y6",
           "type": "scatter"
          },
          {
           "hovertemplate": "mfootprint: -0.03",
           "marker": {
            "color": "red",
            "opacity": 0.4,
            "size": 0.751137707548691
           },
           "mode": "markers",
           "x": [
            0.875
           ],
           "xaxis": "x6",
           "y": [
            0.5
           ],
           "yaxis": "y6",
           "type": "scatter"
          },
          {
           "hovertemplate": "gini: nan",
           "marker": {
            "color": "grey",
            "opacity": 0.2,
            "size": 7.0
           },
           "mode": "markers",
           "x": [
            0.5
           ],
           "xaxis": "x2",
           "y": [
            0.2
           ],
           "yaxis": "y2",
           "type": "scatter"
          },
          {
           "hovertemplate": "voice: nan",
           "marker": {
            "color": "grey",
            "opacity": 0.2,
            "size": 7.0
           },
           "mode": "markers",
           "x": [
            0.5
           ],
           "xaxis": "x2",
           "y": [
            0.5
           ],
           "yaxis": "y2",
           "type": "scatter"
          },
          {
           "hovertemplate": "femaleminister: nan",
           "marker": {
            "color": "grey",
            "opacity": 0.2,
            "size": 7.0
           },
           "mode": "markers",
           "x": [
            0.5
           ],
           "xaxis": "x2",
           "y": [
            0.8
           ],
           "yaxis": "y2",
           "type": "scatter"
          }
         ],
         "layout": {
          "annotations": [
           {
            "font": {
             "size": 18
            },
            "showarrow": false,
            "text": "Year: 1991",
            "x": 0,
            "xref": "paper",
            "y": 0.95,
            "yref": "paper"
           },
           {
            "font": {
             "size": 18
            },
            "showarrow": false,
            "text": "Country: Korea, Rep.",
            "x": 0,
            "xref": "paper",
            "y": 0.85,
            "yref": "paper"
           }
          ]
         },
         "name": "1991"
        },
        {
         "data": [
          {
           "hovertemplate": "unemployed: -1.1",
           "marker": {
            "color": "green",
            "opacity": 0.4,
            "size": 25.57893923952512
           },
           "mode": "markers",
           "x": [
            0.125
           ],
           "xaxis": "x",
           "y": [
            0.5
           ],
           "yaxis": "y",
           "type": "scatter"
          },
          {
           "hovertemplate": "wealth: nan",
           "marker": {
            "color": "grey",
            "opacity": 0.2,
            "size": 7.0
           },
           "mode": "markers",
           "x": [
            0.375
           ],
           "xaxis": "x",
           "y": [
            0.5
           ],
           "yaxis": "y",
           "type": "scatter"
          },
          {
           "hovertemplate": "energy: nan",
           "marker": {
            "color": "grey",
            "opacity": 0.2,
            "size": 7.0
           },
           "mode": "markers",
           "x": [
            0.625
           ],
           "xaxis": "x",
           "y": [
            0.5
           ],
           "yaxis": "y",
           "type": "scatter"
          },
          {
           "hovertemplate": "placeholder: 0.1",
           "marker": {
            "color": "green",
            "opacity": 0.4,
            "size": 2.3333333333333335
           },
           "mode": "markers",
           "x": [
            0.875
           ],
           "xaxis": "x",
           "y": [
            0.5
           ],
           "yaxis": "y",
           "type": "scatter"
          },
          {
           "hovertemplate": "govconsum: -0.73",
           "marker": {
            "color": "red",
            "opacity": 0.4,
            "size": 17.040725673113847
           },
           "mode": "markers",
           "x": [
            0.125
           ],
           "xaxis": "x3",
           "y": [
            0.5
           ],
           "yaxis": "y3",
           "type": "scatter"
          },
          {
           "hovertemplate": "marketcap: -0.29",
           "marker": {
            "color": "red",
            "opacity": 0.4,
            "size": 6.675635826364246
           },
           "mode": "markers",
           "x": [
            0.375
           ],
           "xaxis": "x3",
           "y": [
            0.5
           ],
           "yaxis": "y3",
           "type": "scatter"
          },
          {
           "hovertemplate": "houseconsum: -0.72",
           "marker": {
            "color": "red",
            "opacity": 0.4,
            "size": 16.70209820006548
           },
           "mode": "markers",
           "x": [
            0.625
           ],
           "xaxis": "x3",
           "y": [
            0.5
           ],
           "yaxis": "y3",
           "type": "scatter"
          },
          {
           "hovertemplate": "placeholder: 0.1",
           "marker": {
            "color": "green",
            "opacity": 0.4,
            "size": 2.3333333333333335
           },
           "mode": "markers",
           "x": [
            0.875
           ],
           "xaxis": "x3",
           "y": [
            0.5
           ],
           "yaxis": "y3",
           "type": "scatter"
          },
          {
           "hovertemplate": "agriculture: 0.2",
           "marker": {
            "color": "green",
            "opacity": 0.4,
            "size": 4.697306925657167
           },
           "mode": "markers",
           "x": [
            0.25
           ],
           "xaxis": "x4",
           "y": [
            0.5
           ],
           "yaxis": "y4",
           "type": "scatter"
          },
          {
           "hovertemplate": "industry: 0.94",
           "marker": {
            "color": "green",
            "opacity": 0.4,
            "size": 21.83246393380672
           },
           "mode": "markers",
           "x": [
            0.5
           ],
           "xaxis": "x4",
           "y": [
            0.5
           ],
           "yaxis": "y4",
           "type": "scatter"
          },
          {
           "hovertemplate": "services: -0.53",
           "marker": {
            "color": "red",
            "opacity": 0.4,
            "size": 12.476982240828077
           },
           "mode": "markers",
           "x": [
            0.75
           ],
           "xaxis": "x4",
           "y": [
            0.5
           ],
           "yaxis": "y4",
           "type": "scatter"
          },
          {
           "hovertemplate": "eci: nan",
           "marker": {
            "color": "grey",
            "opacity": 0.2,
            "size": 7.0
           },
           "mode": "markers",
           "x": [
            0.125
           ],
           "xaxis": "x5",
           "y": [
            0.5
           ],
           "yaxis": "y5",
           "type": "scatter"
          },
          {
           "hovertemplate": "exports: -0.55",
           "marker": {
            "color": "red",
            "opacity": 0.4,
            "size": 12.788626155361717
           },
           "mode": "markers",
           "x": [
            0.375
           ],
           "xaxis": "x5",
           "y": [
            0.5
           ],
           "yaxis": "y5",
           "type": "scatter"
          },
          {
           "hovertemplate": "resourcerents: -1.39",
           "marker": {
            "color": "red",
            "opacity": 0.4,
            "size": 32.51048444715574
           },
           "mode": "markers",
           "x": [
            0.625
           ],
           "xaxis": "x5",
           "y": [
            0.5
           ],
           "yaxis": "y5",
           "type": "scatter"
          },
          {
           "hovertemplate": "concentration: 0.04",
           "marker": {
            "color": "green",
            "opacity": 0.4,
            "size": 0.8229338189989295
           },
           "mode": "markers",
           "x": [
            0.875
           ],
           "xaxis": "x5",
           "y": [
            0.5
           ],
           "yaxis": "y5",
           "type": "scatter"
          },
          {
           "hovertemplate": "grosscapital: 1.49",
           "marker": {
            "color": "green",
            "opacity": 0.4,
            "size": 34.84892072050457
           },
           "mode": "markers",
           "x": [
            0.125
           ],
           "xaxis": "x6",
           "y": [
            0.5
           ],
           "yaxis": "y6",
           "type": "scatter"
          },
          {
           "hovertemplate": "lifeexpectancy: 0.09",
           "marker": {
            "color": "green",
            "opacity": 0.4,
            "size": 1.9935740578008376
           },
           "mode": "markers",
           "x": [
            0.375
           ],
           "xaxis": "x6",
           "y": [
            0.5
           ],
           "yaxis": "y6",
           "type": "scatter"
          },
          {
           "hovertemplate": "education: 0.16",
           "marker": {
            "color": "green",
            "opacity": 0.4,
            "size": 3.70615856210686
           },
           "mode": "markers",
           "x": [
            0.625
           ],
           "xaxis": "x6",
           "y": [
            0.5
           ],
           "yaxis": "y6",
           "type": "scatter"
          },
          {
           "hovertemplate": "mfootprint: 0.04",
           "marker": {
            "color": "green",
            "opacity": 0.4,
            "size": 1.0398619132020426
           },
           "mode": "markers",
           "x": [
            0.875
           ],
           "xaxis": "x6",
           "y": [
            0.5
           ],
           "yaxis": "y6",
           "type": "scatter"
          },
          {
           "hovertemplate": "gini: nan",
           "marker": {
            "color": "grey",
            "opacity": 0.2,
            "size": 7.0
           },
           "mode": "markers",
           "x": [
            0.5
           ],
           "xaxis": "x2",
           "y": [
            0.2
           ],
           "yaxis": "y2",
           "type": "scatter"
          },
          {
           "hovertemplate": "voice: nan",
           "marker": {
            "color": "grey",
            "opacity": 0.2,
            "size": 7.0
           },
           "mode": "markers",
           "x": [
            0.5
           ],
           "xaxis": "x2",
           "y": [
            0.5
           ],
           "yaxis": "y2",
           "type": "scatter"
          },
          {
           "hovertemplate": "femaleminister: nan",
           "marker": {
            "color": "grey",
            "opacity": 0.2,
            "size": 7.0
           },
           "mode": "markers",
           "x": [
            0.5
           ],
           "xaxis": "x2",
           "y": [
            0.8
           ],
           "yaxis": "y2",
           "type": "scatter"
          }
         ],
         "layout": {
          "annotations": [
           {
            "font": {
             "size": 18
            },
            "showarrow": false,
            "text": "Year: 1992",
            "x": 0,
            "xref": "paper",
            "y": 0.95,
            "yref": "paper"
           },
           {
            "font": {
             "size": 18
            },
            "showarrow": false,
            "text": "Country: Korea, Rep.",
            "x": 0,
            "xref": "paper",
            "y": 0.85,
            "yref": "paper"
           }
          ]
         },
         "name": "1992"
        },
        {
         "data": [
          {
           "hovertemplate": "unemployed: -0.94",
           "marker": {
            "color": "green",
            "opacity": 0.4,
            "size": 21.975489767215777
           },
           "mode": "markers",
           "x": [
            0.125
           ],
           "xaxis": "x",
           "y": [
            0.5
           ],
           "yaxis": "y",
           "type": "scatter"
          },
          {
           "hovertemplate": "wealth: nan",
           "marker": {
            "color": "grey",
            "opacity": 0.2,
            "size": 7.0
           },
           "mode": "markers",
           "x": [
            0.375
           ],
           "xaxis": "x",
           "y": [
            0.5
           ],
           "yaxis": "y",
           "type": "scatter"
          },
          {
           "hovertemplate": "energy: nan",
           "marker": {
            "color": "grey",
            "opacity": 0.2,
            "size": 7.0
           },
           "mode": "markers",
           "x": [
            0.625
           ],
           "xaxis": "x",
           "y": [
            0.5
           ],
           "yaxis": "y",
           "type": "scatter"
          },
          {
           "hovertemplate": "placeholder: 0.1",
           "marker": {
            "color": "green",
            "opacity": 0.4,
            "size": 2.3333333333333335
           },
           "mode": "markers",
           "x": [
            0.875
           ],
           "xaxis": "x",
           "y": [
            0.5
           ],
           "yaxis": "y",
           "type": "scatter"
          },
          {
           "hovertemplate": "govconsum: -0.77",
           "marker": {
            "color": "red",
            "opacity": 0.4,
            "size": 17.871947673885646
           },
           "mode": "markers",
           "x": [
            0.125
           ],
           "xaxis": "x3",
           "y": [
            0.5
           ],
           "yaxis": "y3",
           "type": "scatter"
          },
          {
           "hovertemplate": "marketcap: -0.25",
           "marker": {
            "color": "red",
            "opacity": 0.4,
            "size": 5.746636406917815
           },
           "mode": "markers",
           "x": [
            0.375
           ],
           "xaxis": "x3",
           "y": [
            0.5
           ],
           "yaxis": "y3",
           "type": "scatter"
          },
          {
           "hovertemplate": "houseconsum: -0.71",
           "marker": {
            "color": "red",
            "opacity": 0.4,
            "size": 16.460129542984976
           },
           "mode": "markers",
           "x": [
            0.625
           ],
           "xaxis": "x3",
           "y": [
            0.5
           ],
           "yaxis": "y3",
           "type": "scatter"
          },
          {
           "hovertemplate": "placeholder: 0.1",
           "marker": {
            "color": "green",
            "opacity": 0.4,
            "size": 2.3333333333333335
           },
           "mode": "markers",
           "x": [
            0.875
           ],
           "xaxis": "x3",
           "y": [
            0.5
           ],
           "yaxis": "y3",
           "type": "scatter"
          },
          {
           "hovertemplate": "agriculture: 0.12",
           "marker": {
            "color": "green",
            "opacity": 0.4,
            "size": 2.8683657017603017
           },
           "mode": "markers",
           "x": [
            0.25
           ],
           "xaxis": "x4",
           "y": [
            0.5
           ],
           "yaxis": "y4",
           "type": "scatter"
          },
          {
           "hovertemplate": "industry: 0.95",
           "marker": {
            "color": "green",
            "opacity": 0.4,
            "size": 22.275126171533213
           },
           "mode": "markers",
           "x": [
            0.5
           ],
           "xaxis": "x4",
           "y": [
            0.5
           ],
           "yaxis": "y4",
           "type": "scatter"
          },
          {
           "hovertemplate": "services: -0.48",
           "marker": {
            "color": "red",
            "opacity": 0.4,
            "size": 11.255165875823408
           },
           "mode": "markers",
           "x": [
            0.75
           ],
           "xaxis": "x4",
           "y": [
            0.5
           ],
           "yaxis": "y4",
           "type": "scatter"
          },
          {
           "hovertemplate": "eci: nan",
           "marker": {
            "color": "grey",
            "opacity": 0.2,
            "size": 7.0
           },
           "mode": "markers",
           "x": [
            0.125
           ],
           "xaxis": "x5",
           "y": [
            0.5
           ],
           "yaxis": "y5",
           "type": "scatter"
          },
          {
           "hovertemplate": "exports: -0.57",
           "marker": {
            "color": "red",
            "opacity": 0.4,
            "size": 13.365290510533974
           },
           "mode": "markers",
           "x": [
            0.375
           ],
           "xaxis": "x5",
           "y": [
            0.5
           ],
           "yaxis": "y5",
           "type": "scatter"
          },
          {
           "hovertemplate": "resourcerents: -1.46",
           "marker": {
            "color": "red",
            "opacity": 0.4,
            "size": 33.99579844981523
           },
           "mode": "markers",
           "x": [
            0.625
           ],
           "xaxis": "x5",
           "y": [
            0.5
           ],
           "yaxis": "y5",
           "type": "scatter"
          },
          {
           "hovertemplate": "concentration: -0.27",
           "marker": {
            "color": "red",
            "opacity": 0.4,
            "size": 6.405253895897183
           },
           "mode": "markers",
           "x": [
            0.875
           ],
           "xaxis": "x5",
           "y": [
            0.5
           ],
           "yaxis": "y5",
           "type": "scatter"
          },
          {
           "hovertemplate": "grosscapital: 1.42",
           "marker": {
            "color": "green",
            "opacity": 0.4,
            "size": 33.0166737655171
           },
           "mode": "markers",
           "x": [
            0.125
           ],
           "xaxis": "x6",
           "y": [
            0.5
           ],
           "yaxis": "y6",
           "type": "scatter"
          },
          {
           "hovertemplate": "lifeexpectancy: 0.15",
           "marker": {
            "color": "green",
            "opacity": 0.4,
            "size": 3.4295794219176807
           },
           "mode": "markers",
           "x": [
            0.375
           ],
           "xaxis": "x6",
           "y": [
            0.5
           ],
           "yaxis": "y6",
           "type": "scatter"
          },
          {
           "hovertemplate": "education: 0.21",
           "marker": {
            "color": "green",
            "opacity": 0.4,
            "size": 4.786225877986578
           },
           "mode": "markers",
           "x": [
            0.625
           ],
           "xaxis": "x6",
           "y": [
            0.5
           ],
           "yaxis": "y6",
           "type": "scatter"
          },
          {
           "hovertemplate": "mfootprint: -0.01",
           "marker": {
            "color": "red",
            "opacity": 0.4,
            "size": 0.2600493343577537
           },
           "mode": "markers",
           "x": [
            0.875
           ],
           "xaxis": "x6",
           "y": [
            0.5
           ],
           "yaxis": "y6",
           "type": "scatter"
          },
          {
           "hovertemplate": "gini: nan",
           "marker": {
            "color": "grey",
            "opacity": 0.2,
            "size": 7.0
           },
           "mode": "markers",
           "x": [
            0.5
           ],
           "xaxis": "x2",
           "y": [
            0.2
           ],
           "yaxis": "y2",
           "type": "scatter"
          },
          {
           "hovertemplate": "voice: nan",
           "marker": {
            "color": "grey",
            "opacity": 0.2,
            "size": 7.0
           },
           "mode": "markers",
           "x": [
            0.5
           ],
           "xaxis": "x2",
           "y": [
            0.5
           ],
           "yaxis": "y2",
           "type": "scatter"
          },
          {
           "hovertemplate": "femaleminister: nan",
           "marker": {
            "color": "grey",
            "opacity": 0.2,
            "size": 7.0
           },
           "mode": "markers",
           "x": [
            0.5
           ],
           "xaxis": "x2",
           "y": [
            0.8
           ],
           "yaxis": "y2",
           "type": "scatter"
          }
         ],
         "layout": {
          "annotations": [
           {
            "font": {
             "size": 18
            },
            "showarrow": false,
            "text": "Year: 1993",
            "x": 0,
            "xref": "paper",
            "y": 0.95,
            "yref": "paper"
           },
           {
            "font": {
             "size": 18
            },
            "showarrow": false,
            "text": "Country: Korea, Rep.",
            "x": 0,
            "xref": "paper",
            "y": 0.85,
            "yref": "paper"
           }
          ]
         },
         "name": "1993"
        },
        {
         "data": [
          {
           "hovertemplate": "unemployed: -1.11",
           "marker": {
            "color": "green",
            "opacity": 0.4,
            "size": 25.894038844134112
           },
           "mode": "markers",
           "x": [
            0.125
           ],
           "xaxis": "x",
           "y": [
            0.5
           ],
           "yaxis": "y",
           "type": "scatter"
          },
          {
           "hovertemplate": "wealth: nan",
           "marker": {
            "color": "grey",
            "opacity": 0.2,
            "size": 7.0
           },
           "mode": "markers",
           "x": [
            0.375
           ],
           "xaxis": "x",
           "y": [
            0.5
           ],
           "yaxis": "y",
           "type": "scatter"
          },
          {
           "hovertemplate": "energy: nan",
           "marker": {
            "color": "grey",
            "opacity": 0.2,
            "size": 7.0
           },
           "mode": "markers",
           "x": [
            0.625
           ],
           "xaxis": "x",
           "y": [
            0.5
           ],
           "yaxis": "y",
           "type": "scatter"
          },
          {
           "hovertemplate": "placeholder: 0.1",
           "marker": {
            "color": "green",
            "opacity": 0.4,
            "size": 2.3333333333333335
           },
           "mode": "markers",
           "x": [
            0.875
           ],
           "xaxis": "x",
           "y": [
            0.5
           ],
           "yaxis": "y",
           "type": "scatter"
          },
          {
           "hovertemplate": "govconsum: -0.82",
           "marker": {
            "color": "red",
            "opacity": 0.4,
            "size": 19.134914850947684
           },
           "mode": "markers",
           "x": [
            0.125
           ],
           "xaxis": "x3",
           "y": [
            0.5
           ],
           "yaxis": "y3",
           "type": "scatter"
          },
          {
           "hovertemplate": "marketcap: -0.2",
           "marker": {
            "color": "red",
            "opacity": 0.4,
            "size": 4.720173828023177
           },
           "mode": "markers",
           "x": [
            0.375
           ],
           "xaxis": "x3",
           "y": [
            0.5
           ],
           "yaxis": "y3",
           "type": "scatter"
          },
          {
           "hovertemplate": "houseconsum: -0.67",
           "marker": {
            "color": "red",
            "opacity": 0.4,
            "size": 15.636748484201268
           },
           "mode": "markers",
           "x": [
            0.625
           ],
           "xaxis": "x3",
           "y": [
            0.5
           ],
           "yaxis": "y3",
           "type": "scatter"
          },
          {
           "hovertemplate": "placeholder: 0.1",
           "marker": {
            "color": "green",
            "opacity": 0.4,
            "size": 2.3333333333333335
           },
           "mode": "markers",
           "x": [
            0.875
           ],
           "xaxis": "x3",
           "y": [
            0.5
           ],
           "yaxis": "y3",
           "type": "scatter"
          },
          {
           "hovertemplate": "agriculture: 0.09",
           "marker": {
            "color": "green",
            "opacity": 0.4,
            "size": 2.135765862722684
           },
           "mode": "markers",
           "x": [
            0.25
           ],
           "xaxis": "x4",
           "y": [
            0.5
           ],
           "yaxis": "y4",
           "type": "scatter"
          },
          {
           "hovertemplate": "industry: 0.96",
           "marker": {
            "color": "green",
            "opacity": 0.4,
            "size": 22.313059863308606
           },
           "mode": "markers",
           "x": [
            0.5
           ],
           "xaxis": "x4",
           "y": [
            0.5
           ],
           "yaxis": "y4",
           "type": "scatter"
          },
          {
           "hovertemplate": "services: -0.48",
           "marker": {
            "color": "red",
            "opacity": 0.4,
            "size": 11.19008619719738
           },
           "mode": "markers",
           "x": [
            0.75
           ],
           "xaxis": "x4",
           "y": [
            0.5
           ],
           "yaxis": "y4",
           "type": "scatter"
          },
          {
           "hovertemplate": "eci: nan",
           "marker": {
            "color": "grey",
            "opacity": 0.2,
            "size": 7.0
           },
           "mode": "markers",
           "x": [
            0.125
           ],
           "xaxis": "x5",
           "y": [
            0.5
           ],
           "yaxis": "y5",
           "type": "scatter"
          },
          {
           "hovertemplate": "exports: -0.55",
           "marker": {
            "color": "red",
            "opacity": 0.4,
            "size": 12.790836975973127
           },
           "mode": "markers",
           "x": [
            0.375
           ],
           "xaxis": "x5",
           "y": [
            0.5
           ],
           "yaxis": "y5",
           "type": "scatter"
          },
          {
           "hovertemplate": "resourcerents: -1.45",
           "marker": {
            "color": "red",
            "opacity": 0.4,
            "size": 33.90513815048998
           },
           "mode": "markers",
           "x": [
            0.625
           ],
           "xaxis": "x5",
           "y": [
            0.5
           ],
           "yaxis": "y5",
           "type": "scatter"
          },
          {
           "hovertemplate": "concentration: -0.31",
           "marker": {
            "color": "red",
            "opacity": 0.4,
            "size": 7.324532576993898
           },
           "mode": "markers",
           "x": [
            0.875
           ],
           "xaxis": "x5",
           "y": [
            0.5
           ],
           "yaxis": "y5",
           "type": "scatter"
          },
          {
           "hovertemplate": "grosscapital: 1.48",
           "marker": {
            "color": "green",
            "opacity": 0.4,
            "size": 34.47164172848952
           },
           "mode": "markers",
           "x": [
            0.125
           ],
           "xaxis": "x6",
           "y": [
            0.5
           ],
           "yaxis": "y6",
           "type": "scatter"
          },
          {
           "hovertemplate": "lifeexpectancy: 0.2",
           "marker": {
            "color": "green",
            "opacity": 0.4,
            "size": 4.578383713211172
           },
           "mode": "markers",
           "x": [
            0.375
           ],
           "xaxis": "x6",
           "y": [
            0.5
           ],
           "yaxis": "y6",
           "type": "scatter"
          },
          {
           "hovertemplate": "education: 0.29",
           "marker": {
            "color": "green",
            "opacity": 0.4,
            "size": 6.791945606486206
           },
           "mode": "markers",
           "x": [
            0.625
           ],
           "xaxis": "x6",
           "y": [
            0.5
           ],
           "yaxis": "y6",
           "type": "scatter"
          },
          {
           "hovertemplate": "mfootprint: 0.16",
           "marker": {
            "color": "green",
            "opacity": 0.4,
            "size": 3.7694974852165335
           },
           "mode": "markers",
           "x": [
            0.875
           ],
           "xaxis": "x6",
           "y": [
            0.5
           ],
           "yaxis": "y6",
           "type": "scatter"
          },
          {
           "hovertemplate": "gini: nan",
           "marker": {
            "color": "grey",
            "opacity": 0.2,
            "size": 7.0
           },
           "mode": "markers",
           "x": [
            0.5
           ],
           "xaxis": "x2",
           "y": [
            0.2
           ],
           "yaxis": "y2",
           "type": "scatter"
          },
          {
           "hovertemplate": "voice: nan",
           "marker": {
            "color": "grey",
            "opacity": 0.2,
            "size": 7.0
           },
           "mode": "markers",
           "x": [
            0.5
           ],
           "xaxis": "x2",
           "y": [
            0.5
           ],
           "yaxis": "y2",
           "type": "scatter"
          },
          {
           "hovertemplate": "femaleminister: nan",
           "marker": {
            "color": "grey",
            "opacity": 0.2,
            "size": 7.0
           },
           "mode": "markers",
           "x": [
            0.5
           ],
           "xaxis": "x2",
           "y": [
            0.8
           ],
           "yaxis": "y2",
           "type": "scatter"
          }
         ],
         "layout": {
          "annotations": [
           {
            "font": {
             "size": 18
            },
            "showarrow": false,
            "text": "Year: 1994",
            "x": 0,
            "xref": "paper",
            "y": 0.95,
            "yref": "paper"
           },
           {
            "font": {
             "size": 18
            },
            "showarrow": false,
            "text": "Country: Korea, Rep.",
            "x": 0,
            "xref": "paper",
            "y": 0.85,
            "yref": "paper"
           }
          ]
         },
         "name": "1994"
        },
        {
         "data": [
          {
           "hovertemplate": "unemployed: -1.32",
           "marker": {
            "color": "green",
            "opacity": 0.4,
            "size": 30.756530981992853
           },
           "mode": "markers",
           "x": [
            0.125
           ],
           "xaxis": "x",
           "y": [
            0.5
           ],
           "yaxis": "y",
           "type": "scatter"
          },
          {
           "hovertemplate": "wealth: 0.32",
           "marker": {
            "color": "green",
            "opacity": 0.4,
            "size": 7.576320549848544
           },
           "mode": "markers",
           "x": [
            0.375
           ],
           "xaxis": "x",
           "y": [
            0.5
           ],
           "yaxis": "y",
           "type": "scatter"
          },
          {
           "hovertemplate": "energy: nan",
           "marker": {
            "color": "grey",
            "opacity": 0.2,
            "size": 7.0
           },
           "mode": "markers",
           "x": [
            0.625
           ],
           "xaxis": "x",
           "y": [
            0.5
           ],
           "yaxis": "y",
           "type": "scatter"
          },
          {
           "hovertemplate": "placeholder: 0.1",
           "marker": {
            "color": "green",
            "opacity": 0.4,
            "size": 2.3333333333333335
           },
           "mode": "markers",
           "x": [
            0.875
           ],
           "xaxis": "x",
           "y": [
            0.5
           ],
           "yaxis": "y",
           "type": "scatter"
          },
          {
           "hovertemplate": "govconsum: -0.85",
           "marker": {
            "color": "red",
            "opacity": 0.4,
            "size": 19.76475299768511
           },
           "mode": "markers",
           "x": [
            0.125
           ],
           "xaxis": "x3",
           "y": [
            0.5
           ],
           "yaxis": "y3",
           "type": "scatter"
          },
          {
           "hovertemplate": "marketcap: -0.27",
           "marker": {
            "color": "red",
            "opacity": 0.4,
            "size": 6.352390893304714
           },
           "mode": "markers",
           "x": [
            0.375
           ],
           "xaxis": "x3",
           "y": [
            0.5
           ],
           "yaxis": "y3",
           "type": "scatter"
          },
          {
           "hovertemplate": "houseconsum: -0.66",
           "marker": {
            "color": "red",
            "opacity": 0.4,
            "size": 15.364221505523817
           },
           "mode": "markers",
           "x": [
            0.625
           ],
           "xaxis": "x3",
           "y": [
            0.5
           ],
           "yaxis": "y3",
           "type": "scatter"
          },
          {
           "hovertemplate": "placeholder: 0.1",
           "marker": {
            "color": "green",
            "opacity": 0.4,
            "size": 2.3333333333333335
           },
           "mode": "markers",
           "x": [
            0.875
           ],
           "xaxis": "x3",
           "y": [
            0.5
           ],
           "yaxis": "y3",
           "type": "scatter"
          },
          {
           "hovertemplate": "agriculture: 0.05",
           "marker": {
            "color": "green",
            "opacity": 0.4,
            "size": 1.144792230415637
           },
           "mode": "markers",
           "x": [
            0.25
           ],
           "xaxis": "x4",
           "y": [
            0.5
           ],
           "yaxis": "y4",
           "type": "scatter"
          },
          {
           "hovertemplate": "industry: 0.97",
           "marker": {
            "color": "green",
            "opacity": 0.4,
            "size": 22.640757038903907
           },
           "mode": "markers",
           "x": [
            0.5
           ],
           "xaxis": "x4",
           "y": [
            0.5
           ],
           "yaxis": "y4",
           "type": "scatter"
          },
          {
           "hovertemplate": "services: -0.47",
           "marker": {
            "color": "red",
            "opacity": 0.4,
            "size": 10.982018663671889
           },
           "mode": "markers",
           "x": [
            0.75
           ],
           "xaxis": "x4",
           "y": [
            0.5
           ],
           "yaxis": "y4",
           "type": "scatter"
          },
          {
           "hovertemplate": "eci: 1.05",
           "marker": {
            "color": "green",
            "opacity": 0.4,
            "size": 24.491375316194844
           },
           "mode": "markers",
           "x": [
            0.125
           ],
           "xaxis": "x5",
           "y": [
            0.5
           ],
           "yaxis": "y5",
           "type": "scatter"
          },
          {
           "hovertemplate": "exports: -0.45",
           "marker": {
            "color": "red",
            "opacity": 0.4,
            "size": 10.50407010191776
           },
           "mode": "markers",
           "x": [
            0.375
           ],
           "xaxis": "x5",
           "y": [
            0.5
           ],
           "yaxis": "y5",
           "type": "scatter"
          },
          {
           "hovertemplate": "resourcerents: -1.38",
           "marker": {
            "color": "red",
            "opacity": 0.4,
            "size": 32.29936065710408
           },
           "mode": "markers",
           "x": [
            0.625
           ],
           "xaxis": "x5",
           "y": [
            0.5
           ],
           "yaxis": "y5",
           "type": "scatter"
          },
          {
           "hovertemplate": "concentration: -0.37",
           "marker": {
            "color": "red",
            "opacity": 0.4,
            "size": 8.670693566074418
           },
           "mode": "markers",
           "x": [
            0.875
           ],
           "xaxis": "x5",
           "y": [
            0.5
           ],
           "yaxis": "y5",
           "type": "scatter"
          },
          {
           "hovertemplate": "grosscapital: 1.51",
           "marker": {
            "color": "green",
            "opacity": 0.4,
            "size": 35.199828772956266
           },
           "mode": "markers",
           "x": [
            0.125
           ],
           "xaxis": "x6",
           "y": [
            0.5
           ],
           "yaxis": "y6",
           "type": "scatter"
          },
          {
           "hovertemplate": "lifeexpectancy: 0.23",
           "marker": {
            "color": "green",
            "opacity": 0.4,
            "size": 5.446991835896345
           },
           "mode": "markers",
           "x": [
            0.375
           ],
           "xaxis": "x6",
           "y": [
            0.5
           ],
           "yaxis": "y6",
           "type": "scatter"
          },
          {
           "hovertemplate": "education: 0.33",
           "marker": {
            "color": "green",
            "opacity": 0.4,
            "size": 7.748425628529789
           },
           "mode": "markers",
           "x": [
            0.625
           ],
           "xaxis": "x6",
           "y": [
            0.5
           ],
           "yaxis": "y6",
           "type": "scatter"
          },
          {
           "hovertemplate": "mfootprint: 0.32",
           "marker": {
            "color": "green",
            "opacity": 0.4,
            "size": 7.582311499351576
           },
           "mode": "markers",
           "x": [
            0.875
           ],
           "xaxis": "x6",
           "y": [
            0.5
           ],
           "yaxis": "y6",
           "type": "scatter"
          },
          {
           "hovertemplate": "gini: nan",
           "marker": {
            "color": "grey",
            "opacity": 0.2,
            "size": 7.0
           },
           "mode": "markers",
           "x": [
            0.5
           ],
           "xaxis": "x2",
           "y": [
            0.2
           ],
           "yaxis": "y2",
           "type": "scatter"
          },
          {
           "hovertemplate": "voice: nan",
           "marker": {
            "color": "grey",
            "opacity": 0.2,
            "size": 7.0
           },
           "mode": "markers",
           "x": [
            0.5
           ],
           "xaxis": "x2",
           "y": [
            0.5
           ],
           "yaxis": "y2",
           "type": "scatter"
          },
          {
           "hovertemplate": "femaleminister: nan",
           "marker": {
            "color": "grey",
            "opacity": 0.2,
            "size": 7.0
           },
           "mode": "markers",
           "x": [
            0.5
           ],
           "xaxis": "x2",
           "y": [
            0.8
           ],
           "yaxis": "y2",
           "type": "scatter"
          }
         ],
         "layout": {
          "annotations": [
           {
            "font": {
             "size": 18
            },
            "showarrow": false,
            "text": "Year: 1995",
            "x": 0,
            "xref": "paper",
            "y": 0.95,
            "yref": "paper"
           },
           {
            "font": {
             "size": 18
            },
            "showarrow": false,
            "text": "Country: Korea, Rep.",
            "x": 0,
            "xref": "paper",
            "y": 0.85,
            "yref": "paper"
           }
          ]
         },
         "name": "1995"
        },
        {
         "data": [
          {
           "hovertemplate": "unemployed: -1.32",
           "marker": {
            "color": "green",
            "opacity": 0.4,
            "size": 30.884051759418046
           },
           "mode": "markers",
           "x": [
            0.125
           ],
           "xaxis": "x",
           "y": [
            0.5
           ],
           "yaxis": "y",
           "type": "scatter"
          },
          {
           "hovertemplate": "wealth: 0.42",
           "marker": {
            "color": "green",
            "opacity": 0.4,
            "size": 9.835081299891083
           },
           "mode": "markers",
           "x": [
            0.375
           ],
           "xaxis": "x",
           "y": [
            0.5
           ],
           "yaxis": "y",
           "type": "scatter"
          },
          {
           "hovertemplate": "energy: nan",
           "marker": {
            "color": "grey",
            "opacity": 0.2,
            "size": 7.0
           },
           "mode": "markers",
           "x": [
            0.625
           ],
           "xaxis": "x",
           "y": [
            0.5
           ],
           "yaxis": "y",
           "type": "scatter"
          },
          {
           "hovertemplate": "placeholder: 0.1",
           "marker": {
            "color": "green",
            "opacity": 0.4,
            "size": 2.3333333333333335
           },
           "mode": "markers",
           "x": [
            0.875
           ],
           "xaxis": "x",
           "y": [
            0.5
           ],
           "yaxis": "y",
           "type": "scatter"
          },
          {
           "hovertemplate": "govconsum: -0.81",
           "marker": {
            "color": "red",
            "opacity": 0.4,
            "size": 18.829887787156864
           },
           "mode": "markers",
           "x": [
            0.125
           ],
           "xaxis": "x3",
           "y": [
            0.5
           ],
           "yaxis": "y3",
           "type": "scatter"
          },
          {
           "hovertemplate": "marketcap: -0.34",
           "marker": {
            "color": "red",
            "opacity": 0.4,
            "size": 7.995664715355949
           },
           "mode": "markers",
           "x": [
            0.375
           ],
           "xaxis": "x3",
           "y": [
            0.5
           ],
           "yaxis": "y3",
           "type": "scatter"
          },
          {
           "hovertemplate": "houseconsum: -0.59",
           "marker": {
            "color": "red",
            "opacity": 0.4,
            "size": 13.69937887040265
           },
           "mode": "markers",
           "x": [
            0.625
           ],
           "xaxis": "x3",
           "y": [
            0.5
           ],
           "yaxis": "y3",
           "type": "scatter"
          },
          {
           "hovertemplate": "placeholder: 0.1",
           "marker": {
            "color": "green",
            "opacity": 0.4,
            "size": 2.3333333333333335
           },
           "mode": "markers",
           "x": [
            0.875
           ],
           "xaxis": "x3",
           "y": [
            0.5
           ],
           "yaxis": "y3",
           "type": "scatter"
          },
          {
           "hovertemplate": "agriculture: -0.0",
           "marker": {
            "color": "red",
            "opacity": 0.4,
            "size": 0.03704548618725017
           },
           "mode": "markers",
           "x": [
            0.25
           ],
           "xaxis": "x4",
           "y": [
            0.5
           ],
           "yaxis": "y4",
           "type": "scatter"
          },
          {
           "hovertemplate": "industry: 0.91",
           "marker": {
            "color": "green",
            "opacity": 0.4,
            "size": 21.249908911576462
           },
           "mode": "markers",
           "x": [
            0.5
           ],
           "xaxis": "x4",
           "y": [
            0.5
           ],
           "yaxis": "y4",
           "type": "scatter"
          },
          {
           "hovertemplate": "services: -0.39",
           "marker": {
            "color": "red",
            "opacity": 0.4,
            "size": 8.99465130603696
           },
           "mode": "markers",
           "x": [
            0.75
           ],
           "xaxis": "x4",
           "y": [
            0.5
           ],
           "yaxis": "y4",
           "type": "scatter"
          },
          {
           "hovertemplate": "eci: 1.25",
           "marker": {
            "color": "green",
            "opacity": 0.4,
            "size": 29.145044771632733
           },
           "mode": "markers",
           "x": [
            0.125
           ],
           "xaxis": "x5",
           "y": [
            0.5
           ],
           "yaxis": "y5",
           "type": "scatter"
          },
          {
           "hovertemplate": "exports: -0.5",
           "marker": {
            "color": "red",
            "opacity": 0.4,
            "size": 11.760860410006028
           },
           "mode": "markers",
           "x": [
            0.375
           ],
           "xaxis": "x5",
           "y": [
            0.5
           ],
           "yaxis": "y5",
           "type": "scatter"
          },
          {
           "hovertemplate": "resourcerents: -1.42",
           "marker": {
            "color": "red",
            "opacity": 0.4,
            "size": 33.16721378229664
           },
           "mode": "markers",
           "x": [
            0.625
           ],
           "xaxis": "x5",
           "y": [
            0.5
           ],
           "yaxis": "y5",
           "type": "scatter"
          },
          {
           "hovertemplate": "concentration: -0.46",
           "marker": {
            "color": "red",
            "opacity": 0.4,
            "size": 10.652831936048775
           },
           "mode": "markers",
           "x": [
            0.875
           ],
           "xaxis": "x5",
           "y": [
            0.5
           ],
           "yaxis": "y5",
           "type": "scatter"
          },
          {
           "hovertemplate": "grosscapital: 1.54",
           "marker": {
            "color": "green",
            "opacity": 0.4,
            "size": 35.980746512287524
           },
           "mode": "markers",
           "x": [
            0.125
           ],
           "xaxis": "x6",
           "y": [
            0.5
           ],
           "yaxis": "y6",
           "type": "scatter"
          },
          {
           "hovertemplate": "lifeexpectancy: 0.29",
           "marker": {
            "color": "green",
            "opacity": 0.4,
            "size": 6.74289911570903
           },
           "mode": "markers",
           "x": [
            0.375
           ],
           "xaxis": "x6",
           "y": [
            0.5
           ],
           "yaxis": "y6",
           "type": "scatter"
          },
          {
           "hovertemplate": "education: 0.4",
           "marker": {
            "color": "green",
            "opacity": 0.4,
            "size": 9.42149948383083
           },
           "mode": "markers",
           "x": [
            0.625
           ],
           "xaxis": "x6",
           "y": [
            0.5
           ],
           "yaxis": "y6",
           "type": "scatter"
          },
          {
           "hovertemplate": "mfootprint: 0.32",
           "marker": {
            "color": "green",
            "opacity": 0.4,
            "size": 7.41640326516545
           },
           "mode": "markers",
           "x": [
            0.875
           ],
           "xaxis": "x6",
           "y": [
            0.5
           ],
           "yaxis": "y6",
           "type": "scatter"
          },
          {
           "hovertemplate": "gini: nan",
           "marker": {
            "color": "grey",
            "opacity": 0.2,
            "size": 7.0
           },
           "mode": "markers",
           "x": [
            0.5
           ],
           "xaxis": "x2",
           "y": [
            0.2
           ],
           "yaxis": "y2",
           "type": "scatter"
          },
          {
           "hovertemplate": "voice: -0.4",
           "marker": {
            "color": "green",
            "opacity": 0.4,
            "size": 9.298509966368321
           },
           "mode": "markers",
           "x": [
            0.5
           ],
           "xaxis": "x2",
           "y": [
            0.5
           ],
           "yaxis": "y2",
           "type": "scatter"
          },
          {
           "hovertemplate": "femaleminister: nan",
           "marker": {
            "color": "grey",
            "opacity": 0.2,
            "size": 7.0
           },
           "mode": "markers",
           "x": [
            0.5
           ],
           "xaxis": "x2",
           "y": [
            0.8
           ],
           "yaxis": "y2",
           "type": "scatter"
          }
         ],
         "layout": {
          "annotations": [
           {
            "font": {
             "size": 18
            },
            "showarrow": false,
            "text": "Year: 1996",
            "x": 0,
            "xref": "paper",
            "y": 0.95,
            "yref": "paper"
           },
           {
            "font": {
             "size": 18
            },
            "showarrow": false,
            "text": "Country: Korea, Rep.",
            "x": 0,
            "xref": "paper",
            "y": 0.85,
            "yref": "paper"
           }
          ]
         },
         "name": "1996"
        },
        {
         "data": [
          {
           "hovertemplate": "unemployed: -1.05",
           "marker": {
            "color": "green",
            "opacity": 0.4,
            "size": 24.55515795008489
           },
           "mode": "markers",
           "x": [
            0.125
           ],
           "xaxis": "x",
           "y": [
            0.5
           ],
           "yaxis": "y",
           "type": "scatter"
          },
          {
           "hovertemplate": "wealth: 0.44",
           "marker": {
            "color": "green",
            "opacity": 0.4,
            "size": 10.316897591734877
           },
           "mode": "markers",
           "x": [
            0.375
           ],
           "xaxis": "x",
           "y": [
            0.5
           ],
           "yaxis": "y",
           "type": "scatter"
          },
          {
           "hovertemplate": "energy: nan",
           "marker": {
            "color": "grey",
            "opacity": 0.2,
            "size": 7.0
           },
           "mode": "markers",
           "x": [
            0.625
           ],
           "xaxis": "x",
           "y": [
            0.5
           ],
           "yaxis": "y",
           "type": "scatter"
          },
          {
           "hovertemplate": "placeholder: 0.1",
           "marker": {
            "color": "green",
            "opacity": 0.4,
            "size": 2.3333333333333335
           },
           "mode": "markers",
           "x": [
            0.875
           ],
           "xaxis": "x",
           "y": [
            0.5
           ],
           "yaxis": "y",
           "type": "scatter"
          },
          {
           "hovertemplate": "govconsum: -0.83",
           "marker": {
            "color": "red",
            "opacity": 0.4,
            "size": 19.30884467641742
           },
           "mode": "markers",
           "x": [
            0.125
           ],
           "xaxis": "x3",
           "y": [
            0.5
           ],
           "yaxis": "y3",
           "type": "scatter"
          },
          {
           "hovertemplate": "marketcap: -0.46",
           "marker": {
            "color": "red",
            "opacity": 0.4,
            "size": 10.721499655408518
           },
           "mode": "markers",
           "x": [
            0.375
           ],
           "xaxis": "x3",
           "y": [
            0.5
           ],
           "yaxis": "y3",
           "type": "scatter"
          },
          {
           "hovertemplate": "houseconsum: -0.58",
           "marker": {
            "color": "red",
            "opacity": 0.4,
            "size": 13.505952579598606
           },
           "mode": "markers",
           "x": [
            0.625
           ],
           "xaxis": "x3",
           "y": [
            0.5
           ],
           "yaxis": "y3",
           "type": "scatter"
          },
          {
           "hovertemplate": "placeholder: 0.1",
           "marker": {
            "color": "green",
            "opacity": 0.4,
            "size": 2.3333333333333335
           },
           "mode": "markers",
           "x": [
            0.875
           ],
           "xaxis": "x3",
           "y": [
            0.5
           ],
           "yaxis": "y3",
           "type": "scatter"
          },
          {
           "hovertemplate": "agriculture: -0.07",
           "marker": {
            "color": "red",
            "opacity": 0.4,
            "size": 1.7378845081299916
           },
           "mode": "markers",
           "x": [
            0.25
           ],
           "xaxis": "x4",
           "y": [
            0.5
           ],
           "yaxis": "y4",
           "type": "scatter"
          },
          {
           "hovertemplate": "industry: 0.91",
           "marker": {
            "color": "green",
            "opacity": 0.4,
            "size": 21.18007323016353
           },
           "mode": "markers",
           "x": [
            0.5
           ],
           "xaxis": "x4",
           "y": [
            0.5
           ],
           "yaxis": "y4",
           "type": "scatter"
          },
          {
           "hovertemplate": "services: -0.35",
           "marker": {
            "color": "red",
            "opacity": 0.4,
            "size": 8.07133537182354
           },
           "mode": "markers",
           "x": [
            0.75
           ],
           "xaxis": "x4",
           "y": [
            0.5
           ],
           "yaxis": "y4",
           "type": "scatter"
          },
          {
           "hovertemplate": "eci: 1.28",
           "marker": {
            "color": "green",
            "opacity": 0.4,
            "size": 29.96095055404307
           },
           "mode": "markers",
           "x": [
            0.125
           ],
           "xaxis": "x5",
           "y": [
            0.5
           ],
           "yaxis": "y5",
           "type": "scatter"
          },
          {
           "hovertemplate": "exports: -0.31",
           "marker": {
            "color": "red",
            "opacity": 0.4,
            "size": 7.163927455535944
           },
           "mode": "markers",
           "x": [
            0.375
           ],
           "xaxis": "x5",
           "y": [
            0.5
           ],
           "yaxis": "y5",
           "type": "scatter"
          },
          {
           "hovertemplate": "resourcerents: -1.41",
           "marker": {
            "color": "red",
            "opacity": 0.4,
            "size": 32.823109212298874
           },
           "mode": "markers",
           "x": [
            0.625
           ],
           "xaxis": "x5",
           "y": [
            0.5
           ],
           "yaxis": "y5",
           "type": "scatter"
          },
          {
           "hovertemplate": "concentration: -0.52",
           "marker": {
            "color": "red",
            "opacity": 0.4,
            "size": 12.242990067944978
           },
           "mode": "markers",
           "x": [
            0.875
           ],
           "xaxis": "x5",
           "y": [
            0.5
           ],
           "yaxis": "y5",
           "type": "scatter"
          },
          {
           "hovertemplate": "grosscapital: 1.38",
           "marker": {
            "color": "green",
            "opacity": 0.4,
            "size": 32.21333928428304
           },
           "mode": "markers",
           "x": [
            0.125
           ],
           "xaxis": "x6",
           "y": [
            0.5
           ],
           "yaxis": "y6",
           "type": "scatter"
          },
          {
           "hovertemplate": "lifeexpectancy: 0.34",
           "marker": {
            "color": "green",
            "opacity": 0.4,
            "size": 8.038806395522041
           },
           "mode": "markers",
           "x": [
            0.375
           ],
           "xaxis": "x6",
           "y": [
            0.5
           ],
           "yaxis": "y6",
           "type": "scatter"
          },
          {
           "hovertemplate": "education: 0.34",
           "marker": {
            "color": "green",
            "opacity": 0.4,
            "size": 8.013473533612315
           },
           "mode": "markers",
           "x": [
            0.625
           ],
           "xaxis": "x6",
           "y": [
            0.5
           ],
           "yaxis": "y6",
           "type": "scatter"
          },
          {
           "hovertemplate": "mfootprint: 0.34",
           "marker": {
            "color": "green",
            "opacity": 0.4,
            "size": 7.832549675011826
           },
           "mode": "markers",
           "x": [
            0.875
           ],
           "xaxis": "x6",
           "y": [
            0.5
           ],
           "yaxis": "y6",
           "type": "scatter"
          },
          {
           "hovertemplate": "gini: nan",
           "marker": {
            "color": "grey",
            "opacity": 0.2,
            "size": 7.0
           },
           "mode": "markers",
           "x": [
            0.5
           ],
           "xaxis": "x2",
           "y": [
            0.2
           ],
           "yaxis": "y2",
           "type": "scatter"
          },
          {
           "hovertemplate": "voice: nan",
           "marker": {
            "color": "grey",
            "opacity": 0.2,
            "size": 7.0
           },
           "mode": "markers",
           "x": [
            0.5
           ],
           "xaxis": "x2",
           "y": [
            0.5
           ],
           "yaxis": "y2",
           "type": "scatter"
          },
          {
           "hovertemplate": "femaleminister: nan",
           "marker": {
            "color": "grey",
            "opacity": 0.2,
            "size": 7.0
           },
           "mode": "markers",
           "x": [
            0.5
           ],
           "xaxis": "x2",
           "y": [
            0.8
           ],
           "yaxis": "y2",
           "type": "scatter"
          }
         ],
         "layout": {
          "annotations": [
           {
            "font": {
             "size": 18
            },
            "showarrow": false,
            "text": "Year: 1997",
            "x": 0,
            "xref": "paper",
            "y": 0.95,
            "yref": "paper"
           },
           {
            "font": {
             "size": 18
            },
            "showarrow": false,
            "text": "Country: Korea, Rep.",
            "x": 0,
            "xref": "paper",
            "y": 0.85,
            "yref": "paper"
           }
          ]
         },
         "name": "1997"
        },
        {
         "data": [
          {
           "hovertemplate": "unemployed: 0.05",
           "marker": {
            "color": "red",
            "opacity": 0.4,
            "size": 1.1479317014396886
           },
           "mode": "markers",
           "x": [
            0.125
           ],
           "xaxis": "x",
           "y": [
            0.5
           ],
           "yaxis": "y",
           "type": "scatter"
          },
          {
           "hovertemplate": "wealth: 0.42",
           "marker": {
            "color": "green",
            "opacity": 0.4,
            "size": 9.715771807187485
           },
           "mode": "markers",
           "x": [
            0.375
           ],
           "xaxis": "x",
           "y": [
            0.5
           ],
           "yaxis": "y",
           "type": "scatter"
          },
          {
           "hovertemplate": "energy: nan",
           "marker": {
            "color": "grey",
            "opacity": 0.2,
            "size": 7.0
           },
           "mode": "markers",
           "x": [
            0.625
           ],
           "xaxis": "x",
           "y": [
            0.5
           ],
           "yaxis": "y",
           "type": "scatter"
          },
          {
           "hovertemplate": "placeholder: 0.1",
           "marker": {
            "color": "green",
            "opacity": 0.4,
            "size": 2.3333333333333335
           },
           "mode": "markers",
           "x": [
            0.875
           ],
           "xaxis": "x",
           "y": [
            0.5
           ],
           "yaxis": "y",
           "type": "scatter"
          },
          {
           "hovertemplate": "govconsum: -0.69",
           "marker": {
            "color": "red",
            "opacity": 0.4,
            "size": 16.12729376299609
           },
           "mode": "markers",
           "x": [
            0.125
           ],
           "xaxis": "x3",
           "y": [
            0.5
           ],
           "yaxis": "y3",
           "type": "scatter"
          },
          {
           "hovertemplate": "marketcap: -0.29",
           "marker": {
            "color": "red",
            "opacity": 0.4,
            "size": 6.744121632544493
           },
           "mode": "markers",
           "x": [
            0.375
           ],
           "xaxis": "x3",
           "y": [
            0.5
           ],
           "yaxis": "y3",
           "type": "scatter"
          },
          {
           "hovertemplate": "houseconsum: -0.75",
           "marker": {
            "color": "red",
            "opacity": 0.4,
            "size": 17.495052156387327
           },
           "mode": "markers",
           "x": [
            0.625
           ],
           "xaxis": "x3",
           "y": [
            0.5
           ],
           "yaxis": "y3",
           "type": "scatter"
          },
          {
           "hovertemplate": "placeholder: 0.1",
           "marker": {
            "color": "green",
            "opacity": 0.4,
            "size": 2.3333333333333335
           },
           "mode": "markers",
           "x": [
            0.875
           ],
           "xaxis": "x3",
           "y": [
            0.5
           ],
           "yaxis": "y3",
           "type": "scatter"
          },
          {
           "hovertemplate": "agriculture: -0.12",
           "marker": {
            "color": "red",
            "opacity": 0.4,
            "size": 2.6841854908211373
           },
           "mode": "markers",
           "x": [
            0.25
           ],
           "xaxis": "x4",
           "y": [
            0.5
           ],
           "yaxis": "y4",
           "type": "scatter"
          },
          {
           "hovertemplate": "industry: 0.9",
           "marker": {
            "color": "green",
            "opacity": 0.4,
            "size": 21.06045466139807
           },
           "mode": "markers",
           "x": [
            0.5
           ],
           "xaxis": "x4",
           "y": [
            0.5
           ],
           "yaxis": "y4",
           "type": "scatter"
          },
          {
           "hovertemplate": "services: -0.23",
           "marker": {
            "color": "red",
            "opacity": 0.4,
            "size": 5.355877131228186
           },
           "mode": "markers",
           "x": [
            0.75
           ],
           "xaxis": "x4",
           "y": [
            0.5
           ],
           "yaxis": "y4",
           "type": "scatter"
          },
          {
           "hovertemplate": "eci: 1.14",
           "marker": {
            "color": "green",
            "opacity": 0.4,
            "size": 26.67964502890182
           },
           "mode": "markers",
           "x": [
            0.125
           ],
           "xaxis": "x5",
           "y": [
            0.5
           ],
           "yaxis": "y5",
           "type": "scatter"
          },
          {
           "hovertemplate": "exports: 0.18",
           "marker": {
            "color": "green",
            "opacity": 0.4,
            "size": 4.290399789774936
           },
           "mode": "markers",
           "x": [
            0.375
           ],
           "xaxis": "x5",
           "y": [
            0.5
           ],
           "yaxis": "y5",
           "type": "scatter"
          },
          {
           "hovertemplate": "resourcerents: -1.32",
           "marker": {
            "color": "red",
            "opacity": 0.4,
            "size": 30.716497730459494
           },
           "mode": "markers",
           "x": [
            0.625
           ],
           "xaxis": "x5",
           "y": [
            0.5
           ],
           "yaxis": "y5",
           "type": "scatter"
          },
          {
           "hovertemplate": "concentration: -0.56",
           "marker": {
            "color": "red",
            "opacity": 0.4,
            "size": 12.997132701120767
           },
           "mode": "markers",
           "x": [
            0.875
           ],
           "xaxis": "x5",
           "y": [
            0.5
           ],
           "yaxis": "y5",
           "type": "scatter"
          },
          {
           "hovertemplate": "grosscapital: 0.57",
           "marker": {
            "color": "green",
            "opacity": 0.4,
            "size": 13.381330626709353
           },
           "mode": "markers",
           "x": [
            0.125
           ],
           "xaxis": "x6",
           "y": [
            0.5
           ],
           "yaxis": "y6",
           "type": "scatter"
          },
          {
           "hovertemplate": "lifeexpectancy: 0.39",
           "marker": {
            "color": "green",
            "opacity": 0.4,
            "size": 9.194615591030566
           },
           "mode": "markers",
           "x": [
            0.375
           ],
           "xaxis": "x6",
           "y": [
            0.5
           ],
           "yaxis": "y6",
           "type": "scatter"
          },
          {
           "hovertemplate": "education: 0.32",
           "marker": {
            "color": "green",
            "opacity": 0.4,
            "size": 7.477595937051557
           },
           "mode": "markers",
           "x": [
            0.625
           ],
           "xaxis": "x6",
           "y": [
            0.5
           ],
           "yaxis": "y6",
           "type": "scatter"
          },
          {
           "hovertemplate": "mfootprint: -0.1",
           "marker": {
            "color": "red",
            "opacity": 0.4,
            "size": 2.3464465428057406
           },
           "mode": "markers",
           "x": [
            0.875
           ],
           "xaxis": "x6",
           "y": [
            0.5
           ],
           "yaxis": "y6",
           "type": "scatter"
          },
          {
           "hovertemplate": "gini: nan",
           "marker": {
            "color": "grey",
            "opacity": 0.2,
            "size": 7.0
           },
           "mode": "markers",
           "x": [
            0.5
           ],
           "xaxis": "x2",
           "y": [
            0.2
           ],
           "yaxis": "y2",
           "type": "scatter"
          },
          {
           "hovertemplate": "voice: -0.36",
           "marker": {
            "color": "green",
            "opacity": 0.4,
            "size": 8.411313831709064
           },
           "mode": "markers",
           "x": [
            0.5
           ],
           "xaxis": "x2",
           "y": [
            0.5
           ],
           "yaxis": "y2",
           "type": "scatter"
          },
          {
           "hovertemplate": "femaleminister: nan",
           "marker": {
            "color": "grey",
            "opacity": 0.2,
            "size": 7.0
           },
           "mode": "markers",
           "x": [
            0.5
           ],
           "xaxis": "x2",
           "y": [
            0.8
           ],
           "yaxis": "y2",
           "type": "scatter"
          }
         ],
         "layout": {
          "annotations": [
           {
            "font": {
             "size": 18
            },
            "showarrow": false,
            "text": "Year: 1998",
            "x": 0,
            "xref": "paper",
            "y": 0.95,
            "yref": "paper"
           },
           {
            "font": {
             "size": 18
            },
            "showarrow": false,
            "text": "Country: Korea, Rep.",
            "x": 0,
            "xref": "paper",
            "y": 0.85,
            "yref": "paper"
           }
          ]
         },
         "name": "1998"
        },
        {
         "data": [
          {
           "hovertemplate": "unemployed: -0.06",
           "marker": {
            "color": "green",
            "opacity": 0.4,
            "size": 1.2970569659175177
           },
           "mode": "markers",
           "x": [
            0.125
           ],
           "xaxis": "x",
           "y": [
            0.5
           ],
           "yaxis": "y",
           "type": "scatter"
          },
          {
           "hovertemplate": "wealth: 0.46",
           "marker": {
            "color": "green",
            "opacity": 0.4,
            "size": 10.673116751697941
           },
           "mode": "markers",
           "x": [
            0.375
           ],
           "xaxis": "x",
           "y": [
            0.5
           ],
           "yaxis": "y",
           "type": "scatter"
          },
          {
           "hovertemplate": "energy: nan",
           "marker": {
            "color": "grey",
            "opacity": 0.2,
            "size": 7.0
           },
           "mode": "markers",
           "x": [
            0.625
           ],
           "xaxis": "x",
           "y": [
            0.5
           ],
           "yaxis": "y",
           "type": "scatter"
          },
          {
           "hovertemplate": "placeholder: 0.1",
           "marker": {
            "color": "green",
            "opacity": 0.4,
            "size": 2.3333333333333335
           },
           "mode": "markers",
           "x": [
            0.875
           ],
           "xaxis": "x",
           "y": [
            0.5
           ],
           "yaxis": "y",
           "type": "scatter"
          },
          {
           "hovertemplate": "govconsum: -0.73",
           "marker": {
            "color": "red",
            "opacity": 0.4,
            "size": 16.998414973806536
           },
           "mode": "markers",
           "x": [
            0.125
           ],
           "xaxis": "x3",
           "y": [
            0.5
           ],
           "yaxis": "y3",
           "type": "scatter"
          },
          {
           "hovertemplate": "marketcap: -0.05",
           "marker": {
            "color": "red",
            "opacity": 0.4,
            "size": 1.162231574899449
           },
           "mode": "markers",
           "x": [
            0.375
           ],
           "xaxis": "x3",
           "y": [
            0.5
           ],
           "yaxis": "y3",
           "type": "scatter"
          },
          {
           "hovertemplate": "houseconsum: -0.62",
           "marker": {
            "color": "red",
            "opacity": 0.4,
            "size": 14.523700009835071
           },
           "mode": "markers",
           "x": [
            0.625
           ],
           "xaxis": "x3",
           "y": [
            0.5
           ],
           "yaxis": "y3",
           "type": "scatter"
          },
          {
           "hovertemplate": "placeholder: 0.1",
           "marker": {
            "color": "green",
            "opacity": 0.4,
            "size": 2.3333333333333335
           },
           "mode": "markers",
           "x": [
            0.875
           ],
           "xaxis": "x3",
           "y": [
            0.5
           ],
           "yaxis": "y3",
           "type": "scatter"
          },
          {
           "hovertemplate": "agriculture: -0.11",
           "marker": {
            "color": "red",
            "opacity": 0.4,
            "size": 2.5913872502494195
           },
           "mode": "markers",
           "x": [
            0.25
           ],
           "xaxis": "x4",
           "y": [
            0.5
           ],
           "yaxis": "y4",
           "type": "scatter"
          },
          {
           "hovertemplate": "industry: 0.86",
           "marker": {
            "color": "green",
            "opacity": 0.4,
            "size": 20.179932542377177
           },
           "mode": "markers",
           "x": [
            0.5
           ],
           "xaxis": "x4",
           "y": [
            0.5
           ],
           "yaxis": "y4",
           "type": "scatter"
          },
          {
           "hovertemplate": "services: -0.27",
           "marker": {
            "color": "red",
            "opacity": 0.4,
            "size": 6.37899533429929
           },
           "mode": "markers",
           "x": [
            0.75
           ],
           "xaxis": "x4",
           "y": [
            0.5
           ],
           "yaxis": "y4",
           "type": "scatter"
          },
          {
           "hovertemplate": "eci: 1.17",
           "marker": {
            "color": "green",
            "opacity": 0.4,
            "size": 27.360441678846083
           },
           "mode": "markers",
           "x": [
            0.125
           ],
           "xaxis": "x5",
           "y": [
            0.5
           ],
           "yaxis": "y5",
           "type": "scatter"
          },
          {
           "hovertemplate": "exports: -0.1",
           "marker": {
            "color": "red",
            "opacity": 0.4,
            "size": 2.35990124076262
           },
           "mode": "markers",
           "x": [
            0.375
           ],
           "xaxis": "x5",
           "y": [
            0.5
           ],
           "yaxis": "y5",
           "type": "scatter"
          },
          {
           "hovertemplate": "resourcerents: -1.38",
           "marker": {
            "color": "red",
            "opacity": 0.4,
            "size": 32.27828380177179
           },
           "mode": "markers",
           "x": [
            0.625
           ],
           "xaxis": "x5",
           "y": [
            0.5
           ],
           "yaxis": "y5",
           "type": "scatter"
          },
          {
           "hovertemplate": "concentration: -0.45",
           "marker": {
            "color": "red",
            "opacity": 0.4,
            "size": 10.600878731944192
           },
           "mode": "markers",
           "x": [
            0.875
           ],
           "xaxis": "x5",
           "y": [
            0.5
           ],
           "yaxis": "y5",
           "type": "scatter"
          },
          {
           "hovertemplate": "grosscapital: 0.88",
           "marker": {
            "color": "green",
            "opacity": 0.4,
            "size": 20.49004185766541
           },
           "mode": "markers",
           "x": [
            0.125
           ],
           "xaxis": "x6",
           "y": [
            0.5
           ],
           "yaxis": "y6",
           "type": "scatter"
          },
          {
           "hovertemplate": "lifeexpectancy: 0.44",
           "marker": {
            "color": "green",
            "opacity": 0.4,
            "size": 10.357429690754493
           },
           "mode": "markers",
           "x": [
            0.375
           ],
           "xaxis": "x6",
           "y": [
            0.5
           ],
           "yaxis": "y6",
           "type": "scatter"
          },
          {
           "hovertemplate": "education: 0.35",
           "marker": {
            "color": "green",
            "opacity": 0.4,
            "size": 8.24726244877173
           },
           "mode": "markers",
           "x": [
            0.625
           ],
           "xaxis": "x6",
           "y": [
            0.5
           ],
           "yaxis": "y6",
           "type": "scatter"
          },
          {
           "hovertemplate": "mfootprint: 0.18",
           "marker": {
            "color": "green",
            "opacity": 0.4,
            "size": 4.156023205447241
           },
           "mode": "markers",
           "x": [
            0.875
           ],
           "xaxis": "x6",
           "y": [
            0.5
           ],
           "yaxis": "y6",
           "type": "scatter"
          },
          {
           "hovertemplate": "gini: nan",
           "marker": {
            "color": "grey",
            "opacity": 0.2,
            "size": 7.0
           },
           "mode": "markers",
           "x": [
            0.5
           ],
           "xaxis": "x2",
           "y": [
            0.2
           ],
           "yaxis": "y2",
           "type": "scatter"
          },
          {
           "hovertemplate": "voice: nan",
           "marker": {
            "color": "grey",
            "opacity": 0.2,
            "size": 7.0
           },
           "mode": "markers",
           "x": [
            0.5
           ],
           "xaxis": "x2",
           "y": [
            0.5
           ],
           "yaxis": "y2",
           "type": "scatter"
          },
          {
           "hovertemplate": "femaleminister: nan",
           "marker": {
            "color": "grey",
            "opacity": 0.2,
            "size": 7.0
           },
           "mode": "markers",
           "x": [
            0.5
           ],
           "xaxis": "x2",
           "y": [
            0.8
           ],
           "yaxis": "y2",
           "type": "scatter"
          }
         ],
         "layout": {
          "annotations": [
           {
            "font": {
             "size": 18
            },
            "showarrow": false,
            "text": "Year: 1999",
            "x": 0,
            "xref": "paper",
            "y": 0.95,
            "yref": "paper"
           },
           {
            "font": {
             "size": 18
            },
            "showarrow": false,
            "text": "Country: Korea, Rep.",
            "x": 0,
            "xref": "paper",
            "y": 0.85,
            "yref": "paper"
           }
          ]
         },
         "name": "1999"
        },
        {
         "data": [
          {
           "hovertemplate": "unemployed: -0.56",
           "marker": {
            "color": "green",
            "opacity": 0.4,
            "size": 12.976723877144142
           },
           "mode": "markers",
           "x": [
            0.125
           ],
           "xaxis": "x",
           "y": [
            0.5
           ],
           "yaxis": "y",
           "type": "scatter"
          },
          {
           "hovertemplate": "wealth: 0.51",
           "marker": {
            "color": "green",
            "opacity": 0.4,
            "size": 11.816423147001222
           },
           "mode": "markers",
           "x": [
            0.375
           ],
           "xaxis": "x",
           "y": [
            0.5
           ],
           "yaxis": "y",
           "type": "scatter"
          },
          {
           "hovertemplate": "energy: nan",
           "marker": {
            "color": "grey",
            "opacity": 0.2,
            "size": 7.0
           },
           "mode": "markers",
           "x": [
            0.625
           ],
           "xaxis": "x",
           "y": [
            0.5
           ],
           "yaxis": "y",
           "type": "scatter"
          },
          {
           "hovertemplate": "placeholder: 0.1",
           "marker": {
            "color": "green",
            "opacity": 0.4,
            "size": 2.3333333333333335
           },
           "mode": "markers",
           "x": [
            0.875
           ],
           "xaxis": "x",
           "y": [
            0.5
           ],
           "yaxis": "y",
           "type": "scatter"
          },
          {
           "hovertemplate": "govconsum: -0.75",
           "marker": {
            "color": "red",
            "opacity": 0.4,
            "size": 17.469024120879567
           },
           "mode": "markers",
           "x": [
            0.125
           ],
           "xaxis": "x3",
           "y": [
            0.5
           ],
           "yaxis": "y3",
           "type": "scatter"
          },
          {
           "hovertemplate": "marketcap: -0.29",
           "marker": {
            "color": "red",
            "opacity": 0.4,
            "size": 6.774158542145016
           },
           "mode": "markers",
           "x": [
            0.375
           ],
           "xaxis": "x3",
           "y": [
            0.5
           ],
           "yaxis": "y3",
           "type": "scatter"
          },
          {
           "hovertemplate": "houseconsum: -0.52",
           "marker": {
            "color": "red",
            "opacity": 0.4,
            "size": 12.082399604526698
           },
           "mode": "markers",
           "x": [
            0.625
           ],
           "xaxis": "x3",
           "y": [
            0.5
           ],
           "yaxis": "y3",
           "type": "scatter"
          },
          {
           "hovertemplate": "placeholder: 0.1",
           "marker": {
            "color": "green",
            "opacity": 0.4,
            "size": 2.3333333333333335
           },
           "mode": "markers",
           "x": [
            0.875
           ],
           "xaxis": "x3",
           "y": [
            0.5
           ],
           "yaxis": "y3",
           "type": "scatter"
          },
          {
           "hovertemplate": "agriculture: -0.18",
           "marker": {
            "color": "red",
            "opacity": 0.4,
            "size": 4.18940029408236
           },
           "mode": "markers",
           "x": [
            0.25
           ],
           "xaxis": "x4",
           "y": [
            0.5
           ],
           "yaxis": "y4",
           "type": "scatter"
          },
          {
           "hovertemplate": "industry: 0.87",
           "marker": {
            "color": "green",
            "opacity": 0.4,
            "size": 20.303511348200693
           },
           "mode": "markers",
           "x": [
            0.5
           ],
           "xaxis": "x4",
           "y": [
            0.5
           ],
           "yaxis": "y4",
           "type": "scatter"
          },
          {
           "hovertemplate": "services: -0.28",
           "marker": {
            "color": "red",
            "opacity": 0.4,
            "size": 6.439063891959606
           },
           "mode": "markers",
           "x": [
            0.75
           ],
           "xaxis": "x4",
           "y": [
            0.5
           ],
           "yaxis": "y4",
           "type": "scatter"
          },
          {
           "hovertemplate": "eci: 1.27",
           "marker": {
            "color": "green",
            "opacity": 0.4,
            "size": 29.573989401694483
           },
           "mode": "markers",
           "x": [
            0.125
           ],
           "xaxis": "x5",
           "y": [
            0.5
           ],
           "yaxis": "y5",
           "type": "scatter"
          },
          {
           "hovertemplate": "exports: -0.04",
           "marker": {
            "color": "red",
            "opacity": 0.4,
            "size": 0.9644594239929004
           },
           "mode": "markers",
           "x": [
            0.375
           ],
           "xaxis": "x5",
           "y": [
            0.5
           ],
           "yaxis": "y5",
           "type": "scatter"
          },
          {
           "hovertemplate": "resourcerents: -1.34",
           "marker": {
            "color": "red",
            "opacity": 0.4,
            "size": 31.229657609265374
           },
           "mode": "markers",
           "x": [
            0.625
           ],
           "xaxis": "x5",
           "y": [
            0.5
           ],
           "yaxis": "y5",
           "type": "scatter"
          },
          {
           "hovertemplate": "concentration: -0.45",
           "marker": {
            "color": "red",
            "opacity": 0.4,
            "size": 10.479318153307187
           },
           "mode": "markers",
           "x": [
            0.875
           ],
           "xaxis": "x5",
           "y": [
            0.5
           ],
           "yaxis": "y5",
           "type": "scatter"
          },
          {
           "hovertemplate": "grosscapital: 1.04",
           "marker": {
            "color": "green",
            "opacity": 0.4,
            "size": 24.290910381077918
           },
           "mode": "markers",
           "x": [
            0.125
           ],
           "xaxis": "x6",
           "y": [
            0.5
           ],
           "yaxis": "y6",
           "type": "scatter"
          },
          {
           "hovertemplate": "lifeexpectancy: 0.51",
           "marker": {
            "color": "green",
            "opacity": 0.4,
            "size": 11.793435054871336
           },
           "mode": "markers",
           "x": [
            0.375
           ],
           "xaxis": "x6",
           "y": [
            0.5
           ],
           "yaxis": "y6",
           "type": "scatter"
          },
          {
           "hovertemplate": "education: 0.43",
           "marker": {
            "color": "green",
            "opacity": 0.4,
            "size": 9.994894306814283
           },
           "mode": "markers",
           "x": [
            0.625
           ],
           "xaxis": "x6",
           "y": [
            0.5
           ],
           "yaxis": "y6",
           "type": "scatter"
          },
          {
           "hovertemplate": "mfootprint: 0.31",
           "marker": {
            "color": "green",
            "opacity": 0.4,
            "size": 7.286752049962434
           },
           "mode": "markers",
           "x": [
            0.875
           ],
           "xaxis": "x6",
           "y": [
            0.5
           ],
           "yaxis": "y6",
           "type": "scatter"
          },
          {
           "hovertemplate": "gini: nan",
           "marker": {
            "color": "grey",
            "opacity": 0.2,
            "size": 7.0
           },
           "mode": "markers",
           "x": [
            0.5
           ],
           "xaxis": "x2",
           "y": [
            0.2
           ],
           "yaxis": "y2",
           "type": "scatter"
          },
          {
           "hovertemplate": "voice: -0.36",
           "marker": {
            "color": "green",
            "opacity": 0.4,
            "size": 8.366536676098718
           },
           "mode": "markers",
           "x": [
            0.5
           ],
           "xaxis": "x2",
           "y": [
            0.5
           ],
           "yaxis": "y2",
           "type": "scatter"
          },
          {
           "hovertemplate": "femaleminister: nan",
           "marker": {
            "color": "grey",
            "opacity": 0.2,
            "size": 7.0
           },
           "mode": "markers",
           "x": [
            0.5
           ],
           "xaxis": "x2",
           "y": [
            0.8
           ],
           "yaxis": "y2",
           "type": "scatter"
          }
         ],
         "layout": {
          "annotations": [
           {
            "font": {
             "size": 18
            },
            "showarrow": false,
            "text": "Year: 2000",
            "x": 0,
            "xref": "paper",
            "y": 0.95,
            "yref": "paper"
           },
           {
            "font": {
             "size": 18
            },
            "showarrow": false,
            "text": "Country: Korea, Rep.",
            "x": 0,
            "xref": "paper",
            "y": 0.85,
            "yref": "paper"
           }
          ]
         },
         "name": "2000"
        },
        {
         "data": [
          {
           "hovertemplate": "unemployed: -0.66",
           "marker": {
            "color": "green",
            "opacity": 0.4,
            "size": 15.409905620197437
           },
           "mode": "markers",
           "x": [
            0.125
           ],
           "xaxis": "x",
           "y": [
            0.5
           ],
           "yaxis": "y",
           "type": "scatter"
          },
          {
           "hovertemplate": "wealth: 0.53",
           "marker": {
            "color": "green",
            "opacity": 0.4,
            "size": 12.261307758954375
           },
           "mode": "markers",
           "x": [
            0.375
           ],
           "xaxis": "x",
           "y": [
            0.5
           ],
           "yaxis": "y",
           "type": "scatter"
          },
          {
           "hovertemplate": "energy: nan",
           "marker": {
            "color": "grey",
            "opacity": 0.2,
            "size": 7.0
           },
           "mode": "markers",
           "x": [
            0.625
           ],
           "xaxis": "x",
           "y": [
            0.5
           ],
           "yaxis": "y",
           "type": "scatter"
          },
          {
           "hovertemplate": "placeholder: 0.1",
           "marker": {
            "color": "green",
            "opacity": 0.4,
            "size": 2.3333333333333335
           },
           "mode": "markers",
           "x": [
            0.875
           ],
           "xaxis": "x",
           "y": [
            0.5
           ],
           "yaxis": "y",
           "type": "scatter"
          },
          {
           "hovertemplate": "govconsum: -0.65",
           "marker": {
            "color": "red",
            "opacity": 0.4,
            "size": 15.188237415450894
           },
           "mode": "markers",
           "x": [
            0.125
           ],
           "xaxis": "x3",
           "y": [
            0.5
           ],
           "yaxis": "y3",
           "type": "scatter"
          },
          {
           "hovertemplate": "marketcap: -0.19",
           "marker": {
            "color": "red",
            "opacity": 0.4,
            "size": 4.482471330774179
           },
           "mode": "markers",
           "x": [
            0.375
           ],
           "xaxis": "x3",
           "y": [
            0.5
           ],
           "yaxis": "y3",
           "type": "scatter"
          },
          {
           "hovertemplate": "houseconsum: -0.47",
           "marker": {
            "color": "red",
            "opacity": 0.4,
            "size": 10.918315972253806
           },
           "mode": "markers",
           "x": [
            0.625
           ],
           "xaxis": "x3",
           "y": [
            0.5
           ],
           "yaxis": "y3",
           "type": "scatter"
          },
          {
           "hovertemplate": "placeholder: 0.1",
           "marker": {
            "color": "green",
            "opacity": 0.4,
            "size": 2.3333333333333335
           },
           "mode": "markers",
           "x": [
            0.875
           ],
           "xaxis": "x3",
           "y": [
            0.5
           ],
           "yaxis": "y3",
           "type": "scatter"
          },
          {
           "hovertemplate": "agriculture: -0.24",
           "marker": {
            "color": "red",
            "opacity": 0.4,
            "size": 5.48908578621842
           },
           "mode": "markers",
           "x": [
            0.25
           ],
           "xaxis": "x4",
           "y": [
            0.5
           ],
           "yaxis": "y4",
           "type": "scatter"
          },
          {
           "hovertemplate": "industry: 0.78",
           "marker": {
            "color": "green",
            "opacity": 0.4,
            "size": 18.138355232950016
           },
           "mode": "markers",
           "x": [
            0.5
           ],
           "xaxis": "x4",
           "y": [
            0.5
           ],
           "yaxis": "y4",
           "type": "scatter"
          },
          {
           "hovertemplate": "services: -0.16",
           "marker": {
            "color": "red",
            "opacity": 0.4,
            "size": 3.7188871323751704
           },
           "mode": "markers",
           "x": [
            0.75
           ],
           "xaxis": "x4",
           "y": [
            0.5
           ],
           "yaxis": "y4",
           "type": "scatter"
          },
          {
           "hovertemplate": "eci: 1.46",
           "marker": {
            "color": "green",
            "opacity": 0.4,
            "size": 34.16183833797184
           },
           "mode": "markers",
           "x": [
            0.125
           ],
           "xaxis": "x5",
           "y": [
            0.5
           ],
           "yaxis": "y5",
           "type": "scatter"
          },
          {
           "hovertemplate": "exports: -0.14",
           "marker": {
            "color": "red",
            "opacity": 0.4,
            "size": 3.2187356807645107
           },
           "mode": "markers",
           "x": [
            0.375
           ],
           "xaxis": "x5",
           "y": [
            0.5
           ],
           "yaxis": "y5",
           "type": "scatter"
          },
          {
           "hovertemplate": "resourcerents: -1.32",
           "marker": {
            "color": "red",
            "opacity": 0.4,
            "size": 30.779925842387794
           },
           "mode": "markers",
           "x": [
            0.625
           ],
           "xaxis": "x5",
           "y": [
            0.5
           ],
           "yaxis": "y5",
           "type": "scatter"
          },
          {
           "hovertemplate": "concentration: -0.46",
           "marker": {
            "color": "red",
            "opacity": 0.4,
            "size": 10.644204394316159
           },
           "mode": "markers",
           "x": [
            0.875
           ],
           "xaxis": "x5",
           "y": [
            0.5
           ],
           "yaxis": "y5",
           "type": "scatter"
          },
          {
           "hovertemplate": "grosscapital: 0.93",
           "marker": {
            "color": "green",
            "opacity": 0.4,
            "size": 21.706847808241665
           },
           "mode": "markers",
           "x": [
            0.125
           ],
           "xaxis": "x6",
           "y": [
            0.5
           ],
           "yaxis": "y6",
           "type": "scatter"
          },
          {
           "hovertemplate": "lifeexpectancy: 0.57",
           "marker": {
            "color": "green",
            "opacity": 0.4,
            "size": 13.236445323203256
           },
           "mode": "markers",
           "x": [
            0.375
           ],
           "xaxis": "x6",
           "y": [
            0.5
           ],
           "yaxis": "y6",
           "type": "scatter"
          },
          {
           "hovertemplate": "education: 0.41",
           "marker": {
            "color": "green",
            "opacity": 0.4,
            "size": 9.585140778967034
           },
           "mode": "markers",
           "x": [
            0.625
           ],
           "xaxis": "x6",
           "y": [
            0.5
           ],
           "yaxis": "y6",
           "type": "scatter"
          },
          {
           "hovertemplate": "mfootprint: 0.3",
           "marker": {
            "color": "green",
            "opacity": 0.4,
            "size": 6.965618453254848
           },
           "mode": "markers",
           "x": [
            0.875
           ],
           "xaxis": "x6",
           "y": [
            0.5
           ],
           "yaxis": "y6",
           "type": "scatter"
          },
          {
           "hovertemplate": "gini: nan",
           "marker": {
            "color": "grey",
            "opacity": 0.2,
            "size": 7.0
           },
           "mode": "markers",
           "x": [
            0.5
           ],
           "xaxis": "x2",
           "y": [
            0.2
           ],
           "yaxis": "y2",
           "type": "scatter"
          },
          {
           "hovertemplate": "voice: nan",
           "marker": {
            "color": "grey",
            "opacity": 0.2,
            "size": 7.0
           },
           "mode": "markers",
           "x": [
            0.5
           ],
           "xaxis": "x2",
           "y": [
            0.5
           ],
           "yaxis": "y2",
           "type": "scatter"
          },
          {
           "hovertemplate": "femaleminister: nan",
           "marker": {
            "color": "grey",
            "opacity": 0.2,
            "size": 7.0
           },
           "mode": "markers",
           "x": [
            0.5
           ],
           "xaxis": "x2",
           "y": [
            0.8
           ],
           "yaxis": "y2",
           "type": "scatter"
          }
         ],
         "layout": {
          "annotations": [
           {
            "font": {
             "size": 18
            },
            "showarrow": false,
            "text": "Year: 2001",
            "x": 0,
            "xref": "paper",
            "y": 0.95,
            "yref": "paper"
           },
           {
            "font": {
             "size": 18
            },
            "showarrow": false,
            "text": "Country: Korea, Rep.",
            "x": 0,
            "xref": "paper",
            "y": 0.85,
            "yref": "paper"
           }
          ]
         },
         "name": "2001"
        },
        {
         "data": [
          {
           "hovertemplate": "unemployed: -0.88",
           "marker": {
            "color": "green",
            "opacity": 0.4,
            "size": 20.47257219995228
           },
           "mode": "markers",
           "x": [
            0.125
           ],
           "xaxis": "x",
           "y": [
            0.5
           ],
           "yaxis": "y",
           "type": "scatter"
          },
          {
           "hovertemplate": "wealth: 0.59",
           "marker": {
            "color": "green",
            "opacity": 0.4,
            "size": 13.721222263575717
           },
           "mode": "markers",
           "x": [
            0.375
           ],
           "xaxis": "x",
           "y": [
            0.5
           ],
           "yaxis": "y",
           "type": "scatter"
          },
          {
           "hovertemplate": "energy: nan",
           "marker": {
            "color": "grey",
            "opacity": 0.2,
            "size": 7.0
           },
           "mode": "markers",
           "x": [
            0.625
           ],
           "xaxis": "x",
           "y": [
            0.5
           ],
           "yaxis": "y",
           "type": "scatter"
          },
          {
           "hovertemplate": "placeholder: 0.1",
           "marker": {
            "color": "green",
            "opacity": 0.4,
            "size": 2.3333333333333335
           },
           "mode": "markers",
           "x": [
            0.875
           ],
           "xaxis": "x",
           "y": [
            0.5
           ],
           "yaxis": "y",
           "type": "scatter"
          },
          {
           "hovertemplate": "govconsum: -0.65",
           "marker": {
            "color": "red",
            "opacity": 0.4,
            "size": 15.22400471398399
           },
           "mode": "markers",
           "x": [
            0.125
           ],
           "xaxis": "x3",
           "y": [
            0.5
           ],
           "yaxis": "y3",
           "type": "scatter"
          },
          {
           "hovertemplate": "marketcap: -0.21",
           "marker": {
            "color": "red",
            "opacity": 0.4,
            "size": 4.966501016625024
           },
           "mode": "markers",
           "x": [
            0.375
           ],
           "xaxis": "x3",
           "y": [
            0.5
           ],
           "yaxis": "y3",
           "type": "scatter"
          },
          {
           "hovertemplate": "houseconsum: -0.43",
           "marker": {
            "color": "red",
            "opacity": 0.4,
            "size": 10.018900710672373
           },
           "mode": "markers",
           "x": [
            0.625
           ],
           "xaxis": "x3",
           "y": [
            0.5
           ],
           "yaxis": "y3",
           "type": "scatter"
          },
          {
           "hovertemplate": "placeholder: 0.1",
           "marker": {
            "color": "green",
            "opacity": 0.4,
            "size": 2.3333333333333335
           },
           "mode": "markers",
           "x": [
            0.875
           ],
           "xaxis": "x3",
           "y": [
            0.5
           ],
           "yaxis": "y3",
           "type": "scatter"
          },
          {
           "hovertemplate": "agriculture: -0.31",
           "marker": {
            "color": "red",
            "opacity": 0.4,
            "size": 7.241562244542192
           },
           "mode": "markers",
           "x": [
            0.25
           ],
           "xaxis": "x4",
           "y": [
            0.5
           ],
           "yaxis": "y4",
           "type": "scatter"
          },
          {
           "hovertemplate": "industry: 0.75",
           "marker": {
            "color": "green",
            "opacity": 0.4,
            "size": 17.54546123310813
           },
           "mode": "markers",
           "x": [
            0.5
           ],
           "xaxis": "x4",
           "y": [
            0.5
           ],
           "yaxis": "y4",
           "type": "scatter"
          },
          {
           "hovertemplate": "services: -0.12",
           "marker": {
            "color": "red",
            "opacity": 0.4,
            "size": 2.765754751678297
           },
           "mode": "markers",
           "x": [
            0.75
           ],
           "xaxis": "x4",
           "y": [
            0.5
           ],
           "yaxis": "y4",
           "type": "scatter"
          },
          {
           "hovertemplate": "eci: 1.44",
           "marker": {
            "color": "green",
            "opacity": 0.4,
            "size": 33.69945834956843
           },
           "mode": "markers",
           "x": [
            0.125
           ],
           "xaxis": "x5",
           "y": [
            0.5
           ],
           "yaxis": "y5",
           "type": "scatter"
          },
          {
           "hovertemplate": "exports: -0.23",
           "marker": {
            "color": "red",
            "opacity": 0.4,
            "size": 5.472941718295085
           },
           "mode": "markers",
           "x": [
            0.375
           ],
           "xaxis": "x5",
           "y": [
            0.5
           ],
           "yaxis": "y5",
           "type": "scatter"
          },
          {
           "hovertemplate": "resourcerents: -1.37",
           "marker": {
            "color": "red",
            "opacity": 0.4,
            "size": 31.86728937780159
           },
           "mode": "markers",
           "x": [
            0.625
           ],
           "xaxis": "x5",
           "y": [
            0.5
           ],
           "yaxis": "y5",
           "type": "scatter"
          },
          {
           "hovertemplate": "concentration: -0.45",
           "marker": {
            "color": "red",
            "opacity": 0.4,
            "size": 10.47972471803248
           },
           "mode": "markers",
           "x": [
            0.875
           ],
           "xaxis": "x5",
           "y": [
            0.5
           ],
           "yaxis": "y5",
           "type": "scatter"
          },
          {
           "hovertemplate": "grosscapital: 0.89",
           "marker": {
            "color": "green",
            "opacity": 0.4,
            "size": 20.656362305461595
           },
           "mode": "markers",
           "x": [
            0.125
           ],
           "xaxis": "x6",
           "y": [
            0.5
           ],
           "yaxis": "y6",
           "type": "scatter"
          },
          {
           "hovertemplate": "lifeexpectancy: 0.61",
           "marker": {
            "color": "green",
            "opacity": 0.4,
            "size": 14.252156434407949
           },
           "mode": "markers",
           "x": [
            0.375
           ],
           "xaxis": "x6",
           "y": [
            0.5
           ],
           "yaxis": "y6",
           "type": "scatter"
          },
          {
           "hovertemplate": "education: 0.4",
           "marker": {
            "color": "green",
            "opacity": 0.4,
            "size": 9.296572978891925
           },
           "mode": "markers",
           "x": [
            0.625
           ],
           "xaxis": "x6",
           "y": [
            0.5
           ],
           "yaxis": "y6",
           "type": "scatter"
          },
          {
           "hovertemplate": "mfootprint: 0.25",
           "marker": {
            "color": "green",
            "opacity": 0.4,
            "size": 5.912222562441854
           },
           "mode": "markers",
           "x": [
            0.875
           ],
           "xaxis": "x6",
           "y": [
            0.5
           ],
           "yaxis": "y6",
           "type": "scatter"
          },
          {
           "hovertemplate": "gini: nan",
           "marker": {
            "color": "grey",
            "opacity": 0.2,
            "size": 7.0
           },
           "mode": "markers",
           "x": [
            0.5
           ],
           "xaxis": "x2",
           "y": [
            0.2
           ],
           "yaxis": "y2",
           "type": "scatter"
          },
          {
           "hovertemplate": "voice: -0.5",
           "marker": {
            "color": "green",
            "opacity": 0.4,
            "size": 11.73887921794072
           },
           "mode": "markers",
           "x": [
            0.5
           ],
           "xaxis": "x2",
           "y": [
            0.5
           ],
           "yaxis": "y2",
           "type": "scatter"
          },
          {
           "hovertemplate": "femaleminister: nan",
           "marker": {
            "color": "grey",
            "opacity": 0.2,
            "size": 7.0
           },
           "mode": "markers",
           "x": [
            0.5
           ],
           "xaxis": "x2",
           "y": [
            0.8
           ],
           "yaxis": "y2",
           "type": "scatter"
          }
         ],
         "layout": {
          "annotations": [
           {
            "font": {
             "size": 18
            },
            "showarrow": false,
            "text": "Year: 2002",
            "x": 0,
            "xref": "paper",
            "y": 0.95,
            "yref": "paper"
           },
           {
            "font": {
             "size": 18
            },
            "showarrow": false,
            "text": "Country: Korea, Rep.",
            "x": 0,
            "xref": "paper",
            "y": 0.85,
            "yref": "paper"
           }
          ]
         },
         "name": "2002"
        },
        {
         "data": [
          {
           "hovertemplate": "unemployed: -0.77",
           "marker": {
            "color": "green",
            "opacity": 0.4,
            "size": 18.01400780767983
           },
           "mode": "markers",
           "x": [
            0.125
           ],
           "xaxis": "x",
           "y": [
            0.5
           ],
           "yaxis": "y",
           "type": "scatter"
          },
          {
           "hovertemplate": "wealth: 0.68",
           "marker": {
            "color": "green",
            "opacity": 0.4,
            "size": 15.761538375490403
           },
           "mode": "markers",
           "x": [
            0.375
           ],
           "xaxis": "x",
           "y": [
            0.5
           ],
           "yaxis": "y",
           "type": "scatter"
          },
          {
           "hovertemplate": "energy: nan",
           "marker": {
            "color": "grey",
            "opacity": 0.2,
            "size": 7.0
           },
           "mode": "markers",
           "x": [
            0.625
           ],
           "xaxis": "x",
           "y": [
            0.5
           ],
           "yaxis": "y",
           "type": "scatter"
          },
          {
           "hovertemplate": "placeholder: 0.1",
           "marker": {
            "color": "green",
            "opacity": 0.4,
            "size": 2.3333333333333335
           },
           "mode": "markers",
           "x": [
            0.875
           ],
           "xaxis": "x",
           "y": [
            0.5
           ],
           "yaxis": "y",
           "type": "scatter"
          },
          {
           "hovertemplate": "govconsum: -0.61",
           "marker": {
            "color": "red",
            "opacity": 0.4,
            "size": 14.129258056662163
           },
           "mode": "markers",
           "x": [
            0.125
           ],
           "xaxis": "x3",
           "y": [
            0.5
           ],
           "yaxis": "y3",
           "type": "scatter"
          },
          {
           "hovertemplate": "marketcap: -0.16",
           "marker": {
            "color": "red",
            "opacity": 0.4,
            "size": 3.746664889774785
           },
           "mode": "markers",
           "x": [
            0.375
           ],
           "xaxis": "x3",
           "y": [
            0.5
           ],
           "yaxis": "y3",
           "type": "scatter"
          },
          {
           "hovertemplate": "houseconsum: -0.54",
           "marker": {
            "color": "red",
            "opacity": 0.4,
            "size": 12.642730069487635
           },
           "mode": "markers",
           "x": [
            0.625
           ],
           "xaxis": "x3",
           "y": [
            0.5
           ],
           "yaxis": "y3",
           "type": "scatter"
          },
          {
           "hovertemplate": "placeholder: 0.1",
           "marker": {
            "color": "green",
            "opacity": 0.4,
            "size": 2.3333333333333335
           },
           "mode": "markers",
           "x": [
            0.875
           ],
           "xaxis": "x3",
           "y": [
            0.5
           ],
           "yaxis": "y3",
           "type": "scatter"
          },
          {
           "hovertemplate": "agriculture: -0.37",
           "marker": {
            "color": "red",
            "opacity": 0.4,
            "size": 8.538469238597317
           },
           "mode": "markers",
           "x": [
            0.25
           ],
           "xaxis": "x4",
           "y": [
            0.5
           ],
           "yaxis": "y4",
           "type": "scatter"
          },
          {
           "hovertemplate": "industry: 0.77",
           "marker": {
            "color": "green",
            "opacity": 0.4,
            "size": 17.979737375975695
           },
           "mode": "markers",
           "x": [
            0.5
           ],
           "xaxis": "x4",
           "y": [
            0.5
           ],
           "yaxis": "y4",
           "type": "scatter"
          },
          {
           "hovertemplate": "services: -0.1",
           "marker": {
            "color": "red",
            "opacity": 0.4,
            "size": 2.288347851868264
           },
           "mode": "markers",
           "x": [
            0.75
           ],
           "xaxis": "x4",
           "y": [
            0.5
           ],
           "yaxis": "y4",
           "type": "scatter"
          },
          {
           "hovertemplate": "eci: 1.39",
           "marker": {
            "color": "green",
            "opacity": 0.4,
            "size": 32.4795195992647
           },
           "mode": "markers",
           "x": [
            0.125
           ],
           "xaxis": "x5",
           "y": [
            0.5
           ],
           "yaxis": "y5",
           "type": "scatter"
          },
          {
           "hovertemplate": "exports: -0.16",
           "marker": {
            "color": "red",
            "opacity": 0.4,
            "size": 3.6435639168549354
           },
           "mode": "markers",
           "x": [
            0.375
           ],
           "xaxis": "x5",
           "y": [
            0.5
           ],
           "yaxis": "y5",
           "type": "scatter"
          },
          {
           "hovertemplate": "resourcerents: -1.35",
           "marker": {
            "color": "red",
            "opacity": 0.4,
            "size": 31.50774342930129
           },
           "mode": "markers",
           "x": [
            0.625
           ],
           "xaxis": "x5",
           "y": [
            0.5
           ],
           "yaxis": "y5",
           "type": "scatter"
          },
          {
           "hovertemplate": "concentration: -0.44",
           "marker": {
            "color": "red",
            "opacity": 0.4,
            "size": 10.204645767476594
           },
           "mode": "markers",
           "x": [
            0.875
           ],
           "xaxis": "x5",
           "y": [
            0.5
           ],
           "yaxis": "y5",
           "type": "scatter"
          },
          {
           "hovertemplate": "grosscapital: 0.99",
           "marker": {
            "color": "green",
            "opacity": 0.4,
            "size": 23.074498304449392
           },
           "mode": "markers",
           "x": [
            0.125
           ],
           "xaxis": "x6",
           "y": [
            0.5
           ],
           "yaxis": "y6",
           "type": "scatter"
          },
          {
           "hovertemplate": "lifeexpectancy: 0.67",
           "marker": {
            "color": "green",
            "opacity": 0.4,
            "size": 15.541058810005557
           },
           "mode": "markers",
           "x": [
            0.375
           ],
           "xaxis": "x6",
           "y": [
            0.5
           ],
           "yaxis": "y6",
           "type": "scatter"
          },
          {
           "hovertemplate": "education: 0.39",
           "marker": {
            "color": "green",
            "opacity": 0.4,
            "size": 9.043165908779649
           },
           "mode": "markers",
           "x": [
            0.625
           ],
           "xaxis": "x6",
           "y": [
            0.5
           ],
           "yaxis": "y6",
           "type": "scatter"
          },
          {
           "hovertemplate": "mfootprint: 0.36",
           "marker": {
            "color": "green",
            "opacity": 0.4,
            "size": 8.496506335140115
           },
           "mode": "markers",
           "x": [
            0.875
           ],
           "xaxis": "x6",
           "y": [
            0.5
           ],
           "yaxis": "y6",
           "type": "scatter"
          },
          {
           "hovertemplate": "gini: nan",
           "marker": {
            "color": "grey",
            "opacity": 0.2,
            "size": 7.0
           },
           "mode": "markers",
           "x": [
            0.5
           ],
           "xaxis": "x2",
           "y": [
            0.2
           ],
           "yaxis": "y2",
           "type": "scatter"
          },
          {
           "hovertemplate": "voice: -0.47",
           "marker": {
            "color": "green",
            "opacity": 0.4,
            "size": 11.017944558178574
           },
           "mode": "markers",
           "x": [
            0.5
           ],
           "xaxis": "x2",
           "y": [
            0.5
           ],
           "yaxis": "y2",
           "type": "scatter"
          },
          {
           "hovertemplate": "femaleminister: nan",
           "marker": {
            "color": "grey",
            "opacity": 0.2,
            "size": 7.0
           },
           "mode": "markers",
           "x": [
            0.5
           ],
           "xaxis": "x2",
           "y": [
            0.8
           ],
           "yaxis": "y2",
           "type": "scatter"
          }
         ],
         "layout": {
          "annotations": [
           {
            "font": {
             "size": 18
            },
            "showarrow": false,
            "text": "Year: 2003",
            "x": 0,
            "xref": "paper",
            "y": 0.95,
            "yref": "paper"
           },
           {
            "font": {
             "size": 18
            },
            "showarrow": false,
            "text": "Country: Korea, Rep.",
            "x": 0,
            "xref": "paper",
            "y": 0.85,
            "yref": "paper"
           }
          ]
         },
         "name": "2003"
        },
        {
         "data": [
          {
           "hovertemplate": "unemployed: -0.75",
           "marker": {
            "color": "green",
            "opacity": 0.4,
            "size": 17.472073350076492
           },
           "mode": "markers",
           "x": [
            0.125
           ],
           "xaxis": "x",
           "y": [
            0.5
           ],
           "yaxis": "y",
           "type": "scatter"
          },
          {
           "hovertemplate": "wealth: 0.77",
           "marker": {
            "color": "green",
            "opacity": 0.4,
            "size": 18.070162964660078
           },
           "mode": "markers",
           "x": [
            0.375
           ],
           "xaxis": "x",
           "y": [
            0.5
           ],
           "yaxis": "y",
           "type": "scatter"
          },
          {
           "hovertemplate": "energy: nan",
           "marker": {
            "color": "grey",
            "opacity": 0.2,
            "size": 7.0
           },
           "mode": "markers",
           "x": [
            0.625
           ],
           "xaxis": "x",
           "y": [
            0.5
           ],
           "yaxis": "y",
           "type": "scatter"
          },
          {
           "hovertemplate": "placeholder: 0.1",
           "marker": {
            "color": "green",
            "opacity": 0.4,
            "size": 2.3333333333333335
           },
           "mode": "markers",
           "x": [
            0.875
           ],
           "xaxis": "x",
           "y": [
            0.5
           ],
           "yaxis": "y",
           "type": "scatter"
          },
          {
           "hovertemplate": "govconsum: -0.58",
           "marker": {
            "color": "red",
            "opacity": 0.4,
            "size": 13.501672279641747
           },
           "mode": "markers",
           "x": [
            0.125
           ],
           "xaxis": "x3",
           "y": [
            0.5
           ],
           "yaxis": "y3",
           "type": "scatter"
          },
          {
           "hovertemplate": "marketcap: -0.11",
           "marker": {
            "color": "red",
            "opacity": 0.4,
            "size": 2.4908064327779473
           },
           "mode": "markers",
           "x": [
            0.375
           ],
           "xaxis": "x3",
           "y": [
            0.5
           ],
           "yaxis": "y3",
           "type": "scatter"
          },
          {
           "hovertemplate": "houseconsum: -0.68",
           "marker": {
            "color": "red",
            "opacity": 0.4,
            "size": 15.840467527815052
           },
           "mode": "markers",
           "x": [
            0.625
           ],
           "xaxis": "x3",
           "y": [
            0.5
           ],
           "yaxis": "y3",
           "type": "scatter"
          },
          {
           "hovertemplate": "placeholder: 0.1",
           "marker": {
            "color": "green",
            "opacity": 0.4,
            "size": 2.3333333333333335
           },
           "mode": "markers",
           "x": [
            0.875
           ],
           "xaxis": "x3",
           "y": [
            0.5
           ],
           "yaxis": "y3",
           "type": "scatter"
          },
          {
           "hovertemplate": "agriculture: -0.37",
           "marker": {
            "color": "red",
            "opacity": 0.4,
            "size": 8.575156528029607
           },
           "mode": "markers",
           "x": [
            0.25
           ],
           "xaxis": "x4",
           "y": [
            0.5
           ],
           "yaxis": "y4",
           "type": "scatter"
          },
          {
           "hovertemplate": "industry: 0.87",
           "marker": {
            "color": "green",
            "opacity": 0.4,
            "size": 20.27525002014159
           },
           "mode": "markers",
           "x": [
            0.5
           ],
           "xaxis": "x4",
           "y": [
            0.5
           ],
           "yaxis": "y4",
           "type": "scatter"
          },
          {
           "hovertemplate": "services: -0.16",
           "marker": {
            "color": "red",
            "opacity": 0.4,
            "size": 3.695027444261883
           },
           "mode": "markers",
           "x": [
            0.75
           ],
           "xaxis": "x4",
           "y": [
            0.5
           ],
           "yaxis": "y4",
           "type": "scatter"
          },
          {
           "hovertemplate": "eci: 1.51",
           "marker": {
            "color": "green",
            "opacity": 0.4,
            "size": 35.26261630423687
           },
           "mode": "markers",
           "x": [
            0.125
           ],
           "xaxis": "x5",
           "y": [
            0.5
           ],
           "yaxis": "y5",
           "type": "scatter"
          },
          {
           "hovertemplate": "exports: 0.08",
           "marker": {
            "color": "green",
            "opacity": 0.4,
            "size": 1.7785217295648592
           },
           "mode": "markers",
           "x": [
            0.375
           ],
           "xaxis": "x5",
           "y": [
            0.5
           ],
           "yaxis": "y5",
           "type": "scatter"
          },
          {
           "hovertemplate": "resourcerents: -1.37",
           "marker": {
            "color": "red",
            "opacity": 0.4,
            "size": 31.97337173123105
           },
           "mode": "markers",
           "x": [
            0.625
           ],
           "xaxis": "x5",
           "y": [
            0.5
           ],
           "yaxis": "y5",
           "type": "scatter"
          },
          {
           "hovertemplate": "concentration: -0.4",
           "marker": {
            "color": "red",
            "opacity": 0.4,
            "size": 9.285859992334915
           },
           "mode": "markers",
           "x": [
            0.875
           ],
           "xaxis": "x5",
           "y": [
            0.5
           ],
           "yaxis": "y5",
           "type": "scatter"
          },
          {
           "hovertemplate": "grosscapital: 1.01",
           "marker": {
            "color": "green",
            "opacity": 0.4,
            "size": 23.61209332388242
           },
           "mode": "markers",
           "x": [
            0.125
           ],
           "xaxis": "x6",
           "y": [
            0.5
           ],
           "yaxis": "y6",
           "type": "scatter"
          },
          {
           "hovertemplate": "lifeexpectancy: 0.72",
           "marker": {
            "color": "green",
            "opacity": 0.4,
            "size": 16.836966089818283
           },
           "mode": "markers",
           "x": [
            0.375
           ],
           "xaxis": "x6",
           "y": [
            0.5
           ],
           "yaxis": "y6",
           "type": "scatter"
          },
          {
           "hovertemplate": "education: 0.39",
           "marker": {
            "color": "green",
            "opacity": 0.4,
            "size": 9.071167010154669
           },
           "mode": "markers",
           "x": [
            0.625
           ],
           "xaxis": "x6",
           "y": [
            0.5
           ],
           "yaxis": "y6",
           "type": "scatter"
          },
          {
           "hovertemplate": "mfootprint: 0.45",
           "marker": {
            "color": "green",
            "opacity": 0.4,
            "size": 10.489347485676307
           },
           "mode": "markers",
           "x": [
            0.875
           ],
           "xaxis": "x6",
           "y": [
            0.5
           ],
           "yaxis": "y6",
           "type": "scatter"
          },
          {
           "hovertemplate": "gini: nan",
           "marker": {
            "color": "grey",
            "opacity": 0.2,
            "size": 7.0
           },
           "mode": "markers",
           "x": [
            0.5
           ],
           "xaxis": "x2",
           "y": [
            0.2
           ],
           "yaxis": "y2",
           "type": "scatter"
          },
          {
           "hovertemplate": "voice: -0.48",
           "marker": {
            "color": "green",
            "opacity": 0.4,
            "size": 11.187267899236987
           },
           "mode": "markers",
           "x": [
            0.5
           ],
           "xaxis": "x2",
           "y": [
            0.5
           ],
           "yaxis": "y2",
           "type": "scatter"
          },
          {
           "hovertemplate": "femaleminister: nan",
           "marker": {
            "color": "grey",
            "opacity": 0.2,
            "size": 7.0
           },
           "mode": "markers",
           "x": [
            0.5
           ],
           "xaxis": "x2",
           "y": [
            0.8
           ],
           "yaxis": "y2",
           "type": "scatter"
          }
         ],
         "layout": {
          "annotations": [
           {
            "font": {
             "size": 18
            },
            "showarrow": false,
            "text": "Year: 2004",
            "x": 0,
            "xref": "paper",
            "y": 0.95,
            "yref": "paper"
           },
           {
            "font": {
             "size": 18
            },
            "showarrow": false,
            "text": "Country: Korea, Rep.",
            "x": 0,
            "xref": "paper",
            "y": 0.85,
            "yref": "paper"
           }
          ]
         },
         "name": "2004"
        },
        {
         "data": [
          {
           "hovertemplate": "unemployed: -0.73",
           "marker": {
            "color": "green",
            "opacity": 0.4,
            "size": 17.01631459212062
           },
           "mode": "markers",
           "x": [
            0.125
           ],
           "xaxis": "x",
           "y": [
            0.5
           ],
           "yaxis": "y",
           "type": "scatter"
          },
          {
           "hovertemplate": "wealth: 0.94",
           "marker": {
            "color": "green",
            "opacity": 0.4,
            "size": 21.829364580365226
           },
           "mode": "markers",
           "x": [
            0.375
           ],
           "xaxis": "x",
           "y": [
            0.5
           ],
           "yaxis": "y",
           "type": "scatter"
          },
          {
           "hovertemplate": "energy: nan",
           "marker": {
            "color": "grey",
            "opacity": 0.2,
            "size": 7.0
           },
           "mode": "markers",
           "x": [
            0.625
           ],
           "xaxis": "x",
           "y": [
            0.5
           ],
           "yaxis": "y",
           "type": "scatter"
          },
          {
           "hovertemplate": "placeholder: 0.1",
           "marker": {
            "color": "green",
            "opacity": 0.4,
            "size": 2.3333333333333335
           },
           "mode": "markers",
           "x": [
            0.875
           ],
           "xaxis": "x",
           "y": [
            0.5
           ],
           "yaxis": "y",
           "type": "scatter"
          },
          {
           "hovertemplate": "govconsum: -0.52",
           "marker": {
            "color": "red",
            "opacity": 0.4,
            "size": 12.234805377877679
           },
           "mode": "markers",
           "x": [
            0.125
           ],
           "xaxis": "x3",
           "y": [
            0.5
           ],
           "yaxis": "y3",
           "type": "scatter"
          },
          {
           "hovertemplate": "marketcap: 0.07",
           "marker": {
            "color": "green",
            "opacity": 0.4,
            "size": 1.531737386751032
           },
           "mode": "markers",
           "x": [
            0.375
           ],
           "xaxis": "x3",
           "y": [
            0.5
           ],
           "yaxis": "y3",
           "type": "scatter"
          },
          {
           "hovertemplate": "houseconsum: -0.64",
           "marker": {
            "color": "red",
            "opacity": 0.4,
            "size": 14.905153171460238
           },
           "mode": "markers",
           "x": [
            0.625
           ],
           "xaxis": "x3",
           "y": [
            0.5
           ],
           "yaxis": "y3",
           "type": "scatter"
          },
          {
           "hovertemplate": "placeholder: 0.1",
           "marker": {
            "color": "green",
            "opacity": 0.4,
            "size": 2.3333333333333335
           },
           "mode": "markers",
           "x": [
            0.875
           ],
           "xaxis": "x3",
           "y": [
            0.5
           ],
           "yaxis": "y3",
           "type": "scatter"
          },
          {
           "hovertemplate": "agriculture: -0.45",
           "marker": {
            "color": "red",
            "opacity": 0.4,
            "size": 10.579226366034144
           },
           "mode": "markers",
           "x": [
            0.25
           ],
           "xaxis": "x4",
           "y": [
            0.5
           ],
           "yaxis": "y4",
           "type": "scatter"
          },
          {
           "hovertemplate": "industry: 0.83",
           "marker": {
            "color": "green",
            "opacity": 0.4,
            "size": 19.46143991854093
           },
           "mode": "markers",
           "x": [
            0.5
           ],
           "xaxis": "x4",
           "y": [
            0.5
           ],
           "yaxis": "y4",
           "type": "scatter"
          },
          {
           "hovertemplate": "services: -0.1",
           "marker": {
            "color": "red",
            "opacity": 0.4,
            "size": 2.274566025218569
           },
           "mode": "markers",
           "x": [
            0.75
           ],
           "xaxis": "x4",
           "y": [
            0.5
           ],
           "yaxis": "y4",
           "type": "scatter"
          },
          {
           "hovertemplate": "eci: 1.72",
           "marker": {
            "color": "green",
            "opacity": 0.4,
            "size": 40.18870211244528
           },
           "mode": "markers",
           "x": [
            0.125
           ],
           "xaxis": "x5",
           "y": [
            0.5
           ],
           "yaxis": "y5",
           "type": "scatter"
          },
          {
           "hovertemplate": "exports: 0.02",
           "marker": {
            "color": "green",
            "opacity": 0.4,
            "size": 0.37228583628017475
           },
           "mode": "markers",
           "x": [
            0.375
           ],
           "xaxis": "x5",
           "y": [
            0.5
           ],
           "yaxis": "y5",
           "type": "scatter"
          },
          {
           "hovertemplate": "resourcerents: -1.35",
           "marker": {
            "color": "red",
            "opacity": 0.4,
            "size": 31.434329327692975
           },
           "mode": "markers",
           "x": [
            0.625
           ],
           "xaxis": "x5",
           "y": [
            0.5
           ],
           "yaxis": "y5",
           "type": "scatter"
          },
          {
           "hovertemplate": "concentration: -0.39",
           "marker": {
            "color": "red",
            "opacity": 0.4,
            "size": 9.158479836859765
           },
           "mode": "markers",
           "x": [
            0.875
           ],
           "xaxis": "x5",
           "y": [
            0.5
           ],
           "yaxis": "y5",
           "type": "scatter"
          },
          {
           "hovertemplate": "grosscapital: 1.01",
           "marker": {
            "color": "green",
            "opacity": 0.4,
            "size": 23.52999608769825
           },
           "mode": "markers",
           "x": [
            0.125
           ],
           "xaxis": "x6",
           "y": [
            0.5
           ],
           "yaxis": "y6",
           "type": "scatter"
          },
          {
           "hovertemplate": "lifeexpectancy: 0.78",
           "marker": {
            "color": "green",
            "opacity": 0.4,
            "size": 18.2799763581502
           },
           "mode": "markers",
           "x": [
            0.375
           ],
           "xaxis": "x6",
           "y": [
            0.5
           ],
           "yaxis": "y6",
           "type": "scatter"
          },
          {
           "hovertemplate": "education: 0.4",
           "marker": {
            "color": "green",
            "opacity": 0.4,
            "size": 9.2529649173575
           },
           "mode": "markers",
           "x": [
            0.625
           ],
           "xaxis": "x6",
           "y": [
            0.5
           ],
           "yaxis": "y6",
           "type": "scatter"
          },
          {
           "hovertemplate": "mfootprint: 0.49",
           "marker": {
            "color": "green",
            "opacity": 0.4,
            "size": 11.490462050009185
           },
           "mode": "markers",
           "x": [
            0.875
           ],
           "xaxis": "x6",
           "y": [
            0.5
           ],
           "yaxis": "y6",
           "type": "scatter"
          },
          {
           "hovertemplate": "gini: nan",
           "marker": {
            "color": "grey",
            "opacity": 0.2,
            "size": 7.0
           },
           "mode": "markers",
           "x": [
            0.5
           ],
           "xaxis": "x2",
           "y": [
            0.2
           ],
           "yaxis": "y2",
           "type": "scatter"
          },
          {
           "hovertemplate": "voice: -0.5",
           "marker": {
            "color": "green",
            "opacity": 0.4,
            "size": 11.737823609281962
           },
           "mode": "markers",
           "x": [
            0.5
           ],
           "xaxis": "x2",
           "y": [
            0.5
           ],
           "yaxis": "y2",
           "type": "scatter"
          },
          {
           "hovertemplate": "femaleminister: -1.56",
           "marker": {
            "color": "red",
            "opacity": 0.4,
            "size": 36.40338032342177
           },
           "mode": "markers",
           "x": [
            0.5
           ],
           "xaxis": "x2",
           "y": [
            0.8
           ],
           "yaxis": "y2",
           "type": "scatter"
          }
         ],
         "layout": {
          "annotations": [
           {
            "font": {
             "size": 18
            },
            "showarrow": false,
            "text": "Year: 2005",
            "x": 0,
            "xref": "paper",
            "y": 0.95,
            "yref": "paper"
           },
           {
            "font": {
             "size": 18
            },
            "showarrow": false,
            "text": "Country: Korea, Rep.",
            "x": 0,
            "xref": "paper",
            "y": 0.85,
            "yref": "paper"
           }
          ]
         },
         "name": "2005"
        },
        {
         "data": [
          {
           "hovertemplate": "unemployed: -0.81",
           "marker": {
            "color": "green",
            "opacity": 0.4,
            "size": 18.808173675599665
           },
           "mode": "markers",
           "x": [
            0.125
           ],
           "xaxis": "x",
           "y": [
            0.5
           ],
           "yaxis": "y",
           "type": "scatter"
          },
          {
           "hovertemplate": "wealth: 1.13",
           "marker": {
            "color": "green",
            "opacity": 0.4,
            "size": 26.33510657889561
           },
           "mode": "markers",
           "x": [
            0.375
           ],
           "xaxis": "x",
           "y": [
            0.5
           ],
           "yaxis": "y",
           "type": "scatter"
          },
          {
           "hovertemplate": "energy: nan",
           "marker": {
            "color": "grey",
            "opacity": 0.2,
            "size": 7.0
           },
           "mode": "markers",
           "x": [
            0.625
           ],
           "xaxis": "x",
           "y": [
            0.5
           ],
           "yaxis": "y",
           "type": "scatter"
          },
          {
           "hovertemplate": "placeholder: 0.1",
           "marker": {
            "color": "green",
            "opacity": 0.4,
            "size": 2.3333333333333335
           },
           "mode": "markers",
           "x": [
            0.875
           ],
           "xaxis": "x",
           "y": [
            0.5
           ],
           "yaxis": "y",
           "type": "scatter"
          },
          {
           "hovertemplate": "govconsum: -0.47",
           "marker": {
            "color": "red",
            "opacity": 0.4,
            "size": 10.878704356078982
           },
           "mode": "markers",
           "x": [
            0.125
           ],
           "xaxis": "x3",
           "y": [
            0.5
           ],
           "yaxis": "y3",
           "type": "scatter"
          },
          {
           "hovertemplate": "marketcap: 0.08",
           "marker": {
            "color": "green",
            "opacity": 0.4,
            "size": 1.9593468423455782
           },
           "mode": "markers",
           "x": [
            0.375
           ],
           "xaxis": "x3",
           "y": [
            0.5
           ],
           "yaxis": "y3",
           "type": "scatter"
          },
          {
           "hovertemplate": "houseconsum: -0.6",
           "marker": {
            "color": "red",
            "opacity": 0.4,
            "size": 13.98258031200882
           },
           "mode": "markers",
           "x": [
            0.625
           ],
           "xaxis": "x3",
           "y": [
            0.5
           ],
           "yaxis": "y3",
           "type": "scatter"
          },
          {
           "hovertemplate": "placeholder: 0.1",
           "marker": {
            "color": "green",
            "opacity": 0.4,
            "size": 2.3333333333333335
           },
           "mode": "markers",
           "x": [
            0.875
           ],
           "xaxis": "x3",
           "y": [
            0.5
           ],
           "yaxis": "y3",
           "type": "scatter"
          },
          {
           "hovertemplate": "agriculture: -0.49",
           "marker": {
            "color": "red",
            "opacity": 0.4,
            "size": 11.37003481360312
           },
           "mode": "markers",
           "x": [
            0.25
           ],
           "xaxis": "x4",
           "y": [
            0.5
           ],
           "yaxis": "y4",
           "type": "scatter"
          },
          {
           "hovertemplate": "industry: 0.8",
           "marker": {
            "color": "green",
            "opacity": 0.4,
            "size": 18.564168474084028
           },
           "mode": "markers",
           "x": [
            0.5
           ],
           "xaxis": "x4",
           "y": [
            0.5
           ],
           "yaxis": "y4",
           "type": "scatter"
          },
          {
           "hovertemplate": "services: -0.03",
           "marker": {
            "color": "red",
            "opacity": 0.4,
            "size": 0.8064573659674051
           },
           "mode": "markers",
           "x": [
            0.75
           ],
           "xaxis": "x4",
           "y": [
            0.5
           ],
           "yaxis": "y4",
           "type": "scatter"
          },
          {
           "hovertemplate": "eci: 1.62",
           "marker": {
            "color": "green",
            "opacity": 0.4,
            "size": 37.88356739633084
           },
           "mode": "markers",
           "x": [
            0.125
           ],
           "xaxis": "x5",
           "y": [
            0.5
           ],
           "yaxis": "y5",
           "type": "scatter"
          },
          {
           "hovertemplate": "exports: 0.03",
           "marker": {
            "color": "green",
            "opacity": 0.4,
            "size": 0.7056250860088658
           },
           "mode": "markers",
           "x": [
            0.375
           ],
           "xaxis": "x5",
           "y": [
            0.5
           ],
           "yaxis": "y5",
           "type": "scatter"
          },
          {
           "hovertemplate": "resourcerents: -1.33",
           "marker": {
            "color": "red",
            "opacity": 0.4,
            "size": 31.125769673149787
           },
           "mode": "markers",
           "x": [
            0.625
           ],
           "xaxis": "x5",
           "y": [
            0.5
           ],
           "yaxis": "y5",
           "type": "scatter"
          },
          {
           "hovertemplate": "concentration: -0.43",
           "marker": {
            "color": "red",
            "opacity": 0.4,
            "size": 9.943314443046079
           },
           "mode": "markers",
           "x": [
            0.875
           ],
           "xaxis": "x5",
           "y": [
            0.5
           ],
           "yaxis": "y5",
           "type": "scatter"
          },
          {
           "hovertemplate": "grosscapital: 1.05",
           "marker": {
            "color": "green",
            "opacity": 0.4,
            "size": 24.486238717427153
           },
           "mode": "markers",
           "x": [
            0.125
           ],
           "xaxis": "x6",
           "y": [
            0.5
           ],
           "yaxis": "y6",
           "type": "scatter"
          },
          {
           "hovertemplate": "lifeexpectancy: 0.84",
           "marker": {
            "color": "green",
            "opacity": 0.4,
            "size": 19.715981722267045
           },
           "mode": "markers",
           "x": [
            0.375
           ],
           "xaxis": "x6",
           "y": [
            0.5
           ],
           "yaxis": "y6",
           "type": "scatter"
          },
          {
           "hovertemplate": "education: 0.38",
           "marker": {
            "color": "green",
            "opacity": 0.4,
            "size": 8.884952281718645
           },
           "mode": "markers",
           "x": [
            0.625
           ],
           "xaxis": "x6",
           "y": [
            0.5
           ],
           "yaxis": "y6",
           "type": "scatter"
          },
          {
           "hovertemplate": "mfootprint: 0.57",
           "marker": {
            "color": "green",
            "opacity": 0.4,
            "size": 13.391851344628153
           },
           "mode": "markers",
           "x": [
            0.875
           ],
           "xaxis": "x6",
           "y": [
            0.5
           ],
           "yaxis": "y6",
           "type": "scatter"
          },
          {
           "hovertemplate": "gini: -0.74",
           "marker": {
            "color": "green",
            "opacity": 0.4,
            "size": 17.20612663517263
           },
           "mode": "markers",
           "x": [
            0.5
           ],
           "xaxis": "x2",
           "y": [
            0.2
           ],
           "yaxis": "y2",
           "type": "scatter"
          },
          {
           "hovertemplate": "voice: -0.43",
           "marker": {
            "color": "green",
            "opacity": 0.4,
            "size": 9.989581221748951
           },
           "mode": "markers",
           "x": [
            0.5
           ],
           "xaxis": "x2",
           "y": [
            0.5
           ],
           "yaxis": "y2",
           "type": "scatter"
          },
          {
           "hovertemplate": "femaleminister: nan",
           "marker": {
            "color": "grey",
            "opacity": 0.2,
            "size": 7.0
           },
           "mode": "markers",
           "x": [
            0.5
           ],
           "xaxis": "x2",
           "y": [
            0.8
           ],
           "yaxis": "y2",
           "type": "scatter"
          }
         ],
         "layout": {
          "annotations": [
           {
            "font": {
             "size": 18
            },
            "showarrow": false,
            "text": "Year: 2006",
            "x": 0,
            "xref": "paper",
            "y": 0.95,
            "yref": "paper"
           },
           {
            "font": {
             "size": 18
            },
            "showarrow": false,
            "text": "Country: Korea, Rep.",
            "x": 0,
            "xref": "paper",
            "y": 0.85,
            "yref": "paper"
           }
          ]
         },
         "name": "2006"
        },
        {
         "data": [
          {
           "hovertemplate": "unemployed: -0.89",
           "marker": {
            "color": "green",
            "opacity": 0.4,
            "size": 20.818523997162345
           },
           "mode": "markers",
           "x": [
            0.125
           ],
           "xaxis": "x",
           "y": [
            0.5
           ],
           "yaxis": "y",
           "type": "scatter"
          },
          {
           "hovertemplate": "wealth: 1.3",
           "marker": {
            "color": "green",
            "opacity": 0.4,
            "size": 30.273309153689095
           },
           "mode": "markers",
           "x": [
            0.375
           ],
           "xaxis": "x",
           "y": [
            0.5
           ],
           "yaxis": "y",
           "type": "scatter"
          },
          {
           "hovertemplate": "energy: nan",
           "marker": {
            "color": "grey",
            "opacity": 0.2,
            "size": 7.0
           },
           "mode": "markers",
           "x": [
            0.625
           ],
           "xaxis": "x",
           "y": [
            0.5
           ],
           "yaxis": "y",
           "type": "scatter"
          },
          {
           "hovertemplate": "placeholder: 0.1",
           "marker": {
            "color": "green",
            "opacity": 0.4,
            "size": 2.3333333333333335
           },
           "mode": "markers",
           "x": [
            0.875
           ],
           "xaxis": "x",
           "y": [
            0.5
           ],
           "yaxis": "y",
           "type": "scatter"
          },
          {
           "hovertemplate": "govconsum: -0.46",
           "marker": {
            "color": "red",
            "opacity": 0.4,
            "size": 10.686046429019973
           },
           "mode": "markers",
           "x": [
            0.125
           ],
           "xaxis": "x3",
           "y": [
            0.5
           ],
           "yaxis": "y3",
           "type": "scatter"
          },
          {
           "hovertemplate": "marketcap: 0.21",
           "marker": {
            "color": "green",
            "opacity": 0.4,
            "size": 4.872426874740314
           },
           "mode": "markers",
           "x": [
            0.375
           ],
           "xaxis": "x3",
           "y": [
            0.5
           ],
           "yaxis": "y3",
           "type": "scatter"
          },
          {
           "hovertemplate": "houseconsum: -0.63",
           "marker": {
            "color": "red",
            "opacity": 0.4,
            "size": 14.700002883873013
           },
           "mode": "markers",
           "x": [
            0.625
           ],
           "xaxis": "x3",
           "y": [
            0.5
           ],
           "yaxis": "y3",
           "type": "scatter"
          },
          {
           "hovertemplate": "placeholder: 0.1",
           "marker": {
            "color": "green",
            "opacity": 0.4,
            "size": 2.3333333333333335
           },
           "mode": "markers",
           "x": [
            0.875
           ],
           "xaxis": "x3",
           "y": [
            0.5
           ],
           "yaxis": "y3",
           "type": "scatter"
          },
          {
           "hovertemplate": "agriculture: -0.55",
           "marker": {
            "color": "red",
            "opacity": 0.4,
            "size": 12.849850347740428
           },
           "mode": "markers",
           "x": [
            0.25
           ],
           "xaxis": "x4",
           "y": [
            0.5
           ],
           "yaxis": "y4",
           "type": "scatter"
          },
          {
           "hovertemplate": "industry: 0.79",
           "marker": {
            "color": "green",
            "opacity": 0.4,
            "size": 18.473199855569266
           },
           "mode": "markers",
           "x": [
            0.5
           ],
           "xaxis": "x4",
           "y": [
            0.5
           ],
           "yaxis": "y4",
           "type": "scatter"
          },
          {
           "hovertemplate": "services: -0.01",
           "marker": {
            "color": "red",
            "opacity": 0.4,
            "size": 0.13464426981329228
           },
           "mode": "markers",
           "x": [
            0.75
           ],
           "xaxis": "x4",
           "y": [
            0.5
           ],
           "yaxis": "y4",
           "type": "scatter"
          },
          {
           "hovertemplate": "eci: 1.6",
           "marker": {
            "color": "green",
            "opacity": 0.4,
            "size": 37.32647424529125
           },
           "mode": "markers",
           "x": [
            0.125
           ],
           "xaxis": "x5",
           "y": [
            0.5
           ],
           "yaxis": "y5",
           "type": "scatter"
          },
          {
           "hovertemplate": "exports: 0.1",
           "marker": {
            "color": "green",
            "opacity": 0.4,
            "size": 2.370767949051544
           },
           "mode": "markers",
           "x": [
            0.375
           ],
           "xaxis": "x5",
           "y": [
            0.5
           ],
           "yaxis": "y5",
           "type": "scatter"
          },
          {
           "hovertemplate": "resourcerents: -1.3",
           "marker": {
            "color": "red",
            "opacity": 0.4,
            "size": 30.372646611205678
           },
           "mode": "markers",
           "x": [
            0.625
           ],
           "xaxis": "x5",
           "y": [
            0.5
           ],
           "yaxis": "y5",
           "type": "scatter"
          },
          {
           "hovertemplate": "concentration: -0.41",
           "marker": {
            "color": "red",
            "opacity": 0.4,
            "size": 9.573199736875269
           },
           "mode": "markers",
           "x": [
            0.875
           ],
           "xaxis": "x5",
           "y": [
            0.5
           ],
           "yaxis": "y5",
           "type": "scatter"
          },
          {
           "hovertemplate": "grosscapital: 1.06",
           "marker": {
            "color": "green",
            "opacity": 0.4,
            "size": 24.68974719159246
           },
           "mode": "markers",
           "x": [
            0.125
           ],
           "xaxis": "x6",
           "y": [
            0.5
           ],
           "yaxis": "y6",
           "type": "scatter"
          },
          {
           "hovertemplate": "lifeexpectancy: 0.9",
           "marker": {
            "color": "green",
            "opacity": 0.4,
            "size": 21.011889002080014
           },
           "mode": "markers",
           "x": [
            0.375
           ],
           "xaxis": "x6",
           "y": [
            0.5
           ],
           "yaxis": "y6",
           "type": "scatter"
          },
          {
           "hovertemplate": "education: 0.38",
           "marker": {
            "color": "green",
            "opacity": 0.4,
            "size": 8.828274034902284
           },
           "mode": "markers",
           "x": [
            0.625
           ],
           "xaxis": "x6",
           "y": [
            0.5
           ],
           "yaxis": "y6",
           "type": "scatter"
          },
          {
           "hovertemplate": "mfootprint: 0.68",
           "marker": {
            "color": "green",
            "opacity": 0.4,
            "size": 15.819938584653617
           },
           "mode": "markers",
           "x": [
            0.875
           ],
           "xaxis": "x6",
           "y": [
            0.5
           ],
           "yaxis": "y6",
           "type": "scatter"
          },
          {
           "hovertemplate": "gini: nan",
           "marker": {
            "color": "grey",
            "opacity": 0.2,
            "size": 7.0
           },
           "mode": "markers",
           "x": [
            0.5
           ],
           "xaxis": "x2",
           "y": [
            0.2
           ],
           "yaxis": "y2",
           "type": "scatter"
          },
          {
           "hovertemplate": "voice: -0.44",
           "marker": {
            "color": "green",
            "opacity": 0.4,
            "size": 10.27589046436601
           },
           "mode": "markers",
           "x": [
            0.5
           ],
           "xaxis": "x2",
           "y": [
            0.5
           ],
           "yaxis": "y2",
           "type": "scatter"
          },
          {
           "hovertemplate": "femaleminister: nan",
           "marker": {
            "color": "grey",
            "opacity": 0.2,
            "size": 7.0
           },
           "mode": "markers",
           "x": [
            0.5
           ],
           "xaxis": "x2",
           "y": [
            0.8
           ],
           "yaxis": "y2",
           "type": "scatter"
          }
         ],
         "layout": {
          "annotations": [
           {
            "font": {
             "size": 18
            },
            "showarrow": false,
            "text": "Year: 2007",
            "x": 0,
            "xref": "paper",
            "y": 0.95,
            "yref": "paper"
           },
           {
            "font": {
             "size": 18
            },
            "showarrow": false,
            "text": "Country: Korea, Rep.",
            "x": 0,
            "xref": "paper",
            "y": 0.85,
            "yref": "paper"
           }
          ]
         },
         "name": "2007"
        },
        {
         "data": [
          {
           "hovertemplate": "unemployed: -0.91",
           "marker": {
            "color": "green",
            "opacity": 0.4,
            "size": 21.257486824548142
           },
           "mode": "markers",
           "x": [
            0.125
           ],
           "xaxis": "x",
           "y": [
            0.5
           ],
           "yaxis": "y",
           "type": "scatter"
          },
          {
           "hovertemplate": "wealth: 1.36",
           "marker": {
            "color": "green",
            "opacity": 0.4,
            "size": 31.81493552279762
           },
           "mode": "markers",
           "x": [
            0.375
           ],
           "xaxis": "x",
           "y": [
            0.5
           ],
           "yaxis": "y",
           "type": "scatter"
          },
          {
           "hovertemplate": "energy: nan",
           "marker": {
            "color": "grey",
            "opacity": 0.2,
            "size": 7.0
           },
           "mode": "markers",
           "x": [
            0.625
           ],
           "xaxis": "x",
           "y": [
            0.5
           ],
           "yaxis": "y",
           "type": "scatter"
          },
          {
           "hovertemplate": "placeholder: 0.1",
           "marker": {
            "color": "green",
            "opacity": 0.4,
            "size": 2.3333333333333335
           },
           "mode": "markers",
           "x": [
            0.875
           ],
           "xaxis": "x",
           "y": [
            0.5
           ],
           "yaxis": "y",
           "type": "scatter"
          },
          {
           "hovertemplate": "govconsum: -0.39",
           "marker": {
            "color": "red",
            "opacity": 0.4,
            "size": 9.07036900428115
           },
           "mode": "markers",
           "x": [
            0.125
           ],
           "xaxis": "x3",
           "y": [
            0.5
           ],
           "yaxis": "y3",
           "type": "scatter"
          },
          {
           "hovertemplate": "marketcap: -0.18",
           "marker": {
            "color": "red",
            "opacity": 0.4,
            "size": 4.087451910667162
           },
           "mode": "markers",
           "x": [
            0.375
           ],
           "xaxis": "x3",
           "y": [
            0.5
           ],
           "yaxis": "y3",
           "type": "scatter"
          },
          {
           "hovertemplate": "houseconsum: -0.63",
           "marker": {
            "color": "red",
            "opacity": 0.4,
            "size": 14.624961781336575
           },
           "mode": "markers",
           "x": [
            0.625
           ],
           "xaxis": "x3",
           "y": [
            0.5
           ],
           "yaxis": "y3",
           "type": "scatter"
          },
          {
           "hovertemplate": "placeholder: 0.1",
           "marker": {
            "color": "green",
            "opacity": 0.4,
            "size": 2.3333333333333335
           },
           "mode": "markers",
           "x": [
            0.875
           ],
           "xaxis": "x3",
           "y": [
            0.5
           ],
           "yaxis": "y3",
           "type": "scatter"
          },
          {
           "hovertemplate": "agriculture: -0.6",
           "marker": {
            "color": "red",
            "opacity": 0.4,
            "size": 13.903668595861378
           },
           "mode": "markers",
           "x": [
            0.25
           ],
           "xaxis": "x4",
           "y": [
            0.5
           ],
           "yaxis": "y4",
           "type": "scatter"
          },
          {
           "hovertemplate": "industry: 0.73",
           "marker": {
            "color": "green",
            "opacity": 0.4,
            "size": 17.10128393969534
           },
           "mode": "markers",
           "x": [
            0.5
           ],
           "xaxis": "x4",
           "y": [
            0.5
           ],
           "yaxis": "y4",
           "type": "scatter"
          },
          {
           "hovertemplate": "services: 0.08",
           "marker": {
            "color": "green",
            "opacity": 0.4,
            "size": 1.8015267224663432
           },
           "mode": "markers",
           "x": [
            0.75
           ],
           "xaxis": "x4",
           "y": [
            0.5
           ],
           "yaxis": "y4",
           "type": "scatter"
          },
          {
           "hovertemplate": "eci: 1.59",
           "marker": {
            "color": "green",
            "opacity": 0.4,
            "size": 37.00718977516671
           },
           "mode": "markers",
           "x": [
            0.125
           ],
           "xaxis": "x5",
           "y": [
            0.5
           ],
           "yaxis": "y5",
           "type": "scatter"
          },
          {
           "hovertemplate": "exports: 0.46",
           "marker": {
            "color": "green",
            "opacity": 0.4,
            "size": 10.709566426294305
           },
           "mode": "markers",
           "x": [
            0.375
           ],
           "xaxis": "x5",
           "y": [
            0.5
           ],
           "yaxis": "y5",
           "type": "scatter"
          },
          {
           "hovertemplate": "resourcerents: -1.16",
           "marker": {
            "color": "red",
            "opacity": 0.4,
            "size": 27.11872373042642
           },
           "mode": "markers",
           "x": [
            0.625
           ],
           "xaxis": "x5",
           "y": [
            0.5
           ],
           "yaxis": "y5",
           "type": "scatter"
          },
          {
           "hovertemplate": "concentration: -0.45",
           "marker": {
            "color": "red",
            "opacity": 0.4,
            "size": 10.509549233426227
           },
           "mode": "markers",
           "x": [
            0.875
           ],
           "xaxis": "x5",
           "y": [
            0.5
           ],
           "yaxis": "y5",
           "type": "scatter"
          },
          {
           "hovertemplate": "grosscapital: 1.11",
           "marker": {
            "color": "green",
            "opacity": 0.4,
            "size": 25.79078440768748
           },
           "mode": "markers",
           "x": [
            0.125
           ],
           "xaxis": "x6",
           "y": [
            0.5
           ],
           "yaxis": "y6",
           "type": "scatter"
          },
          {
           "hovertemplate": "lifeexpectancy: 0.95",
           "marker": {
            "color": "green",
            "opacity": 0.4,
            "size": 22.153688389158148
           },
           "mode": "markers",
           "x": [
            0.375
           ],
           "xaxis": "x6",
           "y": [
            0.5
           ],
           "yaxis": "y6",
           "type": "scatter"
          },
          {
           "hovertemplate": "education: 0.37",
           "marker": {
            "color": "green",
            "opacity": 0.4,
            "size": 8.522399506729586
           },
           "mode": "markers",
           "x": [
            0.625
           ],
           "xaxis": "x6",
           "y": [
            0.5
           ],
           "yaxis": "y6",
           "type": "scatter"
          },
          {
           "hovertemplate": "mfootprint: 0.54",
           "marker": {
            "color": "green",
            "opacity": 0.4,
            "size": 12.622360861388302
           },
           "mode": "markers",
           "x": [
            0.875
           ],
           "xaxis": "x6",
           "y": [
            0.5
           ],
           "yaxis": "y6",
           "type": "scatter"
          },
          {
           "hovertemplate": "gini: -0.69",
           "marker": {
            "color": "green",
            "opacity": 0.4,
            "size": 16.04616304179021
           },
           "mode": "markers",
           "x": [
            0.5
           ],
           "xaxis": "x2",
           "y": [
            0.2
           ],
           "yaxis": "y2",
           "type": "scatter"
          },
          {
           "hovertemplate": "voice: -0.38",
           "marker": {
            "color": "green",
            "opacity": 0.4,
            "size": 8.965816192050434
           },
           "mode": "markers",
           "x": [
            0.5
           ],
           "xaxis": "x2",
           "y": [
            0.5
           ],
           "yaxis": "y2",
           "type": "scatter"
          },
          {
           "hovertemplate": "femaleminister: -1.72",
           "marker": {
            "color": "red",
            "opacity": 0.4,
            "size": 40.232806698843994
           },
           "mode": "markers",
           "x": [
            0.5
           ],
           "xaxis": "x2",
           "y": [
            0.8
           ],
           "yaxis": "y2",
           "type": "scatter"
          }
         ],
         "layout": {
          "annotations": [
           {
            "font": {
             "size": 18
            },
            "showarrow": false,
            "text": "Year: 2008",
            "x": 0,
            "xref": "paper",
            "y": 0.95,
            "yref": "paper"
           },
           {
            "font": {
             "size": 18
            },
            "showarrow": false,
            "text": "Country: Korea, Rep.",
            "x": 0,
            "xref": "paper",
            "y": 0.85,
            "yref": "paper"
           }
          ]
         },
         "name": "2008"
        },
        {
         "data": [
          {
           "hovertemplate": "unemployed: -0.77",
           "marker": {
            "color": "green",
            "opacity": 0.4,
            "size": 17.9358990522393
           },
           "mode": "markers",
           "x": [
            0.125
           ],
           "xaxis": "x",
           "y": [
            0.5
           ],
           "yaxis": "y",
           "type": "scatter"
          },
          {
           "hovertemplate": "wealth: 1.37",
           "marker": {
            "color": "green",
            "opacity": 0.4,
            "size": 31.984213031904808
           },
           "mode": "markers",
           "x": [
            0.375
           ],
           "xaxis": "x",
           "y": [
            0.5
           ],
           "yaxis": "y",
           "type": "scatter"
          },
          {
           "hovertemplate": "energy: nan",
           "marker": {
            "color": "grey",
            "opacity": 0.2,
            "size": 7.0
           },
           "mode": "markers",
           "x": [
            0.625
           ],
           "xaxis": "x",
           "y": [
            0.5
           ],
           "yaxis": "y",
           "type": "scatter"
          },
          {
           "hovertemplate": "placeholder: 0.1",
           "marker": {
            "color": "green",
            "opacity": 0.4,
            "size": 2.3333333333333335
           },
           "mode": "markers",
           "x": [
            0.875
           ],
           "xaxis": "x",
           "y": [
            0.5
           ],
           "yaxis": "y",
           "type": "scatter"
          },
          {
           "hovertemplate": "govconsum: -0.32",
           "marker": {
            "color": "red",
            "opacity": 0.4,
            "size": 7.4377141573033665
           },
           "mode": "markers",
           "x": [
            0.125
           ],
           "xaxis": "x3",
           "y": [
            0.5
           ],
           "yaxis": "y3",
           "type": "scatter"
          },
          {
           "hovertemplate": "marketcap: 0.15",
           "marker": {
            "color": "green",
            "opacity": 0.4,
            "size": 3.5810759242479184
           },
           "mode": "markers",
           "x": [
            0.375
           ],
           "xaxis": "x3",
           "y": [
            0.5
           ],
           "yaxis": "y3",
           "type": "scatter"
          },
          {
           "hovertemplate": "houseconsum: -0.67",
           "marker": {
            "color": "red",
            "opacity": 0.4,
            "size": 15.741655513881147
           },
           "mode": "markers",
           "x": [
            0.625
           ],
           "xaxis": "x3",
           "y": [
            0.5
           ],
           "yaxis": "y3",
           "type": "scatter"
          },
          {
           "hovertemplate": "placeholder: 0.1",
           "marker": {
            "color": "green",
            "opacity": 0.4,
            "size": 2.3333333333333335
           },
           "mode": "markers",
           "x": [
            0.875
           ],
           "xaxis": "x3",
           "y": [
            0.5
           ],
           "yaxis": "y3",
           "type": "scatter"
          },
          {
           "hovertemplate": "agriculture: -0.56",
           "marker": {
            "color": "red",
            "opacity": 0.4,
            "size": 13.162713350490263
           },
           "mode": "markers",
           "x": [
            0.25
           ],
           "xaxis": "x4",
           "y": [
            0.5
           ],
           "yaxis": "y4",
           "type": "scatter"
          },
          {
           "hovertemplate": "industry: 0.76",
           "marker": {
            "color": "green",
            "opacity": 0.4,
            "size": 17.680612973360084
           },
           "mode": "markers",
           "x": [
            0.5
           ],
           "xaxis": "x4",
           "y": [
            0.5
           ],
           "yaxis": "y4",
           "type": "scatter"
          },
          {
           "hovertemplate": "services: 0.06",
           "marker": {
            "color": "green",
            "opacity": 0.4,
            "size": 1.4747139227485002
           },
           "mode": "markers",
           "x": [
            0.75
           ],
           "xaxis": "x4",
           "y": [
            0.5
           ],
           "yaxis": "y4",
           "type": "scatter"
          },
          {
           "hovertemplate": "eci: 1.69",
           "marker": {
            "color": "green",
            "opacity": 0.4,
            "size": 39.507050650563855
           },
           "mode": "markers",
           "x": [
            0.125
           ],
           "xaxis": "x5",
           "y": [
            0.5
           ],
           "yaxis": "y5",
           "type": "scatter"
          },
          {
           "hovertemplate": "exports: 0.38",
           "marker": {
            "color": "green",
            "opacity": 0.4,
            "size": 8.887278413246161
           },
           "mode": "markers",
           "x": [
            0.375
           ],
           "xaxis": "x5",
           "y": [
            0.5
           ],
           "yaxis": "y5",
           "type": "scatter"
          },
          {
           "hovertemplate": "resourcerents: -1.23",
           "marker": {
            "color": "red",
            "opacity": 0.4,
            "size": 28.787893959448823
           },
           "mode": "markers",
           "x": [
            0.625
           ],
           "xaxis": "x5",
           "y": [
            0.5
           ],
           "yaxis": "y5",
           "type": "scatter"
          },
          {
           "hovertemplate": "concentration: -0.36",
           "marker": {
            "color": "red",
            "opacity": 0.4,
            "size": 8.443758410259347
           },
           "mode": "markers",
           "x": [
            0.875
           ],
           "xaxis": "x5",
           "y": [
            0.5
           ],
           "yaxis": "y5",
           "type": "scatter"
          },
          {
           "hovertemplate": "grosscapital: 0.73",
           "marker": {
            "color": "green",
            "opacity": 0.4,
            "size": 17.042383876392087
           },
           "mode": "markers",
           "x": [
            0.125
           ],
           "xaxis": "x6",
           "y": [
            0.5
           ],
           "yaxis": "y6",
           "type": "scatter"
          },
          {
           "hovertemplate": "lifeexpectancy: 1.0",
           "marker": {
            "color": "green",
            "opacity": 0.4,
            "size": 23.449595668970833
           },
           "mode": "markers",
           "x": [
            0.375
           ],
           "xaxis": "x6",
           "y": [
            0.5
           ],
           "yaxis": "y6",
           "type": "scatter"
          },
          {
           "hovertemplate": "education: 0.38",
           "marker": {
            "color": "green",
            "opacity": 0.4,
            "size": 8.975155875708982
           },
           "mode": "markers",
           "x": [
            0.625
           ],
           "xaxis": "x6",
           "y": [
            0.5
           ],
           "yaxis": "y6",
           "type": "scatter"
          },
          {
           "hovertemplate": "mfootprint: 0.28",
           "marker": {
            "color": "green",
            "opacity": 0.4,
            "size": 6.515481088111805
           },
           "mode": "markers",
           "x": [
            0.875
           ],
           "xaxis": "x6",
           "y": [
            0.5
           ],
           "yaxis": "y6",
           "type": "scatter"
          },
          {
           "hovertemplate": "gini: nan",
           "marker": {
            "color": "grey",
            "opacity": 0.2,
            "size": 7.0
           },
           "mode": "markers",
           "x": [
            0.5
           ],
           "xaxis": "x2",
           "y": [
            0.2
           ],
           "yaxis": "y2",
           "type": "scatter"
          },
          {
           "hovertemplate": "voice: -0.45",
           "marker": {
            "color": "green",
            "opacity": 0.4,
            "size": 10.523572907979698
           },
           "mode": "markers",
           "x": [
            0.5
           ],
           "xaxis": "x2",
           "y": [
            0.5
           ],
           "yaxis": "y2",
           "type": "scatter"
          },
          {
           "hovertemplate": "femaleminister: nan",
           "marker": {
            "color": "grey",
            "opacity": 0.2,
            "size": 7.0
           },
           "mode": "markers",
           "x": [
            0.5
           ],
           "xaxis": "x2",
           "y": [
            0.8
           ],
           "yaxis": "y2",
           "type": "scatter"
          }
         ],
         "layout": {
          "annotations": [
           {
            "font": {
             "size": 18
            },
            "showarrow": false,
            "text": "Year: 2009",
            "x": 0,
            "xref": "paper",
            "y": 0.95,
            "yref": "paper"
           },
           {
            "font": {
             "size": 18
            },
            "showarrow": false,
            "text": "Country: Korea, Rep.",
            "x": 0,
            "xref": "paper",
            "y": 0.85,
            "yref": "paper"
           }
          ]
         },
         "name": "2009"
        },
        {
         "data": [
          {
           "hovertemplate": "unemployed: -0.78",
           "marker": {
            "color": "green",
            "opacity": 0.4,
            "size": 18.249740744065186
           },
           "mode": "markers",
           "x": [
            0.125
           ],
           "xaxis": "x",
           "y": [
            0.5
           ],
           "yaxis": "y",
           "type": "scatter"
          },
          {
           "hovertemplate": "wealth: 1.43",
           "marker": {
            "color": "green",
            "opacity": 0.4,
            "size": 33.359522958998866
           },
           "mode": "markers",
           "x": [
            0.375
           ],
           "xaxis": "x",
           "y": [
            0.5
           ],
           "yaxis": "y",
           "type": "scatter"
          },
          {
           "hovertemplate": "energy: nan",
           "marker": {
            "color": "grey",
            "opacity": 0.2,
            "size": 7.0
           },
           "mode": "markers",
           "x": [
            0.625
           ],
           "xaxis": "x",
           "y": [
            0.5
           ],
           "yaxis": "y",
           "type": "scatter"
          },
          {
           "hovertemplate": "placeholder: 0.1",
           "marker": {
            "color": "green",
            "opacity": 0.4,
            "size": 2.3333333333333335
           },
           "mode": "markers",
           "x": [
            0.875
           ],
           "xaxis": "x",
           "y": [
            0.5
           ],
           "yaxis": "y",
           "type": "scatter"
          },
          {
           "hovertemplate": "govconsum: -0.37",
           "marker": {
            "color": "red",
            "opacity": 0.4,
            "size": 8.65354345630702
           },
           "mode": "markers",
           "x": [
            0.125
           ],
           "xaxis": "x3",
           "y": [
            0.5
           ],
           "yaxis": "y3",
           "type": "scatter"
          },
          {
           "hovertemplate": "marketcap: 0.21",
           "marker": {
            "color": "green",
            "opacity": 0.4,
            "size": 4.820531334770193
           },
           "mode": "markers",
           "x": [
            0.375
           ],
           "xaxis": "x3",
           "y": [
            0.5
           ],
           "yaxis": "y3",
           "type": "scatter"
          },
          {
           "hovertemplate": "houseconsum: -0.74",
           "marker": {
            "color": "red",
            "opacity": 0.4,
            "size": 17.339092758998035
           },
           "mode": "markers",
           "x": [
            0.625
           ],
           "xaxis": "x3",
           "y": [
            0.5
           ],
           "yaxis": "y3",
           "type": "scatter"
          },
          {
           "hovertemplate": "placeholder: 0.1",
           "marker": {
            "color": "green",
            "opacity": 0.4,
            "size": 2.3333333333333335
           },
           "mode": "markers",
           "x": [
            0.875
           ],
           "xaxis": "x3",
           "y": [
            0.5
           ],
           "yaxis": "y3",
           "type": "scatter"
          },
          {
           "hovertemplate": "agriculture: -0.6",
           "marker": {
            "color": "red",
            "opacity": 0.4,
            "size": 13.890056009051033
           },
           "mode": "markers",
           "x": [
            0.25
           ],
           "xaxis": "x4",
           "y": [
            0.5
           ],
           "yaxis": "y4",
           "type": "scatter"
          },
          {
           "hovertemplate": "industry: 0.83",
           "marker": {
            "color": "green",
            "opacity": 0.4,
            "size": 19.414298369938262
           },
           "mode": "markers",
           "x": [
            0.5
           ],
           "xaxis": "x4",
           "y": [
            0.5
           ],
           "yaxis": "y4",
           "type": "scatter"
          },
          {
           "hovertemplate": "services: -0.03",
           "marker": {
            "color": "red",
            "opacity": 0.4,
            "size": 0.8079232480191498
           },
           "mode": "markers",
           "x": [
            0.75
           ],
           "xaxis": "x4",
           "y": [
            0.5
           ],
           "yaxis": "y4",
           "type": "scatter"
          },
          {
           "hovertemplate": "eci: 1.79",
           "marker": {
            "color": "green",
            "opacity": 0.4,
            "size": 41.82955026060155
           },
           "mode": "markers",
           "x": [
            0.125
           ],
           "xaxis": "x5",
           "y": [
            0.5
           ],
           "yaxis": "y5",
           "type": "scatter"
          },
          {
           "hovertemplate": "exports: 0.44",
           "marker": {
            "color": "green",
            "opacity": 0.4,
            "size": 10.31853121495245
           },
           "mode": "markers",
           "x": [
            0.375
           ],
           "xaxis": "x5",
           "y": [
            0.5
           ],
           "yaxis": "y5",
           "type": "scatter"
          },
          {
           "hovertemplate": "resourcerents: -1.16",
           "marker": {
            "color": "red",
            "opacity": 0.4,
            "size": 27.181255227691025
           },
           "mode": "markers",
           "x": [
            0.625
           ],
           "xaxis": "x5",
           "y": [
            0.5
           ],
           "yaxis": "y5",
           "type": "scatter"
          },
          {
           "hovertemplate": "concentration: -0.34",
           "marker": {
            "color": "red",
            "opacity": 0.4,
            "size": 7.921571501759922
           },
           "mode": "markers",
           "x": [
            0.875
           ],
           "xaxis": "x5",
           "y": [
            0.5
           ],
           "yaxis": "y5",
           "type": "scatter"
          },
          {
           "hovertemplate": "grosscapital: 1.01",
           "marker": {
            "color": "green",
            "opacity": 0.4,
            "size": 23.617171222103966
           },
           "mode": "markers",
           "x": [
            0.125
           ],
           "xaxis": "x6",
           "y": [
            0.5
           ],
           "yaxis": "y6",
           "type": "scatter"
          },
          {
           "hovertemplate": "lifeexpectancy: 1.02",
           "marker": {
            "color": "green",
            "opacity": 0.4,
            "size": 23.876894826098336
           },
           "mode": "markers",
           "x": [
            0.375
           ],
           "xaxis": "x6",
           "y": [
            0.5
           ],
           "yaxis": "y6",
           "type": "scatter"
          },
          {
           "hovertemplate": "education: 0.4",
           "marker": {
            "color": "green",
            "opacity": 0.4,
            "size": 9.319159289221533
           },
           "mode": "markers",
           "x": [
            0.625
           ],
           "xaxis": "x6",
           "y": [
            0.5
           ],
           "yaxis": "y6",
           "type": "scatter"
          },
          {
           "hovertemplate": "mfootprint: 0.4",
           "marker": {
            "color": "green",
            "opacity": 0.4,
            "size": 9.354049578767528
           },
           "mode": "markers",
           "x": [
            0.875
           ],
           "xaxis": "x6",
           "y": [
            0.5
           ],
           "yaxis": "y6",
           "type": "scatter"
          },
          {
           "hovertemplate": "gini: -0.71",
           "marker": {
            "color": "green",
            "opacity": 0.4,
            "size": 16.626144838481416
           },
           "mode": "markers",
           "x": [
            0.5
           ],
           "xaxis": "x2",
           "y": [
            0.2
           ],
           "yaxis": "y2",
           "type": "scatter"
          },
          {
           "hovertemplate": "voice: -0.5",
           "marker": {
            "color": "green",
            "opacity": 0.4,
            "size": 11.591114513133915
           },
           "mode": "markers",
           "x": [
            0.5
           ],
           "xaxis": "x2",
           "y": [
            0.5
           ],
           "yaxis": "y2",
           "type": "scatter"
          },
          {
           "hovertemplate": "femaleminister: -0.4",
           "marker": {
            "color": "red",
            "opacity": 0.4,
            "size": 9.270937806705733
           },
           "mode": "markers",
           "x": [
            0.5
           ],
           "xaxis": "x2",
           "y": [
            0.8
           ],
           "yaxis": "y2",
           "type": "scatter"
          }
         ],
         "layout": {
          "annotations": [
           {
            "font": {
             "size": 18
            },
            "showarrow": false,
            "text": "Year: 2010",
            "x": 0,
            "xref": "paper",
            "y": 0.95,
            "yref": "paper"
           },
           {
            "font": {
             "size": 18
            },
            "showarrow": false,
            "text": "Country: Korea, Rep.",
            "x": 0,
            "xref": "paper",
            "y": 0.85,
            "yref": "paper"
           }
          ]
         },
         "name": "2010"
        },
        {
         "data": [
          {
           "hovertemplate": "unemployed: -0.9",
           "marker": {
            "color": "green",
            "opacity": 0.4,
            "size": 20.993227764543292
           },
           "mode": "markers",
           "x": [
            0.125
           ],
           "xaxis": "x",
           "y": [
            0.5
           ],
           "yaxis": "y",
           "type": "scatter"
          },
          {
           "hovertemplate": "wealth: 1.49",
           "marker": {
            "color": "green",
            "opacity": 0.4,
            "size": 34.713282121118404
           },
           "mode": "markers",
           "x": [
            0.375
           ],
           "xaxis": "x",
           "y": [
            0.5
           ],
           "yaxis": "y",
           "type": "scatter"
          },
          {
           "hovertemplate": "energy: nan",
           "marker": {
            "color": "grey",
            "opacity": 0.2,
            "size": 7.0
           },
           "mode": "markers",
           "x": [
            0.625
           ],
           "xaxis": "x",
           "y": [
            0.5
           ],
           "yaxis": "y",
           "type": "scatter"
          },
          {
           "hovertemplate": "placeholder: 0.1",
           "marker": {
            "color": "green",
            "opacity": 0.4,
            "size": 2.3333333333333335
           },
           "mode": "markers",
           "x": [
            0.875
           ],
           "xaxis": "x",
           "y": [
            0.5
           ],
           "yaxis": "y",
           "type": "scatter"
          },
          {
           "hovertemplate": "govconsum: -0.35",
           "marker": {
            "color": "red",
            "opacity": 0.4,
            "size": 8.205873599198693
           },
           "mode": "markers",
           "x": [
            0.125
           ],
           "xaxis": "x3",
           "y": [
            0.5
           ],
           "yaxis": "y3",
           "type": "scatter"
          },
          {
           "hovertemplate": "marketcap: 0.09",
           "marker": {
            "color": "green",
            "opacity": 0.4,
            "size": 2.0055526752039285
           },
           "mode": "markers",
           "x": [
            0.375
           ],
           "xaxis": "x3",
           "y": [
            0.5
           ],
           "yaxis": "y3",
           "type": "scatter"
          },
          {
           "hovertemplate": "houseconsum: -0.7",
           "marker": {
            "color": "red",
            "opacity": 0.4,
            "size": 16.351623092248552
           },
           "mode": "markers",
           "x": [
            0.625
           ],
           "xaxis": "x3",
           "y": [
            0.5
           ],
           "yaxis": "y3",
           "type": "scatter"
          },
          {
           "hovertemplate": "placeholder: 0.1",
           "marker": {
            "color": "green",
            "opacity": 0.4,
            "size": 2.3333333333333335
           },
           "mode": "markers",
           "x": [
            0.875
           ],
           "xaxis": "x3",
           "y": [
            0.5
           ],
           "yaxis": "y3",
           "type": "scatter"
          },
          {
           "hovertemplate": "agriculture: -0.57",
           "marker": {
            "color": "red",
            "opacity": 0.4,
            "size": 13.395463580984934
           },
           "mode": "markers",
           "x": [
            0.25
           ],
           "xaxis": "x4",
           "y": [
            0.5
           ],
           "yaxis": "y4",
           "type": "scatter"
          },
          {
           "hovertemplate": "industry: 0.85",
           "marker": {
            "color": "green",
            "opacity": 0.4,
            "size": 19.88173923314137
           },
           "mode": "markers",
           "x": [
            0.5
           ],
           "xaxis": "x4",
           "y": [
            0.5
           ],
           "yaxis": "y4",
           "type": "scatter"
          },
          {
           "hovertemplate": "services: -0.04",
           "marker": {
            "color": "red",
            "opacity": 0.4,
            "size": 0.894127886638611
           },
           "mode": "markers",
           "x": [
            0.75
           ],
           "xaxis": "x4",
           "y": [
            0.5
           ],
           "yaxis": "y4",
           "type": "scatter"
          },
          {
           "hovertemplate": "eci: 1.8",
           "marker": {
            "color": "green",
            "opacity": 0.4,
            "size": 41.957698781579396
           },
           "mode": "markers",
           "x": [
            0.125
           ],
           "xaxis": "x5",
           "y": [
            0.5
           ],
           "yaxis": "y5",
           "type": "scatter"
          },
          {
           "hovertemplate": "exports: 0.63",
           "marker": {
            "color": "green",
            "opacity": 0.4,
            "size": 14.596921140219143
           },
           "mode": "markers",
           "x": [
            0.375
           ],
           "xaxis": "x5",
           "y": [
            0.5
           ],
           "yaxis": "y5",
           "type": "scatter"
          },
          {
           "hovertemplate": "resourcerents: -1.1",
           "marker": {
            "color": "red",
            "opacity": 0.4,
            "size": 25.771602469802087
           },
           "mode": "markers",
           "x": [
            0.625
           ],
           "xaxis": "x5",
           "y": [
            0.5
           ],
           "yaxis": "y5",
           "type": "scatter"
          },
          {
           "hovertemplate": "concentration: -0.33",
           "marker": {
            "color": "red",
            "opacity": 0.4,
            "size": 7.686833134267411
           },
           "mode": "markers",
           "x": [
            0.875
           ],
           "xaxis": "x5",
           "y": [
            0.5
           ],
           "yaxis": "y5",
           "type": "scatter"
          },
          {
           "hovertemplate": "grosscapital: 1.08",
           "marker": {
            "color": "green",
            "opacity": 0.4,
            "size": 25.121190027625307
           },
           "mode": "markers",
           "x": [
            0.125
           ],
           "xaxis": "x6",
           "y": [
            0.5
           ],
           "yaxis": "y6",
           "type": "scatter"
          },
          {
           "hovertemplate": "lifeexpectancy: 1.08",
           "marker": {
            "color": "green",
            "opacity": 0.4,
            "size": 25.172802105911313
           },
           "mode": "markers",
           "x": [
            0.375
           ],
           "xaxis": "x6",
           "y": [
            0.5
           ],
           "yaxis": "y6",
           "type": "scatter"
          },
          {
           "hovertemplate": "education: 0.41",
           "marker": {
            "color": "green",
            "opacity": 0.4,
            "size": 9.518624481357199
           },
           "mode": "markers",
           "x": [
            0.625
           ],
           "xaxis": "x6",
           "y": [
            0.5
           ],
           "yaxis": "y6",
           "type": "scatter"
          },
          {
           "hovertemplate": "mfootprint: 0.49",
           "marker": {
            "color": "green",
            "opacity": 0.4,
            "size": 11.508104974425075
           },
           "mode": "markers",
           "x": [
            0.875
           ],
           "xaxis": "x6",
           "y": [
            0.5
           ],
           "yaxis": "y6",
           "type": "scatter"
          },
          {
           "hovertemplate": "gini: nan",
           "marker": {
            "color": "grey",
            "opacity": 0.2,
            "size": 7.0
           },
           "mode": "markers",
           "x": [
            0.5
           ],
           "xaxis": "x2",
           "y": [
            0.2
           ],
           "yaxis": "y2",
           "type": "scatter"
          },
          {
           "hovertemplate": "voice: -0.48",
           "marker": {
            "color": "green",
            "opacity": 0.4,
            "size": 11.13566766062598
           },
           "mode": "markers",
           "x": [
            0.5
           ],
           "xaxis": "x2",
           "y": [
            0.5
           ],
           "yaxis": "y2",
           "type": "scatter"
          },
          {
           "hovertemplate": "femaleminister: nan",
           "marker": {
            "color": "grey",
            "opacity": 0.2,
            "size": 7.0
           },
           "mode": "markers",
           "x": [
            0.5
           ],
           "xaxis": "x2",
           "y": [
            0.8
           ],
           "yaxis": "y2",
           "type": "scatter"
          }
         ],
         "layout": {
          "annotations": [
           {
            "font": {
             "size": 18
            },
            "showarrow": false,
            "text": "Year: 2011",
            "x": 0,
            "xref": "paper",
            "y": 0.95,
            "yref": "paper"
           },
           {
            "font": {
             "size": 18
            },
            "showarrow": false,
            "text": "Country: Korea, Rep.",
            "x": 0,
            "xref": "paper",
            "y": 0.85,
            "yref": "paper"
           }
          ]
         },
         "name": "2011"
        },
        {
         "data": [
          {
           "hovertemplate": "unemployed: -0.97",
           "marker": {
            "color": "green",
            "opacity": 0.4,
            "size": 22.620296556017614
           },
           "mode": "markers",
           "x": [
            0.125
           ],
           "xaxis": "x",
           "y": [
            0.5
           ],
           "yaxis": "y",
           "type": "scatter"
          },
          {
           "hovertemplate": "wealth: 1.54",
           "marker": {
            "color": "green",
            "opacity": 0.4,
            "size": 35.86948821853973
           },
           "mode": "markers",
           "x": [
            0.375
           ],
           "xaxis": "x",
           "y": [
            0.5
           ],
           "yaxis": "y",
           "type": "scatter"
          },
          {
           "hovertemplate": "energy: nan",
           "marker": {
            "color": "grey",
            "opacity": 0.2,
            "size": 7.0
           },
           "mode": "markers",
           "x": [
            0.625
           ],
           "xaxis": "x",
           "y": [
            0.5
           ],
           "yaxis": "y",
           "type": "scatter"
          },
          {
           "hovertemplate": "placeholder: 0.1",
           "marker": {
            "color": "green",
            "opacity": 0.4,
            "size": 2.3333333333333335
           },
           "mode": "markers",
           "x": [
            0.875
           ],
           "xaxis": "x",
           "y": [
            0.5
           ],
           "yaxis": "y",
           "type": "scatter"
          },
          {
           "hovertemplate": "govconsum: -0.32",
           "marker": {
            "color": "red",
            "opacity": 0.4,
            "size": 7.370411235447243
           },
           "mode": "markers",
           "x": [
            0.125
           ],
           "xaxis": "x3",
           "y": [
            0.5
           ],
           "yaxis": "y3",
           "type": "scatter"
          },
          {
           "hovertemplate": "marketcap: 0.18",
           "marker": {
            "color": "green",
            "opacity": 0.4,
            "size": 4.258461815807265
           },
           "mode": "markers",
           "x": [
            0.375
           ],
           "xaxis": "x3",
           "y": [
            0.5
           ],
           "yaxis": "y3",
           "type": "scatter"
          },
          {
           "hovertemplate": "houseconsum: -0.7",
           "marker": {
            "color": "red",
            "opacity": 0.4,
            "size": 16.262477739306902
           },
           "mode": "markers",
           "x": [
            0.625
           ],
           "xaxis": "x3",
           "y": [
            0.5
           ],
           "yaxis": "y3",
           "type": "scatter"
          },
          {
           "hovertemplate": "placeholder: 0.1",
           "marker": {
            "color": "green",
            "opacity": 0.4,
            "size": 2.3333333333333335
           },
           "mode": "markers",
           "x": [
            0.875
           ],
           "xaxis": "x3",
           "y": [
            0.5
           ],
           "yaxis": "y3",
           "type": "scatter"
          },
          {
           "hovertemplate": "agriculture: -0.58",
           "marker": {
            "color": "red",
            "opacity": 0.4,
            "size": 13.568406621207874
           },
           "mode": "markers",
           "x": [
            0.25
           ],
           "xaxis": "x4",
           "y": [
            0.5
           ],
           "yaxis": "y4",
           "type": "scatter"
          },
          {
           "hovertemplate": "industry: 0.83",
           "marker": {
            "color": "green",
            "opacity": 0.4,
            "size": 19.439474748852362
           },
           "mode": "markers",
           "x": [
            0.5
           ],
           "xaxis": "x4",
           "y": [
            0.5
           ],
           "yaxis": "y4",
           "type": "scatter"
          },
          {
           "hovertemplate": "services: -0.01",
           "marker": {
            "color": "red",
            "opacity": 0.4,
            "size": 0.14432717979903092
           },
           "mode": "markers",
           "x": [
            0.75
           ],
           "xaxis": "x4",
           "y": [
            0.5
           ],
           "yaxis": "y4",
           "type": "scatter"
          },
          {
           "hovertemplate": "eci: 1.89",
           "marker": {
            "color": "green",
            "opacity": 0.4,
            "size": 44.01110359380234
           },
           "mode": "markers",
           "x": [
            0.125
           ],
           "xaxis": "x5",
           "y": [
            0.5
           ],
           "yaxis": "y5",
           "type": "scatter"
          },
          {
           "hovertemplate": "exports: 0.65",
           "marker": {
            "color": "green",
            "opacity": 0.4,
            "size": 15.08159324680394
           },
           "mode": "markers",
           "x": [
            0.375
           ],
           "xaxis": "x5",
           "y": [
            0.5
           ],
           "yaxis": "y5",
           "type": "scatter"
          },
          {
           "hovertemplate": "resourcerents: -1.07",
           "marker": {
            "color": "red",
            "opacity": 0.4,
            "size": 25.05322999994375
           },
           "mode": "markers",
           "x": [
            0.625
           ],
           "xaxis": "x5",
           "y": [
            0.5
           ],
           "yaxis": "y5",
           "type": "scatter"
          },
          {
           "hovertemplate": "concentration: -0.3",
           "marker": {
            "color": "red",
            "opacity": 0.4,
            "size": 7.037318532817169
           },
           "mode": "markers",
           "x": [
            0.875
           ],
           "xaxis": "x5",
           "y": [
            0.5
           ],
           "yaxis": "y5",
           "type": "scatter"
          },
          {
           "hovertemplate": "grosscapital: 0.91",
           "marker": {
            "color": "green",
            "opacity": 0.4,
            "size": 21.119380277892013
           },
           "mode": "markers",
           "x": [
            0.125
           ],
           "xaxis": "x6",
           "y": [
            0.5
           ],
           "yaxis": "y6",
           "type": "scatter"
          },
          {
           "hovertemplate": "lifeexpectancy: 1.11",
           "marker": {
            "color": "green",
            "opacity": 0.4,
            "size": 25.894307240077293
           },
           "mode": "markers",
           "x": [
            0.375
           ],
           "xaxis": "x6",
           "y": [
            0.5
           ],
           "yaxis": "y6",
           "type": "scatter"
          },
          {
           "hovertemplate": "education: 0.4",
           "marker": {
            "color": "green",
            "opacity": 0.4,
            "size": 9.381909055604767
           },
           "mode": "markers",
           "x": [
            0.625
           ],
           "xaxis": "x6",
           "y": [
            0.5
           ],
           "yaxis": "y6",
           "type": "scatter"
          },
          {
           "hovertemplate": "mfootprint: 0.43",
           "marker": {
            "color": "green",
            "opacity": 0.4,
            "size": 10.12289261523983
           },
           "mode": "markers",
           "x": [
            0.875
           ],
           "xaxis": "x6",
           "y": [
            0.5
           ],
           "yaxis": "y6",
           "type": "scatter"
          },
          {
           "hovertemplate": "gini: -0.75",
           "marker": {
            "color": "green",
            "opacity": 0.4,
            "size": 17.399453900736365
           },
           "mode": "markers",
           "x": [
            0.5
           ],
           "xaxis": "x2",
           "y": [
            0.2
           ],
           "yaxis": "y2",
           "type": "scatter"
          },
          {
           "hovertemplate": "voice: -0.48",
           "marker": {
            "color": "green",
            "opacity": 0.4,
            "size": 11.093350380509762
           },
           "mode": "markers",
           "x": [
            0.5
           ],
           "xaxis": "x2",
           "y": [
            0.5
           ],
           "yaxis": "y2",
           "type": "scatter"
          },
          {
           "hovertemplate": "femaleminister: -0.57",
           "marker": {
            "color": "red",
            "opacity": 0.4,
            "size": 13.284685998116077
           },
           "mode": "markers",
           "x": [
            0.5
           ],
           "xaxis": "x2",
           "y": [
            0.8
           ],
           "yaxis": "y2",
           "type": "scatter"
          }
         ],
         "layout": {
          "annotations": [
           {
            "font": {
             "size": 18
            },
            "showarrow": false,
            "text": "Year: 2012",
            "x": 0,
            "xref": "paper",
            "y": 0.95,
            "yref": "paper"
           },
           {
            "font": {
             "size": 18
            },
            "showarrow": false,
            "text": "Country: Korea, Rep.",
            "x": 0,
            "xref": "paper",
            "y": 0.85,
            "yref": "paper"
           }
          ]
         },
         "name": "2012"
        },
        {
         "data": [
          {
           "hovertemplate": "unemployed: -0.99",
           "marker": {
            "color": "green",
            "opacity": 0.4,
            "size": 23.185904153729485
           },
           "mode": "markers",
           "x": [
            0.125
           ],
           "xaxis": "x",
           "y": [
            0.5
           ],
           "yaxis": "y",
           "type": "scatter"
          },
          {
           "hovertemplate": "wealth: 1.58",
           "marker": {
            "color": "green",
            "opacity": 0.4,
            "size": 36.75131677524861
           },
           "mode": "markers",
           "x": [
            0.375
           ],
           "xaxis": "x",
           "y": [
            0.5
           ],
           "yaxis": "y",
           "type": "scatter"
          },
          {
           "hovertemplate": "energy: nan",
           "marker": {
            "color": "grey",
            "opacity": 0.2,
            "size": 7.0
           },
           "mode": "markers",
           "x": [
            0.625
           ],
           "xaxis": "x",
           "y": [
            0.5
           ],
           "yaxis": "y",
           "type": "scatter"
          },
          {
           "hovertemplate": "placeholder: 0.1",
           "marker": {
            "color": "green",
            "opacity": 0.4,
            "size": 2.3333333333333335
           },
           "mode": "markers",
           "x": [
            0.875
           ],
           "xaxis": "x",
           "y": [
            0.5
           ],
           "yaxis": "y",
           "type": "scatter"
          },
          {
           "hovertemplate": "govconsum: -0.28",
           "marker": {
            "color": "red",
            "opacity": 0.4,
            "size": 6.595040033601998
           },
           "mode": "markers",
           "x": [
            0.125
           ],
           "xaxis": "x3",
           "y": [
            0.5
           ],
           "yaxis": "y3",
           "type": "scatter"
          },
          {
           "hovertemplate": "marketcap: 0.17",
           "marker": {
            "color": "green",
            "opacity": 0.4,
            "size": 3.871242336981937
           },
           "mode": "markers",
           "x": [
            0.375
           ],
           "xaxis": "x3",
           "y": [
            0.5
           ],
           "yaxis": "y3",
           "type": "scatter"
          },
          {
           "hovertemplate": "houseconsum: -0.74",
           "marker": {
            "color": "red",
            "opacity": 0.4,
            "size": 17.247393142545416
           },
           "mode": "markers",
           "x": [
            0.625
           ],
           "xaxis": "x3",
           "y": [
            0.5
           ],
           "yaxis": "y3",
           "type": "scatter"
          },
          {
           "hovertemplate": "placeholder: 0.1",
           "marker": {
            "color": "green",
            "opacity": 0.4,
            "size": 2.3333333333333335
           },
           "mode": "markers",
           "x": [
            0.875
           ],
           "xaxis": "x3",
           "y": [
            0.5
           ],
           "yaxis": "y3",
           "type": "scatter"
          },
          {
           "hovertemplate": "agriculture: -0.61",
           "marker": {
            "color": "red",
            "opacity": 0.4,
            "size": 14.240112920072386
           },
           "mode": "markers",
           "x": [
            0.25
           ],
           "xaxis": "x4",
           "y": [
            0.5
           ],
           "yaxis": "y4",
           "type": "scatter"
          },
          {
           "hovertemplate": "industry: 0.85",
           "marker": {
            "color": "green",
            "opacity": 0.4,
            "size": 19.87737107059766
           },
           "mode": "markers",
           "x": [
            0.5
           ],
           "xaxis": "x4",
           "y": [
            0.5
           ],
           "yaxis": "y4",
           "type": "scatter"
          },
          {
           "hovertemplate": "services: 0.0",
           "marker": {
            "color": "green",
            "opacity": 0.4,
            "size": 0.10305922964039313
           },
           "mode": "markers",
           "x": [
            0.75
           ],
           "xaxis": "x4",
           "y": [
            0.5
           ],
           "yaxis": "y4",
           "type": "scatter"
          },
          {
           "hovertemplate": "eci: 1.86",
           "marker": {
            "color": "green",
            "opacity": 0.4,
            "size": 43.46563588510798
           },
           "mode": "markers",
           "x": [
            0.125
           ],
           "xaxis": "x5",
           "y": [
            0.5
           ],
           "yaxis": "y5",
           "type": "scatter"
          },
          {
           "hovertemplate": "exports: 0.57",
           "marker": {
            "color": "green",
            "opacity": 0.4,
            "size": 13.250744855022045
           },
           "mode": "markers",
           "x": [
            0.375
           ],
           "xaxis": "x5",
           "y": [
            0.5
           ],
           "yaxis": "y5",
           "type": "scatter"
          },
          {
           "hovertemplate": "resourcerents: -1.17",
           "marker": {
            "color": "red",
            "opacity": 0.4,
            "size": 27.386267670579635
           },
           "mode": "markers",
           "x": [
            0.625
           ],
           "xaxis": "x5",
           "y": [
            0.5
           ],
           "yaxis": "y5",
           "type": "scatter"
          },
          {
           "hovertemplate": "concentration: -0.26",
           "marker": {
            "color": "red",
            "opacity": 0.4,
            "size": 6.015844144233071
           },
           "mode": "markers",
           "x": [
            0.875
           ],
           "xaxis": "x5",
           "y": [
            0.5
           ],
           "yaxis": "y5",
           "type": "scatter"
          },
          {
           "hovertemplate": "grosscapital: 0.78",
           "marker": {
            "color": "green",
            "opacity": 0.4,
            "size": 18.099361427819694
           },
           "mode": "markers",
           "x": [
            0.125
           ],
           "xaxis": "x6",
           "y": [
            0.5
           ],
           "yaxis": "y6",
           "type": "scatter"
          },
          {
           "hovertemplate": "lifeexpectancy: 1.17",
           "marker": {
            "color": "green",
            "opacity": 0.4,
            "size": 27.190214519889974
           },
           "mode": "markers",
           "x": [
            0.375
           ],
           "xaxis": "x6",
           "y": [
            0.5
           ],
           "yaxis": "y6",
           "type": "scatter"
          },
          {
           "hovertemplate": "education: 0.42",
           "marker": {
            "color": "green",
            "opacity": 0.4,
            "size": 9.771233175619715
           },
           "mode": "markers",
           "x": [
            0.625
           ],
           "xaxis": "x6",
           "y": [
            0.5
           ],
           "yaxis": "y6",
           "type": "scatter"
          },
          {
           "hovertemplate": "mfootprint: 0.39",
           "marker": {
            "color": "green",
            "opacity": 0.4,
            "size": 9.166128154484511
           },
           "mode": "markers",
           "x": [
            0.875
           ],
           "xaxis": "x6",
           "y": [
            0.5
           ],
           "yaxis": "y6",
           "type": "scatter"
          },
          {
           "hovertemplate": "gini: nan",
           "marker": {
            "color": "grey",
            "opacity": 0.2,
            "size": 7.0
           },
           "mode": "markers",
           "x": [
            0.5
           ],
           "xaxis": "x2",
           "y": [
            0.2
           ],
           "yaxis": "y2",
           "type": "scatter"
          },
          {
           "hovertemplate": "voice: -0.45",
           "marker": {
            "color": "green",
            "opacity": 0.4,
            "size": 10.466770954300982
           },
           "mode": "markers",
           "x": [
            0.5
           ],
           "xaxis": "x2",
           "y": [
            0.5
           ],
           "yaxis": "y2",
           "type": "scatter"
          },
          {
           "hovertemplate": "femaleminister: nan",
           "marker": {
            "color": "grey",
            "opacity": 0.2,
            "size": 7.0
           },
           "mode": "markers",
           "x": [
            0.5
           ],
           "xaxis": "x2",
           "y": [
            0.8
           ],
           "yaxis": "y2",
           "type": "scatter"
          }
         ],
         "layout": {
          "annotations": [
           {
            "font": {
             "size": 18
            },
            "showarrow": false,
            "text": "Year: 2013",
            "x": 0,
            "xref": "paper",
            "y": 0.95,
            "yref": "paper"
           },
           {
            "font": {
             "size": 18
            },
            "showarrow": false,
            "text": "Country: Korea, Rep.",
            "x": 0,
            "xref": "paper",
            "y": 0.85,
            "yref": "paper"
           }
          ]
         },
         "name": "2013"
        },
        {
         "data": [
          {
           "hovertemplate": "unemployed: -0.87",
           "marker": {
            "color": "green",
            "opacity": 0.4,
            "size": 20.216072911858383
           },
           "mode": "markers",
           "x": [
            0.125
           ],
           "xaxis": "x",
           "y": [
            0.5
           ],
           "yaxis": "y",
           "type": "scatter"
          },
          {
           "hovertemplate": "wealth: 1.63",
           "marker": {
            "color": "green",
            "opacity": 0.4,
            "size": 38.06718624422594
           },
           "mode": "markers",
           "x": [
            0.375
           ],
           "xaxis": "x",
           "y": [
            0.5
           ],
           "yaxis": "y",
           "type": "scatter"
          },
          {
           "hovertemplate": "energy: nan",
           "marker": {
            "color": "grey",
            "opacity": 0.2,
            "size": 7.0
           },
           "mode": "markers",
           "x": [
            0.625
           ],
           "xaxis": "x",
           "y": [
            0.5
           ],
           "yaxis": "y",
           "type": "scatter"
          },
          {
           "hovertemplate": "placeholder: 0.1",
           "marker": {
            "color": "green",
            "opacity": 0.4,
            "size": 2.3333333333333335
           },
           "mode": "markers",
           "x": [
            0.875
           ],
           "xaxis": "x",
           "y": [
            0.5
           ],
           "yaxis": "y",
           "type": "scatter"
          },
          {
           "hovertemplate": "govconsum: -0.25",
           "marker": {
            "color": "red",
            "opacity": 0.4,
            "size": 5.931695130719373
           },
           "mode": "markers",
           "x": [
            0.125
           ],
           "xaxis": "x3",
           "y": [
            0.5
           ],
           "yaxis": "y3",
           "type": "scatter"
          },
          {
           "hovertemplate": "marketcap: 0.1",
           "marker": {
            "color": "green",
            "opacity": 0.4,
            "size": 2.3969811930819875
           },
           "mode": "markers",
           "x": [
            0.375
           ],
           "xaxis": "x3",
           "y": [
            0.5
           ],
           "yaxis": "y3",
           "type": "scatter"
          },
          {
           "hovertemplate": "houseconsum: -0.77",
           "marker": {
            "color": "red",
            "opacity": 0.4,
            "size": 17.98474254447512
           },
           "mode": "markers",
           "x": [
            0.625
           ],
           "xaxis": "x3",
           "y": [
            0.5
           ],
           "yaxis": "y3",
           "type": "scatter"
          },
          {
           "hovertemplate": "placeholder: 0.1",
           "marker": {
            "color": "green",
            "opacity": 0.4,
            "size": 2.3333333333333335
           },
           "mode": "markers",
           "x": [
            0.875
           ],
           "xaxis": "x3",
           "y": [
            0.5
           ],
           "yaxis": "y3",
           "type": "scatter"
          },
          {
           "hovertemplate": "agriculture: -0.62",
           "marker": {
            "color": "red",
            "opacity": 0.4,
            "size": 14.576867979347975
           },
           "mode": "markers",
           "x": [
            0.25
           ],
           "xaxis": "x4",
           "y": [
            0.5
           ],
           "yaxis": "y4",
           "type": "scatter"
          },
          {
           "hovertemplate": "industry: 0.83",
           "marker": {
            "color": "green",
            "opacity": 0.4,
            "size": 19.379000727213334
           },
           "mode": "markers",
           "x": [
            0.5
           ],
           "xaxis": "x4",
           "y": [
            0.5
           ],
           "yaxis": "y4",
           "type": "scatter"
          },
          {
           "hovertemplate": "services: 0.04",
           "marker": {
            "color": "green",
            "opacity": 0.4,
            "size": 0.8592680686065493
           },
           "mode": "markers",
           "x": [
            0.75
           ],
           "xaxis": "x4",
           "y": [
            0.5
           ],
           "yaxis": "y4",
           "type": "scatter"
          },
          {
           "hovertemplate": "eci: 2.02",
           "marker": {
            "color": "green",
            "opacity": 0.403360944042184,
            "size": 47.05877680492146
           },
           "mode": "markers",
           "x": [
            0.125
           ],
           "xaxis": "x5",
           "y": [
            0.5
           ],
           "yaxis": "y5",
           "type": "scatter"
          },
          {
           "hovertemplate": "exports: 0.46",
           "marker": {
            "color": "green",
            "opacity": 0.4,
            "size": 10.846237909864929
           },
           "mode": "markers",
           "x": [
            0.375
           ],
           "xaxis": "x5",
           "y": [
            0.5
           ],
           "yaxis": "y5",
           "type": "scatter"
          },
          {
           "hovertemplate": "resourcerents: -1.21",
           "marker": {
            "color": "red",
            "opacity": 0.4,
            "size": 28.170077153532215
           },
           "mode": "markers",
           "x": [
            0.625
           ],
           "xaxis": "x5",
           "y": [
            0.5
           ],
           "yaxis": "y5",
           "type": "scatter"
          },
          {
           "hovertemplate": "concentration: -0.23",
           "marker": {
            "color": "red",
            "opacity": 0.4,
            "size": 5.280311904821858
           },
           "mode": "markers",
           "x": [
            0.875
           ],
           "xaxis": "x5",
           "y": [
            0.5
           ],
           "yaxis": "y5",
           "type": "scatter"
          },
          {
           "hovertemplate": "grosscapital: 0.77",
           "marker": {
            "color": "green",
            "opacity": 0.4,
            "size": 17.894154249635744
           },
           "mode": "markers",
           "x": [
            0.125
           ],
           "xaxis": "x6",
           "y": [
            0.5
           ],
           "yaxis": "y6",
           "type": "scatter"
          },
          {
           "hovertemplate": "lifeexpectancy: 1.22",
           "marker": {
            "color": "green",
            "opacity": 0.4,
            "size": 28.4861217997027
           },
           "mode": "markers",
           "x": [
            0.375
           ],
           "xaxis": "x6",
           "y": [
            0.5
           ],
           "yaxis": "y6",
           "type": "scatter"
          },
          {
           "hovertemplate": "education: 0.45",
           "marker": {
            "color": "green",
            "opacity": 0.4,
            "size": 10.405787451801858
           },
           "mode": "markers",
           "x": [
            0.625
           ],
           "xaxis": "x6",
           "y": [
            0.5
           ],
           "yaxis": "y6",
           "type": "scatter"
          },
          {
           "hovertemplate": "mfootprint: 0.41",
           "marker": {
            "color": "green",
            "opacity": 0.4,
            "size": 9.617074828087002
           },
           "mode": "markers",
           "x": [
            0.875
           ],
           "xaxis": "x6",
           "y": [
            0.5
           ],
           "yaxis": "y6",
           "type": "scatter"
          },
          {
           "hovertemplate": "gini: -0.78",
           "marker": {
            "color": "green",
            "opacity": 0.4,
            "size": 18.17276296299132
           },
           "mode": "markers",
           "x": [
            0.5
           ],
           "xaxis": "x2",
           "y": [
            0.2
           ],
           "yaxis": "y2",
           "type": "scatter"
          },
          {
           "hovertemplate": "voice: -0.41",
           "marker": {
            "color": "green",
            "opacity": 0.4,
            "size": 9.670832084422809
           },
           "mode": "markers",
           "x": [
            0.5
           ],
           "xaxis": "x2",
           "y": [
            0.5
           ],
           "yaxis": "y2",
           "type": "scatter"
          },
          {
           "hovertemplate": "femaleminister: -0.48",
           "marker": {
            "color": "red",
            "opacity": 0.4,
            "size": 11.218251005398262
           },
           "mode": "markers",
           "x": [
            0.5
           ],
           "xaxis": "x2",
           "y": [
            0.8
           ],
           "yaxis": "y2",
           "type": "scatter"
          }
         ],
         "layout": {
          "annotations": [
           {
            "font": {
             "size": 18
            },
            "showarrow": false,
            "text": "Year: 2014",
            "x": 0,
            "xref": "paper",
            "y": 0.95,
            "yref": "paper"
           },
           {
            "font": {
             "size": 18
            },
            "showarrow": false,
            "text": "Country: Korea, Rep.",
            "x": 0,
            "xref": "paper",
            "y": 0.85,
            "yref": "paper"
           }
          ]
         },
         "name": "2014"
        },
        {
         "data": [
          {
           "hovertemplate": "unemployed: -0.71",
           "marker": {
            "color": "green",
            "opacity": 0.4,
            "size": 16.49442458006257
           },
           "mode": "markers",
           "x": [
            0.125
           ],
           "xaxis": "x",
           "y": [
            0.5
           ],
           "yaxis": "y",
           "type": "scatter"
          },
          {
           "hovertemplate": "wealth: 1.68",
           "marker": {
            "color": "green",
            "opacity": 0.4,
            "size": 39.202500768217625
           },
           "mode": "markers",
           "x": [
            0.375
           ],
           "xaxis": "x",
           "y": [
            0.5
           ],
           "yaxis": "y",
           "type": "scatter"
          },
          {
           "hovertemplate": "energy: nan",
           "marker": {
            "color": "grey",
            "opacity": 0.2,
            "size": 7.0
           },
           "mode": "markers",
           "x": [
            0.625
           ],
           "xaxis": "x",
           "y": [
            0.5
           ],
           "yaxis": "y",
           "type": "scatter"
          },
          {
           "hovertemplate": "placeholder: 0.1",
           "marker": {
            "color": "green",
            "opacity": 0.4,
            "size": 2.3333333333333335
           },
           "mode": "markers",
           "x": [
            0.875
           ],
           "xaxis": "x",
           "y": [
            0.5
           ],
           "yaxis": "y",
           "type": "scatter"
          },
          {
           "hovertemplate": "govconsum: -0.27",
           "marker": {
            "color": "red",
            "opacity": 0.4,
            "size": 6.309654226702211
           },
           "mode": "markers",
           "x": [
            0.125
           ],
           "xaxis": "x3",
           "y": [
            0.5
           ],
           "yaxis": "y3",
           "type": "scatter"
          },
          {
           "hovertemplate": "marketcap: 0.12",
           "marker": {
            "color": "green",
            "opacity": 0.4,
            "size": 2.801327682518749
           },
           "mode": "markers",
           "x": [
            0.375
           ],
           "xaxis": "x3",
           "y": [
            0.5
           ],
           "yaxis": "y3",
           "type": "scatter"
          },
          {
           "hovertemplate": "houseconsum: -0.85",
           "marker": {
            "color": "red",
            "opacity": 0.4,
            "size": 19.78918003719632
           },
           "mode": "markers",
           "x": [
            0.625
           ],
           "xaxis": "x3",
           "y": [
            0.5
           ],
           "yaxis": "y3",
           "type": "scatter"
          },
          {
           "hovertemplate": "placeholder: 0.1",
           "marker": {
            "color": "green",
            "opacity": 0.4,
            "size": 2.3333333333333335
           },
           "mode": "markers",
           "x": [
            0.875
           ],
           "xaxis": "x3",
           "y": [
            0.5
           ],
           "yaxis": "y3",
           "type": "scatter"
          },
          {
           "hovertemplate": "agriculture: -0.64",
           "marker": {
            "color": "red",
            "opacity": 0.4,
            "size": 15.006111280955883
           },
           "mode": "markers",
           "x": [
            0.25
           ],
           "xaxis": "x4",
           "y": [
            0.5
           ],
           "yaxis": "y4",
           "type": "scatter"
          },
          {
           "hovertemplate": "industry: 0.83",
           "marker": {
            "color": "green",
            "opacity": 0.4,
            "size": 19.460883752605874
           },
           "mode": "markers",
           "x": [
            0.5
           ],
           "xaxis": "x4",
           "y": [
            0.5
           ],
           "yaxis": "y4",
           "type": "scatter"
          },
          {
           "hovertemplate": "services: 0.03",
           "marker": {
            "color": "green",
            "opacity": 0.4,
            "size": 0.7396025853015296
           },
           "mode": "markers",
           "x": [
            0.75
           ],
           "xaxis": "x4",
           "y": [
            0.5
           ],
           "yaxis": "y4",
           "type": "scatter"
          },
          {
           "hovertemplate": "eci: 2.16",
           "marker": {
            "color": "green",
            "opacity": 0.4311646617807664,
            "size": 50.30254387442275
           },
           "mode": "markers",
           "x": [
            0.125
           ],
           "xaxis": "x5",
           "y": [
            0.5
           ],
           "yaxis": "y5",
           "type": "scatter"
          },
          {
           "hovertemplate": "exports: 0.31",
           "marker": {
            "color": "green",
            "opacity": 0.4,
            "size": 7.172515779518976
           },
           "mode": "markers",
           "x": [
            0.375
           ],
           "xaxis": "x5",
           "y": [
            0.5
           ],
           "yaxis": "y5",
           "type": "scatter"
          },
          {
           "hovertemplate": "resourcerents: -1.34",
           "marker": {
            "color": "red",
            "opacity": 0.4,
            "size": 31.226707740982388
           },
           "mode": "markers",
           "x": [
            0.625
           ],
           "xaxis": "x5",
           "y": [
            0.5
           ],
           "yaxis": "y5",
           "type": "scatter"
          },
          {
           "hovertemplate": "concentration: -0.21",
           "marker": {
            "color": "red",
            "opacity": 0.4,
            "size": 4.880583853655017
           },
           "mode": "markers",
           "x": [
            0.875
           ],
           "xaxis": "x5",
           "y": [
            0.5
           ],
           "yaxis": "y5",
           "type": "scatter"
          },
          {
           "hovertemplate": "grosscapital: 0.74",
           "marker": {
            "color": "green",
            "opacity": 0.4,
            "size": 17.325651896064453
           },
           "mode": "markers",
           "x": [
            0.125
           ],
           "xaxis": "x6",
           "y": [
            0.5
           ],
           "yaxis": "y6",
           "type": "scatter"
          },
          {
           "hovertemplate": "lifeexpectancy: 1.26",
           "marker": {
            "color": "green",
            "opacity": 0.4,
            "size": 29.354729922387875
           },
           "mode": "markers",
           "x": [
            0.375
           ],
           "xaxis": "x6",
           "y": [
            0.5
           ],
           "yaxis": "y6",
           "type": "scatter"
          },
          {
           "hovertemplate": "education: 0.45",
           "marker": {
            "color": "green",
            "opacity": 0.4,
            "size": 10.41635305478105
           },
           "mode": "markers",
           "x": [
            0.625
           ],
           "xaxis": "x6",
           "y": [
            0.5
           ],
           "yaxis": "y6",
           "type": "scatter"
          },
          {
           "hovertemplate": "mfootprint: 0.41",
           "marker": {
            "color": "green",
            "opacity": 0.4,
            "size": 9.614646902708667
           },
           "mode": "markers",
           "x": [
            0.875
           ],
           "xaxis": "x6",
           "y": [
            0.5
           ],
           "yaxis": "y6",
           "type": "scatter"
          },
          {
           "hovertemplate": "gini: nan",
           "marker": {
            "color": "grey",
            "opacity": 0.2,
            "size": 7.0
           },
           "mode": "markers",
           "x": [
            0.5
           ],
           "xaxis": "x2",
           "y": [
            0.2
           ],
           "yaxis": "y2",
           "type": "scatter"
          },
          {
           "hovertemplate": "voice: -0.35",
           "marker": {
            "color": "green",
            "opacity": 0.4,
            "size": 8.18420476044684
           },
           "mode": "markers",
           "x": [
            0.5
           ],
           "xaxis": "x2",
           "y": [
            0.5
           ],
           "yaxis": "y2",
           "type": "scatter"
          },
          {
           "hovertemplate": "femaleminister: -1.48",
           "marker": {
            "color": "red",
            "opacity": 0.4,
            "size": 34.640000654176575
           },
           "mode": "markers",
           "x": [
            0.5
           ],
           "xaxis": "x2",
           "y": [
            0.8
           ],
           "yaxis": "y2",
           "type": "scatter"
          }
         ],
         "layout": {
          "annotations": [
           {
            "font": {
             "size": 18
            },
            "showarrow": false,
            "text": "Year: 2015",
            "x": 0,
            "xref": "paper",
            "y": 0.95,
            "yref": "paper"
           },
           {
            "font": {
             "size": 18
            },
            "showarrow": false,
            "text": "Country: Korea, Rep.",
            "x": 0,
            "xref": "paper",
            "y": 0.85,
            "yref": "paper"
           }
          ]
         },
         "name": "2015"
        }
       ],
       "config": {
        "plotlyServerURL": "https://plot.ly"
       }
      },
      "text/html": "<div>                            <div id=\"b6efc47b-ee63-42ac-a95d-a7f5e361d84e\" class=\"plotly-graph-div\" style=\"height:525px; width:100%;\"></div>            <script type=\"text/javascript\">                require([\"plotly\"], function(Plotly) {                    window.PLOTLYENV=window.PLOTLYENV || {};                                    if (document.getElementById(\"b6efc47b-ee63-42ac-a95d-a7f5e361d84e\")) {                    Plotly.newPlot(                        \"b6efc47b-ee63-42ac-a95d-a7f5e361d84e\",                        [{\"hovertemplate\":\"unemployed: nan\",\"marker\":{\"color\":\"grey\",\"opacity\":0.2,\"size\":7.0},\"mode\":\"markers\",\"x\":[0.125],\"y\":[0.5],\"type\":\"scatter\",\"xaxis\":\"x\",\"yaxis\":\"y\"},{\"hovertemplate\":\"wealth: nan\",\"marker\":{\"color\":\"grey\",\"opacity\":0.2,\"size\":7.0},\"mode\":\"markers\",\"x\":[0.375],\"y\":[0.5],\"type\":\"scatter\",\"xaxis\":\"x\",\"yaxis\":\"y\"},{\"hovertemplate\":\"energy: nan\",\"marker\":{\"color\":\"grey\",\"opacity\":0.2,\"size\":7.0},\"mode\":\"markers\",\"x\":[0.625],\"y\":[0.5],\"type\":\"scatter\",\"xaxis\":\"x\",\"yaxis\":\"y\"},{\"hovertemplate\":\"placeholder: 0.1\",\"marker\":{\"color\":\"green\",\"opacity\":0.4,\"size\":2.3333333333333335},\"mode\":\"markers\",\"x\":[0.875],\"y\":[0.5],\"type\":\"scatter\",\"xaxis\":\"x\",\"yaxis\":\"y\"},{\"hovertemplate\":\"govconsum: -0.78\",\"marker\":{\"color\":\"red\",\"opacity\":0.4,\"size\":18.225237664069198},\"mode\":\"markers\",\"x\":[0.125],\"y\":[0.5],\"type\":\"scatter\",\"xaxis\":\"x3\",\"yaxis\":\"y3\"},{\"hovertemplate\":\"marketcap: -0.46\",\"marker\":{\"color\":\"red\",\"opacity\":0.4,\"size\":10.732861349216712},\"mode\":\"markers\",\"x\":[0.375],\"y\":[0.5],\"type\":\"scatter\",\"xaxis\":\"x3\",\"yaxis\":\"y3\"},{\"hovertemplate\":\"houseconsum: -0.44\",\"marker\":{\"color\":\"red\",\"opacity\":0.4,\"size\":10.212646603798346},\"mode\":\"markers\",\"x\":[0.625],\"y\":[0.5],\"type\":\"scatter\",\"xaxis\":\"x3\",\"yaxis\":\"y3\"},{\"hovertemplate\":\"placeholder: 0.1\",\"marker\":{\"color\":\"green\",\"opacity\":0.4,\"size\":2.3333333333333335},\"mode\":\"markers\",\"x\":[0.875],\"y\":[0.5],\"type\":\"scatter\",\"xaxis\":\"x3\",\"yaxis\":\"y3\"},{\"hovertemplate\":\"agriculture: 0.61\",\"marker\":{\"color\":\"green\",\"opacity\":0.4,\"size\":14.208588209825812},\"mode\":\"markers\",\"x\":[0.25],\"y\":[0.5],\"type\":\"scatter\",\"xaxis\":\"x4\",\"yaxis\":\"y4\"},{\"hovertemplate\":\"industry: 0.82\",\"marker\":{\"color\":\"green\",\"opacity\":0.4,\"size\":19.173486343833243},\"mode\":\"markers\",\"x\":[0.5],\"y\":[0.5],\"type\":\"scatter\",\"xaxis\":\"x4\",\"yaxis\":\"y4\"},{\"hovertemplate\":\"services: -0.92\",\"marker\":{\"color\":\"red\",\"opacity\":0.4,\"size\":21.488662177886408},\"mode\":\"markers\",\"x\":[0.75],\"y\":[0.5],\"type\":\"scatter\",\"xaxis\":\"x4\",\"yaxis\":\"y4\"},{\"hovertemplate\":\"eci: nan\",\"marker\":{\"color\":\"grey\",\"opacity\":0.2,\"size\":7.0},\"mode\":\"markers\",\"x\":[0.125],\"y\":[0.5],\"type\":\"scatter\",\"xaxis\":\"x5\",\"yaxis\":\"y5\"},{\"hovertemplate\":\"exports: -0.39\",\"marker\":{\"color\":\"red\",\"opacity\":0.4,\"size\":9.001974505589121},\"mode\":\"markers\",\"x\":[0.375],\"y\":[0.5],\"type\":\"scatter\",\"xaxis\":\"x5\",\"yaxis\":\"y5\"},{\"hovertemplate\":\"resourcerents: -0.74\",\"marker\":{\"color\":\"red\",\"opacity\":0.4,\"size\":17.273418907268177},\"mode\":\"markers\",\"x\":[0.625],\"y\":[0.5],\"type\":\"scatter\",\"xaxis\":\"x5\",\"yaxis\":\"y5\"},{\"hovertemplate\":\"concentration: nan\",\"marker\":{\"color\":\"grey\",\"opacity\":0.2,\"size\":7.0},\"mode\":\"markers\",\"x\":[0.875],\"y\":[0.5],\"type\":\"scatter\",\"xaxis\":\"x5\",\"yaxis\":\"y5\"},{\"hovertemplate\":\"grosscapital: 0.99\",\"marker\":{\"color\":\"green\",\"opacity\":0.4,\"size\":23.055370266675975},\"mode\":\"markers\",\"x\":[0.125],\"y\":[0.5],\"type\":\"scatter\",\"xaxis\":\"x6\",\"yaxis\":\"y6\"},{\"hovertemplate\":\"lifeexpectancy: -0.37\",\"marker\":{\"color\":\"red\",\"opacity\":0.4,\"size\":8.639870540879173},\"mode\":\"markers\",\"x\":[0.375],\"y\":[0.5],\"type\":\"scatter\",\"xaxis\":\"x6\",\"yaxis\":\"y6\"},{\"hovertemplate\":\"education: 0.02\",\"marker\":{\"color\":\"green\",\"opacity\":0.4,\"size\":0.3619939140991745},\"mode\":\"markers\",\"x\":[0.625],\"y\":[0.5],\"type\":\"scatter\",\"xaxis\":\"x6\",\"yaxis\":\"y6\"},{\"hovertemplate\":\"mfootprint: -0.41\",\"marker\":{\"color\":\"red\",\"opacity\":0.4,\"size\":9.586681882688346},\"mode\":\"markers\",\"x\":[0.875],\"y\":[0.5],\"type\":\"scatter\",\"xaxis\":\"x6\",\"yaxis\":\"y6\"},{\"hovertemplate\":\"gini: nan\",\"marker\":{\"color\":\"grey\",\"opacity\":0.2,\"size\":7.0},\"mode\":\"markers\",\"x\":[0.5],\"y\":[0.2],\"type\":\"scatter\",\"xaxis\":\"x2\",\"yaxis\":\"y2\"},{\"hovertemplate\":\"voice: nan\",\"marker\":{\"color\":\"grey\",\"opacity\":0.2,\"size\":7.0},\"mode\":\"markers\",\"x\":[0.5],\"y\":[0.5],\"type\":\"scatter\",\"xaxis\":\"x2\",\"yaxis\":\"y2\"},{\"hovertemplate\":\"femaleminister: nan\",\"marker\":{\"color\":\"grey\",\"opacity\":0.2,\"size\":7.0},\"mode\":\"markers\",\"x\":[0.5],\"y\":[0.8],\"type\":\"scatter\",\"xaxis\":\"x2\",\"yaxis\":\"y2\"}],                        {\"template\":{\"data\":{\"histogram2dcontour\":[{\"type\":\"histogram2dcontour\",\"colorbar\":{\"outlinewidth\":0,\"ticks\":\"\"},\"colorscale\":[[0.0,\"#0d0887\"],[0.1111111111111111,\"#46039f\"],[0.2222222222222222,\"#7201a8\"],[0.3333333333333333,\"#9c179e\"],[0.4444444444444444,\"#bd3786\"],[0.5555555555555556,\"#d8576b\"],[0.6666666666666666,\"#ed7953\"],[0.7777777777777778,\"#fb9f3a\"],[0.8888888888888888,\"#fdca26\"],[1.0,\"#f0f921\"]]}],\"choropleth\":[{\"type\":\"choropleth\",\"colorbar\":{\"outlinewidth\":0,\"ticks\":\"\"}}],\"histogram2d\":[{\"type\":\"histogram2d\",\"colorbar\":{\"outlinewidth\":0,\"ticks\":\"\"},\"colorscale\":[[0.0,\"#0d0887\"],[0.1111111111111111,\"#46039f\"],[0.2222222222222222,\"#7201a8\"],[0.3333333333333333,\"#9c179e\"],[0.4444444444444444,\"#bd3786\"],[0.5555555555555556,\"#d8576b\"],[0.6666666666666666,\"#ed7953\"],[0.7777777777777778,\"#fb9f3a\"],[0.8888888888888888,\"#fdca26\"],[1.0,\"#f0f921\"]]}],\"heatmap\":[{\"type\":\"heatmap\",\"colorbar\":{\"outlinewidth\":0,\"ticks\":\"\"},\"colorscale\":[[0.0,\"#0d0887\"],[0.1111111111111111,\"#46039f\"],[0.2222222222222222,\"#7201a8\"],[0.3333333333333333,\"#9c179e\"],[0.4444444444444444,\"#bd3786\"],[0.5555555555555556,\"#d8576b\"],[0.6666666666666666,\"#ed7953\"],[0.7777777777777778,\"#fb9f3a\"],[0.8888888888888888,\"#fdca26\"],[1.0,\"#f0f921\"]]}],\"heatmapgl\":[{\"type\":\"heatmapgl\",\"colorbar\":{\"outlinewidth\":0,\"ticks\":\"\"},\"colorscale\":[[0.0,\"#0d0887\"],[0.1111111111111111,\"#46039f\"],[0.2222222222222222,\"#7201a8\"],[0.3333333333333333,\"#9c179e\"],[0.4444444444444444,\"#bd3786\"],[0.5555555555555556,\"#d8576b\"],[0.6666666666666666,\"#ed7953\"],[0.7777777777777778,\"#fb9f3a\"],[0.8888888888888888,\"#fdca26\"],[1.0,\"#f0f921\"]]}],\"contourcarpet\":[{\"type\":\"contourcarpet\",\"colorbar\":{\"outlinewidth\":0,\"ticks\":\"\"}}],\"contour\":[{\"type\":\"contour\",\"colorbar\":{\"outlinewidth\":0,\"ticks\":\"\"},\"colorscale\":[[0.0,\"#0d0887\"],[0.1111111111111111,\"#46039f\"],[0.2222222222222222,\"#7201a8\"],[0.3333333333333333,\"#9c179e\"],[0.4444444444444444,\"#bd3786\"],[0.5555555555555556,\"#d8576b\"],[0.6666666666666666,\"#ed7953\"],[0.7777777777777778,\"#fb9f3a\"],[0.8888888888888888,\"#fdca26\"],[1.0,\"#f0f921\"]]}],\"surface\":[{\"type\":\"surface\",\"colorbar\":{\"outlinewidth\":0,\"ticks\":\"\"},\"colorscale\":[[0.0,\"#0d0887\"],[0.1111111111111111,\"#46039f\"],[0.2222222222222222,\"#7201a8\"],[0.3333333333333333,\"#9c179e\"],[0.4444444444444444,\"#bd3786\"],[0.5555555555555556,\"#d8576b\"],[0.6666666666666666,\"#ed7953\"],[0.7777777777777778,\"#fb9f3a\"],[0.8888888888888888,\"#fdca26\"],[1.0,\"#f0f921\"]]}],\"mesh3d\":[{\"type\":\"mesh3d\",\"colorbar\":{\"outlinewidth\":0,\"ticks\":\"\"}}],\"scatter\":[{\"marker\":{\"line\":{\"color\":\"#283442\"}},\"type\":\"scatter\"}],\"parcoords\":[{\"type\":\"parcoords\",\"line\":{\"colorbar\":{\"outlinewidth\":0,\"ticks\":\"\"}}}],\"scatterpolargl\":[{\"type\":\"scatterpolargl\",\"marker\":{\"colorbar\":{\"outlinewidth\":0,\"ticks\":\"\"}}}],\"bar\":[{\"error_x\":{\"color\":\"#f2f5fa\"},\"error_y\":{\"color\":\"#f2f5fa\"},\"marker\":{\"line\":{\"color\":\"rgb(17,17,17)\",\"width\":0.5},\"pattern\":{\"fillmode\":\"overlay\",\"size\":10,\"solidity\":0.2}},\"type\":\"bar\"}],\"scattergeo\":[{\"type\":\"scattergeo\",\"marker\":{\"colorbar\":{\"outlinewidth\":0,\"ticks\":\"\"}}}],\"scatterpolar\":[{\"type\":\"scatterpolar\",\"marker\":{\"colorbar\":{\"outlinewidth\":0,\"ticks\":\"\"}}}],\"histogram\":[{\"marker\":{\"pattern\":{\"fillmode\":\"overlay\",\"size\":10,\"solidity\":0.2}},\"type\":\"histogram\"}],\"scattergl\":[{\"marker\":{\"line\":{\"color\":\"#283442\"}},\"type\":\"scattergl\"}],\"scatter3d\":[{\"type\":\"scatter3d\",\"line\":{\"colorbar\":{\"outlinewidth\":0,\"ticks\":\"\"}},\"marker\":{\"colorbar\":{\"outlinewidth\":0,\"ticks\":\"\"}}}],\"scattermapbox\":[{\"type\":\"scattermapbox\",\"marker\":{\"colorbar\":{\"outlinewidth\":0,\"ticks\":\"\"}}}],\"scatterternary\":[{\"type\":\"scatterternary\",\"marker\":{\"colorbar\":{\"outlinewidth\":0,\"ticks\":\"\"}}}],\"scattercarpet\":[{\"type\":\"scattercarpet\",\"marker\":{\"colorbar\":{\"outlinewidth\":0,\"ticks\":\"\"}}}],\"carpet\":[{\"aaxis\":{\"endlinecolor\":\"#A2B1C6\",\"gridcolor\":\"#506784\",\"linecolor\":\"#506784\",\"minorgridcolor\":\"#506784\",\"startlinecolor\":\"#A2B1C6\"},\"baxis\":{\"endlinecolor\":\"#A2B1C6\",\"gridcolor\":\"#506784\",\"linecolor\":\"#506784\",\"minorgridcolor\":\"#506784\",\"startlinecolor\":\"#A2B1C6\"},\"type\":\"carpet\"}],\"table\":[{\"cells\":{\"fill\":{\"color\":\"#506784\"},\"line\":{\"color\":\"rgb(17,17,17)\"}},\"header\":{\"fill\":{\"color\":\"#2a3f5f\"},\"line\":{\"color\":\"rgb(17,17,17)\"}},\"type\":\"table\"}],\"barpolar\":[{\"marker\":{\"line\":{\"color\":\"rgb(17,17,17)\",\"width\":0.5},\"pattern\":{\"fillmode\":\"overlay\",\"size\":10,\"solidity\":0.2}},\"type\":\"barpolar\"}],\"pie\":[{\"automargin\":true,\"type\":\"pie\"}]},\"layout\":{\"autotypenumbers\":\"strict\",\"colorway\":[\"#636efa\",\"#EF553B\",\"#00cc96\",\"#ab63fa\",\"#FFA15A\",\"#19d3f3\",\"#FF6692\",\"#B6E880\",\"#FF97FF\",\"#FECB52\"],\"font\":{\"color\":\"#f2f5fa\"},\"hovermode\":\"closest\",\"hoverlabel\":{\"align\":\"left\"},\"paper_bgcolor\":\"rgb(17,17,17)\",\"plot_bgcolor\":\"rgb(17,17,17)\",\"polar\":{\"bgcolor\":\"rgb(17,17,17)\",\"angularaxis\":{\"gridcolor\":\"#506784\",\"linecolor\":\"#506784\",\"ticks\":\"\"},\"radialaxis\":{\"gridcolor\":\"#506784\",\"linecolor\":\"#506784\",\"ticks\":\"\"}},\"ternary\":{\"bgcolor\":\"rgb(17,17,17)\",\"aaxis\":{\"gridcolor\":\"#506784\",\"linecolor\":\"#506784\",\"ticks\":\"\"},\"baxis\":{\"gridcolor\":\"#506784\",\"linecolor\":\"#506784\",\"ticks\":\"\"},\"caxis\":{\"gridcolor\":\"#506784\",\"linecolor\":\"#506784\",\"ticks\":\"\"}},\"coloraxis\":{\"colorbar\":{\"outlinewidth\":0,\"ticks\":\"\"}},\"colorscale\":{\"sequential\":[[0.0,\"#0d0887\"],[0.1111111111111111,\"#46039f\"],[0.2222222222222222,\"#7201a8\"],[0.3333333333333333,\"#9c179e\"],[0.4444444444444444,\"#bd3786\"],[0.5555555555555556,\"#d8576b\"],[0.6666666666666666,\"#ed7953\"],[0.7777777777777778,\"#fb9f3a\"],[0.8888888888888888,\"#fdca26\"],[1.0,\"#f0f921\"]],\"sequentialminus\":[[0.0,\"#0d0887\"],[0.1111111111111111,\"#46039f\"],[0.2222222222222222,\"#7201a8\"],[0.3333333333333333,\"#9c179e\"],[0.4444444444444444,\"#bd3786\"],[0.5555555555555556,\"#d8576b\"],[0.6666666666666666,\"#ed7953\"],[0.7777777777777778,\"#fb9f3a\"],[0.8888888888888888,\"#fdca26\"],[1.0,\"#f0f921\"]],\"diverging\":[[0,\"#8e0152\"],[0.1,\"#c51b7d\"],[0.2,\"#de77ae\"],[0.3,\"#f1b6da\"],[0.4,\"#fde0ef\"],[0.5,\"#f7f7f7\"],[0.6,\"#e6f5d0\"],[0.7,\"#b8e186\"],[0.8,\"#7fbc41\"],[0.9,\"#4d9221\"],[1,\"#276419\"]]},\"xaxis\":{\"gridcolor\":\"#283442\",\"linecolor\":\"#506784\",\"ticks\":\"\",\"title\":{\"standoff\":15},\"zerolinecolor\":\"#283442\",\"automargin\":true,\"zerolinewidth\":2},\"yaxis\":{\"gridcolor\":\"#283442\",\"linecolor\":\"#506784\",\"ticks\":\"\",\"title\":{\"standoff\":15},\"zerolinecolor\":\"#283442\",\"automargin\":true,\"zerolinewidth\":2},\"scene\":{\"xaxis\":{\"backgroundcolor\":\"rgb(17,17,17)\",\"gridcolor\":\"#506784\",\"linecolor\":\"#506784\",\"showbackground\":true,\"ticks\":\"\",\"zerolinecolor\":\"#C8D4E3\",\"gridwidth\":2},\"yaxis\":{\"backgroundcolor\":\"rgb(17,17,17)\",\"gridcolor\":\"#506784\",\"linecolor\":\"#506784\",\"showbackground\":true,\"ticks\":\"\",\"zerolinecolor\":\"#C8D4E3\",\"gridwidth\":2},\"zaxis\":{\"backgroundcolor\":\"rgb(17,17,17)\",\"gridcolor\":\"#506784\",\"linecolor\":\"#506784\",\"showbackground\":true,\"ticks\":\"\",\"zerolinecolor\":\"#C8D4E3\",\"gridwidth\":2}},\"shapedefaults\":{\"line\":{\"color\":\"#f2f5fa\"}},\"annotationdefaults\":{\"arrowcolor\":\"#f2f5fa\",\"arrowhead\":0,\"arrowwidth\":1},\"geo\":{\"bgcolor\":\"rgb(17,17,17)\",\"landcolor\":\"rgb(17,17,17)\",\"subunitcolor\":\"#506784\",\"showland\":true,\"showlakes\":true,\"lakecolor\":\"rgb(17,17,17)\"},\"title\":{\"x\":0.05},\"updatemenudefaults\":{\"bgcolor\":\"#506784\",\"borderwidth\":0},\"sliderdefaults\":{\"bgcolor\":\"#C8D4E3\",\"borderwidth\":1,\"bordercolor\":\"rgb(17,17,17)\",\"tickwidth\":0},\"mapbox\":{\"style\":\"dark\"}}},\"xaxis\":{\"anchor\":\"y\",\"domain\":[0.29647058823529415,0.5729411764705883],\"tickvals\":[0.125,0.375,0.625,0.875],\"ticktext\":[\"Worker\",\"Capital\",\"Energy\",\"Resource\"]},\"yaxis\":{\"anchor\":\"x\",\"domain\":[0.7333333333333333,1.0],\"range\":[0.3,0.7],\"tickvals\":[0.5],\"ticktext\":[\"extraction\"]},\"xaxis2\":{\"anchor\":\"y2\",\"domain\":[0.8894117647058823,1.0],\"range\":[0.3,0.7],\"tickvals\":[0.5],\"ticktext\":[\"Decision-Making\"]},\"yaxis2\":{\"anchor\":\"x2\",\"domain\":[0.0,1.0],\"tickvals\":[0.2,0.5,0.8],\"ticktext\":[\"Ineq\",\"Voice\",\"Gender\"]},\"xaxis3\":{\"anchor\":\"y3\",\"domain\":[0.0,0.27647058823529413],\"tickvals\":[0.125,0.375,0.625,0.875],\"ticktext\":[\"State\",\"Market\",\"Household\",\"Commons\"]},\"yaxis3\":{\"anchor\":\"x3\",\"domain\":[0.36666666666666664,0.6333333333333333],\"range\":[0.3,0.7],\"tickvals\":[0.5],\"ticktext\":[\"realms\"]},\"xaxis4\":{\"anchor\":\"y4\",\"domain\":[0.29647058823529415,0.5729411764705883],\"tickvals\":[0.25,0.5,0.75],\"ticktext\":[\"Agriculture\",\"Industry\",\"Services\"]},\"yaxis4\":{\"anchor\":\"x4\",\"domain\":[0.36666666666666664,0.6333333333333333],\"range\":[0.3,0.7],\"tickvals\":[0.5],\"ticktext\":[\"industry\"]},\"xaxis5\":{\"anchor\":\"y5\",\"domain\":[0.5929411764705883,0.8694117647058824],\"tickvals\":[0.125,0.375,0.625,0.875],\"ticktext\":[\"Complexity\",\"Exports\",\"ResourceRents\",\"Concentration\"]},\"yaxis5\":{\"anchor\":\"x5\",\"domain\":[0.36666666666666664,0.6333333333333333],\"range\":[0.3,0.7],\"tickvals\":[0.5],\"ticktext\":[\"foundational\"]},\"xaxis6\":{\"anchor\":\"y6\",\"domain\":[0.29647058823529415,0.5729411764705883],\"tickvals\":[0.125,0.375,0.625,0.875],\"ticktext\":[\"Accumulation\",\"Needs\",\"HDI\",\"Waste\"]},\"yaxis6\":{\"anchor\":\"x6\",\"domain\":[0.0,0.26666666666666666],\"range\":[0.3,0.7],\"tickvals\":[0.5],\"ticktext\":[\"dissipation\"]},\"annotations\":[{\"font\":{\"size\":18},\"showarrow\":false,\"text\":\"Year: 1985\",\"x\":0,\"xref\":\"paper\",\"y\":0.95,\"yref\":\"paper\"},{\"font\":{\"size\":18},\"showarrow\":false,\"text\":\"Country: Korea, Rep.\",\"x\":0,\"xref\":\"paper\",\"y\":0.85,\"yref\":\"paper\"}],\"updatemenus\":[{\"buttons\":[{\"args\":[null,{\"frame\":{\"duration\":1000}}],\"label\":\"Play\",\"method\":\"animate\"},{\"args\":[[null],{\"frame\":{\"duration\":0,\"redraw\":false}}],\"label\":\"Pause\",\"method\":\"animate\"}],\"showactive\":false,\"type\":\"buttons\"}],\"showlegend\":false},                        {\"responsive\": true}                    ).then(function(){\n                            Plotly.addFrames('b6efc47b-ee63-42ac-a95d-a7f5e361d84e', [{\"data\":[{\"hovertemplate\":\"unemployed: nan\",\"marker\":{\"color\":\"grey\",\"opacity\":0.2,\"size\":7.0},\"mode\":\"markers\",\"x\":[0.125],\"xaxis\":\"x\",\"y\":[0.5],\"yaxis\":\"y\",\"type\":\"scatter\"},{\"hovertemplate\":\"wealth: nan\",\"marker\":{\"color\":\"grey\",\"opacity\":0.2,\"size\":7.0},\"mode\":\"markers\",\"x\":[0.375],\"xaxis\":\"x\",\"y\":[0.5],\"yaxis\":\"y\",\"type\":\"scatter\"},{\"hovertemplate\":\"energy: nan\",\"marker\":{\"color\":\"grey\",\"opacity\":0.2,\"size\":7.0},\"mode\":\"markers\",\"x\":[0.625],\"xaxis\":\"x\",\"y\":[0.5],\"yaxis\":\"y\",\"type\":\"scatter\"},{\"hovertemplate\":\"placeholder: 0.1\",\"marker\":{\"color\":\"green\",\"opacity\":0.4,\"size\":2.3333333333333335},\"mode\":\"markers\",\"x\":[0.875],\"xaxis\":\"x\",\"y\":[0.5],\"yaxis\":\"y\",\"type\":\"scatter\"},{\"hovertemplate\":\"govconsum: -0.78\",\"marker\":{\"color\":\"red\",\"opacity\":0.4,\"size\":18.225237664069198},\"mode\":\"markers\",\"x\":[0.125],\"xaxis\":\"x3\",\"y\":[0.5],\"yaxis\":\"y3\",\"type\":\"scatter\"},{\"hovertemplate\":\"marketcap: -0.46\",\"marker\":{\"color\":\"red\",\"opacity\":0.4,\"size\":10.732861349216712},\"mode\":\"markers\",\"x\":[0.375],\"xaxis\":\"x3\",\"y\":[0.5],\"yaxis\":\"y3\",\"type\":\"scatter\"},{\"hovertemplate\":\"houseconsum: -0.44\",\"marker\":{\"color\":\"red\",\"opacity\":0.4,\"size\":10.212646603798346},\"mode\":\"markers\",\"x\":[0.625],\"xaxis\":\"x3\",\"y\":[0.5],\"yaxis\":\"y3\",\"type\":\"scatter\"},{\"hovertemplate\":\"placeholder: 0.1\",\"marker\":{\"color\":\"green\",\"opacity\":0.4,\"size\":2.3333333333333335},\"mode\":\"markers\",\"x\":[0.875],\"xaxis\":\"x3\",\"y\":[0.5],\"yaxis\":\"y3\",\"type\":\"scatter\"},{\"hovertemplate\":\"agriculture: 0.61\",\"marker\":{\"color\":\"green\",\"opacity\":0.4,\"size\":14.208588209825812},\"mode\":\"markers\",\"x\":[0.25],\"xaxis\":\"x4\",\"y\":[0.5],\"yaxis\":\"y4\",\"type\":\"scatter\"},{\"hovertemplate\":\"industry: 0.82\",\"marker\":{\"color\":\"green\",\"opacity\":0.4,\"size\":19.173486343833243},\"mode\":\"markers\",\"x\":[0.5],\"xaxis\":\"x4\",\"y\":[0.5],\"yaxis\":\"y4\",\"type\":\"scatter\"},{\"hovertemplate\":\"services: -0.92\",\"marker\":{\"color\":\"red\",\"opacity\":0.4,\"size\":21.488662177886408},\"mode\":\"markers\",\"x\":[0.75],\"xaxis\":\"x4\",\"y\":[0.5],\"yaxis\":\"y4\",\"type\":\"scatter\"},{\"hovertemplate\":\"eci: nan\",\"marker\":{\"color\":\"grey\",\"opacity\":0.2,\"size\":7.0},\"mode\":\"markers\",\"x\":[0.125],\"xaxis\":\"x5\",\"y\":[0.5],\"yaxis\":\"y5\",\"type\":\"scatter\"},{\"hovertemplate\":\"exports: -0.39\",\"marker\":{\"color\":\"red\",\"opacity\":0.4,\"size\":9.001974505589121},\"mode\":\"markers\",\"x\":[0.375],\"xaxis\":\"x5\",\"y\":[0.5],\"yaxis\":\"y5\",\"type\":\"scatter\"},{\"hovertemplate\":\"resourcerents: -0.74\",\"marker\":{\"color\":\"red\",\"opacity\":0.4,\"size\":17.273418907268177},\"mode\":\"markers\",\"x\":[0.625],\"xaxis\":\"x5\",\"y\":[0.5],\"yaxis\":\"y5\",\"type\":\"scatter\"},{\"hovertemplate\":\"concentration: nan\",\"marker\":{\"color\":\"grey\",\"opacity\":0.2,\"size\":7.0},\"mode\":\"markers\",\"x\":[0.875],\"xaxis\":\"x5\",\"y\":[0.5],\"yaxis\":\"y5\",\"type\":\"scatter\"},{\"hovertemplate\":\"grosscapital: 0.99\",\"marker\":{\"color\":\"green\",\"opacity\":0.4,\"size\":23.055370266675975},\"mode\":\"markers\",\"x\":[0.125],\"xaxis\":\"x6\",\"y\":[0.5],\"yaxis\":\"y6\",\"type\":\"scatter\"},{\"hovertemplate\":\"lifeexpectancy: -0.37\",\"marker\":{\"color\":\"red\",\"opacity\":0.4,\"size\":8.639870540879173},\"mode\":\"markers\",\"x\":[0.375],\"xaxis\":\"x6\",\"y\":[0.5],\"yaxis\":\"y6\",\"type\":\"scatter\"},{\"hovertemplate\":\"education: 0.02\",\"marker\":{\"color\":\"green\",\"opacity\":0.4,\"size\":0.3619939140991745},\"mode\":\"markers\",\"x\":[0.625],\"xaxis\":\"x6\",\"y\":[0.5],\"yaxis\":\"y6\",\"type\":\"scatter\"},{\"hovertemplate\":\"mfootprint: -0.41\",\"marker\":{\"color\":\"red\",\"opacity\":0.4,\"size\":9.586681882688346},\"mode\":\"markers\",\"x\":[0.875],\"xaxis\":\"x6\",\"y\":[0.5],\"yaxis\":\"y6\",\"type\":\"scatter\"},{\"hovertemplate\":\"gini: nan\",\"marker\":{\"color\":\"grey\",\"opacity\":0.2,\"size\":7.0},\"mode\":\"markers\",\"x\":[0.5],\"xaxis\":\"x2\",\"y\":[0.2],\"yaxis\":\"y2\",\"type\":\"scatter\"},{\"hovertemplate\":\"voice: nan\",\"marker\":{\"color\":\"grey\",\"opacity\":0.2,\"size\":7.0},\"mode\":\"markers\",\"x\":[0.5],\"xaxis\":\"x2\",\"y\":[0.5],\"yaxis\":\"y2\",\"type\":\"scatter\"},{\"hovertemplate\":\"femaleminister: nan\",\"marker\":{\"color\":\"grey\",\"opacity\":0.2,\"size\":7.0},\"mode\":\"markers\",\"x\":[0.5],\"xaxis\":\"x2\",\"y\":[0.8],\"yaxis\":\"y2\",\"type\":\"scatter\"}],\"layout\":{\"annotations\":[{\"font\":{\"size\":18},\"showarrow\":false,\"text\":\"Year: 1985\",\"x\":0,\"xref\":\"paper\",\"y\":0.95,\"yref\":\"paper\"},{\"font\":{\"size\":18},\"showarrow\":false,\"text\":\"Country: Korea, Rep.\",\"x\":0,\"xref\":\"paper\",\"y\":0.85,\"yref\":\"paper\"}]},\"name\":\"1985\"},{\"data\":[{\"hovertemplate\":\"unemployed: nan\",\"marker\":{\"color\":\"grey\",\"opacity\":0.2,\"size\":7.0},\"mode\":\"markers\",\"x\":[0.125],\"xaxis\":\"x\",\"y\":[0.5],\"yaxis\":\"y\",\"type\":\"scatter\"},{\"hovertemplate\":\"wealth: nan\",\"marker\":{\"color\":\"grey\",\"opacity\":0.2,\"size\":7.0},\"mode\":\"markers\",\"x\":[0.375],\"xaxis\":\"x\",\"y\":[0.5],\"yaxis\":\"y\",\"type\":\"scatter\"},{\"hovertemplate\":\"energy: nan\",\"marker\":{\"color\":\"grey\",\"opacity\":0.2,\"size\":7.0},\"mode\":\"markers\",\"x\":[0.625],\"xaxis\":\"x\",\"y\":[0.5],\"yaxis\":\"y\",\"type\":\"scatter\"},{\"hovertemplate\":\"placeholder: 0.1\",\"marker\":{\"color\":\"green\",\"opacity\":0.4,\"size\":2.3333333333333335},\"mode\":\"markers\",\"x\":[0.875],\"xaxis\":\"x\",\"y\":[0.5],\"yaxis\":\"y\",\"type\":\"scatter\"},{\"hovertemplate\":\"govconsum: -0.82\",\"marker\":{\"color\":\"red\",\"opacity\":0.4,\"size\":19.16493301940729},\"mode\":\"markers\",\"x\":[0.125],\"xaxis\":\"x3\",\"y\":[0.5],\"yaxis\":\"y3\",\"type\":\"scatter\"},{\"hovertemplate\":\"marketcap: -0.42\",\"marker\":{\"color\":\"red\",\"opacity\":0.4,\"size\":9.915767123918789},\"mode\":\"markers\",\"x\":[0.375],\"xaxis\":\"x3\",\"y\":[0.5],\"yaxis\":\"y3\",\"type\":\"scatter\"},{\"hovertemplate\":\"houseconsum: -0.59\",\"marker\":{\"color\":\"red\",\"opacity\":0.4,\"size\":13.70244762124676},\"mode\":\"markers\",\"x\":[0.625],\"xaxis\":\"x3\",\"y\":[0.5],\"yaxis\":\"y3\",\"type\":\"scatter\"},{\"hovertemplate\":\"placeholder: 0.1\",\"marker\":{\"color\":\"green\",\"opacity\":0.4,\"size\":2.3333333333333335},\"mode\":\"markers\",\"x\":[0.875],\"xaxis\":\"x3\",\"y\":[0.5],\"yaxis\":\"y3\",\"type\":\"scatter\"},{\"hovertemplate\":\"agriculture: 0.52\",\"marker\":{\"color\":\"green\",\"opacity\":0.4,\"size\":12.232649640855607},\"mode\":\"markers\",\"x\":[0.25],\"xaxis\":\"x4\",\"y\":[0.5],\"yaxis\":\"y4\",\"type\":\"scatter\"},{\"hovertemplate\":\"industry: 0.88\",\"marker\":{\"color\":\"green\",\"opacity\":0.4,\"size\":20.468095165894837},\"mode\":\"markers\",\"x\":[0.5],\"xaxis\":\"x4\",\"y\":[0.5],\"yaxis\":\"y4\",\"type\":\"scatter\"},{\"hovertemplate\":\"services: -0.87\",\"marker\":{\"color\":\"red\",\"opacity\":0.4,\"size\":20.19103317750581},\"mode\":\"markers\",\"x\":[0.75],\"xaxis\":\"x4\",\"y\":[0.5],\"yaxis\":\"y4\",\"type\":\"scatter\"},{\"hovertemplate\":\"eci: nan\",\"marker\":{\"color\":\"grey\",\"opacity\":0.2,\"size\":7.0},\"mode\":\"markers\",\"x\":[0.125],\"xaxis\":\"x5\",\"y\":[0.5],\"yaxis\":\"y5\",\"type\":\"scatter\"},{\"hovertemplate\":\"exports: -0.13\",\"marker\":{\"color\":\"red\",\"opacity\":0.4,\"size\":3.024403202758537},\"mode\":\"markers\",\"x\":[0.375],\"xaxis\":\"x5\",\"y\":[0.5],\"yaxis\":\"y5\",\"type\":\"scatter\"},{\"hovertemplate\":\"resourcerents: -0.95\",\"marker\":{\"color\":\"red\",\"opacity\":0.4,\"size\":22.16920579609652},\"mode\":\"markers\",\"x\":[0.625],\"xaxis\":\"x5\",\"y\":[0.5],\"yaxis\":\"y5\",\"type\":\"scatter\"},{\"hovertemplate\":\"concentration: nan\",\"marker\":{\"color\":\"grey\",\"opacity\":0.2,\"size\":7.0},\"mode\":\"markers\",\"x\":[0.875],\"xaxis\":\"x5\",\"y\":[0.5],\"yaxis\":\"y5\",\"type\":\"scatter\"},{\"hovertemplate\":\"grosscapital: 1.02\",\"marker\":{\"color\":\"green\",\"opacity\":0.4,\"size\":23.739804732619177},\"mode\":\"markers\",\"x\":[0.125],\"xaxis\":\"x6\",\"y\":[0.5],\"yaxis\":\"y6\",\"type\":\"scatter\"},{\"hovertemplate\":\"lifeexpectancy: -0.29\",\"marker\":{\"color\":\"red\",\"opacity\":0.4,\"size\":6.769561115419743},\"mode\":\"markers\",\"x\":[0.375],\"xaxis\":\"x6\",\"y\":[0.5],\"yaxis\":\"y6\",\"type\":\"scatter\"},{\"hovertemplate\":\"education: 0.04\",\"marker\":{\"color\":\"green\",\"opacity\":0.4,\"size\":0.9643684927251004},\"mode\":\"markers\",\"x\":[0.625],\"xaxis\":\"x6\",\"y\":[0.5],\"yaxis\":\"y6\",\"type\":\"scatter\"},{\"hovertemplate\":\"mfootprint: -0.38\",\"marker\":{\"color\":\"red\",\"opacity\":0.4,\"size\":8.875623470220386},\"mode\":\"markers\",\"x\":[0.875],\"xaxis\":\"x6\",\"y\":[0.5],\"yaxis\":\"y6\",\"type\":\"scatter\"},{\"hovertemplate\":\"gini: nan\",\"marker\":{\"color\":\"grey\",\"opacity\":0.2,\"size\":7.0},\"mode\":\"markers\",\"x\":[0.5],\"xaxis\":\"x2\",\"y\":[0.2],\"yaxis\":\"y2\",\"type\":\"scatter\"},{\"hovertemplate\":\"voice: nan\",\"marker\":{\"color\":\"grey\",\"opacity\":0.2,\"size\":7.0},\"mode\":\"markers\",\"x\":[0.5],\"xaxis\":\"x2\",\"y\":[0.5],\"yaxis\":\"y2\",\"type\":\"scatter\"},{\"hovertemplate\":\"femaleminister: nan\",\"marker\":{\"color\":\"grey\",\"opacity\":0.2,\"size\":7.0},\"mode\":\"markers\",\"x\":[0.5],\"xaxis\":\"x2\",\"y\":[0.8],\"yaxis\":\"y2\",\"type\":\"scatter\"}],\"layout\":{\"annotations\":[{\"font\":{\"size\":18},\"showarrow\":false,\"text\":\"Year: 1986\",\"x\":0,\"xref\":\"paper\",\"y\":0.95,\"yref\":\"paper\"},{\"font\":{\"size\":18},\"showarrow\":false,\"text\":\"Country: Korea, Rep.\",\"x\":0,\"xref\":\"paper\",\"y\":0.85,\"yref\":\"paper\"}]},\"name\":\"1986\"},{\"data\":[{\"hovertemplate\":\"unemployed: nan\",\"marker\":{\"color\":\"grey\",\"opacity\":0.2,\"size\":7.0},\"mode\":\"markers\",\"x\":[0.125],\"xaxis\":\"x\",\"y\":[0.5],\"yaxis\":\"y\",\"type\":\"scatter\"},{\"hovertemplate\":\"wealth: nan\",\"marker\":{\"color\":\"grey\",\"opacity\":0.2,\"size\":7.0},\"mode\":\"markers\",\"x\":[0.375],\"xaxis\":\"x\",\"y\":[0.5],\"yaxis\":\"y\",\"type\":\"scatter\"},{\"hovertemplate\":\"energy: nan\",\"marker\":{\"color\":\"grey\",\"opacity\":0.2,\"size\":7.0},\"mode\":\"markers\",\"x\":[0.625],\"xaxis\":\"x\",\"y\":[0.5],\"yaxis\":\"y\",\"type\":\"scatter\"},{\"hovertemplate\":\"placeholder: 0.1\",\"marker\":{\"color\":\"green\",\"opacity\":0.4,\"size\":2.3333333333333335},\"mode\":\"markers\",\"x\":[0.875],\"xaxis\":\"x\",\"y\":[0.5],\"yaxis\":\"y\",\"type\":\"scatter\"},{\"hovertemplate\":\"govconsum: -0.85\",\"marker\":{\"color\":\"red\",\"opacity\":0.4,\"size\":19.910043676377207},\"mode\":\"markers\",\"x\":[0.125],\"xaxis\":\"x3\",\"y\":[0.5],\"yaxis\":\"y3\",\"type\":\"scatter\"},{\"hovertemplate\":\"marketcap: -0.35\",\"marker\":{\"color\":\"red\",\"opacity\":0.4,\"size\":8.079114450724102},\"mode\":\"markers\",\"x\":[0.375],\"xaxis\":\"x3\",\"y\":[0.5],\"yaxis\":\"y3\",\"type\":\"scatter\"},{\"hovertemplate\":\"houseconsum: -0.73\",\"marker\":{\"color\":\"red\",\"opacity\":0.4,\"size\":16.916915147410485},\"mode\":\"markers\",\"x\":[0.625],\"xaxis\":\"x3\",\"y\":[0.5],\"yaxis\":\"y3\",\"type\":\"scatter\"},{\"hovertemplate\":\"placeholder: 0.1\",\"marker\":{\"color\":\"green\",\"opacity\":0.4,\"size\":2.3333333333333335},\"mode\":\"markers\",\"x\":[0.875],\"xaxis\":\"x3\",\"y\":[0.5],\"yaxis\":\"y3\",\"type\":\"scatter\"},{\"hovertemplate\":\"agriculture: 0.44\",\"marker\":{\"color\":\"green\",\"opacity\":0.4,\"size\":10.358076687429937},\"mode\":\"markers\",\"x\":[0.25],\"xaxis\":\"x4\",\"y\":[0.5],\"yaxis\":\"y4\",\"type\":\"scatter\"},{\"hovertemplate\":\"industry: 0.94\",\"marker\":{\"color\":\"green\",\"opacity\":0.4,\"size\":21.921139913148156},\"mode\":\"markers\",\"x\":[0.5],\"xaxis\":\"x4\",\"y\":[0.5],\"yaxis\":\"y4\",\"type\":\"scatter\"},{\"hovertemplate\":\"services: -0.85\",\"marker\":{\"color\":\"red\",\"opacity\":0.4,\"size\":19.722331470506813},\"mode\":\"markers\",\"x\":[0.75],\"xaxis\":\"x4\",\"y\":[0.5],\"yaxis\":\"y4\",\"type\":\"scatter\"},{\"hovertemplate\":\"eci: nan\",\"marker\":{\"color\":\"grey\",\"opacity\":0.2,\"size\":7.0},\"mode\":\"markers\",\"x\":[0.125],\"xaxis\":\"x5\",\"y\":[0.5],\"yaxis\":\"y5\",\"type\":\"scatter\"},{\"hovertemplate\":\"exports: -0.0\",\"marker\":{\"color\":\"red\",\"opacity\":0.4,\"size\":0.08717940670471286},\"mode\":\"markers\",\"x\":[0.375],\"xaxis\":\"x5\",\"y\":[0.5],\"yaxis\":\"y5\",\"type\":\"scatter\"},{\"hovertemplate\":\"resourcerents: -1.19\",\"marker\":{\"color\":\"red\",\"opacity\":0.4,\"size\":27.860439190273258},\"mode\":\"markers\",\"x\":[0.625],\"xaxis\":\"x5\",\"y\":[0.5],\"yaxis\":\"y5\",\"type\":\"scatter\"},{\"hovertemplate\":\"concentration: nan\",\"marker\":{\"color\":\"grey\",\"opacity\":0.2,\"size\":7.0},\"mode\":\"markers\",\"x\":[0.875],\"xaxis\":\"x5\",\"y\":[0.5],\"yaxis\":\"y5\",\"type\":\"scatter\"},{\"hovertemplate\":\"grosscapital: 1.02\",\"marker\":{\"color\":\"green\",\"opacity\":0.4,\"size\":23.683449924459048},\"mode\":\"markers\",\"x\":[0.125],\"xaxis\":\"x6\",\"y\":[0.5],\"yaxis\":\"y6\",\"type\":\"scatter\"},{\"hovertemplate\":\"lifeexpectancy: -0.22\",\"marker\":{\"color\":\"red\",\"opacity\":0.4,\"size\":5.18645276278338},\"mode\":\"markers\",\"x\":[0.375],\"xaxis\":\"x6\",\"y\":[0.5],\"yaxis\":\"y6\",\"type\":\"scatter\"},{\"hovertemplate\":\"education: 0.12\",\"marker\":{\"color\":\"green\",\"opacity\":0.4,\"size\":2.807419141841016},\"mode\":\"markers\",\"x\":[0.625],\"xaxis\":\"x6\",\"y\":[0.5],\"yaxis\":\"y6\",\"type\":\"scatter\"},{\"hovertemplate\":\"mfootprint: -0.35\",\"marker\":{\"color\":\"red\",\"opacity\":0.4,\"size\":8.11357862480742},\"mode\":\"markers\",\"x\":[0.875],\"xaxis\":\"x6\",\"y\":[0.5],\"yaxis\":\"y6\",\"type\":\"scatter\"},{\"hovertemplate\":\"gini: nan\",\"marker\":{\"color\":\"grey\",\"opacity\":0.2,\"size\":7.0},\"mode\":\"markers\",\"x\":[0.5],\"xaxis\":\"x2\",\"y\":[0.2],\"yaxis\":\"y2\",\"type\":\"scatter\"},{\"hovertemplate\":\"voice: nan\",\"marker\":{\"color\":\"grey\",\"opacity\":0.2,\"size\":7.0},\"mode\":\"markers\",\"x\":[0.5],\"xaxis\":\"x2\",\"y\":[0.5],\"yaxis\":\"y2\",\"type\":\"scatter\"},{\"hovertemplate\":\"femaleminister: nan\",\"marker\":{\"color\":\"grey\",\"opacity\":0.2,\"size\":7.0},\"mode\":\"markers\",\"x\":[0.5],\"xaxis\":\"x2\",\"y\":[0.8],\"yaxis\":\"y2\",\"type\":\"scatter\"}],\"layout\":{\"annotations\":[{\"font\":{\"size\":18},\"showarrow\":false,\"text\":\"Year: 1987\",\"x\":0,\"xref\":\"paper\",\"y\":0.95,\"yref\":\"paper\"},{\"font\":{\"size\":18},\"showarrow\":false,\"text\":\"Country: Korea, Rep.\",\"x\":0,\"xref\":\"paper\",\"y\":0.85,\"yref\":\"paper\"}]},\"name\":\"1987\"},{\"data\":[{\"hovertemplate\":\"unemployed: nan\",\"marker\":{\"color\":\"grey\",\"opacity\":0.2,\"size\":7.0},\"mode\":\"markers\",\"x\":[0.125],\"xaxis\":\"x\",\"y\":[0.5],\"yaxis\":\"y\",\"type\":\"scatter\"},{\"hovertemplate\":\"wealth: nan\",\"marker\":{\"color\":\"grey\",\"opacity\":0.2,\"size\":7.0},\"mode\":\"markers\",\"x\":[0.375],\"xaxis\":\"x\",\"y\":[0.5],\"yaxis\":\"y\",\"type\":\"scatter\"},{\"hovertemplate\":\"energy: nan\",\"marker\":{\"color\":\"grey\",\"opacity\":0.2,\"size\":7.0},\"mode\":\"markers\",\"x\":[0.625],\"xaxis\":\"x\",\"y\":[0.5],\"yaxis\":\"y\",\"type\":\"scatter\"},{\"hovertemplate\":\"placeholder: 0.1\",\"marker\":{\"color\":\"green\",\"opacity\":0.4,\"size\":2.3333333333333335},\"mode\":\"markers\",\"x\":[0.875],\"xaxis\":\"x\",\"y\":[0.5],\"yaxis\":\"y\",\"type\":\"scatter\"},{\"hovertemplate\":\"govconsum: -0.86\",\"marker\":{\"color\":\"red\",\"opacity\":0.4,\"size\":20.09626174954053},\"mode\":\"markers\",\"x\":[0.125],\"xaxis\":\"x3\",\"y\":[0.5],\"yaxis\":\"y3\",\"type\":\"scatter\"},{\"hovertemplate\":\"marketcap: -0.16\",\"marker\":{\"color\":\"red\",\"opacity\":0.4,\"size\":3.6782909457074693},\"mode\":\"markers\",\"x\":[0.375],\"xaxis\":\"x3\",\"y\":[0.5],\"yaxis\":\"y3\",\"type\":\"scatter\"},{\"hovertemplate\":\"houseconsum: -0.83\",\"marker\":{\"color\":\"red\",\"opacity\":0.4,\"size\":19.3502309824263},\"mode\":\"markers\",\"x\":[0.625],\"xaxis\":\"x3\",\"y\":[0.5],\"yaxis\":\"y3\",\"type\":\"scatter\"},{\"hovertemplate\":\"placeholder: 0.1\",\"marker\":{\"color\":\"green\",\"opacity\":0.4,\"size\":2.3333333333333335},\"mode\":\"markers\",\"x\":[0.875],\"xaxis\":\"x3\",\"y\":[0.5],\"yaxis\":\"y3\",\"type\":\"scatter\"},{\"hovertemplate\":\"agriculture: 0.44\",\"marker\":{\"color\":\"green\",\"opacity\":0.4,\"size\":10.200890287655653},\"mode\":\"markers\",\"x\":[0.25],\"xaxis\":\"x4\",\"y\":[0.5],\"yaxis\":\"y4\",\"type\":\"scatter\"},{\"hovertemplate\":\"industry: 0.98\",\"marker\":{\"color\":\"green\",\"opacity\":0.4,\"size\":22.770646567811756},\"mode\":\"markers\",\"x\":[0.5],\"xaxis\":\"x4\",\"y\":[0.5],\"yaxis\":\"y4\",\"type\":\"scatter\"},{\"hovertemplate\":\"services: -0.87\",\"marker\":{\"color\":\"red\",\"opacity\":0.4,\"size\":20.27148983708352},\"mode\":\"markers\",\"x\":[0.75],\"xaxis\":\"x4\",\"y\":[0.5],\"yaxis\":\"y4\",\"type\":\"scatter\"},{\"hovertemplate\":\"eci: nan\",\"marker\":{\"color\":\"grey\",\"opacity\":0.2,\"size\":7.0},\"mode\":\"markers\",\"x\":[0.125],\"xaxis\":\"x5\",\"y\":[0.5],\"yaxis\":\"y5\",\"type\":\"scatter\"},{\"hovertemplate\":\"exports: -0.11\",\"marker\":{\"color\":\"red\",\"opacity\":0.4,\"size\":2.4673370488133965},\"mode\":\"markers\",\"x\":[0.375],\"xaxis\":\"x5\",\"y\":[0.5],\"yaxis\":\"y5\",\"type\":\"scatter\"},{\"hovertemplate\":\"resourcerents: -1.02\",\"marker\":{\"color\":\"red\",\"opacity\":0.4,\"size\":23.84828458983994},\"mode\":\"markers\",\"x\":[0.625],\"xaxis\":\"x5\",\"y\":[0.5],\"yaxis\":\"y5\",\"type\":\"scatter\"},{\"hovertemplate\":\"concentration: 2.26\",\"marker\":{\"color\":\"green\",\"opacity\":0.4520153609373597,\"size\":52.735125442691974},\"mode\":\"markers\",\"x\":[0.875],\"xaxis\":\"x5\",\"y\":[0.5],\"yaxis\":\"y5\",\"type\":\"scatter\"},{\"hovertemplate\":\"grosscapital: 1.2\",\"marker\":{\"color\":\"green\",\"opacity\":0.4,\"size\":27.956978132795754},\"mode\":\"markers\",\"x\":[0.125],\"xaxis\":\"x6\",\"y\":[0.5],\"yaxis\":\"y6\",\"type\":\"scatter\"},{\"hovertemplate\":\"lifeexpectancy: -0.15\",\"marker\":{\"color\":\"red\",\"opacity\":0.4,\"size\":3.603344410147301},\"mode\":\"markers\",\"x\":[0.375],\"xaxis\":\"x6\",\"y\":[0.5],\"yaxis\":\"y6\",\"type\":\"scatter\"},{\"hovertemplate\":\"education: 0.11\",\"marker\":{\"color\":\"green\",\"opacity\":0.4,\"size\":2.677090722886485},\"mode\":\"markers\",\"x\":[0.625],\"xaxis\":\"x6\",\"y\":[0.5],\"yaxis\":\"y6\",\"type\":\"scatter\"},{\"hovertemplate\":\"mfootprint: -0.31\",\"marker\":{\"color\":\"red\",\"opacity\":0.4,\"size\":7.205534533310664},\"mode\":\"markers\",\"x\":[0.875],\"xaxis\":\"x6\",\"y\":[0.5],\"yaxis\":\"y6\",\"type\":\"scatter\"},{\"hovertemplate\":\"gini: nan\",\"marker\":{\"color\":\"grey\",\"opacity\":0.2,\"size\":7.0},\"mode\":\"markers\",\"x\":[0.5],\"xaxis\":\"x2\",\"y\":[0.2],\"yaxis\":\"y2\",\"type\":\"scatter\"},{\"hovertemplate\":\"voice: nan\",\"marker\":{\"color\":\"grey\",\"opacity\":0.2,\"size\":7.0},\"mode\":\"markers\",\"x\":[0.5],\"xaxis\":\"x2\",\"y\":[0.5],\"yaxis\":\"y2\",\"type\":\"scatter\"},{\"hovertemplate\":\"femaleminister: nan\",\"marker\":{\"color\":\"grey\",\"opacity\":0.2,\"size\":7.0},\"mode\":\"markers\",\"x\":[0.5],\"xaxis\":\"x2\",\"y\":[0.8],\"yaxis\":\"y2\",\"type\":\"scatter\"}],\"layout\":{\"annotations\":[{\"font\":{\"size\":18},\"showarrow\":false,\"text\":\"Year: 1988\",\"x\":0,\"xref\":\"paper\",\"y\":0.95,\"yref\":\"paper\"},{\"font\":{\"size\":18},\"showarrow\":false,\"text\":\"Country: Korea, Rep.\",\"x\":0,\"xref\":\"paper\",\"y\":0.85,\"yref\":\"paper\"}]},\"name\":\"1988\"},{\"data\":[{\"hovertemplate\":\"unemployed: nan\",\"marker\":{\"color\":\"grey\",\"opacity\":0.2,\"size\":7.0},\"mode\":\"markers\",\"x\":[0.125],\"xaxis\":\"x\",\"y\":[0.5],\"yaxis\":\"y\",\"type\":\"scatter\"},{\"hovertemplate\":\"wealth: nan\",\"marker\":{\"color\":\"grey\",\"opacity\":0.2,\"size\":7.0},\"mode\":\"markers\",\"x\":[0.375],\"xaxis\":\"x\",\"y\":[0.5],\"yaxis\":\"y\",\"type\":\"scatter\"},{\"hovertemplate\":\"energy: nan\",\"marker\":{\"color\":\"grey\",\"opacity\":0.2,\"size\":7.0},\"mode\":\"markers\",\"x\":[0.625],\"xaxis\":\"x\",\"y\":[0.5],\"yaxis\":\"y\",\"type\":\"scatter\"},{\"hovertemplate\":\"placeholder: 0.1\",\"marker\":{\"color\":\"green\",\"opacity\":0.4,\"size\":2.3333333333333335},\"mode\":\"markers\",\"x\":[0.875],\"xaxis\":\"x\",\"y\":[0.5],\"yaxis\":\"y\",\"type\":\"scatter\"},{\"hovertemplate\":\"govconsum: -0.77\",\"marker\":{\"color\":\"red\",\"opacity\":0.4,\"size\":17.854030078852766},\"mode\":\"markers\",\"x\":[0.125],\"xaxis\":\"x3\",\"y\":[0.5],\"yaxis\":\"y3\",\"type\":\"scatter\"},{\"hovertemplate\":\"marketcap: -0.08\",\"marker\":{\"color\":\"red\",\"opacity\":0.4,\"size\":1.9802533559416091},\"mode\":\"markers\",\"x\":[0.375],\"xaxis\":\"x3\",\"y\":[0.5],\"yaxis\":\"y3\",\"type\":\"scatter\"},{\"hovertemplate\":\"houseconsum: -0.73\",\"marker\":{\"color\":\"red\",\"opacity\":0.4,\"size\":17.123068909063832},\"mode\":\"markers\",\"x\":[0.625],\"xaxis\":\"x3\",\"y\":[0.5],\"yaxis\":\"y3\",\"type\":\"scatter\"},{\"hovertemplate\":\"placeholder: 0.1\",\"marker\":{\"color\":\"green\",\"opacity\":0.4,\"size\":2.3333333333333335},\"mode\":\"markers\",\"x\":[0.875],\"xaxis\":\"x3\",\"y\":[0.5],\"yaxis\":\"y3\",\"type\":\"scatter\"},{\"hovertemplate\":\"agriculture: 0.38\",\"marker\":{\"color\":\"green\",\"opacity\":0.4,\"size\":8.936793250244888},\"mode\":\"markers\",\"x\":[0.25],\"xaxis\":\"x4\",\"y\":[0.5],\"yaxis\":\"y4\",\"type\":\"scatter\"},{\"hovertemplate\":\"industry: 0.95\",\"marker\":{\"color\":\"green\",\"opacity\":0.4,\"size\":22.221513653826488},\"mode\":\"markers\",\"x\":[0.5],\"xaxis\":\"x4\",\"y\":[0.5],\"yaxis\":\"y4\",\"type\":\"scatter\"},{\"hovertemplate\":\"services: -0.73\",\"marker\":{\"color\":\"red\",\"opacity\":0.4,\"size\":16.98878143337512},\"mode\":\"markers\",\"x\":[0.75],\"xaxis\":\"x4\",\"y\":[0.5],\"yaxis\":\"y4\",\"type\":\"scatter\"},{\"hovertemplate\":\"eci: nan\",\"marker\":{\"color\":\"grey\",\"opacity\":0.2,\"size\":7.0},\"mode\":\"markers\",\"x\":[0.125],\"xaxis\":\"x5\",\"y\":[0.5],\"yaxis\":\"y5\",\"type\":\"scatter\"},{\"hovertemplate\":\"exports: -0.36\",\"marker\":{\"color\":\"red\",\"opacity\":0.4,\"size\":8.383815625581477},\"mode\":\"markers\",\"x\":[0.375],\"xaxis\":\"x5\",\"y\":[0.5],\"yaxis\":\"y5\",\"type\":\"scatter\"},{\"hovertemplate\":\"resourcerents: -1.05\",\"marker\":{\"color\":\"red\",\"opacity\":0.4,\"size\":24.386159846018984},\"mode\":\"markers\",\"x\":[0.625],\"xaxis\":\"x5\",\"y\":[0.5],\"yaxis\":\"y5\",\"type\":\"scatter\"},{\"hovertemplate\":\"concentration: 0.95\",\"marker\":{\"color\":\"green\",\"opacity\":0.4,\"size\":22.25966688922516},\"mode\":\"markers\",\"x\":[0.875],\"xaxis\":\"x5\",\"y\":[0.5],\"yaxis\":\"y5\",\"type\":\"scatter\"},{\"hovertemplate\":\"grosscapital: 1.35\",\"marker\":{\"color\":\"green\",\"opacity\":0.4,\"size\":31.387785304174095},\"mode\":\"markers\",\"x\":[0.125],\"xaxis\":\"x6\",\"y\":[0.5],\"yaxis\":\"y6\",\"type\":\"scatter\"},{\"hovertemplate\":\"lifeexpectancy: -0.09\",\"marker\":{\"color\":\"red\",\"opacity\":0.4,\"size\":2.1673390460304582},\"mode\":\"markers\",\"x\":[0.375],\"xaxis\":\"x6\",\"y\":[0.5],\"yaxis\":\"y6\",\"type\":\"scatter\"},{\"hovertemplate\":\"education: 0.17\",\"marker\":{\"color\":\"green\",\"opacity\":0.4,\"size\":3.9248684753301166},\"mode\":\"markers\",\"x\":[0.625],\"xaxis\":\"x6\",\"y\":[0.5],\"yaxis\":\"y6\",\"type\":\"scatter\"},{\"hovertemplate\":\"mfootprint: -0.28\",\"marker\":{\"color\":\"red\",\"opacity\":0.4,\"size\":6.45384883617859},\"mode\":\"markers\",\"x\":[0.875],\"xaxis\":\"x6\",\"y\":[0.5],\"yaxis\":\"y6\",\"type\":\"scatter\"},{\"hovertemplate\":\"gini: nan\",\"marker\":{\"color\":\"grey\",\"opacity\":0.2,\"size\":7.0},\"mode\":\"markers\",\"x\":[0.5],\"xaxis\":\"x2\",\"y\":[0.2],\"yaxis\":\"y2\",\"type\":\"scatter\"},{\"hovertemplate\":\"voice: nan\",\"marker\":{\"color\":\"grey\",\"opacity\":0.2,\"size\":7.0},\"mode\":\"markers\",\"x\":[0.5],\"xaxis\":\"x2\",\"y\":[0.5],\"yaxis\":\"y2\",\"type\":\"scatter\"},{\"hovertemplate\":\"femaleminister: nan\",\"marker\":{\"color\":\"grey\",\"opacity\":0.2,\"size\":7.0},\"mode\":\"markers\",\"x\":[0.5],\"xaxis\":\"x2\",\"y\":[0.8],\"yaxis\":\"y2\",\"type\":\"scatter\"}],\"layout\":{\"annotations\":[{\"font\":{\"size\":18},\"showarrow\":false,\"text\":\"Year: 1989\",\"x\":0,\"xref\":\"paper\",\"y\":0.95,\"yref\":\"paper\"},{\"font\":{\"size\":18},\"showarrow\":false,\"text\":\"Country: Korea, Rep.\",\"x\":0,\"xref\":\"paper\",\"y\":0.85,\"yref\":\"paper\"}]},\"name\":\"1989\"},{\"data\":[{\"hovertemplate\":\"unemployed: nan\",\"marker\":{\"color\":\"grey\",\"opacity\":0.2,\"size\":7.0},\"mode\":\"markers\",\"x\":[0.125],\"xaxis\":\"x\",\"y\":[0.5],\"yaxis\":\"y\",\"type\":\"scatter\"},{\"hovertemplate\":\"wealth: nan\",\"marker\":{\"color\":\"grey\",\"opacity\":0.2,\"size\":7.0},\"mode\":\"markers\",\"x\":[0.375],\"xaxis\":\"x\",\"y\":[0.5],\"yaxis\":\"y\",\"type\":\"scatter\"},{\"hovertemplate\":\"energy: nan\",\"marker\":{\"color\":\"grey\",\"opacity\":0.2,\"size\":7.0},\"mode\":\"markers\",\"x\":[0.625],\"xaxis\":\"x\",\"y\":[0.5],\"yaxis\":\"y\",\"type\":\"scatter\"},{\"hovertemplate\":\"placeholder: 0.1\",\"marker\":{\"color\":\"green\",\"opacity\":0.4,\"size\":2.3333333333333335},\"mode\":\"markers\",\"x\":[0.875],\"xaxis\":\"x\",\"y\":[0.5],\"yaxis\":\"y\",\"type\":\"scatter\"},{\"hovertemplate\":\"govconsum: -0.74\",\"marker\":{\"color\":\"red\",\"opacity\":0.4,\"size\":17.27276659954458},\"mode\":\"markers\",\"x\":[0.125],\"xaxis\":\"x3\",\"y\":[0.5],\"yaxis\":\"y3\",\"type\":\"scatter\"},{\"hovertemplate\":\"marketcap: -0.22\",\"marker\":{\"color\":\"red\",\"opacity\":0.4,\"size\":5.1507594003921175},\"mode\":\"markers\",\"x\":[0.375],\"xaxis\":\"x3\",\"y\":[0.5],\"yaxis\":\"y3\",\"type\":\"scatter\"},{\"hovertemplate\":\"houseconsum: -0.75\",\"marker\":{\"color\":\"red\",\"opacity\":0.4,\"size\":17.60563612834991},\"mode\":\"markers\",\"x\":[0.625],\"xaxis\":\"x3\",\"y\":[0.5],\"yaxis\":\"y3\",\"type\":\"scatter\"},{\"hovertemplate\":\"placeholder: 0.1\",\"marker\":{\"color\":\"green\",\"opacity\":0.4,\"size\":2.3333333333333335},\"mode\":\"markers\",\"x\":[0.875],\"xaxis\":\"x3\",\"y\":[0.5],\"yaxis\":\"y3\",\"type\":\"scatter\"},{\"hovertemplate\":\"agriculture: 0.3\",\"marker\":{\"color\":\"green\",\"opacity\":0.4,\"size\":7.022194420701978},\"mode\":\"markers\",\"x\":[0.25],\"xaxis\":\"x4\",\"y\":[0.5],\"yaxis\":\"y4\",\"type\":\"scatter\"},{\"hovertemplate\":\"industry: 0.96\",\"marker\":{\"color\":\"green\",\"opacity\":0.4,\"size\":22.41760783834451},\"mode\":\"markers\",\"x\":[0.5],\"xaxis\":\"x4\",\"y\":[0.5],\"yaxis\":\"y4\",\"type\":\"scatter\"},{\"hovertemplate\":\"services: -0.71\",\"marker\":{\"color\":\"red\",\"opacity\":0.4,\"size\":16.613789129713084},\"mode\":\"markers\",\"x\":[0.75],\"xaxis\":\"x4\",\"y\":[0.5],\"yaxis\":\"y4\",\"type\":\"scatter\"},{\"hovertemplate\":\"eci: nan\",\"marker\":{\"color\":\"grey\",\"opacity\":0.2,\"size\":7.0},\"mode\":\"markers\",\"x\":[0.125],\"xaxis\":\"x5\",\"y\":[0.5],\"yaxis\":\"y5\",\"type\":\"scatter\"},{\"hovertemplate\":\"exports: -0.49\",\"marker\":{\"color\":\"red\",\"opacity\":0.4,\"size\":11.494904815473536},\"mode\":\"markers\",\"x\":[0.375],\"xaxis\":\"x5\",\"y\":[0.5],\"yaxis\":\"y5\",\"type\":\"scatter\"},{\"hovertemplate\":\"resourcerents: -1.18\",\"marker\":{\"color\":\"red\",\"opacity\":0.4,\"size\":27.582324199584615},\"mode\":\"markers\",\"x\":[0.625],\"xaxis\":\"x5\",\"y\":[0.5],\"yaxis\":\"y5\",\"type\":\"scatter\"},{\"hovertemplate\":\"concentration: 0.49\",\"marker\":{\"color\":\"green\",\"opacity\":0.4,\"size\":11.455869734873827},\"mode\":\"markers\",\"x\":[0.875],\"xaxis\":\"x5\",\"y\":[0.5],\"yaxis\":\"y5\",\"type\":\"scatter\"},{\"hovertemplate\":\"grosscapital: 1.55\",\"marker\":{\"color\":\"green\",\"opacity\":0.4,\"size\":36.19250633833859},\"mode\":\"markers\",\"x\":[0.125],\"xaxis\":\"x6\",\"y\":[0.5],\"yaxis\":\"y6\",\"type\":\"scatter\"},{\"hovertemplate\":\"lifeexpectancy: -0.03\",\"marker\":{\"color\":\"red\",\"opacity\":0.4,\"size\":0.5912355976094966},\"mode\":\"markers\",\"x\":[0.375],\"xaxis\":\"x6\",\"y\":[0.5],\"yaxis\":\"y6\",\"type\":\"scatter\"},{\"hovertemplate\":\"education: 0.18\",\"marker\":{\"color\":\"green\",\"opacity\":0.4,\"size\":4.166724849680852},\"mode\":\"markers\",\"x\":[0.625],\"xaxis\":\"x6\",\"y\":[0.5],\"yaxis\":\"y6\",\"type\":\"scatter\"},{\"hovertemplate\":\"mfootprint: -0.2\",\"marker\":{\"color\":\"red\",\"opacity\":0.4,\"size\":4.7034765000919725},\"mode\":\"markers\",\"x\":[0.875],\"xaxis\":\"x6\",\"y\":[0.5],\"yaxis\":\"y6\",\"type\":\"scatter\"},{\"hovertemplate\":\"gini: nan\",\"marker\":{\"color\":\"grey\",\"opacity\":0.2,\"size\":7.0},\"mode\":\"markers\",\"x\":[0.5],\"xaxis\":\"x2\",\"y\":[0.2],\"yaxis\":\"y2\",\"type\":\"scatter\"},{\"hovertemplate\":\"voice: nan\",\"marker\":{\"color\":\"grey\",\"opacity\":0.2,\"size\":7.0},\"mode\":\"markers\",\"x\":[0.5],\"xaxis\":\"x2\",\"y\":[0.5],\"yaxis\":\"y2\",\"type\":\"scatter\"},{\"hovertemplate\":\"femaleminister: nan\",\"marker\":{\"color\":\"grey\",\"opacity\":0.2,\"size\":7.0},\"mode\":\"markers\",\"x\":[0.5],\"xaxis\":\"x2\",\"y\":[0.8],\"yaxis\":\"y2\",\"type\":\"scatter\"}],\"layout\":{\"annotations\":[{\"font\":{\"size\":18},\"showarrow\":false,\"text\":\"Year: 1990\",\"x\":0,\"xref\":\"paper\",\"y\":0.95,\"yref\":\"paper\"},{\"font\":{\"size\":18},\"showarrow\":false,\"text\":\"Country: Korea, Rep.\",\"x\":0,\"xref\":\"paper\",\"y\":0.85,\"yref\":\"paper\"}]},\"name\":\"1990\"},{\"data\":[{\"hovertemplate\":\"unemployed: -1.14\",\"marker\":{\"color\":\"green\",\"opacity\":0.4,\"size\":26.644348896362022},\"mode\":\"markers\",\"x\":[0.125],\"xaxis\":\"x\",\"y\":[0.5],\"yaxis\":\"y\",\"type\":\"scatter\"},{\"hovertemplate\":\"wealth: nan\",\"marker\":{\"color\":\"grey\",\"opacity\":0.2,\"size\":7.0},\"mode\":\"markers\",\"x\":[0.375],\"xaxis\":\"x\",\"y\":[0.5],\"yaxis\":\"y\",\"type\":\"scatter\"},{\"hovertemplate\":\"energy: nan\",\"marker\":{\"color\":\"grey\",\"opacity\":0.2,\"size\":7.0},\"mode\":\"markers\",\"x\":[0.625],\"xaxis\":\"x\",\"y\":[0.5],\"yaxis\":\"y\",\"type\":\"scatter\"},{\"hovertemplate\":\"placeholder: 0.1\",\"marker\":{\"color\":\"green\",\"opacity\":0.4,\"size\":2.3333333333333335},\"mode\":\"markers\",\"x\":[0.875],\"xaxis\":\"x\",\"y\":[0.5],\"yaxis\":\"y\",\"type\":\"scatter\"},{\"hovertemplate\":\"govconsum: -0.77\",\"marker\":{\"color\":\"red\",\"opacity\":0.4,\"size\":17.86170308675055},\"mode\":\"markers\",\"x\":[0.125],\"xaxis\":\"x3\",\"y\":[0.5],\"yaxis\":\"y3\",\"type\":\"scatter\"},{\"hovertemplate\":\"marketcap: -0.29\",\"marker\":{\"color\":\"red\",\"opacity\":0.4,\"size\":6.871031168632777},\"mode\":\"markers\",\"x\":[0.375],\"xaxis\":\"x3\",\"y\":[0.5],\"yaxis\":\"y3\",\"type\":\"scatter\"},{\"hovertemplate\":\"houseconsum: -0.75\",\"marker\":{\"color\":\"red\",\"opacity\":0.4,\"size\":17.472992806044342},\"mode\":\"markers\",\"x\":[0.625],\"xaxis\":\"x3\",\"y\":[0.5],\"yaxis\":\"y3\",\"type\":\"scatter\"},{\"hovertemplate\":\"placeholder: 0.1\",\"marker\":{\"color\":\"green\",\"opacity\":0.4,\"size\":2.3333333333333335},\"mode\":\"markers\",\"x\":[0.875],\"xaxis\":\"x3\",\"y\":[0.5],\"yaxis\":\"y3\",\"type\":\"scatter\"},{\"hovertemplate\":\"agriculture: 0.22\",\"marker\":{\"color\":\"green\",\"opacity\":0.4,\"size\":5.230655710485774},\"mode\":\"markers\",\"x\":[0.25],\"xaxis\":\"x4\",\"y\":[0.5],\"yaxis\":\"y4\",\"type\":\"scatter\"},{\"hovertemplate\":\"industry: 1.01\",\"marker\":{\"color\":\"green\",\"opacity\":0.4,\"size\":23.495750669662044},\"mode\":\"markers\",\"x\":[0.5],\"xaxis\":\"x4\",\"y\":[0.5],\"yaxis\":\"y4\",\"type\":\"scatter\"},{\"hovertemplate\":\"services: -0.65\",\"marker\":{\"color\":\"red\",\"opacity\":0.4,\"size\":15.239649840177034},\"mode\":\"markers\",\"x\":[0.75],\"xaxis\":\"x4\",\"y\":[0.5],\"yaxis\":\"y4\",\"type\":\"scatter\"},{\"hovertemplate\":\"eci: nan\",\"marker\":{\"color\":\"grey\",\"opacity\":0.2,\"size\":7.0},\"mode\":\"markers\",\"x\":[0.125],\"xaxis\":\"x5\",\"y\":[0.5],\"yaxis\":\"y5\",\"type\":\"scatter\"},{\"hovertemplate\":\"exports: -0.57\",\"marker\":{\"color\":\"red\",\"opacity\":0.4,\"size\":13.214244099436486},\"mode\":\"markers\",\"x\":[0.375],\"xaxis\":\"x5\",\"y\":[0.5],\"yaxis\":\"y5\",\"type\":\"scatter\"},{\"hovertemplate\":\"resourcerents: -1.33\",\"marker\":{\"color\":\"red\",\"opacity\":0.4,\"size\":31.010038528832812},\"mode\":\"markers\",\"x\":[0.625],\"xaxis\":\"x5\",\"y\":[0.5],\"yaxis\":\"y5\",\"type\":\"scatter\"},{\"hovertemplate\":\"concentration: 0.36\",\"marker\":{\"color\":\"green\",\"opacity\":0.4,\"size\":8.329732926196384},\"mode\":\"markers\",\"x\":[0.875],\"xaxis\":\"x5\",\"y\":[0.5],\"yaxis\":\"y5\",\"type\":\"scatter\"},{\"hovertemplate\":\"grosscapital: 1.67\",\"marker\":{\"color\":\"green\",\"opacity\":0.4,\"size\":38.879327565180766},\"mode\":\"markers\",\"x\":[0.125],\"xaxis\":\"x6\",\"y\":[0.5],\"yaxis\":\"y6\",\"type\":\"scatter\"},{\"hovertemplate\":\"lifeexpectancy: 0.03\",\"marker\":{\"color\":\"green\",\"opacity\":0.4,\"size\":0.6976667779878675},\"mode\":\"markers\",\"x\":[0.375],\"xaxis\":\"x6\",\"y\":[0.5],\"yaxis\":\"y6\",\"type\":\"scatter\"},{\"hovertemplate\":\"education: 0.18\",\"marker\":{\"color\":\"green\",\"opacity\":0.4,\"size\":4.150306636641911},\"mode\":\"markers\",\"x\":[0.625],\"xaxis\":\"x6\",\"y\":[0.5],\"yaxis\":\"y6\",\"type\":\"scatter\"},{\"hovertemplate\":\"mfootprint: -0.03\",\"marker\":{\"color\":\"red\",\"opacity\":0.4,\"size\":0.751137707548691},\"mode\":\"markers\",\"x\":[0.875],\"xaxis\":\"x6\",\"y\":[0.5],\"yaxis\":\"y6\",\"type\":\"scatter\"},{\"hovertemplate\":\"gini: nan\",\"marker\":{\"color\":\"grey\",\"opacity\":0.2,\"size\":7.0},\"mode\":\"markers\",\"x\":[0.5],\"xaxis\":\"x2\",\"y\":[0.2],\"yaxis\":\"y2\",\"type\":\"scatter\"},{\"hovertemplate\":\"voice: nan\",\"marker\":{\"color\":\"grey\",\"opacity\":0.2,\"size\":7.0},\"mode\":\"markers\",\"x\":[0.5],\"xaxis\":\"x2\",\"y\":[0.5],\"yaxis\":\"y2\",\"type\":\"scatter\"},{\"hovertemplate\":\"femaleminister: nan\",\"marker\":{\"color\":\"grey\",\"opacity\":0.2,\"size\":7.0},\"mode\":\"markers\",\"x\":[0.5],\"xaxis\":\"x2\",\"y\":[0.8],\"yaxis\":\"y2\",\"type\":\"scatter\"}],\"layout\":{\"annotations\":[{\"font\":{\"size\":18},\"showarrow\":false,\"text\":\"Year: 1991\",\"x\":0,\"xref\":\"paper\",\"y\":0.95,\"yref\":\"paper\"},{\"font\":{\"size\":18},\"showarrow\":false,\"text\":\"Country: Korea, Rep.\",\"x\":0,\"xref\":\"paper\",\"y\":0.85,\"yref\":\"paper\"}]},\"name\":\"1991\"},{\"data\":[{\"hovertemplate\":\"unemployed: -1.1\",\"marker\":{\"color\":\"green\",\"opacity\":0.4,\"size\":25.57893923952512},\"mode\":\"markers\",\"x\":[0.125],\"xaxis\":\"x\",\"y\":[0.5],\"yaxis\":\"y\",\"type\":\"scatter\"},{\"hovertemplate\":\"wealth: nan\",\"marker\":{\"color\":\"grey\",\"opacity\":0.2,\"size\":7.0},\"mode\":\"markers\",\"x\":[0.375],\"xaxis\":\"x\",\"y\":[0.5],\"yaxis\":\"y\",\"type\":\"scatter\"},{\"hovertemplate\":\"energy: nan\",\"marker\":{\"color\":\"grey\",\"opacity\":0.2,\"size\":7.0},\"mode\":\"markers\",\"x\":[0.625],\"xaxis\":\"x\",\"y\":[0.5],\"yaxis\":\"y\",\"type\":\"scatter\"},{\"hovertemplate\":\"placeholder: 0.1\",\"marker\":{\"color\":\"green\",\"opacity\":0.4,\"size\":2.3333333333333335},\"mode\":\"markers\",\"x\":[0.875],\"xaxis\":\"x\",\"y\":[0.5],\"yaxis\":\"y\",\"type\":\"scatter\"},{\"hovertemplate\":\"govconsum: -0.73\",\"marker\":{\"color\":\"red\",\"opacity\":0.4,\"size\":17.040725673113847},\"mode\":\"markers\",\"x\":[0.125],\"xaxis\":\"x3\",\"y\":[0.5],\"yaxis\":\"y3\",\"type\":\"scatter\"},{\"hovertemplate\":\"marketcap: -0.29\",\"marker\":{\"color\":\"red\",\"opacity\":0.4,\"size\":6.675635826364246},\"mode\":\"markers\",\"x\":[0.375],\"xaxis\":\"x3\",\"y\":[0.5],\"yaxis\":\"y3\",\"type\":\"scatter\"},{\"hovertemplate\":\"houseconsum: -0.72\",\"marker\":{\"color\":\"red\",\"opacity\":0.4,\"size\":16.70209820006548},\"mode\":\"markers\",\"x\":[0.625],\"xaxis\":\"x3\",\"y\":[0.5],\"yaxis\":\"y3\",\"type\":\"scatter\"},{\"hovertemplate\":\"placeholder: 0.1\",\"marker\":{\"color\":\"green\",\"opacity\":0.4,\"size\":2.3333333333333335},\"mode\":\"markers\",\"x\":[0.875],\"xaxis\":\"x3\",\"y\":[0.5],\"yaxis\":\"y3\",\"type\":\"scatter\"},{\"hovertemplate\":\"agriculture: 0.2\",\"marker\":{\"color\":\"green\",\"opacity\":0.4,\"size\":4.697306925657167},\"mode\":\"markers\",\"x\":[0.25],\"xaxis\":\"x4\",\"y\":[0.5],\"yaxis\":\"y4\",\"type\":\"scatter\"},{\"hovertemplate\":\"industry: 0.94\",\"marker\":{\"color\":\"green\",\"opacity\":0.4,\"size\":21.83246393380672},\"mode\":\"markers\",\"x\":[0.5],\"xaxis\":\"x4\",\"y\":[0.5],\"yaxis\":\"y4\",\"type\":\"scatter\"},{\"hovertemplate\":\"services: -0.53\",\"marker\":{\"color\":\"red\",\"opacity\":0.4,\"size\":12.476982240828077},\"mode\":\"markers\",\"x\":[0.75],\"xaxis\":\"x4\",\"y\":[0.5],\"yaxis\":\"y4\",\"type\":\"scatter\"},{\"hovertemplate\":\"eci: nan\",\"marker\":{\"color\":\"grey\",\"opacity\":0.2,\"size\":7.0},\"mode\":\"markers\",\"x\":[0.125],\"xaxis\":\"x5\",\"y\":[0.5],\"yaxis\":\"y5\",\"type\":\"scatter\"},{\"hovertemplate\":\"exports: -0.55\",\"marker\":{\"color\":\"red\",\"opacity\":0.4,\"size\":12.788626155361717},\"mode\":\"markers\",\"x\":[0.375],\"xaxis\":\"x5\",\"y\":[0.5],\"yaxis\":\"y5\",\"type\":\"scatter\"},{\"hovertemplate\":\"resourcerents: -1.39\",\"marker\":{\"color\":\"red\",\"opacity\":0.4,\"size\":32.51048444715574},\"mode\":\"markers\",\"x\":[0.625],\"xaxis\":\"x5\",\"y\":[0.5],\"yaxis\":\"y5\",\"type\":\"scatter\"},{\"hovertemplate\":\"concentration: 0.04\",\"marker\":{\"color\":\"green\",\"opacity\":0.4,\"size\":0.8229338189989295},\"mode\":\"markers\",\"x\":[0.875],\"xaxis\":\"x5\",\"y\":[0.5],\"yaxis\":\"y5\",\"type\":\"scatter\"},{\"hovertemplate\":\"grosscapital: 1.49\",\"marker\":{\"color\":\"green\",\"opacity\":0.4,\"size\":34.84892072050457},\"mode\":\"markers\",\"x\":[0.125],\"xaxis\":\"x6\",\"y\":[0.5],\"yaxis\":\"y6\",\"type\":\"scatter\"},{\"hovertemplate\":\"lifeexpectancy: 0.09\",\"marker\":{\"color\":\"green\",\"opacity\":0.4,\"size\":1.9935740578008376},\"mode\":\"markers\",\"x\":[0.375],\"xaxis\":\"x6\",\"y\":[0.5],\"yaxis\":\"y6\",\"type\":\"scatter\"},{\"hovertemplate\":\"education: 0.16\",\"marker\":{\"color\":\"green\",\"opacity\":0.4,\"size\":3.70615856210686},\"mode\":\"markers\",\"x\":[0.625],\"xaxis\":\"x6\",\"y\":[0.5],\"yaxis\":\"y6\",\"type\":\"scatter\"},{\"hovertemplate\":\"mfootprint: 0.04\",\"marker\":{\"color\":\"green\",\"opacity\":0.4,\"size\":1.0398619132020426},\"mode\":\"markers\",\"x\":[0.875],\"xaxis\":\"x6\",\"y\":[0.5],\"yaxis\":\"y6\",\"type\":\"scatter\"},{\"hovertemplate\":\"gini: nan\",\"marker\":{\"color\":\"grey\",\"opacity\":0.2,\"size\":7.0},\"mode\":\"markers\",\"x\":[0.5],\"xaxis\":\"x2\",\"y\":[0.2],\"yaxis\":\"y2\",\"type\":\"scatter\"},{\"hovertemplate\":\"voice: nan\",\"marker\":{\"color\":\"grey\",\"opacity\":0.2,\"size\":7.0},\"mode\":\"markers\",\"x\":[0.5],\"xaxis\":\"x2\",\"y\":[0.5],\"yaxis\":\"y2\",\"type\":\"scatter\"},{\"hovertemplate\":\"femaleminister: nan\",\"marker\":{\"color\":\"grey\",\"opacity\":0.2,\"size\":7.0},\"mode\":\"markers\",\"x\":[0.5],\"xaxis\":\"x2\",\"y\":[0.8],\"yaxis\":\"y2\",\"type\":\"scatter\"}],\"layout\":{\"annotations\":[{\"font\":{\"size\":18},\"showarrow\":false,\"text\":\"Year: 1992\",\"x\":0,\"xref\":\"paper\",\"y\":0.95,\"yref\":\"paper\"},{\"font\":{\"size\":18},\"showarrow\":false,\"text\":\"Country: Korea, Rep.\",\"x\":0,\"xref\":\"paper\",\"y\":0.85,\"yref\":\"paper\"}]},\"name\":\"1992\"},{\"data\":[{\"hovertemplate\":\"unemployed: -0.94\",\"marker\":{\"color\":\"green\",\"opacity\":0.4,\"size\":21.975489767215777},\"mode\":\"markers\",\"x\":[0.125],\"xaxis\":\"x\",\"y\":[0.5],\"yaxis\":\"y\",\"type\":\"scatter\"},{\"hovertemplate\":\"wealth: nan\",\"marker\":{\"color\":\"grey\",\"opacity\":0.2,\"size\":7.0},\"mode\":\"markers\",\"x\":[0.375],\"xaxis\":\"x\",\"y\":[0.5],\"yaxis\":\"y\",\"type\":\"scatter\"},{\"hovertemplate\":\"energy: nan\",\"marker\":{\"color\":\"grey\",\"opacity\":0.2,\"size\":7.0},\"mode\":\"markers\",\"x\":[0.625],\"xaxis\":\"x\",\"y\":[0.5],\"yaxis\":\"y\",\"type\":\"scatter\"},{\"hovertemplate\":\"placeholder: 0.1\",\"marker\":{\"color\":\"green\",\"opacity\":0.4,\"size\":2.3333333333333335},\"mode\":\"markers\",\"x\":[0.875],\"xaxis\":\"x\",\"y\":[0.5],\"yaxis\":\"y\",\"type\":\"scatter\"},{\"hovertemplate\":\"govconsum: -0.77\",\"marker\":{\"color\":\"red\",\"opacity\":0.4,\"size\":17.871947673885646},\"mode\":\"markers\",\"x\":[0.125],\"xaxis\":\"x3\",\"y\":[0.5],\"yaxis\":\"y3\",\"type\":\"scatter\"},{\"hovertemplate\":\"marketcap: -0.25\",\"marker\":{\"color\":\"red\",\"opacity\":0.4,\"size\":5.746636406917815},\"mode\":\"markers\",\"x\":[0.375],\"xaxis\":\"x3\",\"y\":[0.5],\"yaxis\":\"y3\",\"type\":\"scatter\"},{\"hovertemplate\":\"houseconsum: -0.71\",\"marker\":{\"color\":\"red\",\"opacity\":0.4,\"size\":16.460129542984976},\"mode\":\"markers\",\"x\":[0.625],\"xaxis\":\"x3\",\"y\":[0.5],\"yaxis\":\"y3\",\"type\":\"scatter\"},{\"hovertemplate\":\"placeholder: 0.1\",\"marker\":{\"color\":\"green\",\"opacity\":0.4,\"size\":2.3333333333333335},\"mode\":\"markers\",\"x\":[0.875],\"xaxis\":\"x3\",\"y\":[0.5],\"yaxis\":\"y3\",\"type\":\"scatter\"},{\"hovertemplate\":\"agriculture: 0.12\",\"marker\":{\"color\":\"green\",\"opacity\":0.4,\"size\":2.8683657017603017},\"mode\":\"markers\",\"x\":[0.25],\"xaxis\":\"x4\",\"y\":[0.5],\"yaxis\":\"y4\",\"type\":\"scatter\"},{\"hovertemplate\":\"industry: 0.95\",\"marker\":{\"color\":\"green\",\"opacity\":0.4,\"size\":22.275126171533213},\"mode\":\"markers\",\"x\":[0.5],\"xaxis\":\"x4\",\"y\":[0.5],\"yaxis\":\"y4\",\"type\":\"scatter\"},{\"hovertemplate\":\"services: -0.48\",\"marker\":{\"color\":\"red\",\"opacity\":0.4,\"size\":11.255165875823408},\"mode\":\"markers\",\"x\":[0.75],\"xaxis\":\"x4\",\"y\":[0.5],\"yaxis\":\"y4\",\"type\":\"scatter\"},{\"hovertemplate\":\"eci: nan\",\"marker\":{\"color\":\"grey\",\"opacity\":0.2,\"size\":7.0},\"mode\":\"markers\",\"x\":[0.125],\"xaxis\":\"x5\",\"y\":[0.5],\"yaxis\":\"y5\",\"type\":\"scatter\"},{\"hovertemplate\":\"exports: -0.57\",\"marker\":{\"color\":\"red\",\"opacity\":0.4,\"size\":13.365290510533974},\"mode\":\"markers\",\"x\":[0.375],\"xaxis\":\"x5\",\"y\":[0.5],\"yaxis\":\"y5\",\"type\":\"scatter\"},{\"hovertemplate\":\"resourcerents: -1.46\",\"marker\":{\"color\":\"red\",\"opacity\":0.4,\"size\":33.99579844981523},\"mode\":\"markers\",\"x\":[0.625],\"xaxis\":\"x5\",\"y\":[0.5],\"yaxis\":\"y5\",\"type\":\"scatter\"},{\"hovertemplate\":\"concentration: -0.27\",\"marker\":{\"color\":\"red\",\"opacity\":0.4,\"size\":6.405253895897183},\"mode\":\"markers\",\"x\":[0.875],\"xaxis\":\"x5\",\"y\":[0.5],\"yaxis\":\"y5\",\"type\":\"scatter\"},{\"hovertemplate\":\"grosscapital: 1.42\",\"marker\":{\"color\":\"green\",\"opacity\":0.4,\"size\":33.0166737655171},\"mode\":\"markers\",\"x\":[0.125],\"xaxis\":\"x6\",\"y\":[0.5],\"yaxis\":\"y6\",\"type\":\"scatter\"},{\"hovertemplate\":\"lifeexpectancy: 0.15\",\"marker\":{\"color\":\"green\",\"opacity\":0.4,\"size\":3.4295794219176807},\"mode\":\"markers\",\"x\":[0.375],\"xaxis\":\"x6\",\"y\":[0.5],\"yaxis\":\"y6\",\"type\":\"scatter\"},{\"hovertemplate\":\"education: 0.21\",\"marker\":{\"color\":\"green\",\"opacity\":0.4,\"size\":4.786225877986578},\"mode\":\"markers\",\"x\":[0.625],\"xaxis\":\"x6\",\"y\":[0.5],\"yaxis\":\"y6\",\"type\":\"scatter\"},{\"hovertemplate\":\"mfootprint: -0.01\",\"marker\":{\"color\":\"red\",\"opacity\":0.4,\"size\":0.2600493343577537},\"mode\":\"markers\",\"x\":[0.875],\"xaxis\":\"x6\",\"y\":[0.5],\"yaxis\":\"y6\",\"type\":\"scatter\"},{\"hovertemplate\":\"gini: nan\",\"marker\":{\"color\":\"grey\",\"opacity\":0.2,\"size\":7.0},\"mode\":\"markers\",\"x\":[0.5],\"xaxis\":\"x2\",\"y\":[0.2],\"yaxis\":\"y2\",\"type\":\"scatter\"},{\"hovertemplate\":\"voice: nan\",\"marker\":{\"color\":\"grey\",\"opacity\":0.2,\"size\":7.0},\"mode\":\"markers\",\"x\":[0.5],\"xaxis\":\"x2\",\"y\":[0.5],\"yaxis\":\"y2\",\"type\":\"scatter\"},{\"hovertemplate\":\"femaleminister: nan\",\"marker\":{\"color\":\"grey\",\"opacity\":0.2,\"size\":7.0},\"mode\":\"markers\",\"x\":[0.5],\"xaxis\":\"x2\",\"y\":[0.8],\"yaxis\":\"y2\",\"type\":\"scatter\"}],\"layout\":{\"annotations\":[{\"font\":{\"size\":18},\"showarrow\":false,\"text\":\"Year: 1993\",\"x\":0,\"xref\":\"paper\",\"y\":0.95,\"yref\":\"paper\"},{\"font\":{\"size\":18},\"showarrow\":false,\"text\":\"Country: Korea, Rep.\",\"x\":0,\"xref\":\"paper\",\"y\":0.85,\"yref\":\"paper\"}]},\"name\":\"1993\"},{\"data\":[{\"hovertemplate\":\"unemployed: -1.11\",\"marker\":{\"color\":\"green\",\"opacity\":0.4,\"size\":25.894038844134112},\"mode\":\"markers\",\"x\":[0.125],\"xaxis\":\"x\",\"y\":[0.5],\"yaxis\":\"y\",\"type\":\"scatter\"},{\"hovertemplate\":\"wealth: nan\",\"marker\":{\"color\":\"grey\",\"opacity\":0.2,\"size\":7.0},\"mode\":\"markers\",\"x\":[0.375],\"xaxis\":\"x\",\"y\":[0.5],\"yaxis\":\"y\",\"type\":\"scatter\"},{\"hovertemplate\":\"energy: nan\",\"marker\":{\"color\":\"grey\",\"opacity\":0.2,\"size\":7.0},\"mode\":\"markers\",\"x\":[0.625],\"xaxis\":\"x\",\"y\":[0.5],\"yaxis\":\"y\",\"type\":\"scatter\"},{\"hovertemplate\":\"placeholder: 0.1\",\"marker\":{\"color\":\"green\",\"opacity\":0.4,\"size\":2.3333333333333335},\"mode\":\"markers\",\"x\":[0.875],\"xaxis\":\"x\",\"y\":[0.5],\"yaxis\":\"y\",\"type\":\"scatter\"},{\"hovertemplate\":\"govconsum: -0.82\",\"marker\":{\"color\":\"red\",\"opacity\":0.4,\"size\":19.134914850947684},\"mode\":\"markers\",\"x\":[0.125],\"xaxis\":\"x3\",\"y\":[0.5],\"yaxis\":\"y3\",\"type\":\"scatter\"},{\"hovertemplate\":\"marketcap: -0.2\",\"marker\":{\"color\":\"red\",\"opacity\":0.4,\"size\":4.720173828023177},\"mode\":\"markers\",\"x\":[0.375],\"xaxis\":\"x3\",\"y\":[0.5],\"yaxis\":\"y3\",\"type\":\"scatter\"},{\"hovertemplate\":\"houseconsum: -0.67\",\"marker\":{\"color\":\"red\",\"opacity\":0.4,\"size\":15.636748484201268},\"mode\":\"markers\",\"x\":[0.625],\"xaxis\":\"x3\",\"y\":[0.5],\"yaxis\":\"y3\",\"type\":\"scatter\"},{\"hovertemplate\":\"placeholder: 0.1\",\"marker\":{\"color\":\"green\",\"opacity\":0.4,\"size\":2.3333333333333335},\"mode\":\"markers\",\"x\":[0.875],\"xaxis\":\"x3\",\"y\":[0.5],\"yaxis\":\"y3\",\"type\":\"scatter\"},{\"hovertemplate\":\"agriculture: 0.09\",\"marker\":{\"color\":\"green\",\"opacity\":0.4,\"size\":2.135765862722684},\"mode\":\"markers\",\"x\":[0.25],\"xaxis\":\"x4\",\"y\":[0.5],\"yaxis\":\"y4\",\"type\":\"scatter\"},{\"hovertemplate\":\"industry: 0.96\",\"marker\":{\"color\":\"green\",\"opacity\":0.4,\"size\":22.313059863308606},\"mode\":\"markers\",\"x\":[0.5],\"xaxis\":\"x4\",\"y\":[0.5],\"yaxis\":\"y4\",\"type\":\"scatter\"},{\"hovertemplate\":\"services: -0.48\",\"marker\":{\"color\":\"red\",\"opacity\":0.4,\"size\":11.19008619719738},\"mode\":\"markers\",\"x\":[0.75],\"xaxis\":\"x4\",\"y\":[0.5],\"yaxis\":\"y4\",\"type\":\"scatter\"},{\"hovertemplate\":\"eci: nan\",\"marker\":{\"color\":\"grey\",\"opacity\":0.2,\"size\":7.0},\"mode\":\"markers\",\"x\":[0.125],\"xaxis\":\"x5\",\"y\":[0.5],\"yaxis\":\"y5\",\"type\":\"scatter\"},{\"hovertemplate\":\"exports: -0.55\",\"marker\":{\"color\":\"red\",\"opacity\":0.4,\"size\":12.790836975973127},\"mode\":\"markers\",\"x\":[0.375],\"xaxis\":\"x5\",\"y\":[0.5],\"yaxis\":\"y5\",\"type\":\"scatter\"},{\"hovertemplate\":\"resourcerents: -1.45\",\"marker\":{\"color\":\"red\",\"opacity\":0.4,\"size\":33.90513815048998},\"mode\":\"markers\",\"x\":[0.625],\"xaxis\":\"x5\",\"y\":[0.5],\"yaxis\":\"y5\",\"type\":\"scatter\"},{\"hovertemplate\":\"concentration: -0.31\",\"marker\":{\"color\":\"red\",\"opacity\":0.4,\"size\":7.324532576993898},\"mode\":\"markers\",\"x\":[0.875],\"xaxis\":\"x5\",\"y\":[0.5],\"yaxis\":\"y5\",\"type\":\"scatter\"},{\"hovertemplate\":\"grosscapital: 1.48\",\"marker\":{\"color\":\"green\",\"opacity\":0.4,\"size\":34.47164172848952},\"mode\":\"markers\",\"x\":[0.125],\"xaxis\":\"x6\",\"y\":[0.5],\"yaxis\":\"y6\",\"type\":\"scatter\"},{\"hovertemplate\":\"lifeexpectancy: 0.2\",\"marker\":{\"color\":\"green\",\"opacity\":0.4,\"size\":4.578383713211172},\"mode\":\"markers\",\"x\":[0.375],\"xaxis\":\"x6\",\"y\":[0.5],\"yaxis\":\"y6\",\"type\":\"scatter\"},{\"hovertemplate\":\"education: 0.29\",\"marker\":{\"color\":\"green\",\"opacity\":0.4,\"size\":6.791945606486206},\"mode\":\"markers\",\"x\":[0.625],\"xaxis\":\"x6\",\"y\":[0.5],\"yaxis\":\"y6\",\"type\":\"scatter\"},{\"hovertemplate\":\"mfootprint: 0.16\",\"marker\":{\"color\":\"green\",\"opacity\":0.4,\"size\":3.7694974852165335},\"mode\":\"markers\",\"x\":[0.875],\"xaxis\":\"x6\",\"y\":[0.5],\"yaxis\":\"y6\",\"type\":\"scatter\"},{\"hovertemplate\":\"gini: nan\",\"marker\":{\"color\":\"grey\",\"opacity\":0.2,\"size\":7.0},\"mode\":\"markers\",\"x\":[0.5],\"xaxis\":\"x2\",\"y\":[0.2],\"yaxis\":\"y2\",\"type\":\"scatter\"},{\"hovertemplate\":\"voice: nan\",\"marker\":{\"color\":\"grey\",\"opacity\":0.2,\"size\":7.0},\"mode\":\"markers\",\"x\":[0.5],\"xaxis\":\"x2\",\"y\":[0.5],\"yaxis\":\"y2\",\"type\":\"scatter\"},{\"hovertemplate\":\"femaleminister: nan\",\"marker\":{\"color\":\"grey\",\"opacity\":0.2,\"size\":7.0},\"mode\":\"markers\",\"x\":[0.5],\"xaxis\":\"x2\",\"y\":[0.8],\"yaxis\":\"y2\",\"type\":\"scatter\"}],\"layout\":{\"annotations\":[{\"font\":{\"size\":18},\"showarrow\":false,\"text\":\"Year: 1994\",\"x\":0,\"xref\":\"paper\",\"y\":0.95,\"yref\":\"paper\"},{\"font\":{\"size\":18},\"showarrow\":false,\"text\":\"Country: Korea, Rep.\",\"x\":0,\"xref\":\"paper\",\"y\":0.85,\"yref\":\"paper\"}]},\"name\":\"1994\"},{\"data\":[{\"hovertemplate\":\"unemployed: -1.32\",\"marker\":{\"color\":\"green\",\"opacity\":0.4,\"size\":30.756530981992853},\"mode\":\"markers\",\"x\":[0.125],\"xaxis\":\"x\",\"y\":[0.5],\"yaxis\":\"y\",\"type\":\"scatter\"},{\"hovertemplate\":\"wealth: 0.32\",\"marker\":{\"color\":\"green\",\"opacity\":0.4,\"size\":7.576320549848544},\"mode\":\"markers\",\"x\":[0.375],\"xaxis\":\"x\",\"y\":[0.5],\"yaxis\":\"y\",\"type\":\"scatter\"},{\"hovertemplate\":\"energy: nan\",\"marker\":{\"color\":\"grey\",\"opacity\":0.2,\"size\":7.0},\"mode\":\"markers\",\"x\":[0.625],\"xaxis\":\"x\",\"y\":[0.5],\"yaxis\":\"y\",\"type\":\"scatter\"},{\"hovertemplate\":\"placeholder: 0.1\",\"marker\":{\"color\":\"green\",\"opacity\":0.4,\"size\":2.3333333333333335},\"mode\":\"markers\",\"x\":[0.875],\"xaxis\":\"x\",\"y\":[0.5],\"yaxis\":\"y\",\"type\":\"scatter\"},{\"hovertemplate\":\"govconsum: -0.85\",\"marker\":{\"color\":\"red\",\"opacity\":0.4,\"size\":19.76475299768511},\"mode\":\"markers\",\"x\":[0.125],\"xaxis\":\"x3\",\"y\":[0.5],\"yaxis\":\"y3\",\"type\":\"scatter\"},{\"hovertemplate\":\"marketcap: -0.27\",\"marker\":{\"color\":\"red\",\"opacity\":0.4,\"size\":6.352390893304714},\"mode\":\"markers\",\"x\":[0.375],\"xaxis\":\"x3\",\"y\":[0.5],\"yaxis\":\"y3\",\"type\":\"scatter\"},{\"hovertemplate\":\"houseconsum: -0.66\",\"marker\":{\"color\":\"red\",\"opacity\":0.4,\"size\":15.364221505523817},\"mode\":\"markers\",\"x\":[0.625],\"xaxis\":\"x3\",\"y\":[0.5],\"yaxis\":\"y3\",\"type\":\"scatter\"},{\"hovertemplate\":\"placeholder: 0.1\",\"marker\":{\"color\":\"green\",\"opacity\":0.4,\"size\":2.3333333333333335},\"mode\":\"markers\",\"x\":[0.875],\"xaxis\":\"x3\",\"y\":[0.5],\"yaxis\":\"y3\",\"type\":\"scatter\"},{\"hovertemplate\":\"agriculture: 0.05\",\"marker\":{\"color\":\"green\",\"opacity\":0.4,\"size\":1.144792230415637},\"mode\":\"markers\",\"x\":[0.25],\"xaxis\":\"x4\",\"y\":[0.5],\"yaxis\":\"y4\",\"type\":\"scatter\"},{\"hovertemplate\":\"industry: 0.97\",\"marker\":{\"color\":\"green\",\"opacity\":0.4,\"size\":22.640757038903907},\"mode\":\"markers\",\"x\":[0.5],\"xaxis\":\"x4\",\"y\":[0.5],\"yaxis\":\"y4\",\"type\":\"scatter\"},{\"hovertemplate\":\"services: -0.47\",\"marker\":{\"color\":\"red\",\"opacity\":0.4,\"size\":10.982018663671889},\"mode\":\"markers\",\"x\":[0.75],\"xaxis\":\"x4\",\"y\":[0.5],\"yaxis\":\"y4\",\"type\":\"scatter\"},{\"hovertemplate\":\"eci: 1.05\",\"marker\":{\"color\":\"green\",\"opacity\":0.4,\"size\":24.491375316194844},\"mode\":\"markers\",\"x\":[0.125],\"xaxis\":\"x5\",\"y\":[0.5],\"yaxis\":\"y5\",\"type\":\"scatter\"},{\"hovertemplate\":\"exports: -0.45\",\"marker\":{\"color\":\"red\",\"opacity\":0.4,\"size\":10.50407010191776},\"mode\":\"markers\",\"x\":[0.375],\"xaxis\":\"x5\",\"y\":[0.5],\"yaxis\":\"y5\",\"type\":\"scatter\"},{\"hovertemplate\":\"resourcerents: -1.38\",\"marker\":{\"color\":\"red\",\"opacity\":0.4,\"size\":32.29936065710408},\"mode\":\"markers\",\"x\":[0.625],\"xaxis\":\"x5\",\"y\":[0.5],\"yaxis\":\"y5\",\"type\":\"scatter\"},{\"hovertemplate\":\"concentration: -0.37\",\"marker\":{\"color\":\"red\",\"opacity\":0.4,\"size\":8.670693566074418},\"mode\":\"markers\",\"x\":[0.875],\"xaxis\":\"x5\",\"y\":[0.5],\"yaxis\":\"y5\",\"type\":\"scatter\"},{\"hovertemplate\":\"grosscapital: 1.51\",\"marker\":{\"color\":\"green\",\"opacity\":0.4,\"size\":35.199828772956266},\"mode\":\"markers\",\"x\":[0.125],\"xaxis\":\"x6\",\"y\":[0.5],\"yaxis\":\"y6\",\"type\":\"scatter\"},{\"hovertemplate\":\"lifeexpectancy: 0.23\",\"marker\":{\"color\":\"green\",\"opacity\":0.4,\"size\":5.446991835896345},\"mode\":\"markers\",\"x\":[0.375],\"xaxis\":\"x6\",\"y\":[0.5],\"yaxis\":\"y6\",\"type\":\"scatter\"},{\"hovertemplate\":\"education: 0.33\",\"marker\":{\"color\":\"green\",\"opacity\":0.4,\"size\":7.748425628529789},\"mode\":\"markers\",\"x\":[0.625],\"xaxis\":\"x6\",\"y\":[0.5],\"yaxis\":\"y6\",\"type\":\"scatter\"},{\"hovertemplate\":\"mfootprint: 0.32\",\"marker\":{\"color\":\"green\",\"opacity\":0.4,\"size\":7.582311499351576},\"mode\":\"markers\",\"x\":[0.875],\"xaxis\":\"x6\",\"y\":[0.5],\"yaxis\":\"y6\",\"type\":\"scatter\"},{\"hovertemplate\":\"gini: nan\",\"marker\":{\"color\":\"grey\",\"opacity\":0.2,\"size\":7.0},\"mode\":\"markers\",\"x\":[0.5],\"xaxis\":\"x2\",\"y\":[0.2],\"yaxis\":\"y2\",\"type\":\"scatter\"},{\"hovertemplate\":\"voice: nan\",\"marker\":{\"color\":\"grey\",\"opacity\":0.2,\"size\":7.0},\"mode\":\"markers\",\"x\":[0.5],\"xaxis\":\"x2\",\"y\":[0.5],\"yaxis\":\"y2\",\"type\":\"scatter\"},{\"hovertemplate\":\"femaleminister: nan\",\"marker\":{\"color\":\"grey\",\"opacity\":0.2,\"size\":7.0},\"mode\":\"markers\",\"x\":[0.5],\"xaxis\":\"x2\",\"y\":[0.8],\"yaxis\":\"y2\",\"type\":\"scatter\"}],\"layout\":{\"annotations\":[{\"font\":{\"size\":18},\"showarrow\":false,\"text\":\"Year: 1995\",\"x\":0,\"xref\":\"paper\",\"y\":0.95,\"yref\":\"paper\"},{\"font\":{\"size\":18},\"showarrow\":false,\"text\":\"Country: Korea, Rep.\",\"x\":0,\"xref\":\"paper\",\"y\":0.85,\"yref\":\"paper\"}]},\"name\":\"1995\"},{\"data\":[{\"hovertemplate\":\"unemployed: -1.32\",\"marker\":{\"color\":\"green\",\"opacity\":0.4,\"size\":30.884051759418046},\"mode\":\"markers\",\"x\":[0.125],\"xaxis\":\"x\",\"y\":[0.5],\"yaxis\":\"y\",\"type\":\"scatter\"},{\"hovertemplate\":\"wealth: 0.42\",\"marker\":{\"color\":\"green\",\"opacity\":0.4,\"size\":9.835081299891083},\"mode\":\"markers\",\"x\":[0.375],\"xaxis\":\"x\",\"y\":[0.5],\"yaxis\":\"y\",\"type\":\"scatter\"},{\"hovertemplate\":\"energy: nan\",\"marker\":{\"color\":\"grey\",\"opacity\":0.2,\"size\":7.0},\"mode\":\"markers\",\"x\":[0.625],\"xaxis\":\"x\",\"y\":[0.5],\"yaxis\":\"y\",\"type\":\"scatter\"},{\"hovertemplate\":\"placeholder: 0.1\",\"marker\":{\"color\":\"green\",\"opacity\":0.4,\"size\":2.3333333333333335},\"mode\":\"markers\",\"x\":[0.875],\"xaxis\":\"x\",\"y\":[0.5],\"yaxis\":\"y\",\"type\":\"scatter\"},{\"hovertemplate\":\"govconsum: -0.81\",\"marker\":{\"color\":\"red\",\"opacity\":0.4,\"size\":18.829887787156864},\"mode\":\"markers\",\"x\":[0.125],\"xaxis\":\"x3\",\"y\":[0.5],\"yaxis\":\"y3\",\"type\":\"scatter\"},{\"hovertemplate\":\"marketcap: -0.34\",\"marker\":{\"color\":\"red\",\"opacity\":0.4,\"size\":7.995664715355949},\"mode\":\"markers\",\"x\":[0.375],\"xaxis\":\"x3\",\"y\":[0.5],\"yaxis\":\"y3\",\"type\":\"scatter\"},{\"hovertemplate\":\"houseconsum: -0.59\",\"marker\":{\"color\":\"red\",\"opacity\":0.4,\"size\":13.69937887040265},\"mode\":\"markers\",\"x\":[0.625],\"xaxis\":\"x3\",\"y\":[0.5],\"yaxis\":\"y3\",\"type\":\"scatter\"},{\"hovertemplate\":\"placeholder: 0.1\",\"marker\":{\"color\":\"green\",\"opacity\":0.4,\"size\":2.3333333333333335},\"mode\":\"markers\",\"x\":[0.875],\"xaxis\":\"x3\",\"y\":[0.5],\"yaxis\":\"y3\",\"type\":\"scatter\"},{\"hovertemplate\":\"agriculture: -0.0\",\"marker\":{\"color\":\"red\",\"opacity\":0.4,\"size\":0.03704548618725017},\"mode\":\"markers\",\"x\":[0.25],\"xaxis\":\"x4\",\"y\":[0.5],\"yaxis\":\"y4\",\"type\":\"scatter\"},{\"hovertemplate\":\"industry: 0.91\",\"marker\":{\"color\":\"green\",\"opacity\":0.4,\"size\":21.249908911576462},\"mode\":\"markers\",\"x\":[0.5],\"xaxis\":\"x4\",\"y\":[0.5],\"yaxis\":\"y4\",\"type\":\"scatter\"},{\"hovertemplate\":\"services: -0.39\",\"marker\":{\"color\":\"red\",\"opacity\":0.4,\"size\":8.99465130603696},\"mode\":\"markers\",\"x\":[0.75],\"xaxis\":\"x4\",\"y\":[0.5],\"yaxis\":\"y4\",\"type\":\"scatter\"},{\"hovertemplate\":\"eci: 1.25\",\"marker\":{\"color\":\"green\",\"opacity\":0.4,\"size\":29.145044771632733},\"mode\":\"markers\",\"x\":[0.125],\"xaxis\":\"x5\",\"y\":[0.5],\"yaxis\":\"y5\",\"type\":\"scatter\"},{\"hovertemplate\":\"exports: -0.5\",\"marker\":{\"color\":\"red\",\"opacity\":0.4,\"size\":11.760860410006028},\"mode\":\"markers\",\"x\":[0.375],\"xaxis\":\"x5\",\"y\":[0.5],\"yaxis\":\"y5\",\"type\":\"scatter\"},{\"hovertemplate\":\"resourcerents: -1.42\",\"marker\":{\"color\":\"red\",\"opacity\":0.4,\"size\":33.16721378229664},\"mode\":\"markers\",\"x\":[0.625],\"xaxis\":\"x5\",\"y\":[0.5],\"yaxis\":\"y5\",\"type\":\"scatter\"},{\"hovertemplate\":\"concentration: -0.46\",\"marker\":{\"color\":\"red\",\"opacity\":0.4,\"size\":10.652831936048775},\"mode\":\"markers\",\"x\":[0.875],\"xaxis\":\"x5\",\"y\":[0.5],\"yaxis\":\"y5\",\"type\":\"scatter\"},{\"hovertemplate\":\"grosscapital: 1.54\",\"marker\":{\"color\":\"green\",\"opacity\":0.4,\"size\":35.980746512287524},\"mode\":\"markers\",\"x\":[0.125],\"xaxis\":\"x6\",\"y\":[0.5],\"yaxis\":\"y6\",\"type\":\"scatter\"},{\"hovertemplate\":\"lifeexpectancy: 0.29\",\"marker\":{\"color\":\"green\",\"opacity\":0.4,\"size\":6.74289911570903},\"mode\":\"markers\",\"x\":[0.375],\"xaxis\":\"x6\",\"y\":[0.5],\"yaxis\":\"y6\",\"type\":\"scatter\"},{\"hovertemplate\":\"education: 0.4\",\"marker\":{\"color\":\"green\",\"opacity\":0.4,\"size\":9.42149948383083},\"mode\":\"markers\",\"x\":[0.625],\"xaxis\":\"x6\",\"y\":[0.5],\"yaxis\":\"y6\",\"type\":\"scatter\"},{\"hovertemplate\":\"mfootprint: 0.32\",\"marker\":{\"color\":\"green\",\"opacity\":0.4,\"size\":7.41640326516545},\"mode\":\"markers\",\"x\":[0.875],\"xaxis\":\"x6\",\"y\":[0.5],\"yaxis\":\"y6\",\"type\":\"scatter\"},{\"hovertemplate\":\"gini: nan\",\"marker\":{\"color\":\"grey\",\"opacity\":0.2,\"size\":7.0},\"mode\":\"markers\",\"x\":[0.5],\"xaxis\":\"x2\",\"y\":[0.2],\"yaxis\":\"y2\",\"type\":\"scatter\"},{\"hovertemplate\":\"voice: -0.4\",\"marker\":{\"color\":\"green\",\"opacity\":0.4,\"size\":9.298509966368321},\"mode\":\"markers\",\"x\":[0.5],\"xaxis\":\"x2\",\"y\":[0.5],\"yaxis\":\"y2\",\"type\":\"scatter\"},{\"hovertemplate\":\"femaleminister: nan\",\"marker\":{\"color\":\"grey\",\"opacity\":0.2,\"size\":7.0},\"mode\":\"markers\",\"x\":[0.5],\"xaxis\":\"x2\",\"y\":[0.8],\"yaxis\":\"y2\",\"type\":\"scatter\"}],\"layout\":{\"annotations\":[{\"font\":{\"size\":18},\"showarrow\":false,\"text\":\"Year: 1996\",\"x\":0,\"xref\":\"paper\",\"y\":0.95,\"yref\":\"paper\"},{\"font\":{\"size\":18},\"showarrow\":false,\"text\":\"Country: Korea, Rep.\",\"x\":0,\"xref\":\"paper\",\"y\":0.85,\"yref\":\"paper\"}]},\"name\":\"1996\"},{\"data\":[{\"hovertemplate\":\"unemployed: -1.05\",\"marker\":{\"color\":\"green\",\"opacity\":0.4,\"size\":24.55515795008489},\"mode\":\"markers\",\"x\":[0.125],\"xaxis\":\"x\",\"y\":[0.5],\"yaxis\":\"y\",\"type\":\"scatter\"},{\"hovertemplate\":\"wealth: 0.44\",\"marker\":{\"color\":\"green\",\"opacity\":0.4,\"size\":10.316897591734877},\"mode\":\"markers\",\"x\":[0.375],\"xaxis\":\"x\",\"y\":[0.5],\"yaxis\":\"y\",\"type\":\"scatter\"},{\"hovertemplate\":\"energy: nan\",\"marker\":{\"color\":\"grey\",\"opacity\":0.2,\"size\":7.0},\"mode\":\"markers\",\"x\":[0.625],\"xaxis\":\"x\",\"y\":[0.5],\"yaxis\":\"y\",\"type\":\"scatter\"},{\"hovertemplate\":\"placeholder: 0.1\",\"marker\":{\"color\":\"green\",\"opacity\":0.4,\"size\":2.3333333333333335},\"mode\":\"markers\",\"x\":[0.875],\"xaxis\":\"x\",\"y\":[0.5],\"yaxis\":\"y\",\"type\":\"scatter\"},{\"hovertemplate\":\"govconsum: -0.83\",\"marker\":{\"color\":\"red\",\"opacity\":0.4,\"size\":19.30884467641742},\"mode\":\"markers\",\"x\":[0.125],\"xaxis\":\"x3\",\"y\":[0.5],\"yaxis\":\"y3\",\"type\":\"scatter\"},{\"hovertemplate\":\"marketcap: -0.46\",\"marker\":{\"color\":\"red\",\"opacity\":0.4,\"size\":10.721499655408518},\"mode\":\"markers\",\"x\":[0.375],\"xaxis\":\"x3\",\"y\":[0.5],\"yaxis\":\"y3\",\"type\":\"scatter\"},{\"hovertemplate\":\"houseconsum: -0.58\",\"marker\":{\"color\":\"red\",\"opacity\":0.4,\"size\":13.505952579598606},\"mode\":\"markers\",\"x\":[0.625],\"xaxis\":\"x3\",\"y\":[0.5],\"yaxis\":\"y3\",\"type\":\"scatter\"},{\"hovertemplate\":\"placeholder: 0.1\",\"marker\":{\"color\":\"green\",\"opacity\":0.4,\"size\":2.3333333333333335},\"mode\":\"markers\",\"x\":[0.875],\"xaxis\":\"x3\",\"y\":[0.5],\"yaxis\":\"y3\",\"type\":\"scatter\"},{\"hovertemplate\":\"agriculture: -0.07\",\"marker\":{\"color\":\"red\",\"opacity\":0.4,\"size\":1.7378845081299916},\"mode\":\"markers\",\"x\":[0.25],\"xaxis\":\"x4\",\"y\":[0.5],\"yaxis\":\"y4\",\"type\":\"scatter\"},{\"hovertemplate\":\"industry: 0.91\",\"marker\":{\"color\":\"green\",\"opacity\":0.4,\"size\":21.18007323016353},\"mode\":\"markers\",\"x\":[0.5],\"xaxis\":\"x4\",\"y\":[0.5],\"yaxis\":\"y4\",\"type\":\"scatter\"},{\"hovertemplate\":\"services: -0.35\",\"marker\":{\"color\":\"red\",\"opacity\":0.4,\"size\":8.07133537182354},\"mode\":\"markers\",\"x\":[0.75],\"xaxis\":\"x4\",\"y\":[0.5],\"yaxis\":\"y4\",\"type\":\"scatter\"},{\"hovertemplate\":\"eci: 1.28\",\"marker\":{\"color\":\"green\",\"opacity\":0.4,\"size\":29.96095055404307},\"mode\":\"markers\",\"x\":[0.125],\"xaxis\":\"x5\",\"y\":[0.5],\"yaxis\":\"y5\",\"type\":\"scatter\"},{\"hovertemplate\":\"exports: -0.31\",\"marker\":{\"color\":\"red\",\"opacity\":0.4,\"size\":7.163927455535944},\"mode\":\"markers\",\"x\":[0.375],\"xaxis\":\"x5\",\"y\":[0.5],\"yaxis\":\"y5\",\"type\":\"scatter\"},{\"hovertemplate\":\"resourcerents: -1.41\",\"marker\":{\"color\":\"red\",\"opacity\":0.4,\"size\":32.823109212298874},\"mode\":\"markers\",\"x\":[0.625],\"xaxis\":\"x5\",\"y\":[0.5],\"yaxis\":\"y5\",\"type\":\"scatter\"},{\"hovertemplate\":\"concentration: -0.52\",\"marker\":{\"color\":\"red\",\"opacity\":0.4,\"size\":12.242990067944978},\"mode\":\"markers\",\"x\":[0.875],\"xaxis\":\"x5\",\"y\":[0.5],\"yaxis\":\"y5\",\"type\":\"scatter\"},{\"hovertemplate\":\"grosscapital: 1.38\",\"marker\":{\"color\":\"green\",\"opacity\":0.4,\"size\":32.21333928428304},\"mode\":\"markers\",\"x\":[0.125],\"xaxis\":\"x6\",\"y\":[0.5],\"yaxis\":\"y6\",\"type\":\"scatter\"},{\"hovertemplate\":\"lifeexpectancy: 0.34\",\"marker\":{\"color\":\"green\",\"opacity\":0.4,\"size\":8.038806395522041},\"mode\":\"markers\",\"x\":[0.375],\"xaxis\":\"x6\",\"y\":[0.5],\"yaxis\":\"y6\",\"type\":\"scatter\"},{\"hovertemplate\":\"education: 0.34\",\"marker\":{\"color\":\"green\",\"opacity\":0.4,\"size\":8.013473533612315},\"mode\":\"markers\",\"x\":[0.625],\"xaxis\":\"x6\",\"y\":[0.5],\"yaxis\":\"y6\",\"type\":\"scatter\"},{\"hovertemplate\":\"mfootprint: 0.34\",\"marker\":{\"color\":\"green\",\"opacity\":0.4,\"size\":7.832549675011826},\"mode\":\"markers\",\"x\":[0.875],\"xaxis\":\"x6\",\"y\":[0.5],\"yaxis\":\"y6\",\"type\":\"scatter\"},{\"hovertemplate\":\"gini: nan\",\"marker\":{\"color\":\"grey\",\"opacity\":0.2,\"size\":7.0},\"mode\":\"markers\",\"x\":[0.5],\"xaxis\":\"x2\",\"y\":[0.2],\"yaxis\":\"y2\",\"type\":\"scatter\"},{\"hovertemplate\":\"voice: nan\",\"marker\":{\"color\":\"grey\",\"opacity\":0.2,\"size\":7.0},\"mode\":\"markers\",\"x\":[0.5],\"xaxis\":\"x2\",\"y\":[0.5],\"yaxis\":\"y2\",\"type\":\"scatter\"},{\"hovertemplate\":\"femaleminister: nan\",\"marker\":{\"color\":\"grey\",\"opacity\":0.2,\"size\":7.0},\"mode\":\"markers\",\"x\":[0.5],\"xaxis\":\"x2\",\"y\":[0.8],\"yaxis\":\"y2\",\"type\":\"scatter\"}],\"layout\":{\"annotations\":[{\"font\":{\"size\":18},\"showarrow\":false,\"text\":\"Year: 1997\",\"x\":0,\"xref\":\"paper\",\"y\":0.95,\"yref\":\"paper\"},{\"font\":{\"size\":18},\"showarrow\":false,\"text\":\"Country: Korea, Rep.\",\"x\":0,\"xref\":\"paper\",\"y\":0.85,\"yref\":\"paper\"}]},\"name\":\"1997\"},{\"data\":[{\"hovertemplate\":\"unemployed: 0.05\",\"marker\":{\"color\":\"red\",\"opacity\":0.4,\"size\":1.1479317014396886},\"mode\":\"markers\",\"x\":[0.125],\"xaxis\":\"x\",\"y\":[0.5],\"yaxis\":\"y\",\"type\":\"scatter\"},{\"hovertemplate\":\"wealth: 0.42\",\"marker\":{\"color\":\"green\",\"opacity\":0.4,\"size\":9.715771807187485},\"mode\":\"markers\",\"x\":[0.375],\"xaxis\":\"x\",\"y\":[0.5],\"yaxis\":\"y\",\"type\":\"scatter\"},{\"hovertemplate\":\"energy: nan\",\"marker\":{\"color\":\"grey\",\"opacity\":0.2,\"size\":7.0},\"mode\":\"markers\",\"x\":[0.625],\"xaxis\":\"x\",\"y\":[0.5],\"yaxis\":\"y\",\"type\":\"scatter\"},{\"hovertemplate\":\"placeholder: 0.1\",\"marker\":{\"color\":\"green\",\"opacity\":0.4,\"size\":2.3333333333333335},\"mode\":\"markers\",\"x\":[0.875],\"xaxis\":\"x\",\"y\":[0.5],\"yaxis\":\"y\",\"type\":\"scatter\"},{\"hovertemplate\":\"govconsum: -0.69\",\"marker\":{\"color\":\"red\",\"opacity\":0.4,\"size\":16.12729376299609},\"mode\":\"markers\",\"x\":[0.125],\"xaxis\":\"x3\",\"y\":[0.5],\"yaxis\":\"y3\",\"type\":\"scatter\"},{\"hovertemplate\":\"marketcap: -0.29\",\"marker\":{\"color\":\"red\",\"opacity\":0.4,\"size\":6.744121632544493},\"mode\":\"markers\",\"x\":[0.375],\"xaxis\":\"x3\",\"y\":[0.5],\"yaxis\":\"y3\",\"type\":\"scatter\"},{\"hovertemplate\":\"houseconsum: -0.75\",\"marker\":{\"color\":\"red\",\"opacity\":0.4,\"size\":17.495052156387327},\"mode\":\"markers\",\"x\":[0.625],\"xaxis\":\"x3\",\"y\":[0.5],\"yaxis\":\"y3\",\"type\":\"scatter\"},{\"hovertemplate\":\"placeholder: 0.1\",\"marker\":{\"color\":\"green\",\"opacity\":0.4,\"size\":2.3333333333333335},\"mode\":\"markers\",\"x\":[0.875],\"xaxis\":\"x3\",\"y\":[0.5],\"yaxis\":\"y3\",\"type\":\"scatter\"},{\"hovertemplate\":\"agriculture: -0.12\",\"marker\":{\"color\":\"red\",\"opacity\":0.4,\"size\":2.6841854908211373},\"mode\":\"markers\",\"x\":[0.25],\"xaxis\":\"x4\",\"y\":[0.5],\"yaxis\":\"y4\",\"type\":\"scatter\"},{\"hovertemplate\":\"industry: 0.9\",\"marker\":{\"color\":\"green\",\"opacity\":0.4,\"size\":21.06045466139807},\"mode\":\"markers\",\"x\":[0.5],\"xaxis\":\"x4\",\"y\":[0.5],\"yaxis\":\"y4\",\"type\":\"scatter\"},{\"hovertemplate\":\"services: -0.23\",\"marker\":{\"color\":\"red\",\"opacity\":0.4,\"size\":5.355877131228186},\"mode\":\"markers\",\"x\":[0.75],\"xaxis\":\"x4\",\"y\":[0.5],\"yaxis\":\"y4\",\"type\":\"scatter\"},{\"hovertemplate\":\"eci: 1.14\",\"marker\":{\"color\":\"green\",\"opacity\":0.4,\"size\":26.67964502890182},\"mode\":\"markers\",\"x\":[0.125],\"xaxis\":\"x5\",\"y\":[0.5],\"yaxis\":\"y5\",\"type\":\"scatter\"},{\"hovertemplate\":\"exports: 0.18\",\"marker\":{\"color\":\"green\",\"opacity\":0.4,\"size\":4.290399789774936},\"mode\":\"markers\",\"x\":[0.375],\"xaxis\":\"x5\",\"y\":[0.5],\"yaxis\":\"y5\",\"type\":\"scatter\"},{\"hovertemplate\":\"resourcerents: -1.32\",\"marker\":{\"color\":\"red\",\"opacity\":0.4,\"size\":30.716497730459494},\"mode\":\"markers\",\"x\":[0.625],\"xaxis\":\"x5\",\"y\":[0.5],\"yaxis\":\"y5\",\"type\":\"scatter\"},{\"hovertemplate\":\"concentration: -0.56\",\"marker\":{\"color\":\"red\",\"opacity\":0.4,\"size\":12.997132701120767},\"mode\":\"markers\",\"x\":[0.875],\"xaxis\":\"x5\",\"y\":[0.5],\"yaxis\":\"y5\",\"type\":\"scatter\"},{\"hovertemplate\":\"grosscapital: 0.57\",\"marker\":{\"color\":\"green\",\"opacity\":0.4,\"size\":13.381330626709353},\"mode\":\"markers\",\"x\":[0.125],\"xaxis\":\"x6\",\"y\":[0.5],\"yaxis\":\"y6\",\"type\":\"scatter\"},{\"hovertemplate\":\"lifeexpectancy: 0.39\",\"marker\":{\"color\":\"green\",\"opacity\":0.4,\"size\":9.194615591030566},\"mode\":\"markers\",\"x\":[0.375],\"xaxis\":\"x6\",\"y\":[0.5],\"yaxis\":\"y6\",\"type\":\"scatter\"},{\"hovertemplate\":\"education: 0.32\",\"marker\":{\"color\":\"green\",\"opacity\":0.4,\"size\":7.477595937051557},\"mode\":\"markers\",\"x\":[0.625],\"xaxis\":\"x6\",\"y\":[0.5],\"yaxis\":\"y6\",\"type\":\"scatter\"},{\"hovertemplate\":\"mfootprint: -0.1\",\"marker\":{\"color\":\"red\",\"opacity\":0.4,\"size\":2.3464465428057406},\"mode\":\"markers\",\"x\":[0.875],\"xaxis\":\"x6\",\"y\":[0.5],\"yaxis\":\"y6\",\"type\":\"scatter\"},{\"hovertemplate\":\"gini: nan\",\"marker\":{\"color\":\"grey\",\"opacity\":0.2,\"size\":7.0},\"mode\":\"markers\",\"x\":[0.5],\"xaxis\":\"x2\",\"y\":[0.2],\"yaxis\":\"y2\",\"type\":\"scatter\"},{\"hovertemplate\":\"voice: -0.36\",\"marker\":{\"color\":\"green\",\"opacity\":0.4,\"size\":8.411313831709064},\"mode\":\"markers\",\"x\":[0.5],\"xaxis\":\"x2\",\"y\":[0.5],\"yaxis\":\"y2\",\"type\":\"scatter\"},{\"hovertemplate\":\"femaleminister: nan\",\"marker\":{\"color\":\"grey\",\"opacity\":0.2,\"size\":7.0},\"mode\":\"markers\",\"x\":[0.5],\"xaxis\":\"x2\",\"y\":[0.8],\"yaxis\":\"y2\",\"type\":\"scatter\"}],\"layout\":{\"annotations\":[{\"font\":{\"size\":18},\"showarrow\":false,\"text\":\"Year: 1998\",\"x\":0,\"xref\":\"paper\",\"y\":0.95,\"yref\":\"paper\"},{\"font\":{\"size\":18},\"showarrow\":false,\"text\":\"Country: Korea, Rep.\",\"x\":0,\"xref\":\"paper\",\"y\":0.85,\"yref\":\"paper\"}]},\"name\":\"1998\"},{\"data\":[{\"hovertemplate\":\"unemployed: -0.06\",\"marker\":{\"color\":\"green\",\"opacity\":0.4,\"size\":1.2970569659175177},\"mode\":\"markers\",\"x\":[0.125],\"xaxis\":\"x\",\"y\":[0.5],\"yaxis\":\"y\",\"type\":\"scatter\"},{\"hovertemplate\":\"wealth: 0.46\",\"marker\":{\"color\":\"green\",\"opacity\":0.4,\"size\":10.673116751697941},\"mode\":\"markers\",\"x\":[0.375],\"xaxis\":\"x\",\"y\":[0.5],\"yaxis\":\"y\",\"type\":\"scatter\"},{\"hovertemplate\":\"energy: nan\",\"marker\":{\"color\":\"grey\",\"opacity\":0.2,\"size\":7.0},\"mode\":\"markers\",\"x\":[0.625],\"xaxis\":\"x\",\"y\":[0.5],\"yaxis\":\"y\",\"type\":\"scatter\"},{\"hovertemplate\":\"placeholder: 0.1\",\"marker\":{\"color\":\"green\",\"opacity\":0.4,\"size\":2.3333333333333335},\"mode\":\"markers\",\"x\":[0.875],\"xaxis\":\"x\",\"y\":[0.5],\"yaxis\":\"y\",\"type\":\"scatter\"},{\"hovertemplate\":\"govconsum: -0.73\",\"marker\":{\"color\":\"red\",\"opacity\":0.4,\"size\":16.998414973806536},\"mode\":\"markers\",\"x\":[0.125],\"xaxis\":\"x3\",\"y\":[0.5],\"yaxis\":\"y3\",\"type\":\"scatter\"},{\"hovertemplate\":\"marketcap: -0.05\",\"marker\":{\"color\":\"red\",\"opacity\":0.4,\"size\":1.162231574899449},\"mode\":\"markers\",\"x\":[0.375],\"xaxis\":\"x3\",\"y\":[0.5],\"yaxis\":\"y3\",\"type\":\"scatter\"},{\"hovertemplate\":\"houseconsum: -0.62\",\"marker\":{\"color\":\"red\",\"opacity\":0.4,\"size\":14.523700009835071},\"mode\":\"markers\",\"x\":[0.625],\"xaxis\":\"x3\",\"y\":[0.5],\"yaxis\":\"y3\",\"type\":\"scatter\"},{\"hovertemplate\":\"placeholder: 0.1\",\"marker\":{\"color\":\"green\",\"opacity\":0.4,\"size\":2.3333333333333335},\"mode\":\"markers\",\"x\":[0.875],\"xaxis\":\"x3\",\"y\":[0.5],\"yaxis\":\"y3\",\"type\":\"scatter\"},{\"hovertemplate\":\"agriculture: -0.11\",\"marker\":{\"color\":\"red\",\"opacity\":0.4,\"size\":2.5913872502494195},\"mode\":\"markers\",\"x\":[0.25],\"xaxis\":\"x4\",\"y\":[0.5],\"yaxis\":\"y4\",\"type\":\"scatter\"},{\"hovertemplate\":\"industry: 0.86\",\"marker\":{\"color\":\"green\",\"opacity\":0.4,\"size\":20.179932542377177},\"mode\":\"markers\",\"x\":[0.5],\"xaxis\":\"x4\",\"y\":[0.5],\"yaxis\":\"y4\",\"type\":\"scatter\"},{\"hovertemplate\":\"services: -0.27\",\"marker\":{\"color\":\"red\",\"opacity\":0.4,\"size\":6.37899533429929},\"mode\":\"markers\",\"x\":[0.75],\"xaxis\":\"x4\",\"y\":[0.5],\"yaxis\":\"y4\",\"type\":\"scatter\"},{\"hovertemplate\":\"eci: 1.17\",\"marker\":{\"color\":\"green\",\"opacity\":0.4,\"size\":27.360441678846083},\"mode\":\"markers\",\"x\":[0.125],\"xaxis\":\"x5\",\"y\":[0.5],\"yaxis\":\"y5\",\"type\":\"scatter\"},{\"hovertemplate\":\"exports: -0.1\",\"marker\":{\"color\":\"red\",\"opacity\":0.4,\"size\":2.35990124076262},\"mode\":\"markers\",\"x\":[0.375],\"xaxis\":\"x5\",\"y\":[0.5],\"yaxis\":\"y5\",\"type\":\"scatter\"},{\"hovertemplate\":\"resourcerents: -1.38\",\"marker\":{\"color\":\"red\",\"opacity\":0.4,\"size\":32.27828380177179},\"mode\":\"markers\",\"x\":[0.625],\"xaxis\":\"x5\",\"y\":[0.5],\"yaxis\":\"y5\",\"type\":\"scatter\"},{\"hovertemplate\":\"concentration: -0.45\",\"marker\":{\"color\":\"red\",\"opacity\":0.4,\"size\":10.600878731944192},\"mode\":\"markers\",\"x\":[0.875],\"xaxis\":\"x5\",\"y\":[0.5],\"yaxis\":\"y5\",\"type\":\"scatter\"},{\"hovertemplate\":\"grosscapital: 0.88\",\"marker\":{\"color\":\"green\",\"opacity\":0.4,\"size\":20.49004185766541},\"mode\":\"markers\",\"x\":[0.125],\"xaxis\":\"x6\",\"y\":[0.5],\"yaxis\":\"y6\",\"type\":\"scatter\"},{\"hovertemplate\":\"lifeexpectancy: 0.44\",\"marker\":{\"color\":\"green\",\"opacity\":0.4,\"size\":10.357429690754493},\"mode\":\"markers\",\"x\":[0.375],\"xaxis\":\"x6\",\"y\":[0.5],\"yaxis\":\"y6\",\"type\":\"scatter\"},{\"hovertemplate\":\"education: 0.35\",\"marker\":{\"color\":\"green\",\"opacity\":0.4,\"size\":8.24726244877173},\"mode\":\"markers\",\"x\":[0.625],\"xaxis\":\"x6\",\"y\":[0.5],\"yaxis\":\"y6\",\"type\":\"scatter\"},{\"hovertemplate\":\"mfootprint: 0.18\",\"marker\":{\"color\":\"green\",\"opacity\":0.4,\"size\":4.156023205447241},\"mode\":\"markers\",\"x\":[0.875],\"xaxis\":\"x6\",\"y\":[0.5],\"yaxis\":\"y6\",\"type\":\"scatter\"},{\"hovertemplate\":\"gini: nan\",\"marker\":{\"color\":\"grey\",\"opacity\":0.2,\"size\":7.0},\"mode\":\"markers\",\"x\":[0.5],\"xaxis\":\"x2\",\"y\":[0.2],\"yaxis\":\"y2\",\"type\":\"scatter\"},{\"hovertemplate\":\"voice: nan\",\"marker\":{\"color\":\"grey\",\"opacity\":0.2,\"size\":7.0},\"mode\":\"markers\",\"x\":[0.5],\"xaxis\":\"x2\",\"y\":[0.5],\"yaxis\":\"y2\",\"type\":\"scatter\"},{\"hovertemplate\":\"femaleminister: nan\",\"marker\":{\"color\":\"grey\",\"opacity\":0.2,\"size\":7.0},\"mode\":\"markers\",\"x\":[0.5],\"xaxis\":\"x2\",\"y\":[0.8],\"yaxis\":\"y2\",\"type\":\"scatter\"}],\"layout\":{\"annotations\":[{\"font\":{\"size\":18},\"showarrow\":false,\"text\":\"Year: 1999\",\"x\":0,\"xref\":\"paper\",\"y\":0.95,\"yref\":\"paper\"},{\"font\":{\"size\":18},\"showarrow\":false,\"text\":\"Country: Korea, Rep.\",\"x\":0,\"xref\":\"paper\",\"y\":0.85,\"yref\":\"paper\"}]},\"name\":\"1999\"},{\"data\":[{\"hovertemplate\":\"unemployed: -0.56\",\"marker\":{\"color\":\"green\",\"opacity\":0.4,\"size\":12.976723877144142},\"mode\":\"markers\",\"x\":[0.125],\"xaxis\":\"x\",\"y\":[0.5],\"yaxis\":\"y\",\"type\":\"scatter\"},{\"hovertemplate\":\"wealth: 0.51\",\"marker\":{\"color\":\"green\",\"opacity\":0.4,\"size\":11.816423147001222},\"mode\":\"markers\",\"x\":[0.375],\"xaxis\":\"x\",\"y\":[0.5],\"yaxis\":\"y\",\"type\":\"scatter\"},{\"hovertemplate\":\"energy: nan\",\"marker\":{\"color\":\"grey\",\"opacity\":0.2,\"size\":7.0},\"mode\":\"markers\",\"x\":[0.625],\"xaxis\":\"x\",\"y\":[0.5],\"yaxis\":\"y\",\"type\":\"scatter\"},{\"hovertemplate\":\"placeholder: 0.1\",\"marker\":{\"color\":\"green\",\"opacity\":0.4,\"size\":2.3333333333333335},\"mode\":\"markers\",\"x\":[0.875],\"xaxis\":\"x\",\"y\":[0.5],\"yaxis\":\"y\",\"type\":\"scatter\"},{\"hovertemplate\":\"govconsum: -0.75\",\"marker\":{\"color\":\"red\",\"opacity\":0.4,\"size\":17.469024120879567},\"mode\":\"markers\",\"x\":[0.125],\"xaxis\":\"x3\",\"y\":[0.5],\"yaxis\":\"y3\",\"type\":\"scatter\"},{\"hovertemplate\":\"marketcap: -0.29\",\"marker\":{\"color\":\"red\",\"opacity\":0.4,\"size\":6.774158542145016},\"mode\":\"markers\",\"x\":[0.375],\"xaxis\":\"x3\",\"y\":[0.5],\"yaxis\":\"y3\",\"type\":\"scatter\"},{\"hovertemplate\":\"houseconsum: -0.52\",\"marker\":{\"color\":\"red\",\"opacity\":0.4,\"size\":12.082399604526698},\"mode\":\"markers\",\"x\":[0.625],\"xaxis\":\"x3\",\"y\":[0.5],\"yaxis\":\"y3\",\"type\":\"scatter\"},{\"hovertemplate\":\"placeholder: 0.1\",\"marker\":{\"color\":\"green\",\"opacity\":0.4,\"size\":2.3333333333333335},\"mode\":\"markers\",\"x\":[0.875],\"xaxis\":\"x3\",\"y\":[0.5],\"yaxis\":\"y3\",\"type\":\"scatter\"},{\"hovertemplate\":\"agriculture: -0.18\",\"marker\":{\"color\":\"red\",\"opacity\":0.4,\"size\":4.18940029408236},\"mode\":\"markers\",\"x\":[0.25],\"xaxis\":\"x4\",\"y\":[0.5],\"yaxis\":\"y4\",\"type\":\"scatter\"},{\"hovertemplate\":\"industry: 0.87\",\"marker\":{\"color\":\"green\",\"opacity\":0.4,\"size\":20.303511348200693},\"mode\":\"markers\",\"x\":[0.5],\"xaxis\":\"x4\",\"y\":[0.5],\"yaxis\":\"y4\",\"type\":\"scatter\"},{\"hovertemplate\":\"services: -0.28\",\"marker\":{\"color\":\"red\",\"opacity\":0.4,\"size\":6.439063891959606},\"mode\":\"markers\",\"x\":[0.75],\"xaxis\":\"x4\",\"y\":[0.5],\"yaxis\":\"y4\",\"type\":\"scatter\"},{\"hovertemplate\":\"eci: 1.27\",\"marker\":{\"color\":\"green\",\"opacity\":0.4,\"size\":29.573989401694483},\"mode\":\"markers\",\"x\":[0.125],\"xaxis\":\"x5\",\"y\":[0.5],\"yaxis\":\"y5\",\"type\":\"scatter\"},{\"hovertemplate\":\"exports: -0.04\",\"marker\":{\"color\":\"red\",\"opacity\":0.4,\"size\":0.9644594239929004},\"mode\":\"markers\",\"x\":[0.375],\"xaxis\":\"x5\",\"y\":[0.5],\"yaxis\":\"y5\",\"type\":\"scatter\"},{\"hovertemplate\":\"resourcerents: -1.34\",\"marker\":{\"color\":\"red\",\"opacity\":0.4,\"size\":31.229657609265374},\"mode\":\"markers\",\"x\":[0.625],\"xaxis\":\"x5\",\"y\":[0.5],\"yaxis\":\"y5\",\"type\":\"scatter\"},{\"hovertemplate\":\"concentration: -0.45\",\"marker\":{\"color\":\"red\",\"opacity\":0.4,\"size\":10.479318153307187},\"mode\":\"markers\",\"x\":[0.875],\"xaxis\":\"x5\",\"y\":[0.5],\"yaxis\":\"y5\",\"type\":\"scatter\"},{\"hovertemplate\":\"grosscapital: 1.04\",\"marker\":{\"color\":\"green\",\"opacity\":0.4,\"size\":24.290910381077918},\"mode\":\"markers\",\"x\":[0.125],\"xaxis\":\"x6\",\"y\":[0.5],\"yaxis\":\"y6\",\"type\":\"scatter\"},{\"hovertemplate\":\"lifeexpectancy: 0.51\",\"marker\":{\"color\":\"green\",\"opacity\":0.4,\"size\":11.793435054871336},\"mode\":\"markers\",\"x\":[0.375],\"xaxis\":\"x6\",\"y\":[0.5],\"yaxis\":\"y6\",\"type\":\"scatter\"},{\"hovertemplate\":\"education: 0.43\",\"marker\":{\"color\":\"green\",\"opacity\":0.4,\"size\":9.994894306814283},\"mode\":\"markers\",\"x\":[0.625],\"xaxis\":\"x6\",\"y\":[0.5],\"yaxis\":\"y6\",\"type\":\"scatter\"},{\"hovertemplate\":\"mfootprint: 0.31\",\"marker\":{\"color\":\"green\",\"opacity\":0.4,\"size\":7.286752049962434},\"mode\":\"markers\",\"x\":[0.875],\"xaxis\":\"x6\",\"y\":[0.5],\"yaxis\":\"y6\",\"type\":\"scatter\"},{\"hovertemplate\":\"gini: nan\",\"marker\":{\"color\":\"grey\",\"opacity\":0.2,\"size\":7.0},\"mode\":\"markers\",\"x\":[0.5],\"xaxis\":\"x2\",\"y\":[0.2],\"yaxis\":\"y2\",\"type\":\"scatter\"},{\"hovertemplate\":\"voice: -0.36\",\"marker\":{\"color\":\"green\",\"opacity\":0.4,\"size\":8.366536676098718},\"mode\":\"markers\",\"x\":[0.5],\"xaxis\":\"x2\",\"y\":[0.5],\"yaxis\":\"y2\",\"type\":\"scatter\"},{\"hovertemplate\":\"femaleminister: nan\",\"marker\":{\"color\":\"grey\",\"opacity\":0.2,\"size\":7.0},\"mode\":\"markers\",\"x\":[0.5],\"xaxis\":\"x2\",\"y\":[0.8],\"yaxis\":\"y2\",\"type\":\"scatter\"}],\"layout\":{\"annotations\":[{\"font\":{\"size\":18},\"showarrow\":false,\"text\":\"Year: 2000\",\"x\":0,\"xref\":\"paper\",\"y\":0.95,\"yref\":\"paper\"},{\"font\":{\"size\":18},\"showarrow\":false,\"text\":\"Country: Korea, Rep.\",\"x\":0,\"xref\":\"paper\",\"y\":0.85,\"yref\":\"paper\"}]},\"name\":\"2000\"},{\"data\":[{\"hovertemplate\":\"unemployed: -0.66\",\"marker\":{\"color\":\"green\",\"opacity\":0.4,\"size\":15.409905620197437},\"mode\":\"markers\",\"x\":[0.125],\"xaxis\":\"x\",\"y\":[0.5],\"yaxis\":\"y\",\"type\":\"scatter\"},{\"hovertemplate\":\"wealth: 0.53\",\"marker\":{\"color\":\"green\",\"opacity\":0.4,\"size\":12.261307758954375},\"mode\":\"markers\",\"x\":[0.375],\"xaxis\":\"x\",\"y\":[0.5],\"yaxis\":\"y\",\"type\":\"scatter\"},{\"hovertemplate\":\"energy: nan\",\"marker\":{\"color\":\"grey\",\"opacity\":0.2,\"size\":7.0},\"mode\":\"markers\",\"x\":[0.625],\"xaxis\":\"x\",\"y\":[0.5],\"yaxis\":\"y\",\"type\":\"scatter\"},{\"hovertemplate\":\"placeholder: 0.1\",\"marker\":{\"color\":\"green\",\"opacity\":0.4,\"size\":2.3333333333333335},\"mode\":\"markers\",\"x\":[0.875],\"xaxis\":\"x\",\"y\":[0.5],\"yaxis\":\"y\",\"type\":\"scatter\"},{\"hovertemplate\":\"govconsum: -0.65\",\"marker\":{\"color\":\"red\",\"opacity\":0.4,\"size\":15.188237415450894},\"mode\":\"markers\",\"x\":[0.125],\"xaxis\":\"x3\",\"y\":[0.5],\"yaxis\":\"y3\",\"type\":\"scatter\"},{\"hovertemplate\":\"marketcap: -0.19\",\"marker\":{\"color\":\"red\",\"opacity\":0.4,\"size\":4.482471330774179},\"mode\":\"markers\",\"x\":[0.375],\"xaxis\":\"x3\",\"y\":[0.5],\"yaxis\":\"y3\",\"type\":\"scatter\"},{\"hovertemplate\":\"houseconsum: -0.47\",\"marker\":{\"color\":\"red\",\"opacity\":0.4,\"size\":10.918315972253806},\"mode\":\"markers\",\"x\":[0.625],\"xaxis\":\"x3\",\"y\":[0.5],\"yaxis\":\"y3\",\"type\":\"scatter\"},{\"hovertemplate\":\"placeholder: 0.1\",\"marker\":{\"color\":\"green\",\"opacity\":0.4,\"size\":2.3333333333333335},\"mode\":\"markers\",\"x\":[0.875],\"xaxis\":\"x3\",\"y\":[0.5],\"yaxis\":\"y3\",\"type\":\"scatter\"},{\"hovertemplate\":\"agriculture: -0.24\",\"marker\":{\"color\":\"red\",\"opacity\":0.4,\"size\":5.48908578621842},\"mode\":\"markers\",\"x\":[0.25],\"xaxis\":\"x4\",\"y\":[0.5],\"yaxis\":\"y4\",\"type\":\"scatter\"},{\"hovertemplate\":\"industry: 0.78\",\"marker\":{\"color\":\"green\",\"opacity\":0.4,\"size\":18.138355232950016},\"mode\":\"markers\",\"x\":[0.5],\"xaxis\":\"x4\",\"y\":[0.5],\"yaxis\":\"y4\",\"type\":\"scatter\"},{\"hovertemplate\":\"services: -0.16\",\"marker\":{\"color\":\"red\",\"opacity\":0.4,\"size\":3.7188871323751704},\"mode\":\"markers\",\"x\":[0.75],\"xaxis\":\"x4\",\"y\":[0.5],\"yaxis\":\"y4\",\"type\":\"scatter\"},{\"hovertemplate\":\"eci: 1.46\",\"marker\":{\"color\":\"green\",\"opacity\":0.4,\"size\":34.16183833797184},\"mode\":\"markers\",\"x\":[0.125],\"xaxis\":\"x5\",\"y\":[0.5],\"yaxis\":\"y5\",\"type\":\"scatter\"},{\"hovertemplate\":\"exports: -0.14\",\"marker\":{\"color\":\"red\",\"opacity\":0.4,\"size\":3.2187356807645107},\"mode\":\"markers\",\"x\":[0.375],\"xaxis\":\"x5\",\"y\":[0.5],\"yaxis\":\"y5\",\"type\":\"scatter\"},{\"hovertemplate\":\"resourcerents: -1.32\",\"marker\":{\"color\":\"red\",\"opacity\":0.4,\"size\":30.779925842387794},\"mode\":\"markers\",\"x\":[0.625],\"xaxis\":\"x5\",\"y\":[0.5],\"yaxis\":\"y5\",\"type\":\"scatter\"},{\"hovertemplate\":\"concentration: -0.46\",\"marker\":{\"color\":\"red\",\"opacity\":0.4,\"size\":10.644204394316159},\"mode\":\"markers\",\"x\":[0.875],\"xaxis\":\"x5\",\"y\":[0.5],\"yaxis\":\"y5\",\"type\":\"scatter\"},{\"hovertemplate\":\"grosscapital: 0.93\",\"marker\":{\"color\":\"green\",\"opacity\":0.4,\"size\":21.706847808241665},\"mode\":\"markers\",\"x\":[0.125],\"xaxis\":\"x6\",\"y\":[0.5],\"yaxis\":\"y6\",\"type\":\"scatter\"},{\"hovertemplate\":\"lifeexpectancy: 0.57\",\"marker\":{\"color\":\"green\",\"opacity\":0.4,\"size\":13.236445323203256},\"mode\":\"markers\",\"x\":[0.375],\"xaxis\":\"x6\",\"y\":[0.5],\"yaxis\":\"y6\",\"type\":\"scatter\"},{\"hovertemplate\":\"education: 0.41\",\"marker\":{\"color\":\"green\",\"opacity\":0.4,\"size\":9.585140778967034},\"mode\":\"markers\",\"x\":[0.625],\"xaxis\":\"x6\",\"y\":[0.5],\"yaxis\":\"y6\",\"type\":\"scatter\"},{\"hovertemplate\":\"mfootprint: 0.3\",\"marker\":{\"color\":\"green\",\"opacity\":0.4,\"size\":6.965618453254848},\"mode\":\"markers\",\"x\":[0.875],\"xaxis\":\"x6\",\"y\":[0.5],\"yaxis\":\"y6\",\"type\":\"scatter\"},{\"hovertemplate\":\"gini: nan\",\"marker\":{\"color\":\"grey\",\"opacity\":0.2,\"size\":7.0},\"mode\":\"markers\",\"x\":[0.5],\"xaxis\":\"x2\",\"y\":[0.2],\"yaxis\":\"y2\",\"type\":\"scatter\"},{\"hovertemplate\":\"voice: nan\",\"marker\":{\"color\":\"grey\",\"opacity\":0.2,\"size\":7.0},\"mode\":\"markers\",\"x\":[0.5],\"xaxis\":\"x2\",\"y\":[0.5],\"yaxis\":\"y2\",\"type\":\"scatter\"},{\"hovertemplate\":\"femaleminister: nan\",\"marker\":{\"color\":\"grey\",\"opacity\":0.2,\"size\":7.0},\"mode\":\"markers\",\"x\":[0.5],\"xaxis\":\"x2\",\"y\":[0.8],\"yaxis\":\"y2\",\"type\":\"scatter\"}],\"layout\":{\"annotations\":[{\"font\":{\"size\":18},\"showarrow\":false,\"text\":\"Year: 2001\",\"x\":0,\"xref\":\"paper\",\"y\":0.95,\"yref\":\"paper\"},{\"font\":{\"size\":18},\"showarrow\":false,\"text\":\"Country: Korea, Rep.\",\"x\":0,\"xref\":\"paper\",\"y\":0.85,\"yref\":\"paper\"}]},\"name\":\"2001\"},{\"data\":[{\"hovertemplate\":\"unemployed: -0.88\",\"marker\":{\"color\":\"green\",\"opacity\":0.4,\"size\":20.47257219995228},\"mode\":\"markers\",\"x\":[0.125],\"xaxis\":\"x\",\"y\":[0.5],\"yaxis\":\"y\",\"type\":\"scatter\"},{\"hovertemplate\":\"wealth: 0.59\",\"marker\":{\"color\":\"green\",\"opacity\":0.4,\"size\":13.721222263575717},\"mode\":\"markers\",\"x\":[0.375],\"xaxis\":\"x\",\"y\":[0.5],\"yaxis\":\"y\",\"type\":\"scatter\"},{\"hovertemplate\":\"energy: nan\",\"marker\":{\"color\":\"grey\",\"opacity\":0.2,\"size\":7.0},\"mode\":\"markers\",\"x\":[0.625],\"xaxis\":\"x\",\"y\":[0.5],\"yaxis\":\"y\",\"type\":\"scatter\"},{\"hovertemplate\":\"placeholder: 0.1\",\"marker\":{\"color\":\"green\",\"opacity\":0.4,\"size\":2.3333333333333335},\"mode\":\"markers\",\"x\":[0.875],\"xaxis\":\"x\",\"y\":[0.5],\"yaxis\":\"y\",\"type\":\"scatter\"},{\"hovertemplate\":\"govconsum: -0.65\",\"marker\":{\"color\":\"red\",\"opacity\":0.4,\"size\":15.22400471398399},\"mode\":\"markers\",\"x\":[0.125],\"xaxis\":\"x3\",\"y\":[0.5],\"yaxis\":\"y3\",\"type\":\"scatter\"},{\"hovertemplate\":\"marketcap: -0.21\",\"marker\":{\"color\":\"red\",\"opacity\":0.4,\"size\":4.966501016625024},\"mode\":\"markers\",\"x\":[0.375],\"xaxis\":\"x3\",\"y\":[0.5],\"yaxis\":\"y3\",\"type\":\"scatter\"},{\"hovertemplate\":\"houseconsum: -0.43\",\"marker\":{\"color\":\"red\",\"opacity\":0.4,\"size\":10.018900710672373},\"mode\":\"markers\",\"x\":[0.625],\"xaxis\":\"x3\",\"y\":[0.5],\"yaxis\":\"y3\",\"type\":\"scatter\"},{\"hovertemplate\":\"placeholder: 0.1\",\"marker\":{\"color\":\"green\",\"opacity\":0.4,\"size\":2.3333333333333335},\"mode\":\"markers\",\"x\":[0.875],\"xaxis\":\"x3\",\"y\":[0.5],\"yaxis\":\"y3\",\"type\":\"scatter\"},{\"hovertemplate\":\"agriculture: -0.31\",\"marker\":{\"color\":\"red\",\"opacity\":0.4,\"size\":7.241562244542192},\"mode\":\"markers\",\"x\":[0.25],\"xaxis\":\"x4\",\"y\":[0.5],\"yaxis\":\"y4\",\"type\":\"scatter\"},{\"hovertemplate\":\"industry: 0.75\",\"marker\":{\"color\":\"green\",\"opacity\":0.4,\"size\":17.54546123310813},\"mode\":\"markers\",\"x\":[0.5],\"xaxis\":\"x4\",\"y\":[0.5],\"yaxis\":\"y4\",\"type\":\"scatter\"},{\"hovertemplate\":\"services: -0.12\",\"marker\":{\"color\":\"red\",\"opacity\":0.4,\"size\":2.765754751678297},\"mode\":\"markers\",\"x\":[0.75],\"xaxis\":\"x4\",\"y\":[0.5],\"yaxis\":\"y4\",\"type\":\"scatter\"},{\"hovertemplate\":\"eci: 1.44\",\"marker\":{\"color\":\"green\",\"opacity\":0.4,\"size\":33.69945834956843},\"mode\":\"markers\",\"x\":[0.125],\"xaxis\":\"x5\",\"y\":[0.5],\"yaxis\":\"y5\",\"type\":\"scatter\"},{\"hovertemplate\":\"exports: -0.23\",\"marker\":{\"color\":\"red\",\"opacity\":0.4,\"size\":5.472941718295085},\"mode\":\"markers\",\"x\":[0.375],\"xaxis\":\"x5\",\"y\":[0.5],\"yaxis\":\"y5\",\"type\":\"scatter\"},{\"hovertemplate\":\"resourcerents: -1.37\",\"marker\":{\"color\":\"red\",\"opacity\":0.4,\"size\":31.86728937780159},\"mode\":\"markers\",\"x\":[0.625],\"xaxis\":\"x5\",\"y\":[0.5],\"yaxis\":\"y5\",\"type\":\"scatter\"},{\"hovertemplate\":\"concentration: -0.45\",\"marker\":{\"color\":\"red\",\"opacity\":0.4,\"size\":10.47972471803248},\"mode\":\"markers\",\"x\":[0.875],\"xaxis\":\"x5\",\"y\":[0.5],\"yaxis\":\"y5\",\"type\":\"scatter\"},{\"hovertemplate\":\"grosscapital: 0.89\",\"marker\":{\"color\":\"green\",\"opacity\":0.4,\"size\":20.656362305461595},\"mode\":\"markers\",\"x\":[0.125],\"xaxis\":\"x6\",\"y\":[0.5],\"yaxis\":\"y6\",\"type\":\"scatter\"},{\"hovertemplate\":\"lifeexpectancy: 0.61\",\"marker\":{\"color\":\"green\",\"opacity\":0.4,\"size\":14.252156434407949},\"mode\":\"markers\",\"x\":[0.375],\"xaxis\":\"x6\",\"y\":[0.5],\"yaxis\":\"y6\",\"type\":\"scatter\"},{\"hovertemplate\":\"education: 0.4\",\"marker\":{\"color\":\"green\",\"opacity\":0.4,\"size\":9.296572978891925},\"mode\":\"markers\",\"x\":[0.625],\"xaxis\":\"x6\",\"y\":[0.5],\"yaxis\":\"y6\",\"type\":\"scatter\"},{\"hovertemplate\":\"mfootprint: 0.25\",\"marker\":{\"color\":\"green\",\"opacity\":0.4,\"size\":5.912222562441854},\"mode\":\"markers\",\"x\":[0.875],\"xaxis\":\"x6\",\"y\":[0.5],\"yaxis\":\"y6\",\"type\":\"scatter\"},{\"hovertemplate\":\"gini: nan\",\"marker\":{\"color\":\"grey\",\"opacity\":0.2,\"size\":7.0},\"mode\":\"markers\",\"x\":[0.5],\"xaxis\":\"x2\",\"y\":[0.2],\"yaxis\":\"y2\",\"type\":\"scatter\"},{\"hovertemplate\":\"voice: -0.5\",\"marker\":{\"color\":\"green\",\"opacity\":0.4,\"size\":11.73887921794072},\"mode\":\"markers\",\"x\":[0.5],\"xaxis\":\"x2\",\"y\":[0.5],\"yaxis\":\"y2\",\"type\":\"scatter\"},{\"hovertemplate\":\"femaleminister: nan\",\"marker\":{\"color\":\"grey\",\"opacity\":0.2,\"size\":7.0},\"mode\":\"markers\",\"x\":[0.5],\"xaxis\":\"x2\",\"y\":[0.8],\"yaxis\":\"y2\",\"type\":\"scatter\"}],\"layout\":{\"annotations\":[{\"font\":{\"size\":18},\"showarrow\":false,\"text\":\"Year: 2002\",\"x\":0,\"xref\":\"paper\",\"y\":0.95,\"yref\":\"paper\"},{\"font\":{\"size\":18},\"showarrow\":false,\"text\":\"Country: Korea, Rep.\",\"x\":0,\"xref\":\"paper\",\"y\":0.85,\"yref\":\"paper\"}]},\"name\":\"2002\"},{\"data\":[{\"hovertemplate\":\"unemployed: -0.77\",\"marker\":{\"color\":\"green\",\"opacity\":0.4,\"size\":18.01400780767983},\"mode\":\"markers\",\"x\":[0.125],\"xaxis\":\"x\",\"y\":[0.5],\"yaxis\":\"y\",\"type\":\"scatter\"},{\"hovertemplate\":\"wealth: 0.68\",\"marker\":{\"color\":\"green\",\"opacity\":0.4,\"size\":15.761538375490403},\"mode\":\"markers\",\"x\":[0.375],\"xaxis\":\"x\",\"y\":[0.5],\"yaxis\":\"y\",\"type\":\"scatter\"},{\"hovertemplate\":\"energy: nan\",\"marker\":{\"color\":\"grey\",\"opacity\":0.2,\"size\":7.0},\"mode\":\"markers\",\"x\":[0.625],\"xaxis\":\"x\",\"y\":[0.5],\"yaxis\":\"y\",\"type\":\"scatter\"},{\"hovertemplate\":\"placeholder: 0.1\",\"marker\":{\"color\":\"green\",\"opacity\":0.4,\"size\":2.3333333333333335},\"mode\":\"markers\",\"x\":[0.875],\"xaxis\":\"x\",\"y\":[0.5],\"yaxis\":\"y\",\"type\":\"scatter\"},{\"hovertemplate\":\"govconsum: -0.61\",\"marker\":{\"color\":\"red\",\"opacity\":0.4,\"size\":14.129258056662163},\"mode\":\"markers\",\"x\":[0.125],\"xaxis\":\"x3\",\"y\":[0.5],\"yaxis\":\"y3\",\"type\":\"scatter\"},{\"hovertemplate\":\"marketcap: -0.16\",\"marker\":{\"color\":\"red\",\"opacity\":0.4,\"size\":3.746664889774785},\"mode\":\"markers\",\"x\":[0.375],\"xaxis\":\"x3\",\"y\":[0.5],\"yaxis\":\"y3\",\"type\":\"scatter\"},{\"hovertemplate\":\"houseconsum: -0.54\",\"marker\":{\"color\":\"red\",\"opacity\":0.4,\"size\":12.642730069487635},\"mode\":\"markers\",\"x\":[0.625],\"xaxis\":\"x3\",\"y\":[0.5],\"yaxis\":\"y3\",\"type\":\"scatter\"},{\"hovertemplate\":\"placeholder: 0.1\",\"marker\":{\"color\":\"green\",\"opacity\":0.4,\"size\":2.3333333333333335},\"mode\":\"markers\",\"x\":[0.875],\"xaxis\":\"x3\",\"y\":[0.5],\"yaxis\":\"y3\",\"type\":\"scatter\"},{\"hovertemplate\":\"agriculture: -0.37\",\"marker\":{\"color\":\"red\",\"opacity\":0.4,\"size\":8.538469238597317},\"mode\":\"markers\",\"x\":[0.25],\"xaxis\":\"x4\",\"y\":[0.5],\"yaxis\":\"y4\",\"type\":\"scatter\"},{\"hovertemplate\":\"industry: 0.77\",\"marker\":{\"color\":\"green\",\"opacity\":0.4,\"size\":17.979737375975695},\"mode\":\"markers\",\"x\":[0.5],\"xaxis\":\"x4\",\"y\":[0.5],\"yaxis\":\"y4\",\"type\":\"scatter\"},{\"hovertemplate\":\"services: -0.1\",\"marker\":{\"color\":\"red\",\"opacity\":0.4,\"size\":2.288347851868264},\"mode\":\"markers\",\"x\":[0.75],\"xaxis\":\"x4\",\"y\":[0.5],\"yaxis\":\"y4\",\"type\":\"scatter\"},{\"hovertemplate\":\"eci: 1.39\",\"marker\":{\"color\":\"green\",\"opacity\":0.4,\"size\":32.4795195992647},\"mode\":\"markers\",\"x\":[0.125],\"xaxis\":\"x5\",\"y\":[0.5],\"yaxis\":\"y5\",\"type\":\"scatter\"},{\"hovertemplate\":\"exports: -0.16\",\"marker\":{\"color\":\"red\",\"opacity\":0.4,\"size\":3.6435639168549354},\"mode\":\"markers\",\"x\":[0.375],\"xaxis\":\"x5\",\"y\":[0.5],\"yaxis\":\"y5\",\"type\":\"scatter\"},{\"hovertemplate\":\"resourcerents: -1.35\",\"marker\":{\"color\":\"red\",\"opacity\":0.4,\"size\":31.50774342930129},\"mode\":\"markers\",\"x\":[0.625],\"xaxis\":\"x5\",\"y\":[0.5],\"yaxis\":\"y5\",\"type\":\"scatter\"},{\"hovertemplate\":\"concentration: -0.44\",\"marker\":{\"color\":\"red\",\"opacity\":0.4,\"size\":10.204645767476594},\"mode\":\"markers\",\"x\":[0.875],\"xaxis\":\"x5\",\"y\":[0.5],\"yaxis\":\"y5\",\"type\":\"scatter\"},{\"hovertemplate\":\"grosscapital: 0.99\",\"marker\":{\"color\":\"green\",\"opacity\":0.4,\"size\":23.074498304449392},\"mode\":\"markers\",\"x\":[0.125],\"xaxis\":\"x6\",\"y\":[0.5],\"yaxis\":\"y6\",\"type\":\"scatter\"},{\"hovertemplate\":\"lifeexpectancy: 0.67\",\"marker\":{\"color\":\"green\",\"opacity\":0.4,\"size\":15.541058810005557},\"mode\":\"markers\",\"x\":[0.375],\"xaxis\":\"x6\",\"y\":[0.5],\"yaxis\":\"y6\",\"type\":\"scatter\"},{\"hovertemplate\":\"education: 0.39\",\"marker\":{\"color\":\"green\",\"opacity\":0.4,\"size\":9.043165908779649},\"mode\":\"markers\",\"x\":[0.625],\"xaxis\":\"x6\",\"y\":[0.5],\"yaxis\":\"y6\",\"type\":\"scatter\"},{\"hovertemplate\":\"mfootprint: 0.36\",\"marker\":{\"color\":\"green\",\"opacity\":0.4,\"size\":8.496506335140115},\"mode\":\"markers\",\"x\":[0.875],\"xaxis\":\"x6\",\"y\":[0.5],\"yaxis\":\"y6\",\"type\":\"scatter\"},{\"hovertemplate\":\"gini: nan\",\"marker\":{\"color\":\"grey\",\"opacity\":0.2,\"size\":7.0},\"mode\":\"markers\",\"x\":[0.5],\"xaxis\":\"x2\",\"y\":[0.2],\"yaxis\":\"y2\",\"type\":\"scatter\"},{\"hovertemplate\":\"voice: -0.47\",\"marker\":{\"color\":\"green\",\"opacity\":0.4,\"size\":11.017944558178574},\"mode\":\"markers\",\"x\":[0.5],\"xaxis\":\"x2\",\"y\":[0.5],\"yaxis\":\"y2\",\"type\":\"scatter\"},{\"hovertemplate\":\"femaleminister: nan\",\"marker\":{\"color\":\"grey\",\"opacity\":0.2,\"size\":7.0},\"mode\":\"markers\",\"x\":[0.5],\"xaxis\":\"x2\",\"y\":[0.8],\"yaxis\":\"y2\",\"type\":\"scatter\"}],\"layout\":{\"annotations\":[{\"font\":{\"size\":18},\"showarrow\":false,\"text\":\"Year: 2003\",\"x\":0,\"xref\":\"paper\",\"y\":0.95,\"yref\":\"paper\"},{\"font\":{\"size\":18},\"showarrow\":false,\"text\":\"Country: Korea, Rep.\",\"x\":0,\"xref\":\"paper\",\"y\":0.85,\"yref\":\"paper\"}]},\"name\":\"2003\"},{\"data\":[{\"hovertemplate\":\"unemployed: -0.75\",\"marker\":{\"color\":\"green\",\"opacity\":0.4,\"size\":17.472073350076492},\"mode\":\"markers\",\"x\":[0.125],\"xaxis\":\"x\",\"y\":[0.5],\"yaxis\":\"y\",\"type\":\"scatter\"},{\"hovertemplate\":\"wealth: 0.77\",\"marker\":{\"color\":\"green\",\"opacity\":0.4,\"size\":18.070162964660078},\"mode\":\"markers\",\"x\":[0.375],\"xaxis\":\"x\",\"y\":[0.5],\"yaxis\":\"y\",\"type\":\"scatter\"},{\"hovertemplate\":\"energy: nan\",\"marker\":{\"color\":\"grey\",\"opacity\":0.2,\"size\":7.0},\"mode\":\"markers\",\"x\":[0.625],\"xaxis\":\"x\",\"y\":[0.5],\"yaxis\":\"y\",\"type\":\"scatter\"},{\"hovertemplate\":\"placeholder: 0.1\",\"marker\":{\"color\":\"green\",\"opacity\":0.4,\"size\":2.3333333333333335},\"mode\":\"markers\",\"x\":[0.875],\"xaxis\":\"x\",\"y\":[0.5],\"yaxis\":\"y\",\"type\":\"scatter\"},{\"hovertemplate\":\"govconsum: -0.58\",\"marker\":{\"color\":\"red\",\"opacity\":0.4,\"size\":13.501672279641747},\"mode\":\"markers\",\"x\":[0.125],\"xaxis\":\"x3\",\"y\":[0.5],\"yaxis\":\"y3\",\"type\":\"scatter\"},{\"hovertemplate\":\"marketcap: -0.11\",\"marker\":{\"color\":\"red\",\"opacity\":0.4,\"size\":2.4908064327779473},\"mode\":\"markers\",\"x\":[0.375],\"xaxis\":\"x3\",\"y\":[0.5],\"yaxis\":\"y3\",\"type\":\"scatter\"},{\"hovertemplate\":\"houseconsum: -0.68\",\"marker\":{\"color\":\"red\",\"opacity\":0.4,\"size\":15.840467527815052},\"mode\":\"markers\",\"x\":[0.625],\"xaxis\":\"x3\",\"y\":[0.5],\"yaxis\":\"y3\",\"type\":\"scatter\"},{\"hovertemplate\":\"placeholder: 0.1\",\"marker\":{\"color\":\"green\",\"opacity\":0.4,\"size\":2.3333333333333335},\"mode\":\"markers\",\"x\":[0.875],\"xaxis\":\"x3\",\"y\":[0.5],\"yaxis\":\"y3\",\"type\":\"scatter\"},{\"hovertemplate\":\"agriculture: -0.37\",\"marker\":{\"color\":\"red\",\"opacity\":0.4,\"size\":8.575156528029607},\"mode\":\"markers\",\"x\":[0.25],\"xaxis\":\"x4\",\"y\":[0.5],\"yaxis\":\"y4\",\"type\":\"scatter\"},{\"hovertemplate\":\"industry: 0.87\",\"marker\":{\"color\":\"green\",\"opacity\":0.4,\"size\":20.27525002014159},\"mode\":\"markers\",\"x\":[0.5],\"xaxis\":\"x4\",\"y\":[0.5],\"yaxis\":\"y4\",\"type\":\"scatter\"},{\"hovertemplate\":\"services: -0.16\",\"marker\":{\"color\":\"red\",\"opacity\":0.4,\"size\":3.695027444261883},\"mode\":\"markers\",\"x\":[0.75],\"xaxis\":\"x4\",\"y\":[0.5],\"yaxis\":\"y4\",\"type\":\"scatter\"},{\"hovertemplate\":\"eci: 1.51\",\"marker\":{\"color\":\"green\",\"opacity\":0.4,\"size\":35.26261630423687},\"mode\":\"markers\",\"x\":[0.125],\"xaxis\":\"x5\",\"y\":[0.5],\"yaxis\":\"y5\",\"type\":\"scatter\"},{\"hovertemplate\":\"exports: 0.08\",\"marker\":{\"color\":\"green\",\"opacity\":0.4,\"size\":1.7785217295648592},\"mode\":\"markers\",\"x\":[0.375],\"xaxis\":\"x5\",\"y\":[0.5],\"yaxis\":\"y5\",\"type\":\"scatter\"},{\"hovertemplate\":\"resourcerents: -1.37\",\"marker\":{\"color\":\"red\",\"opacity\":0.4,\"size\":31.97337173123105},\"mode\":\"markers\",\"x\":[0.625],\"xaxis\":\"x5\",\"y\":[0.5],\"yaxis\":\"y5\",\"type\":\"scatter\"},{\"hovertemplate\":\"concentration: -0.4\",\"marker\":{\"color\":\"red\",\"opacity\":0.4,\"size\":9.285859992334915},\"mode\":\"markers\",\"x\":[0.875],\"xaxis\":\"x5\",\"y\":[0.5],\"yaxis\":\"y5\",\"type\":\"scatter\"},{\"hovertemplate\":\"grosscapital: 1.01\",\"marker\":{\"color\":\"green\",\"opacity\":0.4,\"size\":23.61209332388242},\"mode\":\"markers\",\"x\":[0.125],\"xaxis\":\"x6\",\"y\":[0.5],\"yaxis\":\"y6\",\"type\":\"scatter\"},{\"hovertemplate\":\"lifeexpectancy: 0.72\",\"marker\":{\"color\":\"green\",\"opacity\":0.4,\"size\":16.836966089818283},\"mode\":\"markers\",\"x\":[0.375],\"xaxis\":\"x6\",\"y\":[0.5],\"yaxis\":\"y6\",\"type\":\"scatter\"},{\"hovertemplate\":\"education: 0.39\",\"marker\":{\"color\":\"green\",\"opacity\":0.4,\"size\":9.071167010154669},\"mode\":\"markers\",\"x\":[0.625],\"xaxis\":\"x6\",\"y\":[0.5],\"yaxis\":\"y6\",\"type\":\"scatter\"},{\"hovertemplate\":\"mfootprint: 0.45\",\"marker\":{\"color\":\"green\",\"opacity\":0.4,\"size\":10.489347485676307},\"mode\":\"markers\",\"x\":[0.875],\"xaxis\":\"x6\",\"y\":[0.5],\"yaxis\":\"y6\",\"type\":\"scatter\"},{\"hovertemplate\":\"gini: nan\",\"marker\":{\"color\":\"grey\",\"opacity\":0.2,\"size\":7.0},\"mode\":\"markers\",\"x\":[0.5],\"xaxis\":\"x2\",\"y\":[0.2],\"yaxis\":\"y2\",\"type\":\"scatter\"},{\"hovertemplate\":\"voice: -0.48\",\"marker\":{\"color\":\"green\",\"opacity\":0.4,\"size\":11.187267899236987},\"mode\":\"markers\",\"x\":[0.5],\"xaxis\":\"x2\",\"y\":[0.5],\"yaxis\":\"y2\",\"type\":\"scatter\"},{\"hovertemplate\":\"femaleminister: nan\",\"marker\":{\"color\":\"grey\",\"opacity\":0.2,\"size\":7.0},\"mode\":\"markers\",\"x\":[0.5],\"xaxis\":\"x2\",\"y\":[0.8],\"yaxis\":\"y2\",\"type\":\"scatter\"}],\"layout\":{\"annotations\":[{\"font\":{\"size\":18},\"showarrow\":false,\"text\":\"Year: 2004\",\"x\":0,\"xref\":\"paper\",\"y\":0.95,\"yref\":\"paper\"},{\"font\":{\"size\":18},\"showarrow\":false,\"text\":\"Country: Korea, Rep.\",\"x\":0,\"xref\":\"paper\",\"y\":0.85,\"yref\":\"paper\"}]},\"name\":\"2004\"},{\"data\":[{\"hovertemplate\":\"unemployed: -0.73\",\"marker\":{\"color\":\"green\",\"opacity\":0.4,\"size\":17.01631459212062},\"mode\":\"markers\",\"x\":[0.125],\"xaxis\":\"x\",\"y\":[0.5],\"yaxis\":\"y\",\"type\":\"scatter\"},{\"hovertemplate\":\"wealth: 0.94\",\"marker\":{\"color\":\"green\",\"opacity\":0.4,\"size\":21.829364580365226},\"mode\":\"markers\",\"x\":[0.375],\"xaxis\":\"x\",\"y\":[0.5],\"yaxis\":\"y\",\"type\":\"scatter\"},{\"hovertemplate\":\"energy: nan\",\"marker\":{\"color\":\"grey\",\"opacity\":0.2,\"size\":7.0},\"mode\":\"markers\",\"x\":[0.625],\"xaxis\":\"x\",\"y\":[0.5],\"yaxis\":\"y\",\"type\":\"scatter\"},{\"hovertemplate\":\"placeholder: 0.1\",\"marker\":{\"color\":\"green\",\"opacity\":0.4,\"size\":2.3333333333333335},\"mode\":\"markers\",\"x\":[0.875],\"xaxis\":\"x\",\"y\":[0.5],\"yaxis\":\"y\",\"type\":\"scatter\"},{\"hovertemplate\":\"govconsum: -0.52\",\"marker\":{\"color\":\"red\",\"opacity\":0.4,\"size\":12.234805377877679},\"mode\":\"markers\",\"x\":[0.125],\"xaxis\":\"x3\",\"y\":[0.5],\"yaxis\":\"y3\",\"type\":\"scatter\"},{\"hovertemplate\":\"marketcap: 0.07\",\"marker\":{\"color\":\"green\",\"opacity\":0.4,\"size\":1.531737386751032},\"mode\":\"markers\",\"x\":[0.375],\"xaxis\":\"x3\",\"y\":[0.5],\"yaxis\":\"y3\",\"type\":\"scatter\"},{\"hovertemplate\":\"houseconsum: -0.64\",\"marker\":{\"color\":\"red\",\"opacity\":0.4,\"size\":14.905153171460238},\"mode\":\"markers\",\"x\":[0.625],\"xaxis\":\"x3\",\"y\":[0.5],\"yaxis\":\"y3\",\"type\":\"scatter\"},{\"hovertemplate\":\"placeholder: 0.1\",\"marker\":{\"color\":\"green\",\"opacity\":0.4,\"size\":2.3333333333333335},\"mode\":\"markers\",\"x\":[0.875],\"xaxis\":\"x3\",\"y\":[0.5],\"yaxis\":\"y3\",\"type\":\"scatter\"},{\"hovertemplate\":\"agriculture: -0.45\",\"marker\":{\"color\":\"red\",\"opacity\":0.4,\"size\":10.579226366034144},\"mode\":\"markers\",\"x\":[0.25],\"xaxis\":\"x4\",\"y\":[0.5],\"yaxis\":\"y4\",\"type\":\"scatter\"},{\"hovertemplate\":\"industry: 0.83\",\"marker\":{\"color\":\"green\",\"opacity\":0.4,\"size\":19.46143991854093},\"mode\":\"markers\",\"x\":[0.5],\"xaxis\":\"x4\",\"y\":[0.5],\"yaxis\":\"y4\",\"type\":\"scatter\"},{\"hovertemplate\":\"services: -0.1\",\"marker\":{\"color\":\"red\",\"opacity\":0.4,\"size\":2.274566025218569},\"mode\":\"markers\",\"x\":[0.75],\"xaxis\":\"x4\",\"y\":[0.5],\"yaxis\":\"y4\",\"type\":\"scatter\"},{\"hovertemplate\":\"eci: 1.72\",\"marker\":{\"color\":\"green\",\"opacity\":0.4,\"size\":40.18870211244528},\"mode\":\"markers\",\"x\":[0.125],\"xaxis\":\"x5\",\"y\":[0.5],\"yaxis\":\"y5\",\"type\":\"scatter\"},{\"hovertemplate\":\"exports: 0.02\",\"marker\":{\"color\":\"green\",\"opacity\":0.4,\"size\":0.37228583628017475},\"mode\":\"markers\",\"x\":[0.375],\"xaxis\":\"x5\",\"y\":[0.5],\"yaxis\":\"y5\",\"type\":\"scatter\"},{\"hovertemplate\":\"resourcerents: -1.35\",\"marker\":{\"color\":\"red\",\"opacity\":0.4,\"size\":31.434329327692975},\"mode\":\"markers\",\"x\":[0.625],\"xaxis\":\"x5\",\"y\":[0.5],\"yaxis\":\"y5\",\"type\":\"scatter\"},{\"hovertemplate\":\"concentration: -0.39\",\"marker\":{\"color\":\"red\",\"opacity\":0.4,\"size\":9.158479836859765},\"mode\":\"markers\",\"x\":[0.875],\"xaxis\":\"x5\",\"y\":[0.5],\"yaxis\":\"y5\",\"type\":\"scatter\"},{\"hovertemplate\":\"grosscapital: 1.01\",\"marker\":{\"color\":\"green\",\"opacity\":0.4,\"size\":23.52999608769825},\"mode\":\"markers\",\"x\":[0.125],\"xaxis\":\"x6\",\"y\":[0.5],\"yaxis\":\"y6\",\"type\":\"scatter\"},{\"hovertemplate\":\"lifeexpectancy: 0.78\",\"marker\":{\"color\":\"green\",\"opacity\":0.4,\"size\":18.2799763581502},\"mode\":\"markers\",\"x\":[0.375],\"xaxis\":\"x6\",\"y\":[0.5],\"yaxis\":\"y6\",\"type\":\"scatter\"},{\"hovertemplate\":\"education: 0.4\",\"marker\":{\"color\":\"green\",\"opacity\":0.4,\"size\":9.2529649173575},\"mode\":\"markers\",\"x\":[0.625],\"xaxis\":\"x6\",\"y\":[0.5],\"yaxis\":\"y6\",\"type\":\"scatter\"},{\"hovertemplate\":\"mfootprint: 0.49\",\"marker\":{\"color\":\"green\",\"opacity\":0.4,\"size\":11.490462050009185},\"mode\":\"markers\",\"x\":[0.875],\"xaxis\":\"x6\",\"y\":[0.5],\"yaxis\":\"y6\",\"type\":\"scatter\"},{\"hovertemplate\":\"gini: nan\",\"marker\":{\"color\":\"grey\",\"opacity\":0.2,\"size\":7.0},\"mode\":\"markers\",\"x\":[0.5],\"xaxis\":\"x2\",\"y\":[0.2],\"yaxis\":\"y2\",\"type\":\"scatter\"},{\"hovertemplate\":\"voice: -0.5\",\"marker\":{\"color\":\"green\",\"opacity\":0.4,\"size\":11.737823609281962},\"mode\":\"markers\",\"x\":[0.5],\"xaxis\":\"x2\",\"y\":[0.5],\"yaxis\":\"y2\",\"type\":\"scatter\"},{\"hovertemplate\":\"femaleminister: -1.56\",\"marker\":{\"color\":\"red\",\"opacity\":0.4,\"size\":36.40338032342177},\"mode\":\"markers\",\"x\":[0.5],\"xaxis\":\"x2\",\"y\":[0.8],\"yaxis\":\"y2\",\"type\":\"scatter\"}],\"layout\":{\"annotations\":[{\"font\":{\"size\":18},\"showarrow\":false,\"text\":\"Year: 2005\",\"x\":0,\"xref\":\"paper\",\"y\":0.95,\"yref\":\"paper\"},{\"font\":{\"size\":18},\"showarrow\":false,\"text\":\"Country: Korea, Rep.\",\"x\":0,\"xref\":\"paper\",\"y\":0.85,\"yref\":\"paper\"}]},\"name\":\"2005\"},{\"data\":[{\"hovertemplate\":\"unemployed: -0.81\",\"marker\":{\"color\":\"green\",\"opacity\":0.4,\"size\":18.808173675599665},\"mode\":\"markers\",\"x\":[0.125],\"xaxis\":\"x\",\"y\":[0.5],\"yaxis\":\"y\",\"type\":\"scatter\"},{\"hovertemplate\":\"wealth: 1.13\",\"marker\":{\"color\":\"green\",\"opacity\":0.4,\"size\":26.33510657889561},\"mode\":\"markers\",\"x\":[0.375],\"xaxis\":\"x\",\"y\":[0.5],\"yaxis\":\"y\",\"type\":\"scatter\"},{\"hovertemplate\":\"energy: nan\",\"marker\":{\"color\":\"grey\",\"opacity\":0.2,\"size\":7.0},\"mode\":\"markers\",\"x\":[0.625],\"xaxis\":\"x\",\"y\":[0.5],\"yaxis\":\"y\",\"type\":\"scatter\"},{\"hovertemplate\":\"placeholder: 0.1\",\"marker\":{\"color\":\"green\",\"opacity\":0.4,\"size\":2.3333333333333335},\"mode\":\"markers\",\"x\":[0.875],\"xaxis\":\"x\",\"y\":[0.5],\"yaxis\":\"y\",\"type\":\"scatter\"},{\"hovertemplate\":\"govconsum: -0.47\",\"marker\":{\"color\":\"red\",\"opacity\":0.4,\"size\":10.878704356078982},\"mode\":\"markers\",\"x\":[0.125],\"xaxis\":\"x3\",\"y\":[0.5],\"yaxis\":\"y3\",\"type\":\"scatter\"},{\"hovertemplate\":\"marketcap: 0.08\",\"marker\":{\"color\":\"green\",\"opacity\":0.4,\"size\":1.9593468423455782},\"mode\":\"markers\",\"x\":[0.375],\"xaxis\":\"x3\",\"y\":[0.5],\"yaxis\":\"y3\",\"type\":\"scatter\"},{\"hovertemplate\":\"houseconsum: -0.6\",\"marker\":{\"color\":\"red\",\"opacity\":0.4,\"size\":13.98258031200882},\"mode\":\"markers\",\"x\":[0.625],\"xaxis\":\"x3\",\"y\":[0.5],\"yaxis\":\"y3\",\"type\":\"scatter\"},{\"hovertemplate\":\"placeholder: 0.1\",\"marker\":{\"color\":\"green\",\"opacity\":0.4,\"size\":2.3333333333333335},\"mode\":\"markers\",\"x\":[0.875],\"xaxis\":\"x3\",\"y\":[0.5],\"yaxis\":\"y3\",\"type\":\"scatter\"},{\"hovertemplate\":\"agriculture: -0.49\",\"marker\":{\"color\":\"red\",\"opacity\":0.4,\"size\":11.37003481360312},\"mode\":\"markers\",\"x\":[0.25],\"xaxis\":\"x4\",\"y\":[0.5],\"yaxis\":\"y4\",\"type\":\"scatter\"},{\"hovertemplate\":\"industry: 0.8\",\"marker\":{\"color\":\"green\",\"opacity\":0.4,\"size\":18.564168474084028},\"mode\":\"markers\",\"x\":[0.5],\"xaxis\":\"x4\",\"y\":[0.5],\"yaxis\":\"y4\",\"type\":\"scatter\"},{\"hovertemplate\":\"services: -0.03\",\"marker\":{\"color\":\"red\",\"opacity\":0.4,\"size\":0.8064573659674051},\"mode\":\"markers\",\"x\":[0.75],\"xaxis\":\"x4\",\"y\":[0.5],\"yaxis\":\"y4\",\"type\":\"scatter\"},{\"hovertemplate\":\"eci: 1.62\",\"marker\":{\"color\":\"green\",\"opacity\":0.4,\"size\":37.88356739633084},\"mode\":\"markers\",\"x\":[0.125],\"xaxis\":\"x5\",\"y\":[0.5],\"yaxis\":\"y5\",\"type\":\"scatter\"},{\"hovertemplate\":\"exports: 0.03\",\"marker\":{\"color\":\"green\",\"opacity\":0.4,\"size\":0.7056250860088658},\"mode\":\"markers\",\"x\":[0.375],\"xaxis\":\"x5\",\"y\":[0.5],\"yaxis\":\"y5\",\"type\":\"scatter\"},{\"hovertemplate\":\"resourcerents: -1.33\",\"marker\":{\"color\":\"red\",\"opacity\":0.4,\"size\":31.125769673149787},\"mode\":\"markers\",\"x\":[0.625],\"xaxis\":\"x5\",\"y\":[0.5],\"yaxis\":\"y5\",\"type\":\"scatter\"},{\"hovertemplate\":\"concentration: -0.43\",\"marker\":{\"color\":\"red\",\"opacity\":0.4,\"size\":9.943314443046079},\"mode\":\"markers\",\"x\":[0.875],\"xaxis\":\"x5\",\"y\":[0.5],\"yaxis\":\"y5\",\"type\":\"scatter\"},{\"hovertemplate\":\"grosscapital: 1.05\",\"marker\":{\"color\":\"green\",\"opacity\":0.4,\"size\":24.486238717427153},\"mode\":\"markers\",\"x\":[0.125],\"xaxis\":\"x6\",\"y\":[0.5],\"yaxis\":\"y6\",\"type\":\"scatter\"},{\"hovertemplate\":\"lifeexpectancy: 0.84\",\"marker\":{\"color\":\"green\",\"opacity\":0.4,\"size\":19.715981722267045},\"mode\":\"markers\",\"x\":[0.375],\"xaxis\":\"x6\",\"y\":[0.5],\"yaxis\":\"y6\",\"type\":\"scatter\"},{\"hovertemplate\":\"education: 0.38\",\"marker\":{\"color\":\"green\",\"opacity\":0.4,\"size\":8.884952281718645},\"mode\":\"markers\",\"x\":[0.625],\"xaxis\":\"x6\",\"y\":[0.5],\"yaxis\":\"y6\",\"type\":\"scatter\"},{\"hovertemplate\":\"mfootprint: 0.57\",\"marker\":{\"color\":\"green\",\"opacity\":0.4,\"size\":13.391851344628153},\"mode\":\"markers\",\"x\":[0.875],\"xaxis\":\"x6\",\"y\":[0.5],\"yaxis\":\"y6\",\"type\":\"scatter\"},{\"hovertemplate\":\"gini: -0.74\",\"marker\":{\"color\":\"green\",\"opacity\":0.4,\"size\":17.20612663517263},\"mode\":\"markers\",\"x\":[0.5],\"xaxis\":\"x2\",\"y\":[0.2],\"yaxis\":\"y2\",\"type\":\"scatter\"},{\"hovertemplate\":\"voice: -0.43\",\"marker\":{\"color\":\"green\",\"opacity\":0.4,\"size\":9.989581221748951},\"mode\":\"markers\",\"x\":[0.5],\"xaxis\":\"x2\",\"y\":[0.5],\"yaxis\":\"y2\",\"type\":\"scatter\"},{\"hovertemplate\":\"femaleminister: nan\",\"marker\":{\"color\":\"grey\",\"opacity\":0.2,\"size\":7.0},\"mode\":\"markers\",\"x\":[0.5],\"xaxis\":\"x2\",\"y\":[0.8],\"yaxis\":\"y2\",\"type\":\"scatter\"}],\"layout\":{\"annotations\":[{\"font\":{\"size\":18},\"showarrow\":false,\"text\":\"Year: 2006\",\"x\":0,\"xref\":\"paper\",\"y\":0.95,\"yref\":\"paper\"},{\"font\":{\"size\":18},\"showarrow\":false,\"text\":\"Country: Korea, Rep.\",\"x\":0,\"xref\":\"paper\",\"y\":0.85,\"yref\":\"paper\"}]},\"name\":\"2006\"},{\"data\":[{\"hovertemplate\":\"unemployed: -0.89\",\"marker\":{\"color\":\"green\",\"opacity\":0.4,\"size\":20.818523997162345},\"mode\":\"markers\",\"x\":[0.125],\"xaxis\":\"x\",\"y\":[0.5],\"yaxis\":\"y\",\"type\":\"scatter\"},{\"hovertemplate\":\"wealth: 1.3\",\"marker\":{\"color\":\"green\",\"opacity\":0.4,\"size\":30.273309153689095},\"mode\":\"markers\",\"x\":[0.375],\"xaxis\":\"x\",\"y\":[0.5],\"yaxis\":\"y\",\"type\":\"scatter\"},{\"hovertemplate\":\"energy: nan\",\"marker\":{\"color\":\"grey\",\"opacity\":0.2,\"size\":7.0},\"mode\":\"markers\",\"x\":[0.625],\"xaxis\":\"x\",\"y\":[0.5],\"yaxis\":\"y\",\"type\":\"scatter\"},{\"hovertemplate\":\"placeholder: 0.1\",\"marker\":{\"color\":\"green\",\"opacity\":0.4,\"size\":2.3333333333333335},\"mode\":\"markers\",\"x\":[0.875],\"xaxis\":\"x\",\"y\":[0.5],\"yaxis\":\"y\",\"type\":\"scatter\"},{\"hovertemplate\":\"govconsum: -0.46\",\"marker\":{\"color\":\"red\",\"opacity\":0.4,\"size\":10.686046429019973},\"mode\":\"markers\",\"x\":[0.125],\"xaxis\":\"x3\",\"y\":[0.5],\"yaxis\":\"y3\",\"type\":\"scatter\"},{\"hovertemplate\":\"marketcap: 0.21\",\"marker\":{\"color\":\"green\",\"opacity\":0.4,\"size\":4.872426874740314},\"mode\":\"markers\",\"x\":[0.375],\"xaxis\":\"x3\",\"y\":[0.5],\"yaxis\":\"y3\",\"type\":\"scatter\"},{\"hovertemplate\":\"houseconsum: -0.63\",\"marker\":{\"color\":\"red\",\"opacity\":0.4,\"size\":14.700002883873013},\"mode\":\"markers\",\"x\":[0.625],\"xaxis\":\"x3\",\"y\":[0.5],\"yaxis\":\"y3\",\"type\":\"scatter\"},{\"hovertemplate\":\"placeholder: 0.1\",\"marker\":{\"color\":\"green\",\"opacity\":0.4,\"size\":2.3333333333333335},\"mode\":\"markers\",\"x\":[0.875],\"xaxis\":\"x3\",\"y\":[0.5],\"yaxis\":\"y3\",\"type\":\"scatter\"},{\"hovertemplate\":\"agriculture: -0.55\",\"marker\":{\"color\":\"red\",\"opacity\":0.4,\"size\":12.849850347740428},\"mode\":\"markers\",\"x\":[0.25],\"xaxis\":\"x4\",\"y\":[0.5],\"yaxis\":\"y4\",\"type\":\"scatter\"},{\"hovertemplate\":\"industry: 0.79\",\"marker\":{\"color\":\"green\",\"opacity\":0.4,\"size\":18.473199855569266},\"mode\":\"markers\",\"x\":[0.5],\"xaxis\":\"x4\",\"y\":[0.5],\"yaxis\":\"y4\",\"type\":\"scatter\"},{\"hovertemplate\":\"services: -0.01\",\"marker\":{\"color\":\"red\",\"opacity\":0.4,\"size\":0.13464426981329228},\"mode\":\"markers\",\"x\":[0.75],\"xaxis\":\"x4\",\"y\":[0.5],\"yaxis\":\"y4\",\"type\":\"scatter\"},{\"hovertemplate\":\"eci: 1.6\",\"marker\":{\"color\":\"green\",\"opacity\":0.4,\"size\":37.32647424529125},\"mode\":\"markers\",\"x\":[0.125],\"xaxis\":\"x5\",\"y\":[0.5],\"yaxis\":\"y5\",\"type\":\"scatter\"},{\"hovertemplate\":\"exports: 0.1\",\"marker\":{\"color\":\"green\",\"opacity\":0.4,\"size\":2.370767949051544},\"mode\":\"markers\",\"x\":[0.375],\"xaxis\":\"x5\",\"y\":[0.5],\"yaxis\":\"y5\",\"type\":\"scatter\"},{\"hovertemplate\":\"resourcerents: -1.3\",\"marker\":{\"color\":\"red\",\"opacity\":0.4,\"size\":30.372646611205678},\"mode\":\"markers\",\"x\":[0.625],\"xaxis\":\"x5\",\"y\":[0.5],\"yaxis\":\"y5\",\"type\":\"scatter\"},{\"hovertemplate\":\"concentration: -0.41\",\"marker\":{\"color\":\"red\",\"opacity\":0.4,\"size\":9.573199736875269},\"mode\":\"markers\",\"x\":[0.875],\"xaxis\":\"x5\",\"y\":[0.5],\"yaxis\":\"y5\",\"type\":\"scatter\"},{\"hovertemplate\":\"grosscapital: 1.06\",\"marker\":{\"color\":\"green\",\"opacity\":0.4,\"size\":24.68974719159246},\"mode\":\"markers\",\"x\":[0.125],\"xaxis\":\"x6\",\"y\":[0.5],\"yaxis\":\"y6\",\"type\":\"scatter\"},{\"hovertemplate\":\"lifeexpectancy: 0.9\",\"marker\":{\"color\":\"green\",\"opacity\":0.4,\"size\":21.011889002080014},\"mode\":\"markers\",\"x\":[0.375],\"xaxis\":\"x6\",\"y\":[0.5],\"yaxis\":\"y6\",\"type\":\"scatter\"},{\"hovertemplate\":\"education: 0.38\",\"marker\":{\"color\":\"green\",\"opacity\":0.4,\"size\":8.828274034902284},\"mode\":\"markers\",\"x\":[0.625],\"xaxis\":\"x6\",\"y\":[0.5],\"yaxis\":\"y6\",\"type\":\"scatter\"},{\"hovertemplate\":\"mfootprint: 0.68\",\"marker\":{\"color\":\"green\",\"opacity\":0.4,\"size\":15.819938584653617},\"mode\":\"markers\",\"x\":[0.875],\"xaxis\":\"x6\",\"y\":[0.5],\"yaxis\":\"y6\",\"type\":\"scatter\"},{\"hovertemplate\":\"gini: nan\",\"marker\":{\"color\":\"grey\",\"opacity\":0.2,\"size\":7.0},\"mode\":\"markers\",\"x\":[0.5],\"xaxis\":\"x2\",\"y\":[0.2],\"yaxis\":\"y2\",\"type\":\"scatter\"},{\"hovertemplate\":\"voice: -0.44\",\"marker\":{\"color\":\"green\",\"opacity\":0.4,\"size\":10.27589046436601},\"mode\":\"markers\",\"x\":[0.5],\"xaxis\":\"x2\",\"y\":[0.5],\"yaxis\":\"y2\",\"type\":\"scatter\"},{\"hovertemplate\":\"femaleminister: nan\",\"marker\":{\"color\":\"grey\",\"opacity\":0.2,\"size\":7.0},\"mode\":\"markers\",\"x\":[0.5],\"xaxis\":\"x2\",\"y\":[0.8],\"yaxis\":\"y2\",\"type\":\"scatter\"}],\"layout\":{\"annotations\":[{\"font\":{\"size\":18},\"showarrow\":false,\"text\":\"Year: 2007\",\"x\":0,\"xref\":\"paper\",\"y\":0.95,\"yref\":\"paper\"},{\"font\":{\"size\":18},\"showarrow\":false,\"text\":\"Country: Korea, Rep.\",\"x\":0,\"xref\":\"paper\",\"y\":0.85,\"yref\":\"paper\"}]},\"name\":\"2007\"},{\"data\":[{\"hovertemplate\":\"unemployed: -0.91\",\"marker\":{\"color\":\"green\",\"opacity\":0.4,\"size\":21.257486824548142},\"mode\":\"markers\",\"x\":[0.125],\"xaxis\":\"x\",\"y\":[0.5],\"yaxis\":\"y\",\"type\":\"scatter\"},{\"hovertemplate\":\"wealth: 1.36\",\"marker\":{\"color\":\"green\",\"opacity\":0.4,\"size\":31.81493552279762},\"mode\":\"markers\",\"x\":[0.375],\"xaxis\":\"x\",\"y\":[0.5],\"yaxis\":\"y\",\"type\":\"scatter\"},{\"hovertemplate\":\"energy: nan\",\"marker\":{\"color\":\"grey\",\"opacity\":0.2,\"size\":7.0},\"mode\":\"markers\",\"x\":[0.625],\"xaxis\":\"x\",\"y\":[0.5],\"yaxis\":\"y\",\"type\":\"scatter\"},{\"hovertemplate\":\"placeholder: 0.1\",\"marker\":{\"color\":\"green\",\"opacity\":0.4,\"size\":2.3333333333333335},\"mode\":\"markers\",\"x\":[0.875],\"xaxis\":\"x\",\"y\":[0.5],\"yaxis\":\"y\",\"type\":\"scatter\"},{\"hovertemplate\":\"govconsum: -0.39\",\"marker\":{\"color\":\"red\",\"opacity\":0.4,\"size\":9.07036900428115},\"mode\":\"markers\",\"x\":[0.125],\"xaxis\":\"x3\",\"y\":[0.5],\"yaxis\":\"y3\",\"type\":\"scatter\"},{\"hovertemplate\":\"marketcap: -0.18\",\"marker\":{\"color\":\"red\",\"opacity\":0.4,\"size\":4.087451910667162},\"mode\":\"markers\",\"x\":[0.375],\"xaxis\":\"x3\",\"y\":[0.5],\"yaxis\":\"y3\",\"type\":\"scatter\"},{\"hovertemplate\":\"houseconsum: -0.63\",\"marker\":{\"color\":\"red\",\"opacity\":0.4,\"size\":14.624961781336575},\"mode\":\"markers\",\"x\":[0.625],\"xaxis\":\"x3\",\"y\":[0.5],\"yaxis\":\"y3\",\"type\":\"scatter\"},{\"hovertemplate\":\"placeholder: 0.1\",\"marker\":{\"color\":\"green\",\"opacity\":0.4,\"size\":2.3333333333333335},\"mode\":\"markers\",\"x\":[0.875],\"xaxis\":\"x3\",\"y\":[0.5],\"yaxis\":\"y3\",\"type\":\"scatter\"},{\"hovertemplate\":\"agriculture: -0.6\",\"marker\":{\"color\":\"red\",\"opacity\":0.4,\"size\":13.903668595861378},\"mode\":\"markers\",\"x\":[0.25],\"xaxis\":\"x4\",\"y\":[0.5],\"yaxis\":\"y4\",\"type\":\"scatter\"},{\"hovertemplate\":\"industry: 0.73\",\"marker\":{\"color\":\"green\",\"opacity\":0.4,\"size\":17.10128393969534},\"mode\":\"markers\",\"x\":[0.5],\"xaxis\":\"x4\",\"y\":[0.5],\"yaxis\":\"y4\",\"type\":\"scatter\"},{\"hovertemplate\":\"services: 0.08\",\"marker\":{\"color\":\"green\",\"opacity\":0.4,\"size\":1.8015267224663432},\"mode\":\"markers\",\"x\":[0.75],\"xaxis\":\"x4\",\"y\":[0.5],\"yaxis\":\"y4\",\"type\":\"scatter\"},{\"hovertemplate\":\"eci: 1.59\",\"marker\":{\"color\":\"green\",\"opacity\":0.4,\"size\":37.00718977516671},\"mode\":\"markers\",\"x\":[0.125],\"xaxis\":\"x5\",\"y\":[0.5],\"yaxis\":\"y5\",\"type\":\"scatter\"},{\"hovertemplate\":\"exports: 0.46\",\"marker\":{\"color\":\"green\",\"opacity\":0.4,\"size\":10.709566426294305},\"mode\":\"markers\",\"x\":[0.375],\"xaxis\":\"x5\",\"y\":[0.5],\"yaxis\":\"y5\",\"type\":\"scatter\"},{\"hovertemplate\":\"resourcerents: -1.16\",\"marker\":{\"color\":\"red\",\"opacity\":0.4,\"size\":27.11872373042642},\"mode\":\"markers\",\"x\":[0.625],\"xaxis\":\"x5\",\"y\":[0.5],\"yaxis\":\"y5\",\"type\":\"scatter\"},{\"hovertemplate\":\"concentration: -0.45\",\"marker\":{\"color\":\"red\",\"opacity\":0.4,\"size\":10.509549233426227},\"mode\":\"markers\",\"x\":[0.875],\"xaxis\":\"x5\",\"y\":[0.5],\"yaxis\":\"y5\",\"type\":\"scatter\"},{\"hovertemplate\":\"grosscapital: 1.11\",\"marker\":{\"color\":\"green\",\"opacity\":0.4,\"size\":25.79078440768748},\"mode\":\"markers\",\"x\":[0.125],\"xaxis\":\"x6\",\"y\":[0.5],\"yaxis\":\"y6\",\"type\":\"scatter\"},{\"hovertemplate\":\"lifeexpectancy: 0.95\",\"marker\":{\"color\":\"green\",\"opacity\":0.4,\"size\":22.153688389158148},\"mode\":\"markers\",\"x\":[0.375],\"xaxis\":\"x6\",\"y\":[0.5],\"yaxis\":\"y6\",\"type\":\"scatter\"},{\"hovertemplate\":\"education: 0.37\",\"marker\":{\"color\":\"green\",\"opacity\":0.4,\"size\":8.522399506729586},\"mode\":\"markers\",\"x\":[0.625],\"xaxis\":\"x6\",\"y\":[0.5],\"yaxis\":\"y6\",\"type\":\"scatter\"},{\"hovertemplate\":\"mfootprint: 0.54\",\"marker\":{\"color\":\"green\",\"opacity\":0.4,\"size\":12.622360861388302},\"mode\":\"markers\",\"x\":[0.875],\"xaxis\":\"x6\",\"y\":[0.5],\"yaxis\":\"y6\",\"type\":\"scatter\"},{\"hovertemplate\":\"gini: -0.69\",\"marker\":{\"color\":\"green\",\"opacity\":0.4,\"size\":16.04616304179021},\"mode\":\"markers\",\"x\":[0.5],\"xaxis\":\"x2\",\"y\":[0.2],\"yaxis\":\"y2\",\"type\":\"scatter\"},{\"hovertemplate\":\"voice: -0.38\",\"marker\":{\"color\":\"green\",\"opacity\":0.4,\"size\":8.965816192050434},\"mode\":\"markers\",\"x\":[0.5],\"xaxis\":\"x2\",\"y\":[0.5],\"yaxis\":\"y2\",\"type\":\"scatter\"},{\"hovertemplate\":\"femaleminister: -1.72\",\"marker\":{\"color\":\"red\",\"opacity\":0.4,\"size\":40.232806698843994},\"mode\":\"markers\",\"x\":[0.5],\"xaxis\":\"x2\",\"y\":[0.8],\"yaxis\":\"y2\",\"type\":\"scatter\"}],\"layout\":{\"annotations\":[{\"font\":{\"size\":18},\"showarrow\":false,\"text\":\"Year: 2008\",\"x\":0,\"xref\":\"paper\",\"y\":0.95,\"yref\":\"paper\"},{\"font\":{\"size\":18},\"showarrow\":false,\"text\":\"Country: Korea, Rep.\",\"x\":0,\"xref\":\"paper\",\"y\":0.85,\"yref\":\"paper\"}]},\"name\":\"2008\"},{\"data\":[{\"hovertemplate\":\"unemployed: -0.77\",\"marker\":{\"color\":\"green\",\"opacity\":0.4,\"size\":17.9358990522393},\"mode\":\"markers\",\"x\":[0.125],\"xaxis\":\"x\",\"y\":[0.5],\"yaxis\":\"y\",\"type\":\"scatter\"},{\"hovertemplate\":\"wealth: 1.37\",\"marker\":{\"color\":\"green\",\"opacity\":0.4,\"size\":31.984213031904808},\"mode\":\"markers\",\"x\":[0.375],\"xaxis\":\"x\",\"y\":[0.5],\"yaxis\":\"y\",\"type\":\"scatter\"},{\"hovertemplate\":\"energy: nan\",\"marker\":{\"color\":\"grey\",\"opacity\":0.2,\"size\":7.0},\"mode\":\"markers\",\"x\":[0.625],\"xaxis\":\"x\",\"y\":[0.5],\"yaxis\":\"y\",\"type\":\"scatter\"},{\"hovertemplate\":\"placeholder: 0.1\",\"marker\":{\"color\":\"green\",\"opacity\":0.4,\"size\":2.3333333333333335},\"mode\":\"markers\",\"x\":[0.875],\"xaxis\":\"x\",\"y\":[0.5],\"yaxis\":\"y\",\"type\":\"scatter\"},{\"hovertemplate\":\"govconsum: -0.32\",\"marker\":{\"color\":\"red\",\"opacity\":0.4,\"size\":7.4377141573033665},\"mode\":\"markers\",\"x\":[0.125],\"xaxis\":\"x3\",\"y\":[0.5],\"yaxis\":\"y3\",\"type\":\"scatter\"},{\"hovertemplate\":\"marketcap: 0.15\",\"marker\":{\"color\":\"green\",\"opacity\":0.4,\"size\":3.5810759242479184},\"mode\":\"markers\",\"x\":[0.375],\"xaxis\":\"x3\",\"y\":[0.5],\"yaxis\":\"y3\",\"type\":\"scatter\"},{\"hovertemplate\":\"houseconsum: -0.67\",\"marker\":{\"color\":\"red\",\"opacity\":0.4,\"size\":15.741655513881147},\"mode\":\"markers\",\"x\":[0.625],\"xaxis\":\"x3\",\"y\":[0.5],\"yaxis\":\"y3\",\"type\":\"scatter\"},{\"hovertemplate\":\"placeholder: 0.1\",\"marker\":{\"color\":\"green\",\"opacity\":0.4,\"size\":2.3333333333333335},\"mode\":\"markers\",\"x\":[0.875],\"xaxis\":\"x3\",\"y\":[0.5],\"yaxis\":\"y3\",\"type\":\"scatter\"},{\"hovertemplate\":\"agriculture: -0.56\",\"marker\":{\"color\":\"red\",\"opacity\":0.4,\"size\":13.162713350490263},\"mode\":\"markers\",\"x\":[0.25],\"xaxis\":\"x4\",\"y\":[0.5],\"yaxis\":\"y4\",\"type\":\"scatter\"},{\"hovertemplate\":\"industry: 0.76\",\"marker\":{\"color\":\"green\",\"opacity\":0.4,\"size\":17.680612973360084},\"mode\":\"markers\",\"x\":[0.5],\"xaxis\":\"x4\",\"y\":[0.5],\"yaxis\":\"y4\",\"type\":\"scatter\"},{\"hovertemplate\":\"services: 0.06\",\"marker\":{\"color\":\"green\",\"opacity\":0.4,\"size\":1.4747139227485002},\"mode\":\"markers\",\"x\":[0.75],\"xaxis\":\"x4\",\"y\":[0.5],\"yaxis\":\"y4\",\"type\":\"scatter\"},{\"hovertemplate\":\"eci: 1.69\",\"marker\":{\"color\":\"green\",\"opacity\":0.4,\"size\":39.507050650563855},\"mode\":\"markers\",\"x\":[0.125],\"xaxis\":\"x5\",\"y\":[0.5],\"yaxis\":\"y5\",\"type\":\"scatter\"},{\"hovertemplate\":\"exports: 0.38\",\"marker\":{\"color\":\"green\",\"opacity\":0.4,\"size\":8.887278413246161},\"mode\":\"markers\",\"x\":[0.375],\"xaxis\":\"x5\",\"y\":[0.5],\"yaxis\":\"y5\",\"type\":\"scatter\"},{\"hovertemplate\":\"resourcerents: -1.23\",\"marker\":{\"color\":\"red\",\"opacity\":0.4,\"size\":28.787893959448823},\"mode\":\"markers\",\"x\":[0.625],\"xaxis\":\"x5\",\"y\":[0.5],\"yaxis\":\"y5\",\"type\":\"scatter\"},{\"hovertemplate\":\"concentration: -0.36\",\"marker\":{\"color\":\"red\",\"opacity\":0.4,\"size\":8.443758410259347},\"mode\":\"markers\",\"x\":[0.875],\"xaxis\":\"x5\",\"y\":[0.5],\"yaxis\":\"y5\",\"type\":\"scatter\"},{\"hovertemplate\":\"grosscapital: 0.73\",\"marker\":{\"color\":\"green\",\"opacity\":0.4,\"size\":17.042383876392087},\"mode\":\"markers\",\"x\":[0.125],\"xaxis\":\"x6\",\"y\":[0.5],\"yaxis\":\"y6\",\"type\":\"scatter\"},{\"hovertemplate\":\"lifeexpectancy: 1.0\",\"marker\":{\"color\":\"green\",\"opacity\":0.4,\"size\":23.449595668970833},\"mode\":\"markers\",\"x\":[0.375],\"xaxis\":\"x6\",\"y\":[0.5],\"yaxis\":\"y6\",\"type\":\"scatter\"},{\"hovertemplate\":\"education: 0.38\",\"marker\":{\"color\":\"green\",\"opacity\":0.4,\"size\":8.975155875708982},\"mode\":\"markers\",\"x\":[0.625],\"xaxis\":\"x6\",\"y\":[0.5],\"yaxis\":\"y6\",\"type\":\"scatter\"},{\"hovertemplate\":\"mfootprint: 0.28\",\"marker\":{\"color\":\"green\",\"opacity\":0.4,\"size\":6.515481088111805},\"mode\":\"markers\",\"x\":[0.875],\"xaxis\":\"x6\",\"y\":[0.5],\"yaxis\":\"y6\",\"type\":\"scatter\"},{\"hovertemplate\":\"gini: nan\",\"marker\":{\"color\":\"grey\",\"opacity\":0.2,\"size\":7.0},\"mode\":\"markers\",\"x\":[0.5],\"xaxis\":\"x2\",\"y\":[0.2],\"yaxis\":\"y2\",\"type\":\"scatter\"},{\"hovertemplate\":\"voice: -0.45\",\"marker\":{\"color\":\"green\",\"opacity\":0.4,\"size\":10.523572907979698},\"mode\":\"markers\",\"x\":[0.5],\"xaxis\":\"x2\",\"y\":[0.5],\"yaxis\":\"y2\",\"type\":\"scatter\"},{\"hovertemplate\":\"femaleminister: nan\",\"marker\":{\"color\":\"grey\",\"opacity\":0.2,\"size\":7.0},\"mode\":\"markers\",\"x\":[0.5],\"xaxis\":\"x2\",\"y\":[0.8],\"yaxis\":\"y2\",\"type\":\"scatter\"}],\"layout\":{\"annotations\":[{\"font\":{\"size\":18},\"showarrow\":false,\"text\":\"Year: 2009\",\"x\":0,\"xref\":\"paper\",\"y\":0.95,\"yref\":\"paper\"},{\"font\":{\"size\":18},\"showarrow\":false,\"text\":\"Country: Korea, Rep.\",\"x\":0,\"xref\":\"paper\",\"y\":0.85,\"yref\":\"paper\"}]},\"name\":\"2009\"},{\"data\":[{\"hovertemplate\":\"unemployed: -0.78\",\"marker\":{\"color\":\"green\",\"opacity\":0.4,\"size\":18.249740744065186},\"mode\":\"markers\",\"x\":[0.125],\"xaxis\":\"x\",\"y\":[0.5],\"yaxis\":\"y\",\"type\":\"scatter\"},{\"hovertemplate\":\"wealth: 1.43\",\"marker\":{\"color\":\"green\",\"opacity\":0.4,\"size\":33.359522958998866},\"mode\":\"markers\",\"x\":[0.375],\"xaxis\":\"x\",\"y\":[0.5],\"yaxis\":\"y\",\"type\":\"scatter\"},{\"hovertemplate\":\"energy: nan\",\"marker\":{\"color\":\"grey\",\"opacity\":0.2,\"size\":7.0},\"mode\":\"markers\",\"x\":[0.625],\"xaxis\":\"x\",\"y\":[0.5],\"yaxis\":\"y\",\"type\":\"scatter\"},{\"hovertemplate\":\"placeholder: 0.1\",\"marker\":{\"color\":\"green\",\"opacity\":0.4,\"size\":2.3333333333333335},\"mode\":\"markers\",\"x\":[0.875],\"xaxis\":\"x\",\"y\":[0.5],\"yaxis\":\"y\",\"type\":\"scatter\"},{\"hovertemplate\":\"govconsum: -0.37\",\"marker\":{\"color\":\"red\",\"opacity\":0.4,\"size\":8.65354345630702},\"mode\":\"markers\",\"x\":[0.125],\"xaxis\":\"x3\",\"y\":[0.5],\"yaxis\":\"y3\",\"type\":\"scatter\"},{\"hovertemplate\":\"marketcap: 0.21\",\"marker\":{\"color\":\"green\",\"opacity\":0.4,\"size\":4.820531334770193},\"mode\":\"markers\",\"x\":[0.375],\"xaxis\":\"x3\",\"y\":[0.5],\"yaxis\":\"y3\",\"type\":\"scatter\"},{\"hovertemplate\":\"houseconsum: -0.74\",\"marker\":{\"color\":\"red\",\"opacity\":0.4,\"size\":17.339092758998035},\"mode\":\"markers\",\"x\":[0.625],\"xaxis\":\"x3\",\"y\":[0.5],\"yaxis\":\"y3\",\"type\":\"scatter\"},{\"hovertemplate\":\"placeholder: 0.1\",\"marker\":{\"color\":\"green\",\"opacity\":0.4,\"size\":2.3333333333333335},\"mode\":\"markers\",\"x\":[0.875],\"xaxis\":\"x3\",\"y\":[0.5],\"yaxis\":\"y3\",\"type\":\"scatter\"},{\"hovertemplate\":\"agriculture: -0.6\",\"marker\":{\"color\":\"red\",\"opacity\":0.4,\"size\":13.890056009051033},\"mode\":\"markers\",\"x\":[0.25],\"xaxis\":\"x4\",\"y\":[0.5],\"yaxis\":\"y4\",\"type\":\"scatter\"},{\"hovertemplate\":\"industry: 0.83\",\"marker\":{\"color\":\"green\",\"opacity\":0.4,\"size\":19.414298369938262},\"mode\":\"markers\",\"x\":[0.5],\"xaxis\":\"x4\",\"y\":[0.5],\"yaxis\":\"y4\",\"type\":\"scatter\"},{\"hovertemplate\":\"services: -0.03\",\"marker\":{\"color\":\"red\",\"opacity\":0.4,\"size\":0.8079232480191498},\"mode\":\"markers\",\"x\":[0.75],\"xaxis\":\"x4\",\"y\":[0.5],\"yaxis\":\"y4\",\"type\":\"scatter\"},{\"hovertemplate\":\"eci: 1.79\",\"marker\":{\"color\":\"green\",\"opacity\":0.4,\"size\":41.82955026060155},\"mode\":\"markers\",\"x\":[0.125],\"xaxis\":\"x5\",\"y\":[0.5],\"yaxis\":\"y5\",\"type\":\"scatter\"},{\"hovertemplate\":\"exports: 0.44\",\"marker\":{\"color\":\"green\",\"opacity\":0.4,\"size\":10.31853121495245},\"mode\":\"markers\",\"x\":[0.375],\"xaxis\":\"x5\",\"y\":[0.5],\"yaxis\":\"y5\",\"type\":\"scatter\"},{\"hovertemplate\":\"resourcerents: -1.16\",\"marker\":{\"color\":\"red\",\"opacity\":0.4,\"size\":27.181255227691025},\"mode\":\"markers\",\"x\":[0.625],\"xaxis\":\"x5\",\"y\":[0.5],\"yaxis\":\"y5\",\"type\":\"scatter\"},{\"hovertemplate\":\"concentration: -0.34\",\"marker\":{\"color\":\"red\",\"opacity\":0.4,\"size\":7.921571501759922},\"mode\":\"markers\",\"x\":[0.875],\"xaxis\":\"x5\",\"y\":[0.5],\"yaxis\":\"y5\",\"type\":\"scatter\"},{\"hovertemplate\":\"grosscapital: 1.01\",\"marker\":{\"color\":\"green\",\"opacity\":0.4,\"size\":23.617171222103966},\"mode\":\"markers\",\"x\":[0.125],\"xaxis\":\"x6\",\"y\":[0.5],\"yaxis\":\"y6\",\"type\":\"scatter\"},{\"hovertemplate\":\"lifeexpectancy: 1.02\",\"marker\":{\"color\":\"green\",\"opacity\":0.4,\"size\":23.876894826098336},\"mode\":\"markers\",\"x\":[0.375],\"xaxis\":\"x6\",\"y\":[0.5],\"yaxis\":\"y6\",\"type\":\"scatter\"},{\"hovertemplate\":\"education: 0.4\",\"marker\":{\"color\":\"green\",\"opacity\":0.4,\"size\":9.319159289221533},\"mode\":\"markers\",\"x\":[0.625],\"xaxis\":\"x6\",\"y\":[0.5],\"yaxis\":\"y6\",\"type\":\"scatter\"},{\"hovertemplate\":\"mfootprint: 0.4\",\"marker\":{\"color\":\"green\",\"opacity\":0.4,\"size\":9.354049578767528},\"mode\":\"markers\",\"x\":[0.875],\"xaxis\":\"x6\",\"y\":[0.5],\"yaxis\":\"y6\",\"type\":\"scatter\"},{\"hovertemplate\":\"gini: -0.71\",\"marker\":{\"color\":\"green\",\"opacity\":0.4,\"size\":16.626144838481416},\"mode\":\"markers\",\"x\":[0.5],\"xaxis\":\"x2\",\"y\":[0.2],\"yaxis\":\"y2\",\"type\":\"scatter\"},{\"hovertemplate\":\"voice: -0.5\",\"marker\":{\"color\":\"green\",\"opacity\":0.4,\"size\":11.591114513133915},\"mode\":\"markers\",\"x\":[0.5],\"xaxis\":\"x2\",\"y\":[0.5],\"yaxis\":\"y2\",\"type\":\"scatter\"},{\"hovertemplate\":\"femaleminister: -0.4\",\"marker\":{\"color\":\"red\",\"opacity\":0.4,\"size\":9.270937806705733},\"mode\":\"markers\",\"x\":[0.5],\"xaxis\":\"x2\",\"y\":[0.8],\"yaxis\":\"y2\",\"type\":\"scatter\"}],\"layout\":{\"annotations\":[{\"font\":{\"size\":18},\"showarrow\":false,\"text\":\"Year: 2010\",\"x\":0,\"xref\":\"paper\",\"y\":0.95,\"yref\":\"paper\"},{\"font\":{\"size\":18},\"showarrow\":false,\"text\":\"Country: Korea, Rep.\",\"x\":0,\"xref\":\"paper\",\"y\":0.85,\"yref\":\"paper\"}]},\"name\":\"2010\"},{\"data\":[{\"hovertemplate\":\"unemployed: -0.9\",\"marker\":{\"color\":\"green\",\"opacity\":0.4,\"size\":20.993227764543292},\"mode\":\"markers\",\"x\":[0.125],\"xaxis\":\"x\",\"y\":[0.5],\"yaxis\":\"y\",\"type\":\"scatter\"},{\"hovertemplate\":\"wealth: 1.49\",\"marker\":{\"color\":\"green\",\"opacity\":0.4,\"size\":34.713282121118404},\"mode\":\"markers\",\"x\":[0.375],\"xaxis\":\"x\",\"y\":[0.5],\"yaxis\":\"y\",\"type\":\"scatter\"},{\"hovertemplate\":\"energy: nan\",\"marker\":{\"color\":\"grey\",\"opacity\":0.2,\"size\":7.0},\"mode\":\"markers\",\"x\":[0.625],\"xaxis\":\"x\",\"y\":[0.5],\"yaxis\":\"y\",\"type\":\"scatter\"},{\"hovertemplate\":\"placeholder: 0.1\",\"marker\":{\"color\":\"green\",\"opacity\":0.4,\"size\":2.3333333333333335},\"mode\":\"markers\",\"x\":[0.875],\"xaxis\":\"x\",\"y\":[0.5],\"yaxis\":\"y\",\"type\":\"scatter\"},{\"hovertemplate\":\"govconsum: -0.35\",\"marker\":{\"color\":\"red\",\"opacity\":0.4,\"size\":8.205873599198693},\"mode\":\"markers\",\"x\":[0.125],\"xaxis\":\"x3\",\"y\":[0.5],\"yaxis\":\"y3\",\"type\":\"scatter\"},{\"hovertemplate\":\"marketcap: 0.09\",\"marker\":{\"color\":\"green\",\"opacity\":0.4,\"size\":2.0055526752039285},\"mode\":\"markers\",\"x\":[0.375],\"xaxis\":\"x3\",\"y\":[0.5],\"yaxis\":\"y3\",\"type\":\"scatter\"},{\"hovertemplate\":\"houseconsum: -0.7\",\"marker\":{\"color\":\"red\",\"opacity\":0.4,\"size\":16.351623092248552},\"mode\":\"markers\",\"x\":[0.625],\"xaxis\":\"x3\",\"y\":[0.5],\"yaxis\":\"y3\",\"type\":\"scatter\"},{\"hovertemplate\":\"placeholder: 0.1\",\"marker\":{\"color\":\"green\",\"opacity\":0.4,\"size\":2.3333333333333335},\"mode\":\"markers\",\"x\":[0.875],\"xaxis\":\"x3\",\"y\":[0.5],\"yaxis\":\"y3\",\"type\":\"scatter\"},{\"hovertemplate\":\"agriculture: -0.57\",\"marker\":{\"color\":\"red\",\"opacity\":0.4,\"size\":13.395463580984934},\"mode\":\"markers\",\"x\":[0.25],\"xaxis\":\"x4\",\"y\":[0.5],\"yaxis\":\"y4\",\"type\":\"scatter\"},{\"hovertemplate\":\"industry: 0.85\",\"marker\":{\"color\":\"green\",\"opacity\":0.4,\"size\":19.88173923314137},\"mode\":\"markers\",\"x\":[0.5],\"xaxis\":\"x4\",\"y\":[0.5],\"yaxis\":\"y4\",\"type\":\"scatter\"},{\"hovertemplate\":\"services: -0.04\",\"marker\":{\"color\":\"red\",\"opacity\":0.4,\"size\":0.894127886638611},\"mode\":\"markers\",\"x\":[0.75],\"xaxis\":\"x4\",\"y\":[0.5],\"yaxis\":\"y4\",\"type\":\"scatter\"},{\"hovertemplate\":\"eci: 1.8\",\"marker\":{\"color\":\"green\",\"opacity\":0.4,\"size\":41.957698781579396},\"mode\":\"markers\",\"x\":[0.125],\"xaxis\":\"x5\",\"y\":[0.5],\"yaxis\":\"y5\",\"type\":\"scatter\"},{\"hovertemplate\":\"exports: 0.63\",\"marker\":{\"color\":\"green\",\"opacity\":0.4,\"size\":14.596921140219143},\"mode\":\"markers\",\"x\":[0.375],\"xaxis\":\"x5\",\"y\":[0.5],\"yaxis\":\"y5\",\"type\":\"scatter\"},{\"hovertemplate\":\"resourcerents: -1.1\",\"marker\":{\"color\":\"red\",\"opacity\":0.4,\"size\":25.771602469802087},\"mode\":\"markers\",\"x\":[0.625],\"xaxis\":\"x5\",\"y\":[0.5],\"yaxis\":\"y5\",\"type\":\"scatter\"},{\"hovertemplate\":\"concentration: -0.33\",\"marker\":{\"color\":\"red\",\"opacity\":0.4,\"size\":7.686833134267411},\"mode\":\"markers\",\"x\":[0.875],\"xaxis\":\"x5\",\"y\":[0.5],\"yaxis\":\"y5\",\"type\":\"scatter\"},{\"hovertemplate\":\"grosscapital: 1.08\",\"marker\":{\"color\":\"green\",\"opacity\":0.4,\"size\":25.121190027625307},\"mode\":\"markers\",\"x\":[0.125],\"xaxis\":\"x6\",\"y\":[0.5],\"yaxis\":\"y6\",\"type\":\"scatter\"},{\"hovertemplate\":\"lifeexpectancy: 1.08\",\"marker\":{\"color\":\"green\",\"opacity\":0.4,\"size\":25.172802105911313},\"mode\":\"markers\",\"x\":[0.375],\"xaxis\":\"x6\",\"y\":[0.5],\"yaxis\":\"y6\",\"type\":\"scatter\"},{\"hovertemplate\":\"education: 0.41\",\"marker\":{\"color\":\"green\",\"opacity\":0.4,\"size\":9.518624481357199},\"mode\":\"markers\",\"x\":[0.625],\"xaxis\":\"x6\",\"y\":[0.5],\"yaxis\":\"y6\",\"type\":\"scatter\"},{\"hovertemplate\":\"mfootprint: 0.49\",\"marker\":{\"color\":\"green\",\"opacity\":0.4,\"size\":11.508104974425075},\"mode\":\"markers\",\"x\":[0.875],\"xaxis\":\"x6\",\"y\":[0.5],\"yaxis\":\"y6\",\"type\":\"scatter\"},{\"hovertemplate\":\"gini: nan\",\"marker\":{\"color\":\"grey\",\"opacity\":0.2,\"size\":7.0},\"mode\":\"markers\",\"x\":[0.5],\"xaxis\":\"x2\",\"y\":[0.2],\"yaxis\":\"y2\",\"type\":\"scatter\"},{\"hovertemplate\":\"voice: -0.48\",\"marker\":{\"color\":\"green\",\"opacity\":0.4,\"size\":11.13566766062598},\"mode\":\"markers\",\"x\":[0.5],\"xaxis\":\"x2\",\"y\":[0.5],\"yaxis\":\"y2\",\"type\":\"scatter\"},{\"hovertemplate\":\"femaleminister: nan\",\"marker\":{\"color\":\"grey\",\"opacity\":0.2,\"size\":7.0},\"mode\":\"markers\",\"x\":[0.5],\"xaxis\":\"x2\",\"y\":[0.8],\"yaxis\":\"y2\",\"type\":\"scatter\"}],\"layout\":{\"annotations\":[{\"font\":{\"size\":18},\"showarrow\":false,\"text\":\"Year: 2011\",\"x\":0,\"xref\":\"paper\",\"y\":0.95,\"yref\":\"paper\"},{\"font\":{\"size\":18},\"showarrow\":false,\"text\":\"Country: Korea, Rep.\",\"x\":0,\"xref\":\"paper\",\"y\":0.85,\"yref\":\"paper\"}]},\"name\":\"2011\"},{\"data\":[{\"hovertemplate\":\"unemployed: -0.97\",\"marker\":{\"color\":\"green\",\"opacity\":0.4,\"size\":22.620296556017614},\"mode\":\"markers\",\"x\":[0.125],\"xaxis\":\"x\",\"y\":[0.5],\"yaxis\":\"y\",\"type\":\"scatter\"},{\"hovertemplate\":\"wealth: 1.54\",\"marker\":{\"color\":\"green\",\"opacity\":0.4,\"size\":35.86948821853973},\"mode\":\"markers\",\"x\":[0.375],\"xaxis\":\"x\",\"y\":[0.5],\"yaxis\":\"y\",\"type\":\"scatter\"},{\"hovertemplate\":\"energy: nan\",\"marker\":{\"color\":\"grey\",\"opacity\":0.2,\"size\":7.0},\"mode\":\"markers\",\"x\":[0.625],\"xaxis\":\"x\",\"y\":[0.5],\"yaxis\":\"y\",\"type\":\"scatter\"},{\"hovertemplate\":\"placeholder: 0.1\",\"marker\":{\"color\":\"green\",\"opacity\":0.4,\"size\":2.3333333333333335},\"mode\":\"markers\",\"x\":[0.875],\"xaxis\":\"x\",\"y\":[0.5],\"yaxis\":\"y\",\"type\":\"scatter\"},{\"hovertemplate\":\"govconsum: -0.32\",\"marker\":{\"color\":\"red\",\"opacity\":0.4,\"size\":7.370411235447243},\"mode\":\"markers\",\"x\":[0.125],\"xaxis\":\"x3\",\"y\":[0.5],\"yaxis\":\"y3\",\"type\":\"scatter\"},{\"hovertemplate\":\"marketcap: 0.18\",\"marker\":{\"color\":\"green\",\"opacity\":0.4,\"size\":4.258461815807265},\"mode\":\"markers\",\"x\":[0.375],\"xaxis\":\"x3\",\"y\":[0.5],\"yaxis\":\"y3\",\"type\":\"scatter\"},{\"hovertemplate\":\"houseconsum: -0.7\",\"marker\":{\"color\":\"red\",\"opacity\":0.4,\"size\":16.262477739306902},\"mode\":\"markers\",\"x\":[0.625],\"xaxis\":\"x3\",\"y\":[0.5],\"yaxis\":\"y3\",\"type\":\"scatter\"},{\"hovertemplate\":\"placeholder: 0.1\",\"marker\":{\"color\":\"green\",\"opacity\":0.4,\"size\":2.3333333333333335},\"mode\":\"markers\",\"x\":[0.875],\"xaxis\":\"x3\",\"y\":[0.5],\"yaxis\":\"y3\",\"type\":\"scatter\"},{\"hovertemplate\":\"agriculture: -0.58\",\"marker\":{\"color\":\"red\",\"opacity\":0.4,\"size\":13.568406621207874},\"mode\":\"markers\",\"x\":[0.25],\"xaxis\":\"x4\",\"y\":[0.5],\"yaxis\":\"y4\",\"type\":\"scatter\"},{\"hovertemplate\":\"industry: 0.83\",\"marker\":{\"color\":\"green\",\"opacity\":0.4,\"size\":19.439474748852362},\"mode\":\"markers\",\"x\":[0.5],\"xaxis\":\"x4\",\"y\":[0.5],\"yaxis\":\"y4\",\"type\":\"scatter\"},{\"hovertemplate\":\"services: -0.01\",\"marker\":{\"color\":\"red\",\"opacity\":0.4,\"size\":0.14432717979903092},\"mode\":\"markers\",\"x\":[0.75],\"xaxis\":\"x4\",\"y\":[0.5],\"yaxis\":\"y4\",\"type\":\"scatter\"},{\"hovertemplate\":\"eci: 1.89\",\"marker\":{\"color\":\"green\",\"opacity\":0.4,\"size\":44.01110359380234},\"mode\":\"markers\",\"x\":[0.125],\"xaxis\":\"x5\",\"y\":[0.5],\"yaxis\":\"y5\",\"type\":\"scatter\"},{\"hovertemplate\":\"exports: 0.65\",\"marker\":{\"color\":\"green\",\"opacity\":0.4,\"size\":15.08159324680394},\"mode\":\"markers\",\"x\":[0.375],\"xaxis\":\"x5\",\"y\":[0.5],\"yaxis\":\"y5\",\"type\":\"scatter\"},{\"hovertemplate\":\"resourcerents: -1.07\",\"marker\":{\"color\":\"red\",\"opacity\":0.4,\"size\":25.05322999994375},\"mode\":\"markers\",\"x\":[0.625],\"xaxis\":\"x5\",\"y\":[0.5],\"yaxis\":\"y5\",\"type\":\"scatter\"},{\"hovertemplate\":\"concentration: -0.3\",\"marker\":{\"color\":\"red\",\"opacity\":0.4,\"size\":7.037318532817169},\"mode\":\"markers\",\"x\":[0.875],\"xaxis\":\"x5\",\"y\":[0.5],\"yaxis\":\"y5\",\"type\":\"scatter\"},{\"hovertemplate\":\"grosscapital: 0.91\",\"marker\":{\"color\":\"green\",\"opacity\":0.4,\"size\":21.119380277892013},\"mode\":\"markers\",\"x\":[0.125],\"xaxis\":\"x6\",\"y\":[0.5],\"yaxis\":\"y6\",\"type\":\"scatter\"},{\"hovertemplate\":\"lifeexpectancy: 1.11\",\"marker\":{\"color\":\"green\",\"opacity\":0.4,\"size\":25.894307240077293},\"mode\":\"markers\",\"x\":[0.375],\"xaxis\":\"x6\",\"y\":[0.5],\"yaxis\":\"y6\",\"type\":\"scatter\"},{\"hovertemplate\":\"education: 0.4\",\"marker\":{\"color\":\"green\",\"opacity\":0.4,\"size\":9.381909055604767},\"mode\":\"markers\",\"x\":[0.625],\"xaxis\":\"x6\",\"y\":[0.5],\"yaxis\":\"y6\",\"type\":\"scatter\"},{\"hovertemplate\":\"mfootprint: 0.43\",\"marker\":{\"color\":\"green\",\"opacity\":0.4,\"size\":10.12289261523983},\"mode\":\"markers\",\"x\":[0.875],\"xaxis\":\"x6\",\"y\":[0.5],\"yaxis\":\"y6\",\"type\":\"scatter\"},{\"hovertemplate\":\"gini: -0.75\",\"marker\":{\"color\":\"green\",\"opacity\":0.4,\"size\":17.399453900736365},\"mode\":\"markers\",\"x\":[0.5],\"xaxis\":\"x2\",\"y\":[0.2],\"yaxis\":\"y2\",\"type\":\"scatter\"},{\"hovertemplate\":\"voice: -0.48\",\"marker\":{\"color\":\"green\",\"opacity\":0.4,\"size\":11.093350380509762},\"mode\":\"markers\",\"x\":[0.5],\"xaxis\":\"x2\",\"y\":[0.5],\"yaxis\":\"y2\",\"type\":\"scatter\"},{\"hovertemplate\":\"femaleminister: -0.57\",\"marker\":{\"color\":\"red\",\"opacity\":0.4,\"size\":13.284685998116077},\"mode\":\"markers\",\"x\":[0.5],\"xaxis\":\"x2\",\"y\":[0.8],\"yaxis\":\"y2\",\"type\":\"scatter\"}],\"layout\":{\"annotations\":[{\"font\":{\"size\":18},\"showarrow\":false,\"text\":\"Year: 2012\",\"x\":0,\"xref\":\"paper\",\"y\":0.95,\"yref\":\"paper\"},{\"font\":{\"size\":18},\"showarrow\":false,\"text\":\"Country: Korea, Rep.\",\"x\":0,\"xref\":\"paper\",\"y\":0.85,\"yref\":\"paper\"}]},\"name\":\"2012\"},{\"data\":[{\"hovertemplate\":\"unemployed: -0.99\",\"marker\":{\"color\":\"green\",\"opacity\":0.4,\"size\":23.185904153729485},\"mode\":\"markers\",\"x\":[0.125],\"xaxis\":\"x\",\"y\":[0.5],\"yaxis\":\"y\",\"type\":\"scatter\"},{\"hovertemplate\":\"wealth: 1.58\",\"marker\":{\"color\":\"green\",\"opacity\":0.4,\"size\":36.75131677524861},\"mode\":\"markers\",\"x\":[0.375],\"xaxis\":\"x\",\"y\":[0.5],\"yaxis\":\"y\",\"type\":\"scatter\"},{\"hovertemplate\":\"energy: nan\",\"marker\":{\"color\":\"grey\",\"opacity\":0.2,\"size\":7.0},\"mode\":\"markers\",\"x\":[0.625],\"xaxis\":\"x\",\"y\":[0.5],\"yaxis\":\"y\",\"type\":\"scatter\"},{\"hovertemplate\":\"placeholder: 0.1\",\"marker\":{\"color\":\"green\",\"opacity\":0.4,\"size\":2.3333333333333335},\"mode\":\"markers\",\"x\":[0.875],\"xaxis\":\"x\",\"y\":[0.5],\"yaxis\":\"y\",\"type\":\"scatter\"},{\"hovertemplate\":\"govconsum: -0.28\",\"marker\":{\"color\":\"red\",\"opacity\":0.4,\"size\":6.595040033601998},\"mode\":\"markers\",\"x\":[0.125],\"xaxis\":\"x3\",\"y\":[0.5],\"yaxis\":\"y3\",\"type\":\"scatter\"},{\"hovertemplate\":\"marketcap: 0.17\",\"marker\":{\"color\":\"green\",\"opacity\":0.4,\"size\":3.871242336981937},\"mode\":\"markers\",\"x\":[0.375],\"xaxis\":\"x3\",\"y\":[0.5],\"yaxis\":\"y3\",\"type\":\"scatter\"},{\"hovertemplate\":\"houseconsum: -0.74\",\"marker\":{\"color\":\"red\",\"opacity\":0.4,\"size\":17.247393142545416},\"mode\":\"markers\",\"x\":[0.625],\"xaxis\":\"x3\",\"y\":[0.5],\"yaxis\":\"y3\",\"type\":\"scatter\"},{\"hovertemplate\":\"placeholder: 0.1\",\"marker\":{\"color\":\"green\",\"opacity\":0.4,\"size\":2.3333333333333335},\"mode\":\"markers\",\"x\":[0.875],\"xaxis\":\"x3\",\"y\":[0.5],\"yaxis\":\"y3\",\"type\":\"scatter\"},{\"hovertemplate\":\"agriculture: -0.61\",\"marker\":{\"color\":\"red\",\"opacity\":0.4,\"size\":14.240112920072386},\"mode\":\"markers\",\"x\":[0.25],\"xaxis\":\"x4\",\"y\":[0.5],\"yaxis\":\"y4\",\"type\":\"scatter\"},{\"hovertemplate\":\"industry: 0.85\",\"marker\":{\"color\":\"green\",\"opacity\":0.4,\"size\":19.87737107059766},\"mode\":\"markers\",\"x\":[0.5],\"xaxis\":\"x4\",\"y\":[0.5],\"yaxis\":\"y4\",\"type\":\"scatter\"},{\"hovertemplate\":\"services: 0.0\",\"marker\":{\"color\":\"green\",\"opacity\":0.4,\"size\":0.10305922964039313},\"mode\":\"markers\",\"x\":[0.75],\"xaxis\":\"x4\",\"y\":[0.5],\"yaxis\":\"y4\",\"type\":\"scatter\"},{\"hovertemplate\":\"eci: 1.86\",\"marker\":{\"color\":\"green\",\"opacity\":0.4,\"size\":43.46563588510798},\"mode\":\"markers\",\"x\":[0.125],\"xaxis\":\"x5\",\"y\":[0.5],\"yaxis\":\"y5\",\"type\":\"scatter\"},{\"hovertemplate\":\"exports: 0.57\",\"marker\":{\"color\":\"green\",\"opacity\":0.4,\"size\":13.250744855022045},\"mode\":\"markers\",\"x\":[0.375],\"xaxis\":\"x5\",\"y\":[0.5],\"yaxis\":\"y5\",\"type\":\"scatter\"},{\"hovertemplate\":\"resourcerents: -1.17\",\"marker\":{\"color\":\"red\",\"opacity\":0.4,\"size\":27.386267670579635},\"mode\":\"markers\",\"x\":[0.625],\"xaxis\":\"x5\",\"y\":[0.5],\"yaxis\":\"y5\",\"type\":\"scatter\"},{\"hovertemplate\":\"concentration: -0.26\",\"marker\":{\"color\":\"red\",\"opacity\":0.4,\"size\":6.015844144233071},\"mode\":\"markers\",\"x\":[0.875],\"xaxis\":\"x5\",\"y\":[0.5],\"yaxis\":\"y5\",\"type\":\"scatter\"},{\"hovertemplate\":\"grosscapital: 0.78\",\"marker\":{\"color\":\"green\",\"opacity\":0.4,\"size\":18.099361427819694},\"mode\":\"markers\",\"x\":[0.125],\"xaxis\":\"x6\",\"y\":[0.5],\"yaxis\":\"y6\",\"type\":\"scatter\"},{\"hovertemplate\":\"lifeexpectancy: 1.17\",\"marker\":{\"color\":\"green\",\"opacity\":0.4,\"size\":27.190214519889974},\"mode\":\"markers\",\"x\":[0.375],\"xaxis\":\"x6\",\"y\":[0.5],\"yaxis\":\"y6\",\"type\":\"scatter\"},{\"hovertemplate\":\"education: 0.42\",\"marker\":{\"color\":\"green\",\"opacity\":0.4,\"size\":9.771233175619715},\"mode\":\"markers\",\"x\":[0.625],\"xaxis\":\"x6\",\"y\":[0.5],\"yaxis\":\"y6\",\"type\":\"scatter\"},{\"hovertemplate\":\"mfootprint: 0.39\",\"marker\":{\"color\":\"green\",\"opacity\":0.4,\"size\":9.166128154484511},\"mode\":\"markers\",\"x\":[0.875],\"xaxis\":\"x6\",\"y\":[0.5],\"yaxis\":\"y6\",\"type\":\"scatter\"},{\"hovertemplate\":\"gini: nan\",\"marker\":{\"color\":\"grey\",\"opacity\":0.2,\"size\":7.0},\"mode\":\"markers\",\"x\":[0.5],\"xaxis\":\"x2\",\"y\":[0.2],\"yaxis\":\"y2\",\"type\":\"scatter\"},{\"hovertemplate\":\"voice: -0.45\",\"marker\":{\"color\":\"green\",\"opacity\":0.4,\"size\":10.466770954300982},\"mode\":\"markers\",\"x\":[0.5],\"xaxis\":\"x2\",\"y\":[0.5],\"yaxis\":\"y2\",\"type\":\"scatter\"},{\"hovertemplate\":\"femaleminister: nan\",\"marker\":{\"color\":\"grey\",\"opacity\":0.2,\"size\":7.0},\"mode\":\"markers\",\"x\":[0.5],\"xaxis\":\"x2\",\"y\":[0.8],\"yaxis\":\"y2\",\"type\":\"scatter\"}],\"layout\":{\"annotations\":[{\"font\":{\"size\":18},\"showarrow\":false,\"text\":\"Year: 2013\",\"x\":0,\"xref\":\"paper\",\"y\":0.95,\"yref\":\"paper\"},{\"font\":{\"size\":18},\"showarrow\":false,\"text\":\"Country: Korea, Rep.\",\"x\":0,\"xref\":\"paper\",\"y\":0.85,\"yref\":\"paper\"}]},\"name\":\"2013\"},{\"data\":[{\"hovertemplate\":\"unemployed: -0.87\",\"marker\":{\"color\":\"green\",\"opacity\":0.4,\"size\":20.216072911858383},\"mode\":\"markers\",\"x\":[0.125],\"xaxis\":\"x\",\"y\":[0.5],\"yaxis\":\"y\",\"type\":\"scatter\"},{\"hovertemplate\":\"wealth: 1.63\",\"marker\":{\"color\":\"green\",\"opacity\":0.4,\"size\":38.06718624422594},\"mode\":\"markers\",\"x\":[0.375],\"xaxis\":\"x\",\"y\":[0.5],\"yaxis\":\"y\",\"type\":\"scatter\"},{\"hovertemplate\":\"energy: nan\",\"marker\":{\"color\":\"grey\",\"opacity\":0.2,\"size\":7.0},\"mode\":\"markers\",\"x\":[0.625],\"xaxis\":\"x\",\"y\":[0.5],\"yaxis\":\"y\",\"type\":\"scatter\"},{\"hovertemplate\":\"placeholder: 0.1\",\"marker\":{\"color\":\"green\",\"opacity\":0.4,\"size\":2.3333333333333335},\"mode\":\"markers\",\"x\":[0.875],\"xaxis\":\"x\",\"y\":[0.5],\"yaxis\":\"y\",\"type\":\"scatter\"},{\"hovertemplate\":\"govconsum: -0.25\",\"marker\":{\"color\":\"red\",\"opacity\":0.4,\"size\":5.931695130719373},\"mode\":\"markers\",\"x\":[0.125],\"xaxis\":\"x3\",\"y\":[0.5],\"yaxis\":\"y3\",\"type\":\"scatter\"},{\"hovertemplate\":\"marketcap: 0.1\",\"marker\":{\"color\":\"green\",\"opacity\":0.4,\"size\":2.3969811930819875},\"mode\":\"markers\",\"x\":[0.375],\"xaxis\":\"x3\",\"y\":[0.5],\"yaxis\":\"y3\",\"type\":\"scatter\"},{\"hovertemplate\":\"houseconsum: -0.77\",\"marker\":{\"color\":\"red\",\"opacity\":0.4,\"size\":17.98474254447512},\"mode\":\"markers\",\"x\":[0.625],\"xaxis\":\"x3\",\"y\":[0.5],\"yaxis\":\"y3\",\"type\":\"scatter\"},{\"hovertemplate\":\"placeholder: 0.1\",\"marker\":{\"color\":\"green\",\"opacity\":0.4,\"size\":2.3333333333333335},\"mode\":\"markers\",\"x\":[0.875],\"xaxis\":\"x3\",\"y\":[0.5],\"yaxis\":\"y3\",\"type\":\"scatter\"},{\"hovertemplate\":\"agriculture: -0.62\",\"marker\":{\"color\":\"red\",\"opacity\":0.4,\"size\":14.576867979347975},\"mode\":\"markers\",\"x\":[0.25],\"xaxis\":\"x4\",\"y\":[0.5],\"yaxis\":\"y4\",\"type\":\"scatter\"},{\"hovertemplate\":\"industry: 0.83\",\"marker\":{\"color\":\"green\",\"opacity\":0.4,\"size\":19.379000727213334},\"mode\":\"markers\",\"x\":[0.5],\"xaxis\":\"x4\",\"y\":[0.5],\"yaxis\":\"y4\",\"type\":\"scatter\"},{\"hovertemplate\":\"services: 0.04\",\"marker\":{\"color\":\"green\",\"opacity\":0.4,\"size\":0.8592680686065493},\"mode\":\"markers\",\"x\":[0.75],\"xaxis\":\"x4\",\"y\":[0.5],\"yaxis\":\"y4\",\"type\":\"scatter\"},{\"hovertemplate\":\"eci: 2.02\",\"marker\":{\"color\":\"green\",\"opacity\":0.403360944042184,\"size\":47.05877680492146},\"mode\":\"markers\",\"x\":[0.125],\"xaxis\":\"x5\",\"y\":[0.5],\"yaxis\":\"y5\",\"type\":\"scatter\"},{\"hovertemplate\":\"exports: 0.46\",\"marker\":{\"color\":\"green\",\"opacity\":0.4,\"size\":10.846237909864929},\"mode\":\"markers\",\"x\":[0.375],\"xaxis\":\"x5\",\"y\":[0.5],\"yaxis\":\"y5\",\"type\":\"scatter\"},{\"hovertemplate\":\"resourcerents: -1.21\",\"marker\":{\"color\":\"red\",\"opacity\":0.4,\"size\":28.170077153532215},\"mode\":\"markers\",\"x\":[0.625],\"xaxis\":\"x5\",\"y\":[0.5],\"yaxis\":\"y5\",\"type\":\"scatter\"},{\"hovertemplate\":\"concentration: -0.23\",\"marker\":{\"color\":\"red\",\"opacity\":0.4,\"size\":5.280311904821858},\"mode\":\"markers\",\"x\":[0.875],\"xaxis\":\"x5\",\"y\":[0.5],\"yaxis\":\"y5\",\"type\":\"scatter\"},{\"hovertemplate\":\"grosscapital: 0.77\",\"marker\":{\"color\":\"green\",\"opacity\":0.4,\"size\":17.894154249635744},\"mode\":\"markers\",\"x\":[0.125],\"xaxis\":\"x6\",\"y\":[0.5],\"yaxis\":\"y6\",\"type\":\"scatter\"},{\"hovertemplate\":\"lifeexpectancy: 1.22\",\"marker\":{\"color\":\"green\",\"opacity\":0.4,\"size\":28.4861217997027},\"mode\":\"markers\",\"x\":[0.375],\"xaxis\":\"x6\",\"y\":[0.5],\"yaxis\":\"y6\",\"type\":\"scatter\"},{\"hovertemplate\":\"education: 0.45\",\"marker\":{\"color\":\"green\",\"opacity\":0.4,\"size\":10.405787451801858},\"mode\":\"markers\",\"x\":[0.625],\"xaxis\":\"x6\",\"y\":[0.5],\"yaxis\":\"y6\",\"type\":\"scatter\"},{\"hovertemplate\":\"mfootprint: 0.41\",\"marker\":{\"color\":\"green\",\"opacity\":0.4,\"size\":9.617074828087002},\"mode\":\"markers\",\"x\":[0.875],\"xaxis\":\"x6\",\"y\":[0.5],\"yaxis\":\"y6\",\"type\":\"scatter\"},{\"hovertemplate\":\"gini: -0.78\",\"marker\":{\"color\":\"green\",\"opacity\":0.4,\"size\":18.17276296299132},\"mode\":\"markers\",\"x\":[0.5],\"xaxis\":\"x2\",\"y\":[0.2],\"yaxis\":\"y2\",\"type\":\"scatter\"},{\"hovertemplate\":\"voice: -0.41\",\"marker\":{\"color\":\"green\",\"opacity\":0.4,\"size\":9.670832084422809},\"mode\":\"markers\",\"x\":[0.5],\"xaxis\":\"x2\",\"y\":[0.5],\"yaxis\":\"y2\",\"type\":\"scatter\"},{\"hovertemplate\":\"femaleminister: -0.48\",\"marker\":{\"color\":\"red\",\"opacity\":0.4,\"size\":11.218251005398262},\"mode\":\"markers\",\"x\":[0.5],\"xaxis\":\"x2\",\"y\":[0.8],\"yaxis\":\"y2\",\"type\":\"scatter\"}],\"layout\":{\"annotations\":[{\"font\":{\"size\":18},\"showarrow\":false,\"text\":\"Year: 2014\",\"x\":0,\"xref\":\"paper\",\"y\":0.95,\"yref\":\"paper\"},{\"font\":{\"size\":18},\"showarrow\":false,\"text\":\"Country: Korea, Rep.\",\"x\":0,\"xref\":\"paper\",\"y\":0.85,\"yref\":\"paper\"}]},\"name\":\"2014\"},{\"data\":[{\"hovertemplate\":\"unemployed: -0.71\",\"marker\":{\"color\":\"green\",\"opacity\":0.4,\"size\":16.49442458006257},\"mode\":\"markers\",\"x\":[0.125],\"xaxis\":\"x\",\"y\":[0.5],\"yaxis\":\"y\",\"type\":\"scatter\"},{\"hovertemplate\":\"wealth: 1.68\",\"marker\":{\"color\":\"green\",\"opacity\":0.4,\"size\":39.202500768217625},\"mode\":\"markers\",\"x\":[0.375],\"xaxis\":\"x\",\"y\":[0.5],\"yaxis\":\"y\",\"type\":\"scatter\"},{\"hovertemplate\":\"energy: nan\",\"marker\":{\"color\":\"grey\",\"opacity\":0.2,\"size\":7.0},\"mode\":\"markers\",\"x\":[0.625],\"xaxis\":\"x\",\"y\":[0.5],\"yaxis\":\"y\",\"type\":\"scatter\"},{\"hovertemplate\":\"placeholder: 0.1\",\"marker\":{\"color\":\"green\",\"opacity\":0.4,\"size\":2.3333333333333335},\"mode\":\"markers\",\"x\":[0.875],\"xaxis\":\"x\",\"y\":[0.5],\"yaxis\":\"y\",\"type\":\"scatter\"},{\"hovertemplate\":\"govconsum: -0.27\",\"marker\":{\"color\":\"red\",\"opacity\":0.4,\"size\":6.309654226702211},\"mode\":\"markers\",\"x\":[0.125],\"xaxis\":\"x3\",\"y\":[0.5],\"yaxis\":\"y3\",\"type\":\"scatter\"},{\"hovertemplate\":\"marketcap: 0.12\",\"marker\":{\"color\":\"green\",\"opacity\":0.4,\"size\":2.801327682518749},\"mode\":\"markers\",\"x\":[0.375],\"xaxis\":\"x3\",\"y\":[0.5],\"yaxis\":\"y3\",\"type\":\"scatter\"},{\"hovertemplate\":\"houseconsum: -0.85\",\"marker\":{\"color\":\"red\",\"opacity\":0.4,\"size\":19.78918003719632},\"mode\":\"markers\",\"x\":[0.625],\"xaxis\":\"x3\",\"y\":[0.5],\"yaxis\":\"y3\",\"type\":\"scatter\"},{\"hovertemplate\":\"placeholder: 0.1\",\"marker\":{\"color\":\"green\",\"opacity\":0.4,\"size\":2.3333333333333335},\"mode\":\"markers\",\"x\":[0.875],\"xaxis\":\"x3\",\"y\":[0.5],\"yaxis\":\"y3\",\"type\":\"scatter\"},{\"hovertemplate\":\"agriculture: -0.64\",\"marker\":{\"color\":\"red\",\"opacity\":0.4,\"size\":15.006111280955883},\"mode\":\"markers\",\"x\":[0.25],\"xaxis\":\"x4\",\"y\":[0.5],\"yaxis\":\"y4\",\"type\":\"scatter\"},{\"hovertemplate\":\"industry: 0.83\",\"marker\":{\"color\":\"green\",\"opacity\":0.4,\"size\":19.460883752605874},\"mode\":\"markers\",\"x\":[0.5],\"xaxis\":\"x4\",\"y\":[0.5],\"yaxis\":\"y4\",\"type\":\"scatter\"},{\"hovertemplate\":\"services: 0.03\",\"marker\":{\"color\":\"green\",\"opacity\":0.4,\"size\":0.7396025853015296},\"mode\":\"markers\",\"x\":[0.75],\"xaxis\":\"x4\",\"y\":[0.5],\"yaxis\":\"y4\",\"type\":\"scatter\"},{\"hovertemplate\":\"eci: 2.16\",\"marker\":{\"color\":\"green\",\"opacity\":0.4311646617807664,\"size\":50.30254387442275},\"mode\":\"markers\",\"x\":[0.125],\"xaxis\":\"x5\",\"y\":[0.5],\"yaxis\":\"y5\",\"type\":\"scatter\"},{\"hovertemplate\":\"exports: 0.31\",\"marker\":{\"color\":\"green\",\"opacity\":0.4,\"size\":7.172515779518976},\"mode\":\"markers\",\"x\":[0.375],\"xaxis\":\"x5\",\"y\":[0.5],\"yaxis\":\"y5\",\"type\":\"scatter\"},{\"hovertemplate\":\"resourcerents: -1.34\",\"marker\":{\"color\":\"red\",\"opacity\":0.4,\"size\":31.226707740982388},\"mode\":\"markers\",\"x\":[0.625],\"xaxis\":\"x5\",\"y\":[0.5],\"yaxis\":\"y5\",\"type\":\"scatter\"},{\"hovertemplate\":\"concentration: -0.21\",\"marker\":{\"color\":\"red\",\"opacity\":0.4,\"size\":4.880583853655017},\"mode\":\"markers\",\"x\":[0.875],\"xaxis\":\"x5\",\"y\":[0.5],\"yaxis\":\"y5\",\"type\":\"scatter\"},{\"hovertemplate\":\"grosscapital: 0.74\",\"marker\":{\"color\":\"green\",\"opacity\":0.4,\"size\":17.325651896064453},\"mode\":\"markers\",\"x\":[0.125],\"xaxis\":\"x6\",\"y\":[0.5],\"yaxis\":\"y6\",\"type\":\"scatter\"},{\"hovertemplate\":\"lifeexpectancy: 1.26\",\"marker\":{\"color\":\"green\",\"opacity\":0.4,\"size\":29.354729922387875},\"mode\":\"markers\",\"x\":[0.375],\"xaxis\":\"x6\",\"y\":[0.5],\"yaxis\":\"y6\",\"type\":\"scatter\"},{\"hovertemplate\":\"education: 0.45\",\"marker\":{\"color\":\"green\",\"opacity\":0.4,\"size\":10.41635305478105},\"mode\":\"markers\",\"x\":[0.625],\"xaxis\":\"x6\",\"y\":[0.5],\"yaxis\":\"y6\",\"type\":\"scatter\"},{\"hovertemplate\":\"mfootprint: 0.41\",\"marker\":{\"color\":\"green\",\"opacity\":0.4,\"size\":9.614646902708667},\"mode\":\"markers\",\"x\":[0.875],\"xaxis\":\"x6\",\"y\":[0.5],\"yaxis\":\"y6\",\"type\":\"scatter\"},{\"hovertemplate\":\"gini: nan\",\"marker\":{\"color\":\"grey\",\"opacity\":0.2,\"size\":7.0},\"mode\":\"markers\",\"x\":[0.5],\"xaxis\":\"x2\",\"y\":[0.2],\"yaxis\":\"y2\",\"type\":\"scatter\"},{\"hovertemplate\":\"voice: -0.35\",\"marker\":{\"color\":\"green\",\"opacity\":0.4,\"size\":8.18420476044684},\"mode\":\"markers\",\"x\":[0.5],\"xaxis\":\"x2\",\"y\":[0.5],\"yaxis\":\"y2\",\"type\":\"scatter\"},{\"hovertemplate\":\"femaleminister: -1.48\",\"marker\":{\"color\":\"red\",\"opacity\":0.4,\"size\":34.640000654176575},\"mode\":\"markers\",\"x\":[0.5],\"xaxis\":\"x2\",\"y\":[0.8],\"yaxis\":\"y2\",\"type\":\"scatter\"}],\"layout\":{\"annotations\":[{\"font\":{\"size\":18},\"showarrow\":false,\"text\":\"Year: 2015\",\"x\":0,\"xref\":\"paper\",\"y\":0.95,\"yref\":\"paper\"},{\"font\":{\"size\":18},\"showarrow\":false,\"text\":\"Country: Korea, Rep.\",\"x\":0,\"xref\":\"paper\",\"y\":0.85,\"yref\":\"paper\"}]},\"name\":\"2015\"}]);\n                        }).then(function(){\n                            \nvar gd = document.getElementById('b6efc47b-ee63-42ac-a95d-a7f5e361d84e');\nvar x = new MutationObserver(function (mutations, observer) {{\n        var display = window.getComputedStyle(gd).display;\n        if (!display || display === 'none') {{\n            console.log([gd, 'removed!']);\n            Plotly.purge(gd);\n            observer.disconnect();\n        }}\n}});\n\n// Listen for the removal of the full notebook cells\nvar notebookContainer = gd.closest('#notebook-container');\nif (notebookContainer) {{\n    x.observe(notebookContainer, {childList: true});\n}}\n\n// Listen for the clearing of the current output cell\nvar outputEl = gd.closest('.output');\nif (outputEl) {{\n    x.observe(outputEl, {childList: true});\n}}\n\n                        })                };                });            </script>        </div>"
     },
     "metadata": {},
     "output_type": "display_data"
    }
   ],
   "source": [
    "plotly_animate('Korea, Rep.', years=range(1985, 2016))"
   ],
   "metadata": {
    "collapsed": false,
    "ExecuteTime": {
     "end_time": "2023-11-18T20:07:03.773579Z",
     "start_time": "2023-11-18T20:07:02.137234Z"
    }
   },
   "id": "4a7b8eace34c940e"
  },
  {
   "cell_type": "markdown",
   "source": [
    "## Plotting code"
   ],
   "metadata": {
    "collapsed": false
   },
   "id": "87daf5d6fb5a2c89"
  },
  {
   "cell_type": "code",
   "execution_count": 84,
   "outputs": [],
   "source": [
    "import plotly.graph_objs as go\n",
    "from plotly.subplots import make_subplots"
   ],
   "metadata": {
    "collapsed": false,
    "ExecuteTime": {
     "end_time": "2023-11-18T20:06:44.557941Z",
     "start_time": "2023-11-18T20:06:44.556965Z"
    }
   },
   "id": "3e1e6af654eefff"
  },
  {
   "cell_type": "code",
   "execution_count": 85,
   "outputs": [],
   "source": [
    "def calculate_circle_properties(size, reverse=False):\n",
    "    \"\"\" Calculate color, alpha, and radius based on the size. \"\"\"\n",
    "    if reverse:\n",
    "        color = 'green' if size < 0 else 'red'\n",
    "    else:\n",
    "        color = 'red' if size < 0 else 'green'\n",
    "\n",
    "    if size is None or np.isnan(size):\n",
    "        color = 'grey'\n",
    "        alpha = 0.2\n",
    "        radius = 0.02\n",
    "    else:\n",
    "        alpha = min(max(abs(size) / 5, 0.4), 1.0)\n",
    "        radius = abs(size) / 15\n",
    "    return color, alpha, radius\n",
    "\n",
    "\n",
    "def determine_plotly_row_col(ax_index):\n",
    "    \"\"\" Determine the row and column of the subplot in Plotly. \"\"\"\n",
    "    if ax_index == 0:\n",
    "        return 1, 2  # First subplot in the first column\n",
    "    elif 1 <= ax_index <= 3:\n",
    "        return 2, ax_index  # Second row, columns 1, 2, and 3 of the first column\n",
    "    elif ax_index == 4:\n",
    "        return 3, 2  # Third row, first column\n",
    "    else:\n",
    "        return 1, 4  # Spanning subplot in the second column\n",
    "\n",
    "\n",
    "def set_axis_properties(fig, row, col, xcoords, xaxisticks, yaxisticks):\n",
    "    \"\"\" Set properties for main axes.\"\"\"\n",
    "    if col == 1 or col == 2 or col == 3:\n",
    "        fig.update_yaxes(range=[0.3, 0.7], row=row, col=col)\n",
    "        fig.update_xaxes(tickvals=xcoords, ticktext=xaxisticks, row=row, col=col)\n",
    "        fig.update_yaxes(tickvals=[0.5], ticktext=yaxisticks, row=row, col=col)\n",
    "\n",
    "\n",
    "def set_side_axis_properties(fig, row, col, sideycoords, allsideticks):\n",
    "    \"\"\" Set properties for the side axis. \"\"\"\n",
    "    if col == 4 and row == 1:\n",
    "        fig.update_xaxes(range=[0.3, 0.7], tickvals=[0.5], ticktext=['Decision-Making'], row=row, col=col)\n",
    "        fig.update_yaxes(tickvals=sideycoords, ticktext=allsideticks, row=row, col=col)"
   ],
   "metadata": {
    "collapsed": false,
    "ExecuteTime": {
     "end_time": "2023-11-18T20:06:44.562650Z",
     "start_time": "2023-11-18T20:06:44.558382Z"
    }
   },
   "id": "ee13967ac8abf840"
  },
  {
   "cell_type": "code",
   "execution_count": 86,
   "outputs": [],
   "source": [
    "def draw_plot(country, year_number, fig):\n",
    "    data_values = get_data_by_year(country, year_number)\n",
    "    if not data_values:\n",
    "        print(\"No data available for the specified country and year.\")\n",
    "        return\n",
    "\n",
    "    # Unpacking the data\n",
    "    (agriculture, industry, services, grosscapital, unemployed, wealth, gini, voice,\n",
    "     femaleminister, lifeexpectancy, education, govconsum, marketcap, houseconsum,\n",
    "     energy, mfootprint, eci, exports, resourcerents, concentration) = data_values\n",
    "\n",
    "    data_mapping = {\n",
    "        0: [(unemployed, 'unemployed'), (wealth, 'wealth'), (energy, 'energy'), (0.1, 'placeholder')],\n",
    "        1: [(govconsum, 'govconsum'), (marketcap, 'marketcap'), (houseconsum, 'houseconsum'), (0.1, 'placeholder')],\n",
    "        2: [(agriculture, 'agriculture'), (industry, 'industry'), (services, 'services')],\n",
    "        3: [(eci, 'eci'), (exports, 'exports'), (resourcerents, 'resourcerents'), (concentration, 'concentration')],\n",
    "        4: [(grosscapital, 'grosscapital'), (lifeexpectancy, 'lifeexpectancy'), (education, 'education'),\n",
    "            (mfootprint, 'mfootprint')]\n",
    "    }\n",
    "\n",
    "    side_data_mapping = [\n",
    "        (gini, 'gini'),\n",
    "        (voice, 'voice'),\n",
    "        (femaleminister, 'femaleminister')\n",
    "    ]\n",
    "\n",
    "    # Variables that require reversed color logic\n",
    "    reversed_variables = ['voice', 'unemployed', 'gini']\n",
    "\n",
    "    # Scaling factor for circle sizes\n",
    "    scaling_factor = 350\n",
    "\n",
    "    # Draw circles in main axes\n",
    "    for ax_index, data in data_mapping.items():\n",
    "        row, col = determine_plotly_row_col(ax_index)\n",
    "        for x, (size, variable_name) in zip(all_x_coords[ax_index], data):\n",
    "            reverse_color = variable_name in reversed_variables\n",
    "            color, alpha, radius = calculate_circle_properties(size, reverse=reverse_color)\n",
    "\n",
    "            fig.add_trace(\n",
    "                go.Scatter(\n",
    "                    x=[x], y=[0.5], mode='markers',\n",
    "                    marker=dict(color=color, size=radius * scaling_factor, opacity=alpha),\n",
    "                    hovertemplate=f'{variable_name}: {round(size, 2)}'\n",
    "                ),\n",
    "                row=row, col=col\n",
    "            )\n",
    "\n",
    "    # Draw circles in side axis\n",
    "    for y, (size, variable_name) in zip(side_y_coords, side_data_mapping):\n",
    "        reverse_color = variable_name in reversed_variables\n",
    "        color, alpha, radius = calculate_circle_properties(size, reverse=reverse_color)\n",
    "\n",
    "        fig.add_trace(\n",
    "            go.Scatter(\n",
    "                x=[0.5], y=[y], mode='markers',\n",
    "                marker=dict(color=color, size=radius * scaling_factor, opacity=alpha),\n",
    "                hovertemplate=f'{variable_name}: {round(size, 2)}'\n",
    "            ),\n",
    "            row=1, col=4  # Spanning subplot in the fourth column\n",
    "        )\n",
    "    # Set axis properties for each subplot\n",
    "    for ax_index in range(5):  # Assuming 5 main subplots\n",
    "        row, col = determine_plotly_row_col(ax_index)\n",
    "        set_axis_properties(fig, row, col, all_x_coords[ax_index], all_x_axis_ticks[ax_index],\n",
    "                            all_y_axis_ticks[ax_index])\n",
    "\n",
    "    # Set side axis properties\n",
    "    set_side_axis_properties(fig, 1, 4, side_y_coords,\n",
    "                             all_side_ticks)  # Corrected for the spanning subplot in the second column\n",
    "    return fig"
   ],
   "metadata": {
    "collapsed": false,
    "ExecuteTime": {
     "end_time": "2023-11-18T20:06:44.567458Z",
     "start_time": "2023-11-18T20:06:44.564729Z"
    }
   },
   "id": "8120a435432c02c6"
  },
  {
   "cell_type": "code",
   "execution_count": 87,
   "outputs": [],
   "source": [
    "def plotly_animate(countrytoplot, years):\n",
    "    fig = make_subplots(\n",
    "        rows=3, cols=4,\n",
    "        column_widths=[0.25, 0.25, 0.25, 0.1],  # Adjust these widths as needed\n",
    "        specs=[\n",
    "            [None, {\"type\": \"scatter\"}, None, {\"type\": \"scatter\", \"rowspan\": 3}],\n",
    "            [{\"type\": \"scatter\"}, {\"type\": \"scatter\"}, {\"type\": \"scatter\"}, None],\n",
    "            [None, {\"type\": \"scatter\"}, None, None]\n",
    "        ],\n",
    "        horizontal_spacing=0.02  # Adjust spacing between columns if needed\n",
    "    )\n",
    "    fig.add_annotation(\n",
    "        dict(\n",
    "            xref='paper',  # Position reference relative to the whole figure\n",
    "            yref='paper',\n",
    "            x=0,  # Adjust the position as needed\n",
    "            y=0.95,  # Adjust the position as needed\n",
    "            text=f'Year: {years[0]}',  # Initial text\n",
    "            showarrow=False,\n",
    "            font=dict(size=18)  # Adjust font size as needed\n",
    "        ),\n",
    "    )\n",
    "    fig.add_annotation(\n",
    "        dict(\n",
    "            xref='paper',\n",
    "            yref='paper',\n",
    "            x=0,  # Same position as initial annotation\n",
    "            y=0.85,  # Same position as initial annotation\n",
    "            text=f'Country: {countrytoplot}',  # Update text with current year\n",
    "            showarrow=False,\n",
    "            font=dict(size=18)\n",
    "        )\n",
    "    )\n",
    "    # Initialize the figure with the data for the first year\n",
    "    draw_plot(countrytoplot, years[0], fig)\n",
    "    # Create frames for each year from 2011 to 2015\n",
    "    frames = []\n",
    "    for year in years:\n",
    "        # Clear the existing data from the figure\n",
    "        temp_fig = make_subplots(\n",
    "            rows=3, cols=4,\n",
    "            column_widths=[0.25, 0.25, 0.25, 0.1],  # Adjust these widths as needed\n",
    "            specs=[\n",
    "                [None, {\"type\": \"scatter\"}, None, {\"type\": \"scatter\", \"rowspan\": 3}],\n",
    "                [{\"type\": \"scatter\"}, {\"type\": \"scatter\"}, {\"type\": \"scatter\"}, None],\n",
    "                [None, {\"type\": \"scatter\"}, None, None]\n",
    "            ],\n",
    "            horizontal_spacing=0.02  # Adjust spacing between columns if needed\n",
    "        )\n",
    "        # Update temp_fig with the new data for the current year\n",
    "        draw_plot(countrytoplot, year, temp_fig)\n",
    "        # Create a new frame with the updated figure data\n",
    "        frame = go.Frame(\n",
    "            data=temp_fig.data,\n",
    "            name=str(year),\n",
    "            layout=dict(\n",
    "                annotations=[\n",
    "                    dict(\n",
    "                        xref='paper',\n",
    "                        yref='paper',\n",
    "                        x=0,  # Same position as initial annotation\n",
    "                        y=0.95,  # Same position as initial annotation\n",
    "                        text=f'Year: {year}',  # Update text with current year\n",
    "                        showarrow=False,\n",
    "                        font=dict(size=18)\n",
    "                    ),\n",
    "                    dict(\n",
    "                        xref='paper',\n",
    "                        yref='paper',\n",
    "                        x=0,  # Same position as initial annotation\n",
    "                        y=0.85,  # Same position as initial annotation\n",
    "                        text=f'Country: {countrytoplot}',  # Update text with current year\n",
    "                        showarrow=False,\n",
    "                        font=dict(size=18)\n",
    "                    )\n",
    "                ]\n",
    "            )\n",
    "        )\n",
    "        frames.append(frame)\n",
    "    # Add frames to the figure\n",
    "    fig.frames = frames\n",
    "    # Add play and pause button\n",
    "    fig.update_layout(\n",
    "        updatemenus=[\n",
    "            dict(\n",
    "                type=\"buttons\",\n",
    "                showactive=False,\n",
    "                buttons=[\n",
    "                    dict(label=\"Play\", method=\"animate\", args=[None, {\"frame\": {\"duration\": 1000}}]),\n",
    "                    dict(label=\"Pause\", method=\"animate\", args=[[None], {\"frame\": {\"duration\": 0, \"redraw\": False}}])\n",
    "                ]\n",
    "            )\n",
    "        ]\n",
    "    )\n",
    "    # Show the figure\n",
    "    fig.update_layout(showlegend=False)\n",
    "    fig.show()\n",
    "    # fig.print_grid()"
   ],
   "metadata": {
    "collapsed": false,
    "ExecuteTime": {
     "end_time": "2023-11-18T20:06:44.574170Z",
     "start_time": "2023-11-18T20:06:44.566739Z"
    }
   },
   "id": "7d442eb1f2e405c8"
  },
  {
   "cell_type": "markdown",
   "source": [
    "## Matplotlib version"
   ],
   "metadata": {
    "collapsed": false
   },
   "id": "38bbe500c6770242"
  },
  {
   "cell_type": "code",
   "execution_count": 88,
   "outputs": [],
   "source": [
    "# def init_plot():\n",
    "#     fig = plt.figure(figsize=(14, 9))\n",
    "#     gs = gridspec.GridSpec(3, 2, width_ratios=[3, 1], height_ratios=[1, 2, 1])\n",
    "# \n",
    "#     # Creating the first and the third main subplot\n",
    "#     ax1 = plt.subplot(gs[0, 0])\n",
    "#     ax2 = plt.subplot(gs[2, 0])\n",
    "# \n",
    "#     # Creating a nested gridspec for the second main subplot\n",
    "#     gs_nested = gridspec.GridSpecFromSubplotSpec(1, 3, subplot_spec=gs[1, 0])\n",
    "# \n",
    "#     # Creating the three smaller subplots within the second main subplot\n",
    "#     ax3 = plt.subplot(gs_nested[0])\n",
    "#     ax4 = plt.subplot(gs_nested[1])\n",
    "#     ax5 = plt.subplot(gs_nested[2])\n",
    "# \n",
    "#     # Adjust the spacing of the subplots\n",
    "# \n",
    "#     # Creating the additional subplot in the second column\n",
    "#     ax_side = plt.subplot(gs[:, 1])  # Spanning all rows\n",
    "# \n",
    "#     all_axes = [ax1, ax3, ax4, ax5, ax2]  # Reordered to match the structure\n",
    "# \n",
    "#     return fig, all_axes, ax_side"
   ],
   "metadata": {
    "collapsed": false,
    "ExecuteTime": {
     "end_time": "2023-11-18T20:06:44.578959Z",
     "start_time": "2023-11-18T20:06:44.574830Z"
    }
   },
   "id": "b09b800717272b9a"
  },
  {
   "cell_type": "code",
   "execution_count": 89,
   "outputs": [],
   "source": [
    "# def calculate_circle_properties(size):\n",
    "#     \"\"\" Calculate color, alpha, and radius based on the size. \"\"\"\n",
    "#     color = 'red' if size < 0 else 'green'\n",
    "#     if np.isnan(size):\n",
    "#         color = 'grey'\n",
    "#         alpha = 0.2\n",
    "#         radius = 0.02\n",
    "#     else:\n",
    "#         alpha = min(max(abs(size) / 5, 0.4), 1.0)\n",
    "#         radius = abs(size) / 15\n",
    "#     return color, alpha, radius\n",
    "# \n",
    "# \n",
    "# def set_axis_properties(ax, xcoords, xaxisticks, yaxisticks):\n",
    "#     \"\"\" Set properties for main axes. \"\"\"\n",
    "#     ax.set_ylim(0.3, 0.7)\n",
    "#     ax.set_aspect('equal', 'box')\n",
    "#     ax.set_xticks(xcoords)\n",
    "#     ax.set_xticklabels(xaxisticks)\n",
    "#     ax.set_yticks([0.5])\n",
    "#     ax.set_yticklabels(yaxisticks)\n",
    "# \n",
    "# \n",
    "# def set_side_axis_properties(axside, sideycoords, allsideticks):\n",
    "#     \"\"\" Set properties for the side axis. \"\"\"\n",
    "#     axside.set_xlim(0.3, 0.7)\n",
    "#     axside.set_aspect('equal', 'box')\n",
    "#     axside.set_xticks([0.5])\n",
    "#     axside.set_xticklabels(['Decision-Making'])\n",
    "#     axside.set_yticks(sideycoords)\n",
    "#     axside.set_yticklabels(allsideticks)"
   ],
   "metadata": {
    "collapsed": false,
    "ExecuteTime": {
     "end_time": "2023-11-18T20:06:44.588599Z",
     "start_time": "2023-11-18T20:06:44.577242Z"
    }
   },
   "id": "108c8c62175a174e"
  },
  {
   "cell_type": "code",
   "execution_count": 90,
   "outputs": [],
   "source": [
    "# def draw_plot(country, year_number, all_axes, ax_side):\n",
    "# \n",
    "#     data_values = get_data_by_year(country, year_number)\n",
    "#     if not data_values:\n",
    "#         print(\"No data available for the specified country and year.\")\n",
    "#         return\n",
    "# \n",
    "#     # Unpacking the data\n",
    "#     (agriculture, industry, services, grosscapital, unemployed, wealth, gini, voice,\n",
    "#      femaleminister, lifeexpectancy, education, govconsum, marketcap, houseconsum,\n",
    "#      energy, mfootprint) = data_values\n",
    "# \n",
    "#     all_sizes = [[unemployed, wealth, energy, 0.1], [govconsum, marketcap, houseconsum, 0.1],\n",
    "#                  [agriculture, industry, services],\n",
    "#                  [0.1, 0.1, 0.1, 0.1],\n",
    "#                  [grosscapital, lifeexpectancy, education, mfootprint]]\n",
    "#     side_sizes = [gini, voice, femaleminister]\n",
    "# \n",
    "#     # Drawing circles in main axes\n",
    "#     for ax_index, ax in enumerate(all_axes):\n",
    "#         for circle_index, (x, size) in enumerate(zip(all_x_coords[ax_index], all_sizes[ax_index])):\n",
    "#             color, alpha, radius = calculate_circle_properties(size)\n",
    "#             circle = plt.Circle((x, 0.5), radius=radius, color=color, alpha=alpha)\n",
    "#             ax.add_patch(circle)\n",
    "#             set_axis_properties(ax, all_x_coords[ax_index], all_x_axis_ticks[ax_index], all_y_axis_ticks[ax_index])\n",
    "# \n",
    "#     # Drawing circles in side axis\n",
    "#     for circle_index, (y, size) in enumerate(zip(side_y_coords, side_sizes)):\n",
    "#         color, alpha, radius = calculate_circle_properties(size)\n",
    "#         circle = plt.Circle((0.5, y), radius=radius, color=color, alpha=alpha)\n",
    "#         ax_side.add_patch(circle)\n",
    "# \n",
    "#     draw_arrow(all_axes[0], 0.5, all_axes[2], 0.5, linewidth=1, y1=0.3, y2=0.7)\n",
    "#     draw_arrow(all_axes[0], 0.5, all_axes[3], 0, linewidth=1, y1=0.3, y2=0.7, connectionstyle=\"arc3,rad=0.05\")\n",
    "#     draw_arrow(all_axes[0], 0.5, all_axes[1], 1, linewidth=1, y1=0.3, y2=0.7, connectionstyle=\"arc3,rad=-0.05\")\n",
    "# \n",
    "#     draw_arrow(all_axes[1], 1, all_axes[4], 0.5, linewidth=1, y1=0.3, y2=0.7, connectionstyle=\"arc3,rad=-0.1\")\n",
    "#     draw_arrow(all_axes[3], 0, all_axes[4], 0.5, linewidth=1, y1=0.3, y2=0.7, connectionstyle=\"arc3,rad=0.1\")\n",
    "#     draw_arrow(all_axes[2], 0.5, all_axes[4], 0.5, linewidth=1, y1=0.3, y2=0.7)\n",
    "# \n",
    "#     set_side_axis_properties(ax_side, side_y_coords, all_side_ticks)"
   ],
   "metadata": {
    "collapsed": false,
    "ExecuteTime": {
     "end_time": "2023-11-18T20:06:44.588997Z",
     "start_time": "2023-11-18T20:06:44.582187Z"
    }
   },
   "id": "e314cd4105d30d69"
  },
  {
   "cell_type": "code",
   "execution_count": 91,
   "outputs": [],
   "source": [
    "# fig, all_axes, ax_side = init_plot()\n",
    "# draw_plot(\"Canada\", 2015, all_axes, ax_side)\n",
    "# plt.show()"
   ],
   "metadata": {
    "collapsed": false,
    "ExecuteTime": {
     "end_time": "2023-11-18T20:06:44.589033Z",
     "start_time": "2023-11-18T20:06:44.583982Z"
    }
   },
   "id": "2b41ce77e68696c2"
  },
  {
   "cell_type": "markdown",
   "source": [],
   "metadata": {
    "collapsed": false
   },
   "id": "64611dd257313294"
  }
 ],
 "metadata": {
  "kernelspec": {
   "display_name": "Python 3",
   "language": "python",
   "name": "python3"
  },
  "language_info": {
   "codemirror_mode": {
    "name": "ipython",
    "version": 2
   },
   "file_extension": ".py",
   "mimetype": "text/x-python",
   "name": "python",
   "nbconvert_exporter": "python",
   "pygments_lexer": "ipython2",
   "version": "2.7.6"
  }
 },
 "nbformat": 4,
 "nbformat_minor": 5
}
