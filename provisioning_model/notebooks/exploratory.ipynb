{
 "cells": [
  {
   "cell_type": "code",
   "execution_count": 25,
   "outputs": [],
   "source": [
    "import pandas as pd\n",
    "import numpy as np\n",
    "from matplotlib import pyplot as plt\n",
    "from matplotlib import gridspec\n",
    "import matplotlib.patches as patches"
   ],
   "metadata": {
    "collapsed": false,
    "ExecuteTime": {
     "end_time": "2023-11-18T13:52:58.405475Z",
     "start_time": "2023-11-18T13:52:58.264804Z"
    }
   },
   "id": "a92d9925d82b22db"
  },
  {
   "cell_type": "code",
   "execution_count": 26,
   "outputs": [],
   "source": [
    "from provisioning_model.functions.resource_flow import get_country_data, draw_arrow"
   ],
   "metadata": {
    "collapsed": false,
    "ExecuteTime": {
     "end_time": "2023-11-18T13:52:58.406028Z",
     "start_time": "2023-11-18T13:52:58.273531Z"
    }
   },
   "id": "fb59067a1a22f03c"
  },
  {
   "cell_type": "code",
   "execution_count": 27,
   "outputs": [],
   "source": [
    "all_in_one = pd.read_csv('../data/all_in_one.csv', index_col=0)\n",
    "all_in_one_no_inf = all_in_one.replace([np.inf, -np.inf], np.nan)\n",
    "wdi_outcomes = pd.read_csv('../data/wdi_outcomes.csv')\n",
    "wdi_outcomes_no_inf = wdi_outcomes.replace([np.inf, -np.inf], np.nan)\n",
    "wdi_realms = pd.read_csv('../data/wdi_realms.csv')\n",
    "wdi_realms_no_inf = wdi_realms.replace([np.inf, -np.inf], np.nan)\n",
    "un_mat_flows = pd.read_csv(\"../data/un_mat_flows.csv\")"
   ],
   "metadata": {
    "collapsed": false,
    "ExecuteTime": {
     "end_time": "2023-11-18T13:52:58.439744Z",
     "start_time": "2023-11-18T13:52:58.277923Z"
    }
   },
   "id": "f215cbbd92cbe24"
  },
  {
   "cell_type": "markdown",
   "source": [
    "## Prepare data"
   ],
   "metadata": {
    "collapsed": false
   },
   "id": "63087382e9b869af"
  },
  {
   "cell_type": "code",
   "execution_count": 28,
   "outputs": [],
   "source": [
    "# Arrays to define the structure (update as needed)\n",
    "all_x_coords = [[0.125, 0.375, 0.625, 0.875], [0.125, 0.375, 0.625, 0.875], [0.25, 0.5, 0.75],\n",
    "                [0.125, 0.375, 0.625, 0.875],\n",
    "                [0.125, 0.375, 0.625, 0.875]\n",
    "                ]\n",
    "side_y_coords = [0.2, 0.5, 0.8]  # Vertical positions for circles in the side subplot\n",
    "all_x_axis_ticks = [['Worker', 'Capital', 'Energy', 'Resource'], ['State', 'Market', 'Household', 'Commons'],\n",
    "                    ['Agriculture', 'Industry', 'Services'],\n",
    "                    ['Complexity', 'Exports', 'ResourceRents', 'Concentration'],\n",
    "                    # ['Core', 'Foundational', 'Overlooked', 'Competitive'],\n",
    "                    ['Accumulation', 'Needs', 'HDI', 'Waste']\n",
    "                    ]\n",
    "all_y_axis_ticks = [['extraction'], ['realms'], ['industry'], ['foundational'], ['dissipation']]\n",
    "all_side_ticks = ['Ineq', 'Voice', 'Gender']"
   ],
   "metadata": {
    "collapsed": false,
    "ExecuteTime": {
     "end_time": "2023-11-18T13:52:58.441235Z",
     "start_time": "2023-11-18T13:52:58.413257Z"
    }
   },
   "id": "89ae947192b6deeb"
  },
  {
   "cell_type": "code",
   "execution_count": 29,
   "outputs": [],
   "source": [
    "def get_data_by_year(country, year):\n",
    "    result = get_country_data(all_in_one_no_inf, wdi_outcomes_no_inf, wdi_realms_no_inf, un_mat_flows, country, year)\n",
    "    return result.values()"
   ],
   "metadata": {
    "collapsed": false,
    "ExecuteTime": {
     "end_time": "2023-11-18T13:52:58.441375Z",
     "start_time": "2023-11-18T13:52:58.418036Z"
    }
   },
   "id": "d12bb6549972053d"
  },
  {
   "cell_type": "code",
   "execution_count": 30,
   "outputs": [
    {
     "data": {
      "text/plain": "dict_values([-0.6921296640890301, 0.14446673990198503, 0.8101800797845345, 0.1482818164916889, 0.041099766842131416, 1.3652388297876723, -0.571696342452766, -2.05286362054632, 0.908606199711027, 1.2323618623528552, 0.928790784029867, 0.39198798465638984, 0.2589860734901562, -0.3344324302518402, 0.35740579806337175, 1.3092302185618463, 0.5642695483917598, -0.13506107503488338, -0.6279587655395149, 2.6296093797064866])"
     },
     "execution_count": 30,
     "metadata": {},
     "output_type": "execute_result"
    }
   ],
   "source": [
    "get_data_by_year(\"Canada\", 2015)"
   ],
   "metadata": {
    "collapsed": false,
    "ExecuteTime": {
     "end_time": "2023-11-18T13:52:58.457615Z",
     "start_time": "2023-11-18T13:52:58.423586Z"
    }
   },
   "id": "e67920b0cb2aee5e"
  },
  {
   "cell_type": "markdown",
   "source": [
    "## Draw plots"
   ],
   "metadata": {
    "collapsed": false
   },
   "id": "11b5fedb1bacd2c8"
  },
  {
   "cell_type": "code",
   "execution_count": 52,
   "outputs": [
    {
     "data": {
      "application/vnd.plotly.v1+json": {
       "data": [
        {
         "hovertemplate": "unemployed: 0.73",
         "marker": {
          "color": "red",
          "opacity": 0.4,
          "size": 17.011458883015937
         },
         "mode": "markers",
         "x": [
          0.125
         ],
         "y": [
          0.5
         ],
         "type": "scatter",
         "xaxis": "x",
         "yaxis": "y"
        },
        {
         "hovertemplate": "wealth: -0.61",
         "marker": {
          "color": "red",
          "opacity": 0.4,
          "size": 14.27159666594122
         },
         "mode": "markers",
         "x": [
          0.375
         ],
         "y": [
          0.5
         ],
         "type": "scatter",
         "xaxis": "x",
         "yaxis": "y"
        },
        {
         "hovertemplate": "energy: 0.19",
         "marker": {
          "color": "green",
          "opacity": 0.4,
          "size": 4.422514120831626
         },
         "mode": "markers",
         "x": [
          0.625
         ],
         "y": [
          0.5
         ],
         "type": "scatter",
         "xaxis": "x",
         "yaxis": "y"
        },
        {
         "hovertemplate": "placeholder: 0.1",
         "marker": {
          "color": "green",
          "opacity": 0.4,
          "size": 2.3333333333333335
         },
         "mode": "markers",
         "x": [
          0.875
         ],
         "y": [
          0.5
         ],
         "type": "scatter",
         "xaxis": "x",
         "yaxis": "y"
        },
        {
         "hovertemplate": "govconsum: -0.61",
         "marker": {
          "color": "red",
          "opacity": 0.4,
          "size": 14.330022713305029
         },
         "mode": "markers",
         "x": [
          0.125
         ],
         "y": [
          0.5
         ],
         "type": "scatter",
         "xaxis": "x3",
         "yaxis": "y3"
        },
        {
         "hovertemplate": "marketcap: nan",
         "marker": {
          "color": "grey",
          "opacity": 0.2,
          "size": 7.0
         },
         "mode": "markers",
         "x": [
          0.375
         ],
         "y": [
          0.5
         ],
         "type": "scatter",
         "xaxis": "x3",
         "yaxis": "y3"
        },
        {
         "hovertemplate": "houseconsum: -0.11",
         "marker": {
          "color": "red",
          "opacity": 0.4,
          "size": 2.530331561801811
         },
         "mode": "markers",
         "x": [
          0.625
         ],
         "y": [
          0.5
         ],
         "type": "scatter",
         "xaxis": "x3",
         "yaxis": "y3"
        },
        {
         "hovertemplate": "placeholder: 0.1",
         "marker": {
          "color": "green",
          "opacity": 0.4,
          "size": 2.3333333333333335
         },
         "mode": "markers",
         "x": [
          0.875
         ],
         "y": [
          0.5
         ],
         "type": "scatter",
         "xaxis": "x3",
         "yaxis": "y3"
        },
        {
         "hovertemplate": "agriculture: 0.35",
         "marker": {
          "color": "green",
          "opacity": 0.4,
          "size": 8.082269501536025
         },
         "mode": "markers",
         "x": [
          0.25
         ],
         "y": [
          0.5
         ],
         "type": "scatter",
         "xaxis": "x4",
         "yaxis": "y4"
        },
        {
         "hovertemplate": "industry: 1.04",
         "marker": {
          "color": "green",
          "opacity": 0.4,
          "size": 24.29978630103415
         },
         "mode": "markers",
         "x": [
          0.5
         ],
         "y": [
          0.5
         ],
         "type": "scatter",
         "xaxis": "x4",
         "yaxis": "y4"
        },
        {
         "hovertemplate": "services: -0.55",
         "marker": {
          "color": "red",
          "opacity": 0.4,
          "size": 12.731494894804271
         },
         "mode": "markers",
         "x": [
          0.75
         ],
         "y": [
          0.5
         ],
         "type": "scatter",
         "xaxis": "x4",
         "yaxis": "y4"
        },
        {
         "hovertemplate": "eci: -0.21",
         "marker": {
          "color": "red",
          "opacity": 0.4,
          "size": 4.957897269740603
         },
         "mode": "markers",
         "x": [
          0.125
         ],
         "y": [
          0.5
         ],
         "type": "scatter",
         "xaxis": "x5",
         "yaxis": "y5"
        },
        {
         "hovertemplate": "exports: 0.71",
         "marker": {
          "color": "green",
          "opacity": 0.4,
          "size": 16.641869379187707
         },
         "mode": "markers",
         "x": [
          0.375
         ],
         "y": [
          0.5
         ],
         "type": "scatter",
         "xaxis": "x5",
         "yaxis": "y5"
        },
        {
         "hovertemplate": "resourcerents: 1.41",
         "marker": {
          "color": "green",
          "opacity": 0.4,
          "size": 33.00274460995089
         },
         "mode": "markers",
         "x": [
          0.625
         ],
         "y": [
          0.5
         ],
         "type": "scatter",
         "xaxis": "x5",
         "yaxis": "y5"
        },
        {
         "hovertemplate": "concentration: -0.47",
         "marker": {
          "color": "red",
          "opacity": 0.4,
          "size": 10.881663791169386
         },
         "mode": "markers",
         "x": [
          0.875
         ],
         "y": [
          0.5
         ],
         "type": "scatter",
         "xaxis": "x5",
         "yaxis": "y5"
        },
        {
         "hovertemplate": "grosscapital: -0.61",
         "marker": {
          "color": "red",
          "opacity": 0.4,
          "size": 14.132950798173631
         },
         "mode": "markers",
         "x": [
          0.125
         ],
         "y": [
          0.5
         ],
         "type": "scatter",
         "xaxis": "x6",
         "yaxis": "y6"
        },
        {
         "hovertemplate": "lifeexpectancy: -0.78",
         "marker": {
          "color": "red",
          "opacity": 0.4,
          "size": 18.24709667203157
         },
         "mode": "markers",
         "x": [
          0.375
         ],
         "y": [
          0.5
         ],
         "type": "scatter",
         "xaxis": "x6",
         "yaxis": "y6"
        },
        {
         "hovertemplate": "education: 0.18",
         "marker": {
          "color": "green",
          "opacity": 0.4,
          "size": 4.127861973640495
         },
         "mode": "markers",
         "x": [
          0.625
         ],
         "y": [
          0.5
         ],
         "type": "scatter",
         "xaxis": "x6",
         "yaxis": "y6"
        },
        {
         "hovertemplate": "mfootprint: -0.34",
         "marker": {
          "color": "red",
          "opacity": 0.4,
          "size": 7.988135813593521
         },
         "mode": "markers",
         "x": [
          0.875
         ],
         "y": [
          0.5
         ],
         "type": "scatter",
         "xaxis": "x6",
         "yaxis": "y6"
        },
        {
         "hovertemplate": "gini: nan",
         "marker": {
          "color": "grey",
          "opacity": 0.2,
          "size": 7.0
         },
         "mode": "markers",
         "x": [
          0.5
         ],
         "y": [
          0.2
         ],
         "type": "scatter",
         "xaxis": "x2",
         "yaxis": "y2"
        },
        {
         "hovertemplate": "voice: 0.97",
         "marker": {
          "color": "red",
          "opacity": 0.4,
          "size": 22.669273772331476
         },
         "mode": "markers",
         "x": [
          0.5
         ],
         "y": [
          0.5
         ],
         "type": "scatter",
         "xaxis": "x2",
         "yaxis": "y2"
        },
        {
         "hovertemplate": "femaleminister: nan",
         "marker": {
          "color": "grey",
          "opacity": 0.2,
          "size": 7.0
         },
         "mode": "markers",
         "x": [
          0.5
         ],
         "y": [
          0.8
         ],
         "type": "scatter",
         "xaxis": "x2",
         "yaxis": "y2"
        }
       ],
       "layout": {
        "template": {
         "data": {
          "histogram2dcontour": [
           {
            "type": "histogram2dcontour",
            "colorbar": {
             "outlinewidth": 0,
             "ticks": ""
            },
            "colorscale": [
             [
              0.0,
              "#0d0887"
             ],
             [
              0.1111111111111111,
              "#46039f"
             ],
             [
              0.2222222222222222,
              "#7201a8"
             ],
             [
              0.3333333333333333,
              "#9c179e"
             ],
             [
              0.4444444444444444,
              "#bd3786"
             ],
             [
              0.5555555555555556,
              "#d8576b"
             ],
             [
              0.6666666666666666,
              "#ed7953"
             ],
             [
              0.7777777777777778,
              "#fb9f3a"
             ],
             [
              0.8888888888888888,
              "#fdca26"
             ],
             [
              1.0,
              "#f0f921"
             ]
            ]
           }
          ],
          "choropleth": [
           {
            "type": "choropleth",
            "colorbar": {
             "outlinewidth": 0,
             "ticks": ""
            }
           }
          ],
          "histogram2d": [
           {
            "type": "histogram2d",
            "colorbar": {
             "outlinewidth": 0,
             "ticks": ""
            },
            "colorscale": [
             [
              0.0,
              "#0d0887"
             ],
             [
              0.1111111111111111,
              "#46039f"
             ],
             [
              0.2222222222222222,
              "#7201a8"
             ],
             [
              0.3333333333333333,
              "#9c179e"
             ],
             [
              0.4444444444444444,
              "#bd3786"
             ],
             [
              0.5555555555555556,
              "#d8576b"
             ],
             [
              0.6666666666666666,
              "#ed7953"
             ],
             [
              0.7777777777777778,
              "#fb9f3a"
             ],
             [
              0.8888888888888888,
              "#fdca26"
             ],
             [
              1.0,
              "#f0f921"
             ]
            ]
           }
          ],
          "heatmap": [
           {
            "type": "heatmap",
            "colorbar": {
             "outlinewidth": 0,
             "ticks": ""
            },
            "colorscale": [
             [
              0.0,
              "#0d0887"
             ],
             [
              0.1111111111111111,
              "#46039f"
             ],
             [
              0.2222222222222222,
              "#7201a8"
             ],
             [
              0.3333333333333333,
              "#9c179e"
             ],
             [
              0.4444444444444444,
              "#bd3786"
             ],
             [
              0.5555555555555556,
              "#d8576b"
             ],
             [
              0.6666666666666666,
              "#ed7953"
             ],
             [
              0.7777777777777778,
              "#fb9f3a"
             ],
             [
              0.8888888888888888,
              "#fdca26"
             ],
             [
              1.0,
              "#f0f921"
             ]
            ]
           }
          ],
          "heatmapgl": [
           {
            "type": "heatmapgl",
            "colorbar": {
             "outlinewidth": 0,
             "ticks": ""
            },
            "colorscale": [
             [
              0.0,
              "#0d0887"
             ],
             [
              0.1111111111111111,
              "#46039f"
             ],
             [
              0.2222222222222222,
              "#7201a8"
             ],
             [
              0.3333333333333333,
              "#9c179e"
             ],
             [
              0.4444444444444444,
              "#bd3786"
             ],
             [
              0.5555555555555556,
              "#d8576b"
             ],
             [
              0.6666666666666666,
              "#ed7953"
             ],
             [
              0.7777777777777778,
              "#fb9f3a"
             ],
             [
              0.8888888888888888,
              "#fdca26"
             ],
             [
              1.0,
              "#f0f921"
             ]
            ]
           }
          ],
          "contourcarpet": [
           {
            "type": "contourcarpet",
            "colorbar": {
             "outlinewidth": 0,
             "ticks": ""
            }
           }
          ],
          "contour": [
           {
            "type": "contour",
            "colorbar": {
             "outlinewidth": 0,
             "ticks": ""
            },
            "colorscale": [
             [
              0.0,
              "#0d0887"
             ],
             [
              0.1111111111111111,
              "#46039f"
             ],
             [
              0.2222222222222222,
              "#7201a8"
             ],
             [
              0.3333333333333333,
              "#9c179e"
             ],
             [
              0.4444444444444444,
              "#bd3786"
             ],
             [
              0.5555555555555556,
              "#d8576b"
             ],
             [
              0.6666666666666666,
              "#ed7953"
             ],
             [
              0.7777777777777778,
              "#fb9f3a"
             ],
             [
              0.8888888888888888,
              "#fdca26"
             ],
             [
              1.0,
              "#f0f921"
             ]
            ]
           }
          ],
          "surface": [
           {
            "type": "surface",
            "colorbar": {
             "outlinewidth": 0,
             "ticks": ""
            },
            "colorscale": [
             [
              0.0,
              "#0d0887"
             ],
             [
              0.1111111111111111,
              "#46039f"
             ],
             [
              0.2222222222222222,
              "#7201a8"
             ],
             [
              0.3333333333333333,
              "#9c179e"
             ],
             [
              0.4444444444444444,
              "#bd3786"
             ],
             [
              0.5555555555555556,
              "#d8576b"
             ],
             [
              0.6666666666666666,
              "#ed7953"
             ],
             [
              0.7777777777777778,
              "#fb9f3a"
             ],
             [
              0.8888888888888888,
              "#fdca26"
             ],
             [
              1.0,
              "#f0f921"
             ]
            ]
           }
          ],
          "mesh3d": [
           {
            "type": "mesh3d",
            "colorbar": {
             "outlinewidth": 0,
             "ticks": ""
            }
           }
          ],
          "scatter": [
           {
            "fillpattern": {
             "fillmode": "overlay",
             "size": 10,
             "solidity": 0.2
            },
            "type": "scatter"
           }
          ],
          "parcoords": [
           {
            "type": "parcoords",
            "line": {
             "colorbar": {
              "outlinewidth": 0,
              "ticks": ""
             }
            }
           }
          ],
          "scatterpolargl": [
           {
            "type": "scatterpolargl",
            "marker": {
             "colorbar": {
              "outlinewidth": 0,
              "ticks": ""
             }
            }
           }
          ],
          "bar": [
           {
            "error_x": {
             "color": "#2a3f5f"
            },
            "error_y": {
             "color": "#2a3f5f"
            },
            "marker": {
             "line": {
              "color": "#E5ECF6",
              "width": 0.5
             },
             "pattern": {
              "fillmode": "overlay",
              "size": 10,
              "solidity": 0.2
             }
            },
            "type": "bar"
           }
          ],
          "scattergeo": [
           {
            "type": "scattergeo",
            "marker": {
             "colorbar": {
              "outlinewidth": 0,
              "ticks": ""
             }
            }
           }
          ],
          "scatterpolar": [
           {
            "type": "scatterpolar",
            "marker": {
             "colorbar": {
              "outlinewidth": 0,
              "ticks": ""
             }
            }
           }
          ],
          "histogram": [
           {
            "marker": {
             "pattern": {
              "fillmode": "overlay",
              "size": 10,
              "solidity": 0.2
             }
            },
            "type": "histogram"
           }
          ],
          "scattergl": [
           {
            "type": "scattergl",
            "marker": {
             "colorbar": {
              "outlinewidth": 0,
              "ticks": ""
             }
            }
           }
          ],
          "scatter3d": [
           {
            "type": "scatter3d",
            "line": {
             "colorbar": {
              "outlinewidth": 0,
              "ticks": ""
             }
            },
            "marker": {
             "colorbar": {
              "outlinewidth": 0,
              "ticks": ""
             }
            }
           }
          ],
          "scattermapbox": [
           {
            "type": "scattermapbox",
            "marker": {
             "colorbar": {
              "outlinewidth": 0,
              "ticks": ""
             }
            }
           }
          ],
          "scatterternary": [
           {
            "type": "scatterternary",
            "marker": {
             "colorbar": {
              "outlinewidth": 0,
              "ticks": ""
             }
            }
           }
          ],
          "scattercarpet": [
           {
            "type": "scattercarpet",
            "marker": {
             "colorbar": {
              "outlinewidth": 0,
              "ticks": ""
             }
            }
           }
          ],
          "carpet": [
           {
            "aaxis": {
             "endlinecolor": "#2a3f5f",
             "gridcolor": "white",
             "linecolor": "white",
             "minorgridcolor": "white",
             "startlinecolor": "#2a3f5f"
            },
            "baxis": {
             "endlinecolor": "#2a3f5f",
             "gridcolor": "white",
             "linecolor": "white",
             "minorgridcolor": "white",
             "startlinecolor": "#2a3f5f"
            },
            "type": "carpet"
           }
          ],
          "table": [
           {
            "cells": {
             "fill": {
              "color": "#EBF0F8"
             },
             "line": {
              "color": "white"
             }
            },
            "header": {
             "fill": {
              "color": "#C8D4E3"
             },
             "line": {
              "color": "white"
             }
            },
            "type": "table"
           }
          ],
          "barpolar": [
           {
            "marker": {
             "line": {
              "color": "#E5ECF6",
              "width": 0.5
             },
             "pattern": {
              "fillmode": "overlay",
              "size": 10,
              "solidity": 0.2
             }
            },
            "type": "barpolar"
           }
          ],
          "pie": [
           {
            "automargin": true,
            "type": "pie"
           }
          ]
         },
         "layout": {
          "autotypenumbers": "strict",
          "colorway": [
           "#636efa",
           "#EF553B",
           "#00cc96",
           "#ab63fa",
           "#FFA15A",
           "#19d3f3",
           "#FF6692",
           "#B6E880",
           "#FF97FF",
           "#FECB52"
          ],
          "font": {
           "color": "#2a3f5f"
          },
          "hovermode": "closest",
          "hoverlabel": {
           "align": "left"
          },
          "paper_bgcolor": "white",
          "plot_bgcolor": "#E5ECF6",
          "polar": {
           "bgcolor": "#E5ECF6",
           "angularaxis": {
            "gridcolor": "white",
            "linecolor": "white",
            "ticks": ""
           },
           "radialaxis": {
            "gridcolor": "white",
            "linecolor": "white",
            "ticks": ""
           }
          },
          "ternary": {
           "bgcolor": "#E5ECF6",
           "aaxis": {
            "gridcolor": "white",
            "linecolor": "white",
            "ticks": ""
           },
           "baxis": {
            "gridcolor": "white",
            "linecolor": "white",
            "ticks": ""
           },
           "caxis": {
            "gridcolor": "white",
            "linecolor": "white",
            "ticks": ""
           }
          },
          "coloraxis": {
           "colorbar": {
            "outlinewidth": 0,
            "ticks": ""
           }
          },
          "colorscale": {
           "sequential": [
            [
             0.0,
             "#0d0887"
            ],
            [
             0.1111111111111111,
             "#46039f"
            ],
            [
             0.2222222222222222,
             "#7201a8"
            ],
            [
             0.3333333333333333,
             "#9c179e"
            ],
            [
             0.4444444444444444,
             "#bd3786"
            ],
            [
             0.5555555555555556,
             "#d8576b"
            ],
            [
             0.6666666666666666,
             "#ed7953"
            ],
            [
             0.7777777777777778,
             "#fb9f3a"
            ],
            [
             0.8888888888888888,
             "#fdca26"
            ],
            [
             1.0,
             "#f0f921"
            ]
           ],
           "sequentialminus": [
            [
             0.0,
             "#0d0887"
            ],
            [
             0.1111111111111111,
             "#46039f"
            ],
            [
             0.2222222222222222,
             "#7201a8"
            ],
            [
             0.3333333333333333,
             "#9c179e"
            ],
            [
             0.4444444444444444,
             "#bd3786"
            ],
            [
             0.5555555555555556,
             "#d8576b"
            ],
            [
             0.6666666666666666,
             "#ed7953"
            ],
            [
             0.7777777777777778,
             "#fb9f3a"
            ],
            [
             0.8888888888888888,
             "#fdca26"
            ],
            [
             1.0,
             "#f0f921"
            ]
           ],
           "diverging": [
            [
             0,
             "#8e0152"
            ],
            [
             0.1,
             "#c51b7d"
            ],
            [
             0.2,
             "#de77ae"
            ],
            [
             0.3,
             "#f1b6da"
            ],
            [
             0.4,
             "#fde0ef"
            ],
            [
             0.5,
             "#f7f7f7"
            ],
            [
             0.6,
             "#e6f5d0"
            ],
            [
             0.7,
             "#b8e186"
            ],
            [
             0.8,
             "#7fbc41"
            ],
            [
             0.9,
             "#4d9221"
            ],
            [
             1,
             "#276419"
            ]
           ]
          },
          "xaxis": {
           "gridcolor": "white",
           "linecolor": "white",
           "ticks": "",
           "title": {
            "standoff": 15
           },
           "zerolinecolor": "white",
           "automargin": true,
           "zerolinewidth": 2
          },
          "yaxis": {
           "gridcolor": "white",
           "linecolor": "white",
           "ticks": "",
           "title": {
            "standoff": 15
           },
           "zerolinecolor": "white",
           "automargin": true,
           "zerolinewidth": 2
          },
          "scene": {
           "xaxis": {
            "backgroundcolor": "#E5ECF6",
            "gridcolor": "white",
            "linecolor": "white",
            "showbackground": true,
            "ticks": "",
            "zerolinecolor": "white",
            "gridwidth": 2
           },
           "yaxis": {
            "backgroundcolor": "#E5ECF6",
            "gridcolor": "white",
            "linecolor": "white",
            "showbackground": true,
            "ticks": "",
            "zerolinecolor": "white",
            "gridwidth": 2
           },
           "zaxis": {
            "backgroundcolor": "#E5ECF6",
            "gridcolor": "white",
            "linecolor": "white",
            "showbackground": true,
            "ticks": "",
            "zerolinecolor": "white",
            "gridwidth": 2
           }
          },
          "shapedefaults": {
           "line": {
            "color": "#2a3f5f"
           }
          },
          "annotationdefaults": {
           "arrowcolor": "#2a3f5f",
           "arrowhead": 0,
           "arrowwidth": 1
          },
          "geo": {
           "bgcolor": "white",
           "landcolor": "#E5ECF6",
           "subunitcolor": "white",
           "showland": true,
           "showlakes": true,
           "lakecolor": "white"
          },
          "title": {
           "x": 0.05
          },
          "mapbox": {
           "style": "light"
          }
         }
        },
        "xaxis": {
         "anchor": "y",
         "domain": [
          0.29647058823529415,
          0.5729411764705883
         ],
         "tickvals": [
          0.125,
          0.375,
          0.625,
          0.875
         ],
         "ticktext": [
          "Worker",
          "Capital",
          "Energy",
          "Resource"
         ]
        },
        "yaxis": {
         "anchor": "x",
         "domain": [
          0.7333333333333333,
          1.0
         ],
         "range": [
          0.3,
          0.7
         ],
         "tickvals": [
          0.5
         ],
         "ticktext": [
          "extraction"
         ]
        },
        "xaxis2": {
         "anchor": "y2",
         "domain": [
          0.8894117647058823,
          1.0
         ],
         "range": [
          0.3,
          0.7
         ],
         "tickvals": [
          0.5
         ],
         "ticktext": [
          "Decision-Making"
         ]
        },
        "yaxis2": {
         "anchor": "x2",
         "domain": [
          0.0,
          1.0
         ],
         "tickvals": [
          0.2,
          0.5,
          0.8
         ],
         "ticktext": [
          "Ineq",
          "Voice",
          "Gender"
         ]
        },
        "xaxis3": {
         "anchor": "y3",
         "domain": [
          0.0,
          0.27647058823529413
         ],
         "tickvals": [
          0.125,
          0.375,
          0.625,
          0.875
         ],
         "ticktext": [
          "State",
          "Market",
          "Household",
          "Commons"
         ]
        },
        "yaxis3": {
         "anchor": "x3",
         "domain": [
          0.36666666666666664,
          0.6333333333333333
         ],
         "range": [
          0.3,
          0.7
         ],
         "tickvals": [
          0.5
         ],
         "ticktext": [
          "realms"
         ]
        },
        "xaxis4": {
         "anchor": "y4",
         "domain": [
          0.29647058823529415,
          0.5729411764705883
         ],
         "tickvals": [
          0.25,
          0.5,
          0.75
         ],
         "ticktext": [
          "Agriculture",
          "Industry",
          "Services"
         ]
        },
        "yaxis4": {
         "anchor": "x4",
         "domain": [
          0.36666666666666664,
          0.6333333333333333
         ],
         "range": [
          0.3,
          0.7
         ],
         "tickvals": [
          0.5
         ],
         "ticktext": [
          "industry"
         ]
        },
        "xaxis5": {
         "anchor": "y5",
         "domain": [
          0.5929411764705883,
          0.8694117647058824
         ],
         "tickvals": [
          0.125,
          0.375,
          0.625,
          0.875
         ],
         "ticktext": [
          "Complexity",
          "Exports",
          "ResourceRents",
          "Concentration"
         ]
        },
        "yaxis5": {
         "anchor": "x5",
         "domain": [
          0.36666666666666664,
          0.6333333333333333
         ],
         "range": [
          0.3,
          0.7
         ],
         "tickvals": [
          0.5
         ],
         "ticktext": [
          "foundational"
         ]
        },
        "xaxis6": {
         "anchor": "y6",
         "domain": [
          0.29647058823529415,
          0.5729411764705883
         ],
         "tickvals": [
          0.125,
          0.375,
          0.625,
          0.875
         ],
         "ticktext": [
          "Accumulation",
          "Needs",
          "HDI",
          "Waste"
         ]
        },
        "yaxis6": {
         "anchor": "x6",
         "domain": [
          0.0,
          0.26666666666666666
         ],
         "range": [
          0.3,
          0.7
         ],
         "tickvals": [
          0.5
         ],
         "ticktext": [
          "dissipation"
         ]
        },
        "annotations": [
         {
          "font": {
           "size": 18
          },
          "showarrow": false,
          "text": "Year: 2000",
          "x": 0,
          "xref": "paper",
          "y": 0.95,
          "yref": "paper"
         },
         {
          "font": {
           "size": 18
          },
          "showarrow": false,
          "text": "Country: Kazakhstan",
          "x": 0,
          "xref": "paper",
          "y": 0.85,
          "yref": "paper"
         }
        ],
        "updatemenus": [
         {
          "buttons": [
           {
            "args": [
             null,
             {
              "frame": {
               "duration": 1000
              }
             }
            ],
            "label": "Play",
            "method": "animate"
           },
           {
            "args": [
             [
              null
             ],
             {
              "frame": {
               "duration": 0,
               "redraw": false
              }
             }
            ],
            "label": "Pause",
            "method": "animate"
           }
          ],
          "showactive": false,
          "type": "buttons"
         }
        ],
        "showlegend": false
       },
       "frames": [
        {
         "data": [
          {
           "hovertemplate": "unemployed: 0.73",
           "marker": {
            "color": "red",
            "opacity": 0.4,
            "size": 17.011458883015937
           },
           "mode": "markers",
           "x": [
            0.125
           ],
           "xaxis": "x",
           "y": [
            0.5
           ],
           "yaxis": "y",
           "type": "scatter"
          },
          {
           "hovertemplate": "wealth: -0.61",
           "marker": {
            "color": "red",
            "opacity": 0.4,
            "size": 14.27159666594122
           },
           "mode": "markers",
           "x": [
            0.375
           ],
           "xaxis": "x",
           "y": [
            0.5
           ],
           "yaxis": "y",
           "type": "scatter"
          },
          {
           "hovertemplate": "energy: 0.19",
           "marker": {
            "color": "green",
            "opacity": 0.4,
            "size": 4.422514120831626
           },
           "mode": "markers",
           "x": [
            0.625
           ],
           "xaxis": "x",
           "y": [
            0.5
           ],
           "yaxis": "y",
           "type": "scatter"
          },
          {
           "hovertemplate": "placeholder: 0.1",
           "marker": {
            "color": "green",
            "opacity": 0.4,
            "size": 2.3333333333333335
           },
           "mode": "markers",
           "x": [
            0.875
           ],
           "xaxis": "x",
           "y": [
            0.5
           ],
           "yaxis": "y",
           "type": "scatter"
          },
          {
           "hovertemplate": "govconsum: -0.61",
           "marker": {
            "color": "red",
            "opacity": 0.4,
            "size": 14.330022713305029
           },
           "mode": "markers",
           "x": [
            0.125
           ],
           "xaxis": "x3",
           "y": [
            0.5
           ],
           "yaxis": "y3",
           "type": "scatter"
          },
          {
           "hovertemplate": "marketcap: nan",
           "marker": {
            "color": "grey",
            "opacity": 0.2,
            "size": 7.0
           },
           "mode": "markers",
           "x": [
            0.375
           ],
           "xaxis": "x3",
           "y": [
            0.5
           ],
           "yaxis": "y3",
           "type": "scatter"
          },
          {
           "hovertemplate": "houseconsum: -0.11",
           "marker": {
            "color": "red",
            "opacity": 0.4,
            "size": 2.530331561801811
           },
           "mode": "markers",
           "x": [
            0.625
           ],
           "xaxis": "x3",
           "y": [
            0.5
           ],
           "yaxis": "y3",
           "type": "scatter"
          },
          {
           "hovertemplate": "placeholder: 0.1",
           "marker": {
            "color": "green",
            "opacity": 0.4,
            "size": 2.3333333333333335
           },
           "mode": "markers",
           "x": [
            0.875
           ],
           "xaxis": "x3",
           "y": [
            0.5
           ],
           "yaxis": "y3",
           "type": "scatter"
          },
          {
           "hovertemplate": "agriculture: 0.35",
           "marker": {
            "color": "green",
            "opacity": 0.4,
            "size": 8.082269501536025
           },
           "mode": "markers",
           "x": [
            0.25
           ],
           "xaxis": "x4",
           "y": [
            0.5
           ],
           "yaxis": "y4",
           "type": "scatter"
          },
          {
           "hovertemplate": "industry: 1.04",
           "marker": {
            "color": "green",
            "opacity": 0.4,
            "size": 24.29978630103415
           },
           "mode": "markers",
           "x": [
            0.5
           ],
           "xaxis": "x4",
           "y": [
            0.5
           ],
           "yaxis": "y4",
           "type": "scatter"
          },
          {
           "hovertemplate": "services: -0.55",
           "marker": {
            "color": "red",
            "opacity": 0.4,
            "size": 12.731494894804271
           },
           "mode": "markers",
           "x": [
            0.75
           ],
           "xaxis": "x4",
           "y": [
            0.5
           ],
           "yaxis": "y4",
           "type": "scatter"
          },
          {
           "hovertemplate": "eci: -0.21",
           "marker": {
            "color": "red",
            "opacity": 0.4,
            "size": 4.957897269740603
           },
           "mode": "markers",
           "x": [
            0.125
           ],
           "xaxis": "x5",
           "y": [
            0.5
           ],
           "yaxis": "y5",
           "type": "scatter"
          },
          {
           "hovertemplate": "exports: 0.71",
           "marker": {
            "color": "green",
            "opacity": 0.4,
            "size": 16.641869379187707
           },
           "mode": "markers",
           "x": [
            0.375
           ],
           "xaxis": "x5",
           "y": [
            0.5
           ],
           "yaxis": "y5",
           "type": "scatter"
          },
          {
           "hovertemplate": "resourcerents: 1.41",
           "marker": {
            "color": "green",
            "opacity": 0.4,
            "size": 33.00274460995089
           },
           "mode": "markers",
           "x": [
            0.625
           ],
           "xaxis": "x5",
           "y": [
            0.5
           ],
           "yaxis": "y5",
           "type": "scatter"
          },
          {
           "hovertemplate": "concentration: -0.47",
           "marker": {
            "color": "red",
            "opacity": 0.4,
            "size": 10.881663791169386
           },
           "mode": "markers",
           "x": [
            0.875
           ],
           "xaxis": "x5",
           "y": [
            0.5
           ],
           "yaxis": "y5",
           "type": "scatter"
          },
          {
           "hovertemplate": "grosscapital: -0.61",
           "marker": {
            "color": "red",
            "opacity": 0.4,
            "size": 14.132950798173631
           },
           "mode": "markers",
           "x": [
            0.125
           ],
           "xaxis": "x6",
           "y": [
            0.5
           ],
           "yaxis": "y6",
           "type": "scatter"
          },
          {
           "hovertemplate": "lifeexpectancy: -0.78",
           "marker": {
            "color": "red",
            "opacity": 0.4,
            "size": 18.24709667203157
           },
           "mode": "markers",
           "x": [
            0.375
           ],
           "xaxis": "x6",
           "y": [
            0.5
           ],
           "yaxis": "y6",
           "type": "scatter"
          },
          {
           "hovertemplate": "education: 0.18",
           "marker": {
            "color": "green",
            "opacity": 0.4,
            "size": 4.127861973640495
           },
           "mode": "markers",
           "x": [
            0.625
           ],
           "xaxis": "x6",
           "y": [
            0.5
           ],
           "yaxis": "y6",
           "type": "scatter"
          },
          {
           "hovertemplate": "mfootprint: -0.34",
           "marker": {
            "color": "red",
            "opacity": 0.4,
            "size": 7.988135813593521
           },
           "mode": "markers",
           "x": [
            0.875
           ],
           "xaxis": "x6",
           "y": [
            0.5
           ],
           "yaxis": "y6",
           "type": "scatter"
          },
          {
           "hovertemplate": "gini: nan",
           "marker": {
            "color": "grey",
            "opacity": 0.2,
            "size": 7.0
           },
           "mode": "markers",
           "x": [
            0.5
           ],
           "xaxis": "x2",
           "y": [
            0.2
           ],
           "yaxis": "y2",
           "type": "scatter"
          },
          {
           "hovertemplate": "voice: 0.97",
           "marker": {
            "color": "red",
            "opacity": 0.4,
            "size": 22.669273772331476
           },
           "mode": "markers",
           "x": [
            0.5
           ],
           "xaxis": "x2",
           "y": [
            0.5
           ],
           "yaxis": "y2",
           "type": "scatter"
          },
          {
           "hovertemplate": "femaleminister: nan",
           "marker": {
            "color": "grey",
            "opacity": 0.2,
            "size": 7.0
           },
           "mode": "markers",
           "x": [
            0.5
           ],
           "xaxis": "x2",
           "y": [
            0.8
           ],
           "yaxis": "y2",
           "type": "scatter"
          }
         ],
         "layout": {
          "annotations": [
           {
            "font": {
             "size": 18
            },
            "showarrow": false,
            "text": "Year: 2000",
            "x": 0,
            "xref": "paper",
            "y": 0.95,
            "yref": "paper"
           },
           {
            "font": {
             "size": 18
            },
            "showarrow": false,
            "text": "Country: Kazakhstan",
            "x": 0,
            "xref": "paper",
            "y": 0.85,
            "yref": "paper"
           }
          ]
         },
         "name": "2000"
        },
        {
         "data": [
          {
           "hovertemplate": "unemployed: 0.5",
           "marker": {
            "color": "red",
            "opacity": 0.4,
            "size": 11.748221584755193
           },
           "mode": "markers",
           "x": [
            0.125
           ],
           "xaxis": "x",
           "y": [
            0.5
           ],
           "yaxis": "y",
           "type": "scatter"
          },
          {
           "hovertemplate": "wealth: -0.58",
           "marker": {
            "color": "red",
            "opacity": 0.4,
            "size": 13.565724168004522
           },
           "mode": "markers",
           "x": [
            0.375
           ],
           "xaxis": "x",
           "y": [
            0.5
           ],
           "yaxis": "y",
           "type": "scatter"
          },
          {
           "hovertemplate": "energy: 0.17",
           "marker": {
            "color": "green",
            "opacity": 0.4,
            "size": 3.9994208799114856
           },
           "mode": "markers",
           "x": [
            0.625
           ],
           "xaxis": "x",
           "y": [
            0.5
           ],
           "yaxis": "y",
           "type": "scatter"
          },
          {
           "hovertemplate": "placeholder: 0.1",
           "marker": {
            "color": "green",
            "opacity": 0.4,
            "size": 2.3333333333333335
           },
           "mode": "markers",
           "x": [
            0.875
           ],
           "xaxis": "x",
           "y": [
            0.5
           ],
           "yaxis": "y",
           "type": "scatter"
          },
          {
           "hovertemplate": "govconsum: -0.46",
           "marker": {
            "color": "red",
            "opacity": 0.4,
            "size": 10.762906017075343
           },
           "mode": "markers",
           "x": [
            0.125
           ],
           "xaxis": "x3",
           "y": [
            0.5
           ],
           "yaxis": "y3",
           "type": "scatter"
          },
          {
           "hovertemplate": "marketcap: nan",
           "marker": {
            "color": "grey",
            "opacity": 0.2,
            "size": 7.0
           },
           "mode": "markers",
           "x": [
            0.375
           ],
           "xaxis": "x3",
           "y": [
            0.5
           ],
           "yaxis": "y3",
           "type": "scatter"
          },
          {
           "hovertemplate": "houseconsum: -0.33",
           "marker": {
            "color": "red",
            "opacity": 0.4,
            "size": 7.669930486864914
           },
           "mode": "markers",
           "x": [
            0.625
           ],
           "xaxis": "x3",
           "y": [
            0.5
           ],
           "yaxis": "y3",
           "type": "scatter"
          },
          {
           "hovertemplate": "placeholder: 0.1",
           "marker": {
            "color": "green",
            "opacity": 0.4,
            "size": 2.3333333333333335
           },
           "mode": "markers",
           "x": [
            0.875
           ],
           "xaxis": "x3",
           "y": [
            0.5
           ],
           "yaxis": "y3",
           "type": "scatter"
          },
          {
           "hovertemplate": "agriculture: 0.4",
           "marker": {
            "color": "green",
            "opacity": 0.4,
            "size": 9.28745160096818
           },
           "mode": "markers",
           "x": [
            0.25
           ],
           "xaxis": "x4",
           "y": [
            0.5
           ],
           "yaxis": "y4",
           "type": "scatter"
          },
          {
           "hovertemplate": "industry: 0.95",
           "marker": {
            "color": "green",
            "opacity": 0.4,
            "size": 22.1793632706869
           },
           "mode": "markers",
           "x": [
            0.5
           ],
           "xaxis": "x4",
           "y": [
            0.5
           ],
           "yaxis": "y4",
           "type": "scatter"
          },
          {
           "hovertemplate": "services: -0.46",
           "marker": {
            "color": "red",
            "opacity": 0.4,
            "size": 10.76300701115026
           },
           "mode": "markers",
           "x": [
            0.75
           ],
           "xaxis": "x4",
           "y": [
            0.5
           ],
           "yaxis": "y4",
           "type": "scatter"
          },
          {
           "hovertemplate": "eci: -0.1",
           "marker": {
            "color": "red",
            "opacity": 0.4,
            "size": 2.324807848139109
           },
           "mode": "markers",
           "x": [
            0.125
           ],
           "xaxis": "x5",
           "y": [
            0.5
           ],
           "yaxis": "y5",
           "type": "scatter"
          },
          {
           "hovertemplate": "exports: 0.4",
           "marker": {
            "color": "green",
            "opacity": 0.4,
            "size": 9.423700686846049
           },
           "mode": "markers",
           "x": [
            0.375
           ],
           "xaxis": "x5",
           "y": [
            0.5
           ],
           "yaxis": "y5",
           "type": "scatter"
          },
          {
           "hovertemplate": "resourcerents: 1.29",
           "marker": {
            "color": "green",
            "opacity": 0.4,
            "size": 30.052172291678723
           },
           "mode": "markers",
           "x": [
            0.625
           ],
           "xaxis": "x5",
           "y": [
            0.5
           ],
           "yaxis": "y5",
           "type": "scatter"
          },
          {
           "hovertemplate": "concentration: -0.39",
           "marker": {
            "color": "red",
            "opacity": 0.4,
            "size": 9.20156891051896
           },
           "mode": "markers",
           "x": [
            0.875
           ],
           "xaxis": "x5",
           "y": [
            0.5
           ],
           "yaxis": "y5",
           "type": "scatter"
          },
          {
           "hovertemplate": "grosscapital: 0.48",
           "marker": {
            "color": "green",
            "opacity": 0.4,
            "size": 11.248909674094715
           },
           "mode": "markers",
           "x": [
            0.125
           ],
           "xaxis": "x6",
           "y": [
            0.5
           ],
           "yaxis": "y6",
           "type": "scatter"
          },
          {
           "hovertemplate": "lifeexpectancy: -0.74",
           "marker": {
            "color": "red",
            "opacity": 0.4,
            "size": 17.35677334627912
           },
           "mode": "markers",
           "x": [
            0.375
           ],
           "xaxis": "x6",
           "y": [
            0.5
           ],
           "yaxis": "y6",
           "type": "scatter"
          },
          {
           "hovertemplate": "education: nan",
           "marker": {
            "color": "grey",
            "opacity": 0.2,
            "size": 7.0
           },
           "mode": "markers",
           "x": [
            0.625
           ],
           "xaxis": "x6",
           "y": [
            0.5
           ],
           "yaxis": "y6",
           "type": "scatter"
          },
          {
           "hovertemplate": "mfootprint: -0.19",
           "marker": {
            "color": "red",
            "opacity": 0.4,
            "size": 4.456475558269504
           },
           "mode": "markers",
           "x": [
            0.875
           ],
           "xaxis": "x6",
           "y": [
            0.5
           ],
           "yaxis": "y6",
           "type": "scatter"
          },
          {
           "hovertemplate": "gini: -0.38",
           "marker": {
            "color": "green",
            "opacity": 0.4,
            "size": 8.893054215931917
           },
           "mode": "markers",
           "x": [
            0.5
           ],
           "xaxis": "x2",
           "y": [
            0.2
           ],
           "yaxis": "y2",
           "type": "scatter"
          },
          {
           "hovertemplate": "voice: nan",
           "marker": {
            "color": "grey",
            "opacity": 0.2,
            "size": 7.0
           },
           "mode": "markers",
           "x": [
            0.5
           ],
           "xaxis": "x2",
           "y": [
            0.5
           ],
           "yaxis": "y2",
           "type": "scatter"
          },
          {
           "hovertemplate": "femaleminister: nan",
           "marker": {
            "color": "grey",
            "opacity": 0.2,
            "size": 7.0
           },
           "mode": "markers",
           "x": [
            0.5
           ],
           "xaxis": "x2",
           "y": [
            0.8
           ],
           "yaxis": "y2",
           "type": "scatter"
          }
         ],
         "layout": {
          "annotations": [
           {
            "font": {
             "size": 18
            },
            "showarrow": false,
            "text": "Year: 2001",
            "x": 0,
            "xref": "paper",
            "y": 0.95,
            "yref": "paper"
           },
           {
            "font": {
             "size": 18
            },
            "showarrow": false,
            "text": "Country: Kazakhstan",
            "x": 0,
            "xref": "paper",
            "y": 0.85,
            "yref": "paper"
           }
          ]
         },
         "name": "2001"
        },
        {
         "data": [
          {
           "hovertemplate": "unemployed: 0.38",
           "marker": {
            "color": "red",
            "opacity": 0.4,
            "size": 8.827589304993694
           },
           "mode": "markers",
           "x": [
            0.125
           ],
           "xaxis": "x",
           "y": [
            0.5
           ],
           "yaxis": "y",
           "type": "scatter"
          },
          {
           "hovertemplate": "wealth: -0.56",
           "marker": {
            "color": "red",
            "opacity": 0.4,
            "size": 13.005944919419543
           },
           "mode": "markers",
           "x": [
            0.375
           ],
           "xaxis": "x",
           "y": [
            0.5
           ],
           "yaxis": "y",
           "type": "scatter"
          },
          {
           "hovertemplate": "energy: 0.25",
           "marker": {
            "color": "green",
            "opacity": 0.4,
            "size": 5.733880454314833
           },
           "mode": "markers",
           "x": [
            0.625
           ],
           "xaxis": "x",
           "y": [
            0.5
           ],
           "yaxis": "y",
           "type": "scatter"
          },
          {
           "hovertemplate": "placeholder: 0.1",
           "marker": {
            "color": "green",
            "opacity": 0.4,
            "size": 2.3333333333333335
           },
           "mode": "markers",
           "x": [
            0.875
           ],
           "xaxis": "x",
           "y": [
            0.5
           ],
           "yaxis": "y",
           "type": "scatter"
          },
          {
           "hovertemplate": "govconsum: -0.67",
           "marker": {
            "color": "red",
            "opacity": 0.4,
            "size": 15.576469987906279
           },
           "mode": "markers",
           "x": [
            0.125
           ],
           "xaxis": "x3",
           "y": [
            0.5
           ],
           "yaxis": "y3",
           "type": "scatter"
          },
          {
           "hovertemplate": "marketcap: -0.48",
           "marker": {
            "color": "red",
            "opacity": 0.4,
            "size": 11.094995765203937
           },
           "mode": "markers",
           "x": [
            0.375
           ],
           "xaxis": "x3",
           "y": [
            0.5
           ],
           "yaxis": "y3",
           "type": "scatter"
          },
          {
           "hovertemplate": "houseconsum: -0.51",
           "marker": {
            "color": "red",
            "opacity": 0.4,
            "size": 11.954491561717388
           },
           "mode": "markers",
           "x": [
            0.625
           ],
           "xaxis": "x3",
           "y": [
            0.5
           ],
           "yaxis": "y3",
           "type": "scatter"
          },
          {
           "hovertemplate": "placeholder: 0.1",
           "marker": {
            "color": "green",
            "opacity": 0.4,
            "size": 2.3333333333333335
           },
           "mode": "markers",
           "x": [
            0.875
           ],
           "xaxis": "x3",
           "y": [
            0.5
           ],
           "yaxis": "y3",
           "type": "scatter"
          },
          {
           "hovertemplate": "agriculture: 0.34",
           "marker": {
            "color": "green",
            "opacity": 0.4,
            "size": 7.846703612210225
           },
           "mode": "markers",
           "x": [
            0.25
           ],
           "xaxis": "x4",
           "y": [
            0.5
           ],
           "yaxis": "y4",
           "type": "scatter"
          },
          {
           "hovertemplate": "industry: 0.93",
           "marker": {
            "color": "green",
            "opacity": 0.4,
            "size": 21.738303569586783
           },
           "mode": "markers",
           "x": [
            0.5
           ],
           "xaxis": "x4",
           "y": [
            0.5
           ],
           "yaxis": "y4",
           "type": "scatter"
          },
          {
           "hovertemplate": "services: -0.37",
           "marker": {
            "color": "red",
            "opacity": 0.4,
            "size": 8.62303337351386
           },
           "mode": "markers",
           "x": [
            0.75
           ],
           "xaxis": "x4",
           "y": [
            0.5
           ],
           "yaxis": "y4",
           "type": "scatter"
          },
          {
           "hovertemplate": "eci: -0.14",
           "marker": {
            "color": "red",
            "opacity": 0.4,
            "size": 3.3659932107857156
           },
           "mode": "markers",
           "x": [
            0.125
           ],
           "xaxis": "x5",
           "y": [
            0.5
           ],
           "yaxis": "y5",
           "type": "scatter"
          },
          {
           "hovertemplate": "exports: 0.44",
           "marker": {
            "color": "green",
            "opacity": 0.4,
            "size": 10.235784121286638
           },
           "mode": "markers",
           "x": [
            0.375
           ],
           "xaxis": "x5",
           "y": [
            0.5
           ],
           "yaxis": "y5",
           "type": "scatter"
          },
          {
           "hovertemplate": "resourcerents: 1.33",
           "marker": {
            "color": "green",
            "opacity": 0.4,
            "size": 31.126874200650036
           },
           "mode": "markers",
           "x": [
            0.625
           ],
           "xaxis": "x5",
           "y": [
            0.5
           ],
           "yaxis": "y5",
           "type": "scatter"
          },
          {
           "hovertemplate": "concentration: -0.51",
           "marker": {
            "color": "red",
            "opacity": 0.4,
            "size": 11.89492105221533
           },
           "mode": "markers",
           "x": [
            0.875
           ],
           "xaxis": "x5",
           "y": [
            0.5
           ],
           "yaxis": "y5",
           "type": "scatter"
          },
          {
           "hovertemplate": "grosscapital: 0.52",
           "marker": {
            "color": "green",
            "opacity": 0.4,
            "size": 12.229335935982938
           },
           "mode": "markers",
           "x": [
            0.125
           ],
           "xaxis": "x6",
           "y": [
            0.5
           ],
           "yaxis": "y6",
           "type": "scatter"
          },
          {
           "hovertemplate": "lifeexpectancy: -0.72",
           "marker": {
            "color": "red",
            "opacity": 0.4,
            "size": 16.811091307914726
           },
           "mode": "markers",
           "x": [
            0.375
           ],
           "xaxis": "x6",
           "y": [
            0.5
           ],
           "yaxis": "y6",
           "type": "scatter"
          },
          {
           "hovertemplate": "education: nan",
           "marker": {
            "color": "grey",
            "opacity": 0.2,
            "size": 7.0
           },
           "mode": "markers",
           "x": [
            0.625
           ],
           "xaxis": "x6",
           "y": [
            0.5
           ],
           "yaxis": "y6",
           "type": "scatter"
          },
          {
           "hovertemplate": "mfootprint: -0.22",
           "marker": {
            "color": "red",
            "opacity": 0.4,
            "size": 5.126421100997681
           },
           "mode": "markers",
           "x": [
            0.875
           ],
           "xaxis": "x6",
           "y": [
            0.5
           ],
           "yaxis": "y6",
           "type": "scatter"
          },
          {
           "hovertemplate": "gini: -0.48",
           "marker": {
            "color": "green",
            "opacity": 0.4,
            "size": 11.212981402696773
           },
           "mode": "markers",
           "x": [
            0.5
           ],
           "xaxis": "x2",
           "y": [
            0.2
           ],
           "yaxis": "y2",
           "type": "scatter"
          },
          {
           "hovertemplate": "voice: 1.03",
           "marker": {
            "color": "red",
            "opacity": 0.4,
            "size": 24.06483236520422
           },
           "mode": "markers",
           "x": [
            0.5
           ],
           "xaxis": "x2",
           "y": [
            0.5
           ],
           "yaxis": "y2",
           "type": "scatter"
          },
          {
           "hovertemplate": "femaleminister: nan",
           "marker": {
            "color": "grey",
            "opacity": 0.2,
            "size": 7.0
           },
           "mode": "markers",
           "x": [
            0.5
           ],
           "xaxis": "x2",
           "y": [
            0.8
           ],
           "yaxis": "y2",
           "type": "scatter"
          }
         ],
         "layout": {
          "annotations": [
           {
            "font": {
             "size": 18
            },
            "showarrow": false,
            "text": "Year: 2002",
            "x": 0,
            "xref": "paper",
            "y": 0.95,
            "yref": "paper"
           },
           {
            "font": {
             "size": 18
            },
            "showarrow": false,
            "text": "Country: Kazakhstan",
            "x": 0,
            "xref": "paper",
            "y": 0.85,
            "yref": "paper"
           }
          ]
         },
         "name": "2002"
        },
        {
         "data": [
          {
           "hovertemplate": "unemployed: 0.31",
           "marker": {
            "color": "red",
            "opacity": 0.4,
            "size": 7.235381564979447
           },
           "mode": "markers",
           "x": [
            0.125
           ],
           "xaxis": "x",
           "y": [
            0.5
           ],
           "yaxis": "y",
           "type": "scatter"
          },
          {
           "hovertemplate": "wealth: -0.53",
           "marker": {
            "color": "red",
            "opacity": 0.4,
            "size": 12.318156491022098
           },
           "mode": "markers",
           "x": [
            0.375
           ],
           "xaxis": "x",
           "y": [
            0.5
           ],
           "yaxis": "y",
           "type": "scatter"
          },
          {
           "hovertemplate": "energy: 0.29",
           "marker": {
            "color": "green",
            "opacity": 0.4,
            "size": 6.668310254554559
           },
           "mode": "markers",
           "x": [
            0.625
           ],
           "xaxis": "x",
           "y": [
            0.5
           ],
           "yaxis": "y",
           "type": "scatter"
          },
          {
           "hovertemplate": "placeholder: 0.1",
           "marker": {
            "color": "green",
            "opacity": 0.4,
            "size": 2.3333333333333335
           },
           "mode": "markers",
           "x": [
            0.875
           ],
           "xaxis": "x",
           "y": [
            0.5
           ],
           "yaxis": "y",
           "type": "scatter"
          },
          {
           "hovertemplate": "govconsum: -0.71",
           "marker": {
            "color": "red",
            "opacity": 0.4,
            "size": 16.5153023386309
           },
           "mode": "markers",
           "x": [
            0.125
           ],
           "xaxis": "x3",
           "y": [
            0.5
           ],
           "yaxis": "y3",
           "type": "scatter"
          },
          {
           "hovertemplate": "marketcap: -0.46",
           "marker": {
            "color": "red",
            "opacity": 0.4,
            "size": 10.63029815888472
           },
           "mode": "markers",
           "x": [
            0.375
           ],
           "xaxis": "x3",
           "y": [
            0.5
           ],
           "yaxis": "y3",
           "type": "scatter"
          },
          {
           "hovertemplate": "houseconsum: -0.52",
           "marker": {
            "color": "red",
            "opacity": 0.4,
            "size": 12.102059724444096
           },
           "mode": "markers",
           "x": [
            0.625
           ],
           "xaxis": "x3",
           "y": [
            0.5
           ],
           "yaxis": "y3",
           "type": "scatter"
          },
          {
           "hovertemplate": "placeholder: 0.1",
           "marker": {
            "color": "green",
            "opacity": 0.4,
            "size": 2.3333333333333335
           },
           "mode": "markers",
           "x": [
            0.875
           ],
           "xaxis": "x3",
           "y": [
            0.5
           ],
           "yaxis": "y3",
           "type": "scatter"
          },
          {
           "hovertemplate": "agriculture: 0.32",
           "marker": {
            "color": "green",
            "opacity": 0.4,
            "size": 7.56822825393166
           },
           "mode": "markers",
           "x": [
            0.25
           ],
           "xaxis": "x4",
           "y": [
            0.5
           ],
           "yaxis": "y4",
           "type": "scatter"
          },
          {
           "hovertemplate": "industry: 0.89",
           "marker": {
            "color": "green",
            "opacity": 0.4,
            "size": 20.742937861983542
           },
           "mode": "markers",
           "x": [
            0.5
           ],
           "xaxis": "x4",
           "y": [
            0.5
           ],
           "yaxis": "y4",
           "type": "scatter"
          },
          {
           "hovertemplate": "services: -0.26",
           "marker": {
            "color": "red",
            "opacity": 0.4,
            "size": 6.056589743317042
           },
           "mode": "markers",
           "x": [
            0.75
           ],
           "xaxis": "x4",
           "y": [
            0.5
           ],
           "yaxis": "y4",
           "type": "scatter"
          },
          {
           "hovertemplate": "eci: -0.18",
           "marker": {
            "color": "red",
            "opacity": 0.4,
            "size": 4.1926940468023455
           },
           "mode": "markers",
           "x": [
            0.125
           ],
           "xaxis": "x5",
           "y": [
            0.5
           ],
           "yaxis": "y5",
           "type": "scatter"
          },
          {
           "hovertemplate": "exports: 0.48",
           "marker": {
            "color": "green",
            "opacity": 0.4,
            "size": 11.265110556661325
           },
           "mode": "markers",
           "x": [
            0.375
           ],
           "xaxis": "x5",
           "y": [
            0.5
           ],
           "yaxis": "y5",
           "type": "scatter"
          },
          {
           "hovertemplate": "resourcerents: 1.33",
           "marker": {
            "color": "green",
            "opacity": 0.4,
            "size": 31.026301329556944
           },
           "mode": "markers",
           "x": [
            0.625
           ],
           "xaxis": "x5",
           "y": [
            0.5
           ],
           "yaxis": "y5",
           "type": "scatter"
          },
          {
           "hovertemplate": "concentration: -0.45",
           "marker": {
            "color": "red",
            "opacity": 0.4,
            "size": 10.569587659968853
           },
           "mode": "markers",
           "x": [
            0.875
           ],
           "xaxis": "x5",
           "y": [
            0.5
           ],
           "yaxis": "y5",
           "type": "scatter"
          },
          {
           "hovertemplate": "grosscapital: 0.36",
           "marker": {
            "color": "green",
            "opacity": 0.4,
            "size": 8.369359812544392
           },
           "mode": "markers",
           "x": [
            0.125
           ],
           "xaxis": "x6",
           "y": [
            0.5
           ],
           "yaxis": "y6",
           "type": "scatter"
          },
          {
           "hovertemplate": "lifeexpectancy: -0.75",
           "marker": {
            "color": "red",
            "opacity": 0.4,
            "size": 17.414213560843823
           },
           "mode": "markers",
           "x": [
            0.375
           ],
           "xaxis": "x6",
           "y": [
            0.5
           ],
           "yaxis": "y6",
           "type": "scatter"
          },
          {
           "hovertemplate": "education: nan",
           "marker": {
            "color": "grey",
            "opacity": 0.2,
            "size": 7.0
           },
           "mode": "markers",
           "x": [
            0.625
           ],
           "xaxis": "x6",
           "y": [
            0.5
           ],
           "yaxis": "y6",
           "type": "scatter"
          },
          {
           "hovertemplate": "mfootprint: 0.11",
           "marker": {
            "color": "green",
            "opacity": 0.4,
            "size": 2.4883621939158522
           },
           "mode": "markers",
           "x": [
            0.875
           ],
           "xaxis": "x6",
           "y": [
            0.5
           ],
           "yaxis": "y6",
           "type": "scatter"
          },
          {
           "hovertemplate": "gini: -0.57",
           "marker": {
            "color": "green",
            "opacity": 0.4,
            "size": 13.339581323897875
           },
           "mode": "markers",
           "x": [
            0.5
           ],
           "xaxis": "x2",
           "y": [
            0.2
           ],
           "yaxis": "y2",
           "type": "scatter"
          },
          {
           "hovertemplate": "voice: 1.04",
           "marker": {
            "color": "red",
            "opacity": 0.4,
            "size": 24.308910214539132
           },
           "mode": "markers",
           "x": [
            0.5
           ],
           "xaxis": "x2",
           "y": [
            0.5
           ],
           "yaxis": "y2",
           "type": "scatter"
          },
          {
           "hovertemplate": "femaleminister: nan",
           "marker": {
            "color": "grey",
            "opacity": 0.2,
            "size": 7.0
           },
           "mode": "markers",
           "x": [
            0.5
           ],
           "xaxis": "x2",
           "y": [
            0.8
           ],
           "yaxis": "y2",
           "type": "scatter"
          }
         ],
         "layout": {
          "annotations": [
           {
            "font": {
             "size": 18
            },
            "showarrow": false,
            "text": "Year: 2003",
            "x": 0,
            "xref": "paper",
            "y": 0.95,
            "yref": "paper"
           },
           {
            "font": {
             "size": 18
            },
            "showarrow": false,
            "text": "Country: Kazakhstan",
            "x": 0,
            "xref": "paper",
            "y": 0.85,
            "yref": "paper"
           }
          ]
         },
         "name": "2003"
        },
        {
         "data": [
          {
           "hovertemplate": "unemployed: 0.26",
           "marker": {
            "color": "red",
            "opacity": 0.4,
            "size": 6.0759284456717095
           },
           "mode": "markers",
           "x": [
            0.125
           ],
           "xaxis": "x",
           "y": [
            0.5
           ],
           "yaxis": "y",
           "type": "scatter"
          },
          {
           "hovertemplate": "wealth: -0.49",
           "marker": {
            "color": "red",
            "opacity": 0.4,
            "size": 11.513066709775481
           },
           "mode": "markers",
           "x": [
            0.375
           ],
           "xaxis": "x",
           "y": [
            0.5
           ],
           "yaxis": "y",
           "type": "scatter"
          },
          {
           "hovertemplate": "energy: 0.37",
           "marker": {
            "color": "green",
            "opacity": 0.4,
            "size": 8.585657711507384
           },
           "mode": "markers",
           "x": [
            0.625
           ],
           "xaxis": "x",
           "y": [
            0.5
           ],
           "yaxis": "y",
           "type": "scatter"
          },
          {
           "hovertemplate": "placeholder: 0.1",
           "marker": {
            "color": "green",
            "opacity": 0.4,
            "size": 2.3333333333333335
           },
           "mode": "markers",
           "x": [
            0.875
           ],
           "xaxis": "x",
           "y": [
            0.5
           ],
           "yaxis": "y",
           "type": "scatter"
          },
          {
           "hovertemplate": "govconsum: -0.67",
           "marker": {
            "color": "red",
            "opacity": 0.4,
            "size": 15.563139001499039
           },
           "mode": "markers",
           "x": [
            0.125
           ],
           "xaxis": "x3",
           "y": [
            0.5
           ],
           "yaxis": "y3",
           "type": "scatter"
          },
          {
           "hovertemplate": "marketcap: -0.45",
           "marker": {
            "color": "red",
            "opacity": 0.4,
            "size": 10.406713043657666
           },
           "mode": "markers",
           "x": [
            0.375
           ],
           "xaxis": "x3",
           "y": [
            0.5
           ],
           "yaxis": "y3",
           "type": "scatter"
          },
          {
           "hovertemplate": "houseconsum: -0.57",
           "marker": {
            "color": "red",
            "opacity": 0.4,
            "size": 13.333015713395604
           },
           "mode": "markers",
           "x": [
            0.625
           ],
           "xaxis": "x3",
           "y": [
            0.5
           ],
           "yaxis": "y3",
           "type": "scatter"
          },
          {
           "hovertemplate": "placeholder: 0.1",
           "marker": {
            "color": "green",
            "opacity": 0.4,
            "size": 2.3333333333333335
           },
           "mode": "markers",
           "x": [
            0.875
           ],
           "xaxis": "x3",
           "y": [
            0.5
           ],
           "yaxis": "y3",
           "type": "scatter"
          },
          {
           "hovertemplate": "agriculture: 0.25",
           "marker": {
            "color": "green",
            "opacity": 0.4,
            "size": 5.937550899849966
           },
           "mode": "markers",
           "x": [
            0.25
           ],
           "xaxis": "x4",
           "y": [
            0.5
           ],
           "yaxis": "y4",
           "type": "scatter"
          },
          {
           "hovertemplate": "industry: 0.91",
           "marker": {
            "color": "green",
            "opacity": 0.4,
            "size": 21.119576527054928
           },
           "mode": "markers",
           "x": [
            0.5
           ],
           "xaxis": "x4",
           "y": [
            0.5
           ],
           "yaxis": "y4",
           "type": "scatter"
          },
          {
           "hovertemplate": "services: -0.14",
           "marker": {
            "color": "red",
            "opacity": 0.4,
            "size": 3.1783161331792704
           },
           "mode": "markers",
           "x": [
            0.75
           ],
           "xaxis": "x4",
           "y": [
            0.5
           ],
           "yaxis": "y4",
           "type": "scatter"
          },
          {
           "hovertemplate": "eci: -0.5",
           "marker": {
            "color": "red",
            "opacity": 0.4,
            "size": 11.657937656318593
           },
           "mode": "markers",
           "x": [
            0.125
           ],
           "xaxis": "x5",
           "y": [
            0.5
           ],
           "yaxis": "y5",
           "type": "scatter"
          },
          {
           "hovertemplate": "exports: 0.6",
           "marker": {
            "color": "green",
            "opacity": 0.4,
            "size": 14.05225866178031
           },
           "mode": "markers",
           "x": [
            0.375
           ],
           "xaxis": "x5",
           "y": [
            0.5
           ],
           "yaxis": "y5",
           "type": "scatter"
          },
          {
           "hovertemplate": "resourcerents: 1.43",
           "marker": {
            "color": "green",
            "opacity": 0.4,
            "size": 33.37770442890482
           },
           "mode": "markers",
           "x": [
            0.625
           ],
           "xaxis": "x5",
           "y": [
            0.5
           ],
           "yaxis": "y5",
           "type": "scatter"
          },
          {
           "hovertemplate": "concentration: -0.54",
           "marker": {
            "color": "red",
            "opacity": 0.4,
            "size": 12.616999202720542
           },
           "mode": "markers",
           "x": [
            0.875
           ],
           "xaxis": "x5",
           "y": [
            0.5
           ],
           "yaxis": "y5",
           "type": "scatter"
          },
          {
           "hovertemplate": "grosscapital: 0.42",
           "marker": {
            "color": "green",
            "opacity": 0.4,
            "size": 9.876542118244203
           },
           "mode": "markers",
           "x": [
            0.125
           ],
           "xaxis": "x6",
           "y": [
            0.5
           ],
           "yaxis": "y6",
           "type": "scatter"
          },
          {
           "hovertemplate": "lifeexpectancy: -0.71",
           "marker": {
            "color": "red",
            "opacity": 0.4,
            "size": 16.495170127809022
           },
           "mode": "markers",
           "x": [
            0.375
           ],
           "xaxis": "x6",
           "y": [
            0.5
           ],
           "yaxis": "y6",
           "type": "scatter"
          },
          {
           "hovertemplate": "education: nan",
           "marker": {
            "color": "grey",
            "opacity": 0.2,
            "size": 7.0
           },
           "mode": "markers",
           "x": [
            0.625
           ],
           "xaxis": "x6",
           "y": [
            0.5
           ],
           "yaxis": "y6",
           "type": "scatter"
          },
          {
           "hovertemplate": "mfootprint: 0.39",
           "marker": {
            "color": "green",
            "opacity": 0.4,
            "size": 9.191054855035404
           },
           "mode": "markers",
           "x": [
            0.875
           ],
           "xaxis": "x6",
           "y": [
            0.5
           ],
           "yaxis": "y6",
           "type": "scatter"
          },
          {
           "hovertemplate": "gini: -0.73",
           "marker": {
            "color": "green",
            "opacity": 0.4,
            "size": 17.012799369608892
           },
           "mode": "markers",
           "x": [
            0.5
           ],
           "xaxis": "x2",
           "y": [
            0.2
           ],
           "yaxis": "y2",
           "type": "scatter"
          },
          {
           "hovertemplate": "voice: 1.06",
           "marker": {
            "color": "red",
            "opacity": 0.4,
            "size": 24.775052649173524
           },
           "mode": "markers",
           "x": [
            0.5
           ],
           "xaxis": "x2",
           "y": [
            0.5
           ],
           "yaxis": "y2",
           "type": "scatter"
          },
          {
           "hovertemplate": "femaleminister: nan",
           "marker": {
            "color": "grey",
            "opacity": 0.2,
            "size": 7.0
           },
           "mode": "markers",
           "x": [
            0.5
           ],
           "xaxis": "x2",
           "y": [
            0.8
           ],
           "yaxis": "y2",
           "type": "scatter"
          }
         ],
         "layout": {
          "annotations": [
           {
            "font": {
             "size": 18
            },
            "showarrow": false,
            "text": "Year: 2004",
            "x": 0,
            "xref": "paper",
            "y": 0.95,
            "yref": "paper"
           },
           {
            "font": {
             "size": 18
            },
            "showarrow": false,
            "text": "Country: Kazakhstan",
            "x": 0,
            "xref": "paper",
            "y": 0.85,
            "yref": "paper"
           }
          ]
         },
         "name": "2004"
        },
        {
         "data": [
          {
           "hovertemplate": "unemployed: 0.22",
           "marker": {
            "color": "red",
            "opacity": 0.4,
            "size": 5.219775304240403
           },
           "mode": "markers",
           "x": [
            0.125
           ],
           "xaxis": "x",
           "y": [
            0.5
           ],
           "yaxis": "y",
           "type": "scatter"
          },
          {
           "hovertemplate": "wealth: -0.47",
           "marker": {
            "color": "red",
            "opacity": 0.4,
            "size": 10.974321762402932
           },
           "mode": "markers",
           "x": [
            0.375
           ],
           "xaxis": "x",
           "y": [
            0.5
           ],
           "yaxis": "y",
           "type": "scatter"
          },
          {
           "hovertemplate": "energy: 0.36",
           "marker": {
            "color": "green",
            "opacity": 0.4,
            "size": 8.397123294424047
           },
           "mode": "markers",
           "x": [
            0.625
           ],
           "xaxis": "x",
           "y": [
            0.5
           ],
           "yaxis": "y",
           "type": "scatter"
          },
          {
           "hovertemplate": "placeholder: 0.1",
           "marker": {
            "color": "green",
            "opacity": 0.4,
            "size": 2.3333333333333335
           },
           "mode": "markers",
           "x": [
            0.875
           ],
           "xaxis": "x",
           "y": [
            0.5
           ],
           "yaxis": "y",
           "type": "scatter"
          },
          {
           "hovertemplate": "govconsum: -0.71",
           "marker": {
            "color": "red",
            "opacity": 0.4,
            "size": 16.53935861747879
           },
           "mode": "markers",
           "x": [
            0.125
           ],
           "xaxis": "x3",
           "y": [
            0.5
           ],
           "yaxis": "y3",
           "type": "scatter"
          },
          {
           "hovertemplate": "marketcap: -0.38",
           "marker": {
            "color": "red",
            "opacity": 0.4,
            "size": 8.766525184812933
           },
           "mode": "markers",
           "x": [
            0.375
           ],
           "xaxis": "x3",
           "y": [
            0.5
           ],
           "yaxis": "y3",
           "type": "scatter"
          },
          {
           "hovertemplate": "houseconsum: -0.78",
           "marker": {
            "color": "red",
            "opacity": 0.4,
            "size": 18.086819493038348
           },
           "mode": "markers",
           "x": [
            0.625
           ],
           "xaxis": "x3",
           "y": [
            0.5
           ],
           "yaxis": "y3",
           "type": "scatter"
          },
          {
           "hovertemplate": "placeholder: 0.1",
           "marker": {
            "color": "green",
            "opacity": 0.4,
            "size": 2.3333333333333335
           },
           "mode": "markers",
           "x": [
            0.875
           ],
           "xaxis": "x3",
           "y": [
            0.5
           ],
           "yaxis": "y3",
           "type": "scatter"
          },
          {
           "hovertemplate": "agriculture: 0.18",
           "marker": {
            "color": "green",
            "opacity": 0.4,
            "size": 4.0912917467529555
           },
           "mode": "markers",
           "x": [
            0.25
           ],
           "xaxis": "x4",
           "y": [
            0.5
           ],
           "yaxis": "y4",
           "type": "scatter"
          },
          {
           "hovertemplate": "industry: 1.03",
           "marker": {
            "color": "green",
            "opacity": 0.4,
            "size": 24.111783946417265
           },
           "mode": "markers",
           "x": [
            0.5
           ],
           "xaxis": "x4",
           "y": [
            0.5
           ],
           "yaxis": "y4",
           "type": "scatter"
          },
          {
           "hovertemplate": "services: -0.24",
           "marker": {
            "color": "red",
            "opacity": 0.4,
            "size": 5.682584982605927
           },
           "mode": "markers",
           "x": [
            0.75
           ],
           "xaxis": "x4",
           "y": [
            0.5
           ],
           "yaxis": "y4",
           "type": "scatter"
          },
          {
           "hovertemplate": "eci: -0.32",
           "marker": {
            "color": "red",
            "opacity": 0.4,
            "size": 7.529708887047562
           },
           "mode": "markers",
           "x": [
            0.125
           ],
           "xaxis": "x5",
           "y": [
            0.5
           ],
           "yaxis": "y5",
           "type": "scatter"
          },
          {
           "hovertemplate": "exports: 0.62",
           "marker": {
            "color": "green",
            "opacity": 0.4,
            "size": 14.504268559599566
           },
           "mode": "markers",
           "x": [
            0.375
           ],
           "xaxis": "x5",
           "y": [
            0.5
           ],
           "yaxis": "y5",
           "type": "scatter"
          },
          {
           "hovertemplate": "resourcerents: 1.46",
           "marker": {
            "color": "green",
            "opacity": 0.4,
            "size": 34.15002252826744
           },
           "mode": "markers",
           "x": [
            0.625
           ],
           "xaxis": "x5",
           "y": [
            0.5
           ],
           "yaxis": "y5",
           "type": "scatter"
          },
          {
           "hovertemplate": "concentration: -0.57",
           "marker": {
            "color": "red",
            "opacity": 0.4,
            "size": 13.298414309584963
           },
           "mode": "markers",
           "x": [
            0.875
           ],
           "xaxis": "x5",
           "y": [
            0.5
           ],
           "yaxis": "y5",
           "type": "scatter"
          },
          {
           "hovertemplate": "grosscapital: 0.87",
           "marker": {
            "color": "green",
            "opacity": 0.4,
            "size": 20.400348454517136
           },
           "mode": "markers",
           "x": [
            0.125
           ],
           "xaxis": "x6",
           "y": [
            0.5
           ],
           "yaxis": "y6",
           "type": "scatter"
          },
          {
           "hovertemplate": "lifeexpectancy: -0.73",
           "marker": {
            "color": "red",
            "opacity": 0.4,
            "size": 17.06957227345577
           },
           "mode": "markers",
           "x": [
            0.375
           ],
           "xaxis": "x6",
           "y": [
            0.5
           ],
           "yaxis": "y6",
           "type": "scatter"
          },
          {
           "hovertemplate": "education: nan",
           "marker": {
            "color": "grey",
            "opacity": 0.2,
            "size": 7.0
           },
           "mode": "markers",
           "x": [
            0.625
           ],
           "xaxis": "x6",
           "y": [
            0.5
           ],
           "yaxis": "y6",
           "type": "scatter"
          },
          {
           "hovertemplate": "mfootprint: 0.94",
           "marker": {
            "color": "green",
            "opacity": 0.4,
            "size": 22.043035052706344
           },
           "mode": "markers",
           "x": [
            0.875
           ],
           "xaxis": "x6",
           "y": [
            0.5
           ],
           "yaxis": "y6",
           "type": "scatter"
          },
          {
           "hovertemplate": "gini: -0.07",
           "marker": {
            "color": "green",
            "opacity": 0.4,
            "size": 1.5466181245098949
           },
           "mode": "markers",
           "x": [
            0.5
           ],
           "xaxis": "x2",
           "y": [
            0.2
           ],
           "yaxis": "y2",
           "type": "scatter"
          },
          {
           "hovertemplate": "voice: 1.01",
           "marker": {
            "color": "red",
            "opacity": 0.4,
            "size": 23.536511742338874
           },
           "mode": "markers",
           "x": [
            0.5
           ],
           "xaxis": "x2",
           "y": [
            0.5
           ],
           "yaxis": "y2",
           "type": "scatter"
          },
          {
           "hovertemplate": "femaleminister: 0.1",
           "marker": {
            "color": "green",
            "opacity": 0.4,
            "size": 2.2911464644485
           },
           "mode": "markers",
           "x": [
            0.5
           ],
           "xaxis": "x2",
           "y": [
            0.8
           ],
           "yaxis": "y2",
           "type": "scatter"
          }
         ],
         "layout": {
          "annotations": [
           {
            "font": {
             "size": 18
            },
            "showarrow": false,
            "text": "Year: 2005",
            "x": 0,
            "xref": "paper",
            "y": 0.95,
            "yref": "paper"
           },
           {
            "font": {
             "size": 18
            },
            "showarrow": false,
            "text": "Country: Kazakhstan",
            "x": 0,
            "xref": "paper",
            "y": 0.85,
            "yref": "paper"
           }
          ]
         },
         "name": "2005"
        },
        {
         "data": [
          {
           "hovertemplate": "unemployed: 0.18",
           "marker": {
            "color": "red",
            "opacity": 0.4,
            "size": 4.100276040491133
           },
           "mode": "markers",
           "x": [
            0.125
           ],
           "xaxis": "x",
           "y": [
            0.5
           ],
           "yaxis": "y",
           "type": "scatter"
          },
          {
           "hovertemplate": "wealth: -0.44",
           "marker": {
            "color": "red",
            "opacity": 0.4,
            "size": 10.344896589255528
           },
           "mode": "markers",
           "x": [
            0.375
           ],
           "xaxis": "x",
           "y": [
            0.5
           ],
           "yaxis": "y",
           "type": "scatter"
          },
          {
           "hovertemplate": "energy: 0.45",
           "marker": {
            "color": "green",
            "opacity": 0.4,
            "size": 10.530829664846141
           },
           "mode": "markers",
           "x": [
            0.625
           ],
           "xaxis": "x",
           "y": [
            0.5
           ],
           "yaxis": "y",
           "type": "scatter"
          },
          {
           "hovertemplate": "placeholder: 0.1",
           "marker": {
            "color": "green",
            "opacity": 0.4,
            "size": 2.3333333333333335
           },
           "mode": "markers",
           "x": [
            0.875
           ],
           "xaxis": "x",
           "y": [
            0.5
           ],
           "yaxis": "y",
           "type": "scatter"
          },
          {
           "hovertemplate": "govconsum: -0.83",
           "marker": {
            "color": "red",
            "opacity": 0.4,
            "size": 19.3873147180438
           },
           "mode": "markers",
           "x": [
            0.125
           ],
           "xaxis": "x3",
           "y": [
            0.5
           ],
           "yaxis": "y3",
           "type": "scatter"
          },
          {
           "hovertemplate": "marketcap: -0.11",
           "marker": {
            "color": "red",
            "opacity": 0.4,
            "size": 2.5027571441441676
           },
           "mode": "markers",
           "x": [
            0.375
           ],
           "xaxis": "x3",
           "y": [
            0.5
           ],
           "yaxis": "y3",
           "type": "scatter"
          },
          {
           "hovertemplate": "houseconsum: -1.0",
           "marker": {
            "color": "red",
            "opacity": 0.4,
            "size": 23.43450497689744
           },
           "mode": "markers",
           "x": [
            0.625
           ],
           "xaxis": "x3",
           "y": [
            0.5
           ],
           "yaxis": "y3",
           "type": "scatter"
          },
          {
           "hovertemplate": "placeholder: 0.1",
           "marker": {
            "color": "green",
            "opacity": 0.4,
            "size": 2.3333333333333335
           },
           "mode": "markers",
           "x": [
            0.875
           ],
           "xaxis": "x3",
           "y": [
            0.5
           ],
           "yaxis": "y3",
           "type": "scatter"
          },
          {
           "hovertemplate": "agriculture: 0.07",
           "marker": {
            "color": "green",
            "opacity": 0.4,
            "size": 1.6548892470161276
           },
           "mode": "markers",
           "x": [
            0.25
           ],
           "xaxis": "x4",
           "y": [
            0.5
           ],
           "yaxis": "y4",
           "type": "scatter"
          },
          {
           "hovertemplate": "industry: 1.13",
           "marker": {
            "color": "green",
            "opacity": 0.4,
            "size": 26.265416019822336
           },
           "mode": "markers",
           "x": [
            0.5
           ],
           "xaxis": "x4",
           "y": [
            0.5
           ],
           "yaxis": "y4",
           "type": "scatter"
          },
          {
           "hovertemplate": "services: -0.28",
           "marker": {
            "color": "red",
            "opacity": 0.4,
            "size": 6.426717270498487
           },
           "mode": "markers",
           "x": [
            0.75
           ],
           "xaxis": "x4",
           "y": [
            0.5
           ],
           "yaxis": "y4",
           "type": "scatter"
          },
          {
           "hovertemplate": "eci: -0.23",
           "marker": {
            "color": "red",
            "opacity": 0.4,
            "size": 5.480529288113964
           },
           "mode": "markers",
           "x": [
            0.125
           ],
           "xaxis": "x5",
           "y": [
            0.5
           ],
           "yaxis": "y5",
           "type": "scatter"
          },
          {
           "hovertemplate": "exports: 0.56",
           "marker": {
            "color": "green",
            "opacity": 0.4,
            "size": 13.037498701664152
           },
           "mode": "markers",
           "x": [
            0.375
           ],
           "xaxis": "x5",
           "y": [
            0.5
           ],
           "yaxis": "y5",
           "type": "scatter"
          },
          {
           "hovertemplate": "resourcerents: 1.44",
           "marker": {
            "color": "green",
            "opacity": 0.4,
            "size": 33.58726413334318
           },
           "mode": "markers",
           "x": [
            0.625
           ],
           "xaxis": "x5",
           "y": [
            0.5
           ],
           "yaxis": "y5",
           "type": "scatter"
          },
          {
           "hovertemplate": "concentration: -0.62",
           "marker": {
            "color": "red",
            "opacity": 0.4,
            "size": 14.452787263547552
           },
           "mode": "markers",
           "x": [
            0.875
           ],
           "xaxis": "x5",
           "y": [
            0.5
           ],
           "yaxis": "y5",
           "type": "scatter"
          },
          {
           "hovertemplate": "grosscapital: 1.12",
           "marker": {
            "color": "green",
            "opacity": 0.4,
            "size": 26.237846232954592
           },
           "mode": "markers",
           "x": [
            0.125
           ],
           "xaxis": "x6",
           "y": [
            0.5
           ],
           "yaxis": "y6",
           "type": "scatter"
          },
          {
           "hovertemplate": "lifeexpectancy: -0.7",
           "marker": {
            "color": "red",
            "opacity": 0.4,
            "size": 16.23668916226798
           },
           "mode": "markers",
           "x": [
            0.375
           ],
           "xaxis": "x6",
           "y": [
            0.5
           ],
           "yaxis": "y6",
           "type": "scatter"
          },
          {
           "hovertemplate": "education: 0.48",
           "marker": {
            "color": "green",
            "opacity": 0.4,
            "size": 11.129650368400974
           },
           "mode": "markers",
           "x": [
            0.625
           ],
           "xaxis": "x6",
           "y": [
            0.5
           ],
           "yaxis": "y6",
           "type": "scatter"
          },
          {
           "hovertemplate": "mfootprint: 1.26",
           "marker": {
            "color": "green",
            "opacity": 0.4,
            "size": 29.399810810748967
           },
           "mode": "markers",
           "x": [
            0.875
           ],
           "xaxis": "x6",
           "y": [
            0.5
           ],
           "yaxis": "y6",
           "type": "scatter"
          },
          {
           "hovertemplate": "gini: -0.86",
           "marker": {
            "color": "green",
            "opacity": 0.4,
            "size": 20.106035618628695
           },
           "mode": "markers",
           "x": [
            0.5
           ],
           "xaxis": "x2",
           "y": [
            0.2
           ],
           "yaxis": "y2",
           "type": "scatter"
          },
          {
           "hovertemplate": "voice: 1.09",
           "marker": {
            "color": "red",
            "opacity": 0.4,
            "size": 25.53634798073679
           },
           "mode": "markers",
           "x": [
            0.5
           ],
           "xaxis": "x2",
           "y": [
            0.5
           ],
           "yaxis": "y2",
           "type": "scatter"
          },
          {
           "hovertemplate": "femaleminister: nan",
           "marker": {
            "color": "grey",
            "opacity": 0.2,
            "size": 7.0
           },
           "mode": "markers",
           "x": [
            0.5
           ],
           "xaxis": "x2",
           "y": [
            0.8
           ],
           "yaxis": "y2",
           "type": "scatter"
          }
         ],
         "layout": {
          "annotations": [
           {
            "font": {
             "size": 18
            },
            "showarrow": false,
            "text": "Year: 2006",
            "x": 0,
            "xref": "paper",
            "y": 0.95,
            "yref": "paper"
           },
           {
            "font": {
             "size": 18
            },
            "showarrow": false,
            "text": "Country: Kazakhstan",
            "x": 0,
            "xref": "paper",
            "y": 0.85,
            "yref": "paper"
           }
          ]
         },
         "name": "2006"
        },
        {
         "data": [
          {
           "hovertemplate": "unemployed: 0.1",
           "marker": {
            "color": "red",
            "opacity": 0.4,
            "size": 2.25381174270238
           },
           "mode": "markers",
           "x": [
            0.125
           ],
           "xaxis": "x",
           "y": [
            0.5
           ],
           "yaxis": "y",
           "type": "scatter"
          },
          {
           "hovertemplate": "wealth: -0.42",
           "marker": {
            "color": "red",
            "opacity": 0.4,
            "size": 9.686031212620485
           },
           "mode": "markers",
           "x": [
            0.375
           ],
           "xaxis": "x",
           "y": [
            0.5
           ],
           "yaxis": "y",
           "type": "scatter"
          },
          {
           "hovertemplate": "energy: 0.48",
           "marker": {
            "color": "green",
            "opacity": 0.4,
            "size": 11.164706660044473
           },
           "mode": "markers",
           "x": [
            0.625
           ],
           "xaxis": "x",
           "y": [
            0.5
           ],
           "yaxis": "y",
           "type": "scatter"
          },
          {
           "hovertemplate": "placeholder: 0.1",
           "marker": {
            "color": "green",
            "opacity": 0.4,
            "size": 2.3333333333333335
           },
           "mode": "markers",
           "x": [
            0.875
           ],
           "xaxis": "x",
           "y": [
            0.5
           ],
           "yaxis": "y",
           "type": "scatter"
          },
          {
           "hovertemplate": "govconsum: -0.73",
           "marker": {
            "color": "red",
            "opacity": 0.4,
            "size": 17.058462304057585
           },
           "mode": "markers",
           "x": [
            0.125
           ],
           "xaxis": "x3",
           "y": [
            0.5
           ],
           "yaxis": "y3",
           "type": "scatter"
          },
          {
           "hovertemplate": "marketcap: -0.22",
           "marker": {
            "color": "red",
            "opacity": 0.4,
            "size": 5.055756993016562
           },
           "mode": "markers",
           "x": [
            0.375
           ],
           "xaxis": "x3",
           "y": [
            0.5
           ],
           "yaxis": "y3",
           "type": "scatter"
          },
          {
           "hovertemplate": "houseconsum: -1.04",
           "marker": {
            "color": "red",
            "opacity": 0.4,
            "size": 24.236633317066584
           },
           "mode": "markers",
           "x": [
            0.625
           ],
           "xaxis": "x3",
           "y": [
            0.5
           ],
           "yaxis": "y3",
           "type": "scatter"
          },
          {
           "hovertemplate": "placeholder: 0.1",
           "marker": {
            "color": "green",
            "opacity": 0.4,
            "size": 2.3333333333333335
           },
           "mode": "markers",
           "x": [
            0.875
           ],
           "xaxis": "x3",
           "y": [
            0.5
           ],
           "yaxis": "y3",
           "type": "scatter"
          },
          {
           "hovertemplate": "agriculture: 0.09",
           "marker": {
            "color": "green",
            "opacity": 0.4,
            "size": 2.141807634419538
           },
           "mode": "markers",
           "x": [
            0.25
           ],
           "xaxis": "x4",
           "y": [
            0.5
           ],
           "yaxis": "y4",
           "type": "scatter"
          },
          {
           "hovertemplate": "industry: 1.04",
           "marker": {
            "color": "green",
            "opacity": 0.4,
            "size": 24.242714708237944
           },
           "mode": "markers",
           "x": [
            0.5
           ],
           "xaxis": "x4",
           "y": [
            0.5
           ],
           "yaxis": "y4",
           "type": "scatter"
          },
          {
           "hovertemplate": "services: -0.07",
           "marker": {
            "color": "red",
            "opacity": 0.4,
            "size": 1.6428937106845722
           },
           "mode": "markers",
           "x": [
            0.75
           ],
           "xaxis": "x4",
           "y": [
            0.5
           ],
           "yaxis": "y4",
           "type": "scatter"
          },
          {
           "hovertemplate": "eci: -0.43",
           "marker": {
            "color": "red",
            "opacity": 0.4,
            "size": 10.04231867190735
           },
           "mode": "markers",
           "x": [
            0.125
           ],
           "xaxis": "x5",
           "y": [
            0.5
           ],
           "yaxis": "y5",
           "type": "scatter"
          },
          {
           "hovertemplate": "exports: 0.51",
           "marker": {
            "color": "green",
            "opacity": 0.4,
            "size": 11.896160615929556
           },
           "mode": "markers",
           "x": [
            0.375
           ],
           "xaxis": "x5",
           "y": [
            0.5
           ],
           "yaxis": "y5",
           "type": "scatter"
          },
          {
           "hovertemplate": "resourcerents: 1.4",
           "marker": {
            "color": "green",
            "opacity": 0.4,
            "size": 32.660032773601024
           },
           "mode": "markers",
           "x": [
            0.625
           ],
           "xaxis": "x5",
           "y": [
            0.5
           ],
           "yaxis": "y5",
           "type": "scatter"
          },
          {
           "hovertemplate": "concentration: -0.58",
           "marker": {
            "color": "red",
            "opacity": 0.4,
            "size": 13.608319340174424
           },
           "mode": "markers",
           "x": [
            0.875
           ],
           "xaxis": "x5",
           "y": [
            0.5
           ],
           "yaxis": "y5",
           "type": "scatter"
          },
          {
           "hovertemplate": "grosscapital: 1.25",
           "marker": {
            "color": "green",
            "opacity": 0.4,
            "size": 29.261995806499225
           },
           "mode": "markers",
           "x": [
            0.125
           ],
           "xaxis": "x6",
           "y": [
            0.5
           ],
           "yaxis": "y6",
           "type": "scatter"
          },
          {
           "hovertemplate": "lifeexpectancy: -0.67",
           "marker": {
            "color": "red",
            "opacity": 0.4,
            "size": 15.691007123903587
           },
           "mode": "markers",
           "x": [
            0.375
           ],
           "xaxis": "x6",
           "y": [
            0.5
           ],
           "yaxis": "y6",
           "type": "scatter"
          },
          {
           "hovertemplate": "education: nan",
           "marker": {
            "color": "grey",
            "opacity": 0.2,
            "size": 7.0
           },
           "mode": "markers",
           "x": [
            0.625
           ],
           "xaxis": "x6",
           "y": [
            0.5
           ],
           "yaxis": "y6",
           "type": "scatter"
          },
          {
           "hovertemplate": "mfootprint: 1.54",
           "marker": {
            "color": "green",
            "opacity": 0.4,
            "size": 35.88318087935905
           },
           "mode": "markers",
           "x": [
            0.875
           ],
           "xaxis": "x6",
           "y": [
            0.5
           ],
           "yaxis": "y6",
           "type": "scatter"
          },
          {
           "hovertemplate": "gini: -0.87",
           "marker": {
            "color": "green",
            "opacity": 0.4,
            "size": 20.29936288419243
           },
           "mode": "markers",
           "x": [
            0.5
           ],
           "xaxis": "x2",
           "y": [
            0.2
           ],
           "yaxis": "y2",
           "type": "scatter"
          },
          {
           "hovertemplate": "voice: 1.08",
           "marker": {
            "color": "red",
            "opacity": 0.4,
            "size": 25.213651091922536
           },
           "mode": "markers",
           "x": [
            0.5
           ],
           "xaxis": "x2",
           "y": [
            0.5
           ],
           "yaxis": "y2",
           "type": "scatter"
          },
          {
           "hovertemplate": "femaleminister: nan",
           "marker": {
            "color": "grey",
            "opacity": 0.2,
            "size": 7.0
           },
           "mode": "markers",
           "x": [
            0.5
           ],
           "xaxis": "x2",
           "y": [
            0.8
           ],
           "yaxis": "y2",
           "type": "scatter"
          }
         ],
         "layout": {
          "annotations": [
           {
            "font": {
             "size": 18
            },
            "showarrow": false,
            "text": "Year: 2007",
            "x": 0,
            "xref": "paper",
            "y": 0.95,
            "yref": "paper"
           },
           {
            "font": {
             "size": 18
            },
            "showarrow": false,
            "text": "Country: Kazakhstan",
            "x": 0,
            "xref": "paper",
            "y": 0.85,
            "yref": "paper"
           }
          ]
         },
         "name": "2007"
        },
        {
         "data": [
          {
           "hovertemplate": "unemployed: -0.01",
           "marker": {
            "color": "green",
            "opacity": 0.4,
            "size": 0.12499026513900816
           },
           "mode": "markers",
           "x": [
            0.125
           ],
           "xaxis": "x",
           "y": [
            0.5
           ],
           "yaxis": "y",
           "type": "scatter"
          },
          {
           "hovertemplate": "wealth: -0.41",
           "marker": {
            "color": "red",
            "opacity": 0.4,
            "size": 9.45259509585764
           },
           "mode": "markers",
           "x": [
            0.375
           ],
           "xaxis": "x",
           "y": [
            0.5
           ],
           "yaxis": "y",
           "type": "scatter"
          },
          {
           "hovertemplate": "energy: 0.49",
           "marker": {
            "color": "green",
            "opacity": 0.4,
            "size": 11.48689482268327
           },
           "mode": "markers",
           "x": [
            0.625
           ],
           "xaxis": "x",
           "y": [
            0.5
           ],
           "yaxis": "y",
           "type": "scatter"
          },
          {
           "hovertemplate": "placeholder: 0.1",
           "marker": {
            "color": "green",
            "opacity": 0.4,
            "size": 2.3333333333333335
           },
           "mode": "markers",
           "x": [
            0.875
           ],
           "xaxis": "x",
           "y": [
            0.5
           ],
           "yaxis": "y",
           "type": "scatter"
          },
          {
           "hovertemplate": "govconsum: -0.83",
           "marker": {
            "color": "red",
            "opacity": 0.4,
            "size": 19.366959058067067
           },
           "mode": "markers",
           "x": [
            0.125
           ],
           "xaxis": "x3",
           "y": [
            0.5
           ],
           "yaxis": "y3",
           "type": "scatter"
          },
          {
           "hovertemplate": "marketcap: -0.38",
           "marker": {
            "color": "red",
            "opacity": 0.4,
            "size": 8.9414851856104
           },
           "mode": "markers",
           "x": [
            0.375
           ],
           "xaxis": "x3",
           "y": [
            0.5
           ],
           "yaxis": "y3",
           "type": "scatter"
          },
          {
           "hovertemplate": "houseconsum: -1.08",
           "marker": {
            "color": "red",
            "opacity": 0.4,
            "size": 25.12841077605723
           },
           "mode": "markers",
           "x": [
            0.625
           ],
           "xaxis": "x3",
           "y": [
            0.5
           ],
           "yaxis": "y3",
           "type": "scatter"
          },
          {
           "hovertemplate": "placeholder: 0.1",
           "marker": {
            "color": "green",
            "opacity": 0.4,
            "size": 2.3333333333333335
           },
           "mode": "markers",
           "x": [
            0.875
           ],
           "xaxis": "x3",
           "y": [
            0.5
           ],
           "yaxis": "y3",
           "type": "scatter"
          },
          {
           "hovertemplate": "agriculture: 0.05",
           "marker": {
            "color": "green",
            "opacity": 0.4,
            "size": 1.1048621267699081
           },
           "mode": "markers",
           "x": [
            0.25
           ],
           "xaxis": "x4",
           "y": [
            0.5
           ],
           "yaxis": "y4",
           "type": "scatter"
          },
          {
           "hovertemplate": "industry: 1.17",
           "marker": {
            "color": "green",
            "opacity": 0.4,
            "size": 27.342258033476327
           },
           "mode": "markers",
           "x": [
            0.5
           ],
           "xaxis": "x4",
           "y": [
            0.5
           ],
           "yaxis": "y4",
           "type": "scatter"
          },
          {
           "hovertemplate": "services: -0.24",
           "marker": {
            "color": "red",
            "opacity": 0.4,
            "size": 5.527715051141882
           },
           "mode": "markers",
           "x": [
            0.75
           ],
           "xaxis": "x4",
           "y": [
            0.5
           ],
           "yaxis": "y4",
           "type": "scatter"
          },
          {
           "hovertemplate": "eci: -0.65",
           "marker": {
            "color": "red",
            "opacity": 0.4,
            "size": 15.101828411905732
           },
           "mode": "markers",
           "x": [
            0.125
           ],
           "xaxis": "x5",
           "y": [
            0.5
           ],
           "yaxis": "y5",
           "type": "scatter"
          },
          {
           "hovertemplate": "exports: 0.73",
           "marker": {
            "color": "green",
            "opacity": 0.4,
            "size": 16.97109247716027
           },
           "mode": "markers",
           "x": [
            0.375
           ],
           "xaxis": "x5",
           "y": [
            0.5
           ],
           "yaxis": "y5",
           "type": "scatter"
          },
          {
           "hovertemplate": "resourcerents: 1.51",
           "marker": {
            "color": "green",
            "opacity": 0.4,
            "size": 35.19149274388833
           },
           "mode": "markers",
           "x": [
            0.625
           ],
           "xaxis": "x5",
           "y": [
            0.5
           ],
           "yaxis": "y5",
           "type": "scatter"
          },
          {
           "hovertemplate": "concentration: -0.65",
           "marker": {
            "color": "red",
            "opacity": 0.4,
            "size": 15.168341575141865
           },
           "mode": "markers",
           "x": [
            0.875
           ],
           "xaxis": "x5",
           "y": [
            0.5
           ],
           "yaxis": "y5",
           "type": "scatter"
          },
          {
           "hovertemplate": "grosscapital: 0.55",
           "marker": {
            "color": "green",
            "opacity": 0.4,
            "size": 12.744798236022696
           },
           "mode": "markers",
           "x": [
            0.125
           ],
           "xaxis": "x6",
           "y": [
            0.5
           ],
           "yaxis": "y6",
           "type": "scatter"
          },
          {
           "hovertemplate": "lifeexpectancy: -0.58",
           "marker": {
            "color": "red",
            "opacity": 0.4,
            "size": 13.479558863163662
           },
           "mode": "markers",
           "x": [
            0.375
           ],
           "xaxis": "x6",
           "y": [
            0.5
           ],
           "yaxis": "y6",
           "type": "scatter"
          },
          {
           "hovertemplate": "education: nan",
           "marker": {
            "color": "grey",
            "opacity": 0.2,
            "size": 7.0
           },
           "mode": "markers",
           "x": [
            0.625
           ],
           "xaxis": "x6",
           "y": [
            0.5
           ],
           "yaxis": "y6",
           "type": "scatter"
          },
          {
           "hovertemplate": "mfootprint: 1.04",
           "marker": {
            "color": "green",
            "opacity": 0.4,
            "size": 24.172649332888664
           },
           "mode": "markers",
           "x": [
            0.875
           ],
           "xaxis": "x6",
           "y": [
            0.5
           ],
           "yaxis": "y6",
           "type": "scatter"
          },
          {
           "hovertemplate": "gini: -1.0",
           "marker": {
            "color": "green",
            "opacity": 0.4,
            "size": 23.392599133212236
           },
           "mode": "markers",
           "x": [
            0.5
           ],
           "xaxis": "x2",
           "y": [
            0.2
           ],
           "yaxis": "y2",
           "type": "scatter"
          },
          {
           "hovertemplate": "voice: 1.04",
           "marker": {
            "color": "red",
            "opacity": 0.4,
            "size": 24.315976071996264
           },
           "mode": "markers",
           "x": [
            0.5
           ],
           "xaxis": "x2",
           "y": [
            0.5
           ],
           "yaxis": "y2",
           "type": "scatter"
          },
          {
           "hovertemplate": "femaleminister: -1.56",
           "marker": {
            "color": "red",
            "opacity": 0.4,
            "size": 36.40338032342177
           },
           "mode": "markers",
           "x": [
            0.5
           ],
           "xaxis": "x2",
           "y": [
            0.8
           ],
           "yaxis": "y2",
           "type": "scatter"
          }
         ],
         "layout": {
          "annotations": [
           {
            "font": {
             "size": 18
            },
            "showarrow": false,
            "text": "Year: 2008",
            "x": 0,
            "xref": "paper",
            "y": 0.95,
            "yref": "paper"
           },
           {
            "font": {
             "size": 18
            },
            "showarrow": false,
            "text": "Country: Kazakhstan",
            "x": 0,
            "xref": "paper",
            "y": 0.85,
            "yref": "paper"
           }
          ]
         },
         "name": "2008"
        },
        {
         "data": [
          {
           "hovertemplate": "unemployed: -0.02",
           "marker": {
            "color": "green",
            "opacity": 0.4,
            "size": 0.4431182151402323
           },
           "mode": "markers",
           "x": [
            0.125
           ],
           "xaxis": "x",
           "y": [
            0.5
           ],
           "yaxis": "y",
           "type": "scatter"
          },
          {
           "hovertemplate": "wealth: -0.38",
           "marker": {
            "color": "red",
            "opacity": 0.4,
            "size": 8.929130350510587
           },
           "mode": "markers",
           "x": [
            0.375
           ],
           "xaxis": "x",
           "y": [
            0.5
           ],
           "yaxis": "y",
           "type": "scatter"
          },
          {
           "hovertemplate": "energy: 0.42",
           "marker": {
            "color": "green",
            "opacity": 0.4,
            "size": 9.865365531815549
           },
           "mode": "markers",
           "x": [
            0.625
           ],
           "xaxis": "x",
           "y": [
            0.5
           ],
           "yaxis": "y",
           "type": "scatter"
          },
          {
           "hovertemplate": "placeholder: 0.1",
           "marker": {
            "color": "green",
            "opacity": 0.4,
            "size": 2.3333333333333335
           },
           "mode": "markers",
           "x": [
            0.875
           ],
           "xaxis": "x",
           "y": [
            0.5
           ],
           "yaxis": "y",
           "type": "scatter"
          },
          {
           "hovertemplate": "govconsum: -0.66",
           "marker": {
            "color": "red",
            "opacity": 0.4,
            "size": 15.433971315525199
           },
           "mode": "markers",
           "x": [
            0.125
           ],
           "xaxis": "x3",
           "y": [
            0.5
           ],
           "yaxis": "y3",
           "type": "scatter"
          },
          {
           "hovertemplate": "marketcap: -0.33",
           "marker": {
            "color": "red",
            "opacity": 0.4,
            "size": 7.744971401714234
           },
           "mode": "markers",
           "x": [
            0.375
           ],
           "xaxis": "x3",
           "y": [
            0.5
           ],
           "yaxis": "y3",
           "type": "scatter"
          },
          {
           "hovertemplate": "houseconsum: -0.9",
           "marker": {
            "color": "red",
            "opacity": 0.4,
            "size": 21.10530659258172
           },
           "mode": "markers",
           "x": [
            0.625
           ],
           "xaxis": "x3",
           "y": [
            0.5
           ],
           "yaxis": "y3",
           "type": "scatter"
          },
          {
           "hovertemplate": "placeholder: 0.1",
           "marker": {
            "color": "green",
            "opacity": 0.4,
            "size": 2.3333333333333335
           },
           "mode": "markers",
           "x": [
            0.875
           ],
           "xaxis": "x3",
           "y": [
            0.5
           ],
           "yaxis": "y3",
           "type": "scatter"
          },
          {
           "hovertemplate": "agriculture: 0.15",
           "marker": {
            "color": "green",
            "opacity": 0.4,
            "size": 3.503731873898694
           },
           "mode": "markers",
           "x": [
            0.25
           ],
           "xaxis": "x4",
           "y": [
            0.5
           ],
           "yaxis": "y4",
           "type": "scatter"
          },
          {
           "hovertemplate": "industry: 1.08",
           "marker": {
            "color": "green",
            "opacity": 0.4,
            "size": 25.124940077665823
           },
           "mode": "markers",
           "x": [
            0.5
           ],
           "xaxis": "x4",
           "y": [
            0.5
           ],
           "yaxis": "y4",
           "type": "scatter"
          },
          {
           "hovertemplate": "services: -0.09",
           "marker": {
            "color": "red",
            "opacity": 0.4,
            "size": 2.065066870533718
           },
           "mode": "markers",
           "x": [
            0.75
           ],
           "xaxis": "x4",
           "y": [
            0.5
           ],
           "yaxis": "y4",
           "type": "scatter"
          },
          {
           "hovertemplate": "eci: -0.8",
           "marker": {
            "color": "red",
            "opacity": 0.4,
            "size": 18.689034494555578
           },
           "mode": "markers",
           "x": [
            0.125
           ],
           "xaxis": "x5",
           "y": [
            0.5
           ],
           "yaxis": "y5",
           "type": "scatter"
          },
          {
           "hovertemplate": "exports: 0.27",
           "marker": {
            "color": "green",
            "opacity": 0.4,
            "size": 6.238221500828235
           },
           "mode": "markers",
           "x": [
            0.375
           ],
           "xaxis": "x5",
           "y": [
            0.5
           ],
           "yaxis": "y5",
           "type": "scatter"
          },
          {
           "hovertemplate": "resourcerents: 1.3",
           "marker": {
            "color": "green",
            "opacity": 0.4,
            "size": 30.378927865647718
           },
           "mode": "markers",
           "x": [
            0.625
           ],
           "xaxis": "x5",
           "y": [
            0.5
           ],
           "yaxis": "y5",
           "type": "scatter"
          },
          {
           "hovertemplate": "concentration: -0.61",
           "marker": {
            "color": "red",
            "opacity": 0.4,
            "size": 14.14572986933373
           },
           "mode": "markers",
           "x": [
            0.875
           ],
           "xaxis": "x5",
           "y": [
            0.5
           ],
           "yaxis": "y5",
           "type": "scatter"
          },
          {
           "hovertemplate": "grosscapital: 0.73",
           "marker": {
            "color": "green",
            "opacity": 0.4,
            "size": 17.07437848591952
           },
           "mode": "markers",
           "x": [
            0.125
           ],
           "xaxis": "x6",
           "y": [
            0.5
           ],
           "yaxis": "y6",
           "type": "scatter"
          },
          {
           "hovertemplate": "lifeexpectancy: -0.42",
           "marker": {
            "color": "red",
            "opacity": 0.4,
            "size": 9.803385131024537
           },
           "mode": "markers",
           "x": [
            0.375
           ],
           "xaxis": "x6",
           "y": [
            0.5
           ],
           "yaxis": "y6",
           "type": "scatter"
          },
          {
           "hovertemplate": "education: nan",
           "marker": {
            "color": "grey",
            "opacity": 0.2,
            "size": 7.0
           },
           "mode": "markers",
           "x": [
            0.625
           ],
           "xaxis": "x6",
           "y": [
            0.5
           ],
           "yaxis": "y6",
           "type": "scatter"
          },
          {
           "hovertemplate": "mfootprint: 1.25",
           "marker": {
            "color": "green",
            "opacity": 0.4,
            "size": 29.12853061514316
           },
           "mode": "markers",
           "x": [
            0.875
           ],
           "xaxis": "x6",
           "y": [
            0.5
           ],
           "yaxis": "y6",
           "type": "scatter"
          },
          {
           "hovertemplate": "gini: -1.03",
           "marker": {
            "color": "green",
            "opacity": 0.4,
            "size": 23.97258092990345
           },
           "mode": "markers",
           "x": [
            0.5
           ],
           "xaxis": "x2",
           "y": [
            0.2
           ],
           "yaxis": "y2",
           "type": "scatter"
          },
          {
           "hovertemplate": "voice: 1.03",
           "marker": {
            "color": "red",
            "opacity": 0.4,
            "size": 24.10321267425208
           },
           "mode": "markers",
           "x": [
            0.5
           ],
           "xaxis": "x2",
           "y": [
            0.5
           ],
           "yaxis": "y2",
           "type": "scatter"
          },
          {
           "hovertemplate": "femaleminister: nan",
           "marker": {
            "color": "grey",
            "opacity": 0.2,
            "size": 7.0
           },
           "mode": "markers",
           "x": [
            0.5
           ],
           "xaxis": "x2",
           "y": [
            0.8
           ],
           "yaxis": "y2",
           "type": "scatter"
          }
         ],
         "layout": {
          "annotations": [
           {
            "font": {
             "size": 18
            },
            "showarrow": false,
            "text": "Year: 2009",
            "x": 0,
            "xref": "paper",
            "y": 0.95,
            "yref": "paper"
           },
           {
            "font": {
             "size": 18
            },
            "showarrow": false,
            "text": "Country: Kazakhstan",
            "x": 0,
            "xref": "paper",
            "y": 0.85,
            "yref": "paper"
           }
          ]
         },
         "name": "2009"
        },
        {
         "data": [
          {
           "hovertemplate": "unemployed: -0.16",
           "marker": {
            "color": "green",
            "opacity": 0.4,
            "size": 3.7657873164656763
           },
           "mode": "markers",
           "x": [
            0.125
           ],
           "xaxis": "x",
           "y": [
            0.5
           ],
           "yaxis": "y",
           "type": "scatter"
          },
          {
           "hovertemplate": "wealth: -0.37",
           "marker": {
            "color": "red",
            "opacity": 0.4,
            "size": 8.525741931074315
           },
           "mode": "markers",
           "x": [
            0.375
           ],
           "xaxis": "x",
           "y": [
            0.5
           ],
           "yaxis": "y",
           "type": "scatter"
          },
          {
           "hovertemplate": "energy: 0.45",
           "marker": {
            "color": "green",
            "opacity": 0.4,
            "size": 10.60130086513483
           },
           "mode": "markers",
           "x": [
            0.625
           ],
           "xaxis": "x",
           "y": [
            0.5
           ],
           "yaxis": "y",
           "type": "scatter"
          },
          {
           "hovertemplate": "placeholder: 0.1",
           "marker": {
            "color": "green",
            "opacity": 0.4,
            "size": 2.3333333333333335
           },
           "mode": "markers",
           "x": [
            0.875
           ],
           "xaxis": "x",
           "y": [
            0.5
           ],
           "yaxis": "y",
           "type": "scatter"
          },
          {
           "hovertemplate": "govconsum: -0.76",
           "marker": {
            "color": "red",
            "opacity": 0.4,
            "size": 17.702861550035568
           },
           "mode": "markers",
           "x": [
            0.125
           ],
           "xaxis": "x3",
           "y": [
            0.5
           ],
           "yaxis": "y3",
           "type": "scatter"
          },
          {
           "hovertemplate": "marketcap: -0.38",
           "marker": {
            "color": "red",
            "opacity": 0.4,
            "size": 8.839743351655349
           },
           "mode": "markers",
           "x": [
            0.375
           ],
           "xaxis": "x3",
           "y": [
            0.5
           ],
           "yaxis": "y3",
           "type": "scatter"
          },
          {
           "hovertemplate": "houseconsum: -1.02",
           "marker": {
            "color": "red",
            "opacity": 0.4,
            "size": 23.87574293268872
           },
           "mode": "markers",
           "x": [
            0.625
           ],
           "xaxis": "x3",
           "y": [
            0.5
           ],
           "yaxis": "y3",
           "type": "scatter"
          },
          {
           "hovertemplate": "placeholder: 0.1",
           "marker": {
            "color": "green",
            "opacity": 0.4,
            "size": 2.3333333333333335
           },
           "mode": "markers",
           "x": [
            0.875
           ],
           "xaxis": "x3",
           "y": [
            0.5
           ],
           "yaxis": "y3",
           "type": "scatter"
          },
          {
           "hovertemplate": "agriculture: -0.07",
           "marker": {
            "color": "red",
            "opacity": 0.4,
            "size": 1.6079203842832654
           },
           "mode": "markers",
           "x": [
            0.25
           ],
           "xaxis": "x4",
           "y": [
            0.5
           ],
           "yaxis": "y4",
           "type": "scatter"
          },
          {
           "hovertemplate": "industry: 1.19",
           "marker": {
            "color": "green",
            "opacity": 0.4,
            "size": 27.760008346387686
           },
           "mode": "markers",
           "x": [
            0.5
           ],
           "xaxis": "x4",
           "y": [
            0.5
           ],
           "yaxis": "y4",
           "type": "scatter"
          },
          {
           "hovertemplate": "services: -0.27",
           "marker": {
            "color": "red",
            "opacity": 0.4,
            "size": 6.323177248255853
           },
           "mode": "markers",
           "x": [
            0.75
           ],
           "xaxis": "x4",
           "y": [
            0.5
           ],
           "yaxis": "y4",
           "type": "scatter"
          },
          {
           "hovertemplate": "eci: -0.98",
           "marker": {
            "color": "red",
            "opacity": 0.4,
            "size": 22.842419157977012
           },
           "mode": "markers",
           "x": [
            0.125
           ],
           "xaxis": "x5",
           "y": [
            0.5
           ],
           "yaxis": "y5",
           "type": "scatter"
          },
          {
           "hovertemplate": "exports: 0.35",
           "marker": {
            "color": "green",
            "opacity": 0.4,
            "size": 8.162721267535634
           },
           "mode": "markers",
           "x": [
            0.375
           ],
           "xaxis": "x5",
           "y": [
            0.5
           ],
           "yaxis": "y5",
           "type": "scatter"
          },
          {
           "hovertemplate": "resourcerents: 1.31",
           "marker": {
            "color": "green",
            "opacity": 0.4,
            "size": 30.46029254179395
           },
           "mode": "markers",
           "x": [
            0.625
           ],
           "xaxis": "x5",
           "y": [
            0.5
           ],
           "yaxis": "y5",
           "type": "scatter"
          },
          {
           "hovertemplate": "concentration: -0.47",
           "marker": {
            "color": "red",
            "opacity": 0.4,
            "size": 10.96125188870718
           },
           "mode": "markers",
           "x": [
            0.875
           ],
           "xaxis": "x5",
           "y": [
            0.5
           ],
           "yaxis": "y5",
           "type": "scatter"
          },
          {
           "hovertemplate": "grosscapital: 0.32",
           "marker": {
            "color": "green",
            "opacity": 0.4,
            "size": 7.534279557406639
           },
           "mode": "markers",
           "x": [
            0.125
           ],
           "xaxis": "x6",
           "y": [
            0.5
           ],
           "yaxis": "y6",
           "type": "scatter"
          },
          {
           "hovertemplate": "lifeexpectancy: -0.41",
           "marker": {
            "color": "red",
            "opacity": 0.4,
            "size": 9.63106448733051
           },
           "mode": "markers",
           "x": [
            0.375
           ],
           "xaxis": "x6",
           "y": [
            0.5
           ],
           "yaxis": "y6",
           "type": "scatter"
          },
          {
           "hovertemplate": "education: 0.52",
           "marker": {
            "color": "green",
            "opacity": 0.4,
            "size": 12.136428068978077
           },
           "mode": "markers",
           "x": [
            0.625
           ],
           "xaxis": "x6",
           "y": [
            0.5
           ],
           "yaxis": "y6",
           "type": "scatter"
          },
          {
           "hovertemplate": "mfootprint: 0.96",
           "marker": {
            "color": "green",
            "opacity": 0.4,
            "size": 22.457077260558165
           },
           "mode": "markers",
           "x": [
            0.875
           ],
           "xaxis": "x6",
           "y": [
            0.5
           ],
           "yaxis": "y6",
           "type": "scatter"
          },
          {
           "hovertemplate": "gini: -1.04",
           "marker": {
            "color": "green",
            "opacity": 0.4,
            "size": 24.359235461030924
           },
           "mode": "markers",
           "x": [
            0.5
           ],
           "xaxis": "x2",
           "y": [
            0.2
           ],
           "yaxis": "y2",
           "type": "scatter"
          },
          {
           "hovertemplate": "voice: 1.06",
           "marker": {
            "color": "red",
            "opacity": 0.4,
            "size": 24.821970973226854
           },
           "mode": "markers",
           "x": [
            0.5
           ],
           "xaxis": "x2",
           "y": [
            0.5
           ],
           "yaxis": "y2",
           "type": "scatter"
          },
          {
           "hovertemplate": "femaleminister: -1.72",
           "marker": {
            "color": "red",
            "opacity": 0.4,
            "size": 40.232806698843994
           },
           "mode": "markers",
           "x": [
            0.5
           ],
           "xaxis": "x2",
           "y": [
            0.8
           ],
           "yaxis": "y2",
           "type": "scatter"
          }
         ],
         "layout": {
          "annotations": [
           {
            "font": {
             "size": 18
            },
            "showarrow": false,
            "text": "Year: 2010",
            "x": 0,
            "xref": "paper",
            "y": 0.95,
            "yref": "paper"
           },
           {
            "font": {
             "size": 18
            },
            "showarrow": false,
            "text": "Country: Kazakhstan",
            "x": 0,
            "xref": "paper",
            "y": 0.85,
            "yref": "paper"
           }
          ]
         },
         "name": "2010"
        },
        {
         "data": [
          {
           "hovertemplate": "unemployed: -0.24",
           "marker": {
            "color": "green",
            "opacity": 0.4,
            "size": 5.551079261285883
           },
           "mode": "markers",
           "x": [
            0.125
           ],
           "xaxis": "x",
           "y": [
            0.5
           ],
           "yaxis": "y",
           "type": "scatter"
          },
          {
           "hovertemplate": "wealth: -0.33",
           "marker": {
            "color": "red",
            "opacity": 0.4,
            "size": 7.749530582266024
           },
           "mode": "markers",
           "x": [
            0.375
           ],
           "xaxis": "x",
           "y": [
            0.5
           ],
           "yaxis": "y",
           "type": "scatter"
          },
          {
           "hovertemplate": "energy: 0.5",
           "marker": {
            "color": "green",
            "opacity": 0.4,
            "size": 11.66219066809358
           },
           "mode": "markers",
           "x": [
            0.625
           ],
           "xaxis": "x",
           "y": [
            0.5
           ],
           "yaxis": "y",
           "type": "scatter"
          },
          {
           "hovertemplate": "placeholder: 0.1",
           "marker": {
            "color": "green",
            "opacity": 0.4,
            "size": 2.3333333333333335
           },
           "mode": "markers",
           "x": [
            0.875
           ],
           "xaxis": "x",
           "y": [
            0.5
           ],
           "yaxis": "y",
           "type": "scatter"
          },
          {
           "hovertemplate": "govconsum: -0.8",
           "marker": {
            "color": "red",
            "opacity": 0.4,
            "size": 18.600452195903323
           },
           "mode": "markers",
           "x": [
            0.125
           ],
           "xaxis": "x3",
           "y": [
            0.5
           ],
           "yaxis": "y3",
           "type": "scatter"
          },
          {
           "hovertemplate": "marketcap: -0.43",
           "marker": {
            "color": "red",
            "opacity": 0.4,
            "size": 9.954152656481932
           },
           "mode": "markers",
           "x": [
            0.375
           ],
           "xaxis": "x3",
           "y": [
            0.5
           ],
           "yaxis": "y3",
           "type": "scatter"
          },
          {
           "hovertemplate": "houseconsum: -1.2",
           "marker": {
            "color": "red",
            "opacity": 0.4,
            "size": 28.000050086088144
           },
           "mode": "markers",
           "x": [
            0.625
           ],
           "xaxis": "x3",
           "y": [
            0.5
           ],
           "yaxis": "y3",
           "type": "scatter"
          },
          {
           "hovertemplate": "placeholder: 0.1",
           "marker": {
            "color": "green",
            "opacity": 0.4,
            "size": 2.3333333333333335
           },
           "mode": "markers",
           "x": [
            0.875
           ],
           "xaxis": "x3",
           "y": [
            0.5
           ],
           "yaxis": "y3",
           "type": "scatter"
          },
          {
           "hovertemplate": "agriculture: 0.0",
           "marker": {
            "color": "green",
            "opacity": 0.4,
            "size": 0.05697511502273428
           },
           "mode": "markers",
           "x": [
            0.25
           ],
           "xaxis": "x4",
           "y": [
            0.5
           ],
           "yaxis": "y4",
           "type": "scatter"
          },
          {
           "hovertemplate": "industry: 1.01",
           "marker": {
            "color": "green",
            "opacity": 0.4,
            "size": 23.648306770940867
           },
           "mode": "markers",
           "x": [
            0.5
           ],
           "xaxis": "x4",
           "y": [
            0.5
           ],
           "yaxis": "y4",
           "type": "scatter"
          },
          {
           "hovertemplate": "services: -0.5",
           "marker": {
            "color": "red",
            "opacity": 0.4,
            "size": 11.717604887812623
           },
           "mode": "markers",
           "x": [
            0.75
           ],
           "xaxis": "x4",
           "y": [
            0.5
           ],
           "yaxis": "y4",
           "type": "scatter"
          },
          {
           "hovertemplate": "eci: -1.02",
           "marker": {
            "color": "red",
            "opacity": 0.4,
            "size": 23.798343135692484
           },
           "mode": "markers",
           "x": [
            0.125
           ],
           "xaxis": "x5",
           "y": [
            0.5
           ],
           "yaxis": "y5",
           "type": "scatter"
          },
          {
           "hovertemplate": "exports: 0.42",
           "marker": {
            "color": "green",
            "opacity": 0.4,
            "size": 9.848315483282201
           },
           "mode": "markers",
           "x": [
            0.375
           ],
           "xaxis": "x5",
           "y": [
            0.5
           ],
           "yaxis": "y5",
           "type": "scatter"
          },
          {
           "hovertemplate": "resourcerents: 1.39",
           "marker": {
            "color": "green",
            "opacity": 0.4,
            "size": 32.35187603353777
           },
           "mode": "markers",
           "x": [
            0.625
           ],
           "xaxis": "x5",
           "y": [
            0.5
           ],
           "yaxis": "y5",
           "type": "scatter"
          },
          {
           "hovertemplate": "concentration: -0.48",
           "marker": {
            "color": "red",
            "opacity": 0.4,
            "size": 11.173901888990027
           },
           "mode": "markers",
           "x": [
            0.875
           ],
           "xaxis": "x5",
           "y": [
            0.5
           ],
           "yaxis": "y5",
           "type": "scatter"
          },
          {
           "hovertemplate": "grosscapital: 0.05",
           "marker": {
            "color": "green",
            "opacity": 0.4,
            "size": 1.1889413794832029
           },
           "mode": "markers",
           "x": [
            0.125
           ],
           "xaxis": "x6",
           "y": [
            0.5
           ],
           "yaxis": "y6",
           "type": "scatter"
          },
          {
           "hovertemplate": "lifeexpectancy: -0.38",
           "marker": {
            "color": "red",
            "opacity": 0.4,
            "size": 8.94178191255444
           },
           "mode": "markers",
           "x": [
            0.375
           ],
           "xaxis": "x6",
           "y": [
            0.5
           ],
           "yaxis": "y6",
           "type": "scatter"
          },
          {
           "hovertemplate": "education: 0.53",
           "marker": {
            "color": "green",
            "opacity": 0.4,
            "size": 12.439733629698706
           },
           "mode": "markers",
           "x": [
            0.625
           ],
           "xaxis": "x6",
           "y": [
            0.5
           ],
           "yaxis": "y6",
           "type": "scatter"
          },
          {
           "hovertemplate": "mfootprint: 0.92",
           "marker": {
            "color": "green",
            "opacity": 0.4,
            "size": 21.426665729993392
           },
           "mode": "markers",
           "x": [
            0.875
           ],
           "xaxis": "x6",
           "y": [
            0.5
           ],
           "yaxis": "y6",
           "type": "scatter"
          },
          {
           "hovertemplate": "gini: -1.04",
           "marker": {
            "color": "green",
            "opacity": 0.4,
            "size": 24.359235461030924
           },
           "mode": "markers",
           "x": [
            0.5
           ],
           "xaxis": "x2",
           "y": [
            0.2
           ],
           "yaxis": "y2",
           "type": "scatter"
          },
          {
           "hovertemplate": "voice: 1.06",
           "marker": {
            "color": "red",
            "opacity": 0.4,
            "size": 24.684898013894855
           },
           "mode": "markers",
           "x": [
            0.5
           ],
           "xaxis": "x2",
           "y": [
            0.5
           ],
           "yaxis": "y2",
           "type": "scatter"
          },
          {
           "hovertemplate": "femaleminister: nan",
           "marker": {
            "color": "grey",
            "opacity": 0.2,
            "size": 7.0
           },
           "mode": "markers",
           "x": [
            0.5
           ],
           "xaxis": "x2",
           "y": [
            0.8
           ],
           "yaxis": "y2",
           "type": "scatter"
          }
         ],
         "layout": {
          "annotations": [
           {
            "font": {
             "size": 18
            },
            "showarrow": false,
            "text": "Year: 2011",
            "x": 0,
            "xref": "paper",
            "y": 0.95,
            "yref": "paper"
           },
           {
            "font": {
             "size": 18
            },
            "showarrow": false,
            "text": "Country: Kazakhstan",
            "x": 0,
            "xref": "paper",
            "y": 0.85,
            "yref": "paper"
           }
          ]
         },
         "name": "2011"
        },
        {
         "data": [
          {
           "hovertemplate": "unemployed: -0.26",
           "marker": {
            "color": "green",
            "opacity": 0.4,
            "size": 6.041832705331966
           },
           "mode": "markers",
           "x": [
            0.125
           ],
           "xaxis": "x",
           "y": [
            0.5
           ],
           "yaxis": "y",
           "type": "scatter"
          },
          {
           "hovertemplate": "wealth: -0.31",
           "marker": {
            "color": "red",
            "opacity": 0.4,
            "size": 7.173623389068319
           },
           "mode": "markers",
           "x": [
            0.375
           ],
           "xaxis": "x",
           "y": [
            0.5
           ],
           "yaxis": "y",
           "type": "scatter"
          },
          {
           "hovertemplate": "energy: 0.46",
           "marker": {
            "color": "green",
            "opacity": 0.4,
            "size": 10.724238956005188
           },
           "mode": "markers",
           "x": [
            0.625
           ],
           "xaxis": "x",
           "y": [
            0.5
           ],
           "yaxis": "y",
           "type": "scatter"
          },
          {
           "hovertemplate": "placeholder: 0.1",
           "marker": {
            "color": "green",
            "opacity": 0.4,
            "size": 2.3333333333333335
           },
           "mode": "markers",
           "x": [
            0.875
           ],
           "xaxis": "x",
           "y": [
            0.5
           ],
           "yaxis": "y",
           "type": "scatter"
          },
          {
           "hovertemplate": "govconsum: -0.68",
           "marker": {
            "color": "red",
            "opacity": 0.4,
            "size": 15.810944496830546
           },
           "mode": "markers",
           "x": [
            0.125
           ],
           "xaxis": "x3",
           "y": [
            0.5
           ],
           "yaxis": "y3",
           "type": "scatter"
          },
          {
           "hovertemplate": "marketcap: -0.43",
           "marker": {
            "color": "red",
            "opacity": 0.4,
            "size": 10.021439047687853
           },
           "mode": "markers",
           "x": [
            0.375
           ],
           "xaxis": "x3",
           "y": [
            0.5
           ],
           "yaxis": "y3",
           "type": "scatter"
          },
          {
           "hovertemplate": "houseconsum: -1.05",
           "marker": {
            "color": "red",
            "opacity": 0.4,
            "size": 24.449568831240494
           },
           "mode": "markers",
           "x": [
            0.625
           ],
           "xaxis": "x3",
           "y": [
            0.5
           ],
           "yaxis": "y3",
           "type": "scatter"
          },
          {
           "hovertemplate": "placeholder: 0.1",
           "marker": {
            "color": "green",
            "opacity": 0.4,
            "size": 2.3333333333333335
           },
           "mode": "markers",
           "x": [
            0.875
           ],
           "xaxis": "x3",
           "y": [
            0.5
           ],
           "yaxis": "y3",
           "type": "scatter"
          },
          {
           "hovertemplate": "agriculture: -0.1",
           "marker": {
            "color": "red",
            "opacity": 0.4,
            "size": 2.442161618443443
           },
           "mode": "markers",
           "x": [
            0.25
           ],
           "xaxis": "x4",
           "y": [
            0.5
           ],
           "yaxis": "y4",
           "type": "scatter"
          },
          {
           "hovertemplate": "industry: 0.96",
           "marker": {
            "color": "green",
            "opacity": 0.4,
            "size": 22.392535841822852
           },
           "mode": "markers",
           "x": [
            0.5
           ],
           "xaxis": "x4",
           "y": [
            0.5
           ],
           "yaxis": "y4",
           "type": "scatter"
          },
          {
           "hovertemplate": "services: -0.29",
           "marker": {
            "color": "red",
            "opacity": 0.4,
            "size": 6.870298928377431
           },
           "mode": "markers",
           "x": [
            0.75
           ],
           "xaxis": "x4",
           "y": [
            0.5
           ],
           "yaxis": "y4",
           "type": "scatter"
          },
          {
           "hovertemplate": "eci: -0.51",
           "marker": {
            "color": "red",
            "opacity": 0.4,
            "size": 11.842479341950119
           },
           "mode": "markers",
           "x": [
            0.125
           ],
           "xaxis": "x5",
           "y": [
            0.5
           ],
           "yaxis": "y5",
           "type": "scatter"
          },
          {
           "hovertemplate": "exports: 0.35",
           "marker": {
            "color": "green",
            "opacity": 0.4,
            "size": 8.057907411422228
           },
           "mode": "markers",
           "x": [
            0.375
           ],
           "xaxis": "x5",
           "y": [
            0.5
           ],
           "yaxis": "y5",
           "type": "scatter"
          },
          {
           "hovertemplate": "resourcerents: 1.31",
           "marker": {
            "color": "green",
            "opacity": 0.4,
            "size": 30.581807707918866
           },
           "mode": "markers",
           "x": [
            0.625
           ],
           "xaxis": "x5",
           "y": [
            0.5
           ],
           "yaxis": "y5",
           "type": "scatter"
          },
          {
           "hovertemplate": "concentration: -0.48",
           "marker": {
            "color": "red",
            "opacity": 0.4,
            "size": 11.105004682426486
           },
           "mode": "markers",
           "x": [
            0.875
           ],
           "xaxis": "x5",
           "y": [
            0.5
           ],
           "yaxis": "y5",
           "type": "scatter"
          },
          {
           "hovertemplate": "grosscapital: 0.31",
           "marker": {
            "color": "green",
            "opacity": 0.4,
            "size": 7.167158438223725
           },
           "mode": "markers",
           "x": [
            0.125
           ],
           "xaxis": "x6",
           "y": [
            0.5
           ],
           "yaxis": "y6",
           "type": "scatter"
          },
          {
           "hovertemplate": "lifeexpectancy: -0.28",
           "marker": {
            "color": "red",
            "opacity": 0.4,
            "size": 6.5580130081204855
           },
           "mode": "markers",
           "x": [
            0.375
           ],
           "xaxis": "x6",
           "y": [
            0.5
           ],
           "yaxis": "y6",
           "type": "scatter"
          },
          {
           "hovertemplate": "education: 0.55",
           "marker": {
            "color": "green",
            "opacity": 0.4,
            "size": 12.755066336284377
           },
           "mode": "markers",
           "x": [
            0.625
           ],
           "xaxis": "x6",
           "y": [
            0.5
           ],
           "yaxis": "y6",
           "type": "scatter"
          },
          {
           "hovertemplate": "mfootprint: 1.15",
           "marker": {
            "color": "green",
            "opacity": 0.4,
            "size": 26.7659973603327
           },
           "mode": "markers",
           "x": [
            0.875
           ],
           "xaxis": "x6",
           "y": [
            0.5
           ],
           "yaxis": "y6",
           "type": "scatter"
          },
          {
           "hovertemplate": "gini: -1.03",
           "marker": {
            "color": "green",
            "opacity": 0.4,
            "size": 23.97258092990345
           },
           "mode": "markers",
           "x": [
            0.5
           ],
           "xaxis": "x2",
           "y": [
            0.2
           ],
           "yaxis": "y2",
           "type": "scatter"
          },
          {
           "hovertemplate": "voice: 1.09",
           "marker": {
            "color": "red",
            "opacity": 0.4,
            "size": 25.376798344791823
           },
           "mode": "markers",
           "x": [
            0.5
           ],
           "xaxis": "x2",
           "y": [
            0.5
           ],
           "yaxis": "y2",
           "type": "scatter"
          },
          {
           "hovertemplate": "femaleminister: -0.06",
           "marker": {
            "color": "red",
            "opacity": 0.4,
            "size": 1.3544692560846083
           },
           "mode": "markers",
           "x": [
            0.5
           ],
           "xaxis": "x2",
           "y": [
            0.8
           ],
           "yaxis": "y2",
           "type": "scatter"
          }
         ],
         "layout": {
          "annotations": [
           {
            "font": {
             "size": 18
            },
            "showarrow": false,
            "text": "Year: 2012",
            "x": 0,
            "xref": "paper",
            "y": 0.95,
            "yref": "paper"
           },
           {
            "font": {
             "size": 18
            },
            "showarrow": false,
            "text": "Country: Kazakhstan",
            "x": 0,
            "xref": "paper",
            "y": 0.85,
            "yref": "paper"
           }
          ]
         },
         "name": "2012"
        },
        {
         "data": [
          {
           "hovertemplate": "unemployed: -0.28",
           "marker": {
            "color": "green",
            "opacity": 0.4,
            "size": 6.491508586390067
           },
           "mode": "markers",
           "x": [
            0.125
           ],
           "xaxis": "x",
           "y": [
            0.5
           ],
           "yaxis": "y",
           "type": "scatter"
          },
          {
           "hovertemplate": "wealth: -0.26",
           "marker": {
            "color": "red",
            "opacity": 0.4,
            "size": 6.140806405809135
           },
           "mode": "markers",
           "x": [
            0.375
           ],
           "xaxis": "x",
           "y": [
            0.5
           ],
           "yaxis": "y",
           "type": "scatter"
          },
          {
           "hovertemplate": "energy: 0.5",
           "marker": {
            "color": "green",
            "opacity": 0.4,
            "size": 11.617360386798563
           },
           "mode": "markers",
           "x": [
            0.625
           ],
           "xaxis": "x",
           "y": [
            0.5
           ],
           "yaxis": "y",
           "type": "scatter"
          },
          {
           "hovertemplate": "placeholder: 0.1",
           "marker": {
            "color": "green",
            "opacity": 0.4,
            "size": 2.3333333333333335
           },
           "mode": "markers",
           "x": [
            0.875
           ],
           "xaxis": "x",
           "y": [
            0.5
           ],
           "yaxis": "y",
           "type": "scatter"
          },
          {
           "hovertemplate": "govconsum: -0.83",
           "marker": {
            "color": "red",
            "opacity": 0.4,
            "size": 19.407335589391966
           },
           "mode": "markers",
           "x": [
            0.125
           ],
           "xaxis": "x3",
           "y": [
            0.5
           ],
           "yaxis": "y3",
           "type": "scatter"
          },
          {
           "hovertemplate": "marketcap: -0.43",
           "marker": {
            "color": "red",
            "opacity": 0.4,
            "size": 10.062863972650307
           },
           "mode": "markers",
           "x": [
            0.375
           ],
           "xaxis": "x3",
           "y": [
            0.5
           ],
           "yaxis": "y3",
           "type": "scatter"
          },
          {
           "hovertemplate": "houseconsum: -0.77",
           "marker": {
            "color": "red",
            "opacity": 0.4,
            "size": 18.03558576578327
           },
           "mode": "markers",
           "x": [
            0.625
           ],
           "xaxis": "x3",
           "y": [
            0.5
           ],
           "yaxis": "y3",
           "type": "scatter"
          },
          {
           "hovertemplate": "placeholder: 0.1",
           "marker": {
            "color": "green",
            "opacity": 0.4,
            "size": 2.3333333333333335
           },
           "mode": "markers",
           "x": [
            0.875
           ],
           "xaxis": "x3",
           "y": [
            0.5
           ],
           "yaxis": "y3",
           "type": "scatter"
          },
          {
           "hovertemplate": "agriculture: -0.07",
           "marker": {
            "color": "red",
            "opacity": 0.4,
            "size": 1.6335028878935636
           },
           "mode": "markers",
           "x": [
            0.25
           ],
           "xaxis": "x4",
           "y": [
            0.5
           ],
           "yaxis": "y4",
           "type": "scatter"
          },
          {
           "hovertemplate": "industry: 0.81",
           "marker": {
            "color": "green",
            "opacity": 0.4,
            "size": 18.823201080577824
           },
           "mode": "markers",
           "x": [
            0.5
           ],
           "xaxis": "x4",
           "y": [
            0.5
           ],
           "yaxis": "y4",
           "type": "scatter"
          },
          {
           "hovertemplate": "services: -0.15",
           "marker": {
            "color": "red",
            "opacity": 0.4,
            "size": 3.5440308376963703
           },
           "mode": "markers",
           "x": [
            0.75
           ],
           "xaxis": "x4",
           "y": [
            0.5
           ],
           "yaxis": "y4",
           "type": "scatter"
          },
          {
           "hovertemplate": "eci: -1.0",
           "marker": {
            "color": "red",
            "opacity": 0.4,
            "size": 23.36910542725229
           },
           "mode": "markers",
           "x": [
            0.125
           ],
           "xaxis": "x5",
           "y": [
            0.5
           ],
           "yaxis": "y5",
           "type": "scatter"
          },
          {
           "hovertemplate": "exports: 0.15",
           "marker": {
            "color": "green",
            "opacity": 0.4,
            "size": 3.4802632395467046
           },
           "mode": "markers",
           "x": [
            0.375
           ],
           "xaxis": "x5",
           "y": [
            0.5
           ],
           "yaxis": "y5",
           "type": "scatter"
          },
          {
           "hovertemplate": "resourcerents: 1.22",
           "marker": {
            "color": "green",
            "opacity": 0.4,
            "size": 28.49071782804276
           },
           "mode": "markers",
           "x": [
            0.625
           ],
           "xaxis": "x5",
           "y": [
            0.5
           ],
           "yaxis": "y5",
           "type": "scatter"
          },
          {
           "hovertemplate": "concentration: -0.43",
           "marker": {
            "color": "red",
            "opacity": 0.4,
            "size": 10.087175513215936
           },
           "mode": "markers",
           "x": [
            0.875
           ],
           "xaxis": "x5",
           "y": [
            0.5
           ],
           "yaxis": "y5",
           "type": "scatter"
          },
          {
           "hovertemplate": "grosscapital: 0.23",
           "marker": {
            "color": "green",
            "opacity": 0.4,
            "size": 5.455796584430023
           },
           "mode": "markers",
           "x": [
            0.125
           ],
           "xaxis": "x6",
           "y": [
            0.5
           ],
           "yaxis": "y6",
           "type": "scatter"
          },
          {
           "hovertemplate": "lifeexpectancy: -0.15",
           "marker": {
            "color": "red",
            "opacity": 0.4,
            "size": 3.398801207063405
           },
           "mode": "markers",
           "x": [
            0.375
           ],
           "xaxis": "x6",
           "y": [
            0.5
           ],
           "yaxis": "y6",
           "type": "scatter"
          },
          {
           "hovertemplate": "education: 0.51",
           "marker": {
            "color": "green",
            "opacity": 0.4,
            "size": 11.966322504864628
           },
           "mode": "markers",
           "x": [
            0.625
           ],
           "xaxis": "x6",
           "y": [
            0.5
           ],
           "yaxis": "y6",
           "type": "scatter"
          },
          {
           "hovertemplate": "mfootprint: 1.6",
           "marker": {
            "color": "green",
            "opacity": 0.4,
            "size": 37.25172148427974
           },
           "mode": "markers",
           "x": [
            0.875
           ],
           "xaxis": "x6",
           "y": [
            0.5
           ],
           "yaxis": "y6",
           "type": "scatter"
          },
          {
           "hovertemplate": "gini: -1.12",
           "marker": {
            "color": "green",
            "opacity": 0.4,
            "size": 26.099180851104556
           },
           "mode": "markers",
           "x": [
            0.5
           ],
           "xaxis": "x2",
           "y": [
            0.2
           ],
           "yaxis": "y2",
           "type": "scatter"
          },
          {
           "hovertemplate": "voice: 1.12",
           "marker": {
            "color": "red",
            "opacity": 0.4,
            "size": 26.18439620030615
           },
           "mode": "markers",
           "x": [
            0.5
           ],
           "xaxis": "x2",
           "y": [
            0.5
           ],
           "yaxis": "y2",
           "type": "scatter"
          },
          {
           "hovertemplate": "femaleminister: nan",
           "marker": {
            "color": "grey",
            "opacity": 0.2,
            "size": 7.0
           },
           "mode": "markers",
           "x": [
            0.5
           ],
           "xaxis": "x2",
           "y": [
            0.8
           ],
           "yaxis": "y2",
           "type": "scatter"
          }
         ],
         "layout": {
          "annotations": [
           {
            "font": {
             "size": 18
            },
            "showarrow": false,
            "text": "Year: 2013",
            "x": 0,
            "xref": "paper",
            "y": 0.95,
            "yref": "paper"
           },
           {
            "font": {
             "size": 18
            },
            "showarrow": false,
            "text": "Country: Kazakhstan",
            "x": 0,
            "xref": "paper",
            "y": 0.85,
            "yref": "paper"
           }
          ]
         },
         "name": "2013"
        },
        {
         "data": [
          {
           "hovertemplate": "unemployed: -0.31",
           "marker": {
            "color": "green",
            "opacity": 0.4,
            "size": 7.206711949112807
           },
           "mode": "markers",
           "x": [
            0.125
           ],
           "xaxis": "x",
           "y": [
            0.5
           ],
           "yaxis": "y",
           "type": "scatter"
          },
          {
           "hovertemplate": "wealth: -0.25",
           "marker": {
            "color": "red",
            "opacity": 0.4,
            "size": 5.720993308513001
           },
           "mode": "markers",
           "x": [
            0.375
           ],
           "xaxis": "x",
           "y": [
            0.5
           ],
           "yaxis": "y",
           "type": "scatter"
          },
          {
           "hovertemplate": "energy: 0.45",
           "marker": {
            "color": "green",
            "opacity": 0.4,
            "size": 10.469262973038946
           },
           "mode": "markers",
           "x": [
            0.625
           ],
           "xaxis": "x",
           "y": [
            0.5
           ],
           "yaxis": "y",
           "type": "scatter"
          },
          {
           "hovertemplate": "placeholder: 0.1",
           "marker": {
            "color": "green",
            "opacity": 0.4,
            "size": 2.3333333333333335
           },
           "mode": "markers",
           "x": [
            0.875
           ],
           "xaxis": "x",
           "y": [
            0.5
           ],
           "yaxis": "y",
           "type": "scatter"
          },
          {
           "hovertemplate": "govconsum: -0.77",
           "marker": {
            "color": "red",
            "opacity": 0.4,
            "size": 18.030074464667607
           },
           "mode": "markers",
           "x": [
            0.125
           ],
           "xaxis": "x3",
           "y": [
            0.5
           ],
           "yaxis": "y3",
           "type": "scatter"
          },
          {
           "hovertemplate": "marketcap: -0.44",
           "marker": {
            "color": "red",
            "opacity": 0.4,
            "size": 10.187802064729706
           },
           "mode": "markers",
           "x": [
            0.375
           ],
           "xaxis": "x3",
           "y": [
            0.5
           ],
           "yaxis": "y3",
           "type": "scatter"
          },
          {
           "hovertemplate": "houseconsum: -0.85",
           "marker": {
            "color": "red",
            "opacity": 0.4,
            "size": 19.864257717016496
           },
           "mode": "markers",
           "x": [
            0.625
           ],
           "xaxis": "x3",
           "y": [
            0.5
           ],
           "yaxis": "y3",
           "type": "scatter"
          },
          {
           "hovertemplate": "placeholder: 0.1",
           "marker": {
            "color": "green",
            "opacity": 0.4,
            "size": 2.3333333333333335
           },
           "mode": "markers",
           "x": [
            0.875
           ],
           "xaxis": "x3",
           "y": [
            0.5
           ],
           "yaxis": "y3",
           "type": "scatter"
          },
          {
           "hovertemplate": "agriculture: -0.1",
           "marker": {
            "color": "red",
            "opacity": 0.4,
            "size": 2.284174493898248
           },
           "mode": "markers",
           "x": [
            0.25
           ],
           "xaxis": "x4",
           "y": [
            0.5
           ],
           "yaxis": "y4",
           "type": "scatter"
          },
          {
           "hovertemplate": "industry: 0.78",
           "marker": {
            "color": "green",
            "opacity": 0.4,
            "size": 18.12169569166478
           },
           "mode": "markers",
           "x": [
            0.5
           ],
           "xaxis": "x4",
           "y": [
            0.5
           ],
           "yaxis": "y4",
           "type": "scatter"
          },
          {
           "hovertemplate": "services: -0.02",
           "marker": {
            "color": "red",
            "opacity": 0.4,
            "size": 0.5591255912127215
           },
           "mode": "markers",
           "x": [
            0.75
           ],
           "xaxis": "x4",
           "y": [
            0.5
           ],
           "yaxis": "y4",
           "type": "scatter"
          },
          {
           "hovertemplate": "eci: -0.57",
           "marker": {
            "color": "red",
            "opacity": 0.4,
            "size": 13.210422673371774
           },
           "mode": "markers",
           "x": [
            0.125
           ],
           "xaxis": "x5",
           "y": [
            0.5
           ],
           "yaxis": "y5",
           "type": "scatter"
          },
          {
           "hovertemplate": "exports: 0.18",
           "marker": {
            "color": "green",
            "opacity": 0.4,
            "size": 4.1202724675525655
           },
           "mode": "markers",
           "x": [
            0.375
           ],
           "xaxis": "x5",
           "y": [
            0.5
           ],
           "yaxis": "y5",
           "type": "scatter"
          },
          {
           "hovertemplate": "resourcerents: 1.19",
           "marker": {
            "color": "green",
            "opacity": 0.4,
            "size": 27.882589511641015
           },
           "mode": "markers",
           "x": [
            0.625
           ],
           "xaxis": "x5",
           "y": [
            0.5
           ],
           "yaxis": "y5",
           "type": "scatter"
          },
          {
           "hovertemplate": "concentration: -0.59",
           "marker": {
            "color": "red",
            "opacity": 0.4,
            "size": 13.725039094834846
           },
           "mode": "markers",
           "x": [
            0.875
           ],
           "xaxis": "x5",
           "y": [
            0.5
           ],
           "yaxis": "y5",
           "type": "scatter"
          },
          {
           "hovertemplate": "grosscapital: 0.37",
           "marker": {
            "color": "green",
            "opacity": 0.4,
            "size": 8.58582439858413
           },
           "mode": "markers",
           "x": [
            0.125
           ],
           "xaxis": "x6",
           "y": [
            0.5
           ],
           "yaxis": "y6",
           "type": "scatter"
          },
          {
           "hovertemplate": "lifeexpectancy: -0.04",
           "marker": {
            "color": "red",
            "opacity": 0.4,
            "size": 1.0437524099118014
           },
           "mode": "markers",
           "x": [
            0.375
           ],
           "xaxis": "x6",
           "y": [
            0.5
           ],
           "yaxis": "y6",
           "type": "scatter"
          },
          {
           "hovertemplate": "education: 0.57",
           "marker": {
            "color": "green",
            "opacity": 0.4,
            "size": 13.22395762364651
           },
           "mode": "markers",
           "x": [
            0.625
           ],
           "xaxis": "x6",
           "y": [
            0.5
           ],
           "yaxis": "y6",
           "type": "scatter"
          },
          {
           "hovertemplate": "mfootprint: 1.65",
           "marker": {
            "color": "green",
            "opacity": 0.4,
            "size": 38.60747501554121
           },
           "mode": "markers",
           "x": [
            0.875
           ],
           "xaxis": "x6",
           "y": [
            0.5
           ],
           "yaxis": "y6",
           "type": "scatter"
          },
          {
           "hovertemplate": "gini: -1.13",
           "marker": {
            "color": "green",
            "opacity": 0.4,
            "size": 26.292508116668294
           },
           "mode": "markers",
           "x": [
            0.5
           ],
           "xaxis": "x2",
           "y": [
            0.2
           ],
           "yaxis": "y2",
           "type": "scatter"
          },
          {
           "hovertemplate": "voice: 1.09",
           "marker": {
            "color": "red",
            "opacity": 0.4,
            "size": 25.465839224296783
           },
           "mode": "markers",
           "x": [
            0.5
           ],
           "xaxis": "x2",
           "y": [
            0.5
           ],
           "yaxis": "y2",
           "type": "scatter"
          },
          {
           "hovertemplate": "femaleminister: 0.28",
           "marker": {
            "color": "green",
            "opacity": 0.4,
            "size": 6.610692598712619
           },
           "mode": "markers",
           "x": [
            0.5
           ],
           "xaxis": "x2",
           "y": [
            0.8
           ],
           "yaxis": "y2",
           "type": "scatter"
          }
         ],
         "layout": {
          "annotations": [
           {
            "font": {
             "size": 18
            },
            "showarrow": false,
            "text": "Year: 2014",
            "x": 0,
            "xref": "paper",
            "y": 0.95,
            "yref": "paper"
           },
           {
            "font": {
             "size": 18
            },
            "showarrow": false,
            "text": "Country: Kazakhstan",
            "x": 0,
            "xref": "paper",
            "y": 0.85,
            "yref": "paper"
           }
          ]
         },
         "name": "2014"
        },
        {
         "data": [
          {
           "hovertemplate": "unemployed: -0.34",
           "marker": {
            "color": "green",
            "opacity": 0.4,
            "size": 7.888774644150609
           },
           "mode": "markers",
           "x": [
            0.125
           ],
           "xaxis": "x",
           "y": [
            0.5
           ],
           "yaxis": "y",
           "type": "scatter"
          },
          {
           "hovertemplate": "wealth: -0.24",
           "marker": {
            "color": "red",
            "opacity": 0.4,
            "size": 5.589389005287887
           },
           "mode": "markers",
           "x": [
            0.375
           ],
           "xaxis": "x",
           "y": [
            0.5
           ],
           "yaxis": "y",
           "type": "scatter"
          },
          {
           "hovertemplate": "energy: nan",
           "marker": {
            "color": "grey",
            "opacity": 0.2,
            "size": 7.0
           },
           "mode": "markers",
           "x": [
            0.625
           ],
           "xaxis": "x",
           "y": [
            0.5
           ],
           "yaxis": "y",
           "type": "scatter"
          },
          {
           "hovertemplate": "placeholder: 0.1",
           "marker": {
            "color": "green",
            "opacity": 0.4,
            "size": 2.3333333333333335
           },
           "mode": "markers",
           "x": [
            0.875
           ],
           "xaxis": "x",
           "y": [
            0.5
           ],
           "yaxis": "y",
           "type": "scatter"
          },
          {
           "hovertemplate": "govconsum: -0.66",
           "marker": {
            "color": "red",
            "opacity": 0.4,
            "size": 15.514528406756039
           },
           "mode": "markers",
           "x": [
            0.125
           ],
           "xaxis": "x3",
           "y": [
            0.5
           ],
           "yaxis": "y3",
           "type": "scatter"
          },
          {
           "hovertemplate": "marketcap: -0.37",
           "marker": {
            "color": "red",
            "opacity": 0.4,
            "size": 8.679774922441739
           },
           "mode": "markers",
           "x": [
            0.375
           ],
           "xaxis": "x3",
           "y": [
            0.5
           ],
           "yaxis": "y3",
           "type": "scatter"
          },
          {
           "hovertemplate": "houseconsum: -0.56",
           "marker": {
            "color": "red",
            "opacity": 0.4,
            "size": 13.094039181213283
           },
           "mode": "markers",
           "x": [
            0.625
           ],
           "xaxis": "x3",
           "y": [
            0.5
           ],
           "yaxis": "y3",
           "type": "scatter"
          },
          {
           "hovertemplate": "placeholder: 0.1",
           "marker": {
            "color": "green",
            "opacity": 0.4,
            "size": 2.3333333333333335
           },
           "mode": "markers",
           "x": [
            0.875
           ],
           "xaxis": "x3",
           "y": [
            0.5
           ],
           "yaxis": "y3",
           "type": "scatter"
          },
          {
           "hovertemplate": "agriculture: -0.04",
           "marker": {
            "color": "red",
            "opacity": 0.4,
            "size": 0.8913704823722152
           },
           "mode": "markers",
           "x": [
            0.25
           ],
           "xaxis": "x4",
           "y": [
            0.5
           ],
           "yaxis": "y4",
           "type": "scatter"
          },
          {
           "hovertemplate": "industry: 0.63",
           "marker": {
            "color": "green",
            "opacity": 0.4,
            "size": 14.5951268175314
           },
           "mode": "markers",
           "x": [
            0.5
           ],
           "xaxis": "x4",
           "y": [
            0.5
           ],
           "yaxis": "y4",
           "type": "scatter"
          },
          {
           "hovertemplate": "services: 0.3",
           "marker": {
            "color": "green",
            "opacity": 0.4,
            "size": 7.036709614655349
           },
           "mode": "markers",
           "x": [
            0.75
           ],
           "xaxis": "x4",
           "y": [
            0.5
           ],
           "yaxis": "y4",
           "type": "scatter"
          },
          {
           "hovertemplate": "eci: -0.61",
           "marker": {
            "color": "red",
            "opacity": 0.4,
            "size": 14.168300506943584
           },
           "mode": "markers",
           "x": [
            0.125
           ],
           "xaxis": "x5",
           "y": [
            0.5
           ],
           "yaxis": "y5",
           "type": "scatter"
          },
          {
           "hovertemplate": "exports: -0.3",
           "marker": {
            "color": "red",
            "opacity": 0.4,
            "size": 6.956659297642522
           },
           "mode": "markers",
           "x": [
            0.375
           ],
           "xaxis": "x5",
           "y": [
            0.5
           ],
           "yaxis": "y5",
           "type": "scatter"
          },
          {
           "hovertemplate": "resourcerents: 0.9",
           "marker": {
            "color": "green",
            "opacity": 0.4,
            "size": 21.048349212363732
           },
           "mode": "markers",
           "x": [
            0.625
           ],
           "xaxis": "x5",
           "y": [
            0.5
           ],
           "yaxis": "y5",
           "type": "scatter"
          },
          {
           "hovertemplate": "concentration: -0.6",
           "marker": {
            "color": "red",
            "opacity": 0.4,
            "size": 14.009440477089372
           },
           "mode": "markers",
           "x": [
            0.875
           ],
           "xaxis": "x5",
           "y": [
            0.5
           ],
           "yaxis": "y5",
           "type": "scatter"
          },
          {
           "hovertemplate": "grosscapital: 0.59",
           "marker": {
            "color": "green",
            "opacity": 0.4,
            "size": 13.680108073721291
           },
           "mode": "markers",
           "x": [
            0.125
           ],
           "xaxis": "x6",
           "y": [
            0.5
           ],
           "yaxis": "y6",
           "type": "scatter"
          },
          {
           "hovertemplate": "lifeexpectancy: 0.02",
           "marker": {
            "color": "green",
            "opacity": 0.4,
            "size": 0.47841327605205575
           },
           "mode": "markers",
           "x": [
            0.375
           ],
           "xaxis": "x6",
           "y": [
            0.5
           ],
           "yaxis": "y6",
           "type": "scatter"
          },
          {
           "hovertemplate": "education: 0.58",
           "marker": {
            "color": "green",
            "opacity": 0.4,
            "size": 13.593451117716857
           },
           "mode": "markers",
           "x": [
            0.625
           ],
           "xaxis": "x6",
           "y": [
            0.5
           ],
           "yaxis": "y6",
           "type": "scatter"
          },
          {
           "hovertemplate": "mfootprint: 1.99",
           "marker": {
            "color": "green",
            "opacity": 0.4,
            "size": 46.47605744333654
           },
           "mode": "markers",
           "x": [
            0.875
           ],
           "xaxis": "x6",
           "y": [
            0.5
           ],
           "yaxis": "y6",
           "type": "scatter"
          },
          {
           "hovertemplate": "gini: -1.14",
           "marker": {
            "color": "green",
            "opacity": 0.4,
            "size": 26.679162647795767
           },
           "mode": "markers",
           "x": [
            0.5
           ],
           "xaxis": "x2",
           "y": [
            0.2
           ],
           "yaxis": "y2",
           "type": "scatter"
          },
          {
           "hovertemplate": "voice: 1.08",
           "marker": {
            "color": "red",
            "opacity": 0.4,
            "size": 25.2161737554273
           },
           "mode": "markers",
           "x": [
            0.5
           ],
           "xaxis": "x2",
           "y": [
            0.5
           ],
           "yaxis": "y2",
           "type": "scatter"
          },
          {
           "hovertemplate": "femaleminister: -0.31",
           "marker": {
            "color": "red",
            "opacity": 0.4,
            "size": 7.174734523723674
           },
           "mode": "markers",
           "x": [
            0.5
           ],
           "xaxis": "x2",
           "y": [
            0.8
           ],
           "yaxis": "y2",
           "type": "scatter"
          }
         ],
         "layout": {
          "annotations": [
           {
            "font": {
             "size": 18
            },
            "showarrow": false,
            "text": "Year: 2015",
            "x": 0,
            "xref": "paper",
            "y": 0.95,
            "yref": "paper"
           },
           {
            "font": {
             "size": 18
            },
            "showarrow": false,
            "text": "Country: Kazakhstan",
            "x": 0,
            "xref": "paper",
            "y": 0.85,
            "yref": "paper"
           }
          ]
         },
         "name": "2015"
        }
       ],
       "config": {
        "plotlyServerURL": "https://plot.ly"
       }
      },
      "text/html": "<div>                            <div id=\"f5e92c0a-ab34-49a9-827b-2f8f58f83e36\" class=\"plotly-graph-div\" style=\"height:525px; width:100%;\"></div>            <script type=\"text/javascript\">                require([\"plotly\"], function(Plotly) {                    window.PLOTLYENV=window.PLOTLYENV || {};                                    if (document.getElementById(\"f5e92c0a-ab34-49a9-827b-2f8f58f83e36\")) {                    Plotly.newPlot(                        \"f5e92c0a-ab34-49a9-827b-2f8f58f83e36\",                        [{\"hovertemplate\":\"unemployed: 0.73\",\"marker\":{\"color\":\"red\",\"opacity\":0.4,\"size\":17.011458883015937},\"mode\":\"markers\",\"x\":[0.125],\"y\":[0.5],\"type\":\"scatter\",\"xaxis\":\"x\",\"yaxis\":\"y\"},{\"hovertemplate\":\"wealth: -0.61\",\"marker\":{\"color\":\"red\",\"opacity\":0.4,\"size\":14.27159666594122},\"mode\":\"markers\",\"x\":[0.375],\"y\":[0.5],\"type\":\"scatter\",\"xaxis\":\"x\",\"yaxis\":\"y\"},{\"hovertemplate\":\"energy: 0.19\",\"marker\":{\"color\":\"green\",\"opacity\":0.4,\"size\":4.422514120831626},\"mode\":\"markers\",\"x\":[0.625],\"y\":[0.5],\"type\":\"scatter\",\"xaxis\":\"x\",\"yaxis\":\"y\"},{\"hovertemplate\":\"placeholder: 0.1\",\"marker\":{\"color\":\"green\",\"opacity\":0.4,\"size\":2.3333333333333335},\"mode\":\"markers\",\"x\":[0.875],\"y\":[0.5],\"type\":\"scatter\",\"xaxis\":\"x\",\"yaxis\":\"y\"},{\"hovertemplate\":\"govconsum: -0.61\",\"marker\":{\"color\":\"red\",\"opacity\":0.4,\"size\":14.330022713305029},\"mode\":\"markers\",\"x\":[0.125],\"y\":[0.5],\"type\":\"scatter\",\"xaxis\":\"x3\",\"yaxis\":\"y3\"},{\"hovertemplate\":\"marketcap: nan\",\"marker\":{\"color\":\"grey\",\"opacity\":0.2,\"size\":7.0},\"mode\":\"markers\",\"x\":[0.375],\"y\":[0.5],\"type\":\"scatter\",\"xaxis\":\"x3\",\"yaxis\":\"y3\"},{\"hovertemplate\":\"houseconsum: -0.11\",\"marker\":{\"color\":\"red\",\"opacity\":0.4,\"size\":2.530331561801811},\"mode\":\"markers\",\"x\":[0.625],\"y\":[0.5],\"type\":\"scatter\",\"xaxis\":\"x3\",\"yaxis\":\"y3\"},{\"hovertemplate\":\"placeholder: 0.1\",\"marker\":{\"color\":\"green\",\"opacity\":0.4,\"size\":2.3333333333333335},\"mode\":\"markers\",\"x\":[0.875],\"y\":[0.5],\"type\":\"scatter\",\"xaxis\":\"x3\",\"yaxis\":\"y3\"},{\"hovertemplate\":\"agriculture: 0.35\",\"marker\":{\"color\":\"green\",\"opacity\":0.4,\"size\":8.082269501536025},\"mode\":\"markers\",\"x\":[0.25],\"y\":[0.5],\"type\":\"scatter\",\"xaxis\":\"x4\",\"yaxis\":\"y4\"},{\"hovertemplate\":\"industry: 1.04\",\"marker\":{\"color\":\"green\",\"opacity\":0.4,\"size\":24.29978630103415},\"mode\":\"markers\",\"x\":[0.5],\"y\":[0.5],\"type\":\"scatter\",\"xaxis\":\"x4\",\"yaxis\":\"y4\"},{\"hovertemplate\":\"services: -0.55\",\"marker\":{\"color\":\"red\",\"opacity\":0.4,\"size\":12.731494894804271},\"mode\":\"markers\",\"x\":[0.75],\"y\":[0.5],\"type\":\"scatter\",\"xaxis\":\"x4\",\"yaxis\":\"y4\"},{\"hovertemplate\":\"eci: -0.21\",\"marker\":{\"color\":\"red\",\"opacity\":0.4,\"size\":4.957897269740603},\"mode\":\"markers\",\"x\":[0.125],\"y\":[0.5],\"type\":\"scatter\",\"xaxis\":\"x5\",\"yaxis\":\"y5\"},{\"hovertemplate\":\"exports: 0.71\",\"marker\":{\"color\":\"green\",\"opacity\":0.4,\"size\":16.641869379187707},\"mode\":\"markers\",\"x\":[0.375],\"y\":[0.5],\"type\":\"scatter\",\"xaxis\":\"x5\",\"yaxis\":\"y5\"},{\"hovertemplate\":\"resourcerents: 1.41\",\"marker\":{\"color\":\"green\",\"opacity\":0.4,\"size\":33.00274460995089},\"mode\":\"markers\",\"x\":[0.625],\"y\":[0.5],\"type\":\"scatter\",\"xaxis\":\"x5\",\"yaxis\":\"y5\"},{\"hovertemplate\":\"concentration: -0.47\",\"marker\":{\"color\":\"red\",\"opacity\":0.4,\"size\":10.881663791169386},\"mode\":\"markers\",\"x\":[0.875],\"y\":[0.5],\"type\":\"scatter\",\"xaxis\":\"x5\",\"yaxis\":\"y5\"},{\"hovertemplate\":\"grosscapital: -0.61\",\"marker\":{\"color\":\"red\",\"opacity\":0.4,\"size\":14.132950798173631},\"mode\":\"markers\",\"x\":[0.125],\"y\":[0.5],\"type\":\"scatter\",\"xaxis\":\"x6\",\"yaxis\":\"y6\"},{\"hovertemplate\":\"lifeexpectancy: -0.78\",\"marker\":{\"color\":\"red\",\"opacity\":0.4,\"size\":18.24709667203157},\"mode\":\"markers\",\"x\":[0.375],\"y\":[0.5],\"type\":\"scatter\",\"xaxis\":\"x6\",\"yaxis\":\"y6\"},{\"hovertemplate\":\"education: 0.18\",\"marker\":{\"color\":\"green\",\"opacity\":0.4,\"size\":4.127861973640495},\"mode\":\"markers\",\"x\":[0.625],\"y\":[0.5],\"type\":\"scatter\",\"xaxis\":\"x6\",\"yaxis\":\"y6\"},{\"hovertemplate\":\"mfootprint: -0.34\",\"marker\":{\"color\":\"red\",\"opacity\":0.4,\"size\":7.988135813593521},\"mode\":\"markers\",\"x\":[0.875],\"y\":[0.5],\"type\":\"scatter\",\"xaxis\":\"x6\",\"yaxis\":\"y6\"},{\"hovertemplate\":\"gini: nan\",\"marker\":{\"color\":\"grey\",\"opacity\":0.2,\"size\":7.0},\"mode\":\"markers\",\"x\":[0.5],\"y\":[0.2],\"type\":\"scatter\",\"xaxis\":\"x2\",\"yaxis\":\"y2\"},{\"hovertemplate\":\"voice: 0.97\",\"marker\":{\"color\":\"red\",\"opacity\":0.4,\"size\":22.669273772331476},\"mode\":\"markers\",\"x\":[0.5],\"y\":[0.5],\"type\":\"scatter\",\"xaxis\":\"x2\",\"yaxis\":\"y2\"},{\"hovertemplate\":\"femaleminister: nan\",\"marker\":{\"color\":\"grey\",\"opacity\":0.2,\"size\":7.0},\"mode\":\"markers\",\"x\":[0.5],\"y\":[0.8],\"type\":\"scatter\",\"xaxis\":\"x2\",\"yaxis\":\"y2\"}],                        {\"template\":{\"data\":{\"histogram2dcontour\":[{\"type\":\"histogram2dcontour\",\"colorbar\":{\"outlinewidth\":0,\"ticks\":\"\"},\"colorscale\":[[0.0,\"#0d0887\"],[0.1111111111111111,\"#46039f\"],[0.2222222222222222,\"#7201a8\"],[0.3333333333333333,\"#9c179e\"],[0.4444444444444444,\"#bd3786\"],[0.5555555555555556,\"#d8576b\"],[0.6666666666666666,\"#ed7953\"],[0.7777777777777778,\"#fb9f3a\"],[0.8888888888888888,\"#fdca26\"],[1.0,\"#f0f921\"]]}],\"choropleth\":[{\"type\":\"choropleth\",\"colorbar\":{\"outlinewidth\":0,\"ticks\":\"\"}}],\"histogram2d\":[{\"type\":\"histogram2d\",\"colorbar\":{\"outlinewidth\":0,\"ticks\":\"\"},\"colorscale\":[[0.0,\"#0d0887\"],[0.1111111111111111,\"#46039f\"],[0.2222222222222222,\"#7201a8\"],[0.3333333333333333,\"#9c179e\"],[0.4444444444444444,\"#bd3786\"],[0.5555555555555556,\"#d8576b\"],[0.6666666666666666,\"#ed7953\"],[0.7777777777777778,\"#fb9f3a\"],[0.8888888888888888,\"#fdca26\"],[1.0,\"#f0f921\"]]}],\"heatmap\":[{\"type\":\"heatmap\",\"colorbar\":{\"outlinewidth\":0,\"ticks\":\"\"},\"colorscale\":[[0.0,\"#0d0887\"],[0.1111111111111111,\"#46039f\"],[0.2222222222222222,\"#7201a8\"],[0.3333333333333333,\"#9c179e\"],[0.4444444444444444,\"#bd3786\"],[0.5555555555555556,\"#d8576b\"],[0.6666666666666666,\"#ed7953\"],[0.7777777777777778,\"#fb9f3a\"],[0.8888888888888888,\"#fdca26\"],[1.0,\"#f0f921\"]]}],\"heatmapgl\":[{\"type\":\"heatmapgl\",\"colorbar\":{\"outlinewidth\":0,\"ticks\":\"\"},\"colorscale\":[[0.0,\"#0d0887\"],[0.1111111111111111,\"#46039f\"],[0.2222222222222222,\"#7201a8\"],[0.3333333333333333,\"#9c179e\"],[0.4444444444444444,\"#bd3786\"],[0.5555555555555556,\"#d8576b\"],[0.6666666666666666,\"#ed7953\"],[0.7777777777777778,\"#fb9f3a\"],[0.8888888888888888,\"#fdca26\"],[1.0,\"#f0f921\"]]}],\"contourcarpet\":[{\"type\":\"contourcarpet\",\"colorbar\":{\"outlinewidth\":0,\"ticks\":\"\"}}],\"contour\":[{\"type\":\"contour\",\"colorbar\":{\"outlinewidth\":0,\"ticks\":\"\"},\"colorscale\":[[0.0,\"#0d0887\"],[0.1111111111111111,\"#46039f\"],[0.2222222222222222,\"#7201a8\"],[0.3333333333333333,\"#9c179e\"],[0.4444444444444444,\"#bd3786\"],[0.5555555555555556,\"#d8576b\"],[0.6666666666666666,\"#ed7953\"],[0.7777777777777778,\"#fb9f3a\"],[0.8888888888888888,\"#fdca26\"],[1.0,\"#f0f921\"]]}],\"surface\":[{\"type\":\"surface\",\"colorbar\":{\"outlinewidth\":0,\"ticks\":\"\"},\"colorscale\":[[0.0,\"#0d0887\"],[0.1111111111111111,\"#46039f\"],[0.2222222222222222,\"#7201a8\"],[0.3333333333333333,\"#9c179e\"],[0.4444444444444444,\"#bd3786\"],[0.5555555555555556,\"#d8576b\"],[0.6666666666666666,\"#ed7953\"],[0.7777777777777778,\"#fb9f3a\"],[0.8888888888888888,\"#fdca26\"],[1.0,\"#f0f921\"]]}],\"mesh3d\":[{\"type\":\"mesh3d\",\"colorbar\":{\"outlinewidth\":0,\"ticks\":\"\"}}],\"scatter\":[{\"fillpattern\":{\"fillmode\":\"overlay\",\"size\":10,\"solidity\":0.2},\"type\":\"scatter\"}],\"parcoords\":[{\"type\":\"parcoords\",\"line\":{\"colorbar\":{\"outlinewidth\":0,\"ticks\":\"\"}}}],\"scatterpolargl\":[{\"type\":\"scatterpolargl\",\"marker\":{\"colorbar\":{\"outlinewidth\":0,\"ticks\":\"\"}}}],\"bar\":[{\"error_x\":{\"color\":\"#2a3f5f\"},\"error_y\":{\"color\":\"#2a3f5f\"},\"marker\":{\"line\":{\"color\":\"#E5ECF6\",\"width\":0.5},\"pattern\":{\"fillmode\":\"overlay\",\"size\":10,\"solidity\":0.2}},\"type\":\"bar\"}],\"scattergeo\":[{\"type\":\"scattergeo\",\"marker\":{\"colorbar\":{\"outlinewidth\":0,\"ticks\":\"\"}}}],\"scatterpolar\":[{\"type\":\"scatterpolar\",\"marker\":{\"colorbar\":{\"outlinewidth\":0,\"ticks\":\"\"}}}],\"histogram\":[{\"marker\":{\"pattern\":{\"fillmode\":\"overlay\",\"size\":10,\"solidity\":0.2}},\"type\":\"histogram\"}],\"scattergl\":[{\"type\":\"scattergl\",\"marker\":{\"colorbar\":{\"outlinewidth\":0,\"ticks\":\"\"}}}],\"scatter3d\":[{\"type\":\"scatter3d\",\"line\":{\"colorbar\":{\"outlinewidth\":0,\"ticks\":\"\"}},\"marker\":{\"colorbar\":{\"outlinewidth\":0,\"ticks\":\"\"}}}],\"scattermapbox\":[{\"type\":\"scattermapbox\",\"marker\":{\"colorbar\":{\"outlinewidth\":0,\"ticks\":\"\"}}}],\"scatterternary\":[{\"type\":\"scatterternary\",\"marker\":{\"colorbar\":{\"outlinewidth\":0,\"ticks\":\"\"}}}],\"scattercarpet\":[{\"type\":\"scattercarpet\",\"marker\":{\"colorbar\":{\"outlinewidth\":0,\"ticks\":\"\"}}}],\"carpet\":[{\"aaxis\":{\"endlinecolor\":\"#2a3f5f\",\"gridcolor\":\"white\",\"linecolor\":\"white\",\"minorgridcolor\":\"white\",\"startlinecolor\":\"#2a3f5f\"},\"baxis\":{\"endlinecolor\":\"#2a3f5f\",\"gridcolor\":\"white\",\"linecolor\":\"white\",\"minorgridcolor\":\"white\",\"startlinecolor\":\"#2a3f5f\"},\"type\":\"carpet\"}],\"table\":[{\"cells\":{\"fill\":{\"color\":\"#EBF0F8\"},\"line\":{\"color\":\"white\"}},\"header\":{\"fill\":{\"color\":\"#C8D4E3\"},\"line\":{\"color\":\"white\"}},\"type\":\"table\"}],\"barpolar\":[{\"marker\":{\"line\":{\"color\":\"#E5ECF6\",\"width\":0.5},\"pattern\":{\"fillmode\":\"overlay\",\"size\":10,\"solidity\":0.2}},\"type\":\"barpolar\"}],\"pie\":[{\"automargin\":true,\"type\":\"pie\"}]},\"layout\":{\"autotypenumbers\":\"strict\",\"colorway\":[\"#636efa\",\"#EF553B\",\"#00cc96\",\"#ab63fa\",\"#FFA15A\",\"#19d3f3\",\"#FF6692\",\"#B6E880\",\"#FF97FF\",\"#FECB52\"],\"font\":{\"color\":\"#2a3f5f\"},\"hovermode\":\"closest\",\"hoverlabel\":{\"align\":\"left\"},\"paper_bgcolor\":\"white\",\"plot_bgcolor\":\"#E5ECF6\",\"polar\":{\"bgcolor\":\"#E5ECF6\",\"angularaxis\":{\"gridcolor\":\"white\",\"linecolor\":\"white\",\"ticks\":\"\"},\"radialaxis\":{\"gridcolor\":\"white\",\"linecolor\":\"white\",\"ticks\":\"\"}},\"ternary\":{\"bgcolor\":\"#E5ECF6\",\"aaxis\":{\"gridcolor\":\"white\",\"linecolor\":\"white\",\"ticks\":\"\"},\"baxis\":{\"gridcolor\":\"white\",\"linecolor\":\"white\",\"ticks\":\"\"},\"caxis\":{\"gridcolor\":\"white\",\"linecolor\":\"white\",\"ticks\":\"\"}},\"coloraxis\":{\"colorbar\":{\"outlinewidth\":0,\"ticks\":\"\"}},\"colorscale\":{\"sequential\":[[0.0,\"#0d0887\"],[0.1111111111111111,\"#46039f\"],[0.2222222222222222,\"#7201a8\"],[0.3333333333333333,\"#9c179e\"],[0.4444444444444444,\"#bd3786\"],[0.5555555555555556,\"#d8576b\"],[0.6666666666666666,\"#ed7953\"],[0.7777777777777778,\"#fb9f3a\"],[0.8888888888888888,\"#fdca26\"],[1.0,\"#f0f921\"]],\"sequentialminus\":[[0.0,\"#0d0887\"],[0.1111111111111111,\"#46039f\"],[0.2222222222222222,\"#7201a8\"],[0.3333333333333333,\"#9c179e\"],[0.4444444444444444,\"#bd3786\"],[0.5555555555555556,\"#d8576b\"],[0.6666666666666666,\"#ed7953\"],[0.7777777777777778,\"#fb9f3a\"],[0.8888888888888888,\"#fdca26\"],[1.0,\"#f0f921\"]],\"diverging\":[[0,\"#8e0152\"],[0.1,\"#c51b7d\"],[0.2,\"#de77ae\"],[0.3,\"#f1b6da\"],[0.4,\"#fde0ef\"],[0.5,\"#f7f7f7\"],[0.6,\"#e6f5d0\"],[0.7,\"#b8e186\"],[0.8,\"#7fbc41\"],[0.9,\"#4d9221\"],[1,\"#276419\"]]},\"xaxis\":{\"gridcolor\":\"white\",\"linecolor\":\"white\",\"ticks\":\"\",\"title\":{\"standoff\":15},\"zerolinecolor\":\"white\",\"automargin\":true,\"zerolinewidth\":2},\"yaxis\":{\"gridcolor\":\"white\",\"linecolor\":\"white\",\"ticks\":\"\",\"title\":{\"standoff\":15},\"zerolinecolor\":\"white\",\"automargin\":true,\"zerolinewidth\":2},\"scene\":{\"xaxis\":{\"backgroundcolor\":\"#E5ECF6\",\"gridcolor\":\"white\",\"linecolor\":\"white\",\"showbackground\":true,\"ticks\":\"\",\"zerolinecolor\":\"white\",\"gridwidth\":2},\"yaxis\":{\"backgroundcolor\":\"#E5ECF6\",\"gridcolor\":\"white\",\"linecolor\":\"white\",\"showbackground\":true,\"ticks\":\"\",\"zerolinecolor\":\"white\",\"gridwidth\":2},\"zaxis\":{\"backgroundcolor\":\"#E5ECF6\",\"gridcolor\":\"white\",\"linecolor\":\"white\",\"showbackground\":true,\"ticks\":\"\",\"zerolinecolor\":\"white\",\"gridwidth\":2}},\"shapedefaults\":{\"line\":{\"color\":\"#2a3f5f\"}},\"annotationdefaults\":{\"arrowcolor\":\"#2a3f5f\",\"arrowhead\":0,\"arrowwidth\":1},\"geo\":{\"bgcolor\":\"white\",\"landcolor\":\"#E5ECF6\",\"subunitcolor\":\"white\",\"showland\":true,\"showlakes\":true,\"lakecolor\":\"white\"},\"title\":{\"x\":0.05},\"mapbox\":{\"style\":\"light\"}}},\"xaxis\":{\"anchor\":\"y\",\"domain\":[0.29647058823529415,0.5729411764705883],\"tickvals\":[0.125,0.375,0.625,0.875],\"ticktext\":[\"Worker\",\"Capital\",\"Energy\",\"Resource\"]},\"yaxis\":{\"anchor\":\"x\",\"domain\":[0.7333333333333333,1.0],\"range\":[0.3,0.7],\"tickvals\":[0.5],\"ticktext\":[\"extraction\"]},\"xaxis2\":{\"anchor\":\"y2\",\"domain\":[0.8894117647058823,1.0],\"range\":[0.3,0.7],\"tickvals\":[0.5],\"ticktext\":[\"Decision-Making\"]},\"yaxis2\":{\"anchor\":\"x2\",\"domain\":[0.0,1.0],\"tickvals\":[0.2,0.5,0.8],\"ticktext\":[\"Ineq\",\"Voice\",\"Gender\"]},\"xaxis3\":{\"anchor\":\"y3\",\"domain\":[0.0,0.27647058823529413],\"tickvals\":[0.125,0.375,0.625,0.875],\"ticktext\":[\"State\",\"Market\",\"Household\",\"Commons\"]},\"yaxis3\":{\"anchor\":\"x3\",\"domain\":[0.36666666666666664,0.6333333333333333],\"range\":[0.3,0.7],\"tickvals\":[0.5],\"ticktext\":[\"realms\"]},\"xaxis4\":{\"anchor\":\"y4\",\"domain\":[0.29647058823529415,0.5729411764705883],\"tickvals\":[0.25,0.5,0.75],\"ticktext\":[\"Agriculture\",\"Industry\",\"Services\"]},\"yaxis4\":{\"anchor\":\"x4\",\"domain\":[0.36666666666666664,0.6333333333333333],\"range\":[0.3,0.7],\"tickvals\":[0.5],\"ticktext\":[\"industry\"]},\"xaxis5\":{\"anchor\":\"y5\",\"domain\":[0.5929411764705883,0.8694117647058824],\"tickvals\":[0.125,0.375,0.625,0.875],\"ticktext\":[\"Complexity\",\"Exports\",\"ResourceRents\",\"Concentration\"]},\"yaxis5\":{\"anchor\":\"x5\",\"domain\":[0.36666666666666664,0.6333333333333333],\"range\":[0.3,0.7],\"tickvals\":[0.5],\"ticktext\":[\"foundational\"]},\"xaxis6\":{\"anchor\":\"y6\",\"domain\":[0.29647058823529415,0.5729411764705883],\"tickvals\":[0.125,0.375,0.625,0.875],\"ticktext\":[\"Accumulation\",\"Needs\",\"HDI\",\"Waste\"]},\"yaxis6\":{\"anchor\":\"x6\",\"domain\":[0.0,0.26666666666666666],\"range\":[0.3,0.7],\"tickvals\":[0.5],\"ticktext\":[\"dissipation\"]},\"annotations\":[{\"font\":{\"size\":18},\"showarrow\":false,\"text\":\"Year: 2000\",\"x\":0,\"xref\":\"paper\",\"y\":0.95,\"yref\":\"paper\"},{\"font\":{\"size\":18},\"showarrow\":false,\"text\":\"Country: Kazakhstan\",\"x\":0,\"xref\":\"paper\",\"y\":0.85,\"yref\":\"paper\"}],\"updatemenus\":[{\"buttons\":[{\"args\":[null,{\"frame\":{\"duration\":1000}}],\"label\":\"Play\",\"method\":\"animate\"},{\"args\":[[null],{\"frame\":{\"duration\":0,\"redraw\":false}}],\"label\":\"Pause\",\"method\":\"animate\"}],\"showactive\":false,\"type\":\"buttons\"}],\"showlegend\":false},                        {\"responsive\": true}                    ).then(function(){\n                            Plotly.addFrames('f5e92c0a-ab34-49a9-827b-2f8f58f83e36', [{\"data\":[{\"hovertemplate\":\"unemployed: 0.73\",\"marker\":{\"color\":\"red\",\"opacity\":0.4,\"size\":17.011458883015937},\"mode\":\"markers\",\"x\":[0.125],\"xaxis\":\"x\",\"y\":[0.5],\"yaxis\":\"y\",\"type\":\"scatter\"},{\"hovertemplate\":\"wealth: -0.61\",\"marker\":{\"color\":\"red\",\"opacity\":0.4,\"size\":14.27159666594122},\"mode\":\"markers\",\"x\":[0.375],\"xaxis\":\"x\",\"y\":[0.5],\"yaxis\":\"y\",\"type\":\"scatter\"},{\"hovertemplate\":\"energy: 0.19\",\"marker\":{\"color\":\"green\",\"opacity\":0.4,\"size\":4.422514120831626},\"mode\":\"markers\",\"x\":[0.625],\"xaxis\":\"x\",\"y\":[0.5],\"yaxis\":\"y\",\"type\":\"scatter\"},{\"hovertemplate\":\"placeholder: 0.1\",\"marker\":{\"color\":\"green\",\"opacity\":0.4,\"size\":2.3333333333333335},\"mode\":\"markers\",\"x\":[0.875],\"xaxis\":\"x\",\"y\":[0.5],\"yaxis\":\"y\",\"type\":\"scatter\"},{\"hovertemplate\":\"govconsum: -0.61\",\"marker\":{\"color\":\"red\",\"opacity\":0.4,\"size\":14.330022713305029},\"mode\":\"markers\",\"x\":[0.125],\"xaxis\":\"x3\",\"y\":[0.5],\"yaxis\":\"y3\",\"type\":\"scatter\"},{\"hovertemplate\":\"marketcap: nan\",\"marker\":{\"color\":\"grey\",\"opacity\":0.2,\"size\":7.0},\"mode\":\"markers\",\"x\":[0.375],\"xaxis\":\"x3\",\"y\":[0.5],\"yaxis\":\"y3\",\"type\":\"scatter\"},{\"hovertemplate\":\"houseconsum: -0.11\",\"marker\":{\"color\":\"red\",\"opacity\":0.4,\"size\":2.530331561801811},\"mode\":\"markers\",\"x\":[0.625],\"xaxis\":\"x3\",\"y\":[0.5],\"yaxis\":\"y3\",\"type\":\"scatter\"},{\"hovertemplate\":\"placeholder: 0.1\",\"marker\":{\"color\":\"green\",\"opacity\":0.4,\"size\":2.3333333333333335},\"mode\":\"markers\",\"x\":[0.875],\"xaxis\":\"x3\",\"y\":[0.5],\"yaxis\":\"y3\",\"type\":\"scatter\"},{\"hovertemplate\":\"agriculture: 0.35\",\"marker\":{\"color\":\"green\",\"opacity\":0.4,\"size\":8.082269501536025},\"mode\":\"markers\",\"x\":[0.25],\"xaxis\":\"x4\",\"y\":[0.5],\"yaxis\":\"y4\",\"type\":\"scatter\"},{\"hovertemplate\":\"industry: 1.04\",\"marker\":{\"color\":\"green\",\"opacity\":0.4,\"size\":24.29978630103415},\"mode\":\"markers\",\"x\":[0.5],\"xaxis\":\"x4\",\"y\":[0.5],\"yaxis\":\"y4\",\"type\":\"scatter\"},{\"hovertemplate\":\"services: -0.55\",\"marker\":{\"color\":\"red\",\"opacity\":0.4,\"size\":12.731494894804271},\"mode\":\"markers\",\"x\":[0.75],\"xaxis\":\"x4\",\"y\":[0.5],\"yaxis\":\"y4\",\"type\":\"scatter\"},{\"hovertemplate\":\"eci: -0.21\",\"marker\":{\"color\":\"red\",\"opacity\":0.4,\"size\":4.957897269740603},\"mode\":\"markers\",\"x\":[0.125],\"xaxis\":\"x5\",\"y\":[0.5],\"yaxis\":\"y5\",\"type\":\"scatter\"},{\"hovertemplate\":\"exports: 0.71\",\"marker\":{\"color\":\"green\",\"opacity\":0.4,\"size\":16.641869379187707},\"mode\":\"markers\",\"x\":[0.375],\"xaxis\":\"x5\",\"y\":[0.5],\"yaxis\":\"y5\",\"type\":\"scatter\"},{\"hovertemplate\":\"resourcerents: 1.41\",\"marker\":{\"color\":\"green\",\"opacity\":0.4,\"size\":33.00274460995089},\"mode\":\"markers\",\"x\":[0.625],\"xaxis\":\"x5\",\"y\":[0.5],\"yaxis\":\"y5\",\"type\":\"scatter\"},{\"hovertemplate\":\"concentration: -0.47\",\"marker\":{\"color\":\"red\",\"opacity\":0.4,\"size\":10.881663791169386},\"mode\":\"markers\",\"x\":[0.875],\"xaxis\":\"x5\",\"y\":[0.5],\"yaxis\":\"y5\",\"type\":\"scatter\"},{\"hovertemplate\":\"grosscapital: -0.61\",\"marker\":{\"color\":\"red\",\"opacity\":0.4,\"size\":14.132950798173631},\"mode\":\"markers\",\"x\":[0.125],\"xaxis\":\"x6\",\"y\":[0.5],\"yaxis\":\"y6\",\"type\":\"scatter\"},{\"hovertemplate\":\"lifeexpectancy: -0.78\",\"marker\":{\"color\":\"red\",\"opacity\":0.4,\"size\":18.24709667203157},\"mode\":\"markers\",\"x\":[0.375],\"xaxis\":\"x6\",\"y\":[0.5],\"yaxis\":\"y6\",\"type\":\"scatter\"},{\"hovertemplate\":\"education: 0.18\",\"marker\":{\"color\":\"green\",\"opacity\":0.4,\"size\":4.127861973640495},\"mode\":\"markers\",\"x\":[0.625],\"xaxis\":\"x6\",\"y\":[0.5],\"yaxis\":\"y6\",\"type\":\"scatter\"},{\"hovertemplate\":\"mfootprint: -0.34\",\"marker\":{\"color\":\"red\",\"opacity\":0.4,\"size\":7.988135813593521},\"mode\":\"markers\",\"x\":[0.875],\"xaxis\":\"x6\",\"y\":[0.5],\"yaxis\":\"y6\",\"type\":\"scatter\"},{\"hovertemplate\":\"gini: nan\",\"marker\":{\"color\":\"grey\",\"opacity\":0.2,\"size\":7.0},\"mode\":\"markers\",\"x\":[0.5],\"xaxis\":\"x2\",\"y\":[0.2],\"yaxis\":\"y2\",\"type\":\"scatter\"},{\"hovertemplate\":\"voice: 0.97\",\"marker\":{\"color\":\"red\",\"opacity\":0.4,\"size\":22.669273772331476},\"mode\":\"markers\",\"x\":[0.5],\"xaxis\":\"x2\",\"y\":[0.5],\"yaxis\":\"y2\",\"type\":\"scatter\"},{\"hovertemplate\":\"femaleminister: nan\",\"marker\":{\"color\":\"grey\",\"opacity\":0.2,\"size\":7.0},\"mode\":\"markers\",\"x\":[0.5],\"xaxis\":\"x2\",\"y\":[0.8],\"yaxis\":\"y2\",\"type\":\"scatter\"}],\"layout\":{\"annotations\":[{\"font\":{\"size\":18},\"showarrow\":false,\"text\":\"Year: 2000\",\"x\":0,\"xref\":\"paper\",\"y\":0.95,\"yref\":\"paper\"},{\"font\":{\"size\":18},\"showarrow\":false,\"text\":\"Country: Kazakhstan\",\"x\":0,\"xref\":\"paper\",\"y\":0.85,\"yref\":\"paper\"}]},\"name\":\"2000\"},{\"data\":[{\"hovertemplate\":\"unemployed: 0.5\",\"marker\":{\"color\":\"red\",\"opacity\":0.4,\"size\":11.748221584755193},\"mode\":\"markers\",\"x\":[0.125],\"xaxis\":\"x\",\"y\":[0.5],\"yaxis\":\"y\",\"type\":\"scatter\"},{\"hovertemplate\":\"wealth: -0.58\",\"marker\":{\"color\":\"red\",\"opacity\":0.4,\"size\":13.565724168004522},\"mode\":\"markers\",\"x\":[0.375],\"xaxis\":\"x\",\"y\":[0.5],\"yaxis\":\"y\",\"type\":\"scatter\"},{\"hovertemplate\":\"energy: 0.17\",\"marker\":{\"color\":\"green\",\"opacity\":0.4,\"size\":3.9994208799114856},\"mode\":\"markers\",\"x\":[0.625],\"xaxis\":\"x\",\"y\":[0.5],\"yaxis\":\"y\",\"type\":\"scatter\"},{\"hovertemplate\":\"placeholder: 0.1\",\"marker\":{\"color\":\"green\",\"opacity\":0.4,\"size\":2.3333333333333335},\"mode\":\"markers\",\"x\":[0.875],\"xaxis\":\"x\",\"y\":[0.5],\"yaxis\":\"y\",\"type\":\"scatter\"},{\"hovertemplate\":\"govconsum: -0.46\",\"marker\":{\"color\":\"red\",\"opacity\":0.4,\"size\":10.762906017075343},\"mode\":\"markers\",\"x\":[0.125],\"xaxis\":\"x3\",\"y\":[0.5],\"yaxis\":\"y3\",\"type\":\"scatter\"},{\"hovertemplate\":\"marketcap: nan\",\"marker\":{\"color\":\"grey\",\"opacity\":0.2,\"size\":7.0},\"mode\":\"markers\",\"x\":[0.375],\"xaxis\":\"x3\",\"y\":[0.5],\"yaxis\":\"y3\",\"type\":\"scatter\"},{\"hovertemplate\":\"houseconsum: -0.33\",\"marker\":{\"color\":\"red\",\"opacity\":0.4,\"size\":7.669930486864914},\"mode\":\"markers\",\"x\":[0.625],\"xaxis\":\"x3\",\"y\":[0.5],\"yaxis\":\"y3\",\"type\":\"scatter\"},{\"hovertemplate\":\"placeholder: 0.1\",\"marker\":{\"color\":\"green\",\"opacity\":0.4,\"size\":2.3333333333333335},\"mode\":\"markers\",\"x\":[0.875],\"xaxis\":\"x3\",\"y\":[0.5],\"yaxis\":\"y3\",\"type\":\"scatter\"},{\"hovertemplate\":\"agriculture: 0.4\",\"marker\":{\"color\":\"green\",\"opacity\":0.4,\"size\":9.28745160096818},\"mode\":\"markers\",\"x\":[0.25],\"xaxis\":\"x4\",\"y\":[0.5],\"yaxis\":\"y4\",\"type\":\"scatter\"},{\"hovertemplate\":\"industry: 0.95\",\"marker\":{\"color\":\"green\",\"opacity\":0.4,\"size\":22.1793632706869},\"mode\":\"markers\",\"x\":[0.5],\"xaxis\":\"x4\",\"y\":[0.5],\"yaxis\":\"y4\",\"type\":\"scatter\"},{\"hovertemplate\":\"services: -0.46\",\"marker\":{\"color\":\"red\",\"opacity\":0.4,\"size\":10.76300701115026},\"mode\":\"markers\",\"x\":[0.75],\"xaxis\":\"x4\",\"y\":[0.5],\"yaxis\":\"y4\",\"type\":\"scatter\"},{\"hovertemplate\":\"eci: -0.1\",\"marker\":{\"color\":\"red\",\"opacity\":0.4,\"size\":2.324807848139109},\"mode\":\"markers\",\"x\":[0.125],\"xaxis\":\"x5\",\"y\":[0.5],\"yaxis\":\"y5\",\"type\":\"scatter\"},{\"hovertemplate\":\"exports: 0.4\",\"marker\":{\"color\":\"green\",\"opacity\":0.4,\"size\":9.423700686846049},\"mode\":\"markers\",\"x\":[0.375],\"xaxis\":\"x5\",\"y\":[0.5],\"yaxis\":\"y5\",\"type\":\"scatter\"},{\"hovertemplate\":\"resourcerents: 1.29\",\"marker\":{\"color\":\"green\",\"opacity\":0.4,\"size\":30.052172291678723},\"mode\":\"markers\",\"x\":[0.625],\"xaxis\":\"x5\",\"y\":[0.5],\"yaxis\":\"y5\",\"type\":\"scatter\"},{\"hovertemplate\":\"concentration: -0.39\",\"marker\":{\"color\":\"red\",\"opacity\":0.4,\"size\":9.20156891051896},\"mode\":\"markers\",\"x\":[0.875],\"xaxis\":\"x5\",\"y\":[0.5],\"yaxis\":\"y5\",\"type\":\"scatter\"},{\"hovertemplate\":\"grosscapital: 0.48\",\"marker\":{\"color\":\"green\",\"opacity\":0.4,\"size\":11.248909674094715},\"mode\":\"markers\",\"x\":[0.125],\"xaxis\":\"x6\",\"y\":[0.5],\"yaxis\":\"y6\",\"type\":\"scatter\"},{\"hovertemplate\":\"lifeexpectancy: -0.74\",\"marker\":{\"color\":\"red\",\"opacity\":0.4,\"size\":17.35677334627912},\"mode\":\"markers\",\"x\":[0.375],\"xaxis\":\"x6\",\"y\":[0.5],\"yaxis\":\"y6\",\"type\":\"scatter\"},{\"hovertemplate\":\"education: nan\",\"marker\":{\"color\":\"grey\",\"opacity\":0.2,\"size\":7.0},\"mode\":\"markers\",\"x\":[0.625],\"xaxis\":\"x6\",\"y\":[0.5],\"yaxis\":\"y6\",\"type\":\"scatter\"},{\"hovertemplate\":\"mfootprint: -0.19\",\"marker\":{\"color\":\"red\",\"opacity\":0.4,\"size\":4.456475558269504},\"mode\":\"markers\",\"x\":[0.875],\"xaxis\":\"x6\",\"y\":[0.5],\"yaxis\":\"y6\",\"type\":\"scatter\"},{\"hovertemplate\":\"gini: -0.38\",\"marker\":{\"color\":\"green\",\"opacity\":0.4,\"size\":8.893054215931917},\"mode\":\"markers\",\"x\":[0.5],\"xaxis\":\"x2\",\"y\":[0.2],\"yaxis\":\"y2\",\"type\":\"scatter\"},{\"hovertemplate\":\"voice: nan\",\"marker\":{\"color\":\"grey\",\"opacity\":0.2,\"size\":7.0},\"mode\":\"markers\",\"x\":[0.5],\"xaxis\":\"x2\",\"y\":[0.5],\"yaxis\":\"y2\",\"type\":\"scatter\"},{\"hovertemplate\":\"femaleminister: nan\",\"marker\":{\"color\":\"grey\",\"opacity\":0.2,\"size\":7.0},\"mode\":\"markers\",\"x\":[0.5],\"xaxis\":\"x2\",\"y\":[0.8],\"yaxis\":\"y2\",\"type\":\"scatter\"}],\"layout\":{\"annotations\":[{\"font\":{\"size\":18},\"showarrow\":false,\"text\":\"Year: 2001\",\"x\":0,\"xref\":\"paper\",\"y\":0.95,\"yref\":\"paper\"},{\"font\":{\"size\":18},\"showarrow\":false,\"text\":\"Country: Kazakhstan\",\"x\":0,\"xref\":\"paper\",\"y\":0.85,\"yref\":\"paper\"}]},\"name\":\"2001\"},{\"data\":[{\"hovertemplate\":\"unemployed: 0.38\",\"marker\":{\"color\":\"red\",\"opacity\":0.4,\"size\":8.827589304993694},\"mode\":\"markers\",\"x\":[0.125],\"xaxis\":\"x\",\"y\":[0.5],\"yaxis\":\"y\",\"type\":\"scatter\"},{\"hovertemplate\":\"wealth: -0.56\",\"marker\":{\"color\":\"red\",\"opacity\":0.4,\"size\":13.005944919419543},\"mode\":\"markers\",\"x\":[0.375],\"xaxis\":\"x\",\"y\":[0.5],\"yaxis\":\"y\",\"type\":\"scatter\"},{\"hovertemplate\":\"energy: 0.25\",\"marker\":{\"color\":\"green\",\"opacity\":0.4,\"size\":5.733880454314833},\"mode\":\"markers\",\"x\":[0.625],\"xaxis\":\"x\",\"y\":[0.5],\"yaxis\":\"y\",\"type\":\"scatter\"},{\"hovertemplate\":\"placeholder: 0.1\",\"marker\":{\"color\":\"green\",\"opacity\":0.4,\"size\":2.3333333333333335},\"mode\":\"markers\",\"x\":[0.875],\"xaxis\":\"x\",\"y\":[0.5],\"yaxis\":\"y\",\"type\":\"scatter\"},{\"hovertemplate\":\"govconsum: -0.67\",\"marker\":{\"color\":\"red\",\"opacity\":0.4,\"size\":15.576469987906279},\"mode\":\"markers\",\"x\":[0.125],\"xaxis\":\"x3\",\"y\":[0.5],\"yaxis\":\"y3\",\"type\":\"scatter\"},{\"hovertemplate\":\"marketcap: -0.48\",\"marker\":{\"color\":\"red\",\"opacity\":0.4,\"size\":11.094995765203937},\"mode\":\"markers\",\"x\":[0.375],\"xaxis\":\"x3\",\"y\":[0.5],\"yaxis\":\"y3\",\"type\":\"scatter\"},{\"hovertemplate\":\"houseconsum: -0.51\",\"marker\":{\"color\":\"red\",\"opacity\":0.4,\"size\":11.954491561717388},\"mode\":\"markers\",\"x\":[0.625],\"xaxis\":\"x3\",\"y\":[0.5],\"yaxis\":\"y3\",\"type\":\"scatter\"},{\"hovertemplate\":\"placeholder: 0.1\",\"marker\":{\"color\":\"green\",\"opacity\":0.4,\"size\":2.3333333333333335},\"mode\":\"markers\",\"x\":[0.875],\"xaxis\":\"x3\",\"y\":[0.5],\"yaxis\":\"y3\",\"type\":\"scatter\"},{\"hovertemplate\":\"agriculture: 0.34\",\"marker\":{\"color\":\"green\",\"opacity\":0.4,\"size\":7.846703612210225},\"mode\":\"markers\",\"x\":[0.25],\"xaxis\":\"x4\",\"y\":[0.5],\"yaxis\":\"y4\",\"type\":\"scatter\"},{\"hovertemplate\":\"industry: 0.93\",\"marker\":{\"color\":\"green\",\"opacity\":0.4,\"size\":21.738303569586783},\"mode\":\"markers\",\"x\":[0.5],\"xaxis\":\"x4\",\"y\":[0.5],\"yaxis\":\"y4\",\"type\":\"scatter\"},{\"hovertemplate\":\"services: -0.37\",\"marker\":{\"color\":\"red\",\"opacity\":0.4,\"size\":8.62303337351386},\"mode\":\"markers\",\"x\":[0.75],\"xaxis\":\"x4\",\"y\":[0.5],\"yaxis\":\"y4\",\"type\":\"scatter\"},{\"hovertemplate\":\"eci: -0.14\",\"marker\":{\"color\":\"red\",\"opacity\":0.4,\"size\":3.3659932107857156},\"mode\":\"markers\",\"x\":[0.125],\"xaxis\":\"x5\",\"y\":[0.5],\"yaxis\":\"y5\",\"type\":\"scatter\"},{\"hovertemplate\":\"exports: 0.44\",\"marker\":{\"color\":\"green\",\"opacity\":0.4,\"size\":10.235784121286638},\"mode\":\"markers\",\"x\":[0.375],\"xaxis\":\"x5\",\"y\":[0.5],\"yaxis\":\"y5\",\"type\":\"scatter\"},{\"hovertemplate\":\"resourcerents: 1.33\",\"marker\":{\"color\":\"green\",\"opacity\":0.4,\"size\":31.126874200650036},\"mode\":\"markers\",\"x\":[0.625],\"xaxis\":\"x5\",\"y\":[0.5],\"yaxis\":\"y5\",\"type\":\"scatter\"},{\"hovertemplate\":\"concentration: -0.51\",\"marker\":{\"color\":\"red\",\"opacity\":0.4,\"size\":11.89492105221533},\"mode\":\"markers\",\"x\":[0.875],\"xaxis\":\"x5\",\"y\":[0.5],\"yaxis\":\"y5\",\"type\":\"scatter\"},{\"hovertemplate\":\"grosscapital: 0.52\",\"marker\":{\"color\":\"green\",\"opacity\":0.4,\"size\":12.229335935982938},\"mode\":\"markers\",\"x\":[0.125],\"xaxis\":\"x6\",\"y\":[0.5],\"yaxis\":\"y6\",\"type\":\"scatter\"},{\"hovertemplate\":\"lifeexpectancy: -0.72\",\"marker\":{\"color\":\"red\",\"opacity\":0.4,\"size\":16.811091307914726},\"mode\":\"markers\",\"x\":[0.375],\"xaxis\":\"x6\",\"y\":[0.5],\"yaxis\":\"y6\",\"type\":\"scatter\"},{\"hovertemplate\":\"education: nan\",\"marker\":{\"color\":\"grey\",\"opacity\":0.2,\"size\":7.0},\"mode\":\"markers\",\"x\":[0.625],\"xaxis\":\"x6\",\"y\":[0.5],\"yaxis\":\"y6\",\"type\":\"scatter\"},{\"hovertemplate\":\"mfootprint: -0.22\",\"marker\":{\"color\":\"red\",\"opacity\":0.4,\"size\":5.126421100997681},\"mode\":\"markers\",\"x\":[0.875],\"xaxis\":\"x6\",\"y\":[0.5],\"yaxis\":\"y6\",\"type\":\"scatter\"},{\"hovertemplate\":\"gini: -0.48\",\"marker\":{\"color\":\"green\",\"opacity\":0.4,\"size\":11.212981402696773},\"mode\":\"markers\",\"x\":[0.5],\"xaxis\":\"x2\",\"y\":[0.2],\"yaxis\":\"y2\",\"type\":\"scatter\"},{\"hovertemplate\":\"voice: 1.03\",\"marker\":{\"color\":\"red\",\"opacity\":0.4,\"size\":24.06483236520422},\"mode\":\"markers\",\"x\":[0.5],\"xaxis\":\"x2\",\"y\":[0.5],\"yaxis\":\"y2\",\"type\":\"scatter\"},{\"hovertemplate\":\"femaleminister: nan\",\"marker\":{\"color\":\"grey\",\"opacity\":0.2,\"size\":7.0},\"mode\":\"markers\",\"x\":[0.5],\"xaxis\":\"x2\",\"y\":[0.8],\"yaxis\":\"y2\",\"type\":\"scatter\"}],\"layout\":{\"annotations\":[{\"font\":{\"size\":18},\"showarrow\":false,\"text\":\"Year: 2002\",\"x\":0,\"xref\":\"paper\",\"y\":0.95,\"yref\":\"paper\"},{\"font\":{\"size\":18},\"showarrow\":false,\"text\":\"Country: Kazakhstan\",\"x\":0,\"xref\":\"paper\",\"y\":0.85,\"yref\":\"paper\"}]},\"name\":\"2002\"},{\"data\":[{\"hovertemplate\":\"unemployed: 0.31\",\"marker\":{\"color\":\"red\",\"opacity\":0.4,\"size\":7.235381564979447},\"mode\":\"markers\",\"x\":[0.125],\"xaxis\":\"x\",\"y\":[0.5],\"yaxis\":\"y\",\"type\":\"scatter\"},{\"hovertemplate\":\"wealth: -0.53\",\"marker\":{\"color\":\"red\",\"opacity\":0.4,\"size\":12.318156491022098},\"mode\":\"markers\",\"x\":[0.375],\"xaxis\":\"x\",\"y\":[0.5],\"yaxis\":\"y\",\"type\":\"scatter\"},{\"hovertemplate\":\"energy: 0.29\",\"marker\":{\"color\":\"green\",\"opacity\":0.4,\"size\":6.668310254554559},\"mode\":\"markers\",\"x\":[0.625],\"xaxis\":\"x\",\"y\":[0.5],\"yaxis\":\"y\",\"type\":\"scatter\"},{\"hovertemplate\":\"placeholder: 0.1\",\"marker\":{\"color\":\"green\",\"opacity\":0.4,\"size\":2.3333333333333335},\"mode\":\"markers\",\"x\":[0.875],\"xaxis\":\"x\",\"y\":[0.5],\"yaxis\":\"y\",\"type\":\"scatter\"},{\"hovertemplate\":\"govconsum: -0.71\",\"marker\":{\"color\":\"red\",\"opacity\":0.4,\"size\":16.5153023386309},\"mode\":\"markers\",\"x\":[0.125],\"xaxis\":\"x3\",\"y\":[0.5],\"yaxis\":\"y3\",\"type\":\"scatter\"},{\"hovertemplate\":\"marketcap: -0.46\",\"marker\":{\"color\":\"red\",\"opacity\":0.4,\"size\":10.63029815888472},\"mode\":\"markers\",\"x\":[0.375],\"xaxis\":\"x3\",\"y\":[0.5],\"yaxis\":\"y3\",\"type\":\"scatter\"},{\"hovertemplate\":\"houseconsum: -0.52\",\"marker\":{\"color\":\"red\",\"opacity\":0.4,\"size\":12.102059724444096},\"mode\":\"markers\",\"x\":[0.625],\"xaxis\":\"x3\",\"y\":[0.5],\"yaxis\":\"y3\",\"type\":\"scatter\"},{\"hovertemplate\":\"placeholder: 0.1\",\"marker\":{\"color\":\"green\",\"opacity\":0.4,\"size\":2.3333333333333335},\"mode\":\"markers\",\"x\":[0.875],\"xaxis\":\"x3\",\"y\":[0.5],\"yaxis\":\"y3\",\"type\":\"scatter\"},{\"hovertemplate\":\"agriculture: 0.32\",\"marker\":{\"color\":\"green\",\"opacity\":0.4,\"size\":7.56822825393166},\"mode\":\"markers\",\"x\":[0.25],\"xaxis\":\"x4\",\"y\":[0.5],\"yaxis\":\"y4\",\"type\":\"scatter\"},{\"hovertemplate\":\"industry: 0.89\",\"marker\":{\"color\":\"green\",\"opacity\":0.4,\"size\":20.742937861983542},\"mode\":\"markers\",\"x\":[0.5],\"xaxis\":\"x4\",\"y\":[0.5],\"yaxis\":\"y4\",\"type\":\"scatter\"},{\"hovertemplate\":\"services: -0.26\",\"marker\":{\"color\":\"red\",\"opacity\":0.4,\"size\":6.056589743317042},\"mode\":\"markers\",\"x\":[0.75],\"xaxis\":\"x4\",\"y\":[0.5],\"yaxis\":\"y4\",\"type\":\"scatter\"},{\"hovertemplate\":\"eci: -0.18\",\"marker\":{\"color\":\"red\",\"opacity\":0.4,\"size\":4.1926940468023455},\"mode\":\"markers\",\"x\":[0.125],\"xaxis\":\"x5\",\"y\":[0.5],\"yaxis\":\"y5\",\"type\":\"scatter\"},{\"hovertemplate\":\"exports: 0.48\",\"marker\":{\"color\":\"green\",\"opacity\":0.4,\"size\":11.265110556661325},\"mode\":\"markers\",\"x\":[0.375],\"xaxis\":\"x5\",\"y\":[0.5],\"yaxis\":\"y5\",\"type\":\"scatter\"},{\"hovertemplate\":\"resourcerents: 1.33\",\"marker\":{\"color\":\"green\",\"opacity\":0.4,\"size\":31.026301329556944},\"mode\":\"markers\",\"x\":[0.625],\"xaxis\":\"x5\",\"y\":[0.5],\"yaxis\":\"y5\",\"type\":\"scatter\"},{\"hovertemplate\":\"concentration: -0.45\",\"marker\":{\"color\":\"red\",\"opacity\":0.4,\"size\":10.569587659968853},\"mode\":\"markers\",\"x\":[0.875],\"xaxis\":\"x5\",\"y\":[0.5],\"yaxis\":\"y5\",\"type\":\"scatter\"},{\"hovertemplate\":\"grosscapital: 0.36\",\"marker\":{\"color\":\"green\",\"opacity\":0.4,\"size\":8.369359812544392},\"mode\":\"markers\",\"x\":[0.125],\"xaxis\":\"x6\",\"y\":[0.5],\"yaxis\":\"y6\",\"type\":\"scatter\"},{\"hovertemplate\":\"lifeexpectancy: -0.75\",\"marker\":{\"color\":\"red\",\"opacity\":0.4,\"size\":17.414213560843823},\"mode\":\"markers\",\"x\":[0.375],\"xaxis\":\"x6\",\"y\":[0.5],\"yaxis\":\"y6\",\"type\":\"scatter\"},{\"hovertemplate\":\"education: nan\",\"marker\":{\"color\":\"grey\",\"opacity\":0.2,\"size\":7.0},\"mode\":\"markers\",\"x\":[0.625],\"xaxis\":\"x6\",\"y\":[0.5],\"yaxis\":\"y6\",\"type\":\"scatter\"},{\"hovertemplate\":\"mfootprint: 0.11\",\"marker\":{\"color\":\"green\",\"opacity\":0.4,\"size\":2.4883621939158522},\"mode\":\"markers\",\"x\":[0.875],\"xaxis\":\"x6\",\"y\":[0.5],\"yaxis\":\"y6\",\"type\":\"scatter\"},{\"hovertemplate\":\"gini: -0.57\",\"marker\":{\"color\":\"green\",\"opacity\":0.4,\"size\":13.339581323897875},\"mode\":\"markers\",\"x\":[0.5],\"xaxis\":\"x2\",\"y\":[0.2],\"yaxis\":\"y2\",\"type\":\"scatter\"},{\"hovertemplate\":\"voice: 1.04\",\"marker\":{\"color\":\"red\",\"opacity\":0.4,\"size\":24.308910214539132},\"mode\":\"markers\",\"x\":[0.5],\"xaxis\":\"x2\",\"y\":[0.5],\"yaxis\":\"y2\",\"type\":\"scatter\"},{\"hovertemplate\":\"femaleminister: nan\",\"marker\":{\"color\":\"grey\",\"opacity\":0.2,\"size\":7.0},\"mode\":\"markers\",\"x\":[0.5],\"xaxis\":\"x2\",\"y\":[0.8],\"yaxis\":\"y2\",\"type\":\"scatter\"}],\"layout\":{\"annotations\":[{\"font\":{\"size\":18},\"showarrow\":false,\"text\":\"Year: 2003\",\"x\":0,\"xref\":\"paper\",\"y\":0.95,\"yref\":\"paper\"},{\"font\":{\"size\":18},\"showarrow\":false,\"text\":\"Country: Kazakhstan\",\"x\":0,\"xref\":\"paper\",\"y\":0.85,\"yref\":\"paper\"}]},\"name\":\"2003\"},{\"data\":[{\"hovertemplate\":\"unemployed: 0.26\",\"marker\":{\"color\":\"red\",\"opacity\":0.4,\"size\":6.0759284456717095},\"mode\":\"markers\",\"x\":[0.125],\"xaxis\":\"x\",\"y\":[0.5],\"yaxis\":\"y\",\"type\":\"scatter\"},{\"hovertemplate\":\"wealth: -0.49\",\"marker\":{\"color\":\"red\",\"opacity\":0.4,\"size\":11.513066709775481},\"mode\":\"markers\",\"x\":[0.375],\"xaxis\":\"x\",\"y\":[0.5],\"yaxis\":\"y\",\"type\":\"scatter\"},{\"hovertemplate\":\"energy: 0.37\",\"marker\":{\"color\":\"green\",\"opacity\":0.4,\"size\":8.585657711507384},\"mode\":\"markers\",\"x\":[0.625],\"xaxis\":\"x\",\"y\":[0.5],\"yaxis\":\"y\",\"type\":\"scatter\"},{\"hovertemplate\":\"placeholder: 0.1\",\"marker\":{\"color\":\"green\",\"opacity\":0.4,\"size\":2.3333333333333335},\"mode\":\"markers\",\"x\":[0.875],\"xaxis\":\"x\",\"y\":[0.5],\"yaxis\":\"y\",\"type\":\"scatter\"},{\"hovertemplate\":\"govconsum: -0.67\",\"marker\":{\"color\":\"red\",\"opacity\":0.4,\"size\":15.563139001499039},\"mode\":\"markers\",\"x\":[0.125],\"xaxis\":\"x3\",\"y\":[0.5],\"yaxis\":\"y3\",\"type\":\"scatter\"},{\"hovertemplate\":\"marketcap: -0.45\",\"marker\":{\"color\":\"red\",\"opacity\":0.4,\"size\":10.406713043657666},\"mode\":\"markers\",\"x\":[0.375],\"xaxis\":\"x3\",\"y\":[0.5],\"yaxis\":\"y3\",\"type\":\"scatter\"},{\"hovertemplate\":\"houseconsum: -0.57\",\"marker\":{\"color\":\"red\",\"opacity\":0.4,\"size\":13.333015713395604},\"mode\":\"markers\",\"x\":[0.625],\"xaxis\":\"x3\",\"y\":[0.5],\"yaxis\":\"y3\",\"type\":\"scatter\"},{\"hovertemplate\":\"placeholder: 0.1\",\"marker\":{\"color\":\"green\",\"opacity\":0.4,\"size\":2.3333333333333335},\"mode\":\"markers\",\"x\":[0.875],\"xaxis\":\"x3\",\"y\":[0.5],\"yaxis\":\"y3\",\"type\":\"scatter\"},{\"hovertemplate\":\"agriculture: 0.25\",\"marker\":{\"color\":\"green\",\"opacity\":0.4,\"size\":5.937550899849966},\"mode\":\"markers\",\"x\":[0.25],\"xaxis\":\"x4\",\"y\":[0.5],\"yaxis\":\"y4\",\"type\":\"scatter\"},{\"hovertemplate\":\"industry: 0.91\",\"marker\":{\"color\":\"green\",\"opacity\":0.4,\"size\":21.119576527054928},\"mode\":\"markers\",\"x\":[0.5],\"xaxis\":\"x4\",\"y\":[0.5],\"yaxis\":\"y4\",\"type\":\"scatter\"},{\"hovertemplate\":\"services: -0.14\",\"marker\":{\"color\":\"red\",\"opacity\":0.4,\"size\":3.1783161331792704},\"mode\":\"markers\",\"x\":[0.75],\"xaxis\":\"x4\",\"y\":[0.5],\"yaxis\":\"y4\",\"type\":\"scatter\"},{\"hovertemplate\":\"eci: -0.5\",\"marker\":{\"color\":\"red\",\"opacity\":0.4,\"size\":11.657937656318593},\"mode\":\"markers\",\"x\":[0.125],\"xaxis\":\"x5\",\"y\":[0.5],\"yaxis\":\"y5\",\"type\":\"scatter\"},{\"hovertemplate\":\"exports: 0.6\",\"marker\":{\"color\":\"green\",\"opacity\":0.4,\"size\":14.05225866178031},\"mode\":\"markers\",\"x\":[0.375],\"xaxis\":\"x5\",\"y\":[0.5],\"yaxis\":\"y5\",\"type\":\"scatter\"},{\"hovertemplate\":\"resourcerents: 1.43\",\"marker\":{\"color\":\"green\",\"opacity\":0.4,\"size\":33.37770442890482},\"mode\":\"markers\",\"x\":[0.625],\"xaxis\":\"x5\",\"y\":[0.5],\"yaxis\":\"y5\",\"type\":\"scatter\"},{\"hovertemplate\":\"concentration: -0.54\",\"marker\":{\"color\":\"red\",\"opacity\":0.4,\"size\":12.616999202720542},\"mode\":\"markers\",\"x\":[0.875],\"xaxis\":\"x5\",\"y\":[0.5],\"yaxis\":\"y5\",\"type\":\"scatter\"},{\"hovertemplate\":\"grosscapital: 0.42\",\"marker\":{\"color\":\"green\",\"opacity\":0.4,\"size\":9.876542118244203},\"mode\":\"markers\",\"x\":[0.125],\"xaxis\":\"x6\",\"y\":[0.5],\"yaxis\":\"y6\",\"type\":\"scatter\"},{\"hovertemplate\":\"lifeexpectancy: -0.71\",\"marker\":{\"color\":\"red\",\"opacity\":0.4,\"size\":16.495170127809022},\"mode\":\"markers\",\"x\":[0.375],\"xaxis\":\"x6\",\"y\":[0.5],\"yaxis\":\"y6\",\"type\":\"scatter\"},{\"hovertemplate\":\"education: nan\",\"marker\":{\"color\":\"grey\",\"opacity\":0.2,\"size\":7.0},\"mode\":\"markers\",\"x\":[0.625],\"xaxis\":\"x6\",\"y\":[0.5],\"yaxis\":\"y6\",\"type\":\"scatter\"},{\"hovertemplate\":\"mfootprint: 0.39\",\"marker\":{\"color\":\"green\",\"opacity\":0.4,\"size\":9.191054855035404},\"mode\":\"markers\",\"x\":[0.875],\"xaxis\":\"x6\",\"y\":[0.5],\"yaxis\":\"y6\",\"type\":\"scatter\"},{\"hovertemplate\":\"gini: -0.73\",\"marker\":{\"color\":\"green\",\"opacity\":0.4,\"size\":17.012799369608892},\"mode\":\"markers\",\"x\":[0.5],\"xaxis\":\"x2\",\"y\":[0.2],\"yaxis\":\"y2\",\"type\":\"scatter\"},{\"hovertemplate\":\"voice: 1.06\",\"marker\":{\"color\":\"red\",\"opacity\":0.4,\"size\":24.775052649173524},\"mode\":\"markers\",\"x\":[0.5],\"xaxis\":\"x2\",\"y\":[0.5],\"yaxis\":\"y2\",\"type\":\"scatter\"},{\"hovertemplate\":\"femaleminister: nan\",\"marker\":{\"color\":\"grey\",\"opacity\":0.2,\"size\":7.0},\"mode\":\"markers\",\"x\":[0.5],\"xaxis\":\"x2\",\"y\":[0.8],\"yaxis\":\"y2\",\"type\":\"scatter\"}],\"layout\":{\"annotations\":[{\"font\":{\"size\":18},\"showarrow\":false,\"text\":\"Year: 2004\",\"x\":0,\"xref\":\"paper\",\"y\":0.95,\"yref\":\"paper\"},{\"font\":{\"size\":18},\"showarrow\":false,\"text\":\"Country: Kazakhstan\",\"x\":0,\"xref\":\"paper\",\"y\":0.85,\"yref\":\"paper\"}]},\"name\":\"2004\"},{\"data\":[{\"hovertemplate\":\"unemployed: 0.22\",\"marker\":{\"color\":\"red\",\"opacity\":0.4,\"size\":5.219775304240403},\"mode\":\"markers\",\"x\":[0.125],\"xaxis\":\"x\",\"y\":[0.5],\"yaxis\":\"y\",\"type\":\"scatter\"},{\"hovertemplate\":\"wealth: -0.47\",\"marker\":{\"color\":\"red\",\"opacity\":0.4,\"size\":10.974321762402932},\"mode\":\"markers\",\"x\":[0.375],\"xaxis\":\"x\",\"y\":[0.5],\"yaxis\":\"y\",\"type\":\"scatter\"},{\"hovertemplate\":\"energy: 0.36\",\"marker\":{\"color\":\"green\",\"opacity\":0.4,\"size\":8.397123294424047},\"mode\":\"markers\",\"x\":[0.625],\"xaxis\":\"x\",\"y\":[0.5],\"yaxis\":\"y\",\"type\":\"scatter\"},{\"hovertemplate\":\"placeholder: 0.1\",\"marker\":{\"color\":\"green\",\"opacity\":0.4,\"size\":2.3333333333333335},\"mode\":\"markers\",\"x\":[0.875],\"xaxis\":\"x\",\"y\":[0.5],\"yaxis\":\"y\",\"type\":\"scatter\"},{\"hovertemplate\":\"govconsum: -0.71\",\"marker\":{\"color\":\"red\",\"opacity\":0.4,\"size\":16.53935861747879},\"mode\":\"markers\",\"x\":[0.125],\"xaxis\":\"x3\",\"y\":[0.5],\"yaxis\":\"y3\",\"type\":\"scatter\"},{\"hovertemplate\":\"marketcap: -0.38\",\"marker\":{\"color\":\"red\",\"opacity\":0.4,\"size\":8.766525184812933},\"mode\":\"markers\",\"x\":[0.375],\"xaxis\":\"x3\",\"y\":[0.5],\"yaxis\":\"y3\",\"type\":\"scatter\"},{\"hovertemplate\":\"houseconsum: -0.78\",\"marker\":{\"color\":\"red\",\"opacity\":0.4,\"size\":18.086819493038348},\"mode\":\"markers\",\"x\":[0.625],\"xaxis\":\"x3\",\"y\":[0.5],\"yaxis\":\"y3\",\"type\":\"scatter\"},{\"hovertemplate\":\"placeholder: 0.1\",\"marker\":{\"color\":\"green\",\"opacity\":0.4,\"size\":2.3333333333333335},\"mode\":\"markers\",\"x\":[0.875],\"xaxis\":\"x3\",\"y\":[0.5],\"yaxis\":\"y3\",\"type\":\"scatter\"},{\"hovertemplate\":\"agriculture: 0.18\",\"marker\":{\"color\":\"green\",\"opacity\":0.4,\"size\":4.0912917467529555},\"mode\":\"markers\",\"x\":[0.25],\"xaxis\":\"x4\",\"y\":[0.5],\"yaxis\":\"y4\",\"type\":\"scatter\"},{\"hovertemplate\":\"industry: 1.03\",\"marker\":{\"color\":\"green\",\"opacity\":0.4,\"size\":24.111783946417265},\"mode\":\"markers\",\"x\":[0.5],\"xaxis\":\"x4\",\"y\":[0.5],\"yaxis\":\"y4\",\"type\":\"scatter\"},{\"hovertemplate\":\"services: -0.24\",\"marker\":{\"color\":\"red\",\"opacity\":0.4,\"size\":5.682584982605927},\"mode\":\"markers\",\"x\":[0.75],\"xaxis\":\"x4\",\"y\":[0.5],\"yaxis\":\"y4\",\"type\":\"scatter\"},{\"hovertemplate\":\"eci: -0.32\",\"marker\":{\"color\":\"red\",\"opacity\":0.4,\"size\":7.529708887047562},\"mode\":\"markers\",\"x\":[0.125],\"xaxis\":\"x5\",\"y\":[0.5],\"yaxis\":\"y5\",\"type\":\"scatter\"},{\"hovertemplate\":\"exports: 0.62\",\"marker\":{\"color\":\"green\",\"opacity\":0.4,\"size\":14.504268559599566},\"mode\":\"markers\",\"x\":[0.375],\"xaxis\":\"x5\",\"y\":[0.5],\"yaxis\":\"y5\",\"type\":\"scatter\"},{\"hovertemplate\":\"resourcerents: 1.46\",\"marker\":{\"color\":\"green\",\"opacity\":0.4,\"size\":34.15002252826744},\"mode\":\"markers\",\"x\":[0.625],\"xaxis\":\"x5\",\"y\":[0.5],\"yaxis\":\"y5\",\"type\":\"scatter\"},{\"hovertemplate\":\"concentration: -0.57\",\"marker\":{\"color\":\"red\",\"opacity\":0.4,\"size\":13.298414309584963},\"mode\":\"markers\",\"x\":[0.875],\"xaxis\":\"x5\",\"y\":[0.5],\"yaxis\":\"y5\",\"type\":\"scatter\"},{\"hovertemplate\":\"grosscapital: 0.87\",\"marker\":{\"color\":\"green\",\"opacity\":0.4,\"size\":20.400348454517136},\"mode\":\"markers\",\"x\":[0.125],\"xaxis\":\"x6\",\"y\":[0.5],\"yaxis\":\"y6\",\"type\":\"scatter\"},{\"hovertemplate\":\"lifeexpectancy: -0.73\",\"marker\":{\"color\":\"red\",\"opacity\":0.4,\"size\":17.06957227345577},\"mode\":\"markers\",\"x\":[0.375],\"xaxis\":\"x6\",\"y\":[0.5],\"yaxis\":\"y6\",\"type\":\"scatter\"},{\"hovertemplate\":\"education: nan\",\"marker\":{\"color\":\"grey\",\"opacity\":0.2,\"size\":7.0},\"mode\":\"markers\",\"x\":[0.625],\"xaxis\":\"x6\",\"y\":[0.5],\"yaxis\":\"y6\",\"type\":\"scatter\"},{\"hovertemplate\":\"mfootprint: 0.94\",\"marker\":{\"color\":\"green\",\"opacity\":0.4,\"size\":22.043035052706344},\"mode\":\"markers\",\"x\":[0.875],\"xaxis\":\"x6\",\"y\":[0.5],\"yaxis\":\"y6\",\"type\":\"scatter\"},{\"hovertemplate\":\"gini: -0.07\",\"marker\":{\"color\":\"green\",\"opacity\":0.4,\"size\":1.5466181245098949},\"mode\":\"markers\",\"x\":[0.5],\"xaxis\":\"x2\",\"y\":[0.2],\"yaxis\":\"y2\",\"type\":\"scatter\"},{\"hovertemplate\":\"voice: 1.01\",\"marker\":{\"color\":\"red\",\"opacity\":0.4,\"size\":23.536511742338874},\"mode\":\"markers\",\"x\":[0.5],\"xaxis\":\"x2\",\"y\":[0.5],\"yaxis\":\"y2\",\"type\":\"scatter\"},{\"hovertemplate\":\"femaleminister: 0.1\",\"marker\":{\"color\":\"green\",\"opacity\":0.4,\"size\":2.2911464644485},\"mode\":\"markers\",\"x\":[0.5],\"xaxis\":\"x2\",\"y\":[0.8],\"yaxis\":\"y2\",\"type\":\"scatter\"}],\"layout\":{\"annotations\":[{\"font\":{\"size\":18},\"showarrow\":false,\"text\":\"Year: 2005\",\"x\":0,\"xref\":\"paper\",\"y\":0.95,\"yref\":\"paper\"},{\"font\":{\"size\":18},\"showarrow\":false,\"text\":\"Country: Kazakhstan\",\"x\":0,\"xref\":\"paper\",\"y\":0.85,\"yref\":\"paper\"}]},\"name\":\"2005\"},{\"data\":[{\"hovertemplate\":\"unemployed: 0.18\",\"marker\":{\"color\":\"red\",\"opacity\":0.4,\"size\":4.100276040491133},\"mode\":\"markers\",\"x\":[0.125],\"xaxis\":\"x\",\"y\":[0.5],\"yaxis\":\"y\",\"type\":\"scatter\"},{\"hovertemplate\":\"wealth: -0.44\",\"marker\":{\"color\":\"red\",\"opacity\":0.4,\"size\":10.344896589255528},\"mode\":\"markers\",\"x\":[0.375],\"xaxis\":\"x\",\"y\":[0.5],\"yaxis\":\"y\",\"type\":\"scatter\"},{\"hovertemplate\":\"energy: 0.45\",\"marker\":{\"color\":\"green\",\"opacity\":0.4,\"size\":10.530829664846141},\"mode\":\"markers\",\"x\":[0.625],\"xaxis\":\"x\",\"y\":[0.5],\"yaxis\":\"y\",\"type\":\"scatter\"},{\"hovertemplate\":\"placeholder: 0.1\",\"marker\":{\"color\":\"green\",\"opacity\":0.4,\"size\":2.3333333333333335},\"mode\":\"markers\",\"x\":[0.875],\"xaxis\":\"x\",\"y\":[0.5],\"yaxis\":\"y\",\"type\":\"scatter\"},{\"hovertemplate\":\"govconsum: -0.83\",\"marker\":{\"color\":\"red\",\"opacity\":0.4,\"size\":19.3873147180438},\"mode\":\"markers\",\"x\":[0.125],\"xaxis\":\"x3\",\"y\":[0.5],\"yaxis\":\"y3\",\"type\":\"scatter\"},{\"hovertemplate\":\"marketcap: -0.11\",\"marker\":{\"color\":\"red\",\"opacity\":0.4,\"size\":2.5027571441441676},\"mode\":\"markers\",\"x\":[0.375],\"xaxis\":\"x3\",\"y\":[0.5],\"yaxis\":\"y3\",\"type\":\"scatter\"},{\"hovertemplate\":\"houseconsum: -1.0\",\"marker\":{\"color\":\"red\",\"opacity\":0.4,\"size\":23.43450497689744},\"mode\":\"markers\",\"x\":[0.625],\"xaxis\":\"x3\",\"y\":[0.5],\"yaxis\":\"y3\",\"type\":\"scatter\"},{\"hovertemplate\":\"placeholder: 0.1\",\"marker\":{\"color\":\"green\",\"opacity\":0.4,\"size\":2.3333333333333335},\"mode\":\"markers\",\"x\":[0.875],\"xaxis\":\"x3\",\"y\":[0.5],\"yaxis\":\"y3\",\"type\":\"scatter\"},{\"hovertemplate\":\"agriculture: 0.07\",\"marker\":{\"color\":\"green\",\"opacity\":0.4,\"size\":1.6548892470161276},\"mode\":\"markers\",\"x\":[0.25],\"xaxis\":\"x4\",\"y\":[0.5],\"yaxis\":\"y4\",\"type\":\"scatter\"},{\"hovertemplate\":\"industry: 1.13\",\"marker\":{\"color\":\"green\",\"opacity\":0.4,\"size\":26.265416019822336},\"mode\":\"markers\",\"x\":[0.5],\"xaxis\":\"x4\",\"y\":[0.5],\"yaxis\":\"y4\",\"type\":\"scatter\"},{\"hovertemplate\":\"services: -0.28\",\"marker\":{\"color\":\"red\",\"opacity\":0.4,\"size\":6.426717270498487},\"mode\":\"markers\",\"x\":[0.75],\"xaxis\":\"x4\",\"y\":[0.5],\"yaxis\":\"y4\",\"type\":\"scatter\"},{\"hovertemplate\":\"eci: -0.23\",\"marker\":{\"color\":\"red\",\"opacity\":0.4,\"size\":5.480529288113964},\"mode\":\"markers\",\"x\":[0.125],\"xaxis\":\"x5\",\"y\":[0.5],\"yaxis\":\"y5\",\"type\":\"scatter\"},{\"hovertemplate\":\"exports: 0.56\",\"marker\":{\"color\":\"green\",\"opacity\":0.4,\"size\":13.037498701664152},\"mode\":\"markers\",\"x\":[0.375],\"xaxis\":\"x5\",\"y\":[0.5],\"yaxis\":\"y5\",\"type\":\"scatter\"},{\"hovertemplate\":\"resourcerents: 1.44\",\"marker\":{\"color\":\"green\",\"opacity\":0.4,\"size\":33.58726413334318},\"mode\":\"markers\",\"x\":[0.625],\"xaxis\":\"x5\",\"y\":[0.5],\"yaxis\":\"y5\",\"type\":\"scatter\"},{\"hovertemplate\":\"concentration: -0.62\",\"marker\":{\"color\":\"red\",\"opacity\":0.4,\"size\":14.452787263547552},\"mode\":\"markers\",\"x\":[0.875],\"xaxis\":\"x5\",\"y\":[0.5],\"yaxis\":\"y5\",\"type\":\"scatter\"},{\"hovertemplate\":\"grosscapital: 1.12\",\"marker\":{\"color\":\"green\",\"opacity\":0.4,\"size\":26.237846232954592},\"mode\":\"markers\",\"x\":[0.125],\"xaxis\":\"x6\",\"y\":[0.5],\"yaxis\":\"y6\",\"type\":\"scatter\"},{\"hovertemplate\":\"lifeexpectancy: -0.7\",\"marker\":{\"color\":\"red\",\"opacity\":0.4,\"size\":16.23668916226798},\"mode\":\"markers\",\"x\":[0.375],\"xaxis\":\"x6\",\"y\":[0.5],\"yaxis\":\"y6\",\"type\":\"scatter\"},{\"hovertemplate\":\"education: 0.48\",\"marker\":{\"color\":\"green\",\"opacity\":0.4,\"size\":11.129650368400974},\"mode\":\"markers\",\"x\":[0.625],\"xaxis\":\"x6\",\"y\":[0.5],\"yaxis\":\"y6\",\"type\":\"scatter\"},{\"hovertemplate\":\"mfootprint: 1.26\",\"marker\":{\"color\":\"green\",\"opacity\":0.4,\"size\":29.399810810748967},\"mode\":\"markers\",\"x\":[0.875],\"xaxis\":\"x6\",\"y\":[0.5],\"yaxis\":\"y6\",\"type\":\"scatter\"},{\"hovertemplate\":\"gini: -0.86\",\"marker\":{\"color\":\"green\",\"opacity\":0.4,\"size\":20.106035618628695},\"mode\":\"markers\",\"x\":[0.5],\"xaxis\":\"x2\",\"y\":[0.2],\"yaxis\":\"y2\",\"type\":\"scatter\"},{\"hovertemplate\":\"voice: 1.09\",\"marker\":{\"color\":\"red\",\"opacity\":0.4,\"size\":25.53634798073679},\"mode\":\"markers\",\"x\":[0.5],\"xaxis\":\"x2\",\"y\":[0.5],\"yaxis\":\"y2\",\"type\":\"scatter\"},{\"hovertemplate\":\"femaleminister: nan\",\"marker\":{\"color\":\"grey\",\"opacity\":0.2,\"size\":7.0},\"mode\":\"markers\",\"x\":[0.5],\"xaxis\":\"x2\",\"y\":[0.8],\"yaxis\":\"y2\",\"type\":\"scatter\"}],\"layout\":{\"annotations\":[{\"font\":{\"size\":18},\"showarrow\":false,\"text\":\"Year: 2006\",\"x\":0,\"xref\":\"paper\",\"y\":0.95,\"yref\":\"paper\"},{\"font\":{\"size\":18},\"showarrow\":false,\"text\":\"Country: Kazakhstan\",\"x\":0,\"xref\":\"paper\",\"y\":0.85,\"yref\":\"paper\"}]},\"name\":\"2006\"},{\"data\":[{\"hovertemplate\":\"unemployed: 0.1\",\"marker\":{\"color\":\"red\",\"opacity\":0.4,\"size\":2.25381174270238},\"mode\":\"markers\",\"x\":[0.125],\"xaxis\":\"x\",\"y\":[0.5],\"yaxis\":\"y\",\"type\":\"scatter\"},{\"hovertemplate\":\"wealth: -0.42\",\"marker\":{\"color\":\"red\",\"opacity\":0.4,\"size\":9.686031212620485},\"mode\":\"markers\",\"x\":[0.375],\"xaxis\":\"x\",\"y\":[0.5],\"yaxis\":\"y\",\"type\":\"scatter\"},{\"hovertemplate\":\"energy: 0.48\",\"marker\":{\"color\":\"green\",\"opacity\":0.4,\"size\":11.164706660044473},\"mode\":\"markers\",\"x\":[0.625],\"xaxis\":\"x\",\"y\":[0.5],\"yaxis\":\"y\",\"type\":\"scatter\"},{\"hovertemplate\":\"placeholder: 0.1\",\"marker\":{\"color\":\"green\",\"opacity\":0.4,\"size\":2.3333333333333335},\"mode\":\"markers\",\"x\":[0.875],\"xaxis\":\"x\",\"y\":[0.5],\"yaxis\":\"y\",\"type\":\"scatter\"},{\"hovertemplate\":\"govconsum: -0.73\",\"marker\":{\"color\":\"red\",\"opacity\":0.4,\"size\":17.058462304057585},\"mode\":\"markers\",\"x\":[0.125],\"xaxis\":\"x3\",\"y\":[0.5],\"yaxis\":\"y3\",\"type\":\"scatter\"},{\"hovertemplate\":\"marketcap: -0.22\",\"marker\":{\"color\":\"red\",\"opacity\":0.4,\"size\":5.055756993016562},\"mode\":\"markers\",\"x\":[0.375],\"xaxis\":\"x3\",\"y\":[0.5],\"yaxis\":\"y3\",\"type\":\"scatter\"},{\"hovertemplate\":\"houseconsum: -1.04\",\"marker\":{\"color\":\"red\",\"opacity\":0.4,\"size\":24.236633317066584},\"mode\":\"markers\",\"x\":[0.625],\"xaxis\":\"x3\",\"y\":[0.5],\"yaxis\":\"y3\",\"type\":\"scatter\"},{\"hovertemplate\":\"placeholder: 0.1\",\"marker\":{\"color\":\"green\",\"opacity\":0.4,\"size\":2.3333333333333335},\"mode\":\"markers\",\"x\":[0.875],\"xaxis\":\"x3\",\"y\":[0.5],\"yaxis\":\"y3\",\"type\":\"scatter\"},{\"hovertemplate\":\"agriculture: 0.09\",\"marker\":{\"color\":\"green\",\"opacity\":0.4,\"size\":2.141807634419538},\"mode\":\"markers\",\"x\":[0.25],\"xaxis\":\"x4\",\"y\":[0.5],\"yaxis\":\"y4\",\"type\":\"scatter\"},{\"hovertemplate\":\"industry: 1.04\",\"marker\":{\"color\":\"green\",\"opacity\":0.4,\"size\":24.242714708237944},\"mode\":\"markers\",\"x\":[0.5],\"xaxis\":\"x4\",\"y\":[0.5],\"yaxis\":\"y4\",\"type\":\"scatter\"},{\"hovertemplate\":\"services: -0.07\",\"marker\":{\"color\":\"red\",\"opacity\":0.4,\"size\":1.6428937106845722},\"mode\":\"markers\",\"x\":[0.75],\"xaxis\":\"x4\",\"y\":[0.5],\"yaxis\":\"y4\",\"type\":\"scatter\"},{\"hovertemplate\":\"eci: -0.43\",\"marker\":{\"color\":\"red\",\"opacity\":0.4,\"size\":10.04231867190735},\"mode\":\"markers\",\"x\":[0.125],\"xaxis\":\"x5\",\"y\":[0.5],\"yaxis\":\"y5\",\"type\":\"scatter\"},{\"hovertemplate\":\"exports: 0.51\",\"marker\":{\"color\":\"green\",\"opacity\":0.4,\"size\":11.896160615929556},\"mode\":\"markers\",\"x\":[0.375],\"xaxis\":\"x5\",\"y\":[0.5],\"yaxis\":\"y5\",\"type\":\"scatter\"},{\"hovertemplate\":\"resourcerents: 1.4\",\"marker\":{\"color\":\"green\",\"opacity\":0.4,\"size\":32.660032773601024},\"mode\":\"markers\",\"x\":[0.625],\"xaxis\":\"x5\",\"y\":[0.5],\"yaxis\":\"y5\",\"type\":\"scatter\"},{\"hovertemplate\":\"concentration: -0.58\",\"marker\":{\"color\":\"red\",\"opacity\":0.4,\"size\":13.608319340174424},\"mode\":\"markers\",\"x\":[0.875],\"xaxis\":\"x5\",\"y\":[0.5],\"yaxis\":\"y5\",\"type\":\"scatter\"},{\"hovertemplate\":\"grosscapital: 1.25\",\"marker\":{\"color\":\"green\",\"opacity\":0.4,\"size\":29.261995806499225},\"mode\":\"markers\",\"x\":[0.125],\"xaxis\":\"x6\",\"y\":[0.5],\"yaxis\":\"y6\",\"type\":\"scatter\"},{\"hovertemplate\":\"lifeexpectancy: -0.67\",\"marker\":{\"color\":\"red\",\"opacity\":0.4,\"size\":15.691007123903587},\"mode\":\"markers\",\"x\":[0.375],\"xaxis\":\"x6\",\"y\":[0.5],\"yaxis\":\"y6\",\"type\":\"scatter\"},{\"hovertemplate\":\"education: nan\",\"marker\":{\"color\":\"grey\",\"opacity\":0.2,\"size\":7.0},\"mode\":\"markers\",\"x\":[0.625],\"xaxis\":\"x6\",\"y\":[0.5],\"yaxis\":\"y6\",\"type\":\"scatter\"},{\"hovertemplate\":\"mfootprint: 1.54\",\"marker\":{\"color\":\"green\",\"opacity\":0.4,\"size\":35.88318087935905},\"mode\":\"markers\",\"x\":[0.875],\"xaxis\":\"x6\",\"y\":[0.5],\"yaxis\":\"y6\",\"type\":\"scatter\"},{\"hovertemplate\":\"gini: -0.87\",\"marker\":{\"color\":\"green\",\"opacity\":0.4,\"size\":20.29936288419243},\"mode\":\"markers\",\"x\":[0.5],\"xaxis\":\"x2\",\"y\":[0.2],\"yaxis\":\"y2\",\"type\":\"scatter\"},{\"hovertemplate\":\"voice: 1.08\",\"marker\":{\"color\":\"red\",\"opacity\":0.4,\"size\":25.213651091922536},\"mode\":\"markers\",\"x\":[0.5],\"xaxis\":\"x2\",\"y\":[0.5],\"yaxis\":\"y2\",\"type\":\"scatter\"},{\"hovertemplate\":\"femaleminister: nan\",\"marker\":{\"color\":\"grey\",\"opacity\":0.2,\"size\":7.0},\"mode\":\"markers\",\"x\":[0.5],\"xaxis\":\"x2\",\"y\":[0.8],\"yaxis\":\"y2\",\"type\":\"scatter\"}],\"layout\":{\"annotations\":[{\"font\":{\"size\":18},\"showarrow\":false,\"text\":\"Year: 2007\",\"x\":0,\"xref\":\"paper\",\"y\":0.95,\"yref\":\"paper\"},{\"font\":{\"size\":18},\"showarrow\":false,\"text\":\"Country: Kazakhstan\",\"x\":0,\"xref\":\"paper\",\"y\":0.85,\"yref\":\"paper\"}]},\"name\":\"2007\"},{\"data\":[{\"hovertemplate\":\"unemployed: -0.01\",\"marker\":{\"color\":\"green\",\"opacity\":0.4,\"size\":0.12499026513900816},\"mode\":\"markers\",\"x\":[0.125],\"xaxis\":\"x\",\"y\":[0.5],\"yaxis\":\"y\",\"type\":\"scatter\"},{\"hovertemplate\":\"wealth: -0.41\",\"marker\":{\"color\":\"red\",\"opacity\":0.4,\"size\":9.45259509585764},\"mode\":\"markers\",\"x\":[0.375],\"xaxis\":\"x\",\"y\":[0.5],\"yaxis\":\"y\",\"type\":\"scatter\"},{\"hovertemplate\":\"energy: 0.49\",\"marker\":{\"color\":\"green\",\"opacity\":0.4,\"size\":11.48689482268327},\"mode\":\"markers\",\"x\":[0.625],\"xaxis\":\"x\",\"y\":[0.5],\"yaxis\":\"y\",\"type\":\"scatter\"},{\"hovertemplate\":\"placeholder: 0.1\",\"marker\":{\"color\":\"green\",\"opacity\":0.4,\"size\":2.3333333333333335},\"mode\":\"markers\",\"x\":[0.875],\"xaxis\":\"x\",\"y\":[0.5],\"yaxis\":\"y\",\"type\":\"scatter\"},{\"hovertemplate\":\"govconsum: -0.83\",\"marker\":{\"color\":\"red\",\"opacity\":0.4,\"size\":19.366959058067067},\"mode\":\"markers\",\"x\":[0.125],\"xaxis\":\"x3\",\"y\":[0.5],\"yaxis\":\"y3\",\"type\":\"scatter\"},{\"hovertemplate\":\"marketcap: -0.38\",\"marker\":{\"color\":\"red\",\"opacity\":0.4,\"size\":8.9414851856104},\"mode\":\"markers\",\"x\":[0.375],\"xaxis\":\"x3\",\"y\":[0.5],\"yaxis\":\"y3\",\"type\":\"scatter\"},{\"hovertemplate\":\"houseconsum: -1.08\",\"marker\":{\"color\":\"red\",\"opacity\":0.4,\"size\":25.12841077605723},\"mode\":\"markers\",\"x\":[0.625],\"xaxis\":\"x3\",\"y\":[0.5],\"yaxis\":\"y3\",\"type\":\"scatter\"},{\"hovertemplate\":\"placeholder: 0.1\",\"marker\":{\"color\":\"green\",\"opacity\":0.4,\"size\":2.3333333333333335},\"mode\":\"markers\",\"x\":[0.875],\"xaxis\":\"x3\",\"y\":[0.5],\"yaxis\":\"y3\",\"type\":\"scatter\"},{\"hovertemplate\":\"agriculture: 0.05\",\"marker\":{\"color\":\"green\",\"opacity\":0.4,\"size\":1.1048621267699081},\"mode\":\"markers\",\"x\":[0.25],\"xaxis\":\"x4\",\"y\":[0.5],\"yaxis\":\"y4\",\"type\":\"scatter\"},{\"hovertemplate\":\"industry: 1.17\",\"marker\":{\"color\":\"green\",\"opacity\":0.4,\"size\":27.342258033476327},\"mode\":\"markers\",\"x\":[0.5],\"xaxis\":\"x4\",\"y\":[0.5],\"yaxis\":\"y4\",\"type\":\"scatter\"},{\"hovertemplate\":\"services: -0.24\",\"marker\":{\"color\":\"red\",\"opacity\":0.4,\"size\":5.527715051141882},\"mode\":\"markers\",\"x\":[0.75],\"xaxis\":\"x4\",\"y\":[0.5],\"yaxis\":\"y4\",\"type\":\"scatter\"},{\"hovertemplate\":\"eci: -0.65\",\"marker\":{\"color\":\"red\",\"opacity\":0.4,\"size\":15.101828411905732},\"mode\":\"markers\",\"x\":[0.125],\"xaxis\":\"x5\",\"y\":[0.5],\"yaxis\":\"y5\",\"type\":\"scatter\"},{\"hovertemplate\":\"exports: 0.73\",\"marker\":{\"color\":\"green\",\"opacity\":0.4,\"size\":16.97109247716027},\"mode\":\"markers\",\"x\":[0.375],\"xaxis\":\"x5\",\"y\":[0.5],\"yaxis\":\"y5\",\"type\":\"scatter\"},{\"hovertemplate\":\"resourcerents: 1.51\",\"marker\":{\"color\":\"green\",\"opacity\":0.4,\"size\":35.19149274388833},\"mode\":\"markers\",\"x\":[0.625],\"xaxis\":\"x5\",\"y\":[0.5],\"yaxis\":\"y5\",\"type\":\"scatter\"},{\"hovertemplate\":\"concentration: -0.65\",\"marker\":{\"color\":\"red\",\"opacity\":0.4,\"size\":15.168341575141865},\"mode\":\"markers\",\"x\":[0.875],\"xaxis\":\"x5\",\"y\":[0.5],\"yaxis\":\"y5\",\"type\":\"scatter\"},{\"hovertemplate\":\"grosscapital: 0.55\",\"marker\":{\"color\":\"green\",\"opacity\":0.4,\"size\":12.744798236022696},\"mode\":\"markers\",\"x\":[0.125],\"xaxis\":\"x6\",\"y\":[0.5],\"yaxis\":\"y6\",\"type\":\"scatter\"},{\"hovertemplate\":\"lifeexpectancy: -0.58\",\"marker\":{\"color\":\"red\",\"opacity\":0.4,\"size\":13.479558863163662},\"mode\":\"markers\",\"x\":[0.375],\"xaxis\":\"x6\",\"y\":[0.5],\"yaxis\":\"y6\",\"type\":\"scatter\"},{\"hovertemplate\":\"education: nan\",\"marker\":{\"color\":\"grey\",\"opacity\":0.2,\"size\":7.0},\"mode\":\"markers\",\"x\":[0.625],\"xaxis\":\"x6\",\"y\":[0.5],\"yaxis\":\"y6\",\"type\":\"scatter\"},{\"hovertemplate\":\"mfootprint: 1.04\",\"marker\":{\"color\":\"green\",\"opacity\":0.4,\"size\":24.172649332888664},\"mode\":\"markers\",\"x\":[0.875],\"xaxis\":\"x6\",\"y\":[0.5],\"yaxis\":\"y6\",\"type\":\"scatter\"},{\"hovertemplate\":\"gini: -1.0\",\"marker\":{\"color\":\"green\",\"opacity\":0.4,\"size\":23.392599133212236},\"mode\":\"markers\",\"x\":[0.5],\"xaxis\":\"x2\",\"y\":[0.2],\"yaxis\":\"y2\",\"type\":\"scatter\"},{\"hovertemplate\":\"voice: 1.04\",\"marker\":{\"color\":\"red\",\"opacity\":0.4,\"size\":24.315976071996264},\"mode\":\"markers\",\"x\":[0.5],\"xaxis\":\"x2\",\"y\":[0.5],\"yaxis\":\"y2\",\"type\":\"scatter\"},{\"hovertemplate\":\"femaleminister: -1.56\",\"marker\":{\"color\":\"red\",\"opacity\":0.4,\"size\":36.40338032342177},\"mode\":\"markers\",\"x\":[0.5],\"xaxis\":\"x2\",\"y\":[0.8],\"yaxis\":\"y2\",\"type\":\"scatter\"}],\"layout\":{\"annotations\":[{\"font\":{\"size\":18},\"showarrow\":false,\"text\":\"Year: 2008\",\"x\":0,\"xref\":\"paper\",\"y\":0.95,\"yref\":\"paper\"},{\"font\":{\"size\":18},\"showarrow\":false,\"text\":\"Country: Kazakhstan\",\"x\":0,\"xref\":\"paper\",\"y\":0.85,\"yref\":\"paper\"}]},\"name\":\"2008\"},{\"data\":[{\"hovertemplate\":\"unemployed: -0.02\",\"marker\":{\"color\":\"green\",\"opacity\":0.4,\"size\":0.4431182151402323},\"mode\":\"markers\",\"x\":[0.125],\"xaxis\":\"x\",\"y\":[0.5],\"yaxis\":\"y\",\"type\":\"scatter\"},{\"hovertemplate\":\"wealth: -0.38\",\"marker\":{\"color\":\"red\",\"opacity\":0.4,\"size\":8.929130350510587},\"mode\":\"markers\",\"x\":[0.375],\"xaxis\":\"x\",\"y\":[0.5],\"yaxis\":\"y\",\"type\":\"scatter\"},{\"hovertemplate\":\"energy: 0.42\",\"marker\":{\"color\":\"green\",\"opacity\":0.4,\"size\":9.865365531815549},\"mode\":\"markers\",\"x\":[0.625],\"xaxis\":\"x\",\"y\":[0.5],\"yaxis\":\"y\",\"type\":\"scatter\"},{\"hovertemplate\":\"placeholder: 0.1\",\"marker\":{\"color\":\"green\",\"opacity\":0.4,\"size\":2.3333333333333335},\"mode\":\"markers\",\"x\":[0.875],\"xaxis\":\"x\",\"y\":[0.5],\"yaxis\":\"y\",\"type\":\"scatter\"},{\"hovertemplate\":\"govconsum: -0.66\",\"marker\":{\"color\":\"red\",\"opacity\":0.4,\"size\":15.433971315525199},\"mode\":\"markers\",\"x\":[0.125],\"xaxis\":\"x3\",\"y\":[0.5],\"yaxis\":\"y3\",\"type\":\"scatter\"},{\"hovertemplate\":\"marketcap: -0.33\",\"marker\":{\"color\":\"red\",\"opacity\":0.4,\"size\":7.744971401714234},\"mode\":\"markers\",\"x\":[0.375],\"xaxis\":\"x3\",\"y\":[0.5],\"yaxis\":\"y3\",\"type\":\"scatter\"},{\"hovertemplate\":\"houseconsum: -0.9\",\"marker\":{\"color\":\"red\",\"opacity\":0.4,\"size\":21.10530659258172},\"mode\":\"markers\",\"x\":[0.625],\"xaxis\":\"x3\",\"y\":[0.5],\"yaxis\":\"y3\",\"type\":\"scatter\"},{\"hovertemplate\":\"placeholder: 0.1\",\"marker\":{\"color\":\"green\",\"opacity\":0.4,\"size\":2.3333333333333335},\"mode\":\"markers\",\"x\":[0.875],\"xaxis\":\"x3\",\"y\":[0.5],\"yaxis\":\"y3\",\"type\":\"scatter\"},{\"hovertemplate\":\"agriculture: 0.15\",\"marker\":{\"color\":\"green\",\"opacity\":0.4,\"size\":3.503731873898694},\"mode\":\"markers\",\"x\":[0.25],\"xaxis\":\"x4\",\"y\":[0.5],\"yaxis\":\"y4\",\"type\":\"scatter\"},{\"hovertemplate\":\"industry: 1.08\",\"marker\":{\"color\":\"green\",\"opacity\":0.4,\"size\":25.124940077665823},\"mode\":\"markers\",\"x\":[0.5],\"xaxis\":\"x4\",\"y\":[0.5],\"yaxis\":\"y4\",\"type\":\"scatter\"},{\"hovertemplate\":\"services: -0.09\",\"marker\":{\"color\":\"red\",\"opacity\":0.4,\"size\":2.065066870533718},\"mode\":\"markers\",\"x\":[0.75],\"xaxis\":\"x4\",\"y\":[0.5],\"yaxis\":\"y4\",\"type\":\"scatter\"},{\"hovertemplate\":\"eci: -0.8\",\"marker\":{\"color\":\"red\",\"opacity\":0.4,\"size\":18.689034494555578},\"mode\":\"markers\",\"x\":[0.125],\"xaxis\":\"x5\",\"y\":[0.5],\"yaxis\":\"y5\",\"type\":\"scatter\"},{\"hovertemplate\":\"exports: 0.27\",\"marker\":{\"color\":\"green\",\"opacity\":0.4,\"size\":6.238221500828235},\"mode\":\"markers\",\"x\":[0.375],\"xaxis\":\"x5\",\"y\":[0.5],\"yaxis\":\"y5\",\"type\":\"scatter\"},{\"hovertemplate\":\"resourcerents: 1.3\",\"marker\":{\"color\":\"green\",\"opacity\":0.4,\"size\":30.378927865647718},\"mode\":\"markers\",\"x\":[0.625],\"xaxis\":\"x5\",\"y\":[0.5],\"yaxis\":\"y5\",\"type\":\"scatter\"},{\"hovertemplate\":\"concentration: -0.61\",\"marker\":{\"color\":\"red\",\"opacity\":0.4,\"size\":14.14572986933373},\"mode\":\"markers\",\"x\":[0.875],\"xaxis\":\"x5\",\"y\":[0.5],\"yaxis\":\"y5\",\"type\":\"scatter\"},{\"hovertemplate\":\"grosscapital: 0.73\",\"marker\":{\"color\":\"green\",\"opacity\":0.4,\"size\":17.07437848591952},\"mode\":\"markers\",\"x\":[0.125],\"xaxis\":\"x6\",\"y\":[0.5],\"yaxis\":\"y6\",\"type\":\"scatter\"},{\"hovertemplate\":\"lifeexpectancy: -0.42\",\"marker\":{\"color\":\"red\",\"opacity\":0.4,\"size\":9.803385131024537},\"mode\":\"markers\",\"x\":[0.375],\"xaxis\":\"x6\",\"y\":[0.5],\"yaxis\":\"y6\",\"type\":\"scatter\"},{\"hovertemplate\":\"education: nan\",\"marker\":{\"color\":\"grey\",\"opacity\":0.2,\"size\":7.0},\"mode\":\"markers\",\"x\":[0.625],\"xaxis\":\"x6\",\"y\":[0.5],\"yaxis\":\"y6\",\"type\":\"scatter\"},{\"hovertemplate\":\"mfootprint: 1.25\",\"marker\":{\"color\":\"green\",\"opacity\":0.4,\"size\":29.12853061514316},\"mode\":\"markers\",\"x\":[0.875],\"xaxis\":\"x6\",\"y\":[0.5],\"yaxis\":\"y6\",\"type\":\"scatter\"},{\"hovertemplate\":\"gini: -1.03\",\"marker\":{\"color\":\"green\",\"opacity\":0.4,\"size\":23.97258092990345},\"mode\":\"markers\",\"x\":[0.5],\"xaxis\":\"x2\",\"y\":[0.2],\"yaxis\":\"y2\",\"type\":\"scatter\"},{\"hovertemplate\":\"voice: 1.03\",\"marker\":{\"color\":\"red\",\"opacity\":0.4,\"size\":24.10321267425208},\"mode\":\"markers\",\"x\":[0.5],\"xaxis\":\"x2\",\"y\":[0.5],\"yaxis\":\"y2\",\"type\":\"scatter\"},{\"hovertemplate\":\"femaleminister: nan\",\"marker\":{\"color\":\"grey\",\"opacity\":0.2,\"size\":7.0},\"mode\":\"markers\",\"x\":[0.5],\"xaxis\":\"x2\",\"y\":[0.8],\"yaxis\":\"y2\",\"type\":\"scatter\"}],\"layout\":{\"annotations\":[{\"font\":{\"size\":18},\"showarrow\":false,\"text\":\"Year: 2009\",\"x\":0,\"xref\":\"paper\",\"y\":0.95,\"yref\":\"paper\"},{\"font\":{\"size\":18},\"showarrow\":false,\"text\":\"Country: Kazakhstan\",\"x\":0,\"xref\":\"paper\",\"y\":0.85,\"yref\":\"paper\"}]},\"name\":\"2009\"},{\"data\":[{\"hovertemplate\":\"unemployed: -0.16\",\"marker\":{\"color\":\"green\",\"opacity\":0.4,\"size\":3.7657873164656763},\"mode\":\"markers\",\"x\":[0.125],\"xaxis\":\"x\",\"y\":[0.5],\"yaxis\":\"y\",\"type\":\"scatter\"},{\"hovertemplate\":\"wealth: -0.37\",\"marker\":{\"color\":\"red\",\"opacity\":0.4,\"size\":8.525741931074315},\"mode\":\"markers\",\"x\":[0.375],\"xaxis\":\"x\",\"y\":[0.5],\"yaxis\":\"y\",\"type\":\"scatter\"},{\"hovertemplate\":\"energy: 0.45\",\"marker\":{\"color\":\"green\",\"opacity\":0.4,\"size\":10.60130086513483},\"mode\":\"markers\",\"x\":[0.625],\"xaxis\":\"x\",\"y\":[0.5],\"yaxis\":\"y\",\"type\":\"scatter\"},{\"hovertemplate\":\"placeholder: 0.1\",\"marker\":{\"color\":\"green\",\"opacity\":0.4,\"size\":2.3333333333333335},\"mode\":\"markers\",\"x\":[0.875],\"xaxis\":\"x\",\"y\":[0.5],\"yaxis\":\"y\",\"type\":\"scatter\"},{\"hovertemplate\":\"govconsum: -0.76\",\"marker\":{\"color\":\"red\",\"opacity\":0.4,\"size\":17.702861550035568},\"mode\":\"markers\",\"x\":[0.125],\"xaxis\":\"x3\",\"y\":[0.5],\"yaxis\":\"y3\",\"type\":\"scatter\"},{\"hovertemplate\":\"marketcap: -0.38\",\"marker\":{\"color\":\"red\",\"opacity\":0.4,\"size\":8.839743351655349},\"mode\":\"markers\",\"x\":[0.375],\"xaxis\":\"x3\",\"y\":[0.5],\"yaxis\":\"y3\",\"type\":\"scatter\"},{\"hovertemplate\":\"houseconsum: -1.02\",\"marker\":{\"color\":\"red\",\"opacity\":0.4,\"size\":23.87574293268872},\"mode\":\"markers\",\"x\":[0.625],\"xaxis\":\"x3\",\"y\":[0.5],\"yaxis\":\"y3\",\"type\":\"scatter\"},{\"hovertemplate\":\"placeholder: 0.1\",\"marker\":{\"color\":\"green\",\"opacity\":0.4,\"size\":2.3333333333333335},\"mode\":\"markers\",\"x\":[0.875],\"xaxis\":\"x3\",\"y\":[0.5],\"yaxis\":\"y3\",\"type\":\"scatter\"},{\"hovertemplate\":\"agriculture: -0.07\",\"marker\":{\"color\":\"red\",\"opacity\":0.4,\"size\":1.6079203842832654},\"mode\":\"markers\",\"x\":[0.25],\"xaxis\":\"x4\",\"y\":[0.5],\"yaxis\":\"y4\",\"type\":\"scatter\"},{\"hovertemplate\":\"industry: 1.19\",\"marker\":{\"color\":\"green\",\"opacity\":0.4,\"size\":27.760008346387686},\"mode\":\"markers\",\"x\":[0.5],\"xaxis\":\"x4\",\"y\":[0.5],\"yaxis\":\"y4\",\"type\":\"scatter\"},{\"hovertemplate\":\"services: -0.27\",\"marker\":{\"color\":\"red\",\"opacity\":0.4,\"size\":6.323177248255853},\"mode\":\"markers\",\"x\":[0.75],\"xaxis\":\"x4\",\"y\":[0.5],\"yaxis\":\"y4\",\"type\":\"scatter\"},{\"hovertemplate\":\"eci: -0.98\",\"marker\":{\"color\":\"red\",\"opacity\":0.4,\"size\":22.842419157977012},\"mode\":\"markers\",\"x\":[0.125],\"xaxis\":\"x5\",\"y\":[0.5],\"yaxis\":\"y5\",\"type\":\"scatter\"},{\"hovertemplate\":\"exports: 0.35\",\"marker\":{\"color\":\"green\",\"opacity\":0.4,\"size\":8.162721267535634},\"mode\":\"markers\",\"x\":[0.375],\"xaxis\":\"x5\",\"y\":[0.5],\"yaxis\":\"y5\",\"type\":\"scatter\"},{\"hovertemplate\":\"resourcerents: 1.31\",\"marker\":{\"color\":\"green\",\"opacity\":0.4,\"size\":30.46029254179395},\"mode\":\"markers\",\"x\":[0.625],\"xaxis\":\"x5\",\"y\":[0.5],\"yaxis\":\"y5\",\"type\":\"scatter\"},{\"hovertemplate\":\"concentration: -0.47\",\"marker\":{\"color\":\"red\",\"opacity\":0.4,\"size\":10.96125188870718},\"mode\":\"markers\",\"x\":[0.875],\"xaxis\":\"x5\",\"y\":[0.5],\"yaxis\":\"y5\",\"type\":\"scatter\"},{\"hovertemplate\":\"grosscapital: 0.32\",\"marker\":{\"color\":\"green\",\"opacity\":0.4,\"size\":7.534279557406639},\"mode\":\"markers\",\"x\":[0.125],\"xaxis\":\"x6\",\"y\":[0.5],\"yaxis\":\"y6\",\"type\":\"scatter\"},{\"hovertemplate\":\"lifeexpectancy: -0.41\",\"marker\":{\"color\":\"red\",\"opacity\":0.4,\"size\":9.63106448733051},\"mode\":\"markers\",\"x\":[0.375],\"xaxis\":\"x6\",\"y\":[0.5],\"yaxis\":\"y6\",\"type\":\"scatter\"},{\"hovertemplate\":\"education: 0.52\",\"marker\":{\"color\":\"green\",\"opacity\":0.4,\"size\":12.136428068978077},\"mode\":\"markers\",\"x\":[0.625],\"xaxis\":\"x6\",\"y\":[0.5],\"yaxis\":\"y6\",\"type\":\"scatter\"},{\"hovertemplate\":\"mfootprint: 0.96\",\"marker\":{\"color\":\"green\",\"opacity\":0.4,\"size\":22.457077260558165},\"mode\":\"markers\",\"x\":[0.875],\"xaxis\":\"x6\",\"y\":[0.5],\"yaxis\":\"y6\",\"type\":\"scatter\"},{\"hovertemplate\":\"gini: -1.04\",\"marker\":{\"color\":\"green\",\"opacity\":0.4,\"size\":24.359235461030924},\"mode\":\"markers\",\"x\":[0.5],\"xaxis\":\"x2\",\"y\":[0.2],\"yaxis\":\"y2\",\"type\":\"scatter\"},{\"hovertemplate\":\"voice: 1.06\",\"marker\":{\"color\":\"red\",\"opacity\":0.4,\"size\":24.821970973226854},\"mode\":\"markers\",\"x\":[0.5],\"xaxis\":\"x2\",\"y\":[0.5],\"yaxis\":\"y2\",\"type\":\"scatter\"},{\"hovertemplate\":\"femaleminister: -1.72\",\"marker\":{\"color\":\"red\",\"opacity\":0.4,\"size\":40.232806698843994},\"mode\":\"markers\",\"x\":[0.5],\"xaxis\":\"x2\",\"y\":[0.8],\"yaxis\":\"y2\",\"type\":\"scatter\"}],\"layout\":{\"annotations\":[{\"font\":{\"size\":18},\"showarrow\":false,\"text\":\"Year: 2010\",\"x\":0,\"xref\":\"paper\",\"y\":0.95,\"yref\":\"paper\"},{\"font\":{\"size\":18},\"showarrow\":false,\"text\":\"Country: Kazakhstan\",\"x\":0,\"xref\":\"paper\",\"y\":0.85,\"yref\":\"paper\"}]},\"name\":\"2010\"},{\"data\":[{\"hovertemplate\":\"unemployed: -0.24\",\"marker\":{\"color\":\"green\",\"opacity\":0.4,\"size\":5.551079261285883},\"mode\":\"markers\",\"x\":[0.125],\"xaxis\":\"x\",\"y\":[0.5],\"yaxis\":\"y\",\"type\":\"scatter\"},{\"hovertemplate\":\"wealth: -0.33\",\"marker\":{\"color\":\"red\",\"opacity\":0.4,\"size\":7.749530582266024},\"mode\":\"markers\",\"x\":[0.375],\"xaxis\":\"x\",\"y\":[0.5],\"yaxis\":\"y\",\"type\":\"scatter\"},{\"hovertemplate\":\"energy: 0.5\",\"marker\":{\"color\":\"green\",\"opacity\":0.4,\"size\":11.66219066809358},\"mode\":\"markers\",\"x\":[0.625],\"xaxis\":\"x\",\"y\":[0.5],\"yaxis\":\"y\",\"type\":\"scatter\"},{\"hovertemplate\":\"placeholder: 0.1\",\"marker\":{\"color\":\"green\",\"opacity\":0.4,\"size\":2.3333333333333335},\"mode\":\"markers\",\"x\":[0.875],\"xaxis\":\"x\",\"y\":[0.5],\"yaxis\":\"y\",\"type\":\"scatter\"},{\"hovertemplate\":\"govconsum: -0.8\",\"marker\":{\"color\":\"red\",\"opacity\":0.4,\"size\":18.600452195903323},\"mode\":\"markers\",\"x\":[0.125],\"xaxis\":\"x3\",\"y\":[0.5],\"yaxis\":\"y3\",\"type\":\"scatter\"},{\"hovertemplate\":\"marketcap: -0.43\",\"marker\":{\"color\":\"red\",\"opacity\":0.4,\"size\":9.954152656481932},\"mode\":\"markers\",\"x\":[0.375],\"xaxis\":\"x3\",\"y\":[0.5],\"yaxis\":\"y3\",\"type\":\"scatter\"},{\"hovertemplate\":\"houseconsum: -1.2\",\"marker\":{\"color\":\"red\",\"opacity\":0.4,\"size\":28.000050086088144},\"mode\":\"markers\",\"x\":[0.625],\"xaxis\":\"x3\",\"y\":[0.5],\"yaxis\":\"y3\",\"type\":\"scatter\"},{\"hovertemplate\":\"placeholder: 0.1\",\"marker\":{\"color\":\"green\",\"opacity\":0.4,\"size\":2.3333333333333335},\"mode\":\"markers\",\"x\":[0.875],\"xaxis\":\"x3\",\"y\":[0.5],\"yaxis\":\"y3\",\"type\":\"scatter\"},{\"hovertemplate\":\"agriculture: 0.0\",\"marker\":{\"color\":\"green\",\"opacity\":0.4,\"size\":0.05697511502273428},\"mode\":\"markers\",\"x\":[0.25],\"xaxis\":\"x4\",\"y\":[0.5],\"yaxis\":\"y4\",\"type\":\"scatter\"},{\"hovertemplate\":\"industry: 1.01\",\"marker\":{\"color\":\"green\",\"opacity\":0.4,\"size\":23.648306770940867},\"mode\":\"markers\",\"x\":[0.5],\"xaxis\":\"x4\",\"y\":[0.5],\"yaxis\":\"y4\",\"type\":\"scatter\"},{\"hovertemplate\":\"services: -0.5\",\"marker\":{\"color\":\"red\",\"opacity\":0.4,\"size\":11.717604887812623},\"mode\":\"markers\",\"x\":[0.75],\"xaxis\":\"x4\",\"y\":[0.5],\"yaxis\":\"y4\",\"type\":\"scatter\"},{\"hovertemplate\":\"eci: -1.02\",\"marker\":{\"color\":\"red\",\"opacity\":0.4,\"size\":23.798343135692484},\"mode\":\"markers\",\"x\":[0.125],\"xaxis\":\"x5\",\"y\":[0.5],\"yaxis\":\"y5\",\"type\":\"scatter\"},{\"hovertemplate\":\"exports: 0.42\",\"marker\":{\"color\":\"green\",\"opacity\":0.4,\"size\":9.848315483282201},\"mode\":\"markers\",\"x\":[0.375],\"xaxis\":\"x5\",\"y\":[0.5],\"yaxis\":\"y5\",\"type\":\"scatter\"},{\"hovertemplate\":\"resourcerents: 1.39\",\"marker\":{\"color\":\"green\",\"opacity\":0.4,\"size\":32.35187603353777},\"mode\":\"markers\",\"x\":[0.625],\"xaxis\":\"x5\",\"y\":[0.5],\"yaxis\":\"y5\",\"type\":\"scatter\"},{\"hovertemplate\":\"concentration: -0.48\",\"marker\":{\"color\":\"red\",\"opacity\":0.4,\"size\":11.173901888990027},\"mode\":\"markers\",\"x\":[0.875],\"xaxis\":\"x5\",\"y\":[0.5],\"yaxis\":\"y5\",\"type\":\"scatter\"},{\"hovertemplate\":\"grosscapital: 0.05\",\"marker\":{\"color\":\"green\",\"opacity\":0.4,\"size\":1.1889413794832029},\"mode\":\"markers\",\"x\":[0.125],\"xaxis\":\"x6\",\"y\":[0.5],\"yaxis\":\"y6\",\"type\":\"scatter\"},{\"hovertemplate\":\"lifeexpectancy: -0.38\",\"marker\":{\"color\":\"red\",\"opacity\":0.4,\"size\":8.94178191255444},\"mode\":\"markers\",\"x\":[0.375],\"xaxis\":\"x6\",\"y\":[0.5],\"yaxis\":\"y6\",\"type\":\"scatter\"},{\"hovertemplate\":\"education: 0.53\",\"marker\":{\"color\":\"green\",\"opacity\":0.4,\"size\":12.439733629698706},\"mode\":\"markers\",\"x\":[0.625],\"xaxis\":\"x6\",\"y\":[0.5],\"yaxis\":\"y6\",\"type\":\"scatter\"},{\"hovertemplate\":\"mfootprint: 0.92\",\"marker\":{\"color\":\"green\",\"opacity\":0.4,\"size\":21.426665729993392},\"mode\":\"markers\",\"x\":[0.875],\"xaxis\":\"x6\",\"y\":[0.5],\"yaxis\":\"y6\",\"type\":\"scatter\"},{\"hovertemplate\":\"gini: -1.04\",\"marker\":{\"color\":\"green\",\"opacity\":0.4,\"size\":24.359235461030924},\"mode\":\"markers\",\"x\":[0.5],\"xaxis\":\"x2\",\"y\":[0.2],\"yaxis\":\"y2\",\"type\":\"scatter\"},{\"hovertemplate\":\"voice: 1.06\",\"marker\":{\"color\":\"red\",\"opacity\":0.4,\"size\":24.684898013894855},\"mode\":\"markers\",\"x\":[0.5],\"xaxis\":\"x2\",\"y\":[0.5],\"yaxis\":\"y2\",\"type\":\"scatter\"},{\"hovertemplate\":\"femaleminister: nan\",\"marker\":{\"color\":\"grey\",\"opacity\":0.2,\"size\":7.0},\"mode\":\"markers\",\"x\":[0.5],\"xaxis\":\"x2\",\"y\":[0.8],\"yaxis\":\"y2\",\"type\":\"scatter\"}],\"layout\":{\"annotations\":[{\"font\":{\"size\":18},\"showarrow\":false,\"text\":\"Year: 2011\",\"x\":0,\"xref\":\"paper\",\"y\":0.95,\"yref\":\"paper\"},{\"font\":{\"size\":18},\"showarrow\":false,\"text\":\"Country: Kazakhstan\",\"x\":0,\"xref\":\"paper\",\"y\":0.85,\"yref\":\"paper\"}]},\"name\":\"2011\"},{\"data\":[{\"hovertemplate\":\"unemployed: -0.26\",\"marker\":{\"color\":\"green\",\"opacity\":0.4,\"size\":6.041832705331966},\"mode\":\"markers\",\"x\":[0.125],\"xaxis\":\"x\",\"y\":[0.5],\"yaxis\":\"y\",\"type\":\"scatter\"},{\"hovertemplate\":\"wealth: -0.31\",\"marker\":{\"color\":\"red\",\"opacity\":0.4,\"size\":7.173623389068319},\"mode\":\"markers\",\"x\":[0.375],\"xaxis\":\"x\",\"y\":[0.5],\"yaxis\":\"y\",\"type\":\"scatter\"},{\"hovertemplate\":\"energy: 0.46\",\"marker\":{\"color\":\"green\",\"opacity\":0.4,\"size\":10.724238956005188},\"mode\":\"markers\",\"x\":[0.625],\"xaxis\":\"x\",\"y\":[0.5],\"yaxis\":\"y\",\"type\":\"scatter\"},{\"hovertemplate\":\"placeholder: 0.1\",\"marker\":{\"color\":\"green\",\"opacity\":0.4,\"size\":2.3333333333333335},\"mode\":\"markers\",\"x\":[0.875],\"xaxis\":\"x\",\"y\":[0.5],\"yaxis\":\"y\",\"type\":\"scatter\"},{\"hovertemplate\":\"govconsum: -0.68\",\"marker\":{\"color\":\"red\",\"opacity\":0.4,\"size\":15.810944496830546},\"mode\":\"markers\",\"x\":[0.125],\"xaxis\":\"x3\",\"y\":[0.5],\"yaxis\":\"y3\",\"type\":\"scatter\"},{\"hovertemplate\":\"marketcap: -0.43\",\"marker\":{\"color\":\"red\",\"opacity\":0.4,\"size\":10.021439047687853},\"mode\":\"markers\",\"x\":[0.375],\"xaxis\":\"x3\",\"y\":[0.5],\"yaxis\":\"y3\",\"type\":\"scatter\"},{\"hovertemplate\":\"houseconsum: -1.05\",\"marker\":{\"color\":\"red\",\"opacity\":0.4,\"size\":24.449568831240494},\"mode\":\"markers\",\"x\":[0.625],\"xaxis\":\"x3\",\"y\":[0.5],\"yaxis\":\"y3\",\"type\":\"scatter\"},{\"hovertemplate\":\"placeholder: 0.1\",\"marker\":{\"color\":\"green\",\"opacity\":0.4,\"size\":2.3333333333333335},\"mode\":\"markers\",\"x\":[0.875],\"xaxis\":\"x3\",\"y\":[0.5],\"yaxis\":\"y3\",\"type\":\"scatter\"},{\"hovertemplate\":\"agriculture: -0.1\",\"marker\":{\"color\":\"red\",\"opacity\":0.4,\"size\":2.442161618443443},\"mode\":\"markers\",\"x\":[0.25],\"xaxis\":\"x4\",\"y\":[0.5],\"yaxis\":\"y4\",\"type\":\"scatter\"},{\"hovertemplate\":\"industry: 0.96\",\"marker\":{\"color\":\"green\",\"opacity\":0.4,\"size\":22.392535841822852},\"mode\":\"markers\",\"x\":[0.5],\"xaxis\":\"x4\",\"y\":[0.5],\"yaxis\":\"y4\",\"type\":\"scatter\"},{\"hovertemplate\":\"services: -0.29\",\"marker\":{\"color\":\"red\",\"opacity\":0.4,\"size\":6.870298928377431},\"mode\":\"markers\",\"x\":[0.75],\"xaxis\":\"x4\",\"y\":[0.5],\"yaxis\":\"y4\",\"type\":\"scatter\"},{\"hovertemplate\":\"eci: -0.51\",\"marker\":{\"color\":\"red\",\"opacity\":0.4,\"size\":11.842479341950119},\"mode\":\"markers\",\"x\":[0.125],\"xaxis\":\"x5\",\"y\":[0.5],\"yaxis\":\"y5\",\"type\":\"scatter\"},{\"hovertemplate\":\"exports: 0.35\",\"marker\":{\"color\":\"green\",\"opacity\":0.4,\"size\":8.057907411422228},\"mode\":\"markers\",\"x\":[0.375],\"xaxis\":\"x5\",\"y\":[0.5],\"yaxis\":\"y5\",\"type\":\"scatter\"},{\"hovertemplate\":\"resourcerents: 1.31\",\"marker\":{\"color\":\"green\",\"opacity\":0.4,\"size\":30.581807707918866},\"mode\":\"markers\",\"x\":[0.625],\"xaxis\":\"x5\",\"y\":[0.5],\"yaxis\":\"y5\",\"type\":\"scatter\"},{\"hovertemplate\":\"concentration: -0.48\",\"marker\":{\"color\":\"red\",\"opacity\":0.4,\"size\":11.105004682426486},\"mode\":\"markers\",\"x\":[0.875],\"xaxis\":\"x5\",\"y\":[0.5],\"yaxis\":\"y5\",\"type\":\"scatter\"},{\"hovertemplate\":\"grosscapital: 0.31\",\"marker\":{\"color\":\"green\",\"opacity\":0.4,\"size\":7.167158438223725},\"mode\":\"markers\",\"x\":[0.125],\"xaxis\":\"x6\",\"y\":[0.5],\"yaxis\":\"y6\",\"type\":\"scatter\"},{\"hovertemplate\":\"lifeexpectancy: -0.28\",\"marker\":{\"color\":\"red\",\"opacity\":0.4,\"size\":6.5580130081204855},\"mode\":\"markers\",\"x\":[0.375],\"xaxis\":\"x6\",\"y\":[0.5],\"yaxis\":\"y6\",\"type\":\"scatter\"},{\"hovertemplate\":\"education: 0.55\",\"marker\":{\"color\":\"green\",\"opacity\":0.4,\"size\":12.755066336284377},\"mode\":\"markers\",\"x\":[0.625],\"xaxis\":\"x6\",\"y\":[0.5],\"yaxis\":\"y6\",\"type\":\"scatter\"},{\"hovertemplate\":\"mfootprint: 1.15\",\"marker\":{\"color\":\"green\",\"opacity\":0.4,\"size\":26.7659973603327},\"mode\":\"markers\",\"x\":[0.875],\"xaxis\":\"x6\",\"y\":[0.5],\"yaxis\":\"y6\",\"type\":\"scatter\"},{\"hovertemplate\":\"gini: -1.03\",\"marker\":{\"color\":\"green\",\"opacity\":0.4,\"size\":23.97258092990345},\"mode\":\"markers\",\"x\":[0.5],\"xaxis\":\"x2\",\"y\":[0.2],\"yaxis\":\"y2\",\"type\":\"scatter\"},{\"hovertemplate\":\"voice: 1.09\",\"marker\":{\"color\":\"red\",\"opacity\":0.4,\"size\":25.376798344791823},\"mode\":\"markers\",\"x\":[0.5],\"xaxis\":\"x2\",\"y\":[0.5],\"yaxis\":\"y2\",\"type\":\"scatter\"},{\"hovertemplate\":\"femaleminister: -0.06\",\"marker\":{\"color\":\"red\",\"opacity\":0.4,\"size\":1.3544692560846083},\"mode\":\"markers\",\"x\":[0.5],\"xaxis\":\"x2\",\"y\":[0.8],\"yaxis\":\"y2\",\"type\":\"scatter\"}],\"layout\":{\"annotations\":[{\"font\":{\"size\":18},\"showarrow\":false,\"text\":\"Year: 2012\",\"x\":0,\"xref\":\"paper\",\"y\":0.95,\"yref\":\"paper\"},{\"font\":{\"size\":18},\"showarrow\":false,\"text\":\"Country: Kazakhstan\",\"x\":0,\"xref\":\"paper\",\"y\":0.85,\"yref\":\"paper\"}]},\"name\":\"2012\"},{\"data\":[{\"hovertemplate\":\"unemployed: -0.28\",\"marker\":{\"color\":\"green\",\"opacity\":0.4,\"size\":6.491508586390067},\"mode\":\"markers\",\"x\":[0.125],\"xaxis\":\"x\",\"y\":[0.5],\"yaxis\":\"y\",\"type\":\"scatter\"},{\"hovertemplate\":\"wealth: -0.26\",\"marker\":{\"color\":\"red\",\"opacity\":0.4,\"size\":6.140806405809135},\"mode\":\"markers\",\"x\":[0.375],\"xaxis\":\"x\",\"y\":[0.5],\"yaxis\":\"y\",\"type\":\"scatter\"},{\"hovertemplate\":\"energy: 0.5\",\"marker\":{\"color\":\"green\",\"opacity\":0.4,\"size\":11.617360386798563},\"mode\":\"markers\",\"x\":[0.625],\"xaxis\":\"x\",\"y\":[0.5],\"yaxis\":\"y\",\"type\":\"scatter\"},{\"hovertemplate\":\"placeholder: 0.1\",\"marker\":{\"color\":\"green\",\"opacity\":0.4,\"size\":2.3333333333333335},\"mode\":\"markers\",\"x\":[0.875],\"xaxis\":\"x\",\"y\":[0.5],\"yaxis\":\"y\",\"type\":\"scatter\"},{\"hovertemplate\":\"govconsum: -0.83\",\"marker\":{\"color\":\"red\",\"opacity\":0.4,\"size\":19.407335589391966},\"mode\":\"markers\",\"x\":[0.125],\"xaxis\":\"x3\",\"y\":[0.5],\"yaxis\":\"y3\",\"type\":\"scatter\"},{\"hovertemplate\":\"marketcap: -0.43\",\"marker\":{\"color\":\"red\",\"opacity\":0.4,\"size\":10.062863972650307},\"mode\":\"markers\",\"x\":[0.375],\"xaxis\":\"x3\",\"y\":[0.5],\"yaxis\":\"y3\",\"type\":\"scatter\"},{\"hovertemplate\":\"houseconsum: -0.77\",\"marker\":{\"color\":\"red\",\"opacity\":0.4,\"size\":18.03558576578327},\"mode\":\"markers\",\"x\":[0.625],\"xaxis\":\"x3\",\"y\":[0.5],\"yaxis\":\"y3\",\"type\":\"scatter\"},{\"hovertemplate\":\"placeholder: 0.1\",\"marker\":{\"color\":\"green\",\"opacity\":0.4,\"size\":2.3333333333333335},\"mode\":\"markers\",\"x\":[0.875],\"xaxis\":\"x3\",\"y\":[0.5],\"yaxis\":\"y3\",\"type\":\"scatter\"},{\"hovertemplate\":\"agriculture: -0.07\",\"marker\":{\"color\":\"red\",\"opacity\":0.4,\"size\":1.6335028878935636},\"mode\":\"markers\",\"x\":[0.25],\"xaxis\":\"x4\",\"y\":[0.5],\"yaxis\":\"y4\",\"type\":\"scatter\"},{\"hovertemplate\":\"industry: 0.81\",\"marker\":{\"color\":\"green\",\"opacity\":0.4,\"size\":18.823201080577824},\"mode\":\"markers\",\"x\":[0.5],\"xaxis\":\"x4\",\"y\":[0.5],\"yaxis\":\"y4\",\"type\":\"scatter\"},{\"hovertemplate\":\"services: -0.15\",\"marker\":{\"color\":\"red\",\"opacity\":0.4,\"size\":3.5440308376963703},\"mode\":\"markers\",\"x\":[0.75],\"xaxis\":\"x4\",\"y\":[0.5],\"yaxis\":\"y4\",\"type\":\"scatter\"},{\"hovertemplate\":\"eci: -1.0\",\"marker\":{\"color\":\"red\",\"opacity\":0.4,\"size\":23.36910542725229},\"mode\":\"markers\",\"x\":[0.125],\"xaxis\":\"x5\",\"y\":[0.5],\"yaxis\":\"y5\",\"type\":\"scatter\"},{\"hovertemplate\":\"exports: 0.15\",\"marker\":{\"color\":\"green\",\"opacity\":0.4,\"size\":3.4802632395467046},\"mode\":\"markers\",\"x\":[0.375],\"xaxis\":\"x5\",\"y\":[0.5],\"yaxis\":\"y5\",\"type\":\"scatter\"},{\"hovertemplate\":\"resourcerents: 1.22\",\"marker\":{\"color\":\"green\",\"opacity\":0.4,\"size\":28.49071782804276},\"mode\":\"markers\",\"x\":[0.625],\"xaxis\":\"x5\",\"y\":[0.5],\"yaxis\":\"y5\",\"type\":\"scatter\"},{\"hovertemplate\":\"concentration: -0.43\",\"marker\":{\"color\":\"red\",\"opacity\":0.4,\"size\":10.087175513215936},\"mode\":\"markers\",\"x\":[0.875],\"xaxis\":\"x5\",\"y\":[0.5],\"yaxis\":\"y5\",\"type\":\"scatter\"},{\"hovertemplate\":\"grosscapital: 0.23\",\"marker\":{\"color\":\"green\",\"opacity\":0.4,\"size\":5.455796584430023},\"mode\":\"markers\",\"x\":[0.125],\"xaxis\":\"x6\",\"y\":[0.5],\"yaxis\":\"y6\",\"type\":\"scatter\"},{\"hovertemplate\":\"lifeexpectancy: -0.15\",\"marker\":{\"color\":\"red\",\"opacity\":0.4,\"size\":3.398801207063405},\"mode\":\"markers\",\"x\":[0.375],\"xaxis\":\"x6\",\"y\":[0.5],\"yaxis\":\"y6\",\"type\":\"scatter\"},{\"hovertemplate\":\"education: 0.51\",\"marker\":{\"color\":\"green\",\"opacity\":0.4,\"size\":11.966322504864628},\"mode\":\"markers\",\"x\":[0.625],\"xaxis\":\"x6\",\"y\":[0.5],\"yaxis\":\"y6\",\"type\":\"scatter\"},{\"hovertemplate\":\"mfootprint: 1.6\",\"marker\":{\"color\":\"green\",\"opacity\":0.4,\"size\":37.25172148427974},\"mode\":\"markers\",\"x\":[0.875],\"xaxis\":\"x6\",\"y\":[0.5],\"yaxis\":\"y6\",\"type\":\"scatter\"},{\"hovertemplate\":\"gini: -1.12\",\"marker\":{\"color\":\"green\",\"opacity\":0.4,\"size\":26.099180851104556},\"mode\":\"markers\",\"x\":[0.5],\"xaxis\":\"x2\",\"y\":[0.2],\"yaxis\":\"y2\",\"type\":\"scatter\"},{\"hovertemplate\":\"voice: 1.12\",\"marker\":{\"color\":\"red\",\"opacity\":0.4,\"size\":26.18439620030615},\"mode\":\"markers\",\"x\":[0.5],\"xaxis\":\"x2\",\"y\":[0.5],\"yaxis\":\"y2\",\"type\":\"scatter\"},{\"hovertemplate\":\"femaleminister: nan\",\"marker\":{\"color\":\"grey\",\"opacity\":0.2,\"size\":7.0},\"mode\":\"markers\",\"x\":[0.5],\"xaxis\":\"x2\",\"y\":[0.8],\"yaxis\":\"y2\",\"type\":\"scatter\"}],\"layout\":{\"annotations\":[{\"font\":{\"size\":18},\"showarrow\":false,\"text\":\"Year: 2013\",\"x\":0,\"xref\":\"paper\",\"y\":0.95,\"yref\":\"paper\"},{\"font\":{\"size\":18},\"showarrow\":false,\"text\":\"Country: Kazakhstan\",\"x\":0,\"xref\":\"paper\",\"y\":0.85,\"yref\":\"paper\"}]},\"name\":\"2013\"},{\"data\":[{\"hovertemplate\":\"unemployed: -0.31\",\"marker\":{\"color\":\"green\",\"opacity\":0.4,\"size\":7.206711949112807},\"mode\":\"markers\",\"x\":[0.125],\"xaxis\":\"x\",\"y\":[0.5],\"yaxis\":\"y\",\"type\":\"scatter\"},{\"hovertemplate\":\"wealth: -0.25\",\"marker\":{\"color\":\"red\",\"opacity\":0.4,\"size\":5.720993308513001},\"mode\":\"markers\",\"x\":[0.375],\"xaxis\":\"x\",\"y\":[0.5],\"yaxis\":\"y\",\"type\":\"scatter\"},{\"hovertemplate\":\"energy: 0.45\",\"marker\":{\"color\":\"green\",\"opacity\":0.4,\"size\":10.469262973038946},\"mode\":\"markers\",\"x\":[0.625],\"xaxis\":\"x\",\"y\":[0.5],\"yaxis\":\"y\",\"type\":\"scatter\"},{\"hovertemplate\":\"placeholder: 0.1\",\"marker\":{\"color\":\"green\",\"opacity\":0.4,\"size\":2.3333333333333335},\"mode\":\"markers\",\"x\":[0.875],\"xaxis\":\"x\",\"y\":[0.5],\"yaxis\":\"y\",\"type\":\"scatter\"},{\"hovertemplate\":\"govconsum: -0.77\",\"marker\":{\"color\":\"red\",\"opacity\":0.4,\"size\":18.030074464667607},\"mode\":\"markers\",\"x\":[0.125],\"xaxis\":\"x3\",\"y\":[0.5],\"yaxis\":\"y3\",\"type\":\"scatter\"},{\"hovertemplate\":\"marketcap: -0.44\",\"marker\":{\"color\":\"red\",\"opacity\":0.4,\"size\":10.187802064729706},\"mode\":\"markers\",\"x\":[0.375],\"xaxis\":\"x3\",\"y\":[0.5],\"yaxis\":\"y3\",\"type\":\"scatter\"},{\"hovertemplate\":\"houseconsum: -0.85\",\"marker\":{\"color\":\"red\",\"opacity\":0.4,\"size\":19.864257717016496},\"mode\":\"markers\",\"x\":[0.625],\"xaxis\":\"x3\",\"y\":[0.5],\"yaxis\":\"y3\",\"type\":\"scatter\"},{\"hovertemplate\":\"placeholder: 0.1\",\"marker\":{\"color\":\"green\",\"opacity\":0.4,\"size\":2.3333333333333335},\"mode\":\"markers\",\"x\":[0.875],\"xaxis\":\"x3\",\"y\":[0.5],\"yaxis\":\"y3\",\"type\":\"scatter\"},{\"hovertemplate\":\"agriculture: -0.1\",\"marker\":{\"color\":\"red\",\"opacity\":0.4,\"size\":2.284174493898248},\"mode\":\"markers\",\"x\":[0.25],\"xaxis\":\"x4\",\"y\":[0.5],\"yaxis\":\"y4\",\"type\":\"scatter\"},{\"hovertemplate\":\"industry: 0.78\",\"marker\":{\"color\":\"green\",\"opacity\":0.4,\"size\":18.12169569166478},\"mode\":\"markers\",\"x\":[0.5],\"xaxis\":\"x4\",\"y\":[0.5],\"yaxis\":\"y4\",\"type\":\"scatter\"},{\"hovertemplate\":\"services: -0.02\",\"marker\":{\"color\":\"red\",\"opacity\":0.4,\"size\":0.5591255912127215},\"mode\":\"markers\",\"x\":[0.75],\"xaxis\":\"x4\",\"y\":[0.5],\"yaxis\":\"y4\",\"type\":\"scatter\"},{\"hovertemplate\":\"eci: -0.57\",\"marker\":{\"color\":\"red\",\"opacity\":0.4,\"size\":13.210422673371774},\"mode\":\"markers\",\"x\":[0.125],\"xaxis\":\"x5\",\"y\":[0.5],\"yaxis\":\"y5\",\"type\":\"scatter\"},{\"hovertemplate\":\"exports: 0.18\",\"marker\":{\"color\":\"green\",\"opacity\":0.4,\"size\":4.1202724675525655},\"mode\":\"markers\",\"x\":[0.375],\"xaxis\":\"x5\",\"y\":[0.5],\"yaxis\":\"y5\",\"type\":\"scatter\"},{\"hovertemplate\":\"resourcerents: 1.19\",\"marker\":{\"color\":\"green\",\"opacity\":0.4,\"size\":27.882589511641015},\"mode\":\"markers\",\"x\":[0.625],\"xaxis\":\"x5\",\"y\":[0.5],\"yaxis\":\"y5\",\"type\":\"scatter\"},{\"hovertemplate\":\"concentration: -0.59\",\"marker\":{\"color\":\"red\",\"opacity\":0.4,\"size\":13.725039094834846},\"mode\":\"markers\",\"x\":[0.875],\"xaxis\":\"x5\",\"y\":[0.5],\"yaxis\":\"y5\",\"type\":\"scatter\"},{\"hovertemplate\":\"grosscapital: 0.37\",\"marker\":{\"color\":\"green\",\"opacity\":0.4,\"size\":8.58582439858413},\"mode\":\"markers\",\"x\":[0.125],\"xaxis\":\"x6\",\"y\":[0.5],\"yaxis\":\"y6\",\"type\":\"scatter\"},{\"hovertemplate\":\"lifeexpectancy: -0.04\",\"marker\":{\"color\":\"red\",\"opacity\":0.4,\"size\":1.0437524099118014},\"mode\":\"markers\",\"x\":[0.375],\"xaxis\":\"x6\",\"y\":[0.5],\"yaxis\":\"y6\",\"type\":\"scatter\"},{\"hovertemplate\":\"education: 0.57\",\"marker\":{\"color\":\"green\",\"opacity\":0.4,\"size\":13.22395762364651},\"mode\":\"markers\",\"x\":[0.625],\"xaxis\":\"x6\",\"y\":[0.5],\"yaxis\":\"y6\",\"type\":\"scatter\"},{\"hovertemplate\":\"mfootprint: 1.65\",\"marker\":{\"color\":\"green\",\"opacity\":0.4,\"size\":38.60747501554121},\"mode\":\"markers\",\"x\":[0.875],\"xaxis\":\"x6\",\"y\":[0.5],\"yaxis\":\"y6\",\"type\":\"scatter\"},{\"hovertemplate\":\"gini: -1.13\",\"marker\":{\"color\":\"green\",\"opacity\":0.4,\"size\":26.292508116668294},\"mode\":\"markers\",\"x\":[0.5],\"xaxis\":\"x2\",\"y\":[0.2],\"yaxis\":\"y2\",\"type\":\"scatter\"},{\"hovertemplate\":\"voice: 1.09\",\"marker\":{\"color\":\"red\",\"opacity\":0.4,\"size\":25.465839224296783},\"mode\":\"markers\",\"x\":[0.5],\"xaxis\":\"x2\",\"y\":[0.5],\"yaxis\":\"y2\",\"type\":\"scatter\"},{\"hovertemplate\":\"femaleminister: 0.28\",\"marker\":{\"color\":\"green\",\"opacity\":0.4,\"size\":6.610692598712619},\"mode\":\"markers\",\"x\":[0.5],\"xaxis\":\"x2\",\"y\":[0.8],\"yaxis\":\"y2\",\"type\":\"scatter\"}],\"layout\":{\"annotations\":[{\"font\":{\"size\":18},\"showarrow\":false,\"text\":\"Year: 2014\",\"x\":0,\"xref\":\"paper\",\"y\":0.95,\"yref\":\"paper\"},{\"font\":{\"size\":18},\"showarrow\":false,\"text\":\"Country: Kazakhstan\",\"x\":0,\"xref\":\"paper\",\"y\":0.85,\"yref\":\"paper\"}]},\"name\":\"2014\"},{\"data\":[{\"hovertemplate\":\"unemployed: -0.34\",\"marker\":{\"color\":\"green\",\"opacity\":0.4,\"size\":7.888774644150609},\"mode\":\"markers\",\"x\":[0.125],\"xaxis\":\"x\",\"y\":[0.5],\"yaxis\":\"y\",\"type\":\"scatter\"},{\"hovertemplate\":\"wealth: -0.24\",\"marker\":{\"color\":\"red\",\"opacity\":0.4,\"size\":5.589389005287887},\"mode\":\"markers\",\"x\":[0.375],\"xaxis\":\"x\",\"y\":[0.5],\"yaxis\":\"y\",\"type\":\"scatter\"},{\"hovertemplate\":\"energy: nan\",\"marker\":{\"color\":\"grey\",\"opacity\":0.2,\"size\":7.0},\"mode\":\"markers\",\"x\":[0.625],\"xaxis\":\"x\",\"y\":[0.5],\"yaxis\":\"y\",\"type\":\"scatter\"},{\"hovertemplate\":\"placeholder: 0.1\",\"marker\":{\"color\":\"green\",\"opacity\":0.4,\"size\":2.3333333333333335},\"mode\":\"markers\",\"x\":[0.875],\"xaxis\":\"x\",\"y\":[0.5],\"yaxis\":\"y\",\"type\":\"scatter\"},{\"hovertemplate\":\"govconsum: -0.66\",\"marker\":{\"color\":\"red\",\"opacity\":0.4,\"size\":15.514528406756039},\"mode\":\"markers\",\"x\":[0.125],\"xaxis\":\"x3\",\"y\":[0.5],\"yaxis\":\"y3\",\"type\":\"scatter\"},{\"hovertemplate\":\"marketcap: -0.37\",\"marker\":{\"color\":\"red\",\"opacity\":0.4,\"size\":8.679774922441739},\"mode\":\"markers\",\"x\":[0.375],\"xaxis\":\"x3\",\"y\":[0.5],\"yaxis\":\"y3\",\"type\":\"scatter\"},{\"hovertemplate\":\"houseconsum: -0.56\",\"marker\":{\"color\":\"red\",\"opacity\":0.4,\"size\":13.094039181213283},\"mode\":\"markers\",\"x\":[0.625],\"xaxis\":\"x3\",\"y\":[0.5],\"yaxis\":\"y3\",\"type\":\"scatter\"},{\"hovertemplate\":\"placeholder: 0.1\",\"marker\":{\"color\":\"green\",\"opacity\":0.4,\"size\":2.3333333333333335},\"mode\":\"markers\",\"x\":[0.875],\"xaxis\":\"x3\",\"y\":[0.5],\"yaxis\":\"y3\",\"type\":\"scatter\"},{\"hovertemplate\":\"agriculture: -0.04\",\"marker\":{\"color\":\"red\",\"opacity\":0.4,\"size\":0.8913704823722152},\"mode\":\"markers\",\"x\":[0.25],\"xaxis\":\"x4\",\"y\":[0.5],\"yaxis\":\"y4\",\"type\":\"scatter\"},{\"hovertemplate\":\"industry: 0.63\",\"marker\":{\"color\":\"green\",\"opacity\":0.4,\"size\":14.5951268175314},\"mode\":\"markers\",\"x\":[0.5],\"xaxis\":\"x4\",\"y\":[0.5],\"yaxis\":\"y4\",\"type\":\"scatter\"},{\"hovertemplate\":\"services: 0.3\",\"marker\":{\"color\":\"green\",\"opacity\":0.4,\"size\":7.036709614655349},\"mode\":\"markers\",\"x\":[0.75],\"xaxis\":\"x4\",\"y\":[0.5],\"yaxis\":\"y4\",\"type\":\"scatter\"},{\"hovertemplate\":\"eci: -0.61\",\"marker\":{\"color\":\"red\",\"opacity\":0.4,\"size\":14.168300506943584},\"mode\":\"markers\",\"x\":[0.125],\"xaxis\":\"x5\",\"y\":[0.5],\"yaxis\":\"y5\",\"type\":\"scatter\"},{\"hovertemplate\":\"exports: -0.3\",\"marker\":{\"color\":\"red\",\"opacity\":0.4,\"size\":6.956659297642522},\"mode\":\"markers\",\"x\":[0.375],\"xaxis\":\"x5\",\"y\":[0.5],\"yaxis\":\"y5\",\"type\":\"scatter\"},{\"hovertemplate\":\"resourcerents: 0.9\",\"marker\":{\"color\":\"green\",\"opacity\":0.4,\"size\":21.048349212363732},\"mode\":\"markers\",\"x\":[0.625],\"xaxis\":\"x5\",\"y\":[0.5],\"yaxis\":\"y5\",\"type\":\"scatter\"},{\"hovertemplate\":\"concentration: -0.6\",\"marker\":{\"color\":\"red\",\"opacity\":0.4,\"size\":14.009440477089372},\"mode\":\"markers\",\"x\":[0.875],\"xaxis\":\"x5\",\"y\":[0.5],\"yaxis\":\"y5\",\"type\":\"scatter\"},{\"hovertemplate\":\"grosscapital: 0.59\",\"marker\":{\"color\":\"green\",\"opacity\":0.4,\"size\":13.680108073721291},\"mode\":\"markers\",\"x\":[0.125],\"xaxis\":\"x6\",\"y\":[0.5],\"yaxis\":\"y6\",\"type\":\"scatter\"},{\"hovertemplate\":\"lifeexpectancy: 0.02\",\"marker\":{\"color\":\"green\",\"opacity\":0.4,\"size\":0.47841327605205575},\"mode\":\"markers\",\"x\":[0.375],\"xaxis\":\"x6\",\"y\":[0.5],\"yaxis\":\"y6\",\"type\":\"scatter\"},{\"hovertemplate\":\"education: 0.58\",\"marker\":{\"color\":\"green\",\"opacity\":0.4,\"size\":13.593451117716857},\"mode\":\"markers\",\"x\":[0.625],\"xaxis\":\"x6\",\"y\":[0.5],\"yaxis\":\"y6\",\"type\":\"scatter\"},{\"hovertemplate\":\"mfootprint: 1.99\",\"marker\":{\"color\":\"green\",\"opacity\":0.4,\"size\":46.47605744333654},\"mode\":\"markers\",\"x\":[0.875],\"xaxis\":\"x6\",\"y\":[0.5],\"yaxis\":\"y6\",\"type\":\"scatter\"},{\"hovertemplate\":\"gini: -1.14\",\"marker\":{\"color\":\"green\",\"opacity\":0.4,\"size\":26.679162647795767},\"mode\":\"markers\",\"x\":[0.5],\"xaxis\":\"x2\",\"y\":[0.2],\"yaxis\":\"y2\",\"type\":\"scatter\"},{\"hovertemplate\":\"voice: 1.08\",\"marker\":{\"color\":\"red\",\"opacity\":0.4,\"size\":25.2161737554273},\"mode\":\"markers\",\"x\":[0.5],\"xaxis\":\"x2\",\"y\":[0.5],\"yaxis\":\"y2\",\"type\":\"scatter\"},{\"hovertemplate\":\"femaleminister: -0.31\",\"marker\":{\"color\":\"red\",\"opacity\":0.4,\"size\":7.174734523723674},\"mode\":\"markers\",\"x\":[0.5],\"xaxis\":\"x2\",\"y\":[0.8],\"yaxis\":\"y2\",\"type\":\"scatter\"}],\"layout\":{\"annotations\":[{\"font\":{\"size\":18},\"showarrow\":false,\"text\":\"Year: 2015\",\"x\":0,\"xref\":\"paper\",\"y\":0.95,\"yref\":\"paper\"},{\"font\":{\"size\":18},\"showarrow\":false,\"text\":\"Country: Kazakhstan\",\"x\":0,\"xref\":\"paper\",\"y\":0.85,\"yref\":\"paper\"}]},\"name\":\"2015\"}]);\n                        }).then(function(){\n                            \nvar gd = document.getElementById('f5e92c0a-ab34-49a9-827b-2f8f58f83e36');\nvar x = new MutationObserver(function (mutations, observer) {{\n        var display = window.getComputedStyle(gd).display;\n        if (!display || display === 'none') {{\n            console.log([gd, 'removed!']);\n            Plotly.purge(gd);\n            observer.disconnect();\n        }}\n}});\n\n// Listen for the removal of the full notebook cells\nvar notebookContainer = gd.closest('#notebook-container');\nif (notebookContainer) {{\n    x.observe(notebookContainer, {childList: true});\n}}\n\n// Listen for the clearing of the current output cell\nvar outputEl = gd.closest('.output');\nif (outputEl) {{\n    x.observe(outputEl, {childList: true});\n}}\n\n                        })                };                });            </script>        </div>"
     },
     "metadata": {},
     "output_type": "display_data"
    }
   ],
   "source": [
    "plotly_animate('Kazakhstan', years=range(2000, 2016))"
   ],
   "metadata": {
    "collapsed": false,
    "ExecuteTime": {
     "end_time": "2023-11-18T13:57:21.878784Z",
     "start_time": "2023-11-18T13:57:20.897329Z"
    }
   },
   "id": "4a7b8eace34c940e"
  },
  {
   "cell_type": "markdown",
   "source": [
    "## Plotting code"
   ],
   "metadata": {
    "collapsed": false
   },
   "id": "87daf5d6fb5a2c89"
  },
  {
   "cell_type": "code",
   "execution_count": 32,
   "outputs": [],
   "source": [
    "import plotly.graph_objs as go\n",
    "from plotly.subplots import make_subplots"
   ],
   "metadata": {
    "collapsed": false,
    "ExecuteTime": {
     "end_time": "2023-11-18T13:52:59.289365Z",
     "start_time": "2023-11-18T13:52:59.288039Z"
    }
   },
   "id": "3e1e6af654eefff"
  },
  {
   "cell_type": "code",
   "execution_count": 33,
   "outputs": [],
   "source": [
    "def calculate_circle_properties(size, reverse=False):\n",
    "    \"\"\" Calculate color, alpha, and radius based on the size. \"\"\"\n",
    "    if reverse:\n",
    "        color = 'green' if size < 0 else 'red'\n",
    "    else:\n",
    "        color = 'red' if size < 0 else 'green'\n",
    "\n",
    "    if size is None or np.isnan(size):\n",
    "        color = 'grey'\n",
    "        alpha = 0.2\n",
    "        radius = 0.02\n",
    "    else:\n",
    "        alpha = min(max(abs(size) / 5, 0.4), 1.0)\n",
    "        radius = abs(size) / 15\n",
    "    return color, alpha, radius\n",
    "\n",
    "\n",
    "def determine_plotly_row_col(ax_index):\n",
    "    \"\"\" Determine the row and column of the subplot in Plotly. \"\"\"\n",
    "    if ax_index == 0:\n",
    "        return 1, 2  # First subplot in the first column\n",
    "    elif 1 <= ax_index <= 3:\n",
    "        return 2, ax_index  # Second row, columns 1, 2, and 3 of the first column\n",
    "    elif ax_index == 4:\n",
    "        return 3, 2  # Third row, first column\n",
    "    else:\n",
    "        return 1, 4  # Spanning subplot in the second column\n",
    "\n",
    "\n",
    "def set_axis_properties(fig, row, col, xcoords, xaxisticks, yaxisticks):\n",
    "    \"\"\" Set properties for main axes.\"\"\"\n",
    "    if col == 1 or col == 2 or col == 3:\n",
    "        fig.update_yaxes(range=[0.3, 0.7], row=row, col=col)\n",
    "        fig.update_xaxes(tickvals=xcoords, ticktext=xaxisticks, row=row, col=col)\n",
    "        fig.update_yaxes(tickvals=[0.5], ticktext=yaxisticks, row=row, col=col)\n",
    "\n",
    "\n",
    "def set_side_axis_properties(fig, row, col, sideycoords, allsideticks):\n",
    "    \"\"\" Set properties for the side axis. \"\"\"\n",
    "    if col == 4 and row == 1:\n",
    "        fig.update_xaxes(range=[0.3, 0.7], tickvals=[0.5], ticktext=['Decision-Making'], row=row, col=col)\n",
    "        fig.update_yaxes(tickvals=sideycoords, ticktext=allsideticks, row=row, col=col)"
   ],
   "metadata": {
    "collapsed": false,
    "ExecuteTime": {
     "end_time": "2023-11-18T13:52:59.289630Z",
     "start_time": "2023-11-18T13:52:59.289572Z"
    }
   },
   "id": "ee13967ac8abf840"
  },
  {
   "cell_type": "code",
   "execution_count": 34,
   "outputs": [],
   "source": [
    "def draw_plot(country, year_number, fig):\n",
    "    data_values = get_data_by_year(country, year_number)\n",
    "    if not data_values:\n",
    "        print(\"No data available for the specified country and year.\")\n",
    "        return\n",
    "\n",
    "    # Unpacking the data\n",
    "    (agriculture, industry, services, grosscapital, unemployed, wealth, gini, voice,\n",
    "     femaleminister, lifeexpectancy, education, govconsum, marketcap, houseconsum,\n",
    "     energy, mfootprint, eci, exports, resourcerents, concentration) = data_values\n",
    "\n",
    "    data_mapping = {\n",
    "        0: [(unemployed, 'unemployed'), (wealth, 'wealth'), (energy, 'energy'), (0.1, 'placeholder')],\n",
    "        1: [(govconsum, 'govconsum'), (marketcap, 'marketcap'), (houseconsum, 'houseconsum'), (0.1, 'placeholder')],\n",
    "        2: [(agriculture, 'agriculture'), (industry, 'industry'), (services, 'services')],\n",
    "        3: [(eci, 'eci'), (exports, 'exports'), (resourcerents, 'resourcerents'), (concentration, 'concentration')],\n",
    "        4: [(grosscapital, 'grosscapital'), (lifeexpectancy, 'lifeexpectancy'), (education, 'education'),\n",
    "            (mfootprint, 'mfootprint')]\n",
    "    }\n",
    "\n",
    "    side_data_mapping = [\n",
    "        (gini, 'gini'),\n",
    "        (voice, 'voice'),\n",
    "        (femaleminister, 'femaleminister')\n",
    "    ]\n",
    "\n",
    "    # Variables that require reversed color logic\n",
    "    reversed_variables = ['voice', 'unemployed', 'gini']\n",
    "\n",
    "    # Scaling factor for circle sizes\n",
    "    scaling_factor = 350\n",
    "\n",
    "    # Draw circles in main axes\n",
    "    for ax_index, data in data_mapping.items():\n",
    "        row, col = determine_plotly_row_col(ax_index)\n",
    "        for x, (size, variable_name) in zip(all_x_coords[ax_index], data):\n",
    "            reverse_color = variable_name in reversed_variables\n",
    "            color, alpha, radius = calculate_circle_properties(size, reverse=reverse_color)\n",
    "\n",
    "            fig.add_trace(\n",
    "                go.Scatter(\n",
    "                    x=[x], y=[0.5], mode='markers',\n",
    "                    marker=dict(color=color, size=radius * scaling_factor, opacity=alpha),\n",
    "                    hovertemplate=f'{variable_name}: {round(size, 2)}'\n",
    "                ),\n",
    "                row=row, col=col\n",
    "            )\n",
    "\n",
    "    # Draw circles in side axis\n",
    "    for y, (size, variable_name) in zip(side_y_coords, side_data_mapping):\n",
    "        reverse_color = variable_name in reversed_variables\n",
    "        color, alpha, radius = calculate_circle_properties(size, reverse=reverse_color)\n",
    "\n",
    "        fig.add_trace(\n",
    "            go.Scatter(\n",
    "                x=[0.5], y=[y], mode='markers',\n",
    "                marker=dict(color=color, size=radius * scaling_factor, opacity=alpha),\n",
    "                hovertemplate=f'{variable_name}: {round(size, 2)}'\n",
    "            ),\n",
    "            row=1, col=4  # Spanning subplot in the fourth column\n",
    "        )\n",
    "    # Set axis properties for each subplot\n",
    "    for ax_index in range(5):  # Assuming 5 main subplots\n",
    "        row, col = determine_plotly_row_col(ax_index)\n",
    "        set_axis_properties(fig, row, col, all_x_coords[ax_index], all_x_axis_ticks[ax_index],\n",
    "                            all_y_axis_ticks[ax_index])\n",
    "\n",
    "    # Set side axis properties\n",
    "    set_side_axis_properties(fig, 1, 4, side_y_coords,\n",
    "                             all_side_ticks)  # Corrected for the spanning subplot in the second column\n",
    "    return fig"
   ],
   "metadata": {
    "collapsed": false,
    "ExecuteTime": {
     "end_time": "2023-11-18T13:52:59.295356Z",
     "start_time": "2023-11-18T13:52:59.291245Z"
    }
   },
   "id": "8120a435432c02c6"
  },
  {
   "cell_type": "code",
   "execution_count": 35,
   "outputs": [],
   "source": [
    "def plotly_animate(countrytoplot, years):\n",
    "    fig = make_subplots(\n",
    "        rows=3, cols=4,\n",
    "        column_widths=[0.25, 0.25, 0.25, 0.1],  # Adjust these widths as needed\n",
    "        specs=[\n",
    "            [None, {\"type\": \"scatter\"}, None, {\"type\": \"scatter\", \"rowspan\": 3}],\n",
    "            [{\"type\": \"scatter\"}, {\"type\": \"scatter\"}, {\"type\": \"scatter\"}, None],\n",
    "            [None, {\"type\": \"scatter\"}, None, None]\n",
    "        ],\n",
    "        horizontal_spacing=0.02  # Adjust spacing between columns if needed\n",
    "    )\n",
    "    fig.add_annotation(\n",
    "        dict(\n",
    "            xref='paper',  # Position reference relative to the whole figure\n",
    "            yref='paper',\n",
    "            x=0,  # Adjust the position as needed\n",
    "            y=0.95,  # Adjust the position as needed\n",
    "            text=f'Year: {years[0]}',  # Initial text\n",
    "            showarrow=False,\n",
    "            font=dict(size=18)  # Adjust font size as needed\n",
    "        ),\n",
    "    )\n",
    "    fig.add_annotation(\n",
    "        dict(\n",
    "            xref='paper',\n",
    "            yref='paper',\n",
    "            x=0,  # Same position as initial annotation\n",
    "            y=0.85,  # Same position as initial annotation\n",
    "            text=f'Country: {countrytoplot}',  # Update text with current year\n",
    "            showarrow=False,\n",
    "            font=dict(size=18)\n",
    "        )\n",
    "    )\n",
    "    # Initialize the figure with the data for the first year\n",
    "    draw_plot(countrytoplot, years[0], fig)\n",
    "    # Create frames for each year from 2011 to 2015\n",
    "    frames = []\n",
    "    for year in years:\n",
    "        # Clear the existing data from the figure\n",
    "        temp_fig = make_subplots(\n",
    "            rows=3, cols=4,\n",
    "            column_widths=[0.25, 0.25, 0.25, 0.1],  # Adjust these widths as needed\n",
    "            specs=[\n",
    "                [None, {\"type\": \"scatter\"}, None, {\"type\": \"scatter\", \"rowspan\": 3}],\n",
    "                [{\"type\": \"scatter\"}, {\"type\": \"scatter\"}, {\"type\": \"scatter\"}, None],\n",
    "                [None, {\"type\": \"scatter\"}, None, None]\n",
    "            ],\n",
    "            horizontal_spacing=0.02  # Adjust spacing between columns if needed\n",
    "        )\n",
    "        # Update temp_fig with the new data for the current year\n",
    "        draw_plot(countrytoplot, year, temp_fig)\n",
    "        # Create a new frame with the updated figure data\n",
    "        frame = go.Frame(\n",
    "            data=temp_fig.data,\n",
    "            name=str(year),\n",
    "            layout=dict(\n",
    "                annotations=[\n",
    "                    dict(\n",
    "                        xref='paper',\n",
    "                        yref='paper',\n",
    "                        x=0,  # Same position as initial annotation\n",
    "                        y=0.95,  # Same position as initial annotation\n",
    "                        text=f'Year: {year}',  # Update text with current year\n",
    "                        showarrow=False,\n",
    "                        font=dict(size=18)\n",
    "                    ),\n",
    "                    dict(\n",
    "                        xref='paper',\n",
    "                        yref='paper',\n",
    "                        x=0,  # Same position as initial annotation\n",
    "                        y=0.85,  # Same position as initial annotation\n",
    "                        text=f'Country: {countrytoplot}',  # Update text with current year\n",
    "                        showarrow=False,\n",
    "                        font=dict(size=18)\n",
    "                    )\n",
    "                ]\n",
    "            )\n",
    "        )\n",
    "        frames.append(frame)\n",
    "    # Add frames to the figure\n",
    "    fig.frames = frames\n",
    "    # Add play and pause button\n",
    "    fig.update_layout(\n",
    "        updatemenus=[\n",
    "            dict(\n",
    "                type=\"buttons\",\n",
    "                showactive=False,\n",
    "                buttons=[\n",
    "                    dict(label=\"Play\", method=\"animate\", args=[None, {\"frame\": {\"duration\": 1000}}]),\n",
    "                    dict(label=\"Pause\", method=\"animate\", args=[[None], {\"frame\": {\"duration\": 0, \"redraw\": False}}])\n",
    "                ]\n",
    "            )\n",
    "        ]\n",
    "    )\n",
    "    # Show the figure\n",
    "    fig.update_layout(showlegend=False)\n",
    "    fig.show()\n",
    "    # fig.print_grid()"
   ],
   "metadata": {
    "collapsed": false,
    "ExecuteTime": {
     "end_time": "2023-11-18T13:52:59.301825Z",
     "start_time": "2023-11-18T13:52:59.300226Z"
    }
   },
   "id": "7d442eb1f2e405c8"
  },
  {
   "cell_type": "markdown",
   "source": [
    "## Matplotlib version"
   ],
   "metadata": {
    "collapsed": false
   },
   "id": "38bbe500c6770242"
  },
  {
   "cell_type": "code",
   "execution_count": 36,
   "outputs": [],
   "source": [
    "# def init_plot():\n",
    "#     fig = plt.figure(figsize=(14, 9))\n",
    "#     gs = gridspec.GridSpec(3, 2, width_ratios=[3, 1], height_ratios=[1, 2, 1])\n",
    "# \n",
    "#     # Creating the first and the third main subplot\n",
    "#     ax1 = plt.subplot(gs[0, 0])\n",
    "#     ax2 = plt.subplot(gs[2, 0])\n",
    "# \n",
    "#     # Creating a nested gridspec for the second main subplot\n",
    "#     gs_nested = gridspec.GridSpecFromSubplotSpec(1, 3, subplot_spec=gs[1, 0])\n",
    "# \n",
    "#     # Creating the three smaller subplots within the second main subplot\n",
    "#     ax3 = plt.subplot(gs_nested[0])\n",
    "#     ax4 = plt.subplot(gs_nested[1])\n",
    "#     ax5 = plt.subplot(gs_nested[2])\n",
    "# \n",
    "#     # Adjust the spacing of the subplots\n",
    "# \n",
    "#     # Creating the additional subplot in the second column\n",
    "#     ax_side = plt.subplot(gs[:, 1])  # Spanning all rows\n",
    "# \n",
    "#     all_axes = [ax1, ax3, ax4, ax5, ax2]  # Reordered to match the structure\n",
    "# \n",
    "#     return fig, all_axes, ax_side"
   ],
   "metadata": {
    "collapsed": false,
    "ExecuteTime": {
     "end_time": "2023-11-18T13:52:59.308893Z",
     "start_time": "2023-11-18T13:52:59.302627Z"
    }
   },
   "id": "b09b800717272b9a"
  },
  {
   "cell_type": "code",
   "execution_count": 37,
   "outputs": [],
   "source": [
    "# def calculate_circle_properties(size):\n",
    "#     \"\"\" Calculate color, alpha, and radius based on the size. \"\"\"\n",
    "#     color = 'red' if size < 0 else 'green'\n",
    "#     if np.isnan(size):\n",
    "#         color = 'grey'\n",
    "#         alpha = 0.2\n",
    "#         radius = 0.02\n",
    "#     else:\n",
    "#         alpha = min(max(abs(size) / 5, 0.4), 1.0)\n",
    "#         radius = abs(size) / 15\n",
    "#     return color, alpha, radius\n",
    "# \n",
    "# \n",
    "# def set_axis_properties(ax, xcoords, xaxisticks, yaxisticks):\n",
    "#     \"\"\" Set properties for main axes. \"\"\"\n",
    "#     ax.set_ylim(0.3, 0.7)\n",
    "#     ax.set_aspect('equal', 'box')\n",
    "#     ax.set_xticks(xcoords)\n",
    "#     ax.set_xticklabels(xaxisticks)\n",
    "#     ax.set_yticks([0.5])\n",
    "#     ax.set_yticklabels(yaxisticks)\n",
    "# \n",
    "# \n",
    "# def set_side_axis_properties(axside, sideycoords, allsideticks):\n",
    "#     \"\"\" Set properties for the side axis. \"\"\"\n",
    "#     axside.set_xlim(0.3, 0.7)\n",
    "#     axside.set_aspect('equal', 'box')\n",
    "#     axside.set_xticks([0.5])\n",
    "#     axside.set_xticklabels(['Decision-Making'])\n",
    "#     axside.set_yticks(sideycoords)\n",
    "#     axside.set_yticklabels(allsideticks)"
   ],
   "metadata": {
    "collapsed": false,
    "ExecuteTime": {
     "end_time": "2023-11-18T13:52:59.313956Z",
     "start_time": "2023-11-18T13:52:59.304771Z"
    }
   },
   "id": "108c8c62175a174e"
  },
  {
   "cell_type": "code",
   "execution_count": 38,
   "outputs": [],
   "source": [
    "# def draw_plot(country, year_number, all_axes, ax_side):\n",
    "# \n",
    "#     data_values = get_data_by_year(country, year_number)\n",
    "#     if not data_values:\n",
    "#         print(\"No data available for the specified country and year.\")\n",
    "#         return\n",
    "# \n",
    "#     # Unpacking the data\n",
    "#     (agriculture, industry, services, grosscapital, unemployed, wealth, gini, voice,\n",
    "#      femaleminister, lifeexpectancy, education, govconsum, marketcap, houseconsum,\n",
    "#      energy, mfootprint) = data_values\n",
    "# \n",
    "#     all_sizes = [[unemployed, wealth, energy, 0.1], [govconsum, marketcap, houseconsum, 0.1],\n",
    "#                  [agriculture, industry, services],\n",
    "#                  [0.1, 0.1, 0.1, 0.1],\n",
    "#                  [grosscapital, lifeexpectancy, education, mfootprint]]\n",
    "#     side_sizes = [gini, voice, femaleminister]\n",
    "# \n",
    "#     # Drawing circles in main axes\n",
    "#     for ax_index, ax in enumerate(all_axes):\n",
    "#         for circle_index, (x, size) in enumerate(zip(all_x_coords[ax_index], all_sizes[ax_index])):\n",
    "#             color, alpha, radius = calculate_circle_properties(size)\n",
    "#             circle = plt.Circle((x, 0.5), radius=radius, color=color, alpha=alpha)\n",
    "#             ax.add_patch(circle)\n",
    "#             set_axis_properties(ax, all_x_coords[ax_index], all_x_axis_ticks[ax_index], all_y_axis_ticks[ax_index])\n",
    "# \n",
    "#     # Drawing circles in side axis\n",
    "#     for circle_index, (y, size) in enumerate(zip(side_y_coords, side_sizes)):\n",
    "#         color, alpha, radius = calculate_circle_properties(size)\n",
    "#         circle = plt.Circle((0.5, y), radius=radius, color=color, alpha=alpha)\n",
    "#         ax_side.add_patch(circle)\n",
    "# \n",
    "#     draw_arrow(all_axes[0], 0.5, all_axes[2], 0.5, linewidth=1, y1=0.3, y2=0.7)\n",
    "#     draw_arrow(all_axes[0], 0.5, all_axes[3], 0, linewidth=1, y1=0.3, y2=0.7, connectionstyle=\"arc3,rad=0.05\")\n",
    "#     draw_arrow(all_axes[0], 0.5, all_axes[1], 1, linewidth=1, y1=0.3, y2=0.7, connectionstyle=\"arc3,rad=-0.05\")\n",
    "# \n",
    "#     draw_arrow(all_axes[1], 1, all_axes[4], 0.5, linewidth=1, y1=0.3, y2=0.7, connectionstyle=\"arc3,rad=-0.1\")\n",
    "#     draw_arrow(all_axes[3], 0, all_axes[4], 0.5, linewidth=1, y1=0.3, y2=0.7, connectionstyle=\"arc3,rad=0.1\")\n",
    "#     draw_arrow(all_axes[2], 0.5, all_axes[4], 0.5, linewidth=1, y1=0.3, y2=0.7)\n",
    "# \n",
    "#     set_side_axis_properties(ax_side, side_y_coords, all_side_ticks)"
   ],
   "metadata": {
    "collapsed": false,
    "ExecuteTime": {
     "end_time": "2023-11-18T13:52:59.322551Z",
     "start_time": "2023-11-18T13:52:59.311754Z"
    }
   },
   "id": "e314cd4105d30d69"
  },
  {
   "cell_type": "code",
   "execution_count": 39,
   "outputs": [],
   "source": [
    "# fig, all_axes, ax_side = init_plot()\n",
    "# draw_plot(\"Canada\", 2015, all_axes, ax_side)\n",
    "# plt.show()"
   ],
   "metadata": {
    "collapsed": false,
    "ExecuteTime": {
     "end_time": "2023-11-18T13:52:59.322951Z",
     "start_time": "2023-11-18T13:52:59.315591Z"
    }
   },
   "id": "2b41ce77e68696c2"
  },
  {
   "cell_type": "markdown",
   "source": [],
   "metadata": {
    "collapsed": false
   },
   "id": "64611dd257313294"
  }
 ],
 "metadata": {
  "kernelspec": {
   "display_name": "Python 3",
   "language": "python",
   "name": "python3"
  },
  "language_info": {
   "codemirror_mode": {
    "name": "ipython",
    "version": 2
   },
   "file_extension": ".py",
   "mimetype": "text/x-python",
   "name": "python",
   "nbconvert_exporter": "python",
   "pygments_lexer": "ipython2",
   "version": "2.7.6"
  }
 },
 "nbformat": 4,
 "nbformat_minor": 5
}
