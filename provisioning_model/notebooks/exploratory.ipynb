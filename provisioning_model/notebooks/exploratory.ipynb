{
 "cells": [
  {
   "cell_type": "code",
   "execution_count": null,
   "outputs": [],
   "source": [
    "from matplotlib import pyplot as plt\n",
    "from matplotlib import gridspec\n",
    "import matplotlib.patches as patches"
   ],
   "metadata": {
    "collapsed": false
   },
   "id": "a92d9925d82b22db"
  },
  {
   "cell_type": "code",
   "execution_count": null,
   "outputs": [],
   "source": [
    "def normalize_series(country_series, world_mean, world_std):\n",
    "    \"\"\"\n",
    "    Normalizes the values of a country's series with respect to the world mean and standard deviation.\n",
    "\n",
    "    :param country_series: pandas Series containing the country's data.\n",
    "    :param world_mean: pandas Series containing the world's mean for each category.\n",
    "    :param world_std: pandas Series containing the world's standard deviation for each category.\n",
    "    :return: A dictionary containing normalized values for each category.\n",
    "    \"\"\"\n",
    "\n",
    "    normalized_data = {}\n",
    "    categories = [\"agriculture\", \"industry\", \"services\", \"energy\", \"education\", \"lifeexpectancy\", \"grosscapital\"]\n",
    "\n",
    "    for category in categories:\n",
    "        if category == \"agriculture\":\n",
    "            # Adding 1 to both country and world mean as per original calculation\n",
    "            normalized_value = ((country_series[category][0] + 1) - (world_mean[category] + 1)) / world_std[category]\n",
    "        else:\n",
    "            normalized_value = (country_series[category][0] - world_mean[category]) / world_std[category]\n",
    "\n",
    "        normalized_data[category] = normalized_value\n",
    "\n",
    "    return normalized_data"
   ],
   "metadata": {
    "collapsed": false
   },
   "id": "fb59067a1a22f03c"
  },
  {
   "cell_type": "code",
   "execution_count": null,
   "outputs": [],
   "source": [
    "def draw_arrow(ax1, x1, ax2, x2, y1=0.5, y2=0.5, arrowstyle=\"->\", connectionstyle=\"arc3\", color=\"black\", linewidth=2,\n",
    "               mutation_scale=20):\n",
    "    \"\"\"\n",
    "    Draw an arrow between two circles located on different axes.\n",
    "    \n",
    "    Parameters:\n",
    "    ax1: The source axes object.\n",
    "    x1: The x-coordinate of the circle in the source axes.\n",
    "    ax2: The destination axes object.\n",
    "    x2: The x-coordinate of the circle in the destination axes.\n",
    "    y1: The y-coordinate of the circle in the source axes.\n",
    "    y2: The y-coordinate of the circle in the destination axes.\n",
    "    arrowstyle: The style of the arrow.\n",
    "    connectionstyle: The style of the connection between the two axes.\n",
    "    color: The color of the arrow.\n",
    "    linewidth: The width of the arrow line.\n",
    "    mutation_scale: The size of the arrow head.\n",
    "    \"\"\"\n",
    "    # Starting point in ax1\n",
    "    xyA = (x1, y1)\n",
    "\n",
    "    # Ending point in ax2\n",
    "    xyB = (x2, y2)\n",
    "\n",
    "    # Create a ConnectionPatch arrow\n",
    "    arrow = patches.ConnectionPatch(\n",
    "        xyA=xyA,\n",
    "        xyB=xyB,\n",
    "        coordsA=ax1.transData,\n",
    "        coordsB=ax2.transData,\n",
    "        arrowstyle=arrowstyle,\n",
    "        connectionstyle=connectionstyle,\n",
    "        mutation_scale=mutation_scale,\n",
    "        linewidth=linewidth,\n",
    "        color=color\n",
    "    )\n",
    "\n",
    "    # Add the arrow to the figure\n",
    "    ax1.figure.patches.append(arrow)"
   ],
   "metadata": {
    "collapsed": false
   },
   "id": "2e336db8afc0f7ff"
  },
  {
   "cell_type": "code",
   "execution_count": null,
   "outputs": [],
   "source": [
    "canada_2015 = all_in_one_no_inf.loc[\n",
    "    (all_in_one_no_inf['Country.Name'] == 'Canada') & (all_in_one_no_inf['Year'] == 2015)].iloc[0]\n",
    "canada_2015"
   ],
   "metadata": {
    "collapsed": false
   },
   "id": "9b4c04b3a841c1cc"
  },
  {
   "cell_type": "code",
   "execution_count": null,
   "outputs": [],
   "source": [
    "all_countries_2015 = all_in_one_no_inf.loc[\n",
    "    (all_in_one_no_inf['Year'] == 2015)]\n",
    "world_2015_mean = all_countries_2015.select_dtypes(include=[np.number]).mean()\n",
    "world_2015_std = all_countries_2015.select_dtypes(include=[np.number]).std()"
   ],
   "metadata": {
    "collapsed": false
   },
   "id": "31ec77f2da76fc87"
  },
  {
   "cell_type": "code",
   "execution_count": null,
   "outputs": [],
   "source": [
    "normalized_canada_2015 = normalize_series(canada_2015, world_2015_mean, world_2015_std)\n",
    "normalized_canada_2015"
   ],
   "metadata": {
    "collapsed": false
   },
   "id": "6f4582e354eb92b5"
  },
  {
   "cell_type": "code",
   "execution_count": null,
   "outputs": [],
   "source": [
    "# industries\n",
    "agriculture = ((canada_2015[[\"agriculture\"]][0] + 1) - (world_2015_mean[\"agriculture\"] + 1)) / world_2015_std[\n",
    "    \"agriculture\"]\n",
    "industry = ((canada_2015[[\"industry\"]][0]) - (world_2015_mean[\"industry\"])) / world_2015_std[\n",
    "    \"industry\"]\n",
    "services = ((canada_2015[[\"services\"]][0]) - (world_2015_mean[\"services\"])) / world_2015_std[\n",
    "    \"services\"]\n",
    "\n",
    "# extraction\n",
    "energy = ((canada_2015[[\"energy\"]][0]) - (world_2015_mean[\"energy\"])) / world_2015_std[\n",
    "    \"energy\"]\n",
    "\n",
    "# dissipation\n",
    "education = ((canada_2015[[\"education\"]][0]) - (world_2015_mean[\"education\"])) / world_2015_std[\n",
    "    \"education\"]\n",
    "lifeexpectancy = ((canada_2015[[\"lifeexpectancy\"]][0]) - (world_2015_mean[\"lifeexpectancy\"])) / world_2015_std[\n",
    "    \"lifeexpectancy\"]\n",
    "grosscapital = ((canada_2015[[\"grosscapital\"]][0]) - (world_2015_mean[\"grosscapital\"])) / world_2015_std[\n",
    "    \"grosscapital\"]"
   ],
   "metadata": {
    "collapsed": false
   },
   "id": "initial_id"
  },
  {
   "cell_type": "code",
   "execution_count": null,
   "outputs": [],
   "source": [
    "# Arrays to define the structure (update as needed)\n",
    "all_x_coords = [[0.125, 0.375, 0.625, 0.875], [0.125, 0.375, 0.625, 0.875], [0.25, 0.5, 0.75],\n",
    "                [0.125, 0.375, 0.625, 0.875],\n",
    "                [0.125, 0.375, 0.625, 0.875]\n",
    "                ]\n",
    "all_x_axis_ticks = [['Worker', 'Capital', 'Energy', 'Resource'], ['State', 'Market', 'Household', 'Commons'],\n",
    "                    ['Agriculture', 'Industry', 'Services'], ['Core', 'Foundational', 'Overlooked', 'Competitive'],\n",
    "                    ['Accumulation', 'Needs', 'HDI', 'Waste']\n",
    "                    ]\n",
    "all_y_axis_ticks = [['extraction'], ['realms'], ['industry'], ['foundational'], ['dissipation']]\n",
    "all_sizes = [[0.1, 0.1, energy, 0.1], [0.1, 0.1, 0.1, 0.1], [agriculture, industry, services], [0.1, 0.1, 0.1, 0.1],\n",
    "             [grosscapital, lifeexpectancy, education, 0.1]]"
   ],
   "metadata": {
    "collapsed": false
   },
   "id": "dbcf9f03ccfc118f"
  },
  {
   "cell_type": "code",
   "execution_count": null,
   "outputs": [],
   "source": [
    "# Create a figure with a defined gridspec\n",
    "fig = plt.figure(figsize=(10, 5))\n",
    "gs = gridspec.GridSpec(3, 1)\n",
    "\n",
    "# Creating the first and the third main subplot\n",
    "ax1 = plt.subplot(gs[0, 0])\n",
    "ax2 = plt.subplot(gs[2, 0])\n",
    "\n",
    "# Creating a nested gridspec for the second main subplot\n",
    "gs_nested = gridspec.GridSpecFromSubplotSpec(1, 3, subplot_spec=gs[1])\n",
    "\n",
    "# Creating the three smaller subplots within the second main subplot\n",
    "ax3 = plt.subplot(gs_nested[0])\n",
    "ax4 = plt.subplot(gs_nested[1])\n",
    "ax5 = plt.subplot(gs_nested[2])\n",
    "\n",
    "# List of all axes\n",
    "all_axes = [ax1, ax3, ax4, ax5, ax2]  # Reordered to match the structure\n",
    "\n",
    "# Plotting loop\n",
    "for ax in all_axes:\n",
    "    index = all_axes.index(ax)\n",
    "    x_coords = all_x_coords[index]\n",
    "    x_axis_ticks = all_x_axis_ticks[index]\n",
    "    y_axis_ticks = all_y_axis_ticks[index]\n",
    "    sizes = all_sizes[index]\n",
    "    for x, size, color in zip(x_coords, sizes, x_axis_ticks):\n",
    "        if size < 0:\n",
    "            color = 'red'\n",
    "        else:\n",
    "            color = 'green'\n",
    "        circle = plt.Circle((x, 0.5), radius=abs(size) / 15, color=color, alpha=abs(size) / 5)\n",
    "        ax.set_ylim(0.3, 0.7)\n",
    "        ax.add_patch(circle)\n",
    "        ax.set_aspect('equal', 'box')\n",
    "        ax.set_xticks(x_coords)\n",
    "        ax.set_xticklabels(x_axis_ticks)\n",
    "        ax.set_yticks([0.5])\n",
    "        ax.set_yticklabels(y_axis_ticks)\n",
    "\n",
    "draw_arrow(ax1, 0.5, ax4, 0.5, linewidth=1, y1=0.3, y2=0.7)\n",
    "draw_arrow(ax1, 0.5, ax5, 0, linewidth=1, y1=0.3, y2=0.7, connectionstyle=\"arc3,rad=0.05\")\n",
    "draw_arrow(ax1, 0.5, ax3, 1, linewidth=1, y1=0.3, y2=0.7, connectionstyle=\"arc3,rad=-0.05\")\n",
    "\n",
    "draw_arrow(ax3, 1, ax2, 0.5, linewidth=1, y1=0.3, y2=0.7, connectionstyle=\"arc3,rad=-0.1\")\n",
    "draw_arrow(ax5, 0, ax2, 0.5, linewidth=1, y1=0.3, y2=0.7, connectionstyle=\"arc3,rad=0.1\")\n",
    "draw_arrow(ax4, 0.5, ax2, 0.5, linewidth=1, y1=0.3, y2=0.7)\n",
    "\n",
    "plt.tight_layout()\n",
    "plt.show()"
   ],
   "metadata": {
    "collapsed": false
   },
   "id": "4cf516c5ffbe61be"
  }
 ],
 "metadata": {
  "kernelspec": {
   "display_name": "Python 3",
   "language": "python",
   "name": "python3"
  },
  "language_info": {
   "codemirror_mode": {
    "name": "ipython",
    "version": 2
   },
   "file_extension": ".py",
   "mimetype": "text/x-python",
   "name": "python",
   "nbconvert_exporter": "python",
   "pygments_lexer": "ipython2",
   "version": "2.7.6"
  }
 },
 "nbformat": 4,
 "nbformat_minor": 5
}
