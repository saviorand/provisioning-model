{
 "cells": [
  {
   "cell_type": "code",
   "execution_count": 67,
   "outputs": [],
   "source": [
    "import pandas as pd\n",
    "import numpy as np\n",
    "from matplotlib import pyplot as plt\n",
    "from matplotlib import gridspec\n",
    "import matplotlib.patches as patches"
   ],
   "metadata": {
    "collapsed": false,
    "ExecuteTime": {
     "end_time": "2023-11-12T16:17:34.465797Z",
     "start_time": "2023-11-12T16:17:31.576696Z"
    }
   },
   "id": "a92d9925d82b22db"
  },
  {
   "cell_type": "code",
   "execution_count": 68,
   "outputs": [],
   "source": [
    "def normalize_series(country_series, world_mean, world_std, categories):\n",
    "    \"\"\"\n",
    "    Normalizes the values of a country's series with respect to the world mean and standard deviation.\n",
    "\n",
    "    :param country_series: pandas Series containing the country's data.\n",
    "    :param world_mean: pandas Series containing the world's mean for each category.\n",
    "    :param world_std: pandas Series containing the world's standard deviation for each category.\n",
    "    :return: A dictionary containing normalized values for each category.\n",
    "    \"\"\"\n",
    "\n",
    "    normalized_data = {}\n",
    "\n",
    "    for category in categories:\n",
    "        if category == \"agriculture\":\n",
    "            # Adding 1 to both country and world mean as per original calculation\n",
    "            normalized_value = ((country_series[category] + 1) - (world_mean[category] + 1)) / world_std[category]\n",
    "        else:\n",
    "            normalized_value = (country_series[category] - world_mean[category]) / world_std[category]\n",
    "\n",
    "        normalized_data[category] = normalized_value\n",
    "\n",
    "    return normalized_data"
   ],
   "metadata": {
    "collapsed": false,
    "ExecuteTime": {
     "end_time": "2023-11-12T16:17:34.495451Z",
     "start_time": "2023-11-12T16:17:31.680258Z"
    }
   },
   "id": "fb59067a1a22f03c"
  },
  {
   "cell_type": "code",
   "execution_count": 69,
   "outputs": [],
   "source": [
    "def draw_arrow(ax1, x1, ax2, x2, y1=0.5, y2=0.5, arrowstyle=\"->\", connectionstyle=\"arc3\", color=\"black\", linewidth=2,\n",
    "               mutation_scale=20):\n",
    "    \"\"\"\n",
    "    Draw an arrow between two circles located on different axes.\n",
    "    \n",
    "    Parameters:\n",
    "    ax1: The source axes object.\n",
    "    x1: The x-coordinate of the circle in the source axes.\n",
    "    ax2: The destination axes object.\n",
    "    x2: The x-coordinate of the circle in the destination axes.\n",
    "    y1: The y-coordinate of the circle in the source axes.\n",
    "    y2: The y-coordinate of the circle in the destination axes.\n",
    "    arrowstyle: The style of the arrow.\n",
    "    connectionstyle: The style of the connection between the two axes.\n",
    "    color: The color of the arrow.\n",
    "    linewidth: The width of the arrow line.\n",
    "    mutation_scale: The size of the arrow head.\n",
    "    \"\"\"\n",
    "    # Starting point in ax1\n",
    "    xyA = (x1, y1)\n",
    "\n",
    "    # Ending point in ax2\n",
    "    xyB = (x2, y2)\n",
    "\n",
    "    # Create a ConnectionPatch arrow\n",
    "    arrow = patches.ConnectionPatch(\n",
    "        xyA=xyA,\n",
    "        xyB=xyB,\n",
    "        coordsA=ax1.transData,\n",
    "        coordsB=ax2.transData,\n",
    "        arrowstyle=arrowstyle,\n",
    "        connectionstyle=connectionstyle,\n",
    "        mutation_scale=mutation_scale,\n",
    "        linewidth=linewidth,\n",
    "        color=color\n",
    "    )\n",
    "\n",
    "    # Add the arrow to the figure\n",
    "    ax1.figure.patches.append(arrow)"
   ],
   "metadata": {
    "collapsed": false,
    "ExecuteTime": {
     "end_time": "2023-11-12T16:17:34.495722Z",
     "start_time": "2023-11-12T16:17:31.702744Z"
    }
   },
   "id": "2e336db8afc0f7ff"
  },
  {
   "cell_type": "code",
   "execution_count": 70,
   "outputs": [],
   "source": [
    "all_in_one = pd.read_csv('../data/all_in_one.csv', index_col=0)\n",
    "all_in_one_no_inf = all_in_one.replace([np.inf, -np.inf], np.nan)\n",
    "wdi_outcomes = pd.read_csv('../data/wdi_outcomes.csv')\n",
    "wdi_outcomes_no_inf = wdi_outcomes.replace([np.inf, -np.inf], np.nan)"
   ],
   "metadata": {
    "collapsed": false,
    "ExecuteTime": {
     "end_time": "2023-11-12T16:17:34.596411Z",
     "start_time": "2023-11-12T16:17:31.713799Z"
    }
   },
   "id": "f215cbbd92cbe24"
  },
  {
   "cell_type": "code",
   "execution_count": 71,
   "outputs": [],
   "source": [
    "canada_2014 = all_in_one_no_inf.loc[\n",
    "    (all_in_one_no_inf['Country.Name'] == 'Canada') & (all_in_one_no_inf['Year'] == 2014)].iloc[0]\n",
    "canada_2014_outcomes = wdi_outcomes_no_inf.loc[\n",
    "    (wdi_outcomes_no_inf['Country.Name'] == 'Canada') & (wdi_outcomes_no_inf['Year'] == 2014)].iloc[0]"
   ],
   "metadata": {
    "collapsed": false,
    "ExecuteTime": {
     "end_time": "2023-11-12T16:17:34.634386Z",
     "start_time": "2023-11-12T16:17:33.178041Z"
    }
   },
   "id": "9b4c04b3a841c1cc"
  },
  {
   "cell_type": "code",
   "execution_count": 72,
   "outputs": [],
   "source": [
    "all_countries_2014 = all_in_one_no_inf.loc[\n",
    "    (all_in_one_no_inf['Year'] == 2014)]\n",
    "all_countries_2014_outcomes = wdi_outcomes_no_inf.loc[\n",
    "    (wdi_outcomes_no_inf['Year'] == 2014)]\n",
    "world_2014_mean = all_countries_2014.select_dtypes(include=[np.number]).mean()\n",
    "world_2014_mean_outcomes = all_countries_2014_outcomes.select_dtypes(include=[np.number]).mean()\n",
    "world_2014_std = all_countries_2014.select_dtypes(include=[np.number]).std()\n",
    "world_2014_std_outcomes = all_countries_2014_outcomes.select_dtypes(include=[np.number]).std()"
   ],
   "metadata": {
    "collapsed": false,
    "ExecuteTime": {
     "end_time": "2023-11-12T16:17:34.634562Z",
     "start_time": "2023-11-12T16:17:33.401229Z"
    }
   },
   "id": "31ec77f2da76fc87"
  },
  {
   "cell_type": "code",
   "execution_count": 73,
   "outputs": [],
   "source": [
    "def reject_outliers(sr, iq_range=0.8):\n",
    "    pcnt = (1 - iq_range) / 2\n",
    "    qlow, median, qhigh = sr.dropna().quantile([pcnt, 0.50, 1 - pcnt])\n",
    "    iqr = qhigh - qlow\n",
    "    return sr[(sr - median).abs() <= iqr]"
   ],
   "metadata": {
    "collapsed": false,
    "ExecuteTime": {
     "end_time": "2023-11-12T16:17:34.634601Z",
     "start_time": "2023-11-12T16:17:33.458263Z"
    }
   },
   "id": "ccc9dc2ea58b010f"
  },
  {
   "cell_type": "code",
   "execution_count": 74,
   "outputs": [],
   "source": [
    "all_countries_2014_energy_no_outliers = reject_outliers(all_countries_2014[\"energy\"])\n",
    "world_2014_mean_energy = pd.Series()\n",
    "world_2014_mean_energy[\"energy\"] = all_countries_2014_energy_no_outliers.mean()\n",
    "world_2014_std_energy = pd.Series()\n",
    "world_2014_std_energy[\"energy\"] = all_countries_2014_energy_no_outliers.std()"
   ],
   "metadata": {
    "collapsed": false,
    "ExecuteTime": {
     "end_time": "2023-11-12T16:17:34.634640Z",
     "start_time": "2023-11-12T16:17:33.460496Z"
    }
   },
   "id": "f47ed2d06a297197"
  },
  {
   "cell_type": "code",
   "execution_count": 75,
   "outputs": [],
   "source": [
    "normalized_canada_2014 = normalize_series(canada_2014, world_2014_mean, world_2014_std,\n",
    "                                          [\"agriculture\", \"industry\", \"services\", \"grosscapital\"])\n",
    "normalized_canada_2014_outcomes = normalize_series(canada_2014_outcomes, world_2014_mean_outcomes,\n",
    "                                                   world_2014_std_outcomes, [\"lifeexpectancy\", \"schoolenr\"])\n",
    "normalized_canada_2014_energy = normalize_series(canada_2014, world_2014_mean_energy, world_2014_std_energy, [\"energy\"])"
   ],
   "metadata": {
    "collapsed": false,
    "ExecuteTime": {
     "end_time": "2023-11-12T16:17:34.634685Z",
     "start_time": "2023-11-12T16:17:33.622246Z"
    }
   },
   "id": "6f4582e354eb92b5"
  },
  {
   "cell_type": "code",
   "execution_count": 81,
   "outputs": [],
   "source": [
    "agriculture, industry, services, grosscapital = normalized_canada_2014.values()\n",
    "lifeexpectancy, education = normalized_canada_2014_outcomes.values()\n",
    "energy = normalized_canada_2014_energy[\"energy\"]"
   ],
   "metadata": {
    "collapsed": false,
    "ExecuteTime": {
     "end_time": "2023-11-12T16:20:15.774379Z",
     "start_time": "2023-11-12T16:20:15.708743Z"
    }
   },
   "id": "40d7a9601c51ee24"
  },
  {
   "cell_type": "code",
   "execution_count": 82,
   "outputs": [],
   "source": [
    "# Arrays to define the structure (update as needed)\n",
    "all_x_coords = [[0.125, 0.375, 0.625, 0.875], [0.125, 0.375, 0.625, 0.875], [0.25, 0.5, 0.75],\n",
    "                [0.125, 0.375, 0.625, 0.875],\n",
    "                [0.125, 0.375, 0.625, 0.875]\n",
    "                ]\n",
    "all_x_axis_ticks = [['Worker', 'Capital', 'Energy', 'Resource'], ['State', 'Market', 'Household', 'Commons'],\n",
    "                    ['Agriculture', 'Industry', 'Services'], ['Core', 'Foundational', 'Overlooked', 'Competitive'],\n",
    "                    ['Accumulation', 'Needs', 'HDI', 'Waste']\n",
    "                    ]\n",
    "all_y_axis_ticks = [['extraction'], ['realms'], ['industry'], ['foundational'], ['dissipation']]\n",
    "all_sizes = [[0.1, 0.1, energy, 0.1], [0.1, 0.1, 0.1, 0.1], [agriculture, industry, services], [0.1, 0.1, 0.1, 0.1],\n",
    "             [grosscapital, lifeexpectancy, education, 0.1]]"
   ],
   "metadata": {
    "collapsed": false,
    "ExecuteTime": {
     "end_time": "2023-11-12T16:20:18.469806Z",
     "start_time": "2023-11-12T16:20:18.352987Z"
    }
   },
   "id": "dbcf9f03ccfc118f"
  },
  {
   "cell_type": "code",
   "execution_count": 83,
   "outputs": [
    {
     "data": {
      "text/plain": "<Figure size 1000x500 with 5 Axes>",
      "image/png": "[encoded data removed]"
     },
     "metadata": {},
     "output_type": "display_data"
    }
   ],
   "source": [
    "# Create a figure with a defined gridspec\n",
    "fig = plt.figure(figsize=(10, 5))\n",
    "gs = gridspec.GridSpec(3, 1)\n",
    "\n",
    "# Creating the first and the third main subplot\n",
    "ax1 = plt.subplot(gs[0, 0])\n",
    "ax2 = plt.subplot(gs[2, 0])\n",
    "\n",
    "# Creating a nested gridspec for the second main subplot\n",
    "gs_nested = gridspec.GridSpecFromSubplotSpec(1, 3, subplot_spec=gs[1])\n",
    "\n",
    "# Creating the three smaller subplots within the second main subplot\n",
    "ax3 = plt.subplot(gs_nested[0])\n",
    "ax4 = plt.subplot(gs_nested[1])\n",
    "ax5 = plt.subplot(gs_nested[2])\n",
    "\n",
    "# List of all axes\n",
    "all_axes = [ax1, ax3, ax4, ax5, ax2]  # Reordered to match the structure\n",
    "\n",
    "# Plotting loop\n",
    "for ax in all_axes:\n",
    "    index = all_axes.index(ax)\n",
    "    x_coords = all_x_coords[index]\n",
    "    x_axis_ticks = all_x_axis_ticks[index]\n",
    "    y_axis_ticks = all_y_axis_ticks[index]\n",
    "    sizes = all_sizes[index]\n",
    "    for x, size, color in zip(x_coords, sizes, x_axis_ticks):\n",
    "        if size < 0:\n",
    "            color = 'red'\n",
    "        else:\n",
    "            color = 'green'\n",
    "        circle = plt.Circle((x, 0.5), radius=abs(size) / 15, color=color, alpha=abs(size) / 5)\n",
    "        ax.set_ylim(0.3, 0.7)\n",
    "        ax.add_patch(circle)\n",
    "        ax.set_aspect('equal', 'box')\n",
    "        ax.set_xticks(x_coords)\n",
    "        ax.set_xticklabels(x_axis_ticks)\n",
    "        ax.set_yticks([0.5])\n",
    "        ax.set_yticklabels(y_axis_ticks)\n",
    "\n",
    "draw_arrow(ax1, 0.5, ax4, 0.5, linewidth=1, y1=0.3, y2=0.7)\n",
    "draw_arrow(ax1, 0.5, ax5, 0, linewidth=1, y1=0.3, y2=0.7, connectionstyle=\"arc3,rad=0.05\")\n",
    "draw_arrow(ax1, 0.5, ax3, 1, linewidth=1, y1=0.3, y2=0.7, connectionstyle=\"arc3,rad=-0.05\")\n",
    "\n",
    "draw_arrow(ax3, 1, ax2, 0.5, linewidth=1, y1=0.3, y2=0.7, connectionstyle=\"arc3,rad=-0.1\")\n",
    "draw_arrow(ax5, 0, ax2, 0.5, linewidth=1, y1=0.3, y2=0.7, connectionstyle=\"arc3,rad=0.1\")\n",
    "draw_arrow(ax4, 0.5, ax2, 0.5, linewidth=1, y1=0.3, y2=0.7)\n",
    "\n",
    "plt.tight_layout()\n",
    "plt.show()"
   ],
   "metadata": {
    "collapsed": false,
    "ExecuteTime": {
     "end_time": "2023-11-12T16:20:21.670468Z",
     "start_time": "2023-11-12T16:20:20.802176Z"
    }
   },
   "id": "4cf516c5ffbe61be"
  }
 ],
 "metadata": {
  "kernelspec": {
   "display_name": "Python 3",
   "language": "python",
   "name": "python3"
  },
  "language_info": {
   "codemirror_mode": {
    "name": "ipython",
    "version": 2
   },
   "file_extension": ".py",
   "mimetype": "text/x-python",
   "name": "python",
   "nbconvert_exporter": "python",
   "pygments_lexer": "ipython2",
   "version": "2.7.6"
  }
 },
 "nbformat": 4,
 "nbformat_minor": 5
}
