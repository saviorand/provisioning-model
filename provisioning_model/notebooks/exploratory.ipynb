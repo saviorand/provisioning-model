{
 "cells": [
  {
   "cell_type": "code",
   "execution_count": 679,
   "outputs": [],
   "source": [
    "import pandas as pd\n",
    "import numpy as np\n",
    "from matplotlib import pyplot as plt\n",
    "from matplotlib import gridspec\n",
    "import matplotlib.patches as patches"
   ],
   "metadata": {
    "collapsed": false,
    "ExecuteTime": {
     "end_time": "2023-11-18T11:24:38.818784Z",
     "start_time": "2023-11-18T11:24:38.776409Z"
    }
   },
   "id": "a92d9925d82b22db"
  },
  {
   "cell_type": "code",
   "execution_count": 680,
   "outputs": [],
   "source": [
    "from provisioning_model.functions.resource_flow import get_country_data, draw_arrow"
   ],
   "metadata": {
    "collapsed": false,
    "ExecuteTime": {
     "end_time": "2023-11-18T11:24:38.821166Z",
     "start_time": "2023-11-18T11:24:38.781099Z"
    }
   },
   "id": "fb59067a1a22f03c"
  },
  {
   "cell_type": "code",
   "execution_count": 681,
   "outputs": [],
   "source": [
    "all_in_one = pd.read_csv('../data/all_in_one.csv', index_col=0)\n",
    "all_in_one_no_inf = all_in_one.replace([np.inf, -np.inf], np.nan)\n",
    "wdi_outcomes = pd.read_csv('../data/wdi_outcomes.csv')\n",
    "wdi_outcomes_no_inf = wdi_outcomes.replace([np.inf, -np.inf], np.nan)\n",
    "wdi_realms = pd.read_csv('../data/wdi_realms.csv')\n",
    "wdi_realms_no_inf = wdi_realms.replace([np.inf, -np.inf], np.nan)\n",
    "un_mat_flows = pd.read_csv(\"../data/un_mat_flows.csv\")"
   ],
   "metadata": {
    "collapsed": false,
    "ExecuteTime": {
     "end_time": "2023-11-18T11:24:38.894202Z",
     "start_time": "2023-11-18T11:24:38.790252Z"
    }
   },
   "id": "f215cbbd92cbe24"
  },
  {
   "cell_type": "markdown",
   "source": [
    "## Prepare data"
   ],
   "metadata": {
    "collapsed": false
   },
   "id": "63087382e9b869af"
  },
  {
   "cell_type": "code",
   "execution_count": 682,
   "outputs": [],
   "source": [
    "# Arrays to define the structure (update as needed)\n",
    "all_x_coords = [[0.125, 0.375, 0.625, 0.875], [0.125, 0.375, 0.625, 0.875], [0.25, 0.5, 0.75],\n",
    "                [0.125, 0.375, 0.625, 0.875],\n",
    "                [0.125, 0.375, 0.625, 0.875]\n",
    "                ]\n",
    "side_y_coords = [0.2, 0.5, 0.8]  # Vertical positions for circles in the side subplot\n",
    "all_x_axis_ticks = [['Worker', 'Capital', 'Energy', 'Resource'], ['State', 'Market', 'Household', 'Commons'],\n",
    "                    ['Agriculture', 'Industry', 'Services'], ['Core', 'Foundational', 'Overlooked', 'Competitive'],\n",
    "                    ['Accumulation', 'Needs', 'HDI', 'Waste']\n",
    "                    ]\n",
    "all_y_axis_ticks = [['extraction'], ['realms'], ['industry'], ['foundational'], ['dissipation']]\n",
    "all_side_ticks = ['Ineq', 'Voice', 'Gender']"
   ],
   "metadata": {
    "collapsed": false,
    "ExecuteTime": {
     "end_time": "2023-11-18T11:24:38.899904Z",
     "start_time": "2023-11-18T11:24:38.896496Z"
    }
   },
   "id": "89ae947192b6deeb"
  },
  {
   "cell_type": "code",
   "execution_count": 683,
   "outputs": [],
   "source": [
    "def get_data_by_year(country, year):\n",
    "    result = get_country_data(all_in_one_no_inf, wdi_outcomes_no_inf, wdi_realms_no_inf, un_mat_flows, country, year)\n",
    "    return result.values()"
   ],
   "metadata": {
    "collapsed": false,
    "ExecuteTime": {
     "end_time": "2023-11-18T11:24:38.905620Z",
     "start_time": "2023-11-18T11:24:38.901129Z"
    }
   },
   "id": "d12bb6549972053d"
  },
  {
   "cell_type": "code",
   "execution_count": 684,
   "outputs": [
    {
     "data": {
      "text/plain": "dict_values([-0.6921296640890301, 0.14446673990198503, 0.8101800797845345, 0.1482818164916889, 0.041099766842131416, 1.3652388297876723, -0.571696342452766, -2.05286362054632, 0.908606199711027, 1.2323618623528552, 0.928790784029867, 0.39198798465638984, 0.2589860734901562, -0.3344324302518402, 0.35740579806337175, 1.3092302185618463])"
     },
     "execution_count": 684,
     "metadata": {},
     "output_type": "execute_result"
    }
   ],
   "source": [
    "get_data_by_year(\"Canada\", 2015)"
   ],
   "metadata": {
    "collapsed": false,
    "ExecuteTime": {
     "end_time": "2023-11-18T11:24:38.918670Z",
     "start_time": "2023-11-18T11:24:38.904776Z"
    }
   },
   "id": "e67920b0cb2aee5e"
  },
  {
   "cell_type": "markdown",
   "source": [
    "## Draw plots"
   ],
   "metadata": {
    "collapsed": false
   },
   "id": "11b5fedb1bacd2c8"
  },
  {
   "cell_type": "code",
   "execution_count": 685,
   "outputs": [
    {
     "data": {
      "application/vnd.plotly.v1+json": {
       "data": [
        {
         "customdata": [
          0.73
         ],
         "hovertemplate": "Value: %{customdata}<extra></extra>",
         "marker": {
          "color": "green",
          "opacity": 0.4,
          "size": 16.929116417625583
         },
         "mode": "markers",
         "x": [
          0.125
         ],
         "y": [
          0.5
         ],
         "type": "scatter",
         "xaxis": "x",
         "yaxis": "y"
        },
        {
         "customdata": [
          0.34
         ],
         "hovertemplate": "Value: %{customdata}<extra></extra>",
         "marker": {
          "color": "green",
          "opacity": 0.4,
          "size": 7.870768014862736
         },
         "mode": "markers",
         "x": [
          0.375
         ],
         "y": [
          0.5
         ],
         "type": "scatter",
         "xaxis": "x",
         "yaxis": "y"
        },
        {
         "customdata": [
          0.38
         ],
         "hovertemplate": "Value: %{customdata}<extra></extra>",
         "marker": {
          "color": "green",
          "opacity": 0.4,
          "size": 8.923406157648376
         },
         "mode": "markers",
         "x": [
          0.625
         ],
         "y": [
          0.5
         ],
         "type": "scatter",
         "xaxis": "x",
         "yaxis": "y"
        },
        {
         "customdata": [
          0.1
         ],
         "hovertemplate": "Value: %{customdata}<extra></extra>",
         "marker": {
          "color": "green",
          "opacity": 0.4,
          "size": 2.3333333333333335
         },
         "mode": "markers",
         "x": [
          0.875
         ],
         "y": [
          0.5
         ],
         "type": "scatter",
         "xaxis": "x",
         "yaxis": "y"
        },
        {
         "customdata": [
          0.56
         ],
         "hovertemplate": "Value: %{customdata}<extra></extra>",
         "marker": {
          "color": "green",
          "opacity": 0.4,
          "size": 13.091776570879345
         },
         "mode": "markers",
         "x": [
          0.125
         ],
         "y": [
          0.5
         ],
         "type": "scatter",
         "xaxis": "x3",
         "yaxis": "y3"
        },
        {
         "customdata": [
          -0.34
         ],
         "hovertemplate": "Value: %{customdata}<extra></extra>",
         "marker": {
          "color": "red",
          "opacity": 0.4,
          "size": 8.005137758941498
         },
         "mode": "markers",
         "x": [
          0.375
         ],
         "y": [
          0.5
         ],
         "type": "scatter",
         "xaxis": "x3",
         "yaxis": "y3"
        },
        {
         "customdata": [
          0.19
         ],
         "hovertemplate": "Value: %{customdata}<extra></extra>",
         "marker": {
          "color": "green",
          "opacity": 0.4,
          "size": 4.415801919831389
         },
         "mode": "markers",
         "x": [
          0.625
         ],
         "y": [
          0.5
         ],
         "type": "scatter",
         "xaxis": "x3",
         "yaxis": "y3"
        },
        {
         "customdata": [
          0.1
         ],
         "hovertemplate": "Value: %{customdata}<extra></extra>",
         "marker": {
          "color": "green",
          "opacity": 0.4,
          "size": 2.3333333333333335
         },
         "mode": "markers",
         "x": [
          0.875
         ],
         "y": [
          0.5
         ],
         "type": "scatter",
         "xaxis": "x3",
         "yaxis": "y3"
        },
        {
         "customdata": [
          -0.36
         ],
         "hovertemplate": "Value: %{customdata}<extra></extra>",
         "marker": {
          "color": "red",
          "opacity": 0.4,
          "size": 8.406777726263234
         },
         "mode": "markers",
         "x": [
          0.25
         ],
         "y": [
          0.5
         ],
         "type": "scatter",
         "xaxis": "x4",
         "yaxis": "y4"
        },
        {
         "customdata": [
          -0.87
         ],
         "hovertemplate": "Value: %{customdata}<extra></extra>",
         "marker": {
          "color": "red",
          "opacity": 0.4,
          "size": 20.307576342365348
         },
         "mode": "markers",
         "x": [
          0.5
         ],
         "y": [
          0.5
         ],
         "type": "scatter",
         "xaxis": "x4",
         "yaxis": "y4"
        },
        {
         "customdata": [
          1.01
         ],
         "hovertemplate": "Value: %{customdata}<extra></extra>",
         "marker": {
          "color": "green",
          "opacity": 0.4,
          "size": 23.620686594726582
         },
         "mode": "markers",
         "x": [
          0.75
         ],
         "y": [
          0.5
         ],
         "type": "scatter",
         "xaxis": "x4",
         "yaxis": "y4"
        },
        {
         "customdata": [
          0.1
         ],
         "hovertemplate": "Value: %{customdata}<extra></extra>",
         "marker": {
          "color": "green",
          "opacity": 0.4,
          "size": 2.3333333333333335
         },
         "mode": "markers",
         "x": [
          0.125
         ],
         "y": [
          0.5
         ],
         "type": "scatter",
         "xaxis": "x5",
         "yaxis": "y5"
        },
        {
         "customdata": [
          0.1
         ],
         "hovertemplate": "Value: %{customdata}<extra></extra>",
         "marker": {
          "color": "green",
          "opacity": 0.4,
          "size": 2.3333333333333335
         },
         "mode": "markers",
         "x": [
          0.375
         ],
         "y": [
          0.5
         ],
         "type": "scatter",
         "xaxis": "x5",
         "yaxis": "y5"
        },
        {
         "customdata": [
          0.1
         ],
         "hovertemplate": "Value: %{customdata}<extra></extra>",
         "marker": {
          "color": "green",
          "opacity": 0.4,
          "size": 2.3333333333333335
         },
         "mode": "markers",
         "x": [
          0.625
         ],
         "y": [
          0.5
         ],
         "type": "scatter",
         "xaxis": "x5",
         "yaxis": "y5"
        },
        {
         "customdata": [
          0.1
         ],
         "hovertemplate": "Value: %{customdata}<extra></extra>",
         "marker": {
          "color": "green",
          "opacity": 0.4,
          "size": 2.3333333333333335
         },
         "mode": "markers",
         "x": [
          0.875
         ],
         "y": [
          0.5
         ],
         "type": "scatter",
         "xaxis": "x5",
         "yaxis": "y5"
        },
        {
         "customdata": [
          -0.63
         ],
         "hovertemplate": "Value: %{customdata}<extra></extra>",
         "marker": {
          "color": "red",
          "opacity": 0.4,
          "size": 14.679011145634625
         },
         "mode": "markers",
         "x": [
          0.125
         ],
         "y": [
          0.5
         ],
         "type": "scatter",
         "xaxis": "x6",
         "yaxis": "y6"
        },
        {
         "customdata": [
          1.06
         ],
         "hovertemplate": "Value: %{customdata}<extra></extra>",
         "marker": {
          "color": "green",
          "opacity": 0.4,
          "size": 24.654439193986068
         },
         "mode": "markers",
         "x": [
          0.375
         ],
         "y": [
          0.5
         ],
         "type": "scatter",
         "xaxis": "x6",
         "yaxis": "y6"
        },
        {
         "customdata": [
          0.91
         ],
         "hovertemplate": "Value: %{customdata}<extra></extra>",
         "marker": {
          "color": "green",
          "opacity": 0.4,
          "size": 21.140085960317514
         },
         "mode": "markers",
         "x": [
          0.625
         ],
         "y": [
          0.5
         ],
         "type": "scatter",
         "xaxis": "x6",
         "yaxis": "y6"
        },
        {
         "customdata": [
          0.24
         ],
         "hovertemplate": "Value: %{customdata}<extra></extra>",
         "marker": {
          "color": "green",
          "opacity": 0.4,
          "size": 5.591574550809934
         },
         "mode": "markers",
         "x": [
          0.875
         ],
         "y": [
          0.5
         ],
         "type": "scatter",
         "xaxis": "x6",
         "yaxis": "y6"
        },
        {
         "customdata": [
          -0.54
         ],
         "hovertemplate": "Value: %{customdata}<extra></extra>",
         "marker": {
          "color": "red",
          "opacity": 0.4,
          "size": 12.56627226164293
         },
         "mode": "markers",
         "x": [
          0.5
         ],
         "y": [
          0.2
         ],
         "type": "scatter",
         "xaxis": "x2",
         "yaxis": "y2"
        },
        {
         "customdata": [
          -0.73
         ],
         "hovertemplate": "Value: %{customdata}<extra></extra>",
         "marker": {
          "color": "red",
          "opacity": 0.4,
          "size": 17.028638740980945
         },
         "mode": "markers",
         "x": [
          0.5
         ],
         "y": [
          0.5
         ],
         "type": "scatter",
         "xaxis": "x2",
         "yaxis": "y2"
        },
        {
         "customdata": [
          0.93
         ],
         "hovertemplate": "Value: %{customdata}<extra></extra>",
         "marker": {
          "color": "green",
          "opacity": 0.4,
          "size": 21.74495258705418
         },
         "mode": "markers",
         "x": [
          0.5
         ],
         "y": [
          0.8
         ],
         "type": "scatter",
         "xaxis": "x2",
         "yaxis": "y2"
        }
       ],
       "layout": {
        "template": {
         "data": {
          "histogram2dcontour": [
           {
            "type": "histogram2dcontour",
            "colorbar": {
             "outlinewidth": 0,
             "ticks": ""
            },
            "colorscale": [
             [
              0.0,
              "#0d0887"
             ],
             [
              0.1111111111111111,
              "#46039f"
             ],
             [
              0.2222222222222222,
              "#7201a8"
             ],
             [
              0.3333333333333333,
              "#9c179e"
             ],
             [
              0.4444444444444444,
              "#bd3786"
             ],
             [
              0.5555555555555556,
              "#d8576b"
             ],
             [
              0.6666666666666666,
              "#ed7953"
             ],
             [
              0.7777777777777778,
              "#fb9f3a"
             ],
             [
              0.8888888888888888,
              "#fdca26"
             ],
             [
              1.0,
              "#f0f921"
             ]
            ]
           }
          ],
          "choropleth": [
           {
            "type": "choropleth",
            "colorbar": {
             "outlinewidth": 0,
             "ticks": ""
            }
           }
          ],
          "histogram2d": [
           {
            "type": "histogram2d",
            "colorbar": {
             "outlinewidth": 0,
             "ticks": ""
            },
            "colorscale": [
             [
              0.0,
              "#0d0887"
             ],
             [
              0.1111111111111111,
              "#46039f"
             ],
             [
              0.2222222222222222,
              "#7201a8"
             ],
             [
              0.3333333333333333,
              "#9c179e"
             ],
             [
              0.4444444444444444,
              "#bd3786"
             ],
             [
              0.5555555555555556,
              "#d8576b"
             ],
             [
              0.6666666666666666,
              "#ed7953"
             ],
             [
              0.7777777777777778,
              "#fb9f3a"
             ],
             [
              0.8888888888888888,
              "#fdca26"
             ],
             [
              1.0,
              "#f0f921"
             ]
            ]
           }
          ],
          "heatmap": [
           {
            "type": "heatmap",
            "colorbar": {
             "outlinewidth": 0,
             "ticks": ""
            },
            "colorscale": [
             [
              0.0,
              "#0d0887"
             ],
             [
              0.1111111111111111,
              "#46039f"
             ],
             [
              0.2222222222222222,
              "#7201a8"
             ],
             [
              0.3333333333333333,
              "#9c179e"
             ],
             [
              0.4444444444444444,
              "#bd3786"
             ],
             [
              0.5555555555555556,
              "#d8576b"
             ],
             [
              0.6666666666666666,
              "#ed7953"
             ],
             [
              0.7777777777777778,
              "#fb9f3a"
             ],
             [
              0.8888888888888888,
              "#fdca26"
             ],
             [
              1.0,
              "#f0f921"
             ]
            ]
           }
          ],
          "heatmapgl": [
           {
            "type": "heatmapgl",
            "colorbar": {
             "outlinewidth": 0,
             "ticks": ""
            },
            "colorscale": [
             [
              0.0,
              "#0d0887"
             ],
             [
              0.1111111111111111,
              "#46039f"
             ],
             [
              0.2222222222222222,
              "#7201a8"
             ],
             [
              0.3333333333333333,
              "#9c179e"
             ],
             [
              0.4444444444444444,
              "#bd3786"
             ],
             [
              0.5555555555555556,
              "#d8576b"
             ],
             [
              0.6666666666666666,
              "#ed7953"
             ],
             [
              0.7777777777777778,
              "#fb9f3a"
             ],
             [
              0.8888888888888888,
              "#fdca26"
             ],
             [
              1.0,
              "#f0f921"
             ]
            ]
           }
          ],
          "contourcarpet": [
           {
            "type": "contourcarpet",
            "colorbar": {
             "outlinewidth": 0,
             "ticks": ""
            }
           }
          ],
          "contour": [
           {
            "type": "contour",
            "colorbar": {
             "outlinewidth": 0,
             "ticks": ""
            },
            "colorscale": [
             [
              0.0,
              "#0d0887"
             ],
             [
              0.1111111111111111,
              "#46039f"
             ],
             [
              0.2222222222222222,
              "#7201a8"
             ],
             [
              0.3333333333333333,
              "#9c179e"
             ],
             [
              0.4444444444444444,
              "#bd3786"
             ],
             [
              0.5555555555555556,
              "#d8576b"
             ],
             [
              0.6666666666666666,
              "#ed7953"
             ],
             [
              0.7777777777777778,
              "#fb9f3a"
             ],
             [
              0.8888888888888888,
              "#fdca26"
             ],
             [
              1.0,
              "#f0f921"
             ]
            ]
           }
          ],
          "surface": [
           {
            "type": "surface",
            "colorbar": {
             "outlinewidth": 0,
             "ticks": ""
            },
            "colorscale": [
             [
              0.0,
              "#0d0887"
             ],
             [
              0.1111111111111111,
              "#46039f"
             ],
             [
              0.2222222222222222,
              "#7201a8"
             ],
             [
              0.3333333333333333,
              "#9c179e"
             ],
             [
              0.4444444444444444,
              "#bd3786"
             ],
             [
              0.5555555555555556,
              "#d8576b"
             ],
             [
              0.6666666666666666,
              "#ed7953"
             ],
             [
              0.7777777777777778,
              "#fb9f3a"
             ],
             [
              0.8888888888888888,
              "#fdca26"
             ],
             [
              1.0,
              "#f0f921"
             ]
            ]
           }
          ],
          "mesh3d": [
           {
            "type": "mesh3d",
            "colorbar": {
             "outlinewidth": 0,
             "ticks": ""
            }
           }
          ],
          "scatter": [
           {
            "fillpattern": {
             "fillmode": "overlay",
             "size": 10,
             "solidity": 0.2
            },
            "type": "scatter"
           }
          ],
          "parcoords": [
           {
            "type": "parcoords",
            "line": {
             "colorbar": {
              "outlinewidth": 0,
              "ticks": ""
             }
            }
           }
          ],
          "scatterpolargl": [
           {
            "type": "scatterpolargl",
            "marker": {
             "colorbar": {
              "outlinewidth": 0,
              "ticks": ""
             }
            }
           }
          ],
          "bar": [
           {
            "error_x": {
             "color": "#2a3f5f"
            },
            "error_y": {
             "color": "#2a3f5f"
            },
            "marker": {
             "line": {
              "color": "#E5ECF6",
              "width": 0.5
             },
             "pattern": {
              "fillmode": "overlay",
              "size": 10,
              "solidity": 0.2
             }
            },
            "type": "bar"
           }
          ],
          "scattergeo": [
           {
            "type": "scattergeo",
            "marker": {
             "colorbar": {
              "outlinewidth": 0,
              "ticks": ""
             }
            }
           }
          ],
          "scatterpolar": [
           {
            "type": "scatterpolar",
            "marker": {
             "colorbar": {
              "outlinewidth": 0,
              "ticks": ""
             }
            }
           }
          ],
          "histogram": [
           {
            "marker": {
             "pattern": {
              "fillmode": "overlay",
              "size": 10,
              "solidity": 0.2
             }
            },
            "type": "histogram"
           }
          ],
          "scattergl": [
           {
            "type": "scattergl",
            "marker": {
             "colorbar": {
              "outlinewidth": 0,
              "ticks": ""
             }
            }
           }
          ],
          "scatter3d": [
           {
            "type": "scatter3d",
            "line": {
             "colorbar": {
              "outlinewidth": 0,
              "ticks": ""
             }
            },
            "marker": {
             "colorbar": {
              "outlinewidth": 0,
              "ticks": ""
             }
            }
           }
          ],
          "scattermapbox": [
           {
            "type": "scattermapbox",
            "marker": {
             "colorbar": {
              "outlinewidth": 0,
              "ticks": ""
             }
            }
           }
          ],
          "scatterternary": [
           {
            "type": "scatterternary",
            "marker": {
             "colorbar": {
              "outlinewidth": 0,
              "ticks": ""
             }
            }
           }
          ],
          "scattercarpet": [
           {
            "type": "scattercarpet",
            "marker": {
             "colorbar": {
              "outlinewidth": 0,
              "ticks": ""
             }
            }
           }
          ],
          "carpet": [
           {
            "aaxis": {
             "endlinecolor": "#2a3f5f",
             "gridcolor": "white",
             "linecolor": "white",
             "minorgridcolor": "white",
             "startlinecolor": "#2a3f5f"
            },
            "baxis": {
             "endlinecolor": "#2a3f5f",
             "gridcolor": "white",
             "linecolor": "white",
             "minorgridcolor": "white",
             "startlinecolor": "#2a3f5f"
            },
            "type": "carpet"
           }
          ],
          "table": [
           {
            "cells": {
             "fill": {
              "color": "#EBF0F8"
             },
             "line": {
              "color": "white"
             }
            },
            "header": {
             "fill": {
              "color": "#C8D4E3"
             },
             "line": {
              "color": "white"
             }
            },
            "type": "table"
           }
          ],
          "barpolar": [
           {
            "marker": {
             "line": {
              "color": "#E5ECF6",
              "width": 0.5
             },
             "pattern": {
              "fillmode": "overlay",
              "size": 10,
              "solidity": 0.2
             }
            },
            "type": "barpolar"
           }
          ],
          "pie": [
           {
            "automargin": true,
            "type": "pie"
           }
          ]
         },
         "layout": {
          "autotypenumbers": "strict",
          "colorway": [
           "#636efa",
           "#EF553B",
           "#00cc96",
           "#ab63fa",
           "#FFA15A",
           "#19d3f3",
           "#FF6692",
           "#B6E880",
           "#FF97FF",
           "#FECB52"
          ],
          "font": {
           "color": "#2a3f5f"
          },
          "hovermode": "closest",
          "hoverlabel": {
           "align": "left"
          },
          "paper_bgcolor": "white",
          "plot_bgcolor": "#E5ECF6",
          "polar": {
           "bgcolor": "#E5ECF6",
           "angularaxis": {
            "gridcolor": "white",
            "linecolor": "white",
            "ticks": ""
           },
           "radialaxis": {
            "gridcolor": "white",
            "linecolor": "white",
            "ticks": ""
           }
          },
          "ternary": {
           "bgcolor": "#E5ECF6",
           "aaxis": {
            "gridcolor": "white",
            "linecolor": "white",
            "ticks": ""
           },
           "baxis": {
            "gridcolor": "white",
            "linecolor": "white",
            "ticks": ""
           },
           "caxis": {
            "gridcolor": "white",
            "linecolor": "white",
            "ticks": ""
           }
          },
          "coloraxis": {
           "colorbar": {
            "outlinewidth": 0,
            "ticks": ""
           }
          },
          "colorscale": {
           "sequential": [
            [
             0.0,
             "#0d0887"
            ],
            [
             0.1111111111111111,
             "#46039f"
            ],
            [
             0.2222222222222222,
             "#7201a8"
            ],
            [
             0.3333333333333333,
             "#9c179e"
            ],
            [
             0.4444444444444444,
             "#bd3786"
            ],
            [
             0.5555555555555556,
             "#d8576b"
            ],
            [
             0.6666666666666666,
             "#ed7953"
            ],
            [
             0.7777777777777778,
             "#fb9f3a"
            ],
            [
             0.8888888888888888,
             "#fdca26"
            ],
            [
             1.0,
             "#f0f921"
            ]
           ],
           "sequentialminus": [
            [
             0.0,
             "#0d0887"
            ],
            [
             0.1111111111111111,
             "#46039f"
            ],
            [
             0.2222222222222222,
             "#7201a8"
            ],
            [
             0.3333333333333333,
             "#9c179e"
            ],
            [
             0.4444444444444444,
             "#bd3786"
            ],
            [
             0.5555555555555556,
             "#d8576b"
            ],
            [
             0.6666666666666666,
             "#ed7953"
            ],
            [
             0.7777777777777778,
             "#fb9f3a"
            ],
            [
             0.8888888888888888,
             "#fdca26"
            ],
            [
             1.0,
             "#f0f921"
            ]
           ],
           "diverging": [
            [
             0,
             "#8e0152"
            ],
            [
             0.1,
             "#c51b7d"
            ],
            [
             0.2,
             "#de77ae"
            ],
            [
             0.3,
             "#f1b6da"
            ],
            [
             0.4,
             "#fde0ef"
            ],
            [
             0.5,
             "#f7f7f7"
            ],
            [
             0.6,
             "#e6f5d0"
            ],
            [
             0.7,
             "#b8e186"
            ],
            [
             0.8,
             "#7fbc41"
            ],
            [
             0.9,
             "#4d9221"
            ],
            [
             1,
             "#276419"
            ]
           ]
          },
          "xaxis": {
           "gridcolor": "white",
           "linecolor": "white",
           "ticks": "",
           "title": {
            "standoff": 15
           },
           "zerolinecolor": "white",
           "automargin": true,
           "zerolinewidth": 2
          },
          "yaxis": {
           "gridcolor": "white",
           "linecolor": "white",
           "ticks": "",
           "title": {
            "standoff": 15
           },
           "zerolinecolor": "white",
           "automargin": true,
           "zerolinewidth": 2
          },
          "scene": {
           "xaxis": {
            "backgroundcolor": "#E5ECF6",
            "gridcolor": "white",
            "linecolor": "white",
            "showbackground": true,
            "ticks": "",
            "zerolinecolor": "white",
            "gridwidth": 2
           },
           "yaxis": {
            "backgroundcolor": "#E5ECF6",
            "gridcolor": "white",
            "linecolor": "white",
            "showbackground": true,
            "ticks": "",
            "zerolinecolor": "white",
            "gridwidth": 2
           },
           "zaxis": {
            "backgroundcolor": "#E5ECF6",
            "gridcolor": "white",
            "linecolor": "white",
            "showbackground": true,
            "ticks": "",
            "zerolinecolor": "white",
            "gridwidth": 2
           }
          },
          "shapedefaults": {
           "line": {
            "color": "#2a3f5f"
           }
          },
          "annotationdefaults": {
           "arrowcolor": "#2a3f5f",
           "arrowhead": 0,
           "arrowwidth": 1
          },
          "geo": {
           "bgcolor": "white",
           "landcolor": "#E5ECF6",
           "subunitcolor": "white",
           "showland": true,
           "showlakes": true,
           "lakecolor": "white"
          },
          "title": {
           "x": 0.05
          },
          "mapbox": {
           "style": "light"
          }
         }
        },
        "xaxis": {
         "anchor": "y",
         "domain": [
          0.29647058823529415,
          0.5729411764705883
         ],
         "tickvals": [
          0.125,
          0.375,
          0.625,
          0.875
         ],
         "ticktext": [
          "Worker",
          "Capital",
          "Energy",
          "Resource"
         ]
        },
        "yaxis": {
         "anchor": "x",
         "domain": [
          0.7333333333333333,
          1.0
         ],
         "range": [
          0.3,
          0.7
         ],
         "tickvals": [
          0.5
         ],
         "ticktext": [
          "extraction"
         ]
        },
        "xaxis2": {
         "anchor": "y2",
         "domain": [
          0.8894117647058823,
          1.0
         ],
         "range": [
          0.3,
          0.7
         ],
         "tickvals": [
          0.5
         ],
         "ticktext": [
          "Decision-Making"
         ]
        },
        "yaxis2": {
         "anchor": "x2",
         "domain": [
          0.0,
          1.0
         ],
         "tickvals": [
          0.2,
          0.5,
          0.8
         ],
         "ticktext": [
          "Ineq",
          "Voice",
          "Gender"
         ]
        },
        "xaxis3": {
         "anchor": "y3",
         "domain": [
          0.0,
          0.27647058823529413
         ],
         "tickvals": [
          0.125,
          0.375,
          0.625,
          0.875
         ],
         "ticktext": [
          "State",
          "Market",
          "Household",
          "Commons"
         ]
        },
        "yaxis3": {
         "anchor": "x3",
         "domain": [
          0.36666666666666664,
          0.6333333333333333
         ],
         "range": [
          0.3,
          0.7
         ],
         "tickvals": [
          0.5
         ],
         "ticktext": [
          "realms"
         ]
        },
        "xaxis4": {
         "anchor": "y4",
         "domain": [
          0.29647058823529415,
          0.5729411764705883
         ],
         "tickvals": [
          0.25,
          0.5,
          0.75
         ],
         "ticktext": [
          "Agriculture",
          "Industry",
          "Services"
         ]
        },
        "yaxis4": {
         "anchor": "x4",
         "domain": [
          0.36666666666666664,
          0.6333333333333333
         ],
         "range": [
          0.3,
          0.7
         ],
         "tickvals": [
          0.5
         ],
         "ticktext": [
          "industry"
         ]
        },
        "xaxis5": {
         "anchor": "y5",
         "domain": [
          0.5929411764705883,
          0.8694117647058824
         ],
         "tickvals": [
          0.125,
          0.375,
          0.625,
          0.875
         ],
         "ticktext": [
          "Core",
          "Foundational",
          "Overlooked",
          "Competitive"
         ]
        },
        "yaxis5": {
         "anchor": "x5",
         "domain": [
          0.36666666666666664,
          0.6333333333333333
         ],
         "range": [
          0.3,
          0.7
         ],
         "tickvals": [
          0.5
         ],
         "ticktext": [
          "foundational"
         ]
        },
        "xaxis6": {
         "anchor": "y6",
         "domain": [
          0.29647058823529415,
          0.5729411764705883
         ],
         "tickvals": [
          0.125,
          0.375,
          0.625,
          0.875
         ],
         "ticktext": [
          "Accumulation",
          "Needs",
          "HDI",
          "Waste"
         ]
        },
        "yaxis6": {
         "anchor": "x6",
         "domain": [
          0.0,
          0.26666666666666666
         ],
         "range": [
          0.3,
          0.7
         ],
         "tickvals": [
          0.5
         ],
         "ticktext": [
          "dissipation"
         ]
        },
        "annotations": [
         {
          "font": {
           "size": 18
          },
          "showarrow": false,
          "text": "Year: 2010",
          "x": 0,
          "xref": "paper",
          "y": 0.95,
          "yref": "paper"
         },
         {
          "font": {
           "size": 18
          },
          "showarrow": false,
          "text": "Country: Greece",
          "x": 0,
          "xref": "paper",
          "y": 0.85,
          "yref": "paper"
         }
        ],
        "updatemenus": [
         {
          "buttons": [
           {
            "args": [
             null,
             {
              "frame": {
               "duration": 1000
              }
             }
            ],
            "label": "Play",
            "method": "animate"
           },
           {
            "args": [
             [
              null
             ],
             {
              "frame": {
               "duration": 0,
               "redraw": false
              }
             }
            ],
            "label": "Pause",
            "method": "animate"
           }
          ],
          "showactive": false,
          "type": "buttons"
         }
        ],
        "showlegend": false
       },
       "frames": [
        {
         "data": [
          {
           "customdata": [
            0.73
           ],
           "hovertemplate": "Value: %{customdata}<extra></extra>",
           "marker": {
            "color": "green",
            "opacity": 0.4,
            "size": 16.929116417625583
           },
           "mode": "markers",
           "x": [
            0.125
           ],
           "xaxis": "x",
           "y": [
            0.5
           ],
           "yaxis": "y",
           "type": "scatter"
          },
          {
           "customdata": [
            0.34
           ],
           "hovertemplate": "Value: %{customdata}<extra></extra>",
           "marker": {
            "color": "green",
            "opacity": 0.4,
            "size": 7.870768014862736
           },
           "mode": "markers",
           "x": [
            0.375
           ],
           "xaxis": "x",
           "y": [
            0.5
           ],
           "yaxis": "y",
           "type": "scatter"
          },
          {
           "customdata": [
            0.38
           ],
           "hovertemplate": "Value: %{customdata}<extra></extra>",
           "marker": {
            "color": "green",
            "opacity": 0.4,
            "size": 8.923406157648376
           },
           "mode": "markers",
           "x": [
            0.625
           ],
           "xaxis": "x",
           "y": [
            0.5
           ],
           "yaxis": "y",
           "type": "scatter"
          },
          {
           "customdata": [
            0.1
           ],
           "hovertemplate": "Value: %{customdata}<extra></extra>",
           "marker": {
            "color": "green",
            "opacity": 0.4,
            "size": 2.3333333333333335
           },
           "mode": "markers",
           "x": [
            0.875
           ],
           "xaxis": "x",
           "y": [
            0.5
           ],
           "yaxis": "y",
           "type": "scatter"
          },
          {
           "customdata": [
            0.56
           ],
           "hovertemplate": "Value: %{customdata}<extra></extra>",
           "marker": {
            "color": "green",
            "opacity": 0.4,
            "size": 13.091776570879345
           },
           "mode": "markers",
           "x": [
            0.125
           ],
           "xaxis": "x3",
           "y": [
            0.5
           ],
           "yaxis": "y3",
           "type": "scatter"
          },
          {
           "customdata": [
            -0.34
           ],
           "hovertemplate": "Value: %{customdata}<extra></extra>",
           "marker": {
            "color": "red",
            "opacity": 0.4,
            "size": 8.005137758941498
           },
           "mode": "markers",
           "x": [
            0.375
           ],
           "xaxis": "x3",
           "y": [
            0.5
           ],
           "yaxis": "y3",
           "type": "scatter"
          },
          {
           "customdata": [
            0.19
           ],
           "hovertemplate": "Value: %{customdata}<extra></extra>",
           "marker": {
            "color": "green",
            "opacity": 0.4,
            "size": 4.415801919831389
           },
           "mode": "markers",
           "x": [
            0.625
           ],
           "xaxis": "x3",
           "y": [
            0.5
           ],
           "yaxis": "y3",
           "type": "scatter"
          },
          {
           "customdata": [
            0.1
           ],
           "hovertemplate": "Value: %{customdata}<extra></extra>",
           "marker": {
            "color": "green",
            "opacity": 0.4,
            "size": 2.3333333333333335
           },
           "mode": "markers",
           "x": [
            0.875
           ],
           "xaxis": "x3",
           "y": [
            0.5
           ],
           "yaxis": "y3",
           "type": "scatter"
          },
          {
           "customdata": [
            -0.36
           ],
           "hovertemplate": "Value: %{customdata}<extra></extra>",
           "marker": {
            "color": "red",
            "opacity": 0.4,
            "size": 8.406777726263234
           },
           "mode": "markers",
           "x": [
            0.25
           ],
           "xaxis": "x4",
           "y": [
            0.5
           ],
           "yaxis": "y4",
           "type": "scatter"
          },
          {
           "customdata": [
            -0.87
           ],
           "hovertemplate": "Value: %{customdata}<extra></extra>",
           "marker": {
            "color": "red",
            "opacity": 0.4,
            "size": 20.307576342365348
           },
           "mode": "markers",
           "x": [
            0.5
           ],
           "xaxis": "x4",
           "y": [
            0.5
           ],
           "yaxis": "y4",
           "type": "scatter"
          },
          {
           "customdata": [
            1.01
           ],
           "hovertemplate": "Value: %{customdata}<extra></extra>",
           "marker": {
            "color": "green",
            "opacity": 0.4,
            "size": 23.620686594726582
           },
           "mode": "markers",
           "x": [
            0.75
           ],
           "xaxis": "x4",
           "y": [
            0.5
           ],
           "yaxis": "y4",
           "type": "scatter"
          },
          {
           "customdata": [
            0.1
           ],
           "hovertemplate": "Value: %{customdata}<extra></extra>",
           "marker": {
            "color": "green",
            "opacity": 0.4,
            "size": 2.3333333333333335
           },
           "mode": "markers",
           "x": [
            0.125
           ],
           "xaxis": "x5",
           "y": [
            0.5
           ],
           "yaxis": "y5",
           "type": "scatter"
          },
          {
           "customdata": [
            0.1
           ],
           "hovertemplate": "Value: %{customdata}<extra></extra>",
           "marker": {
            "color": "green",
            "opacity": 0.4,
            "size": 2.3333333333333335
           },
           "mode": "markers",
           "x": [
            0.375
           ],
           "xaxis": "x5",
           "y": [
            0.5
           ],
           "yaxis": "y5",
           "type": "scatter"
          },
          {
           "customdata": [
            0.1
           ],
           "hovertemplate": "Value: %{customdata}<extra></extra>",
           "marker": {
            "color": "green",
            "opacity": 0.4,
            "size": 2.3333333333333335
           },
           "mode": "markers",
           "x": [
            0.625
           ],
           "xaxis": "x5",
           "y": [
            0.5
           ],
           "yaxis": "y5",
           "type": "scatter"
          },
          {
           "customdata": [
            0.1
           ],
           "hovertemplate": "Value: %{customdata}<extra></extra>",
           "marker": {
            "color": "green",
            "opacity": 0.4,
            "size": 2.3333333333333335
           },
           "mode": "markers",
           "x": [
            0.875
           ],
           "xaxis": "x5",
           "y": [
            0.5
           ],
           "yaxis": "y5",
           "type": "scatter"
          },
          {
           "customdata": [
            -0.63
           ],
           "hovertemplate": "Value: %{customdata}<extra></extra>",
           "marker": {
            "color": "red",
            "opacity": 0.4,
            "size": 14.679011145634625
           },
           "mode": "markers",
           "x": [
            0.125
           ],
           "xaxis": "x6",
           "y": [
            0.5
           ],
           "yaxis": "y6",
           "type": "scatter"
          },
          {
           "customdata": [
            1.06
           ],
           "hovertemplate": "Value: %{customdata}<extra></extra>",
           "marker": {
            "color": "green",
            "opacity": 0.4,
            "size": 24.654439193986068
           },
           "mode": "markers",
           "x": [
            0.375
           ],
           "xaxis": "x6",
           "y": [
            0.5
           ],
           "yaxis": "y6",
           "type": "scatter"
          },
          {
           "customdata": [
            0.91
           ],
           "hovertemplate": "Value: %{customdata}<extra></extra>",
           "marker": {
            "color": "green",
            "opacity": 0.4,
            "size": 21.140085960317514
           },
           "mode": "markers",
           "x": [
            0.625
           ],
           "xaxis": "x6",
           "y": [
            0.5
           ],
           "yaxis": "y6",
           "type": "scatter"
          },
          {
           "customdata": [
            0.24
           ],
           "hovertemplate": "Value: %{customdata}<extra></extra>",
           "marker": {
            "color": "green",
            "opacity": 0.4,
            "size": 5.591574550809934
           },
           "mode": "markers",
           "x": [
            0.875
           ],
           "xaxis": "x6",
           "y": [
            0.5
           ],
           "yaxis": "y6",
           "type": "scatter"
          },
          {
           "customdata": [
            -0.54
           ],
           "hovertemplate": "Value: %{customdata}<extra></extra>",
           "marker": {
            "color": "red",
            "opacity": 0.4,
            "size": 12.56627226164293
           },
           "mode": "markers",
           "x": [
            0.5
           ],
           "xaxis": "x2",
           "y": [
            0.2
           ],
           "yaxis": "y2",
           "type": "scatter"
          },
          {
           "customdata": [
            -0.73
           ],
           "hovertemplate": "Value: %{customdata}<extra></extra>",
           "marker": {
            "color": "red",
            "opacity": 0.4,
            "size": 17.028638740980945
           },
           "mode": "markers",
           "x": [
            0.5
           ],
           "xaxis": "x2",
           "y": [
            0.5
           ],
           "yaxis": "y2",
           "type": "scatter"
          },
          {
           "customdata": [
            0.93
           ],
           "hovertemplate": "Value: %{customdata}<extra></extra>",
           "marker": {
            "color": "green",
            "opacity": 0.4,
            "size": 21.74495258705418
           },
           "mode": "markers",
           "x": [
            0.5
           ],
           "xaxis": "x2",
           "y": [
            0.8
           ],
           "yaxis": "y2",
           "type": "scatter"
          }
         ],
         "layout": {
          "annotations": [
           {
            "font": {
             "size": 18
            },
            "showarrow": false,
            "text": "Year: 2010",
            "x": 0,
            "xref": "paper",
            "y": 0.95,
            "yref": "paper"
           },
           {
            "font": {
             "size": 18
            },
            "showarrow": false,
            "text": "Country: Greece",
            "x": 0,
            "xref": "paper",
            "y": 0.85,
            "yref": "paper"
           }
          ]
         },
         "name": "2010"
        },
        {
         "data": [
          {
           "customdata": [
            1.11
           ],
           "hovertemplate": "Value: %{customdata}<extra></extra>",
           "marker": {
            "color": "green",
            "opacity": 0.4,
            "size": 25.84354815294775
           },
           "mode": "markers",
           "x": [
            0.125
           ],
           "xaxis": "x",
           "y": [
            0.5
           ],
           "yaxis": "y",
           "type": "scatter"
          },
          {
           "customdata": [
            0.24
           ],
           "hovertemplate": "Value: %{customdata}<extra></extra>",
           "marker": {
            "color": "green",
            "opacity": 0.4,
            "size": 5.490928822306131
           },
           "mode": "markers",
           "x": [
            0.375
           ],
           "xaxis": "x",
           "y": [
            0.5
           ],
           "yaxis": "y",
           "type": "scatter"
          },
          {
           "customdata": [
            0.37
           ],
           "hovertemplate": "Value: %{customdata}<extra></extra>",
           "marker": {
            "color": "green",
            "opacity": 0.4,
            "size": 8.565797510643183
           },
           "mode": "markers",
           "x": [
            0.625
           ],
           "xaxis": "x",
           "y": [
            0.5
           ],
           "yaxis": "y",
           "type": "scatter"
          },
          {
           "customdata": [
            0.1
           ],
           "hovertemplate": "Value: %{customdata}<extra></extra>",
           "marker": {
            "color": "green",
            "opacity": 0.4,
            "size": 2.3333333333333335
           },
           "mode": "markers",
           "x": [
            0.875
           ],
           "xaxis": "x",
           "y": [
            0.5
           ],
           "yaxis": "y",
           "type": "scatter"
          },
          {
           "customdata": [
            0.53
           ],
           "hovertemplate": "Value: %{customdata}<extra></extra>",
           "marker": {
            "color": "green",
            "opacity": 0.4,
            "size": 12.396930925351562
           },
           "mode": "markers",
           "x": [
            0.125
           ],
           "xaxis": "x3",
           "y": [
            0.5
           ],
           "yaxis": "y3",
           "type": "scatter"
          },
          {
           "customdata": [
            -0.42
           ],
           "hovertemplate": "Value: %{customdata}<extra></extra>",
           "marker": {
            "color": "red",
            "opacity": 0.4,
            "size": 9.912484984201713
           },
           "mode": "markers",
           "x": [
            0.375
           ],
           "xaxis": "x3",
           "y": [
            0.5
           ],
           "yaxis": "y3",
           "type": "scatter"
          },
          {
           "customdata": [
            0.33
           ],
           "hovertemplate": "Value: %{customdata}<extra></extra>",
           "marker": {
            "color": "green",
            "opacity": 0.4,
            "size": 7.609263496940844
           },
           "mode": "markers",
           "x": [
            0.625
           ],
           "xaxis": "x3",
           "y": [
            0.5
           ],
           "yaxis": "y3",
           "type": "scatter"
          },
          {
           "customdata": [
            0.1
           ],
           "hovertemplate": "Value: %{customdata}<extra></extra>",
           "marker": {
            "color": "green",
            "opacity": 0.4,
            "size": 2.3333333333333335
           },
           "mode": "markers",
           "x": [
            0.875
           ],
           "xaxis": "x3",
           "y": [
            0.5
           ],
           "yaxis": "y3",
           "type": "scatter"
          },
          {
           "customdata": [
            -0.33
           ],
           "hovertemplate": "Value: %{customdata}<extra></extra>",
           "marker": {
            "color": "red",
            "opacity": 0.4,
            "size": 7.727836306546791
           },
           "mode": "markers",
           "x": [
            0.25
           ],
           "xaxis": "x4",
           "y": [
            0.5
           ],
           "yaxis": "y4",
           "type": "scatter"
          },
          {
           "customdata": [
            -0.94
           ],
           "hovertemplate": "Value: %{customdata}<extra></extra>",
           "marker": {
            "color": "red",
            "opacity": 0.4,
            "size": 22.024558636829823
           },
           "mode": "markers",
           "x": [
            0.5
           ],
           "xaxis": "x4",
           "y": [
            0.5
           ],
           "yaxis": "y4",
           "type": "scatter"
          },
          {
           "customdata": [
            1.0
           ],
           "hovertemplate": "Value: %{customdata}<extra></extra>",
           "marker": {
            "color": "green",
            "opacity": 0.4,
            "size": 23.366422179428024
           },
           "mode": "markers",
           "x": [
            0.75
           ],
           "xaxis": "x4",
           "y": [
            0.5
           ],
           "yaxis": "y4",
           "type": "scatter"
          },
          {
           "customdata": [
            0.1
           ],
           "hovertemplate": "Value: %{customdata}<extra></extra>",
           "marker": {
            "color": "green",
            "opacity": 0.4,
            "size": 2.3333333333333335
           },
           "mode": "markers",
           "x": [
            0.125
           ],
           "xaxis": "x5",
           "y": [
            0.5
           ],
           "yaxis": "y5",
           "type": "scatter"
          },
          {
           "customdata": [
            0.1
           ],
           "hovertemplate": "Value: %{customdata}<extra></extra>",
           "marker": {
            "color": "green",
            "opacity": 0.4,
            "size": 2.3333333333333335
           },
           "mode": "markers",
           "x": [
            0.375
           ],
           "xaxis": "x5",
           "y": [
            0.5
           ],
           "yaxis": "y5",
           "type": "scatter"
          },
          {
           "customdata": [
            0.1
           ],
           "hovertemplate": "Value: %{customdata}<extra></extra>",
           "marker": {
            "color": "green",
            "opacity": 0.4,
            "size": 2.3333333333333335
           },
           "mode": "markers",
           "x": [
            0.625
           ],
           "xaxis": "x5",
           "y": [
            0.5
           ],
           "yaxis": "y5",
           "type": "scatter"
          },
          {
           "customdata": [
            0.1
           ],
           "hovertemplate": "Value: %{customdata}<extra></extra>",
           "marker": {
            "color": "green",
            "opacity": 0.4,
            "size": 2.3333333333333335
           },
           "mode": "markers",
           "x": [
            0.875
           ],
           "xaxis": "x5",
           "y": [
            0.5
           ],
           "yaxis": "y5",
           "type": "scatter"
          },
          {
           "customdata": [
            -1.32
           ],
           "hovertemplate": "Value: %{customdata}<extra></extra>",
           "marker": {
            "color": "red",
            "opacity": 0.4,
            "size": 30.712226263287842
           },
           "mode": "markers",
           "x": [
            0.125
           ],
           "xaxis": "x6",
           "y": [
            0.5
           ],
           "yaxis": "y6",
           "type": "scatter"
          },
          {
           "customdata": [
            1.1
           ],
           "hovertemplate": "Value: %{customdata}<extra></extra>",
           "marker": {
            "color": "green",
            "opacity": 0.4,
            "size": 25.642130688329882
           },
           "mode": "markers",
           "x": [
            0.375
           ],
           "xaxis": "x6",
           "y": [
            0.5
           ],
           "yaxis": "y6",
           "type": "scatter"
          },
          {
           "customdata": [
            0.79
           ],
           "hovertemplate": "Value: %{customdata}<extra></extra>",
           "marker": {
            "color": "green",
            "opacity": 0.4,
            "size": 18.507718451954027
           },
           "mode": "markers",
           "x": [
            0.625
           ],
           "xaxis": "x6",
           "y": [
            0.5
           ],
           "yaxis": "y6",
           "type": "scatter"
          },
          {
           "customdata": [
            0.17
           ],
           "hovertemplate": "Value: %{customdata}<extra></extra>",
           "marker": {
            "color": "green",
            "opacity": 0.4,
            "size": 3.9590375264184425
           },
           "mode": "markers",
           "x": [
            0.875
           ],
           "xaxis": "x6",
           "y": [
            0.5
           ],
           "yaxis": "y6",
           "type": "scatter"
          },
          {
           "customdata": [
            -0.48
           ],
           "hovertemplate": "Value: %{customdata}<extra></extra>",
           "marker": {
            "color": "red",
            "opacity": 0.4,
            "size": 11.212981402696773
           },
           "mode": "markers",
           "x": [
            0.5
           ],
           "xaxis": "x2",
           "y": [
            0.2
           ],
           "yaxis": "y2",
           "type": "scatter"
          },
          {
           "customdata": [
            -0.61
           ],
           "hovertemplate": "Value: %{customdata}<extra></extra>",
           "marker": {
            "color": "red",
            "opacity": 0.4,
            "size": 14.250678301840523
           },
           "mode": "markers",
           "x": [
            0.5
           ],
           "xaxis": "x2",
           "y": [
            0.5
           ],
           "yaxis": "y2",
           "type": "scatter"
          },
          {
           "customdata": [
            null
           ],
           "hovertemplate": "Value: %{customdata}<extra></extra>",
           "marker": {
            "color": "grey",
            "opacity": 0.2,
            "size": 7.0
           },
           "mode": "markers",
           "x": [
            0.5
           ],
           "xaxis": "x2",
           "y": [
            0.8
           ],
           "yaxis": "y2",
           "type": "scatter"
          }
         ],
         "layout": {
          "annotations": [
           {
            "font": {
             "size": 18
            },
            "showarrow": false,
            "text": "Year: 2011",
            "x": 0,
            "xref": "paper",
            "y": 0.95,
            "yref": "paper"
           },
           {
            "font": {
             "size": 18
            },
            "showarrow": false,
            "text": "Country: Greece",
            "x": 0,
            "xref": "paper",
            "y": 0.85,
            "yref": "paper"
           }
          ]
         },
         "name": "2011"
        },
        {
         "data": [
          {
           "customdata": [
            1.46
           ],
           "hovertemplate": "Value: %{customdata}<extra></extra>",
           "marker": {
            "color": "green",
            "opacity": 0.4,
            "size": 34.063091289915235
           },
           "mode": "markers",
           "x": [
            0.125
           ],
           "xaxis": "x",
           "y": [
            0.5
           ],
           "yaxis": "y",
           "type": "scatter"
          },
          {
           "customdata": [
            0.19
           ],
           "hovertemplate": "Value: %{customdata}<extra></extra>",
           "marker": {
            "color": "green",
            "opacity": 0.4,
            "size": 4.446258184893107
           },
           "mode": "markers",
           "x": [
            0.375
           ],
           "xaxis": "x",
           "y": [
            0.5
           ],
           "yaxis": "y",
           "type": "scatter"
          },
          {
           "customdata": [
            0.37
           ],
           "hovertemplate": "Value: %{customdata}<extra></extra>",
           "marker": {
            "color": "green",
            "opacity": 0.4,
            "size": 8.580950185057267
           },
           "mode": "markers",
           "x": [
            0.625
           ],
           "xaxis": "x",
           "y": [
            0.5
           ],
           "yaxis": "y",
           "type": "scatter"
          },
          {
           "customdata": [
            0.1
           ],
           "hovertemplate": "Value: %{customdata}<extra></extra>",
           "marker": {
            "color": "green",
            "opacity": 0.4,
            "size": 2.3333333333333335
           },
           "mode": "markers",
           "x": [
            0.875
           ],
           "xaxis": "x",
           "y": [
            0.5
           ],
           "yaxis": "y",
           "type": "scatter"
          },
          {
           "customdata": [
            0.55
           ],
           "hovertemplate": "Value: %{customdata}<extra></extra>",
           "marker": {
            "color": "green",
            "opacity": 0.4,
            "size": 12.835128431004028
           },
           "mode": "markers",
           "x": [
            0.125
           ],
           "xaxis": "x3",
           "y": [
            0.5
           ],
           "yaxis": "y3",
           "type": "scatter"
          },
          {
           "customdata": [
            -0.37
           ],
           "hovertemplate": "Value: %{customdata}<extra></extra>",
           "marker": {
            "color": "red",
            "opacity": 0.4,
            "size": 8.747039924246854
           },
           "mode": "markers",
           "x": [
            0.375
           ],
           "xaxis": "x3",
           "y": [
            0.5
           ],
           "yaxis": "y3",
           "type": "scatter"
          },
          {
           "customdata": [
            0.35
           ],
           "hovertemplate": "Value: %{customdata}<extra></extra>",
           "marker": {
            "color": "green",
            "opacity": 0.4,
            "size": 8.243092826062218
           },
           "mode": "markers",
           "x": [
            0.625
           ],
           "xaxis": "x3",
           "y": [
            0.5
           ],
           "yaxis": "y3",
           "type": "scatter"
          },
          {
           "customdata": [
            0.1
           ],
           "hovertemplate": "Value: %{customdata}<extra></extra>",
           "marker": {
            "color": "green",
            "opacity": 0.4,
            "size": 2.3333333333333335
           },
           "mode": "markers",
           "x": [
            0.875
           ],
           "xaxis": "x3",
           "y": [
            0.5
           ],
           "yaxis": "y3",
           "type": "scatter"
          },
          {
           "customdata": [
            -0.26
           ],
           "hovertemplate": "Value: %{customdata}<extra></extra>",
           "marker": {
            "color": "red",
            "opacity": 0.4,
            "size": 6.077183216433661
           },
           "mode": "markers",
           "x": [
            0.25
           ],
           "xaxis": "x4",
           "y": [
            0.5
           ],
           "yaxis": "y4",
           "type": "scatter"
          },
          {
           "customdata": [
            -0.88
           ],
           "hovertemplate": "Value: %{customdata}<extra></extra>",
           "marker": {
            "color": "red",
            "opacity": 0.4,
            "size": 20.618955172878717
           },
           "mode": "markers",
           "x": [
            0.5
           ],
           "xaxis": "x4",
           "y": [
            0.5
           ],
           "yaxis": "y4",
           "type": "scatter"
          },
          {
           "customdata": [
            0.99
           ],
           "hovertemplate": "Value: %{customdata}<extra></extra>",
           "marker": {
            "color": "green",
            "opacity": 0.4,
            "size": 23.094376730091096
           },
           "mode": "markers",
           "x": [
            0.75
           ],
           "xaxis": "x4",
           "y": [
            0.5
           ],
           "yaxis": "y4",
           "type": "scatter"
          },
          {
           "customdata": [
            0.1
           ],
           "hovertemplate": "Value: %{customdata}<extra></extra>",
           "marker": {
            "color": "green",
            "opacity": 0.4,
            "size": 2.3333333333333335
           },
           "mode": "markers",
           "x": [
            0.125
           ],
           "xaxis": "x5",
           "y": [
            0.5
           ],
           "yaxis": "y5",
           "type": "scatter"
          },
          {
           "customdata": [
            0.1
           ],
           "hovertemplate": "Value: %{customdata}<extra></extra>",
           "marker": {
            "color": "green",
            "opacity": 0.4,
            "size": 2.3333333333333335
           },
           "mode": "markers",
           "x": [
            0.375
           ],
           "xaxis": "x5",
           "y": [
            0.5
           ],
           "yaxis": "y5",
           "type": "scatter"
          },
          {
           "customdata": [
            0.1
           ],
           "hovertemplate": "Value: %{customdata}<extra></extra>",
           "marker": {
            "color": "green",
            "opacity": 0.4,
            "size": 2.3333333333333335
           },
           "mode": "markers",
           "x": [
            0.625
           ],
           "xaxis": "x5",
           "y": [
            0.5
           ],
           "yaxis": "y5",
           "type": "scatter"
          },
          {
           "customdata": [
            0.1
           ],
           "hovertemplate": "Value: %{customdata}<extra></extra>",
           "marker": {
            "color": "green",
            "opacity": 0.4,
            "size": 2.3333333333333335
           },
           "mode": "markers",
           "x": [
            0.875
           ],
           "xaxis": "x5",
           "y": [
            0.5
           ],
           "yaxis": "y5",
           "type": "scatter"
          },
          {
           "customdata": [
            -1.73
           ],
           "hovertemplate": "Value: %{customdata}<extra></extra>",
           "marker": {
            "color": "red",
            "opacity": 0.4,
            "size": 40.27978872946301
           },
           "mode": "markers",
           "x": [
            0.125
           ],
           "xaxis": "x6",
           "y": [
            0.5
           ],
           "yaxis": "y6",
           "type": "scatter"
          },
          {
           "customdata": [
            1.09
           ],
           "hovertemplate": "Value: %{customdata}<extra></extra>",
           "marker": {
            "color": "green",
            "opacity": 0.4,
            "size": 25.36193451972161
           },
           "mode": "markers",
           "x": [
            0.375
           ],
           "xaxis": "x6",
           "y": [
            0.5
           ],
           "yaxis": "y6",
           "type": "scatter"
          },
          {
           "customdata": [
            0.79
           ],
           "hovertemplate": "Value: %{customdata}<extra></extra>",
           "marker": {
            "color": "green",
            "opacity": 0.4,
            "size": 18.463621063285544
           },
           "mode": "markers",
           "x": [
            0.625
           ],
           "xaxis": "x6",
           "y": [
            0.5
           ],
           "yaxis": "y6",
           "type": "scatter"
          },
          {
           "customdata": [
            0.32
           ],
           "hovertemplate": "Value: %{customdata}<extra></extra>",
           "marker": {
            "color": "green",
            "opacity": 0.4,
            "size": 7.528897141028242
           },
           "mode": "markers",
           "x": [
            0.875
           ],
           "xaxis": "x6",
           "y": [
            0.5
           ],
           "yaxis": "y6",
           "type": "scatter"
          },
          {
           "customdata": [
            -0.36
           ],
           "hovertemplate": "Value: %{customdata}<extra></extra>",
           "marker": {
            "color": "red",
            "opacity": 0.4,
            "size": 8.313072419240708
           },
           "mode": "markers",
           "x": [
            0.5
           ],
           "xaxis": "x2",
           "y": [
            0.2
           ],
           "yaxis": "y2",
           "type": "scatter"
          },
          {
           "customdata": [
            -0.44
           ],
           "hovertemplate": "Value: %{customdata}<extra></extra>",
           "marker": {
            "color": "red",
            "opacity": 0.4,
            "size": 10.308734006471449
           },
           "mode": "markers",
           "x": [
            0.5
           ],
           "xaxis": "x2",
           "y": [
            0.5
           ],
           "yaxis": "y2",
           "type": "scatter"
          },
          {
           "customdata": [
            -1.56
           ],
           "hovertemplate": "Value: %{customdata}<extra></extra>",
           "marker": {
            "color": "red",
            "opacity": 0.4,
            "size": 36.40338032342177
           },
           "mode": "markers",
           "x": [
            0.5
           ],
           "xaxis": "x2",
           "y": [
            0.8
           ],
           "yaxis": "y2",
           "type": "scatter"
          }
         ],
         "layout": {
          "annotations": [
           {
            "font": {
             "size": 18
            },
            "showarrow": false,
            "text": "Year: 2012",
            "x": 0,
            "xref": "paper",
            "y": 0.95,
            "yref": "paper"
           },
           {
            "font": {
             "size": 18
            },
            "showarrow": false,
            "text": "Country: Greece",
            "x": 0,
            "xref": "paper",
            "y": 0.85,
            "yref": "paper"
           }
          ]
         },
         "name": "2012"
        },
        {
         "data": [
          {
           "customdata": [
            1.59
           ],
           "hovertemplate": "Value: %{customdata}<extra></extra>",
           "marker": {
            "color": "green",
            "opacity": 0.4,
            "size": 37.125812543289456
           },
           "mode": "markers",
           "x": [
            0.125
           ],
           "xaxis": "x",
           "y": [
            0.5
           ],
           "yaxis": "y",
           "type": "scatter"
          },
          {
           "customdata": [
            0.15
           ],
           "hovertemplate": "Value: %{customdata}<extra></extra>",
           "marker": {
            "color": "green",
            "opacity": 0.4,
            "size": 3.6001026794983955
           },
           "mode": "markers",
           "x": [
            0.375
           ],
           "xaxis": "x",
           "y": [
            0.5
           ],
           "yaxis": "y",
           "type": "scatter"
          },
          {
           "customdata": [
            0.3
           ],
           "hovertemplate": "Value: %{customdata}<extra></extra>",
           "marker": {
            "color": "green",
            "opacity": 0.4,
            "size": 7.095255458920631
           },
           "mode": "markers",
           "x": [
            0.625
           ],
           "xaxis": "x",
           "y": [
            0.5
           ],
           "yaxis": "y",
           "type": "scatter"
          },
          {
           "customdata": [
            0.1
           ],
           "hovertemplate": "Value: %{customdata}<extra></extra>",
           "marker": {
            "color": "green",
            "opacity": 0.4,
            "size": 2.3333333333333335
           },
           "mode": "markers",
           "x": [
            0.875
           ],
           "xaxis": "x",
           "y": [
            0.5
           ],
           "yaxis": "y",
           "type": "scatter"
          },
          {
           "customdata": [
            0.37
           ],
           "hovertemplate": "Value: %{customdata}<extra></extra>",
           "marker": {
            "color": "green",
            "opacity": 0.4,
            "size": 8.735515688622602
           },
           "mode": "markers",
           "x": [
            0.125
           ],
           "xaxis": "x3",
           "y": [
            0.5
           ],
           "yaxis": "y3",
           "type": "scatter"
          },
          {
           "customdata": [
            -0.25
           ],
           "hovertemplate": "Value: %{customdata}<extra></extra>",
           "marker": {
            "color": "red",
            "opacity": 0.4,
            "size": 5.918854760917878
           },
           "mode": "markers",
           "x": [
            0.375
           ],
           "xaxis": "x3",
           "y": [
            0.5
           ],
           "yaxis": "y3",
           "type": "scatter"
          },
          {
           "customdata": [
            0.33
           ],
           "hovertemplate": "Value: %{customdata}<extra></extra>",
           "marker": {
            "color": "green",
            "opacity": 0.4,
            "size": 7.695875239222174
           },
           "mode": "markers",
           "x": [
            0.625
           ],
           "xaxis": "x3",
           "y": [
            0.5
           ],
           "yaxis": "y3",
           "type": "scatter"
          },
          {
           "customdata": [
            0.1
           ],
           "hovertemplate": "Value: %{customdata}<extra></extra>",
           "marker": {
            "color": "green",
            "opacity": 0.4,
            "size": 2.3333333333333335
           },
           "mode": "markers",
           "x": [
            0.875
           ],
           "xaxis": "x3",
           "y": [
            0.5
           ],
           "yaxis": "y3",
           "type": "scatter"
          },
          {
           "customdata": [
            -0.27
           ],
           "hovertemplate": "Value: %{customdata}<extra></extra>",
           "marker": {
            "color": "red",
            "opacity": 0.4,
            "size": 6.360180161976005
           },
           "mode": "markers",
           "x": [
            0.25
           ],
           "xaxis": "x4",
           "y": [
            0.5
           ],
           "yaxis": "y4",
           "type": "scatter"
          },
          {
           "customdata": [
            -0.85
           ],
           "hovertemplate": "Value: %{customdata}<extra></extra>",
           "marker": {
            "color": "red",
            "opacity": 0.4,
            "size": 19.799490295627344
           },
           "mode": "markers",
           "x": [
            0.5
           ],
           "xaxis": "x4",
           "y": [
            0.5
           ],
           "yaxis": "y4",
           "type": "scatter"
          },
          {
           "customdata": [
            1.0
           ],
           "hovertemplate": "Value: %{customdata}<extra></extra>",
           "marker": {
            "color": "green",
            "opacity": 0.4,
            "size": 23.44577436786495
           },
           "mode": "markers",
           "x": [
            0.75
           ],
           "xaxis": "x4",
           "y": [
            0.5
           ],
           "yaxis": "y4",
           "type": "scatter"
          },
          {
           "customdata": [
            0.1
           ],
           "hovertemplate": "Value: %{customdata}<extra></extra>",
           "marker": {
            "color": "green",
            "opacity": 0.4,
            "size": 2.3333333333333335
           },
           "mode": "markers",
           "x": [
            0.125
           ],
           "xaxis": "x5",
           "y": [
            0.5
           ],
           "yaxis": "y5",
           "type": "scatter"
          },
          {
           "customdata": [
            0.1
           ],
           "hovertemplate": "Value: %{customdata}<extra></extra>",
           "marker": {
            "color": "green",
            "opacity": 0.4,
            "size": 2.3333333333333335
           },
           "mode": "markers",
           "x": [
            0.375
           ],
           "xaxis": "x5",
           "y": [
            0.5
           ],
           "yaxis": "y5",
           "type": "scatter"
          },
          {
           "customdata": [
            0.1
           ],
           "hovertemplate": "Value: %{customdata}<extra></extra>",
           "marker": {
            "color": "green",
            "opacity": 0.4,
            "size": 2.3333333333333335
           },
           "mode": "markers",
           "x": [
            0.625
           ],
           "xaxis": "x5",
           "y": [
            0.5
           ],
           "yaxis": "y5",
           "type": "scatter"
          },
          {
           "customdata": [
            0.1
           ],
           "hovertemplate": "Value: %{customdata}<extra></extra>",
           "marker": {
            "color": "green",
            "opacity": 0.4,
            "size": 2.3333333333333335
           },
           "mode": "markers",
           "x": [
            0.875
           ],
           "xaxis": "x5",
           "y": [
            0.5
           ],
           "yaxis": "y5",
           "type": "scatter"
          },
          {
           "customdata": [
            -1.76
           ],
           "hovertemplate": "Value: %{customdata}<extra></extra>",
           "marker": {
            "color": "red",
            "opacity": 0.4,
            "size": 41.10672462057161
           },
           "mode": "markers",
           "x": [
            0.125
           ],
           "xaxis": "x6",
           "y": [
            0.5
           ],
           "yaxis": "y6",
           "type": "scatter"
          },
          {
           "customdata": [
            1.17
           ],
           "hovertemplate": "Value: %{customdata}<extra></extra>",
           "marker": {
            "color": "green",
            "opacity": 0.4,
            "size": 27.232243945181043
           },
           "mode": "markers",
           "x": [
            0.375
           ],
           "xaxis": "x6",
           "y": [
            0.5
           ],
           "yaxis": "y6",
           "type": "scatter"
          },
          {
           "customdata": [
            0.78
           ],
           "hovertemplate": "Value: %{customdata}<extra></extra>",
           "marker": {
            "color": "green",
            "opacity": 0.4,
            "size": 18.09094050433199
           },
           "mode": "markers",
           "x": [
            0.625
           ],
           "xaxis": "x6",
           "y": [
            0.5
           ],
           "yaxis": "y6",
           "type": "scatter"
          },
          {
           "customdata": [
            0.26
           ],
           "hovertemplate": "Value: %{customdata}<extra></extra>",
           "marker": {
            "color": "green",
            "opacity": 0.4,
            "size": 6.173952918226214
           },
           "mode": "markers",
           "x": [
            0.875
           ],
           "xaxis": "x6",
           "y": [
            0.5
           ],
           "yaxis": "y6",
           "type": "scatter"
          },
          {
           "customdata": [
            -0.37
           ],
           "hovertemplate": "Value: %{customdata}<extra></extra>",
           "marker": {
            "color": "red",
            "opacity": 0.4,
            "size": 8.699726950368177
           },
           "mode": "markers",
           "x": [
            0.5
           ],
           "xaxis": "x2",
           "y": [
            0.2
           ],
           "yaxis": "y2",
           "type": "scatter"
          },
          {
           "customdata": [
            -0.42
           ],
           "hovertemplate": "Value: %{customdata}<extra></extra>",
           "marker": {
            "color": "red",
            "opacity": 0.4,
            "size": 9.886700051148608
           },
           "mode": "markers",
           "x": [
            0.5
           ],
           "xaxis": "x2",
           "y": [
            0.5
           ],
           "yaxis": "y2",
           "type": "scatter"
          },
          {
           "customdata": [
            null
           ],
           "hovertemplate": "Value: %{customdata}<extra></extra>",
           "marker": {
            "color": "grey",
            "opacity": 0.2,
            "size": 7.0
           },
           "mode": "markers",
           "x": [
            0.5
           ],
           "xaxis": "x2",
           "y": [
            0.8
           ],
           "yaxis": "y2",
           "type": "scatter"
          }
         ],
         "layout": {
          "annotations": [
           {
            "font": {
             "size": 18
            },
            "showarrow": false,
            "text": "Year: 2013",
            "x": 0,
            "xref": "paper",
            "y": 0.95,
            "yref": "paper"
           },
           {
            "font": {
             "size": 18
            },
            "showarrow": false,
            "text": "Country: Greece",
            "x": 0,
            "xref": "paper",
            "y": 0.85,
            "yref": "paper"
           }
          ]
         },
         "name": "2013"
        },
        {
         "data": [
          {
           "customdata": [
            1.55
           ],
           "hovertemplate": "Value: %{customdata}<extra></extra>",
           "marker": {
            "color": "green",
            "opacity": 0.4,
            "size": 36.1738413476218
           },
           "mode": "markers",
           "x": [
            0.125
           ],
           "xaxis": "x",
           "y": [
            0.5
           ],
           "yaxis": "y",
           "type": "scatter"
          },
          {
           "customdata": [
            0.16
           ],
           "hovertemplate": "Value: %{customdata}<extra></extra>",
           "marker": {
            "color": "green",
            "opacity": 0.4,
            "size": 3.786608579411315
           },
           "mode": "markers",
           "x": [
            0.375
           ],
           "xaxis": "x",
           "y": [
            0.5
           ],
           "yaxis": "y",
           "type": "scatter"
          },
          {
           "customdata": [
            0.31
           ],
           "hovertemplate": "Value: %{customdata}<extra></extra>",
           "marker": {
            "color": "green",
            "opacity": 0.4,
            "size": 7.12876191590489
           },
           "mode": "markers",
           "x": [
            0.625
           ],
           "xaxis": "x",
           "y": [
            0.5
           ],
           "yaxis": "y",
           "type": "scatter"
          },
          {
           "customdata": [
            0.1
           ],
           "hovertemplate": "Value: %{customdata}<extra></extra>",
           "marker": {
            "color": "green",
            "opacity": 0.4,
            "size": 2.3333333333333335
           },
           "mode": "markers",
           "x": [
            0.875
           ],
           "xaxis": "x",
           "y": [
            0.5
           ],
           "yaxis": "y",
           "type": "scatter"
          },
          {
           "customdata": [
            0.36
           ],
           "hovertemplate": "Value: %{customdata}<extra></extra>",
           "marker": {
            "color": "green",
            "opacity": 0.4,
            "size": 8.369544278672421
           },
           "mode": "markers",
           "x": [
            0.125
           ],
           "xaxis": "x3",
           "y": [
            0.5
           ],
           "yaxis": "y3",
           "type": "scatter"
          },
          {
           "customdata": [
            -0.34
           ],
           "hovertemplate": "Value: %{customdata}<extra></extra>",
           "marker": {
            "color": "red",
            "opacity": 0.4,
            "size": 7.885615788460326
           },
           "mode": "markers",
           "x": [
            0.375
           ],
           "xaxis": "x3",
           "y": [
            0.5
           ],
           "yaxis": "y3",
           "type": "scatter"
          },
          {
           "customdata": [
            0.29
           ],
           "hovertemplate": "Value: %{customdata}<extra></extra>",
           "marker": {
            "color": "green",
            "opacity": 0.4,
            "size": 6.7672492195637615
           },
           "mode": "markers",
           "x": [
            0.625
           ],
           "xaxis": "x3",
           "y": [
            0.5
           ],
           "yaxis": "y3",
           "type": "scatter"
          },
          {
           "customdata": [
            0.1
           ],
           "hovertemplate": "Value: %{customdata}<extra></extra>",
           "marker": {
            "color": "green",
            "opacity": 0.4,
            "size": 2.3333333333333335
           },
           "mode": "markers",
           "x": [
            0.875
           ],
           "xaxis": "x3",
           "y": [
            0.5
           ],
           "yaxis": "y3",
           "type": "scatter"
          },
          {
           "customdata": [
            -0.23
           ],
           "hovertemplate": "Value: %{customdata}<extra></extra>",
           "marker": {
            "color": "red",
            "opacity": 0.4,
            "size": 5.404484070679748
           },
           "mode": "markers",
           "x": [
            0.25
           ],
           "xaxis": "x4",
           "y": [
            0.5
           ],
           "yaxis": "y4",
           "type": "scatter"
          },
          {
           "customdata": [
            -0.98
           ],
           "hovertemplate": "Value: %{customdata}<extra></extra>",
           "marker": {
            "color": "red",
            "opacity": 0.4,
            "size": 22.891035225505004
           },
           "mode": "markers",
           "x": [
            0.5
           ],
           "xaxis": "x4",
           "y": [
            0.5
           ],
           "yaxis": "y4",
           "type": "scatter"
          },
          {
           "customdata": [
            1.03
           ],
           "hovertemplate": "Value: %{customdata}<extra></extra>",
           "marker": {
            "color": "green",
            "opacity": 0.4,
            "size": 23.97753600551816
           },
           "mode": "markers",
           "x": [
            0.75
           ],
           "xaxis": "x4",
           "y": [
            0.5
           ],
           "yaxis": "y4",
           "type": "scatter"
          },
          {
           "customdata": [
            0.1
           ],
           "hovertemplate": "Value: %{customdata}<extra></extra>",
           "marker": {
            "color": "green",
            "opacity": 0.4,
            "size": 2.3333333333333335
           },
           "mode": "markers",
           "x": [
            0.125
           ],
           "xaxis": "x5",
           "y": [
            0.5
           ],
           "yaxis": "y5",
           "type": "scatter"
          },
          {
           "customdata": [
            0.1
           ],
           "hovertemplate": "Value: %{customdata}<extra></extra>",
           "marker": {
            "color": "green",
            "opacity": 0.4,
            "size": 2.3333333333333335
           },
           "mode": "markers",
           "x": [
            0.375
           ],
           "xaxis": "x5",
           "y": [
            0.5
           ],
           "yaxis": "y5",
           "type": "scatter"
          },
          {
           "customdata": [
            0.1
           ],
           "hovertemplate": "Value: %{customdata}<extra></extra>",
           "marker": {
            "color": "green",
            "opacity": 0.4,
            "size": 2.3333333333333335
           },
           "mode": "markers",
           "x": [
            0.625
           ],
           "xaxis": "x5",
           "y": [
            0.5
           ],
           "yaxis": "y5",
           "type": "scatter"
          },
          {
           "customdata": [
            0.1
           ],
           "hovertemplate": "Value: %{customdata}<extra></extra>",
           "marker": {
            "color": "green",
            "opacity": 0.4,
            "size": 2.3333333333333335
           },
           "mode": "markers",
           "x": [
            0.875
           ],
           "xaxis": "x5",
           "y": [
            0.5
           ],
           "yaxis": "y5",
           "type": "scatter"
          },
          {
           "customdata": [
            -1.77
           ],
           "hovertemplate": "Value: %{customdata}<extra></extra>",
           "marker": {
            "color": "red",
            "opacity": 0.4,
            "size": 41.38656448165473
           },
           "mode": "markers",
           "x": [
            0.125
           ],
           "xaxis": "x6",
           "y": [
            0.5
           ],
           "yaxis": "y6",
           "type": "scatter"
          },
          {
           "customdata": [
            1.18
           ],
           "hovertemplate": "Value: %{customdata}<extra></extra>",
           "marker": {
            "color": "green",
            "opacity": 0.4,
            "size": 27.519445018004394
           },
           "mode": "markers",
           "x": [
            0.375
           ],
           "xaxis": "x6",
           "y": [
            0.5
           ],
           "yaxis": "y6",
           "type": "scatter"
          },
          {
           "customdata": [
            0.61
           ],
           "hovertemplate": "Value: %{customdata}<extra></extra>",
           "marker": {
            "color": "green",
            "opacity": 0.4,
            "size": 14.280067225519288
           },
           "mode": "markers",
           "x": [
            0.625
           ],
           "xaxis": "x6",
           "y": [
            0.5
           ],
           "yaxis": "y6",
           "type": "scatter"
          },
          {
           "customdata": [
            0.22
           ],
           "hovertemplate": "Value: %{customdata}<extra></extra>",
           "marker": {
            "color": "green",
            "opacity": 0.4,
            "size": 5.237906754032679
           },
           "mode": "markers",
           "x": [
            0.875
           ],
           "xaxis": "x6",
           "y": [
            0.5
           ],
           "yaxis": "y6",
           "type": "scatter"
          },
          {
           "customdata": [
            -0.4
           ],
           "hovertemplate": "Value: %{customdata}<extra></extra>",
           "marker": {
            "color": "red",
            "opacity": 0.4,
            "size": 9.279708747059397
           },
           "mode": "markers",
           "x": [
            0.5
           ],
           "xaxis": "x2",
           "y": [
            0.2
           ],
           "yaxis": "y2",
           "type": "scatter"
          },
          {
           "customdata": [
            -0.34
           ],
           "hovertemplate": "Value: %{customdata}<extra></extra>",
           "marker": {
            "color": "red",
            "opacity": 0.4,
            "size": 7.822895784052286
           },
           "mode": "markers",
           "x": [
            0.5
           ],
           "xaxis": "x2",
           "y": [
            0.5
           ],
           "yaxis": "y2",
           "type": "scatter"
          },
          {
           "customdata": [
            -1.64
           ],
           "hovertemplate": "Value: %{customdata}<extra></extra>",
           "marker": {
            "color": "red",
            "opacity": 0.4,
            "size": 38.26387453455974
           },
           "mode": "markers",
           "x": [
            0.5
           ],
           "xaxis": "x2",
           "y": [
            0.8
           ],
           "yaxis": "y2",
           "type": "scatter"
          }
         ],
         "layout": {
          "annotations": [
           {
            "font": {
             "size": 18
            },
            "showarrow": false,
            "text": "Year: 2014",
            "x": 0,
            "xref": "paper",
            "y": 0.95,
            "yref": "paper"
           },
           {
            "font": {
             "size": 18
            },
            "showarrow": false,
            "text": "Country: Greece",
            "x": 0,
            "xref": "paper",
            "y": 0.85,
            "yref": "paper"
           }
          ]
         },
         "name": "2014"
        },
        {
         "data": [
          {
           "customdata": [
            1.48
           ],
           "hovertemplate": "Value: %{customdata}<extra></extra>",
           "marker": {
            "color": "green",
            "opacity": 0.4,
            "size": 34.55173598300215
           },
           "mode": "markers",
           "x": [
            0.125
           ],
           "xaxis": "x",
           "y": [
            0.5
           ],
           "yaxis": "y",
           "type": "scatter"
          },
          {
           "customdata": [
            0.13
           ],
           "hovertemplate": "Value: %{customdata}<extra></extra>",
           "marker": {
            "color": "green",
            "opacity": 0.4,
            "size": 3.0210204626694086
           },
           "mode": "markers",
           "x": [
            0.375
           ],
           "xaxis": "x",
           "y": [
            0.5
           ],
           "yaxis": "y",
           "type": "scatter"
          },
          {
           "customdata": [
            0.32
           ],
           "hovertemplate": "Value: %{customdata}<extra></extra>",
           "marker": {
            "color": "green",
            "opacity": 0.4,
            "size": 7.533197209259503
           },
           "mode": "markers",
           "x": [
            0.625
           ],
           "xaxis": "x",
           "y": [
            0.5
           ],
           "yaxis": "y",
           "type": "scatter"
          },
          {
           "customdata": [
            0.1
           ],
           "hovertemplate": "Value: %{customdata}<extra></extra>",
           "marker": {
            "color": "green",
            "opacity": 0.4,
            "size": 2.3333333333333335
           },
           "mode": "markers",
           "x": [
            0.875
           ],
           "xaxis": "x",
           "y": [
            0.5
           ],
           "yaxis": "y",
           "type": "scatter"
          },
          {
           "customdata": [
            0.37
           ],
           "hovertemplate": "Value: %{customdata}<extra></extra>",
           "marker": {
            "color": "green",
            "opacity": 0.4,
            "size": 8.537407606758187
           },
           "mode": "markers",
           "x": [
            0.125
           ],
           "xaxis": "x3",
           "y": [
            0.5
           ],
           "yaxis": "y3",
           "type": "scatter"
          },
          {
           "customdata": [
            -0.35
           ],
           "hovertemplate": "Value: %{customdata}<extra></extra>",
           "marker": {
            "color": "red",
            "opacity": 0.4,
            "size": 8.22442674792895
           },
           "mode": "markers",
           "x": [
            0.375
           ],
           "xaxis": "x3",
           "y": [
            0.5
           ],
           "yaxis": "y3",
           "type": "scatter"
          },
          {
           "customdata": [
            0.25
           ],
           "hovertemplate": "Value: %{customdata}<extra></extra>",
           "marker": {
            "color": "green",
            "opacity": 0.4,
            "size": 5.759359335182986
           },
           "mode": "markers",
           "x": [
            0.625
           ],
           "xaxis": "x3",
           "y": [
            0.5
           ],
           "yaxis": "y3",
           "type": "scatter"
          },
          {
           "customdata": [
            0.1
           ],
           "hovertemplate": "Value: %{customdata}<extra></extra>",
           "marker": {
            "color": "green",
            "opacity": 0.4,
            "size": 2.3333333333333335
           },
           "mode": "markers",
           "x": [
            0.875
           ],
           "xaxis": "x3",
           "y": [
            0.5
           ],
           "yaxis": "y3",
           "type": "scatter"
          },
          {
           "customdata": [
            -0.18
           ],
           "hovertemplate": "Value: %{customdata}<extra></extra>",
           "marker": {
            "color": "red",
            "opacity": 0.4,
            "size": 4.159842165055985
           },
           "mode": "markers",
           "x": [
            0.25
           ],
           "xaxis": "x4",
           "y": [
            0.5
           ],
           "yaxis": "y4",
           "type": "scatter"
          },
          {
           "customdata": [
            -0.93
           ],
           "hovertemplate": "Value: %{customdata}<extra></extra>",
           "marker": {
            "color": "red",
            "opacity": 0.4,
            "size": 21.618672361142867
           },
           "mode": "markers",
           "x": [
            0.5
           ],
           "xaxis": "x4",
           "y": [
            0.5
           ],
           "yaxis": "y4",
           "type": "scatter"
          },
          {
           "customdata": [
            0.99
           ],
           "hovertemplate": "Value: %{customdata}<extra></extra>",
           "marker": {
            "color": "green",
            "opacity": 0.4,
            "size": 23.1501369581897
           },
           "mode": "markers",
           "x": [
            0.75
           ],
           "xaxis": "x4",
           "y": [
            0.5
           ],
           "yaxis": "y4",
           "type": "scatter"
          },
          {
           "customdata": [
            0.1
           ],
           "hovertemplate": "Value: %{customdata}<extra></extra>",
           "marker": {
            "color": "green",
            "opacity": 0.4,
            "size": 2.3333333333333335
           },
           "mode": "markers",
           "x": [
            0.125
           ],
           "xaxis": "x5",
           "y": [
            0.5
           ],
           "yaxis": "y5",
           "type": "scatter"
          },
          {
           "customdata": [
            0.1
           ],
           "hovertemplate": "Value: %{customdata}<extra></extra>",
           "marker": {
            "color": "green",
            "opacity": 0.4,
            "size": 2.3333333333333335
           },
           "mode": "markers",
           "x": [
            0.375
           ],
           "xaxis": "x5",
           "y": [
            0.5
           ],
           "yaxis": "y5",
           "type": "scatter"
          },
          {
           "customdata": [
            0.1
           ],
           "hovertemplate": "Value: %{customdata}<extra></extra>",
           "marker": {
            "color": "green",
            "opacity": 0.4,
            "size": 2.3333333333333335
           },
           "mode": "markers",
           "x": [
            0.625
           ],
           "xaxis": "x5",
           "y": [
            0.5
           ],
           "yaxis": "y5",
           "type": "scatter"
          },
          {
           "customdata": [
            0.1
           ],
           "hovertemplate": "Value: %{customdata}<extra></extra>",
           "marker": {
            "color": "green",
            "opacity": 0.4,
            "size": 2.3333333333333335
           },
           "mode": "markers",
           "x": [
            0.875
           ],
           "xaxis": "x5",
           "y": [
            0.5
           ],
           "yaxis": "y5",
           "type": "scatter"
          },
          {
           "customdata": [
            -1.73
           ],
           "hovertemplate": "Value: %{customdata}<extra></extra>",
           "marker": {
            "color": "red",
            "opacity": 0.4,
            "size": 40.39166233243193
           },
           "mode": "markers",
           "x": [
            0.125
           ],
           "xaxis": "x6",
           "y": [
            0.5
           ],
           "yaxis": "y6",
           "type": "scatter"
          },
          {
           "customdata": [
            1.14
           ],
           "hovertemplate": "Value: %{customdata}<extra></extra>",
           "marker": {
            "color": "green",
            "opacity": 0.4,
            "size": 26.517743715230424
           },
           "mode": "markers",
           "x": [
            0.375
           ],
           "xaxis": "x6",
           "y": [
            0.5
           ],
           "yaxis": "y6",
           "type": "scatter"
          },
          {
           "customdata": [
            0.58
           ],
           "hovertemplate": "Value: %{customdata}<extra></extra>",
           "marker": {
            "color": "green",
            "opacity": 0.4,
            "size": 13.483526352535064
           },
           "mode": "markers",
           "x": [
            0.625
           ],
           "xaxis": "x6",
           "y": [
            0.5
           ],
           "yaxis": "y6",
           "type": "scatter"
          },
          {
           "customdata": [
            0.16
           ],
           "hovertemplate": "Value: %{customdata}<extra></extra>",
           "marker": {
            "color": "green",
            "opacity": 0.4,
            "size": 3.664449247180632
           },
           "mode": "markers",
           "x": [
            0.875
           ],
           "xaxis": "x6",
           "y": [
            0.5
           ],
           "yaxis": "y6",
           "type": "scatter"
          },
          {
           "customdata": [
            -0.38
           ],
           "hovertemplate": "Value: %{customdata}<extra></extra>",
           "marker": {
            "color": "red",
            "opacity": 0.4,
            "size": 8.893054215931917
           },
           "mode": "markers",
           "x": [
            0.5
           ],
           "xaxis": "x2",
           "y": [
            0.2
           ],
           "yaxis": "y2",
           "type": "scatter"
          },
          {
           "customdata": [
            -0.38
           ],
           "hovertemplate": "Value: %{customdata}<extra></extra>",
           "marker": {
            "color": "red",
            "opacity": 0.4,
            "size": 8.797335742944092
           },
           "mode": "markers",
           "x": [
            0.5
           ],
           "xaxis": "x2",
           "y": [
            0.5
           ],
           "yaxis": "y2",
           "type": "scatter"
          },
          {
           "customdata": [
            -0.72
           ],
           "hovertemplate": "Value: %{customdata}<extra></extra>",
           "marker": {
            "color": "red",
            "opacity": 0.4,
            "size": 16.81105705006568
           },
           "mode": "markers",
           "x": [
            0.5
           ],
           "xaxis": "x2",
           "y": [
            0.8
           ],
           "yaxis": "y2",
           "type": "scatter"
          }
         ],
         "layout": {
          "annotations": [
           {
            "font": {
             "size": 18
            },
            "showarrow": false,
            "text": "Year: 2015",
            "x": 0,
            "xref": "paper",
            "y": 0.95,
            "yref": "paper"
           },
           {
            "font": {
             "size": 18
            },
            "showarrow": false,
            "text": "Country: Greece",
            "x": 0,
            "xref": "paper",
            "y": 0.85,
            "yref": "paper"
           }
          ]
         },
         "name": "2015"
        }
       ],
       "config": {
        "plotlyServerURL": "https://plot.ly"
       }
      },
      "text/html": "<div>                            <div id=\"3556e3ab-f07c-4b47-aacc-6d5b8a611138\" class=\"plotly-graph-div\" style=\"height:525px; width:100%;\"></div>            <script type=\"text/javascript\">                require([\"plotly\"], function(Plotly) {                    window.PLOTLYENV=window.PLOTLYENV || {};                                    if (document.getElementById(\"3556e3ab-f07c-4b47-aacc-6d5b8a611138\")) {                    Plotly.newPlot(                        \"3556e3ab-f07c-4b47-aacc-6d5b8a611138\",                        [{\"customdata\":[0.73],\"hovertemplate\":\"Value: %{customdata}<extra></extra>\",\"marker\":{\"color\":\"green\",\"opacity\":0.4,\"size\":16.929116417625583},\"mode\":\"markers\",\"x\":[0.125],\"y\":[0.5],\"type\":\"scatter\",\"xaxis\":\"x\",\"yaxis\":\"y\"},{\"customdata\":[0.34],\"hovertemplate\":\"Value: %{customdata}<extra></extra>\",\"marker\":{\"color\":\"green\",\"opacity\":0.4,\"size\":7.870768014862736},\"mode\":\"markers\",\"x\":[0.375],\"y\":[0.5],\"type\":\"scatter\",\"xaxis\":\"x\",\"yaxis\":\"y\"},{\"customdata\":[0.38],\"hovertemplate\":\"Value: %{customdata}<extra></extra>\",\"marker\":{\"color\":\"green\",\"opacity\":0.4,\"size\":8.923406157648376},\"mode\":\"markers\",\"x\":[0.625],\"y\":[0.5],\"type\":\"scatter\",\"xaxis\":\"x\",\"yaxis\":\"y\"},{\"customdata\":[0.1],\"hovertemplate\":\"Value: %{customdata}<extra></extra>\",\"marker\":{\"color\":\"green\",\"opacity\":0.4,\"size\":2.3333333333333335},\"mode\":\"markers\",\"x\":[0.875],\"y\":[0.5],\"type\":\"scatter\",\"xaxis\":\"x\",\"yaxis\":\"y\"},{\"customdata\":[0.56],\"hovertemplate\":\"Value: %{customdata}<extra></extra>\",\"marker\":{\"color\":\"green\",\"opacity\":0.4,\"size\":13.091776570879345},\"mode\":\"markers\",\"x\":[0.125],\"y\":[0.5],\"type\":\"scatter\",\"xaxis\":\"x3\",\"yaxis\":\"y3\"},{\"customdata\":[-0.34],\"hovertemplate\":\"Value: %{customdata}<extra></extra>\",\"marker\":{\"color\":\"red\",\"opacity\":0.4,\"size\":8.005137758941498},\"mode\":\"markers\",\"x\":[0.375],\"y\":[0.5],\"type\":\"scatter\",\"xaxis\":\"x3\",\"yaxis\":\"y3\"},{\"customdata\":[0.19],\"hovertemplate\":\"Value: %{customdata}<extra></extra>\",\"marker\":{\"color\":\"green\",\"opacity\":0.4,\"size\":4.415801919831389},\"mode\":\"markers\",\"x\":[0.625],\"y\":[0.5],\"type\":\"scatter\",\"xaxis\":\"x3\",\"yaxis\":\"y3\"},{\"customdata\":[0.1],\"hovertemplate\":\"Value: %{customdata}<extra></extra>\",\"marker\":{\"color\":\"green\",\"opacity\":0.4,\"size\":2.3333333333333335},\"mode\":\"markers\",\"x\":[0.875],\"y\":[0.5],\"type\":\"scatter\",\"xaxis\":\"x3\",\"yaxis\":\"y3\"},{\"customdata\":[-0.36],\"hovertemplate\":\"Value: %{customdata}<extra></extra>\",\"marker\":{\"color\":\"red\",\"opacity\":0.4,\"size\":8.406777726263234},\"mode\":\"markers\",\"x\":[0.25],\"y\":[0.5],\"type\":\"scatter\",\"xaxis\":\"x4\",\"yaxis\":\"y4\"},{\"customdata\":[-0.87],\"hovertemplate\":\"Value: %{customdata}<extra></extra>\",\"marker\":{\"color\":\"red\",\"opacity\":0.4,\"size\":20.307576342365348},\"mode\":\"markers\",\"x\":[0.5],\"y\":[0.5],\"type\":\"scatter\",\"xaxis\":\"x4\",\"yaxis\":\"y4\"},{\"customdata\":[1.01],\"hovertemplate\":\"Value: %{customdata}<extra></extra>\",\"marker\":{\"color\":\"green\",\"opacity\":0.4,\"size\":23.620686594726582},\"mode\":\"markers\",\"x\":[0.75],\"y\":[0.5],\"type\":\"scatter\",\"xaxis\":\"x4\",\"yaxis\":\"y4\"},{\"customdata\":[0.1],\"hovertemplate\":\"Value: %{customdata}<extra></extra>\",\"marker\":{\"color\":\"green\",\"opacity\":0.4,\"size\":2.3333333333333335},\"mode\":\"markers\",\"x\":[0.125],\"y\":[0.5],\"type\":\"scatter\",\"xaxis\":\"x5\",\"yaxis\":\"y5\"},{\"customdata\":[0.1],\"hovertemplate\":\"Value: %{customdata}<extra></extra>\",\"marker\":{\"color\":\"green\",\"opacity\":0.4,\"size\":2.3333333333333335},\"mode\":\"markers\",\"x\":[0.375],\"y\":[0.5],\"type\":\"scatter\",\"xaxis\":\"x5\",\"yaxis\":\"y5\"},{\"customdata\":[0.1],\"hovertemplate\":\"Value: %{customdata}<extra></extra>\",\"marker\":{\"color\":\"green\",\"opacity\":0.4,\"size\":2.3333333333333335},\"mode\":\"markers\",\"x\":[0.625],\"y\":[0.5],\"type\":\"scatter\",\"xaxis\":\"x5\",\"yaxis\":\"y5\"},{\"customdata\":[0.1],\"hovertemplate\":\"Value: %{customdata}<extra></extra>\",\"marker\":{\"color\":\"green\",\"opacity\":0.4,\"size\":2.3333333333333335},\"mode\":\"markers\",\"x\":[0.875],\"y\":[0.5],\"type\":\"scatter\",\"xaxis\":\"x5\",\"yaxis\":\"y5\"},{\"customdata\":[-0.63],\"hovertemplate\":\"Value: %{customdata}<extra></extra>\",\"marker\":{\"color\":\"red\",\"opacity\":0.4,\"size\":14.679011145634625},\"mode\":\"markers\",\"x\":[0.125],\"y\":[0.5],\"type\":\"scatter\",\"xaxis\":\"x6\",\"yaxis\":\"y6\"},{\"customdata\":[1.06],\"hovertemplate\":\"Value: %{customdata}<extra></extra>\",\"marker\":{\"color\":\"green\",\"opacity\":0.4,\"size\":24.654439193986068},\"mode\":\"markers\",\"x\":[0.375],\"y\":[0.5],\"type\":\"scatter\",\"xaxis\":\"x6\",\"yaxis\":\"y6\"},{\"customdata\":[0.91],\"hovertemplate\":\"Value: %{customdata}<extra></extra>\",\"marker\":{\"color\":\"green\",\"opacity\":0.4,\"size\":21.140085960317514},\"mode\":\"markers\",\"x\":[0.625],\"y\":[0.5],\"type\":\"scatter\",\"xaxis\":\"x6\",\"yaxis\":\"y6\"},{\"customdata\":[0.24],\"hovertemplate\":\"Value: %{customdata}<extra></extra>\",\"marker\":{\"color\":\"green\",\"opacity\":0.4,\"size\":5.591574550809934},\"mode\":\"markers\",\"x\":[0.875],\"y\":[0.5],\"type\":\"scatter\",\"xaxis\":\"x6\",\"yaxis\":\"y6\"},{\"customdata\":[-0.54],\"hovertemplate\":\"Value: %{customdata}<extra></extra>\",\"marker\":{\"color\":\"red\",\"opacity\":0.4,\"size\":12.56627226164293},\"mode\":\"markers\",\"x\":[0.5],\"y\":[0.2],\"type\":\"scatter\",\"xaxis\":\"x2\",\"yaxis\":\"y2\"},{\"customdata\":[-0.73],\"hovertemplate\":\"Value: %{customdata}<extra></extra>\",\"marker\":{\"color\":\"red\",\"opacity\":0.4,\"size\":17.028638740980945},\"mode\":\"markers\",\"x\":[0.5],\"y\":[0.5],\"type\":\"scatter\",\"xaxis\":\"x2\",\"yaxis\":\"y2\"},{\"customdata\":[0.93],\"hovertemplate\":\"Value: %{customdata}<extra></extra>\",\"marker\":{\"color\":\"green\",\"opacity\":0.4,\"size\":21.74495258705418},\"mode\":\"markers\",\"x\":[0.5],\"y\":[0.8],\"type\":\"scatter\",\"xaxis\":\"x2\",\"yaxis\":\"y2\"}],                        {\"template\":{\"data\":{\"histogram2dcontour\":[{\"type\":\"histogram2dcontour\",\"colorbar\":{\"outlinewidth\":0,\"ticks\":\"\"},\"colorscale\":[[0.0,\"#0d0887\"],[0.1111111111111111,\"#46039f\"],[0.2222222222222222,\"#7201a8\"],[0.3333333333333333,\"#9c179e\"],[0.4444444444444444,\"#bd3786\"],[0.5555555555555556,\"#d8576b\"],[0.6666666666666666,\"#ed7953\"],[0.7777777777777778,\"#fb9f3a\"],[0.8888888888888888,\"#fdca26\"],[1.0,\"#f0f921\"]]}],\"choropleth\":[{\"type\":\"choropleth\",\"colorbar\":{\"outlinewidth\":0,\"ticks\":\"\"}}],\"histogram2d\":[{\"type\":\"histogram2d\",\"colorbar\":{\"outlinewidth\":0,\"ticks\":\"\"},\"colorscale\":[[0.0,\"#0d0887\"],[0.1111111111111111,\"#46039f\"],[0.2222222222222222,\"#7201a8\"],[0.3333333333333333,\"#9c179e\"],[0.4444444444444444,\"#bd3786\"],[0.5555555555555556,\"#d8576b\"],[0.6666666666666666,\"#ed7953\"],[0.7777777777777778,\"#fb9f3a\"],[0.8888888888888888,\"#fdca26\"],[1.0,\"#f0f921\"]]}],\"heatmap\":[{\"type\":\"heatmap\",\"colorbar\":{\"outlinewidth\":0,\"ticks\":\"\"},\"colorscale\":[[0.0,\"#0d0887\"],[0.1111111111111111,\"#46039f\"],[0.2222222222222222,\"#7201a8\"],[0.3333333333333333,\"#9c179e\"],[0.4444444444444444,\"#bd3786\"],[0.5555555555555556,\"#d8576b\"],[0.6666666666666666,\"#ed7953\"],[0.7777777777777778,\"#fb9f3a\"],[0.8888888888888888,\"#fdca26\"],[1.0,\"#f0f921\"]]}],\"heatmapgl\":[{\"type\":\"heatmapgl\",\"colorbar\":{\"outlinewidth\":0,\"ticks\":\"\"},\"colorscale\":[[0.0,\"#0d0887\"],[0.1111111111111111,\"#46039f\"],[0.2222222222222222,\"#7201a8\"],[0.3333333333333333,\"#9c179e\"],[0.4444444444444444,\"#bd3786\"],[0.5555555555555556,\"#d8576b\"],[0.6666666666666666,\"#ed7953\"],[0.7777777777777778,\"#fb9f3a\"],[0.8888888888888888,\"#fdca26\"],[1.0,\"#f0f921\"]]}],\"contourcarpet\":[{\"type\":\"contourcarpet\",\"colorbar\":{\"outlinewidth\":0,\"ticks\":\"\"}}],\"contour\":[{\"type\":\"contour\",\"colorbar\":{\"outlinewidth\":0,\"ticks\":\"\"},\"colorscale\":[[0.0,\"#0d0887\"],[0.1111111111111111,\"#46039f\"],[0.2222222222222222,\"#7201a8\"],[0.3333333333333333,\"#9c179e\"],[0.4444444444444444,\"#bd3786\"],[0.5555555555555556,\"#d8576b\"],[0.6666666666666666,\"#ed7953\"],[0.7777777777777778,\"#fb9f3a\"],[0.8888888888888888,\"#fdca26\"],[1.0,\"#f0f921\"]]}],\"surface\":[{\"type\":\"surface\",\"colorbar\":{\"outlinewidth\":0,\"ticks\":\"\"},\"colorscale\":[[0.0,\"#0d0887\"],[0.1111111111111111,\"#46039f\"],[0.2222222222222222,\"#7201a8\"],[0.3333333333333333,\"#9c179e\"],[0.4444444444444444,\"#bd3786\"],[0.5555555555555556,\"#d8576b\"],[0.6666666666666666,\"#ed7953\"],[0.7777777777777778,\"#fb9f3a\"],[0.8888888888888888,\"#fdca26\"],[1.0,\"#f0f921\"]]}],\"mesh3d\":[{\"type\":\"mesh3d\",\"colorbar\":{\"outlinewidth\":0,\"ticks\":\"\"}}],\"scatter\":[{\"fillpattern\":{\"fillmode\":\"overlay\",\"size\":10,\"solidity\":0.2},\"type\":\"scatter\"}],\"parcoords\":[{\"type\":\"parcoords\",\"line\":{\"colorbar\":{\"outlinewidth\":0,\"ticks\":\"\"}}}],\"scatterpolargl\":[{\"type\":\"scatterpolargl\",\"marker\":{\"colorbar\":{\"outlinewidth\":0,\"ticks\":\"\"}}}],\"bar\":[{\"error_x\":{\"color\":\"#2a3f5f\"},\"error_y\":{\"color\":\"#2a3f5f\"},\"marker\":{\"line\":{\"color\":\"#E5ECF6\",\"width\":0.5},\"pattern\":{\"fillmode\":\"overlay\",\"size\":10,\"solidity\":0.2}},\"type\":\"bar\"}],\"scattergeo\":[{\"type\":\"scattergeo\",\"marker\":{\"colorbar\":{\"outlinewidth\":0,\"ticks\":\"\"}}}],\"scatterpolar\":[{\"type\":\"scatterpolar\",\"marker\":{\"colorbar\":{\"outlinewidth\":0,\"ticks\":\"\"}}}],\"histogram\":[{\"marker\":{\"pattern\":{\"fillmode\":\"overlay\",\"size\":10,\"solidity\":0.2}},\"type\":\"histogram\"}],\"scattergl\":[{\"type\":\"scattergl\",\"marker\":{\"colorbar\":{\"outlinewidth\":0,\"ticks\":\"\"}}}],\"scatter3d\":[{\"type\":\"scatter3d\",\"line\":{\"colorbar\":{\"outlinewidth\":0,\"ticks\":\"\"}},\"marker\":{\"colorbar\":{\"outlinewidth\":0,\"ticks\":\"\"}}}],\"scattermapbox\":[{\"type\":\"scattermapbox\",\"marker\":{\"colorbar\":{\"outlinewidth\":0,\"ticks\":\"\"}}}],\"scatterternary\":[{\"type\":\"scatterternary\",\"marker\":{\"colorbar\":{\"outlinewidth\":0,\"ticks\":\"\"}}}],\"scattercarpet\":[{\"type\":\"scattercarpet\",\"marker\":{\"colorbar\":{\"outlinewidth\":0,\"ticks\":\"\"}}}],\"carpet\":[{\"aaxis\":{\"endlinecolor\":\"#2a3f5f\",\"gridcolor\":\"white\",\"linecolor\":\"white\",\"minorgridcolor\":\"white\",\"startlinecolor\":\"#2a3f5f\"},\"baxis\":{\"endlinecolor\":\"#2a3f5f\",\"gridcolor\":\"white\",\"linecolor\":\"white\",\"minorgridcolor\":\"white\",\"startlinecolor\":\"#2a3f5f\"},\"type\":\"carpet\"}],\"table\":[{\"cells\":{\"fill\":{\"color\":\"#EBF0F8\"},\"line\":{\"color\":\"white\"}},\"header\":{\"fill\":{\"color\":\"#C8D4E3\"},\"line\":{\"color\":\"white\"}},\"type\":\"table\"}],\"barpolar\":[{\"marker\":{\"line\":{\"color\":\"#E5ECF6\",\"width\":0.5},\"pattern\":{\"fillmode\":\"overlay\",\"size\":10,\"solidity\":0.2}},\"type\":\"barpolar\"}],\"pie\":[{\"automargin\":true,\"type\":\"pie\"}]},\"layout\":{\"autotypenumbers\":\"strict\",\"colorway\":[\"#636efa\",\"#EF553B\",\"#00cc96\",\"#ab63fa\",\"#FFA15A\",\"#19d3f3\",\"#FF6692\",\"#B6E880\",\"#FF97FF\",\"#FECB52\"],\"font\":{\"color\":\"#2a3f5f\"},\"hovermode\":\"closest\",\"hoverlabel\":{\"align\":\"left\"},\"paper_bgcolor\":\"white\",\"plot_bgcolor\":\"#E5ECF6\",\"polar\":{\"bgcolor\":\"#E5ECF6\",\"angularaxis\":{\"gridcolor\":\"white\",\"linecolor\":\"white\",\"ticks\":\"\"},\"radialaxis\":{\"gridcolor\":\"white\",\"linecolor\":\"white\",\"ticks\":\"\"}},\"ternary\":{\"bgcolor\":\"#E5ECF6\",\"aaxis\":{\"gridcolor\":\"white\",\"linecolor\":\"white\",\"ticks\":\"\"},\"baxis\":{\"gridcolor\":\"white\",\"linecolor\":\"white\",\"ticks\":\"\"},\"caxis\":{\"gridcolor\":\"white\",\"linecolor\":\"white\",\"ticks\":\"\"}},\"coloraxis\":{\"colorbar\":{\"outlinewidth\":0,\"ticks\":\"\"}},\"colorscale\":{\"sequential\":[[0.0,\"#0d0887\"],[0.1111111111111111,\"#46039f\"],[0.2222222222222222,\"#7201a8\"],[0.3333333333333333,\"#9c179e\"],[0.4444444444444444,\"#bd3786\"],[0.5555555555555556,\"#d8576b\"],[0.6666666666666666,\"#ed7953\"],[0.7777777777777778,\"#fb9f3a\"],[0.8888888888888888,\"#fdca26\"],[1.0,\"#f0f921\"]],\"sequentialminus\":[[0.0,\"#0d0887\"],[0.1111111111111111,\"#46039f\"],[0.2222222222222222,\"#7201a8\"],[0.3333333333333333,\"#9c179e\"],[0.4444444444444444,\"#bd3786\"],[0.5555555555555556,\"#d8576b\"],[0.6666666666666666,\"#ed7953\"],[0.7777777777777778,\"#fb9f3a\"],[0.8888888888888888,\"#fdca26\"],[1.0,\"#f0f921\"]],\"diverging\":[[0,\"#8e0152\"],[0.1,\"#c51b7d\"],[0.2,\"#de77ae\"],[0.3,\"#f1b6da\"],[0.4,\"#fde0ef\"],[0.5,\"#f7f7f7\"],[0.6,\"#e6f5d0\"],[0.7,\"#b8e186\"],[0.8,\"#7fbc41\"],[0.9,\"#4d9221\"],[1,\"#276419\"]]},\"xaxis\":{\"gridcolor\":\"white\",\"linecolor\":\"white\",\"ticks\":\"\",\"title\":{\"standoff\":15},\"zerolinecolor\":\"white\",\"automargin\":true,\"zerolinewidth\":2},\"yaxis\":{\"gridcolor\":\"white\",\"linecolor\":\"white\",\"ticks\":\"\",\"title\":{\"standoff\":15},\"zerolinecolor\":\"white\",\"automargin\":true,\"zerolinewidth\":2},\"scene\":{\"xaxis\":{\"backgroundcolor\":\"#E5ECF6\",\"gridcolor\":\"white\",\"linecolor\":\"white\",\"showbackground\":true,\"ticks\":\"\",\"zerolinecolor\":\"white\",\"gridwidth\":2},\"yaxis\":{\"backgroundcolor\":\"#E5ECF6\",\"gridcolor\":\"white\",\"linecolor\":\"white\",\"showbackground\":true,\"ticks\":\"\",\"zerolinecolor\":\"white\",\"gridwidth\":2},\"zaxis\":{\"backgroundcolor\":\"#E5ECF6\",\"gridcolor\":\"white\",\"linecolor\":\"white\",\"showbackground\":true,\"ticks\":\"\",\"zerolinecolor\":\"white\",\"gridwidth\":2}},\"shapedefaults\":{\"line\":{\"color\":\"#2a3f5f\"}},\"annotationdefaults\":{\"arrowcolor\":\"#2a3f5f\",\"arrowhead\":0,\"arrowwidth\":1},\"geo\":{\"bgcolor\":\"white\",\"landcolor\":\"#E5ECF6\",\"subunitcolor\":\"white\",\"showland\":true,\"showlakes\":true,\"lakecolor\":\"white\"},\"title\":{\"x\":0.05},\"mapbox\":{\"style\":\"light\"}}},\"xaxis\":{\"anchor\":\"y\",\"domain\":[0.29647058823529415,0.5729411764705883],\"tickvals\":[0.125,0.375,0.625,0.875],\"ticktext\":[\"Worker\",\"Capital\",\"Energy\",\"Resource\"]},\"yaxis\":{\"anchor\":\"x\",\"domain\":[0.7333333333333333,1.0],\"range\":[0.3,0.7],\"tickvals\":[0.5],\"ticktext\":[\"extraction\"]},\"xaxis2\":{\"anchor\":\"y2\",\"domain\":[0.8894117647058823,1.0],\"range\":[0.3,0.7],\"tickvals\":[0.5],\"ticktext\":[\"Decision-Making\"]},\"yaxis2\":{\"anchor\":\"x2\",\"domain\":[0.0,1.0],\"tickvals\":[0.2,0.5,0.8],\"ticktext\":[\"Ineq\",\"Voice\",\"Gender\"]},\"xaxis3\":{\"anchor\":\"y3\",\"domain\":[0.0,0.27647058823529413],\"tickvals\":[0.125,0.375,0.625,0.875],\"ticktext\":[\"State\",\"Market\",\"Household\",\"Commons\"]},\"yaxis3\":{\"anchor\":\"x3\",\"domain\":[0.36666666666666664,0.6333333333333333],\"range\":[0.3,0.7],\"tickvals\":[0.5],\"ticktext\":[\"realms\"]},\"xaxis4\":{\"anchor\":\"y4\",\"domain\":[0.29647058823529415,0.5729411764705883],\"tickvals\":[0.25,0.5,0.75],\"ticktext\":[\"Agriculture\",\"Industry\",\"Services\"]},\"yaxis4\":{\"anchor\":\"x4\",\"domain\":[0.36666666666666664,0.6333333333333333],\"range\":[0.3,0.7],\"tickvals\":[0.5],\"ticktext\":[\"industry\"]},\"xaxis5\":{\"anchor\":\"y5\",\"domain\":[0.5929411764705883,0.8694117647058824],\"tickvals\":[0.125,0.375,0.625,0.875],\"ticktext\":[\"Core\",\"Foundational\",\"Overlooked\",\"Competitive\"]},\"yaxis5\":{\"anchor\":\"x5\",\"domain\":[0.36666666666666664,0.6333333333333333],\"range\":[0.3,0.7],\"tickvals\":[0.5],\"ticktext\":[\"foundational\"]},\"xaxis6\":{\"anchor\":\"y6\",\"domain\":[0.29647058823529415,0.5729411764705883],\"tickvals\":[0.125,0.375,0.625,0.875],\"ticktext\":[\"Accumulation\",\"Needs\",\"HDI\",\"Waste\"]},\"yaxis6\":{\"anchor\":\"x6\",\"domain\":[0.0,0.26666666666666666],\"range\":[0.3,0.7],\"tickvals\":[0.5],\"ticktext\":[\"dissipation\"]},\"annotations\":[{\"font\":{\"size\":18},\"showarrow\":false,\"text\":\"Year: 2010\",\"x\":0,\"xref\":\"paper\",\"y\":0.95,\"yref\":\"paper\"},{\"font\":{\"size\":18},\"showarrow\":false,\"text\":\"Country: Greece\",\"x\":0,\"xref\":\"paper\",\"y\":0.85,\"yref\":\"paper\"}],\"updatemenus\":[{\"buttons\":[{\"args\":[null,{\"frame\":{\"duration\":1000}}],\"label\":\"Play\",\"method\":\"animate\"},{\"args\":[[null],{\"frame\":{\"duration\":0,\"redraw\":false}}],\"label\":\"Pause\",\"method\":\"animate\"}],\"showactive\":false,\"type\":\"buttons\"}],\"showlegend\":false},                        {\"responsive\": true}                    ).then(function(){\n                            Plotly.addFrames('3556e3ab-f07c-4b47-aacc-6d5b8a611138', [{\"data\":[{\"customdata\":[0.73],\"hovertemplate\":\"Value: %{customdata}<extra></extra>\",\"marker\":{\"color\":\"green\",\"opacity\":0.4,\"size\":16.929116417625583},\"mode\":\"markers\",\"x\":[0.125],\"xaxis\":\"x\",\"y\":[0.5],\"yaxis\":\"y\",\"type\":\"scatter\"},{\"customdata\":[0.34],\"hovertemplate\":\"Value: %{customdata}<extra></extra>\",\"marker\":{\"color\":\"green\",\"opacity\":0.4,\"size\":7.870768014862736},\"mode\":\"markers\",\"x\":[0.375],\"xaxis\":\"x\",\"y\":[0.5],\"yaxis\":\"y\",\"type\":\"scatter\"},{\"customdata\":[0.38],\"hovertemplate\":\"Value: %{customdata}<extra></extra>\",\"marker\":{\"color\":\"green\",\"opacity\":0.4,\"size\":8.923406157648376},\"mode\":\"markers\",\"x\":[0.625],\"xaxis\":\"x\",\"y\":[0.5],\"yaxis\":\"y\",\"type\":\"scatter\"},{\"customdata\":[0.1],\"hovertemplate\":\"Value: %{customdata}<extra></extra>\",\"marker\":{\"color\":\"green\",\"opacity\":0.4,\"size\":2.3333333333333335},\"mode\":\"markers\",\"x\":[0.875],\"xaxis\":\"x\",\"y\":[0.5],\"yaxis\":\"y\",\"type\":\"scatter\"},{\"customdata\":[0.56],\"hovertemplate\":\"Value: %{customdata}<extra></extra>\",\"marker\":{\"color\":\"green\",\"opacity\":0.4,\"size\":13.091776570879345},\"mode\":\"markers\",\"x\":[0.125],\"xaxis\":\"x3\",\"y\":[0.5],\"yaxis\":\"y3\",\"type\":\"scatter\"},{\"customdata\":[-0.34],\"hovertemplate\":\"Value: %{customdata}<extra></extra>\",\"marker\":{\"color\":\"red\",\"opacity\":0.4,\"size\":8.005137758941498},\"mode\":\"markers\",\"x\":[0.375],\"xaxis\":\"x3\",\"y\":[0.5],\"yaxis\":\"y3\",\"type\":\"scatter\"},{\"customdata\":[0.19],\"hovertemplate\":\"Value: %{customdata}<extra></extra>\",\"marker\":{\"color\":\"green\",\"opacity\":0.4,\"size\":4.415801919831389},\"mode\":\"markers\",\"x\":[0.625],\"xaxis\":\"x3\",\"y\":[0.5],\"yaxis\":\"y3\",\"type\":\"scatter\"},{\"customdata\":[0.1],\"hovertemplate\":\"Value: %{customdata}<extra></extra>\",\"marker\":{\"color\":\"green\",\"opacity\":0.4,\"size\":2.3333333333333335},\"mode\":\"markers\",\"x\":[0.875],\"xaxis\":\"x3\",\"y\":[0.5],\"yaxis\":\"y3\",\"type\":\"scatter\"},{\"customdata\":[-0.36],\"hovertemplate\":\"Value: %{customdata}<extra></extra>\",\"marker\":{\"color\":\"red\",\"opacity\":0.4,\"size\":8.406777726263234},\"mode\":\"markers\",\"x\":[0.25],\"xaxis\":\"x4\",\"y\":[0.5],\"yaxis\":\"y4\",\"type\":\"scatter\"},{\"customdata\":[-0.87],\"hovertemplate\":\"Value: %{customdata}<extra></extra>\",\"marker\":{\"color\":\"red\",\"opacity\":0.4,\"size\":20.307576342365348},\"mode\":\"markers\",\"x\":[0.5],\"xaxis\":\"x4\",\"y\":[0.5],\"yaxis\":\"y4\",\"type\":\"scatter\"},{\"customdata\":[1.01],\"hovertemplate\":\"Value: %{customdata}<extra></extra>\",\"marker\":{\"color\":\"green\",\"opacity\":0.4,\"size\":23.620686594726582},\"mode\":\"markers\",\"x\":[0.75],\"xaxis\":\"x4\",\"y\":[0.5],\"yaxis\":\"y4\",\"type\":\"scatter\"},{\"customdata\":[0.1],\"hovertemplate\":\"Value: %{customdata}<extra></extra>\",\"marker\":{\"color\":\"green\",\"opacity\":0.4,\"size\":2.3333333333333335},\"mode\":\"markers\",\"x\":[0.125],\"xaxis\":\"x5\",\"y\":[0.5],\"yaxis\":\"y5\",\"type\":\"scatter\"},{\"customdata\":[0.1],\"hovertemplate\":\"Value: %{customdata}<extra></extra>\",\"marker\":{\"color\":\"green\",\"opacity\":0.4,\"size\":2.3333333333333335},\"mode\":\"markers\",\"x\":[0.375],\"xaxis\":\"x5\",\"y\":[0.5],\"yaxis\":\"y5\",\"type\":\"scatter\"},{\"customdata\":[0.1],\"hovertemplate\":\"Value: %{customdata}<extra></extra>\",\"marker\":{\"color\":\"green\",\"opacity\":0.4,\"size\":2.3333333333333335},\"mode\":\"markers\",\"x\":[0.625],\"xaxis\":\"x5\",\"y\":[0.5],\"yaxis\":\"y5\",\"type\":\"scatter\"},{\"customdata\":[0.1],\"hovertemplate\":\"Value: %{customdata}<extra></extra>\",\"marker\":{\"color\":\"green\",\"opacity\":0.4,\"size\":2.3333333333333335},\"mode\":\"markers\",\"x\":[0.875],\"xaxis\":\"x5\",\"y\":[0.5],\"yaxis\":\"y5\",\"type\":\"scatter\"},{\"customdata\":[-0.63],\"hovertemplate\":\"Value: %{customdata}<extra></extra>\",\"marker\":{\"color\":\"red\",\"opacity\":0.4,\"size\":14.679011145634625},\"mode\":\"markers\",\"x\":[0.125],\"xaxis\":\"x6\",\"y\":[0.5],\"yaxis\":\"y6\",\"type\":\"scatter\"},{\"customdata\":[1.06],\"hovertemplate\":\"Value: %{customdata}<extra></extra>\",\"marker\":{\"color\":\"green\",\"opacity\":0.4,\"size\":24.654439193986068},\"mode\":\"markers\",\"x\":[0.375],\"xaxis\":\"x6\",\"y\":[0.5],\"yaxis\":\"y6\",\"type\":\"scatter\"},{\"customdata\":[0.91],\"hovertemplate\":\"Value: %{customdata}<extra></extra>\",\"marker\":{\"color\":\"green\",\"opacity\":0.4,\"size\":21.140085960317514},\"mode\":\"markers\",\"x\":[0.625],\"xaxis\":\"x6\",\"y\":[0.5],\"yaxis\":\"y6\",\"type\":\"scatter\"},{\"customdata\":[0.24],\"hovertemplate\":\"Value: %{customdata}<extra></extra>\",\"marker\":{\"color\":\"green\",\"opacity\":0.4,\"size\":5.591574550809934},\"mode\":\"markers\",\"x\":[0.875],\"xaxis\":\"x6\",\"y\":[0.5],\"yaxis\":\"y6\",\"type\":\"scatter\"},{\"customdata\":[-0.54],\"hovertemplate\":\"Value: %{customdata}<extra></extra>\",\"marker\":{\"color\":\"red\",\"opacity\":0.4,\"size\":12.56627226164293},\"mode\":\"markers\",\"x\":[0.5],\"xaxis\":\"x2\",\"y\":[0.2],\"yaxis\":\"y2\",\"type\":\"scatter\"},{\"customdata\":[-0.73],\"hovertemplate\":\"Value: %{customdata}<extra></extra>\",\"marker\":{\"color\":\"red\",\"opacity\":0.4,\"size\":17.028638740980945},\"mode\":\"markers\",\"x\":[0.5],\"xaxis\":\"x2\",\"y\":[0.5],\"yaxis\":\"y2\",\"type\":\"scatter\"},{\"customdata\":[0.93],\"hovertemplate\":\"Value: %{customdata}<extra></extra>\",\"marker\":{\"color\":\"green\",\"opacity\":0.4,\"size\":21.74495258705418},\"mode\":\"markers\",\"x\":[0.5],\"xaxis\":\"x2\",\"y\":[0.8],\"yaxis\":\"y2\",\"type\":\"scatter\"}],\"layout\":{\"annotations\":[{\"font\":{\"size\":18},\"showarrow\":false,\"text\":\"Year: 2010\",\"x\":0,\"xref\":\"paper\",\"y\":0.95,\"yref\":\"paper\"},{\"font\":{\"size\":18},\"showarrow\":false,\"text\":\"Country: Greece\",\"x\":0,\"xref\":\"paper\",\"y\":0.85,\"yref\":\"paper\"}]},\"name\":\"2010\"},{\"data\":[{\"customdata\":[1.11],\"hovertemplate\":\"Value: %{customdata}<extra></extra>\",\"marker\":{\"color\":\"green\",\"opacity\":0.4,\"size\":25.84354815294775},\"mode\":\"markers\",\"x\":[0.125],\"xaxis\":\"x\",\"y\":[0.5],\"yaxis\":\"y\",\"type\":\"scatter\"},{\"customdata\":[0.24],\"hovertemplate\":\"Value: %{customdata}<extra></extra>\",\"marker\":{\"color\":\"green\",\"opacity\":0.4,\"size\":5.490928822306131},\"mode\":\"markers\",\"x\":[0.375],\"xaxis\":\"x\",\"y\":[0.5],\"yaxis\":\"y\",\"type\":\"scatter\"},{\"customdata\":[0.37],\"hovertemplate\":\"Value: %{customdata}<extra></extra>\",\"marker\":{\"color\":\"green\",\"opacity\":0.4,\"size\":8.565797510643183},\"mode\":\"markers\",\"x\":[0.625],\"xaxis\":\"x\",\"y\":[0.5],\"yaxis\":\"y\",\"type\":\"scatter\"},{\"customdata\":[0.1],\"hovertemplate\":\"Value: %{customdata}<extra></extra>\",\"marker\":{\"color\":\"green\",\"opacity\":0.4,\"size\":2.3333333333333335},\"mode\":\"markers\",\"x\":[0.875],\"xaxis\":\"x\",\"y\":[0.5],\"yaxis\":\"y\",\"type\":\"scatter\"},{\"customdata\":[0.53],\"hovertemplate\":\"Value: %{customdata}<extra></extra>\",\"marker\":{\"color\":\"green\",\"opacity\":0.4,\"size\":12.396930925351562},\"mode\":\"markers\",\"x\":[0.125],\"xaxis\":\"x3\",\"y\":[0.5],\"yaxis\":\"y3\",\"type\":\"scatter\"},{\"customdata\":[-0.42],\"hovertemplate\":\"Value: %{customdata}<extra></extra>\",\"marker\":{\"color\":\"red\",\"opacity\":0.4,\"size\":9.912484984201713},\"mode\":\"markers\",\"x\":[0.375],\"xaxis\":\"x3\",\"y\":[0.5],\"yaxis\":\"y3\",\"type\":\"scatter\"},{\"customdata\":[0.33],\"hovertemplate\":\"Value: %{customdata}<extra></extra>\",\"marker\":{\"color\":\"green\",\"opacity\":0.4,\"size\":7.609263496940844},\"mode\":\"markers\",\"x\":[0.625],\"xaxis\":\"x3\",\"y\":[0.5],\"yaxis\":\"y3\",\"type\":\"scatter\"},{\"customdata\":[0.1],\"hovertemplate\":\"Value: %{customdata}<extra></extra>\",\"marker\":{\"color\":\"green\",\"opacity\":0.4,\"size\":2.3333333333333335},\"mode\":\"markers\",\"x\":[0.875],\"xaxis\":\"x3\",\"y\":[0.5],\"yaxis\":\"y3\",\"type\":\"scatter\"},{\"customdata\":[-0.33],\"hovertemplate\":\"Value: %{customdata}<extra></extra>\",\"marker\":{\"color\":\"red\",\"opacity\":0.4,\"size\":7.727836306546791},\"mode\":\"markers\",\"x\":[0.25],\"xaxis\":\"x4\",\"y\":[0.5],\"yaxis\":\"y4\",\"type\":\"scatter\"},{\"customdata\":[-0.94],\"hovertemplate\":\"Value: %{customdata}<extra></extra>\",\"marker\":{\"color\":\"red\",\"opacity\":0.4,\"size\":22.024558636829823},\"mode\":\"markers\",\"x\":[0.5],\"xaxis\":\"x4\",\"y\":[0.5],\"yaxis\":\"y4\",\"type\":\"scatter\"},{\"customdata\":[1.0],\"hovertemplate\":\"Value: %{customdata}<extra></extra>\",\"marker\":{\"color\":\"green\",\"opacity\":0.4,\"size\":23.366422179428024},\"mode\":\"markers\",\"x\":[0.75],\"xaxis\":\"x4\",\"y\":[0.5],\"yaxis\":\"y4\",\"type\":\"scatter\"},{\"customdata\":[0.1],\"hovertemplate\":\"Value: %{customdata}<extra></extra>\",\"marker\":{\"color\":\"green\",\"opacity\":0.4,\"size\":2.3333333333333335},\"mode\":\"markers\",\"x\":[0.125],\"xaxis\":\"x5\",\"y\":[0.5],\"yaxis\":\"y5\",\"type\":\"scatter\"},{\"customdata\":[0.1],\"hovertemplate\":\"Value: %{customdata}<extra></extra>\",\"marker\":{\"color\":\"green\",\"opacity\":0.4,\"size\":2.3333333333333335},\"mode\":\"markers\",\"x\":[0.375],\"xaxis\":\"x5\",\"y\":[0.5],\"yaxis\":\"y5\",\"type\":\"scatter\"},{\"customdata\":[0.1],\"hovertemplate\":\"Value: %{customdata}<extra></extra>\",\"marker\":{\"color\":\"green\",\"opacity\":0.4,\"size\":2.3333333333333335},\"mode\":\"markers\",\"x\":[0.625],\"xaxis\":\"x5\",\"y\":[0.5],\"yaxis\":\"y5\",\"type\":\"scatter\"},{\"customdata\":[0.1],\"hovertemplate\":\"Value: %{customdata}<extra></extra>\",\"marker\":{\"color\":\"green\",\"opacity\":0.4,\"size\":2.3333333333333335},\"mode\":\"markers\",\"x\":[0.875],\"xaxis\":\"x5\",\"y\":[0.5],\"yaxis\":\"y5\",\"type\":\"scatter\"},{\"customdata\":[-1.32],\"hovertemplate\":\"Value: %{customdata}<extra></extra>\",\"marker\":{\"color\":\"red\",\"opacity\":0.4,\"size\":30.712226263287842},\"mode\":\"markers\",\"x\":[0.125],\"xaxis\":\"x6\",\"y\":[0.5],\"yaxis\":\"y6\",\"type\":\"scatter\"},{\"customdata\":[1.1],\"hovertemplate\":\"Value: %{customdata}<extra></extra>\",\"marker\":{\"color\":\"green\",\"opacity\":0.4,\"size\":25.642130688329882},\"mode\":\"markers\",\"x\":[0.375],\"xaxis\":\"x6\",\"y\":[0.5],\"yaxis\":\"y6\",\"type\":\"scatter\"},{\"customdata\":[0.79],\"hovertemplate\":\"Value: %{customdata}<extra></extra>\",\"marker\":{\"color\":\"green\",\"opacity\":0.4,\"size\":18.507718451954027},\"mode\":\"markers\",\"x\":[0.625],\"xaxis\":\"x6\",\"y\":[0.5],\"yaxis\":\"y6\",\"type\":\"scatter\"},{\"customdata\":[0.17],\"hovertemplate\":\"Value: %{customdata}<extra></extra>\",\"marker\":{\"color\":\"green\",\"opacity\":0.4,\"size\":3.9590375264184425},\"mode\":\"markers\",\"x\":[0.875],\"xaxis\":\"x6\",\"y\":[0.5],\"yaxis\":\"y6\",\"type\":\"scatter\"},{\"customdata\":[-0.48],\"hovertemplate\":\"Value: %{customdata}<extra></extra>\",\"marker\":{\"color\":\"red\",\"opacity\":0.4,\"size\":11.212981402696773},\"mode\":\"markers\",\"x\":[0.5],\"xaxis\":\"x2\",\"y\":[0.2],\"yaxis\":\"y2\",\"type\":\"scatter\"},{\"customdata\":[-0.61],\"hovertemplate\":\"Value: %{customdata}<extra></extra>\",\"marker\":{\"color\":\"red\",\"opacity\":0.4,\"size\":14.250678301840523},\"mode\":\"markers\",\"x\":[0.5],\"xaxis\":\"x2\",\"y\":[0.5],\"yaxis\":\"y2\",\"type\":\"scatter\"},{\"customdata\":[null],\"hovertemplate\":\"Value: %{customdata}<extra></extra>\",\"marker\":{\"color\":\"grey\",\"opacity\":0.2,\"size\":7.0},\"mode\":\"markers\",\"x\":[0.5],\"xaxis\":\"x2\",\"y\":[0.8],\"yaxis\":\"y2\",\"type\":\"scatter\"}],\"layout\":{\"annotations\":[{\"font\":{\"size\":18},\"showarrow\":false,\"text\":\"Year: 2011\",\"x\":0,\"xref\":\"paper\",\"y\":0.95,\"yref\":\"paper\"},{\"font\":{\"size\":18},\"showarrow\":false,\"text\":\"Country: Greece\",\"x\":0,\"xref\":\"paper\",\"y\":0.85,\"yref\":\"paper\"}]},\"name\":\"2011\"},{\"data\":[{\"customdata\":[1.46],\"hovertemplate\":\"Value: %{customdata}<extra></extra>\",\"marker\":{\"color\":\"green\",\"opacity\":0.4,\"size\":34.063091289915235},\"mode\":\"markers\",\"x\":[0.125],\"xaxis\":\"x\",\"y\":[0.5],\"yaxis\":\"y\",\"type\":\"scatter\"},{\"customdata\":[0.19],\"hovertemplate\":\"Value: %{customdata}<extra></extra>\",\"marker\":{\"color\":\"green\",\"opacity\":0.4,\"size\":4.446258184893107},\"mode\":\"markers\",\"x\":[0.375],\"xaxis\":\"x\",\"y\":[0.5],\"yaxis\":\"y\",\"type\":\"scatter\"},{\"customdata\":[0.37],\"hovertemplate\":\"Value: %{customdata}<extra></extra>\",\"marker\":{\"color\":\"green\",\"opacity\":0.4,\"size\":8.580950185057267},\"mode\":\"markers\",\"x\":[0.625],\"xaxis\":\"x\",\"y\":[0.5],\"yaxis\":\"y\",\"type\":\"scatter\"},{\"customdata\":[0.1],\"hovertemplate\":\"Value: %{customdata}<extra></extra>\",\"marker\":{\"color\":\"green\",\"opacity\":0.4,\"size\":2.3333333333333335},\"mode\":\"markers\",\"x\":[0.875],\"xaxis\":\"x\",\"y\":[0.5],\"yaxis\":\"y\",\"type\":\"scatter\"},{\"customdata\":[0.55],\"hovertemplate\":\"Value: %{customdata}<extra></extra>\",\"marker\":{\"color\":\"green\",\"opacity\":0.4,\"size\":12.835128431004028},\"mode\":\"markers\",\"x\":[0.125],\"xaxis\":\"x3\",\"y\":[0.5],\"yaxis\":\"y3\",\"type\":\"scatter\"},{\"customdata\":[-0.37],\"hovertemplate\":\"Value: %{customdata}<extra></extra>\",\"marker\":{\"color\":\"red\",\"opacity\":0.4,\"size\":8.747039924246854},\"mode\":\"markers\",\"x\":[0.375],\"xaxis\":\"x3\",\"y\":[0.5],\"yaxis\":\"y3\",\"type\":\"scatter\"},{\"customdata\":[0.35],\"hovertemplate\":\"Value: %{customdata}<extra></extra>\",\"marker\":{\"color\":\"green\",\"opacity\":0.4,\"size\":8.243092826062218},\"mode\":\"markers\",\"x\":[0.625],\"xaxis\":\"x3\",\"y\":[0.5],\"yaxis\":\"y3\",\"type\":\"scatter\"},{\"customdata\":[0.1],\"hovertemplate\":\"Value: %{customdata}<extra></extra>\",\"marker\":{\"color\":\"green\",\"opacity\":0.4,\"size\":2.3333333333333335},\"mode\":\"markers\",\"x\":[0.875],\"xaxis\":\"x3\",\"y\":[0.5],\"yaxis\":\"y3\",\"type\":\"scatter\"},{\"customdata\":[-0.26],\"hovertemplate\":\"Value: %{customdata}<extra></extra>\",\"marker\":{\"color\":\"red\",\"opacity\":0.4,\"size\":6.077183216433661},\"mode\":\"markers\",\"x\":[0.25],\"xaxis\":\"x4\",\"y\":[0.5],\"yaxis\":\"y4\",\"type\":\"scatter\"},{\"customdata\":[-0.88],\"hovertemplate\":\"Value: %{customdata}<extra></extra>\",\"marker\":{\"color\":\"red\",\"opacity\":0.4,\"size\":20.618955172878717},\"mode\":\"markers\",\"x\":[0.5],\"xaxis\":\"x4\",\"y\":[0.5],\"yaxis\":\"y4\",\"type\":\"scatter\"},{\"customdata\":[0.99],\"hovertemplate\":\"Value: %{customdata}<extra></extra>\",\"marker\":{\"color\":\"green\",\"opacity\":0.4,\"size\":23.094376730091096},\"mode\":\"markers\",\"x\":[0.75],\"xaxis\":\"x4\",\"y\":[0.5],\"yaxis\":\"y4\",\"type\":\"scatter\"},{\"customdata\":[0.1],\"hovertemplate\":\"Value: %{customdata}<extra></extra>\",\"marker\":{\"color\":\"green\",\"opacity\":0.4,\"size\":2.3333333333333335},\"mode\":\"markers\",\"x\":[0.125],\"xaxis\":\"x5\",\"y\":[0.5],\"yaxis\":\"y5\",\"type\":\"scatter\"},{\"customdata\":[0.1],\"hovertemplate\":\"Value: %{customdata}<extra></extra>\",\"marker\":{\"color\":\"green\",\"opacity\":0.4,\"size\":2.3333333333333335},\"mode\":\"markers\",\"x\":[0.375],\"xaxis\":\"x5\",\"y\":[0.5],\"yaxis\":\"y5\",\"type\":\"scatter\"},{\"customdata\":[0.1],\"hovertemplate\":\"Value: %{customdata}<extra></extra>\",\"marker\":{\"color\":\"green\",\"opacity\":0.4,\"size\":2.3333333333333335},\"mode\":\"markers\",\"x\":[0.625],\"xaxis\":\"x5\",\"y\":[0.5],\"yaxis\":\"y5\",\"type\":\"scatter\"},{\"customdata\":[0.1],\"hovertemplate\":\"Value: %{customdata}<extra></extra>\",\"marker\":{\"color\":\"green\",\"opacity\":0.4,\"size\":2.3333333333333335},\"mode\":\"markers\",\"x\":[0.875],\"xaxis\":\"x5\",\"y\":[0.5],\"yaxis\":\"y5\",\"type\":\"scatter\"},{\"customdata\":[-1.73],\"hovertemplate\":\"Value: %{customdata}<extra></extra>\",\"marker\":{\"color\":\"red\",\"opacity\":0.4,\"size\":40.27978872946301},\"mode\":\"markers\",\"x\":[0.125],\"xaxis\":\"x6\",\"y\":[0.5],\"yaxis\":\"y6\",\"type\":\"scatter\"},{\"customdata\":[1.09],\"hovertemplate\":\"Value: %{customdata}<extra></extra>\",\"marker\":{\"color\":\"green\",\"opacity\":0.4,\"size\":25.36193451972161},\"mode\":\"markers\",\"x\":[0.375],\"xaxis\":\"x6\",\"y\":[0.5],\"yaxis\":\"y6\",\"type\":\"scatter\"},{\"customdata\":[0.79],\"hovertemplate\":\"Value: %{customdata}<extra></extra>\",\"marker\":{\"color\":\"green\",\"opacity\":0.4,\"size\":18.463621063285544},\"mode\":\"markers\",\"x\":[0.625],\"xaxis\":\"x6\",\"y\":[0.5],\"yaxis\":\"y6\",\"type\":\"scatter\"},{\"customdata\":[0.32],\"hovertemplate\":\"Value: %{customdata}<extra></extra>\",\"marker\":{\"color\":\"green\",\"opacity\":0.4,\"size\":7.528897141028242},\"mode\":\"markers\",\"x\":[0.875],\"xaxis\":\"x6\",\"y\":[0.5],\"yaxis\":\"y6\",\"type\":\"scatter\"},{\"customdata\":[-0.36],\"hovertemplate\":\"Value: %{customdata}<extra></extra>\",\"marker\":{\"color\":\"red\",\"opacity\":0.4,\"size\":8.313072419240708},\"mode\":\"markers\",\"x\":[0.5],\"xaxis\":\"x2\",\"y\":[0.2],\"yaxis\":\"y2\",\"type\":\"scatter\"},{\"customdata\":[-0.44],\"hovertemplate\":\"Value: %{customdata}<extra></extra>\",\"marker\":{\"color\":\"red\",\"opacity\":0.4,\"size\":10.308734006471449},\"mode\":\"markers\",\"x\":[0.5],\"xaxis\":\"x2\",\"y\":[0.5],\"yaxis\":\"y2\",\"type\":\"scatter\"},{\"customdata\":[-1.56],\"hovertemplate\":\"Value: %{customdata}<extra></extra>\",\"marker\":{\"color\":\"red\",\"opacity\":0.4,\"size\":36.40338032342177},\"mode\":\"markers\",\"x\":[0.5],\"xaxis\":\"x2\",\"y\":[0.8],\"yaxis\":\"y2\",\"type\":\"scatter\"}],\"layout\":{\"annotations\":[{\"font\":{\"size\":18},\"showarrow\":false,\"text\":\"Year: 2012\",\"x\":0,\"xref\":\"paper\",\"y\":0.95,\"yref\":\"paper\"},{\"font\":{\"size\":18},\"showarrow\":false,\"text\":\"Country: Greece\",\"x\":0,\"xref\":\"paper\",\"y\":0.85,\"yref\":\"paper\"}]},\"name\":\"2012\"},{\"data\":[{\"customdata\":[1.59],\"hovertemplate\":\"Value: %{customdata}<extra></extra>\",\"marker\":{\"color\":\"green\",\"opacity\":0.4,\"size\":37.125812543289456},\"mode\":\"markers\",\"x\":[0.125],\"xaxis\":\"x\",\"y\":[0.5],\"yaxis\":\"y\",\"type\":\"scatter\"},{\"customdata\":[0.15],\"hovertemplate\":\"Value: %{customdata}<extra></extra>\",\"marker\":{\"color\":\"green\",\"opacity\":0.4,\"size\":3.6001026794983955},\"mode\":\"markers\",\"x\":[0.375],\"xaxis\":\"x\",\"y\":[0.5],\"yaxis\":\"y\",\"type\":\"scatter\"},{\"customdata\":[0.3],\"hovertemplate\":\"Value: %{customdata}<extra></extra>\",\"marker\":{\"color\":\"green\",\"opacity\":0.4,\"size\":7.095255458920631},\"mode\":\"markers\",\"x\":[0.625],\"xaxis\":\"x\",\"y\":[0.5],\"yaxis\":\"y\",\"type\":\"scatter\"},{\"customdata\":[0.1],\"hovertemplate\":\"Value: %{customdata}<extra></extra>\",\"marker\":{\"color\":\"green\",\"opacity\":0.4,\"size\":2.3333333333333335},\"mode\":\"markers\",\"x\":[0.875],\"xaxis\":\"x\",\"y\":[0.5],\"yaxis\":\"y\",\"type\":\"scatter\"},{\"customdata\":[0.37],\"hovertemplate\":\"Value: %{customdata}<extra></extra>\",\"marker\":{\"color\":\"green\",\"opacity\":0.4,\"size\":8.735515688622602},\"mode\":\"markers\",\"x\":[0.125],\"xaxis\":\"x3\",\"y\":[0.5],\"yaxis\":\"y3\",\"type\":\"scatter\"},{\"customdata\":[-0.25],\"hovertemplate\":\"Value: %{customdata}<extra></extra>\",\"marker\":{\"color\":\"red\",\"opacity\":0.4,\"size\":5.918854760917878},\"mode\":\"markers\",\"x\":[0.375],\"xaxis\":\"x3\",\"y\":[0.5],\"yaxis\":\"y3\",\"type\":\"scatter\"},{\"customdata\":[0.33],\"hovertemplate\":\"Value: %{customdata}<extra></extra>\",\"marker\":{\"color\":\"green\",\"opacity\":0.4,\"size\":7.695875239222174},\"mode\":\"markers\",\"x\":[0.625],\"xaxis\":\"x3\",\"y\":[0.5],\"yaxis\":\"y3\",\"type\":\"scatter\"},{\"customdata\":[0.1],\"hovertemplate\":\"Value: %{customdata}<extra></extra>\",\"marker\":{\"color\":\"green\",\"opacity\":0.4,\"size\":2.3333333333333335},\"mode\":\"markers\",\"x\":[0.875],\"xaxis\":\"x3\",\"y\":[0.5],\"yaxis\":\"y3\",\"type\":\"scatter\"},{\"customdata\":[-0.27],\"hovertemplate\":\"Value: %{customdata}<extra></extra>\",\"marker\":{\"color\":\"red\",\"opacity\":0.4,\"size\":6.360180161976005},\"mode\":\"markers\",\"x\":[0.25],\"xaxis\":\"x4\",\"y\":[0.5],\"yaxis\":\"y4\",\"type\":\"scatter\"},{\"customdata\":[-0.85],\"hovertemplate\":\"Value: %{customdata}<extra></extra>\",\"marker\":{\"color\":\"red\",\"opacity\":0.4,\"size\":19.799490295627344},\"mode\":\"markers\",\"x\":[0.5],\"xaxis\":\"x4\",\"y\":[0.5],\"yaxis\":\"y4\",\"type\":\"scatter\"},{\"customdata\":[1.0],\"hovertemplate\":\"Value: %{customdata}<extra></extra>\",\"marker\":{\"color\":\"green\",\"opacity\":0.4,\"size\":23.44577436786495},\"mode\":\"markers\",\"x\":[0.75],\"xaxis\":\"x4\",\"y\":[0.5],\"yaxis\":\"y4\",\"type\":\"scatter\"},{\"customdata\":[0.1],\"hovertemplate\":\"Value: %{customdata}<extra></extra>\",\"marker\":{\"color\":\"green\",\"opacity\":0.4,\"size\":2.3333333333333335},\"mode\":\"markers\",\"x\":[0.125],\"xaxis\":\"x5\",\"y\":[0.5],\"yaxis\":\"y5\",\"type\":\"scatter\"},{\"customdata\":[0.1],\"hovertemplate\":\"Value: %{customdata}<extra></extra>\",\"marker\":{\"color\":\"green\",\"opacity\":0.4,\"size\":2.3333333333333335},\"mode\":\"markers\",\"x\":[0.375],\"xaxis\":\"x5\",\"y\":[0.5],\"yaxis\":\"y5\",\"type\":\"scatter\"},{\"customdata\":[0.1],\"hovertemplate\":\"Value: %{customdata}<extra></extra>\",\"marker\":{\"color\":\"green\",\"opacity\":0.4,\"size\":2.3333333333333335},\"mode\":\"markers\",\"x\":[0.625],\"xaxis\":\"x5\",\"y\":[0.5],\"yaxis\":\"y5\",\"type\":\"scatter\"},{\"customdata\":[0.1],\"hovertemplate\":\"Value: %{customdata}<extra></extra>\",\"marker\":{\"color\":\"green\",\"opacity\":0.4,\"size\":2.3333333333333335},\"mode\":\"markers\",\"x\":[0.875],\"xaxis\":\"x5\",\"y\":[0.5],\"yaxis\":\"y5\",\"type\":\"scatter\"},{\"customdata\":[-1.76],\"hovertemplate\":\"Value: %{customdata}<extra></extra>\",\"marker\":{\"color\":\"red\",\"opacity\":0.4,\"size\":41.10672462057161},\"mode\":\"markers\",\"x\":[0.125],\"xaxis\":\"x6\",\"y\":[0.5],\"yaxis\":\"y6\",\"type\":\"scatter\"},{\"customdata\":[1.17],\"hovertemplate\":\"Value: %{customdata}<extra></extra>\",\"marker\":{\"color\":\"green\",\"opacity\":0.4,\"size\":27.232243945181043},\"mode\":\"markers\",\"x\":[0.375],\"xaxis\":\"x6\",\"y\":[0.5],\"yaxis\":\"y6\",\"type\":\"scatter\"},{\"customdata\":[0.78],\"hovertemplate\":\"Value: %{customdata}<extra></extra>\",\"marker\":{\"color\":\"green\",\"opacity\":0.4,\"size\":18.09094050433199},\"mode\":\"markers\",\"x\":[0.625],\"xaxis\":\"x6\",\"y\":[0.5],\"yaxis\":\"y6\",\"type\":\"scatter\"},{\"customdata\":[0.26],\"hovertemplate\":\"Value: %{customdata}<extra></extra>\",\"marker\":{\"color\":\"green\",\"opacity\":0.4,\"size\":6.173952918226214},\"mode\":\"markers\",\"x\":[0.875],\"xaxis\":\"x6\",\"y\":[0.5],\"yaxis\":\"y6\",\"type\":\"scatter\"},{\"customdata\":[-0.37],\"hovertemplate\":\"Value: %{customdata}<extra></extra>\",\"marker\":{\"color\":\"red\",\"opacity\":0.4,\"size\":8.699726950368177},\"mode\":\"markers\",\"x\":[0.5],\"xaxis\":\"x2\",\"y\":[0.2],\"yaxis\":\"y2\",\"type\":\"scatter\"},{\"customdata\":[-0.42],\"hovertemplate\":\"Value: %{customdata}<extra></extra>\",\"marker\":{\"color\":\"red\",\"opacity\":0.4,\"size\":9.886700051148608},\"mode\":\"markers\",\"x\":[0.5],\"xaxis\":\"x2\",\"y\":[0.5],\"yaxis\":\"y2\",\"type\":\"scatter\"},{\"customdata\":[null],\"hovertemplate\":\"Value: %{customdata}<extra></extra>\",\"marker\":{\"color\":\"grey\",\"opacity\":0.2,\"size\":7.0},\"mode\":\"markers\",\"x\":[0.5],\"xaxis\":\"x2\",\"y\":[0.8],\"yaxis\":\"y2\",\"type\":\"scatter\"}],\"layout\":{\"annotations\":[{\"font\":{\"size\":18},\"showarrow\":false,\"text\":\"Year: 2013\",\"x\":0,\"xref\":\"paper\",\"y\":0.95,\"yref\":\"paper\"},{\"font\":{\"size\":18},\"showarrow\":false,\"text\":\"Country: Greece\",\"x\":0,\"xref\":\"paper\",\"y\":0.85,\"yref\":\"paper\"}]},\"name\":\"2013\"},{\"data\":[{\"customdata\":[1.55],\"hovertemplate\":\"Value: %{customdata}<extra></extra>\",\"marker\":{\"color\":\"green\",\"opacity\":0.4,\"size\":36.1738413476218},\"mode\":\"markers\",\"x\":[0.125],\"xaxis\":\"x\",\"y\":[0.5],\"yaxis\":\"y\",\"type\":\"scatter\"},{\"customdata\":[0.16],\"hovertemplate\":\"Value: %{customdata}<extra></extra>\",\"marker\":{\"color\":\"green\",\"opacity\":0.4,\"size\":3.786608579411315},\"mode\":\"markers\",\"x\":[0.375],\"xaxis\":\"x\",\"y\":[0.5],\"yaxis\":\"y\",\"type\":\"scatter\"},{\"customdata\":[0.31],\"hovertemplate\":\"Value: %{customdata}<extra></extra>\",\"marker\":{\"color\":\"green\",\"opacity\":0.4,\"size\":7.12876191590489},\"mode\":\"markers\",\"x\":[0.625],\"xaxis\":\"x\",\"y\":[0.5],\"yaxis\":\"y\",\"type\":\"scatter\"},{\"customdata\":[0.1],\"hovertemplate\":\"Value: %{customdata}<extra></extra>\",\"marker\":{\"color\":\"green\",\"opacity\":0.4,\"size\":2.3333333333333335},\"mode\":\"markers\",\"x\":[0.875],\"xaxis\":\"x\",\"y\":[0.5],\"yaxis\":\"y\",\"type\":\"scatter\"},{\"customdata\":[0.36],\"hovertemplate\":\"Value: %{customdata}<extra></extra>\",\"marker\":{\"color\":\"green\",\"opacity\":0.4,\"size\":8.369544278672421},\"mode\":\"markers\",\"x\":[0.125],\"xaxis\":\"x3\",\"y\":[0.5],\"yaxis\":\"y3\",\"type\":\"scatter\"},{\"customdata\":[-0.34],\"hovertemplate\":\"Value: %{customdata}<extra></extra>\",\"marker\":{\"color\":\"red\",\"opacity\":0.4,\"size\":7.885615788460326},\"mode\":\"markers\",\"x\":[0.375],\"xaxis\":\"x3\",\"y\":[0.5],\"yaxis\":\"y3\",\"type\":\"scatter\"},{\"customdata\":[0.29],\"hovertemplate\":\"Value: %{customdata}<extra></extra>\",\"marker\":{\"color\":\"green\",\"opacity\":0.4,\"size\":6.7672492195637615},\"mode\":\"markers\",\"x\":[0.625],\"xaxis\":\"x3\",\"y\":[0.5],\"yaxis\":\"y3\",\"type\":\"scatter\"},{\"customdata\":[0.1],\"hovertemplate\":\"Value: %{customdata}<extra></extra>\",\"marker\":{\"color\":\"green\",\"opacity\":0.4,\"size\":2.3333333333333335},\"mode\":\"markers\",\"x\":[0.875],\"xaxis\":\"x3\",\"y\":[0.5],\"yaxis\":\"y3\",\"type\":\"scatter\"},{\"customdata\":[-0.23],\"hovertemplate\":\"Value: %{customdata}<extra></extra>\",\"marker\":{\"color\":\"red\",\"opacity\":0.4,\"size\":5.404484070679748},\"mode\":\"markers\",\"x\":[0.25],\"xaxis\":\"x4\",\"y\":[0.5],\"yaxis\":\"y4\",\"type\":\"scatter\"},{\"customdata\":[-0.98],\"hovertemplate\":\"Value: %{customdata}<extra></extra>\",\"marker\":{\"color\":\"red\",\"opacity\":0.4,\"size\":22.891035225505004},\"mode\":\"markers\",\"x\":[0.5],\"xaxis\":\"x4\",\"y\":[0.5],\"yaxis\":\"y4\",\"type\":\"scatter\"},{\"customdata\":[1.03],\"hovertemplate\":\"Value: %{customdata}<extra></extra>\",\"marker\":{\"color\":\"green\",\"opacity\":0.4,\"size\":23.97753600551816},\"mode\":\"markers\",\"x\":[0.75],\"xaxis\":\"x4\",\"y\":[0.5],\"yaxis\":\"y4\",\"type\":\"scatter\"},{\"customdata\":[0.1],\"hovertemplate\":\"Value: %{customdata}<extra></extra>\",\"marker\":{\"color\":\"green\",\"opacity\":0.4,\"size\":2.3333333333333335},\"mode\":\"markers\",\"x\":[0.125],\"xaxis\":\"x5\",\"y\":[0.5],\"yaxis\":\"y5\",\"type\":\"scatter\"},{\"customdata\":[0.1],\"hovertemplate\":\"Value: %{customdata}<extra></extra>\",\"marker\":{\"color\":\"green\",\"opacity\":0.4,\"size\":2.3333333333333335},\"mode\":\"markers\",\"x\":[0.375],\"xaxis\":\"x5\",\"y\":[0.5],\"yaxis\":\"y5\",\"type\":\"scatter\"},{\"customdata\":[0.1],\"hovertemplate\":\"Value: %{customdata}<extra></extra>\",\"marker\":{\"color\":\"green\",\"opacity\":0.4,\"size\":2.3333333333333335},\"mode\":\"markers\",\"x\":[0.625],\"xaxis\":\"x5\",\"y\":[0.5],\"yaxis\":\"y5\",\"type\":\"scatter\"},{\"customdata\":[0.1],\"hovertemplate\":\"Value: %{customdata}<extra></extra>\",\"marker\":{\"color\":\"green\",\"opacity\":0.4,\"size\":2.3333333333333335},\"mode\":\"markers\",\"x\":[0.875],\"xaxis\":\"x5\",\"y\":[0.5],\"yaxis\":\"y5\",\"type\":\"scatter\"},{\"customdata\":[-1.77],\"hovertemplate\":\"Value: %{customdata}<extra></extra>\",\"marker\":{\"color\":\"red\",\"opacity\":0.4,\"size\":41.38656448165473},\"mode\":\"markers\",\"x\":[0.125],\"xaxis\":\"x6\",\"y\":[0.5],\"yaxis\":\"y6\",\"type\":\"scatter\"},{\"customdata\":[1.18],\"hovertemplate\":\"Value: %{customdata}<extra></extra>\",\"marker\":{\"color\":\"green\",\"opacity\":0.4,\"size\":27.519445018004394},\"mode\":\"markers\",\"x\":[0.375],\"xaxis\":\"x6\",\"y\":[0.5],\"yaxis\":\"y6\",\"type\":\"scatter\"},{\"customdata\":[0.61],\"hovertemplate\":\"Value: %{customdata}<extra></extra>\",\"marker\":{\"color\":\"green\",\"opacity\":0.4,\"size\":14.280067225519288},\"mode\":\"markers\",\"x\":[0.625],\"xaxis\":\"x6\",\"y\":[0.5],\"yaxis\":\"y6\",\"type\":\"scatter\"},{\"customdata\":[0.22],\"hovertemplate\":\"Value: %{customdata}<extra></extra>\",\"marker\":{\"color\":\"green\",\"opacity\":0.4,\"size\":5.237906754032679},\"mode\":\"markers\",\"x\":[0.875],\"xaxis\":\"x6\",\"y\":[0.5],\"yaxis\":\"y6\",\"type\":\"scatter\"},{\"customdata\":[-0.4],\"hovertemplate\":\"Value: %{customdata}<extra></extra>\",\"marker\":{\"color\":\"red\",\"opacity\":0.4,\"size\":9.279708747059397},\"mode\":\"markers\",\"x\":[0.5],\"xaxis\":\"x2\",\"y\":[0.2],\"yaxis\":\"y2\",\"type\":\"scatter\"},{\"customdata\":[-0.34],\"hovertemplate\":\"Value: %{customdata}<extra></extra>\",\"marker\":{\"color\":\"red\",\"opacity\":0.4,\"size\":7.822895784052286},\"mode\":\"markers\",\"x\":[0.5],\"xaxis\":\"x2\",\"y\":[0.5],\"yaxis\":\"y2\",\"type\":\"scatter\"},{\"customdata\":[-1.64],\"hovertemplate\":\"Value: %{customdata}<extra></extra>\",\"marker\":{\"color\":\"red\",\"opacity\":0.4,\"size\":38.26387453455974},\"mode\":\"markers\",\"x\":[0.5],\"xaxis\":\"x2\",\"y\":[0.8],\"yaxis\":\"y2\",\"type\":\"scatter\"}],\"layout\":{\"annotations\":[{\"font\":{\"size\":18},\"showarrow\":false,\"text\":\"Year: 2014\",\"x\":0,\"xref\":\"paper\",\"y\":0.95,\"yref\":\"paper\"},{\"font\":{\"size\":18},\"showarrow\":false,\"text\":\"Country: Greece\",\"x\":0,\"xref\":\"paper\",\"y\":0.85,\"yref\":\"paper\"}]},\"name\":\"2014\"},{\"data\":[{\"customdata\":[1.48],\"hovertemplate\":\"Value: %{customdata}<extra></extra>\",\"marker\":{\"color\":\"green\",\"opacity\":0.4,\"size\":34.55173598300215},\"mode\":\"markers\",\"x\":[0.125],\"xaxis\":\"x\",\"y\":[0.5],\"yaxis\":\"y\",\"type\":\"scatter\"},{\"customdata\":[0.13],\"hovertemplate\":\"Value: %{customdata}<extra></extra>\",\"marker\":{\"color\":\"green\",\"opacity\":0.4,\"size\":3.0210204626694086},\"mode\":\"markers\",\"x\":[0.375],\"xaxis\":\"x\",\"y\":[0.5],\"yaxis\":\"y\",\"type\":\"scatter\"},{\"customdata\":[0.32],\"hovertemplate\":\"Value: %{customdata}<extra></extra>\",\"marker\":{\"color\":\"green\",\"opacity\":0.4,\"size\":7.533197209259503},\"mode\":\"markers\",\"x\":[0.625],\"xaxis\":\"x\",\"y\":[0.5],\"yaxis\":\"y\",\"type\":\"scatter\"},{\"customdata\":[0.1],\"hovertemplate\":\"Value: %{customdata}<extra></extra>\",\"marker\":{\"color\":\"green\",\"opacity\":0.4,\"size\":2.3333333333333335},\"mode\":\"markers\",\"x\":[0.875],\"xaxis\":\"x\",\"y\":[0.5],\"yaxis\":\"y\",\"type\":\"scatter\"},{\"customdata\":[0.37],\"hovertemplate\":\"Value: %{customdata}<extra></extra>\",\"marker\":{\"color\":\"green\",\"opacity\":0.4,\"size\":8.537407606758187},\"mode\":\"markers\",\"x\":[0.125],\"xaxis\":\"x3\",\"y\":[0.5],\"yaxis\":\"y3\",\"type\":\"scatter\"},{\"customdata\":[-0.35],\"hovertemplate\":\"Value: %{customdata}<extra></extra>\",\"marker\":{\"color\":\"red\",\"opacity\":0.4,\"size\":8.22442674792895},\"mode\":\"markers\",\"x\":[0.375],\"xaxis\":\"x3\",\"y\":[0.5],\"yaxis\":\"y3\",\"type\":\"scatter\"},{\"customdata\":[0.25],\"hovertemplate\":\"Value: %{customdata}<extra></extra>\",\"marker\":{\"color\":\"green\",\"opacity\":0.4,\"size\":5.759359335182986},\"mode\":\"markers\",\"x\":[0.625],\"xaxis\":\"x3\",\"y\":[0.5],\"yaxis\":\"y3\",\"type\":\"scatter\"},{\"customdata\":[0.1],\"hovertemplate\":\"Value: %{customdata}<extra></extra>\",\"marker\":{\"color\":\"green\",\"opacity\":0.4,\"size\":2.3333333333333335},\"mode\":\"markers\",\"x\":[0.875],\"xaxis\":\"x3\",\"y\":[0.5],\"yaxis\":\"y3\",\"type\":\"scatter\"},{\"customdata\":[-0.18],\"hovertemplate\":\"Value: %{customdata}<extra></extra>\",\"marker\":{\"color\":\"red\",\"opacity\":0.4,\"size\":4.159842165055985},\"mode\":\"markers\",\"x\":[0.25],\"xaxis\":\"x4\",\"y\":[0.5],\"yaxis\":\"y4\",\"type\":\"scatter\"},{\"customdata\":[-0.93],\"hovertemplate\":\"Value: %{customdata}<extra></extra>\",\"marker\":{\"color\":\"red\",\"opacity\":0.4,\"size\":21.618672361142867},\"mode\":\"markers\",\"x\":[0.5],\"xaxis\":\"x4\",\"y\":[0.5],\"yaxis\":\"y4\",\"type\":\"scatter\"},{\"customdata\":[0.99],\"hovertemplate\":\"Value: %{customdata}<extra></extra>\",\"marker\":{\"color\":\"green\",\"opacity\":0.4,\"size\":23.1501369581897},\"mode\":\"markers\",\"x\":[0.75],\"xaxis\":\"x4\",\"y\":[0.5],\"yaxis\":\"y4\",\"type\":\"scatter\"},{\"customdata\":[0.1],\"hovertemplate\":\"Value: %{customdata}<extra></extra>\",\"marker\":{\"color\":\"green\",\"opacity\":0.4,\"size\":2.3333333333333335},\"mode\":\"markers\",\"x\":[0.125],\"xaxis\":\"x5\",\"y\":[0.5],\"yaxis\":\"y5\",\"type\":\"scatter\"},{\"customdata\":[0.1],\"hovertemplate\":\"Value: %{customdata}<extra></extra>\",\"marker\":{\"color\":\"green\",\"opacity\":0.4,\"size\":2.3333333333333335},\"mode\":\"markers\",\"x\":[0.375],\"xaxis\":\"x5\",\"y\":[0.5],\"yaxis\":\"y5\",\"type\":\"scatter\"},{\"customdata\":[0.1],\"hovertemplate\":\"Value: %{customdata}<extra></extra>\",\"marker\":{\"color\":\"green\",\"opacity\":0.4,\"size\":2.3333333333333335},\"mode\":\"markers\",\"x\":[0.625],\"xaxis\":\"x5\",\"y\":[0.5],\"yaxis\":\"y5\",\"type\":\"scatter\"},{\"customdata\":[0.1],\"hovertemplate\":\"Value: %{customdata}<extra></extra>\",\"marker\":{\"color\":\"green\",\"opacity\":0.4,\"size\":2.3333333333333335},\"mode\":\"markers\",\"x\":[0.875],\"xaxis\":\"x5\",\"y\":[0.5],\"yaxis\":\"y5\",\"type\":\"scatter\"},{\"customdata\":[-1.73],\"hovertemplate\":\"Value: %{customdata}<extra></extra>\",\"marker\":{\"color\":\"red\",\"opacity\":0.4,\"size\":40.39166233243193},\"mode\":\"markers\",\"x\":[0.125],\"xaxis\":\"x6\",\"y\":[0.5],\"yaxis\":\"y6\",\"type\":\"scatter\"},{\"customdata\":[1.14],\"hovertemplate\":\"Value: %{customdata}<extra></extra>\",\"marker\":{\"color\":\"green\",\"opacity\":0.4,\"size\":26.517743715230424},\"mode\":\"markers\",\"x\":[0.375],\"xaxis\":\"x6\",\"y\":[0.5],\"yaxis\":\"y6\",\"type\":\"scatter\"},{\"customdata\":[0.58],\"hovertemplate\":\"Value: %{customdata}<extra></extra>\",\"marker\":{\"color\":\"green\",\"opacity\":0.4,\"size\":13.483526352535064},\"mode\":\"markers\",\"x\":[0.625],\"xaxis\":\"x6\",\"y\":[0.5],\"yaxis\":\"y6\",\"type\":\"scatter\"},{\"customdata\":[0.16],\"hovertemplate\":\"Value: %{customdata}<extra></extra>\",\"marker\":{\"color\":\"green\",\"opacity\":0.4,\"size\":3.664449247180632},\"mode\":\"markers\",\"x\":[0.875],\"xaxis\":\"x6\",\"y\":[0.5],\"yaxis\":\"y6\",\"type\":\"scatter\"},{\"customdata\":[-0.38],\"hovertemplate\":\"Value: %{customdata}<extra></extra>\",\"marker\":{\"color\":\"red\",\"opacity\":0.4,\"size\":8.893054215931917},\"mode\":\"markers\",\"x\":[0.5],\"xaxis\":\"x2\",\"y\":[0.2],\"yaxis\":\"y2\",\"type\":\"scatter\"},{\"customdata\":[-0.38],\"hovertemplate\":\"Value: %{customdata}<extra></extra>\",\"marker\":{\"color\":\"red\",\"opacity\":0.4,\"size\":8.797335742944092},\"mode\":\"markers\",\"x\":[0.5],\"xaxis\":\"x2\",\"y\":[0.5],\"yaxis\":\"y2\",\"type\":\"scatter\"},{\"customdata\":[-0.72],\"hovertemplate\":\"Value: %{customdata}<extra></extra>\",\"marker\":{\"color\":\"red\",\"opacity\":0.4,\"size\":16.81105705006568},\"mode\":\"markers\",\"x\":[0.5],\"xaxis\":\"x2\",\"y\":[0.8],\"yaxis\":\"y2\",\"type\":\"scatter\"}],\"layout\":{\"annotations\":[{\"font\":{\"size\":18},\"showarrow\":false,\"text\":\"Year: 2015\",\"x\":0,\"xref\":\"paper\",\"y\":0.95,\"yref\":\"paper\"},{\"font\":{\"size\":18},\"showarrow\":false,\"text\":\"Country: Greece\",\"x\":0,\"xref\":\"paper\",\"y\":0.85,\"yref\":\"paper\"}]},\"name\":\"2015\"}]);\n                        }).then(function(){\n                            \nvar gd = document.getElementById('3556e3ab-f07c-4b47-aacc-6d5b8a611138');\nvar x = new MutationObserver(function (mutations, observer) {{\n        var display = window.getComputedStyle(gd).display;\n        if (!display || display === 'none') {{\n            console.log([gd, 'removed!']);\n            Plotly.purge(gd);\n            observer.disconnect();\n        }}\n}});\n\n// Listen for the removal of the full notebook cells\nvar notebookContainer = gd.closest('#notebook-container');\nif (notebookContainer) {{\n    x.observe(notebookContainer, {childList: true});\n}}\n\n// Listen for the clearing of the current output cell\nvar outputEl = gd.closest('.output');\nif (outputEl) {{\n    x.observe(outputEl, {childList: true});\n}}\n\n                        })                };                });            </script>        </div>"
     },
     "metadata": {},
     "output_type": "display_data"
    }
   ],
   "source": [
    "plotly_animate('Greece', years=range(2010, 2016))"
   ],
   "metadata": {
    "collapsed": false,
    "ExecuteTime": {
     "end_time": "2023-11-18T11:24:39.394582Z",
     "start_time": "2023-11-18T11:24:38.914700Z"
    }
   },
   "id": "4a7b8eace34c940e"
  },
  {
   "cell_type": "markdown",
   "source": [
    "## Plotting code"
   ],
   "metadata": {
    "collapsed": false
   },
   "id": "87daf5d6fb5a2c89"
  },
  {
   "cell_type": "code",
   "execution_count": 686,
   "outputs": [],
   "source": [
    "import plotly.graph_objs as go\n",
    "from plotly.subplots import make_subplots"
   ],
   "metadata": {
    "collapsed": false,
    "ExecuteTime": {
     "end_time": "2023-11-18T11:24:39.395040Z",
     "start_time": "2023-11-18T11:24:39.393313Z"
    }
   },
   "id": "3e1e6af654eefff"
  },
  {
   "cell_type": "code",
   "execution_count": 687,
   "outputs": [],
   "source": [
    "def calculate_circle_properties(size, reverse=False):\n",
    "    \"\"\" Calculate color, alpha, and radius based on the size. \"\"\"\n",
    "    color = 'red' if size < 0 else 'green'\n",
    "    if size is None or np.isnan(size):\n",
    "        color = 'grey'\n",
    "        alpha = 0.2\n",
    "        radius = 0.02\n",
    "    else:\n",
    "        alpha = min(max(abs(size) / 5, 0.4), 1.0)\n",
    "        radius = abs(size) / 15\n",
    "    return color, alpha, radius\n",
    "\n",
    "\n",
    "def determine_plotly_row_col(ax_index):\n",
    "    \"\"\" Determine the row and column of the subplot in Plotly. \"\"\"\n",
    "    if ax_index == 0:\n",
    "        return 1, 2  # First subplot in the first column\n",
    "    elif 1 <= ax_index <= 3:\n",
    "        return 2, ax_index  # Second row, columns 1, 2, and 3 of the first column\n",
    "    elif ax_index == 4:\n",
    "        return 3, 2  # Third row, first column\n",
    "    else:\n",
    "        return 1, 4  # Spanning subplot in the second column\n",
    "\n",
    "\n",
    "def set_axis_properties(fig, row, col, xcoords, xaxisticks, yaxisticks):\n",
    "    \"\"\" Set properties for main axes.\"\"\"\n",
    "    if col == 1 or col == 2 or col == 3:\n",
    "        fig.update_yaxes(range=[0.3, 0.7], row=row, col=col)\n",
    "        fig.update_xaxes(tickvals=xcoords, ticktext=xaxisticks, row=row, col=col)\n",
    "        fig.update_yaxes(tickvals=[0.5], ticktext=yaxisticks, row=row, col=col)\n",
    "\n",
    "\n",
    "def set_side_axis_properties(fig, row, col, sideycoords, allsideticks):\n",
    "    \"\"\" Set properties for the side axis. \"\"\"\n",
    "    if col == 4 and row == 1:\n",
    "        fig.update_xaxes(range=[0.3, 0.7], tickvals=[0.5], ticktext=['Decision-Making'], row=row, col=col)\n",
    "        fig.update_yaxes(tickvals=sideycoords, ticktext=allsideticks, row=row, col=col)"
   ],
   "metadata": {
    "collapsed": false,
    "ExecuteTime": {
     "end_time": "2023-11-18T11:24:39.401364Z",
     "start_time": "2023-11-18T11:24:39.398490Z"
    }
   },
   "id": "ee13967ac8abf840"
  },
  {
   "cell_type": "code",
   "execution_count": 688,
   "outputs": [],
   "source": [
    "def draw_plot(country, year_number, fig):\n",
    "    data_values = get_data_by_year(country, year_number)\n",
    "    if not data_values:\n",
    "        print(\"No data available for the specified country and year.\")\n",
    "        return\n",
    "\n",
    "    # Unpacking the data\n",
    "    (agriculture, industry, services, grosscapital, unemployed, wealth, gini, voice,\n",
    "     femaleminister, lifeexpectancy, education, govconsum, marketcap, houseconsum,\n",
    "     energy, mfootprint) = data_values\n",
    "\n",
    "    all_sizes = [[unemployed, wealth, energy, 0.1], [govconsum, marketcap, houseconsum, 0.1],\n",
    "                 [agriculture, industry, services],\n",
    "                 [0.1, 0.1, 0.1, 0.1],\n",
    "                 [grosscapital, lifeexpectancy, education, mfootprint]]\n",
    "    side_sizes = [gini, voice, femaleminister]\n",
    "    # Scaling factor for circle sizes\n",
    "    scaling_factor = 350\n",
    "    # Draw circles in main axes\n",
    "    for ax_index, sizes in enumerate(all_sizes):\n",
    "        row, col = determine_plotly_row_col(ax_index)\n",
    "        for x, size in zip(all_x_coords[ax_index], sizes):\n",
    "            color, alpha, radius = calculate_circle_properties(size)\n",
    "            fig.add_trace(\n",
    "                go.Scatter(\n",
    "                    x=[x], y=[0.5], mode='markers',\n",
    "                    marker=dict(color=color, size=radius * scaling_factor, opacity=alpha),\n",
    "                    hovertemplate='Value: %{customdata}<extra></extra>',\n",
    "                    customdata=[round(size, 2)]\n",
    "                ),\n",
    "                row=row, col=col\n",
    "            )\n",
    "        if col != 4:  # Check if it's not the side axis\n",
    "            set_axis_properties(fig, row, col, all_x_coords[ax_index], all_x_axis_ticks[ax_index],\n",
    "                                all_y_axis_ticks[ax_index])\n",
    "    # Draw circles in side axis\n",
    "    for y, size in zip(side_y_coords, side_sizes):\n",
    "        color, alpha, radius = calculate_circle_properties(size)\n",
    "        fig.add_trace(\n",
    "            go.Scatter(\n",
    "                x=[0.5], y=[y], mode='markers',\n",
    "                marker=dict(color=color, size=radius * scaling_factor, opacity=alpha),\n",
    "                hovertemplate='Value: %{customdata}<extra></extra>',\n",
    "                customdata=[round(size, 2)]\n",
    "            ),\n",
    "            row=1, col=4  # Spanning subplot in the fourth column\n",
    "        )\n",
    "    # Set side axis properties\n",
    "    set_side_axis_properties(fig, 1, 4, side_y_coords,\n",
    "                             all_side_ticks)  # Corrected for the spanning subplot in the second column\n",
    "    return fig"
   ],
   "metadata": {
    "collapsed": false,
    "ExecuteTime": {
     "end_time": "2023-11-18T11:24:39.416243Z",
     "start_time": "2023-11-18T11:24:39.408134Z"
    }
   },
   "id": "8120a435432c02c6"
  },
  {
   "cell_type": "code",
   "execution_count": 689,
   "outputs": [],
   "source": [
    "def plotly_animate(countrytoplot, years):\n",
    "    fig = make_subplots(\n",
    "        rows=3, cols=4,\n",
    "        column_widths=[0.25, 0.25, 0.25, 0.1],  # Adjust these widths as needed\n",
    "        specs=[\n",
    "            [None, {\"type\": \"scatter\"}, None, {\"type\": \"scatter\", \"rowspan\": 3}],\n",
    "            [{\"type\": \"scatter\"}, {\"type\": \"scatter\"}, {\"type\": \"scatter\"}, None],\n",
    "            [None, {\"type\": \"scatter\"}, None, None]\n",
    "        ],\n",
    "        horizontal_spacing=0.02  # Adjust spacing between columns if needed\n",
    "    )\n",
    "    fig.add_annotation(\n",
    "        dict(\n",
    "            xref='paper',  # Position reference relative to the whole figure\n",
    "            yref='paper',\n",
    "            x=0,  # Adjust the position as needed\n",
    "            y=0.95,  # Adjust the position as needed\n",
    "            text=f'Year: {years[0]}',  # Initial text\n",
    "            showarrow=False,\n",
    "            font=dict(size=18)  # Adjust font size as needed\n",
    "        ),\n",
    "    )\n",
    "    fig.add_annotation(\n",
    "        dict(\n",
    "            xref='paper',\n",
    "            yref='paper',\n",
    "            x=0,  # Same position as initial annotation\n",
    "            y=0.85,  # Same position as initial annotation\n",
    "            text=f'Country: {countrytoplot}',  # Update text with current year\n",
    "            showarrow=False,\n",
    "            font=dict(size=18)\n",
    "        )\n",
    "    )\n",
    "    # Initialize the figure with the data for the first year\n",
    "    draw_plot(countrytoplot, years[0], fig)\n",
    "    # Create frames for each year from 2011 to 2015\n",
    "    frames = []\n",
    "    for year in years:\n",
    "        # Clear the existing data from the figure\n",
    "        temp_fig = make_subplots(\n",
    "            rows=3, cols=4,\n",
    "            column_widths=[0.25, 0.25, 0.25, 0.1],  # Adjust these widths as needed\n",
    "            specs=[\n",
    "                [None, {\"type\": \"scatter\"}, None, {\"type\": \"scatter\", \"rowspan\": 3}],\n",
    "                [{\"type\": \"scatter\"}, {\"type\": \"scatter\"}, {\"type\": \"scatter\"}, None],\n",
    "                [None, {\"type\": \"scatter\"}, None, None]\n",
    "            ],\n",
    "            horizontal_spacing=0.02  # Adjust spacing between columns if needed\n",
    "        )\n",
    "        # Update temp_fig with the new data for the current year\n",
    "        draw_plot(countrytoplot, year, temp_fig)\n",
    "        # Create a new frame with the updated figure data\n",
    "        frame = go.Frame(\n",
    "            data=temp_fig.data,\n",
    "            name=str(year),\n",
    "            layout=dict(\n",
    "                annotations=[\n",
    "                    dict(\n",
    "                        xref='paper',\n",
    "                        yref='paper',\n",
    "                        x=0,  # Same position as initial annotation\n",
    "                        y=0.95,  # Same position as initial annotation\n",
    "                        text=f'Year: {year}',  # Update text with current year\n",
    "                        showarrow=False,\n",
    "                        font=dict(size=18)\n",
    "                    ),\n",
    "                    dict(\n",
    "                        xref='paper',\n",
    "                        yref='paper',\n",
    "                        x=0,  # Same position as initial annotation\n",
    "                        y=0.85,  # Same position as initial annotation\n",
    "                        text=f'Country: {countrytoplot}',  # Update text with current year\n",
    "                        showarrow=False,\n",
    "                        font=dict(size=18)\n",
    "                    )\n",
    "                ]\n",
    "            )\n",
    "        )\n",
    "        frames.append(frame)\n",
    "    # Add frames to the figure\n",
    "    fig.frames = frames\n",
    "    # Add play and pause button\n",
    "    fig.update_layout(\n",
    "        updatemenus=[\n",
    "            dict(\n",
    "                type=\"buttons\",\n",
    "                showactive=False,\n",
    "                buttons=[\n",
    "                    dict(label=\"Play\", method=\"animate\", args=[None, {\"frame\": {\"duration\": 1000}}]),\n",
    "                    dict(label=\"Pause\", method=\"animate\", args=[[None], {\"frame\": {\"duration\": 0, \"redraw\": False}}])\n",
    "                ]\n",
    "            )\n",
    "        ]\n",
    "    )\n",
    "    # Show the figure\n",
    "    fig.update_layout(showlegend=False)\n",
    "    fig.show()\n",
    "    # fig.print_grid()"
   ],
   "metadata": {
    "collapsed": false,
    "ExecuteTime": {
     "end_time": "2023-11-18T11:24:39.422952Z",
     "start_time": "2023-11-18T11:24:39.419285Z"
    }
   },
   "id": "7d442eb1f2e405c8"
  },
  {
   "cell_type": "markdown",
   "source": [
    "## Matplotlib version"
   ],
   "metadata": {
    "collapsed": false
   },
   "id": "38bbe500c6770242"
  },
  {
   "cell_type": "code",
   "execution_count": 690,
   "outputs": [],
   "source": [
    "# def init_plot():\n",
    "#     fig = plt.figure(figsize=(14, 9))\n",
    "#     gs = gridspec.GridSpec(3, 2, width_ratios=[3, 1], height_ratios=[1, 2, 1])\n",
    "# \n",
    "#     # Creating the first and the third main subplot\n",
    "#     ax1 = plt.subplot(gs[0, 0])\n",
    "#     ax2 = plt.subplot(gs[2, 0])\n",
    "# \n",
    "#     # Creating a nested gridspec for the second main subplot\n",
    "#     gs_nested = gridspec.GridSpecFromSubplotSpec(1, 3, subplot_spec=gs[1, 0])\n",
    "# \n",
    "#     # Creating the three smaller subplots within the second main subplot\n",
    "#     ax3 = plt.subplot(gs_nested[0])\n",
    "#     ax4 = plt.subplot(gs_nested[1])\n",
    "#     ax5 = plt.subplot(gs_nested[2])\n",
    "# \n",
    "#     # Adjust the spacing of the subplots\n",
    "# \n",
    "#     # Creating the additional subplot in the second column\n",
    "#     ax_side = plt.subplot(gs[:, 1])  # Spanning all rows\n",
    "# \n",
    "#     all_axes = [ax1, ax3, ax4, ax5, ax2]  # Reordered to match the structure\n",
    "# \n",
    "#     return fig, all_axes, ax_side"
   ],
   "metadata": {
    "collapsed": false,
    "ExecuteTime": {
     "end_time": "2023-11-18T11:24:39.430478Z",
     "start_time": "2023-11-18T11:24:39.422423Z"
    }
   },
   "id": "b09b800717272b9a"
  },
  {
   "cell_type": "code",
   "execution_count": 691,
   "outputs": [],
   "source": [
    "# def calculate_circle_properties(size):\n",
    "#     \"\"\" Calculate color, alpha, and radius based on the size. \"\"\"\n",
    "#     color = 'red' if size < 0 else 'green'\n",
    "#     if np.isnan(size):\n",
    "#         color = 'grey'\n",
    "#         alpha = 0.2\n",
    "#         radius = 0.02\n",
    "#     else:\n",
    "#         alpha = min(max(abs(size) / 5, 0.4), 1.0)\n",
    "#         radius = abs(size) / 15\n",
    "#     return color, alpha, radius\n",
    "# \n",
    "# \n",
    "# def set_axis_properties(ax, xcoords, xaxisticks, yaxisticks):\n",
    "#     \"\"\" Set properties for main axes. \"\"\"\n",
    "#     ax.set_ylim(0.3, 0.7)\n",
    "#     ax.set_aspect('equal', 'box')\n",
    "#     ax.set_xticks(xcoords)\n",
    "#     ax.set_xticklabels(xaxisticks)\n",
    "#     ax.set_yticks([0.5])\n",
    "#     ax.set_yticklabels(yaxisticks)\n",
    "# \n",
    "# \n",
    "# def set_side_axis_properties(axside, sideycoords, allsideticks):\n",
    "#     \"\"\" Set properties for the side axis. \"\"\"\n",
    "#     axside.set_xlim(0.3, 0.7)\n",
    "#     axside.set_aspect('equal', 'box')\n",
    "#     axside.set_xticks([0.5])\n",
    "#     axside.set_xticklabels(['Decision-Making'])\n",
    "#     axside.set_yticks(sideycoords)\n",
    "#     axside.set_yticklabels(allsideticks)"
   ],
   "metadata": {
    "collapsed": false,
    "ExecuteTime": {
     "end_time": "2023-11-18T11:24:39.430652Z",
     "start_time": "2023-11-18T11:24:39.425755Z"
    }
   },
   "id": "108c8c62175a174e"
  },
  {
   "cell_type": "code",
   "execution_count": 692,
   "outputs": [],
   "source": [
    "# def draw_plot(country, year_number, all_axes, ax_side):\n",
    "# \n",
    "#     data_values = get_data_by_year(country, year_number)\n",
    "#     if not data_values:\n",
    "#         print(\"No data available for the specified country and year.\")\n",
    "#         return\n",
    "# \n",
    "#     # Unpacking the data\n",
    "#     (agriculture, industry, services, grosscapital, unemployed, wealth, gini, voice,\n",
    "#      femaleminister, lifeexpectancy, education, govconsum, marketcap, houseconsum,\n",
    "#      energy, mfootprint) = data_values\n",
    "# \n",
    "#     all_sizes = [[unemployed, wealth, energy, 0.1], [govconsum, marketcap, houseconsum, 0.1],\n",
    "#                  [agriculture, industry, services],\n",
    "#                  [0.1, 0.1, 0.1, 0.1],\n",
    "#                  [grosscapital, lifeexpectancy, education, mfootprint]]\n",
    "#     side_sizes = [gini, voice, femaleminister]\n",
    "# \n",
    "#     # Drawing circles in main axes\n",
    "#     for ax_index, ax in enumerate(all_axes):\n",
    "#         for circle_index, (x, size) in enumerate(zip(all_x_coords[ax_index], all_sizes[ax_index])):\n",
    "#             color, alpha, radius = calculate_circle_properties(size)\n",
    "#             circle = plt.Circle((x, 0.5), radius=radius, color=color, alpha=alpha)\n",
    "#             ax.add_patch(circle)\n",
    "#             set_axis_properties(ax, all_x_coords[ax_index], all_x_axis_ticks[ax_index], all_y_axis_ticks[ax_index])\n",
    "# \n",
    "#     # Drawing circles in side axis\n",
    "#     for circle_index, (y, size) in enumerate(zip(side_y_coords, side_sizes)):\n",
    "#         color, alpha, radius = calculate_circle_properties(size)\n",
    "#         circle = plt.Circle((0.5, y), radius=radius, color=color, alpha=alpha)\n",
    "#         ax_side.add_patch(circle)\n",
    "# \n",
    "#     draw_arrow(all_axes[0], 0.5, all_axes[2], 0.5, linewidth=1, y1=0.3, y2=0.7)\n",
    "#     draw_arrow(all_axes[0], 0.5, all_axes[3], 0, linewidth=1, y1=0.3, y2=0.7, connectionstyle=\"arc3,rad=0.05\")\n",
    "#     draw_arrow(all_axes[0], 0.5, all_axes[1], 1, linewidth=1, y1=0.3, y2=0.7, connectionstyle=\"arc3,rad=-0.05\")\n",
    "# \n",
    "#     draw_arrow(all_axes[1], 1, all_axes[4], 0.5, linewidth=1, y1=0.3, y2=0.7, connectionstyle=\"arc3,rad=-0.1\")\n",
    "#     draw_arrow(all_axes[3], 0, all_axes[4], 0.5, linewidth=1, y1=0.3, y2=0.7, connectionstyle=\"arc3,rad=0.1\")\n",
    "#     draw_arrow(all_axes[2], 0.5, all_axes[4], 0.5, linewidth=1, y1=0.3, y2=0.7)\n",
    "# \n",
    "#     set_side_axis_properties(ax_side, side_y_coords, all_side_ticks)"
   ],
   "metadata": {
    "collapsed": false,
    "ExecuteTime": {
     "end_time": "2023-11-18T11:24:39.437760Z",
     "start_time": "2023-11-18T11:24:39.433388Z"
    }
   },
   "id": "e314cd4105d30d69"
  },
  {
   "cell_type": "code",
   "execution_count": 693,
   "outputs": [],
   "source": [
    "# fig, all_axes, ax_side = init_plot()\n",
    "# draw_plot(\"Canada\", 2015, all_axes, ax_side)\n",
    "# plt.show()"
   ],
   "metadata": {
    "collapsed": false,
    "ExecuteTime": {
     "end_time": "2023-11-18T11:24:39.437952Z",
     "start_time": "2023-11-18T11:24:39.435768Z"
    }
   },
   "id": "2b41ce77e68696c2"
  },
  {
   "cell_type": "markdown",
   "source": [],
   "metadata": {
    "collapsed": false
   },
   "id": "64611dd257313294"
  }
 ],
 "metadata": {
  "kernelspec": {
   "display_name": "Python 3",
   "language": "python",
   "name": "python3"
  },
  "language_info": {
   "codemirror_mode": {
    "name": "ipython",
    "version": 2
   },
   "file_extension": ".py",
   "mimetype": "text/x-python",
   "name": "python",
   "nbconvert_exporter": "python",
   "pygments_lexer": "ipython2",
   "version": "2.7.6"
  }
 },
 "nbformat": 4,
 "nbformat_minor": 5
}
