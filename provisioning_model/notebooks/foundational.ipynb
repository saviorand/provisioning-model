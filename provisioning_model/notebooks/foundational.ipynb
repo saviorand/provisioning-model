{
 "cells": [
  {
   "cell_type": "code",
   "execution_count": 96,
   "outputs": [],
   "source": [
    "import pandas as pd\n",
    "import numpy as np"
   ],
   "metadata": {
    "collapsed": false,
    "ExecuteTime": {
     "end_time": "2024-01-18T21:52:04.994719Z",
     "start_time": "2024-01-18T21:52:04.931151Z"
    }
   },
   "id": "initial_id"
  },
  {
   "cell_type": "markdown",
   "source": [
    "## Load and prepare the data"
   ],
   "metadata": {
    "collapsed": false
   },
   "id": "1688703803284baf"
  },
  {
   "cell_type": "markdown",
   "source": [
    "Custom spreadsheet based on the [Activity classification](https://foundationaleconomy.com/activity-classification/) from the Foundational Economy Collective. In industry groups with different foundational types, we use the foundational type with the highest percentage, or if the shares are equal we pick the first \"most important\" in order of Material - Providential - Overlooked - Other."
   ],
   "metadata": {
    "collapsed": false
   },
   "id": "b1d6b1afc4b05386"
  },
  {
   "cell_type": "code",
   "execution_count": 97,
   "outputs": [],
   "source": [
    "foundational_percentages = pd.read_csv('../data/labor/foundational_percentages.csv')"
   ],
   "metadata": {
    "collapsed": false,
    "ExecuteTime": {
     "end_time": "2024-01-18T21:52:05.028558Z",
     "start_time": "2024-01-18T21:52:04.998867Z"
    }
   },
   "id": "ffe8f20ad90e355c"
  },
  {
   "cell_type": "markdown",
   "source": [
    "Energy use data from the [EU Energy flow accounts](https://ec.europa.eu/eurostat/databrowser/view/env_ac_pefa04/default/table?lang=en).\n",
    "Has to be complemented with data from World Development Indicators (WDI) since some observations are missing."
   ],
   "metadata": {
    "collapsed": false
   },
   "id": "f0568f638dd842dd"
  },
  {
   "cell_type": "code",
   "execution_count": 98,
   "outputs": [],
   "source": [
    "energy_use_eurostat = pd.read_csv('../data/biophysical/env_ac_pefa04_linear.csv')\n",
    "energy_use_wdi = pd.read_csv('../data/energy_pop.csv')"
   ],
   "metadata": {
    "collapsed": false,
    "ExecuteTime": {
     "end_time": "2024-01-18T21:52:05.214865Z",
     "start_time": "2024-01-18T21:52:05.031066Z"
    }
   },
   "id": "7a51c18c68c4b7f"
  },
  {
   "cell_type": "markdown",
   "source": [
    "Employment and hours worked data from the [EU labour costs survey](https://ec.europa.eu/eurostat/databrowser/view/lc_rnum1_r2/default/table?lang=en), collected every 4 years"
   ],
   "metadata": {
    "collapsed": false
   },
   "id": "ac7c6507b07d0ad9"
  },
  {
   "cell_type": "code",
   "execution_count": 99,
   "outputs": [],
   "source": [
    "labour_cost_survey_data = pd.read_csv('../data/labor/lc_nnum1_r2_linear.csv')"
   ],
   "metadata": {
    "collapsed": false,
    "ExecuteTime": {
     "end_time": "2024-01-18T21:52:06.760736Z",
     "start_time": "2024-01-18T21:52:05.216356Z"
    }
   },
   "id": "9bcbc60d135f809"
  },
  {
   "cell_type": "markdown",
   "source": [
    "Employment and hours worked data from [National accounts](https://ec.europa.eu/eurostat/databrowser/view/nama_10_a64_e/default/table?lang=en), collected annually. Run the same regressions with this and the previous variable to see which one is best suited for the quantitative analysis."
   ],
   "metadata": {
    "collapsed": false
   },
   "id": "c682904a4c71e1c8"
  },
  {
   "cell_type": "code",
   "execution_count": 100,
   "outputs": [],
   "source": [
    "labour_accounts_data = pd.read_csv('../data/labor/nama_10_a64_e_linear.csv')"
   ],
   "metadata": {
    "collapsed": false,
    "ExecuteTime": {
     "end_time": "2024-01-18T21:52:07.568673Z",
     "start_time": "2024-01-18T21:52:06.760081Z"
    }
   },
   "id": "4ce214b7a50946f3"
  },
  {
   "cell_type": "markdown",
   "source": [
    "Need satisfaction variables from the original JV paper (only keep 6 used in the publication). Flip undernourishment and poverty gap as in the original paper."
   ],
   "metadata": {
    "collapsed": false
   },
   "id": "68d823f3e3fd141"
  },
  {
   "cell_type": "code",
   "outputs": [],
   "source": [
    "jv_data = pd.read_csv('../data/JV_p1_inputdata_preprocessed_no_scientific.csv')\n",
    "jv_data['ns_nourishment'] = 102.5 - jv_data['ns_undernourished']\n",
    "jv_data['ns_poverty'] = 100 - jv_data['ns_pov_gap_320']\n",
    "need_satisfaction = jv_data[\n",
    "    ['ns_hale', 'ns_nourishment', 'ns_h20_acc', 'ns_san_acc', 'ns_edu_bas', 'ns_poverty']]"
   ],
   "metadata": {
    "collapsed": false,
    "ExecuteTime": {
     "end_time": "2024-01-18T21:52:07.579423Z",
     "start_time": "2024-01-18T21:52:07.570949Z"
    }
   },
   "id": "fd5437ad96c06735",
   "execution_count": 101
  },
  {
   "cell_type": "markdown",
   "source": [
    "Count the number of unique countries that are available in both datasets"
   ],
   "metadata": {
    "collapsed": false
   },
   "id": "eded59fbb3e1f9f1"
  },
  {
   "cell_type": "code",
   "execution_count": 102,
   "outputs": [
    {
     "name": "stdout",
     "output_type": "stream",
     "text": [
      "The labour cost survey + energy intersection has 35 unique countries\n",
      "The labour accounts + energy intersection has 33 unique countries\n",
      "Countries that are in the labour cost survey variant but not in labour accounts are: ['AL' 'TR']\n"
     ]
    }
   ],
   "source": [
    "labour_cost_survey_geo = labour_cost_survey_data.geo.unique()\n",
    "energy_geo = energy_use_eurostat.geo.unique()\n",
    "energy_lc_sv_shared_geo = np.intersect1d(labour_cost_survey_geo, energy_geo)\n",
    "energy_lc_sv_shared_geo = np.delete(energy_lc_sv_shared_geo, np.where(energy_lc_sv_shared_geo == 'EU27_2020'))\n",
    "print(f'The labour cost survey + energy intersection has {len(energy_lc_sv_shared_geo)} unique countries')\n",
    "labour_accounts_geo = labour_accounts_data.geo.unique()\n",
    "energy_lc_ac_shared_geo = np.intersect1d(labour_accounts_geo, energy_geo)\n",
    "energy_lc_ac_shared_geo = np.delete(energy_lc_ac_shared_geo, np.where(energy_lc_ac_shared_geo == 'EU27_2020'))\n",
    "print(f'The labour accounts + energy intersection has {len(energy_lc_ac_shared_geo)} unique countries')\n",
    "print(\n",
    "    f'Countries that are in the labour cost survey variant but not in labour accounts are: {np.setdiff1d(energy_lc_sv_shared_geo, energy_lc_ac_shared_geo)}')"
   ],
   "metadata": {
    "collapsed": false,
    "ExecuteTime": {
     "end_time": "2024-01-18T21:52:07.653220Z",
     "start_time": "2024-01-18T21:52:07.608070Z"
    }
   },
   "id": "687a4805d3374450"
  },
  {
   "cell_type": "markdown",
   "source": [
    "Add the foundational type (`final_foundational` column) from `foundational_percentages` to the labour data."
   ],
   "metadata": {
    "collapsed": false
   },
   "id": "b60119d9dcefdaf7"
  },
  {
   "cell_type": "code",
   "execution_count": 103,
   "outputs": [],
   "source": [
    "foundational_percentages_selected = foundational_percentages[['nace_r2', 'final_foundational']]\n",
    "labour_cost_survey_with_foundational = labour_cost_survey_data.merge(foundational_percentages_selected, on='nace_r2',\n",
    "                                                                     how='left')\n",
    "labour_accounts_with_foundational = labour_accounts_data.merge(foundational_percentages_selected, on='nace_r2',\n",
    "                                                               how='left')"
   ],
   "metadata": {
    "collapsed": false,
    "ExecuteTime": {
     "end_time": "2024-01-18T21:52:08.517376Z",
     "start_time": "2024-01-18T21:52:07.703853Z"
    }
   },
   "id": "57ccf5af527d5de0"
  },
  {
   "cell_type": "markdown",
   "source": [
    "Only keep relevant columns. "
   ],
   "metadata": {
    "collapsed": false
   },
   "id": "fb4f773a0f74e3d3"
  },
  {
   "cell_type": "code",
   "outputs": [],
   "source": [
    "labour_cost_survey_filtered = labour_cost_survey_with_foundational[\n",
    "    ['geo', 'nace_r2', 'final_foundational', 'sizeclas', 'worktime', 'indic_lc', 'TIME_PERIOD', 'OBS_VALUE']]\n",
    "labour_accounts_filtered = labour_accounts_with_foundational[\n",
    "    ['geo', 'nace_r2', 'final_foundational', 'na_item', 'TIME_PERIOD', 'OBS_VALUE']]"
   ],
   "metadata": {
    "collapsed": false,
    "ExecuteTime": {
     "end_time": "2024-01-18T21:52:08.864766Z",
     "start_time": "2024-01-18T21:52:08.516839Z"
    }
   },
   "id": "90f12f857581d5ae",
   "execution_count": 104
  },
  {
   "cell_type": "markdown",
   "source": [
    "We are currently not interested in the size class of the enterprise in labour cost survey data (maybe in the future), so only keep `GE10` (\"Greater than 10 employees\"). \n",
    "There is a `TOTAL` size class, but the values for this are available for 33 countries as opposed 47 for `GE10`."
   ],
   "metadata": {
    "collapsed": false
   },
   "id": "4b8b35ad3dea8dde"
  },
  {
   "cell_type": "code",
   "outputs": [],
   "source": [
    "labour_cost_survey_filtered_sizeclas = labour_cost_survey_filtered[labour_cost_survey_filtered.sizeclas == 'GE10']\n",
    "# unique_countries_per_sizeclas = labour_cost_survey_with_foundational.groupby('sizeclas')['geo'].nunique()"
   ],
   "metadata": {
    "collapsed": false,
    "ExecuteTime": {
     "end_time": "2024-01-18T21:52:08.955730Z",
     "start_time": "2024-01-18T21:52:08.913191Z"
    }
   },
   "id": "f30dfd765de85078",
   "execution_count": 105
  },
  {
   "cell_type": "markdown",
   "source": [
    "Only keep observations (country-years) for which both energy and labour data is available"
   ],
   "metadata": {
    "collapsed": false
   },
   "id": "cf979f117aea107d"
  },
  {
   "cell_type": "code",
   "outputs": [],
   "source": [
    "labour_cost_survey_selected = labour_cost_survey_filtered_sizeclas[\n",
    "    labour_cost_survey_filtered_sizeclas.geo.isin(energy_lc_sv_shared_geo)]\n",
    "labour_accounts_selected = labour_accounts_filtered[labour_accounts_filtered.geo.isin(energy_lc_ac_shared_geo)]"
   ],
   "metadata": {
    "collapsed": false,
    "ExecuteTime": {
     "end_time": "2024-01-18T21:52:09.150555Z",
     "start_time": "2024-01-18T21:52:08.963684Z"
    }
   },
   "id": "caf64d9af867f4e1",
   "execution_count": 106
  },
  {
   "cell_type": "markdown",
   "source": [
    "Split the labour survey data into two datasets, one for employment and one for hours worked (\"hours paid\", not \"hours actually worked\" as there could be issues with how latter is reported (? confirm with RB and JV).\n",
    "Filter out self-employed from the accounts data."
   ],
   "metadata": {
    "collapsed": false
   },
   "id": "6d2c0ecae3836fb7"
  },
  {
   "cell_type": "code",
   "outputs": [],
   "source": [
    "labour_cost_survey_selected_employment = labour_cost_survey_selected[\n",
    "    labour_cost_survey_selected.indic_lc == 'SAL']\n",
    "labour_cost_survey_selected_hours_worked = labour_cost_survey_selected[\n",
    "    labour_cost_survey_selected.indic_lc == 'HP_SAL_Y']\n",
    "labour_accounts_selected_employment = labour_accounts_selected[labour_accounts_selected.na_item == 'SAL_DC']"
   ],
   "metadata": {
    "collapsed": false,
    "ExecuteTime": {
     "end_time": "2024-01-18T21:52:09.247143Z",
     "start_time": "2024-01-18T21:52:09.151833Z"
    }
   },
   "id": "c6ee3d336301ab99",
   "execution_count": 107
  },
  {
   "cell_type": "markdown",
   "source": [
    "Only look at FTEs (full-time equivalents) in labour cost survey data, not to distinguish between full-time or part-time measures. This only applies to employment data, not hours worked."
   ],
   "metadata": {
    "collapsed": false
   },
   "id": "b4c0dbc357be33c0"
  },
  {
   "cell_type": "code",
   "outputs": [],
   "source": [
    "labour_cost_survey_selected_employment_fte = labour_cost_survey_selected_employment[\n",
    "    labour_cost_survey_selected_employment.worktime == 'TOT_FTE']"
   ],
   "metadata": {
    "collapsed": false,
    "ExecuteTime": {
     "end_time": "2024-01-18T21:52:09.257287Z",
     "start_time": "2024-01-18T21:52:09.250490Z"
    }
   },
   "id": "20edd0622e84b4f0",
   "execution_count": 108
  },
  {
   "cell_type": "markdown",
   "source": [
    "Calculate labour shares by foundational type for employment and hours."
   ],
   "metadata": {
    "collapsed": false
   },
   "id": "bb0a02f66f76c6f8"
  },
  {
   "cell_type": "code",
   "outputs": [],
   "source": [
    "import matplotlib.pyplot as plt\n",
    "from provisioning_model.functions.create_panel_dataset import calculate_shares"
   ],
   "metadata": {
    "collapsed": false,
    "ExecuteTime": {
     "end_time": "2024-01-18T21:52:09.265211Z",
     "start_time": "2024-01-18T21:52:09.258081Z"
    }
   },
   "id": "4c788f63d87c532",
   "execution_count": 109
  },
  {
   "cell_type": "code",
   "outputs": [],
   "source": [
    "labour_cost_survey_shares_employment_fte = calculate_shares(labour_cost_survey_selected_employment_fte, 'OBS_VALUE')\n",
    "labour_cost_survey_shares_hours_worked = calculate_shares(labour_cost_survey_selected_hours_worked, 'OBS_VALUE')"
   ],
   "metadata": {
    "collapsed": false,
    "ExecuteTime": {
     "end_time": "2024-01-18T21:52:09.299450Z",
     "start_time": "2024-01-18T21:52:09.270006Z"
    }
   },
   "id": "bae88cb11445dc7b",
   "execution_count": 110
  },
  {
   "cell_type": "code",
   "outputs": [
    {
     "data": {
      "text/plain": "Text(0.5, 1.0, 'Labor shares available per year')"
     },
     "execution_count": 111,
     "metadata": {},
     "output_type": "execute_result"
    },
    {
     "data": {
      "text/plain": "<Figure size 640x480 with 1 Axes>",
      "image/png": "[encoded data removed]"
     },
     "metadata": {},
     "output_type": "display_data"
    }
   ],
   "source": [
    "plt.hist(labour_cost_survey_shares_employment_fte['TIME_PERIOD'], bins=[y - 2 for y in [2008, 2012, 2016, 2020]] + [2022], edgecolor='black', align='mid', rwidth=0.8)\n",
    "plt.xticks([2008, 2012, 2016, 2020]); plt.xlabel('Year'); plt.ylabel('Countries'); plt.title('Labor shares available per year')"
   ],
   "metadata": {
    "collapsed": false,
    "ExecuteTime": {
     "end_time": "2024-01-18T21:52:09.426703Z",
     "start_time": "2024-01-18T21:52:09.311354Z"
    }
   },
   "id": "3e23b8f111580299",
   "execution_count": 111
  },
  {
   "cell_type": "markdown",
   "source": [
    "WDI energy use dataset only has ISO3 country codes, so convert to ISO2 using the `pycountry` library to match the other datasets."
   ],
   "metadata": {
    "collapsed": false
   },
   "id": "807a4ecb154903fb"
  },
  {
   "cell_type": "code",
   "outputs": [],
   "source": [
    "import pycountry"
   ],
   "metadata": {
    "collapsed": false,
    "ExecuteTime": {
     "end_time": "2024-01-18T21:52:09.428668Z",
     "start_time": "2024-01-18T21:52:09.418951Z"
    }
   },
   "id": "999bcd2c59254e4f",
   "execution_count": 112
  },
  {
   "cell_type": "code",
   "outputs": [],
   "source": [
    "def convert_iso3_to_iso2(iso3_code):\n",
    "    country = pycountry.countries.get(alpha_3=iso3_code)\n",
    "    return country.alpha_2 if country else None\n",
    "\n",
    "energy_use_wdi['geo'] = energy_use_wdi['Country.Code'].apply(convert_iso3_to_iso2)\n",
    "energy_use_wdi.rename(columns={'Year': 'TIME_PERIOD'}, inplace=True)\n",
    "energy_use_wdi = energy_use_wdi[['geo', 'energy', 'TIME_PERIOD']]"
   ],
   "metadata": {
    "collapsed": false,
    "ExecuteTime": {
     "end_time": "2024-01-18T21:52:09.501661Z",
     "start_time": "2024-01-18T21:52:09.440597Z"
    }
   },
   "id": "c293273844928733",
   "execution_count": 113
  },
  {
   "cell_type": "markdown",
   "source": [
    "Try to fill observations that are missing in the Eurostat energy use dataset with the WDI dataset."
   ],
   "metadata": {
    "collapsed": false
   },
   "id": "ec2443d208e4431b"
  },
  {
   "cell_type": "code",
   "outputs": [],
   "source": [
    "energy_eurostat_netdom = energy_use_eurostat[energy_use_eurostat['indic_pefa'] == 'NETDOM_EUSE']\n",
    "energy_eurostat_total = energy_eurostat_netdom[energy_eurostat_netdom['nace_r2'] == 'TOTAL']\n",
    "merged_df = pd.merge(energy_eurostat_total, energy_use_wdi, on=['geo', 'TIME_PERIOD'], how='left')\n",
    "merged_df['OBS_VALUE'] = merged_df['OBS_VALUE'].fillna(merged_df['energy'])\n",
    "merged_df = merged_df.drop('energy', axis=1)\n",
    "merged_df = merged_df[['geo', 'TIME_PERIOD', 'OBS_VALUE']]"
   ],
   "metadata": {
    "collapsed": false,
    "ExecuteTime": {
     "end_time": "2024-01-18T21:59:58.411792Z",
     "start_time": "2024-01-18T21:59:58.350777Z"
    }
   },
   "id": "5d5ca28545939cc6",
   "execution_count": 126
  },
  {
   "cell_type": "code",
   "outputs": [
    {
     "data": {
      "text/plain": "Text(0.5, 1.0, 'Labor shares available per year')"
     },
     "execution_count": 128,
     "metadata": {},
     "output_type": "execute_result"
    },
    {
     "data": {
      "text/plain": "<Figure size 640x480 with 1 Axes>",
      "image/png": "[encoded data removed]"
     },
     "metadata": {},
     "output_type": "display_data"
    }
   ],
   "source": [
    "plt.hist(merged_df['TIME_PERIOD'], bins=[y - 2 for y in [2008, 2012, 2016, 2020]] + [2022], edgecolor='black', align='mid', rwidth=0.8)\n",
    "plt.xticks([2008, 2012, 2016, 2020]); plt.xlabel('Year'); plt.ylabel('Countries'); plt.title('Labor shares available per year')"
   ],
   "metadata": {
    "collapsed": false,
    "ExecuteTime": {
     "end_time": "2024-01-18T22:21:02.883312Z",
     "start_time": "2024-01-18T22:21:02.687036Z"
    }
   },
   "id": "c71f2ee3863e017c",
   "execution_count": 128
  },
  {
   "cell_type": "markdown",
   "source": [
    "Assemble energy use, labor and need satisfaction data into a single dataset."
   ],
   "metadata": {
    "collapsed": false
   },
   "id": "c62a0957ae338d82"
  },
  {
   "cell_type": "code",
   "outputs": [
    {
     "data": {
      "text/plain": "    geo  TIME_PERIOD  Material     Other  Overlooked  Providential     energy\n0    AL         2012  0.024405  0.040845    0.020221      0.063056  23.758197\n1    AL         2016  0.011235  0.015206    0.025235      0.031930        NaN\n2    AL         2020  0.022070  0.143968    0.073808      0.034116        NaN\n3    AT         2008  0.025296  0.085238    0.028158      0.021265  48.537015\n4    AT         2012  0.025633  0.086397    0.028665      0.018480  46.228575\n..   ..          ...       ...       ...         ...           ...        ...\n128  TR         2016  0.020480  0.066833    0.033150      0.015294        NaN\n129  TR         2020  0.007103  0.034603    0.011501      0.020786        NaN\n130  UK         2008  0.016722  0.032830    0.016637      0.046690        NaN\n131  UK         2012  0.017207  0.065600    0.016835      0.043195        NaN\n132  UK         2016  0.017071  0.062545    0.016016      0.040916        NaN\n\n[133 rows x 7 columns]",
      "text/html": "<div>\n<style scoped>\n    .dataframe tbody tr th:only-of-type {\n        vertical-align: middle;\n    }\n\n    .dataframe tbody tr th {\n        vertical-align: top;\n    }\n\n    .dataframe thead th {\n        text-align: right;\n    }\n</style>\n<table border=\"1\" class=\"dataframe\">\n  <thead>\n    <tr style=\"text-align: right;\">\n      <th></th>\n      <th>geo</th>\n      <th>TIME_PERIOD</th>\n      <th>Material</th>\n      <th>Other</th>\n      <th>Overlooked</th>\n      <th>Providential</th>\n      <th>energy</th>\n    </tr>\n  </thead>\n  <tbody>\n    <tr>\n      <th>0</th>\n      <td>AL</td>\n      <td>2012</td>\n      <td>0.024405</td>\n      <td>0.040845</td>\n      <td>0.020221</td>\n      <td>0.063056</td>\n      <td>23.758197</td>\n    </tr>\n    <tr>\n      <th>1</th>\n      <td>AL</td>\n      <td>2016</td>\n      <td>0.011235</td>\n      <td>0.015206</td>\n      <td>0.025235</td>\n      <td>0.031930</td>\n      <td>NaN</td>\n    </tr>\n    <tr>\n      <th>2</th>\n      <td>AL</td>\n      <td>2020</td>\n      <td>0.022070</td>\n      <td>0.143968</td>\n      <td>0.073808</td>\n      <td>0.034116</td>\n      <td>NaN</td>\n    </tr>\n    <tr>\n      <th>3</th>\n      <td>AT</td>\n      <td>2008</td>\n      <td>0.025296</td>\n      <td>0.085238</td>\n      <td>0.028158</td>\n      <td>0.021265</td>\n      <td>48.537015</td>\n    </tr>\n    <tr>\n      <th>4</th>\n      <td>AT</td>\n      <td>2012</td>\n      <td>0.025633</td>\n      <td>0.086397</td>\n      <td>0.028665</td>\n      <td>0.018480</td>\n      <td>46.228575</td>\n    </tr>\n    <tr>\n      <th>...</th>\n      <td>...</td>\n      <td>...</td>\n      <td>...</td>\n      <td>...</td>\n      <td>...</td>\n      <td>...</td>\n      <td>...</td>\n    </tr>\n    <tr>\n      <th>128</th>\n      <td>TR</td>\n      <td>2016</td>\n      <td>0.020480</td>\n      <td>0.066833</td>\n      <td>0.033150</td>\n      <td>0.015294</td>\n      <td>NaN</td>\n    </tr>\n    <tr>\n      <th>129</th>\n      <td>TR</td>\n      <td>2020</td>\n      <td>0.007103</td>\n      <td>0.034603</td>\n      <td>0.011501</td>\n      <td>0.020786</td>\n      <td>NaN</td>\n    </tr>\n    <tr>\n      <th>130</th>\n      <td>UK</td>\n      <td>2008</td>\n      <td>0.016722</td>\n      <td>0.032830</td>\n      <td>0.016637</td>\n      <td>0.046690</td>\n      <td>NaN</td>\n    </tr>\n    <tr>\n      <th>131</th>\n      <td>UK</td>\n      <td>2012</td>\n      <td>0.017207</td>\n      <td>0.065600</td>\n      <td>0.016835</td>\n      <td>0.043195</td>\n      <td>NaN</td>\n    </tr>\n    <tr>\n      <th>132</th>\n      <td>UK</td>\n      <td>2016</td>\n      <td>0.017071</td>\n      <td>0.062545</td>\n      <td>0.016016</td>\n      <td>0.040916</td>\n      <td>NaN</td>\n    </tr>\n  </tbody>\n</table>\n<p>133 rows × 7 columns</p>\n</div>"
     },
     "execution_count": 114,
     "metadata": {},
     "output_type": "execute_result"
    }
   ],
   "source": [
    "energy_use_shares_employment = labour_cost_survey_shares_employment_fte.merge(energy_use, on=['geo', 'TIME_PERIOD'], how='left')\n",
    "energy_use_shares_employment"
   ],
   "metadata": {
    "collapsed": false,
    "ExecuteTime": {
     "end_time": "2024-01-18T21:52:09.504290Z",
     "start_time": "2024-01-18T21:52:09.449323Z"
    }
   },
   "id": "37d6fbfe9448e464",
   "execution_count": 114
  },
  {
   "cell_type": "markdown",
   "source": [
    "## Key assumptions and parameters (TBD)"
   ],
   "metadata": {
    "collapsed": false
   },
   "id": "e6f0785f1411ad5c"
  },
  {
   "cell_type": "markdown",
   "source": [
    "## Reproducing JV analysis with new data"
   ],
   "metadata": {
    "collapsed": false
   },
   "id": "343189c689602130"
  },
  {
   "cell_type": "code",
   "outputs": [],
   "source": [],
   "metadata": {
    "collapsed": false,
    "ExecuteTime": {
     "end_time": "2024-01-18T21:52:09.505340Z",
     "start_time": "2024-01-18T21:52:09.458462Z"
    }
   },
   "id": "75cf597e1f8ffdb",
   "execution_count": 114
  },
  {
   "cell_type": "markdown",
   "source": [
    "## Exploratory analysis\n",
    "General:\n",
    "\n",
    "    How many unique countries, industries and regions in the resulting dataset? Any outliers?\n",
    "    summary statistics (mean, median, mode, range, etc.) for key variables; how do these vary across countries\n",
    "\n",
    "Energy Use Analysis:\n",
    "\n",
    "    What is the distribution of energy use across the sampled countries?\n",
    "\n",
    "Labor Share Analysis:\n",
    "\n",
    "    How do labor shares vary across different foundational types?\n",
    "    Which countries have the highest and lowest foundational shares in each sector?\n",
    "    How does this change over time? Are there any trends in labor share changes over recent years?\n",
    "\n",
    "Comparative Analysis:\n",
    "\n",
    "    How do countries with similar economic profiles compare in terms of energy use, labor shares, and outcomes?\n",
    "    Are there clusters of countries with similar characteristics?\n",
    "\n",
    "Policy and Regulatory Impact:\n",
    "\n",
    "    Are there noticeable impacts of policies or regulations on the observed data?"
   ],
   "metadata": {
    "collapsed": false
   },
   "id": "64a2f207a271e6c1"
  },
  {
   "cell_type": "markdown",
   "source": [
    "## Regression by sector (Later)\n",
    " - Use sectoral energy input (per cap? share?), sectoral labor share and sector-related need satisfaction variable"
   ],
   "metadata": {
    "collapsed": false
   },
   "id": "c4be7245a14420cd"
  },
  {
   "cell_type": "markdown",
   "source": [
    "## Regression by region (Later)\n",
    " - Use total regional energy input (per cap? share?), total regional labor share and total regional need satisfaction variable"
   ],
   "metadata": {
    "collapsed": false
   },
   "id": "cd969b1e5890b470"
  },
  {
   "cell_type": "markdown",
   "source": [
    "**Note**: We're not doing a fourth set of \n",
    "regressions by region + input due to data availability. Maybe in future research"
   ],
   "metadata": {
    "collapsed": false
   },
   "id": "7f8192ac867c6c75"
  }
 ],
 "metadata": {
  "kernelspec": {
   "display_name": "Python 3",
   "language": "python",
   "name": "python3"
  },
  "language_info": {
   "codemirror_mode": {
    "name": "ipython",
    "version": 2
   },
   "file_extension": ".py",
   "mimetype": "text/x-python",
   "name": "python",
   "nbconvert_exporter": "python",
   "pygments_lexer": "ipython2",
   "version": "2.7.6"
  }
 },
 "nbformat": 4,
 "nbformat_minor": 5
}
