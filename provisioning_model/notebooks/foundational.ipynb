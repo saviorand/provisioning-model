{
 "cells": [
  {
   "cell_type": "code",
   "execution_count": 20,
   "id": "initial_id",
   "metadata": {
    "collapsed": true,
    "ExecuteTime": {
     "end_time": "2024-01-15T13:30:45.995812Z",
     "start_time": "2024-01-15T13:30:45.931342Z"
    }
   },
   "outputs": [],
   "source": [
    "import pandas as pd\n",
    "import numpy as np"
   ]
  },
  {
   "cell_type": "markdown",
   "source": [
    "Load the data from CSV files"
   ],
   "metadata": {
    "collapsed": false
   },
   "id": "e76b2a036aa2b682"
  },
  {
   "cell_type": "code",
   "execution_count": 21,
   "outputs": [],
   "source": [
    "foundational_percentages = pd.read_csv('../data/labor/foundational_percentages.csv')\n",
    "labor_hours = pd.read_csv('../data/labor/lc_nnum1_r2_linear.csv')\n",
    "energy_use = pd.read_csv('../data/biophysical/env_ac_pefa04_linear.csv')"
   ],
   "metadata": {
    "collapsed": false,
    "ExecuteTime": {
     "end_time": "2024-01-15T13:30:47.544348Z",
     "start_time": "2024-01-15T13:30:45.958316Z"
    }
   },
   "id": "9bcbc60d135f809"
  },
  {
   "cell_type": "markdown",
   "source": [
    "Merge the two tables on nace_2digits column, keeping columns from labor_hours and adding column final_foundational from foundational_percentages"
   ],
   "metadata": {
    "collapsed": false
   },
   "id": "b60119d9dcefdaf7"
  },
  {
   "cell_type": "code",
   "execution_count": 22,
   "outputs": [],
   "source": [
    "foundational_percentages_selected = foundational_percentages[['nace_r2', 'final_foundational']]"
   ],
   "metadata": {
    "collapsed": false,
    "ExecuteTime": {
     "end_time": "2024-01-15T13:30:47.549145Z",
     "start_time": "2024-01-15T13:30:47.546952Z"
    }
   },
   "id": "57ccf5af527d5de0"
  },
  {
   "cell_type": "code",
   "execution_count": 23,
   "outputs": [],
   "source": [
    "labor_hours_with_foundational = labor_hours.merge(foundational_percentages_selected, on='nace_r2', how='left')\n",
    "energy_use_with_foundational = energy_use.merge(foundational_percentages_selected, on='nace_r2', how='left')"
   ],
   "metadata": {
    "collapsed": false,
    "ExecuteTime": {
     "end_time": "2024-01-15T13:30:47.812988Z",
     "start_time": "2024-01-15T13:30:47.607420Z"
    }
   },
   "id": "6531468e1d248ddd"
  }
 ],
 "metadata": {
  "kernelspec": {
   "display_name": "Python 3",
   "language": "python",
   "name": "python3"
  },
  "language_info": {
   "codemirror_mode": {
    "name": "ipython",
    "version": 2
   },
   "file_extension": ".py",
   "mimetype": "text/x-python",
   "name": "python",
   "nbconvert_exporter": "python",
   "pygments_lexer": "ipython2",
   "version": "2.7.6"
  }
 },
 "nbformat": 4,
 "nbformat_minor": 5
}
