{
 "cells": [
  {
   "cell_type": "code",
   "execution_count": 173,
   "outputs": [],
   "source": [
    "import pandas as pd\n",
    "import numpy as np\n",
    "import pycountry"
   ],
   "metadata": {
    "collapsed": false,
    "ExecuteTime": {
     "end_time": "2024-01-20T18:04:25.960836Z",
     "start_time": "2024-01-20T18:04:25.846841Z"
    }
   },
   "id": "initial_id"
  },
  {
   "cell_type": "code",
   "outputs": [],
   "source": [
    "time_periods = [2008, 2012, 2016, 2020]"
   ],
   "metadata": {
    "collapsed": false,
    "ExecuteTime": {
     "end_time": "2024-01-20T18:55:54.801708Z",
     "start_time": "2024-01-20T18:55:54.790996Z"
    }
   },
   "id": "6f672c5204bbc20c",
   "execution_count": 223
  },
  {
   "cell_type": "markdown",
   "source": [
    "## Load and prepare the data"
   ],
   "metadata": {
    "collapsed": false
   },
   "id": "1688703803284baf"
  },
  {
   "cell_type": "markdown",
   "source": [
    "Custom spreadsheet based on the [Activity classification](https://foundationaleconomy.com/activity-classification/) from the Foundational Economy Collective. In industry groups with different foundational types, we use the foundational type with the highest percentage, or if the shares are equal we pick the first \"most important\" in order of Material - Providential - Overlooked - Other."
   ],
   "metadata": {
    "collapsed": false
   },
   "id": "b1d6b1afc4b05386"
  },
  {
   "cell_type": "code",
   "execution_count": 174,
   "outputs": [],
   "source": [
    "foundational_percentages = pd.read_csv('../data/labor/foundational_percentages.csv')"
   ],
   "metadata": {
    "collapsed": false,
    "ExecuteTime": {
     "end_time": "2024-01-20T18:04:25.994857Z",
     "start_time": "2024-01-20T18:04:25.974428Z"
    }
   },
   "id": "ffe8f20ad90e355c"
  },
  {
   "cell_type": "markdown",
   "source": [
    "Energy use data from IEA (World Indicators), Total Final Consumption per capita"
   ],
   "metadata": {
    "collapsed": false
   },
   "id": "f0568f638dd842dd"
  },
  {
   "cell_type": "code",
   "execution_count": 175,
   "outputs": [],
   "source": [
    "energy_use_iea_csv = pd.read_csv('../data/biophysical/iea_indicators.csv')\n",
    "energy_use_iea_tfcpop = energy_use_iea_csv[energy_use_iea_csv['FLOW'] == 'TFCPOP'].copy()"
   ],
   "metadata": {
    "collapsed": false,
    "ExecuteTime": {
     "end_time": "2024-01-20T18:04:27.001393Z",
     "start_time": "2024-01-20T18:04:25.986064Z"
    }
   },
   "id": "7a51c18c68c4b7f"
  },
  {
   "cell_type": "markdown",
   "source": [
    "IEA energy use dataset only has ISO3 country codes, so convert to ISO2 using the `pycountry` library to match the other datasets."
   ],
   "metadata": {
    "collapsed": false
   },
   "id": "de29b87b9007a261"
  },
  {
   "cell_type": "code",
   "outputs": [],
   "source": [
    "def convert_iso3_to_iso2(iso3_code):\n",
    "    country = pycountry.countries.get(alpha_3=iso3_code)\n",
    "    return country.alpha_2 if country else None\n",
    "\n",
    "energy_use_iea_tfcpop['geo'] = energy_use_iea_tfcpop['COUNTRY'].apply(convert_iso3_to_iso2)\n",
    "energy_use_iea_tfcpop.rename(columns={'TIME': 'TIME_PERIOD', 'Value': 'energy'}, inplace=True)\n",
    "energy_use_iea = energy_use_iea_tfcpop[['geo', 'energy', 'TIME_PERIOD']]\n",
    "energy_use_iea = energy_use_iea[energy_use_iea['geo'].notna()]"
   ],
   "metadata": {
    "collapsed": false,
    "ExecuteTime": {
     "end_time": "2024-01-20T18:04:27.034687Z",
     "start_time": "2024-01-20T18:04:27.014457Z"
    }
   },
   "id": "85959bf1f9ea042b",
   "execution_count": 176
  },
  {
   "cell_type": "markdown",
   "source": [
    "Employment and hours worked data from the [EU labour costs survey](https://ec.europa.eu/eurostat/databrowser/view/lc_rnum1_r2/default/table?lang=en), collected every 4 years"
   ],
   "metadata": {
    "collapsed": false
   },
   "id": "ac7c6507b07d0ad9"
  },
  {
   "cell_type": "code",
   "execution_count": 177,
   "outputs": [],
   "source": [
    "labour_cost_survey_data = pd.read_csv('../data/labor/lc_nnum1_r2_linear.csv')"
   ],
   "metadata": {
    "collapsed": false,
    "ExecuteTime": {
     "end_time": "2024-01-20T18:04:28.832771Z",
     "start_time": "2024-01-20T18:04:27.027729Z"
    }
   },
   "id": "9bcbc60d135f809"
  },
  {
   "cell_type": "markdown",
   "source": [
    "Employment and hours worked data from [National accounts](https://ec.europa.eu/eurostat/databrowser/view/nama_10_a64_e/default/table?lang=en), collected annually. Run the same regressions with this and the previous variable to see which one is best suited for the quantitative analysis."
   ],
   "metadata": {
    "collapsed": false
   },
   "id": "c682904a4c71e1c8"
  },
  {
   "cell_type": "code",
   "execution_count": 178,
   "outputs": [],
   "source": [
    "labour_accounts_data = pd.read_csv('../data/labor/nama_10_a64_e_linear.csv')"
   ],
   "metadata": {
    "collapsed": false,
    "ExecuteTime": {
     "end_time": "2024-01-20T18:04:30.031818Z",
     "start_time": "2024-01-20T18:04:28.816066Z"
    }
   },
   "id": "4ce214b7a50946f3"
  },
  {
   "cell_type": "markdown",
   "source": [
    "Need satisfaction variables from World Development Indicators (School enrollment) and World Happiness Report (Life expectancy, Life satisfaction, etc.)"
   ],
   "metadata": {
    "collapsed": false
   },
   "id": "68d823f3e3fd141"
  },
  {
   "cell_type": "code",
   "outputs": [],
   "source": [
    "whr = pd.read_csv('../data/need_satisfaction/whr.csv')\n",
    "school_enrollment = pd.read_csv('../data/need_satisfaction/wdi_schoolenr.csv')\n",
    "lifeexpectancy = pd.read_csv('../data/need_satisfaction/wdi_lifeexpectancy.csv')"
   ],
   "metadata": {
    "collapsed": false,
    "ExecuteTime": {
     "end_time": "2024-01-20T18:04:30.064227Z",
     "start_time": "2024-01-20T18:04:30.027561Z"
    }
   },
   "id": "fd5437ad96c06735",
   "execution_count": 179
  },
  {
   "cell_type": "code",
   "outputs": [],
   "source": [
    "def convert_name_to_iso2(country_name):\n",
    "    if country_name == 'Türkiye' or country_name == 'Turkiye':\n",
    "        return \"TR\"\n",
    "    country = pycountry.countries.get(name=country_name)\n",
    "    return country.alpha_2 if country else None\n",
    "whr_with_codes = whr.copy()\n",
    "whr_with_codes['geo'] = whr['Country name'].apply(convert_name_to_iso2)\n",
    "whr_with_codes = whr_with_codes[whr_with_codes['geo'].notna()]\n",
    "whr_with_codes.rename(columns={'year': 'TIME_PERIOD', 'Life Ladder': 'ladder', 'Social support': 'socialsupport', 'Healthy life expectancy at birth': 'hale', 'Freedom to make life choices': 'freedom', 'Generosity': 'charity', 'Perceptions of corruption': 'corruption', 'Positive affect': 'positive', 'Negative affect': 'negative'}, inplace=True)\n",
    "whr_with_codes.drop(columns=['Country name', 'Log GDP per capita'], inplace=True)"
   ],
   "metadata": {
    "collapsed": false,
    "ExecuteTime": {
     "end_time": "2024-01-20T18:04:30.083543Z",
     "start_time": "2024-01-20T18:04:30.058634Z"
    }
   },
   "id": "3cbdbade35615ddd",
   "execution_count": 180
  },
  {
   "cell_type": "code",
   "outputs": [],
   "source": [
    "from provisioning_model.functions.create_panel_dataset import clean_and_transform_wdi_outcomes\n",
    "school_enrollment_cleaned = clean_and_transform_wdi_outcomes(school_enrollment, 'schoolenr')\n",
    "lifeexpectancy_cleaned = clean_and_transform_wdi_outcomes(lifeexpectancy, 'lifeexpectancy')\n",
    "wdi_need_satisfaction = school_enrollment_cleaned.merge(lifeexpectancy_cleaned, on=['Year', 'Country.Code', 'Country.Name'], how='left')\n",
    "wdi_need_satisfaction['geo'] = wdi_need_satisfaction['Country.Code'].apply(convert_iso3_to_iso2)\n",
    "wdi_need_satisfaction = wdi_need_satisfaction[wdi_need_satisfaction['geo'].notna()]\n",
    "wdi_need_satisfaction.rename(columns={'Year': 'TIME_PERIOD', 'lifeexpectancy': 'wdi_hale', 'schoolenr': 'education'}, inplace=True)\n",
    "need_satisfaction = whr_with_codes.merge(wdi_need_satisfaction, on=['geo', 'TIME_PERIOD'], how='left')\n",
    "need_satisfaction.drop(columns=['Country.Code', 'Country.Name'], inplace=True)"
   ],
   "metadata": {
    "collapsed": false,
    "ExecuteTime": {
     "end_time": "2024-01-20T18:04:30.132799Z",
     "start_time": "2024-01-20T18:04:30.073573Z"
    }
   },
   "id": "6864b317923814b7",
   "execution_count": 181
  },
  {
   "cell_type": "markdown",
   "source": [
    "Count the number of unique countries that are available in both datasets."
   ],
   "metadata": {
    "collapsed": false
   },
   "id": "eded59fbb3e1f9f1"
  },
  {
   "cell_type": "code",
   "execution_count": 182,
   "outputs": [
    {
     "name": "stdout",
     "output_type": "stream",
     "text": [
      "The labour cost survey + energy intersection has 35 unique countries\n",
      "The labour accounts + energy intersection has 32 unique countries\n",
      "Countries that are in the labour cost survey variant but not in labour accounts are: ['AL' 'BA' 'TR']\n"
     ]
    }
   ],
   "source": [
    "labour_cost_survey_geo = labour_cost_survey_data.geo.unique()\n",
    "energy_geo = energy_use_iea.geo.unique()\n",
    "energy_lc_sv_shared_geo = np.intersect1d(labour_cost_survey_geo, energy_geo)\n",
    "energy_lc_sv_shared_geo = np.delete(energy_lc_sv_shared_geo, np.where(energy_lc_sv_shared_geo == 'EU27_2020'))\n",
    "print(f'The labour cost survey + energy intersection has {len(energy_lc_sv_shared_geo)} unique countries')\n",
    "labour_accounts_geo = labour_accounts_data.geo.unique()\n",
    "energy_lc_ac_shared_geo = np.intersect1d(labour_accounts_geo, energy_geo)\n",
    "energy_lc_ac_shared_geo = np.delete(energy_lc_ac_shared_geo, np.where(energy_lc_ac_shared_geo == 'EU27_2020'))\n",
    "print(f'The labour accounts + energy intersection has {len(energy_lc_ac_shared_geo)} unique countries')\n",
    "print(\n",
    "    f'Countries that are in the labour cost survey variant but not in labour accounts are: {np.setdiff1d(energy_lc_sv_shared_geo, energy_lc_ac_shared_geo)}')"
   ],
   "metadata": {
    "collapsed": false,
    "ExecuteTime": {
     "end_time": "2024-01-20T18:04:30.212997Z",
     "start_time": "2024-01-20T18:04:30.165492Z"
    }
   },
   "id": "687a4805d3374450"
  },
  {
   "cell_type": "markdown",
   "source": [
    "Add the foundational type (`final_foundational` column) from `foundational_percentages` to the labour data."
   ],
   "metadata": {
    "collapsed": false
   },
   "id": "b60119d9dcefdaf7"
  },
  {
   "cell_type": "code",
   "execution_count": 183,
   "outputs": [],
   "source": [
    "foundational_percentages_selected = foundational_percentages[['nace_r2', 'final_foundational']]\n",
    "labour_cost_survey_with_foundational = labour_cost_survey_data.merge(foundational_percentages_selected, on='nace_r2',\n",
    "                                                                     how='left')\n",
    "labour_accounts_with_foundational = labour_accounts_data.merge(foundational_percentages_selected, on='nace_r2',\n",
    "                                                               how='left')"
   ],
   "metadata": {
    "collapsed": false,
    "ExecuteTime": {
     "end_time": "2024-01-20T18:04:31.448144Z",
     "start_time": "2024-01-20T18:04:30.265502Z"
    }
   },
   "id": "57ccf5af527d5de0"
  },
  {
   "cell_type": "markdown",
   "source": [
    "Only keep relevant columns. "
   ],
   "metadata": {
    "collapsed": false
   },
   "id": "fb4f773a0f74e3d3"
  },
  {
   "cell_type": "code",
   "outputs": [],
   "source": [
    "labour_cost_survey_filtered = labour_cost_survey_with_foundational[\n",
    "    ['geo', 'nace_r2', 'final_foundational', 'sizeclas', 'worktime', 'indic_lc', 'TIME_PERIOD', 'OBS_VALUE']]\n",
    "labour_accounts_filtered = labour_accounts_with_foundational[\n",
    "    ['geo', 'nace_r2', 'final_foundational', 'na_item', 'TIME_PERIOD', 'OBS_VALUE']]"
   ],
   "metadata": {
    "collapsed": false,
    "ExecuteTime": {
     "end_time": "2024-01-20T18:04:31.919460Z",
     "start_time": "2024-01-20T18:04:31.445638Z"
    }
   },
   "id": "90f12f857581d5ae",
   "execution_count": 184
  },
  {
   "cell_type": "markdown",
   "source": [
    "We are currently not interested in the size class of the enterprise in labour cost survey data (maybe in the future), so only keep `GE10` (\"Greater than 10 employees\"). \n",
    "There is a `TOTAL` size class, but the values for this are available for 33 countries as opposed 47 for `GE10`."
   ],
   "metadata": {
    "collapsed": false
   },
   "id": "4b8b35ad3dea8dde"
  },
  {
   "cell_type": "code",
   "outputs": [],
   "source": [
    "labour_cost_survey_filtered_sizeclas = labour_cost_survey_filtered[labour_cost_survey_filtered.sizeclas == 'GE10']\n",
    "# unique_countries_per_sizeclas = labour_cost_survey_with_foundational.groupby('sizeclas')['geo'].nunique()"
   ],
   "metadata": {
    "collapsed": false,
    "ExecuteTime": {
     "end_time": "2024-01-20T18:04:32.022201Z",
     "start_time": "2024-01-20T18:04:31.918300Z"
    }
   },
   "id": "f30dfd765de85078",
   "execution_count": 185
  },
  {
   "cell_type": "markdown",
   "source": [
    "Only keep observations (country-years) for which both energy and labour data is available"
   ],
   "metadata": {
    "collapsed": false
   },
   "id": "cf979f117aea107d"
  },
  {
   "cell_type": "code",
   "outputs": [],
   "source": [
    "labour_cost_survey_selected = labour_cost_survey_filtered_sizeclas[\n",
    "    labour_cost_survey_filtered_sizeclas.geo.isin(energy_lc_sv_shared_geo)]\n",
    "labour_accounts_selected = labour_accounts_filtered[labour_accounts_filtered.geo.isin(energy_lc_ac_shared_geo)]"
   ],
   "metadata": {
    "collapsed": false,
    "ExecuteTime": {
     "end_time": "2024-01-20T18:04:32.220412Z",
     "start_time": "2024-01-20T18:04:32.014342Z"
    }
   },
   "id": "caf64d9af867f4e1",
   "execution_count": 186
  },
  {
   "cell_type": "markdown",
   "source": [
    "Split the labour survey data into two datasets, one for employment and one for hours worked (\"hours paid\", not \"hours actually worked\" as there could be issues with how latter is reported (? confirm with RB and JV).\n",
    "Filter out self-employed from the accounts data."
   ],
   "metadata": {
    "collapsed": false
   },
   "id": "6d2c0ecae3836fb7"
  },
  {
   "cell_type": "code",
   "outputs": [],
   "source": [
    "labour_cost_survey_selected_employment = labour_cost_survey_selected[\n",
    "    labour_cost_survey_selected.indic_lc == 'SAL']\n",
    "labour_cost_survey_selected_hours_worked = labour_cost_survey_selected[\n",
    "    labour_cost_survey_selected.indic_lc == 'HP_SAL_Y']\n",
    "labour_accounts_selected_employment = labour_accounts_selected[labour_accounts_selected.na_item == 'SAL_DC']"
   ],
   "metadata": {
    "collapsed": false,
    "ExecuteTime": {
     "end_time": "2024-01-20T18:04:32.346056Z",
     "start_time": "2024-01-20T18:04:32.226935Z"
    }
   },
   "id": "c6ee3d336301ab99",
   "execution_count": 187
  },
  {
   "cell_type": "markdown",
   "source": [
    "Only look at FTEs (full-time equivalents) in labour cost survey data, not to distinguish between full-time or part-time measures. This only applies to employment data, not hours worked."
   ],
   "metadata": {
    "collapsed": false
   },
   "id": "b4c0dbc357be33c0"
  },
  {
   "cell_type": "code",
   "outputs": [],
   "source": [
    "labour_cost_survey_selected_employment_fte = labour_cost_survey_selected_employment[\n",
    "    labour_cost_survey_selected_employment.worktime == 'TOT_FTE']"
   ],
   "metadata": {
    "collapsed": false,
    "ExecuteTime": {
     "end_time": "2024-01-20T18:04:32.347934Z",
     "start_time": "2024-01-20T18:04:32.341058Z"
    }
   },
   "id": "20edd0622e84b4f0",
   "execution_count": 188
  },
  {
   "cell_type": "markdown",
   "source": [
    "Calculate labour shares by foundational type for employment and hours."
   ],
   "metadata": {
    "collapsed": false
   },
   "id": "bb0a02f66f76c6f8"
  },
  {
   "cell_type": "code",
   "outputs": [],
   "source": [
    "import matplotlib.pyplot as plt\n",
    "from provisioning_model.functions.create_panel_dataset import calculate_shares"
   ],
   "metadata": {
    "collapsed": false,
    "ExecuteTime": {
     "end_time": "2024-01-20T18:04:32.364476Z",
     "start_time": "2024-01-20T18:04:32.348520Z"
    }
   },
   "id": "4c788f63d87c532",
   "execution_count": 189
  },
  {
   "cell_type": "code",
   "outputs": [],
   "source": [
    "labour_cost_survey_shares_employment_fte = calculate_shares(labour_cost_survey_selected_employment_fte, 'OBS_VALUE')\n",
    "labour_cost_survey_shares_hours_worked = calculate_shares(labour_cost_survey_selected_hours_worked, 'OBS_VALUE')"
   ],
   "metadata": {
    "collapsed": false,
    "ExecuteTime": {
     "end_time": "2024-01-20T18:04:32.397085Z",
     "start_time": "2024-01-20T18:04:32.357809Z"
    }
   },
   "id": "bae88cb11445dc7b",
   "execution_count": 190
  },
  {
   "cell_type": "code",
   "outputs": [
    {
     "data": {
      "text/plain": "Text(0.5, 1.0, 'Labor shares available per year')"
     },
     "execution_count": 191,
     "metadata": {},
     "output_type": "execute_result"
    },
    {
     "data": {
      "text/plain": "<Figure size 640x480 with 1 Axes>",
      "image/png": "[encoded data removed]"
     },
     "metadata": {},
     "output_type": "display_data"
    }
   ],
   "source": [
    "plt.hist(labour_cost_survey_shares_employment_fte['TIME_PERIOD'], bins=[y - 2 for y in time_periods] + [2022], edgecolor='black', align='mid', rwidth=0.8)\n",
    "plt.xticks(time_periods); plt.xlabel('Year'); plt.ylabel('Countries'); plt.title('Labor shares available per year')"
   ],
   "metadata": {
    "collapsed": false,
    "ExecuteTime": {
     "end_time": "2024-01-20T18:04:32.576036Z",
     "start_time": "2024-01-20T18:04:32.448770Z"
    }
   },
   "id": "3e23b8f111580299",
   "execution_count": 191
  },
  {
   "cell_type": "code",
   "outputs": [],
   "source": [
    "energy_use_iea_selected_years = energy_use_iea[energy_use_iea['TIME_PERIOD'].isin(time_periods)]\n",
    "energy_use_iea_selected = energy_use_iea_selected_years[energy_use_iea_selected_years.geo.isin(labour_cost_survey_shares_employment_fte.geo.unique())]"
   ],
   "metadata": {
    "collapsed": false,
    "ExecuteTime": {
     "end_time": "2024-01-20T18:04:32.583241Z",
     "start_time": "2024-01-20T18:04:32.577639Z"
    }
   },
   "id": "5d5ca28545939cc6",
   "execution_count": 192
  },
  {
   "cell_type": "code",
   "outputs": [
    {
     "data": {
      "text/plain": "Text(0.5, 1.0, 'Energy use data available per year')"
     },
     "execution_count": 193,
     "metadata": {},
     "output_type": "execute_result"
    },
    {
     "data": {
      "text/plain": "<Figure size 640x480 with 1 Axes>",
      "image/png": "[encoded data removed]"
     },
     "metadata": {},
     "output_type": "display_data"
    }
   ],
   "source": [
    "plt.hist(energy_use_iea_selected['TIME_PERIOD'], bins=[y - 2 for y in time_periods], edgecolor='black', align='mid', rwidth=0.8)\n",
    "plt.xticks(time_periods); plt.xlabel('Year'); plt.ylabel('Countries'); plt.title('Energy use data available per year')"
   ],
   "metadata": {
    "collapsed": false,
    "ExecuteTime": {
     "end_time": "2024-01-20T18:04:32.843187Z",
     "start_time": "2024-01-20T18:04:32.589678Z"
    }
   },
   "id": "c71f2ee3863e017c",
   "execution_count": 193
  },
  {
   "cell_type": "markdown",
   "source": [
    "Assemble energy use, labor and need satisfaction data into a single dataset."
   ],
   "metadata": {
    "collapsed": false
   },
   "id": "c62a0957ae338d82"
  },
  {
   "cell_type": "code",
   "outputs": [],
   "source": [
    "energy_use_employment = labour_cost_survey_shares_employment_fte.merge(energy_use_iea_selected, on=['geo', 'TIME_PERIOD'], how='left')\n",
    "energy_use_employment_need_satisfaction = energy_use_employment.merge(need_satisfaction, on=['geo', 'TIME_PERIOD'], how='left')"
   ],
   "metadata": {
    "collapsed": false,
    "ExecuteTime": {
     "end_time": "2024-01-20T18:04:32.845226Z",
     "start_time": "2024-01-20T18:04:32.783104Z"
    }
   },
   "id": "37d6fbfe9448e464",
   "execution_count": 194
  },
  {
   "cell_type": "code",
   "outputs": [],
   "source": [
    "foundational_df_no_transformations = energy_use_employment_need_satisfaction.rename(columns={'Material': 'material', 'Other': 'other', 'Overlooked': 'overlooked', 'Providential': 'providential'})"
   ],
   "metadata": {
    "collapsed": false,
    "ExecuteTime": {
     "end_time": "2024-01-20T18:04:32.943438Z",
     "start_time": "2024-01-20T18:04:32.805106Z"
    }
   },
   "id": "54a4be537674257",
   "execution_count": 195
  },
  {
   "cell_type": "markdown",
   "source": [
    "## Apply variable transformations"
   ],
   "metadata": {
    "collapsed": false
   },
   "id": "d5558f39a70c6040"
  },
  {
   "cell_type": "code",
   "outputs": [],
   "source": [
    "import numpy"
   ],
   "metadata": {
    "collapsed": false,
    "ExecuteTime": {
     "end_time": "2024-01-20T18:04:32.944603Z",
     "start_time": "2024-01-20T18:04:32.810039Z"
    }
   },
   "id": "fa09c889423f2ed8",
   "execution_count": 196
  },
  {
   "cell_type": "markdown",
   "source": [
    "1. Transform energy use variable to log"
   ],
   "metadata": {
    "collapsed": false
   },
   "id": "c4d4ce078c67073b"
  },
  {
   "cell_type": "code",
   "outputs": [],
   "source": [
    "foundational_df_transformed = foundational_df_no_transformations.copy()\n",
    "foundational_df_transformed[\"energy\"] = foundational_df_no_transformations[\"energy\"].apply(\n",
    "    lambda x: numpy.log(x)\n",
    ")"
   ],
   "metadata": {
    "collapsed": false,
    "ExecuteTime": {
     "end_time": "2024-01-20T18:04:32.946187Z",
     "start_time": "2024-01-20T18:04:32.822108Z"
    }
   },
   "id": "f6c925a7136e16a4",
   "execution_count": 197
  },
  {
   "cell_type": "markdown",
   "source": [
    "2. Transform need satisfaction variables using saturation transformation"
   ],
   "metadata": {
    "collapsed": false
   },
   "id": "cfcb5123572eafb"
  },
  {
   "cell_type": "code",
   "outputs": [
    {
     "name": "stdout",
     "output_type": "stream",
     "text": [
      "Warning: NaN values found in column wdi_hale. Original values might be too close to or exceed the saturation point.\n",
      "Warning: NaN values found in column education. Original values might be too close to or exceed the saturation point.\n"
     ]
    },
    {
     "name": "stderr",
     "output_type": "stream",
     "text": [
      "/var/folders/6l/9wnlb_cx2h382r0y3jq99h5h0000gn/T/ipykernel_15698/4173223591.py:14: RuntimeWarning: invalid value encountered in log\n",
      "  lambda x: numpy.log(need_satisfaction_variables[col] - x)\n"
     ]
    }
   ],
   "source": [
    "need_satisfaction_variables = {\n",
    "    # \"lifesatisfaction\": 10,\n",
    "    \"wdi_hale\": 77,\n",
    "    # \"nutrition\": 100.3,\n",
    "    # \"sanitation\": 100.7,\n",
    "    # \"incomepoverty\": 100.3,\n",
    "    # \"energyaccess\": 100.7,\n",
    "    \"education\": 102,\n",
    "    # \"socialsupport\": 80,\n",
    "}\n",
    "for col in need_satisfaction_variables.keys():\n",
    "    if col in foundational_df_no_transformations.columns:\n",
    "        foundational_df_transformed[col] = foundational_df_no_transformations[col].apply(\n",
    "            lambda x: numpy.log(need_satisfaction_variables[col] - x)\n",
    "        )\n",
    "        if foundational_df_transformed[col].isna().any():\n",
    "            print(\n",
    "                f\"Warning: NaN values found in column {col}. Original values might be too close to or exceed the saturation point.\"\n",
    "            )\n",
    "    else:\n",
    "        print(f\"Warning: Column {col} not found in imputed DataFrame.\")"
   ],
   "metadata": {
    "collapsed": false,
    "ExecuteTime": {
     "end_time": "2024-01-20T18:04:32.992518Z",
     "start_time": "2024-01-20T18:04:32.836434Z"
    }
   },
   "id": "44b6aa179fe31bcb",
   "execution_count": 198
  },
  {
   "cell_type": "markdown",
   "source": [
    "Transform provisioning factors using appropriate transformations.\n",
    "Apply log transformation to foundational economy shares"
   ],
   "metadata": {
    "collapsed": false
   },
   "id": "523877ccf21856cb"
  },
  {
   "cell_type": "code",
   "outputs": [],
   "source": [
    "provisioning_factor_variables = [\n",
    "    \"material\",\n",
    "    \"other\",\n",
    "    \"overlooked\",\n",
    "    \"providential\"\n",
    "]\n",
    "for col in provisioning_factor_variables:\n",
    "    foundational_df_transformed[col] = foundational_df_no_transformations[col].apply(lambda x: numpy.log(x))"
   ],
   "metadata": {
    "collapsed": false,
    "ExecuteTime": {
     "end_time": "2024-01-20T18:04:32.994488Z",
     "start_time": "2024-01-20T18:04:32.848728Z"
    }
   },
   "id": "da43fe9d5f14b5eb",
   "execution_count": 199
  },
  {
   "cell_type": "code",
   "outputs": [
    {
     "data": {
      "text/plain": "    geo  TIME_PERIOD  material     other  overlooked  providential    energy  \\\n0    AL         2012 -3.712974 -3.197966   -3.901023     -2.763731 -0.463624   \n1    AL         2016 -4.488739 -4.186049   -3.679518     -3.444197 -0.366725   \n2    AL         2020 -3.813518 -1.938164   -2.606284     -3.377976 -0.418550   \n3    AT         2008 -3.677127 -2.462311   -3.569925     -3.850713  1.176190   \n4    AT         2012 -3.663873 -2.448799   -3.552081     -3.991043  1.160334   \n..   ..          ...       ...       ...         ...           ...       ...   \n126  SK         2016 -3.774942 -2.704110   -4.239386     -3.308814  0.635518   \n127  SK         2020 -3.799205 -2.716150   -4.292216     -3.256914  0.687632   \n128  TR         2012 -3.488606 -2.626866   -3.248423     -4.040996  0.136278   \n129  TR         2016 -3.888288 -2.705562   -3.406710     -4.180277  0.210261   \n130  TR         2020 -4.947308 -3.363823   -4.465331     -3.873455  0.254642   \n\n     ladder  socialsupport    hale  freedom  charity  corruption  positive  \\\n0     5.510          0.785  68.160    0.602   -0.170       0.848     0.553   \n1     4.511          0.638  69.025    0.730   -0.019       0.901     0.567   \n2     5.365          0.710  69.125    0.754    0.004       0.891     0.563   \n3     7.181          0.935  69.700    0.879    0.287       0.614     0.716   \n4     7.401          0.945  70.100    0.920    0.114       0.771     0.712   \n..      ...            ...     ...      ...      ...         ...       ...   \n126   5.993          0.945  67.825    0.700   -0.063       0.917     0.688   \n127   6.519          0.954  68.725    0.762   -0.079       0.901     0.695   \n128   5.309          0.739  67.220    0.471   -0.219       0.702     0.506   \n129   5.326          0.880  67.875    0.644   -0.068       0.764     0.414   \n130   4.862          0.857  68.575    0.510   -0.117       0.774     0.332   \n\n     negative  education  wdi_hale  \n0       0.271   0.832791       NaN  \n1       0.322   0.576626       NaN  \n2       0.265   1.763450 -4.509860  \n3       0.173   0.628006       NaN  \n4       0.157   0.637250       NaN  \n..        ...        ...       ...  \n126     0.232   2.355800       NaN  \n127     0.274   2.414721 -2.008824  \n128     0.335   2.832011  0.279146  \n129     0.390        NaN -1.078810  \n130     0.440        NaN  0.139762  \n\n[131 rows x 17 columns]",
      "text/html": "<div>\n<style scoped>\n    .dataframe tbody tr th:only-of-type {\n        vertical-align: middle;\n    }\n\n    .dataframe tbody tr th {\n        vertical-align: top;\n    }\n\n    .dataframe thead th {\n        text-align: right;\n    }\n</style>\n<table border=\"1\" class=\"dataframe\">\n  <thead>\n    <tr style=\"text-align: right;\">\n      <th></th>\n      <th>geo</th>\n      <th>TIME_PERIOD</th>\n      <th>material</th>\n      <th>other</th>\n      <th>overlooked</th>\n      <th>providential</th>\n      <th>energy</th>\n      <th>ladder</th>\n      <th>socialsupport</th>\n      <th>hale</th>\n      <th>freedom</th>\n      <th>charity</th>\n      <th>corruption</th>\n      <th>positive</th>\n      <th>negative</th>\n      <th>education</th>\n      <th>wdi_hale</th>\n    </tr>\n  </thead>\n  <tbody>\n    <tr>\n      <th>0</th>\n      <td>AL</td>\n      <td>2012</td>\n      <td>-3.712974</td>\n      <td>-3.197966</td>\n      <td>-3.901023</td>\n      <td>-2.763731</td>\n      <td>-0.463624</td>\n      <td>5.510</td>\n      <td>0.785</td>\n      <td>68.160</td>\n      <td>0.602</td>\n      <td>-0.170</td>\n      <td>0.848</td>\n      <td>0.553</td>\n      <td>0.271</td>\n      <td>0.832791</td>\n      <td>NaN</td>\n    </tr>\n    <tr>\n      <th>1</th>\n      <td>AL</td>\n      <td>2016</td>\n      <td>-4.488739</td>\n      <td>-4.186049</td>\n      <td>-3.679518</td>\n      <td>-3.444197</td>\n      <td>-0.366725</td>\n      <td>4.511</td>\n      <td>0.638</td>\n      <td>69.025</td>\n      <td>0.730</td>\n      <td>-0.019</td>\n      <td>0.901</td>\n      <td>0.567</td>\n      <td>0.322</td>\n      <td>0.576626</td>\n      <td>NaN</td>\n    </tr>\n    <tr>\n      <th>2</th>\n      <td>AL</td>\n      <td>2020</td>\n      <td>-3.813518</td>\n      <td>-1.938164</td>\n      <td>-2.606284</td>\n      <td>-3.377976</td>\n      <td>-0.418550</td>\n      <td>5.365</td>\n      <td>0.710</td>\n      <td>69.125</td>\n      <td>0.754</td>\n      <td>0.004</td>\n      <td>0.891</td>\n      <td>0.563</td>\n      <td>0.265</td>\n      <td>1.763450</td>\n      <td>-4.509860</td>\n    </tr>\n    <tr>\n      <th>3</th>\n      <td>AT</td>\n      <td>2008</td>\n      <td>-3.677127</td>\n      <td>-2.462311</td>\n      <td>-3.569925</td>\n      <td>-3.850713</td>\n      <td>1.176190</td>\n      <td>7.181</td>\n      <td>0.935</td>\n      <td>69.700</td>\n      <td>0.879</td>\n      <td>0.287</td>\n      <td>0.614</td>\n      <td>0.716</td>\n      <td>0.173</td>\n      <td>0.628006</td>\n      <td>NaN</td>\n    </tr>\n    <tr>\n      <th>4</th>\n      <td>AT</td>\n      <td>2012</td>\n      <td>-3.663873</td>\n      <td>-2.448799</td>\n      <td>-3.552081</td>\n      <td>-3.991043</td>\n      <td>1.160334</td>\n      <td>7.401</td>\n      <td>0.945</td>\n      <td>70.100</td>\n      <td>0.920</td>\n      <td>0.114</td>\n      <td>0.771</td>\n      <td>0.712</td>\n      <td>0.157</td>\n      <td>0.637250</td>\n      <td>NaN</td>\n    </tr>\n    <tr>\n      <th>...</th>\n      <td>...</td>\n      <td>...</td>\n      <td>...</td>\n      <td>...</td>\n      <td>...</td>\n      <td>...</td>\n      <td>...</td>\n      <td>...</td>\n      <td>...</td>\n      <td>...</td>\n      <td>...</td>\n      <td>...</td>\n      <td>...</td>\n      <td>...</td>\n      <td>...</td>\n      <td>...</td>\n      <td>...</td>\n    </tr>\n    <tr>\n      <th>126</th>\n      <td>SK</td>\n      <td>2016</td>\n      <td>-3.774942</td>\n      <td>-2.704110</td>\n      <td>-4.239386</td>\n      <td>-3.308814</td>\n      <td>0.635518</td>\n      <td>5.993</td>\n      <td>0.945</td>\n      <td>67.825</td>\n      <td>0.700</td>\n      <td>-0.063</td>\n      <td>0.917</td>\n      <td>0.688</td>\n      <td>0.232</td>\n      <td>2.355800</td>\n      <td>NaN</td>\n    </tr>\n    <tr>\n      <th>127</th>\n      <td>SK</td>\n      <td>2020</td>\n      <td>-3.799205</td>\n      <td>-2.716150</td>\n      <td>-4.292216</td>\n      <td>-3.256914</td>\n      <td>0.687632</td>\n      <td>6.519</td>\n      <td>0.954</td>\n      <td>68.725</td>\n      <td>0.762</td>\n      <td>-0.079</td>\n      <td>0.901</td>\n      <td>0.695</td>\n      <td>0.274</td>\n      <td>2.414721</td>\n      <td>-2.008824</td>\n    </tr>\n    <tr>\n      <th>128</th>\n      <td>TR</td>\n      <td>2012</td>\n      <td>-3.488606</td>\n      <td>-2.626866</td>\n      <td>-3.248423</td>\n      <td>-4.040996</td>\n      <td>0.136278</td>\n      <td>5.309</td>\n      <td>0.739</td>\n      <td>67.220</td>\n      <td>0.471</td>\n      <td>-0.219</td>\n      <td>0.702</td>\n      <td>0.506</td>\n      <td>0.335</td>\n      <td>2.832011</td>\n      <td>0.279146</td>\n    </tr>\n    <tr>\n      <th>129</th>\n      <td>TR</td>\n      <td>2016</td>\n      <td>-3.888288</td>\n      <td>-2.705562</td>\n      <td>-3.406710</td>\n      <td>-4.180277</td>\n      <td>0.210261</td>\n      <td>5.326</td>\n      <td>0.880</td>\n      <td>67.875</td>\n      <td>0.644</td>\n      <td>-0.068</td>\n      <td>0.764</td>\n      <td>0.414</td>\n      <td>0.390</td>\n      <td>NaN</td>\n      <td>-1.078810</td>\n    </tr>\n    <tr>\n      <th>130</th>\n      <td>TR</td>\n      <td>2020</td>\n      <td>-4.947308</td>\n      <td>-3.363823</td>\n      <td>-4.465331</td>\n      <td>-3.873455</td>\n      <td>0.254642</td>\n      <td>4.862</td>\n      <td>0.857</td>\n      <td>68.575</td>\n      <td>0.510</td>\n      <td>-0.117</td>\n      <td>0.774</td>\n      <td>0.332</td>\n      <td>0.440</td>\n      <td>NaN</td>\n      <td>0.139762</td>\n    </tr>\n  </tbody>\n</table>\n<p>131 rows × 17 columns</p>\n</div>"
     },
     "execution_count": 207,
     "metadata": {},
     "output_type": "execute_result"
    }
   ],
   "source": [
    "foundational_df_transformed"
   ],
   "metadata": {
    "collapsed": false,
    "ExecuteTime": {
     "end_time": "2024-01-20T18:32:39.616552Z",
     "start_time": "2024-01-20T18:32:39.510702Z"
    }
   },
   "id": "dc5e1d5aab68ee46",
   "execution_count": 207
  },
  {
   "cell_type": "markdown",
   "source": [
    "## Preliminary checks"
   ],
   "metadata": {
    "collapsed": false
   },
   "id": "7b53ebf5416fbcaa"
  },
  {
   "cell_type": "markdown",
   "source": [
    "Find and remove outliers"
   ],
   "metadata": {
    "collapsed": false
   },
   "id": "a652b22fce339995"
  },
  {
   "cell_type": "code",
   "outputs": [
    {
     "data": {
      "application/vnd.plotly.v1+json": {
       "data": [
        {
         "hovertext": [
          "AL",
          "AL",
          "AL",
          "AT",
          "AT",
          "AT",
          "AT",
          "BA",
          "BA",
          "BA",
          "BE",
          "BE",
          "BE",
          "BE",
          "BG",
          "BG",
          "BG",
          "BG",
          "CH",
          "CH",
          "CH",
          "CY",
          "CY",
          "CY",
          "CY",
          "CZ",
          "CZ",
          "CZ",
          "CZ",
          "DE",
          "DE",
          "DE",
          "DE",
          "DK",
          "DK",
          "DK",
          "DK",
          "EE",
          "EE",
          "EE",
          "EE",
          "ES",
          "ES",
          "ES",
          "ES",
          "FI",
          "FI",
          "FI",
          "FI",
          "FR",
          "FR",
          "FR",
          "FR",
          "HR",
          "HR",
          "HR",
          "HR",
          "HU",
          "HU",
          "HU",
          "HU",
          "IE",
          "IE",
          "IE",
          "IE",
          "IS",
          "IS",
          "IS",
          "IS",
          "IT",
          "IT",
          "IT",
          "IT",
          "LT",
          "LT",
          "LT",
          "LT",
          "LU",
          "LU",
          "LU",
          "LU",
          "LV",
          "LV",
          "LV",
          "LV",
          "ME",
          "ME",
          "MK",
          "MK",
          "MT",
          "MT",
          "MT",
          "MT",
          "NL",
          "NL",
          "NL",
          "NL",
          "NO",
          "NO",
          "NO",
          "NO",
          "PL",
          "PL",
          "PL",
          "PL",
          "PT",
          "PT",
          "PT",
          "PT",
          "RO",
          "RO",
          "RO",
          "RO",
          "RS",
          "RS",
          "RS",
          "SE",
          "SE",
          "SE",
          "SE",
          "SI",
          "SI",
          "SI",
          "SI",
          "SK",
          "SK",
          "SK",
          "SK",
          "TR",
          "TR",
          "TR"
         ],
         "mode": "markers",
         "name": "Overlooked",
         "x": [
          2012,
          2016,
          2020,
          2008,
          2012,
          2016,
          2020,
          2012,
          2016,
          2020,
          2008,
          2012,
          2016,
          2020,
          2008,
          2012,
          2016,
          2020,
          2012,
          2016,
          2020,
          2008,
          2012,
          2016,
          2020,
          2008,
          2012,
          2016,
          2020,
          2008,
          2012,
          2016,
          2020,
          2008,
          2012,
          2016,
          2020,
          2008,
          2012,
          2016,
          2020,
          2008,
          2012,
          2016,
          2020,
          2008,
          2012,
          2016,
          2020,
          2008,
          2012,
          2016,
          2020,
          2008,
          2012,
          2016,
          2020,
          2008,
          2012,
          2016,
          2020,
          2008,
          2012,
          2016,
          2020,
          2008,
          2012,
          2016,
          2020,
          2008,
          2012,
          2016,
          2020,
          2008,
          2012,
          2016,
          2020,
          2008,
          2012,
          2016,
          2020,
          2008,
          2012,
          2016,
          2020,
          2012,
          2016,
          2012,
          2016,
          2008,
          2012,
          2016,
          2020,
          2008,
          2012,
          2016,
          2020,
          2008,
          2012,
          2016,
          2020,
          2008,
          2012,
          2016,
          2020,
          2008,
          2012,
          2016,
          2020,
          2008,
          2012,
          2016,
          2020,
          2012,
          2016,
          2020,
          2008,
          2012,
          2016,
          2020,
          2008,
          2012,
          2016,
          2020,
          2008,
          2012,
          2016,
          2020,
          2012,
          2016,
          2020
         ],
         "y": [
          -3.9010229683877724,
          -3.679517692622896,
          -2.6062842152138668,
          -3.5699245306421297,
          -3.5520812784082474,
          -3.5966290380326607,
          -3.634382252670106,
          -3.7821039821496747,
          -3.9153853815690596,
          -3.891093605053097,
          -4.161259975390014,
          -4.053481832308898,
          -4.167422368047428,
          -4.235566157990398,
          -3.613815792083846,
          -3.727059310067767,
          -3.7699741505763646,
          -3.966329924403109,
          -4.050578254033103,
          -4.120148353687895,
          -4.116515289688896,
          -3.6514096688422293,
          -3.533457772917389,
          -3.685318945473557,
          -3.715853626816347,
          -4.072786251811334,
          -4.186476695009861,
          -4.238153361356663,
          -4.299079872479237,
          -4.323066270248828,
          -4.342112890404644,
          -4.374171610050363,
          -4.379607020116735,
          -4.241770395537773,
          -4.4689194059729065,
          -4.4070963457191255,
          -4.449377680678674,
          -3.6877889128020844,
          -3.7898792794779324,
          -3.6971853140289963,
          -3.817614560507323,
          -3.748626733886586,
          -3.937694154009068,
          -3.9570010364134602,
          -3.969472267933811,
          -4.094638048970672,
          -4.20795154269392,
          -4.217622728737406,
          -4.315459894402065,
          -4.022150928098997,
          -4.242130976927013,
          -4.238909222729782,
          -4.330791864672723,
          -3.8645135781205115,
          -3.952001396020735,
          -3.8704281399453966,
          -3.927591438297684,
          -4.149970648487374,
          -4.297763201760045,
          -4.318570802758794,
          -4.334981500510652,
          -3.8454486173276945,
          -4.158828572995411,
          -3.982739253588221,
          -4.144243636162583,
          -5.205877326427495,
          -5.105195556053155,
          -4.805770689016129,
          -4.218072129945891,
          -3.7045837813694638,
          -4.03171885674625,
          -4.099819504201374,
          -4.121543029659258,
          -3.743450949519511,
          -3.8816887588333984,
          -3.8284465067615785,
          -3.8799750074993464,
          -3.961279296848622,
          -3.8516955089096294,
          -3.825511572212131,
          -3.782787915538856,
          -3.813729227588841,
          -3.956124073230867,
          -3.966096740568745,
          -3.982770397816838,
          -3.999487228656494,
          -4.11769120947691,
          -3.491941509795487,
          -3.628595237264278,
          -3.6471521927639543,
          -3.60304051829986,
          -3.781639744883881,
          -4.1290269320015245,
          -4.37197130940568,
          -4.388993608655548,
          -4.41416045860697,
          -4.418025505599386,
          -4.07798514677985,
          -3.9220211050743705,
          -3.997568004426931,
          -3.949631538212188,
          -4.070601877377541,
          -4.233467070118931,
          -4.240521810422415,
          -4.247111271015667,
          -3.6434140155686867,
          -3.7394665763374633,
          -3.7193227271048537,
          -3.798375500605257,
          -3.6984349347493115,
          -3.820736134549009,
          -3.82047213930671,
          -3.9569980134699216,
          -4.1808446724285115,
          -4.1190384746180655,
          -4.032903322698238,
          -4.001517327703519,
          -4.013713133035457,
          -4.010183917315255,
          -4.233500591204541,
          -3.7994774188274656,
          -4.087682771908373,
          -4.168623089853393,
          -4.187946268723722,
          -3.980891096945357,
          -4.262842237096201,
          -4.239386248916356,
          -4.292215959990915,
          -3.2484228094030327,
          -3.4067095363992355,
          -4.46533132251242
         ],
         "type": "scatter",
         "xaxis": "x",
         "yaxis": "y"
        },
        {
         "hovertext": [
          "AL",
          "AL",
          "AL",
          "AT",
          "AT",
          "AT",
          "AT",
          "BA",
          "BA",
          "BA",
          "BE",
          "BE",
          "BE",
          "BE",
          "BG",
          "BG",
          "BG",
          "BG",
          "CH",
          "CH",
          "CH",
          "CY",
          "CY",
          "CY",
          "CY",
          "CZ",
          "CZ",
          "CZ",
          "CZ",
          "DE",
          "DE",
          "DE",
          "DE",
          "DK",
          "DK",
          "DK",
          "DK",
          "EE",
          "EE",
          "EE",
          "EE",
          "ES",
          "ES",
          "ES",
          "ES",
          "FI",
          "FI",
          "FI",
          "FI",
          "FR",
          "FR",
          "FR",
          "FR",
          "HR",
          "HR",
          "HR",
          "HR",
          "HU",
          "HU",
          "HU",
          "HU",
          "IE",
          "IE",
          "IE",
          "IE",
          "IS",
          "IS",
          "IS",
          "IS",
          "IT",
          "IT",
          "IT",
          "IT",
          "LT",
          "LT",
          "LT",
          "LT",
          "LU",
          "LU",
          "LU",
          "LU",
          "LV",
          "LV",
          "LV",
          "LV",
          "ME",
          "ME",
          "MK",
          "MK",
          "MT",
          "MT",
          "MT",
          "MT",
          "NL",
          "NL",
          "NL",
          "NL",
          "NO",
          "NO",
          "NO",
          "NO",
          "PL",
          "PL",
          "PL",
          "PL",
          "PT",
          "PT",
          "PT",
          "PT",
          "RO",
          "RO",
          "RO",
          "RO",
          "RS",
          "RS",
          "RS",
          "SE",
          "SE",
          "SE",
          "SE",
          "SI",
          "SI",
          "SI",
          "SI",
          "SK",
          "SK",
          "SK",
          "SK",
          "TR",
          "TR",
          "TR"
         ],
         "mode": "markers",
         "name": "Material",
         "x": [
          2012,
          2016,
          2020,
          2008,
          2012,
          2016,
          2020,
          2012,
          2016,
          2020,
          2008,
          2012,
          2016,
          2020,
          2008,
          2012,
          2016,
          2020,
          2012,
          2016,
          2020,
          2008,
          2012,
          2016,
          2020,
          2008,
          2012,
          2016,
          2020,
          2008,
          2012,
          2016,
          2020,
          2008,
          2012,
          2016,
          2020,
          2008,
          2012,
          2016,
          2020,
          2008,
          2012,
          2016,
          2020,
          2008,
          2012,
          2016,
          2020,
          2008,
          2012,
          2016,
          2020,
          2008,
          2012,
          2016,
          2020,
          2008,
          2012,
          2016,
          2020,
          2008,
          2012,
          2016,
          2020,
          2008,
          2012,
          2016,
          2020,
          2008,
          2012,
          2016,
          2020,
          2008,
          2012,
          2016,
          2020,
          2008,
          2012,
          2016,
          2020,
          2008,
          2012,
          2016,
          2020,
          2012,
          2016,
          2012,
          2016,
          2008,
          2012,
          2016,
          2020,
          2008,
          2012,
          2016,
          2020,
          2008,
          2012,
          2016,
          2020,
          2008,
          2012,
          2016,
          2020,
          2008,
          2012,
          2016,
          2020,
          2008,
          2012,
          2016,
          2020,
          2012,
          2016,
          2020,
          2008,
          2012,
          2016,
          2020,
          2008,
          2012,
          2016,
          2020,
          2008,
          2012,
          2016,
          2020,
          2012,
          2016,
          2020
         ],
         "y": [
          -3.7129735265224446,
          -4.4887385702341795,
          -3.813517508640255,
          -3.6771274972658308,
          -3.6638726843963645,
          -3.6975814010546553,
          -3.7333827871939,
          -3.182336041587089,
          -3.523880332225729,
          -3.580080828026315,
          -3.659326286985661,
          -3.7755695971720136,
          -3.705533245434067,
          -3.6829622352867006,
          -3.618018086239778,
          -3.594351352195701,
          -3.6241867364153397,
          -3.6438481053101617,
          -4.103500022811019,
          -4.090400771244933,
          -4.088382336844957,
          -3.5886166439006124,
          -3.7053793852398207,
          -3.936495375070826,
          -3.9558993311439545,
          -3.717941984731181,
          -3.7384685069628842,
          -3.774043544816068,
          -3.7785871157623245,
          -3.9781402508584445,
          -4.04384607608865,
          -4.027536265401971,
          -4.0210557717911355,
          -3.934717745043766,
          -4.2452825880442235,
          -4.142272770834683,
          -4.164159442368719,
          -3.826499353125661,
          -3.7846035073285718,
          -3.8026881585079604,
          -3.8000088486388894,
          -4.031347888595701,
          -4.048742760595857,
          -4.057915355603691,
          -4.0849306683042865,
          -4.140766768078676,
          -4.142974250818875,
          -4.091054042722408,
          -4.245066008865165,
          -4.041738021849127,
          -3.9612813759857772,
          -4.031392595900592,
          -4.046069101708189,
          -3.5867587276004618,
          -3.7348304039742213,
          -3.792591813845854,
          -3.7846297125915656,
          -3.702749796137752,
          -3.735337327453836,
          -3.797179630757137,
          -3.788345276702706,
          -4.196525335571262,
          -4.2060439882830165,
          -4.156356589065648,
          -4.199773143522459,
          -3.7612403453172636,
          -3.6027425681375007,
          -3.3242587944255018,
          -3.4971174071243785,
          -3.6425835403325557,
          -3.900241150731446,
          -3.8748350279472557,
          -3.8750040635160854,
          -3.6301829004844395,
          -3.6175172538345386,
          -3.6388358889402337,
          -3.523043387053272,
          -5.281895535568008,
          -3.65727385737318,
          -3.639645288415181,
          -3.671091999557783,
          -3.6351000740288804,
          -3.5556267444871135,
          -3.6875140735860104,
          -3.616312096474585,
          -3.7904752276169615,
          -3.869929568368808,
          -3.739247960048409,
          -3.6891059143545477,
          -4.168142288964461,
          -5.091706468251095,
          -4.185626775842702,
          -4.259946845338077,
          -4.14436896719464,
          -4.131148565979959,
          -4.227947624871234,
          -4.179091751259495,
          -3.6120158414270276,
          -3.3121557252004026,
          -3.5636156072434884,
          -3.7113530856781374,
          -3.549219522698912,
          -3.644597707964816,
          -3.6901052068778664,
          -3.7385979406154317,
          -4.082404148276186,
          -4.143876675224968,
          -4.091686188663694,
          -4.092552363145523,
          -3.5473397032945493,
          -3.555537216653717,
          -3.6395899936734444,
          -3.678347448455441,
          -3.5071963355618445,
          -3.529862917645177,
          -3.624673154797008,
          -3.8734456186954733,
          -3.950966825322009,
          -3.965328232202296,
          -4.225631007546877,
          -3.8366045320126205,
          -3.921920327808067,
          -3.930011436235603,
          -3.9168191238833248,
          -3.7761753752538136,
          -3.695958827297438,
          -3.7749420920759054,
          -3.79920474892743,
          -3.4886055961841738,
          -3.8882881457747174,
          -4.947308427095823
         ],
         "type": "scatter",
         "xaxis": "x2",
         "yaxis": "y2"
        },
        {
         "hovertext": [
          "AL",
          "AL",
          "AL",
          "AT",
          "AT",
          "AT",
          "AT",
          "BA",
          "BA",
          "BA",
          "BE",
          "BE",
          "BE",
          "BE",
          "BG",
          "BG",
          "BG",
          "BG",
          "CH",
          "CH",
          "CH",
          "CY",
          "CY",
          "CY",
          "CY",
          "CZ",
          "CZ",
          "CZ",
          "CZ",
          "DE",
          "DE",
          "DE",
          "DE",
          "DK",
          "DK",
          "DK",
          "DK",
          "EE",
          "EE",
          "EE",
          "EE",
          "ES",
          "ES",
          "ES",
          "ES",
          "FI",
          "FI",
          "FI",
          "FI",
          "FR",
          "FR",
          "FR",
          "FR",
          "HR",
          "HR",
          "HR",
          "HR",
          "HU",
          "HU",
          "HU",
          "HU",
          "IE",
          "IE",
          "IE",
          "IE",
          "IS",
          "IS",
          "IS",
          "IS",
          "IT",
          "IT",
          "IT",
          "IT",
          "LT",
          "LT",
          "LT",
          "LT",
          "LU",
          "LU",
          "LU",
          "LU",
          "LV",
          "LV",
          "LV",
          "LV",
          "ME",
          "ME",
          "MK",
          "MK",
          "MT",
          "MT",
          "MT",
          "MT",
          "NL",
          "NL",
          "NL",
          "NL",
          "NO",
          "NO",
          "NO",
          "NO",
          "PL",
          "PL",
          "PL",
          "PL",
          "PT",
          "PT",
          "PT",
          "PT",
          "RO",
          "RO",
          "RO",
          "RO",
          "RS",
          "RS",
          "RS",
          "SE",
          "SE",
          "SE",
          "SE",
          "SI",
          "SI",
          "SI",
          "SI",
          "SK",
          "SK",
          "SK",
          "SK",
          "TR",
          "TR",
          "TR"
         ],
         "mode": "markers",
         "name": "Providential",
         "x": [
          2012,
          2016,
          2020,
          2008,
          2012,
          2016,
          2020,
          2012,
          2016,
          2020,
          2008,
          2012,
          2016,
          2020,
          2008,
          2012,
          2016,
          2020,
          2012,
          2016,
          2020,
          2008,
          2012,
          2016,
          2020,
          2008,
          2012,
          2016,
          2020,
          2008,
          2012,
          2016,
          2020,
          2008,
          2012,
          2016,
          2020,
          2008,
          2012,
          2016,
          2020,
          2008,
          2012,
          2016,
          2020,
          2008,
          2012,
          2016,
          2020,
          2008,
          2012,
          2016,
          2020,
          2008,
          2012,
          2016,
          2020,
          2008,
          2012,
          2016,
          2020,
          2008,
          2012,
          2016,
          2020,
          2008,
          2012,
          2016,
          2020,
          2008,
          2012,
          2016,
          2020,
          2008,
          2012,
          2016,
          2020,
          2008,
          2012,
          2016,
          2020,
          2008,
          2012,
          2016,
          2020,
          2012,
          2016,
          2012,
          2016,
          2008,
          2012,
          2016,
          2020,
          2008,
          2012,
          2016,
          2020,
          2008,
          2012,
          2016,
          2020,
          2008,
          2012,
          2016,
          2020,
          2008,
          2012,
          2016,
          2020,
          2008,
          2012,
          2016,
          2020,
          2012,
          2016,
          2020,
          2008,
          2012,
          2016,
          2020,
          2008,
          2012,
          2016,
          2020,
          2008,
          2012,
          2016,
          2020,
          2012,
          2016,
          2020
         ],
         "y": [
          -2.763731185706195,
          -3.444196940600946,
          -3.377975677252334,
          -3.8507131101172103,
          -3.9910426217632575,
          -3.919681050653623,
          -3.876522411294867,
          -3.3276379511955283,
          -3.112525746364644,
          -3.157558149336164,
          -2.9633864155450698,
          -3.0609991512102583,
          -3.0220936605262905,
          -3.010701669966958,
          -3.547439473403761,
          -3.464430480336152,
          -3.4929728006114478,
          -3.4555077096708873,
          -3.30724888823108,
          -3.342804332312006,
          -3.310766253420404,
          -3.3096919007410857,
          -4.346204038196829,
          -3.282590389450964,
          -3.270789374545544,
          -3.4593042619310346,
          -3.389732920059916,
          -3.415177291677659,
          -3.3609525225198604,
          -3.2961265839859935,
          -3.3202583478292755,
          -3.2624976915571695,
          -3.2326453778608544,
          -3.048862612966059,
          -2.9047181517349587,
          -2.9297261443794698,
          -2.9326053644211507,
          -3.3016787083060604,
          -3.190156037960123,
          -3.2536913713858056,
          -3.225342747677927,
          -3.4001120256626933,
          -3.2283465245448584,
          -3.212479772733844,
          -3.2070870265240647,
          -3.099125826504748,
          -3.0226091275400466,
          -2.9265021900589137,
          -2.9411451675096703,
          -3.440078870517078,
          -3.00012953787845,
          -2.974216598799463,
          -3.003940533925632,
          -3.3073879081160773,
          -3.1831945791694745,
          -3.201610243365208,
          -3.206093675167779,
          -3.1622358416817664,
          -3.0645010305926066,
          -3.008522740295548,
          -3.1235762178427944,
          -3.2180457095347923,
          -3.0888845565527037,
          -3.149475660175807,
          -3.089764992349982,
          -2.86291300954164,
          -2.836687236226155,
          -2.758661995101421,
          -2.7168847321282636,
          -3.329445782646456,
          -3.0502728277753697,
          -3.0505090251733917,
          -3.095008877829199,
          -3.188283238433203,
          -3.0658532578496143,
          -3.150726410677866,
          -3.2137598710370248,
          -5.020868242949295,
          -4.096777590984762,
          -4.030137521535477,
          -4.0087137572124885,
          -3.223185376682441,
          -3.1221212747224767,
          -3.1140975376177265,
          -3.1171332612293234,
          -2.813711436159339,
          -2.8898363279786605,
          -3.1555408354991257,
          -3.1501056007354484,
          -3.3601003218121503,
          -4.32324501930383,
          -3.5073390731478145,
          -3.1243558445916952,
          -3.1391712719159237,
          -3.084906032468568,
          -3.130474541661144,
          -3.1260358053028656,
          -3.728541971368445,
          -3.581649817862498,
          -3.715959615034034,
          -3.8983392506260843,
          -3.4140277534414487,
          -3.1767757087621225,
          -3.2228734855482806,
          -3.212839226682399,
          -3.1251109354584736,
          -2.9824907873658058,
          -3.0767689476117575,
          -3.077162276939574,
          -3.424911549834939,
          -3.436202456315016,
          -3.467742869521614,
          -3.4332947189664593,
          -3.0546801219991537,
          -3.1443054593953987,
          -3.263887351963719,
          -2.9238359869651243,
          -2.807532054570716,
          -2.8158892539289804,
          -2.8823891066884086,
          -3.4005939248290926,
          -3.2281184536118137,
          -3.228896335398345,
          -3.235652876644101,
          -4.639089478653564,
          -3.30065227661645,
          -3.308813986742939,
          -3.256913582039223,
          -4.040996286272999,
          -4.180276879002628,
          -3.873454723563931
         ],
         "type": "scatter",
         "xaxis": "x3",
         "yaxis": "y3"
        },
        {
         "hovertext": [
          "AL",
          "AL",
          "AL",
          "AT",
          "AT",
          "AT",
          "AT",
          "BA",
          "BA",
          "BA",
          "BE",
          "BE",
          "BE",
          "BE",
          "BG",
          "BG",
          "BG",
          "BG",
          "CH",
          "CH",
          "CH",
          "CY",
          "CY",
          "CY",
          "CY",
          "CZ",
          "CZ",
          "CZ",
          "CZ",
          "DE",
          "DE",
          "DE",
          "DE",
          "DK",
          "DK",
          "DK",
          "DK",
          "EE",
          "EE",
          "EE",
          "EE",
          "ES",
          "ES",
          "ES",
          "ES",
          "FI",
          "FI",
          "FI",
          "FI",
          "FR",
          "FR",
          "FR",
          "FR",
          "HR",
          "HR",
          "HR",
          "HR",
          "HU",
          "HU",
          "HU",
          "HU",
          "IE",
          "IE",
          "IE",
          "IE",
          "IS",
          "IS",
          "IS",
          "IS",
          "IT",
          "IT",
          "IT",
          "IT",
          "LT",
          "LT",
          "LT",
          "LT",
          "LU",
          "LU",
          "LU",
          "LU",
          "LV",
          "LV",
          "LV",
          "LV",
          "ME",
          "ME",
          "MK",
          "MK",
          "MT",
          "MT",
          "MT",
          "MT",
          "NL",
          "NL",
          "NL",
          "NL",
          "NO",
          "NO",
          "NO",
          "NO",
          "PL",
          "PL",
          "PL",
          "PL",
          "PT",
          "PT",
          "PT",
          "PT",
          "RO",
          "RO",
          "RO",
          "RO",
          "RS",
          "RS",
          "RS",
          "SE",
          "SE",
          "SE",
          "SE",
          "SI",
          "SI",
          "SI",
          "SI",
          "SK",
          "SK",
          "SK",
          "SK",
          "TR",
          "TR",
          "TR"
         ],
         "mode": "markers",
         "name": "Other",
         "x": [
          2012,
          2016,
          2020,
          2008,
          2012,
          2016,
          2020,
          2012,
          2016,
          2020,
          2008,
          2012,
          2016,
          2020,
          2008,
          2012,
          2016,
          2020,
          2012,
          2016,
          2020,
          2008,
          2012,
          2016,
          2020,
          2008,
          2012,
          2016,
          2020,
          2008,
          2012,
          2016,
          2020,
          2008,
          2012,
          2016,
          2020,
          2008,
          2012,
          2016,
          2020,
          2008,
          2012,
          2016,
          2020,
          2008,
          2012,
          2016,
          2020,
          2008,
          2012,
          2016,
          2020,
          2008,
          2012,
          2016,
          2020,
          2008,
          2012,
          2016,
          2020,
          2008,
          2012,
          2016,
          2020,
          2008,
          2012,
          2016,
          2020,
          2008,
          2012,
          2016,
          2020,
          2008,
          2012,
          2016,
          2020,
          2008,
          2012,
          2016,
          2020,
          2008,
          2012,
          2016,
          2020,
          2012,
          2016,
          2012,
          2016,
          2008,
          2012,
          2016,
          2020,
          2008,
          2012,
          2016,
          2020,
          2008,
          2012,
          2016,
          2020,
          2008,
          2012,
          2016,
          2020,
          2008,
          2012,
          2016,
          2020,
          2008,
          2012,
          2016,
          2020,
          2012,
          2016,
          2020,
          2008,
          2012,
          2016,
          2020,
          2008,
          2012,
          2016,
          2020,
          2008,
          2012,
          2016,
          2020,
          2012,
          2016,
          2020
         ],
         "y": [
          -3.197966059398629,
          -4.186049376003636,
          -1.9381643317555506,
          -2.4623110208838765,
          -2.4487986919412394,
          -2.4422450499551918,
          -2.4230286542892543,
          -2.7366487186919244,
          -2.9767924852745855,
          -2.9284839398249995,
          -2.625857074576707,
          -2.553982199119744,
          -2.578782896126101,
          -2.5795660161026763,
          -2.8343896917906637,
          -2.857776175509426,
          -2.820145156877685,
          -2.7638893730592,
          -2.6747077536240615,
          -2.6786286267665647,
          -2.671211201140878,
          -2.9571965846821353,
          -2.7164362284458474,
          -2.9333734142310193,
          -2.8550064763522482,
          -2.669094630924916,
          -2.67112346834985,
          -2.6395599475063287,
          -2.651281349309652,
          -2.617854680995306,
          -2.598979593600991,
          -2.630362835375165,
          -2.6520232023916743,
          -2.8308967900361313,
          -2.861487703029204,
          -2.837285487177738,
          -2.8181512645580207,
          -2.8995434679989414,
          -2.935824166900927,
          -2.9088932406446206,
          -2.8920941319142215,
          -2.696171521030305,
          -2.7443671111562975,
          -2.7576438677929893,
          -2.754300771901732,
          -2.843143933952,
          -2.812489060919161,
          -2.87765675973344,
          -2.8204491263626954,
          -2.668666635580672,
          -2.836693577675916,
          -2.8433745168571165,
          -2.802606008830294,
          -2.847536097895248,
          -2.945672015772843,
          -2.9160391714191407,
          -2.8508533012952983,
          -2.8079514371599985,
          -2.827412803795295,
          -2.8466857215231345,
          -2.772156023962702,
          -2.770882120358074,
          -2.7913216828953415,
          -2.785536708569171,
          -2.7738162487322056,
          -2.9521126962599356,
          -3.075498309350903,
          -2.930810260982165,
          -3.086595286065542,
          -2.5679184974047975,
          -2.8339093252691328,
          -2.83790147710681,
          -2.80762475084037,
          -2.993067802456032,
          -3.108547760297019,
          -3.009989022434741,
          -3.009794677250743,
          -3.6277162125081888,
          -2.411256060060401,
          -2.410890507750827,
          -2.406217622549304,
          -2.931002607354606,
          -3.0021300359852403,
          -3.0142144453905835,
          -2.9678938591090995,
          -2.930996851383959,
          -3.0141290041882804,
          -3.033506689788695,
          -2.9823632838577425,
          -2.531037416488137,
          -2.7379071246038933,
          -2.7270752763521173,
          -2.713257555616073,
          -2.6883583265988973,
          -2.7274799234106237,
          -2.688253729212387,
          -2.68987574117927,
          -2.7103192351148557,
          -2.5699758868785376,
          -2.7433241288952654,
          -2.8133581636637017,
          -2.7910585883718886,
          -2.8403898509355745,
          -2.7871549111547864,
          -2.78456848563303,
          -2.9737688196903767,
          -2.921190241478505,
          -2.902551412768409,
          -2.8623915238329927,
          -2.8705379395419404,
          -2.8361468360887176,
          -2.788194047436915,
          -2.7495548719825766,
          -2.9770191770217376,
          -2.9252425585812896,
          -2.8169139772399756,
          -2.5906897748364517,
          -2.6403255705399067,
          -2.635200308343611,
          -2.8770261451947143,
          -2.7476121955338044,
          -2.7421674106107585,
          -2.722578277578726,
          -2.731608519336069,
          -2.721981512463074,
          -2.721159208589966,
          -2.70410981278016,
          -2.716149697102064,
          -2.626866251283098,
          -2.705562040751704,
          -3.3638232222034303
         ],
         "type": "scatter",
         "xaxis": "x4",
         "yaxis": "y4"
        }
       ],
       "layout": {
        "template": {
         "data": {
          "histogram2dcontour": [
           {
            "type": "histogram2dcontour",
            "colorbar": {
             "outlinewidth": 0,
             "ticks": ""
            },
            "colorscale": [
             [
              0.0,
              "#0d0887"
             ],
             [
              0.1111111111111111,
              "#46039f"
             ],
             [
              0.2222222222222222,
              "#7201a8"
             ],
             [
              0.3333333333333333,
              "#9c179e"
             ],
             [
              0.4444444444444444,
              "#bd3786"
             ],
             [
              0.5555555555555556,
              "#d8576b"
             ],
             [
              0.6666666666666666,
              "#ed7953"
             ],
             [
              0.7777777777777778,
              "#fb9f3a"
             ],
             [
              0.8888888888888888,
              "#fdca26"
             ],
             [
              1.0,
              "#f0f921"
             ]
            ]
           }
          ],
          "choropleth": [
           {
            "type": "choropleth",
            "colorbar": {
             "outlinewidth": 0,
             "ticks": ""
            }
           }
          ],
          "histogram2d": [
           {
            "type": "histogram2d",
            "colorbar": {
             "outlinewidth": 0,
             "ticks": ""
            },
            "colorscale": [
             [
              0.0,
              "#0d0887"
             ],
             [
              0.1111111111111111,
              "#46039f"
             ],
             [
              0.2222222222222222,
              "#7201a8"
             ],
             [
              0.3333333333333333,
              "#9c179e"
             ],
             [
              0.4444444444444444,
              "#bd3786"
             ],
             [
              0.5555555555555556,
              "#d8576b"
             ],
             [
              0.6666666666666666,
              "#ed7953"
             ],
             [
              0.7777777777777778,
              "#fb9f3a"
             ],
             [
              0.8888888888888888,
              "#fdca26"
             ],
             [
              1.0,
              "#f0f921"
             ]
            ]
           }
          ],
          "heatmap": [
           {
            "type": "heatmap",
            "colorbar": {
             "outlinewidth": 0,
             "ticks": ""
            },
            "colorscale": [
             [
              0.0,
              "#0d0887"
             ],
             [
              0.1111111111111111,
              "#46039f"
             ],
             [
              0.2222222222222222,
              "#7201a8"
             ],
             [
              0.3333333333333333,
              "#9c179e"
             ],
             [
              0.4444444444444444,
              "#bd3786"
             ],
             [
              0.5555555555555556,
              "#d8576b"
             ],
             [
              0.6666666666666666,
              "#ed7953"
             ],
             [
              0.7777777777777778,
              "#fb9f3a"
             ],
             [
              0.8888888888888888,
              "#fdca26"
             ],
             [
              1.0,
              "#f0f921"
             ]
            ]
           }
          ],
          "heatmapgl": [
           {
            "type": "heatmapgl",
            "colorbar": {
             "outlinewidth": 0,
             "ticks": ""
            },
            "colorscale": [
             [
              0.0,
              "#0d0887"
             ],
             [
              0.1111111111111111,
              "#46039f"
             ],
             [
              0.2222222222222222,
              "#7201a8"
             ],
             [
              0.3333333333333333,
              "#9c179e"
             ],
             [
              0.4444444444444444,
              "#bd3786"
             ],
             [
              0.5555555555555556,
              "#d8576b"
             ],
             [
              0.6666666666666666,
              "#ed7953"
             ],
             [
              0.7777777777777778,
              "#fb9f3a"
             ],
             [
              0.8888888888888888,
              "#fdca26"
             ],
             [
              1.0,
              "#f0f921"
             ]
            ]
           }
          ],
          "contourcarpet": [
           {
            "type": "contourcarpet",
            "colorbar": {
             "outlinewidth": 0,
             "ticks": ""
            }
           }
          ],
          "contour": [
           {
            "type": "contour",
            "colorbar": {
             "outlinewidth": 0,
             "ticks": ""
            },
            "colorscale": [
             [
              0.0,
              "#0d0887"
             ],
             [
              0.1111111111111111,
              "#46039f"
             ],
             [
              0.2222222222222222,
              "#7201a8"
             ],
             [
              0.3333333333333333,
              "#9c179e"
             ],
             [
              0.4444444444444444,
              "#bd3786"
             ],
             [
              0.5555555555555556,
              "#d8576b"
             ],
             [
              0.6666666666666666,
              "#ed7953"
             ],
             [
              0.7777777777777778,
              "#fb9f3a"
             ],
             [
              0.8888888888888888,
              "#fdca26"
             ],
             [
              1.0,
              "#f0f921"
             ]
            ]
           }
          ],
          "surface": [
           {
            "type": "surface",
            "colorbar": {
             "outlinewidth": 0,
             "ticks": ""
            },
            "colorscale": [
             [
              0.0,
              "#0d0887"
             ],
             [
              0.1111111111111111,
              "#46039f"
             ],
             [
              0.2222222222222222,
              "#7201a8"
             ],
             [
              0.3333333333333333,
              "#9c179e"
             ],
             [
              0.4444444444444444,
              "#bd3786"
             ],
             [
              0.5555555555555556,
              "#d8576b"
             ],
             [
              0.6666666666666666,
              "#ed7953"
             ],
             [
              0.7777777777777778,
              "#fb9f3a"
             ],
             [
              0.8888888888888888,
              "#fdca26"
             ],
             [
              1.0,
              "#f0f921"
             ]
            ]
           }
          ],
          "mesh3d": [
           {
            "type": "mesh3d",
            "colorbar": {
             "outlinewidth": 0,
             "ticks": ""
            }
           }
          ],
          "scatter": [
           {
            "fillpattern": {
             "fillmode": "overlay",
             "size": 10,
             "solidity": 0.2
            },
            "type": "scatter"
           }
          ],
          "parcoords": [
           {
            "type": "parcoords",
            "line": {
             "colorbar": {
              "outlinewidth": 0,
              "ticks": ""
             }
            }
           }
          ],
          "scatterpolargl": [
           {
            "type": "scatterpolargl",
            "marker": {
             "colorbar": {
              "outlinewidth": 0,
              "ticks": ""
             }
            }
           }
          ],
          "bar": [
           {
            "error_x": {
             "color": "#2a3f5f"
            },
            "error_y": {
             "color": "#2a3f5f"
            },
            "marker": {
             "line": {
              "color": "#E5ECF6",
              "width": 0.5
             },
             "pattern": {
              "fillmode": "overlay",
              "size": 10,
              "solidity": 0.2
             }
            },
            "type": "bar"
           }
          ],
          "scattergeo": [
           {
            "type": "scattergeo",
            "marker": {
             "colorbar": {
              "outlinewidth": 0,
              "ticks": ""
             }
            }
           }
          ],
          "scatterpolar": [
           {
            "type": "scatterpolar",
            "marker": {
             "colorbar": {
              "outlinewidth": 0,
              "ticks": ""
             }
            }
           }
          ],
          "histogram": [
           {
            "marker": {
             "pattern": {
              "fillmode": "overlay",
              "size": 10,
              "solidity": 0.2
             }
            },
            "type": "histogram"
           }
          ],
          "scattergl": [
           {
            "type": "scattergl",
            "marker": {
             "colorbar": {
              "outlinewidth": 0,
              "ticks": ""
             }
            }
           }
          ],
          "scatter3d": [
           {
            "type": "scatter3d",
            "line": {
             "colorbar": {
              "outlinewidth": 0,
              "ticks": ""
             }
            },
            "marker": {
             "colorbar": {
              "outlinewidth": 0,
              "ticks": ""
             }
            }
           }
          ],
          "scattermapbox": [
           {
            "type": "scattermapbox",
            "marker": {
             "colorbar": {
              "outlinewidth": 0,
              "ticks": ""
             }
            }
           }
          ],
          "scatterternary": [
           {
            "type": "scatterternary",
            "marker": {
             "colorbar": {
              "outlinewidth": 0,
              "ticks": ""
             }
            }
           }
          ],
          "scattercarpet": [
           {
            "type": "scattercarpet",
            "marker": {
             "colorbar": {
              "outlinewidth": 0,
              "ticks": ""
             }
            }
           }
          ],
          "carpet": [
           {
            "aaxis": {
             "endlinecolor": "#2a3f5f",
             "gridcolor": "white",
             "linecolor": "white",
             "minorgridcolor": "white",
             "startlinecolor": "#2a3f5f"
            },
            "baxis": {
             "endlinecolor": "#2a3f5f",
             "gridcolor": "white",
             "linecolor": "white",
             "minorgridcolor": "white",
             "startlinecolor": "#2a3f5f"
            },
            "type": "carpet"
           }
          ],
          "table": [
           {
            "cells": {
             "fill": {
              "color": "#EBF0F8"
             },
             "line": {
              "color": "white"
             }
            },
            "header": {
             "fill": {
              "color": "#C8D4E3"
             },
             "line": {
              "color": "white"
             }
            },
            "type": "table"
           }
          ],
          "barpolar": [
           {
            "marker": {
             "line": {
              "color": "#E5ECF6",
              "width": 0.5
             },
             "pattern": {
              "fillmode": "overlay",
              "size": 10,
              "solidity": 0.2
             }
            },
            "type": "barpolar"
           }
          ],
          "pie": [
           {
            "automargin": true,
            "type": "pie"
           }
          ]
         },
         "layout": {
          "autotypenumbers": "strict",
          "colorway": [
           "#636efa",
           "#EF553B",
           "#00cc96",
           "#ab63fa",
           "#FFA15A",
           "#19d3f3",
           "#FF6692",
           "#B6E880",
           "#FF97FF",
           "#FECB52"
          ],
          "font": {
           "color": "#2a3f5f"
          },
          "hovermode": "closest",
          "hoverlabel": {
           "align": "left"
          },
          "paper_bgcolor": "white",
          "plot_bgcolor": "#E5ECF6",
          "polar": {
           "bgcolor": "#E5ECF6",
           "angularaxis": {
            "gridcolor": "white",
            "linecolor": "white",
            "ticks": ""
           },
           "radialaxis": {
            "gridcolor": "white",
            "linecolor": "white",
            "ticks": ""
           }
          },
          "ternary": {
           "bgcolor": "#E5ECF6",
           "aaxis": {
            "gridcolor": "white",
            "linecolor": "white",
            "ticks": ""
           },
           "baxis": {
            "gridcolor": "white",
            "linecolor": "white",
            "ticks": ""
           },
           "caxis": {
            "gridcolor": "white",
            "linecolor": "white",
            "ticks": ""
           }
          },
          "coloraxis": {
           "colorbar": {
            "outlinewidth": 0,
            "ticks": ""
           }
          },
          "colorscale": {
           "sequential": [
            [
             0.0,
             "#0d0887"
            ],
            [
             0.1111111111111111,
             "#46039f"
            ],
            [
             0.2222222222222222,
             "#7201a8"
            ],
            [
             0.3333333333333333,
             "#9c179e"
            ],
            [
             0.4444444444444444,
             "#bd3786"
            ],
            [
             0.5555555555555556,
             "#d8576b"
            ],
            [
             0.6666666666666666,
             "#ed7953"
            ],
            [
             0.7777777777777778,
             "#fb9f3a"
            ],
            [
             0.8888888888888888,
             "#fdca26"
            ],
            [
             1.0,
             "#f0f921"
            ]
           ],
           "sequentialminus": [
            [
             0.0,
             "#0d0887"
            ],
            [
             0.1111111111111111,
             "#46039f"
            ],
            [
             0.2222222222222222,
             "#7201a8"
            ],
            [
             0.3333333333333333,
             "#9c179e"
            ],
            [
             0.4444444444444444,
             "#bd3786"
            ],
            [
             0.5555555555555556,
             "#d8576b"
            ],
            [
             0.6666666666666666,
             "#ed7953"
            ],
            [
             0.7777777777777778,
             "#fb9f3a"
            ],
            [
             0.8888888888888888,
             "#fdca26"
            ],
            [
             1.0,
             "#f0f921"
            ]
           ],
           "diverging": [
            [
             0,
             "#8e0152"
            ],
            [
             0.1,
             "#c51b7d"
            ],
            [
             0.2,
             "#de77ae"
            ],
            [
             0.3,
             "#f1b6da"
            ],
            [
             0.4,
             "#fde0ef"
            ],
            [
             0.5,
             "#f7f7f7"
            ],
            [
             0.6,
             "#e6f5d0"
            ],
            [
             0.7,
             "#b8e186"
            ],
            [
             0.8,
             "#7fbc41"
            ],
            [
             0.9,
             "#4d9221"
            ],
            [
             1,
             "#276419"
            ]
           ]
          },
          "xaxis": {
           "gridcolor": "white",
           "linecolor": "white",
           "ticks": "",
           "title": {
            "standoff": 15
           },
           "zerolinecolor": "white",
           "automargin": true,
           "zerolinewidth": 2
          },
          "yaxis": {
           "gridcolor": "white",
           "linecolor": "white",
           "ticks": "",
           "title": {
            "standoff": 15
           },
           "zerolinecolor": "white",
           "automargin": true,
           "zerolinewidth": 2
          },
          "scene": {
           "xaxis": {
            "backgroundcolor": "#E5ECF6",
            "gridcolor": "white",
            "linecolor": "white",
            "showbackground": true,
            "ticks": "",
            "zerolinecolor": "white",
            "gridwidth": 2
           },
           "yaxis": {
            "backgroundcolor": "#E5ECF6",
            "gridcolor": "white",
            "linecolor": "white",
            "showbackground": true,
            "ticks": "",
            "zerolinecolor": "white",
            "gridwidth": 2
           },
           "zaxis": {
            "backgroundcolor": "#E5ECF6",
            "gridcolor": "white",
            "linecolor": "white",
            "showbackground": true,
            "ticks": "",
            "zerolinecolor": "white",
            "gridwidth": 2
           }
          },
          "shapedefaults": {
           "line": {
            "color": "#2a3f5f"
           }
          },
          "annotationdefaults": {
           "arrowcolor": "#2a3f5f",
           "arrowhead": 0,
           "arrowwidth": 1
          },
          "geo": {
           "bgcolor": "white",
           "landcolor": "#E5ECF6",
           "subunitcolor": "white",
           "showland": true,
           "showlakes": true,
           "lakecolor": "white"
          },
          "title": {
           "x": 0.05
          },
          "mapbox": {
           "style": "light"
          }
         }
        },
        "xaxis": {
         "anchor": "y",
         "domain": [
          0.0,
          0.45
         ],
         "tickvals": [
          2008,
          2012,
          2016,
          2020
         ]
        },
        "yaxis": {
         "anchor": "x",
         "domain": [
          0.625,
          1.0
         ]
        },
        "xaxis2": {
         "anchor": "y2",
         "domain": [
          0.55,
          1.0
         ],
         "tickvals": [
          2008,
          2012,
          2016,
          2020
         ]
        },
        "yaxis2": {
         "anchor": "x2",
         "domain": [
          0.625,
          1.0
         ]
        },
        "xaxis3": {
         "anchor": "y3",
         "domain": [
          0.0,
          0.45
         ],
         "tickvals": [
          2008,
          2012,
          2016,
          2020
         ]
        },
        "yaxis3": {
         "anchor": "x3",
         "domain": [
          0.0,
          0.375
         ]
        },
        "xaxis4": {
         "anchor": "y4",
         "domain": [
          0.55,
          1.0
         ],
         "tickvals": [
          2008,
          2012,
          2016,
          2020
         ]
        },
        "yaxis4": {
         "anchor": "x4",
         "domain": [
          0.0,
          0.375
         ]
        },
        "annotations": [
         {
          "font": {
           "size": 16
          },
          "showarrow": false,
          "text": "Overlooked",
          "x": 0.225,
          "xanchor": "center",
          "xref": "paper",
          "y": 1.0,
          "yanchor": "bottom",
          "yref": "paper"
         },
         {
          "font": {
           "size": 16
          },
          "showarrow": false,
          "text": "Material",
          "x": 0.775,
          "xanchor": "center",
          "xref": "paper",
          "y": 1.0,
          "yanchor": "bottom",
          "yref": "paper"
         },
         {
          "font": {
           "size": 16
          },
          "showarrow": false,
          "text": "Providential",
          "x": 0.225,
          "xanchor": "center",
          "xref": "paper",
          "y": 0.375,
          "yanchor": "bottom",
          "yref": "paper"
         },
         {
          "font": {
           "size": 16
          },
          "showarrow": false,
          "text": "Other",
          "x": 0.775,
          "xanchor": "center",
          "xref": "paper",
          "y": 0.375,
          "yanchor": "bottom",
          "yref": "paper"
         }
        ],
        "title": {
         "text": "Scatter Plots for Foundational Types"
        },
        "height": 600,
        "width": 800,
        "showlegend": false
       },
       "config": {
        "plotlyServerURL": "https://plot.ly"
       }
      },
      "text/html": "<div>                            <div id=\"acb764ac-00c5-4987-9e48-f20d67ee93fa\" class=\"plotly-graph-div\" style=\"height:600px; width:800px;\"></div>            <script type=\"text/javascript\">                require([\"plotly\"], function(Plotly) {                    window.PLOTLYENV=window.PLOTLYENV || {};                                    if (document.getElementById(\"acb764ac-00c5-4987-9e48-f20d67ee93fa\")) {                    Plotly.newPlot(                        \"acb764ac-00c5-4987-9e48-f20d67ee93fa\",                        [{\"hovertext\":[\"AL\",\"AL\",\"AL\",\"AT\",\"AT\",\"AT\",\"AT\",\"BA\",\"BA\",\"BA\",\"BE\",\"BE\",\"BE\",\"BE\",\"BG\",\"BG\",\"BG\",\"BG\",\"CH\",\"CH\",\"CH\",\"CY\",\"CY\",\"CY\",\"CY\",\"CZ\",\"CZ\",\"CZ\",\"CZ\",\"DE\",\"DE\",\"DE\",\"DE\",\"DK\",\"DK\",\"DK\",\"DK\",\"EE\",\"EE\",\"EE\",\"EE\",\"ES\",\"ES\",\"ES\",\"ES\",\"FI\",\"FI\",\"FI\",\"FI\",\"FR\",\"FR\",\"FR\",\"FR\",\"HR\",\"HR\",\"HR\",\"HR\",\"HU\",\"HU\",\"HU\",\"HU\",\"IE\",\"IE\",\"IE\",\"IE\",\"IS\",\"IS\",\"IS\",\"IS\",\"IT\",\"IT\",\"IT\",\"IT\",\"LT\",\"LT\",\"LT\",\"LT\",\"LU\",\"LU\",\"LU\",\"LU\",\"LV\",\"LV\",\"LV\",\"LV\",\"ME\",\"ME\",\"MK\",\"MK\",\"MT\",\"MT\",\"MT\",\"MT\",\"NL\",\"NL\",\"NL\",\"NL\",\"NO\",\"NO\",\"NO\",\"NO\",\"PL\",\"PL\",\"PL\",\"PL\",\"PT\",\"PT\",\"PT\",\"PT\",\"RO\",\"RO\",\"RO\",\"RO\",\"RS\",\"RS\",\"RS\",\"SE\",\"SE\",\"SE\",\"SE\",\"SI\",\"SI\",\"SI\",\"SI\",\"SK\",\"SK\",\"SK\",\"SK\",\"TR\",\"TR\",\"TR\"],\"mode\":\"markers\",\"name\":\"Overlooked\",\"x\":[2012,2016,2020,2008,2012,2016,2020,2012,2016,2020,2008,2012,2016,2020,2008,2012,2016,2020,2012,2016,2020,2008,2012,2016,2020,2008,2012,2016,2020,2008,2012,2016,2020,2008,2012,2016,2020,2008,2012,2016,2020,2008,2012,2016,2020,2008,2012,2016,2020,2008,2012,2016,2020,2008,2012,2016,2020,2008,2012,2016,2020,2008,2012,2016,2020,2008,2012,2016,2020,2008,2012,2016,2020,2008,2012,2016,2020,2008,2012,2016,2020,2008,2012,2016,2020,2012,2016,2012,2016,2008,2012,2016,2020,2008,2012,2016,2020,2008,2012,2016,2020,2008,2012,2016,2020,2008,2012,2016,2020,2008,2012,2016,2020,2012,2016,2020,2008,2012,2016,2020,2008,2012,2016,2020,2008,2012,2016,2020,2012,2016,2020],\"y\":[-3.9010229683877724,-3.679517692622896,-2.6062842152138668,-3.5699245306421297,-3.5520812784082474,-3.5966290380326607,-3.634382252670106,-3.7821039821496747,-3.9153853815690596,-3.891093605053097,-4.161259975390014,-4.053481832308898,-4.167422368047428,-4.235566157990398,-3.613815792083846,-3.727059310067767,-3.7699741505763646,-3.966329924403109,-4.050578254033103,-4.120148353687895,-4.116515289688896,-3.6514096688422293,-3.533457772917389,-3.685318945473557,-3.715853626816347,-4.072786251811334,-4.186476695009861,-4.238153361356663,-4.299079872479237,-4.323066270248828,-4.342112890404644,-4.374171610050363,-4.379607020116735,-4.241770395537773,-4.4689194059729065,-4.4070963457191255,-4.449377680678674,-3.6877889128020844,-3.7898792794779324,-3.6971853140289963,-3.817614560507323,-3.748626733886586,-3.937694154009068,-3.9570010364134602,-3.969472267933811,-4.094638048970672,-4.20795154269392,-4.217622728737406,-4.315459894402065,-4.022150928098997,-4.242130976927013,-4.238909222729782,-4.330791864672723,-3.8645135781205115,-3.952001396020735,-3.8704281399453966,-3.927591438297684,-4.149970648487374,-4.297763201760045,-4.318570802758794,-4.334981500510652,-3.8454486173276945,-4.158828572995411,-3.982739253588221,-4.144243636162583,-5.205877326427495,-5.105195556053155,-4.805770689016129,-4.218072129945891,-3.7045837813694638,-4.03171885674625,-4.099819504201374,-4.121543029659258,-3.743450949519511,-3.8816887588333984,-3.8284465067615785,-3.8799750074993464,-3.961279296848622,-3.8516955089096294,-3.825511572212131,-3.782787915538856,-3.813729227588841,-3.956124073230867,-3.966096740568745,-3.982770397816838,-3.999487228656494,-4.11769120947691,-3.491941509795487,-3.628595237264278,-3.6471521927639543,-3.60304051829986,-3.781639744883881,-4.1290269320015245,-4.37197130940568,-4.388993608655548,-4.41416045860697,-4.418025505599386,-4.07798514677985,-3.9220211050743705,-3.997568004426931,-3.949631538212188,-4.070601877377541,-4.233467070118931,-4.240521810422415,-4.247111271015667,-3.6434140155686867,-3.7394665763374633,-3.7193227271048537,-3.798375500605257,-3.6984349347493115,-3.820736134549009,-3.82047213930671,-3.9569980134699216,-4.1808446724285115,-4.1190384746180655,-4.032903322698238,-4.001517327703519,-4.013713133035457,-4.010183917315255,-4.233500591204541,-3.7994774188274656,-4.087682771908373,-4.168623089853393,-4.187946268723722,-3.980891096945357,-4.262842237096201,-4.239386248916356,-4.292215959990915,-3.2484228094030327,-3.4067095363992355,-4.46533132251242],\"type\":\"scatter\",\"xaxis\":\"x\",\"yaxis\":\"y\"},{\"hovertext\":[\"AL\",\"AL\",\"AL\",\"AT\",\"AT\",\"AT\",\"AT\",\"BA\",\"BA\",\"BA\",\"BE\",\"BE\",\"BE\",\"BE\",\"BG\",\"BG\",\"BG\",\"BG\",\"CH\",\"CH\",\"CH\",\"CY\",\"CY\",\"CY\",\"CY\",\"CZ\",\"CZ\",\"CZ\",\"CZ\",\"DE\",\"DE\",\"DE\",\"DE\",\"DK\",\"DK\",\"DK\",\"DK\",\"EE\",\"EE\",\"EE\",\"EE\",\"ES\",\"ES\",\"ES\",\"ES\",\"FI\",\"FI\",\"FI\",\"FI\",\"FR\",\"FR\",\"FR\",\"FR\",\"HR\",\"HR\",\"HR\",\"HR\",\"HU\",\"HU\",\"HU\",\"HU\",\"IE\",\"IE\",\"IE\",\"IE\",\"IS\",\"IS\",\"IS\",\"IS\",\"IT\",\"IT\",\"IT\",\"IT\",\"LT\",\"LT\",\"LT\",\"LT\",\"LU\",\"LU\",\"LU\",\"LU\",\"LV\",\"LV\",\"LV\",\"LV\",\"ME\",\"ME\",\"MK\",\"MK\",\"MT\",\"MT\",\"MT\",\"MT\",\"NL\",\"NL\",\"NL\",\"NL\",\"NO\",\"NO\",\"NO\",\"NO\",\"PL\",\"PL\",\"PL\",\"PL\",\"PT\",\"PT\",\"PT\",\"PT\",\"RO\",\"RO\",\"RO\",\"RO\",\"RS\",\"RS\",\"RS\",\"SE\",\"SE\",\"SE\",\"SE\",\"SI\",\"SI\",\"SI\",\"SI\",\"SK\",\"SK\",\"SK\",\"SK\",\"TR\",\"TR\",\"TR\"],\"mode\":\"markers\",\"name\":\"Material\",\"x\":[2012,2016,2020,2008,2012,2016,2020,2012,2016,2020,2008,2012,2016,2020,2008,2012,2016,2020,2012,2016,2020,2008,2012,2016,2020,2008,2012,2016,2020,2008,2012,2016,2020,2008,2012,2016,2020,2008,2012,2016,2020,2008,2012,2016,2020,2008,2012,2016,2020,2008,2012,2016,2020,2008,2012,2016,2020,2008,2012,2016,2020,2008,2012,2016,2020,2008,2012,2016,2020,2008,2012,2016,2020,2008,2012,2016,2020,2008,2012,2016,2020,2008,2012,2016,2020,2012,2016,2012,2016,2008,2012,2016,2020,2008,2012,2016,2020,2008,2012,2016,2020,2008,2012,2016,2020,2008,2012,2016,2020,2008,2012,2016,2020,2012,2016,2020,2008,2012,2016,2020,2008,2012,2016,2020,2008,2012,2016,2020,2012,2016,2020],\"y\":[-3.7129735265224446,-4.4887385702341795,-3.813517508640255,-3.6771274972658308,-3.6638726843963645,-3.6975814010546553,-3.7333827871939,-3.182336041587089,-3.523880332225729,-3.580080828026315,-3.659326286985661,-3.7755695971720136,-3.705533245434067,-3.6829622352867006,-3.618018086239778,-3.594351352195701,-3.6241867364153397,-3.6438481053101617,-4.103500022811019,-4.090400771244933,-4.088382336844957,-3.5886166439006124,-3.7053793852398207,-3.936495375070826,-3.9558993311439545,-3.717941984731181,-3.7384685069628842,-3.774043544816068,-3.7785871157623245,-3.9781402508584445,-4.04384607608865,-4.027536265401971,-4.0210557717911355,-3.934717745043766,-4.2452825880442235,-4.142272770834683,-4.164159442368719,-3.826499353125661,-3.7846035073285718,-3.8026881585079604,-3.8000088486388894,-4.031347888595701,-4.048742760595857,-4.057915355603691,-4.0849306683042865,-4.140766768078676,-4.142974250818875,-4.091054042722408,-4.245066008865165,-4.041738021849127,-3.9612813759857772,-4.031392595900592,-4.046069101708189,-3.5867587276004618,-3.7348304039742213,-3.792591813845854,-3.7846297125915656,-3.702749796137752,-3.735337327453836,-3.797179630757137,-3.788345276702706,-4.196525335571262,-4.2060439882830165,-4.156356589065648,-4.199773143522459,-3.7612403453172636,-3.6027425681375007,-3.3242587944255018,-3.4971174071243785,-3.6425835403325557,-3.900241150731446,-3.8748350279472557,-3.8750040635160854,-3.6301829004844395,-3.6175172538345386,-3.6388358889402337,-3.523043387053272,-5.281895535568008,-3.65727385737318,-3.639645288415181,-3.671091999557783,-3.6351000740288804,-3.5556267444871135,-3.6875140735860104,-3.616312096474585,-3.7904752276169615,-3.869929568368808,-3.739247960048409,-3.6891059143545477,-4.168142288964461,-5.091706468251095,-4.185626775842702,-4.259946845338077,-4.14436896719464,-4.131148565979959,-4.227947624871234,-4.179091751259495,-3.6120158414270276,-3.3121557252004026,-3.5636156072434884,-3.7113530856781374,-3.549219522698912,-3.644597707964816,-3.6901052068778664,-3.7385979406154317,-4.082404148276186,-4.143876675224968,-4.091686188663694,-4.092552363145523,-3.5473397032945493,-3.555537216653717,-3.6395899936734444,-3.678347448455441,-3.5071963355618445,-3.529862917645177,-3.624673154797008,-3.8734456186954733,-3.950966825322009,-3.965328232202296,-4.225631007546877,-3.8366045320126205,-3.921920327808067,-3.930011436235603,-3.9168191238833248,-3.7761753752538136,-3.695958827297438,-3.7749420920759054,-3.79920474892743,-3.4886055961841738,-3.8882881457747174,-4.947308427095823],\"type\":\"scatter\",\"xaxis\":\"x2\",\"yaxis\":\"y2\"},{\"hovertext\":[\"AL\",\"AL\",\"AL\",\"AT\",\"AT\",\"AT\",\"AT\",\"BA\",\"BA\",\"BA\",\"BE\",\"BE\",\"BE\",\"BE\",\"BG\",\"BG\",\"BG\",\"BG\",\"CH\",\"CH\",\"CH\",\"CY\",\"CY\",\"CY\",\"CY\",\"CZ\",\"CZ\",\"CZ\",\"CZ\",\"DE\",\"DE\",\"DE\",\"DE\",\"DK\",\"DK\",\"DK\",\"DK\",\"EE\",\"EE\",\"EE\",\"EE\",\"ES\",\"ES\",\"ES\",\"ES\",\"FI\",\"FI\",\"FI\",\"FI\",\"FR\",\"FR\",\"FR\",\"FR\",\"HR\",\"HR\",\"HR\",\"HR\",\"HU\",\"HU\",\"HU\",\"HU\",\"IE\",\"IE\",\"IE\",\"IE\",\"IS\",\"IS\",\"IS\",\"IS\",\"IT\",\"IT\",\"IT\",\"IT\",\"LT\",\"LT\",\"LT\",\"LT\",\"LU\",\"LU\",\"LU\",\"LU\",\"LV\",\"LV\",\"LV\",\"LV\",\"ME\",\"ME\",\"MK\",\"MK\",\"MT\",\"MT\",\"MT\",\"MT\",\"NL\",\"NL\",\"NL\",\"NL\",\"NO\",\"NO\",\"NO\",\"NO\",\"PL\",\"PL\",\"PL\",\"PL\",\"PT\",\"PT\",\"PT\",\"PT\",\"RO\",\"RO\",\"RO\",\"RO\",\"RS\",\"RS\",\"RS\",\"SE\",\"SE\",\"SE\",\"SE\",\"SI\",\"SI\",\"SI\",\"SI\",\"SK\",\"SK\",\"SK\",\"SK\",\"TR\",\"TR\",\"TR\"],\"mode\":\"markers\",\"name\":\"Providential\",\"x\":[2012,2016,2020,2008,2012,2016,2020,2012,2016,2020,2008,2012,2016,2020,2008,2012,2016,2020,2012,2016,2020,2008,2012,2016,2020,2008,2012,2016,2020,2008,2012,2016,2020,2008,2012,2016,2020,2008,2012,2016,2020,2008,2012,2016,2020,2008,2012,2016,2020,2008,2012,2016,2020,2008,2012,2016,2020,2008,2012,2016,2020,2008,2012,2016,2020,2008,2012,2016,2020,2008,2012,2016,2020,2008,2012,2016,2020,2008,2012,2016,2020,2008,2012,2016,2020,2012,2016,2012,2016,2008,2012,2016,2020,2008,2012,2016,2020,2008,2012,2016,2020,2008,2012,2016,2020,2008,2012,2016,2020,2008,2012,2016,2020,2012,2016,2020,2008,2012,2016,2020,2008,2012,2016,2020,2008,2012,2016,2020,2012,2016,2020],\"y\":[-2.763731185706195,-3.444196940600946,-3.377975677252334,-3.8507131101172103,-3.9910426217632575,-3.919681050653623,-3.876522411294867,-3.3276379511955283,-3.112525746364644,-3.157558149336164,-2.9633864155450698,-3.0609991512102583,-3.0220936605262905,-3.010701669966958,-3.547439473403761,-3.464430480336152,-3.4929728006114478,-3.4555077096708873,-3.30724888823108,-3.342804332312006,-3.310766253420404,-3.3096919007410857,-4.346204038196829,-3.282590389450964,-3.270789374545544,-3.4593042619310346,-3.389732920059916,-3.415177291677659,-3.3609525225198604,-3.2961265839859935,-3.3202583478292755,-3.2624976915571695,-3.2326453778608544,-3.048862612966059,-2.9047181517349587,-2.9297261443794698,-2.9326053644211507,-3.3016787083060604,-3.190156037960123,-3.2536913713858056,-3.225342747677927,-3.4001120256626933,-3.2283465245448584,-3.212479772733844,-3.2070870265240647,-3.099125826504748,-3.0226091275400466,-2.9265021900589137,-2.9411451675096703,-3.440078870517078,-3.00012953787845,-2.974216598799463,-3.003940533925632,-3.3073879081160773,-3.1831945791694745,-3.201610243365208,-3.206093675167779,-3.1622358416817664,-3.0645010305926066,-3.008522740295548,-3.1235762178427944,-3.2180457095347923,-3.0888845565527037,-3.149475660175807,-3.089764992349982,-2.86291300954164,-2.836687236226155,-2.758661995101421,-2.7168847321282636,-3.329445782646456,-3.0502728277753697,-3.0505090251733917,-3.095008877829199,-3.188283238433203,-3.0658532578496143,-3.150726410677866,-3.2137598710370248,-5.020868242949295,-4.096777590984762,-4.030137521535477,-4.0087137572124885,-3.223185376682441,-3.1221212747224767,-3.1140975376177265,-3.1171332612293234,-2.813711436159339,-2.8898363279786605,-3.1555408354991257,-3.1501056007354484,-3.3601003218121503,-4.32324501930383,-3.5073390731478145,-3.1243558445916952,-3.1391712719159237,-3.084906032468568,-3.130474541661144,-3.1260358053028656,-3.728541971368445,-3.581649817862498,-3.715959615034034,-3.8983392506260843,-3.4140277534414487,-3.1767757087621225,-3.2228734855482806,-3.212839226682399,-3.1251109354584736,-2.9824907873658058,-3.0767689476117575,-3.077162276939574,-3.424911549834939,-3.436202456315016,-3.467742869521614,-3.4332947189664593,-3.0546801219991537,-3.1443054593953987,-3.263887351963719,-2.9238359869651243,-2.807532054570716,-2.8158892539289804,-2.8823891066884086,-3.4005939248290926,-3.2281184536118137,-3.228896335398345,-3.235652876644101,-4.639089478653564,-3.30065227661645,-3.308813986742939,-3.256913582039223,-4.040996286272999,-4.180276879002628,-3.873454723563931],\"type\":\"scatter\",\"xaxis\":\"x3\",\"yaxis\":\"y3\"},{\"hovertext\":[\"AL\",\"AL\",\"AL\",\"AT\",\"AT\",\"AT\",\"AT\",\"BA\",\"BA\",\"BA\",\"BE\",\"BE\",\"BE\",\"BE\",\"BG\",\"BG\",\"BG\",\"BG\",\"CH\",\"CH\",\"CH\",\"CY\",\"CY\",\"CY\",\"CY\",\"CZ\",\"CZ\",\"CZ\",\"CZ\",\"DE\",\"DE\",\"DE\",\"DE\",\"DK\",\"DK\",\"DK\",\"DK\",\"EE\",\"EE\",\"EE\",\"EE\",\"ES\",\"ES\",\"ES\",\"ES\",\"FI\",\"FI\",\"FI\",\"FI\",\"FR\",\"FR\",\"FR\",\"FR\",\"HR\",\"HR\",\"HR\",\"HR\",\"HU\",\"HU\",\"HU\",\"HU\",\"IE\",\"IE\",\"IE\",\"IE\",\"IS\",\"IS\",\"IS\",\"IS\",\"IT\",\"IT\",\"IT\",\"IT\",\"LT\",\"LT\",\"LT\",\"LT\",\"LU\",\"LU\",\"LU\",\"LU\",\"LV\",\"LV\",\"LV\",\"LV\",\"ME\",\"ME\",\"MK\",\"MK\",\"MT\",\"MT\",\"MT\",\"MT\",\"NL\",\"NL\",\"NL\",\"NL\",\"NO\",\"NO\",\"NO\",\"NO\",\"PL\",\"PL\",\"PL\",\"PL\",\"PT\",\"PT\",\"PT\",\"PT\",\"RO\",\"RO\",\"RO\",\"RO\",\"RS\",\"RS\",\"RS\",\"SE\",\"SE\",\"SE\",\"SE\",\"SI\",\"SI\",\"SI\",\"SI\",\"SK\",\"SK\",\"SK\",\"SK\",\"TR\",\"TR\",\"TR\"],\"mode\":\"markers\",\"name\":\"Other\",\"x\":[2012,2016,2020,2008,2012,2016,2020,2012,2016,2020,2008,2012,2016,2020,2008,2012,2016,2020,2012,2016,2020,2008,2012,2016,2020,2008,2012,2016,2020,2008,2012,2016,2020,2008,2012,2016,2020,2008,2012,2016,2020,2008,2012,2016,2020,2008,2012,2016,2020,2008,2012,2016,2020,2008,2012,2016,2020,2008,2012,2016,2020,2008,2012,2016,2020,2008,2012,2016,2020,2008,2012,2016,2020,2008,2012,2016,2020,2008,2012,2016,2020,2008,2012,2016,2020,2012,2016,2012,2016,2008,2012,2016,2020,2008,2012,2016,2020,2008,2012,2016,2020,2008,2012,2016,2020,2008,2012,2016,2020,2008,2012,2016,2020,2012,2016,2020,2008,2012,2016,2020,2008,2012,2016,2020,2008,2012,2016,2020,2012,2016,2020],\"y\":[-3.197966059398629,-4.186049376003636,-1.9381643317555506,-2.4623110208838765,-2.4487986919412394,-2.4422450499551918,-2.4230286542892543,-2.7366487186919244,-2.9767924852745855,-2.9284839398249995,-2.625857074576707,-2.553982199119744,-2.578782896126101,-2.5795660161026763,-2.8343896917906637,-2.857776175509426,-2.820145156877685,-2.7638893730592,-2.6747077536240615,-2.6786286267665647,-2.671211201140878,-2.9571965846821353,-2.7164362284458474,-2.9333734142310193,-2.8550064763522482,-2.669094630924916,-2.67112346834985,-2.6395599475063287,-2.651281349309652,-2.617854680995306,-2.598979593600991,-2.630362835375165,-2.6520232023916743,-2.8308967900361313,-2.861487703029204,-2.837285487177738,-2.8181512645580207,-2.8995434679989414,-2.935824166900927,-2.9088932406446206,-2.8920941319142215,-2.696171521030305,-2.7443671111562975,-2.7576438677929893,-2.754300771901732,-2.843143933952,-2.812489060919161,-2.87765675973344,-2.8204491263626954,-2.668666635580672,-2.836693577675916,-2.8433745168571165,-2.802606008830294,-2.847536097895248,-2.945672015772843,-2.9160391714191407,-2.8508533012952983,-2.8079514371599985,-2.827412803795295,-2.8466857215231345,-2.772156023962702,-2.770882120358074,-2.7913216828953415,-2.785536708569171,-2.7738162487322056,-2.9521126962599356,-3.075498309350903,-2.930810260982165,-3.086595286065542,-2.5679184974047975,-2.8339093252691328,-2.83790147710681,-2.80762475084037,-2.993067802456032,-3.108547760297019,-3.009989022434741,-3.009794677250743,-3.6277162125081888,-2.411256060060401,-2.410890507750827,-2.406217622549304,-2.931002607354606,-3.0021300359852403,-3.0142144453905835,-2.9678938591090995,-2.930996851383959,-3.0141290041882804,-3.033506689788695,-2.9823632838577425,-2.531037416488137,-2.7379071246038933,-2.7270752763521173,-2.713257555616073,-2.6883583265988973,-2.7274799234106237,-2.688253729212387,-2.68987574117927,-2.7103192351148557,-2.5699758868785376,-2.7433241288952654,-2.8133581636637017,-2.7910585883718886,-2.8403898509355745,-2.7871549111547864,-2.78456848563303,-2.9737688196903767,-2.921190241478505,-2.902551412768409,-2.8623915238329927,-2.8705379395419404,-2.8361468360887176,-2.788194047436915,-2.7495548719825766,-2.9770191770217376,-2.9252425585812896,-2.8169139772399756,-2.5906897748364517,-2.6403255705399067,-2.635200308343611,-2.8770261451947143,-2.7476121955338044,-2.7421674106107585,-2.722578277578726,-2.731608519336069,-2.721981512463074,-2.721159208589966,-2.70410981278016,-2.716149697102064,-2.626866251283098,-2.705562040751704,-3.3638232222034303],\"type\":\"scatter\",\"xaxis\":\"x4\",\"yaxis\":\"y4\"}],                        {\"template\":{\"data\":{\"histogram2dcontour\":[{\"type\":\"histogram2dcontour\",\"colorbar\":{\"outlinewidth\":0,\"ticks\":\"\"},\"colorscale\":[[0.0,\"#0d0887\"],[0.1111111111111111,\"#46039f\"],[0.2222222222222222,\"#7201a8\"],[0.3333333333333333,\"#9c179e\"],[0.4444444444444444,\"#bd3786\"],[0.5555555555555556,\"#d8576b\"],[0.6666666666666666,\"#ed7953\"],[0.7777777777777778,\"#fb9f3a\"],[0.8888888888888888,\"#fdca26\"],[1.0,\"#f0f921\"]]}],\"choropleth\":[{\"type\":\"choropleth\",\"colorbar\":{\"outlinewidth\":0,\"ticks\":\"\"}}],\"histogram2d\":[{\"type\":\"histogram2d\",\"colorbar\":{\"outlinewidth\":0,\"ticks\":\"\"},\"colorscale\":[[0.0,\"#0d0887\"],[0.1111111111111111,\"#46039f\"],[0.2222222222222222,\"#7201a8\"],[0.3333333333333333,\"#9c179e\"],[0.4444444444444444,\"#bd3786\"],[0.5555555555555556,\"#d8576b\"],[0.6666666666666666,\"#ed7953\"],[0.7777777777777778,\"#fb9f3a\"],[0.8888888888888888,\"#fdca26\"],[1.0,\"#f0f921\"]]}],\"heatmap\":[{\"type\":\"heatmap\",\"colorbar\":{\"outlinewidth\":0,\"ticks\":\"\"},\"colorscale\":[[0.0,\"#0d0887\"],[0.1111111111111111,\"#46039f\"],[0.2222222222222222,\"#7201a8\"],[0.3333333333333333,\"#9c179e\"],[0.4444444444444444,\"#bd3786\"],[0.5555555555555556,\"#d8576b\"],[0.6666666666666666,\"#ed7953\"],[0.7777777777777778,\"#fb9f3a\"],[0.8888888888888888,\"#fdca26\"],[1.0,\"#f0f921\"]]}],\"heatmapgl\":[{\"type\":\"heatmapgl\",\"colorbar\":{\"outlinewidth\":0,\"ticks\":\"\"},\"colorscale\":[[0.0,\"#0d0887\"],[0.1111111111111111,\"#46039f\"],[0.2222222222222222,\"#7201a8\"],[0.3333333333333333,\"#9c179e\"],[0.4444444444444444,\"#bd3786\"],[0.5555555555555556,\"#d8576b\"],[0.6666666666666666,\"#ed7953\"],[0.7777777777777778,\"#fb9f3a\"],[0.8888888888888888,\"#fdca26\"],[1.0,\"#f0f921\"]]}],\"contourcarpet\":[{\"type\":\"contourcarpet\",\"colorbar\":{\"outlinewidth\":0,\"ticks\":\"\"}}],\"contour\":[{\"type\":\"contour\",\"colorbar\":{\"outlinewidth\":0,\"ticks\":\"\"},\"colorscale\":[[0.0,\"#0d0887\"],[0.1111111111111111,\"#46039f\"],[0.2222222222222222,\"#7201a8\"],[0.3333333333333333,\"#9c179e\"],[0.4444444444444444,\"#bd3786\"],[0.5555555555555556,\"#d8576b\"],[0.6666666666666666,\"#ed7953\"],[0.7777777777777778,\"#fb9f3a\"],[0.8888888888888888,\"#fdca26\"],[1.0,\"#f0f921\"]]}],\"surface\":[{\"type\":\"surface\",\"colorbar\":{\"outlinewidth\":0,\"ticks\":\"\"},\"colorscale\":[[0.0,\"#0d0887\"],[0.1111111111111111,\"#46039f\"],[0.2222222222222222,\"#7201a8\"],[0.3333333333333333,\"#9c179e\"],[0.4444444444444444,\"#bd3786\"],[0.5555555555555556,\"#d8576b\"],[0.6666666666666666,\"#ed7953\"],[0.7777777777777778,\"#fb9f3a\"],[0.8888888888888888,\"#fdca26\"],[1.0,\"#f0f921\"]]}],\"mesh3d\":[{\"type\":\"mesh3d\",\"colorbar\":{\"outlinewidth\":0,\"ticks\":\"\"}}],\"scatter\":[{\"fillpattern\":{\"fillmode\":\"overlay\",\"size\":10,\"solidity\":0.2},\"type\":\"scatter\"}],\"parcoords\":[{\"type\":\"parcoords\",\"line\":{\"colorbar\":{\"outlinewidth\":0,\"ticks\":\"\"}}}],\"scatterpolargl\":[{\"type\":\"scatterpolargl\",\"marker\":{\"colorbar\":{\"outlinewidth\":0,\"ticks\":\"\"}}}],\"bar\":[{\"error_x\":{\"color\":\"#2a3f5f\"},\"error_y\":{\"color\":\"#2a3f5f\"},\"marker\":{\"line\":{\"color\":\"#E5ECF6\",\"width\":0.5},\"pattern\":{\"fillmode\":\"overlay\",\"size\":10,\"solidity\":0.2}},\"type\":\"bar\"}],\"scattergeo\":[{\"type\":\"scattergeo\",\"marker\":{\"colorbar\":{\"outlinewidth\":0,\"ticks\":\"\"}}}],\"scatterpolar\":[{\"type\":\"scatterpolar\",\"marker\":{\"colorbar\":{\"outlinewidth\":0,\"ticks\":\"\"}}}],\"histogram\":[{\"marker\":{\"pattern\":{\"fillmode\":\"overlay\",\"size\":10,\"solidity\":0.2}},\"type\":\"histogram\"}],\"scattergl\":[{\"type\":\"scattergl\",\"marker\":{\"colorbar\":{\"outlinewidth\":0,\"ticks\":\"\"}}}],\"scatter3d\":[{\"type\":\"scatter3d\",\"line\":{\"colorbar\":{\"outlinewidth\":0,\"ticks\":\"\"}},\"marker\":{\"colorbar\":{\"outlinewidth\":0,\"ticks\":\"\"}}}],\"scattermapbox\":[{\"type\":\"scattermapbox\",\"marker\":{\"colorbar\":{\"outlinewidth\":0,\"ticks\":\"\"}}}],\"scatterternary\":[{\"type\":\"scatterternary\",\"marker\":{\"colorbar\":{\"outlinewidth\":0,\"ticks\":\"\"}}}],\"scattercarpet\":[{\"type\":\"scattercarpet\",\"marker\":{\"colorbar\":{\"outlinewidth\":0,\"ticks\":\"\"}}}],\"carpet\":[{\"aaxis\":{\"endlinecolor\":\"#2a3f5f\",\"gridcolor\":\"white\",\"linecolor\":\"white\",\"minorgridcolor\":\"white\",\"startlinecolor\":\"#2a3f5f\"},\"baxis\":{\"endlinecolor\":\"#2a3f5f\",\"gridcolor\":\"white\",\"linecolor\":\"white\",\"minorgridcolor\":\"white\",\"startlinecolor\":\"#2a3f5f\"},\"type\":\"carpet\"}],\"table\":[{\"cells\":{\"fill\":{\"color\":\"#EBF0F8\"},\"line\":{\"color\":\"white\"}},\"header\":{\"fill\":{\"color\":\"#C8D4E3\"},\"line\":{\"color\":\"white\"}},\"type\":\"table\"}],\"barpolar\":[{\"marker\":{\"line\":{\"color\":\"#E5ECF6\",\"width\":0.5},\"pattern\":{\"fillmode\":\"overlay\",\"size\":10,\"solidity\":0.2}},\"type\":\"barpolar\"}],\"pie\":[{\"automargin\":true,\"type\":\"pie\"}]},\"layout\":{\"autotypenumbers\":\"strict\",\"colorway\":[\"#636efa\",\"#EF553B\",\"#00cc96\",\"#ab63fa\",\"#FFA15A\",\"#19d3f3\",\"#FF6692\",\"#B6E880\",\"#FF97FF\",\"#FECB52\"],\"font\":{\"color\":\"#2a3f5f\"},\"hovermode\":\"closest\",\"hoverlabel\":{\"align\":\"left\"},\"paper_bgcolor\":\"white\",\"plot_bgcolor\":\"#E5ECF6\",\"polar\":{\"bgcolor\":\"#E5ECF6\",\"angularaxis\":{\"gridcolor\":\"white\",\"linecolor\":\"white\",\"ticks\":\"\"},\"radialaxis\":{\"gridcolor\":\"white\",\"linecolor\":\"white\",\"ticks\":\"\"}},\"ternary\":{\"bgcolor\":\"#E5ECF6\",\"aaxis\":{\"gridcolor\":\"white\",\"linecolor\":\"white\",\"ticks\":\"\"},\"baxis\":{\"gridcolor\":\"white\",\"linecolor\":\"white\",\"ticks\":\"\"},\"caxis\":{\"gridcolor\":\"white\",\"linecolor\":\"white\",\"ticks\":\"\"}},\"coloraxis\":{\"colorbar\":{\"outlinewidth\":0,\"ticks\":\"\"}},\"colorscale\":{\"sequential\":[[0.0,\"#0d0887\"],[0.1111111111111111,\"#46039f\"],[0.2222222222222222,\"#7201a8\"],[0.3333333333333333,\"#9c179e\"],[0.4444444444444444,\"#bd3786\"],[0.5555555555555556,\"#d8576b\"],[0.6666666666666666,\"#ed7953\"],[0.7777777777777778,\"#fb9f3a\"],[0.8888888888888888,\"#fdca26\"],[1.0,\"#f0f921\"]],\"sequentialminus\":[[0.0,\"#0d0887\"],[0.1111111111111111,\"#46039f\"],[0.2222222222222222,\"#7201a8\"],[0.3333333333333333,\"#9c179e\"],[0.4444444444444444,\"#bd3786\"],[0.5555555555555556,\"#d8576b\"],[0.6666666666666666,\"#ed7953\"],[0.7777777777777778,\"#fb9f3a\"],[0.8888888888888888,\"#fdca26\"],[1.0,\"#f0f921\"]],\"diverging\":[[0,\"#8e0152\"],[0.1,\"#c51b7d\"],[0.2,\"#de77ae\"],[0.3,\"#f1b6da\"],[0.4,\"#fde0ef\"],[0.5,\"#f7f7f7\"],[0.6,\"#e6f5d0\"],[0.7,\"#b8e186\"],[0.8,\"#7fbc41\"],[0.9,\"#4d9221\"],[1,\"#276419\"]]},\"xaxis\":{\"gridcolor\":\"white\",\"linecolor\":\"white\",\"ticks\":\"\",\"title\":{\"standoff\":15},\"zerolinecolor\":\"white\",\"automargin\":true,\"zerolinewidth\":2},\"yaxis\":{\"gridcolor\":\"white\",\"linecolor\":\"white\",\"ticks\":\"\",\"title\":{\"standoff\":15},\"zerolinecolor\":\"white\",\"automargin\":true,\"zerolinewidth\":2},\"scene\":{\"xaxis\":{\"backgroundcolor\":\"#E5ECF6\",\"gridcolor\":\"white\",\"linecolor\":\"white\",\"showbackground\":true,\"ticks\":\"\",\"zerolinecolor\":\"white\",\"gridwidth\":2},\"yaxis\":{\"backgroundcolor\":\"#E5ECF6\",\"gridcolor\":\"white\",\"linecolor\":\"white\",\"showbackground\":true,\"ticks\":\"\",\"zerolinecolor\":\"white\",\"gridwidth\":2},\"zaxis\":{\"backgroundcolor\":\"#E5ECF6\",\"gridcolor\":\"white\",\"linecolor\":\"white\",\"showbackground\":true,\"ticks\":\"\",\"zerolinecolor\":\"white\",\"gridwidth\":2}},\"shapedefaults\":{\"line\":{\"color\":\"#2a3f5f\"}},\"annotationdefaults\":{\"arrowcolor\":\"#2a3f5f\",\"arrowhead\":0,\"arrowwidth\":1},\"geo\":{\"bgcolor\":\"white\",\"landcolor\":\"#E5ECF6\",\"subunitcolor\":\"white\",\"showland\":true,\"showlakes\":true,\"lakecolor\":\"white\"},\"title\":{\"x\":0.05},\"mapbox\":{\"style\":\"light\"}}},\"xaxis\":{\"anchor\":\"y\",\"domain\":[0.0,0.45],\"tickvals\":[2008,2012,2016,2020]},\"yaxis\":{\"anchor\":\"x\",\"domain\":[0.625,1.0]},\"xaxis2\":{\"anchor\":\"y2\",\"domain\":[0.55,1.0],\"tickvals\":[2008,2012,2016,2020]},\"yaxis2\":{\"anchor\":\"x2\",\"domain\":[0.625,1.0]},\"xaxis3\":{\"anchor\":\"y3\",\"domain\":[0.0,0.45],\"tickvals\":[2008,2012,2016,2020]},\"yaxis3\":{\"anchor\":\"x3\",\"domain\":[0.0,0.375]},\"xaxis4\":{\"anchor\":\"y4\",\"domain\":[0.55,1.0],\"tickvals\":[2008,2012,2016,2020]},\"yaxis4\":{\"anchor\":\"x4\",\"domain\":[0.0,0.375]},\"annotations\":[{\"font\":{\"size\":16},\"showarrow\":false,\"text\":\"Overlooked\",\"x\":0.225,\"xanchor\":\"center\",\"xref\":\"paper\",\"y\":1.0,\"yanchor\":\"bottom\",\"yref\":\"paper\"},{\"font\":{\"size\":16},\"showarrow\":false,\"text\":\"Material\",\"x\":0.775,\"xanchor\":\"center\",\"xref\":\"paper\",\"y\":1.0,\"yanchor\":\"bottom\",\"yref\":\"paper\"},{\"font\":{\"size\":16},\"showarrow\":false,\"text\":\"Providential\",\"x\":0.225,\"xanchor\":\"center\",\"xref\":\"paper\",\"y\":0.375,\"yanchor\":\"bottom\",\"yref\":\"paper\"},{\"font\":{\"size\":16},\"showarrow\":false,\"text\":\"Other\",\"x\":0.775,\"xanchor\":\"center\",\"xref\":\"paper\",\"y\":0.375,\"yanchor\":\"bottom\",\"yref\":\"paper\"}],\"title\":{\"text\":\"Scatter Plots for Foundational Types\"},\"height\":600,\"width\":800,\"showlegend\":false},                        {\"responsive\": true}                    ).then(function(){\n                            \nvar gd = document.getElementById('acb764ac-00c5-4987-9e48-f20d67ee93fa');\nvar x = new MutationObserver(function (mutations, observer) {{\n        var display = window.getComputedStyle(gd).display;\n        if (!display || display === 'none') {{\n            console.log([gd, 'removed!']);\n            Plotly.purge(gd);\n            observer.disconnect();\n        }}\n}});\n\n// Listen for the removal of the full notebook cells\nvar notebookContainer = gd.closest('#notebook-container');\nif (notebookContainer) {{\n    x.observe(notebookContainer, {childList: true});\n}}\n\n// Listen for the clearing of the current output cell\nvar outputEl = gd.closest('.output');\nif (outputEl) {{\n    x.observe(outputEl, {childList: true});\n}}\n\n                        })                };                });            </script>        </div>"
     },
     "metadata": {},
     "output_type": "display_data"
    }
   ],
   "source": [
    "import plotly.graph_objects as go\n",
    "from plotly.subplots import make_subplots\n",
    "time_period_col = foundational_df_transformed['TIME_PERIOD']\n",
    "fig = make_subplots(rows=2, cols=2, subplot_titles=['Overlooked', 'Material', 'Providential', 'Other'])\n",
    "fig.add_trace(go.Scatter(x=time_period_col, y=foundational_df_transformed['overlooked'], mode='markers', name='Overlooked', hovertext=foundational_df_transformed['geo']), row=1, col=1)\n",
    "fig.add_trace(go.Scatter(x=time_period_col, y=foundational_df_transformed['material'], mode='markers', name='Material', hovertext=foundational_df_transformed['geo']), row=1, col=2)\n",
    "fig.add_trace(go.Scatter(x=time_period_col, y=foundational_df_transformed['providential'], mode='markers', name='Providential', hovertext=foundational_df_transformed['geo']), row=2, col=1)\n",
    "fig.add_trace(go.Scatter(x=time_period_col, y=foundational_df_transformed['other'], mode='markers', name='Other', hovertext=foundational_df_transformed['geo']), row=2, col=2)\n",
    "fig.update_xaxes(tickvals=time_periods, row=1, col=1)\n",
    "fig.update_xaxes(tickvals=time_periods, row=1, col=2)\n",
    "fig.update_xaxes(tickvals=time_periods, row=2, col=1)\n",
    "fig.update_xaxes(tickvals=time_periods, row=2, col=2)\n",
    "fig.update_layout(height=600, width=800, title_text=\"Scatter Plots for Foundational Types\", showlegend=False)\n",
    "fig.show()\n"
   ],
   "metadata": {
    "collapsed": false,
    "ExecuteTime": {
     "end_time": "2024-01-20T18:59:23.612263Z",
     "start_time": "2024-01-20T18:59:23.530905Z"
    }
   },
   "id": "755998dc111df1a0",
   "execution_count": 229
  },
  {
   "cell_type": "markdown",
   "source": [
    "## Key assumptions and parameters (TBD)"
   ],
   "metadata": {
    "collapsed": false
   },
   "id": "e6f0785f1411ad5c"
  },
  {
   "cell_type": "markdown",
   "source": [
    "## Reproducing JV analysis with new data"
   ],
   "metadata": {
    "collapsed": false
   },
   "id": "343189c689602130"
  },
  {
   "cell_type": "code",
   "outputs": [],
   "source": [],
   "metadata": {
    "collapsed": false,
    "ExecuteTime": {
     "end_time": "2024-01-20T18:04:33.086262Z",
     "start_time": "2024-01-20T18:04:32.885497Z"
    }
   },
   "id": "75cf597e1f8ffdb",
   "execution_count": 200
  },
  {
   "cell_type": "markdown",
   "source": [
    "## Exploratory analysis\n",
    "General:\n",
    "\n",
    "    How many unique countries, industries and regions in the resulting dataset? Any outliers?\n",
    "    summary statistics (mean, median, mode, range, etc.) for key variables; how do these vary across countries\n",
    "\n",
    "Energy Use Analysis:\n",
    "\n",
    "    What is the distribution of energy use across the sampled countries?\n",
    "\n",
    "Labor Share Analysis:\n",
    "\n",
    "    How do labor shares vary across different foundational types?\n",
    "    Which countries have the highest and lowest foundational shares in each sector?\n",
    "    How does this change over time? Are there any trends in labor share changes over recent years?\n",
    "\n",
    "Comparative Analysis:\n",
    "\n",
    "    How do countries with similar economic profiles compare in terms of energy use, labor shares, and outcomes?\n",
    "    Are there clusters of countries with similar characteristics?\n",
    "\n",
    "Policy and Regulatory Impact:\n",
    "\n",
    "    Are there noticeable impacts of policies or regulations on the observed data?"
   ],
   "metadata": {
    "collapsed": false
   },
   "id": "64a2f207a271e6c1"
  },
  {
   "cell_type": "markdown",
   "source": [
    "## Regression by sector (Later)\n",
    " - Use sectoral energy input (per cap? share?), sectoral labor share and sector-related need satisfaction variable"
   ],
   "metadata": {
    "collapsed": false
   },
   "id": "c4be7245a14420cd"
  },
  {
   "cell_type": "markdown",
   "source": [
    "## Regression by region (Later)\n",
    " - Use total regional energy input (per cap? share?), total regional labor share and total regional need satisfaction variable"
   ],
   "metadata": {
    "collapsed": false
   },
   "id": "cd969b1e5890b470"
  },
  {
   "cell_type": "markdown",
   "source": [
    "**Note**: We're not doing a fourth set of \n",
    "regressions by region + input due to data availability. Maybe in future research"
   ],
   "metadata": {
    "collapsed": false
   },
   "id": "7f8192ac867c6c75"
  }
 ],
 "metadata": {
  "kernelspec": {
   "display_name": "Python 3",
   "language": "python",
   "name": "python3"
  },
  "language_info": {
   "codemirror_mode": {
    "name": "ipython",
    "version": 2
   },
   "file_extension": ".py",
   "mimetype": "text/x-python",
   "name": "python",
   "nbconvert_exporter": "python",
   "pygments_lexer": "ipython2",
   "version": "2.7.6"
  }
 },
 "nbformat": 4,
 "nbformat_minor": 5
}
