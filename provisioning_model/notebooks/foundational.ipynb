{
 "cells": [
  {
   "cell_type": "code",
   "execution_count": 133,
   "outputs": [],
   "source": [
    "import pandas as pd\n",
    "import numpy as np\n",
    "import pycountry"
   ],
   "metadata": {
    "collapsed": false,
    "ExecuteTime": {
     "end_time": "2024-01-20T17:50:55.673054Z",
     "start_time": "2024-01-20T17:50:55.575851Z"
    }
   },
   "id": "initial_id"
  },
  {
   "cell_type": "markdown",
   "source": [
    "## Load and prepare the data"
   ],
   "metadata": {
    "collapsed": false
   },
   "id": "1688703803284baf"
  },
  {
   "cell_type": "markdown",
   "source": [
    "Custom spreadsheet based on the [Activity classification](https://foundationaleconomy.com/activity-classification/) from the Foundational Economy Collective. In industry groups with different foundational types, we use the foundational type with the highest percentage, or if the shares are equal we pick the first \"most important\" in order of Material - Providential - Overlooked - Other."
   ],
   "metadata": {
    "collapsed": false
   },
   "id": "b1d6b1afc4b05386"
  },
  {
   "cell_type": "code",
   "execution_count": 134,
   "outputs": [],
   "source": [
    "foundational_percentages = pd.read_csv('../data/labor/foundational_percentages.csv')"
   ],
   "metadata": {
    "collapsed": false,
    "ExecuteTime": {
     "end_time": "2024-01-20T17:50:55.818731Z",
     "start_time": "2024-01-20T17:50:55.696822Z"
    }
   },
   "id": "ffe8f20ad90e355c"
  },
  {
   "cell_type": "markdown",
   "source": [
    "Energy use data from IEA (World Indicators), Total Final Consumption per capita"
   ],
   "metadata": {
    "collapsed": false
   },
   "id": "f0568f638dd842dd"
  },
  {
   "cell_type": "code",
   "execution_count": 135,
   "outputs": [],
   "source": [
    "energy_use_iea_csv = pd.read_csv('../data/biophysical/iea_indicators.csv')\n",
    "energy_use_iea_tfcpop = energy_use_iea_csv[energy_use_iea_csv['FLOW'] == 'TFCPOP'].copy()"
   ],
   "metadata": {
    "collapsed": false,
    "ExecuteTime": {
     "end_time": "2024-01-20T17:50:56.844133Z",
     "start_time": "2024-01-20T17:50:55.717729Z"
    }
   },
   "id": "7a51c18c68c4b7f"
  },
  {
   "cell_type": "markdown",
   "source": [
    "IEA energy use dataset only has ISO3 country codes, so convert to ISO2 using the `pycountry` library to match the other datasets."
   ],
   "metadata": {
    "collapsed": false
   },
   "id": "de29b87b9007a261"
  },
  {
   "cell_type": "code",
   "outputs": [],
   "source": [
    "def convert_iso3_to_iso2(iso3_code):\n",
    "    country = pycountry.countries.get(alpha_3=iso3_code)\n",
    "    return country.alpha_2 if country else None\n",
    "\n",
    "energy_use_iea_tfcpop['geo'] = energy_use_iea_tfcpop['COUNTRY'].apply(convert_iso3_to_iso2)\n",
    "energy_use_iea_tfcpop.rename(columns={'TIME': 'TIME_PERIOD', 'Value': 'energy'}, inplace=True)\n",
    "energy_use_iea = energy_use_iea_tfcpop[['geo', 'energy', 'TIME_PERIOD']]\n",
    "energy_use_iea = energy_use_iea[energy_use_iea['geo'].notna()]"
   ],
   "metadata": {
    "collapsed": false,
    "ExecuteTime": {
     "end_time": "2024-01-20T17:50:56.930571Z",
     "start_time": "2024-01-20T17:50:56.855692Z"
    }
   },
   "id": "85959bf1f9ea042b",
   "execution_count": 136
  },
  {
   "cell_type": "markdown",
   "source": [
    "Employment and hours worked data from the [EU labour costs survey](https://ec.europa.eu/eurostat/databrowser/view/lc_rnum1_r2/default/table?lang=en), collected every 4 years"
   ],
   "metadata": {
    "collapsed": false
   },
   "id": "ac7c6507b07d0ad9"
  },
  {
   "cell_type": "code",
   "execution_count": 137,
   "outputs": [],
   "source": [
    "labour_cost_survey_data = pd.read_csv('../data/labor/lc_nnum1_r2_linear.csv')"
   ],
   "metadata": {
    "collapsed": false,
    "ExecuteTime": {
     "end_time": "2024-01-20T17:50:58.755970Z",
     "start_time": "2024-01-20T17:50:56.886816Z"
    }
   },
   "id": "9bcbc60d135f809"
  },
  {
   "cell_type": "markdown",
   "source": [
    "Employment and hours worked data from [National accounts](https://ec.europa.eu/eurostat/databrowser/view/nama_10_a64_e/default/table?lang=en), collected annually. Run the same regressions with this and the previous variable to see which one is best suited for the quantitative analysis."
   ],
   "metadata": {
    "collapsed": false
   },
   "id": "c682904a4c71e1c8"
  },
  {
   "cell_type": "code",
   "execution_count": 138,
   "outputs": [],
   "source": [
    "labour_accounts_data = pd.read_csv('../data/labor/nama_10_a64_e_linear.csv')"
   ],
   "metadata": {
    "collapsed": false,
    "ExecuteTime": {
     "end_time": "2024-01-20T17:50:59.909752Z",
     "start_time": "2024-01-20T17:50:58.748819Z"
    }
   },
   "id": "4ce214b7a50946f3"
  },
  {
   "cell_type": "markdown",
   "source": [
    "Need satisfaction variables from World Development Indicators (School enrollment) and World Happiness Report (Life expectancy, Life satisfaction, etc.)"
   ],
   "metadata": {
    "collapsed": false
   },
   "id": "68d823f3e3fd141"
  },
  {
   "cell_type": "code",
   "outputs": [],
   "source": [
    "whr = pd.read_csv('../data/need_satisfaction/whr.csv')\n",
    "school_enrollment = pd.read_csv('../data/need_satisfaction/wdi_schoolenr.csv')"
   ],
   "metadata": {
    "collapsed": false,
    "ExecuteTime": {
     "end_time": "2024-01-20T17:50:59.923917Z",
     "start_time": "2024-01-20T17:50:59.901703Z"
    }
   },
   "id": "fd5437ad96c06735",
   "execution_count": 139
  },
  {
   "cell_type": "code",
   "outputs": [],
   "source": [
    "def convert_name_to_iso2(country_name):\n",
    "    if country_name == 'Türkiye' or country_name == 'Turkiye':\n",
    "        return \"TR\"\n",
    "    country = pycountry.countries.get(name=country_name)\n",
    "    return country.alpha_2 if country else None\n",
    "whr_with_codes = whr.copy()\n",
    "whr_with_codes['geo'] = whr['Country name'].apply(convert_name_to_iso2)\n",
    "whr_with_codes = whr_with_codes[whr_with_codes['geo'].notna()]\n",
    "whr_with_codes.rename(columns={'year': 'TIME_PERIOD', 'Life Ladder': 'ladder', 'Social support': 'socialsupport', 'Healthy life expectancy at birth': 'hale', 'Freedom to make life choices': 'freedom', 'Generosity': 'charity', 'Perceptions of corruption': 'corruption', 'Positive affect': 'positive', 'Negative affect': 'negative'}, inplace=True)\n",
    "whr_with_codes.drop(columns=['Country name', 'Log GDP per capita'], inplace=True)"
   ],
   "metadata": {
    "collapsed": false,
    "ExecuteTime": {
     "end_time": "2024-01-20T17:50:59.947423Z",
     "start_time": "2024-01-20T17:50:59.931035Z"
    }
   },
   "id": "3cbdbade35615ddd",
   "execution_count": 140
  },
  {
   "cell_type": "code",
   "outputs": [],
   "source": [
    "from provisioning_model.functions.create_panel_dataset import clean_and_transform_wdi_outcomes\n",
    "school_enrollment_cleaned = clean_and_transform_wdi_outcomes(school_enrollment, 'schoolenr')\n",
    "school_enrollment_with_codes = school_enrollment_cleaned.copy()\n",
    "school_enrollment_with_codes['geo'] = school_enrollment_with_codes['Country.Code'].apply(convert_iso3_to_iso2)\n",
    "school_enrollment_with_codes = school_enrollment_with_codes[school_enrollment_with_codes['geo'].notna()]\n",
    "school_enrollment_with_codes.rename(columns={'Year': 'TIME_PERIOD'}, inplace=True)\n",
    "need_satisfaction = whr_with_codes.merge(school_enrollment_with_codes, on=['geo', 'TIME_PERIOD'], how='left')\n",
    "need_satisfaction.drop(columns=['Country.Code', 'Country.Name'], inplace=True)"
   ],
   "metadata": {
    "collapsed": false,
    "ExecuteTime": {
     "end_time": "2024-01-20T17:51:00.012052Z",
     "start_time": "2024-01-20T17:50:59.949516Z"
    }
   },
   "id": "6864b317923814b7",
   "execution_count": 141
  },
  {
   "cell_type": "markdown",
   "source": [
    "Count the number of unique countries that are available in both datasets."
   ],
   "metadata": {
    "collapsed": false
   },
   "id": "eded59fbb3e1f9f1"
  },
  {
   "cell_type": "code",
   "execution_count": 142,
   "outputs": [
    {
     "name": "stdout",
     "output_type": "stream",
     "text": [
      "The labour cost survey + energy intersection has 35 unique countries\n",
      "The labour accounts + energy intersection has 32 unique countries\n",
      "Countries that are in the labour cost survey variant but not in labour accounts are: ['AL' 'BA' 'TR']\n"
     ]
    }
   ],
   "source": [
    "labour_cost_survey_geo = labour_cost_survey_data.geo.unique()\n",
    "energy_geo = energy_use_iea.geo.unique()\n",
    "energy_lc_sv_shared_geo = np.intersect1d(labour_cost_survey_geo, energy_geo)\n",
    "energy_lc_sv_shared_geo = np.delete(energy_lc_sv_shared_geo, np.where(energy_lc_sv_shared_geo == 'EU27_2020'))\n",
    "print(f'The labour cost survey + energy intersection has {len(energy_lc_sv_shared_geo)} unique countries')\n",
    "labour_accounts_geo = labour_accounts_data.geo.unique()\n",
    "energy_lc_ac_shared_geo = np.intersect1d(labour_accounts_geo, energy_geo)\n",
    "energy_lc_ac_shared_geo = np.delete(energy_lc_ac_shared_geo, np.where(energy_lc_ac_shared_geo == 'EU27_2020'))\n",
    "print(f'The labour accounts + energy intersection has {len(energy_lc_ac_shared_geo)} unique countries')\n",
    "print(\n",
    "    f'Countries that are in the labour cost survey variant but not in labour accounts are: {np.setdiff1d(energy_lc_sv_shared_geo, energy_lc_ac_shared_geo)}')"
   ],
   "metadata": {
    "collapsed": false,
    "ExecuteTime": {
     "end_time": "2024-01-20T17:51:00.107273Z",
     "start_time": "2024-01-20T17:51:00.061269Z"
    }
   },
   "id": "687a4805d3374450"
  },
  {
   "cell_type": "markdown",
   "source": [
    "Add the foundational type (`final_foundational` column) from `foundational_percentages` to the labour data."
   ],
   "metadata": {
    "collapsed": false
   },
   "id": "b60119d9dcefdaf7"
  },
  {
   "cell_type": "code",
   "execution_count": 143,
   "outputs": [],
   "source": [
    "foundational_percentages_selected = foundational_percentages[['nace_r2', 'final_foundational']]\n",
    "labour_cost_survey_with_foundational = labour_cost_survey_data.merge(foundational_percentages_selected, on='nace_r2',\n",
    "                                                                     how='left')\n",
    "labour_accounts_with_foundational = labour_accounts_data.merge(foundational_percentages_selected, on='nace_r2',\n",
    "                                                               how='left')"
   ],
   "metadata": {
    "collapsed": false,
    "ExecuteTime": {
     "end_time": "2024-01-20T17:51:01.354892Z",
     "start_time": "2024-01-20T17:51:00.163214Z"
    }
   },
   "id": "57ccf5af527d5de0"
  },
  {
   "cell_type": "markdown",
   "source": [
    "Only keep relevant columns. "
   ],
   "metadata": {
    "collapsed": false
   },
   "id": "fb4f773a0f74e3d3"
  },
  {
   "cell_type": "code",
   "outputs": [],
   "source": [
    "labour_cost_survey_filtered = labour_cost_survey_with_foundational[\n",
    "    ['geo', 'nace_r2', 'final_foundational', 'sizeclas', 'worktime', 'indic_lc', 'TIME_PERIOD', 'OBS_VALUE']]\n",
    "labour_accounts_filtered = labour_accounts_with_foundational[\n",
    "    ['geo', 'nace_r2', 'final_foundational', 'na_item', 'TIME_PERIOD', 'OBS_VALUE']]"
   ],
   "metadata": {
    "collapsed": false,
    "ExecuteTime": {
     "end_time": "2024-01-20T17:51:01.854224Z",
     "start_time": "2024-01-20T17:51:01.357603Z"
    }
   },
   "id": "90f12f857581d5ae",
   "execution_count": 144
  },
  {
   "cell_type": "markdown",
   "source": [
    "We are currently not interested in the size class of the enterprise in labour cost survey data (maybe in the future), so only keep `GE10` (\"Greater than 10 employees\"). \n",
    "There is a `TOTAL` size class, but the values for this are available for 33 countries as opposed 47 for `GE10`."
   ],
   "metadata": {
    "collapsed": false
   },
   "id": "4b8b35ad3dea8dde"
  },
  {
   "cell_type": "code",
   "outputs": [],
   "source": [
    "labour_cost_survey_filtered_sizeclas = labour_cost_survey_filtered[labour_cost_survey_filtered.sizeclas == 'GE10']\n",
    "# unique_countries_per_sizeclas = labour_cost_survey_with_foundational.groupby('sizeclas')['geo'].nunique()"
   ],
   "metadata": {
    "collapsed": false,
    "ExecuteTime": {
     "end_time": "2024-01-20T17:51:01.931008Z",
     "start_time": "2024-01-20T17:51:01.898575Z"
    }
   },
   "id": "f30dfd765de85078",
   "execution_count": 145
  },
  {
   "cell_type": "markdown",
   "source": [
    "Only keep observations (country-years) for which both energy and labour data is available"
   ],
   "metadata": {
    "collapsed": false
   },
   "id": "cf979f117aea107d"
  },
  {
   "cell_type": "code",
   "outputs": [],
   "source": [
    "labour_cost_survey_selected = labour_cost_survey_filtered_sizeclas[\n",
    "    labour_cost_survey_filtered_sizeclas.geo.isin(energy_lc_sv_shared_geo)]\n",
    "labour_accounts_selected = labour_accounts_filtered[labour_accounts_filtered.geo.isin(energy_lc_ac_shared_geo)]"
   ],
   "metadata": {
    "collapsed": false,
    "ExecuteTime": {
     "end_time": "2024-01-20T17:51:02.119147Z",
     "start_time": "2024-01-20T17:51:01.939615Z"
    }
   },
   "id": "caf64d9af867f4e1",
   "execution_count": 146
  },
  {
   "cell_type": "markdown",
   "source": [
    "Split the labour survey data into two datasets, one for employment and one for hours worked (\"hours paid\", not \"hours actually worked\" as there could be issues with how latter is reported (? confirm with RB and JV).\n",
    "Filter out self-employed from the accounts data."
   ],
   "metadata": {
    "collapsed": false
   },
   "id": "6d2c0ecae3836fb7"
  },
  {
   "cell_type": "code",
   "outputs": [],
   "source": [
    "labour_cost_survey_selected_employment = labour_cost_survey_selected[\n",
    "    labour_cost_survey_selected.indic_lc == 'SAL']\n",
    "labour_cost_survey_selected_hours_worked = labour_cost_survey_selected[\n",
    "    labour_cost_survey_selected.indic_lc == 'HP_SAL_Y']\n",
    "labour_accounts_selected_employment = labour_accounts_selected[labour_accounts_selected.na_item == 'SAL_DC']"
   ],
   "metadata": {
    "collapsed": false,
    "ExecuteTime": {
     "end_time": "2024-01-20T17:51:02.250369Z",
     "start_time": "2024-01-20T17:51:02.128174Z"
    }
   },
   "id": "c6ee3d336301ab99",
   "execution_count": 147
  },
  {
   "cell_type": "markdown",
   "source": [
    "Only look at FTEs (full-time equivalents) in labour cost survey data, not to distinguish between full-time or part-time measures. This only applies to employment data, not hours worked."
   ],
   "metadata": {
    "collapsed": false
   },
   "id": "b4c0dbc357be33c0"
  },
  {
   "cell_type": "code",
   "outputs": [],
   "source": [
    "labour_cost_survey_selected_employment_fte = labour_cost_survey_selected_employment[\n",
    "    labour_cost_survey_selected_employment.worktime == 'TOT_FTE']"
   ],
   "metadata": {
    "collapsed": false,
    "ExecuteTime": {
     "end_time": "2024-01-20T17:51:02.269948Z",
     "start_time": "2024-01-20T17:51:02.254301Z"
    }
   },
   "id": "20edd0622e84b4f0",
   "execution_count": 148
  },
  {
   "cell_type": "markdown",
   "source": [
    "Calculate labour shares by foundational type for employment and hours."
   ],
   "metadata": {
    "collapsed": false
   },
   "id": "bb0a02f66f76c6f8"
  },
  {
   "cell_type": "code",
   "outputs": [],
   "source": [
    "import matplotlib.pyplot as plt\n",
    "from provisioning_model.functions.create_panel_dataset import calculate_shares"
   ],
   "metadata": {
    "collapsed": false,
    "ExecuteTime": {
     "end_time": "2024-01-20T17:51:02.272993Z",
     "start_time": "2024-01-20T17:51:02.264930Z"
    }
   },
   "id": "4c788f63d87c532",
   "execution_count": 149
  },
  {
   "cell_type": "code",
   "outputs": [],
   "source": [
    "labour_cost_survey_shares_employment_fte = calculate_shares(labour_cost_survey_selected_employment_fte, 'OBS_VALUE')\n",
    "labour_cost_survey_shares_hours_worked = calculate_shares(labour_cost_survey_selected_hours_worked, 'OBS_VALUE')"
   ],
   "metadata": {
    "collapsed": false,
    "ExecuteTime": {
     "end_time": "2024-01-20T17:51:02.308041Z",
     "start_time": "2024-01-20T17:51:02.275928Z"
    }
   },
   "id": "bae88cb11445dc7b",
   "execution_count": 150
  },
  {
   "cell_type": "code",
   "outputs": [
    {
     "data": {
      "text/plain": "Text(0.5, 1.0, 'Labor shares available per year')"
     },
     "execution_count": 151,
     "metadata": {},
     "output_type": "execute_result"
    },
    {
     "data": {
      "text/plain": "<Figure size 640x480 with 1 Axes>",
      "image/png": "[encoded data removed]"
     },
     "metadata": {},
     "output_type": "display_data"
    }
   ],
   "source": [
    "plt.hist(labour_cost_survey_shares_employment_fte['TIME_PERIOD'], bins=[y - 2 for y in [2008, 2012, 2016, 2020]] + [2022], edgecolor='black', align='mid', rwidth=0.8)\n",
    "plt.xticks([2008, 2012, 2016, 2020]); plt.xlabel('Year'); plt.ylabel('Countries'); plt.title('Labor shares available per year')"
   ],
   "metadata": {
    "collapsed": false,
    "ExecuteTime": {
     "end_time": "2024-01-20T17:51:02.505396Z",
     "start_time": "2024-01-20T17:51:02.349588Z"
    }
   },
   "id": "3e23b8f111580299",
   "execution_count": 151
  },
  {
   "cell_type": "code",
   "outputs": [],
   "source": [
    "energy_use_iea_selected_years = energy_use_iea[energy_use_iea['TIME_PERIOD'].isin([2008, 2012, 2016, 2020])]\n",
    "energy_use_iea_selected = energy_use_iea_selected_years[energy_use_iea_selected_years.geo.isin(labour_cost_survey_shares_employment_fte.geo.unique())]"
   ],
   "metadata": {
    "collapsed": false,
    "ExecuteTime": {
     "end_time": "2024-01-20T17:51:02.534437Z",
     "start_time": "2024-01-20T17:51:02.487290Z"
    }
   },
   "id": "5d5ca28545939cc6",
   "execution_count": 152
  },
  {
   "cell_type": "code",
   "outputs": [
    {
     "data": {
      "text/plain": "Text(0.5, 1.0, 'Energy use data available per year')"
     },
     "execution_count": 153,
     "metadata": {},
     "output_type": "execute_result"
    },
    {
     "data": {
      "text/plain": "<Figure size 640x480 with 1 Axes>",
      "image/png": "[encoded data removed]"
     },
     "metadata": {},
     "output_type": "display_data"
    }
   ],
   "source": [
    "plt.hist(energy_use_iea_selected['TIME_PERIOD'], bins=[y - 2 for y in [2008, 2012, 2016, 2020]] + [2022], edgecolor='black', align='mid', rwidth=0.8)\n",
    "plt.xticks([2008, 2012, 2016, 2020]); plt.xlabel('Year'); plt.ylabel('Countries'); plt.title('Energy use data available per year')"
   ],
   "metadata": {
    "collapsed": false,
    "ExecuteTime": {
     "end_time": "2024-01-20T17:51:03.931627Z",
     "start_time": "2024-01-20T17:51:02.496600Z"
    }
   },
   "id": "c71f2ee3863e017c",
   "execution_count": 153
  },
  {
   "cell_type": "markdown",
   "source": [
    "Assemble energy use, labor and need satisfaction data into a single dataset."
   ],
   "metadata": {
    "collapsed": false
   },
   "id": "c62a0957ae338d82"
  },
  {
   "cell_type": "code",
   "outputs": [],
   "source": [
    "energy_use_employment = labour_cost_survey_shares_employment_fte.merge(energy_use_iea_selected, on=['geo', 'TIME_PERIOD'], how='left')\n",
    "energy_use_employment_need_satisfaction = energy_use_employment.merge(need_satisfaction, on=['geo', 'TIME_PERIOD'], how='left')"
   ],
   "metadata": {
    "collapsed": false,
    "ExecuteTime": {
     "end_time": "2024-01-20T17:51:03.979434Z",
     "start_time": "2024-01-20T17:51:03.932215Z"
    }
   },
   "id": "37d6fbfe9448e464",
   "execution_count": 154
  },
  {
   "cell_type": "code",
   "outputs": [],
   "source": [
    "foundational_df_no_transformations = energy_use_employment_need_satisfaction.rename(columns={'Material': 'material', 'Other': 'other', 'Overlooked': 'overlooked', 'Providential': 'providential'})"
   ],
   "metadata": {
    "collapsed": false,
    "ExecuteTime": {
     "end_time": "2024-01-20T17:51:04.605737Z",
     "start_time": "2024-01-20T17:51:03.952445Z"
    }
   },
   "id": "54a4be537674257",
   "execution_count": 155
  },
  {
   "cell_type": "markdown",
   "source": [
    "## Apply variable transformations"
   ],
   "metadata": {
    "collapsed": false
   },
   "id": "d5558f39a70c6040"
  },
  {
   "cell_type": "code",
   "outputs": [],
   "source": [
    "import numpy"
   ],
   "metadata": {
    "collapsed": false,
    "ExecuteTime": {
     "end_time": "2024-01-20T17:51:04.608254Z",
     "start_time": "2024-01-20T17:51:03.963758Z"
    }
   },
   "id": "fa09c889423f2ed8",
   "execution_count": 156
  },
  {
   "cell_type": "markdown",
   "source": [
    "1. Transform energy use variable to log"
   ],
   "metadata": {
    "collapsed": false
   },
   "id": "c4d4ce078c67073b"
  },
  {
   "cell_type": "code",
   "outputs": [],
   "source": [
    "foundational_df_transformed = foundational_df_no_transformations.copy()\n",
    "foundational_df_transformed[\"energy\"] = foundational_df_no_transformations[\"energy\"].apply(\n",
    "    lambda x: numpy.log(x)\n",
    ")"
   ],
   "metadata": {
    "collapsed": false,
    "ExecuteTime": {
     "end_time": "2024-01-20T17:51:04.609214Z",
     "start_time": "2024-01-20T17:51:03.973146Z"
    }
   },
   "id": "f6c925a7136e16a4",
   "execution_count": 157
  },
  {
   "cell_type": "markdown",
   "source": [
    "2. Transform need satisfaction variables using saturation transformation"
   ],
   "metadata": {
    "collapsed": false
   },
   "id": "cfcb5123572eafb"
  },
  {
   "cell_type": "code",
   "outputs": [
    {
     "name": "stdout",
     "output_type": "stream",
     "text": [
      "Warning: NaN values found in column hale. Original values might be too close to or exceed the saturation point.\n",
      "Warning: NaN values found in column schoolenr. Original values might be too close to or exceed the saturation point.\n"
     ]
    },
    {
     "name": "stderr",
     "output_type": "stream",
     "text": [
      "/var/folders/6l/9wnlb_cx2h382r0y3jq99h5h0000gn/T/ipykernel_15698/1540903175.py:14: RuntimeWarning: invalid value encountered in log\n",
      "  lambda x: numpy.log(need_satisfaction_variables[col] - x)\n"
     ]
    }
   ],
   "source": [
    "need_satisfaction_variables = {\n",
    "    # \"lifesatisfaction\": 10,\n",
    "    \"hale\": 77,\n",
    "    # \"nutrition\": 100.3,\n",
    "    # \"sanitation\": 100.7,\n",
    "    # \"incomepoverty\": 100.3,\n",
    "    # \"energyaccess\": 100.7,\n",
    "    \"schoolenr\": 102,\n",
    "    # \"socialsupport\": 80,\n",
    "}\n",
    "for col in need_satisfaction_variables.keys():\n",
    "    if col in foundational_df_no_transformations.columns:\n",
    "        foundational_df_transformed[col] = foundational_df_no_transformations[col].apply(\n",
    "            lambda x: numpy.log(need_satisfaction_variables[col] - x)\n",
    "        )\n",
    "        if foundational_df_transformed[col].isna().any():\n",
    "            print(\n",
    "                f\"Warning: NaN values found in column {col}. Original values might be too close to or exceed the saturation point.\"\n",
    "            )\n",
    "    else:\n",
    "        print(f\"Warning: Column {col} not found in imputed DataFrame.\")"
   ],
   "metadata": {
    "collapsed": false,
    "ExecuteTime": {
     "end_time": "2024-01-20T17:51:24.389200Z",
     "start_time": "2024-01-20T17:51:24.383054Z"
    }
   },
   "id": "44b6aa179fe31bcb",
   "execution_count": 162
  },
  {
   "cell_type": "markdown",
   "source": [
    "Transform provisioning factors using appropriate transformations.\n",
    "Apply log transformation to foundational economy shares"
   ],
   "metadata": {
    "collapsed": false
   },
   "id": "523877ccf21856cb"
  },
  {
   "cell_type": "code",
   "outputs": [],
   "source": [
    "provisioning_factor_variables = [\n",
    "    \"material\",\n",
    "    \"other\",\n",
    "    \"overlooked\",\n",
    "    \"providential\"\n",
    "]\n",
    "for col in provisioning_factor_variables:\n",
    "    foundational_df_transformed[col] = foundational_df_no_transformations[col].apply(lambda x: numpy.log(x))"
   ],
   "metadata": {
    "collapsed": false,
    "ExecuteTime": {
     "end_time": "2024-01-20T17:51:04.688989Z",
     "start_time": "2024-01-20T17:51:04.022689Z"
    }
   },
   "id": "da43fe9d5f14b5eb",
   "execution_count": 160
  },
  {
   "cell_type": "code",
   "outputs": [
    {
     "data": {
      "text/plain": "    geo  TIME_PERIOD  material     other  overlooked  providential    energy  \\\n0    AL         2012 -3.712974 -3.197966   -3.901023     -2.763731 -0.463624   \n1    AL         2016 -4.488739 -4.186049   -3.679518     -3.444197 -0.366725   \n2    AL         2020 -3.813518 -1.938164   -2.606284     -3.377976 -0.418550   \n3    AT         2008 -3.677127 -2.462311   -3.569925     -3.850713  1.176190   \n4    AT         2012 -3.663873 -2.448799   -3.552081     -3.991043  1.160334   \n..   ..          ...       ...       ...         ...           ...       ...   \n126  SK         2016 -3.774942 -2.704110   -4.239386     -3.308814  0.635518   \n127  SK         2020 -3.799205 -2.716150   -4.292216     -3.256914  0.687632   \n128  TR         2012 -3.488606 -2.626866   -3.248423     -4.040996  0.136278   \n129  TR         2016 -3.888288 -2.705562   -3.406710     -4.180277  0.210261   \n130  TR         2020 -4.947308 -3.363823   -4.465331     -3.873455  0.254642   \n\n     ladder  socialsupport      hale  freedom  charity  corruption  positive  \\\n0     5.510          0.785  2.179287    0.602   -0.170       0.848     0.553   \n1     4.511          0.638  2.076312    0.730   -0.019       0.901     0.567   \n2     5.365          0.710  2.063693    0.754    0.004       0.891     0.563   \n3     7.181          0.935  1.987874    0.879    0.287       0.614     0.716   \n4     7.401          0.945  1.931521    0.920    0.114       0.771     0.712   \n..      ...            ...       ...      ...      ...         ...       ...   \n126   5.993          0.945  2.216482    0.700   -0.063       0.917     0.688   \n127   6.519          0.954  2.113239    0.762   -0.079       0.901     0.695   \n128   5.309          0.739  2.280339    0.471   -0.219       0.702     0.506   \n129   5.326          0.880  2.211018    0.644   -0.068       0.764     0.414   \n130   4.862          0.857  2.131203    0.510   -0.117       0.774     0.332   \n\n     negative  schoolenr  \n0       0.271   0.832791  \n1       0.322   0.576626  \n2       0.265   1.763450  \n3       0.173   0.628006  \n4       0.157   0.637250  \n..        ...        ...  \n126     0.232   2.355800  \n127     0.274   2.414721  \n128     0.335   2.832011  \n129     0.390        NaN  \n130     0.440        NaN  \n\n[131 rows x 16 columns]",
      "text/html": "<div>\n<style scoped>\n    .dataframe tbody tr th:only-of-type {\n        vertical-align: middle;\n    }\n\n    .dataframe tbody tr th {\n        vertical-align: top;\n    }\n\n    .dataframe thead th {\n        text-align: right;\n    }\n</style>\n<table border=\"1\" class=\"dataframe\">\n  <thead>\n    <tr style=\"text-align: right;\">\n      <th></th>\n      <th>geo</th>\n      <th>TIME_PERIOD</th>\n      <th>material</th>\n      <th>other</th>\n      <th>overlooked</th>\n      <th>providential</th>\n      <th>energy</th>\n      <th>ladder</th>\n      <th>socialsupport</th>\n      <th>hale</th>\n      <th>freedom</th>\n      <th>charity</th>\n      <th>corruption</th>\n      <th>positive</th>\n      <th>negative</th>\n      <th>schoolenr</th>\n    </tr>\n  </thead>\n  <tbody>\n    <tr>\n      <th>0</th>\n      <td>AL</td>\n      <td>2012</td>\n      <td>-3.712974</td>\n      <td>-3.197966</td>\n      <td>-3.901023</td>\n      <td>-2.763731</td>\n      <td>-0.463624</td>\n      <td>5.510</td>\n      <td>0.785</td>\n      <td>2.179287</td>\n      <td>0.602</td>\n      <td>-0.170</td>\n      <td>0.848</td>\n      <td>0.553</td>\n      <td>0.271</td>\n      <td>0.832791</td>\n    </tr>\n    <tr>\n      <th>1</th>\n      <td>AL</td>\n      <td>2016</td>\n      <td>-4.488739</td>\n      <td>-4.186049</td>\n      <td>-3.679518</td>\n      <td>-3.444197</td>\n      <td>-0.366725</td>\n      <td>4.511</td>\n      <td>0.638</td>\n      <td>2.076312</td>\n      <td>0.730</td>\n      <td>-0.019</td>\n      <td>0.901</td>\n      <td>0.567</td>\n      <td>0.322</td>\n      <td>0.576626</td>\n    </tr>\n    <tr>\n      <th>2</th>\n      <td>AL</td>\n      <td>2020</td>\n      <td>-3.813518</td>\n      <td>-1.938164</td>\n      <td>-2.606284</td>\n      <td>-3.377976</td>\n      <td>-0.418550</td>\n      <td>5.365</td>\n      <td>0.710</td>\n      <td>2.063693</td>\n      <td>0.754</td>\n      <td>0.004</td>\n      <td>0.891</td>\n      <td>0.563</td>\n      <td>0.265</td>\n      <td>1.763450</td>\n    </tr>\n    <tr>\n      <th>3</th>\n      <td>AT</td>\n      <td>2008</td>\n      <td>-3.677127</td>\n      <td>-2.462311</td>\n      <td>-3.569925</td>\n      <td>-3.850713</td>\n      <td>1.176190</td>\n      <td>7.181</td>\n      <td>0.935</td>\n      <td>1.987874</td>\n      <td>0.879</td>\n      <td>0.287</td>\n      <td>0.614</td>\n      <td>0.716</td>\n      <td>0.173</td>\n      <td>0.628006</td>\n    </tr>\n    <tr>\n      <th>4</th>\n      <td>AT</td>\n      <td>2012</td>\n      <td>-3.663873</td>\n      <td>-2.448799</td>\n      <td>-3.552081</td>\n      <td>-3.991043</td>\n      <td>1.160334</td>\n      <td>7.401</td>\n      <td>0.945</td>\n      <td>1.931521</td>\n      <td>0.920</td>\n      <td>0.114</td>\n      <td>0.771</td>\n      <td>0.712</td>\n      <td>0.157</td>\n      <td>0.637250</td>\n    </tr>\n    <tr>\n      <th>...</th>\n      <td>...</td>\n      <td>...</td>\n      <td>...</td>\n      <td>...</td>\n      <td>...</td>\n      <td>...</td>\n      <td>...</td>\n      <td>...</td>\n      <td>...</td>\n      <td>...</td>\n      <td>...</td>\n      <td>...</td>\n      <td>...</td>\n      <td>...</td>\n      <td>...</td>\n      <td>...</td>\n    </tr>\n    <tr>\n      <th>126</th>\n      <td>SK</td>\n      <td>2016</td>\n      <td>-3.774942</td>\n      <td>-2.704110</td>\n      <td>-4.239386</td>\n      <td>-3.308814</td>\n      <td>0.635518</td>\n      <td>5.993</td>\n      <td>0.945</td>\n      <td>2.216482</td>\n      <td>0.700</td>\n      <td>-0.063</td>\n      <td>0.917</td>\n      <td>0.688</td>\n      <td>0.232</td>\n      <td>2.355800</td>\n    </tr>\n    <tr>\n      <th>127</th>\n      <td>SK</td>\n      <td>2020</td>\n      <td>-3.799205</td>\n      <td>-2.716150</td>\n      <td>-4.292216</td>\n      <td>-3.256914</td>\n      <td>0.687632</td>\n      <td>6.519</td>\n      <td>0.954</td>\n      <td>2.113239</td>\n      <td>0.762</td>\n      <td>-0.079</td>\n      <td>0.901</td>\n      <td>0.695</td>\n      <td>0.274</td>\n      <td>2.414721</td>\n    </tr>\n    <tr>\n      <th>128</th>\n      <td>TR</td>\n      <td>2012</td>\n      <td>-3.488606</td>\n      <td>-2.626866</td>\n      <td>-3.248423</td>\n      <td>-4.040996</td>\n      <td>0.136278</td>\n      <td>5.309</td>\n      <td>0.739</td>\n      <td>2.280339</td>\n      <td>0.471</td>\n      <td>-0.219</td>\n      <td>0.702</td>\n      <td>0.506</td>\n      <td>0.335</td>\n      <td>2.832011</td>\n    </tr>\n    <tr>\n      <th>129</th>\n      <td>TR</td>\n      <td>2016</td>\n      <td>-3.888288</td>\n      <td>-2.705562</td>\n      <td>-3.406710</td>\n      <td>-4.180277</td>\n      <td>0.210261</td>\n      <td>5.326</td>\n      <td>0.880</td>\n      <td>2.211018</td>\n      <td>0.644</td>\n      <td>-0.068</td>\n      <td>0.764</td>\n      <td>0.414</td>\n      <td>0.390</td>\n      <td>NaN</td>\n    </tr>\n    <tr>\n      <th>130</th>\n      <td>TR</td>\n      <td>2020</td>\n      <td>-4.947308</td>\n      <td>-3.363823</td>\n      <td>-4.465331</td>\n      <td>-3.873455</td>\n      <td>0.254642</td>\n      <td>4.862</td>\n      <td>0.857</td>\n      <td>2.131203</td>\n      <td>0.510</td>\n      <td>-0.117</td>\n      <td>0.774</td>\n      <td>0.332</td>\n      <td>0.440</td>\n      <td>NaN</td>\n    </tr>\n  </tbody>\n</table>\n<p>131 rows × 16 columns</p>\n</div>"
     },
     "execution_count": 163,
     "metadata": {},
     "output_type": "execute_result"
    }
   ],
   "source": [
    "foundational_df_transformed"
   ],
   "metadata": {
    "collapsed": false,
    "ExecuteTime": {
     "end_time": "2024-01-20T17:54:30.328899Z",
     "start_time": "2024-01-20T17:54:30.263197Z"
    }
   },
   "id": "a3324eb91989cd36",
   "execution_count": 163
  },
  {
   "cell_type": "markdown",
   "source": [
    "## Key assumptions and parameters (TBD)"
   ],
   "metadata": {
    "collapsed": false
   },
   "id": "e6f0785f1411ad5c"
  },
  {
   "cell_type": "markdown",
   "source": [
    "## Reproducing JV analysis with new data"
   ],
   "metadata": {
    "collapsed": false
   },
   "id": "343189c689602130"
  },
  {
   "cell_type": "code",
   "outputs": [],
   "source": [],
   "metadata": {
    "collapsed": false,
    "ExecuteTime": {
     "end_time": "2024-01-20T17:51:04.747557Z",
     "start_time": "2024-01-20T17:51:04.435987Z"
    }
   },
   "id": "75cf597e1f8ffdb",
   "execution_count": 161
  },
  {
   "cell_type": "markdown",
   "source": [
    "## Exploratory analysis\n",
    "General:\n",
    "\n",
    "    How many unique countries, industries and regions in the resulting dataset? Any outliers?\n",
    "    summary statistics (mean, median, mode, range, etc.) for key variables; how do these vary across countries\n",
    "\n",
    "Energy Use Analysis:\n",
    "\n",
    "    What is the distribution of energy use across the sampled countries?\n",
    "\n",
    "Labor Share Analysis:\n",
    "\n",
    "    How do labor shares vary across different foundational types?\n",
    "    Which countries have the highest and lowest foundational shares in each sector?\n",
    "    How does this change over time? Are there any trends in labor share changes over recent years?\n",
    "\n",
    "Comparative Analysis:\n",
    "\n",
    "    How do countries with similar economic profiles compare in terms of energy use, labor shares, and outcomes?\n",
    "    Are there clusters of countries with similar characteristics?\n",
    "\n",
    "Policy and Regulatory Impact:\n",
    "\n",
    "    Are there noticeable impacts of policies or regulations on the observed data?"
   ],
   "metadata": {
    "collapsed": false
   },
   "id": "64a2f207a271e6c1"
  },
  {
   "cell_type": "markdown",
   "source": [
    "## Regression by sector (Later)\n",
    " - Use sectoral energy input (per cap? share?), sectoral labor share and sector-related need satisfaction variable"
   ],
   "metadata": {
    "collapsed": false
   },
   "id": "c4be7245a14420cd"
  },
  {
   "cell_type": "markdown",
   "source": [
    "## Regression by region (Later)\n",
    " - Use total regional energy input (per cap? share?), total regional labor share and total regional need satisfaction variable"
   ],
   "metadata": {
    "collapsed": false
   },
   "id": "cd969b1e5890b470"
  },
  {
   "cell_type": "markdown",
   "source": [
    "**Note**: We're not doing a fourth set of \n",
    "regressions by region + input due to data availability. Maybe in future research"
   ],
   "metadata": {
    "collapsed": false
   },
   "id": "7f8192ac867c6c75"
  }
 ],
 "metadata": {
  "kernelspec": {
   "display_name": "Python 3",
   "language": "python",
   "name": "python3"
  },
  "language_info": {
   "codemirror_mode": {
    "name": "ipython",
    "version": 2
   },
   "file_extension": ".py",
   "mimetype": "text/x-python",
   "name": "python",
   "nbconvert_exporter": "python",
   "pygments_lexer": "ipython2",
   "version": "2.7.6"
  }
 },
 "nbformat": 4,
 "nbformat_minor": 5
}
