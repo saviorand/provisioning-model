{
 "cells": [
  {
   "cell_type": "code",
   "execution_count": null,
   "id": "initial_id",
   "metadata": {
    "collapsed": true
   },
   "outputs": [],
   "source": [
    "# use seaborn to plot material on x axis and energy on y axis\n",
    "import seaborn as sns\n",
    "sns.scatterplot(x='material', y='hale', data=foundational_df_transformed)"
   ]
  },
  {
   "cell_type": "markdown",
   "source": [
    "## Exploratory analysis\n",
    "General:\n",
    "\n",
    "    How many unique countries, industries and regions in the resulting dataset? Any outliers?\n",
    "    summary statistics (mean, median, mode, range, etc.) for key variables; how do these vary across countries\n",
    "\n",
    "Energy Use Analysis:\n",
    "\n",
    "    What is the distribution of energy use across the sampled countries?\n",
    "\n",
    "Labor Share Analysis:\n",
    "\n",
    "    How do labor shares vary across different foundational types?\n",
    "    Which countries have the highest and lowest foundational shares in each sector?\n",
    "    How does this change over time? Are there any trends in labor share changes over recent years?\n",
    "\n",
    "Comparative Analysis:\n",
    "\n",
    "    How do countries with similar economic profiles compare in terms of energy use, labor shares, and outcomes?\n",
    "    Are there clusters of countries with similar characteristics?\n",
    "\n",
    "Policy and Regulatory Impact:\n",
    "\n",
    "    Are there noticeable impacts of policies or regulations on the observed data?"
   ],
   "metadata": {
    "collapsed": false
   },
   "id": "f732296161f95f29"
  }
 ],
 "metadata": {
  "kernelspec": {
   "display_name": "Python 3",
   "language": "python",
   "name": "python3"
  },
  "language_info": {
   "codemirror_mode": {
    "name": "ipython",
    "version": 2
   },
   "file_extension": ".py",
   "mimetype": "text/x-python",
   "name": "python",
   "nbconvert_exporter": "python",
   "pygments_lexer": "ipython2",
   "version": "2.7.6"
  }
 },
 "nbformat": 4,
 "nbformat_minor": 5
}
