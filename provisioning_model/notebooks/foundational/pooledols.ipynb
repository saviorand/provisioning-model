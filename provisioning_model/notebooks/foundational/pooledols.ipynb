{
 "cells": [
  {
   "cell_type": "markdown",
   "source": [
    "## Key assumptions and parameters (TBD)"
   ],
   "metadata": {
    "collapsed": false
   },
   "id": "92ad649e5afa7577"
  },
  {
   "cell_type": "markdown",
   "source": [
    "## Preliminary checks"
   ],
   "metadata": {
    "collapsed": false
   },
   "id": "a2eac8b53519c8a"
  },
  {
   "cell_type": "markdown",
   "source": [
    "Find and remove outliers"
   ],
   "metadata": {
    "collapsed": false
   },
   "id": "4b3d6745ac6855eb"
  },
  {
   "cell_type": "code",
   "outputs": [],
   "source": [
    "import plotly.graph_objects as go\n",
    "from plotly.subplots import make_subplots\n",
    "time_period_col = foundational_df_transformed['TIME_PERIOD']\n",
    "fig = make_subplots(rows=2, cols=2, subplot_titles=['Overlooked', 'Material', 'Providential', 'Other'])\n",
    "fig.add_trace(go.Scatter(x=time_period_col, y=foundational_df_transformed['overlooked'], mode='markers', name='Overlooked', hovertext=foundational_df_transformed['geo']), row=1, col=1)\n",
    "fig.add_trace(go.Scatter(x=time_period_col, y=foundational_df_transformed['material'], mode='markers', name='Material', hovertext=foundational_df_transformed['geo']), row=1, col=2)\n",
    "fig.add_trace(go.Scatter(x=time_period_col, y=foundational_df_transformed['providential'], mode='markers', name='Providential', hovertext=foundational_df_transformed['geo']), row=2, col=1)\n",
    "fig.add_trace(go.Scatter(x=time_period_col, y=foundational_df_transformed['other'], mode='markers', name='Other', hovertext=foundational_df_transformed['geo']), row=2, col=2)\n",
    "fig.update_xaxes(tickvals=time_periods, row=1, col=1)\n",
    "fig.update_xaxes(tickvals=time_periods, row=1, col=2)\n",
    "fig.update_xaxes(tickvals=time_periods, row=2, col=1)\n",
    "fig.update_xaxes(tickvals=time_periods, row=2, col=2)\n",
    "fig.update_layout(height=600, width=800, title_text=\"Scatter Plots for Foundational Types\", showlegend=False)\n",
    "fig.show()"
   ],
   "metadata": {
    "collapsed": false
   },
   "id": "d506a3d1addecb3f"
  },
  {
   "cell_type": "markdown",
   "source": [
    "## Reproducing JV analysis with new data"
   ],
   "metadata": {
    "collapsed": false
   },
   "id": "a5929ac8a8f5b30"
  },
  {
   "cell_type": "code",
   "outputs": [],
   "source": [
    "regression_df = foundational_df_transformed.copy()\n",
    "regression_df['energy_material'] = regression_df['energy'] * regression_df['material']"
   ],
   "metadata": {
    "collapsed": false
   },
   "id": "f876eef7c7622830"
  },
  {
   "cell_type": "code",
   "outputs": [],
   "source": [
    "results = run_regression(regression_df, 'hale', ['energy', 'gini', 'material', 'goveffectiveness'])\n",
    "print_regression_results(results)"
   ],
   "metadata": {
    "collapsed": false
   },
   "id": "4231d8065253efec"
  },
  {
   "cell_type": "markdown",
   "source": [
    "## Regression by sector (Later)\n",
    " - Use sectoral energy input (per cap? share?), sectoral labor share and sector-related need satisfaction variable"
   ],
   "metadata": {
    "collapsed": false
   },
   "id": "23df5165f6c4732c"
  },
  {
   "cell_type": "markdown",
   "source": [
    "## Regression by region (Later)\n",
    " - Use total regional energy input (per cap? share?), total regional labor share and total regional need satisfaction variable"
   ],
   "metadata": {
    "collapsed": false
   },
   "id": "89e2a775fd923efa"
  },
  {
   "cell_type": "markdown",
   "source": [
    "**Note**: We're not doing a fourth set of \n",
    "regressions by region + input due to data availability. Maybe in future research"
   ],
   "metadata": {
    "collapsed": false
   },
   "id": "a761537ad0d10a78"
  }
 ],
 "metadata": {
  "kernelspec": {
   "display_name": "Python 3",
   "language": "python",
   "name": "python3"
  },
  "language_info": {
   "codemirror_mode": {
    "name": "ipython",
    "version": 2
   },
   "file_extension": ".py",
   "mimetype": "text/x-python",
   "name": "python",
   "nbconvert_exporter": "python",
   "pygments_lexer": "ipython2",
   "version": "2.7.6"
  }
 },
 "nbformat": 4,
 "nbformat_minor": 5
}
