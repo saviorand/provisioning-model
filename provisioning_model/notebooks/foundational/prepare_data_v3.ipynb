{
 "cells": [
  {
   "source": [
    "import pandas as pd\n",
    "import numpy as np\n",
    "import pycountry\n",
    "import os, sys\n",
    "parent_dir = os.path.abspath('../../')\n",
    "if parent_dir not in sys.path:\n",
    "    sys.path.append(parent_dir)"
   ],
   "metadata": {
    "collapsed": false,
    "executionCancelledAt": null,
    "executionTime": 13,
    "lastExecutedAt": 1706457296958,
    "lastScheduledRunId": null,
    "lastSuccessfullyExecutedCode": "import pandas as pd\nimport numpy as np\nimport pycountry\nimport os, sys\nparent_dir = os.path.abspath('../../')\nif parent_dir not in sys.path:\n    sys.path.append(parent_dir)",
    "ExecuteTime": {
     "end_time": "2024-02-01T14:11:02.897195Z",
     "start_time": "2024-02-01T14:11:02.762519Z"
    }
   },
   "id": "initial_id",
   "cell_type": "code",
   "execution_count": 140,
   "outputs": []
  },
  {
   "source": [
    "time_periods = [2008, 2012, 2016, 2020]"
   ],
   "metadata": {
    "collapsed": false,
    "executionCancelledAt": null,
    "executionTime": 50,
    "lastExecutedAt": 1706457297008,
    "lastScheduledRunId": null,
    "lastSuccessfullyExecutedCode": "time_periods = [2008, 2012, 2016, 2020]",
    "ExecuteTime": {
     "end_time": "2024-02-01T14:11:02.926438Z",
     "start_time": "2024-02-01T14:11:02.899633Z"
    }
   },
   "id": "6f672c5204bbc20c",
   "cell_type": "code",
   "execution_count": 141,
   "outputs": []
  },
  {
   "source": [
    "## Load and prepare the data"
   ],
   "metadata": {
    "collapsed": false
   },
   "id": "1688703803284baf",
   "cell_type": "markdown"
  },
  {
   "source": [
    "Custom spreadsheet based on the [Activity classification](https://foundationaleconomy.com/activity-classification/) from the Foundational Economy Collective. In industry groups with different foundational types, we use the foundational type with the highest percentage, or if the shares are equal we pick the first \"most important\" in order of Material - Providential - Overlooked - Other."
   ],
   "metadata": {
    "collapsed": false
   },
   "id": "b1d6b1afc4b05386",
   "cell_type": "markdown"
  },
  {
   "source": [
    "foundational_percentages = pd.read_csv('../../data/labor/foundational_percentages.csv')"
   ],
   "metadata": {
    "collapsed": false,
    "executionCancelledAt": null,
    "executionTime": 47,
    "lastExecutedAt": 1706457297056,
    "lastScheduledRunId": null,
    "lastSuccessfullyExecutedCode": "foundational_percentages = pd.read_csv('../../data/labor/foundational_percentages.csv')",
    "ExecuteTime": {
     "end_time": "2024-02-01T14:11:02.988646Z",
     "start_time": "2024-02-01T14:11:02.940312Z"
    }
   },
   "id": "ffe8f20ad90e355c",
   "cell_type": "code",
   "execution_count": 142,
   "outputs": []
  },
  {
   "source": [
    "Energy use data from IEA (World Indicators), Total Final Consumption per capita"
   ],
   "metadata": {
    "collapsed": false
   },
   "id": "f0568f638dd842dd",
   "cell_type": "markdown"
  },
  {
   "source": [
    "energy_use_iea_csv = pd.read_csv('../../data/biophysical/iea_indicators.csv')\n",
    "energy_use_iea_tfcpop = energy_use_iea_csv[energy_use_iea_csv['FLOW'] == 'TFCPOP'].copy()"
   ],
   "metadata": {
    "collapsed": false,
    "executionCancelledAt": null,
    "executionTime": 937,
    "lastExecutedAt": 1706457297993,
    "lastScheduledRunId": null,
    "lastSuccessfullyExecutedCode": "energy_use_iea_csv = pd.read_csv('../../data/biophysical/iea_indicators.csv')\nenergy_use_iea_tfcpop = energy_use_iea_csv[energy_use_iea_csv['FLOW'] == 'TFCPOP'].copy()",
    "ExecuteTime": {
     "end_time": "2024-02-01T14:11:04.407836Z",
     "start_time": "2024-02-01T14:11:02.972425Z"
    }
   },
   "id": "7a51c18c68c4b7f",
   "cell_type": "code",
   "execution_count": 143,
   "outputs": []
  },
  {
   "source": [
    "IEA energy use dataset only has ISO3 country codes, so convert to ISO2 using the `pycountry` library to match the other datasets."
   ],
   "metadata": {
    "collapsed": false
   },
   "id": "de29b87b9007a261",
   "cell_type": "markdown"
  },
  {
   "source": [
    "def convert_iso3_to_iso2(iso3_code):\n",
    "    country = pycountry.countries.get(alpha_3=iso3_code)\n",
    "    return country.alpha_2 if country else None\n",
    "\n",
    "energy_use_iea_tfcpop['geo'] = energy_use_iea_tfcpop['COUNTRY'].apply(convert_iso3_to_iso2)\n",
    "energy_use_iea_tfcpop.rename(columns={'TIME': 'TIME_PERIOD', 'Value': 'energy'}, inplace=True)\n",
    "energy_use_iea = energy_use_iea_tfcpop[['geo', 'energy', 'TIME_PERIOD']]\n",
    "energy_use_iea = energy_use_iea[energy_use_iea['geo'].notna()]"
   ],
   "metadata": {
    "collapsed": false,
    "executionCancelledAt": null,
    "executionTime": 50,
    "lastExecutedAt": 1706457298044,
    "lastScheduledRunId": null,
    "lastSuccessfullyExecutedCode": "def convert_iso3_to_iso2(iso3_code):\n    country = pycountry.countries.get(alpha_3=iso3_code)\n    return country.alpha_2 if country else None\n\nenergy_use_iea_tfcpop['geo'] = energy_use_iea_tfcpop['COUNTRY'].apply(convert_iso3_to_iso2)\nenergy_use_iea_tfcpop.rename(columns={'TIME': 'TIME_PERIOD', 'Value': 'energy'}, inplace=True)\nenergy_use_iea = energy_use_iea_tfcpop[['geo', 'energy', 'TIME_PERIOD']]\nenergy_use_iea = energy_use_iea[energy_use_iea['geo'].notna()]",
    "ExecuteTime": {
     "end_time": "2024-02-01T14:11:04.468299Z",
     "start_time": "2024-02-01T14:11:04.410785Z"
    }
   },
   "id": "85959bf1f9ea042b",
   "cell_type": "code",
   "execution_count": 144,
   "outputs": []
  },
  {
   "source": [
    "Employment and hours worked data from the [EU labour costs survey](https://ec.europa.eu/eurostat/databrowser/view/lc_rnum1_r2/default/table?lang=en), collected every 4 years"
   ],
   "metadata": {
    "collapsed": false
   },
   "id": "ac7c6507b07d0ad9",
   "cell_type": "markdown"
  },
  {
   "source": [
    "labour_cost_survey_data = pd.read_csv('../../data/labor/lc_nnum1_r2_linear.csv')"
   ],
   "metadata": {
    "collapsed": false,
    "executionCancelledAt": null,
    "executionTime": 1587,
    "lastExecutedAt": 1706457299631,
    "lastScheduledRunId": null,
    "lastSuccessfullyExecutedCode": "labour_cost_survey_data = pd.read_csv('../../data/labor/lc_nnum1_r2_linear.csv')",
    "ExecuteTime": {
     "end_time": "2024-02-01T14:11:06.873292Z",
     "start_time": "2024-02-01T14:11:04.439065Z"
    }
   },
   "id": "9bcbc60d135f809",
   "cell_type": "code",
   "execution_count": 145,
   "outputs": []
  },
  {
   "source": [
    "Employment and hours worked data from [National accounts](https://ec.europa.eu/eurostat/databrowser/view/nama_10_a64_e/default/table?lang=en), collected annually. Run the same regressions with this and the previous variable to see which one is best suited for the quantitative analysis."
   ],
   "metadata": {
    "collapsed": false
   },
   "id": "c682904a4c71e1c8",
   "cell_type": "markdown"
  },
  {
   "source": [
    "labour_accounts_data = pd.read_csv('../../data/labor/nama_10_a64_e_linear.csv')"
   ],
   "metadata": {
    "collapsed": false,
    "executionCancelledAt": null,
    "executionTime": 1050,
    "lastExecutedAt": 1706457300683,
    "lastScheduledRunId": null,
    "lastSuccessfullyExecutedCode": "labour_accounts_data = pd.read_csv('../../data/labor/nama_10_a64_e_linear.csv')",
    "ExecuteTime": {
     "end_time": "2024-02-01T14:11:08.202381Z",
     "start_time": "2024-02-01T14:11:06.874753Z"
    }
   },
   "id": "4ce214b7a50946f3",
   "cell_type": "code",
   "execution_count": 146,
   "outputs": []
  },
  {
   "source": [
    "Need satisfaction variables from World Development Indicators (School enrollment) and World Happiness Report (Life expectancy, Life satisfaction, etc.)"
   ],
   "metadata": {
    "collapsed": false
   },
   "id": "68d823f3e3fd141",
   "cell_type": "markdown"
  },
  {
   "source": [
    "whr = pd.read_csv('../../data/need_satisfaction/whr.csv')\n",
    "school_enrollment = pd.read_csv('../../data/need_satisfaction/wdi_schoolenr.csv')\n",
    "undp_composite = pd.read_csv('../../data/need_satisfaction/undp_composite.csv')\n",
    "lifeexpectancy = pd.read_csv('../../data/need_satisfaction/wdi_lifeexpectancy.csv')"
   ],
   "metadata": {
    "collapsed": false,
    "executionCancelledAt": null,
    "executionTime": 48,
    "lastExecutedAt": 1706457300732,
    "lastScheduledRunId": null,
    "lastSuccessfullyExecutedCode": "whr = pd.read_csv('../../data/need_satisfaction/whr.csv')\nschool_enrollment = pd.read_csv('../../data/need_satisfaction/wdi_schoolenr.csv')\nlifeexpectancy = pd.read_csv('../../data/need_satisfaction/wdi_lifeexpectancy.csv')",
    "ExecuteTime": {
     "end_time": "2024-02-01T14:11:08.268876Z",
     "start_time": "2024-02-01T14:11:08.201836Z"
    }
   },
   "id": "fd5437ad96c06735",
   "cell_type": "code",
   "execution_count": 147,
   "outputs": []
  },
  {
   "source": [
    "def convert_name_to_iso2(country_name):\n",
    "    if country_name == 'Türkiye' or country_name == 'Turkiye':\n",
    "        return \"TR\"\n",
    "    country = pycountry.countries.get(name=country_name)\n",
    "    return country.alpha_2 if country else None\n",
    "whr_with_codes = whr.copy()\n",
    "whr_with_codes['geo'] = whr['Country name'].apply(convert_name_to_iso2)\n",
    "whr_with_codes = whr_with_codes[whr_with_codes['geo'].notna()]\n",
    "whr_with_codes.rename(columns={'year': 'TIME_PERIOD', 'Life Ladder': 'ladder', 'Social support': 'socialsupport', 'Healthy life expectancy at birth': 'hale', 'Freedom to make life choices': 'freedom', 'Generosity': 'charity', 'Perceptions of corruption': 'corruption', 'Positive affect': 'positive', 'Negative affect': 'negative'}, inplace=True)\n",
    "whr_with_codes.drop(columns=['Country name', 'Log GDP per capita'], inplace=True)"
   ],
   "metadata": {
    "collapsed": false,
    "executionCancelledAt": null,
    "executionTime": 63,
    "lastExecutedAt": 1706457300796,
    "lastScheduledRunId": null,
    "lastSuccessfullyExecutedCode": "def convert_name_to_iso2(country_name):\n    if country_name == 'Türkiye' or country_name == 'Turkiye':\n        return \"TR\"\n    country = pycountry.countries.get(name=country_name)\n    return country.alpha_2 if country else None\nwhr_with_codes = whr.copy()\nwhr_with_codes['geo'] = whr['Country name'].apply(convert_name_to_iso2)\nwhr_with_codes = whr_with_codes[whr_with_codes['geo'].notna()]\nwhr_with_codes.rename(columns={'year': 'TIME_PERIOD', 'Life Ladder': 'ladder', 'Social support': 'socialsupport', 'Healthy life expectancy at birth': 'hale', 'Freedom to make life choices': 'freedom', 'Generosity': 'charity', 'Perceptions of corruption': 'corruption', 'Positive affect': 'positive', 'Negative affect': 'negative'}, inplace=True)\nwhr_with_codes.drop(columns=['Country name', 'Log GDP per capita'], inplace=True)",
    "ExecuteTime": {
     "end_time": "2024-02-01T14:11:08.298737Z",
     "start_time": "2024-02-01T14:11:08.273749Z"
    }
   },
   "id": "3cbdbade35615ddd",
   "cell_type": "code",
   "execution_count": 148,
   "outputs": []
  },
  {
   "cell_type": "code",
   "outputs": [],
   "source": [
    "def convert_iso3_to_iso2(iso3_code):\n",
    "    country = pycountry.countries.get(alpha_3=iso3_code)\n",
    "    return country.alpha_2 if country else None\n",
    "undp_education = undp_composite.copy()\n",
    "undp_education['geo'] = undp_education['ISO3'].apply(convert_iso3_to_iso2)\n",
    "undp_education = undp_education[undp_education['geo'].notna()]\n",
    "undp_education.rename(columns={'Year': 'TIME_PERIOD', 'Expected Years of Schooling': 'education'}, inplace=True)\n",
    "undp_education = undp_education[undp_education['Gender'] == 'Total']\n",
    "undp_education.drop(columns=['ISO3', 'Country', 'Region', 'Gender', 'Human Development Index', 'Life Expectancy at Birth', 'Mean Years of Schooling', 'Gross National Income Per Capita'], inplace=True)"
   ],
   "metadata": {
    "collapsed": false,
    "ExecuteTime": {
     "end_time": "2024-02-01T14:11:08.322761Z",
     "start_time": "2024-02-01T14:11:08.284442Z"
    }
   },
   "id": "3acb87afee7bfd87",
   "execution_count": 149
  },
  {
   "source": [
    "from functions.create_panel_dataset import clean_and_transform_wdi_outcomes\n",
    "school_enrollment_cleaned = clean_and_transform_wdi_outcomes(school_enrollment, 'schoolenr')\n",
    "lifeexpectancy_cleaned = clean_and_transform_wdi_outcomes(lifeexpectancy, 'lifeexpectancy')\n",
    "wdi_need_satisfaction = school_enrollment_cleaned.merge(lifeexpectancy_cleaned, on=['Year', 'Country.Code', 'Country.Name'], how='left')\n",
    "wdi_need_satisfaction['geo'] = wdi_need_satisfaction['Country.Code'].apply(convert_iso3_to_iso2)\n",
    "wdi_need_satisfaction = wdi_need_satisfaction[wdi_need_satisfaction['geo'].notna()]\n",
    "wdi_need_satisfaction.rename(columns={'Year': 'TIME_PERIOD', 'lifeexpectancy': 'wdi_hale'}, inplace=True)\n",
    "need_satisfaction = whr_with_codes.merge(wdi_need_satisfaction, on=['geo', 'TIME_PERIOD'], how='left')\n",
    "need_satisfaction = need_satisfaction.merge(undp_education, on=['geo', 'TIME_PERIOD'], how='left')\n",
    "need_satisfaction.drop(columns=['Country.Code', 'Country.Name'], inplace=True)"
   ],
   "metadata": {
    "collapsed": false,
    "executionCancelledAt": null,
    "executionTime": 117,
    "lastExecutedAt": 1706457300914,
    "lastScheduledRunId": null,
    "lastSuccessfullyExecutedCode": "from functions.create_panel_dataset import clean_and_transform_wdi_outcomes\nschool_enrollment_cleaned = clean_and_transform_wdi_outcomes(school_enrollment, 'schoolenr')\nlifeexpectancy_cleaned = clean_and_transform_wdi_outcomes(lifeexpectancy, 'lifeexpectancy')\nwdi_need_satisfaction = school_enrollment_cleaned.merge(lifeexpectancy_cleaned, on=['Year', 'Country.Code', 'Country.Name'], how='left')\nwdi_need_satisfaction['geo'] = wdi_need_satisfaction['Country.Code'].apply(convert_iso3_to_iso2)\nwdi_need_satisfaction = wdi_need_satisfaction[wdi_need_satisfaction['geo'].notna()]\nwdi_need_satisfaction.rename(columns={'Year': 'TIME_PERIOD', 'lifeexpectancy': 'wdi_hale', 'schoolenr': 'education'}, inplace=True)\nneed_satisfaction = whr_with_codes.merge(wdi_need_satisfaction, on=['geo', 'TIME_PERIOD'], how='left')\nneed_satisfaction.drop(columns=['Country.Code', 'Country.Name'], inplace=True)",
    "ExecuteTime": {
     "end_time": "2024-02-01T14:11:08.413773Z",
     "start_time": "2024-02-01T14:11:08.336827Z"
    }
   },
   "id": "6864b317923814b7",
   "cell_type": "code",
   "execution_count": 150,
   "outputs": []
  },
  {
   "source": [
    "Finally, get the provisioning factors that were found significant in the original JV analysis."
   ],
   "metadata": {
    "collapsed": false
   },
   "id": "22692b60293fd7a9",
   "cell_type": "markdown"
  },
  {
   "source": [
    "from functions.create_panel_dataset import clean_and_transform_wdi\n",
    "goveffectiveness = pd.read_csv('../../data/wdi_goveffectiveness.csv')\n",
    "gini = pd.read_csv('../../data/wdi_gini.csv')\n",
    "goveffectiveness_cleaned = clean_and_transform_wdi(goveffectiveness, 'goveffectiveness')\n",
    "gini_cleaned = clean_and_transform_wdi(gini, 'gini')\n",
    "wdi_provisioning_factors = goveffectiveness_cleaned.merge(gini_cleaned, on=['Year', 'Country.Code', 'Country.Name'], how='left')\n",
    "wdi_provisioning_factors['geo'] = wdi_provisioning_factors['Country.Code'].apply(convert_iso3_to_iso2)\n",
    "wdi_provisioning_factors = wdi_provisioning_factors[wdi_provisioning_factors['geo'].notna()]\n",
    "wdi_provisioning_factors.rename(columns={'Year': 'TIME_PERIOD'}, inplace=True)\n",
    "wdi_provisioning_factors.drop(columns=['Country.Code', 'Country.Name'], inplace=True)"
   ],
   "metadata": {
    "collapsed": false,
    "executionCancelledAt": null,
    "executionTime": 94,
    "lastExecutedAt": 1706457301009,
    "lastScheduledRunId": null,
    "lastSuccessfullyExecutedCode": "from functions.create_panel_dataset import clean_and_transform_wdi\ngoveffectiveness = pd.read_csv('../../data/wdi_goveffectiveness.csv')\ngini = pd.read_csv('../../data/wdi_gini.csv')\ngoveffectiveness_cleaned = clean_and_transform_wdi(goveffectiveness, 'goveffectiveness')\ngini_cleaned = clean_and_transform_wdi(gini, 'gini')\nwdi_provisioning_factors = goveffectiveness_cleaned.merge(gini_cleaned, on=['Year', 'Country.Code', 'Country.Name'], how='left')\nwdi_provisioning_factors['geo'] = wdi_provisioning_factors['Country.Code'].apply(convert_iso3_to_iso2)\nwdi_provisioning_factors = wdi_provisioning_factors[wdi_provisioning_factors['geo'].notna()]\nwdi_provisioning_factors.rename(columns={'Year': 'TIME_PERIOD'}, inplace=True)\nwdi_provisioning_factors.drop(columns=['Country.Code', 'Country.Name'], inplace=True)",
    "ExecuteTime": {
     "end_time": "2024-02-01T14:11:08.467855Z",
     "start_time": "2024-02-01T14:11:08.415614Z"
    }
   },
   "id": "d062fbbe6964bca",
   "cell_type": "code",
   "execution_count": 151,
   "outputs": []
  },
  {
   "source": [
    "Count the number of unique countries that are available in both datasets."
   ],
   "metadata": {
    "collapsed": false
   },
   "id": "eded59fbb3e1f9f1",
   "cell_type": "markdown"
  },
  {
   "source": [
    "labour_cost_survey_geo = labour_cost_survey_data.geo.unique()\n",
    "energy_geo = energy_use_iea.geo.unique()\n",
    "energy_lc_sv_shared_geo = np.intersect1d(labour_cost_survey_geo, energy_geo)\n",
    "energy_lc_sv_shared_geo = np.delete(energy_lc_sv_shared_geo, np.where(energy_lc_sv_shared_geo == 'EU27_2020'))\n",
    "print(f'The labour cost survey + energy intersection has {len(energy_lc_sv_shared_geo)} unique countries')\n",
    "labour_accounts_geo = labour_accounts_data.geo.unique()\n",
    "energy_lc_ac_shared_geo = np.intersect1d(labour_accounts_geo, energy_geo)\n",
    "energy_lc_ac_shared_geo = np.delete(energy_lc_ac_shared_geo, np.where(energy_lc_ac_shared_geo == 'EU27_2020'))\n",
    "print(f'The labour accounts + energy intersection has {len(energy_lc_ac_shared_geo)} unique countries')\n",
    "print(\n",
    "    f'Countries that are in the labour cost survey variant but not in labour accounts are: {np.setdiff1d(energy_lc_sv_shared_geo, energy_lc_ac_shared_geo)}')"
   ],
   "metadata": {
    "collapsed": false,
    "executionCancelledAt": null,
    "outputsMetadata": {
     "0": {
      "height": 77,
      "type": "stream"
     }
    },
    "executionTime": 126,
    "lastExecutedAt": 1706457301137,
    "lastScheduledRunId": null,
    "lastSuccessfullyExecutedCode": "labour_cost_survey_geo = labour_cost_survey_data.geo.unique()\nenergy_geo = energy_use_iea.geo.unique()\nenergy_lc_sv_shared_geo = np.intersect1d(labour_cost_survey_geo, energy_geo)\nenergy_lc_sv_shared_geo = np.delete(energy_lc_sv_shared_geo, np.where(energy_lc_sv_shared_geo == 'EU27_2020'))\nprint(f'The labour cost survey + energy intersection has {len(energy_lc_sv_shared_geo)} unique countries')\nlabour_accounts_geo = labour_accounts_data.geo.unique()\nenergy_lc_ac_shared_geo = np.intersect1d(labour_accounts_geo, energy_geo)\nenergy_lc_ac_shared_geo = np.delete(energy_lc_ac_shared_geo, np.where(energy_lc_ac_shared_geo == 'EU27_2020'))\nprint(f'The labour accounts + energy intersection has {len(energy_lc_ac_shared_geo)} unique countries')\nprint(\n    f'Countries that are in the labour cost survey variant but not in labour accounts are: {np.setdiff1d(energy_lc_sv_shared_geo, energy_lc_ac_shared_geo)}')",
    "ExecuteTime": {
     "end_time": "2024-02-01T14:11:08.608181Z",
     "start_time": "2024-02-01T14:11:08.502226Z"
    }
   },
   "id": "687a4805d3374450",
   "cell_type": "code",
   "execution_count": 152,
   "outputs": [
    {
     "name": "stdout",
     "output_type": "stream",
     "text": [
      "The labour cost survey + energy intersection has 35 unique countries\n",
      "The labour accounts + energy intersection has 32 unique countries\n",
      "Countries that are in the labour cost survey variant but not in labour accounts are: ['AL' 'BA' 'TR']\n"
     ]
    }
   ]
  },
  {
   "source": [
    "Add the foundational type (`final_foundational` column) from `foundational_percentages` to the labour data."
   ],
   "metadata": {
    "collapsed": false
   },
   "id": "b60119d9dcefdaf7",
   "cell_type": "markdown"
  },
  {
   "source": [
    "foundational_percentages_selected = foundational_percentages[['nace_r2', 'final_foundational']]\n",
    "labour_cost_survey_with_foundational = labour_cost_survey_data.merge(foundational_percentages_selected, on='nace_r2',\n",
    "                                                                     how='left')\n",
    "labour_accounts_with_foundational = labour_accounts_data.merge(foundational_percentages_selected, on='nace_r2',\n",
    "                                                               how='left')"
   ],
   "metadata": {
    "collapsed": false,
    "executionCancelledAt": null,
    "executionTime": 846,
    "lastExecutedAt": 1706457301983,
    "lastScheduledRunId": null,
    "lastSuccessfullyExecutedCode": "foundational_percentages_selected = foundational_percentages[['nace_r2', 'final_foundational']]\nlabour_cost_survey_with_foundational = labour_cost_survey_data.merge(foundational_percentages_selected, on='nace_r2',\n                                                                     how='left')\nlabour_accounts_with_foundational = labour_accounts_data.merge(foundational_percentages_selected, on='nace_r2',\n                                                               how='left')",
    "ExecuteTime": {
     "end_time": "2024-02-01T14:11:10.392486Z",
     "start_time": "2024-02-01T14:11:08.638916Z"
    }
   },
   "id": "57ccf5af527d5de0",
   "cell_type": "code",
   "execution_count": 153,
   "outputs": []
  },
  {
   "source": [
    "Only keep relevant columns. "
   ],
   "metadata": {
    "collapsed": false
   },
   "id": "fb4f773a0f74e3d3",
   "cell_type": "markdown"
  },
  {
   "source": [
    "labour_cost_survey_filtered = labour_cost_survey_with_foundational[\n",
    "    ['geo', 'nace_r2', 'final_foundational', 'sizeclas', 'worktime', 'indic_lc', 'TIME_PERIOD', 'OBS_VALUE']]\n",
    "labour_accounts_filtered = labour_accounts_with_foundational[\n",
    "    ['geo', 'nace_r2', 'final_foundational', 'na_item', 'TIME_PERIOD', 'OBS_VALUE']]"
   ],
   "metadata": {
    "collapsed": false,
    "executionCancelledAt": null,
    "executionTime": 633,
    "lastExecutedAt": 1706457302618,
    "lastScheduledRunId": null,
    "lastSuccessfullyExecutedCode": "labour_cost_survey_filtered = labour_cost_survey_with_foundational[\n    ['geo', 'nace_r2', 'final_foundational', 'sizeclas', 'worktime', 'indic_lc', 'TIME_PERIOD', 'OBS_VALUE']]\nlabour_accounts_filtered = labour_accounts_with_foundational[\n    ['geo', 'nace_r2', 'final_foundational', 'na_item', 'TIME_PERIOD', 'OBS_VALUE']]",
    "ExecuteTime": {
     "end_time": "2024-02-01T14:11:11.170023Z",
     "start_time": "2024-02-01T14:11:10.391907Z"
    }
   },
   "id": "90f12f857581d5ae",
   "cell_type": "code",
   "execution_count": 154,
   "outputs": []
  },
  {
   "source": [
    "We are currently not interested in the size class of the enterprise in labour cost survey data (maybe in the future), so only keep `GE10` (\"Greater than 10 employees\"). \n",
    "There is a `TOTAL` size class, but the values for this are available for 33 countries as opposed 47 for `GE10`."
   ],
   "metadata": {
    "collapsed": false
   },
   "id": "4b8b35ad3dea8dde",
   "cell_type": "markdown"
  },
  {
   "source": [
    "labour_cost_survey_filtered_sizeclas = labour_cost_survey_filtered[labour_cost_survey_filtered.sizeclas == 'GE10']\n",
    "# unique_countries_per_sizeclas = labour_cost_survey_with_foundational.groupby('sizeclas')['geo'].nunique()"
   ],
   "metadata": {
    "collapsed": false,
    "executionCancelledAt": null,
    "executionTime": 124,
    "lastExecutedAt": 1706457302744,
    "lastScheduledRunId": null,
    "lastSuccessfullyExecutedCode": "labour_cost_survey_filtered_sizeclas = labour_cost_survey_filtered[labour_cost_survey_filtered.sizeclas == 'GE10']\n# unique_countries_per_sizeclas = labour_cost_survey_with_foundational.groupby('sizeclas')['geo'].nunique()",
    "ExecuteTime": {
     "end_time": "2024-02-01T14:11:11.288629Z",
     "start_time": "2024-02-01T14:11:11.222092Z"
    }
   },
   "id": "f30dfd765de85078",
   "cell_type": "code",
   "execution_count": 155,
   "outputs": []
  },
  {
   "source": [
    "Only keep observations (country-years) for which both energy and labour data is available"
   ],
   "metadata": {
    "collapsed": false
   },
   "id": "cf979f117aea107d",
   "cell_type": "markdown"
  },
  {
   "source": [
    "labour_cost_survey_selected = labour_cost_survey_filtered_sizeclas[\n",
    "    labour_cost_survey_filtered_sizeclas.geo.isin(energy_lc_sv_shared_geo)]\n",
    "labour_accounts_selected = labour_accounts_filtered[labour_accounts_filtered.geo.isin(energy_lc_ac_shared_geo)]"
   ],
   "metadata": {
    "collapsed": false,
    "executionCancelledAt": null,
    "executionTime": 121,
    "lastExecutedAt": 1706457302866,
    "lastScheduledRunId": null,
    "lastSuccessfullyExecutedCode": "labour_cost_survey_selected = labour_cost_survey_filtered_sizeclas[\n    labour_cost_survey_filtered_sizeclas.geo.isin(energy_lc_sv_shared_geo)]\nlabour_accounts_selected = labour_accounts_filtered[labour_accounts_filtered.geo.isin(energy_lc_ac_shared_geo)]",
    "ExecuteTime": {
     "end_time": "2024-02-01T14:11:11.526322Z",
     "start_time": "2024-02-01T14:11:11.303252Z"
    }
   },
   "id": "caf64d9af867f4e1",
   "cell_type": "code",
   "execution_count": 156,
   "outputs": []
  },
  {
   "source": [
    "Split the labour survey data into two datasets, one for employment and one for hours worked (\"hours paid\", not \"hours actually worked\" as there could be issues with how latter is reported (? confirm with RB and JV).\n",
    "Filter out self-employed from the accounts data."
   ],
   "metadata": {
    "collapsed": false
   },
   "id": "6d2c0ecae3836fb7",
   "cell_type": "markdown"
  },
  {
   "source": [
    "labour_cost_survey_selected_employment = labour_cost_survey_selected[\n",
    "    labour_cost_survey_selected.indic_lc == 'SAL']\n",
    "labour_cost_survey_selected_hours_worked = labour_cost_survey_selected[\n",
    "    labour_cost_survey_selected.indic_lc == 'HP_SAL_Y']\n",
    "labour_accounts_selected_employment = labour_accounts_selected[labour_accounts_selected.na_item == 'SAL_DC']"
   ],
   "metadata": {
    "collapsed": false,
    "executionCancelledAt": null,
    "executionTime": 106,
    "lastExecutedAt": 1706457302974,
    "lastScheduledRunId": null,
    "lastSuccessfullyExecutedCode": "labour_cost_survey_selected_employment = labour_cost_survey_selected[\n    labour_cost_survey_selected.indic_lc == 'SAL']\nlabour_cost_survey_selected_hours_worked = labour_cost_survey_selected[\n    labour_cost_survey_selected.indic_lc == 'HP_SAL_Y']\nlabour_accounts_selected_employment = labour_accounts_selected[labour_accounts_selected.na_item == 'SAL_DC']",
    "ExecuteTime": {
     "end_time": "2024-02-01T14:11:11.664040Z",
     "start_time": "2024-02-01T14:11:11.538098Z"
    }
   },
   "id": "c6ee3d336301ab99",
   "cell_type": "code",
   "execution_count": 157,
   "outputs": []
  },
  {
   "source": [
    "Only look at FTEs (full-time equivalents) in labour cost survey data, not to distinguish between full-time or part-time measures. This only applies to employment data, not hours worked."
   ],
   "metadata": {
    "collapsed": false
   },
   "id": "b4c0dbc357be33c0",
   "cell_type": "markdown"
  },
  {
   "source": [
    "labour_cost_survey_selected_employment_fte = labour_cost_survey_selected_employment[\n",
    "    labour_cost_survey_selected_employment.worktime == 'TOT_FTE']"
   ],
   "metadata": {
    "collapsed": false,
    "executionCancelledAt": null,
    "executionTime": 52,
    "lastExecutedAt": 1706457303028,
    "lastScheduledRunId": null,
    "lastSuccessfullyExecutedCode": "labour_cost_survey_selected_employment_fte = labour_cost_survey_selected_employment[\n    labour_cost_survey_selected_employment.worktime == 'TOT_FTE']",
    "ExecuteTime": {
     "end_time": "2024-02-01T14:11:11.685041Z",
     "start_time": "2024-02-01T14:11:11.667377Z"
    }
   },
   "id": "20edd0622e84b4f0",
   "cell_type": "code",
   "execution_count": 158,
   "outputs": []
  },
  {
   "source": [
    "Remove rows where final_foundational is nan"
   ],
   "metadata": {},
   "cell_type": "markdown",
   "id": "df12168e-bf7d-461b-80f3-459d301cf092"
  },
  {
   "source": [
    "labour_cost_survey_selected_employment_fte = labour_cost_survey_selected_employment_fte[\n",
    "    labour_cost_survey_selected_employment_fte.final_foundational.notna()]\n",
    "labour_accounts_selected_employment = labour_accounts_selected_employment[\n",
    "    labour_accounts_selected_employment.final_foundational.notna()]"
   ],
   "metadata": {
    "collapsed": false,
    "executionCancelledAt": null,
    "executionTime": 52,
    "lastExecutedAt": 1706457303080,
    "lastScheduledRunId": null,
    "lastSuccessfullyExecutedCode": "labour_cost_survey_selected_employment_fte = labour_cost_survey_selected_employment_fte[\n    labour_cost_survey_selected_employment_fte.final_foundational.notna()]\nlabour_accounts_selected_employment = labour_accounts_selected_employment[\n    labour_accounts_selected_employment.final_foundational.notna()]",
    "ExecuteTime": {
     "end_time": "2024-02-01T14:11:11.715907Z",
     "start_time": "2024-02-01T14:11:11.678911Z"
    }
   },
   "id": "ec3d5a0e863cdae1",
   "cell_type": "code",
   "execution_count": 159,
   "outputs": []
  },
  {
   "source": [
    "Calculate labour shares by foundational type for employment and hours."
   ],
   "metadata": {
    "collapsed": false
   },
   "id": "bb0a02f66f76c6f8",
   "cell_type": "markdown"
  },
  {
   "source": [
    "import matplotlib.pyplot as plt\n",
    "from functions.create_panel_dataset import calculate_shares"
   ],
   "metadata": {
    "collapsed": false,
    "executionCancelledAt": null,
    "executionTime": 47,
    "lastExecutedAt": 1706457303128,
    "lastScheduledRunId": null,
    "lastSuccessfullyExecutedCode": "import matplotlib.pyplot as plt\nfrom functions.create_panel_dataset import calculate_shares",
    "ExecuteTime": {
     "end_time": "2024-02-01T14:11:11.717915Z",
     "start_time": "2024-02-01T14:11:11.715364Z"
    }
   },
   "id": "4c788f63d87c532",
   "cell_type": "code",
   "execution_count": 160,
   "outputs": []
  },
  {
   "source": [
    "labour_cost_survey_shares_employment_fte = calculate_shares(labour_cost_survey_selected_employment_fte, 'OBS_VALUE')\n",
    "labour_cost_survey_shares_hours_worked = calculate_shares(labour_cost_survey_selected_hours_worked, 'OBS_VALUE')\n",
    "labour_accounts_shares_employment = calculate_shares(labour_accounts_selected_employment, 'OBS_VALUE')"
   ],
   "metadata": {
    "collapsed": false,
    "executionCancelledAt": null,
    "executionTime": 86,
    "lastExecutedAt": 1706457303215,
    "lastScheduledRunId": null,
    "lastSuccessfullyExecutedCode": "labour_cost_survey_shares_employment_fte = calculate_shares(labour_cost_survey_selected_employment_fte, 'OBS_VALUE')\nlabour_cost_survey_shares_hours_worked = calculate_shares(labour_cost_survey_selected_hours_worked, 'OBS_VALUE')\nlabour_accounts_shares_employment = calculate_shares(labour_accounts_selected_employment, 'OBS_VALUE')",
    "ExecuteTime": {
     "end_time": "2024-02-01T14:11:11.798842Z",
     "start_time": "2024-02-01T14:11:11.724649Z"
    }
   },
   "id": "bae88cb11445dc7b",
   "cell_type": "code",
   "execution_count": 161,
   "outputs": []
  },
  {
   "source": [
    "plt.hist(labour_cost_survey_shares_employment_fte['TIME_PERIOD'], bins=[y - 2 for y in time_periods] + [2022], edgecolor='black', align='mid', rwidth=0.8)\n",
    "plt.xticks(time_periods); plt.xlabel('Year'); plt.ylabel('Countries'); plt.title('Labor shares available per year (LC Survey)')"
   ],
   "metadata": {
    "collapsed": false,
    "executionCancelledAt": null,
    "executionTime": 192,
    "lastExecutedAt": 1706457303409,
    "lastScheduledRunId": null,
    "lastSuccessfullyExecutedCode": "plt.hist(labour_cost_survey_shares_employment_fte['TIME_PERIOD'], bins=[y - 2 for y in time_periods] + [2022], edgecolor='black', align='mid', rwidth=0.8)\nplt.xticks(time_periods); plt.xlabel('Year'); plt.ylabel('Countries'); plt.title('Labor shares available per year (LC Survey)')",
    "ExecuteTime": {
     "end_time": "2024-02-01T14:11:12.153703Z",
     "start_time": "2024-02-01T14:11:11.852324Z"
    }
   },
   "id": "3e23b8f111580299",
   "cell_type": "code",
   "execution_count": 162,
   "outputs": [
    {
     "data": {
      "text/plain": "Text(0.5, 1.0, 'Labor shares available per year (LC Survey)')"
     },
     "execution_count": 162,
     "metadata": {},
     "output_type": "execute_result"
    },
    {
     "data": {
      "text/plain": "<Figure size 640x480 with 1 Axes>",
      "image/png": "[encoded data removed]"
     },
     "metadata": {},
     "output_type": "display_data"
    }
   ]
  },
  {
   "source": [
    "energy_use_iea_selected_years = energy_use_iea[energy_use_iea['TIME_PERIOD'].isin(time_periods)]\n",
    "energy_use_iea_selected = energy_use_iea_selected_years[energy_use_iea_selected_years.geo.isin(labour_cost_survey_shares_employment_fte.geo.unique())]\n",
    "energy_use_iea_selected_years_accounts = energy_use_iea[energy_use_iea['TIME_PERIOD'].isin(labour_accounts_shares_employment.TIME_PERIOD.unique())]\n",
    "energy_use_iea_selected_years_accounts[energy_use_iea_selected_years_accounts.geo.isin(labour_accounts_shares_employment.geo.unique())]"
   ],
   "metadata": {
    "collapsed": false,
    "executionCancelledAt": null,
    "executionTime": 71,
    "lastExecutedAt": 1706457303480,
    "lastScheduledRunId": null,
    "lastSuccessfullyExecutedCode": "energy_use_iea_selected_years = energy_use_iea[energy_use_iea['TIME_PERIOD'].isin(time_periods)]\nenergy_use_iea_selected = energy_use_iea_selected_years[energy_use_iea_selected_years.geo.isin(labour_cost_survey_shares_employment_fte.geo.unique())]\nenergy_use_iea_selected_years_accounts = energy_use_iea[energy_use_iea['TIME_PERIOD'].isin(labour_accounts_shares_employment.TIME_PERIOD.unique())]\nenergy_use_iea_selected_years_accounts[energy_use_iea_selected_years_accounts.geo.isin(labour_accounts_shares_employment.geo.unique())]",
    "outputsMetadata": {
     "0": {
      "height": 323,
      "type": "dataFrame"
     }
    },
    "ExecuteTime": {
     "end_time": "2024-02-01T14:11:12.245211Z",
     "start_time": "2024-02-01T14:11:12.153088Z"
    }
   },
   "id": "5d5ca28545939cc6",
   "cell_type": "code",
   "execution_count": 163,
   "outputs": [
    {
     "data": {
      "text/plain": "       geo  energy  TIME_PERIOD\n193047  AT   2.107         1975\n193048  AT   2.195         1976\n193049  AT   2.219         1977\n193050  AT   2.348         1978\n193051  AT   2.500         1979\n...     ..     ...          ...\n244057  SI   2.447         2018\n244058  SI   2.389         2019\n244059  SI   2.163         2020\n244060  SI   2.309         2021\n244061  SI     NaN         2022\n\n[1392 rows x 3 columns]",
      "text/html": "<div>\n<style scoped>\n    .dataframe tbody tr th:only-of-type {\n        vertical-align: middle;\n    }\n\n    .dataframe tbody tr th {\n        vertical-align: top;\n    }\n\n    .dataframe thead th {\n        text-align: right;\n    }\n</style>\n<table border=\"1\" class=\"dataframe\">\n  <thead>\n    <tr style=\"text-align: right;\">\n      <th></th>\n      <th>geo</th>\n      <th>energy</th>\n      <th>TIME_PERIOD</th>\n    </tr>\n  </thead>\n  <tbody>\n    <tr>\n      <th>193047</th>\n      <td>AT</td>\n      <td>2.107</td>\n      <td>1975</td>\n    </tr>\n    <tr>\n      <th>193048</th>\n      <td>AT</td>\n      <td>2.195</td>\n      <td>1976</td>\n    </tr>\n    <tr>\n      <th>193049</th>\n      <td>AT</td>\n      <td>2.219</td>\n      <td>1977</td>\n    </tr>\n    <tr>\n      <th>193050</th>\n      <td>AT</td>\n      <td>2.348</td>\n      <td>1978</td>\n    </tr>\n    <tr>\n      <th>193051</th>\n      <td>AT</td>\n      <td>2.500</td>\n      <td>1979</td>\n    </tr>\n    <tr>\n      <th>...</th>\n      <td>...</td>\n      <td>...</td>\n      <td>...</td>\n    </tr>\n    <tr>\n      <th>244057</th>\n      <td>SI</td>\n      <td>2.447</td>\n      <td>2018</td>\n    </tr>\n    <tr>\n      <th>244058</th>\n      <td>SI</td>\n      <td>2.389</td>\n      <td>2019</td>\n    </tr>\n    <tr>\n      <th>244059</th>\n      <td>SI</td>\n      <td>2.163</td>\n      <td>2020</td>\n    </tr>\n    <tr>\n      <th>244060</th>\n      <td>SI</td>\n      <td>2.309</td>\n      <td>2021</td>\n    </tr>\n    <tr>\n      <th>244061</th>\n      <td>SI</td>\n      <td>NaN</td>\n      <td>2022</td>\n    </tr>\n  </tbody>\n</table>\n<p>1392 rows × 3 columns</p>\n</div>"
     },
     "execution_count": 163,
     "metadata": {},
     "output_type": "execute_result"
    }
   ]
  },
  {
   "source": [
    "plt.hist(energy_use_iea_selected['TIME_PERIOD'], bins=[y - 2 for y in time_periods], edgecolor='black', align='mid', rwidth=0.8)\n",
    "plt.xticks(time_periods); plt.xlabel('Year'); plt.ylabel('Countries'); plt.title('Energy use data available per year')"
   ],
   "metadata": {
    "collapsed": false,
    "executionCancelledAt": null,
    "executionTime": 181,
    "lastExecutedAt": 1706457303662,
    "lastScheduledRunId": null,
    "lastSuccessfullyExecutedCode": "plt.hist(energy_use_iea_selected['TIME_PERIOD'], bins=[y - 2 for y in time_periods], edgecolor='black', align='mid', rwidth=0.8)\nplt.xticks(time_periods); plt.xlabel('Year'); plt.ylabel('Countries'); plt.title('Energy use data available per year')",
    "ExecuteTime": {
     "end_time": "2024-02-01T14:11:12.426696Z",
     "start_time": "2024-02-01T14:11:12.190261Z"
    }
   },
   "id": "c71f2ee3863e017c",
   "cell_type": "code",
   "execution_count": 164,
   "outputs": [
    {
     "data": {
      "text/plain": "Text(0.5, 1.0, 'Energy use data available per year')"
     },
     "execution_count": 164,
     "metadata": {},
     "output_type": "execute_result"
    },
    {
     "data": {
      "text/plain": "<Figure size 640x480 with 1 Axes>",
      "image/png": "[encoded data removed]"
     },
     "metadata": {},
     "output_type": "display_data"
    }
   ]
  },
  {
   "source": [
    "Assemble energy use, labor and need satisfaction data into a single dataset."
   ],
   "metadata": {
    "collapsed": false
   },
   "id": "c62a0957ae338d82",
   "cell_type": "markdown"
  },
  {
   "source": [
    "energy_use_employment = labour_cost_survey_shares_employment_fte.merge(energy_use_iea_selected, on=['geo', 'TIME_PERIOD'], how='left')\n",
    "energy_use_employment_need_satisfaction = energy_use_employment.merge(need_satisfaction, on=['geo', 'TIME_PERIOD'], how='left')\n",
    "energy_use_employment_need_satisfaction_provisioning_factors = energy_use_employment_need_satisfaction.merge(wdi_provisioning_factors, on=['geo', 'TIME_PERIOD'], how='left')"
   ],
   "metadata": {
    "collapsed": false,
    "executionCancelledAt": null,
    "executionTime": 54,
    "lastExecutedAt": 1706457303716,
    "lastScheduledRunId": null,
    "lastSuccessfullyExecutedCode": "energy_use_employment = labour_cost_survey_shares_employment_fte.merge(energy_use_iea_selected, on=['geo', 'TIME_PERIOD'], how='left')\nenergy_use_employment_need_satisfaction = energy_use_employment.merge(need_satisfaction, on=['geo', 'TIME_PERIOD'], how='left')\nenergy_use_employment_need_satisfaction_provisioning_factors = energy_use_employment_need_satisfaction.merge(wdi_provisioning_factors, on=['geo', 'TIME_PERIOD'], how='left')",
    "ExecuteTime": {
     "end_time": "2024-02-01T14:11:12.428093Z",
     "start_time": "2024-02-01T14:11:12.285042Z"
    }
   },
   "id": "37d6fbfe9448e464",
   "cell_type": "code",
   "execution_count": 165,
   "outputs": []
  },
  {
   "source": [
    "energy_use_employment_accounts = labour_accounts_shares_employment.merge(energy_use_iea_selected_years_accounts, on=['geo', 'TIME_PERIOD'], how='left')\n",
    "energy_use_employment_need_satisfaction_accounts = energy_use_employment_accounts.merge(need_satisfaction, on=['geo', 'TIME_PERIOD'], how='left')\n",
    "energy_use_employment_need_satisfaction_provisioning_factors_accounts = energy_use_employment_need_satisfaction_accounts.merge(wdi_provisioning_factors, on=['geo', 'TIME_PERIOD'], how='left')"
   ],
   "metadata": {
    "executionCancelledAt": null,
    "executionTime": 51,
    "lastExecutedAt": 1706457303768,
    "lastScheduledRunId": null,
    "lastSuccessfullyExecutedCode": "energy_use_employment_accounts = labour_accounts_shares_employment.merge(energy_use_iea_selected_years_accounts, on=['geo', 'TIME_PERIOD'], how='left')\nenergy_use_employment_need_satisfaction_accounts = energy_use_employment_accounts.merge(need_satisfaction, on=['geo', 'TIME_PERIOD'], how='left')\nenergy_use_employment_need_satisfaction_provisioning_factors_accounts = energy_use_employment_need_satisfaction_accounts.merge(wdi_provisioning_factors, on=['geo', 'TIME_PERIOD'], how='left')",
    "ExecuteTime": {
     "end_time": "2024-02-01T14:11:12.533534Z",
     "start_time": "2024-02-01T14:11:12.294005Z"
    }
   },
   "cell_type": "code",
   "id": "ce0114aa-300c-4be6-931e-4f57805c7be2",
   "outputs": [],
   "execution_count": 166
  },
  {
   "source": [
    "Rename some columns and save the resulting (non-transformed) data as a CSV"
   ],
   "metadata": {
    "collapsed": false
   },
   "id": "27df7d91765c2e3c",
   "cell_type": "markdown"
  },
  {
   "source": [
    "foundational_df_no_transformations = energy_use_employment_need_satisfaction_provisioning_factors.rename(columns={'Material': 'material', 'Other': 'other', 'Overlooked': 'overlooked', 'Providential': 'providential'})\n",
    "foundational_df_no_transformations.to_csv('./output/foundational_no_transformations.csv', index=False) "
   ],
   "metadata": {
    "collapsed": false,
    "executionCancelledAt": null,
    "executionTime": 48,
    "lastExecutedAt": 1706457303816,
    "lastScheduledRunId": null,
    "lastSuccessfullyExecutedCode": "foundational_df_no_transformations = energy_use_employment_need_satisfaction_provisioning_factors.rename(columns={'Material': 'material', 'Other': 'other', 'Overlooked': 'overlooked', 'Providential': 'providential'})\nfoundational_df_no_transformations.to_csv('./output/foundational_no_transformations.csv', index=False) ",
    "ExecuteTime": {
     "end_time": "2024-02-01T14:11:12.534045Z",
     "start_time": "2024-02-01T14:11:12.309798Z"
    }
   },
   "id": "54a4be537674257",
   "cell_type": "code",
   "execution_count": 167,
   "outputs": []
  },
  {
   "source": [
    "foundational_df_no_transformations_accounts = energy_use_employment_need_satisfaction_provisioning_factors_accounts.rename(columns={'Material': 'material', 'Other': 'other', 'Overlooked': 'overlooked', 'Providential': 'providential'})\n",
    "foundational_df_no_transformations_accounts.to_csv('./output/foundational_no_transformations_accounts.csv', index=False) "
   ],
   "metadata": {
    "executionCancelledAt": null,
    "executionTime": 50,
    "lastExecutedAt": 1706457303866,
    "lastScheduledRunId": null,
    "lastSuccessfullyExecutedCode": "foundational_df_no_transformations_accounts = energy_use_employment_need_satisfaction_provisioning_factors_accounts.rename(columns={'Material': 'material', 'Other': 'other', 'Overlooked': 'overlooked', 'Providential': 'providential'})\nfoundational_df_no_transformations_accounts.to_csv('./output/foundational_no_transformations_accounts.csv', index=False) ",
    "ExecuteTime": {
     "end_time": "2024-02-01T14:11:12.534683Z",
     "start_time": "2024-02-01T14:11:12.326607Z"
    }
   },
   "cell_type": "code",
   "id": "3f28349f-8c33-4f5f-8465-321e3b24f8f2",
   "outputs": [],
   "execution_count": 168
  },
  {
   "source": [
    "Final (non-transformed) data frame"
   ],
   "metadata": {
    "collapsed": false
   },
   "id": "2dcd52839573edcd",
   "cell_type": "markdown"
  },
  {
   "source": [
    "foundational_df_no_transformations.head()"
   ],
   "metadata": {
    "collapsed": false,
    "executionCancelledAt": null,
    "executionTime": 42,
    "lastExecutedAt": 1706457341288,
    "lastScheduledRunId": null,
    "lastSuccessfullyExecutedCode": "foundational_df_no_transformations.head()",
    "outputsMetadata": {
     "0": {
      "height": 198,
      "type": "dataFrame"
     }
    },
    "ExecuteTime": {
     "end_time": "2024-02-01T14:11:12.627189Z",
     "start_time": "2024-02-01T14:11:12.349658Z"
    }
   },
   "id": "4a5dd2055f69390b",
   "cell_type": "code",
   "execution_count": 169,
   "outputs": [
    {
     "data": {
      "text/plain": "  geo  TIME_PERIOD  material     other  overlooked  providential  energy  \\\n0  AL         2012  0.164312  0.275001    0.136145      0.424542   0.629   \n1  AL         2016  0.134377  0.181879    0.301832      0.381912   0.693   \n2  AL         2020  0.080560  0.525501    0.269410      0.124529   0.658   \n3  AT         2008  0.158141  0.532883    0.176036      0.132940   3.242   \n4  AT         2012  0.161036  0.542779    0.180083      0.116101   3.191   \n\n   ladder  socialsupport    hale  freedom  charity  corruption  positive  \\\n0   5.510          0.785  68.160    0.602   -0.170       0.848     0.553   \n1   4.511          0.638  69.025    0.730   -0.019       0.901     0.567   \n2   5.365          0.710  69.125    0.754    0.004       0.891     0.563   \n3   7.181          0.935  69.700    0.879    0.287       0.614     0.716   \n4   7.401          0.945  70.100    0.920    0.114       0.771     0.712   \n\n   negative   schoolenr   wdi_hale  education  goveffectiveness  gini  \n0     0.271   99.700272  78.064000   14.58665         -0.267876  29.0  \n1     0.322  100.219978  78.860000   14.80460          0.059715  33.7  \n2     0.265   96.167473  76.989000   14.44800         -0.124957  29.4  \n3     0.173  100.126129  80.431707   15.77006          1.771053  30.4  \n4     0.157  100.108727  80.936585   16.08506          1.559877  30.5  ",
      "text/html": "<div>\n<style scoped>\n    .dataframe tbody tr th:only-of-type {\n        vertical-align: middle;\n    }\n\n    .dataframe tbody tr th {\n        vertical-align: top;\n    }\n\n    .dataframe thead th {\n        text-align: right;\n    }\n</style>\n<table border=\"1\" class=\"dataframe\">\n  <thead>\n    <tr style=\"text-align: right;\">\n      <th></th>\n      <th>geo</th>\n      <th>TIME_PERIOD</th>\n      <th>material</th>\n      <th>other</th>\n      <th>overlooked</th>\n      <th>providential</th>\n      <th>energy</th>\n      <th>ladder</th>\n      <th>socialsupport</th>\n      <th>hale</th>\n      <th>freedom</th>\n      <th>charity</th>\n      <th>corruption</th>\n      <th>positive</th>\n      <th>negative</th>\n      <th>schoolenr</th>\n      <th>wdi_hale</th>\n      <th>education</th>\n      <th>goveffectiveness</th>\n      <th>gini</th>\n    </tr>\n  </thead>\n  <tbody>\n    <tr>\n      <th>0</th>\n      <td>AL</td>\n      <td>2012</td>\n      <td>0.164312</td>\n      <td>0.275001</td>\n      <td>0.136145</td>\n      <td>0.424542</td>\n      <td>0.629</td>\n      <td>5.510</td>\n      <td>0.785</td>\n      <td>68.160</td>\n      <td>0.602</td>\n      <td>-0.170</td>\n      <td>0.848</td>\n      <td>0.553</td>\n      <td>0.271</td>\n      <td>99.700272</td>\n      <td>78.064000</td>\n      <td>14.58665</td>\n      <td>-0.267876</td>\n      <td>29.0</td>\n    </tr>\n    <tr>\n      <th>1</th>\n      <td>AL</td>\n      <td>2016</td>\n      <td>0.134377</td>\n      <td>0.181879</td>\n      <td>0.301832</td>\n      <td>0.381912</td>\n      <td>0.693</td>\n      <td>4.511</td>\n      <td>0.638</td>\n      <td>69.025</td>\n      <td>0.730</td>\n      <td>-0.019</td>\n      <td>0.901</td>\n      <td>0.567</td>\n      <td>0.322</td>\n      <td>100.219978</td>\n      <td>78.860000</td>\n      <td>14.80460</td>\n      <td>0.059715</td>\n      <td>33.7</td>\n    </tr>\n    <tr>\n      <th>2</th>\n      <td>AL</td>\n      <td>2020</td>\n      <td>0.080560</td>\n      <td>0.525501</td>\n      <td>0.269410</td>\n      <td>0.124529</td>\n      <td>0.658</td>\n      <td>5.365</td>\n      <td>0.710</td>\n      <td>69.125</td>\n      <td>0.754</td>\n      <td>0.004</td>\n      <td>0.891</td>\n      <td>0.563</td>\n      <td>0.265</td>\n      <td>96.167473</td>\n      <td>76.989000</td>\n      <td>14.44800</td>\n      <td>-0.124957</td>\n      <td>29.4</td>\n    </tr>\n    <tr>\n      <th>3</th>\n      <td>AT</td>\n      <td>2008</td>\n      <td>0.158141</td>\n      <td>0.532883</td>\n      <td>0.176036</td>\n      <td>0.132940</td>\n      <td>3.242</td>\n      <td>7.181</td>\n      <td>0.935</td>\n      <td>69.700</td>\n      <td>0.879</td>\n      <td>0.287</td>\n      <td>0.614</td>\n      <td>0.716</td>\n      <td>0.173</td>\n      <td>100.126129</td>\n      <td>80.431707</td>\n      <td>15.77006</td>\n      <td>1.771053</td>\n      <td>30.4</td>\n    </tr>\n    <tr>\n      <th>4</th>\n      <td>AT</td>\n      <td>2012</td>\n      <td>0.161036</td>\n      <td>0.542779</td>\n      <td>0.180083</td>\n      <td>0.116101</td>\n      <td>3.191</td>\n      <td>7.401</td>\n      <td>0.945</td>\n      <td>70.100</td>\n      <td>0.920</td>\n      <td>0.114</td>\n      <td>0.771</td>\n      <td>0.712</td>\n      <td>0.157</td>\n      <td>100.108727</td>\n      <td>80.936585</td>\n      <td>16.08506</td>\n      <td>1.559877</td>\n      <td>30.5</td>\n    </tr>\n  </tbody>\n</table>\n</div>"
     },
     "execution_count": 169,
     "metadata": {},
     "output_type": "execute_result"
    }
   ]
  },
  {
   "source": [
    "### Next step: exploratory analysis! See [exploratory.ipynb](exploratory.ipynb)"
   ],
   "metadata": {
    "collapsed": false
   },
   "id": "68bc7fd7e0c7dff5",
   "cell_type": "markdown"
  }
 ],
 "metadata": {
  "language_info": {
   "name": "python",
   "version": "3.8.10",
   "mimetype": "text/x-python",
   "codemirror_mode": {
    "name": "ipython",
    "version": 3
   },
   "pygments_lexer": "ipython3",
   "nbconvert_exporter": "python",
   "file_extension": ".py"
  },
  "kernelspec": {
   "display_name": "Python 3 (ipykernel)",
   "language": "python",
   "name": "python3"
  },
  "editor": "DataCamp Workspace"
 },
 "nbformat": 4,
 "nbformat_minor": 5
}
