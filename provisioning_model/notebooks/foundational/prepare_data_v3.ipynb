{
 "cells": [
  {
   "source": [
    "%%capture\n",
    "!pip install pycountry"
   ],
   "metadata": {
    "executionCancelledAt": null,
    "executionTime": 5258,
    "lastExecutedAt": 1708625338163,
    "lastScheduledRunId": null,
    "lastSuccessfullyExecutedCode": "!pip install pycountry",
    "outputsMetadata": {
     "0": {
      "height": 137,
      "type": "stream"
     }
    },
    "ExecuteTime": {
     "end_time": "2024-02-24T18:32:07.507177Z",
     "start_time": "2024-02-24T18:32:06.230859Z"
    }
   },
   "cell_type": "code",
   "id": "35e155ad-1cc7-4ceb-9bc6-effec9fc9b1c",
   "outputs": [],
   "execution_count": 1
  },
  {
   "source": [
    "import pandas as pd\n",
    "import numpy as np\n",
    "import pycountry\n",
    "import os, sys\n",
    "parent_dir = os.path.abspath('../../')\n",
    "if parent_dir not in sys.path:\n",
    "    sys.path.append(parent_dir)"
   ],
   "metadata": {
    "collapsed": false,
    "executionCancelledAt": null,
    "executionTime": 49,
    "lastExecutedAt": 1708625338214,
    "lastScheduledRunId": null,
    "lastSuccessfullyExecutedCode": "import pandas as pd\nimport numpy as np\nimport pycountry\nimport os, sys\nparent_dir = os.path.abspath('../../')\nif parent_dir not in sys.path:\n    sys.path.append(parent_dir)",
    "ExecuteTime": {
     "end_time": "2024-02-24T18:32:08.152309Z",
     "start_time": "2024-02-24T18:32:07.505081Z"
    }
   },
   "id": "initial_id",
   "cell_type": "code",
   "execution_count": 2,
   "outputs": []
  },
  {
   "source": [
    "time_periods = [2008, 2012, 2016, 2020]"
   ],
   "metadata": {
    "collapsed": false,
    "executionCancelledAt": null,
    "executionTime": 48,
    "lastExecutedAt": 1708625338262,
    "lastScheduledRunId": null,
    "lastSuccessfullyExecutedCode": "time_periods = [2008, 2012, 2016, 2020]",
    "ExecuteTime": {
     "end_time": "2024-02-24T18:32:08.156664Z",
     "start_time": "2024-02-24T18:32:08.152472Z"
    }
   },
   "id": "6f672c5204bbc20c",
   "cell_type": "code",
   "execution_count": 3,
   "outputs": []
  },
  {
   "source": [
    "def convert_iso3_to_iso2(iso3_code):\n",
    "    country = pycountry.countries.get(alpha_3=iso3_code)\n",
    "    return country.alpha_2 if country else None\n",
    "\n",
    "def convert_name_to_iso2(country_name):\n",
    "    if country_name == 'Türkiye' or country_name == 'Turkiye':\n",
    "        return \"TR\"\n",
    "    country = pycountry.countries.get(name=country_name)\n",
    "    return country.alpha_2 if country else None"
   ],
   "metadata": {
    "executionCancelledAt": null,
    "executionTime": 51,
    "lastExecutedAt": 1708625338314,
    "lastScheduledRunId": null,
    "lastSuccessfullyExecutedCode": "def convert_iso3_to_iso2(iso3_code):\n    country = pycountry.countries.get(alpha_3=iso3_code)\n    return country.alpha_2 if country else None\n\ndef convert_name_to_iso2(country_name):\n    if country_name == 'Türkiye' or country_name == 'Turkiye':\n        return \"TR\"\n    country = pycountry.countries.get(name=country_name)\n    return country.alpha_2 if country else None",
    "ExecuteTime": {
     "end_time": "2024-02-24T18:32:08.160526Z",
     "start_time": "2024-02-24T18:32:08.156045Z"
    }
   },
   "cell_type": "code",
   "id": "5ccfc4d7-8fce-42a1-b33e-3eb35ca31f9e",
   "outputs": [],
   "execution_count": 4
  },
  {
   "source": [
    "population_100k = pd.read_csv('../../data/demographic/population_100k.csv')\n",
    "population_100k_with_codes = population_100k.copy()\n",
    "population_100k_with_codes = population_100k_with_codes[population_100k_with_codes['Country.Code'].notna()]\n",
    "population_100k_with_codes['geo'] = population_100k_with_codes['Country.Code'].apply(convert_iso3_to_iso2)\n",
    "population_100k_with_codes.rename(columns={'Year': 'TIME_PERIOD'}, inplace=True)\n",
    "population = population_100k_with_codes.copy()\n",
    "population['population'] = population_100k_with_codes['pop100k'] * 100000"
   ],
   "metadata": {
    "executionCancelledAt": null,
    "executionTime": 62,
    "lastExecutedAt": 1708625338378,
    "lastScheduledRunId": null,
    "lastSuccessfullyExecutedCode": "population_100k = pd.read_csv('../../data/demographic/population_100k.csv')\npopulation_100k_with_codes = population_100k.copy()\npopulation_100k_with_codes = population_100k_with_codes[population_100k_with_codes['Country.Code'].notna()]\npopulation_100k_with_codes['geo'] = population_100k_with_codes['Country.Code'].apply(convert_iso3_to_iso2)\npopulation_100k_with_codes.rename(columns={'Year': 'TIME_PERIOD'}, inplace=True)\npopulation = population_100k_with_codes.copy()\npopulation['population'] = population_100k_with_codes['pop100k'] * 100000",
    "ExecuteTime": {
     "end_time": "2024-02-24T18:32:08.215684Z",
     "start_time": "2024-02-24T18:32:08.159747Z"
    }
   },
   "cell_type": "code",
   "id": "0bc02dee-b87f-4fb5-acd2-68eee3f896ed",
   "outputs": [],
   "execution_count": 5
  },
  {
   "source": [
    "Sanity check for population, e.g Austria"
   ],
   "metadata": {},
   "cell_type": "markdown",
   "id": "6c4f2beb-1874-4c66-b7ba-5ee5c58e1c0e"
  },
  {
   "source": [
    "population[population['Country.Code'] == 'AUT']"
   ],
   "metadata": {
    "executionCancelledAt": null,
    "executionTime": 52,
    "lastExecutedAt": 1708625338431,
    "lastScheduledRunId": null,
    "lastSuccessfullyExecutedCode": "population[population['Country.Code'] == 'AUT']",
    "outputsMetadata": {
     "0": {
      "height": 323,
      "type": "dataFrame"
     }
    },
    "ExecuteTime": {
     "end_time": "2024-02-24T18:32:08.233132Z",
     "start_time": "2024-02-24T18:32:08.212601Z"
    }
   },
   "cell_type": "code",
   "id": "b8ac0b65-0e6d-4e4e-be7a-db0b8111899d",
   "outputs": [
    {
     "data": {
      "text/plain": "       Unnamed: 0 Country.Code Country.Name  population  TIME_PERIOD  \\\n13608       13608          AUT      Austria   6937809.0         1950   \n13609       13609          AUT      Austria   6935070.0         1951   \n13610       13610          AUT      Austria   6925793.0         1952   \n13611       13611          AUT      Austria   6928236.0         1953   \n13612       13612          AUT      Austria   6935352.0         1954   \n...           ...          ...          ...         ...          ...   \n13675       13675          AUT      Austria   8772740.0         2017   \n13676       13676          AUT      Austria   8822252.0         2018   \n13677       13677          AUT      Austria   8858773.0         2019   \n13678       13678          AUT      Austria   8901106.0         2020   \n13679       13679          AUT      Austria   8914448.0         2021   \n\n        pop100k geo  \n13608  69.37809  AT  \n13609  69.35070  AT  \n13610  69.25793  AT  \n13611  69.28236  AT  \n13612  69.35352  AT  \n...         ...  ..  \n13675  87.72740  AT  \n13676  88.22252  AT  \n13677  88.58773  AT  \n13678  89.01106  AT  \n13679  89.14448  AT  \n\n[72 rows x 7 columns]",
      "text/html": "<div>\n<style scoped>\n    .dataframe tbody tr th:only-of-type {\n        vertical-align: middle;\n    }\n\n    .dataframe tbody tr th {\n        vertical-align: top;\n    }\n\n    .dataframe thead th {\n        text-align: right;\n    }\n</style>\n<table border=\"1\" class=\"dataframe\">\n  <thead>\n    <tr style=\"text-align: right;\">\n      <th></th>\n      <th>Unnamed: 0</th>\n      <th>Country.Code</th>\n      <th>Country.Name</th>\n      <th>population</th>\n      <th>TIME_PERIOD</th>\n      <th>pop100k</th>\n      <th>geo</th>\n    </tr>\n  </thead>\n  <tbody>\n    <tr>\n      <th>13608</th>\n      <td>13608</td>\n      <td>AUT</td>\n      <td>Austria</td>\n      <td>6937809.0</td>\n      <td>1950</td>\n      <td>69.37809</td>\n      <td>AT</td>\n    </tr>\n    <tr>\n      <th>13609</th>\n      <td>13609</td>\n      <td>AUT</td>\n      <td>Austria</td>\n      <td>6935070.0</td>\n      <td>1951</td>\n      <td>69.35070</td>\n      <td>AT</td>\n    </tr>\n    <tr>\n      <th>13610</th>\n      <td>13610</td>\n      <td>AUT</td>\n      <td>Austria</td>\n      <td>6925793.0</td>\n      <td>1952</td>\n      <td>69.25793</td>\n      <td>AT</td>\n    </tr>\n    <tr>\n      <th>13611</th>\n      <td>13611</td>\n      <td>AUT</td>\n      <td>Austria</td>\n      <td>6928236.0</td>\n      <td>1953</td>\n      <td>69.28236</td>\n      <td>AT</td>\n    </tr>\n    <tr>\n      <th>13612</th>\n      <td>13612</td>\n      <td>AUT</td>\n      <td>Austria</td>\n      <td>6935352.0</td>\n      <td>1954</td>\n      <td>69.35352</td>\n      <td>AT</td>\n    </tr>\n    <tr>\n      <th>...</th>\n      <td>...</td>\n      <td>...</td>\n      <td>...</td>\n      <td>...</td>\n      <td>...</td>\n      <td>...</td>\n      <td>...</td>\n    </tr>\n    <tr>\n      <th>13675</th>\n      <td>13675</td>\n      <td>AUT</td>\n      <td>Austria</td>\n      <td>8772740.0</td>\n      <td>2017</td>\n      <td>87.72740</td>\n      <td>AT</td>\n    </tr>\n    <tr>\n      <th>13676</th>\n      <td>13676</td>\n      <td>AUT</td>\n      <td>Austria</td>\n      <td>8822252.0</td>\n      <td>2018</td>\n      <td>88.22252</td>\n      <td>AT</td>\n    </tr>\n    <tr>\n      <th>13677</th>\n      <td>13677</td>\n      <td>AUT</td>\n      <td>Austria</td>\n      <td>8858773.0</td>\n      <td>2019</td>\n      <td>88.58773</td>\n      <td>AT</td>\n    </tr>\n    <tr>\n      <th>13678</th>\n      <td>13678</td>\n      <td>AUT</td>\n      <td>Austria</td>\n      <td>8901106.0</td>\n      <td>2020</td>\n      <td>89.01106</td>\n      <td>AT</td>\n    </tr>\n    <tr>\n      <th>13679</th>\n      <td>13679</td>\n      <td>AUT</td>\n      <td>Austria</td>\n      <td>8914448.0</td>\n      <td>2021</td>\n      <td>89.14448</td>\n      <td>AT</td>\n    </tr>\n  </tbody>\n</table>\n<p>72 rows × 7 columns</p>\n</div>"
     },
     "execution_count": 6,
     "metadata": {},
     "output_type": "execute_result"
    }
   ],
   "execution_count": 6
  },
  {
   "source": [
    "## Load and prepare the data"
   ],
   "metadata": {
    "collapsed": false
   },
   "id": "1688703803284baf",
   "cell_type": "markdown"
  },
  {
   "source": [
    "Custom spreadsheet based on the [Activity classification](https://foundationaleconomy.com/activity-classification/) from the Foundational Economy Collective. In industry groups with different foundational types, we use the foundational type with the highest percentage, or if the shares are equal we pick the first \"most important\" in order of Material - Providential - Overlooked - Other."
   ],
   "metadata": {
    "collapsed": false
   },
   "id": "b1d6b1afc4b05386",
   "cell_type": "markdown"
  },
  {
   "source": [
    "foundational_percentages = pd.read_csv('../../data/labor/foundational_percentages.csv')"
   ],
   "metadata": {
    "collapsed": false,
    "executionCancelledAt": null,
    "executionTime": 47,
    "lastExecutedAt": 1708625338478,
    "lastScheduledRunId": null,
    "lastSuccessfullyExecutedCode": "foundational_percentages = pd.read_csv('../../data/labor/foundational_percentages.csv')",
    "ExecuteTime": {
     "end_time": "2024-02-24T18:32:08.236265Z",
     "start_time": "2024-02-24T18:32:08.224244Z"
    }
   },
   "id": "ffe8f20ad90e355c",
   "cell_type": "code",
   "execution_count": 7,
   "outputs": []
  },
  {
   "source": [
    "Energy use data from IEA (World Indicators), \n",
    "\n",
    "TFC - Total Final Consumption\n",
    "\n",
    "TES - Total Energy Supply\n",
    "\n",
    "TFCPOP - TFC per capita\n",
    "\n",
    "TESPOP - TES per capita"
   ],
   "metadata": {
    "collapsed": false
   },
   "id": "f0568f638dd842dd",
   "cell_type": "markdown"
  },
  {
   "source": [
    "energy_use_iea_csv = pd.read_csv('../../data/biophysical/iea_indicators.csv')\n",
    "energy_use_iea_tfc = energy_use_iea_csv[energy_use_iea_csv['FLOW'] == 'TFC'].copy()\n",
    "energy_use_iea_tfcpop = energy_use_iea_csv[energy_use_iea_csv['FLOW'] == 'TFCPOP'].copy()\n",
    "energy_use_iea_tes = energy_use_iea_csv[energy_use_iea_csv['FLOW'] == 'TES'].copy()\n",
    "energy_use_iea_tespop = energy_use_iea_csv[energy_use_iea_csv['FLOW'] == 'TESPOP'].copy()"
   ],
   "metadata": {
    "collapsed": false,
    "executionCancelledAt": null,
    "executionTime": 1023,
    "lastExecutedAt": 1708625339502,
    "lastScheduledRunId": null,
    "lastSuccessfullyExecutedCode": "energy_use_iea_csv = pd.read_csv('../../data/biophysical/iea_indicators.csv')\nenergy_use_iea_tfc = energy_use_iea_csv[energy_use_iea_csv['FLOW'] == 'TFC'].copy()\nenergy_use_iea_tfcpop = energy_use_iea_csv[energy_use_iea_csv['FLOW'] == 'TFCPOP'].copy()\nenergy_use_iea_tes = energy_use_iea_csv[energy_use_iea_csv['FLOW'] == 'TES'].copy()\nenergy_use_iea_tespop = energy_use_iea_csv[energy_use_iea_csv['FLOW'] == 'TESPOP'].copy()",
    "ExecuteTime": {
     "end_time": "2024-02-24T18:32:09.487294Z",
     "start_time": "2024-02-24T18:32:08.231095Z"
    }
   },
   "id": "7a51c18c68c4b7f",
   "cell_type": "code",
   "execution_count": 8,
   "outputs": []
  },
  {
   "source": [
    "energy_use_iea_tfc['geo'] = energy_use_iea_tfc['COUNTRY'].apply(convert_iso3_to_iso2)\n",
    "energy_use_iea_tfc.rename(columns={'TIME': 'TIME_PERIOD', 'Value': 'energy'}, inplace=True)\n",
    "energy_use_iea_tfc_with_mypop = energy_use_iea_tfc.merge(population, on=['geo', 'TIME_PERIOD'], how='left')\n",
    "energy_use_iea_tfc_with_mypop.drop(columns=['Unnamed: 0', 'Country.Code', 'Country.Name'], inplace=True)\n",
    "energy_use_iea_tfc_mypop = energy_use_iea_tfc_with_mypop.copy()\n",
    "energy_use_iea_tfc_mypop['energy_per_cap_GJ'] = energy_use_iea_tfc_with_mypop['energy'] / energy_use_iea_tfc_with_mypop['population'] * 1000000 * 41.868"
   ],
   "metadata": {
    "executionCancelledAt": null,
    "executionTime": 58,
    "lastExecutedAt": 1708625339562,
    "lastScheduledRunId": null,
    "lastSuccessfullyExecutedCode": "energy_use_iea_tfc['geo'] = energy_use_iea_tfc['COUNTRY'].apply(convert_iso3_to_iso2)\nenergy_use_iea_tfc.rename(columns={'TIME': 'TIME_PERIOD', 'Value': 'energy'}, inplace=True)\nenergy_use_iea_tfc_with_mypop = energy_use_iea_tfc.merge(population, on=['geo', 'TIME_PERIOD'], how='left')\nenergy_use_iea_tfc_with_mypop.drop(columns=['Unnamed: 0', 'Country.Code', 'Country.Name'], inplace=True)\nenergy_use_iea_tfc_mypop = energy_use_iea_tfc_with_mypop.copy()\nenergy_use_iea_tfc_mypop['energy_per_cap_GJ'] = energy_use_iea_tfc_with_mypop['energy'] / energy_use_iea_tfc_with_mypop['population'] * 1000000 * 41.868",
    "ExecuteTime": {
     "end_time": "2024-02-24T18:32:09.527359Z",
     "start_time": "2024-02-24T18:32:09.499471Z"
    }
   },
   "cell_type": "code",
   "id": "b02f9266-f200-40d7-8f27-da1038450088",
   "outputs": [],
   "execution_count": 9
  },
  {
   "source": [
    "energy_use_iea_tes['geo'] = energy_use_iea_tes['COUNTRY'].apply(convert_iso3_to_iso2)\n",
    "energy_use_iea_tes.rename(columns={'TIME': 'TIME_PERIOD', 'Value': 'energy'}, inplace=True)\n",
    "energy_use_iea_tes_with_mypop = energy_use_iea_tes.merge(population, on=['geo', 'TIME_PERIOD'], how='left')\n",
    "energy_use_iea_tes_with_mypop.drop(columns=['Unnamed: 0', 'Country.Code', 'Country.Name'], inplace=True)\n",
    "energy_use_iea_tes_mypop = energy_use_iea_tes_with_mypop.copy()\n",
    "energy_use_iea_tes_mypop['energy_per_cap_GJ'] = energy_use_iea_tes_with_mypop['energy'] / energy_use_iea_tes_with_mypop['population'] * 1000000 * 41.868"
   ],
   "metadata": {
    "executionCancelledAt": null,
    "executionTime": 78,
    "lastExecutedAt": 1708625339642,
    "lastScheduledRunId": null,
    "lastSuccessfullyExecutedCode": "energy_use_iea_tes['geo'] = energy_use_iea_tes['COUNTRY'].apply(convert_iso3_to_iso2)\nenergy_use_iea_tes.rename(columns={'TIME': 'TIME_PERIOD', 'Value': 'energy'}, inplace=True)\nenergy_use_iea_tes_with_mypop = energy_use_iea_tes.merge(population, on=['geo', 'TIME_PERIOD'], how='left')\nenergy_use_iea_tes_with_mypop.drop(columns=['Unnamed: 0', 'Country.Code', 'Country.Name'], inplace=True)\nenergy_use_iea_tes_mypop = energy_use_iea_tes_with_mypop.copy()\nenergy_use_iea_tes_mypop['energy_per_cap_GJ'] = energy_use_iea_tes_with_mypop['energy'] / energy_use_iea_tes_with_mypop['population'] * 1000000 * 41.868",
    "ExecuteTime": {
     "end_time": "2024-02-24T18:32:09.567158Z",
     "start_time": "2024-02-24T18:32:09.538532Z"
    }
   },
   "cell_type": "code",
   "id": "ec19a869-f32a-42d8-9f5d-44bf030e1850",
   "outputs": [],
   "execution_count": 10
  },
  {
   "source": [
    "energy_use_iea_tfc_mypop[(energy_use_iea_tfc_mypop['COUNTRY'] == 'AUT') & (energy_use_iea_tfc_mypop['TIME_PERIOD'].isin([2019, 2020, 2021]))]"
   ],
   "metadata": {
    "executionCancelledAt": null,
    "executionTime": 53,
    "lastExecutedAt": 1708625339696,
    "lastScheduledRunId": null,
    "lastSuccessfullyExecutedCode": "energy_use_iea_tfc_mypop[(energy_use_iea_tfc_mypop['COUNTRY'] == 'AUT') & (energy_use_iea_tfc_mypop['TIME_PERIOD'].isin([2019, 2020, 2021]))]",
    "outputsMetadata": {
     "0": {
      "height": 163,
      "type": "dataFrame"
     }
    },
    "ExecuteTime": {
     "end_time": "2024-02-24T18:32:09.588671Z",
     "start_time": "2024-02-24T18:32:09.551549Z"
    }
   },
   "cell_type": "code",
   "id": "a5f28fdb-c4d6-4b22-9df4-8b1dd5fae47e",
   "outputs": [
    {
     "data": {
      "text/plain": "     COUNTRY  Country FLOW                                  Flow  TIME_PERIOD  \\\n1571     AUT  Austria  TFC  Total final consumption (TFC) (Mtoe)         2019   \n1572     AUT  Austria  TFC  Total final consumption (TFC) (Mtoe)         2020   \n1573     AUT  Austria  TFC  Total final consumption (TFC) (Mtoe)         2021   \n\n      Time  energy Flag Codes Flags geo  population   pop100k  \\\n1571  2019  28.029        NaN   NaN  AT   8858773.0  88.58773   \n1572  2020  26.558        NaN   NaN  AT   8901106.0  89.01106   \n1573  2021  28.101        NaN   NaN  AT   8914448.0  89.14448   \n\n      energy_per_cap_GJ  \n1571         132.469606  \n1572         124.920470  \n1573         131.980429  ",
      "text/html": "<div>\n<style scoped>\n    .dataframe tbody tr th:only-of-type {\n        vertical-align: middle;\n    }\n\n    .dataframe tbody tr th {\n        vertical-align: top;\n    }\n\n    .dataframe thead th {\n        text-align: right;\n    }\n</style>\n<table border=\"1\" class=\"dataframe\">\n  <thead>\n    <tr style=\"text-align: right;\">\n      <th></th>\n      <th>COUNTRY</th>\n      <th>Country</th>\n      <th>FLOW</th>\n      <th>Flow</th>\n      <th>TIME_PERIOD</th>\n      <th>Time</th>\n      <th>energy</th>\n      <th>Flag Codes</th>\n      <th>Flags</th>\n      <th>geo</th>\n      <th>population</th>\n      <th>pop100k</th>\n      <th>energy_per_cap_GJ</th>\n    </tr>\n  </thead>\n  <tbody>\n    <tr>\n      <th>1571</th>\n      <td>AUT</td>\n      <td>Austria</td>\n      <td>TFC</td>\n      <td>Total final consumption (TFC) (Mtoe)</td>\n      <td>2019</td>\n      <td>2019</td>\n      <td>28.029</td>\n      <td>NaN</td>\n      <td>NaN</td>\n      <td>AT</td>\n      <td>8858773.0</td>\n      <td>88.58773</td>\n      <td>132.469606</td>\n    </tr>\n    <tr>\n      <th>1572</th>\n      <td>AUT</td>\n      <td>Austria</td>\n      <td>TFC</td>\n      <td>Total final consumption (TFC) (Mtoe)</td>\n      <td>2020</td>\n      <td>2020</td>\n      <td>26.558</td>\n      <td>NaN</td>\n      <td>NaN</td>\n      <td>AT</td>\n      <td>8901106.0</td>\n      <td>89.01106</td>\n      <td>124.920470</td>\n    </tr>\n    <tr>\n      <th>1573</th>\n      <td>AUT</td>\n      <td>Austria</td>\n      <td>TFC</td>\n      <td>Total final consumption (TFC) (Mtoe)</td>\n      <td>2021</td>\n      <td>2021</td>\n      <td>28.101</td>\n      <td>NaN</td>\n      <td>NaN</td>\n      <td>AT</td>\n      <td>8914448.0</td>\n      <td>89.14448</td>\n      <td>131.980429</td>\n    </tr>\n  </tbody>\n</table>\n</div>"
     },
     "execution_count": 11,
     "metadata": {},
     "output_type": "execute_result"
    }
   ],
   "execution_count": 11
  },
  {
   "source": [
    "energy_use_iea_tes_mypop[(energy_use_iea_tes_mypop['geo'] == 'AT') & (energy_use_iea_tes_mypop['TIME_PERIOD'].isin([2019, 2020, 2021]))]"
   ],
   "metadata": {
    "executionCancelledAt": null,
    "executionTime": 55,
    "lastExecutedAt": 1708625339751,
    "lastScheduledRunId": null,
    "lastSuccessfullyExecutedCode": "energy_use_iea_tes_mypop[(energy_use_iea_tes_mypop['geo'] == 'AT') & (energy_use_iea_tes_mypop['TIME_PERIOD'].isin([2019, 2020, 2021]))]",
    "outputsMetadata": {
     "0": {
      "height": 166,
      "type": "dataFrame"
     }
    },
    "ExecuteTime": {
     "end_time": "2024-02-24T18:32:09.604857Z",
     "start_time": "2024-02-24T18:32:09.559354Z"
    }
   },
   "cell_type": "code",
   "id": "aa8b99b1-1f7f-46b3-9ff5-aa566365e15b",
   "outputs": [
    {
     "data": {
      "text/plain": "     COUNTRY  Country FLOW                              Flow  TIME_PERIOD  \\\n1004     AUT  Austria  TES  Total energy supply (TES) (Mtoe)         2019   \n1005     AUT  Austria  TES  Total energy supply (TES) (Mtoe)         2020   \n1006     AUT  Austria  TES  Total energy supply (TES) (Mtoe)         2021   \n\n      Time  energy Flag Codes Flags geo  population   pop100k  \\\n1004  2019  33.442        NaN   NaN  AT   8858773.0  88.58773   \n1005  2020  31.622        NaN   NaN  AT   8901106.0  89.01106   \n1006  2021  33.293        NaN   NaN  AT   8914448.0  89.14448   \n\n      energy_per_cap_GJ  \n1004         158.052323  \n1005         148.739931  \n1006         156.365411  ",
      "text/html": "<div>\n<style scoped>\n    .dataframe tbody tr th:only-of-type {\n        vertical-align: middle;\n    }\n\n    .dataframe tbody tr th {\n        vertical-align: top;\n    }\n\n    .dataframe thead th {\n        text-align: right;\n    }\n</style>\n<table border=\"1\" class=\"dataframe\">\n  <thead>\n    <tr style=\"text-align: right;\">\n      <th></th>\n      <th>COUNTRY</th>\n      <th>Country</th>\n      <th>FLOW</th>\n      <th>Flow</th>\n      <th>TIME_PERIOD</th>\n      <th>Time</th>\n      <th>energy</th>\n      <th>Flag Codes</th>\n      <th>Flags</th>\n      <th>geo</th>\n      <th>population</th>\n      <th>pop100k</th>\n      <th>energy_per_cap_GJ</th>\n    </tr>\n  </thead>\n  <tbody>\n    <tr>\n      <th>1004</th>\n      <td>AUT</td>\n      <td>Austria</td>\n      <td>TES</td>\n      <td>Total energy supply (TES) (Mtoe)</td>\n      <td>2019</td>\n      <td>2019</td>\n      <td>33.442</td>\n      <td>NaN</td>\n      <td>NaN</td>\n      <td>AT</td>\n      <td>8858773.0</td>\n      <td>88.58773</td>\n      <td>158.052323</td>\n    </tr>\n    <tr>\n      <th>1005</th>\n      <td>AUT</td>\n      <td>Austria</td>\n      <td>TES</td>\n      <td>Total energy supply (TES) (Mtoe)</td>\n      <td>2020</td>\n      <td>2020</td>\n      <td>31.622</td>\n      <td>NaN</td>\n      <td>NaN</td>\n      <td>AT</td>\n      <td>8901106.0</td>\n      <td>89.01106</td>\n      <td>148.739931</td>\n    </tr>\n    <tr>\n      <th>1006</th>\n      <td>AUT</td>\n      <td>Austria</td>\n      <td>TES</td>\n      <td>Total energy supply (TES) (Mtoe)</td>\n      <td>2021</td>\n      <td>2021</td>\n      <td>33.293</td>\n      <td>NaN</td>\n      <td>NaN</td>\n      <td>AT</td>\n      <td>8914448.0</td>\n      <td>89.14448</td>\n      <td>156.365411</td>\n    </tr>\n  </tbody>\n</table>\n</div>"
     },
     "execution_count": 12,
     "metadata": {},
     "output_type": "execute_result"
    }
   ],
   "execution_count": 12
  },
  {
   "source": [
    "Looks good/comparable!"
   ],
   "metadata": {},
   "cell_type": "markdown",
   "id": "d9122c71-5b63-4255-9051-4b6c690d34bc"
  },
  {
   "source": [
    "Energy use data from Exiobase, primary energy, consumption-based"
   ],
   "metadata": {},
   "cell_type": "markdown",
   "id": "889e47ac-c32e-4b1c-86d4-011629402aa8"
  },
  {
   "source": [
    "This is in TJ, so need to convert"
   ],
   "metadata": {},
   "cell_type": "markdown",
   "id": "61345fba-0b9f-4fdf-b160-d444aceca9a7"
  },
  {
   "source": [
    "energy_use_exiobase_csv = pd.read_csv('../../data/biophysical/exiobase_energy.csv')\n",
    "energy_use_exiobase_with_mypop = energy_use_exiobase_csv.merge(population, on=['geo', 'TIME_PERIOD'], how='left')\n",
    "energy_use_exiobase_with_mypop.drop(columns=['Unnamed: 0', 'Country.Code', 'Country.Name'], inplace=True)\n",
    "energy_use_exiobase_mypop = energy_use_exiobase_with_mypop.copy()\n",
    "energy_use_exiobase_mypop['energy_per_cap_GJ'] = energy_use_exiobase_with_mypop['energy'] / energy_use_exiobase_with_mypop['population'] * 1000"
   ],
   "metadata": {
    "executionCancelledAt": null,
    "executionTime": 50,
    "lastExecutedAt": 1708625339802,
    "lastScheduledRunId": null,
    "lastSuccessfullyExecutedCode": "energy_use_exiobase_csv = pd.read_csv('../../data/biophysical/exiobase_energy.csv')\nenergy_use_exiobase_with_mypop = energy_use_exiobase_csv.merge(population, on=['geo', 'TIME_PERIOD'], how='left')\nenergy_use_exiobase_with_mypop.drop(columns=['Unnamed: 0', 'Country.Code', 'Country.Name'], inplace=True)\nenergy_use_exiobase_mypop = energy_use_exiobase_with_mypop.copy()\nenergy_use_exiobase_mypop['energy_per_cap_GJ'] = energy_use_exiobase_with_mypop['energy'] / energy_use_exiobase_with_mypop['population'] * 1000",
    "ExecuteTime": {
     "end_time": "2024-02-24T18:32:09.608284Z",
     "start_time": "2024-02-24T18:32:09.577074Z"
    }
   },
   "cell_type": "code",
   "id": "e24e19ac-465b-4800-b04f-cba8d42d7aa6",
   "outputs": [],
   "execution_count": 13
  },
  {
   "source": [
    "energy_use_exiobase_mypop[(energy_use_exiobase_mypop['geo'] == 'AT') & (energy_use_exiobase_mypop['TIME_PERIOD'].isin([2019, 2020, 2021]))]"
   ],
   "metadata": {
    "executionCancelledAt": null,
    "executionTime": 57,
    "lastExecutedAt": 1708625339860,
    "lastScheduledRunId": null,
    "lastSuccessfullyExecutedCode": "energy_use_exiobase_mypop[(energy_use_exiobase_mypop['geo'] == 'AT') & (energy_use_exiobase_mypop['TIME_PERIOD'].isin([2019, 2020, 2021]))]",
    "outputsMetadata": {
     "0": {
      "height": 149,
      "type": "dataFrame"
     }
    },
    "ExecuteTime": {
     "end_time": "2024-02-24T18:32:09.633468Z",
     "start_time": "2024-02-24T18:32:09.591503Z"
    }
   },
   "cell_type": "code",
   "id": "526ce3e2-2554-496f-84fc-c30e8688a78e",
   "outputs": [
    {
     "data": {
      "text/plain": "      TIME_PERIOD geo     energy  population   pop100k  energy_per_cap_GJ\n1176         2019  AT  1410000.0   8858773.0  88.58773         159.164254\n1225         2020  AT  1490000.0   8901106.0  89.01106         167.394928\n1274         2021  AT  1440000.0   8914448.0  89.14448         161.535521",
      "text/html": "<div>\n<style scoped>\n    .dataframe tbody tr th:only-of-type {\n        vertical-align: middle;\n    }\n\n    .dataframe tbody tr th {\n        vertical-align: top;\n    }\n\n    .dataframe thead th {\n        text-align: right;\n    }\n</style>\n<table border=\"1\" class=\"dataframe\">\n  <thead>\n    <tr style=\"text-align: right;\">\n      <th></th>\n      <th>TIME_PERIOD</th>\n      <th>geo</th>\n      <th>energy</th>\n      <th>population</th>\n      <th>pop100k</th>\n      <th>energy_per_cap_GJ</th>\n    </tr>\n  </thead>\n  <tbody>\n    <tr>\n      <th>1176</th>\n      <td>2019</td>\n      <td>AT</td>\n      <td>1410000.0</td>\n      <td>8858773.0</td>\n      <td>88.58773</td>\n      <td>159.164254</td>\n    </tr>\n    <tr>\n      <th>1225</th>\n      <td>2020</td>\n      <td>AT</td>\n      <td>1490000.0</td>\n      <td>8901106.0</td>\n      <td>89.01106</td>\n      <td>167.394928</td>\n    </tr>\n    <tr>\n      <th>1274</th>\n      <td>2021</td>\n      <td>AT</td>\n      <td>1440000.0</td>\n      <td>8914448.0</td>\n      <td>89.14448</td>\n      <td>161.535521</td>\n    </tr>\n  </tbody>\n</table>\n</div>"
     },
     "execution_count": 14,
     "metadata": {},
     "output_type": "execute_result"
    }
   ],
   "execution_count": 14
  },
  {
   "source": [
    "## EXIOBASE Energy Data"
   ],
   "metadata": {},
   "cell_type": "markdown",
   "id": "f648c0f9-988c-4fa6-882c-e2d742f46f8e"
  },
  {
   "source": [
    "Calculate Consumption-Based Final Energy from territorial and consumption-based primary"
   ],
   "metadata": {},
   "cell_type": "markdown",
   "id": "e6eb90dd-ef1c-4143-8c2b-180acc43a2b9"
  },
  {
   "source": [
    "energy_use_to_merge = pd.merge(energy_use_iea_tfc_mypop, energy_use_iea_tes_mypop, on=['geo', 'TIME_PERIOD'], how='left', suffixes=('_iea_final', '_iea_production'))\n",
    "energy_use_merged = pd.merge(energy_use_exiobase_mypop, energy_use_to_merge, on=['geo', 'TIME_PERIOD'], how='left')\n",
    "energy_use_merged.rename(columns={'energy_per_cap_GJ': 'energy_per_cap_GJ_exiobase_production'}, inplace=True)"
   ],
   "metadata": {
    "executionCancelledAt": null,
    "executionTime": 93,
    "lastExecutedAt": 1708625339953,
    "lastScheduledRunId": null,
    "lastSuccessfullyExecutedCode": "energy_use_to_merge = pd.merge(energy_use_iea_tfc_mypop, energy_use_iea_tes_mypop, on=['geo', 'TIME_PERIOD'], how='left', suffixes=('_iea_final', '_iea_production'))\nenergy_use_merged = pd.merge(energy_use_exiobase_mypop, energy_use_to_merge, on=['geo', 'TIME_PERIOD'], how='left')\nenergy_use_merged.rename(columns={'energy_per_cap_GJ': 'energy_per_cap_GJ_exiobase_production'}, inplace=True)",
    "ExecuteTime": {
     "end_time": "2024-02-24T18:32:09.790345Z",
     "start_time": "2024-02-24T18:32:09.598396Z"
    }
   },
   "cell_type": "code",
   "id": "2e1f1e72-0223-4f9f-873d-e8b97f3b8936",
   "outputs": [],
   "execution_count": 15
  },
  {
   "source": [
    "# FinalConsumptionBased = (PrimaryConsumptionBased / PrimaryTerritorial) * FinalTerritorial\n",
    "# Handle division by zero by using np.where to avoid dividing by zero\n",
    "energy_use_merged['energy_per_cap_GJ_exiobase_final'] = np.where(energy_use_merged['energy_per_cap_GJ_iea_production'] != 0,\n",
    "                                     (energy_use_merged['energy_per_cap_GJ_exiobase_production'] / energy_use_merged['energy_per_cap_GJ_iea_production']) * energy_use_merged['energy_per_cap_GJ_iea_final'],\n",
    "                                     np.nan)\n",
    "energy_use_merged = energy_use_merged[['geo', 'TIME_PERIOD', 'energy_per_cap_GJ_exiobase_production', 'energy_per_cap_GJ_exiobase_final', 'energy_per_cap_GJ_iea_production', 'energy_per_cap_GJ_iea_final']]"
   ],
   "metadata": {
    "executionCancelledAt": null,
    "executionTime": 11,
    "lastExecutedAt": 1708625420658,
    "lastScheduledRunId": null,
    "lastSuccessfullyExecutedCode": "# FinalConsumptionBased = (PrimaryConsumptionBased / PrimaryTerritorial) * FinalTerritorial\n# Handle division by zero by using np.where to avoid dividing by zero\nenergy_use_merged['energy_per_cap_GJ_exiobase_final'] = np.where(energy_use_merged['energy_per_cap_GJ_iea_production'] != 0,\n                                     (energy_use_merged['energy_per_cap_GJ_exiobase_production'] / energy_use_merged['energy_per_cap_GJ_iea_production']) * energy_use_merged['energy_per_cap_GJ_iea_final'],\n                                     np.nan)\nenergy_use_merged = energy_use_merged[['geo', 'TIME_PERIOD', 'energy_per_cap_GJ_exiobase_production', 'energy_per_cap_GJ_exiobase_final', 'energy_per_cap_GJ_iea_production', 'energy_per_cap_GJ_iea_final']]",
    "ExecuteTime": {
     "end_time": "2024-02-24T18:32:09.792749Z",
     "start_time": "2024-02-24T18:32:09.659245Z"
    }
   },
   "cell_type": "code",
   "id": "11e6f605-02c6-4106-86a2-e5081c87cc93",
   "outputs": [],
   "execution_count": 16
  },
  {
   "source": [
    "energy_use_merged[(energy_use_merged['geo'] == 'AT') & (energy_use_merged['TIME_PERIOD'].isin([2019, 2020, 2021]))]"
   ],
   "metadata": {
    "executionCancelledAt": null,
    "executionTime": 23,
    "lastExecutedAt": 1708625422350,
    "lastScheduledRunId": null,
    "lastSuccessfullyExecutedCode": "energy_use_merged[(energy_use_merged['geo'] == 'AT') & (energy_use_merged['TIME_PERIOD'].isin([2019, 2020, 2021]))]",
    "outputsMetadata": {
     "0": {
      "height": 149,
      "type": "dataFrame"
     }
    },
    "ExecuteTime": {
     "end_time": "2024-02-24T18:32:09.795599Z",
     "start_time": "2024-02-24T18:32:09.662240Z"
    }
   },
   "cell_type": "code",
   "id": "b172a68d-d7b8-417d-a35c-cd633cbe6ece",
   "outputs": [
    {
     "data": {
      "text/plain": "     geo  TIME_PERIOD  energy_per_cap_GJ_exiobase_production  \\\n1176  AT         2019                             159.164254   \n1225  AT         2020                             167.394928   \n1274  AT         2021                             161.535521   \n\n      energy_per_cap_GJ_exiobase_final  energy_per_cap_GJ_iea_production  \\\n1176                        133.401558                        158.052323   \n1225                        140.588024                        148.739931   \n1274                        136.344267                        156.365411   \n\n      energy_per_cap_GJ_iea_final  \n1176                   132.469606  \n1225                   124.920470  \n1274                   131.980429  ",
      "text/html": "<div>\n<style scoped>\n    .dataframe tbody tr th:only-of-type {\n        vertical-align: middle;\n    }\n\n    .dataframe tbody tr th {\n        vertical-align: top;\n    }\n\n    .dataframe thead th {\n        text-align: right;\n    }\n</style>\n<table border=\"1\" class=\"dataframe\">\n  <thead>\n    <tr style=\"text-align: right;\">\n      <th></th>\n      <th>geo</th>\n      <th>TIME_PERIOD</th>\n      <th>energy_per_cap_GJ_exiobase_production</th>\n      <th>energy_per_cap_GJ_exiobase_final</th>\n      <th>energy_per_cap_GJ_iea_production</th>\n      <th>energy_per_cap_GJ_iea_final</th>\n    </tr>\n  </thead>\n  <tbody>\n    <tr>\n      <th>1176</th>\n      <td>AT</td>\n      <td>2019</td>\n      <td>159.164254</td>\n      <td>133.401558</td>\n      <td>158.052323</td>\n      <td>132.469606</td>\n    </tr>\n    <tr>\n      <th>1225</th>\n      <td>AT</td>\n      <td>2020</td>\n      <td>167.394928</td>\n      <td>140.588024</td>\n      <td>148.739931</td>\n      <td>124.920470</td>\n    </tr>\n    <tr>\n      <th>1274</th>\n      <td>AT</td>\n      <td>2021</td>\n      <td>161.535521</td>\n      <td>136.344267</td>\n      <td>156.365411</td>\n      <td>131.980429</td>\n    </tr>\n  </tbody>\n</table>\n</div>"
     },
     "execution_count": 17,
     "metadata": {},
     "output_type": "execute_result"
    }
   ],
   "execution_count": 17
  },
  {
   "source": [
    "energy_use_iea = energy_use_merged[['geo', 'TIME_PERIOD', 'energy_per_cap_GJ_iea_final']]\n",
    "energy_use_iea.rename(columns={'energy_per_cap_GJ_iea_final': 'energy'}, inplace=True)"
   ],
   "metadata": {
    "executionCancelledAt": null,
    "executionTime": 11,
    "lastExecutedAt": 1708625438219,
    "lastScheduledRunId": null,
    "lastSuccessfullyExecutedCode": "energy_use_iea = energy_use_merged[['geo', 'TIME_PERIOD', 'energy_per_cap_GJ_iea_final']]\nenergy_use_iea.rename(columns={'energy_per_cap_GJ_iea_final': 'energy'}, inplace=True)",
    "ExecuteTime": {
     "end_time": "2024-02-24T18:32:09.822875Z",
     "start_time": "2024-02-24T18:32:09.671458Z"
    }
   },
   "cell_type": "code",
   "id": "c04e882a-5cbf-41c7-bba4-4d0f7dc22796",
   "outputs": [
    {
     "name": "stderr",
     "output_type": "stream",
     "text": [
      "/var/folders/6l/9wnlb_cx2h382r0y3jq99h5h0000gn/T/ipykernel_23014/145462592.py:2: SettingWithCopyWarning: \n",
      "A value is trying to be set on a copy of a slice from a DataFrame\n",
      "\n",
      "See the caveats in the documentation: https://pandas.pydata.org/pandas-docs/stable/user_guide/indexing.html#returning-a-view-versus-a-copy\n",
      "  energy_use_iea.rename(columns={'energy_per_cap_GJ_iea_final': 'energy'}, inplace=True)\n"
     ]
    }
   ],
   "execution_count": 18
  },
  {
   "source": [
    "energy_use_exiobase = energy_use_merged[['geo', 'TIME_PERIOD', 'energy_per_cap_GJ_exiobase_final']]\n",
    "energy_use_exiobase.rename(columns={'energy_per_cap_GJ_exiobase_final': 'energy'}, inplace=True)"
   ],
   "metadata": {
    "executionCancelledAt": null,
    "executionTime": 11,
    "lastExecutedAt": 1708625450020,
    "lastScheduledRunId": null,
    "lastSuccessfullyExecutedCode": "energy_use_exiobase = energy_use_merged[['geo', 'TIME_PERIOD', 'energy_per_cap_GJ_exiobase_final']]\nenergy_use_exiobase.rename(columns={'energy_per_cap_GJ_exiobase_final': 'energy'}, inplace=True)",
    "ExecuteTime": {
     "end_time": "2024-02-24T18:32:09.825182Z",
     "start_time": "2024-02-24T18:32:09.677113Z"
    }
   },
   "cell_type": "code",
   "id": "ca8cf8a0-26e1-425d-811f-4dbb37d914d7",
   "outputs": [
    {
     "name": "stderr",
     "output_type": "stream",
     "text": [
      "/var/folders/6l/9wnlb_cx2h382r0y3jq99h5h0000gn/T/ipykernel_23014/1898507794.py:2: SettingWithCopyWarning: \n",
      "A value is trying to be set on a copy of a slice from a DataFrame\n",
      "\n",
      "See the caveats in the documentation: https://pandas.pydata.org/pandas-docs/stable/user_guide/indexing.html#returning-a-view-versus-a-copy\n",
      "  energy_use_exiobase.rename(columns={'energy_per_cap_GJ_exiobase_final': 'energy'}, inplace=True)\n"
     ]
    }
   ],
   "execution_count": 19
  },
  {
   "source": [
    "Employment and hours worked data from the [EU labour costs survey](https://ec.europa.eu/eurostat/databrowser/view/lc_rnum1_r2/default/table?lang=en), collected every 4 years"
   ],
   "metadata": {
    "collapsed": false
   },
   "id": "ac7c6507b07d0ad9",
   "cell_type": "markdown"
  },
  {
   "source": [
    "labour_cost_survey_data = pd.read_csv('../../data/labor/lc_nnum1_r2_linear.csv')"
   ],
   "metadata": {
    "collapsed": false,
    "executionCancelledAt": null,
    "executionTime": 2851,
    "lastExecutedAt": 1708625452871,
    "lastScheduledRunId": null,
    "lastSuccessfullyExecutedCode": "labour_cost_survey_data = pd.read_csv('../../data/labor/lc_nnum1_r2_linear.csv')",
    "ExecuteTime": {
     "end_time": "2024-02-24T18:32:11.475066Z",
     "start_time": "2024-02-24T18:32:09.680800Z"
    }
   },
   "id": "9bcbc60d135f809",
   "cell_type": "code",
   "execution_count": 20,
   "outputs": []
  },
  {
   "source": [
    "Employment and hours worked data from [National accounts](https://ec.europa.eu/eurostat/databrowser/view/nama_10_a64_e/default/table?lang=en), collected annually. Run the same regressions with this and the previous variable to see which one is best suited for the quantitative analysis."
   ],
   "metadata": {
    "collapsed": false
   },
   "id": "c682904a4c71e1c8",
   "cell_type": "markdown"
  },
  {
   "source": [
    "labour_accounts_data = pd.read_csv('../../data/labor/nama_10_a64_e_linear.csv')"
   ],
   "metadata": {
    "collapsed": false,
    "executionCancelledAt": null,
    "executionTime": 2197,
    "lastExecutedAt": 1708625455069,
    "lastScheduledRunId": null,
    "lastSuccessfullyExecutedCode": "labour_accounts_data = pd.read_csv('../../data/labor/nama_10_a64_e_linear.csv')",
    "ExecuteTime": {
     "end_time": "2024-02-24T18:32:12.215322Z",
     "start_time": "2024-02-24T18:32:11.472573Z"
    }
   },
   "id": "4ce214b7a50946f3",
   "cell_type": "code",
   "execution_count": 21,
   "outputs": []
  },
  {
   "source": [
    "Need satisfaction variables from World Development Indicators (School enrollment) and World Happiness Report (Life expectancy, Life satisfaction, etc.)"
   ],
   "metadata": {
    "collapsed": false
   },
   "id": "68d823f3e3fd141",
   "cell_type": "markdown"
  },
  {
   "source": [
    "whr = pd.read_csv('../../data/need_satisfaction/whr.csv')\n",
    "school_enrollment = pd.read_csv('../../data/need_satisfaction/wdi_schoolenr.csv')\n",
    "undp_composite = pd.read_csv('../../data/need_satisfaction/undp_composite.csv')\n",
    "lifeexpectancy = pd.read_csv('../../data/need_satisfaction/wdi_lifeexpectancy.csv')"
   ],
   "metadata": {
    "collapsed": false,
    "executionCancelledAt": null,
    "executionTime": 656,
    "lastExecutedAt": 1708625455727,
    "lastScheduledRunId": null,
    "lastSuccessfullyExecutedCode": "whr = pd.read_csv('../../data/need_satisfaction/whr.csv')\nschool_enrollment = pd.read_csv('../../data/need_satisfaction/wdi_schoolenr.csv')\nundp_composite = pd.read_csv('../../data/need_satisfaction/undp_composite.csv')\nlifeexpectancy = pd.read_csv('../../data/need_satisfaction/wdi_lifeexpectancy.csv')",
    "ExecuteTime": {
     "end_time": "2024-02-24T18:32:12.265079Z",
     "start_time": "2024-02-24T18:32:12.215665Z"
    }
   },
   "id": "fd5437ad96c06735",
   "cell_type": "code",
   "execution_count": 22,
   "outputs": []
  },
  {
   "source": [
    "whr_with_codes = whr.copy()\n",
    "whr_with_codes['geo'] = whr['Country name'].apply(convert_name_to_iso2)\n",
    "whr_with_codes = whr_with_codes[whr_with_codes['geo'].notna()]\n",
    "whr_with_codes.rename(columns={'year': 'TIME_PERIOD', 'Life Ladder': 'ladder', 'Social support': 'socialsupport', 'Healthy life expectancy at birth': 'hale', 'Freedom to make life choices': 'freedom', 'Generosity': 'charity', 'Perceptions of corruption': 'corruption', 'Positive affect': 'positive', 'Negative affect': 'negative'}, inplace=True)\n",
    "whr_with_codes.drop(columns=['Country name', 'Log GDP per capita'], inplace=True)"
   ],
   "metadata": {
    "collapsed": false,
    "executionCancelledAt": null,
    "executionTime": 49,
    "lastExecutedAt": 1708625455778,
    "lastScheduledRunId": null,
    "lastSuccessfullyExecutedCode": "whr_with_codes = whr.copy()\nwhr_with_codes['geo'] = whr['Country name'].apply(convert_name_to_iso2)\nwhr_with_codes = whr_with_codes[whr_with_codes['geo'].notna()]\nwhr_with_codes.rename(columns={'year': 'TIME_PERIOD', 'Life Ladder': 'ladder', 'Social support': 'socialsupport', 'Healthy life expectancy at birth': 'hale', 'Freedom to make life choices': 'freedom', 'Generosity': 'charity', 'Perceptions of corruption': 'corruption', 'Positive affect': 'positive', 'Negative affect': 'negative'}, inplace=True)\nwhr_with_codes.drop(columns=['Country name', 'Log GDP per capita'], inplace=True)",
    "ExecuteTime": {
     "end_time": "2024-02-24T18:32:12.268816Z",
     "start_time": "2024-02-24T18:32:12.265579Z"
    }
   },
   "id": "3cbdbade35615ddd",
   "cell_type": "code",
   "execution_count": 23,
   "outputs": []
  },
  {
   "source": [
    "undp_education = undp_composite.copy()\n",
    "undp_education['geo'] = undp_education['ISO3'].apply(convert_iso3_to_iso2)\n",
    "undp_education = undp_education[undp_education['geo'].notna()]\n",
    "undp_education.rename(columns={'Year': 'TIME_PERIOD', 'Expected Years of Schooling': 'education'}, inplace=True)\n",
    "undp_education = undp_education[undp_education['Gender'] == 'Total']\n",
    "undp_education.drop(columns=['ISO3', 'Country', 'Region', 'Gender', 'Human Development Index', 'Life Expectancy at Birth', 'Mean Years of Schooling', 'Gross National Income Per Capita'], inplace=True)"
   ],
   "metadata": {
    "collapsed": false,
    "executionCancelledAt": null,
    "executionTime": 54,
    "lastExecutedAt": 1708625455833,
    "lastScheduledRunId": null,
    "lastSuccessfullyExecutedCode": "undp_education = undp_composite.copy()\nundp_education['geo'] = undp_education['ISO3'].apply(convert_iso3_to_iso2)\nundp_education = undp_education[undp_education['geo'].notna()]\nundp_education.rename(columns={'Year': 'TIME_PERIOD', 'Expected Years of Schooling': 'education'}, inplace=True)\nundp_education = undp_education[undp_education['Gender'] == 'Total']\nundp_education.drop(columns=['ISO3', 'Country', 'Region', 'Gender', 'Human Development Index', 'Life Expectancy at Birth', 'Mean Years of Schooling', 'Gross National Income Per Capita'], inplace=True)",
    "ExecuteTime": {
     "end_time": "2024-02-24T18:32:12.300615Z",
     "start_time": "2024-02-24T18:32:12.269741Z"
    }
   },
   "id": "3acb87afee7bfd87",
   "cell_type": "code",
   "execution_count": 24,
   "outputs": []
  },
  {
   "source": [
    "from functions.create_panel_dataset import clean_and_transform_wdi_outcomes\n",
    "school_enrollment_cleaned = clean_and_transform_wdi_outcomes(school_enrollment, 'schoolenr')\n",
    "lifeexpectancy_cleaned = clean_and_transform_wdi_outcomes(lifeexpectancy, 'lifeexpectancy')\n",
    "wdi_need_satisfaction = school_enrollment_cleaned.merge(lifeexpectancy_cleaned, on=['Year', 'Country.Code', 'Country.Name'], how='left')\n",
    "wdi_need_satisfaction['geo'] = wdi_need_satisfaction['Country.Code'].apply(convert_iso3_to_iso2)\n",
    "wdi_need_satisfaction = wdi_need_satisfaction[wdi_need_satisfaction['geo'].notna()]\n",
    "wdi_need_satisfaction.rename(columns={'Year': 'TIME_PERIOD', 'lifeexpectancy': 'wdi_hale'}, inplace=True)\n",
    "need_satisfaction = whr_with_codes.merge(wdi_need_satisfaction, on=['geo', 'TIME_PERIOD'], how='left')\n",
    "need_satisfaction = need_satisfaction.merge(undp_education, on=['geo', 'TIME_PERIOD'], how='left')\n",
    "need_satisfaction.drop(columns=['Country.Code', 'Country.Name'], inplace=True)"
   ],
   "metadata": {
    "collapsed": false,
    "executionCancelledAt": null,
    "executionTime": 129,
    "lastExecutedAt": 1708625455964,
    "lastScheduledRunId": null,
    "lastSuccessfullyExecutedCode": "from functions.create_panel_dataset import clean_and_transform_wdi_outcomes\nschool_enrollment_cleaned = clean_and_transform_wdi_outcomes(school_enrollment, 'schoolenr')\nlifeexpectancy_cleaned = clean_and_transform_wdi_outcomes(lifeexpectancy, 'lifeexpectancy')\nwdi_need_satisfaction = school_enrollment_cleaned.merge(lifeexpectancy_cleaned, on=['Year', 'Country.Code', 'Country.Name'], how='left')\nwdi_need_satisfaction['geo'] = wdi_need_satisfaction['Country.Code'].apply(convert_iso3_to_iso2)\nwdi_need_satisfaction = wdi_need_satisfaction[wdi_need_satisfaction['geo'].notna()]\nwdi_need_satisfaction.rename(columns={'Year': 'TIME_PERIOD', 'lifeexpectancy': 'wdi_hale'}, inplace=True)\nneed_satisfaction = whr_with_codes.merge(wdi_need_satisfaction, on=['geo', 'TIME_PERIOD'], how='left')\nneed_satisfaction = need_satisfaction.merge(undp_education, on=['geo', 'TIME_PERIOD'], how='left')\nneed_satisfaction.drop(columns=['Country.Code', 'Country.Name'], inplace=True)",
    "ExecuteTime": {
     "end_time": "2024-02-24T18:32:12.362262Z",
     "start_time": "2024-02-24T18:32:12.298392Z"
    }
   },
   "id": "6864b317923814b7",
   "cell_type": "code",
   "execution_count": 25,
   "outputs": []
  },
  {
   "source": [
    "Finally, get the provisioning factors that were found significant in the original JV analysis."
   ],
   "metadata": {
    "collapsed": false
   },
   "id": "22692b60293fd7a9",
   "cell_type": "markdown"
  },
  {
   "source": [
    "from functions.create_panel_dataset import clean_and_transform_wdi\n",
    "goveffectiveness = pd.read_csv('../../data/wdi_goveffectiveness.csv')\n",
    "gini = pd.read_csv('../../data/wdi_gini.csv')\n",
    "goveffectiveness_cleaned = clean_and_transform_wdi(goveffectiveness, 'goveffectiveness')\n",
    "gini_cleaned = clean_and_transform_wdi(gini, 'gini')\n",
    "wdi_provisioning_factors = goveffectiveness_cleaned.merge(gini_cleaned, on=['Year', 'Country.Code', 'Country.Name'], how='left')\n",
    "wdi_provisioning_factors['geo'] = wdi_provisioning_factors['Country.Code'].apply(convert_iso3_to_iso2)\n",
    "wdi_provisioning_factors = wdi_provisioning_factors[wdi_provisioning_factors['geo'].notna()]\n",
    "wdi_provisioning_factors.rename(columns={'Year': 'TIME_PERIOD'}, inplace=True)\n",
    "wdi_provisioning_factors.drop(columns=['Country.Code', 'Country.Name'], inplace=True)"
   ],
   "metadata": {
    "collapsed": false,
    "executionCancelledAt": null,
    "executionTime": 95,
    "lastExecutedAt": 1708625456061,
    "lastScheduledRunId": null,
    "lastSuccessfullyExecutedCode": "from functions.create_panel_dataset import clean_and_transform_wdi\ngoveffectiveness = pd.read_csv('../../data/wdi_goveffectiveness.csv')\ngini = pd.read_csv('../../data/wdi_gini.csv')\ngoveffectiveness_cleaned = clean_and_transform_wdi(goveffectiveness, 'goveffectiveness')\ngini_cleaned = clean_and_transform_wdi(gini, 'gini')\nwdi_provisioning_factors = goveffectiveness_cleaned.merge(gini_cleaned, on=['Year', 'Country.Code', 'Country.Name'], how='left')\nwdi_provisioning_factors['geo'] = wdi_provisioning_factors['Country.Code'].apply(convert_iso3_to_iso2)\nwdi_provisioning_factors = wdi_provisioning_factors[wdi_provisioning_factors['geo'].notna()]\nwdi_provisioning_factors.rename(columns={'Year': 'TIME_PERIOD'}, inplace=True)\nwdi_provisioning_factors.drop(columns=['Country.Code', 'Country.Name'], inplace=True)",
    "ExecuteTime": {
     "end_time": "2024-02-24T18:32:12.448133Z",
     "start_time": "2024-02-24T18:32:12.363952Z"
    }
   },
   "id": "d062fbbe6964bca",
   "cell_type": "code",
   "execution_count": 26,
   "outputs": []
  },
  {
   "source": [
    "Count the number of unique countries that are available in both datasets."
   ],
   "metadata": {
    "collapsed": false
   },
   "id": "eded59fbb3e1f9f1",
   "cell_type": "markdown"
  },
  {
   "source": [
    "labour_cost_survey_geo = labour_cost_survey_data.geo.unique()\n",
    "energy_geo = energy_use_iea.geo.unique()\n",
    "energy_lc_sv_shared_geo = np.intersect1d(labour_cost_survey_geo, energy_geo)\n",
    "energy_lc_sv_shared_geo = np.delete(energy_lc_sv_shared_geo, np.where(energy_lc_sv_shared_geo == 'EU27_2020'))\n",
    "print(f'The labour cost survey + energy intersection has {len(energy_lc_sv_shared_geo)} unique countries')\n",
    "labour_accounts_geo = labour_accounts_data.geo.unique()\n",
    "energy_lc_ac_shared_geo = np.intersect1d(labour_accounts_geo, energy_geo)\n",
    "energy_lc_ac_shared_geo = np.delete(energy_lc_ac_shared_geo, np.where(energy_lc_ac_shared_geo == 'EU27_2020'))\n",
    "print(f'The labour accounts + energy intersection has {len(energy_lc_ac_shared_geo)} unique countries')\n",
    "print(\n",
    "    f'Countries that are in the labour cost survey variant but not in labour accounts are: {np.setdiff1d(energy_lc_sv_shared_geo, energy_lc_ac_shared_geo)}')"
   ],
   "metadata": {
    "collapsed": false,
    "executionCancelledAt": null,
    "outputsMetadata": {
     "0": {
      "height": 79,
      "type": "stream"
     }
    },
    "executionTime": 121,
    "lastExecutedAt": 1708625456183,
    "lastScheduledRunId": null,
    "lastSuccessfullyExecutedCode": "labour_cost_survey_geo = labour_cost_survey_data.geo.unique()\nenergy_geo = energy_use_iea.geo.unique()\nenergy_lc_sv_shared_geo = np.intersect1d(labour_cost_survey_geo, energy_geo)\nenergy_lc_sv_shared_geo = np.delete(energy_lc_sv_shared_geo, np.where(energy_lc_sv_shared_geo == 'EU27_2020'))\nprint(f'The labour cost survey + energy intersection has {len(energy_lc_sv_shared_geo)} unique countries')\nlabour_accounts_geo = labour_accounts_data.geo.unique()\nenergy_lc_ac_shared_geo = np.intersect1d(labour_accounts_geo, energy_geo)\nenergy_lc_ac_shared_geo = np.delete(energy_lc_ac_shared_geo, np.where(energy_lc_ac_shared_geo == 'EU27_2020'))\nprint(f'The labour accounts + energy intersection has {len(energy_lc_ac_shared_geo)} unique countries')\nprint(\n    f'Countries that are in the labour cost survey variant but not in labour accounts are: {np.setdiff1d(energy_lc_sv_shared_geo, energy_lc_ac_shared_geo)}')",
    "ExecuteTime": {
     "end_time": "2024-02-24T18:32:12.515717Z",
     "start_time": "2024-02-24T18:32:12.477609Z"
    }
   },
   "id": "687a4805d3374450",
   "cell_type": "code",
   "execution_count": 27,
   "outputs": [
    {
     "name": "stdout",
     "output_type": "stream",
     "text": [
      "The labour cost survey + energy intersection has 29 unique countries\n",
      "The labour accounts + energy intersection has 28 unique countries\n",
      "Countries that are in the labour cost survey variant but not in labour accounts are: ['TR']\n"
     ]
    }
   ]
  },
  {
   "source": [
    "Add the foundational type (`final_foundational` column) from `foundational_percentages` to the labour data."
   ],
   "metadata": {
    "collapsed": false
   },
   "id": "b60119d9dcefdaf7",
   "cell_type": "markdown"
  },
  {
   "source": [
    "foundational_percentages_selected = foundational_percentages[['nace_r2', 'final_foundational']]\n",
    "labour_cost_survey_with_foundational = labour_cost_survey_data.merge(foundational_percentages_selected, on='nace_r2',\n",
    "                                                                     how='left')\n",
    "labour_accounts_with_foundational = labour_accounts_data.merge(foundational_percentages_selected, on='nace_r2',\n",
    "                                                               how='left')"
   ],
   "metadata": {
    "collapsed": false,
    "executionCancelledAt": null,
    "executionTime": 824,
    "lastExecutedAt": 1708625457008,
    "lastScheduledRunId": null,
    "lastSuccessfullyExecutedCode": "foundational_percentages_selected = foundational_percentages[['nace_r2', 'final_foundational']]\nlabour_cost_survey_with_foundational = labour_cost_survey_data.merge(foundational_percentages_selected, on='nace_r2',\n                                                                     how='left')\nlabour_accounts_with_foundational = labour_accounts_data.merge(foundational_percentages_selected, on='nace_r2',\n                                                               how='left')",
    "ExecuteTime": {
     "end_time": "2024-02-24T18:32:12.929272Z",
     "start_time": "2024-02-24T18:32:12.571956Z"
    }
   },
   "id": "57ccf5af527d5de0",
   "cell_type": "code",
   "execution_count": 28,
   "outputs": []
  },
  {
   "source": [
    "Only keep relevant columns. "
   ],
   "metadata": {
    "collapsed": false
   },
   "id": "fb4f773a0f74e3d3",
   "cell_type": "markdown"
  },
  {
   "source": [
    "labour_cost_survey_filtered = labour_cost_survey_with_foundational[\n",
    "    ['geo', 'nace_r2', 'final_foundational', 'sizeclas', 'worktime', 'indic_lc', 'TIME_PERIOD', 'OBS_VALUE']]\n",
    "labour_accounts_filtered = labour_accounts_with_foundational[\n",
    "    ['geo', 'nace_r2', 'final_foundational', 'na_item', 'TIME_PERIOD', 'OBS_VALUE']]"
   ],
   "metadata": {
    "collapsed": false,
    "executionCancelledAt": null,
    "executionTime": 576,
    "lastExecutedAt": 1708625457585,
    "lastScheduledRunId": null,
    "lastSuccessfullyExecutedCode": "labour_cost_survey_filtered = labour_cost_survey_with_foundational[\n    ['geo', 'nace_r2', 'final_foundational', 'sizeclas', 'worktime', 'indic_lc', 'TIME_PERIOD', 'OBS_VALUE']]\nlabour_accounts_filtered = labour_accounts_with_foundational[\n    ['geo', 'nace_r2', 'final_foundational', 'na_item', 'TIME_PERIOD', 'OBS_VALUE']]",
    "ExecuteTime": {
     "end_time": "2024-02-24T18:32:13.053406Z",
     "start_time": "2024-02-24T18:32:12.929219Z"
    }
   },
   "id": "90f12f857581d5ae",
   "cell_type": "code",
   "execution_count": 29,
   "outputs": []
  },
  {
   "source": [
    "We are currently not interested in the size class of the enterprise in labour cost survey data (maybe in the future), so only keep `GE10` (\"Greater than 10 employees\"). \n",
    "There is a `TOTAL` size class, but the values for this are available for 33 countries as opposed 47 for `GE10`."
   ],
   "metadata": {
    "collapsed": false
   },
   "id": "4b8b35ad3dea8dde",
   "cell_type": "markdown"
  },
  {
   "source": [
    "labour_cost_survey_filtered_sizeclas = labour_cost_survey_filtered[labour_cost_survey_filtered.sizeclas == 'GE10']\n",
    "# unique_countries_per_sizeclas = labour_cost_survey_with_foundational.groupby('sizeclas')['geo'].nunique()"
   ],
   "metadata": {
    "collapsed": false,
    "executionCancelledAt": null,
    "executionTime": 120,
    "lastExecutedAt": 1708625457706,
    "lastScheduledRunId": null,
    "lastSuccessfullyExecutedCode": "labour_cost_survey_filtered_sizeclas = labour_cost_survey_filtered[labour_cost_survey_filtered.sizeclas == 'GE10']\n# unique_countries_per_sizeclas = labour_cost_survey_with_foundational.groupby('sizeclas')['geo'].nunique()",
    "ExecuteTime": {
     "end_time": "2024-02-24T18:32:13.134802Z",
     "start_time": "2024-02-24T18:32:13.097595Z"
    }
   },
   "id": "f30dfd765de85078",
   "cell_type": "code",
   "execution_count": 30,
   "outputs": []
  },
  {
   "source": [
    "labour_cost_survey_geo_exiobase = labour_cost_survey_data.geo.unique()\n",
    "energy_geo_exiobase = energy_use_exiobase.geo.unique()\n",
    "energy_lc_sv_shared_geo_exiobase = np.intersect1d(labour_cost_survey_geo_exiobase, energy_geo_exiobase)\n",
    "energy_lc_sv_shared_geo_exiobase = np.delete(energy_lc_sv_shared_geo_exiobase, np.where(energy_lc_sv_shared_geo_exiobase == 'EU27_2020'))\n",
    "print(f'The labour cost survey + energy exiobase intersection has {len(energy_lc_sv_shared_geo_exiobase)} unique countries')\n",
    "labour_accounts_geo_exiobase = labour_accounts_data.geo.unique()\n",
    "energy_lc_ac_shared_geo_exiobase = np.intersect1d(labour_accounts_geo_exiobase, energy_geo_exiobase)\n",
    "energy_lc_ac_shared_geo_exiobase = np.delete(energy_lc_ac_shared_geo_exiobase, np.where(energy_lc_ac_shared_geo_exiobase == 'EU27_2020'))\n",
    "print(f'The labour accounts + energy intersection has {len(energy_lc_ac_shared_geo_exiobase)} unique countries')\n",
    "print(\n",
    "    f'Countries that are in the labour cost survey variant but not in labour accounts are: {np.setdiff1d(energy_lc_sv_shared_geo_exiobase, energy_lc_ac_shared_geo_exiobase)}')"
   ],
   "metadata": {
    "executionCancelledAt": null,
    "executionTime": 123,
    "lastExecutedAt": 1708625457830,
    "lastScheduledRunId": null,
    "lastSuccessfullyExecutedCode": "labour_cost_survey_geo_exiobase = labour_cost_survey_data.geo.unique()\nenergy_geo_exiobase = energy_use_exiobase.geo.unique()\nenergy_lc_sv_shared_geo_exiobase = np.intersect1d(labour_cost_survey_geo_exiobase, energy_geo_exiobase)\nenergy_lc_sv_shared_geo_exiobase = np.delete(energy_lc_sv_shared_geo_exiobase, np.where(energy_lc_sv_shared_geo_exiobase == 'EU27_2020'))\nprint(f'The labour cost survey + energy exiobase intersection has {len(energy_lc_sv_shared_geo_exiobase)} unique countries')\nlabour_accounts_geo_exiobase = labour_accounts_data.geo.unique()\nenergy_lc_ac_shared_geo_exiobase = np.intersect1d(labour_accounts_geo_exiobase, energy_geo_exiobase)\nenergy_lc_ac_shared_geo_exiobase = np.delete(energy_lc_ac_shared_geo_exiobase, np.where(energy_lc_ac_shared_geo_exiobase == 'EU27_2020'))\nprint(f'The labour accounts + energy intersection has {len(energy_lc_ac_shared_geo_exiobase)} unique countries')\nprint(\n    f'Countries that are in the labour cost survey variant but not in labour accounts are: {np.setdiff1d(energy_lc_sv_shared_geo_exiobase, energy_lc_ac_shared_geo_exiobase)}')",
    "outputsMetadata": {
     "0": {
      "height": 79,
      "type": "stream"
     }
    },
    "ExecuteTime": {
     "end_time": "2024-02-24T18:32:13.191621Z",
     "start_time": "2024-02-24T18:32:13.148065Z"
    }
   },
   "cell_type": "code",
   "id": "acfe5271-d53f-4bd4-9662-945aaa33bf57",
   "outputs": [
    {
     "name": "stdout",
     "output_type": "stream",
     "text": [
      "The labour cost survey + energy exiobase intersection has 29 unique countries\n",
      "The labour accounts + energy intersection has 28 unique countries\n",
      "Countries that are in the labour cost survey variant but not in labour accounts are: ['TR']\n"
     ]
    }
   ],
   "execution_count": 31
  },
  {
   "source": [
    "Only keep observations (country-years) for which both energy and labour data is available"
   ],
   "metadata": {
    "collapsed": false
   },
   "id": "cf979f117aea107d",
   "cell_type": "markdown"
  },
  {
   "source": [
    "labour_cost_survey_selected = labour_cost_survey_filtered_sizeclas[\n",
    "    labour_cost_survey_filtered_sizeclas.geo.isin(energy_lc_sv_shared_geo)]\n",
    "labour_accounts_selected = labour_accounts_filtered[labour_accounts_filtered.geo.isin(energy_lc_ac_shared_geo)]"
   ],
   "metadata": {
    "collapsed": false,
    "executionCancelledAt": null,
    "executionTime": 106,
    "lastExecutedAt": 1708625457937,
    "lastScheduledRunId": null,
    "lastSuccessfullyExecutedCode": "labour_cost_survey_selected = labour_cost_survey_filtered_sizeclas[\n    labour_cost_survey_filtered_sizeclas.geo.isin(energy_lc_sv_shared_geo)]\nlabour_accounts_selected = labour_accounts_filtered[labour_accounts_filtered.geo.isin(energy_lc_ac_shared_geo)]",
    "ExecuteTime": {
     "end_time": "2024-02-24T18:32:13.311209Z",
     "start_time": "2024-02-24T18:32:13.187093Z"
    }
   },
   "id": "caf64d9af867f4e1",
   "cell_type": "code",
   "execution_count": 32,
   "outputs": []
  },
  {
   "source": [
    "labour_cost_survey_selected_exiobase = labour_cost_survey_filtered_sizeclas[\n",
    "    labour_cost_survey_filtered_sizeclas.geo.isin(energy_lc_sv_shared_geo_exiobase)]\n",
    "labour_accounts_selected_exiobase = labour_accounts_filtered[labour_accounts_filtered.geo.isin(energy_lc_sv_shared_geo_exiobase)]"
   ],
   "metadata": {
    "executionCancelledAt": null,
    "executionTime": 108,
    "lastExecutedAt": 1708625458045,
    "lastScheduledRunId": null,
    "lastSuccessfullyExecutedCode": "labour_cost_survey_selected_exiobase = labour_cost_survey_filtered_sizeclas[\n    labour_cost_survey_filtered_sizeclas.geo.isin(energy_lc_sv_shared_geo_exiobase)]\nlabour_accounts_selected_exiobase = labour_accounts_filtered[labour_accounts_filtered.geo.isin(energy_lc_sv_shared_geo_exiobase)]",
    "ExecuteTime": {
     "end_time": "2024-02-24T18:32:13.396135Z",
     "start_time": "2024-02-24T18:32:13.312070Z"
    }
   },
   "cell_type": "code",
   "id": "b0c8d6ff-968d-43d6-8430-8c692fb020a5",
   "outputs": [],
   "execution_count": 33
  },
  {
   "source": [
    "Split the labour survey data into two datasets, one for employment and one for hours worked (\"hours paid\", not \"hours actually worked\" as there could be issues with how latter is reported (? confirm with RB and JV).\n",
    "Filter out self-employed from the accounts data."
   ],
   "metadata": {
    "collapsed": false
   },
   "id": "6d2c0ecae3836fb7",
   "cell_type": "markdown"
  },
  {
   "source": [
    "labour_cost_survey_selected_employment = labour_cost_survey_selected[\n",
    "    labour_cost_survey_selected.indic_lc == 'SAL']\n",
    "labour_cost_survey_selected_hours_worked = labour_cost_survey_selected[\n",
    "    labour_cost_survey_selected.indic_lc == 'HP_SAL_Y']\n",
    "labour_accounts_selected_employment = labour_accounts_selected[labour_accounts_selected.na_item == 'SAL_DC']"
   ],
   "metadata": {
    "collapsed": false,
    "executionCancelledAt": null,
    "executionTime": 93,
    "lastExecutedAt": 1708625458140,
    "lastScheduledRunId": null,
    "lastSuccessfullyExecutedCode": "labour_cost_survey_selected_employment = labour_cost_survey_selected[\n    labour_cost_survey_selected.indic_lc == 'SAL']\nlabour_cost_survey_selected_hours_worked = labour_cost_survey_selected[\n    labour_cost_survey_selected.indic_lc == 'HP_SAL_Y']\nlabour_accounts_selected_employment = labour_accounts_selected[labour_accounts_selected.na_item == 'SAL_DC']",
    "ExecuteTime": {
     "end_time": "2024-02-24T18:32:13.468820Z",
     "start_time": "2024-02-24T18:32:13.403083Z"
    }
   },
   "id": "c6ee3d336301ab99",
   "cell_type": "code",
   "execution_count": 34,
   "outputs": []
  },
  {
   "source": [
    "labour_cost_survey_selected_employment_exiobase = labour_cost_survey_selected_exiobase[\n",
    "    labour_cost_survey_selected_exiobase.indic_lc == 'SAL']\n",
    "labour_cost_survey_selected_hours_worked_exiobase = labour_cost_survey_selected_exiobase[\n",
    "    labour_cost_survey_selected_exiobase.indic_lc == 'HP_SAL_Y']\n",
    "labour_accounts_selected_employment_exiobase = labour_accounts_selected_exiobase[labour_accounts_selected_exiobase.na_item == 'SAL_DC']"
   ],
   "metadata": {
    "executionCancelledAt": null,
    "executionTime": 96,
    "lastExecutedAt": 1708625458237,
    "lastScheduledRunId": null,
    "lastSuccessfullyExecutedCode": "labour_cost_survey_selected_employment_exiobase = labour_cost_survey_selected_exiobase[\n    labour_cost_survey_selected_exiobase.indic_lc == 'SAL']\nlabour_cost_survey_selected_hours_worked_exiobase = labour_cost_survey_selected_exiobase[\n    labour_cost_survey_selected_exiobase.indic_lc == 'HP_SAL_Y']\nlabour_accounts_selected_employment_exiobase = labour_accounts_selected_exiobase[labour_accounts_selected_exiobase.na_item == 'SAL_DC']",
    "ExecuteTime": {
     "end_time": "2024-02-24T18:32:13.532649Z",
     "start_time": "2024-02-24T18:32:13.475362Z"
    }
   },
   "cell_type": "code",
   "id": "a60791bb-c362-447a-b319-b0d50b84688a",
   "outputs": [],
   "execution_count": 35
  },
  {
   "source": [
    "Only look at FTEs (full-time equivalents) in labour cost survey data, not to distinguish between full-time or part-time measures. This only applies to employment data, not hours worked."
   ],
   "metadata": {
    "collapsed": false
   },
   "id": "b4c0dbc357be33c0",
   "cell_type": "markdown"
  },
  {
   "source": [
    "labour_cost_survey_selected_employment_fte = labour_cost_survey_selected_employment[\n",
    "    labour_cost_survey_selected_employment.worktime == 'TOT_FTE']\n",
    "labour_cost_survey_selected_employment_fte_exiobase = labour_cost_survey_selected_employment_exiobase[\n",
    "    labour_cost_survey_selected_employment_exiobase.worktime == 'TOT_FTE']"
   ],
   "metadata": {
    "collapsed": false,
    "executionCancelledAt": null,
    "executionTime": 52,
    "lastExecutedAt": 1708625458290,
    "lastScheduledRunId": null,
    "lastSuccessfullyExecutedCode": "labour_cost_survey_selected_employment_fte = labour_cost_survey_selected_employment[\n    labour_cost_survey_selected_employment.worktime == 'TOT_FTE']\nlabour_cost_survey_selected_employment_fte_exiobase = labour_cost_survey_selected_employment_exiobase[\n    labour_cost_survey_selected_employment_exiobase.worktime == 'TOT_FTE']",
    "ExecuteTime": {
     "end_time": "2024-02-24T18:32:13.544129Z",
     "start_time": "2024-02-24T18:32:13.535504Z"
    }
   },
   "id": "20edd0622e84b4f0",
   "cell_type": "code",
   "execution_count": 36,
   "outputs": []
  },
  {
   "source": [
    "Remove rows where final_foundational is nan"
   ],
   "metadata": {},
   "id": "df12168e-bf7d-461b-80f3-459d301cf092",
   "cell_type": "markdown"
  },
  {
   "source": [
    "labour_cost_survey_selected_employment_fte = labour_cost_survey_selected_employment_fte[\n",
    "    labour_cost_survey_selected_employment_fte.final_foundational.notna()]\n",
    "labour_accounts_selected_employment = labour_accounts_selected_employment[\n",
    "    labour_accounts_selected_employment.final_foundational.notna()]"
   ],
   "metadata": {
    "collapsed": false,
    "executionCancelledAt": null,
    "executionTime": 47,
    "lastExecutedAt": 1708625458338,
    "lastScheduledRunId": null,
    "lastSuccessfullyExecutedCode": "labour_cost_survey_selected_employment_fte = labour_cost_survey_selected_employment_fte[\n    labour_cost_survey_selected_employment_fte.final_foundational.notna()]\nlabour_accounts_selected_employment = labour_accounts_selected_employment[\n    labour_accounts_selected_employment.final_foundational.notna()]",
    "ExecuteTime": {
     "end_time": "2024-02-24T18:32:13.590002Z",
     "start_time": "2024-02-24T18:32:13.543611Z"
    }
   },
   "id": "ec3d5a0e863cdae1",
   "cell_type": "code",
   "execution_count": 37,
   "outputs": []
  },
  {
   "source": [
    "labour_cost_survey_selected_employment_fte_exiobase = labour_cost_survey_selected_employment_fte_exiobase[\n",
    "    labour_cost_survey_selected_employment_fte_exiobase.final_foundational.notna()]\n",
    "labour_accounts_selected_employment_exiobase = labour_accounts_selected_employment_exiobase[\n",
    "    labour_accounts_selected_employment_exiobase.final_foundational.notna()]"
   ],
   "metadata": {
    "executionCancelledAt": null,
    "executionTime": 47,
    "lastExecutedAt": 1708625458386,
    "lastScheduledRunId": null,
    "lastSuccessfullyExecutedCode": "labour_cost_survey_selected_employment_fte_exiobase = labour_cost_survey_selected_employment_fte_exiobase[\n    labour_cost_survey_selected_employment_fte_exiobase.final_foundational.notna()]\nlabour_accounts_selected_employment_exiobase = labour_accounts_selected_employment_exiobase[\n    labour_accounts_selected_employment_exiobase.final_foundational.notna()]",
    "ExecuteTime": {
     "end_time": "2024-02-24T18:32:13.591698Z",
     "start_time": "2024-02-24T18:32:13.563223Z"
    }
   },
   "cell_type": "code",
   "id": "6869a810-e82b-46d3-aadd-09d1fd82b976",
   "outputs": [],
   "execution_count": 38
  },
  {
   "source": [
    "Calculate labour shares by foundational type for employment and hours."
   ],
   "metadata": {
    "collapsed": false
   },
   "id": "bb0a02f66f76c6f8",
   "cell_type": "markdown"
  },
  {
   "source": [
    "import matplotlib.pyplot as plt\n",
    "from functions.create_panel_dataset import calculate_shares"
   ],
   "metadata": {
    "collapsed": false,
    "executionCancelledAt": null,
    "executionTime": 47,
    "lastExecutedAt": 1708625458434,
    "lastScheduledRunId": null,
    "lastSuccessfullyExecutedCode": "import matplotlib.pyplot as plt\nfrom functions.create_panel_dataset import calculate_shares",
    "ExecuteTime": {
     "end_time": "2024-02-24T18:32:13.956745Z",
     "start_time": "2024-02-24T18:32:13.582243Z"
    }
   },
   "id": "4c788f63d87c532",
   "cell_type": "code",
   "execution_count": 39,
   "outputs": []
  },
  {
   "source": [
    "labour_cost_survey_shares_employment_fte = calculate_shares(labour_cost_survey_selected_employment_fte, 'OBS_VALUE')\n",
    "labour_cost_survey_shares_hours_worked = calculate_shares(labour_cost_survey_selected_hours_worked, 'OBS_VALUE')\n",
    "labour_accounts_shares_employment = calculate_shares(labour_accounts_selected_employment, 'OBS_VALUE')"
   ],
   "metadata": {
    "collapsed": false,
    "executionCancelledAt": null,
    "executionTime": 80,
    "lastExecutedAt": 1708625458514,
    "lastScheduledRunId": null,
    "lastSuccessfullyExecutedCode": "labour_cost_survey_shares_employment_fte = calculate_shares(labour_cost_survey_selected_employment_fte, 'OBS_VALUE')\nlabour_cost_survey_shares_hours_worked = calculate_shares(labour_cost_survey_selected_hours_worked, 'OBS_VALUE')\nlabour_accounts_shares_employment = calculate_shares(labour_accounts_selected_employment, 'OBS_VALUE')",
    "ExecuteTime": {
     "end_time": "2024-02-24T18:32:14.006860Z",
     "start_time": "2024-02-24T18:32:13.953684Z"
    }
   },
   "id": "bae88cb11445dc7b",
   "cell_type": "code",
   "execution_count": 40,
   "outputs": []
  },
  {
   "source": [
    "labour_cost_survey_shares_employment_fte_exiobase = calculate_shares(labour_cost_survey_selected_employment_fte_exiobase, 'OBS_VALUE')\n",
    "labour_cost_survey_shares_hours_worked_exiobase = calculate_shares(labour_cost_survey_selected_hours_worked_exiobase, 'OBS_VALUE')\n",
    "labour_accounts_shares_employment_exiobase = calculate_shares(labour_accounts_selected_employment_exiobase, 'OBS_VALUE')"
   ],
   "metadata": {
    "executionCancelledAt": null,
    "executionTime": 81,
    "lastExecutedAt": 1708625458595,
    "lastScheduledRunId": null,
    "lastSuccessfullyExecutedCode": "labour_cost_survey_shares_employment_fte_exiobase = calculate_shares(labour_cost_survey_selected_employment_fte_exiobase, 'OBS_VALUE')\nlabour_cost_survey_shares_hours_worked_exiobase = calculate_shares(labour_cost_survey_selected_hours_worked_exiobase, 'OBS_VALUE')\nlabour_accounts_shares_employment_exiobase = calculate_shares(labour_accounts_selected_employment_exiobase, 'OBS_VALUE')",
    "ExecuteTime": {
     "end_time": "2024-02-24T18:32:14.049146Z",
     "start_time": "2024-02-24T18:32:14.004970Z"
    }
   },
   "cell_type": "code",
   "id": "bf6fc986-4a5e-44ff-a15e-126a5f2e8d2f",
   "outputs": [],
   "execution_count": 41
  },
  {
   "source": [
    "plt.hist(labour_cost_survey_shares_employment_fte['TIME_PERIOD'], bins=[y - 2 for y in time_periods] + [2022], edgecolor='black', align='mid', rwidth=0.8)\n",
    "plt.xticks(time_periods); plt.xlabel('Year'); plt.ylabel('Countries'); plt.title('Labor shares available per year (LC Survey)')"
   ],
   "metadata": {
    "collapsed": false,
    "executionCancelledAt": null,
    "executionTime": 286,
    "lastExecutedAt": 1708625458881,
    "lastScheduledRunId": null,
    "lastSuccessfullyExecutedCode": "plt.hist(labour_cost_survey_shares_employment_fte['TIME_PERIOD'], bins=[y - 2 for y in time_periods] + [2022], edgecolor='black', align='mid', rwidth=0.8)\nplt.xticks(time_periods); plt.xlabel('Year'); plt.ylabel('Countries'); plt.title('Labor shares available per year (LC Survey)')",
    "ExecuteTime": {
     "end_time": "2024-02-24T18:32:14.175974Z",
     "start_time": "2024-02-24T18:32:14.049551Z"
    }
   },
   "id": "3e23b8f111580299",
   "cell_type": "code",
   "execution_count": 42,
   "outputs": [
    {
     "data": {
      "text/plain": "Text(0.5, 1.0, 'Labor shares available per year (LC Survey)')"
     },
     "execution_count": 42,
     "metadata": {},
     "output_type": "execute_result"
    },
    {
     "data": {
      "text/plain": "<Figure size 640x480 with 1 Axes>",
      "image/png": "[encoded data removed]"
     },
     "metadata": {},
     "output_type": "display_data"
    }
   ]
  },
  {
   "source": [
    "plt.hist(labour_cost_survey_shares_employment_fte_exiobase['TIME_PERIOD'], bins=[y - 2 for y in time_periods] + [2022], edgecolor='black', align='mid', rwidth=0.8)\n",
    "plt.xticks(time_periods); plt.xlabel('Year'); plt.ylabel('Countries'); plt.title('Labor shares available per year (LC Survey)')"
   ],
   "metadata": {
    "executionCancelledAt": null,
    "executionTime": 183,
    "lastExecutedAt": 1708625459064,
    "lastScheduledRunId": null,
    "lastSuccessfullyExecutedCode": "plt.hist(labour_cost_survey_shares_employment_fte_exiobase['TIME_PERIOD'], bins=[y - 2 for y in time_periods] + [2022], edgecolor='black', align='mid', rwidth=0.8)\nplt.xticks(time_periods); plt.xlabel('Year'); plt.ylabel('Countries'); plt.title('Labor shares available per year (LC Survey)')",
    "ExecuteTime": {
     "end_time": "2024-02-24T18:32:14.320915Z",
     "start_time": "2024-02-24T18:32:14.197182Z"
    }
   },
   "cell_type": "code",
   "id": "e560e3fc-87d9-42fa-b445-b88442135185",
   "outputs": [
    {
     "data": {
      "text/plain": "Text(0.5, 1.0, 'Labor shares available per year (LC Survey)')"
     },
     "execution_count": 43,
     "metadata": {},
     "output_type": "execute_result"
    },
    {
     "data": {
      "text/plain": "<Figure size 640x480 with 1 Axes>",
      "image/png": "[encoded data removed]"
     },
     "metadata": {},
     "output_type": "display_data"
    }
   ],
   "execution_count": 43
  },
  {
   "source": [
    "energy_use_iea_selected_years = energy_use_iea[energy_use_iea['TIME_PERIOD'].isin(time_periods)]\n",
    "energy_use_iea_selected = energy_use_iea_selected_years[energy_use_iea_selected_years.geo.isin(labour_cost_survey_shares_employment_fte.geo.unique())]\n",
    "energy_use_iea_selected_years_accounts = energy_use_iea[energy_use_iea['TIME_PERIOD'].isin(labour_accounts_shares_employment.TIME_PERIOD.unique())]\n",
    "energy_use_iea_selected_years_accounts[energy_use_iea_selected_years_accounts.geo.isin(labour_accounts_shares_employment.geo.unique())]"
   ],
   "metadata": {
    "collapsed": false,
    "executionCancelledAt": null,
    "executionTime": 51,
    "lastExecutedAt": 1708625459115,
    "lastScheduledRunId": null,
    "lastSuccessfullyExecutedCode": "energy_use_iea_selected_years = energy_use_iea[energy_use_iea['TIME_PERIOD'].isin(time_periods)]\nenergy_use_iea_selected = energy_use_iea_selected_years[energy_use_iea_selected_years.geo.isin(labour_cost_survey_shares_employment_fte.geo.unique())]\nenergy_use_iea_selected_years_accounts = energy_use_iea[energy_use_iea['TIME_PERIOD'].isin(labour_accounts_shares_employment.TIME_PERIOD.unique())]\nenergy_use_iea_selected_years_accounts[energy_use_iea_selected_years_accounts.geo.isin(labour_accounts_shares_employment.geo.unique())]",
    "outputsMetadata": {
     "0": {
      "height": 316,
      "type": "dataFrame"
     }
    },
    "ExecuteTime": {
     "end_time": "2024-02-24T18:32:14.393821Z",
     "start_time": "2024-02-24T18:32:14.287865Z"
    }
   },
   "id": "5d5ca28545939cc6",
   "cell_type": "code",
   "execution_count": 44,
   "outputs": [
    {
     "data": {
      "text/plain": "     geo  TIME_PERIOD      energy\n0     AT         1995  112.158943\n1     BE         1995  157.494601\n2     BG         1995   58.702334\n3     CY         1995   59.549489\n4     CZ         1995  111.310297\n...   ..          ...         ...\n1297  RO         2021   56.531798\n1298  SE         2021  132.527085\n1299  SI         2021   96.162657\n1300  SK         2021   90.254176\n1315  NO         2021  168.513380\n\n[729 rows x 3 columns]",
      "text/html": "<div>\n<style scoped>\n    .dataframe tbody tr th:only-of-type {\n        vertical-align: middle;\n    }\n\n    .dataframe tbody tr th {\n        vertical-align: top;\n    }\n\n    .dataframe thead th {\n        text-align: right;\n    }\n</style>\n<table border=\"1\" class=\"dataframe\">\n  <thead>\n    <tr style=\"text-align: right;\">\n      <th></th>\n      <th>geo</th>\n      <th>TIME_PERIOD</th>\n      <th>energy</th>\n    </tr>\n  </thead>\n  <tbody>\n    <tr>\n      <th>0</th>\n      <td>AT</td>\n      <td>1995</td>\n      <td>112.158943</td>\n    </tr>\n    <tr>\n      <th>1</th>\n      <td>BE</td>\n      <td>1995</td>\n      <td>157.494601</td>\n    </tr>\n    <tr>\n      <th>2</th>\n      <td>BG</td>\n      <td>1995</td>\n      <td>58.702334</td>\n    </tr>\n    <tr>\n      <th>3</th>\n      <td>CY</td>\n      <td>1995</td>\n      <td>59.549489</td>\n    </tr>\n    <tr>\n      <th>4</th>\n      <td>CZ</td>\n      <td>1995</td>\n      <td>111.310297</td>\n    </tr>\n    <tr>\n      <th>...</th>\n      <td>...</td>\n      <td>...</td>\n      <td>...</td>\n    </tr>\n    <tr>\n      <th>1297</th>\n      <td>RO</td>\n      <td>2021</td>\n      <td>56.531798</td>\n    </tr>\n    <tr>\n      <th>1298</th>\n      <td>SE</td>\n      <td>2021</td>\n      <td>132.527085</td>\n    </tr>\n    <tr>\n      <th>1299</th>\n      <td>SI</td>\n      <td>2021</td>\n      <td>96.162657</td>\n    </tr>\n    <tr>\n      <th>1300</th>\n      <td>SK</td>\n      <td>2021</td>\n      <td>90.254176</td>\n    </tr>\n    <tr>\n      <th>1315</th>\n      <td>NO</td>\n      <td>2021</td>\n      <td>168.513380</td>\n    </tr>\n  </tbody>\n</table>\n<p>729 rows × 3 columns</p>\n</div>"
     },
     "execution_count": 44,
     "metadata": {},
     "output_type": "execute_result"
    }
   ]
  },
  {
   "source": [
    "plt.hist(energy_use_iea_selected['TIME_PERIOD'], bins=[y - 2 for y in time_periods], edgecolor='black', align='mid', rwidth=0.8)\n",
    "plt.xticks(time_periods); plt.xlabel('Year'); plt.ylabel('Countries'); plt.title('Energy use data available per year')"
   ],
   "metadata": {
    "collapsed": false,
    "executionCancelledAt": null,
    "executionTime": 168,
    "lastExecutedAt": 1708625459284,
    "lastScheduledRunId": null,
    "lastSuccessfullyExecutedCode": "plt.hist(energy_use_iea_selected['TIME_PERIOD'], bins=[y - 2 for y in time_periods], edgecolor='black', align='mid', rwidth=0.8)\nplt.xticks(time_periods); plt.xlabel('Year'); plt.ylabel('Countries'); plt.title('Energy use data available per year')",
    "ExecuteTime": {
     "end_time": "2024-02-24T18:32:14.425192Z",
     "start_time": "2024-02-24T18:32:14.315085Z"
    }
   },
   "id": "c71f2ee3863e017c",
   "cell_type": "code",
   "execution_count": 45,
   "outputs": [
    {
     "data": {
      "text/plain": "Text(0.5, 1.0, 'Energy use data available per year')"
     },
     "execution_count": 45,
     "metadata": {},
     "output_type": "execute_result"
    },
    {
     "data": {
      "text/plain": "<Figure size 640x480 with 1 Axes>",
      "image/png": "[encoded data removed]"
     },
     "metadata": {},
     "output_type": "display_data"
    }
   ]
  },
  {
   "source": [
    "energy_use_exiobase_selected_years = energy_use_exiobase[energy_use_exiobase['TIME_PERIOD'].isin(time_periods)]\n",
    "energy_use_exiobase_selected = energy_use_exiobase_selected_years[energy_use_exiobase_selected_years.geo.isin(labour_cost_survey_shares_employment_fte_exiobase.geo.unique())]\n",
    "energy_use_exiobase_selected_years_accounts = energy_use_exiobase[energy_use_exiobase['TIME_PERIOD'].isin(labour_accounts_shares_employment_exiobase.TIME_PERIOD.unique())]\n",
    "energy_use_exiobase_selected_years_accounts[energy_use_exiobase_selected_years_accounts.geo.isin(labour_accounts_shares_employment_exiobase.geo.unique())]"
   ],
   "metadata": {
    "executionCancelledAt": null,
    "executionTime": 52,
    "lastExecutedAt": 1708625459336,
    "lastScheduledRunId": null,
    "lastSuccessfullyExecutedCode": "energy_use_exiobase_selected_years = energy_use_exiobase[energy_use_exiobase['TIME_PERIOD'].isin(time_periods)]\nenergy_use_exiobase_selected = energy_use_exiobase_selected_years[energy_use_exiobase_selected_years.geo.isin(labour_cost_survey_shares_employment_fte_exiobase.geo.unique())]\nenergy_use_exiobase_selected_years_accounts = energy_use_exiobase[energy_use_exiobase['TIME_PERIOD'].isin(labour_accounts_shares_employment_exiobase.TIME_PERIOD.unique())]\nenergy_use_exiobase_selected_years_accounts[energy_use_exiobase_selected_years_accounts.geo.isin(labour_accounts_shares_employment_exiobase.geo.unique())]",
    "outputsMetadata": {
     "0": {
      "height": 316,
      "type": "dataFrame"
     }
    },
    "ExecuteTime": {
     "end_time": "2024-02-24T18:32:14.429564Z",
     "start_time": "2024-02-24T18:32:14.396997Z"
    }
   },
   "cell_type": "code",
   "id": "88ba0375-e7c4-48bd-ac90-9d045dae2578",
   "outputs": [
    {
     "data": {
      "text/plain": "     geo  TIME_PERIOD      energy\n0     AT         1995  121.866724\n1     BE         1995   76.872893\n2     BG         1995   15.493616\n3     CY         1995   89.364485\n4     CZ         1995   82.147956\n...   ..          ...         ...\n1297  RO         2021   71.880035\n1298  SE         2021  114.088361\n1299  SI         2021   95.439943\n1300  SK         2021  194.000779\n1315  NO         2021  242.758086\n\n[729 rows x 3 columns]",
      "text/html": "<div>\n<style scoped>\n    .dataframe tbody tr th:only-of-type {\n        vertical-align: middle;\n    }\n\n    .dataframe tbody tr th {\n        vertical-align: top;\n    }\n\n    .dataframe thead th {\n        text-align: right;\n    }\n</style>\n<table border=\"1\" class=\"dataframe\">\n  <thead>\n    <tr style=\"text-align: right;\">\n      <th></th>\n      <th>geo</th>\n      <th>TIME_PERIOD</th>\n      <th>energy</th>\n    </tr>\n  </thead>\n  <tbody>\n    <tr>\n      <th>0</th>\n      <td>AT</td>\n      <td>1995</td>\n      <td>121.866724</td>\n    </tr>\n    <tr>\n      <th>1</th>\n      <td>BE</td>\n      <td>1995</td>\n      <td>76.872893</td>\n    </tr>\n    <tr>\n      <th>2</th>\n      <td>BG</td>\n      <td>1995</td>\n      <td>15.493616</td>\n    </tr>\n    <tr>\n      <th>3</th>\n      <td>CY</td>\n      <td>1995</td>\n      <td>89.364485</td>\n    </tr>\n    <tr>\n      <th>4</th>\n      <td>CZ</td>\n      <td>1995</td>\n      <td>82.147956</td>\n    </tr>\n    <tr>\n      <th>...</th>\n      <td>...</td>\n      <td>...</td>\n      <td>...</td>\n    </tr>\n    <tr>\n      <th>1297</th>\n      <td>RO</td>\n      <td>2021</td>\n      <td>71.880035</td>\n    </tr>\n    <tr>\n      <th>1298</th>\n      <td>SE</td>\n      <td>2021</td>\n      <td>114.088361</td>\n    </tr>\n    <tr>\n      <th>1299</th>\n      <td>SI</td>\n      <td>2021</td>\n      <td>95.439943</td>\n    </tr>\n    <tr>\n      <th>1300</th>\n      <td>SK</td>\n      <td>2021</td>\n      <td>194.000779</td>\n    </tr>\n    <tr>\n      <th>1315</th>\n      <td>NO</td>\n      <td>2021</td>\n      <td>242.758086</td>\n    </tr>\n  </tbody>\n</table>\n<p>729 rows × 3 columns</p>\n</div>"
     },
     "execution_count": 46,
     "metadata": {},
     "output_type": "execute_result"
    }
   ],
   "execution_count": 46
  },
  {
   "source": [
    "plt.hist(energy_use_exiobase_selected['TIME_PERIOD'], bins=[y - 2 for y in time_periods], edgecolor='black', align='mid', rwidth=0.8)\n",
    "plt.xticks(time_periods); plt.xlabel('Year'); plt.ylabel('Countries'); plt.title('Energy use data available per year (Exiobase)')"
   ],
   "metadata": {
    "executionCancelledAt": null,
    "executionTime": 169,
    "lastExecutedAt": 1708625459505,
    "lastScheduledRunId": null,
    "lastSuccessfullyExecutedCode": "plt.hist(energy_use_exiobase_selected['TIME_PERIOD'], bins=[y - 2 for y in time_periods], edgecolor='black', align='mid', rwidth=0.8)\nplt.xticks(time_periods); plt.xlabel('Year'); plt.ylabel('Countries'); plt.title('Energy use data available per year (Exiobase)')",
    "ExecuteTime": {
     "end_time": "2024-02-24T18:32:14.702613Z",
     "start_time": "2024-02-24T18:32:14.418535Z"
    }
   },
   "cell_type": "code",
   "id": "e79665a9-d01b-4460-ab47-53d1affae820",
   "outputs": [
    {
     "data": {
      "text/plain": "Text(0.5, 1.0, 'Energy use data available per year (Exiobase)')"
     },
     "execution_count": 47,
     "metadata": {},
     "output_type": "execute_result"
    },
    {
     "data": {
      "text/plain": "<Figure size 640x480 with 1 Axes>",
      "image/png": "[encoded data removed]"
     },
     "metadata": {},
     "output_type": "display_data"
    }
   ],
   "execution_count": 47
  },
  {
   "source": [
    "Assemble energy use, labor and need satisfaction data into a single dataset."
   ],
   "metadata": {
    "collapsed": false
   },
   "id": "c62a0957ae338d82",
   "cell_type": "markdown"
  },
  {
   "source": [
    "energy_use_employment = labour_cost_survey_shares_employment_fte.merge(energy_use_iea_selected, on=['geo', 'TIME_PERIOD'], how='left')\n",
    "energy_use_employment_need_satisfaction = energy_use_employment.merge(need_satisfaction, on=['geo', 'TIME_PERIOD'], how='left')\n",
    "energy_use_employment_need_satisfaction_provisioning_factors = energy_use_employment_need_satisfaction.merge(wdi_provisioning_factors, on=['geo', 'TIME_PERIOD'], how='left')"
   ],
   "metadata": {
    "collapsed": false,
    "executionCancelledAt": null,
    "executionTime": 49,
    "lastExecutedAt": 1708625459554,
    "lastScheduledRunId": null,
    "lastSuccessfullyExecutedCode": "energy_use_employment = labour_cost_survey_shares_employment_fte.merge(energy_use_iea_selected, on=['geo', 'TIME_PERIOD'], how='left')\nenergy_use_employment_need_satisfaction = energy_use_employment.merge(need_satisfaction, on=['geo', 'TIME_PERIOD'], how='left')\nenergy_use_employment_need_satisfaction_provisioning_factors = energy_use_employment_need_satisfaction.merge(wdi_provisioning_factors, on=['geo', 'TIME_PERIOD'], how='left')",
    "ExecuteTime": {
     "end_time": "2024-02-24T18:32:14.732242Z",
     "start_time": "2024-02-24T18:32:14.585867Z"
    }
   },
   "id": "37d6fbfe9448e464",
   "cell_type": "code",
   "execution_count": 48,
   "outputs": []
  },
  {
   "source": [
    "energy_use_employment_accounts = labour_accounts_shares_employment.merge(energy_use_iea_selected_years_accounts, on=['geo', 'TIME_PERIOD'], how='left')\n",
    "energy_use_employment_need_satisfaction_accounts = energy_use_employment_accounts.merge(need_satisfaction, on=['geo', 'TIME_PERIOD'], how='left')\n",
    "energy_use_employment_need_satisfaction_provisioning_factors_accounts = energy_use_employment_need_satisfaction_accounts.merge(wdi_provisioning_factors, on=['geo', 'TIME_PERIOD'], how='left')"
   ],
   "metadata": {
    "executionCancelledAt": null,
    "executionTime": 51,
    "lastExecutedAt": 1708625459606,
    "lastScheduledRunId": null,
    "lastSuccessfullyExecutedCode": "energy_use_employment_accounts = labour_accounts_shares_employment.merge(energy_use_iea_selected_years_accounts, on=['geo', 'TIME_PERIOD'], how='left')\nenergy_use_employment_need_satisfaction_accounts = energy_use_employment_accounts.merge(need_satisfaction, on=['geo', 'TIME_PERIOD'], how='left')\nenergy_use_employment_need_satisfaction_provisioning_factors_accounts = energy_use_employment_need_satisfaction_accounts.merge(wdi_provisioning_factors, on=['geo', 'TIME_PERIOD'], how='left')",
    "ExecuteTime": {
     "end_time": "2024-02-24T18:32:14.753523Z",
     "start_time": "2024-02-24T18:32:14.597520Z"
    }
   },
   "id": "ce0114aa-300c-4be6-931e-4f57805c7be2",
   "cell_type": "code",
   "execution_count": 49,
   "outputs": []
  },
  {
   "source": [
    "Same but with exiobase energy data"
   ],
   "metadata": {},
   "cell_type": "markdown",
   "id": "3d0dd0b5-70fd-4b85-9239-fbfdae4917f0"
  },
  {
   "source": [
    "energy_use_employment_exiobase = labour_cost_survey_shares_employment_fte_exiobase.merge(energy_use_exiobase_selected, on=['geo', 'TIME_PERIOD'], how='left')\n",
    "energy_use_employment_need_satisfaction_exiobase = energy_use_employment_exiobase.merge(need_satisfaction, on=['geo', 'TIME_PERIOD'], how='left')\n",
    "energy_use_employment_need_satisfaction_provisioning_factors_exiobase = energy_use_employment_need_satisfaction_exiobase.merge(wdi_provisioning_factors, on=['geo', 'TIME_PERIOD'], how='left')"
   ],
   "metadata": {
    "executionCancelledAt": null,
    "executionTime": 55,
    "lastExecutedAt": 1708625459662,
    "lastScheduledRunId": null,
    "lastSuccessfullyExecutedCode": "energy_use_employment_exiobase = labour_cost_survey_shares_employment_fte_exiobase.merge(energy_use_exiobase_selected, on=['geo', 'TIME_PERIOD'], how='left')\nenergy_use_employment_need_satisfaction_exiobase = energy_use_employment_exiobase.merge(need_satisfaction, on=['geo', 'TIME_PERIOD'], how='left')\nenergy_use_employment_need_satisfaction_provisioning_factors_exiobase = energy_use_employment_need_satisfaction_exiobase.merge(wdi_provisioning_factors, on=['geo', 'TIME_PERIOD'], how='left')",
    "ExecuteTime": {
     "end_time": "2024-02-24T18:32:14.753988Z",
     "start_time": "2024-02-24T18:32:14.606462Z"
    }
   },
   "cell_type": "code",
   "id": "cd6ffdee-77ea-4f28-8071-305cedd2404a",
   "outputs": [],
   "execution_count": 50
  },
  {
   "source": [
    "energy_use_employment_accounts_exiobase = labour_accounts_shares_employment_exiobase.merge(energy_use_exiobase_selected_years_accounts, on=['geo', 'TIME_PERIOD'], how='left')\n",
    "energy_use_employment_need_satisfaction_accounts_exiobase = energy_use_employment_accounts_exiobase.merge(need_satisfaction, on=['geo', 'TIME_PERIOD'], how='left')\n",
    "energy_use_employment_need_satisfaction_provisioning_factors_accounts_exiobase = energy_use_employment_need_satisfaction_accounts_exiobase.merge(wdi_provisioning_factors, on=['geo', 'TIME_PERIOD'], how='left')"
   ],
   "metadata": {
    "executionCancelledAt": null,
    "executionTime": 51,
    "lastExecutedAt": 1708625459714,
    "lastScheduledRunId": null,
    "lastSuccessfullyExecutedCode": "energy_use_employment_accounts_exiobase = labour_accounts_shares_employment_exiobase.merge(energy_use_exiobase_selected_years_accounts, on=['geo', 'TIME_PERIOD'], how='left')\nenergy_use_employment_need_satisfaction_accounts_exiobase = energy_use_employment_accounts_exiobase.merge(need_satisfaction, on=['geo', 'TIME_PERIOD'], how='left')\nenergy_use_employment_need_satisfaction_provisioning_factors_accounts_exiobase = energy_use_employment_need_satisfaction_accounts_exiobase.merge(wdi_provisioning_factors, on=['geo', 'TIME_PERIOD'], how='left')",
    "ExecuteTime": {
     "end_time": "2024-02-24T18:32:14.756093Z",
     "start_time": "2024-02-24T18:32:14.626640Z"
    }
   },
   "cell_type": "code",
   "id": "484fd5d6-9f61-421f-b860-ed2fd187e811",
   "outputs": [],
   "execution_count": 51
  },
  {
   "source": [
    "Rename some columns and save the resulting (non-transformed) data as a CSV"
   ],
   "metadata": {
    "collapsed": false
   },
   "id": "27df7d91765c2e3c",
   "cell_type": "markdown"
  },
  {
   "source": [
    "foundational_df_no_transformations = energy_use_employment_need_satisfaction_provisioning_factors.rename(columns={'Material': 'material', 'Other': 'other', 'Overlooked': 'overlooked', 'Providential': 'providential'})\n",
    "foundational_df_no_transformations.to_csv('./output/foundational_no_transformations.csv', index=False) "
   ],
   "metadata": {
    "collapsed": false,
    "executionCancelledAt": null,
    "executionTime": 48,
    "lastExecutedAt": 1708625459762,
    "lastScheduledRunId": null,
    "lastSuccessfullyExecutedCode": "foundational_df_no_transformations = energy_use_employment_need_satisfaction_provisioning_factors.rename(columns={'Material': 'material', 'Other': 'other', 'Overlooked': 'overlooked', 'Providential': 'providential'})\nfoundational_df_no_transformations.to_csv('./output/foundational_no_transformations.csv', index=False) ",
    "ExecuteTime": {
     "end_time": "2024-02-24T18:32:14.758288Z",
     "start_time": "2024-02-24T18:32:14.641929Z"
    }
   },
   "id": "54a4be537674257",
   "cell_type": "code",
   "execution_count": 52,
   "outputs": []
  },
  {
   "source": [
    "foundational_df_no_transformations_exiobase = energy_use_employment_need_satisfaction_provisioning_factors_exiobase.rename(columns={'Material': 'material', 'Other': 'other', 'Overlooked': 'overlooked', 'Providential': 'providential'})\n",
    "foundational_df_no_transformations_exiobase.to_csv('./output/foundational_df_no_transformations_exiobase.csv', index=False) "
   ],
   "metadata": {
    "executionCancelledAt": null,
    "executionTime": 48,
    "lastExecutedAt": 1708625459810,
    "lastScheduledRunId": null,
    "lastSuccessfullyExecutedCode": "foundational_df_no_transformations_exiobase = energy_use_employment_need_satisfaction_provisioning_factors_exiobase.rename(columns={'Material': 'material', 'Other': 'other', 'Overlooked': 'overlooked', 'Providential': 'providential'})\nfoundational_df_no_transformations_exiobase.to_csv('./output/foundational_df_no_transformations_exiobase.csv', index=False) ",
    "ExecuteTime": {
     "end_time": "2024-02-24T18:32:14.770052Z",
     "start_time": "2024-02-24T18:32:14.657258Z"
    }
   },
   "cell_type": "code",
   "id": "255d9af5-34aa-46a8-b3b7-b145e748fced",
   "outputs": [],
   "execution_count": 53
  },
  {
   "source": [
    "foundational_df_no_transformations_accounts = energy_use_employment_need_satisfaction_provisioning_factors_accounts.rename(columns={'Material': 'material', 'Other': 'other', 'Overlooked': 'overlooked', 'Providential': 'providential'})\n",
    "foundational_df_no_transformations_accounts.to_csv('./output/foundational_no_transformations_accounts.csv', index=False) "
   ],
   "metadata": {
    "executionCancelledAt": null,
    "executionTime": 72,
    "lastExecutedAt": 1708625459882,
    "lastScheduledRunId": null,
    "lastSuccessfullyExecutedCode": "foundational_df_no_transformations_accounts = energy_use_employment_need_satisfaction_provisioning_factors_accounts.rename(columns={'Material': 'material', 'Other': 'other', 'Overlooked': 'overlooked', 'Providential': 'providential'})\nfoundational_df_no_transformations_accounts.to_csv('./output/foundational_no_transformations_accounts.csv', index=False) ",
    "ExecuteTime": {
     "end_time": "2024-02-24T18:32:14.772680Z",
     "start_time": "2024-02-24T18:32:14.662237Z"
    }
   },
   "id": "3f28349f-8c33-4f5f-8465-321e3b24f8f2",
   "cell_type": "code",
   "execution_count": 54,
   "outputs": []
  },
  {
   "source": [
    "foundational_df_no_transformations_accounts_exiobase = energy_use_employment_need_satisfaction_provisioning_factors_accounts_exiobase.rename(columns={'Material': 'material', 'Other': 'other', 'Overlooked': 'overlooked', 'Providential': 'providential'})\n",
    "foundational_df_no_transformations_accounts_exiobase.to_csv('./output/foundational_no_transformations_accounts_exiobase.csv', index=False) "
   ],
   "metadata": {
    "executionCancelledAt": null,
    "executionTime": 70,
    "lastExecutedAt": 1708625459952,
    "lastScheduledRunId": null,
    "lastSuccessfullyExecutedCode": "foundational_df_no_transformations_accounts_exiobase = energy_use_employment_need_satisfaction_provisioning_factors_accounts_exiobase.rename(columns={'Material': 'material', 'Other': 'other', 'Overlooked': 'overlooked', 'Providential': 'providential'})\nfoundational_df_no_transformations_accounts_exiobase.to_csv('./output/foundational_no_transformations_accounts_exiobase.csv', index=False) ",
    "ExecuteTime": {
     "end_time": "2024-02-24T18:32:14.775960Z",
     "start_time": "2024-02-24T18:32:14.675786Z"
    }
   },
   "cell_type": "code",
   "id": "e8be35ef-7f20-4c60-8b4f-f73351d405bf",
   "outputs": [],
   "execution_count": 55
  },
  {
   "source": [
    "Final (non-transformed) data frame"
   ],
   "metadata": {
    "collapsed": false
   },
   "id": "2dcd52839573edcd",
   "cell_type": "markdown"
  },
  {
   "source": [
    "foundational_df_no_transformations.head()"
   ],
   "metadata": {
    "collapsed": false,
    "executionCancelledAt": null,
    "executionTime": 49,
    "lastExecutedAt": 1708625460003,
    "lastScheduledRunId": null,
    "lastSuccessfullyExecutedCode": "foundational_df_no_transformations.head()",
    "outputsMetadata": {
     "0": {
      "height": 210,
      "type": "dataFrame"
     }
    },
    "ExecuteTime": {
     "end_time": "2024-02-24T18:32:14.940876Z",
     "start_time": "2024-02-24T18:32:14.689412Z"
    }
   },
   "id": "4a5dd2055f69390b",
   "cell_type": "code",
   "execution_count": 56,
   "outputs": [
    {
     "data": {
      "text/plain": "  geo  TIME_PERIOD  material     other  overlooked  providential      energy  \\\n0  AT         2008  0.158141  0.532883    0.176036      0.132940  135.990634   \n1  AT         2012  0.161036  0.542779    0.180083      0.116101  133.894467   \n2  AT         2016  0.155858  0.546910    0.172414      0.124817  133.483159   \n3  AT         2020  0.149741  0.555164    0.165324      0.129771  124.920470   \n4  BE         2008  0.155721  0.437700    0.094267      0.312312  166.054142   \n\n   ladder  socialsupport    hale  freedom  charity  corruption  positive  \\\n0   7.181          0.935  69.700    0.879    0.287       0.614     0.716   \n1   7.401          0.945  70.100    0.920    0.114       0.771     0.712   \n2   7.048          0.926  70.525    0.889    0.076       0.524     0.713   \n3   7.213          0.925  71.025    0.912    0.006       0.464     0.716   \n4   7.117          0.923  68.880    0.887    0.003       0.652     0.709   \n\n   negative   schoolenr   wdi_hale  education  goveffectiveness  gini  \n0     0.173  100.126129  80.431707  15.770060          1.771053  30.4  \n1     0.157  100.108727  80.936585  16.085060          1.559877  30.5  \n2     0.197  100.227989  81.641463  16.081190          1.504636  30.8  \n3     0.206  101.690559  81.192683  16.007959          1.645901  29.8  \n4     0.242  160.468811  79.680488  18.991390          1.380659  28.4  ",
      "text/html": "<div>\n<style scoped>\n    .dataframe tbody tr th:only-of-type {\n        vertical-align: middle;\n    }\n\n    .dataframe tbody tr th {\n        vertical-align: top;\n    }\n\n    .dataframe thead th {\n        text-align: right;\n    }\n</style>\n<table border=\"1\" class=\"dataframe\">\n  <thead>\n    <tr style=\"text-align: right;\">\n      <th></th>\n      <th>geo</th>\n      <th>TIME_PERIOD</th>\n      <th>material</th>\n      <th>other</th>\n      <th>overlooked</th>\n      <th>providential</th>\n      <th>energy</th>\n      <th>ladder</th>\n      <th>socialsupport</th>\n      <th>hale</th>\n      <th>freedom</th>\n      <th>charity</th>\n      <th>corruption</th>\n      <th>positive</th>\n      <th>negative</th>\n      <th>schoolenr</th>\n      <th>wdi_hale</th>\n      <th>education</th>\n      <th>goveffectiveness</th>\n      <th>gini</th>\n    </tr>\n  </thead>\n  <tbody>\n    <tr>\n      <th>0</th>\n      <td>AT</td>\n      <td>2008</td>\n      <td>0.158141</td>\n      <td>0.532883</td>\n      <td>0.176036</td>\n      <td>0.132940</td>\n      <td>135.990634</td>\n      <td>7.181</td>\n      <td>0.935</td>\n      <td>69.700</td>\n      <td>0.879</td>\n      <td>0.287</td>\n      <td>0.614</td>\n      <td>0.716</td>\n      <td>0.173</td>\n      <td>100.126129</td>\n      <td>80.431707</td>\n      <td>15.770060</td>\n      <td>1.771053</td>\n      <td>30.4</td>\n    </tr>\n    <tr>\n      <th>1</th>\n      <td>AT</td>\n      <td>2012</td>\n      <td>0.161036</td>\n      <td>0.542779</td>\n      <td>0.180083</td>\n      <td>0.116101</td>\n      <td>133.894467</td>\n      <td>7.401</td>\n      <td>0.945</td>\n      <td>70.100</td>\n      <td>0.920</td>\n      <td>0.114</td>\n      <td>0.771</td>\n      <td>0.712</td>\n      <td>0.157</td>\n      <td>100.108727</td>\n      <td>80.936585</td>\n      <td>16.085060</td>\n      <td>1.559877</td>\n      <td>30.5</td>\n    </tr>\n    <tr>\n      <th>2</th>\n      <td>AT</td>\n      <td>2016</td>\n      <td>0.155858</td>\n      <td>0.546910</td>\n      <td>0.172414</td>\n      <td>0.124817</td>\n      <td>133.483159</td>\n      <td>7.048</td>\n      <td>0.926</td>\n      <td>70.525</td>\n      <td>0.889</td>\n      <td>0.076</td>\n      <td>0.524</td>\n      <td>0.713</td>\n      <td>0.197</td>\n      <td>100.227989</td>\n      <td>81.641463</td>\n      <td>16.081190</td>\n      <td>1.504636</td>\n      <td>30.8</td>\n    </tr>\n    <tr>\n      <th>3</th>\n      <td>AT</td>\n      <td>2020</td>\n      <td>0.149741</td>\n      <td>0.555164</td>\n      <td>0.165324</td>\n      <td>0.129771</td>\n      <td>124.920470</td>\n      <td>7.213</td>\n      <td>0.925</td>\n      <td>71.025</td>\n      <td>0.912</td>\n      <td>0.006</td>\n      <td>0.464</td>\n      <td>0.716</td>\n      <td>0.206</td>\n      <td>101.690559</td>\n      <td>81.192683</td>\n      <td>16.007959</td>\n      <td>1.645901</td>\n      <td>29.8</td>\n    </tr>\n    <tr>\n      <th>4</th>\n      <td>BE</td>\n      <td>2008</td>\n      <td>0.155721</td>\n      <td>0.437700</td>\n      <td>0.094267</td>\n      <td>0.312312</td>\n      <td>166.054142</td>\n      <td>7.117</td>\n      <td>0.923</td>\n      <td>68.880</td>\n      <td>0.887</td>\n      <td>0.003</td>\n      <td>0.652</td>\n      <td>0.709</td>\n      <td>0.242</td>\n      <td>160.468811</td>\n      <td>79.680488</td>\n      <td>18.991390</td>\n      <td>1.380659</td>\n      <td>28.4</td>\n    </tr>\n  </tbody>\n</table>\n</div>"
     },
     "execution_count": 56,
     "metadata": {},
     "output_type": "execute_result"
    }
   ]
  },
  {
   "source": [
    "With exiobase data"
   ],
   "metadata": {},
   "cell_type": "markdown",
   "id": "9ff59a21-5ba2-4fe0-9c02-1ec1249124e4"
  },
  {
   "source": [
    "foundational_df_no_transformations_exiobase.head()"
   ],
   "metadata": {
    "executionCancelledAt": null,
    "executionTime": 63,
    "lastExecutedAt": 1708625460067,
    "lastScheduledRunId": null,
    "lastSuccessfullyExecutedCode": "foundational_df_no_transformations_exiobase.head()",
    "outputsMetadata": {
     "0": {
      "height": 210,
      "type": "dataFrame"
     }
    },
    "ExecuteTime": {
     "end_time": "2024-02-24T18:32:14.966847Z",
     "start_time": "2024-02-24T18:32:14.710748Z"
    }
   },
   "cell_type": "code",
   "id": "2b91a323-60f3-40d7-9cd0-4d681b818e64",
   "outputs": [
    {
     "data": {
      "text/plain": "  geo  TIME_PERIOD  material     other  overlooked  providential      energy  \\\n0  AT         2008  0.158141  0.532883    0.176036      0.132940  136.636837   \n1  AT         2012  0.161036  0.542779    0.180083      0.116101  158.587267   \n2  AT         2016  0.155858  0.546910    0.172414      0.124817  104.751398   \n3  AT         2020  0.149741  0.555164    0.165324      0.129771  140.588024   \n4  BE         2008  0.155721  0.437700    0.094267      0.312312  258.711435   \n\n   ladder  socialsupport    hale  freedom  charity  corruption  positive  \\\n0   7.181          0.935  69.700    0.879    0.287       0.614     0.716   \n1   7.401          0.945  70.100    0.920    0.114       0.771     0.712   \n2   7.048          0.926  70.525    0.889    0.076       0.524     0.713   \n3   7.213          0.925  71.025    0.912    0.006       0.464     0.716   \n4   7.117          0.923  68.880    0.887    0.003       0.652     0.709   \n\n   negative   schoolenr   wdi_hale  education  goveffectiveness  gini  \n0     0.173  100.126129  80.431707  15.770060          1.771053  30.4  \n1     0.157  100.108727  80.936585  16.085060          1.559877  30.5  \n2     0.197  100.227989  81.641463  16.081190          1.504636  30.8  \n3     0.206  101.690559  81.192683  16.007959          1.645901  29.8  \n4     0.242  160.468811  79.680488  18.991390          1.380659  28.4  ",
      "text/html": "<div>\n<style scoped>\n    .dataframe tbody tr th:only-of-type {\n        vertical-align: middle;\n    }\n\n    .dataframe tbody tr th {\n        vertical-align: top;\n    }\n\n    .dataframe thead th {\n        text-align: right;\n    }\n</style>\n<table border=\"1\" class=\"dataframe\">\n  <thead>\n    <tr style=\"text-align: right;\">\n      <th></th>\n      <th>geo</th>\n      <th>TIME_PERIOD</th>\n      <th>material</th>\n      <th>other</th>\n      <th>overlooked</th>\n      <th>providential</th>\n      <th>energy</th>\n      <th>ladder</th>\n      <th>socialsupport</th>\n      <th>hale</th>\n      <th>freedom</th>\n      <th>charity</th>\n      <th>corruption</th>\n      <th>positive</th>\n      <th>negative</th>\n      <th>schoolenr</th>\n      <th>wdi_hale</th>\n      <th>education</th>\n      <th>goveffectiveness</th>\n      <th>gini</th>\n    </tr>\n  </thead>\n  <tbody>\n    <tr>\n      <th>0</th>\n      <td>AT</td>\n      <td>2008</td>\n      <td>0.158141</td>\n      <td>0.532883</td>\n      <td>0.176036</td>\n      <td>0.132940</td>\n      <td>136.636837</td>\n      <td>7.181</td>\n      <td>0.935</td>\n      <td>69.700</td>\n      <td>0.879</td>\n      <td>0.287</td>\n      <td>0.614</td>\n      <td>0.716</td>\n      <td>0.173</td>\n      <td>100.126129</td>\n      <td>80.431707</td>\n      <td>15.770060</td>\n      <td>1.771053</td>\n      <td>30.4</td>\n    </tr>\n    <tr>\n      <th>1</th>\n      <td>AT</td>\n      <td>2012</td>\n      <td>0.161036</td>\n      <td>0.542779</td>\n      <td>0.180083</td>\n      <td>0.116101</td>\n      <td>158.587267</td>\n      <td>7.401</td>\n      <td>0.945</td>\n      <td>70.100</td>\n      <td>0.920</td>\n      <td>0.114</td>\n      <td>0.771</td>\n      <td>0.712</td>\n      <td>0.157</td>\n      <td>100.108727</td>\n      <td>80.936585</td>\n      <td>16.085060</td>\n      <td>1.559877</td>\n      <td>30.5</td>\n    </tr>\n    <tr>\n      <th>2</th>\n      <td>AT</td>\n      <td>2016</td>\n      <td>0.155858</td>\n      <td>0.546910</td>\n      <td>0.172414</td>\n      <td>0.124817</td>\n      <td>104.751398</td>\n      <td>7.048</td>\n      <td>0.926</td>\n      <td>70.525</td>\n      <td>0.889</td>\n      <td>0.076</td>\n      <td>0.524</td>\n      <td>0.713</td>\n      <td>0.197</td>\n      <td>100.227989</td>\n      <td>81.641463</td>\n      <td>16.081190</td>\n      <td>1.504636</td>\n      <td>30.8</td>\n    </tr>\n    <tr>\n      <th>3</th>\n      <td>AT</td>\n      <td>2020</td>\n      <td>0.149741</td>\n      <td>0.555164</td>\n      <td>0.165324</td>\n      <td>0.129771</td>\n      <td>140.588024</td>\n      <td>7.213</td>\n      <td>0.925</td>\n      <td>71.025</td>\n      <td>0.912</td>\n      <td>0.006</td>\n      <td>0.464</td>\n      <td>0.716</td>\n      <td>0.206</td>\n      <td>101.690559</td>\n      <td>81.192683</td>\n      <td>16.007959</td>\n      <td>1.645901</td>\n      <td>29.8</td>\n    </tr>\n    <tr>\n      <th>4</th>\n      <td>BE</td>\n      <td>2008</td>\n      <td>0.155721</td>\n      <td>0.437700</td>\n      <td>0.094267</td>\n      <td>0.312312</td>\n      <td>258.711435</td>\n      <td>7.117</td>\n      <td>0.923</td>\n      <td>68.880</td>\n      <td>0.887</td>\n      <td>0.003</td>\n      <td>0.652</td>\n      <td>0.709</td>\n      <td>0.242</td>\n      <td>160.468811</td>\n      <td>79.680488</td>\n      <td>18.991390</td>\n      <td>1.380659</td>\n      <td>28.4</td>\n    </tr>\n  </tbody>\n</table>\n</div>"
     },
     "execution_count": 57,
     "metadata": {},
     "output_type": "execute_result"
    }
   ],
   "execution_count": 57
  },
  {
   "source": [
    "### Next step: exploratory analysis! See [exploratory.ipynb](exploratory.ipynb)"
   ],
   "metadata": {
    "collapsed": false
   },
   "id": "68bc7fd7e0c7dff5",
   "cell_type": "markdown"
  }
 ],
 "metadata": {
  "language_info": {
   "name": "python",
   "version": "3.8.10",
   "mimetype": "text/x-python",
   "codemirror_mode": {
    "name": "ipython",
    "version": 3
   },
   "pygments_lexer": "ipython3",
   "nbconvert_exporter": "python",
   "file_extension": ".py"
  },
  "kernelspec": {
   "display_name": "Python 3 (ipykernel)",
   "language": "python",
   "name": "python3"
  },
  "editor": "DataCamp Workspace"
 },
 "nbformat": 4,
 "nbformat_minor": 5
}
