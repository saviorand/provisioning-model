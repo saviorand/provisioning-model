{
 "cells": [
  {
   "cell_type": "code",
   "execution_count": 39,
   "id": "initial_id",
   "metadata": {
    "ExecuteTime": {
     "end_time": "2024-02-01T14:11:02.897195Z",
     "start_time": "2024-02-01T14:11:02.762519Z"
    },
    "collapsed": false,
    "executionCancelledAt": null,
    "executionTime": 13,
    "lastExecutedAt": 1706457296958,
    "lastScheduledRunId": null,
    "lastSuccessfullyExecutedCode": "import pandas as pd\nimport numpy as np\nimport pycountry\nimport os, sys\nparent_dir = os.path.abspath('../../')\nif parent_dir not in sys.path:\n    sys.path.append(parent_dir)"
   },
   "outputs": [],
   "source": [
    "import pandas as pd\n",
    "import numpy as np\n",
    "import pycountry\n",
    "import os, sys\n",
    "parent_dir = os.path.abspath('../../')\n",
    "if parent_dir not in sys.path:\n",
    "    sys.path.append(parent_dir)"
   ]
  },
  {
   "cell_type": "code",
   "execution_count": 40,
   "id": "6f672c5204bbc20c",
   "metadata": {
    "ExecuteTime": {
     "end_time": "2024-02-01T14:11:02.926438Z",
     "start_time": "2024-02-01T14:11:02.899633Z"
    },
    "collapsed": false,
    "executionCancelledAt": null,
    "executionTime": 50,
    "lastExecutedAt": 1706457297008,
    "lastScheduledRunId": null,
    "lastSuccessfullyExecutedCode": "time_periods = [2008, 2012, 2016, 2020]"
   },
   "outputs": [],
   "source": [
    "time_periods = [2008, 2012, 2016, 2020]"
   ]
  },
  {
   "cell_type": "markdown",
   "id": "1688703803284baf",
   "metadata": {
    "collapsed": false
   },
   "source": [
    "## Load and prepare the data"
   ]
  },
  {
   "cell_type": "markdown",
   "id": "8ab50d00",
   "metadata": {},
   "source": [
    "Population data for creating per capita datasets"
   ]
  },
  {
   "cell_type": "code",
   "execution_count": 41,
   "id": "03a14942",
   "metadata": {},
   "outputs": [],
   "source": [
    "def convert_iso3_to_iso2(iso3_code):\n",
    "    country = pycountry.countries.get(alpha_3=iso3_code)\n",
    "    return country.alpha_2 if country else None\n",
    "\n",
    "def convert_name_to_iso2(country_name):\n",
    "    if country_name == 'Türkiye' or country_name == 'Turkiye':\n",
    "        return \"TR\"\n",
    "    country = pycountry.countries.get(name=country_name)\n",
    "    return country.alpha_2 if country else None"
   ]
  },
  {
   "cell_type": "code",
   "execution_count": 42,
   "id": "a5348d38",
   "metadata": {},
   "outputs": [],
   "source": [
    "population_100k = pd.read_csv('../../data/demographic/population_100k.csv')\n",
    "population_100k_with_codes = population_100k.copy()\n",
    "population_100k_with_codes = population_100k_with_codes[population_100k_with_codes['Country.Code'].notna()]\n",
    "population_100k_with_codes['geo'] = population_100k_with_codes['Country.Code'].apply(convert_iso3_to_iso2)\n",
    "population_100k_with_codes.rename(columns={'Year': 'TIME_PERIOD'}, inplace=True)"
   ]
  },
  {
   "cell_type": "code",
   "execution_count": 43,
   "id": "7501cc17",
   "metadata": {},
   "outputs": [
    {
     "data": {
      "text/html": [
       "<div>\n",
       "<style scoped>\n",
       "    .dataframe tbody tr th:only-of-type {\n",
       "        vertical-align: middle;\n",
       "    }\n",
       "\n",
       "    .dataframe tbody tr th {\n",
       "        vertical-align: top;\n",
       "    }\n",
       "\n",
       "    .dataframe thead th {\n",
       "        text-align: right;\n",
       "    }\n",
       "</style>\n",
       "<table border=\"1\" class=\"dataframe\">\n",
       "  <thead>\n",
       "    <tr style=\"text-align: right;\">\n",
       "      <th></th>\n",
       "      <th>Unnamed: 0</th>\n",
       "      <th>Country.Code</th>\n",
       "      <th>Country.Name</th>\n",
       "      <th>population</th>\n",
       "      <th>TIME_PERIOD</th>\n",
       "      <th>pop100k</th>\n",
       "      <th>geo</th>\n",
       "    </tr>\n",
       "  </thead>\n",
       "  <tbody>\n",
       "    <tr>\n",
       "      <th>1728</th>\n",
       "      <td>1728</td>\n",
       "      <td>BDI</td>\n",
       "      <td>Burundi</td>\n",
       "      <td>2229322.0</td>\n",
       "      <td>1950</td>\n",
       "      <td>22.29322</td>\n",
       "      <td>BI</td>\n",
       "    </tr>\n",
       "    <tr>\n",
       "      <th>1729</th>\n",
       "      <td>1729</td>\n",
       "      <td>BDI</td>\n",
       "      <td>Burundi</td>\n",
       "      <td>2278903.0</td>\n",
       "      <td>1951</td>\n",
       "      <td>22.78903</td>\n",
       "      <td>BI</td>\n",
       "    </tr>\n",
       "    <tr>\n",
       "      <th>1730</th>\n",
       "      <td>1730</td>\n",
       "      <td>BDI</td>\n",
       "      <td>Burundi</td>\n",
       "      <td>2327593.0</td>\n",
       "      <td>1952</td>\n",
       "      <td>23.27593</td>\n",
       "      <td>BI</td>\n",
       "    </tr>\n",
       "    <tr>\n",
       "      <th>1731</th>\n",
       "      <td>1731</td>\n",
       "      <td>BDI</td>\n",
       "      <td>Burundi</td>\n",
       "      <td>2375478.0</td>\n",
       "      <td>1953</td>\n",
       "      <td>23.75478</td>\n",
       "      <td>BI</td>\n",
       "    </tr>\n",
       "    <tr>\n",
       "      <th>1732</th>\n",
       "      <td>1732</td>\n",
       "      <td>BDI</td>\n",
       "      <td>Burundi</td>\n",
       "      <td>2422721.0</td>\n",
       "      <td>1954</td>\n",
       "      <td>24.22721</td>\n",
       "      <td>BI</td>\n",
       "    </tr>\n",
       "    <tr>\n",
       "      <th>...</th>\n",
       "      <td>...</td>\n",
       "      <td>...</td>\n",
       "      <td>...</td>\n",
       "      <td>...</td>\n",
       "      <td>...</td>\n",
       "      <td>...</td>\n",
       "      <td>...</td>\n",
       "    </tr>\n",
       "    <tr>\n",
       "      <th>20587</th>\n",
       "      <td>20587</td>\n",
       "      <td>WLF</td>\n",
       "      <td>Wallis and Futuna Islands</td>\n",
       "      <td>12002.0</td>\n",
       "      <td>2017</td>\n",
       "      <td>0.12002</td>\n",
       "      <td>WF</td>\n",
       "    </tr>\n",
       "    <tr>\n",
       "      <th>20588</th>\n",
       "      <td>20588</td>\n",
       "      <td>WLF</td>\n",
       "      <td>Wallis and Futuna Islands</td>\n",
       "      <td>11870.0</td>\n",
       "      <td>2018</td>\n",
       "      <td>0.11870</td>\n",
       "      <td>WF</td>\n",
       "    </tr>\n",
       "    <tr>\n",
       "      <th>20589</th>\n",
       "      <td>20589</td>\n",
       "      <td>WLF</td>\n",
       "      <td>Wallis and Futuna Islands</td>\n",
       "      <td>11761.0</td>\n",
       "      <td>2019</td>\n",
       "      <td>0.11761</td>\n",
       "      <td>WF</td>\n",
       "    </tr>\n",
       "    <tr>\n",
       "      <th>20590</th>\n",
       "      <td>20590</td>\n",
       "      <td>WLF</td>\n",
       "      <td>Wallis and Futuna Islands</td>\n",
       "      <td>11667.0</td>\n",
       "      <td>2020</td>\n",
       "      <td>0.11667</td>\n",
       "      <td>WF</td>\n",
       "    </tr>\n",
       "    <tr>\n",
       "      <th>20591</th>\n",
       "      <td>20591</td>\n",
       "      <td>WLF</td>\n",
       "      <td>Wallis and Futuna Islands</td>\n",
       "      <td>11642.0</td>\n",
       "      <td>2021</td>\n",
       "      <td>0.11642</td>\n",
       "      <td>WF</td>\n",
       "    </tr>\n",
       "  </tbody>\n",
       "</table>\n",
       "<p>17064 rows × 7 columns</p>\n",
       "</div>"
      ],
      "text/plain": [
       "       Unnamed: 0 Country.Code               Country.Name  population  \\\n",
       "1728         1728          BDI                    Burundi   2229322.0   \n",
       "1729         1729          BDI                    Burundi   2278903.0   \n",
       "1730         1730          BDI                    Burundi   2327593.0   \n",
       "1731         1731          BDI                    Burundi   2375478.0   \n",
       "1732         1732          BDI                    Burundi   2422721.0   \n",
       "...           ...          ...                        ...         ...   \n",
       "20587       20587          WLF  Wallis and Futuna Islands     12002.0   \n",
       "20588       20588          WLF  Wallis and Futuna Islands     11870.0   \n",
       "20589       20589          WLF  Wallis and Futuna Islands     11761.0   \n",
       "20590       20590          WLF  Wallis and Futuna Islands     11667.0   \n",
       "20591       20591          WLF  Wallis and Futuna Islands     11642.0   \n",
       "\n",
       "       TIME_PERIOD   pop100k geo  \n",
       "1728          1950  22.29322  BI  \n",
       "1729          1951  22.78903  BI  \n",
       "1730          1952  23.27593  BI  \n",
       "1731          1953  23.75478  BI  \n",
       "1732          1954  24.22721  BI  \n",
       "...            ...       ...  ..  \n",
       "20587         2017   0.12002  WF  \n",
       "20588         2018   0.11870  WF  \n",
       "20589         2019   0.11761  WF  \n",
       "20590         2020   0.11667  WF  \n",
       "20591         2021   0.11642  WF  \n",
       "\n",
       "[17064 rows x 7 columns]"
      ]
     },
     "execution_count": 43,
     "metadata": {},
     "output_type": "execute_result"
    }
   ],
   "source": [
    "population_100k_with_codes"
   ]
  },
  {
   "cell_type": "markdown",
   "id": "b1d6b1afc4b05386",
   "metadata": {
    "collapsed": false
   },
   "source": [
    "Custom spreadsheet based on the [Activity classification](https://foundationaleconomy.com/activity-classification/) from the Foundational Economy Collective. In industry groups with different foundational types, we use the foundational type with the highest percentage, or if the shares are equal we pick the first \"most important\" in order of Material - Providential - Overlooked - Other."
   ]
  },
  {
   "cell_type": "code",
   "execution_count": 44,
   "id": "ffe8f20ad90e355c",
   "metadata": {
    "ExecuteTime": {
     "end_time": "2024-02-01T14:11:02.988646Z",
     "start_time": "2024-02-01T14:11:02.940312Z"
    },
    "collapsed": false,
    "executionCancelledAt": null,
    "executionTime": 47,
    "lastExecutedAt": 1706457297056,
    "lastScheduledRunId": null,
    "lastSuccessfullyExecutedCode": "foundational_percentages = pd.read_csv('../../data/labor/foundational_percentages.csv')"
   },
   "outputs": [],
   "source": [
    "foundational_percentages = pd.read_csv('../../data/labor/foundational_percentages.csv')"
   ]
  },
  {
   "cell_type": "markdown",
   "id": "f0568f638dd842dd",
   "metadata": {
    "collapsed": false
   },
   "source": [
    "Energy use data from IEA (World Indicators), Total Final Consumption per capita, tonnes oil eq"
   ]
  },
  {
   "cell_type": "code",
   "execution_count": 45,
   "id": "7a51c18c68c4b7f",
   "metadata": {
    "ExecuteTime": {
     "end_time": "2024-02-01T14:11:04.407836Z",
     "start_time": "2024-02-01T14:11:02.972425Z"
    },
    "collapsed": false,
    "executionCancelledAt": null,
    "executionTime": 937,
    "lastExecutedAt": 1706457297993,
    "lastScheduledRunId": null,
    "lastSuccessfullyExecutedCode": "energy_use_iea_csv = pd.read_csv('../../data/biophysical/iea_indicators.csv')\nenergy_use_iea_tfcpop = energy_use_iea_csv[energy_use_iea_csv['FLOW'] == 'TFCPOP'].copy()"
   },
   "outputs": [],
   "source": [
    "energy_use_iea_csv = pd.read_csv('../../data/biophysical/iea_indicators.csv')\n",
    "energy_use_iea_tfcpop = energy_use_iea_csv[energy_use_iea_csv['FLOW'] == 'TFCPOP'].copy()"
   ]
  },
  {
   "cell_type": "markdown",
   "id": "b47f98a2",
   "metadata": {},
   "source": [
    "Energy use data from EXIOBASE 3, primary, consumption-based (Energy Inputs from Nature: Total), TJ"
   ]
  },
  {
   "cell_type": "code",
   "execution_count": 46,
   "id": "bed19872",
   "metadata": {},
   "outputs": [],
   "source": [
    "energy_use_exiobase = pd.read_csv('../../data/biophysical/exiobase_energy.csv')\n",
    "energy_use_exiobase_with_pop100k = energy_use_exiobase.merge(population_100k_with_codes, on=['geo', 'TIME_PERIOD'], how='left')\n",
    "energy_use_exiobase_with_pop100k.drop(columns=['Unnamed: 0', 'Country.Code', 'Country.Name', 'population'], inplace=True)\n",
    "energy_use_exiobase_per_pop100k = energy_use_exiobase_with_pop100k.copy()\n",
    "energy_use_exiobase_per_pop100k['energy_pop100k'] = energy_use_exiobase_per_pop100k['energy'] / energy_use_exiobase_per_pop100k['pop100k']"
   ]
  },
  {
   "cell_type": "markdown",
   "id": "de29b87b9007a261",
   "metadata": {
    "collapsed": false
   },
   "source": [
    "IEA energy use dataset only has ISO3 country codes, so convert to ISO2 using the `pycountry` library to match the other datasets."
   ]
  },
  {
   "cell_type": "code",
   "execution_count": 47,
   "id": "85959bf1f9ea042b",
   "metadata": {
    "ExecuteTime": {
     "end_time": "2024-02-01T14:11:04.468299Z",
     "start_time": "2024-02-01T14:11:04.410785Z"
    },
    "collapsed": false,
    "executionCancelledAt": null,
    "executionTime": 50,
    "lastExecutedAt": 1706457298044,
    "lastScheduledRunId": null,
    "lastSuccessfullyExecutedCode": "def convert_iso3_to_iso2(iso3_code):\n    country = pycountry.countries.get(alpha_3=iso3_code)\n    return country.alpha_2 if country else None\n\nenergy_use_iea_tfcpop['geo'] = energy_use_iea_tfcpop['COUNTRY'].apply(convert_iso3_to_iso2)\nenergy_use_iea_tfcpop.rename(columns={'TIME': 'TIME_PERIOD', 'Value': 'energy'}, inplace=True)\nenergy_use_iea = energy_use_iea_tfcpop[['geo', 'energy', 'TIME_PERIOD']]\nenergy_use_iea = energy_use_iea[energy_use_iea['geo'].notna()]"
   },
   "outputs": [],
   "source": [
    "energy_use_iea_tfcpop['geo'] = energy_use_iea_tfcpop['COUNTRY'].apply(convert_iso3_to_iso2)\n",
    "energy_use_iea_tfcpop.rename(columns={'TIME': 'TIME_PERIOD', 'Value': 'energy'}, inplace=True)\n",
    "energy_use_iea = energy_use_iea_tfcpop[['geo', 'energy', 'TIME_PERIOD']]\n",
    "energy_use_iea = energy_use_iea[energy_use_iea['geo'].notna()]"
   ]
  },
  {
   "cell_type": "markdown",
   "id": "ac7c6507b07d0ad9",
   "metadata": {
    "collapsed": false
   },
   "source": [
    "Employment and hours worked data from the [EU labour costs survey](https://ec.europa.eu/eurostat/databrowser/view/lc_rnum1_r2/default/table?lang=en), collected every 4 years"
   ]
  },
  {
   "cell_type": "code",
   "execution_count": 48,
   "id": "9bcbc60d135f809",
   "metadata": {
    "ExecuteTime": {
     "end_time": "2024-02-01T14:11:06.873292Z",
     "start_time": "2024-02-01T14:11:04.439065Z"
    },
    "collapsed": false,
    "executionCancelledAt": null,
    "executionTime": 1587,
    "lastExecutedAt": 1706457299631,
    "lastScheduledRunId": null,
    "lastSuccessfullyExecutedCode": "labour_cost_survey_data = pd.read_csv('../../data/labor/lc_nnum1_r2_linear.csv')"
   },
   "outputs": [],
   "source": [
    "labour_cost_survey_data = pd.read_csv('../../data/labor/lc_nnum1_r2_linear.csv')"
   ]
  },
  {
   "cell_type": "markdown",
   "id": "c682904a4c71e1c8",
   "metadata": {
    "collapsed": false
   },
   "source": [
    "Employment and hours worked data from [National accounts](https://ec.europa.eu/eurostat/databrowser/view/nama_10_a64_e/default/table?lang=en), collected annually. Run the same regressions with this and the previous variable to see which one is best suited for the quantitative analysis."
   ]
  },
  {
   "cell_type": "code",
   "execution_count": 49,
   "id": "4ce214b7a50946f3",
   "metadata": {
    "ExecuteTime": {
     "end_time": "2024-02-01T14:11:08.202381Z",
     "start_time": "2024-02-01T14:11:06.874753Z"
    },
    "collapsed": false,
    "executionCancelledAt": null,
    "executionTime": 1050,
    "lastExecutedAt": 1706457300683,
    "lastScheduledRunId": null,
    "lastSuccessfullyExecutedCode": "labour_accounts_data = pd.read_csv('../../data/labor/nama_10_a64_e_linear.csv')"
   },
   "outputs": [],
   "source": [
    "labour_accounts_data = pd.read_csv('../../data/labor/nama_10_a64_e_linear.csv')"
   ]
  },
  {
   "cell_type": "markdown",
   "id": "68d823f3e3fd141",
   "metadata": {
    "collapsed": false
   },
   "source": [
    "Need satisfaction variables from World Development Indicators (School enrollment) and World Happiness Report (Life expectancy, Life satisfaction, etc.)"
   ]
  },
  {
   "cell_type": "code",
   "execution_count": 50,
   "id": "fd5437ad96c06735",
   "metadata": {
    "ExecuteTime": {
     "end_time": "2024-02-01T14:11:08.268876Z",
     "start_time": "2024-02-01T14:11:08.201836Z"
    },
    "collapsed": false,
    "executionCancelledAt": null,
    "executionTime": 48,
    "lastExecutedAt": 1706457300732,
    "lastScheduledRunId": null,
    "lastSuccessfullyExecutedCode": "whr = pd.read_csv('../../data/need_satisfaction/whr.csv')\nschool_enrollment = pd.read_csv('../../data/need_satisfaction/wdi_schoolenr.csv')\nlifeexpectancy = pd.read_csv('../../data/need_satisfaction/wdi_lifeexpectancy.csv')"
   },
   "outputs": [],
   "source": [
    "whr = pd.read_csv('../../data/need_satisfaction/whr.csv')\n",
    "school_enrollment = pd.read_csv('../../data/need_satisfaction/wdi_schoolenr.csv')\n",
    "undp_composite = pd.read_csv('../../data/need_satisfaction/undp_composite.csv')\n",
    "lifeexpectancy = pd.read_csv('../../data/need_satisfaction/wdi_lifeexpectancy.csv')"
   ]
  },
  {
   "cell_type": "code",
   "execution_count": 51,
   "id": "3cbdbade35615ddd",
   "metadata": {
    "ExecuteTime": {
     "end_time": "2024-02-01T14:11:08.298737Z",
     "start_time": "2024-02-01T14:11:08.273749Z"
    },
    "collapsed": false,
    "executionCancelledAt": null,
    "executionTime": 63,
    "lastExecutedAt": 1706457300796,
    "lastScheduledRunId": null,
    "lastSuccessfullyExecutedCode": "def convert_name_to_iso2(country_name):\n    if country_name == 'Türkiye' or country_name == 'Turkiye':\n        return \"TR\"\n    country = pycountry.countries.get(name=country_name)\n    return country.alpha_2 if country else None\nwhr_with_codes = whr.copy()\nwhr_with_codes['geo'] = whr['Country name'].apply(convert_name_to_iso2)\nwhr_with_codes = whr_with_codes[whr_with_codes['geo'].notna()]\nwhr_with_codes.rename(columns={'year': 'TIME_PERIOD', 'Life Ladder': 'ladder', 'Social support': 'socialsupport', 'Healthy life expectancy at birth': 'hale', 'Freedom to make life choices': 'freedom', 'Generosity': 'charity', 'Perceptions of corruption': 'corruption', 'Positive affect': 'positive', 'Negative affect': 'negative'}, inplace=True)\nwhr_with_codes.drop(columns=['Country name', 'Log GDP per capita'], inplace=True)"
   },
   "outputs": [],
   "source": [
    "whr_with_codes = whr.copy()\n",
    "whr_with_codes['geo'] = whr['Country name'].apply(convert_name_to_iso2)\n",
    "whr_with_codes = whr_with_codes[whr_with_codes['geo'].notna()]\n",
    "whr_with_codes.rename(columns={'year': 'TIME_PERIOD', 'Life Ladder': 'ladder', 'Social support': 'socialsupport', 'Healthy life expectancy at birth': 'hale', 'Freedom to make life choices': 'freedom', 'Generosity': 'charity', 'Perceptions of corruption': 'corruption', 'Positive affect': 'positive', 'Negative affect': 'negative'}, inplace=True)\n",
    "whr_with_codes.drop(columns=['Country name', 'Log GDP per capita'], inplace=True)"
   ]
  },
  {
   "cell_type": "code",
   "execution_count": 52,
   "id": "3acb87afee7bfd87",
   "metadata": {
    "ExecuteTime": {
     "end_time": "2024-02-01T14:11:08.322761Z",
     "start_time": "2024-02-01T14:11:08.284442Z"
    },
    "collapsed": false
   },
   "outputs": [],
   "source": [
    "undp_education = undp_composite.copy()\n",
    "undp_education['geo'] = undp_education['ISO3'].apply(convert_iso3_to_iso2)\n",
    "undp_education = undp_education[undp_education['geo'].notna()]\n",
    "undp_education.rename(columns={'Year': 'TIME_PERIOD', 'Expected Years of Schooling': 'education'}, inplace=True)\n",
    "undp_education = undp_education[undp_education['Gender'] == 'Total']\n",
    "undp_education.drop(columns=['ISO3', 'Country', 'Region', 'Gender', 'Human Development Index', 'Life Expectancy at Birth', 'Mean Years of Schooling', 'Gross National Income Per Capita'], inplace=True)"
   ]
  },
  {
   "cell_type": "code",
   "execution_count": 53,
   "id": "6864b317923814b7",
   "metadata": {
    "ExecuteTime": {
     "end_time": "2024-02-01T14:11:08.413773Z",
     "start_time": "2024-02-01T14:11:08.336827Z"
    },
    "collapsed": false,
    "executionCancelledAt": null,
    "executionTime": 117,
    "lastExecutedAt": 1706457300914,
    "lastScheduledRunId": null,
    "lastSuccessfullyExecutedCode": "from functions.create_panel_dataset import clean_and_transform_wdi_outcomes\nschool_enrollment_cleaned = clean_and_transform_wdi_outcomes(school_enrollment, 'schoolenr')\nlifeexpectancy_cleaned = clean_and_transform_wdi_outcomes(lifeexpectancy, 'lifeexpectancy')\nwdi_need_satisfaction = school_enrollment_cleaned.merge(lifeexpectancy_cleaned, on=['Year', 'Country.Code', 'Country.Name'], how='left')\nwdi_need_satisfaction['geo'] = wdi_need_satisfaction['Country.Code'].apply(convert_iso3_to_iso2)\nwdi_need_satisfaction = wdi_need_satisfaction[wdi_need_satisfaction['geo'].notna()]\nwdi_need_satisfaction.rename(columns={'Year': 'TIME_PERIOD', 'lifeexpectancy': 'wdi_hale', 'schoolenr': 'education'}, inplace=True)\nneed_satisfaction = whr_with_codes.merge(wdi_need_satisfaction, on=['geo', 'TIME_PERIOD'], how='left')\nneed_satisfaction.drop(columns=['Country.Code', 'Country.Name'], inplace=True)"
   },
   "outputs": [],
   "source": [
    "from functions.create_panel_dataset import clean_and_transform_wdi_outcomes\n",
    "school_enrollment_cleaned = clean_and_transform_wdi_outcomes(school_enrollment, 'schoolenr')\n",
    "lifeexpectancy_cleaned = clean_and_transform_wdi_outcomes(lifeexpectancy, 'lifeexpectancy')\n",
    "wdi_need_satisfaction = school_enrollment_cleaned.merge(lifeexpectancy_cleaned, on=['Year', 'Country.Code', 'Country.Name'], how='left')\n",
    "wdi_need_satisfaction['geo'] = wdi_need_satisfaction['Country.Code'].apply(convert_iso3_to_iso2)\n",
    "wdi_need_satisfaction = wdi_need_satisfaction[wdi_need_satisfaction['geo'].notna()]\n",
    "wdi_need_satisfaction.rename(columns={'Year': 'TIME_PERIOD', 'lifeexpectancy': 'wdi_hale'}, inplace=True)\n",
    "need_satisfaction = whr_with_codes.merge(wdi_need_satisfaction, on=['geo', 'TIME_PERIOD'], how='left')\n",
    "need_satisfaction = need_satisfaction.merge(undp_education, on=['geo', 'TIME_PERIOD'], how='left')\n",
    "need_satisfaction.drop(columns=['Country.Code', 'Country.Name'], inplace=True)"
   ]
  },
  {
   "cell_type": "markdown",
   "id": "22692b60293fd7a9",
   "metadata": {
    "collapsed": false
   },
   "source": [
    "Finally, get the provisioning factors that were found significant in the original JV analysis."
   ]
  },
  {
   "cell_type": "code",
   "execution_count": 54,
   "id": "d062fbbe6964bca",
   "metadata": {
    "ExecuteTime": {
     "end_time": "2024-02-01T14:11:08.467855Z",
     "start_time": "2024-02-01T14:11:08.415614Z"
    },
    "collapsed": false,
    "executionCancelledAt": null,
    "executionTime": 94,
    "lastExecutedAt": 1706457301009,
    "lastScheduledRunId": null,
    "lastSuccessfullyExecutedCode": "from functions.create_panel_dataset import clean_and_transform_wdi\ngoveffectiveness = pd.read_csv('../../data/wdi_goveffectiveness.csv')\ngini = pd.read_csv('../../data/wdi_gini.csv')\ngoveffectiveness_cleaned = clean_and_transform_wdi(goveffectiveness, 'goveffectiveness')\ngini_cleaned = clean_and_transform_wdi(gini, 'gini')\nwdi_provisioning_factors = goveffectiveness_cleaned.merge(gini_cleaned, on=['Year', 'Country.Code', 'Country.Name'], how='left')\nwdi_provisioning_factors['geo'] = wdi_provisioning_factors['Country.Code'].apply(convert_iso3_to_iso2)\nwdi_provisioning_factors = wdi_provisioning_factors[wdi_provisioning_factors['geo'].notna()]\nwdi_provisioning_factors.rename(columns={'Year': 'TIME_PERIOD'}, inplace=True)\nwdi_provisioning_factors.drop(columns=['Country.Code', 'Country.Name'], inplace=True)"
   },
   "outputs": [],
   "source": [
    "from functions.create_panel_dataset import clean_and_transform_wdi\n",
    "goveffectiveness = pd.read_csv('../../data/wdi_goveffectiveness.csv')\n",
    "gini = pd.read_csv('../../data/wdi_gini.csv')\n",
    "goveffectiveness_cleaned = clean_and_transform_wdi(goveffectiveness, 'goveffectiveness')\n",
    "gini_cleaned = clean_and_transform_wdi(gini, 'gini')\n",
    "wdi_provisioning_factors = goveffectiveness_cleaned.merge(gini_cleaned, on=['Year', 'Country.Code', 'Country.Name'], how='left')\n",
    "wdi_provisioning_factors['geo'] = wdi_provisioning_factors['Country.Code'].apply(convert_iso3_to_iso2)\n",
    "wdi_provisioning_factors = wdi_provisioning_factors[wdi_provisioning_factors['geo'].notna()]\n",
    "wdi_provisioning_factors.rename(columns={'Year': 'TIME_PERIOD'}, inplace=True)\n",
    "wdi_provisioning_factors.drop(columns=['Country.Code', 'Country.Name'], inplace=True)"
   ]
  },
  {
   "cell_type": "markdown",
   "id": "eded59fbb3e1f9f1",
   "metadata": {
    "collapsed": false
   },
   "source": [
    "Count the number of unique countries that are available in both datasets."
   ]
  },
  {
   "cell_type": "code",
   "execution_count": 55,
   "id": "687a4805d3374450",
   "metadata": {
    "ExecuteTime": {
     "end_time": "2024-02-01T14:11:08.608181Z",
     "start_time": "2024-02-01T14:11:08.502226Z"
    },
    "collapsed": false,
    "executionCancelledAt": null,
    "executionTime": 126,
    "lastExecutedAt": 1706457301137,
    "lastScheduledRunId": null,
    "lastSuccessfullyExecutedCode": "labour_cost_survey_geo = labour_cost_survey_data.geo.unique()\nenergy_geo = energy_use_iea.geo.unique()\nenergy_lc_sv_shared_geo = np.intersect1d(labour_cost_survey_geo, energy_geo)\nenergy_lc_sv_shared_geo = np.delete(energy_lc_sv_shared_geo, np.where(energy_lc_sv_shared_geo == 'EU27_2020'))\nprint(f'The labour cost survey + energy intersection has {len(energy_lc_sv_shared_geo)} unique countries')\nlabour_accounts_geo = labour_accounts_data.geo.unique()\nenergy_lc_ac_shared_geo = np.intersect1d(labour_accounts_geo, energy_geo)\nenergy_lc_ac_shared_geo = np.delete(energy_lc_ac_shared_geo, np.where(energy_lc_ac_shared_geo == 'EU27_2020'))\nprint(f'The labour accounts + energy intersection has {len(energy_lc_ac_shared_geo)} unique countries')\nprint(\n    f'Countries that are in the labour cost survey variant but not in labour accounts are: {np.setdiff1d(energy_lc_sv_shared_geo, energy_lc_ac_shared_geo)}')",
    "outputsMetadata": {
     "0": {
      "height": 77,
      "type": "stream"
     }
    }
   },
   "outputs": [
    {
     "name": "stdout",
     "output_type": "stream",
     "text": [
      "The labour cost survey + energy intersection has 35 unique countries\n",
      "The labour accounts + energy intersection has 32 unique countries\n",
      "Countries that are in the labour cost survey variant but not in labour accounts are: ['AL' 'BA' 'TR']\n"
     ]
    }
   ],
   "source": [
    "labour_cost_survey_geo = labour_cost_survey_data.geo.unique()\n",
    "energy_geo = energy_use_iea.geo.unique()\n",
    "energy_lc_sv_shared_geo = np.intersect1d(labour_cost_survey_geo, energy_geo)\n",
    "energy_lc_sv_shared_geo = np.delete(energy_lc_sv_shared_geo, np.where(energy_lc_sv_shared_geo == 'EU27_2020'))\n",
    "print(f'The labour cost survey + energy intersection has {len(energy_lc_sv_shared_geo)} unique countries')\n",
    "labour_accounts_geo = labour_accounts_data.geo.unique()\n",
    "energy_lc_ac_shared_geo = np.intersect1d(labour_accounts_geo, energy_geo)\n",
    "energy_lc_ac_shared_geo = np.delete(energy_lc_ac_shared_geo, np.where(energy_lc_ac_shared_geo == 'EU27_2020'))\n",
    "print(f'The labour accounts + energy intersection has {len(energy_lc_ac_shared_geo)} unique countries')\n",
    "print(\n",
    "    f'Countries that are in the labour cost survey variant but not in labour accounts are: {np.setdiff1d(energy_lc_sv_shared_geo, energy_lc_ac_shared_geo)}')"
   ]
  },
  {
   "cell_type": "markdown",
   "id": "b60119d9dcefdaf7",
   "metadata": {
    "collapsed": false
   },
   "source": [
    "Add the foundational type (`final_foundational` column) from `foundational_percentages` to the labour data."
   ]
  },
  {
   "cell_type": "code",
   "execution_count": 56,
   "id": "57ccf5af527d5de0",
   "metadata": {
    "ExecuteTime": {
     "end_time": "2024-02-01T14:11:10.392486Z",
     "start_time": "2024-02-01T14:11:08.638916Z"
    },
    "collapsed": false,
    "executionCancelledAt": null,
    "executionTime": 846,
    "lastExecutedAt": 1706457301983,
    "lastScheduledRunId": null,
    "lastSuccessfullyExecutedCode": "foundational_percentages_selected = foundational_percentages[['nace_r2', 'final_foundational']]\nlabour_cost_survey_with_foundational = labour_cost_survey_data.merge(foundational_percentages_selected, on='nace_r2',\n                                                                     how='left')\nlabour_accounts_with_foundational = labour_accounts_data.merge(foundational_percentages_selected, on='nace_r2',\n                                                               how='left')"
   },
   "outputs": [],
   "source": [
    "foundational_percentages_selected = foundational_percentages[['nace_r2', 'final_foundational']]\n",
    "labour_cost_survey_with_foundational = labour_cost_survey_data.merge(foundational_percentages_selected, on='nace_r2',\n",
    "                                                                     how='left')\n",
    "labour_accounts_with_foundational = labour_accounts_data.merge(foundational_percentages_selected, on='nace_r2',\n",
    "                                                               how='left')"
   ]
  },
  {
   "cell_type": "markdown",
   "id": "fb4f773a0f74e3d3",
   "metadata": {
    "collapsed": false
   },
   "source": [
    "Only keep relevant columns. "
   ]
  },
  {
   "cell_type": "code",
   "execution_count": 57,
   "id": "90f12f857581d5ae",
   "metadata": {
    "ExecuteTime": {
     "end_time": "2024-02-01T14:11:11.170023Z",
     "start_time": "2024-02-01T14:11:10.391907Z"
    },
    "collapsed": false,
    "executionCancelledAt": null,
    "executionTime": 633,
    "lastExecutedAt": 1706457302618,
    "lastScheduledRunId": null,
    "lastSuccessfullyExecutedCode": "labour_cost_survey_filtered = labour_cost_survey_with_foundational[\n    ['geo', 'nace_r2', 'final_foundational', 'sizeclas', 'worktime', 'indic_lc', 'TIME_PERIOD', 'OBS_VALUE']]\nlabour_accounts_filtered = labour_accounts_with_foundational[\n    ['geo', 'nace_r2', 'final_foundational', 'na_item', 'TIME_PERIOD', 'OBS_VALUE']]"
   },
   "outputs": [],
   "source": [
    "labour_cost_survey_filtered = labour_cost_survey_with_foundational[\n",
    "    ['geo', 'nace_r2', 'final_foundational', 'sizeclas', 'worktime', 'indic_lc', 'TIME_PERIOD', 'OBS_VALUE']]\n",
    "labour_accounts_filtered = labour_accounts_with_foundational[\n",
    "    ['geo', 'nace_r2', 'final_foundational', 'na_item', 'TIME_PERIOD', 'OBS_VALUE']]"
   ]
  },
  {
   "cell_type": "markdown",
   "id": "4b8b35ad3dea8dde",
   "metadata": {
    "collapsed": false
   },
   "source": [
    "We are currently not interested in the size class of the enterprise in labour cost survey data (maybe in the future), so only keep `GE10` (\"Greater than 10 employees\"). \n",
    "There is a `TOTAL` size class, but the values for this are available for 33 countries as opposed 47 for `GE10`."
   ]
  },
  {
   "cell_type": "code",
   "execution_count": 58,
   "id": "f30dfd765de85078",
   "metadata": {
    "ExecuteTime": {
     "end_time": "2024-02-01T14:11:11.288629Z",
     "start_time": "2024-02-01T14:11:11.222092Z"
    },
    "collapsed": false,
    "executionCancelledAt": null,
    "executionTime": 124,
    "lastExecutedAt": 1706457302744,
    "lastScheduledRunId": null,
    "lastSuccessfullyExecutedCode": "labour_cost_survey_filtered_sizeclas = labour_cost_survey_filtered[labour_cost_survey_filtered.sizeclas == 'GE10']\n# unique_countries_per_sizeclas = labour_cost_survey_with_foundational.groupby('sizeclas')['geo'].nunique()"
   },
   "outputs": [],
   "source": [
    "labour_cost_survey_filtered_sizeclas = labour_cost_survey_filtered[labour_cost_survey_filtered.sizeclas == 'GE10']\n",
    "# unique_countries_per_sizeclas = labour_cost_survey_with_foundational.groupby('sizeclas')['geo'].nunique()"
   ]
  },
  {
   "cell_type": "markdown",
   "id": "cf979f117aea107d",
   "metadata": {
    "collapsed": false
   },
   "source": [
    "Only keep observations (country-years) for which both energy and labour data is available"
   ]
  },
  {
   "cell_type": "code",
   "execution_count": 59,
   "id": "caf64d9af867f4e1",
   "metadata": {
    "ExecuteTime": {
     "end_time": "2024-02-01T14:11:11.526322Z",
     "start_time": "2024-02-01T14:11:11.303252Z"
    },
    "collapsed": false,
    "executionCancelledAt": null,
    "executionTime": 121,
    "lastExecutedAt": 1706457302866,
    "lastScheduledRunId": null,
    "lastSuccessfullyExecutedCode": "labour_cost_survey_selected = labour_cost_survey_filtered_sizeclas[\n    labour_cost_survey_filtered_sizeclas.geo.isin(energy_lc_sv_shared_geo)]\nlabour_accounts_selected = labour_accounts_filtered[labour_accounts_filtered.geo.isin(energy_lc_ac_shared_geo)]"
   },
   "outputs": [],
   "source": [
    "labour_cost_survey_selected = labour_cost_survey_filtered_sizeclas[\n",
    "    labour_cost_survey_filtered_sizeclas.geo.isin(energy_lc_sv_shared_geo)]\n",
    "labour_accounts_selected = labour_accounts_filtered[labour_accounts_filtered.geo.isin(energy_lc_ac_shared_geo)]"
   ]
  },
  {
   "cell_type": "markdown",
   "id": "6d2c0ecae3836fb7",
   "metadata": {
    "collapsed": false
   },
   "source": [
    "Split the labour survey data into two datasets, one for employment and one for hours worked (\"hours paid\", not \"hours actually worked\" as there could be issues with how latter is reported (? confirm with RB and JV).\n",
    "Filter out self-employed from the accounts data."
   ]
  },
  {
   "cell_type": "code",
   "execution_count": 60,
   "id": "c6ee3d336301ab99",
   "metadata": {
    "ExecuteTime": {
     "end_time": "2024-02-01T14:11:11.664040Z",
     "start_time": "2024-02-01T14:11:11.538098Z"
    },
    "collapsed": false,
    "executionCancelledAt": null,
    "executionTime": 106,
    "lastExecutedAt": 1706457302974,
    "lastScheduledRunId": null,
    "lastSuccessfullyExecutedCode": "labour_cost_survey_selected_employment = labour_cost_survey_selected[\n    labour_cost_survey_selected.indic_lc == 'SAL']\nlabour_cost_survey_selected_hours_worked = labour_cost_survey_selected[\n    labour_cost_survey_selected.indic_lc == 'HP_SAL_Y']\nlabour_accounts_selected_employment = labour_accounts_selected[labour_accounts_selected.na_item == 'SAL_DC']"
   },
   "outputs": [],
   "source": [
    "labour_cost_survey_selected_employment = labour_cost_survey_selected[\n",
    "    labour_cost_survey_selected.indic_lc == 'SAL']\n",
    "labour_cost_survey_selected_hours_worked = labour_cost_survey_selected[\n",
    "    labour_cost_survey_selected.indic_lc == 'HP_SAL_Y']\n",
    "labour_accounts_selected_employment = labour_accounts_selected[labour_accounts_selected.na_item == 'SAL_DC']"
   ]
  },
  {
   "cell_type": "markdown",
   "id": "b4c0dbc357be33c0",
   "metadata": {
    "collapsed": false
   },
   "source": [
    "Only look at FTEs (full-time equivalents) in labour cost survey data, not to distinguish between full-time or part-time measures. This only applies to employment data, not hours worked."
   ]
  },
  {
   "cell_type": "code",
   "execution_count": 61,
   "id": "20edd0622e84b4f0",
   "metadata": {
    "ExecuteTime": {
     "end_time": "2024-02-01T14:11:11.685041Z",
     "start_time": "2024-02-01T14:11:11.667377Z"
    },
    "collapsed": false,
    "executionCancelledAt": null,
    "executionTime": 52,
    "lastExecutedAt": 1706457303028,
    "lastScheduledRunId": null,
    "lastSuccessfullyExecutedCode": "labour_cost_survey_selected_employment_fte = labour_cost_survey_selected_employment[\n    labour_cost_survey_selected_employment.worktime == 'TOT_FTE']"
   },
   "outputs": [],
   "source": [
    "labour_cost_survey_selected_employment_fte = labour_cost_survey_selected_employment[\n",
    "    labour_cost_survey_selected_employment.worktime == 'TOT_FTE']"
   ]
  },
  {
   "cell_type": "markdown",
   "id": "df12168e-bf7d-461b-80f3-459d301cf092",
   "metadata": {},
   "source": [
    "Remove rows where final_foundational is nan"
   ]
  },
  {
   "cell_type": "code",
   "execution_count": 62,
   "id": "ec3d5a0e863cdae1",
   "metadata": {
    "ExecuteTime": {
     "end_time": "2024-02-01T14:11:11.715907Z",
     "start_time": "2024-02-01T14:11:11.678911Z"
    },
    "collapsed": false,
    "executionCancelledAt": null,
    "executionTime": 52,
    "lastExecutedAt": 1706457303080,
    "lastScheduledRunId": null,
    "lastSuccessfullyExecutedCode": "labour_cost_survey_selected_employment_fte = labour_cost_survey_selected_employment_fte[\n    labour_cost_survey_selected_employment_fte.final_foundational.notna()]\nlabour_accounts_selected_employment = labour_accounts_selected_employment[\n    labour_accounts_selected_employment.final_foundational.notna()]"
   },
   "outputs": [],
   "source": [
    "labour_cost_survey_selected_employment_fte = labour_cost_survey_selected_employment_fte[\n",
    "    labour_cost_survey_selected_employment_fte.final_foundational.notna()]\n",
    "labour_accounts_selected_employment = labour_accounts_selected_employment[\n",
    "    labour_accounts_selected_employment.final_foundational.notna()]"
   ]
  },
  {
   "cell_type": "markdown",
   "id": "bb0a02f66f76c6f8",
   "metadata": {
    "collapsed": false
   },
   "source": [
    "Calculate labour shares by foundational type for employment and hours."
   ]
  },
  {
   "cell_type": "code",
   "execution_count": 63,
   "id": "4c788f63d87c532",
   "metadata": {
    "ExecuteTime": {
     "end_time": "2024-02-01T14:11:11.717915Z",
     "start_time": "2024-02-01T14:11:11.715364Z"
    },
    "collapsed": false,
    "executionCancelledAt": null,
    "executionTime": 47,
    "lastExecutedAt": 1706457303128,
    "lastScheduledRunId": null,
    "lastSuccessfullyExecutedCode": "import matplotlib.pyplot as plt\nfrom functions.create_panel_dataset import calculate_shares"
   },
   "outputs": [],
   "source": [
    "import matplotlib.pyplot as plt\n",
    "from functions.create_panel_dataset import calculate_shares"
   ]
  },
  {
   "cell_type": "code",
   "execution_count": 64,
   "id": "bae88cb11445dc7b",
   "metadata": {
    "ExecuteTime": {
     "end_time": "2024-02-01T14:11:11.798842Z",
     "start_time": "2024-02-01T14:11:11.724649Z"
    },
    "collapsed": false,
    "executionCancelledAt": null,
    "executionTime": 86,
    "lastExecutedAt": 1706457303215,
    "lastScheduledRunId": null,
    "lastSuccessfullyExecutedCode": "labour_cost_survey_shares_employment_fte = calculate_shares(labour_cost_survey_selected_employment_fte, 'OBS_VALUE')\nlabour_cost_survey_shares_hours_worked = calculate_shares(labour_cost_survey_selected_hours_worked, 'OBS_VALUE')\nlabour_accounts_shares_employment = calculate_shares(labour_accounts_selected_employment, 'OBS_VALUE')"
   },
   "outputs": [],
   "source": [
    "labour_cost_survey_shares_employment_fte = calculate_shares(labour_cost_survey_selected_employment_fte, 'OBS_VALUE')\n",
    "labour_cost_survey_shares_hours_worked = calculate_shares(labour_cost_survey_selected_hours_worked, 'OBS_VALUE')\n",
    "labour_accounts_shares_employment = calculate_shares(labour_accounts_selected_employment, 'OBS_VALUE')"
   ]
  },
  {
   "cell_type": "code",
   "execution_count": 65,
   "id": "3e23b8f111580299",
   "metadata": {
    "ExecuteTime": {
     "end_time": "2024-02-01T14:11:12.153703Z",
     "start_time": "2024-02-01T14:11:11.852324Z"
    },
    "collapsed": false,
    "executionCancelledAt": null,
    "executionTime": 192,
    "lastExecutedAt": 1706457303409,
    "lastScheduledRunId": null,
    "lastSuccessfullyExecutedCode": "plt.hist(labour_cost_survey_shares_employment_fte['TIME_PERIOD'], bins=[y - 2 for y in time_periods] + [2022], edgecolor='black', align='mid', rwidth=0.8)\nplt.xticks(time_periods); plt.xlabel('Year'); plt.ylabel('Countries'); plt.title('Labor shares available per year (LC Survey)')"
   },
   "outputs": [
    {
     "data": {
      "text/plain": [
       "Text(0.5, 1.0, 'Labor shares available per year (LC Survey)')"
      ]
     },
     "execution_count": 65,
     "metadata": {},
     "output_type": "execute_result"
    },
    {
     "data": {
      "image/png": "[encoded data removed]",
      "text/plain": [
       "<Figure size 640x480 with 1 Axes>"
      ]
     },
     "metadata": {},
     "output_type": "display_data"
    }
   ],
   "source": [
    "plt.hist(labour_cost_survey_shares_employment_fte['TIME_PERIOD'], bins=[y - 2 for y in time_periods] + [2022], edgecolor='black', align='mid', rwidth=0.8)\n",
    "plt.xticks(time_periods); plt.xlabel('Year'); plt.ylabel('Countries'); plt.title('Labor shares available per year (LC Survey)')"
   ]
  },
  {
   "cell_type": "code",
   "execution_count": 66,
   "id": "5d5ca28545939cc6",
   "metadata": {
    "ExecuteTime": {
     "end_time": "2024-02-01T14:11:12.245211Z",
     "start_time": "2024-02-01T14:11:12.153088Z"
    },
    "collapsed": false,
    "executionCancelledAt": null,
    "executionTime": 71,
    "lastExecutedAt": 1706457303480,
    "lastScheduledRunId": null,
    "lastSuccessfullyExecutedCode": "energy_use_iea_selected_years = energy_use_iea[energy_use_iea['TIME_PERIOD'].isin(time_periods)]\nenergy_use_iea_selected = energy_use_iea_selected_years[energy_use_iea_selected_years.geo.isin(labour_cost_survey_shares_employment_fte.geo.unique())]\nenergy_use_iea_selected_years_accounts = energy_use_iea[energy_use_iea['TIME_PERIOD'].isin(labour_accounts_shares_employment.TIME_PERIOD.unique())]\nenergy_use_iea_selected_years_accounts[energy_use_iea_selected_years_accounts.geo.isin(labour_accounts_shares_employment.geo.unique())]",
    "outputsMetadata": {
     "0": {
      "height": 323,
      "type": "dataFrame"
     }
    }
   },
   "outputs": [
    {
     "data": {
      "text/html": [
       "<div>\n",
       "<style scoped>\n",
       "    .dataframe tbody tr th:only-of-type {\n",
       "        vertical-align: middle;\n",
       "    }\n",
       "\n",
       "    .dataframe tbody tr th {\n",
       "        vertical-align: top;\n",
       "    }\n",
       "\n",
       "    .dataframe thead th {\n",
       "        text-align: right;\n",
       "    }\n",
       "</style>\n",
       "<table border=\"1\" class=\"dataframe\">\n",
       "  <thead>\n",
       "    <tr style=\"text-align: right;\">\n",
       "      <th></th>\n",
       "      <th>TIME_PERIOD</th>\n",
       "      <th>geo</th>\n",
       "      <th>energy</th>\n",
       "      <th>pop100k</th>\n",
       "      <th>energy_pop100k</th>\n",
       "    </tr>\n",
       "  </thead>\n",
       "  <tbody>\n",
       "    <tr>\n",
       "      <th>0</th>\n",
       "      <td>1995</td>\n",
       "      <td>AT</td>\n",
       "      <td>1220000.0</td>\n",
       "      <td>79.42527</td>\n",
       "      <td>15360.350679</td>\n",
       "    </tr>\n",
       "    <tr>\n",
       "      <th>1</th>\n",
       "      <td>1995</td>\n",
       "      <td>BE</td>\n",
       "      <td>1090000.0</td>\n",
       "      <td>100.82160</td>\n",
       "      <td>10811.175383</td>\n",
       "    </tr>\n",
       "    <tr>\n",
       "      <th>2</th>\n",
       "      <td>1995</td>\n",
       "      <td>BG</td>\n",
       "      <td>255000.0</td>\n",
       "      <td>85.15199</td>\n",
       "      <td>2994.645222</td>\n",
       "    </tr>\n",
       "    <tr>\n",
       "      <th>3</th>\n",
       "      <td>1995</td>\n",
       "      <td>CY</td>\n",
       "      <td>107000.0</td>\n",
       "      <td>8.53538</td>\n",
       "      <td>12536.055805</td>\n",
       "    </tr>\n",
       "    <tr>\n",
       "      <th>4</th>\n",
       "      <td>1995</td>\n",
       "      <td>CZ</td>\n",
       "      <td>1290000.0</td>\n",
       "      <td>103.19338</td>\n",
       "      <td>12500.801893</td>\n",
       "    </tr>\n",
       "    <tr>\n",
       "      <th>...</th>\n",
       "      <td>...</td>\n",
       "      <td>...</td>\n",
       "      <td>...</td>\n",
       "      <td>...</td>\n",
       "      <td>...</td>\n",
       "    </tr>\n",
       "    <tr>\n",
       "      <th>1297</th>\n",
       "      <td>2021</td>\n",
       "      <td>RO</td>\n",
       "      <td>1820000.0</td>\n",
       "      <td>193.94347</td>\n",
       "      <td>9384.177771</td>\n",
       "    </tr>\n",
       "    <tr>\n",
       "      <th>1298</th>\n",
       "      <td>2021</td>\n",
       "      <td>SE</td>\n",
       "      <td>1720000.0</td>\n",
       "      <td>104.16525</td>\n",
       "      <td>16512.224566</td>\n",
       "    </tr>\n",
       "    <tr>\n",
       "      <th>1299</th>\n",
       "      <td>2021</td>\n",
       "      <td>SI</td>\n",
       "      <td>275000.0</td>\n",
       "      <td>21.19030</td>\n",
       "      <td>12977.635994</td>\n",
       "    </tr>\n",
       "    <tr>\n",
       "      <th>1300</th>\n",
       "      <td>2021</td>\n",
       "      <td>SK</td>\n",
       "      <td>1620000.0</td>\n",
       "      <td>54.55809</td>\n",
       "      <td>29693.121588</td>\n",
       "    </tr>\n",
       "    <tr>\n",
       "      <th>1315</th>\n",
       "      <td>2021</td>\n",
       "      <td>NO</td>\n",
       "      <td>1730000.0</td>\n",
       "      <td>53.91723</td>\n",
       "      <td>32086.218079</td>\n",
       "    </tr>\n",
       "  </tbody>\n",
       "</table>\n",
       "<p>729 rows × 5 columns</p>\n",
       "</div>"
      ],
      "text/plain": [
       "      TIME_PERIOD geo     energy    pop100k  energy_pop100k\n",
       "0            1995  AT  1220000.0   79.42527    15360.350679\n",
       "1            1995  BE  1090000.0  100.82160    10811.175383\n",
       "2            1995  BG   255000.0   85.15199     2994.645222\n",
       "3            1995  CY   107000.0    8.53538    12536.055805\n",
       "4            1995  CZ  1290000.0  103.19338    12500.801893\n",
       "...           ...  ..        ...        ...             ...\n",
       "1297         2021  RO  1820000.0  193.94347     9384.177771\n",
       "1298         2021  SE  1720000.0  104.16525    16512.224566\n",
       "1299         2021  SI   275000.0   21.19030    12977.635994\n",
       "1300         2021  SK  1620000.0   54.55809    29693.121588\n",
       "1315         2021  NO  1730000.0   53.91723    32086.218079\n",
       "\n",
       "[729 rows x 5 columns]"
      ]
     },
     "execution_count": 66,
     "metadata": {},
     "output_type": "execute_result"
    }
   ],
   "source": [
    "# subset iea energy data\n",
    "energy_use_iea_selected_years = energy_use_iea[energy_use_iea['TIME_PERIOD'].isin(time_periods)]\n",
    "energy_use_iea_selected = energy_use_iea_selected_years[energy_use_iea_selected_years.geo.isin(labour_cost_survey_shares_employment_fte.geo.unique())]\n",
    "energy_use_iea_selected_years_accounts = energy_use_iea[energy_use_iea['TIME_PERIOD'].isin(labour_accounts_shares_employment.TIME_PERIOD.unique())]\n",
    "energy_use_iea_selected_years_accounts[energy_use_iea_selected_years_accounts.geo.isin(labour_accounts_shares_employment.geo.unique())]\n",
    "# subset exiobase energy data\n",
    "energy_use_exiobase_selected_years = energy_use_exiobase_per_pop100k[energy_use_exiobase_per_pop100k['TIME_PERIOD'].isin(time_periods)]\n",
    "energy_use_exiobase_selected = energy_use_exiobase_selected_years[energy_use_exiobase_selected_years.geo.isin(labour_cost_survey_shares_employment_fte.geo.unique())]\n",
    "energy_use_exiobase_selected_years_accounts = energy_use_exiobase_per_pop100k[energy_use_exiobase_per_pop100k['TIME_PERIOD'].isin(labour_accounts_shares_employment.TIME_PERIOD.unique())]\n",
    "energy_use_exiobase_selected_years_accounts[energy_use_exiobase_selected_years_accounts.geo.isin(labour_accounts_shares_employment.geo.unique())]"
   ]
  },
  {
   "cell_type": "code",
   "execution_count": 79,
   "id": "c71f2ee3863e017c",
   "metadata": {
    "ExecuteTime": {
     "end_time": "2024-02-01T14:11:12.426696Z",
     "start_time": "2024-02-01T14:11:12.190261Z"
    },
    "collapsed": false,
    "executionCancelledAt": null,
    "executionTime": 181,
    "lastExecutedAt": 1706457303662,
    "lastScheduledRunId": null,
    "lastSuccessfullyExecutedCode": "plt.hist(energy_use_iea_selected['TIME_PERIOD'], bins=[y - 2 for y in time_periods], edgecolor='black', align='mid', rwidth=0.8)\nplt.xticks(time_periods); plt.xlabel('Year'); plt.ylabel('Countries'); plt.title('Energy use data available per year')"
   },
   "outputs": [
    {
     "data": {
      "text/plain": [
       "Text(0.5, 1.0, 'Energy use data available per year (Exiobase)')"
      ]
     },
     "execution_count": 79,
     "metadata": {},
     "output_type": "execute_result"
    },
    {
     "data": {
      "image/png": "[encoded data removed]",
      "text/plain": [
       "<Figure size 640x480 with 1 Axes>"
      ]
     },
     "metadata": {},
     "output_type": "display_data"
    }
   ],
   "source": [
    "# plt.hist(energy_use_iea_selected['TIME_PERIOD'], bins=[y - 2 for y in time_periods], edgecolor='black', align='mid', rwidth=0.8)\n",
    "# plt.xticks(time_periods); plt.xlabel('Year'); plt.ylabel('Countries'); plt.title('Energy use data available per year')\n",
    "#exiobase\n",
    "plt.hist(energy_use_exiobase_selected['TIME_PERIOD'], bins=[y - 2 for y in time_periods], edgecolor='black', align='mid', rwidth=0.8)\n",
    "plt.xticks(time_periods); plt.xlabel('Year'); plt.ylabel('Countries'); plt.title('Energy use data available per year (Exiobase)')"
   ]
  },
  {
   "cell_type": "markdown",
   "id": "c62a0957ae338d82",
   "metadata": {
    "collapsed": false
   },
   "source": [
    "Assemble energy use, labor and need satisfaction data into a single dataset."
   ]
  },
  {
   "cell_type": "code",
   "execution_count": 68,
   "id": "37d6fbfe9448e464",
   "metadata": {
    "ExecuteTime": {
     "end_time": "2024-02-01T14:11:12.428093Z",
     "start_time": "2024-02-01T14:11:12.285042Z"
    },
    "collapsed": false,
    "executionCancelledAt": null,
    "executionTime": 54,
    "lastExecutedAt": 1706457303716,
    "lastScheduledRunId": null,
    "lastSuccessfullyExecutedCode": "energy_use_employment = labour_cost_survey_shares_employment_fte.merge(energy_use_iea_selected, on=['geo', 'TIME_PERIOD'], how='left')\nenergy_use_employment_need_satisfaction = energy_use_employment.merge(need_satisfaction, on=['geo', 'TIME_PERIOD'], how='left')\nenergy_use_employment_need_satisfaction_provisioning_factors = energy_use_employment_need_satisfaction.merge(wdi_provisioning_factors, on=['geo', 'TIME_PERIOD'], how='left')"
   },
   "outputs": [],
   "source": [
    "energy_use_employment = labour_cost_survey_shares_employment_fte.merge(energy_use_iea_selected, on=['geo', 'TIME_PERIOD'], how='left')\n",
    "energy_use_employment_need_satisfaction = energy_use_employment.merge(need_satisfaction, on=['geo', 'TIME_PERIOD'], how='left')\n",
    "energy_use_employment_need_satisfaction_provisioning_factors = energy_use_employment_need_satisfaction.merge(wdi_provisioning_factors, on=['geo', 'TIME_PERIOD'], how='left')"
   ]
  },
  {
   "cell_type": "code",
   "execution_count": 69,
   "id": "ce0114aa-300c-4be6-931e-4f57805c7be2",
   "metadata": {
    "ExecuteTime": {
     "end_time": "2024-02-01T14:11:12.533534Z",
     "start_time": "2024-02-01T14:11:12.294005Z"
    },
    "executionCancelledAt": null,
    "executionTime": 51,
    "lastExecutedAt": 1706457303768,
    "lastScheduledRunId": null,
    "lastSuccessfullyExecutedCode": "energy_use_employment_accounts = labour_accounts_shares_employment.merge(energy_use_iea_selected_years_accounts, on=['geo', 'TIME_PERIOD'], how='left')\nenergy_use_employment_need_satisfaction_accounts = energy_use_employment_accounts.merge(need_satisfaction, on=['geo', 'TIME_PERIOD'], how='left')\nenergy_use_employment_need_satisfaction_provisioning_factors_accounts = energy_use_employment_need_satisfaction_accounts.merge(wdi_provisioning_factors, on=['geo', 'TIME_PERIOD'], how='left')"
   },
   "outputs": [],
   "source": [
    "energy_use_employment_accounts = labour_accounts_shares_employment.merge(energy_use_iea_selected_years_accounts, on=['geo', 'TIME_PERIOD'], how='left')\n",
    "energy_use_employment_need_satisfaction_accounts = energy_use_employment_accounts.merge(need_satisfaction, on=['geo', 'TIME_PERIOD'], how='left')\n",
    "energy_use_employment_need_satisfaction_provisioning_factors_accounts = energy_use_employment_need_satisfaction_accounts.merge(wdi_provisioning_factors, on=['geo', 'TIME_PERIOD'], how='left')"
   ]
  },
  {
   "cell_type": "markdown",
   "id": "27df7d91765c2e3c",
   "metadata": {
    "collapsed": false
   },
   "source": [
    "Rename some columns and save the resulting (non-transformed) data as a CSV"
   ]
  },
  {
   "cell_type": "code",
   "execution_count": 70,
   "id": "54a4be537674257",
   "metadata": {
    "ExecuteTime": {
     "end_time": "2024-02-01T14:11:12.534045Z",
     "start_time": "2024-02-01T14:11:12.309798Z"
    },
    "collapsed": false,
    "executionCancelledAt": null,
    "executionTime": 48,
    "lastExecutedAt": 1706457303816,
    "lastScheduledRunId": null,
    "lastSuccessfullyExecutedCode": "foundational_df_no_transformations = energy_use_employment_need_satisfaction_provisioning_factors.rename(columns={'Material': 'material', 'Other': 'other', 'Overlooked': 'overlooked', 'Providential': 'providential'})\nfoundational_df_no_transformations.to_csv('./output/foundational_no_transformations.csv', index=False) "
   },
   "outputs": [],
   "source": [
    "foundational_df_no_transformations = energy_use_employment_need_satisfaction_provisioning_factors.rename(columns={'Material': 'material', 'Other': 'other', 'Overlooked': 'overlooked', 'Providential': 'providential'})\n",
    "foundational_df_no_transformations.to_csv('./output/foundational_no_transformations.csv', index=False) "
   ]
  },
  {
   "cell_type": "code",
   "execution_count": 71,
   "id": "3f28349f-8c33-4f5f-8465-321e3b24f8f2",
   "metadata": {
    "ExecuteTime": {
     "end_time": "2024-02-01T14:11:12.534683Z",
     "start_time": "2024-02-01T14:11:12.326607Z"
    },
    "executionCancelledAt": null,
    "executionTime": 50,
    "lastExecutedAt": 1706457303866,
    "lastScheduledRunId": null,
    "lastSuccessfullyExecutedCode": "foundational_df_no_transformations_accounts = energy_use_employment_need_satisfaction_provisioning_factors_accounts.rename(columns={'Material': 'material', 'Other': 'other', 'Overlooked': 'overlooked', 'Providential': 'providential'})\nfoundational_df_no_transformations_accounts.to_csv('./output/foundational_no_transformations_accounts.csv', index=False) "
   },
   "outputs": [],
   "source": [
    "foundational_df_no_transformations_accounts = energy_use_employment_need_satisfaction_provisioning_factors_accounts.rename(columns={'Material': 'material', 'Other': 'other', 'Overlooked': 'overlooked', 'Providential': 'providential'})\n",
    "foundational_df_no_transformations_accounts.to_csv('./output/foundational_no_transformations_accounts.csv', index=False) "
   ]
  },
  {
   "cell_type": "markdown",
   "id": "2dcd52839573edcd",
   "metadata": {
    "collapsed": false
   },
   "source": [
    "Final (non-transformed) data frame"
   ]
  },
  {
   "cell_type": "code",
   "execution_count": 72,
   "id": "4a5dd2055f69390b",
   "metadata": {
    "ExecuteTime": {
     "end_time": "2024-02-01T14:11:12.627189Z",
     "start_time": "2024-02-01T14:11:12.349658Z"
    },
    "collapsed": false,
    "executionCancelledAt": null,
    "executionTime": 42,
    "lastExecutedAt": 1706457341288,
    "lastScheduledRunId": null,
    "lastSuccessfullyExecutedCode": "foundational_df_no_transformations.head()",
    "outputsMetadata": {
     "0": {
      "height": 198,
      "type": "dataFrame"
     }
    }
   },
   "outputs": [
    {
     "data": {
      "text/html": [
       "<div>\n",
       "<style scoped>\n",
       "    .dataframe tbody tr th:only-of-type {\n",
       "        vertical-align: middle;\n",
       "    }\n",
       "\n",
       "    .dataframe tbody tr th {\n",
       "        vertical-align: top;\n",
       "    }\n",
       "\n",
       "    .dataframe thead th {\n",
       "        text-align: right;\n",
       "    }\n",
       "</style>\n",
       "<table border=\"1\" class=\"dataframe\">\n",
       "  <thead>\n",
       "    <tr style=\"text-align: right;\">\n",
       "      <th></th>\n",
       "      <th>geo</th>\n",
       "      <th>TIME_PERIOD</th>\n",
       "      <th>material</th>\n",
       "      <th>other</th>\n",
       "      <th>overlooked</th>\n",
       "      <th>providential</th>\n",
       "      <th>energy</th>\n",
       "      <th>ladder</th>\n",
       "      <th>socialsupport</th>\n",
       "      <th>hale</th>\n",
       "      <th>freedom</th>\n",
       "      <th>charity</th>\n",
       "      <th>corruption</th>\n",
       "      <th>positive</th>\n",
       "      <th>negative</th>\n",
       "      <th>schoolenr</th>\n",
       "      <th>wdi_hale</th>\n",
       "      <th>education</th>\n",
       "      <th>goveffectiveness</th>\n",
       "      <th>gini</th>\n",
       "    </tr>\n",
       "  </thead>\n",
       "  <tbody>\n",
       "    <tr>\n",
       "      <th>0</th>\n",
       "      <td>AL</td>\n",
       "      <td>2012</td>\n",
       "      <td>0.164312</td>\n",
       "      <td>0.275001</td>\n",
       "      <td>0.136145</td>\n",
       "      <td>0.424542</td>\n",
       "      <td>0.629</td>\n",
       "      <td>5.510</td>\n",
       "      <td>0.785</td>\n",
       "      <td>68.160</td>\n",
       "      <td>0.602</td>\n",
       "      <td>-0.170</td>\n",
       "      <td>0.848</td>\n",
       "      <td>0.553</td>\n",
       "      <td>0.271</td>\n",
       "      <td>99.700272</td>\n",
       "      <td>78.064000</td>\n",
       "      <td>14.58665</td>\n",
       "      <td>-0.267876</td>\n",
       "      <td>29.0</td>\n",
       "    </tr>\n",
       "    <tr>\n",
       "      <th>1</th>\n",
       "      <td>AL</td>\n",
       "      <td>2016</td>\n",
       "      <td>0.134377</td>\n",
       "      <td>0.181879</td>\n",
       "      <td>0.301832</td>\n",
       "      <td>0.381912</td>\n",
       "      <td>0.693</td>\n",
       "      <td>4.511</td>\n",
       "      <td>0.638</td>\n",
       "      <td>69.025</td>\n",
       "      <td>0.730</td>\n",
       "      <td>-0.019</td>\n",
       "      <td>0.901</td>\n",
       "      <td>0.567</td>\n",
       "      <td>0.322</td>\n",
       "      <td>100.219978</td>\n",
       "      <td>78.860000</td>\n",
       "      <td>14.80460</td>\n",
       "      <td>0.059715</td>\n",
       "      <td>33.7</td>\n",
       "    </tr>\n",
       "    <tr>\n",
       "      <th>2</th>\n",
       "      <td>AL</td>\n",
       "      <td>2020</td>\n",
       "      <td>0.080560</td>\n",
       "      <td>0.525501</td>\n",
       "      <td>0.269410</td>\n",
       "      <td>0.124529</td>\n",
       "      <td>0.658</td>\n",
       "      <td>5.365</td>\n",
       "      <td>0.710</td>\n",
       "      <td>69.125</td>\n",
       "      <td>0.754</td>\n",
       "      <td>0.004</td>\n",
       "      <td>0.891</td>\n",
       "      <td>0.563</td>\n",
       "      <td>0.265</td>\n",
       "      <td>96.167473</td>\n",
       "      <td>76.989000</td>\n",
       "      <td>14.44800</td>\n",
       "      <td>-0.124957</td>\n",
       "      <td>29.4</td>\n",
       "    </tr>\n",
       "    <tr>\n",
       "      <th>3</th>\n",
       "      <td>AT</td>\n",
       "      <td>2008</td>\n",
       "      <td>0.158141</td>\n",
       "      <td>0.532883</td>\n",
       "      <td>0.176036</td>\n",
       "      <td>0.132940</td>\n",
       "      <td>3.242</td>\n",
       "      <td>7.181</td>\n",
       "      <td>0.935</td>\n",
       "      <td>69.700</td>\n",
       "      <td>0.879</td>\n",
       "      <td>0.287</td>\n",
       "      <td>0.614</td>\n",
       "      <td>0.716</td>\n",
       "      <td>0.173</td>\n",
       "      <td>100.126129</td>\n",
       "      <td>80.431707</td>\n",
       "      <td>15.77006</td>\n",
       "      <td>1.771053</td>\n",
       "      <td>30.4</td>\n",
       "    </tr>\n",
       "    <tr>\n",
       "      <th>4</th>\n",
       "      <td>AT</td>\n",
       "      <td>2012</td>\n",
       "      <td>0.161036</td>\n",
       "      <td>0.542779</td>\n",
       "      <td>0.180083</td>\n",
       "      <td>0.116101</td>\n",
       "      <td>3.191</td>\n",
       "      <td>7.401</td>\n",
       "      <td>0.945</td>\n",
       "      <td>70.100</td>\n",
       "      <td>0.920</td>\n",
       "      <td>0.114</td>\n",
       "      <td>0.771</td>\n",
       "      <td>0.712</td>\n",
       "      <td>0.157</td>\n",
       "      <td>100.108727</td>\n",
       "      <td>80.936585</td>\n",
       "      <td>16.08506</td>\n",
       "      <td>1.559877</td>\n",
       "      <td>30.5</td>\n",
       "    </tr>\n",
       "  </tbody>\n",
       "</table>\n",
       "</div>"
      ],
      "text/plain": [
       "  geo  TIME_PERIOD  material     other  overlooked  providential  energy  \\\n",
       "0  AL         2012  0.164312  0.275001    0.136145      0.424542   0.629   \n",
       "1  AL         2016  0.134377  0.181879    0.301832      0.381912   0.693   \n",
       "2  AL         2020  0.080560  0.525501    0.269410      0.124529   0.658   \n",
       "3  AT         2008  0.158141  0.532883    0.176036      0.132940   3.242   \n",
       "4  AT         2012  0.161036  0.542779    0.180083      0.116101   3.191   \n",
       "\n",
       "   ladder  socialsupport    hale  freedom  charity  corruption  positive  \\\n",
       "0   5.510          0.785  68.160    0.602   -0.170       0.848     0.553   \n",
       "1   4.511          0.638  69.025    0.730   -0.019       0.901     0.567   \n",
       "2   5.365          0.710  69.125    0.754    0.004       0.891     0.563   \n",
       "3   7.181          0.935  69.700    0.879    0.287       0.614     0.716   \n",
       "4   7.401          0.945  70.100    0.920    0.114       0.771     0.712   \n",
       "\n",
       "   negative   schoolenr   wdi_hale  education  goveffectiveness  gini  \n",
       "0     0.271   99.700272  78.064000   14.58665         -0.267876  29.0  \n",
       "1     0.322  100.219978  78.860000   14.80460          0.059715  33.7  \n",
       "2     0.265   96.167473  76.989000   14.44800         -0.124957  29.4  \n",
       "3     0.173  100.126129  80.431707   15.77006          1.771053  30.4  \n",
       "4     0.157  100.108727  80.936585   16.08506          1.559877  30.5  "
      ]
     },
     "execution_count": 72,
     "metadata": {},
     "output_type": "execute_result"
    }
   ],
   "source": [
    "foundational_df_no_transformations.head()"
   ]
  },
  {
   "cell_type": "markdown",
   "id": "68bc7fd7e0c7dff5",
   "metadata": {
    "collapsed": false
   },
   "source": [
    "### Next step: exploratory analysis! See [exploratory.ipynb](exploratory.ipynb)"
   ]
  }
 ],
 "metadata": {
  "editor": "DataCamp Workspace",
  "kernelspec": {
   "display_name": "Python 3 (ipykernel)",
   "language": "python",
   "name": "python3"
  },
  "language_info": {
   "codemirror_mode": {
    "name": "ipython",
    "version": 3
   },
   "file_extension": ".py",
   "mimetype": "text/x-python",
   "name": "python",
   "nbconvert_exporter": "python",
   "pygments_lexer": "ipython3",
   "version": "3.9.18"
  }
 },
 "nbformat": 4,
 "nbformat_minor": 5
}
