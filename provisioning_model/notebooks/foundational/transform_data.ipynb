{
 "cells": [
  {
   "cell_type": "markdown",
   "source": [
    "## Apply variable transformations"
   ],
   "metadata": {
    "collapsed": false
   },
   "id": "55d48784efd1f9c5"
  },
  {
   "cell_type": "code",
   "outputs": [],
   "source": [
    "import numpy\n",
    "import pandas as pd\n",
    "from provisioning_model.functions.create_panel_dataset import custom_log_transform"
   ],
   "metadata": {
    "collapsed": false,
    "ExecuteTime": {
     "end_time": "2024-01-21T09:38:09.472605Z",
     "start_time": "2024-01-21T09:38:09.465061Z"
    }
   },
   "id": "c9ceffea11192545",
   "execution_count": 2
  },
  {
   "cell_type": "code",
   "outputs": [],
   "source": [
    "foundational_df_no_transformations = pd.read_csv('./output/foundational_no_transformations.csv')"
   ],
   "metadata": {
    "collapsed": false,
    "ExecuteTime": {
     "end_time": "2024-01-21T09:38:17.396666Z",
     "start_time": "2024-01-21T09:38:17.382863Z"
    }
   },
   "id": "1df1115e1d2518fc",
   "execution_count": 4
  },
  {
   "cell_type": "markdown",
   "source": [
    "1. Transform energy use variable to log"
   ],
   "metadata": {
    "collapsed": false
   },
   "id": "d564722054546f47"
  },
  {
   "cell_type": "code",
   "outputs": [],
   "source": [
    "foundational_df_transformed = foundational_df_no_transformations.copy()\n",
    "min_value = foundational_df_no_transformations[\"energy\"].min()\n",
    "max_value = foundational_df_no_transformations[\"energy\"].max()\n",
    "foundational_df_transformed[\"energy\"] = foundational_df_no_transformations[\"energy\"].apply(\n",
    "    lambda x: custom_log_transform(x, min_value, max_value)\n",
    ")"
   ],
   "metadata": {
    "collapsed": false
   },
   "id": "dceed2c0de30a215"
  },
  {
   "cell_type": "markdown",
   "source": [
    "2. Transform need satisfaction variables using saturation transformation"
   ],
   "metadata": {
    "collapsed": false
   },
   "id": "dcf107c3627c739e"
  },
  {
   "cell_type": "code",
   "outputs": [],
   "source": [
    "need_satisfaction_variables = {\n",
    "    \"hale\": 77,\n",
    "    \"education\": 102,\n",
    "    \"socialsupport\": 80,\n",
    "    \"lifesatisfaction\": 10,\n",
    "    # \"nutrition\": 100.3,\n",
    "    # \"sanitation\": 100.7,\n",
    "    # \"incomepoverty\": 100.3,\n",
    "    # \"energyaccess\": 100.7,\n",
    "}\n",
    "for col in need_satisfaction_variables.keys():\n",
    "    if col in foundational_df_no_transformations.columns:\n",
    "        foundational_df_transformed[col] = foundational_df_no_transformations[col].apply(\n",
    "            lambda x: numpy.log(need_satisfaction_variables[col] - x)\n",
    "        )\n",
    "        if foundational_df_transformed[col].isna().any():\n",
    "            print(\n",
    "                f\"Warning: NaN values found in column {col}. Original values might be too close to or exceed the saturation point.\"\n",
    "            )\n",
    "    else:\n",
    "        print(f\"Warning: Column {col} not found in imputed DataFrame.\")"
   ],
   "metadata": {
    "collapsed": false
   },
   "id": "c456dafd5eac70eb"
  },
  {
   "cell_type": "markdown",
   "source": [
    "Transform provisioning factors using appropriate transformations.\n",
    "Not applying any transformations to foundational economy variables."
   ],
   "metadata": {
    "collapsed": false
   },
   "id": "6b985bef20149fb6"
  },
  {
   "cell_type": "code",
   "outputs": [],
   "source": [
    "provisioning_factor_variables = [\n",
    "    \"material\",\n",
    "    \"other\",\n",
    "    \"overlooked\",\n",
    "    \"providential\"\n",
    "]\n",
    "for col in provisioning_factor_variables:\n",
    "    min_value = foundational_df_no_transformations[col].min()\n",
    "    max_value = foundational_df_no_transformations[col].max()\n",
    "    foundational_df_transformed[col] = foundational_df_no_transformations[col].apply(\n",
    "        lambda x: custom_log_transform(x, min_value, max_value)\n",
    "    )"
   ],
   "metadata": {
    "collapsed": false
   },
   "id": "191cad115c0e09ef"
  },
  {
   "cell_type": "markdown",
   "source": [
    "Standardize by subtracting the mean and dividing by the standard deviation."
   ],
   "metadata": {
    "collapsed": false
   },
   "id": "6f22e05bea8a6d9e"
  },
  {
   "cell_type": "code",
   "outputs": [],
   "source": [
    "from sklearn.preprocessing import StandardScaler"
   ],
   "metadata": {
    "collapsed": false
   },
   "id": "173e8edafeb78d27"
  },
  {
   "cell_type": "code",
   "outputs": [],
   "source": [
    "scaler = StandardScaler()\n",
    "foundational_df_transformed[['energy', 'ladder', 'socialsupport', 'hale', 'freedom', 'charity', 'corruption', 'positive', 'negative', 'wdi_hale', 'education', 'goveffectiveness', 'gini']] = scaler.fit_transform(foundational_df_transformed[['energy', 'ladder', 'socialsupport', 'hale', 'freedom', 'charity', 'corruption', 'positive', 'negative', 'wdi_hale', 'education', 'goveffectiveness', 'gini']])"
   ],
   "metadata": {
    "collapsed": false
   },
   "id": "a81aa71e7d7985f6"
  },
  {
   "cell_type": "code",
   "outputs": [],
   "source": [
    "foundational_df_transformed.head()"
   ],
   "metadata": {
    "collapsed": false
   },
   "id": "697db6da930663a7"
  }
 ],
 "metadata": {
  "kernelspec": {
   "display_name": "Python 3",
   "language": "python",
   "name": "python3"
  },
  "language_info": {
   "codemirror_mode": {
    "name": "ipython",
    "version": 2
   },
   "file_extension": ".py",
   "mimetype": "text/x-python",
   "name": "python",
   "nbconvert_exporter": "python",
   "pygments_lexer": "ipython2",
   "version": "2.7.6"
  }
 },
 "nbformat": 4,
 "nbformat_minor": 5
}
