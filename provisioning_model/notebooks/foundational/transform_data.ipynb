{
 "cells": [
  {
   "cell_type": "markdown",
   "source": [
    "## Apply variable transformations"
   ],
   "metadata": {
    "collapsed": false
   },
   "id": "55d48784efd1f9c5"
  },
  {
   "cell_type": "code",
   "outputs": [],
   "source": [
    "import numpy\n",
    "import pandas as pd\n",
    "from provisioning_model.functions.create_panel_dataset import custom_log_transform"
   ],
   "metadata": {
    "collapsed": false,
    "ExecuteTime": {
     "end_time": "2024-01-21T10:36:00.642299Z",
     "start_time": "2024-01-21T10:36:00.636769Z"
    }
   },
   "id": "c9ceffea11192545",
   "execution_count": 10
  },
  {
   "cell_type": "code",
   "outputs": [],
   "source": [
    "foundational_df_no_transformations = pd.read_csv('./output/foundational_no_transformations.csv')"
   ],
   "metadata": {
    "collapsed": false,
    "ExecuteTime": {
     "end_time": "2024-01-21T10:36:00.694988Z",
     "start_time": "2024-01-21T10:36:00.677113Z"
    }
   },
   "id": "1df1115e1d2518fc",
   "execution_count": 11
  },
  {
   "cell_type": "markdown",
   "source": [
    "1. Transform energy use variable to log"
   ],
   "metadata": {
    "collapsed": false
   },
   "id": "d564722054546f47"
  },
  {
   "cell_type": "code",
   "outputs": [],
   "source": [
    "foundational_df_transformed = foundational_df_no_transformations.copy()\n",
    "min_value = foundational_df_no_transformations[\"energy\"].min()\n",
    "max_value = foundational_df_no_transformations[\"energy\"].max()\n",
    "foundational_df_transformed[\"energy\"] = foundational_df_no_transformations[\"energy\"].apply(\n",
    "    lambda x: custom_log_transform(x, min_value, max_value)\n",
    ")"
   ],
   "metadata": {
    "collapsed": false,
    "ExecuteTime": {
     "end_time": "2024-01-21T10:36:00.744182Z",
     "start_time": "2024-01-21T10:36:00.695182Z"
    }
   },
   "id": "dceed2c0de30a215",
   "execution_count": 12
  },
  {
   "cell_type": "markdown",
   "source": [
    "2. Transform need satisfaction variables using saturation transformation"
   ],
   "metadata": {
    "collapsed": false
   },
   "id": "dcf107c3627c739e"
  },
  {
   "cell_type": "code",
   "outputs": [
    {
     "name": "stdout",
     "output_type": "stream",
     "text": [
      "Warning: NaN values found in column hale. Original values might be too close to or exceed the saturation point.\n",
      "Warning: NaN values found in column education. Original values might be too close to or exceed the saturation point.\n",
      "Warning: NaN values found in column socialsupport. Original values might be too close to or exceed the saturation point.\n",
      "Warning: Column lifesatisfaction not found in imputed DataFrame.\n"
     ]
    },
    {
     "name": "stderr",
     "output_type": "stream",
     "text": [
      "/var/folders/6l/9wnlb_cx2h382r0y3jq99h5h0000gn/T/ipykernel_22330/2755883780.py:14: RuntimeWarning: invalid value encountered in log\n",
      "  lambda x: numpy.log(need_satisfaction_variables[col] - x)\n"
     ]
    }
   ],
   "source": [
    "need_satisfaction_variables = {\n",
    "    \"hale\": 77,\n",
    "    \"education\": 102,\n",
    "    \"socialsupport\": 80,\n",
    "    \"lifesatisfaction\": 10,\n",
    "    # \"nutrition\": 100.3,\n",
    "    # \"sanitation\": 100.7,\n",
    "    # \"incomepoverty\": 100.3,\n",
    "    # \"energyaccess\": 100.7,\n",
    "}\n",
    "for col in need_satisfaction_variables.keys():\n",
    "    if col in foundational_df_no_transformations.columns:\n",
    "        foundational_df_transformed[col] = foundational_df_no_transformations[col].apply(\n",
    "            lambda x: numpy.log(need_satisfaction_variables[col] - x)\n",
    "        )\n",
    "        if foundational_df_transformed[col].isna().any():\n",
    "            print(\n",
    "                f\"Warning: NaN values found in column {col}. Original values might be too close to or exceed the saturation point.\"\n",
    "            )\n",
    "    else:\n",
    "        print(f\"Warning: Column {col} not found in imputed DataFrame.\")"
   ],
   "metadata": {
    "collapsed": false,
    "ExecuteTime": {
     "end_time": "2024-01-21T10:36:00.745095Z",
     "start_time": "2024-01-21T10:36:00.705449Z"
    }
   },
   "id": "c456dafd5eac70eb",
   "execution_count": 13
  },
  {
   "cell_type": "markdown",
   "source": [
    "Transform provisioning factors using appropriate transformations.\n",
    "Not applying any transformations to foundational economy variables."
   ],
   "metadata": {
    "collapsed": false
   },
   "id": "6b985bef20149fb6"
  },
  {
   "cell_type": "code",
   "outputs": [],
   "source": [
    "provisioning_factor_variables = [\n",
    "    \"material\",\n",
    "    \"other\",\n",
    "    \"overlooked\",\n",
    "    \"providential\"\n",
    "]\n",
    "for col in provisioning_factor_variables:\n",
    "    min_value = foundational_df_no_transformations[col].min()\n",
    "    max_value = foundational_df_no_transformations[col].max()\n",
    "    foundational_df_transformed[col] = foundational_df_no_transformations[col].apply(\n",
    "        lambda x: custom_log_transform(x, min_value, max_value)\n",
    "    )"
   ],
   "metadata": {
    "collapsed": false,
    "ExecuteTime": {
     "end_time": "2024-01-21T10:36:00.745396Z",
     "start_time": "2024-01-21T10:36:00.716090Z"
    }
   },
   "id": "191cad115c0e09ef",
   "execution_count": 14
  },
  {
   "cell_type": "markdown",
   "source": [
    "Standardize by subtracting the mean and dividing by the standard deviation."
   ],
   "metadata": {
    "collapsed": false
   },
   "id": "6f22e05bea8a6d9e"
  },
  {
   "cell_type": "code",
   "outputs": [],
   "source": [
    "from sklearn.preprocessing import StandardScaler"
   ],
   "metadata": {
    "collapsed": false,
    "ExecuteTime": {
     "end_time": "2024-01-21T10:36:00.745565Z",
     "start_time": "2024-01-21T10:36:00.720204Z"
    }
   },
   "id": "173e8edafeb78d27",
   "execution_count": 15
  },
  {
   "cell_type": "code",
   "outputs": [],
   "source": [
    "scaler = StandardScaler()\n",
    "variables_to_scale = ['material', 'other', 'overlooked', 'providential', 'energy', 'ladder', 'socialsupport', 'hale', 'freedom', 'charity', 'corruption', 'positive', 'negative', 'education', 'wdi_hale', 'goveffectiveness', 'gini']\n",
    "\n",
    "foundational_df_transformed[variables_to_scale] = scaler.fit_transform(foundational_df_transformed[variables_to_scale])"
   ],
   "metadata": {
    "collapsed": false,
    "ExecuteTime": {
     "end_time": "2024-01-25T17:02:36.328494Z",
     "start_time": "2024-01-25T17:02:36.300511Z"
    }
   },
   "id": "a81aa71e7d7985f6",
   "execution_count": 23
  },
  {
   "cell_type": "code",
   "outputs": [],
   "source": [
    "scaler_df = pd.DataFrame({'variable': variables_to_scale, 'scale': scaler.scale_, 'mean': scaler.mean_})\n",
    "scaler_df.to_csv('./output/scaler_values.csv', index=False)"
   ],
   "metadata": {
    "collapsed": false,
    "ExecuteTime": {
     "end_time": "2024-01-25T17:02:58.111658Z",
     "start_time": "2024-01-25T17:02:58.106818Z"
    }
   },
   "id": "3bebf3b3440aa571",
   "execution_count": 25
  },
  {
   "cell_type": "code",
   "outputs": [
    {
     "data": {
      "text/plain": "  geo  TIME_PERIOD  material     other  overlooked  providential    energy  \\\n0  AL         2012  0.324410 -2.557666    0.041156      1.808007 -2.368645   \n1  AL         2016 -0.517182 -4.211705    3.545856      1.316092 -2.184553   \n2  AL         2020 -2.087624  1.354344    2.896553     -2.020952 -2.283013   \n3  AT         2008  0.152692  1.459620    0.929579     -1.900301  0.746746   \n4  AT         2012  0.233370  1.599969    1.018032     -2.142763  0.716622   \n\n     ladder  socialsupport      hale   freedom   charity  corruption  \\\n0 -0.980589       1.858332  0.632234 -1.354450 -1.011505    0.647092   \n1 -2.077999       4.151838  0.264796 -0.444514 -0.021611    0.863043   \n2 -1.139873       3.029019  0.219770 -0.273901  0.129167    0.822297   \n3  0.855018      -0.486372 -0.050768  0.614709  1.984399   -0.306350   \n4  1.096689      -0.642844 -0.251848  0.906173  0.850282    0.333353   \n\n   positive  negative  education  wdi_hale  goveffectiveness      gini  \n0 -1.127141  0.202938  -0.178674 -0.360672         -1.797876 -0.685966  \n1 -0.977443  0.935614  -0.354074 -0.096066         -1.335701  0.464768  \n2 -1.020214  0.116740   0.458563 -0.718024         -1.596241 -0.588031  \n3  0.615776 -1.204950  -0.318893  0.426401          1.078706 -0.343194  \n4  0.573005 -1.434809  -0.312564  0.594233          0.780773 -0.318710  ",
      "text/html": "<div>\n<style scoped>\n    .dataframe tbody tr th:only-of-type {\n        vertical-align: middle;\n    }\n\n    .dataframe tbody tr th {\n        vertical-align: top;\n    }\n\n    .dataframe thead th {\n        text-align: right;\n    }\n</style>\n<table border=\"1\" class=\"dataframe\">\n  <thead>\n    <tr style=\"text-align: right;\">\n      <th></th>\n      <th>geo</th>\n      <th>TIME_PERIOD</th>\n      <th>material</th>\n      <th>other</th>\n      <th>overlooked</th>\n      <th>providential</th>\n      <th>energy</th>\n      <th>ladder</th>\n      <th>socialsupport</th>\n      <th>hale</th>\n      <th>freedom</th>\n      <th>charity</th>\n      <th>corruption</th>\n      <th>positive</th>\n      <th>negative</th>\n      <th>education</th>\n      <th>wdi_hale</th>\n      <th>goveffectiveness</th>\n      <th>gini</th>\n    </tr>\n  </thead>\n  <tbody>\n    <tr>\n      <th>0</th>\n      <td>AL</td>\n      <td>2012</td>\n      <td>0.324410</td>\n      <td>-2.557666</td>\n      <td>0.041156</td>\n      <td>1.808007</td>\n      <td>-2.368645</td>\n      <td>-0.980589</td>\n      <td>1.858332</td>\n      <td>0.632234</td>\n      <td>-1.354450</td>\n      <td>-1.011505</td>\n      <td>0.647092</td>\n      <td>-1.127141</td>\n      <td>0.202938</td>\n      <td>-0.178674</td>\n      <td>-0.360672</td>\n      <td>-1.797876</td>\n      <td>-0.685966</td>\n    </tr>\n    <tr>\n      <th>1</th>\n      <td>AL</td>\n      <td>2016</td>\n      <td>-0.517182</td>\n      <td>-4.211705</td>\n      <td>3.545856</td>\n      <td>1.316092</td>\n      <td>-2.184553</td>\n      <td>-2.077999</td>\n      <td>4.151838</td>\n      <td>0.264796</td>\n      <td>-0.444514</td>\n      <td>-0.021611</td>\n      <td>0.863043</td>\n      <td>-0.977443</td>\n      <td>0.935614</td>\n      <td>-0.354074</td>\n      <td>-0.096066</td>\n      <td>-1.335701</td>\n      <td>0.464768</td>\n    </tr>\n    <tr>\n      <th>2</th>\n      <td>AL</td>\n      <td>2020</td>\n      <td>-2.087624</td>\n      <td>1.354344</td>\n      <td>2.896553</td>\n      <td>-2.020952</td>\n      <td>-2.283013</td>\n      <td>-1.139873</td>\n      <td>3.029019</td>\n      <td>0.219770</td>\n      <td>-0.273901</td>\n      <td>0.129167</td>\n      <td>0.822297</td>\n      <td>-1.020214</td>\n      <td>0.116740</td>\n      <td>0.458563</td>\n      <td>-0.718024</td>\n      <td>-1.596241</td>\n      <td>-0.588031</td>\n    </tr>\n    <tr>\n      <th>3</th>\n      <td>AT</td>\n      <td>2008</td>\n      <td>0.152692</td>\n      <td>1.459620</td>\n      <td>0.929579</td>\n      <td>-1.900301</td>\n      <td>0.746746</td>\n      <td>0.855018</td>\n      <td>-0.486372</td>\n      <td>-0.050768</td>\n      <td>0.614709</td>\n      <td>1.984399</td>\n      <td>-0.306350</td>\n      <td>0.615776</td>\n      <td>-1.204950</td>\n      <td>-0.318893</td>\n      <td>0.426401</td>\n      <td>1.078706</td>\n      <td>-0.343194</td>\n    </tr>\n    <tr>\n      <th>4</th>\n      <td>AT</td>\n      <td>2012</td>\n      <td>0.233370</td>\n      <td>1.599969</td>\n      <td>1.018032</td>\n      <td>-2.142763</td>\n      <td>0.716622</td>\n      <td>1.096689</td>\n      <td>-0.642844</td>\n      <td>-0.251848</td>\n      <td>0.906173</td>\n      <td>0.850282</td>\n      <td>0.333353</td>\n      <td>0.573005</td>\n      <td>-1.434809</td>\n      <td>-0.312564</td>\n      <td>0.594233</td>\n      <td>0.780773</td>\n      <td>-0.318710</td>\n    </tr>\n  </tbody>\n</table>\n</div>"
     },
     "execution_count": 17,
     "metadata": {},
     "output_type": "execute_result"
    }
   ],
   "source": [
    "foundational_df_transformed.head()"
   ],
   "metadata": {
    "collapsed": false,
    "ExecuteTime": {
     "end_time": "2024-01-21T10:36:00.779883Z",
     "start_time": "2024-01-21T10:36:00.751435Z"
    }
   },
   "id": "697db6da930663a7",
   "execution_count": 17
  },
  {
   "cell_type": "code",
   "outputs": [],
   "source": [
    "foundational_df_transformed.to_csv('./output/foundational_transformed.csv', index=False) "
   ],
   "metadata": {
    "collapsed": false,
    "ExecuteTime": {
     "end_time": "2024-01-21T10:36:00.780173Z",
     "start_time": "2024-01-21T10:36:00.757409Z"
    }
   },
   "id": "ead2068c49f8ba54",
   "execution_count": 18
  }
 ],
 "metadata": {
  "kernelspec": {
   "display_name": "Python 3",
   "language": "python",
   "name": "python3"
  },
  "language_info": {
   "codemirror_mode": {
    "name": "ipython",
    "version": 2
   },
   "file_extension": ".py",
   "mimetype": "text/x-python",
   "name": "python",
   "nbconvert_exporter": "python",
   "pygments_lexer": "ipython2",
   "version": "2.7.6"
  }
 },
 "nbformat": 4,
 "nbformat_minor": 5
}
