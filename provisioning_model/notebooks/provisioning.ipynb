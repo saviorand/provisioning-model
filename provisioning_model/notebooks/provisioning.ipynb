{
 "cells": [
  {
   "cell_type": "markdown",
   "source": [
    "# Provisioning Factors, Master Thesis"
   ],
   "metadata": {
    "collapsed": false
   }
  },
  {
   "cell_type": "code",
   "execution_count": null,
   "outputs": [],
   "source": [
    "import pandas as pd\n",
    "import numpy as np\n",
    "import seaborn as sns\n",
    "import warnings"
   ],
   "metadata": {
    "collapsed": false
   }
  },
  {
   "cell_type": "markdown",
   "source": [
    "## Loading the dataset"
   ],
   "metadata": {
    "collapsed": false
   }
  },
  {
   "cell_type": "markdown",
   "source": [
    "Load the data, remove inf values and extract countries, variables"
   ],
   "metadata": {
    "collapsed": false
   }
  },
  {
   "cell_type": "code",
   "execution_count": null,
   "outputs": [],
   "source": [
    "all_in_one = pd.read_csv('../data/all_in_one.csv', index_col=0)"
   ],
   "metadata": {
    "collapsed": false
   }
  },
  {
   "cell_type": "code",
   "execution_count": null,
   "outputs": [],
   "source": [
    "all_in_one_no_inf = all_in_one.replace([np.inf, -np.inf], np.nan)\n",
    "all_variables = all_in_one_no_inf.drop(columns=[\"Year\", \"Country.Code\", \"Country.Name\"])\n",
    "all_countries = all_in_one_no_inf['Country.Name'].unique()"
   ],
   "metadata": {
    "collapsed": false
   }
  },
  {
   "cell_type": "markdown",
   "source": [
    "Apply basic styles and a color scheme to all plots. Ignore selected warnings."
   ],
   "metadata": {
    "collapsed": false
   }
  },
  {
   "cell_type": "code",
   "execution_count": null,
   "outputs": [],
   "source": [
    "# Prepare a color palette for all unique countries in the dataset\n",
    "sns.set_theme(style=\"dark\")\n",
    "palette = dict(zip(all_countries, sns.color_palette(\"husl\", len(all_countries))))"
   ],
   "metadata": {
    "collapsed": false
   }
  },
  {
   "cell_type": "code",
   "execution_count": null,
   "outputs": [],
   "source": [
    "warnings.simplefilter(action='ignore', category=UserWarning)\n",
    "warnings.simplefilter(action='ignore', category=FutureWarning)"
   ],
   "metadata": {
    "collapsed": false
   }
  },
  {
   "cell_type": "markdown",
   "metadata": {},
   "source": [
    "Create panel data set for each outcome variable.\n",
    "Start with year 1995 where ecirank data is available, end with 2015, the last year for which energy data is available. \n",
    "Only keep observations where energy use data is available.\n",
    "Remove selected columns (selection process?)"
   ]
  },
  {
   "cell_type": "code",
   "execution_count": null,
   "metadata": {},
   "outputs": [],
   "source": [
    "all_in_one_selected_years = all_in_one_no_inf.loc[all_in_one_no_inf['Year'].between(1995, 2015)]\n",
    "all_in_one_selected_years_with_energy_only = all_in_one_selected_years[\n",
    "    all_in_one_selected_years[['energy']].notnull().all(1)]"
   ]
  },
  {
   "cell_type": "markdown",
   "source": [
    "Drop stock variables, only keep flow"
   ],
   "metadata": {
    "collapsed": false
   }
  },
  {
   "cell_type": "code",
   "execution_count": null,
   "outputs": [],
   "source": [
    "stock_variables = ['netmigration', 'wealth', 'patents', 'concentration', 'selfemployed', 'grosscapital', 'gdppercap',\n",
    "                   'gnipercap', 'trade', 'gini', 'corruption', 'mobilecellular']\n",
    "all_in_one_selected_cols = all_in_one_selected_years_with_energy_only.drop(\n",
    "    columns=stock_variables)"
   ],
   "metadata": {
    "collapsed": false
   }
  },
  {
   "cell_type": "markdown",
   "source": [
    "For cross-sectional analysis filter the data frame by year 2012"
   ],
   "metadata": {
    "collapsed": false
   }
  },
  {
   "cell_type": "code",
   "execution_count": null,
   "outputs": [],
   "source": [
    "all_in_one_selected_cols_2012 = all_in_one_selected_cols.loc[\n",
    "    all_in_one_selected_cols['Year'] == 2012]"
   ],
   "metadata": {
    "collapsed": false
   }
  },
  {
   "cell_type": "markdown",
   "source": [
    "Begin subsetting the data. Assign outcome variables and indicators to separate data frames."
   ],
   "metadata": {
    "collapsed": false
   }
  },
  {
   "cell_type": "code",
   "execution_count": null,
   "outputs": [],
   "source": [
    "from functions.create_panel_dataset import remove_cols_with_few_observations, create_outcome_df_with_metadata, \\\n",
    "    remove_outliers_iqr"
   ],
   "metadata": {
    "collapsed": false
   }
  },
  {
   "cell_type": "code",
   "execution_count": null,
   "metadata": {},
   "outputs": [],
   "source": [
    "outcome_variables = ['lifeexpectancy_over_energy', 'nutrition_over_energy', 'education_over_energy',\n",
    "                     'sanitation_over_energy']\n",
    "indicator_index_offset = 3\n",
    "outcome_index_offset = 17"
   ]
  },
  {
   "cell_type": "markdown",
   "source": [
    "Create separate data frames containing observations with data available for each outcome variable. Remove columns with few observations.\n",
    "After subsetting is done, create final data frames with metadata."
   ],
   "metadata": {
    "collapsed": false
   }
  },
  {
   "cell_type": "code",
   "execution_count": null,
   "outputs": [],
   "source": [
    "outcome_dfs_with_metadata = {}\n",
    "for outcome in outcome_variables:\n",
    "    outcome_df = all_in_one_selected_cols.dropna(subset=[outcome])\n",
    "    outcome_df_no_outliers = remove_outliers_iqr(outcome_df)\n",
    "    outcome_df_no_outliers_no_few_obs = remove_cols_with_few_observations(outcome_df_no_outliers)\n",
    "\n",
    "    outcome_df_with_metadata = create_outcome_df_with_metadata(\n",
    "        outcome_df_no_outliers_no_few_obs, outcome, indicator_index_offset, outcome_index_offset\n",
    "    )\n",
    "    outcome_dfs_with_metadata[outcome] = outcome_df_with_metadata"
   ],
   "metadata": {
    "collapsed": false
   }
  },
  {
   "cell_type": "code",
   "execution_count": null,
   "outputs": [],
   "source": [
    "outcome_dfs_with_metadata_2012 = {}\n",
    "for outcome in outcome_variables:\n",
    "    outcome_df_2012 = all_in_one_selected_cols_2012.dropna(subset=[outcome])\n",
    "    outcome_df_no_outliers_2012 = remove_outliers_iqr(outcome_df_2012)\n",
    "    outcome_df_no_outliers_no_few_obs_2012 = remove_cols_with_few_observations(outcome_df_no_outliers_2012)\n",
    "\n",
    "    outcome_df_with_metadata_2012 = create_outcome_df_with_metadata(\n",
    "        outcome_df_no_outliers_no_few_obs_2012, outcome, indicator_index_offset, outcome_index_offset\n",
    "    )\n",
    "    outcome_dfs_with_metadata_2012[outcome] = outcome_df_with_metadata_2012"
   ],
   "metadata": {
    "collapsed": false
   }
  },
  {
   "cell_type": "markdown",
   "metadata": {},
   "source": [
    "## Exploratory analysis"
   ]
  },
  {
   "cell_type": "markdown",
   "source": [
    "Create a summary data frame for each outcome variable containing the number of observations, countries and years."
   ],
   "metadata": {
    "collapsed": false
   }
  },
  {
   "cell_type": "code",
   "execution_count": null,
   "metadata": {},
   "outputs": [],
   "source": [
    "from functions.exploratory_analysis import create_summary_df"
   ]
  },
  {
   "cell_type": "code",
   "execution_count": null,
   "outputs": [],
   "source": [
    "summary_dfs = {}\n",
    "indicator_dfs = {}\n",
    "outcome_dfs = {}\n",
    "for outcome in outcome_variables:\n",
    "    outcome_df_with_metadata = outcome_dfs_with_metadata[outcome]\n",
    "    outcome_df = outcome_df_with_metadata[f\"{outcome}_df\"]\n",
    "    outcome_indicators = outcome_df_with_metadata[f\"{outcome}_indicators\"]\n",
    "    outcome_outcomes = outcome_df_with_metadata[f\"{outcome}_outcome\"]\n",
    "    outcome_countries = outcome_df_with_metadata[f\"{outcome}_countries\"]\n",
    "    outcome_all_variables = outcome_df_with_metadata[f\"{outcome}_variables\"]\n",
    "    indicator_dfs[outcome] = outcome_indicators\n",
    "    outcome_dfs[outcome] = outcome_outcomes\n",
    "    summary_df = create_summary_df(outcome_df, outcome_countries, outcome_all_variables)\n",
    "    summary_dfs[outcome] = summary_df"
   ],
   "metadata": {
    "collapsed": false
   }
  },
  {
   "cell_type": "code",
   "execution_count": null,
   "outputs": [],
   "source": [
    "summary_dfs_2012 = {}\n",
    "indicator_dfs_2012 = {}\n",
    "outcome_dfs_2012 = {}\n",
    "for outcome in outcome_variables:\n",
    "    outcome_df_with_metadata_2012 = outcome_dfs_with_metadata_2012[outcome]\n",
    "    outcome_df_2012 = outcome_df_with_metadata_2012[f\"{outcome}_df\"]\n",
    "    outcome_indicators_2012 = outcome_df_with_metadata_2012[f\"{outcome}_indicators\"]\n",
    "    outcome_outcomes_2012 = outcome_df_with_metadata_2012[f\"{outcome}_outcome\"]\n",
    "    outcome_countries_2012 = outcome_df_with_metadata_2012[f\"{outcome}_countries\"]\n",
    "    outcome_all_variables_2012 = outcome_df_with_metadata_2012[f\"{outcome}_variables\"]\n",
    "    indicator_dfs_2012[outcome] = outcome_indicators_2012\n",
    "    outcome_dfs_2012[outcome] = outcome_outcomes_2012\n",
    "    summary_df_2012 = create_summary_df(outcome_df_2012, outcome_countries_2012, outcome_all_variables_2012)\n",
    "    summary_dfs_2012[outcome] = summary_df_2012"
   ],
   "metadata": {
    "collapsed": false
   }
  },
  {
   "cell_type": "code",
   "execution_count": null,
   "outputs": [],
   "source": [
    "lifeexp_summary = summary_dfs['lifeexpectancy_over_energy']\n",
    "lifeexp_indicators = indicator_dfs['lifeexpectancy_over_energy']\n",
    "lifeexp_outcomes = outcome_dfs['lifeexpectancy_over_energy']"
   ],
   "metadata": {
    "collapsed": false
   }
  },
  {
   "cell_type": "code",
   "execution_count": null,
   "outputs": [],
   "source": [
    "lifeexp_summary_2012 = summary_dfs_2012['lifeexpectancy_over_energy']\n",
    "lifeexp_indicators_2012 = indicator_dfs_2012['lifeexpectancy_over_energy']\n",
    "lifeexp_outcomes_2012 = outcome_dfs_2012['lifeexpectancy_over_energy']"
   ],
   "metadata": {
    "collapsed": false
   }
  },
  {
   "cell_type": "markdown",
   "source": [
    "Plot the number of observations, countries and years for each outcome variable"
   ],
   "metadata": {
    "collapsed": false
   }
  },
  {
   "cell_type": "code",
   "execution_count": null,
   "outputs": [],
   "source": [
    "from functions.exploratory_analysis import plot_summary_variable"
   ],
   "metadata": {
    "collapsed": false
   }
  },
  {
   "cell_type": "code",
   "execution_count": null,
   "outputs": [],
   "source": [
    "plot_summary_variable(lifeexp_summary, 'observations')\n",
    "# plot_summary_variable(lifeexp_summary, 'num_countries')\n",
    "# plot_summary_variable(lifeexp_summary, 'num_years')"
   ],
   "metadata": {
    "collapsed": false
   }
  },
  {
   "cell_type": "markdown",
   "source": [
    "Plot histograms for each indicator variable. The chart is big so it's not included by default."
   ],
   "metadata": {
    "collapsed": false
   }
  },
  {
   "cell_type": "code",
   "execution_count": null,
   "outputs": [],
   "source": [
    "# from functions.exploratory_analysis import plot_histograms"
   ],
   "metadata": {
    "collapsed": false
   }
  },
  {
   "cell_type": "code",
   "execution_count": null,
   "outputs": [],
   "source": [
    "# plot_histograms(lifeexp_indicators, lifeexp_indicators.columns)"
   ],
   "metadata": {
    "collapsed": false
   }
  },
  {
   "cell_type": "markdown",
   "source": [
    "Plot outliers. "
   ],
   "metadata": {
    "collapsed": false
   }
  },
  {
   "cell_type": "code",
   "execution_count": null,
   "outputs": [],
   "source": [
    "from functions.exploratory_analysis import plot_outliers"
   ],
   "metadata": {
    "collapsed": false
   }
  },
  {
   "cell_type": "code",
   "execution_count": null,
   "outputs": [],
   "source": [
    "plot_outliers(lifeexp_indicators)"
   ],
   "metadata": {
    "collapsed": false
   }
  },
  {
   "cell_type": "markdown",
   "source": [
    "Plot correlation matrix for all indicators."
   ],
   "metadata": {
    "collapsed": false
   }
  },
  {
   "cell_type": "code",
   "execution_count": null,
   "outputs": [],
   "source": [
    "from functions.exploratory_analysis import plot_correlation_matrix"
   ],
   "metadata": {
    "collapsed": false
   }
  },
  {
   "cell_type": "code",
   "execution_count": null,
   "outputs": [],
   "source": [
    "plot_correlation_matrix(lifeexp_indicators)"
   ],
   "metadata": {
    "collapsed": false
   }
  },
  {
   "cell_type": "markdown",
   "source": [
    "## Cross-validation: Best subset, Lasso, PCA"
   ],
   "metadata": {
    "collapsed": false
   }
  },
  {
   "cell_type": "code",
   "execution_count": null,
   "outputs": [],
   "source": [
    "from sklearn.linear_model import Lasso\n",
    "from sklearn.impute import KNNImputer\n",
    "# from sklearn.feature_selection import SelectFromModel\n",
    "from sklearn.decomposition import PCA\n",
    "from sklearn.pipeline import Pipeline\n",
    "from sklearn.preprocessing import StandardScaler\n",
    "from abess import LinearRegression\n",
    "from functions.cross_validation import panel_cross_validation, plot_cross_validation_results"
   ],
   "metadata": {
    "collapsed": false
   }
  },
  {
   "cell_type": "code",
   "execution_count": null,
   "outputs": [],
   "source": [
    "# Initialize the models\n",
    "best_subset_model = LinearRegression()\n",
    "lasso_model = Lasso(max_iter=10000)\n",
    "pca_model = PCA()\n",
    "\n",
    "# Combine these into a list\n",
    "models = [best_subset_model, lasso_model, pca_model]\n",
    "model_names = ['Best Subset', 'Lasso', 'PCA']"
   ],
   "metadata": {
    "collapsed": false
   }
  },
  {
   "cell_type": "code",
   "execution_count": null,
   "metadata": {},
   "outputs": [],
   "source": [
    "lifeexp_model, lifeexp_cv_results = panel_cross_validation(models, model_names, lifeexp_indicators, lifeexp_outcomes)"
   ]
  },
  {
   "cell_type": "code",
   "execution_count": null,
   "outputs": [],
   "source": [
    "lifeexp_model_2012, lifeexp_cv_results_2012 = panel_cross_validation(models, model_names, lifeexp_indicators_2012,\n",
    "                                                                     lifeexp_outcomes_2012)"
   ],
   "metadata": {
    "collapsed": false
   }
  },
  {
   "cell_type": "markdown",
   "metadata": {},
   "source": [
    "### Anaylzing cross-validation results"
   ]
  },
  {
   "cell_type": "code",
   "execution_count": null,
   "metadata": {},
   "outputs": [],
   "source": [
    "from functions.cross_validation import filter_and_find_best_model, plot_cross_validation_results"
   ]
  },
  {
   "cell_type": "code",
   "execution_count": null,
   "metadata": {},
   "outputs": [],
   "source": [
    "# plot_cross_validation_results(lifeexp_cv_results)\n",
    "best_model_no_zero_coef = filter_and_find_best_model(lifeexp_cv_results)\n",
    "print(best_model_no_zero_coef)"
   ]
  },
  {
   "cell_type": "code",
   "execution_count": null,
   "outputs": [],
   "source": [
    "best_model_no_zero_coef_2012 = filter_and_find_best_model(lifeexp_cv_results_2012)\n",
    "print(best_model_no_zero_coef_2012)"
   ],
   "metadata": {
    "collapsed": false
   }
  },
  {
   "cell_type": "markdown",
   "metadata": {},
   "source": [
    "### Best model?\n",
    "For the full panel dataset: Best Model: Lasso, Mean MSE: 0.3953844254470721, n_splits: 7, Lasso alpha: {'alpha': 0.01}\n",
    "For the cross-section for 2012: Best Model: Lasso, Mean MSE: 0.18459822705946247, n_splits: 10, Lasso alpha: {'alpha': 0.01}"
   ]
  },
  {
   "cell_type": "markdown",
   "metadata": {},
   "source": [
    "Try removing \"selfemployed\" column because it's collinear with \"wageworker\" and \"concentration\" as an outlier"
   ]
  },
  {
   "cell_type": "code",
   "execution_count": null,
   "metadata": {},
   "outputs": [],
   "source": [
    "lifeexp_lasso = Pipeline([('imputer', KNNImputer(n_neighbors=5)), ('scaler', StandardScaler()),\n",
    "                          ('model', Lasso(max_iter=10000, alpha=0.01))])\n",
    "\n",
    "lifeexp_lasso.fit(lifeexp_indicators, lifeexp_outcomes)\n",
    "lifeexp_lasso_coef = lifeexp_lasso.named_steps['model'].coef_\n",
    "\n",
    "important_features = []\n",
    "for i, coef in enumerate(lifeexp_lasso_coef):\n",
    "    if coef != 0:\n",
    "        important_features.append((i, coef))\n",
    "\n",
    "print(\"Important features:\", important_features)\n",
    "print(lifeexp_lasso.named_steps['model'].intercept_)\n",
    "indicators_lifeexp_over_energy_important = lifeexp_indicators.iloc[:, [i for i, coef in important_features]]\n",
    "print(len(indicators_lifeexp_over_energy_important.columns), len(lifeexp_indicators.columns))"
   ]
  },
  {
   "cell_type": "code",
   "execution_count": null,
   "outputs": [],
   "source": [
    "lifeexp_lasso_2012 = Pipeline([('imputer', KNNImputer(n_neighbors=5)), ('scaler', StandardScaler()),\n",
    "                               ('model', Lasso(max_iter=10000, alpha=0.01))])\n",
    "lifeexp_lasso_2012.fit(lifeexp_indicators_2012, lifeexp_outcomes_2012)\n",
    "lifeexp_lasso_coef_2012 = lifeexp_lasso_2012.named_steps['model'].coef_\n",
    "\n",
    "important_features_2012 = []\n",
    "for i, coef in enumerate(lifeexp_lasso_coef_2012):\n",
    "    if coef != 0:\n",
    "        important_features_2012.append((i, coef))\n",
    "\n",
    "print(\"Important features:\", important_features_2012)\n",
    "print(lifeexp_lasso_2012.named_steps['model'].intercept_)\n",
    "indicators_lifeexp_over_energy_important_2012 = lifeexp_indicators_2012.iloc[:,\n",
    "                                                [i for i, coef in important_features_2012]]\n",
    "print(len(indicators_lifeexp_over_energy_important_2012.columns), len(lifeexp_indicators_2012.columns))"
   ],
   "metadata": {
    "collapsed": false
   }
  },
  {
   "cell_type": "markdown",
   "metadata": {},
   "source": [
    "## Panel regression with cross-validation"
   ]
  },
  {
   "cell_type": "code",
   "execution_count": null,
   "metadata": {},
   "outputs": [],
   "source": [
    "# simple linear regression\n",
    "from sklearn.linear_model import LinearRegression\n",
    "\n",
    "lifeexp_lasso_linear = Pipeline([('imputer', KNNImputer(n_neighbors=5)), ('model', LinearRegression())])\n",
    "lifeexp_lasso_linear.fit(indicators_lifeexp_over_energy_important, lifeexp_outcomes)\n",
    "lifeexp_lasso_linear_coef = lifeexp_lasso_linear.named_steps['model'].coef_\n",
    "print(\"Linear regression coefficients:\", lifeexp_lasso_linear_coef)\n",
    "print(\"Adjusted r squared\",\n",
    "      lifeexp_lasso_linear.score(indicators_lifeexp_over_energy_important, lifeexp_outcomes))"
   ]
  },
  {
   "cell_type": "code",
   "execution_count": null,
   "metadata": {},
   "outputs": [],
   "source": [
    "lifeexp_lasso_linear_2012 = Pipeline([('imputer', KNNImputer(n_neighbors=5)), ('model', LinearRegression())])\n",
    "lifeexp_lasso_linear_2012.fit(indicators_lifeexp_over_energy_important_2012, lifeexp_outcomes_2012)\n",
    "lifeexp_lasso_linear_coef_2012 = lifeexp_lasso_linear_2012.named_steps['model'].coef_\n",
    "print(\"Linear regression coefficients:\", lifeexp_lasso_linear_coef_2012)\n",
    "print(\"Adjusted r squared\",\n",
    "      lifeexp_lasso_linear_2012.score(indicators_lifeexp_over_energy_important_2012, lifeexp_outcomes_2012))"
   ]
  },
  {
   "cell_type": "code",
   "execution_count": null,
   "outputs": [],
   "source": [
    "lifeexp_indicators_2012"
   ],
   "metadata": {
    "collapsed": false
   }
  },
  {
   "cell_type": "markdown",
   "source": [
    "Try with selected variables only"
   ],
   "metadata": {
    "collapsed": false
   }
  },
  {
   "cell_type": "code",
   "execution_count": null,
   "outputs": [],
   "source": [
    "indicators_lifeexp_over_energy_2012_selected = lifeexp_indicators_2012.loc[:,\n",
    "                                               ['goveffectiveness', 'onepcincome', 'resourcerents']]\n",
    "lifeexp_linear_selected_2012 = Pipeline([('imputer', KNNImputer(n_neighbors=5)), ('model', LinearRegression())])\n",
    "lifeexp_linear_selected_2012.fit(indicators_lifeexp_over_energy_2012_selected, lifeexp_outcomes_2012)\n",
    "lifeexp_linear_selected_coef_2012 = lifeexp_linear_selected_2012.named_steps['model'].coef_\n",
    "print(\"Linear regression coefficients:\", lifeexp_linear_selected_coef_2012)\n",
    "print(\"Adjusted r squared\",\n",
    "      lifeexp_linear_selected_2012.score(indicators_lifeexp_over_energy_2012_selected, lifeexp_outcomes_2012))"
   ],
   "metadata": {
    "collapsed": false
   }
  },
  {
   "cell_type": "code",
   "execution_count": null,
   "metadata": {},
   "outputs": [],
   "source": [
    "from matplotlib import pyplot as plt\n",
    "\n",
    "# Extract the feature names from your DataFrame (change this line if your feature names are stored differently)\n",
    "indicators_lifeexp_over_energy_names = indicators_lifeexp_over_energy_important.columns\n",
    "\n",
    "# Create a list of (coefficient, feature_name) tuples and sort them based on the coefficients\n",
    "indicators_lifeexp_over_energy_names_sorted = sorted(\n",
    "    zip(lifeexp_lasso_linear_coef, indicators_lifeexp_over_energy_names))\n",
    "\n",
    "# Separate the tuples into two lists\n",
    "lifeexp_lasso_coef_sorted, lifeexp_over_energy_names_sorted = zip(*indicators_lifeexp_over_energy_names_sorted)\n",
    "\n",
    "# Create a bar plot\n",
    "plt.figure(figsize=(10, 8))\n",
    "plt.barh(range(len(lifeexp_lasso_coef_sorted)), lifeexp_lasso_coef_sorted, align='center')\n",
    "plt.yticks(range(len(lifeexp_lasso_coef_sorted)), lifeexp_over_energy_names_sorted)\n",
    "plt.xlabel('Coefficient Value')\n",
    "plt.ylabel('Feature Names')\n",
    "plt.title('Feature Importances')\n",
    "plt.show()"
   ]
  }
 ],
 "metadata": {
  "kernelspec": {
   "display_name": "Python 3",
   "language": "python",
   "name": "python3"
  },
  "language_info": {
   "codemirror_mode": {
    "name": "ipython",
    "version": 3
   },
   "file_extension": ".py",
   "mimetype": "text/x-python",
   "name": "python",
   "nbconvert_exporter": "python",
   "pygments_lexer": "ipython3",
   "version": "3.11.3"
  },
  "orig_nbformat": 4
 },
 "nbformat": 4,
 "nbformat_minor": 2
}
