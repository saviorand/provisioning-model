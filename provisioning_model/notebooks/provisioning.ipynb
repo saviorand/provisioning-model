{
 "cells": [
  {
   "cell_type": "markdown",
   "source": [
    "# Provisioning Factors, Master Thesis"
   ],
   "metadata": {
    "collapsed": false
   }
  },
  {
   "cell_type": "code",
   "execution_count": 354,
   "outputs": [],
   "source": [
    "import pandas as pd\n",
    "import numpy as np\n",
    "import seaborn as sns\n",
    "import warnings"
   ],
   "metadata": {
    "collapsed": false,
    "ExecuteTime": {
     "end_time": "2023-11-11T17:30:11.002976Z",
     "start_time": "2023-11-11T17:30:10.165158Z"
    }
   }
  },
  {
   "cell_type": "markdown",
   "source": [
    "## Loading the dataset"
   ],
   "metadata": {
    "collapsed": false
   }
  },
  {
   "cell_type": "markdown",
   "source": [
    "Load the data, remove inf values and extract countries, variables"
   ],
   "metadata": {
    "collapsed": false
   }
  },
  {
   "cell_type": "code",
   "execution_count": 355,
   "outputs": [],
   "source": [
    "all_in_one = pd.read_csv('../data/all_in_one.csv', index_col=0)"
   ],
   "metadata": {
    "collapsed": false,
    "ExecuteTime": {
     "end_time": "2023-11-11T17:30:11.270456Z",
     "start_time": "2023-11-11T17:30:10.176548Z"
    }
   }
  },
  {
   "cell_type": "code",
   "execution_count": 356,
   "outputs": [],
   "source": [
    "all_in_one_no_inf = all_in_one.replace([np.inf, -np.inf], np.nan)\n",
    "all_variables = all_in_one_no_inf.drop(columns=[\"Year\", \"Country.Code\", \"Country.Name\"])\n",
    "all_countries = all_in_one_no_inf['Country.Name'].unique()"
   ],
   "metadata": {
    "collapsed": false,
    "ExecuteTime": {
     "end_time": "2023-11-11T17:30:11.335954Z",
     "start_time": "2023-11-11T17:30:10.519460Z"
    }
   }
  },
  {
   "cell_type": "markdown",
   "source": [
    "Apply basic styles and a color scheme to all plots. Ignore selected warnings."
   ],
   "metadata": {
    "collapsed": false
   }
  },
  {
   "cell_type": "code",
   "execution_count": 357,
   "outputs": [],
   "source": [
    "# Prepare a color palette for all unique countries in the dataset\n",
    "sns.set_theme(style=\"dark\")\n",
    "palette = dict(zip(all_countries, sns.color_palette(\"husl\", len(all_countries))))"
   ],
   "metadata": {
    "collapsed": false,
    "ExecuteTime": {
     "end_time": "2023-11-11T17:30:11.360256Z",
     "start_time": "2023-11-11T17:30:10.553400Z"
    }
   }
  },
  {
   "cell_type": "code",
   "execution_count": 358,
   "outputs": [],
   "source": [
    "warnings.simplefilter(action='ignore', category=UserWarning)\n",
    "warnings.simplefilter(action='ignore', category=FutureWarning)"
   ],
   "metadata": {
    "collapsed": false,
    "ExecuteTime": {
     "end_time": "2023-11-11T17:30:11.360474Z",
     "start_time": "2023-11-11T17:30:10.562193Z"
    }
   }
  },
  {
   "cell_type": "markdown",
   "metadata": {},
   "source": [
    "Create panel data set for each outcome variable.\n",
    "Start with year 1995 where ecirank data is available, end with 2015, the last year for which energy data is available. \n",
    "Only keep observations where energy use data is available.\n",
    "Remove selected columns (selection process?)"
   ]
  },
  {
   "cell_type": "code",
   "execution_count": 359,
   "metadata": {
    "ExecuteTime": {
     "end_time": "2023-11-11T17:30:11.360737Z",
     "start_time": "2023-11-11T17:30:10.571006Z"
    }
   },
   "outputs": [],
   "source": [
    "all_in_one_selected_years = all_in_one_no_inf.loc[all_in_one_no_inf['Year'].between(1995, 2015)]\n",
    "all_in_one_selected_years_with_energy_only = all_in_one_selected_years[\n",
    "    all_in_one_selected_years[['energy']].notnull().all(1)]"
   ]
  },
  {
   "cell_type": "markdown",
   "source": [
    "Drop stock variables, only keep flow"
   ],
   "metadata": {
    "collapsed": false
   }
  },
  {
   "cell_type": "code",
   "execution_count": 360,
   "outputs": [],
   "source": [
    "stock_variables = ['netmigration', 'wealth', 'patents', 'concentration', 'selfemployed', 'grosscapital', 'gdppercap',\n",
    "                   'gnipercap', 'trade', 'gini', 'corruption', 'mobilecellular']\n",
    "all_in_one_selected_cols = all_in_one_selected_years_with_energy_only.drop(\n",
    "    columns=stock_variables)"
   ],
   "metadata": {
    "collapsed": false,
    "ExecuteTime": {
     "end_time": "2023-11-11T17:30:11.595581Z",
     "start_time": "2023-11-11T17:30:10.586833Z"
    }
   }
  },
  {
   "cell_type": "markdown",
   "source": [
    "For cross-sectional analysis filter the data frame by year 2012"
   ],
   "metadata": {
    "collapsed": false
   }
  },
  {
   "cell_type": "code",
   "execution_count": 361,
   "outputs": [],
   "source": [
    "all_in_one_selected_cols_2012 = all_in_one_selected_cols.loc[\n",
    "    all_in_one_selected_cols['Year'] == 2012]"
   ],
   "metadata": {
    "collapsed": false,
    "ExecuteTime": {
     "end_time": "2023-11-11T17:30:11.598394Z",
     "start_time": "2023-11-11T17:30:10.594007Z"
    }
   }
  },
  {
   "cell_type": "markdown",
   "source": [
    "Begin subsetting the data. Assign outcome variables and indicators to separate data frames."
   ],
   "metadata": {
    "collapsed": false
   }
  },
  {
   "cell_type": "code",
   "execution_count": 362,
   "outputs": [
    {
     "ename": "ModuleNotFoundError",
     "evalue": "No module named 'functions'",
     "output_type": "error",
     "traceback": [
      "\u001B[0;31m---------------------------------------------------------------------------\u001B[0m",
      "\u001B[0;31mModuleNotFoundError\u001B[0m                       Traceback (most recent call last)",
      "Cell \u001B[0;32mIn[362], line 1\u001B[0m\n\u001B[0;32m----> 1\u001B[0m \u001B[38;5;28;01mfrom\u001B[39;00m \u001B[38;5;21;01mfunctions\u001B[39;00m\u001B[38;5;21;01m.\u001B[39;00m\u001B[38;5;21;01mcreate_panel_dataset\u001B[39;00m \u001B[38;5;28;01mimport\u001B[39;00m remove_cols_with_few_observations, create_outcome_df_with_metadata, \\\n\u001B[1;32m      2\u001B[0m     remove_outliers_iqr\n",
      "\u001B[0;31mModuleNotFoundError\u001B[0m: No module named 'functions'"
     ]
    }
   ],
   "source": [
    "from functions.create_panel_dataset import remove_cols_with_few_observations, create_outcome_df_with_metadata, \\\n",
    "    remove_outliers_iqr"
   ],
   "metadata": {
    "collapsed": false,
    "ExecuteTime": {
     "end_time": "2023-11-11T17:30:11.620182Z",
     "start_time": "2023-11-11T17:30:10.600203Z"
    }
   }
  },
  {
   "cell_type": "code",
   "execution_count": null,
   "metadata": {
    "ExecuteTime": {
     "start_time": "2023-11-11T17:30:10.677105Z"
    }
   },
   "outputs": [],
   "source": [
    "outcome_variables = ['lifeexpectancy_over_energy', 'nutrition_over_energy', 'education_over_energy',\n",
    "                     'sanitation_over_energy']\n",
    "indicator_index_offset = 3\n",
    "outcome_index_offset = 17"
   ]
  },
  {
   "cell_type": "markdown",
   "source": [
    "Create separate data frames containing observations with data available for each outcome variable. Remove columns with few observations.\n",
    "After subsetting is done, create final data frames with metadata."
   ],
   "metadata": {
    "collapsed": false
   }
  },
  {
   "cell_type": "code",
   "execution_count": null,
   "outputs": [],
   "source": [
    "outcome_dfs_with_metadata = {}\n",
    "for outcome in outcome_variables:\n",
    "    outcome_df = all_in_one_selected_cols.dropna(subset=[outcome])\n",
    "    outcome_df_no_outliers = remove_outliers_iqr(outcome_df)\n",
    "    outcome_df_no_outliers_no_few_obs = remove_cols_with_few_observations(outcome_df_no_outliers)\n",
    "\n",
    "    outcome_df_with_metadata = create_outcome_df_with_metadata(\n",
    "        outcome_df_no_outliers_no_few_obs, outcome, indicator_index_offset, outcome_index_offset\n",
    "    )\n",
    "    outcome_dfs_with_metadata[outcome] = outcome_df_with_metadata"
   ],
   "metadata": {
    "collapsed": false,
    "ExecuteTime": {
     "start_time": "2023-11-11T17:30:10.682358Z"
    }
   }
  },
  {
   "cell_type": "code",
   "execution_count": null,
   "outputs": [],
   "source": [
    "outcome_dfs_with_metadata_2012 = {}\n",
    "for outcome in outcome_variables:\n",
    "    outcome_df_2012 = all_in_one_selected_cols_2012.dropna(subset=[outcome])\n",
    "    outcome_df_no_outliers_2012 = remove_outliers_iqr(outcome_df_2012)\n",
    "    outcome_df_no_outliers_no_few_obs_2012 = remove_cols_with_few_observations(outcome_df_no_outliers_2012)\n",
    "\n",
    "    outcome_df_with_metadata_2012 = create_outcome_df_with_metadata(\n",
    "        outcome_df_no_outliers_no_few_obs_2012, outcome, indicator_index_offset, outcome_index_offset\n",
    "    )\n",
    "    outcome_dfs_with_metadata_2012[outcome] = outcome_df_with_metadata_2012"
   ],
   "metadata": {
    "collapsed": false,
    "ExecuteTime": {
     "start_time": "2023-11-11T17:30:10.684311Z"
    }
   }
  },
  {
   "cell_type": "markdown",
   "metadata": {},
   "source": [
    "## Exploratory analysis"
   ]
  },
  {
   "cell_type": "markdown",
   "source": [
    "Create a summary data frame for each outcome variable containing the number of observations, countries and years."
   ],
   "metadata": {
    "collapsed": false
   }
  },
  {
   "cell_type": "code",
   "execution_count": null,
   "metadata": {
    "ExecuteTime": {
     "start_time": "2023-11-11T17:30:10.685973Z"
    }
   },
   "outputs": [],
   "source": [
    "from functions.exploratory_analysis import create_summary_df"
   ]
  },
  {
   "cell_type": "code",
   "execution_count": null,
   "outputs": [],
   "source": [
    "summary_dfs = {}\n",
    "indicator_dfs = {}\n",
    "outcome_dfs = {}\n",
    "for outcome in outcome_variables:\n",
    "    outcome_df_with_metadata = outcome_dfs_with_metadata[outcome]\n",
    "    outcome_df = outcome_df_with_metadata[f\"{outcome}_df\"]\n",
    "    outcome_indicators = outcome_df_with_metadata[f\"{outcome}_indicators\"]\n",
    "    outcome_outcomes = outcome_df_with_metadata[f\"{outcome}_outcome\"]\n",
    "    outcome_countries = outcome_df_with_metadata[f\"{outcome}_countries\"]\n",
    "    outcome_all_variables = outcome_df_with_metadata[f\"{outcome}_variables\"]\n",
    "    indicator_dfs[outcome] = outcome_indicators\n",
    "    outcome_dfs[outcome] = outcome_outcomes\n",
    "    summary_df = create_summary_df(outcome_df, outcome_countries, outcome_all_variables)\n",
    "    summary_dfs[outcome] = summary_df"
   ],
   "metadata": {
    "collapsed": false,
    "ExecuteTime": {
     "start_time": "2023-11-11T17:30:10.687878Z"
    }
   }
  },
  {
   "cell_type": "code",
   "execution_count": null,
   "outputs": [],
   "source": [
    "summary_dfs_2012 = {}\n",
    "indicator_dfs_2012 = {}\n",
    "outcome_dfs_2012 = {}\n",
    "for outcome in outcome_variables:\n",
    "    outcome_df_with_metadata_2012 = outcome_dfs_with_metadata_2012[outcome]\n",
    "    outcome_df_2012 = outcome_df_with_metadata_2012[f\"{outcome}_df\"]\n",
    "    outcome_indicators_2012 = outcome_df_with_metadata_2012[f\"{outcome}_indicators\"]\n",
    "    outcome_outcomes_2012 = outcome_df_with_metadata_2012[f\"{outcome}_outcome\"]\n",
    "    outcome_countries_2012 = outcome_df_with_metadata_2012[f\"{outcome}_countries\"]\n",
    "    outcome_all_variables_2012 = outcome_df_with_metadata_2012[f\"{outcome}_variables\"]\n",
    "    indicator_dfs_2012[outcome] = outcome_indicators_2012\n",
    "    outcome_dfs_2012[outcome] = outcome_outcomes_2012\n",
    "    summary_df_2012 = create_summary_df(outcome_df_2012, outcome_countries_2012, outcome_all_variables_2012)\n",
    "    summary_dfs_2012[outcome] = summary_df_2012"
   ],
   "metadata": {
    "collapsed": false,
    "ExecuteTime": {
     "start_time": "2023-11-11T17:30:10.689233Z"
    }
   }
  },
  {
   "cell_type": "code",
   "execution_count": null,
   "outputs": [],
   "source": [
    "lifeexp_summary = summary_dfs['lifeexpectancy_over_energy']\n",
    "lifeexp_indicators = indicator_dfs['lifeexpectancy_over_energy']\n",
    "lifeexp_outcomes = outcome_dfs['lifeexpectancy_over_energy']"
   ],
   "metadata": {
    "collapsed": false,
    "ExecuteTime": {
     "start_time": "2023-11-11T17:30:10.690526Z"
    }
   }
  },
  {
   "cell_type": "code",
   "execution_count": null,
   "outputs": [],
   "source": [
    "lifeexp_summary_2012 = summary_dfs_2012['lifeexpectancy_over_energy']\n",
    "lifeexp_indicators_2012 = indicator_dfs_2012['lifeexpectancy_over_energy']\n",
    "lifeexp_outcomes_2012 = outcome_dfs_2012['lifeexpectancy_over_energy']"
   ],
   "metadata": {
    "collapsed": false,
    "ExecuteTime": {
     "start_time": "2023-11-11T17:30:10.692733Z"
    }
   }
  },
  {
   "cell_type": "markdown",
   "source": [
    "Plot the number of observations, countries and years for each outcome variable"
   ],
   "metadata": {
    "collapsed": false
   }
  },
  {
   "cell_type": "code",
   "execution_count": null,
   "outputs": [],
   "source": [
    "from functions.exploratory_analysis import plot_summary_variable"
   ],
   "metadata": {
    "collapsed": false,
    "ExecuteTime": {
     "start_time": "2023-11-11T17:30:10.695977Z"
    }
   }
  },
  {
   "cell_type": "code",
   "execution_count": null,
   "outputs": [],
   "source": [
    "plot_summary_variable(lifeexp_summary, 'observations')\n",
    "# plot_summary_variable(lifeexp_summary, 'num_countries')\n",
    "# plot_summary_variable(lifeexp_summary, 'num_years')"
   ],
   "metadata": {
    "collapsed": false,
    "ExecuteTime": {
     "start_time": "2023-11-11T17:30:10.698359Z"
    }
   }
  },
  {
   "cell_type": "markdown",
   "source": [
    "Plot histograms for each indicator variable. The chart is big so it's not included by default."
   ],
   "metadata": {
    "collapsed": false
   }
  },
  {
   "cell_type": "code",
   "execution_count": null,
   "outputs": [],
   "source": [
    "# from functions.exploratory_analysis import plot_histograms"
   ],
   "metadata": {
    "collapsed": false,
    "ExecuteTime": {
     "start_time": "2023-11-11T17:30:10.701230Z"
    }
   }
  },
  {
   "cell_type": "code",
   "execution_count": null,
   "outputs": [],
   "source": [
    "# plot_histograms(lifeexp_indicators, lifeexp_indicators.columns)"
   ],
   "metadata": {
    "collapsed": false,
    "ExecuteTime": {
     "start_time": "2023-11-11T17:30:10.704913Z"
    }
   }
  },
  {
   "cell_type": "markdown",
   "source": [
    "Plot outliers. "
   ],
   "metadata": {
    "collapsed": false
   }
  },
  {
   "cell_type": "code",
   "execution_count": null,
   "outputs": [],
   "source": [
    "from functions.exploratory_analysis import plot_outliers"
   ],
   "metadata": {
    "collapsed": false,
    "ExecuteTime": {
     "start_time": "2023-11-11T17:30:10.706805Z"
    }
   }
  },
  {
   "cell_type": "code",
   "execution_count": null,
   "outputs": [],
   "source": [
    "plot_outliers(lifeexp_indicators)"
   ],
   "metadata": {
    "collapsed": false,
    "ExecuteTime": {
     "start_time": "2023-11-11T17:30:10.708139Z"
    }
   }
  },
  {
   "cell_type": "markdown",
   "source": [
    "Plot correlation matrix for all indicators."
   ],
   "metadata": {
    "collapsed": false
   }
  },
  {
   "cell_type": "code",
   "execution_count": null,
   "outputs": [],
   "source": [
    "from functions.exploratory_analysis import plot_correlation_matrix"
   ],
   "metadata": {
    "collapsed": false,
    "ExecuteTime": {
     "start_time": "2023-11-11T17:30:10.709228Z"
    }
   }
  },
  {
   "cell_type": "code",
   "execution_count": null,
   "outputs": [],
   "source": [
    "plot_correlation_matrix(lifeexp_indicators)"
   ],
   "metadata": {
    "collapsed": false,
    "ExecuteTime": {
     "start_time": "2023-11-11T17:30:10.710514Z"
    }
   }
  },
  {
   "cell_type": "markdown",
   "source": [
    "## Cross-validation: Best subset, Lasso, PCA"
   ],
   "metadata": {
    "collapsed": false
   }
  },
  {
   "cell_type": "code",
   "execution_count": null,
   "outputs": [],
   "source": [
    "from sklearn.linear_model import Lasso\n",
    "from sklearn.impute import KNNImputer\n",
    "# from sklearn.feature_selection import SelectFromModel\n",
    "from sklearn.decomposition import PCA\n",
    "from sklearn.pipeline import Pipeline\n",
    "from sklearn.preprocessing import StandardScaler\n",
    "from abess import LinearRegression\n",
    "from functions.cross_validation import panel_cross_validation, plot_cross_validation_results"
   ],
   "metadata": {
    "collapsed": false,
    "ExecuteTime": {
     "start_time": "2023-11-11T17:30:10.711412Z"
    }
   }
  },
  {
   "cell_type": "code",
   "execution_count": null,
   "outputs": [],
   "source": [
    "# Initialize the models\n",
    "best_subset_model = LinearRegression()\n",
    "lasso_model = Lasso(max_iter=10000)\n",
    "pca_model = PCA()\n",
    "\n",
    "# Combine these into a list\n",
    "models = [best_subset_model, lasso_model, pca_model]\n",
    "model_names = ['Best Subset', 'Lasso', 'PCA']"
   ],
   "metadata": {
    "collapsed": false,
    "ExecuteTime": {
     "start_time": "2023-11-11T17:30:10.712490Z"
    }
   }
  },
  {
   "cell_type": "code",
   "execution_count": null,
   "metadata": {
    "ExecuteTime": {
     "start_time": "2023-11-11T17:30:10.713334Z"
    }
   },
   "outputs": [],
   "source": [
    "lifeexp_model, lifeexp_cv_results = panel_cross_validation(models, model_names, lifeexp_indicators, lifeexp_outcomes)"
   ]
  },
  {
   "cell_type": "code",
   "execution_count": null,
   "outputs": [],
   "source": [
    "lifeexp_model_2012, lifeexp_cv_results_2012 = panel_cross_validation(models, model_names, lifeexp_indicators_2012,\n",
    "                                                                     lifeexp_outcomes_2012)"
   ],
   "metadata": {
    "collapsed": false,
    "ExecuteTime": {
     "start_time": "2023-11-11T17:30:10.713991Z"
    }
   }
  },
  {
   "cell_type": "markdown",
   "metadata": {},
   "source": [
    "### Anaylzing cross-validation results"
   ]
  },
  {
   "cell_type": "code",
   "execution_count": null,
   "metadata": {
    "ExecuteTime": {
     "start_time": "2023-11-11T17:30:10.714608Z"
    }
   },
   "outputs": [],
   "source": [
    "from functions.cross_validation import filter_and_find_best_model, plot_cross_validation_results"
   ]
  },
  {
   "cell_type": "code",
   "execution_count": null,
   "metadata": {
    "ExecuteTime": {
     "start_time": "2023-11-11T17:30:10.715210Z"
    }
   },
   "outputs": [],
   "source": [
    "# plot_cross_validation_results(lifeexp_cv_results)\n",
    "best_model_no_zero_coef = filter_and_find_best_model(lifeexp_cv_results)\n",
    "print(best_model_no_zero_coef)"
   ]
  },
  {
   "cell_type": "code",
   "execution_count": null,
   "outputs": [],
   "source": [
    "best_model_no_zero_coef_2012 = filter_and_find_best_model(lifeexp_cv_results_2012)\n",
    "print(best_model_no_zero_coef_2012)"
   ],
   "metadata": {
    "collapsed": false,
    "ExecuteTime": {
     "start_time": "2023-11-11T17:30:10.715799Z"
    }
   }
  },
  {
   "cell_type": "markdown",
   "metadata": {},
   "source": [
    "### Best model?\n",
    "For the full panel dataset: Best Model: Lasso, Mean MSE: 0.3953844254470721, n_splits: 7, Lasso alpha: {'alpha': 0.01}\n",
    "For the cross-section for 2012: Best Model: Lasso, Mean MSE: 0.18459822705946247, n_splits: 10, Lasso alpha: {'alpha': 0.01}"
   ]
  },
  {
   "cell_type": "markdown",
   "metadata": {},
   "source": [
    "Try removing \"selfemployed\" column because it's collinear with \"wageworker\" and \"concentration\" as an outlier"
   ]
  },
  {
   "cell_type": "code",
   "execution_count": null,
   "metadata": {
    "ExecuteTime": {
     "start_time": "2023-11-11T17:30:10.716371Z"
    }
   },
   "outputs": [],
   "source": [
    "lifeexp_lasso = Pipeline([('imputer', KNNImputer(n_neighbors=5)), ('scaler', StandardScaler()),\n",
    "                          ('model', Lasso(max_iter=10000, alpha=0.01))])\n",
    "\n",
    "lifeexp_lasso.fit(lifeexp_indicators, lifeexp_outcomes)\n",
    "lifeexp_lasso_coef = lifeexp_lasso.named_steps['model'].coef_\n",
    "\n",
    "important_features = []\n",
    "for i, coef in enumerate(lifeexp_lasso_coef):\n",
    "    if coef != 0:\n",
    "        important_features.append((i, coef))\n",
    "\n",
    "print(\"Important features:\", important_features)\n",
    "print(lifeexp_lasso.named_steps['model'].intercept_)\n",
    "indicators_lifeexp_over_energy_important = lifeexp_indicators.iloc[:, [i for i, coef in important_features]]\n",
    "print(len(indicators_lifeexp_over_energy_important.columns), len(lifeexp_indicators.columns))"
   ]
  },
  {
   "cell_type": "code",
   "execution_count": null,
   "outputs": [],
   "source": [
    "lifeexp_lasso_2012 = Pipeline([('imputer', KNNImputer(n_neighbors=5)), ('scaler', StandardScaler()),\n",
    "                               ('model', Lasso(max_iter=10000, alpha=0.01))])\n",
    "lifeexp_lasso_2012.fit(lifeexp_indicators_2012, lifeexp_outcomes_2012)\n",
    "lifeexp_lasso_coef_2012 = lifeexp_lasso_2012.named_steps['model'].coef_\n",
    "\n",
    "important_features_2012 = []\n",
    "for i, coef in enumerate(lifeexp_lasso_coef_2012):\n",
    "    if coef != 0:\n",
    "        important_features_2012.append((i, coef))\n",
    "\n",
    "print(\"Important features:\", important_features_2012)\n",
    "print(lifeexp_lasso_2012.named_steps['model'].intercept_)\n",
    "indicators_lifeexp_over_energy_important_2012 = lifeexp_indicators_2012.iloc[:,\n",
    "                                                [i for i, coef in important_features_2012]]\n",
    "print(len(indicators_lifeexp_over_energy_important_2012.columns), len(lifeexp_indicators_2012.columns))"
   ],
   "metadata": {
    "collapsed": false,
    "ExecuteTime": {
     "start_time": "2023-11-11T17:30:10.717124Z"
    }
   }
  },
  {
   "cell_type": "markdown",
   "metadata": {},
   "source": [
    "## Panel regression with cross-validation"
   ]
  },
  {
   "cell_type": "code",
   "execution_count": null,
   "metadata": {
    "ExecuteTime": {
     "start_time": "2023-11-11T17:30:10.717572Z"
    }
   },
   "outputs": [],
   "source": [
    "# simple linear regression\n",
    "from sklearn.linear_model import LinearRegression\n",
    "\n",
    "lifeexp_lasso_linear = Pipeline([('imputer', KNNImputer(n_neighbors=5)), ('model', LinearRegression())])\n",
    "lifeexp_lasso_linear.fit(indicators_lifeexp_over_energy_important, lifeexp_outcomes)\n",
    "lifeexp_lasso_linear_coef = lifeexp_lasso_linear.named_steps['model'].coef_\n",
    "print(\"Linear regression coefficients:\", lifeexp_lasso_linear_coef)\n",
    "print(\"Adjusted r squared\",\n",
    "      lifeexp_lasso_linear.score(indicators_lifeexp_over_energy_important, lifeexp_outcomes))"
   ]
  },
  {
   "cell_type": "code",
   "execution_count": null,
   "metadata": {
    "ExecuteTime": {
     "start_time": "2023-11-11T17:30:10.718172Z"
    }
   },
   "outputs": [],
   "source": [
    "lifeexp_lasso_linear_2012 = Pipeline([('imputer', KNNImputer(n_neighbors=5)), ('model', LinearRegression())])\n",
    "lifeexp_lasso_linear_2012.fit(indicators_lifeexp_over_energy_important_2012, lifeexp_outcomes_2012)\n",
    "lifeexp_lasso_linear_coef_2012 = lifeexp_lasso_linear_2012.named_steps['model'].coef_\n",
    "print(\"Linear regression coefficients:\", lifeexp_lasso_linear_coef_2012)\n",
    "print(\"Adjusted r squared\",\n",
    "      lifeexp_lasso_linear_2012.score(indicators_lifeexp_over_energy_important_2012, lifeexp_outcomes_2012))"
   ]
  },
  {
   "cell_type": "code",
   "execution_count": null,
   "outputs": [],
   "source": [
    "lifeexp_indicators_2012"
   ],
   "metadata": {
    "collapsed": false,
    "ExecuteTime": {
     "start_time": "2023-11-11T17:30:10.718774Z"
    }
   }
  },
  {
   "cell_type": "markdown",
   "source": [
    "Try with selected variables only"
   ],
   "metadata": {
    "collapsed": false
   }
  },
  {
   "cell_type": "code",
   "execution_count": null,
   "outputs": [],
   "source": [
    "indicators_lifeexp_over_energy_2012_selected = lifeexp_indicators_2012.loc[:,\n",
    "                                               ['goveffectiveness', 'onepcincome', 'resourcerents']]\n",
    "lifeexp_linear_selected_2012 = Pipeline([('imputer', KNNImputer(n_neighbors=5)), ('model', LinearRegression())])\n",
    "lifeexp_linear_selected_2012.fit(indicators_lifeexp_over_energy_2012_selected, lifeexp_outcomes_2012)\n",
    "lifeexp_linear_selected_coef_2012 = lifeexp_linear_selected_2012.named_steps['model'].coef_\n",
    "print(\"Linear regression coefficients:\", lifeexp_linear_selected_coef_2012)\n",
    "print(\"Adjusted r squared\",\n",
    "      lifeexp_linear_selected_2012.score(indicators_lifeexp_over_energy_2012_selected, lifeexp_outcomes_2012))"
   ],
   "metadata": {
    "collapsed": false,
    "ExecuteTime": {
     "start_time": "2023-11-11T17:30:10.719363Z"
    }
   }
  },
  {
   "cell_type": "code",
   "execution_count": null,
   "metadata": {
    "ExecuteTime": {
     "start_time": "2023-11-11T17:30:10.719985Z"
    }
   },
   "outputs": [],
   "source": [
    "from matplotlib import pyplot as plt\n",
    "\n",
    "# Extract the feature names from your DataFrame (change this line if your feature names are stored differently)\n",
    "indicators_lifeexp_over_energy_names = indicators_lifeexp_over_energy_important.columns\n",
    "\n",
    "# Create a list of (coefficient, feature_name) tuples and sort them based on the coefficients\n",
    "indicators_lifeexp_over_energy_names_sorted = sorted(\n",
    "    zip(lifeexp_lasso_linear_coef, indicators_lifeexp_over_energy_names))\n",
    "\n",
    "# Separate the tuples into two lists\n",
    "lifeexp_lasso_coef_sorted, lifeexp_over_energy_names_sorted = zip(*indicators_lifeexp_over_energy_names_sorted)\n",
    "\n",
    "# Create a bar plot\n",
    "plt.figure(figsize=(10, 8))\n",
    "plt.barh(range(len(lifeexp_lasso_coef_sorted)), lifeexp_lasso_coef_sorted, align='center')\n",
    "plt.yticks(range(len(lifeexp_lasso_coef_sorted)), lifeexp_over_energy_names_sorted)\n",
    "plt.xlabel('Coefficient Value')\n",
    "plt.ylabel('Feature Names')\n",
    "plt.title('Feature Importances')\n",
    "plt.show()"
   ]
  },
  {
   "cell_type": "code",
   "execution_count": null,
   "outputs": [],
   "source": [
    "from matplotlib import pyplot as plt\n",
    "from matplotlib import gridspec\n",
    "import matplotlib.patches as patches"
   ],
   "metadata": {
    "collapsed": false,
    "ExecuteTime": {
     "start_time": "2023-11-11T17:30:10.720584Z"
    }
   }
  },
  {
   "cell_type": "code",
   "execution_count": null,
   "outputs": [],
   "source": [
    "def draw_arrow(ax1, x1, ax2, x2, y1=0.5, y2=0.5, arrowstyle=\"->\", connectionstyle=\"arc3\", color=\"black\", linewidth=2,\n",
    "               mutation_scale=20):\n",
    "    \"\"\"\n",
    "    Draw an arrow between two circles located on different axes.\n",
    "    \n",
    "    Parameters:\n",
    "    ax1: The source axes object.\n",
    "    x1: The x-coordinate of the circle in the source axes.\n",
    "    ax2: The destination axes object.\n",
    "    x2: The x-coordinate of the circle in the destination axes.\n",
    "    y1: The y-coordinate of the circle in the source axes.\n",
    "    y2: The y-coordinate of the circle in the destination axes.\n",
    "    arrowstyle: The style of the arrow.\n",
    "    connectionstyle: The style of the connection between the two axes.\n",
    "    color: The color of the arrow.\n",
    "    linewidth: The width of the arrow line.\n",
    "    mutation_scale: The size of the arrow head.\n",
    "    \"\"\"\n",
    "    # Starting point in ax1\n",
    "    xyA = (x1, y1)\n",
    "\n",
    "    # Ending point in ax2\n",
    "    xyB = (x2, y2)\n",
    "\n",
    "    # Create a ConnectionPatch arrow\n",
    "    arrow = patches.ConnectionPatch(\n",
    "        xyA=xyA,\n",
    "        xyB=xyB,\n",
    "        coordsA=ax1.transData,\n",
    "        coordsB=ax2.transData,\n",
    "        arrowstyle=arrowstyle,\n",
    "        connectionstyle=connectionstyle,\n",
    "        mutation_scale=mutation_scale,\n",
    "        linewidth=linewidth,\n",
    "        color=color\n",
    "    )\n",
    "\n",
    "    # Add the arrow to the figure\n",
    "    ax1.figure.patches.append(arrow)"
   ],
   "metadata": {
    "collapsed": false,
    "ExecuteTime": {
     "start_time": "2023-11-11T17:30:10.721184Z"
    }
   }
  },
  {
   "cell_type": "code",
   "execution_count": 369,
   "outputs": [
    {
     "data": {
      "text/plain": "Year                                  2021\nCountry.Code                           USA\nCountry.Name                 United States\nagriculture                      -0.041273\ncarework                               NaN\n                                 ...      \nsanitation_over_energy                 NaN\nincomepoverty_over_energy              NaN\nenergyaccess_over_energy               NaN\neducation_over_energy                  NaN\nsocialsupport_over_energy              NaN\nName: 11086, Length: 71, dtype: object"
     },
     "execution_count": 369,
     "metadata": {},
     "output_type": "execute_result"
    }
   ],
   "source": [
    "unitedstates = all_in_one_no_inf.iloc[11086, :]\n",
    "unitedstates"
   ],
   "metadata": {
    "collapsed": false,
    "ExecuteTime": {
     "end_time": "2023-11-11T17:40:29.273556Z",
     "start_time": "2023-11-11T17:40:29.233555Z"
    }
   }
  },
  {
   "cell_type": "code",
   "execution_count": 379,
   "outputs": [],
   "source": [
    "agriculture = unitedstates[[\"agriculture\"]][0] + 1\n",
    "industry = unitedstates[[\"industry\"]][0]\n",
    "services = unitedstates[[\"services\"]][0]"
   ],
   "metadata": {
    "collapsed": false,
    "ExecuteTime": {
     "end_time": "2023-11-11T17:42:04.188570Z",
     "start_time": "2023-11-11T17:42:04.160034Z"
    }
   }
  },
  {
   "cell_type": "code",
   "execution_count": 380,
   "outputs": [],
   "source": [
    "# Arrays to define the structure (update as needed)\n",
    "all_x_coords = [[0.125, 0.375, 0.625, 0.875], [0.125, 0.375, 0.625, 0.875], [0.25, 0.5, 0.75],\n",
    "                [0.125, 0.375, 0.625, 0.875],\n",
    "                [0.125, 0.375, 0.625, 0.875]\n",
    "                ]\n",
    "all_x_axis_ticks = [['Worker', 'Capital', 'Energy', 'Resource'], ['State', 'Market', 'Household', 'Commons'],\n",
    "                    ['Agriculture', 'Industry', 'Services'], ['Core', 'Foundational', 'Overlooked', 'Competitive'],\n",
    "                    ['Accumulation', 'Needs', 'HDI', 'Waste']\n",
    "                    ]\n",
    "all_y_axis_ticks = [['extraction'], ['realms'], ['industry'], ['foundational'], ['dissipation']]\n",
    "all_sizes = [[5, 5, 5, 5], [5, 5, 5, 5], [agriculture, industry, services], [5, 5, 5, 5], [5, 5, 5, 5]]"
   ],
   "metadata": {
    "collapsed": false,
    "ExecuteTime": {
     "end_time": "2023-11-11T17:42:05.729343Z",
     "start_time": "2023-11-11T17:42:05.721773Z"
    }
   }
  },
  {
   "cell_type": "code",
   "execution_count": 381,
   "outputs": [
    {
     "data": {
      "text/plain": "<Figure size 1000x500 with 5 Axes>",
      "image/png": "[encoded data removed]"
     },
     "metadata": {},
     "output_type": "display_data"
    }
   ],
   "source": [
    "# Create a figure with a defined gridspec\n",
    "fig = plt.figure(figsize=(10, 5))\n",
    "gs = gridspec.GridSpec(3, 1)\n",
    "\n",
    "# Creating the first and the third main subplot\n",
    "ax1 = plt.subplot(gs[0, 0])\n",
    "ax2 = plt.subplot(gs[2, 0])\n",
    "\n",
    "# Creating a nested gridspec for the second main subplot\n",
    "gs_nested = gridspec.GridSpecFromSubplotSpec(1, 3, subplot_spec=gs[1])\n",
    "\n",
    "# Creating the three smaller subplots within the second main subplot\n",
    "ax3 = plt.subplot(gs_nested[0])\n",
    "ax4 = plt.subplot(gs_nested[1])\n",
    "ax5 = plt.subplot(gs_nested[2])\n",
    "\n",
    "# List of all axes\n",
    "all_axes = [ax1, ax3, ax4, ax5, ax2]  # Reordered to match the structure\n",
    "\n",
    "# Plotting loop\n",
    "for ax in all_axes:\n",
    "    index = all_axes.index(ax)\n",
    "    x_coords = all_x_coords[index]\n",
    "    x_axis_ticks = all_x_axis_ticks[index]\n",
    "    y_axis_ticks = all_y_axis_ticks[index]\n",
    "    sizes = all_sizes[index]\n",
    "    for x, size, color in zip(x_coords, sizes, x_axis_ticks):\n",
    "        circle = plt.Circle((x, 0.5), radius=size / 50, color='red', alpha=(0.6 * size / 10))\n",
    "        ax.set_ylim(0.3, 0.7)\n",
    "        ax.add_patch(circle)\n",
    "        ax.set_aspect('equal', 'box')\n",
    "        ax.set_xticks(x_coords)\n",
    "        ax.set_xticklabels(x_axis_ticks)\n",
    "        ax.set_yticks([0.5])\n",
    "        ax.set_yticklabels(y_axis_ticks)\n",
    "\n",
    "draw_arrow(ax1, 0.5, ax4, 0.5, linewidth=1, y1=0.3, y2=0.7)\n",
    "draw_arrow(ax1, 0.5, ax5, 0, linewidth=1, y1=0.3, y2=0.7, connectionstyle=\"arc3,rad=0.05\")\n",
    "draw_arrow(ax1, 0.5, ax3, 1, linewidth=1, y1=0.3, y2=0.7, connectionstyle=\"arc3,rad=-0.05\")\n",
    "\n",
    "draw_arrow(ax3, 1, ax2, 0.5, linewidth=1, y1=0.3, y2=0.7, connectionstyle=\"arc3,rad=-0.1\")\n",
    "draw_arrow(ax5, 0, ax2, 0.5, linewidth=1, y1=0.3, y2=0.7, connectionstyle=\"arc3,rad=0.1\")\n",
    "draw_arrow(ax4, 0.5, ax2, 0.5, linewidth=1, y1=0.3, y2=0.7)\n",
    "\n",
    "plt.tight_layout()\n",
    "plt.show()"
   ],
   "metadata": {
    "collapsed": false,
    "ExecuteTime": {
     "end_time": "2023-11-11T17:42:07.560458Z",
     "start_time": "2023-11-11T17:42:07.209954Z"
    }
   }
  }
 ],
 "metadata": {
  "kernelspec": {
   "display_name": "Python 3",
   "language": "python",
   "name": "python3"
  },
  "language_info": {
   "codemirror_mode": {
    "name": "ipython",
    "version": 3
   },
   "file_extension": ".py",
   "mimetype": "text/x-python",
   "name": "python",
   "nbconvert_exporter": "python",
   "pygments_lexer": "ipython3",
   "version": "3.11.3"
  },
  "orig_nbformat": 4
 },
 "nbformat": 4,
 "nbformat_minor": 2
}
